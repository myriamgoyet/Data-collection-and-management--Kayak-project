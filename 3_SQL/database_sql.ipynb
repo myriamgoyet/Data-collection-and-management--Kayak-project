{
 "cells": [
  {
   "cell_type": "code",
   "execution_count": 4,
   "id": "f8d72789",
   "metadata": {},
   "outputs": [],
   "source": [
    "import boto3\n",
    "import os\n",
    "from dotenv import load_dotenv\n"
   ]
  },
  {
   "cell_type": "code",
   "execution_count": 6,
   "id": "dab4553b",
   "metadata": {},
   "outputs": [],
   "source": [
    "load_dotenv()\n",
    "\n",
    "session = boto3.Session(aws_access_key_id= os.getenv(\"aws_access_key_id\") , \n",
    "                        aws_secret_access_key=os.getenv(\"aws_secret_access_key\"))\n"
   ]
  },
  {
   "cell_type": "code",
   "execution_count": 14,
   "id": "9e371561",
   "metadata": {},
   "outputs": [],
   "source": [
    "# Créer un client S3 avec la région Paris\n",
    "s3_client = boto3.client('s3', region_name='eu-west-3')\n",
    "\n",
    "# Nom unique du bucket (doit être globalement unique dans tout AWS)\n",
    "bucket_name = 'bucket-for-kayak-project-myriam-25'\n",
    "\n",
    "# Créer le bucket avec la configuration de la région\n",
    "response = s3_client.create_bucket(\n",
    "    Bucket=bucket_name,\n",
    "    CreateBucketConfiguration={'LocationConstraint': 'eu-west-3'}\n",
    ")"
   ]
  },
  {
   "cell_type": "code",
   "execution_count": 15,
   "id": "ce0cef58",
   "metadata": {},
   "outputs": [
    {
     "name": "stdout",
     "output_type": "stream",
     "text": [
      "Buckets existants :\n",
      "  - bucket-for-kayak-project-myriam-25\n"
     ]
    }
   ],
   "source": [
    "s3_client = boto3.client('s3')\n",
    "\n",
    "response = s3_client.list_buckets()\n",
    "\n",
    "print(\"Buckets existants :\")\n",
    "for bucket in response['Buckets']:\n",
    "    print(f\"  - {bucket['Name']}\")"
   ]
  },
  {
   "cell_type": "code",
   "execution_count": 17,
   "id": "112621a2",
   "metadata": {},
   "outputs": [
    {
     "name": "stdout",
     "output_type": "stream",
     "text": [
      "✅ Fichier 'data/35_best_cities_weather.csv' envoyé dans le bucket 'bucket-for-kayak-project-myriam-25' sous le nom '35_best_cities_weather.csv'.\n"
     ]
    }
   ],
   "source": [
    "file_path = 'data/35_best_cities_weather.csv'  \n",
    "object_name = '35_best_cities_weather.csv'  # Nom du fichier dans le bucket\n",
    "\n",
    "# Upload du fichier\n",
    "s3_client.upload_file(file_path, bucket_name, object_name)\n",
    "\n",
    "print(f\"✅ Fichier '{file_path}' envoyé dans le bucket '{bucket_name}' sous le nom '{object_name}'.\")"
   ]
  },
  {
   "cell_type": "code",
   "execution_count": 18,
   "id": "4166f952",
   "metadata": {},
   "outputs": [
    {
     "name": "stdout",
     "output_type": "stream",
     "text": [
      "✅ Fichier 'data/best_cities_hotels.csv' envoyé dans le bucket 'bucket-for-kayak-project-myriam-25' sous le nom 'best_cities_hotels.csv'.\n"
     ]
    }
   ],
   "source": [
    "file_path = 'data/best_cities_hotels.csv'  \n",
    "object_name = 'best_cities_hotels.csv'  # Nom du fichier dans le bucket\n",
    "\n",
    "# Upload du fichier\n",
    "s3_client.upload_file(file_path, bucket_name, object_name)\n",
    "\n",
    "print(f\"✅ Fichier '{file_path}' envoyé dans le bucket '{bucket_name}' sous le nom '{object_name}'.\")"
   ]
  },
  {
   "cell_type": "code",
   "execution_count": 19,
   "id": "c2daf9b6",
   "metadata": {},
   "outputs": [
    {
     "name": "stdout",
     "output_type": "stream",
     "text": [
      "35_best_cities_weather.csv\n",
      "best_cities_hotels.csv\n"
     ]
    }
   ],
   "source": [
    "response = s3_client.list_objects_v2(Bucket=bucket_name)\n",
    "\n",
    "for obj in response.get('Contents', []):\n",
    "    print(obj['Key'])"
   ]
  },
  {
   "cell_type": "code",
   "execution_count": 39,
   "id": "2d72126c",
   "metadata": {},
   "outputs": [
    {
     "name": "stdout",
     "output_type": "stream",
     "text": [
      "2025-04-24 22:39:14,342 INFO sqlalchemy.engine.Engine select pg_catalog.version()\n",
      "2025-04-24 22:39:14,344 INFO sqlalchemy.engine.Engine [raw sql] {}\n",
      "2025-04-24 22:39:14,362 INFO sqlalchemy.engine.Engine select current_schema()\n",
      "2025-04-24 22:39:14,364 INFO sqlalchemy.engine.Engine [raw sql] {}\n",
      "2025-04-24 22:39:14,385 INFO sqlalchemy.engine.Engine show standard_conforming_strings\n",
      "2025-04-24 22:39:14,387 INFO sqlalchemy.engine.Engine [raw sql] {}\n",
      "2025-04-24 22:39:14,415 INFO sqlalchemy.engine.Engine BEGIN (implicit)\n",
      "2025-04-24 22:39:14,442 INFO sqlalchemy.engine.Engine SELECT pg_catalog.pg_class.relname \n",
      "FROM pg_catalog.pg_class JOIN pg_catalog.pg_namespace ON pg_catalog.pg_namespace.oid = pg_catalog.pg_class.relnamespace \n",
      "WHERE pg_catalog.pg_class.relname = %(table_name)s AND pg_catalog.pg_class.relkind = ANY (ARRAY[%(param_1)s, %(param_2)s, %(param_3)s, %(param_4)s, %(param_5)s]) AND pg_catalog.pg_table_is_visible(pg_catalog.pg_class.oid) AND pg_catalog.pg_namespace.nspname != %(nspname_1)s\n",
      "2025-04-24 22:39:14,444 INFO sqlalchemy.engine.Engine [generated in 0.00204s] {'table_name': 'best_cities_hotels', 'param_1': 'r', 'param_2': 'p', 'param_3': 'f', 'param_4': 'v', 'param_5': 'm', 'nspname_1': 'pg_catalog'}\n",
      "2025-04-24 22:39:14,461 INFO sqlalchemy.engine.Engine SELECT pg_catalog.pg_class.relname \n",
      "FROM pg_catalog.pg_class JOIN pg_catalog.pg_namespace ON pg_catalog.pg_namespace.oid = pg_catalog.pg_class.relnamespace \n",
      "WHERE pg_catalog.pg_class.relname = %(table_name)s AND pg_catalog.pg_class.relkind = ANY (ARRAY[%(param_1)s, %(param_2)s, %(param_3)s, %(param_4)s, %(param_5)s]) AND pg_catalog.pg_table_is_visible(pg_catalog.pg_class.oid) AND pg_catalog.pg_namespace.nspname != %(nspname_1)s\n",
      "2025-04-24 22:39:14,462 INFO sqlalchemy.engine.Engine [cached since 0.02043s ago] {'table_name': 'best_cities_hotels', 'param_1': 'r', 'param_2': 'p', 'param_3': 'f', 'param_4': 'v', 'param_5': 'm', 'nspname_1': 'pg_catalog'}\n",
      "2025-04-24 22:39:14,478 INFO sqlalchemy.engine.Engine SELECT pg_catalog.pg_class.relname \n",
      "FROM pg_catalog.pg_class JOIN pg_catalog.pg_namespace ON pg_catalog.pg_namespace.oid = pg_catalog.pg_class.relnamespace \n",
      "WHERE pg_catalog.pg_class.relkind = ANY (ARRAY[%(param_1)s, %(param_2)s]) AND pg_catalog.pg_class.relpersistence != %(relpersistence_1)s AND pg_catalog.pg_table_is_visible(pg_catalog.pg_class.oid) AND pg_catalog.pg_namespace.nspname != %(nspname_1)s\n",
      "2025-04-24 22:39:14,479 INFO sqlalchemy.engine.Engine [generated in 0.00154s] {'param_1': 'r', 'param_2': 'p', 'relpersistence_1': 't', 'nspname_1': 'pg_catalog'}\n",
      "2025-04-24 22:39:14,499 INFO sqlalchemy.engine.Engine SELECT pg_catalog.pg_class.relname \n",
      "FROM pg_catalog.pg_class JOIN pg_catalog.pg_namespace ON pg_catalog.pg_namespace.oid = pg_catalog.pg_class.relnamespace \n",
      "WHERE pg_catalog.pg_class.relkind = ANY (ARRAY[%(param_1)s]) AND pg_catalog.pg_class.relpersistence != %(relpersistence_1)s AND pg_catalog.pg_table_is_visible(pg_catalog.pg_class.oid) AND pg_catalog.pg_namespace.nspname != %(nspname_1)s\n",
      "2025-04-24 22:39:14,500 INFO sqlalchemy.engine.Engine [generated in 0.00144s] {'param_1': 'v', 'relpersistence_1': 't', 'nspname_1': 'pg_catalog'}\n",
      "2025-04-24 22:39:14,511 INFO sqlalchemy.engine.Engine SELECT pg_catalog.pg_class.relname \n",
      "FROM pg_catalog.pg_class JOIN pg_catalog.pg_namespace ON pg_catalog.pg_namespace.oid = pg_catalog.pg_class.relnamespace \n",
      "WHERE pg_catalog.pg_class.relkind = ANY (ARRAY[%(param_1)s]) AND pg_catalog.pg_class.relpersistence != %(relpersistence_1)s AND pg_catalog.pg_table_is_visible(pg_catalog.pg_class.oid) AND pg_catalog.pg_namespace.nspname != %(nspname_1)s\n",
      "2025-04-24 22:39:14,512 INFO sqlalchemy.engine.Engine [cached since 0.01348s ago] {'param_1': 'm', 'relpersistence_1': 't', 'nspname_1': 'pg_catalog'}\n",
      "2025-04-24 22:39:14,541 INFO sqlalchemy.engine.Engine SELECT pg_catalog.pg_attribute.attname AS name, pg_catalog.format_type(pg_catalog.pg_attribute.atttypid, pg_catalog.pg_attribute.atttypmod) AS format_type, (SELECT pg_catalog.pg_get_expr(pg_catalog.pg_attrdef.adbin, pg_catalog.pg_attrdef.adrelid) AS pg_get_expr_1 \n",
      "FROM pg_catalog.pg_attrdef \n",
      "WHERE pg_catalog.pg_attrdef.adrelid = pg_catalog.pg_attribute.attrelid AND pg_catalog.pg_attrdef.adnum = pg_catalog.pg_attribute.attnum AND pg_catalog.pg_attribute.atthasdef) AS \"default\", pg_catalog.pg_attribute.attnotnull AS not_null, pg_catalog.pg_class.relname AS table_name, pg_catalog.pg_description.description AS comment, pg_catalog.pg_attribute.attgenerated AS generated, (SELECT json_build_object(%(json_build_object_2)s, pg_catalog.pg_attribute.attidentity = %(attidentity_1)s, %(json_build_object_3)s, pg_catalog.pg_sequence.seqstart, %(json_build_object_4)s, pg_catalog.pg_sequence.seqincrement, %(json_build_object_5)s, pg_catalog.pg_sequence.seqmin, %(json_build_object_6)s, pg_catalog.pg_sequence.seqmax, %(json_build_object_7)s, pg_catalog.pg_sequence.seqcache, %(json_build_object_8)s, pg_catalog.pg_sequence.seqcycle) AS json_build_object_1 \n",
      "FROM pg_catalog.pg_sequence \n",
      "WHERE pg_catalog.pg_attribute.attidentity != %(attidentity_2)s AND pg_catalog.pg_sequence.seqrelid = CAST(CAST(pg_catalog.pg_get_serial_sequence(CAST(CAST(pg_catalog.pg_attribute.attrelid AS REGCLASS) AS TEXT), pg_catalog.pg_attribute.attname) AS REGCLASS) AS OID)) AS identity_options \n",
      "FROM pg_catalog.pg_class LEFT OUTER JOIN pg_catalog.pg_attribute ON pg_catalog.pg_class.oid = pg_catalog.pg_attribute.attrelid AND pg_catalog.pg_attribute.attnum > %(attnum_1)s AND NOT pg_catalog.pg_attribute.attisdropped LEFT OUTER JOIN pg_catalog.pg_description ON pg_catalog.pg_description.objoid = pg_catalog.pg_attribute.attrelid AND pg_catalog.pg_description.objsubid = pg_catalog.pg_attribute.attnum JOIN pg_catalog.pg_namespace ON pg_catalog.pg_namespace.oid = pg_catalog.pg_class.relnamespace \n",
      "WHERE pg_catalog.pg_class.relkind = ANY (ARRAY[%(param_1)s, %(param_2)s, %(param_3)s, %(param_4)s, %(param_5)s]) AND pg_catalog.pg_table_is_visible(pg_catalog.pg_class.oid) AND pg_catalog.pg_namespace.nspname != %(nspname_1)s AND pg_catalog.pg_class.relname IN (%(filter_names_1)s) ORDER BY pg_catalog.pg_class.relname, pg_catalog.pg_attribute.attnum\n",
      "2025-04-24 22:39:14,543 INFO sqlalchemy.engine.Engine [generated in 0.00170s] {'json_build_object_2': 'always', 'attidentity_1': 'a', 'json_build_object_3': 'start', 'json_build_object_4': 'increment', 'json_build_object_5': 'minvalue', 'json_build_object_6': 'maxvalue', 'json_build_object_7': 'cache', 'json_build_object_8': 'cycle', 'attidentity_2': '', 'attnum_1': 0, 'param_1': 'r', 'param_2': 'p', 'param_3': 'f', 'param_4': 'v', 'param_5': 'm', 'nspname_1': 'pg_catalog', 'filter_names_1': 'best_cities_hotels'}\n",
      "2025-04-24 22:39:14,561 INFO sqlalchemy.engine.Engine SELECT pg_catalog.pg_type.typname AS name, pg_catalog.format_type(pg_catalog.pg_type.typbasetype, pg_catalog.pg_type.typtypmod) AS attype, NOT pg_catalog.pg_type.typnotnull AS nullable, pg_catalog.pg_type.typdefault AS \"default\", pg_catalog.pg_type_is_visible(pg_catalog.pg_type.oid) AS visible, pg_catalog.pg_namespace.nspname AS schema, domain_constraints.condefs, domain_constraints.connames \n",
      "FROM pg_catalog.pg_type JOIN pg_catalog.pg_namespace ON pg_catalog.pg_namespace.oid = pg_catalog.pg_type.typnamespace LEFT OUTER JOIN (SELECT pg_catalog.pg_constraint.contypid AS contypid, array_agg(pg_catalog.pg_get_constraintdef(pg_catalog.pg_constraint.oid, %(pg_get_constraintdef_1)s)) AS condefs, array_agg(pg_catalog.pg_constraint.conname) AS connames \n",
      "FROM pg_catalog.pg_constraint \n",
      "WHERE pg_catalog.pg_constraint.contypid != %(contypid_1)s GROUP BY pg_catalog.pg_constraint.contypid) AS domain_constraints ON pg_catalog.pg_type.oid = domain_constraints.contypid \n",
      "WHERE pg_catalog.pg_type.typtype = %(typtype_1)s ORDER BY pg_catalog.pg_namespace.nspname, pg_catalog.pg_type.typname\n",
      "2025-04-24 22:39:14,562 INFO sqlalchemy.engine.Engine [generated in 0.00109s] {'pg_get_constraintdef_1': True, 'contypid_1': 0, 'typtype_1': 'd'}\n",
      "2025-04-24 22:39:14,577 INFO sqlalchemy.engine.Engine SELECT pg_catalog.pg_type.typname AS name, pg_catalog.pg_type_is_visible(pg_catalog.pg_type.oid) AS visible, pg_catalog.pg_namespace.nspname AS schema, lbl_agg.labels AS labels \n",
      "FROM pg_catalog.pg_type JOIN pg_catalog.pg_namespace ON pg_catalog.pg_namespace.oid = pg_catalog.pg_type.typnamespace LEFT OUTER JOIN (SELECT pg_catalog.pg_enum.enumtypid AS enumtypid, array_agg(pg_catalog.pg_enum.enumlabel ORDER BY pg_catalog.pg_enum.enumsortorder) AS labels \n",
      "FROM pg_catalog.pg_enum GROUP BY pg_catalog.pg_enum.enumtypid) AS lbl_agg ON pg_catalog.pg_type.oid = lbl_agg.enumtypid \n",
      "WHERE pg_catalog.pg_type.typtype = %(typtype_1)s ORDER BY pg_catalog.pg_namespace.nspname, pg_catalog.pg_type.typname\n",
      "2025-04-24 22:39:14,579 INFO sqlalchemy.engine.Engine [generated in 0.00185s] {'typtype_1': 'e'}\n",
      "2025-04-24 22:39:14,592 INFO sqlalchemy.engine.Engine SELECT pg_catalog.pg_class.oid, pg_catalog.pg_class.relname \n",
      "FROM pg_catalog.pg_class JOIN pg_catalog.pg_namespace ON pg_catalog.pg_namespace.oid = pg_catalog.pg_class.relnamespace \n",
      "WHERE pg_catalog.pg_class.relkind = ANY (ARRAY[%(param_1)s, %(param_2)s, %(param_3)s, %(param_4)s, %(param_5)s]) AND pg_catalog.pg_table_is_visible(pg_catalog.pg_class.oid) AND pg_catalog.pg_namespace.nspname != %(nspname_1)s AND pg_catalog.pg_class.relname IN (%(filter_names_1)s)\n",
      "2025-04-24 22:39:14,593 INFO sqlalchemy.engine.Engine [generated in 0.00111s] {'param_1': 'r', 'param_2': 'p', 'param_3': 'f', 'param_4': 'v', 'param_5': 'm', 'nspname_1': 'pg_catalog', 'filter_names_1': 'best_cities_hotels'}\n",
      "2025-04-24 22:39:14,607 INFO sqlalchemy.engine.Engine SELECT attr.conrelid, array_agg(attr.attname ORDER BY attr.ord) AS cols, attr.conname, min(attr.description) AS description \n",
      "FROM (SELECT con.conrelid AS conrelid, con.conname AS conname, con.description AS description, con.ord AS ord, pg_catalog.pg_attribute.attname AS attname \n",
      "FROM pg_catalog.pg_attribute JOIN (SELECT pg_catalog.pg_constraint.conrelid AS conrelid, pg_catalog.pg_constraint.conname AS conname, unnest(pg_catalog.pg_constraint.conkey) AS attnum, generate_subscripts(pg_catalog.pg_constraint.conkey, %(generate_subscripts_1)s) AS ord, pg_catalog.pg_description.description AS description \n",
      "FROM pg_catalog.pg_constraint LEFT OUTER JOIN pg_catalog.pg_description ON pg_catalog.pg_description.objoid = pg_catalog.pg_constraint.oid \n",
      "WHERE pg_catalog.pg_constraint.contype = %(contype)s AND pg_catalog.pg_constraint.conrelid IN (%(oids_1)s)) AS con ON pg_catalog.pg_attribute.attnum = con.attnum AND pg_catalog.pg_attribute.attrelid = con.conrelid) AS attr GROUP BY attr.conrelid, attr.conname ORDER BY attr.conrelid, attr.conname\n",
      "2025-04-24 22:39:14,609 INFO sqlalchemy.engine.Engine [generated in 0.00119s] {'generate_subscripts_1': 1, 'contype': 'p', 'oids_1': 16481}\n",
      "2025-04-24 22:39:14,623 INFO sqlalchemy.engine.Engine SELECT pg_catalog.pg_class.relname, pg_catalog.pg_constraint.conname, CASE WHEN (pg_catalog.pg_constraint.oid IS NOT NULL) THEN pg_catalog.pg_get_constraintdef(pg_catalog.pg_constraint.oid, %(pg_get_constraintdef_1)s) END AS anon_1, nsp_ref.nspname, pg_catalog.pg_description.description \n",
      "FROM pg_catalog.pg_class LEFT OUTER JOIN pg_catalog.pg_constraint ON pg_catalog.pg_class.oid = pg_catalog.pg_constraint.conrelid AND pg_catalog.pg_constraint.contype = %(contype_1)s LEFT OUTER JOIN pg_catalog.pg_class AS cls_ref ON cls_ref.oid = pg_catalog.pg_constraint.confrelid LEFT OUTER JOIN pg_catalog.pg_namespace AS nsp_ref ON cls_ref.relnamespace = nsp_ref.oid LEFT OUTER JOIN pg_catalog.pg_description ON pg_catalog.pg_description.objoid = pg_catalog.pg_constraint.oid JOIN pg_catalog.pg_namespace ON pg_catalog.pg_namespace.oid = pg_catalog.pg_class.relnamespace \n",
      "WHERE pg_catalog.pg_class.relkind = ANY (ARRAY[%(param_1)s, %(param_2)s, %(param_3)s, %(param_4)s, %(param_5)s]) AND pg_catalog.pg_table_is_visible(pg_catalog.pg_class.oid) AND pg_catalog.pg_namespace.nspname != %(nspname_1)s AND pg_catalog.pg_class.relname IN (%(filter_names_1)s) ORDER BY pg_catalog.pg_class.relname, pg_catalog.pg_constraint.conname\n",
      "2025-04-24 22:39:14,624 INFO sqlalchemy.engine.Engine [generated in 0.00116s] {'pg_get_constraintdef_1': True, 'contype_1': 'f', 'param_1': 'r', 'param_2': 'p', 'param_3': 'f', 'param_4': 'v', 'param_5': 'm', 'nspname_1': 'pg_catalog', 'filter_names_1': 'best_cities_hotels'}\n",
      "2025-04-24 22:39:14,670 INFO sqlalchemy.engine.Engine SELECT pg_catalog.pg_index.indrelid, cls_idx.relname AS relname_index, pg_catalog.pg_index.indisunique, pg_catalog.pg_constraint.conrelid IS NOT NULL AS has_constraint, pg_catalog.pg_index.indoption, cls_idx.reloptions, pg_catalog.pg_am.amname, CASE WHEN (pg_catalog.pg_index.indpred IS NOT NULL) THEN pg_catalog.pg_get_expr(pg_catalog.pg_index.indpred, pg_catalog.pg_index.indrelid) ELSE NULL END AS filter_definition, pg_catalog.pg_index.indnkeyatts, idx_cols.elements, idx_cols.elements_is_expr \n",
      "FROM pg_catalog.pg_index JOIN pg_catalog.pg_class AS cls_idx ON pg_catalog.pg_index.indexrelid = cls_idx.oid JOIN pg_catalog.pg_am ON cls_idx.relam = pg_catalog.pg_am.oid LEFT OUTER JOIN (SELECT idx_attr.indexrelid AS indexrelid, min(idx_attr.indrelid) AS min_1, array_agg(idx_attr.element ORDER BY idx_attr.ord) AS elements, array_agg(idx_attr.is_expr ORDER BY idx_attr.ord) AS elements_is_expr \n",
      "FROM (SELECT idx.indexrelid AS indexrelid, idx.indrelid AS indrelid, idx.ord AS ord, CASE WHEN (idx.attnum = %(attnum_1)s) THEN pg_catalog.pg_get_indexdef(idx.indexrelid, idx.ord + %(ord_1)s, %(pg_get_indexdef_1)s) ELSE pg_catalog.pg_attribute.attname END AS element, idx.attnum = %(attnum_2)s AS is_expr \n",
      "FROM (SELECT pg_catalog.pg_index.indexrelid AS indexrelid, pg_catalog.pg_index.indrelid AS indrelid, unnest(pg_catalog.pg_index.indkey) AS attnum, generate_subscripts(pg_catalog.pg_index.indkey, %(generate_subscripts_1)s) AS ord \n",
      "FROM pg_catalog.pg_index \n",
      "WHERE NOT pg_catalog.pg_index.indisprimary AND pg_catalog.pg_index.indrelid IN (%(oids_1)s)) AS idx LEFT OUTER JOIN pg_catalog.pg_attribute ON pg_catalog.pg_attribute.attnum = idx.attnum AND pg_catalog.pg_attribute.attrelid = idx.indrelid \n",
      "WHERE idx.indrelid IN (%(oids_1)s)) AS idx_attr GROUP BY idx_attr.indexrelid) AS idx_cols ON pg_catalog.pg_index.indexrelid = idx_cols.indexrelid LEFT OUTER JOIN pg_catalog.pg_constraint ON pg_catalog.pg_index.indrelid = pg_catalog.pg_constraint.conrelid AND pg_catalog.pg_index.indexrelid = pg_catalog.pg_constraint.conindid AND pg_catalog.pg_constraint.contype = ANY (ARRAY[%(param_1)s, %(param_2)s, %(param_3)s]) \n",
      "WHERE pg_catalog.pg_index.indrelid IN (%(oids_1)s) AND NOT pg_catalog.pg_index.indisprimary ORDER BY pg_catalog.pg_index.indrelid, cls_idx.relname\n",
      "2025-04-24 22:39:14,673 INFO sqlalchemy.engine.Engine [generated in 0.00353s] {'attnum_1': 0, 'ord_1': 1, 'pg_get_indexdef_1': True, 'attnum_2': 0, 'generate_subscripts_1': 1, 'param_1': 'p', 'param_2': 'u', 'param_3': 'x', 'oids_1': 16481}\n",
      "2025-04-24 22:39:14,688 INFO sqlalchemy.engine.Engine SELECT attr.conrelid, array_agg(attr.attname ORDER BY attr.ord) AS cols, attr.conname, min(attr.description) AS description \n",
      "FROM (SELECT con.conrelid AS conrelid, con.conname AS conname, con.description AS description, con.ord AS ord, pg_catalog.pg_attribute.attname AS attname \n",
      "FROM pg_catalog.pg_attribute JOIN (SELECT pg_catalog.pg_constraint.conrelid AS conrelid, pg_catalog.pg_constraint.conname AS conname, unnest(pg_catalog.pg_constraint.conkey) AS attnum, generate_subscripts(pg_catalog.pg_constraint.conkey, %(generate_subscripts_1)s) AS ord, pg_catalog.pg_description.description AS description \n",
      "FROM pg_catalog.pg_constraint LEFT OUTER JOIN pg_catalog.pg_description ON pg_catalog.pg_description.objoid = pg_catalog.pg_constraint.oid \n",
      "WHERE pg_catalog.pg_constraint.contype = %(contype)s AND pg_catalog.pg_constraint.conrelid IN (%(oids_1)s)) AS con ON pg_catalog.pg_attribute.attnum = con.attnum AND pg_catalog.pg_attribute.attrelid = con.conrelid) AS attr GROUP BY attr.conrelid, attr.conname ORDER BY attr.conrelid, attr.conname\n",
      "2025-04-24 22:39:14,690 INFO sqlalchemy.engine.Engine [cached since 0.08423s ago] {'generate_subscripts_1': 1, 'contype': 'u', 'oids_1': 16481}\n",
      "2025-04-24 22:39:14,708 INFO sqlalchemy.engine.Engine SELECT pg_catalog.pg_class.relname, pg_catalog.pg_description.description \n",
      "FROM pg_catalog.pg_class LEFT OUTER JOIN pg_catalog.pg_description ON pg_catalog.pg_class.oid = pg_catalog.pg_description.objoid AND pg_catalog.pg_description.objsubid = %(objsubid_1)s JOIN pg_catalog.pg_namespace ON pg_catalog.pg_namespace.oid = pg_catalog.pg_class.relnamespace \n",
      "WHERE pg_catalog.pg_class.relkind = ANY (ARRAY[%(param_1)s, %(param_2)s, %(param_3)s, %(param_4)s, %(param_5)s]) AND pg_catalog.pg_table_is_visible(pg_catalog.pg_class.oid) AND pg_catalog.pg_namespace.nspname != %(nspname_1)s AND pg_catalog.pg_class.relname IN (%(filter_names_1)s)\n",
      "2025-04-24 22:39:14,709 INFO sqlalchemy.engine.Engine [generated in 0.00158s] {'objsubid_1': 0, 'param_1': 'r', 'param_2': 'p', 'param_3': 'f', 'param_4': 'v', 'param_5': 'm', 'nspname_1': 'pg_catalog', 'filter_names_1': 'best_cities_hotels'}\n",
      "2025-04-24 22:39:14,724 INFO sqlalchemy.engine.Engine SELECT pg_catalog.pg_class.relname, pg_catalog.pg_constraint.conname, CASE WHEN (pg_catalog.pg_constraint.oid IS NOT NULL) THEN pg_catalog.pg_get_constraintdef(pg_catalog.pg_constraint.oid, %(pg_get_constraintdef_1)s) END AS anon_1, pg_catalog.pg_description.description \n",
      "FROM pg_catalog.pg_class LEFT OUTER JOIN pg_catalog.pg_constraint ON pg_catalog.pg_class.oid = pg_catalog.pg_constraint.conrelid AND pg_catalog.pg_constraint.contype = %(contype_1)s LEFT OUTER JOIN pg_catalog.pg_description ON pg_catalog.pg_description.objoid = pg_catalog.pg_constraint.oid JOIN pg_catalog.pg_namespace ON pg_catalog.pg_namespace.oid = pg_catalog.pg_class.relnamespace \n",
      "WHERE pg_catalog.pg_class.relkind = ANY (ARRAY[%(param_1)s, %(param_2)s, %(param_3)s, %(param_4)s, %(param_5)s]) AND pg_catalog.pg_table_is_visible(pg_catalog.pg_class.oid) AND pg_catalog.pg_namespace.nspname != %(nspname_1)s AND pg_catalog.pg_class.relname IN (%(filter_names_1)s) ORDER BY pg_catalog.pg_class.relname, pg_catalog.pg_constraint.conname\n",
      "2025-04-24 22:39:14,726 INFO sqlalchemy.engine.Engine [generated in 0.00240s] {'pg_get_constraintdef_1': True, 'contype_1': 'c', 'param_1': 'r', 'param_2': 'p', 'param_3': 'f', 'param_4': 'v', 'param_5': 'm', 'nspname_1': 'pg_catalog', 'filter_names_1': 'best_cities_hotels'}\n",
      "2025-04-24 22:39:14,744 INFO sqlalchemy.engine.Engine \n",
      "DROP TABLE best_cities_hotels\n",
      "2025-04-24 22:39:14,747 INFO sqlalchemy.engine.Engine [no key 0.00223s] {}\n",
      "2025-04-24 22:39:14,762 INFO sqlalchemy.engine.Engine \n",
      "CREATE TABLE best_cities_hotels (\n",
      "\tcity TEXT, \n",
      "\thotel_name TEXT, \n",
      "\thotel_address TEXT, \n",
      "\tlatitude FLOAT(53), \n",
      "\tlongitude FLOAT(53), \n",
      "\thotel_rating FLOAT(53), \n",
      "\thotel_description TEXT, \n",
      "\thotel_url TEXT\n",
      ")\n",
      "\n",
      "\n",
      "2025-04-24 22:39:14,764 INFO sqlalchemy.engine.Engine [no key 0.00120s] {}\n",
      "2025-04-24 22:39:14,777 INFO sqlalchemy.engine.Engine INSERT INTO best_cities_hotels (city, hotel_name, hotel_address, latitude, longitude, hotel_rating, hotel_description, hotel_url) VALUES (%(city__0)s, %(hotel_name__0)s, %(hotel_address__0)s, %(latitude__0)s, %(longitude__0)s, %(hotel_rating__0)s, %( ... 20405 characters truncated ... e__124)s, %(longitude__124)s, %(hotel_rating__124)s, %(hotel_description__124)s, %(hotel_url__124)s)\n",
      "2025-04-24 22:39:14,778 INFO sqlalchemy.engine.Engine [generated in 0.00087s (insertmanyvalues)] {'hotel_url__0': 'https://www.booking.com/hotel/fr/lepregaloffrenimes.fr.html?aid=304142&label=gen173nr-1FCAQoggJCDHNlYXJjaF9uaW1lc0gzWARoTYgBAZgBDbgBF8gBDNgBAegBAfgBA ... (119 characters truncated) ... dults=2&no_rooms=1&group_children=0&req_children=0&hpos=25&hapos=25&sr_order=popularity&srpvid=d5965b8b343f0269&srepoch=1745499672&from=searchresults', 'hotel_name__0': 'Hôtel Le Pré Galoffre', 'city__0': 'Nimes', 'latitude__0': 43.78858215364223, 'hotel_address__0': '3115 Route De Générac, 30900 Nîmes, France', 'longitude__0': 4.35380257666111, 'hotel_rating__0': 8.2, 'hotel_description__0': 'L’Hôtel Le Pré Galoffre bénéficie d’un emplacement paisible dans un cadre rural à 10\\xa0minutes de route du centre de Nîmes. L’établissement possède  ... (818 characters truncated) ... es est à 15\\xa0minutes de route.\\n\\nDes conditions différentes et des suppléments peuvent s’appliquer pour les réservations de plus de 4\\xa0chambres.', 'hotel_url__1': 'https://www.booking.com/hotel/fr/mezza-nimes.fr.html?aid=304142&label=gen173nr-1FCAQoggJCDHNlYXJjaF9uaW1lc0gzWARoTYgBAZgBDbgBF8gBDNgBAegBAfgBA4gCAagC ... (112 characters truncated) ... dults=2&no_rooms=1&group_children=0&req_children=0&hpos=21&hapos=21&sr_order=popularity&srpvid=d5965b8b343f0269&srepoch=1745499672&from=searchresults', 'hotel_name__1': \"Mezza'Nîmes\", 'city__1': 'Nimes', 'latitude__1': 43.8389888, 'hotel_address__1': '21 Rue de Beaucaire, 30000 Nîmes, France', 'longitude__1': 4.3684168, 'hotel_rating__1': 9.3, 'hotel_description__1': \"L’hébergement 1 étoile Mezza'Nîmes se trouve à Nîmes, dans la région Languedoc-Roussillon. Il propose une connexion Wi-Fi gratuite. Occupant un bâtim ... (462 characters truncated) ... ux d’intérêt : Gare d'Avignon-Centre et Palais des Papes d'Avignon. L'aéroport le plus proche (Aéroport de Nîmes Alès Camargue Cévennes) est à 10 km.\", 'hotel_url__2': 'https://www.booking.com/hotel/fr/nimotel.fr.html?aid=304142&label=gen173nr-1FCAQoggJCDHNlYXJjaF9uaW1lc0gzWARoTYgBAZgBDbgBF8gBDNgBAegBAfgBA4gCAagCA7gC ... (139 characters truncated) ... en=0&req_children=0&hpos=18&hapos=18&sr_order=popularity&srpvid=d5965b8b343f0269&srepoch=1745499672&from_sustainable_property_sr=1&from=searchresults', 'hotel_name__2': 'Logis NIMOTEL Hôtel Cosy', 'city__2': 'Nimes', 'latitude__2': 43.8155763492052, 'hotel_address__2': '152 Rue Claude Nicolas Ledoux, 30900 Nîmes, France', 'longitude__2': 4.346603527665138, 'hotel_rating__2': 7.9, 'hotel_description__2': 'Le Logis NIMOTEL Hôtel Cosy vous accueille à 1\\xa0km de l’autoroute A9\\xa0et à 10\\xa0minutes en voiture du centre-ville de Nîmes. Cet établissement p ... (472 characters truncated) ...  buffet est servi tous les matins.\\n\\nSi vous souhaitez explorer la région Occitanie en voiture,vous pourrez profiter d’un parking gratuit sur place.', 'hotel_url__3': 'https://www.booking.com/hotel/fr/appartement-des-carmes.fr.html?aid=304142&label=gen173nr-1FCAQoggJCDHNlYXJjaF9uaW1lc0gzWARoTYgBAZgBDbgBF8gBDNgBAegBA ... (123 characters truncated) ... dults=2&no_rooms=1&group_children=0&req_children=0&hpos=22&hapos=22&sr_order=popularity&srpvid=d5965b8b343f0269&srepoch=1745499672&from=searchresults', 'hotel_name__3': 'Appartement des Carmes', 'city__3': 'Nimes', 'latitude__3': 43.8394483, 'hotel_address__3': '29 Rue Pierre Semard, 30000 Nîmes, France', 'longitude__3': 4.3669183, 'hotel_rating__3': 8.3, 'hotel_description__3': \"L’hébergement Appartement des Carmes vous accueille à respectivement 13 km et 34 km de ces lieux d’intérêt : Parc des expositions de Nîmes et Arènes  ... (516 characters truncated) ... ces lieux d’intérêt : Gare TGV d'Avignon et Zénith Sud Montpellier. L'aéroport le plus proche (Aéroport de Nîmes Alès Camargue Cévennes) est à 10 km.\", 'hotel_url__4': 'https://www.booking.com/hotel/fr/le-cosy-nimes2.fr.html?aid=304142&label=gen173nr-1FCAQoggJCDHNlYXJjaF9uaW1lc0gzWARoTYgBAZgBDbgBF8gBDNgBAegBAfgBA4gCA ... (115 characters truncated) ... dults=2&no_rooms=1&group_children=0&req_children=0&hpos=19&hapos=19&sr_order=popularity&srpvid=d5965b8b343f0269&srepoch=1745499672&from=searchresults', 'hotel_name__4': 'LE COSY Joli F2 proche gare, Arénes avec terrasse privée', 'city__4': 'Nimes', 'latitude__4': 43.828005, 'hotel_address__4': '37 Rue de Toulouse, 30000 Nîmes, France', 'longitude__4': 4.3749621, 'hotel_rating__4': 9.5, 'hotel_description__4': \"L'établissement LE COSY Joli F2 proche gare, Arénes avec terrasse privée est situé à Nîmes, à 1,8 km du parc des expositions, à 33 km des arènes et à ... (549 characters truncated) ...  L'établissement possède un coin repas extérieur.\\n\\nLe centre commercial Odysseum se trouve à 48 km. L'aéroport de Nîmes-Garons est implanté à 9 km.\", 'hotel_url__5': 'https://www.booking.com/hotel/fr/appartement-haussmannien-nimes.fr.html?aid=304142&label=gen173nr-1FCAQoggJCDHNlYXJjaF9uaW1lc0gzWARoTYgBAZgBDbgBF8gBD ... (131 characters truncated) ... dults=2&no_rooms=1&group_children=0&req_children=0&hpos=24&hapos=24&sr_order=popularity&srpvid=d5965b8b343f0269&srepoch=1745499672&from=searchresults', 'hotel_name__5': 'Appartement nimes centre', 'city__5': 'Nimes', 'latitude__5': 43.8390948, 'hotel_address__5': '4 Rue des Halles, 30000 Nîmes, France', 'longitude__5': 4.3592829, 'hotel_rating__5': 8.9, 'hotel_description__5': \"L’hébergement Appartement nimes centre vous accueille à Nîmes, à seulement 3,8 km de ce lieu d’intérêt : Parc des expositions de Nîmes. Il offre une  ... (533 characters truncated) ... lieux d’intérêt : Palais des Papes d'Avignon et Gare TGV d'Avignon. L'aéroport le plus proche (Aéroport de Nîmes Alès Camargue Cévennes) est à 10 km.\", 'hotel_url__6': 'https://www.booking.com/hotel/fr/central-nimes.fr.html?aid=304142&label=gen173nr-1FCAQoggJCDHNlYXJjaF9uaW1lc0gzWARoTYgBAZgBDbgBF8gBDNgBAegBAfgBA4gCAa ... (114 characters truncated) ... dults=2&no_rooms=1&group_children=0&req_children=0&hpos=23&hapos=23&sr_order=popularity&srpvid=d5965b8b343f0269&srepoch=1745499672&from=searchresults', 'hotel_name__6': 'Central Hotel' ... 900 parameters truncated ... 'hotel_rating__118': 8.8, 'hotel_description__118': \"Possédant une terrasse, l’établissement Maison des Croisades vous accueille à Aigues-Mortes dans la région Languedoc-Roussillon, à respectivement 22  ... (780 characters truncated) ... ntérêt\\xa0: Zénith Sud Montpellier et Centre commercial régional Odysseum. L'aéroport le plus proche (Aéroport Montpellier Méditerranée) est à 29 km.\", 'hotel_url__119': 'https://www.booking.com/hotel/fr/cabane-du-saunier-au-commun-electre.fr.html?aid=304142&label=gen173nr-1FCAQoggJCFHNlYXJjaF9haWd1ZXMgbW9ydGVzSDNYBGhN ... (145 characters truncated) ... _adults=2&no_rooms=1&group_children=0&req_children=0&hpos=6&hapos=6&sr_order=popularity&srpvid=40745b8b70d80379&srepoch=1745499672&from=searchresults', 'hotel_name__119': 'Nuits Salines Aigues-Mortes', 'city__119': 'Aigues Mortes', 'latitude__119': 43.5546913, 'hotel_address__119': 'Les salins du Midi, Route du Grau du Roi, 30220 Aigues-Mortes, France', 'longitude__119': 4.1841735, 'hotel_rating__119': 8.9, 'hotel_description__119': \"Proposant une plage privée et une terrasse, l’établissement Nuits Salines Aigues-Mortes se trouve à Aigues-Mortes, à respectivement 26 km et 27 km de ... (337 characters truncated) ... ntérêt\\xa0: Zénith Sud Montpellier et Centre commercial régional Odysseum. L'aéroport le plus proche (Aéroport Montpellier Méditerranée) est à 33 km.\", 'hotel_url__120': 'https://www.booking.com/hotel/fr/residence-le-mas-des-flamants.fr.html?aid=304142&label=gen173nr-1FCAQoggJCFHNlYXJjaF9haWd1ZXMgbW9ydGVzSDNYBGhNiAEBmA ... (139 characters truncated) ... _adults=2&no_rooms=1&group_children=0&req_children=0&hpos=5&hapos=5&sr_order=popularity&srpvid=40745b8b70d80379&srepoch=1745499672&from=searchresults', 'hotel_name__120': 'Résidence Odalys Le Mas des Flamants', 'city__120': 'Aigues Mortes', 'latitude__120': 43.57379435310839, 'hotel_address__120': '60 Chemin de Trouche, 30220 Aigues-Mortes, France', 'longitude__120': 4.180621862215048, 'hotel_rating__120': 8.4, 'hotel_description__120': \"Située à l'extérieur des fortifications d'Aigues-Mortes, sur les rives du Vidourle, la Résidence Odalys Le Mas des Flamants possède une piscine et de ... (690 characters truncated) ... nce Odalys Le Mas des Flamants est à 5 minutes de marche du centre-ville, et vous pourrez vous détendre sur la plage de Port-Camargue, située à 7 km.\", 'hotel_url__121': 'https://www.booking.com/hotel/fr/canal-aigues-mortes.fr.html?aid=304142&label=gen173nr-1FCAQoggJCFHNlYXJjaF9haWd1ZXMgbW9ydGVzSDNYBGhNiAEBmAENuAEXyAEM ... (129 characters truncated) ... _adults=2&no_rooms=1&group_children=0&req_children=0&hpos=4&hapos=4&sr_order=popularity&srpvid=40745b8b70d80379&srepoch=1745499672&from=searchresults', 'hotel_name__121': 'Les Jardins du Canal Piscine Chauffée', 'city__121': 'Aigues Mortes', 'latitude__121': 43.572987520084624, 'hotel_address__121': '440 Route De Nimes, 30220 Aigues-Mortes, France', 'longitude__121': 4.194824695587158, 'hotel_rating__121': 8.8, 'hotel_description__121': \"L’hôtel Canal Aigues Mortes vous accueille sur les rives du canal, à 5 minutes à pied de la ville fortifiée. Vous pourrez profiter d’une vue sur le c ... (914 characters truncated) ... er-Méditerranée. La gare d'Aigues-Mortes est à 4 minutes de marche. Montpellier, Arles et Nîmes peuvent être atteints à moins de 45 minutes de route.\", 'hotel_url__122': 'https://www.booking.com/hotel/fr/le-medieval.fr.html?aid=304142&label=gen173nr-1FCAQoggJCFHNlYXJjaF9haWd1ZXMgbW9ydGVzSDNYBGhNiAEBmAENuAEXyAEM2AEB6AEB ... (121 characters truncated) ... _adults=2&no_rooms=1&group_children=0&req_children=0&hpos=2&hapos=2&sr_order=popularity&srpvid=40745b8b70d80379&srepoch=1745499672&from=searchresults', 'hotel_name__122': 'Hôtel Le Médiéval', 'city__122': 'Aigues Mortes', 'latitude__122': 43.57186625316511, 'hotel_address__122': '221 Avenue Du Pont De Provence, 30220 Aigues-Mortes, France', 'longitude__122': 4.19366168974193, 'hotel_rating__122': 8.8, 'hotel_description__122': \"L'Hôtel Le Médiéval est situé sur les rives du canal d'Aigues-Mortes, à 30 km de Montpellier. Il propose des chambres pourvues d'une salle de bains p ... (246 characters truncated) ... ement dans les parties communes.\\n\\nUn parking privé gratuit est disponible sur place. Une promenade de 2 minutes vous mènera aux remparts médiévaux.\", 'hotel_url__123': 'https://www.booking.com/hotel/fr/saint-louis-aigues-mortes.fr.html?aid=304142&label=gen173nr-1FCAQoggJCFHNlYXJjaF9haWd1ZXMgbW9ydGVzSDNYBGhNiAEBmAENuA ... (135 characters truncated) ... _adults=2&no_rooms=1&group_children=0&req_children=0&hpos=3&hapos=3&sr_order=popularity&srpvid=40745b8b70d80379&srepoch=1745499672&from=searchresults', 'hotel_name__123': 'Hôtel Saint Louis', 'city__123': 'Aigues Mortes', 'latitude__123': 43.5672196715711, 'hotel_address__123': '10, Rue Amiral Courbet, 30220 Aigues-Mortes, France', 'longitude__123': 4.189343601465225, 'hotel_rating__123': 8.5, 'hotel_description__123': \"Situé dans le cœur historique d'Aigues-Mortes, à 200 mètres de la Tour de Constance, l'Hôtel Saint Louis est un hôtel climatisé doté d'un centre de b ... (676 characters truncated) ... es. L'aéroport de Montpellier-Méditerranée est à 26 km.\\n\\n Un centre de bien-être avec sauna et des massages sont également disponibles sur demande.\", 'hotel_url__124': 'https://www.booking.com/hotel/fr/le-royal-hotel-aigues-mortes.fr.html?aid=304142&label=gen173nr-1FCAQoggJCFHNlYXJjaF9haWd1ZXMgbW9ydGVzSDNYBGhNiAEBmAE ... (138 characters truncated) ... _adults=2&no_rooms=1&group_children=0&req_children=0&hpos=1&hapos=1&sr_order=popularity&srpvid=40745b8b70d80379&srepoch=1745499672&from=searchresults', 'hotel_name__124': 'Artemia Aigues-Mortes - Hotel avec piscine', 'city__124': 'Aigues Mortes', 'latitude__124': 43.57639588787367, 'hotel_address__124': '897, Route De Nîmes, 30220 Aigues-Mortes, France', 'longitude__124': 4.197818040847778, 'hotel_rating__124': 9.1, 'hotel_description__124': 'Featuring free WiFi and a seasonal outdoor swimming pool, Artemia Aigues-Mortes is located in Aigues-Mortes, a 15-minute drive from the Carmague Natu ... (393 characters truncated) ... om Artemia Aigues-Mortes, while Arles is 45 km from the property. The nearest airport is Montpellier - Mediterranee Airport, 26 km from the property.'}\n",
      "2025-04-24 22:39:14,832 INFO sqlalchemy.engine.Engine COMMIT\n"
     ]
    },
    {
     "data": {
      "text/plain": [
       "125"
      ]
     },
     "execution_count": 39,
     "metadata": {},
     "output_type": "execute_result"
    }
   ],
   "source": [
    "from sqlalchemy import create_engine, text\n",
    "\n",
    "load_dotenv()\n",
    "\n",
    "PASSWORD = os.getenv(\"PASSWORD\")\n",
    "HOSTNAME = os.getenv(\"HOSTNAME\")\n",
    "DBNAME = os.getenv(\"DBNAME\")\n",
    "\n",
    "# Create engine will create a connection between a SQLlite DB and python\n",
    "engine = create_engine(f\"postgresql+psycopg2://postgreskayak:{PASSWORD}@{HOSTNAME}/{DBNAME}\", echo=True)\n",
    "\n",
    "import pandas as pd\n",
    "\n",
    "best_cities_hotels = pd.read_csv(\"s3://bucket-for-kayak-project-myriam-25/best_cities_hotels.csv\", storage_options={\"key\": os.getenv(\"aws_access_key_id\"), \"secret\": os.getenv(\"aws_secret_access_key\")})\n",
    "best_cities_hotels.to_sql(\"best_cities_hotels\", engine, if_exists=\"replace\", index=False)"
   ]
  },
  {
   "cell_type": "code",
   "execution_count": 38,
   "id": "50786215",
   "metadata": {},
   "outputs": [
    {
     "name": "stdout",
     "output_type": "stream",
     "text": [
      "2025-04-24 22:35:24,177 INFO sqlalchemy.engine.Engine BEGIN (implicit)\n",
      "2025-04-24 22:35:24,181 INFO sqlalchemy.engine.Engine SELECT pg_catalog.pg_class.relname \n",
      "FROM pg_catalog.pg_class JOIN pg_catalog.pg_namespace ON pg_catalog.pg_namespace.oid = pg_catalog.pg_class.relnamespace \n",
      "WHERE pg_catalog.pg_class.relname = %(table_name)s AND pg_catalog.pg_class.relkind = ANY (ARRAY[%(param_1)s, %(param_2)s, %(param_3)s, %(param_4)s, %(param_5)s]) AND pg_catalog.pg_table_is_visible(pg_catalog.pg_class.oid) AND pg_catalog.pg_namespace.nspname != %(nspname_1)s\n",
      "2025-04-24 22:35:24,185 INFO sqlalchemy.engine.Engine [cached since 652.8s ago] {'table_name': 'best35_cities_weather', 'param_1': 'r', 'param_2': 'p', 'param_3': 'f', 'param_4': 'v', 'param_5': 'm', 'nspname_1': 'pg_catalog'}\n",
      "2025-04-24 22:35:24,209 INFO sqlalchemy.engine.Engine \n",
      "CREATE TABLE best35_cities_weather (\n",
      "\tcities TEXT, \n",
      "\tcountry TEXT, \n",
      "\tstate TEXT, \n",
      "\tlat FLOAT(53), \n",
      "\tlon FLOAT(53), \n",
      "\tdate TEXT, \n",
      "\ttemp FLOAT(53), \n",
      "\tfeels_like FLOAT(53), \n",
      "\tuvi FLOAT(53), \n",
      "\thumidity FLOAT(53), \n",
      "\twind_speed FLOAT(53), \n",
      "\tdescription TEXT\n",
      ")\n",
      "\n",
      "\n",
      "2025-04-24 22:35:24,210 INFO sqlalchemy.engine.Engine [no key 0.00118s] {}\n",
      "2025-04-24 22:35:24,241 INFO sqlalchemy.engine.Engine INSERT INTO best35_cities_weather (cities, country, state, lat, lon, date, temp, feels_like, uvi, humidity, wind_speed, description) VALUES (%(cities__0)s, %(country__0)s, %(state__0)s, %(lat__0)s, %(lon__0)s, %(date__0)s, %(temp__0)s, %(feels_like__ ... 6528 characters truncated ... p__34)s, %(feels_like__34)s, %(uvi__34)s, %(humidity__34)s, %(wind_speed__34)s, %(description__34)s)\n",
      "2025-04-24 22:35:24,244 INFO sqlalchemy.engine.Engine [generated in 0.00245s (insertmanyvalues)] {'cities__0': 'Mont Saint Michel', 'lon__0': -1.511459954959514, 'country__0': 'FR', 'uvi__0': 4.75, 'lat__0': 48.6359541, 'description__0': 'broken clouds', 'date__0': '2025-04-24 12:50:01', 'feels_like__0': 13.23, 'state__0': 'Normandy', 'humidity__0': 70.0, 'wind_speed__0': 3.42, 'temp__0': 13.95, 'cities__1': 'St Malo', 'lon__1': -2.0260409, 'country__1': 'FR', 'uvi__1': 5.41, 'lat__1': 48.649518, 'description__1': 'broken clouds', 'date__1': '2025-04-24 12:50:05', 'feels_like__1': 14.62, 'state__1': 'Brittany', 'humidity__1': 67.0, 'wind_speed__1': 3.09, 'temp__1': 15.29, 'cities__2': 'Bayeux', 'lon__2': -0.7024738, 'country__2': 'FR', 'uvi__2': 4.33, 'lat__2': 49.2764624, 'description__2': 'broken clouds', 'date__2': '2025-04-24 12:50:05', 'feels_like__2': 11.37, 'state__2': 'Normandy', 'humidity__2': 75.0, 'wind_speed__2': 4.45, 'temp__2': 12.14, 'cities__3': 'Le Havre', 'lon__3': 0.1079732, 'country__3': 'FR', 'uvi__3': 4.59, 'lat__3': 49.4938975, 'description__3': 'overcast clouds', 'date__3': '2025-04-24 12:50:05', 'feels_like__3': 10.99, 'state__3': 'Normandy', 'humidity__3': 87.0, 'wind_speed__3': 4.63, 'temp__3': 11.51, 'cities__4': 'Rouen', 'lon__4': 1.0939658 ... 320 parameters truncated ... 'wind_speed__30': 5.14, 'temp__30': 16.66, 'cities__31': 'Biarritz', 'lon__31': -1.5592776, 'country__31': 'FR', 'uvi__31': 6.57, 'lat__31': 43.4832523, 'description__31': 'overcast clouds', 'date__31': '2025-04-24 12:50:08', 'feels_like__31': 15.18, 'state__31': 'Nouvelle-Aquitaine', 'humidity__31': 88.0, 'wind_speed__31': 3.6, 'temp__31': 15.3, 'cities__32': 'Bayonne', 'lon__32': -1.4736657, 'country__32': 'FR', 'uvi__32': 6.12, 'lat__32': 43.4945144, 'description__32': 'overcast clouds', 'date__32': '2025-04-24 12:50:08', 'feels_like__32': 15.32, 'state__32': 'Nouvelle-Aquitaine', 'humidity__32': 88.0, 'wind_speed__32': 3.6, 'temp__32': 15.42, 'cities__33': 'La Rochelle', 'lon__33': -1.1520434, 'country__33': 'FR', 'uvi__33': 3.66, 'lat__33': 46.1591126, 'description__33': 'overcast clouds', 'date__33': '2025-04-24 12:50:08', 'feels_like__33': 14.31, 'state__33': 'Nouvelle-Aquitaine', 'humidity__33': 68.0, 'wind_speed__33': 3.09, 'temp__33': 14.98, 'cities__34': 'Gorges du Verdon', 'lon__34': 6.3285616, 'country__34': None, 'uvi__34': 6.08, 'lat__34': 43.7496562, 'description__34': 'clear sky', 'date__34': '2025-04-24 12:50:08', 'feels_like__34': 19.13, 'state__34': None, 'humidity__34': 42.0, 'wind_speed__34': 3.3, 'temp__34': 19.98}\n",
      "2025-04-24 22:35:24,265 INFO sqlalchemy.engine.Engine COMMIT\n"
     ]
    },
    {
     "data": {
      "text/plain": [
       "35"
      ]
     },
     "execution_count": 38,
     "metadata": {},
     "output_type": "execute_result"
    }
   ],
   "source": [
    "best35_cities_weather = pd.read_csv(\"s3://bucket-for-kayak-project-myriam-25/35_best_cities_weather.csv\", storage_options={\"key\": os.getenv(\"aws_access_key_id\"), \"secret\": os.getenv(\"aws_secret_access_key\")})\n",
    "best35_cities_weather.to_sql(\"best35_cities_weather\", engine, if_exists=\"replace\", index=False)"
   ]
  },
  {
   "cell_type": "code",
   "execution_count": null,
   "id": "d9679524",
   "metadata": {},
   "outputs": [],
   "source": []
  }
 ],
 "metadata": {
  "kernelspec": {
   "display_name": "myenv",
   "language": "python",
   "name": "python3"
  },
  "language_info": {
   "codemirror_mode": {
    "name": "ipython",
    "version": 3
   },
   "file_extension": ".py",
   "mimetype": "text/x-python",
   "name": "python",
   "nbconvert_exporter": "python",
   "pygments_lexer": "ipython3",
   "version": "3.10.13"
  }
 },
 "nbformat": 4,
 "nbformat_minor": 5
}
