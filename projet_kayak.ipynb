{
 "cells": [
  {
   "cell_type": "code",
   "execution_count": 1,
   "metadata": {},
   "outputs": [],
   "source": [
    "import requests\n",
    "import json\n",
    "import os\n",
    "from dotenv import load_dotenv\n",
    "import pandas as pd\n",
    "from datetime import datetime\n",
    "import folium\n",
    "import time\n",
    "import seaborn as sns\n",
    "import plotly.express as px\n",
    "import requests\n",
    "import scrapy\n",
    "from scrapy import Selector\n",
    "from scrapy.crawler import CrawlerProcess\n",
    "import logging\n",
    "\n",
    "\n",
    "\n"
   ]
  },
  {
   "cell_type": "code",
   "execution_count": 2,
   "metadata": {},
   "outputs": [],
   "source": [
    "load_dotenv()\n",
    "\n",
    "Open_Weather_API_Key_Myriam= os.getenv(\"Open_Weather_API_Key_Myriam\") "
   ]
  },
  {
   "cell_type": "markdown",
   "metadata": {},
   "source": [
    "# Extraction des informations géographiques des 35 plus belles villes"
   ]
  },
  {
   "cell_type": "markdown",
   "metadata": {},
   "source": [
    "Sur la liste des 35 plus belles villes, nous avons 34 noms de villes + 1 lieu d'interêt qui n'est pas une ville (Gorges du Verdon). Pour récupérer les latitudes et longitudes des 34 villes nous pouvons facilement utiliser l'API openweathermap. Cette API permet facilement de collecter également le pays et la région, ce qui est utile pour contrôler d'un même coût les éventuelles erreures liées à des villes homonymes dans le monde.\n",
    "Cependant, cette API ne reconnait pas les Gorges du Verdon. Pour palier ce problème, une seconde API a été utilisée, nominatim.openstreetmap. Le nombre de requete est plus limité et elle ne permet pas de récupérer la région et le pays."
   ]
  },
  {
   "cell_type": "code",
   "execution_count": 3,
   "metadata": {},
   "outputs": [],
   "source": [
    "best_cities= [\"Mont Saint Michel\",\n",
    "\"St Malo\",\n",
    "\"Bayeux\",\n",
    "\"Le Havre\",\n",
    "\"Rouen\",\n",
    "\"Paris\",\n",
    "\"Amiens\",\n",
    "\"Lille\",\n",
    "\"Strasbourg\",\n",
    "\"Chateau du Haut Koenigsbourg\",\n",
    "\"Colmar\",\n",
    "\"Eguisheim\",\n",
    "\"Besancon\",\n",
    "\"Dijon\",\n",
    "\"Annecy\",\n",
    "\"Grenoble\",\n",
    "\"Lyon\",\n",
    "\"Bormes les Mimosas\",\n",
    "\"Cassis\",\n",
    "\"Marseille\",\n",
    "\"Aix en Provence\",\n",
    "\"Avignon\",\n",
    "\"Uzes\",\n",
    "\"Nimes\",\n",
    "\"Aigues Mortes\",\n",
    "\"Saintes Maries de la mer\",\n",
    "\"Collioure\",\n",
    "\"Carcassonne\",\n",
    "\"Ariege\",\n",
    "\"Toulouse\",\n",
    "\"Montauban\",\n",
    "\"Biarritz\",\n",
    "\"Bayonne\",\n",
    "\"La Rochelle\",\n",
    "#\"Gorges du Verdon\" exclu de la liste dans un premier temps car n'est pas une ville mais un point d'intérêt.\n",
    "]\n"
   ]
  },
  {
   "cell_type": "code",
   "execution_count": 4,
   "metadata": {},
   "outputs": [
    {
     "data": {
      "text/plain": [
       "'La Rochelle'"
      ]
     },
     "execution_count": 4,
     "metadata": {},
     "output_type": "execute_result"
    }
   ],
   "source": [
    "best_cities[-1]"
   ]
  },
  {
   "cell_type": "code",
   "execution_count": 5,
   "metadata": {},
   "outputs": [
    {
     "data": {
      "text/html": [
       "<div>\n",
       "<style scoped>\n",
       "    .dataframe tbody tr th:only-of-type {\n",
       "        vertical-align: middle;\n",
       "    }\n",
       "\n",
       "    .dataframe tbody tr th {\n",
       "        vertical-align: top;\n",
       "    }\n",
       "\n",
       "    .dataframe thead th {\n",
       "        text-align: right;\n",
       "    }\n",
       "</style>\n",
       "<table border=\"1\" class=\"dataframe\">\n",
       "  <thead>\n",
       "    <tr style=\"text-align: right;\">\n",
       "      <th></th>\n",
       "      <th>cities</th>\n",
       "    </tr>\n",
       "  </thead>\n",
       "  <tbody>\n",
       "    <tr>\n",
       "      <th>0</th>\n",
       "      <td>Mont Saint Michel</td>\n",
       "    </tr>\n",
       "    <tr>\n",
       "      <th>1</th>\n",
       "      <td>St Malo</td>\n",
       "    </tr>\n",
       "    <tr>\n",
       "      <th>2</th>\n",
       "      <td>Bayeux</td>\n",
       "    </tr>\n",
       "    <tr>\n",
       "      <th>3</th>\n",
       "      <td>Le Havre</td>\n",
       "    </tr>\n",
       "    <tr>\n",
       "      <th>4</th>\n",
       "      <td>Rouen</td>\n",
       "    </tr>\n",
       "    <tr>\n",
       "      <th>5</th>\n",
       "      <td>Paris</td>\n",
       "    </tr>\n",
       "    <tr>\n",
       "      <th>6</th>\n",
       "      <td>Amiens</td>\n",
       "    </tr>\n",
       "    <tr>\n",
       "      <th>7</th>\n",
       "      <td>Lille</td>\n",
       "    </tr>\n",
       "    <tr>\n",
       "      <th>8</th>\n",
       "      <td>Strasbourg</td>\n",
       "    </tr>\n",
       "    <tr>\n",
       "      <th>9</th>\n",
       "      <td>Chateau du Haut Koenigsbourg</td>\n",
       "    </tr>\n",
       "    <tr>\n",
       "      <th>10</th>\n",
       "      <td>Colmar</td>\n",
       "    </tr>\n",
       "    <tr>\n",
       "      <th>11</th>\n",
       "      <td>Eguisheim</td>\n",
       "    </tr>\n",
       "    <tr>\n",
       "      <th>12</th>\n",
       "      <td>Besancon</td>\n",
       "    </tr>\n",
       "    <tr>\n",
       "      <th>13</th>\n",
       "      <td>Dijon</td>\n",
       "    </tr>\n",
       "    <tr>\n",
       "      <th>14</th>\n",
       "      <td>Annecy</td>\n",
       "    </tr>\n",
       "    <tr>\n",
       "      <th>15</th>\n",
       "      <td>Grenoble</td>\n",
       "    </tr>\n",
       "    <tr>\n",
       "      <th>16</th>\n",
       "      <td>Lyon</td>\n",
       "    </tr>\n",
       "    <tr>\n",
       "      <th>17</th>\n",
       "      <td>Bormes les Mimosas</td>\n",
       "    </tr>\n",
       "    <tr>\n",
       "      <th>18</th>\n",
       "      <td>Cassis</td>\n",
       "    </tr>\n",
       "    <tr>\n",
       "      <th>19</th>\n",
       "      <td>Marseille</td>\n",
       "    </tr>\n",
       "    <tr>\n",
       "      <th>20</th>\n",
       "      <td>Aix en Provence</td>\n",
       "    </tr>\n",
       "    <tr>\n",
       "      <th>21</th>\n",
       "      <td>Avignon</td>\n",
       "    </tr>\n",
       "    <tr>\n",
       "      <th>22</th>\n",
       "      <td>Uzes</td>\n",
       "    </tr>\n",
       "    <tr>\n",
       "      <th>23</th>\n",
       "      <td>Nimes</td>\n",
       "    </tr>\n",
       "    <tr>\n",
       "      <th>24</th>\n",
       "      <td>Aigues Mortes</td>\n",
       "    </tr>\n",
       "    <tr>\n",
       "      <th>25</th>\n",
       "      <td>Saintes Maries de la mer</td>\n",
       "    </tr>\n",
       "    <tr>\n",
       "      <th>26</th>\n",
       "      <td>Collioure</td>\n",
       "    </tr>\n",
       "    <tr>\n",
       "      <th>27</th>\n",
       "      <td>Carcassonne</td>\n",
       "    </tr>\n",
       "    <tr>\n",
       "      <th>28</th>\n",
       "      <td>Ariege</td>\n",
       "    </tr>\n",
       "    <tr>\n",
       "      <th>29</th>\n",
       "      <td>Toulouse</td>\n",
       "    </tr>\n",
       "    <tr>\n",
       "      <th>30</th>\n",
       "      <td>Montauban</td>\n",
       "    </tr>\n",
       "    <tr>\n",
       "      <th>31</th>\n",
       "      <td>Biarritz</td>\n",
       "    </tr>\n",
       "    <tr>\n",
       "      <th>32</th>\n",
       "      <td>Bayonne</td>\n",
       "    </tr>\n",
       "    <tr>\n",
       "      <th>33</th>\n",
       "      <td>La Rochelle</td>\n",
       "    </tr>\n",
       "  </tbody>\n",
       "</table>\n",
       "</div>"
      ],
      "text/plain": [
       "                          cities\n",
       "0              Mont Saint Michel\n",
       "1                        St Malo\n",
       "2                         Bayeux\n",
       "3                       Le Havre\n",
       "4                          Rouen\n",
       "5                          Paris\n",
       "6                         Amiens\n",
       "7                          Lille\n",
       "8                     Strasbourg\n",
       "9   Chateau du Haut Koenigsbourg\n",
       "10                        Colmar\n",
       "11                     Eguisheim\n",
       "12                      Besancon\n",
       "13                         Dijon\n",
       "14                        Annecy\n",
       "15                      Grenoble\n",
       "16                          Lyon\n",
       "17            Bormes les Mimosas\n",
       "18                        Cassis\n",
       "19                     Marseille\n",
       "20               Aix en Provence\n",
       "21                       Avignon\n",
       "22                          Uzes\n",
       "23                         Nimes\n",
       "24                 Aigues Mortes\n",
       "25      Saintes Maries de la mer\n",
       "26                     Collioure\n",
       "27                   Carcassonne\n",
       "28                        Ariege\n",
       "29                      Toulouse\n",
       "30                     Montauban\n",
       "31                      Biarritz\n",
       "32                       Bayonne\n",
       "33                   La Rochelle"
      ]
     },
     "execution_count": 5,
     "metadata": {},
     "output_type": "execute_result"
    }
   ],
   "source": [
    "#création d'un dataframe avec la liste des best cities\n",
    "df = pd.DataFrame(data = best_cities, columns = [\"cities\"])\n",
    "df"
   ]
  },
  {
   "cell_type": "markdown",
   "metadata": {},
   "source": [
    "## Import des longitudes & latitudes des 35 best cities"
   ]
  },
  {
   "cell_type": "code",
   "execution_count": 6,
   "metadata": {},
   "outputs": [
    {
     "data": {
      "text/plain": [
       "(34, 1)"
      ]
     },
     "execution_count": 6,
     "metadata": {},
     "output_type": "execute_result"
    }
   ],
   "source": [
    "df.shape"
   ]
  },
  {
   "cell_type": "code",
   "execution_count": 7,
   "metadata": {},
   "outputs": [
    {
     "data": {
      "text/html": [
       "<div>\n",
       "<style scoped>\n",
       "    .dataframe tbody tr th:only-of-type {\n",
       "        vertical-align: middle;\n",
       "    }\n",
       "\n",
       "    .dataframe tbody tr th {\n",
       "        vertical-align: top;\n",
       "    }\n",
       "\n",
       "    .dataframe thead th {\n",
       "        text-align: right;\n",
       "    }\n",
       "</style>\n",
       "<table border=\"1\" class=\"dataframe\">\n",
       "  <thead>\n",
       "    <tr style=\"text-align: right;\">\n",
       "      <th></th>\n",
       "      <th>cities</th>\n",
       "      <th>name</th>\n",
       "      <th>country</th>\n",
       "      <th>state</th>\n",
       "      <th>lat</th>\n",
       "      <th>lon</th>\n",
       "    </tr>\n",
       "  </thead>\n",
       "  <tbody>\n",
       "    <tr>\n",
       "      <th>0</th>\n",
       "      <td>Mont Saint Michel</td>\n",
       "      <td>Mont Saint-Michel</td>\n",
       "      <td>FR</td>\n",
       "      <td>Normandy</td>\n",
       "      <td>48.635954</td>\n",
       "      <td>-1.511460</td>\n",
       "    </tr>\n",
       "    <tr>\n",
       "      <th>1</th>\n",
       "      <td>St Malo</td>\n",
       "      <td>Saint-Malo</td>\n",
       "      <td>FR</td>\n",
       "      <td>Brittany</td>\n",
       "      <td>48.649518</td>\n",
       "      <td>-2.026041</td>\n",
       "    </tr>\n",
       "    <tr>\n",
       "      <th>2</th>\n",
       "      <td>Bayeux</td>\n",
       "      <td>Bayeux</td>\n",
       "      <td>FR</td>\n",
       "      <td>Normandy</td>\n",
       "      <td>49.276462</td>\n",
       "      <td>-0.702474</td>\n",
       "    </tr>\n",
       "    <tr>\n",
       "      <th>3</th>\n",
       "      <td>Le Havre</td>\n",
       "      <td>Le Havre</td>\n",
       "      <td>FR</td>\n",
       "      <td>Normandy</td>\n",
       "      <td>49.493898</td>\n",
       "      <td>0.107973</td>\n",
       "    </tr>\n",
       "    <tr>\n",
       "      <th>4</th>\n",
       "      <td>Rouen</td>\n",
       "      <td>Rouen</td>\n",
       "      <td>FR</td>\n",
       "      <td>Normandy</td>\n",
       "      <td>49.440459</td>\n",
       "      <td>1.093966</td>\n",
       "    </tr>\n",
       "    <tr>\n",
       "      <th>5</th>\n",
       "      <td>Paris</td>\n",
       "      <td>Paris</td>\n",
       "      <td>FR</td>\n",
       "      <td>Ile-de-France</td>\n",
       "      <td>48.858890</td>\n",
       "      <td>2.320041</td>\n",
       "    </tr>\n",
       "    <tr>\n",
       "      <th>6</th>\n",
       "      <td>Amiens</td>\n",
       "      <td>Amiens</td>\n",
       "      <td>FR</td>\n",
       "      <td>Hauts-de-France</td>\n",
       "      <td>49.894171</td>\n",
       "      <td>2.295695</td>\n",
       "    </tr>\n",
       "    <tr>\n",
       "      <th>7</th>\n",
       "      <td>Lille</td>\n",
       "      <td>Lille</td>\n",
       "      <td>FR</td>\n",
       "      <td>Hauts-de-France</td>\n",
       "      <td>50.636565</td>\n",
       "      <td>3.063528</td>\n",
       "    </tr>\n",
       "    <tr>\n",
       "      <th>8</th>\n",
       "      <td>Strasbourg</td>\n",
       "      <td>Strasbourg</td>\n",
       "      <td>FR</td>\n",
       "      <td>Grand Est</td>\n",
       "      <td>48.584614</td>\n",
       "      <td>7.750713</td>\n",
       "    </tr>\n",
       "    <tr>\n",
       "      <th>9</th>\n",
       "      <td>Chateau du Haut Koenigsbourg</td>\n",
       "      <td>Château du Haut-Kœnigsbourg</td>\n",
       "      <td>FR</td>\n",
       "      <td>Grand Est</td>\n",
       "      <td>48.249523</td>\n",
       "      <td>7.345492</td>\n",
       "    </tr>\n",
       "    <tr>\n",
       "      <th>10</th>\n",
       "      <td>Colmar</td>\n",
       "      <td>Colmar</td>\n",
       "      <td>FR</td>\n",
       "      <td>Grand Est</td>\n",
       "      <td>48.077752</td>\n",
       "      <td>7.357964</td>\n",
       "    </tr>\n",
       "    <tr>\n",
       "      <th>11</th>\n",
       "      <td>Eguisheim</td>\n",
       "      <td>Eguisheim</td>\n",
       "      <td>FR</td>\n",
       "      <td>Grand Est</td>\n",
       "      <td>48.044797</td>\n",
       "      <td>7.307962</td>\n",
       "    </tr>\n",
       "    <tr>\n",
       "      <th>12</th>\n",
       "      <td>Besancon</td>\n",
       "      <td>Besançon</td>\n",
       "      <td>FR</td>\n",
       "      <td>Bourgogne-Franche-Comté</td>\n",
       "      <td>47.238022</td>\n",
       "      <td>6.024362</td>\n",
       "    </tr>\n",
       "    <tr>\n",
       "      <th>13</th>\n",
       "      <td>Dijon</td>\n",
       "      <td>Dijon</td>\n",
       "      <td>FR</td>\n",
       "      <td>Bourgogne-Franche-Comté</td>\n",
       "      <td>47.321581</td>\n",
       "      <td>5.041470</td>\n",
       "    </tr>\n",
       "    <tr>\n",
       "      <th>14</th>\n",
       "      <td>Annecy</td>\n",
       "      <td>Annecy</td>\n",
       "      <td>FR</td>\n",
       "      <td>Auvergne-Rhône-Alpes</td>\n",
       "      <td>45.899235</td>\n",
       "      <td>6.128885</td>\n",
       "    </tr>\n",
       "    <tr>\n",
       "      <th>15</th>\n",
       "      <td>Grenoble</td>\n",
       "      <td>Grenoble</td>\n",
       "      <td>FR</td>\n",
       "      <td>Auvergne-Rhône-Alpes</td>\n",
       "      <td>45.187560</td>\n",
       "      <td>5.735782</td>\n",
       "    </tr>\n",
       "    <tr>\n",
       "      <th>16</th>\n",
       "      <td>Lyon</td>\n",
       "      <td>Lyon</td>\n",
       "      <td>FR</td>\n",
       "      <td>Auvergne-Rhône-Alpes</td>\n",
       "      <td>45.757814</td>\n",
       "      <td>4.832011</td>\n",
       "    </tr>\n",
       "    <tr>\n",
       "      <th>17</th>\n",
       "      <td>Bormes les Mimosas</td>\n",
       "      <td>Bormes-les-Mimosas</td>\n",
       "      <td>FR</td>\n",
       "      <td>Provence-Alpes-Côte d'Azur</td>\n",
       "      <td>43.150697</td>\n",
       "      <td>6.341928</td>\n",
       "    </tr>\n",
       "    <tr>\n",
       "      <th>18</th>\n",
       "      <td>Cassis</td>\n",
       "      <td>Cassis</td>\n",
       "      <td>FR</td>\n",
       "      <td>Provence-Alpes-Côte d'Azur</td>\n",
       "      <td>43.214036</td>\n",
       "      <td>5.539632</td>\n",
       "    </tr>\n",
       "    <tr>\n",
       "      <th>19</th>\n",
       "      <td>Marseille</td>\n",
       "      <td>Marseille</td>\n",
       "      <td>FR</td>\n",
       "      <td>Provence-Alpes-Côte d'Azur</td>\n",
       "      <td>43.296174</td>\n",
       "      <td>5.369953</td>\n",
       "    </tr>\n",
       "    <tr>\n",
       "      <th>20</th>\n",
       "      <td>Aix en Provence</td>\n",
       "      <td>Aix-en-Provence</td>\n",
       "      <td>FR</td>\n",
       "      <td>Provence-Alpes-Côte d'Azur</td>\n",
       "      <td>43.529842</td>\n",
       "      <td>5.447474</td>\n",
       "    </tr>\n",
       "    <tr>\n",
       "      <th>21</th>\n",
       "      <td>Avignon</td>\n",
       "      <td>Avignon</td>\n",
       "      <td>FR</td>\n",
       "      <td>Provence-Alpes-Côte d'Azur</td>\n",
       "      <td>43.949249</td>\n",
       "      <td>4.805901</td>\n",
       "    </tr>\n",
       "    <tr>\n",
       "      <th>22</th>\n",
       "      <td>Uzes</td>\n",
       "      <td>Uzès</td>\n",
       "      <td>FR</td>\n",
       "      <td>Occitania</td>\n",
       "      <td>44.012128</td>\n",
       "      <td>4.419672</td>\n",
       "    </tr>\n",
       "    <tr>\n",
       "      <th>23</th>\n",
       "      <td>Nimes</td>\n",
       "      <td>Nimes</td>\n",
       "      <td>FR</td>\n",
       "      <td>Occitania</td>\n",
       "      <td>43.837425</td>\n",
       "      <td>4.360069</td>\n",
       "    </tr>\n",
       "    <tr>\n",
       "      <th>24</th>\n",
       "      <td>Aigues Mortes</td>\n",
       "      <td>Aigues-Mortes</td>\n",
       "      <td>FR</td>\n",
       "      <td>Occitania</td>\n",
       "      <td>43.565823</td>\n",
       "      <td>4.191284</td>\n",
       "    </tr>\n",
       "    <tr>\n",
       "      <th>25</th>\n",
       "      <td>Saintes Maries de la mer</td>\n",
       "      <td>Saintes-Maries-de-la-Mer</td>\n",
       "      <td>FR</td>\n",
       "      <td>Provence-Alpes-Côte d'Azur</td>\n",
       "      <td>43.452277</td>\n",
       "      <td>4.428717</td>\n",
       "    </tr>\n",
       "    <tr>\n",
       "      <th>26</th>\n",
       "      <td>Collioure</td>\n",
       "      <td>Collioure</td>\n",
       "      <td>FR</td>\n",
       "      <td>Occitania</td>\n",
       "      <td>42.525050</td>\n",
       "      <td>3.083155</td>\n",
       "    </tr>\n",
       "    <tr>\n",
       "      <th>27</th>\n",
       "      <td>Carcassonne</td>\n",
       "      <td>Carcassonne</td>\n",
       "      <td>FR</td>\n",
       "      <td>Occitania</td>\n",
       "      <td>43.213036</td>\n",
       "      <td>2.349107</td>\n",
       "    </tr>\n",
       "    <tr>\n",
       "      <th>28</th>\n",
       "      <td>Ariege</td>\n",
       "      <td>Tarascon-sur-Ariège</td>\n",
       "      <td>FR</td>\n",
       "      <td>Occitania</td>\n",
       "      <td>42.845802</td>\n",
       "      <td>1.606759</td>\n",
       "    </tr>\n",
       "    <tr>\n",
       "      <th>29</th>\n",
       "      <td>Toulouse</td>\n",
       "      <td>Toulouse</td>\n",
       "      <td>FR</td>\n",
       "      <td>Occitania</td>\n",
       "      <td>43.604462</td>\n",
       "      <td>1.444247</td>\n",
       "    </tr>\n",
       "    <tr>\n",
       "      <th>30</th>\n",
       "      <td>Montauban</td>\n",
       "      <td>Montauban</td>\n",
       "      <td>FR</td>\n",
       "      <td>Occitania</td>\n",
       "      <td>44.017584</td>\n",
       "      <td>1.354999</td>\n",
       "    </tr>\n",
       "    <tr>\n",
       "      <th>31</th>\n",
       "      <td>Biarritz</td>\n",
       "      <td>Biarritz</td>\n",
       "      <td>FR</td>\n",
       "      <td>Nouvelle-Aquitaine</td>\n",
       "      <td>43.483252</td>\n",
       "      <td>-1.559278</td>\n",
       "    </tr>\n",
       "    <tr>\n",
       "      <th>32</th>\n",
       "      <td>Bayonne</td>\n",
       "      <td>Bayonne</td>\n",
       "      <td>FR</td>\n",
       "      <td>Nouvelle-Aquitaine</td>\n",
       "      <td>43.494514</td>\n",
       "      <td>-1.473666</td>\n",
       "    </tr>\n",
       "    <tr>\n",
       "      <th>33</th>\n",
       "      <td>La Rochelle</td>\n",
       "      <td>La Rochelle</td>\n",
       "      <td>FR</td>\n",
       "      <td>Nouvelle-Aquitaine</td>\n",
       "      <td>46.159113</td>\n",
       "      <td>-1.152043</td>\n",
       "    </tr>\n",
       "  </tbody>\n",
       "</table>\n",
       "</div>"
      ],
      "text/plain": [
       "                          cities                         name country  \\\n",
       "0              Mont Saint Michel            Mont Saint-Michel      FR   \n",
       "1                        St Malo                   Saint-Malo      FR   \n",
       "2                         Bayeux                       Bayeux      FR   \n",
       "3                       Le Havre                     Le Havre      FR   \n",
       "4                          Rouen                        Rouen      FR   \n",
       "5                          Paris                        Paris      FR   \n",
       "6                         Amiens                       Amiens      FR   \n",
       "7                          Lille                        Lille      FR   \n",
       "8                     Strasbourg                   Strasbourg      FR   \n",
       "9   Chateau du Haut Koenigsbourg  Château du Haut-Kœnigsbourg      FR   \n",
       "10                        Colmar                       Colmar      FR   \n",
       "11                     Eguisheim                    Eguisheim      FR   \n",
       "12                      Besancon                     Besançon      FR   \n",
       "13                         Dijon                        Dijon      FR   \n",
       "14                        Annecy                       Annecy      FR   \n",
       "15                      Grenoble                     Grenoble      FR   \n",
       "16                          Lyon                         Lyon      FR   \n",
       "17            Bormes les Mimosas           Bormes-les-Mimosas      FR   \n",
       "18                        Cassis                       Cassis      FR   \n",
       "19                     Marseille                    Marseille      FR   \n",
       "20               Aix en Provence              Aix-en-Provence      FR   \n",
       "21                       Avignon                      Avignon      FR   \n",
       "22                          Uzes                         Uzès      FR   \n",
       "23                         Nimes                        Nimes      FR   \n",
       "24                 Aigues Mortes                Aigues-Mortes      FR   \n",
       "25      Saintes Maries de la mer     Saintes-Maries-de-la-Mer      FR   \n",
       "26                     Collioure                    Collioure      FR   \n",
       "27                   Carcassonne                  Carcassonne      FR   \n",
       "28                        Ariege          Tarascon-sur-Ariège      FR   \n",
       "29                      Toulouse                     Toulouse      FR   \n",
       "30                     Montauban                    Montauban      FR   \n",
       "31                      Biarritz                     Biarritz      FR   \n",
       "32                       Bayonne                      Bayonne      FR   \n",
       "33                   La Rochelle                  La Rochelle      FR   \n",
       "\n",
       "                         state        lat       lon  \n",
       "0                     Normandy  48.635954 -1.511460  \n",
       "1                     Brittany  48.649518 -2.026041  \n",
       "2                     Normandy  49.276462 -0.702474  \n",
       "3                     Normandy  49.493898  0.107973  \n",
       "4                     Normandy  49.440459  1.093966  \n",
       "5                Ile-de-France  48.858890  2.320041  \n",
       "6              Hauts-de-France  49.894171  2.295695  \n",
       "7              Hauts-de-France  50.636565  3.063528  \n",
       "8                    Grand Est  48.584614  7.750713  \n",
       "9                    Grand Est  48.249523  7.345492  \n",
       "10                   Grand Est  48.077752  7.357964  \n",
       "11                   Grand Est  48.044797  7.307962  \n",
       "12     Bourgogne-Franche-Comté  47.238022  6.024362  \n",
       "13     Bourgogne-Franche-Comté  47.321581  5.041470  \n",
       "14        Auvergne-Rhône-Alpes  45.899235  6.128885  \n",
       "15        Auvergne-Rhône-Alpes  45.187560  5.735782  \n",
       "16        Auvergne-Rhône-Alpes  45.757814  4.832011  \n",
       "17  Provence-Alpes-Côte d'Azur  43.150697  6.341928  \n",
       "18  Provence-Alpes-Côte d'Azur  43.214036  5.539632  \n",
       "19  Provence-Alpes-Côte d'Azur  43.296174  5.369953  \n",
       "20  Provence-Alpes-Côte d'Azur  43.529842  5.447474  \n",
       "21  Provence-Alpes-Côte d'Azur  43.949249  4.805901  \n",
       "22                   Occitania  44.012128  4.419672  \n",
       "23                   Occitania  43.837425  4.360069  \n",
       "24                   Occitania  43.565823  4.191284  \n",
       "25  Provence-Alpes-Côte d'Azur  43.452277  4.428717  \n",
       "26                   Occitania  42.525050  3.083155  \n",
       "27                   Occitania  43.213036  2.349107  \n",
       "28                   Occitania  42.845802  1.606759  \n",
       "29                   Occitania  43.604462  1.444247  \n",
       "30                   Occitania  44.017584  1.354999  \n",
       "31          Nouvelle-Aquitaine  43.483252 -1.559278  \n",
       "32          Nouvelle-Aquitaine  43.494514 -1.473666  \n",
       "33          Nouvelle-Aquitaine  46.159113 -1.152043  "
      ]
     },
     "execution_count": 7,
     "metadata": {},
     "output_type": "execute_result"
    }
   ],
   "source": [
    "for i,best_city in enumerate(best_cities):\n",
    "    r = requests.get(f\"http://api.openweathermap.org/geo/1.0/direct?q={best_city}&limit=1&appid={Open_Weather_API_Key_Myriam}\")\n",
    "    if r.status_code == 200:\n",
    "        data = r.json()\n",
    "  \n",
    "        df.loc[i,\"name\"] = data[0][\"name\"] #pour s'assurer de la bonne attribution de la ville\n",
    "        df.loc[i,\"country\"] = data[0][\"country\"] #pour vérifier la localisation\n",
    "        df.loc[i,\"state\"] = data[0][\"state\"] # pour vérifier la localisation\n",
    "        df.loc[i,\"lat\"] = data[0][\"lat\"]\n",
    "        df.loc[i,\"lon\"] = data[0][\"lon\"]\n",
    "    \n",
    "    else:\n",
    "        print(f\"Erreur lors de la requête pour {best_cities} :\", r.status_code)\n",
    "\n",
    "df"
   ]
  },
  {
   "cell_type": "code",
   "execution_count": 8,
   "metadata": {},
   "outputs": [
    {
     "data": {
      "text/plain": [
       "<Response [200]>"
      ]
     },
     "execution_count": 8,
     "metadata": {},
     "output_type": "execute_result"
    }
   ],
   "source": [
    "url = \"https://nominatim.openstreetmap.org/search\"\n",
    "\n",
    "headers = {\n",
    "        'User-Agent': 'Mozilla/5.0 (Windows NT 10.0; Win64; x64) AppleWebKit/537.36 (KHTML, like Gecko) Chrome/58.0.3029.110 Safari/537.3'    }\n",
    "\n",
    "lieux = [\"Gorges du Verdon\"]\n",
    "\n",
    "for lieu in lieux:\n",
    "    params = {\n",
    "        'q': lieu,\n",
    "        'format': 'json',\n",
    "        'limit': 1\n",
    "    }\n",
    "\n",
    "response = requests.get(url, params=params, headers=headers)\n",
    "response"
   ]
  },
  {
   "cell_type": "code",
   "execution_count": 9,
   "metadata": {},
   "outputs": [
    {
     "name": "stdout",
     "output_type": "stream",
     "text": [
      "[{'cities': 'Gorges du Verdon', 'name': None, 'country': None, 'state': None, 'lat': '43.7496562', 'lon': '6.3285616'}]\n"
     ]
    }
   ],
   "source": [
    "# pour trouver les coordonnés des Gorges du Verdon, utiisation d'une seconde API (Elle est plus restrictive en termes du nombre de requete, c'est pour celà que la préédente API a été favorisée)\n",
    "def rechercher_coordonnees(lieux):\n",
    "    url = \"https://nominatim.openstreetmap.org/search\"\n",
    "    coordonnees = []\n",
    "\n",
    "    headers = {\n",
    "        'User-Agent': 'Mozilla/5.0 (Windows NT 10.0; Win64; x64) AppleWebKit/537.36 (KHTML, like Gecko) Chrome/58.0.3029.110 Safari/537.3'    }\n",
    "\n",
    "    for lieu in lieux:\n",
    "        params = {\n",
    "            'q': lieu,\n",
    "            'format': 'json',\n",
    "            'limit': 1\n",
    "        }\n",
    "\n",
    "        response = requests.get(url, params=params, headers=headers)\n",
    "\n",
    "        if response.status_code == 200:\n",
    "            data = response.json()\n",
    "            if data:\n",
    "                address = data[0].get('address', {})\n",
    "                coordonnees.append({\n",
    "                    'cities': lieu,\n",
    "                    'name': address.get('city'),\n",
    "                    'country': address.get('country'), #information non trouvée avec l'API\n",
    "                    'state': address.get('state'), #information non trouvée avec l'API\n",
    "                    'lat': data[0].get('lat'),\n",
    "                    'lon': data[0].get('lon'),\n",
    "                })\n",
    "            else:\n",
    "                coordonnees.append({\n",
    "                    'cities': lieu,\n",
    "                    'name': None,\n",
    "                    'country': None,\n",
    "                    'state': None,\n",
    "                    'lat': None,\n",
    "                    'lon': None\n",
    "\n",
    "                })\n",
    "        else:\n",
    "            print(f\"Erreur lors de la requête pour {lieu} :\", response.status_code)\n",
    "            coordonnees.append({\n",
    "                    'cities': lieu,\n",
    "                    'name': None,\n",
    "                    'country': None,\n",
    "                    'state': None,\n",
    "                    'lat': None,\n",
    "                    'lon': None,\n",
    "            })\n",
    "\n",
    "        # Attendre un peu entre les requêtes pour éviter de dépasser les limites\n",
    "        time.sleep(1)\n",
    "\n",
    "    return coordonnees\n",
    "\n",
    "\n",
    "coordonnees = rechercher_coordonnees([\"Gorges du Verdon\"])\n",
    "print(coordonnees)\n"
   ]
  },
  {
   "cell_type": "code",
   "execution_count": 10,
   "metadata": {},
   "outputs": [
    {
     "data": {
      "text/html": [
       "<div>\n",
       "<style scoped>\n",
       "    .dataframe tbody tr th:only-of-type {\n",
       "        vertical-align: middle;\n",
       "    }\n",
       "\n",
       "    .dataframe tbody tr th {\n",
       "        vertical-align: top;\n",
       "    }\n",
       "\n",
       "    .dataframe thead th {\n",
       "        text-align: right;\n",
       "    }\n",
       "</style>\n",
       "<table border=\"1\" class=\"dataframe\">\n",
       "  <thead>\n",
       "    <tr style=\"text-align: right;\">\n",
       "      <th></th>\n",
       "      <th>cities</th>\n",
       "      <th>name</th>\n",
       "      <th>country</th>\n",
       "      <th>state</th>\n",
       "      <th>lat</th>\n",
       "      <th>lon</th>\n",
       "    </tr>\n",
       "  </thead>\n",
       "  <tbody>\n",
       "    <tr>\n",
       "      <th>0</th>\n",
       "      <td>Gorges du Verdon</td>\n",
       "      <td>None</td>\n",
       "      <td>None</td>\n",
       "      <td>None</td>\n",
       "      <td>43.7496562</td>\n",
       "      <td>6.3285616</td>\n",
       "    </tr>\n",
       "  </tbody>\n",
       "</table>\n",
       "</div>"
      ],
      "text/plain": [
       "             cities  name country state         lat        lon\n",
       "0  Gorges du Verdon  None    None  None  43.7496562  6.3285616"
      ]
     },
     "execution_count": 10,
     "metadata": {},
     "output_type": "execute_result"
    }
   ],
   "source": [
    "#réalisation d'un dataframe avec le même colonage que le dataframe initial\n",
    "gdv = pd.DataFrame(coordonnees)\n",
    "gdv"
   ]
  },
  {
   "cell_type": "code",
   "execution_count": 11,
   "metadata": {},
   "outputs": [
    {
     "data": {
      "text/html": [
       "<div>\n",
       "<style scoped>\n",
       "    .dataframe tbody tr th:only-of-type {\n",
       "        vertical-align: middle;\n",
       "    }\n",
       "\n",
       "    .dataframe tbody tr th {\n",
       "        vertical-align: top;\n",
       "    }\n",
       "\n",
       "    .dataframe thead th {\n",
       "        text-align: right;\n",
       "    }\n",
       "</style>\n",
       "<table border=\"1\" class=\"dataframe\">\n",
       "  <thead>\n",
       "    <tr style=\"text-align: right;\">\n",
       "      <th></th>\n",
       "      <th>cities</th>\n",
       "      <th>name</th>\n",
       "      <th>country</th>\n",
       "      <th>state</th>\n",
       "      <th>lat</th>\n",
       "      <th>lon</th>\n",
       "    </tr>\n",
       "  </thead>\n",
       "  <tbody>\n",
       "    <tr>\n",
       "      <th>0</th>\n",
       "      <td>Mont Saint Michel</td>\n",
       "      <td>Mont Saint-Michel</td>\n",
       "      <td>FR</td>\n",
       "      <td>Normandy</td>\n",
       "      <td>48.635954</td>\n",
       "      <td>-1.51146</td>\n",
       "    </tr>\n",
       "    <tr>\n",
       "      <th>1</th>\n",
       "      <td>St Malo</td>\n",
       "      <td>Saint-Malo</td>\n",
       "      <td>FR</td>\n",
       "      <td>Brittany</td>\n",
       "      <td>48.649518</td>\n",
       "      <td>-2.026041</td>\n",
       "    </tr>\n",
       "    <tr>\n",
       "      <th>2</th>\n",
       "      <td>Bayeux</td>\n",
       "      <td>Bayeux</td>\n",
       "      <td>FR</td>\n",
       "      <td>Normandy</td>\n",
       "      <td>49.276462</td>\n",
       "      <td>-0.702474</td>\n",
       "    </tr>\n",
       "    <tr>\n",
       "      <th>3</th>\n",
       "      <td>Le Havre</td>\n",
       "      <td>Le Havre</td>\n",
       "      <td>FR</td>\n",
       "      <td>Normandy</td>\n",
       "      <td>49.493898</td>\n",
       "      <td>0.107973</td>\n",
       "    </tr>\n",
       "    <tr>\n",
       "      <th>4</th>\n",
       "      <td>Rouen</td>\n",
       "      <td>Rouen</td>\n",
       "      <td>FR</td>\n",
       "      <td>Normandy</td>\n",
       "      <td>49.440459</td>\n",
       "      <td>1.093966</td>\n",
       "    </tr>\n",
       "    <tr>\n",
       "      <th>5</th>\n",
       "      <td>Paris</td>\n",
       "      <td>Paris</td>\n",
       "      <td>FR</td>\n",
       "      <td>Ile-de-France</td>\n",
       "      <td>48.85889</td>\n",
       "      <td>2.320041</td>\n",
       "    </tr>\n",
       "    <tr>\n",
       "      <th>6</th>\n",
       "      <td>Amiens</td>\n",
       "      <td>Amiens</td>\n",
       "      <td>FR</td>\n",
       "      <td>Hauts-de-France</td>\n",
       "      <td>49.894171</td>\n",
       "      <td>2.295695</td>\n",
       "    </tr>\n",
       "    <tr>\n",
       "      <th>7</th>\n",
       "      <td>Lille</td>\n",
       "      <td>Lille</td>\n",
       "      <td>FR</td>\n",
       "      <td>Hauts-de-France</td>\n",
       "      <td>50.636565</td>\n",
       "      <td>3.063528</td>\n",
       "    </tr>\n",
       "    <tr>\n",
       "      <th>8</th>\n",
       "      <td>Strasbourg</td>\n",
       "      <td>Strasbourg</td>\n",
       "      <td>FR</td>\n",
       "      <td>Grand Est</td>\n",
       "      <td>48.584614</td>\n",
       "      <td>7.750713</td>\n",
       "    </tr>\n",
       "    <tr>\n",
       "      <th>9</th>\n",
       "      <td>Chateau du Haut Koenigsbourg</td>\n",
       "      <td>Château du Haut-Kœnigsbourg</td>\n",
       "      <td>FR</td>\n",
       "      <td>Grand Est</td>\n",
       "      <td>48.249523</td>\n",
       "      <td>7.345492</td>\n",
       "    </tr>\n",
       "    <tr>\n",
       "      <th>10</th>\n",
       "      <td>Colmar</td>\n",
       "      <td>Colmar</td>\n",
       "      <td>FR</td>\n",
       "      <td>Grand Est</td>\n",
       "      <td>48.077752</td>\n",
       "      <td>7.357964</td>\n",
       "    </tr>\n",
       "    <tr>\n",
       "      <th>11</th>\n",
       "      <td>Eguisheim</td>\n",
       "      <td>Eguisheim</td>\n",
       "      <td>FR</td>\n",
       "      <td>Grand Est</td>\n",
       "      <td>48.044797</td>\n",
       "      <td>7.307962</td>\n",
       "    </tr>\n",
       "    <tr>\n",
       "      <th>12</th>\n",
       "      <td>Besancon</td>\n",
       "      <td>Besançon</td>\n",
       "      <td>FR</td>\n",
       "      <td>Bourgogne-Franche-Comté</td>\n",
       "      <td>47.238022</td>\n",
       "      <td>6.024362</td>\n",
       "    </tr>\n",
       "    <tr>\n",
       "      <th>13</th>\n",
       "      <td>Dijon</td>\n",
       "      <td>Dijon</td>\n",
       "      <td>FR</td>\n",
       "      <td>Bourgogne-Franche-Comté</td>\n",
       "      <td>47.321581</td>\n",
       "      <td>5.04147</td>\n",
       "    </tr>\n",
       "    <tr>\n",
       "      <th>14</th>\n",
       "      <td>Annecy</td>\n",
       "      <td>Annecy</td>\n",
       "      <td>FR</td>\n",
       "      <td>Auvergne-Rhône-Alpes</td>\n",
       "      <td>45.899235</td>\n",
       "      <td>6.128885</td>\n",
       "    </tr>\n",
       "    <tr>\n",
       "      <th>15</th>\n",
       "      <td>Grenoble</td>\n",
       "      <td>Grenoble</td>\n",
       "      <td>FR</td>\n",
       "      <td>Auvergne-Rhône-Alpes</td>\n",
       "      <td>45.18756</td>\n",
       "      <td>5.735782</td>\n",
       "    </tr>\n",
       "    <tr>\n",
       "      <th>16</th>\n",
       "      <td>Lyon</td>\n",
       "      <td>Lyon</td>\n",
       "      <td>FR</td>\n",
       "      <td>Auvergne-Rhône-Alpes</td>\n",
       "      <td>45.757814</td>\n",
       "      <td>4.832011</td>\n",
       "    </tr>\n",
       "    <tr>\n",
       "      <th>17</th>\n",
       "      <td>Bormes les Mimosas</td>\n",
       "      <td>Bormes-les-Mimosas</td>\n",
       "      <td>FR</td>\n",
       "      <td>Provence-Alpes-Côte d'Azur</td>\n",
       "      <td>43.150697</td>\n",
       "      <td>6.341928</td>\n",
       "    </tr>\n",
       "    <tr>\n",
       "      <th>18</th>\n",
       "      <td>Cassis</td>\n",
       "      <td>Cassis</td>\n",
       "      <td>FR</td>\n",
       "      <td>Provence-Alpes-Côte d'Azur</td>\n",
       "      <td>43.214036</td>\n",
       "      <td>5.539632</td>\n",
       "    </tr>\n",
       "    <tr>\n",
       "      <th>19</th>\n",
       "      <td>Marseille</td>\n",
       "      <td>Marseille</td>\n",
       "      <td>FR</td>\n",
       "      <td>Provence-Alpes-Côte d'Azur</td>\n",
       "      <td>43.296174</td>\n",
       "      <td>5.369953</td>\n",
       "    </tr>\n",
       "    <tr>\n",
       "      <th>20</th>\n",
       "      <td>Aix en Provence</td>\n",
       "      <td>Aix-en-Provence</td>\n",
       "      <td>FR</td>\n",
       "      <td>Provence-Alpes-Côte d'Azur</td>\n",
       "      <td>43.529842</td>\n",
       "      <td>5.447474</td>\n",
       "    </tr>\n",
       "    <tr>\n",
       "      <th>21</th>\n",
       "      <td>Avignon</td>\n",
       "      <td>Avignon</td>\n",
       "      <td>FR</td>\n",
       "      <td>Provence-Alpes-Côte d'Azur</td>\n",
       "      <td>43.949249</td>\n",
       "      <td>4.805901</td>\n",
       "    </tr>\n",
       "    <tr>\n",
       "      <th>22</th>\n",
       "      <td>Uzes</td>\n",
       "      <td>Uzès</td>\n",
       "      <td>FR</td>\n",
       "      <td>Occitania</td>\n",
       "      <td>44.012128</td>\n",
       "      <td>4.419672</td>\n",
       "    </tr>\n",
       "    <tr>\n",
       "      <th>23</th>\n",
       "      <td>Nimes</td>\n",
       "      <td>Nimes</td>\n",
       "      <td>FR</td>\n",
       "      <td>Occitania</td>\n",
       "      <td>43.837425</td>\n",
       "      <td>4.360069</td>\n",
       "    </tr>\n",
       "    <tr>\n",
       "      <th>24</th>\n",
       "      <td>Aigues Mortes</td>\n",
       "      <td>Aigues-Mortes</td>\n",
       "      <td>FR</td>\n",
       "      <td>Occitania</td>\n",
       "      <td>43.565823</td>\n",
       "      <td>4.191284</td>\n",
       "    </tr>\n",
       "    <tr>\n",
       "      <th>25</th>\n",
       "      <td>Saintes Maries de la mer</td>\n",
       "      <td>Saintes-Maries-de-la-Mer</td>\n",
       "      <td>FR</td>\n",
       "      <td>Provence-Alpes-Côte d'Azur</td>\n",
       "      <td>43.452277</td>\n",
       "      <td>4.428717</td>\n",
       "    </tr>\n",
       "    <tr>\n",
       "      <th>26</th>\n",
       "      <td>Collioure</td>\n",
       "      <td>Collioure</td>\n",
       "      <td>FR</td>\n",
       "      <td>Occitania</td>\n",
       "      <td>42.52505</td>\n",
       "      <td>3.083155</td>\n",
       "    </tr>\n",
       "    <tr>\n",
       "      <th>27</th>\n",
       "      <td>Carcassonne</td>\n",
       "      <td>Carcassonne</td>\n",
       "      <td>FR</td>\n",
       "      <td>Occitania</td>\n",
       "      <td>43.213036</td>\n",
       "      <td>2.349107</td>\n",
       "    </tr>\n",
       "    <tr>\n",
       "      <th>28</th>\n",
       "      <td>Ariege</td>\n",
       "      <td>Tarascon-sur-Ariège</td>\n",
       "      <td>FR</td>\n",
       "      <td>Occitania</td>\n",
       "      <td>42.845802</td>\n",
       "      <td>1.606759</td>\n",
       "    </tr>\n",
       "    <tr>\n",
       "      <th>29</th>\n",
       "      <td>Toulouse</td>\n",
       "      <td>Toulouse</td>\n",
       "      <td>FR</td>\n",
       "      <td>Occitania</td>\n",
       "      <td>43.604462</td>\n",
       "      <td>1.444247</td>\n",
       "    </tr>\n",
       "    <tr>\n",
       "      <th>30</th>\n",
       "      <td>Montauban</td>\n",
       "      <td>Montauban</td>\n",
       "      <td>FR</td>\n",
       "      <td>Occitania</td>\n",
       "      <td>44.017584</td>\n",
       "      <td>1.354999</td>\n",
       "    </tr>\n",
       "    <tr>\n",
       "      <th>31</th>\n",
       "      <td>Biarritz</td>\n",
       "      <td>Biarritz</td>\n",
       "      <td>FR</td>\n",
       "      <td>Nouvelle-Aquitaine</td>\n",
       "      <td>43.483252</td>\n",
       "      <td>-1.559278</td>\n",
       "    </tr>\n",
       "    <tr>\n",
       "      <th>32</th>\n",
       "      <td>Bayonne</td>\n",
       "      <td>Bayonne</td>\n",
       "      <td>FR</td>\n",
       "      <td>Nouvelle-Aquitaine</td>\n",
       "      <td>43.494514</td>\n",
       "      <td>-1.473666</td>\n",
       "    </tr>\n",
       "    <tr>\n",
       "      <th>33</th>\n",
       "      <td>La Rochelle</td>\n",
       "      <td>La Rochelle</td>\n",
       "      <td>FR</td>\n",
       "      <td>Nouvelle-Aquitaine</td>\n",
       "      <td>46.159113</td>\n",
       "      <td>-1.152043</td>\n",
       "    </tr>\n",
       "    <tr>\n",
       "      <th>34</th>\n",
       "      <td>Gorges du Verdon</td>\n",
       "      <td>None</td>\n",
       "      <td>None</td>\n",
       "      <td>None</td>\n",
       "      <td>43.7496562</td>\n",
       "      <td>6.3285616</td>\n",
       "    </tr>\n",
       "  </tbody>\n",
       "</table>\n",
       "</div>"
      ],
      "text/plain": [
       "                          cities                         name country  \\\n",
       "0              Mont Saint Michel            Mont Saint-Michel      FR   \n",
       "1                        St Malo                   Saint-Malo      FR   \n",
       "2                         Bayeux                       Bayeux      FR   \n",
       "3                       Le Havre                     Le Havre      FR   \n",
       "4                          Rouen                        Rouen      FR   \n",
       "5                          Paris                        Paris      FR   \n",
       "6                         Amiens                       Amiens      FR   \n",
       "7                          Lille                        Lille      FR   \n",
       "8                     Strasbourg                   Strasbourg      FR   \n",
       "9   Chateau du Haut Koenigsbourg  Château du Haut-Kœnigsbourg      FR   \n",
       "10                        Colmar                       Colmar      FR   \n",
       "11                     Eguisheim                    Eguisheim      FR   \n",
       "12                      Besancon                     Besançon      FR   \n",
       "13                         Dijon                        Dijon      FR   \n",
       "14                        Annecy                       Annecy      FR   \n",
       "15                      Grenoble                     Grenoble      FR   \n",
       "16                          Lyon                         Lyon      FR   \n",
       "17            Bormes les Mimosas           Bormes-les-Mimosas      FR   \n",
       "18                        Cassis                       Cassis      FR   \n",
       "19                     Marseille                    Marseille      FR   \n",
       "20               Aix en Provence              Aix-en-Provence      FR   \n",
       "21                       Avignon                      Avignon      FR   \n",
       "22                          Uzes                         Uzès      FR   \n",
       "23                         Nimes                        Nimes      FR   \n",
       "24                 Aigues Mortes                Aigues-Mortes      FR   \n",
       "25      Saintes Maries de la mer     Saintes-Maries-de-la-Mer      FR   \n",
       "26                     Collioure                    Collioure      FR   \n",
       "27                   Carcassonne                  Carcassonne      FR   \n",
       "28                        Ariege          Tarascon-sur-Ariège      FR   \n",
       "29                      Toulouse                     Toulouse      FR   \n",
       "30                     Montauban                    Montauban      FR   \n",
       "31                      Biarritz                     Biarritz      FR   \n",
       "32                       Bayonne                      Bayonne      FR   \n",
       "33                   La Rochelle                  La Rochelle      FR   \n",
       "34              Gorges du Verdon                         None    None   \n",
       "\n",
       "                         state         lat        lon  \n",
       "0                     Normandy   48.635954   -1.51146  \n",
       "1                     Brittany   48.649518  -2.026041  \n",
       "2                     Normandy   49.276462  -0.702474  \n",
       "3                     Normandy   49.493898   0.107973  \n",
       "4                     Normandy   49.440459   1.093966  \n",
       "5                Ile-de-France    48.85889   2.320041  \n",
       "6              Hauts-de-France   49.894171   2.295695  \n",
       "7              Hauts-de-France   50.636565   3.063528  \n",
       "8                    Grand Est   48.584614   7.750713  \n",
       "9                    Grand Est   48.249523   7.345492  \n",
       "10                   Grand Est   48.077752   7.357964  \n",
       "11                   Grand Est   48.044797   7.307962  \n",
       "12     Bourgogne-Franche-Comté   47.238022   6.024362  \n",
       "13     Bourgogne-Franche-Comté   47.321581    5.04147  \n",
       "14        Auvergne-Rhône-Alpes   45.899235   6.128885  \n",
       "15        Auvergne-Rhône-Alpes    45.18756   5.735782  \n",
       "16        Auvergne-Rhône-Alpes   45.757814   4.832011  \n",
       "17  Provence-Alpes-Côte d'Azur   43.150697   6.341928  \n",
       "18  Provence-Alpes-Côte d'Azur   43.214036   5.539632  \n",
       "19  Provence-Alpes-Côte d'Azur   43.296174   5.369953  \n",
       "20  Provence-Alpes-Côte d'Azur   43.529842   5.447474  \n",
       "21  Provence-Alpes-Côte d'Azur   43.949249   4.805901  \n",
       "22                   Occitania   44.012128   4.419672  \n",
       "23                   Occitania   43.837425   4.360069  \n",
       "24                   Occitania   43.565823   4.191284  \n",
       "25  Provence-Alpes-Côte d'Azur   43.452277   4.428717  \n",
       "26                   Occitania    42.52505   3.083155  \n",
       "27                   Occitania   43.213036   2.349107  \n",
       "28                   Occitania   42.845802   1.606759  \n",
       "29                   Occitania   43.604462   1.444247  \n",
       "30                   Occitania   44.017584   1.354999  \n",
       "31          Nouvelle-Aquitaine   43.483252  -1.559278  \n",
       "32          Nouvelle-Aquitaine   43.494514  -1.473666  \n",
       "33          Nouvelle-Aquitaine   46.159113  -1.152043  \n",
       "34                        None  43.7496562  6.3285616  "
      ]
     },
     "execution_count": 11,
     "metadata": {},
     "output_type": "execute_result"
    }
   ],
   "source": [
    "#Fusion des deux dataframes\n",
    "df_merged = pd.concat([df, gdv], ignore_index=True)\n",
    "df_merged"
   ]
  },
  {
   "cell_type": "code",
   "execution_count": 12,
   "metadata": {},
   "outputs": [
    {
     "data": {
      "text/html": [
       "<div style=\"width:100%;\"><div style=\"position:relative;width:100%;height:0;padding-bottom:60%;\"><span style=\"color:#565656\">Make this Notebook Trusted to load map: File -> Trust Notebook</span><iframe srcdoc=\"&lt;!DOCTYPE html&gt;\n",
       "&lt;html&gt;\n",
       "&lt;head&gt;\n",
       "    \n",
       "    &lt;meta http-equiv=&quot;content-type&quot; content=&quot;text/html; charset=UTF-8&quot; /&gt;\n",
       "    \n",
       "        &lt;script&gt;\n",
       "            L_NO_TOUCH = false;\n",
       "            L_DISABLE_3D = false;\n",
       "        &lt;/script&gt;\n",
       "    \n",
       "    &lt;style&gt;html, body {width: 100%;height: 100%;margin: 0;padding: 0;}&lt;/style&gt;\n",
       "    &lt;style&gt;#map {position:absolute;top:0;bottom:0;right:0;left:0;}&lt;/style&gt;\n",
       "    &lt;script src=&quot;https://cdn.jsdelivr.net/npm/leaflet@1.9.3/dist/leaflet.js&quot;&gt;&lt;/script&gt;\n",
       "    &lt;script src=&quot;https://code.jquery.com/jquery-3.7.1.min.js&quot;&gt;&lt;/script&gt;\n",
       "    &lt;script src=&quot;https://cdn.jsdelivr.net/npm/bootstrap@5.2.2/dist/js/bootstrap.bundle.min.js&quot;&gt;&lt;/script&gt;\n",
       "    &lt;script src=&quot;https://cdnjs.cloudflare.com/ajax/libs/Leaflet.awesome-markers/2.0.2/leaflet.awesome-markers.js&quot;&gt;&lt;/script&gt;\n",
       "    &lt;link rel=&quot;stylesheet&quot; href=&quot;https://cdn.jsdelivr.net/npm/leaflet@1.9.3/dist/leaflet.css&quot;/&gt;\n",
       "    &lt;link rel=&quot;stylesheet&quot; href=&quot;https://cdn.jsdelivr.net/npm/bootstrap@5.2.2/dist/css/bootstrap.min.css&quot;/&gt;\n",
       "    &lt;link rel=&quot;stylesheet&quot; href=&quot;https://netdna.bootstrapcdn.com/bootstrap/3.0.0/css/bootstrap-glyphicons.css&quot;/&gt;\n",
       "    &lt;link rel=&quot;stylesheet&quot; href=&quot;https://cdn.jsdelivr.net/npm/@fortawesome/fontawesome-free@6.2.0/css/all.min.css&quot;/&gt;\n",
       "    &lt;link rel=&quot;stylesheet&quot; href=&quot;https://cdnjs.cloudflare.com/ajax/libs/Leaflet.awesome-markers/2.0.2/leaflet.awesome-markers.css&quot;/&gt;\n",
       "    &lt;link rel=&quot;stylesheet&quot; href=&quot;https://cdn.jsdelivr.net/gh/python-visualization/folium/folium/templates/leaflet.awesome.rotate.min.css&quot;/&gt;\n",
       "    \n",
       "            &lt;meta name=&quot;viewport&quot; content=&quot;width=device-width,\n",
       "                initial-scale=1.0, maximum-scale=1.0, user-scalable=no&quot; /&gt;\n",
       "            &lt;style&gt;\n",
       "                #map_ff6dd746367eaa80e9bf7960058cdf81 {\n",
       "                    position: relative;\n",
       "                    width: 100.0%;\n",
       "                    height: 100.0%;\n",
       "                    left: 0.0%;\n",
       "                    top: 0.0%;\n",
       "                }\n",
       "                .leaflet-container { font-size: 1rem; }\n",
       "            &lt;/style&gt;\n",
       "        \n",
       "&lt;/head&gt;\n",
       "&lt;body&gt;\n",
       "    \n",
       "    \n",
       "            &lt;div class=&quot;folium-map&quot; id=&quot;map_ff6dd746367eaa80e9bf7960058cdf81&quot; &gt;&lt;/div&gt;\n",
       "        \n",
       "&lt;/body&gt;\n",
       "&lt;script&gt;\n",
       "    \n",
       "    \n",
       "            var map_ff6dd746367eaa80e9bf7960058cdf81 = L.map(\n",
       "                &quot;map_ff6dd746367eaa80e9bf7960058cdf81&quot;,\n",
       "                {\n",
       "                    center: [46.603354, 1.888334],\n",
       "                    crs: L.CRS.EPSG3857,\n",
       "                    ...{\n",
       "  &quot;zoom&quot;: 6,\n",
       "  &quot;zoomControl&quot;: true,\n",
       "  &quot;preferCanvas&quot;: false,\n",
       "}\n",
       "\n",
       "                }\n",
       "            );\n",
       "\n",
       "            \n",
       "\n",
       "        \n",
       "    \n",
       "            var tile_layer_a90a543a855d0afa9010ecf4b2574452 = L.tileLayer(\n",
       "                &quot;https://tile.openstreetmap.org/{z}/{x}/{y}.png&quot;,\n",
       "                {\n",
       "  &quot;minZoom&quot;: 0,\n",
       "  &quot;maxZoom&quot;: 19,\n",
       "  &quot;maxNativeZoom&quot;: 19,\n",
       "  &quot;noWrap&quot;: false,\n",
       "  &quot;attribution&quot;: &quot;\\u0026copy; \\u003ca href=\\&quot;https://www.openstreetmap.org/copyright\\&quot;\\u003eOpenStreetMap\\u003c/a\\u003e contributors&quot;,\n",
       "  &quot;subdomains&quot;: &quot;abc&quot;,\n",
       "  &quot;detectRetina&quot;: false,\n",
       "  &quot;tms&quot;: false,\n",
       "  &quot;opacity&quot;: 1,\n",
       "}\n",
       "\n",
       "            );\n",
       "        \n",
       "    \n",
       "            tile_layer_a90a543a855d0afa9010ecf4b2574452.addTo(map_ff6dd746367eaa80e9bf7960058cdf81);\n",
       "        \n",
       "    \n",
       "            var marker_69d566470c70c513ad81f16ae06aff7a = L.marker(\n",
       "                [48.6359541, -1.511459954959514],\n",
       "                {\n",
       "}\n",
       "            ).addTo(map_ff6dd746367eaa80e9bf7960058cdf81);\n",
       "        \n",
       "    \n",
       "        var custom_icon_8fb3c55b4ab31bd456bdc109fe4d1239 = L.icon({\n",
       "  &quot;iconUrl&quot;: &quot;https://images.icon-icons.com/3565/PNG/512/tree_flower_plant_nature_landscape_icon_225325.png&quot;,\n",
       "  &quot;iconSize&quot;: [40, 40],\n",
       "});\n",
       "        marker_69d566470c70c513ad81f16ae06aff7a.setIcon(custom_icon_8fb3c55b4ab31bd456bdc109fe4d1239);\n",
       "        \n",
       "    \n",
       "        var popup_9f9522b9ea405ce02de3de2bd6fb3e2c = L.popup({\n",
       "  &quot;maxWidth&quot;: &quot;100%&quot;,\n",
       "});\n",
       "\n",
       "        \n",
       "            \n",
       "                var html_ce01f64556d12d89191781d6e910e89f = $(`&lt;div id=&quot;html_ce01f64556d12d89191781d6e910e89f&quot; style=&quot;width: 100.0%; height: 100.0%;&quot;&gt;Mont Saint Michel&lt;/div&gt;`)[0];\n",
       "                popup_9f9522b9ea405ce02de3de2bd6fb3e2c.setContent(html_ce01f64556d12d89191781d6e910e89f);\n",
       "            \n",
       "        \n",
       "\n",
       "        marker_69d566470c70c513ad81f16ae06aff7a.bindPopup(popup_9f9522b9ea405ce02de3de2bd6fb3e2c)\n",
       "        ;\n",
       "\n",
       "        \n",
       "    \n",
       "    \n",
       "                marker_69d566470c70c513ad81f16ae06aff7a.setIcon(custom_icon_8fb3c55b4ab31bd456bdc109fe4d1239);\n",
       "            \n",
       "    \n",
       "            var marker_297d0678d9dc840a873c35b508edd883 = L.marker(\n",
       "                [48.649518, -2.0260409],\n",
       "                {\n",
       "}\n",
       "            ).addTo(map_ff6dd746367eaa80e9bf7960058cdf81);\n",
       "        \n",
       "    \n",
       "        var custom_icon_29e1505a0d8c696d645db2190c207e25 = L.icon({\n",
       "  &quot;iconUrl&quot;: &quot;https://images.icon-icons.com/3565/PNG/512/tree_flower_plant_nature_landscape_icon_225325.png&quot;,\n",
       "  &quot;iconSize&quot;: [40, 40],\n",
       "});\n",
       "        marker_297d0678d9dc840a873c35b508edd883.setIcon(custom_icon_29e1505a0d8c696d645db2190c207e25);\n",
       "        \n",
       "    \n",
       "        var popup_cf69626430d97c3e0230f5efdd4bd693 = L.popup({\n",
       "  &quot;maxWidth&quot;: &quot;100%&quot;,\n",
       "});\n",
       "\n",
       "        \n",
       "            \n",
       "                var html_312ccf7e4619b3f87396eb5998bb7664 = $(`&lt;div id=&quot;html_312ccf7e4619b3f87396eb5998bb7664&quot; style=&quot;width: 100.0%; height: 100.0%;&quot;&gt;St Malo&lt;/div&gt;`)[0];\n",
       "                popup_cf69626430d97c3e0230f5efdd4bd693.setContent(html_312ccf7e4619b3f87396eb5998bb7664);\n",
       "            \n",
       "        \n",
       "\n",
       "        marker_297d0678d9dc840a873c35b508edd883.bindPopup(popup_cf69626430d97c3e0230f5efdd4bd693)\n",
       "        ;\n",
       "\n",
       "        \n",
       "    \n",
       "    \n",
       "                marker_297d0678d9dc840a873c35b508edd883.setIcon(custom_icon_29e1505a0d8c696d645db2190c207e25);\n",
       "            \n",
       "    \n",
       "            var marker_dbaed1997ece3ac4fffa5582bbd9ed35 = L.marker(\n",
       "                [49.2764624, -0.7024738],\n",
       "                {\n",
       "}\n",
       "            ).addTo(map_ff6dd746367eaa80e9bf7960058cdf81);\n",
       "        \n",
       "    \n",
       "        var custom_icon_e90f206f131ec0327d56d517ef6a3323 = L.icon({\n",
       "  &quot;iconUrl&quot;: &quot;https://images.icon-icons.com/3565/PNG/512/tree_flower_plant_nature_landscape_icon_225325.png&quot;,\n",
       "  &quot;iconSize&quot;: [40, 40],\n",
       "});\n",
       "        marker_dbaed1997ece3ac4fffa5582bbd9ed35.setIcon(custom_icon_e90f206f131ec0327d56d517ef6a3323);\n",
       "        \n",
       "    \n",
       "        var popup_3d150f7899717659a37a6075237950ae = L.popup({\n",
       "  &quot;maxWidth&quot;: &quot;100%&quot;,\n",
       "});\n",
       "\n",
       "        \n",
       "            \n",
       "                var html_efa0861416819bdf6644eba1e3a2c7bc = $(`&lt;div id=&quot;html_efa0861416819bdf6644eba1e3a2c7bc&quot; style=&quot;width: 100.0%; height: 100.0%;&quot;&gt;Bayeux&lt;/div&gt;`)[0];\n",
       "                popup_3d150f7899717659a37a6075237950ae.setContent(html_efa0861416819bdf6644eba1e3a2c7bc);\n",
       "            \n",
       "        \n",
       "\n",
       "        marker_dbaed1997ece3ac4fffa5582bbd9ed35.bindPopup(popup_3d150f7899717659a37a6075237950ae)\n",
       "        ;\n",
       "\n",
       "        \n",
       "    \n",
       "    \n",
       "                marker_dbaed1997ece3ac4fffa5582bbd9ed35.setIcon(custom_icon_e90f206f131ec0327d56d517ef6a3323);\n",
       "            \n",
       "    \n",
       "            var marker_5805aaf6cf920bf3624458da8ff7bbc9 = L.marker(\n",
       "                [49.4938975, 0.1079732],\n",
       "                {\n",
       "}\n",
       "            ).addTo(map_ff6dd746367eaa80e9bf7960058cdf81);\n",
       "        \n",
       "    \n",
       "        var custom_icon_4a7da5f37cc8263ee0f409caedfa446a = L.icon({\n",
       "  &quot;iconUrl&quot;: &quot;https://images.icon-icons.com/3565/PNG/512/tree_flower_plant_nature_landscape_icon_225325.png&quot;,\n",
       "  &quot;iconSize&quot;: [40, 40],\n",
       "});\n",
       "        marker_5805aaf6cf920bf3624458da8ff7bbc9.setIcon(custom_icon_4a7da5f37cc8263ee0f409caedfa446a);\n",
       "        \n",
       "    \n",
       "        var popup_d2f9f0342a3707a3473d81b4db857b04 = L.popup({\n",
       "  &quot;maxWidth&quot;: &quot;100%&quot;,\n",
       "});\n",
       "\n",
       "        \n",
       "            \n",
       "                var html_089944ad4cd310ce2bc099dabde41823 = $(`&lt;div id=&quot;html_089944ad4cd310ce2bc099dabde41823&quot; style=&quot;width: 100.0%; height: 100.0%;&quot;&gt;Le Havre&lt;/div&gt;`)[0];\n",
       "                popup_d2f9f0342a3707a3473d81b4db857b04.setContent(html_089944ad4cd310ce2bc099dabde41823);\n",
       "            \n",
       "        \n",
       "\n",
       "        marker_5805aaf6cf920bf3624458da8ff7bbc9.bindPopup(popup_d2f9f0342a3707a3473d81b4db857b04)\n",
       "        ;\n",
       "\n",
       "        \n",
       "    \n",
       "    \n",
       "                marker_5805aaf6cf920bf3624458da8ff7bbc9.setIcon(custom_icon_4a7da5f37cc8263ee0f409caedfa446a);\n",
       "            \n",
       "    \n",
       "            var marker_2449b375969f055730c9a71f6ae24fe0 = L.marker(\n",
       "                [49.4404591, 1.0939658],\n",
       "                {\n",
       "}\n",
       "            ).addTo(map_ff6dd746367eaa80e9bf7960058cdf81);\n",
       "        \n",
       "    \n",
       "        var custom_icon_ba61264f233e9a9b1c1c22e61d29f37f = L.icon({\n",
       "  &quot;iconUrl&quot;: &quot;https://images.icon-icons.com/3565/PNG/512/tree_flower_plant_nature_landscape_icon_225325.png&quot;,\n",
       "  &quot;iconSize&quot;: [40, 40],\n",
       "});\n",
       "        marker_2449b375969f055730c9a71f6ae24fe0.setIcon(custom_icon_ba61264f233e9a9b1c1c22e61d29f37f);\n",
       "        \n",
       "    \n",
       "        var popup_d7cf77a22e7bdf5428fa922bb4afb7dd = L.popup({\n",
       "  &quot;maxWidth&quot;: &quot;100%&quot;,\n",
       "});\n",
       "\n",
       "        \n",
       "            \n",
       "                var html_aa4b369ecd981f0462711eb8c1ebc5f9 = $(`&lt;div id=&quot;html_aa4b369ecd981f0462711eb8c1ebc5f9&quot; style=&quot;width: 100.0%; height: 100.0%;&quot;&gt;Rouen&lt;/div&gt;`)[0];\n",
       "                popup_d7cf77a22e7bdf5428fa922bb4afb7dd.setContent(html_aa4b369ecd981f0462711eb8c1ebc5f9);\n",
       "            \n",
       "        \n",
       "\n",
       "        marker_2449b375969f055730c9a71f6ae24fe0.bindPopup(popup_d7cf77a22e7bdf5428fa922bb4afb7dd)\n",
       "        ;\n",
       "\n",
       "        \n",
       "    \n",
       "    \n",
       "                marker_2449b375969f055730c9a71f6ae24fe0.setIcon(custom_icon_ba61264f233e9a9b1c1c22e61d29f37f);\n",
       "            \n",
       "    \n",
       "            var marker_2f46f66506dbdeb641051bfe7840c8e3 = L.marker(\n",
       "                [48.8588897, 2.3200410217200766],\n",
       "                {\n",
       "}\n",
       "            ).addTo(map_ff6dd746367eaa80e9bf7960058cdf81);\n",
       "        \n",
       "    \n",
       "        var custom_icon_864617478b46a21faa8a8768fc0109a3 = L.icon({\n",
       "  &quot;iconUrl&quot;: &quot;https://images.icon-icons.com/3565/PNG/512/tree_flower_plant_nature_landscape_icon_225325.png&quot;,\n",
       "  &quot;iconSize&quot;: [40, 40],\n",
       "});\n",
       "        marker_2f46f66506dbdeb641051bfe7840c8e3.setIcon(custom_icon_864617478b46a21faa8a8768fc0109a3);\n",
       "        \n",
       "    \n",
       "        var popup_4786d4b0e4e9fb23698fc0746504c926 = L.popup({\n",
       "  &quot;maxWidth&quot;: &quot;100%&quot;,\n",
       "});\n",
       "\n",
       "        \n",
       "            \n",
       "                var html_eda0c7cd668514a79e69a71eb31441a3 = $(`&lt;div id=&quot;html_eda0c7cd668514a79e69a71eb31441a3&quot; style=&quot;width: 100.0%; height: 100.0%;&quot;&gt;Paris&lt;/div&gt;`)[0];\n",
       "                popup_4786d4b0e4e9fb23698fc0746504c926.setContent(html_eda0c7cd668514a79e69a71eb31441a3);\n",
       "            \n",
       "        \n",
       "\n",
       "        marker_2f46f66506dbdeb641051bfe7840c8e3.bindPopup(popup_4786d4b0e4e9fb23698fc0746504c926)\n",
       "        ;\n",
       "\n",
       "        \n",
       "    \n",
       "    \n",
       "                marker_2f46f66506dbdeb641051bfe7840c8e3.setIcon(custom_icon_864617478b46a21faa8a8768fc0109a3);\n",
       "            \n",
       "    \n",
       "            var marker_85c48e799646fd76f0a34e5ae2da6d82 = L.marker(\n",
       "                [49.8941708, 2.2956951],\n",
       "                {\n",
       "}\n",
       "            ).addTo(map_ff6dd746367eaa80e9bf7960058cdf81);\n",
       "        \n",
       "    \n",
       "        var custom_icon_933b102b49a4591a19125af864549adc = L.icon({\n",
       "  &quot;iconUrl&quot;: &quot;https://images.icon-icons.com/3565/PNG/512/tree_flower_plant_nature_landscape_icon_225325.png&quot;,\n",
       "  &quot;iconSize&quot;: [40, 40],\n",
       "});\n",
       "        marker_85c48e799646fd76f0a34e5ae2da6d82.setIcon(custom_icon_933b102b49a4591a19125af864549adc);\n",
       "        \n",
       "    \n",
       "        var popup_e7e43c6f0fc80af840f7885cd684f79f = L.popup({\n",
       "  &quot;maxWidth&quot;: &quot;100%&quot;,\n",
       "});\n",
       "\n",
       "        \n",
       "            \n",
       "                var html_ee4dd645565e7194bbbea3ac9fca1a00 = $(`&lt;div id=&quot;html_ee4dd645565e7194bbbea3ac9fca1a00&quot; style=&quot;width: 100.0%; height: 100.0%;&quot;&gt;Amiens&lt;/div&gt;`)[0];\n",
       "                popup_e7e43c6f0fc80af840f7885cd684f79f.setContent(html_ee4dd645565e7194bbbea3ac9fca1a00);\n",
       "            \n",
       "        \n",
       "\n",
       "        marker_85c48e799646fd76f0a34e5ae2da6d82.bindPopup(popup_e7e43c6f0fc80af840f7885cd684f79f)\n",
       "        ;\n",
       "\n",
       "        \n",
       "    \n",
       "    \n",
       "                marker_85c48e799646fd76f0a34e5ae2da6d82.setIcon(custom_icon_933b102b49a4591a19125af864549adc);\n",
       "            \n",
       "    \n",
       "            var marker_0f592c774da17e3bb7937901b46a75d9 = L.marker(\n",
       "                [50.6365654, 3.0635282],\n",
       "                {\n",
       "}\n",
       "            ).addTo(map_ff6dd746367eaa80e9bf7960058cdf81);\n",
       "        \n",
       "    \n",
       "        var custom_icon_a31a184dee59c40ea5ec8b758485f5f6 = L.icon({\n",
       "  &quot;iconUrl&quot;: &quot;https://images.icon-icons.com/3565/PNG/512/tree_flower_plant_nature_landscape_icon_225325.png&quot;,\n",
       "  &quot;iconSize&quot;: [40, 40],\n",
       "});\n",
       "        marker_0f592c774da17e3bb7937901b46a75d9.setIcon(custom_icon_a31a184dee59c40ea5ec8b758485f5f6);\n",
       "        \n",
       "    \n",
       "        var popup_0164f42cbbb021616e345ed11e4170fb = L.popup({\n",
       "  &quot;maxWidth&quot;: &quot;100%&quot;,\n",
       "});\n",
       "\n",
       "        \n",
       "            \n",
       "                var html_f79d43a1e55bae3312471bbe0e797536 = $(`&lt;div id=&quot;html_f79d43a1e55bae3312471bbe0e797536&quot; style=&quot;width: 100.0%; height: 100.0%;&quot;&gt;Lille&lt;/div&gt;`)[0];\n",
       "                popup_0164f42cbbb021616e345ed11e4170fb.setContent(html_f79d43a1e55bae3312471bbe0e797536);\n",
       "            \n",
       "        \n",
       "\n",
       "        marker_0f592c774da17e3bb7937901b46a75d9.bindPopup(popup_0164f42cbbb021616e345ed11e4170fb)\n",
       "        ;\n",
       "\n",
       "        \n",
       "    \n",
       "    \n",
       "                marker_0f592c774da17e3bb7937901b46a75d9.setIcon(custom_icon_a31a184dee59c40ea5ec8b758485f5f6);\n",
       "            \n",
       "    \n",
       "            var marker_f7be0ec7034df62fc88ba7f5cb747c30 = L.marker(\n",
       "                [48.584614, 7.7507127],\n",
       "                {\n",
       "}\n",
       "            ).addTo(map_ff6dd746367eaa80e9bf7960058cdf81);\n",
       "        \n",
       "    \n",
       "        var custom_icon_3fa8af74dda321c05914883bcb26dfda = L.icon({\n",
       "  &quot;iconUrl&quot;: &quot;https://images.icon-icons.com/3565/PNG/512/tree_flower_plant_nature_landscape_icon_225325.png&quot;,\n",
       "  &quot;iconSize&quot;: [40, 40],\n",
       "});\n",
       "        marker_f7be0ec7034df62fc88ba7f5cb747c30.setIcon(custom_icon_3fa8af74dda321c05914883bcb26dfda);\n",
       "        \n",
       "    \n",
       "        var popup_594b49df9b5adcbe1a64f58ca13e3c0d = L.popup({\n",
       "  &quot;maxWidth&quot;: &quot;100%&quot;,\n",
       "});\n",
       "\n",
       "        \n",
       "            \n",
       "                var html_2a4970c892f67e841fc4d83fa040d1a9 = $(`&lt;div id=&quot;html_2a4970c892f67e841fc4d83fa040d1a9&quot; style=&quot;width: 100.0%; height: 100.0%;&quot;&gt;Strasbourg&lt;/div&gt;`)[0];\n",
       "                popup_594b49df9b5adcbe1a64f58ca13e3c0d.setContent(html_2a4970c892f67e841fc4d83fa040d1a9);\n",
       "            \n",
       "        \n",
       "\n",
       "        marker_f7be0ec7034df62fc88ba7f5cb747c30.bindPopup(popup_594b49df9b5adcbe1a64f58ca13e3c0d)\n",
       "        ;\n",
       "\n",
       "        \n",
       "    \n",
       "    \n",
       "                marker_f7be0ec7034df62fc88ba7f5cb747c30.setIcon(custom_icon_3fa8af74dda321c05914883bcb26dfda);\n",
       "            \n",
       "    \n",
       "            var marker_54401a834a85324be74120154a89f8d1 = L.marker(\n",
       "                [48.2495226, 7.3454923],\n",
       "                {\n",
       "}\n",
       "            ).addTo(map_ff6dd746367eaa80e9bf7960058cdf81);\n",
       "        \n",
       "    \n",
       "        var custom_icon_72a3e7a7db1d94b78cf7f20cf19d2390 = L.icon({\n",
       "  &quot;iconUrl&quot;: &quot;https://images.icon-icons.com/3565/PNG/512/tree_flower_plant_nature_landscape_icon_225325.png&quot;,\n",
       "  &quot;iconSize&quot;: [40, 40],\n",
       "});\n",
       "        marker_54401a834a85324be74120154a89f8d1.setIcon(custom_icon_72a3e7a7db1d94b78cf7f20cf19d2390);\n",
       "        \n",
       "    \n",
       "        var popup_c236ab3026fec041d524e09e2f92425b = L.popup({\n",
       "  &quot;maxWidth&quot;: &quot;100%&quot;,\n",
       "});\n",
       "\n",
       "        \n",
       "            \n",
       "                var html_7362647952a4f397d07514a0eea4bbff = $(`&lt;div id=&quot;html_7362647952a4f397d07514a0eea4bbff&quot; style=&quot;width: 100.0%; height: 100.0%;&quot;&gt;Chateau du Haut Koenigsbourg&lt;/div&gt;`)[0];\n",
       "                popup_c236ab3026fec041d524e09e2f92425b.setContent(html_7362647952a4f397d07514a0eea4bbff);\n",
       "            \n",
       "        \n",
       "\n",
       "        marker_54401a834a85324be74120154a89f8d1.bindPopup(popup_c236ab3026fec041d524e09e2f92425b)\n",
       "        ;\n",
       "\n",
       "        \n",
       "    \n",
       "    \n",
       "                marker_54401a834a85324be74120154a89f8d1.setIcon(custom_icon_72a3e7a7db1d94b78cf7f20cf19d2390);\n",
       "            \n",
       "    \n",
       "            var marker_3282dcaa22164ddd28f206892338d808 = L.marker(\n",
       "                [48.0777517, 7.3579641],\n",
       "                {\n",
       "}\n",
       "            ).addTo(map_ff6dd746367eaa80e9bf7960058cdf81);\n",
       "        \n",
       "    \n",
       "        var custom_icon_3f9e3e4f39f464c4a27d85d791f432a2 = L.icon({\n",
       "  &quot;iconUrl&quot;: &quot;https://images.icon-icons.com/3565/PNG/512/tree_flower_plant_nature_landscape_icon_225325.png&quot;,\n",
       "  &quot;iconSize&quot;: [40, 40],\n",
       "});\n",
       "        marker_3282dcaa22164ddd28f206892338d808.setIcon(custom_icon_3f9e3e4f39f464c4a27d85d791f432a2);\n",
       "        \n",
       "    \n",
       "        var popup_f4b28988cd6c933f1a5c1454a8c3c774 = L.popup({\n",
       "  &quot;maxWidth&quot;: &quot;100%&quot;,\n",
       "});\n",
       "\n",
       "        \n",
       "            \n",
       "                var html_a4bbfb8735610fcdecd39b4e0cd39969 = $(`&lt;div id=&quot;html_a4bbfb8735610fcdecd39b4e0cd39969&quot; style=&quot;width: 100.0%; height: 100.0%;&quot;&gt;Colmar&lt;/div&gt;`)[0];\n",
       "                popup_f4b28988cd6c933f1a5c1454a8c3c774.setContent(html_a4bbfb8735610fcdecd39b4e0cd39969);\n",
       "            \n",
       "        \n",
       "\n",
       "        marker_3282dcaa22164ddd28f206892338d808.bindPopup(popup_f4b28988cd6c933f1a5c1454a8c3c774)\n",
       "        ;\n",
       "\n",
       "        \n",
       "    \n",
       "    \n",
       "                marker_3282dcaa22164ddd28f206892338d808.setIcon(custom_icon_3f9e3e4f39f464c4a27d85d791f432a2);\n",
       "            \n",
       "    \n",
       "            var marker_d608352737205121c39a219fed379ce8 = L.marker(\n",
       "                [48.0447968, 7.3079618],\n",
       "                {\n",
       "}\n",
       "            ).addTo(map_ff6dd746367eaa80e9bf7960058cdf81);\n",
       "        \n",
       "    \n",
       "        var custom_icon_1e7b29215e3fcdfeecaa81dd4e8393f3 = L.icon({\n",
       "  &quot;iconUrl&quot;: &quot;https://images.icon-icons.com/3565/PNG/512/tree_flower_plant_nature_landscape_icon_225325.png&quot;,\n",
       "  &quot;iconSize&quot;: [40, 40],\n",
       "});\n",
       "        marker_d608352737205121c39a219fed379ce8.setIcon(custom_icon_1e7b29215e3fcdfeecaa81dd4e8393f3);\n",
       "        \n",
       "    \n",
       "        var popup_50a03ec61ce6699dd280849b2c36380c = L.popup({\n",
       "  &quot;maxWidth&quot;: &quot;100%&quot;,\n",
       "});\n",
       "\n",
       "        \n",
       "            \n",
       "                var html_3ba3822a10d8c13bc084f9c6dcaa6f41 = $(`&lt;div id=&quot;html_3ba3822a10d8c13bc084f9c6dcaa6f41&quot; style=&quot;width: 100.0%; height: 100.0%;&quot;&gt;Eguisheim&lt;/div&gt;`)[0];\n",
       "                popup_50a03ec61ce6699dd280849b2c36380c.setContent(html_3ba3822a10d8c13bc084f9c6dcaa6f41);\n",
       "            \n",
       "        \n",
       "\n",
       "        marker_d608352737205121c39a219fed379ce8.bindPopup(popup_50a03ec61ce6699dd280849b2c36380c)\n",
       "        ;\n",
       "\n",
       "        \n",
       "    \n",
       "    \n",
       "                marker_d608352737205121c39a219fed379ce8.setIcon(custom_icon_1e7b29215e3fcdfeecaa81dd4e8393f3);\n",
       "            \n",
       "    \n",
       "            var marker_49b627911cbc9e32c6637de76b865448 = L.marker(\n",
       "                [47.2380222, 6.0243622],\n",
       "                {\n",
       "}\n",
       "            ).addTo(map_ff6dd746367eaa80e9bf7960058cdf81);\n",
       "        \n",
       "    \n",
       "        var custom_icon_507950702c1fc8de11cc293971003bc1 = L.icon({\n",
       "  &quot;iconUrl&quot;: &quot;https://images.icon-icons.com/3565/PNG/512/tree_flower_plant_nature_landscape_icon_225325.png&quot;,\n",
       "  &quot;iconSize&quot;: [40, 40],\n",
       "});\n",
       "        marker_49b627911cbc9e32c6637de76b865448.setIcon(custom_icon_507950702c1fc8de11cc293971003bc1);\n",
       "        \n",
       "    \n",
       "        var popup_7d9af11662f8bb190062bd8acae7fb91 = L.popup({\n",
       "  &quot;maxWidth&quot;: &quot;100%&quot;,\n",
       "});\n",
       "\n",
       "        \n",
       "            \n",
       "                var html_12cf373af029c33bb19307b3616f28e7 = $(`&lt;div id=&quot;html_12cf373af029c33bb19307b3616f28e7&quot; style=&quot;width: 100.0%; height: 100.0%;&quot;&gt;Besancon&lt;/div&gt;`)[0];\n",
       "                popup_7d9af11662f8bb190062bd8acae7fb91.setContent(html_12cf373af029c33bb19307b3616f28e7);\n",
       "            \n",
       "        \n",
       "\n",
       "        marker_49b627911cbc9e32c6637de76b865448.bindPopup(popup_7d9af11662f8bb190062bd8acae7fb91)\n",
       "        ;\n",
       "\n",
       "        \n",
       "    \n",
       "    \n",
       "                marker_49b627911cbc9e32c6637de76b865448.setIcon(custom_icon_507950702c1fc8de11cc293971003bc1);\n",
       "            \n",
       "    \n",
       "            var marker_b9ba3c6705a204c250ce3494da52244b = L.marker(\n",
       "                [47.3215806, 5.0414701],\n",
       "                {\n",
       "}\n",
       "            ).addTo(map_ff6dd746367eaa80e9bf7960058cdf81);\n",
       "        \n",
       "    \n",
       "        var custom_icon_7018fdd2c5d74bc73a30a35571155303 = L.icon({\n",
       "  &quot;iconUrl&quot;: &quot;https://images.icon-icons.com/3565/PNG/512/tree_flower_plant_nature_landscape_icon_225325.png&quot;,\n",
       "  &quot;iconSize&quot;: [40, 40],\n",
       "});\n",
       "        marker_b9ba3c6705a204c250ce3494da52244b.setIcon(custom_icon_7018fdd2c5d74bc73a30a35571155303);\n",
       "        \n",
       "    \n",
       "        var popup_c49a32a6adf631d5591e50616d6af347 = L.popup({\n",
       "  &quot;maxWidth&quot;: &quot;100%&quot;,\n",
       "});\n",
       "\n",
       "        \n",
       "            \n",
       "                var html_53e443a133a23b936e06968a9ea6ab4c = $(`&lt;div id=&quot;html_53e443a133a23b936e06968a9ea6ab4c&quot; style=&quot;width: 100.0%; height: 100.0%;&quot;&gt;Dijon&lt;/div&gt;`)[0];\n",
       "                popup_c49a32a6adf631d5591e50616d6af347.setContent(html_53e443a133a23b936e06968a9ea6ab4c);\n",
       "            \n",
       "        \n",
       "\n",
       "        marker_b9ba3c6705a204c250ce3494da52244b.bindPopup(popup_c49a32a6adf631d5591e50616d6af347)\n",
       "        ;\n",
       "\n",
       "        \n",
       "    \n",
       "    \n",
       "                marker_b9ba3c6705a204c250ce3494da52244b.setIcon(custom_icon_7018fdd2c5d74bc73a30a35571155303);\n",
       "            \n",
       "    \n",
       "            var marker_9989e9ff4530568189b256fc1f87f175 = L.marker(\n",
       "                [45.8992348, 6.1288847],\n",
       "                {\n",
       "}\n",
       "            ).addTo(map_ff6dd746367eaa80e9bf7960058cdf81);\n",
       "        \n",
       "    \n",
       "        var custom_icon_25cebf36221a72802538ff1f102c5644 = L.icon({\n",
       "  &quot;iconUrl&quot;: &quot;https://images.icon-icons.com/3565/PNG/512/tree_flower_plant_nature_landscape_icon_225325.png&quot;,\n",
       "  &quot;iconSize&quot;: [40, 40],\n",
       "});\n",
       "        marker_9989e9ff4530568189b256fc1f87f175.setIcon(custom_icon_25cebf36221a72802538ff1f102c5644);\n",
       "        \n",
       "    \n",
       "        var popup_ff043c45c3a63ab409ba896c2dddcfda = L.popup({\n",
       "  &quot;maxWidth&quot;: &quot;100%&quot;,\n",
       "});\n",
       "\n",
       "        \n",
       "            \n",
       "                var html_a9e794e1a8c33bca9d7c873da1238fb3 = $(`&lt;div id=&quot;html_a9e794e1a8c33bca9d7c873da1238fb3&quot; style=&quot;width: 100.0%; height: 100.0%;&quot;&gt;Annecy&lt;/div&gt;`)[0];\n",
       "                popup_ff043c45c3a63ab409ba896c2dddcfda.setContent(html_a9e794e1a8c33bca9d7c873da1238fb3);\n",
       "            \n",
       "        \n",
       "\n",
       "        marker_9989e9ff4530568189b256fc1f87f175.bindPopup(popup_ff043c45c3a63ab409ba896c2dddcfda)\n",
       "        ;\n",
       "\n",
       "        \n",
       "    \n",
       "    \n",
       "                marker_9989e9ff4530568189b256fc1f87f175.setIcon(custom_icon_25cebf36221a72802538ff1f102c5644);\n",
       "            \n",
       "    \n",
       "            var marker_bfd975a99b997a2527d57e70426d59b5 = L.marker(\n",
       "                [45.1875602, 5.7357819],\n",
       "                {\n",
       "}\n",
       "            ).addTo(map_ff6dd746367eaa80e9bf7960058cdf81);\n",
       "        \n",
       "    \n",
       "        var custom_icon_b1ac43e8e5bb359e558854c4b25c1954 = L.icon({\n",
       "  &quot;iconUrl&quot;: &quot;https://images.icon-icons.com/3565/PNG/512/tree_flower_plant_nature_landscape_icon_225325.png&quot;,\n",
       "  &quot;iconSize&quot;: [40, 40],\n",
       "});\n",
       "        marker_bfd975a99b997a2527d57e70426d59b5.setIcon(custom_icon_b1ac43e8e5bb359e558854c4b25c1954);\n",
       "        \n",
       "    \n",
       "        var popup_0612cf9cf8a85c7fc1684ba40a850235 = L.popup({\n",
       "  &quot;maxWidth&quot;: &quot;100%&quot;,\n",
       "});\n",
       "\n",
       "        \n",
       "            \n",
       "                var html_77ef3c020a337595cc7cd61f3ee400c8 = $(`&lt;div id=&quot;html_77ef3c020a337595cc7cd61f3ee400c8&quot; style=&quot;width: 100.0%; height: 100.0%;&quot;&gt;Grenoble&lt;/div&gt;`)[0];\n",
       "                popup_0612cf9cf8a85c7fc1684ba40a850235.setContent(html_77ef3c020a337595cc7cd61f3ee400c8);\n",
       "            \n",
       "        \n",
       "\n",
       "        marker_bfd975a99b997a2527d57e70426d59b5.bindPopup(popup_0612cf9cf8a85c7fc1684ba40a850235)\n",
       "        ;\n",
       "\n",
       "        \n",
       "    \n",
       "    \n",
       "                marker_bfd975a99b997a2527d57e70426d59b5.setIcon(custom_icon_b1ac43e8e5bb359e558854c4b25c1954);\n",
       "            \n",
       "    \n",
       "            var marker_d3dfd0c94cba8fd3f1026d944aac64a0 = L.marker(\n",
       "                [45.7578137, 4.8320114],\n",
       "                {\n",
       "}\n",
       "            ).addTo(map_ff6dd746367eaa80e9bf7960058cdf81);\n",
       "        \n",
       "    \n",
       "        var custom_icon_450ae04293a1a537e3a3f9b5ec82742f = L.icon({\n",
       "  &quot;iconUrl&quot;: &quot;https://images.icon-icons.com/3565/PNG/512/tree_flower_plant_nature_landscape_icon_225325.png&quot;,\n",
       "  &quot;iconSize&quot;: [40, 40],\n",
       "});\n",
       "        marker_d3dfd0c94cba8fd3f1026d944aac64a0.setIcon(custom_icon_450ae04293a1a537e3a3f9b5ec82742f);\n",
       "        \n",
       "    \n",
       "        var popup_40f1cd2fb9da96e73309927ca5a7fcac = L.popup({\n",
       "  &quot;maxWidth&quot;: &quot;100%&quot;,\n",
       "});\n",
       "\n",
       "        \n",
       "            \n",
       "                var html_3bbeba169ec8204aecfd5d8c7a838c7c = $(`&lt;div id=&quot;html_3bbeba169ec8204aecfd5d8c7a838c7c&quot; style=&quot;width: 100.0%; height: 100.0%;&quot;&gt;Lyon&lt;/div&gt;`)[0];\n",
       "                popup_40f1cd2fb9da96e73309927ca5a7fcac.setContent(html_3bbeba169ec8204aecfd5d8c7a838c7c);\n",
       "            \n",
       "        \n",
       "\n",
       "        marker_d3dfd0c94cba8fd3f1026d944aac64a0.bindPopup(popup_40f1cd2fb9da96e73309927ca5a7fcac)\n",
       "        ;\n",
       "\n",
       "        \n",
       "    \n",
       "    \n",
       "                marker_d3dfd0c94cba8fd3f1026d944aac64a0.setIcon(custom_icon_450ae04293a1a537e3a3f9b5ec82742f);\n",
       "            \n",
       "    \n",
       "            var marker_800d6d545fedbcab5941bf1b761165a0 = L.marker(\n",
       "                [43.1506968, 6.3419285],\n",
       "                {\n",
       "}\n",
       "            ).addTo(map_ff6dd746367eaa80e9bf7960058cdf81);\n",
       "        \n",
       "    \n",
       "        var custom_icon_1f7cc38a58c9d5c20908ce7e6cbfaaa5 = L.icon({\n",
       "  &quot;iconUrl&quot;: &quot;https://images.icon-icons.com/3565/PNG/512/tree_flower_plant_nature_landscape_icon_225325.png&quot;,\n",
       "  &quot;iconSize&quot;: [40, 40],\n",
       "});\n",
       "        marker_800d6d545fedbcab5941bf1b761165a0.setIcon(custom_icon_1f7cc38a58c9d5c20908ce7e6cbfaaa5);\n",
       "        \n",
       "    \n",
       "        var popup_6894828a9a9569cd5a1b13b548a5bb78 = L.popup({\n",
       "  &quot;maxWidth&quot;: &quot;100%&quot;,\n",
       "});\n",
       "\n",
       "        \n",
       "            \n",
       "                var html_0775601169a744b2b51b9bca2ee617c8 = $(`&lt;div id=&quot;html_0775601169a744b2b51b9bca2ee617c8&quot; style=&quot;width: 100.0%; height: 100.0%;&quot;&gt;Bormes les Mimosas&lt;/div&gt;`)[0];\n",
       "                popup_6894828a9a9569cd5a1b13b548a5bb78.setContent(html_0775601169a744b2b51b9bca2ee617c8);\n",
       "            \n",
       "        \n",
       "\n",
       "        marker_800d6d545fedbcab5941bf1b761165a0.bindPopup(popup_6894828a9a9569cd5a1b13b548a5bb78)\n",
       "        ;\n",
       "\n",
       "        \n",
       "    \n",
       "    \n",
       "                marker_800d6d545fedbcab5941bf1b761165a0.setIcon(custom_icon_1f7cc38a58c9d5c20908ce7e6cbfaaa5);\n",
       "            \n",
       "    \n",
       "            var marker_58e960e0742e5369f9520aa1bf11148a = L.marker(\n",
       "                [43.2140359, 5.5396318],\n",
       "                {\n",
       "}\n",
       "            ).addTo(map_ff6dd746367eaa80e9bf7960058cdf81);\n",
       "        \n",
       "    \n",
       "        var custom_icon_518fa3b6f86fa13903cb3336ea764771 = L.icon({\n",
       "  &quot;iconUrl&quot;: &quot;https://images.icon-icons.com/3565/PNG/512/tree_flower_plant_nature_landscape_icon_225325.png&quot;,\n",
       "  &quot;iconSize&quot;: [40, 40],\n",
       "});\n",
       "        marker_58e960e0742e5369f9520aa1bf11148a.setIcon(custom_icon_518fa3b6f86fa13903cb3336ea764771);\n",
       "        \n",
       "    \n",
       "        var popup_b02b7814e7f4552dd270cd8062395d55 = L.popup({\n",
       "  &quot;maxWidth&quot;: &quot;100%&quot;,\n",
       "});\n",
       "\n",
       "        \n",
       "            \n",
       "                var html_6e3392ecf61fed74d6aff15fdd81caa7 = $(`&lt;div id=&quot;html_6e3392ecf61fed74d6aff15fdd81caa7&quot; style=&quot;width: 100.0%; height: 100.0%;&quot;&gt;Cassis&lt;/div&gt;`)[0];\n",
       "                popup_b02b7814e7f4552dd270cd8062395d55.setContent(html_6e3392ecf61fed74d6aff15fdd81caa7);\n",
       "            \n",
       "        \n",
       "\n",
       "        marker_58e960e0742e5369f9520aa1bf11148a.bindPopup(popup_b02b7814e7f4552dd270cd8062395d55)\n",
       "        ;\n",
       "\n",
       "        \n",
       "    \n",
       "    \n",
       "                marker_58e960e0742e5369f9520aa1bf11148a.setIcon(custom_icon_518fa3b6f86fa13903cb3336ea764771);\n",
       "            \n",
       "    \n",
       "            var marker_412d7988dda117640bc1b2dd84d24ce2 = L.marker(\n",
       "                [43.2961743, 5.3699525],\n",
       "                {\n",
       "}\n",
       "            ).addTo(map_ff6dd746367eaa80e9bf7960058cdf81);\n",
       "        \n",
       "    \n",
       "        var custom_icon_2992ebc546fd0f869f81967a76b8a7bd = L.icon({\n",
       "  &quot;iconUrl&quot;: &quot;https://images.icon-icons.com/3565/PNG/512/tree_flower_plant_nature_landscape_icon_225325.png&quot;,\n",
       "  &quot;iconSize&quot;: [40, 40],\n",
       "});\n",
       "        marker_412d7988dda117640bc1b2dd84d24ce2.setIcon(custom_icon_2992ebc546fd0f869f81967a76b8a7bd);\n",
       "        \n",
       "    \n",
       "        var popup_d894328eba6f783cac7fd8ce52388778 = L.popup({\n",
       "  &quot;maxWidth&quot;: &quot;100%&quot;,\n",
       "});\n",
       "\n",
       "        \n",
       "            \n",
       "                var html_9253a6092f9dc5cf03ff1cc23223717f = $(`&lt;div id=&quot;html_9253a6092f9dc5cf03ff1cc23223717f&quot; style=&quot;width: 100.0%; height: 100.0%;&quot;&gt;Marseille&lt;/div&gt;`)[0];\n",
       "                popup_d894328eba6f783cac7fd8ce52388778.setContent(html_9253a6092f9dc5cf03ff1cc23223717f);\n",
       "            \n",
       "        \n",
       "\n",
       "        marker_412d7988dda117640bc1b2dd84d24ce2.bindPopup(popup_d894328eba6f783cac7fd8ce52388778)\n",
       "        ;\n",
       "\n",
       "        \n",
       "    \n",
       "    \n",
       "                marker_412d7988dda117640bc1b2dd84d24ce2.setIcon(custom_icon_2992ebc546fd0f869f81967a76b8a7bd);\n",
       "            \n",
       "    \n",
       "            var marker_31d41ca4a2488500dd1b023a72eb2f08 = L.marker(\n",
       "                [43.5298424, 5.4474738],\n",
       "                {\n",
       "}\n",
       "            ).addTo(map_ff6dd746367eaa80e9bf7960058cdf81);\n",
       "        \n",
       "    \n",
       "        var custom_icon_79050a2cfa78801554bf43cb8fcab068 = L.icon({\n",
       "  &quot;iconUrl&quot;: &quot;https://images.icon-icons.com/3565/PNG/512/tree_flower_plant_nature_landscape_icon_225325.png&quot;,\n",
       "  &quot;iconSize&quot;: [40, 40],\n",
       "});\n",
       "        marker_31d41ca4a2488500dd1b023a72eb2f08.setIcon(custom_icon_79050a2cfa78801554bf43cb8fcab068);\n",
       "        \n",
       "    \n",
       "        var popup_78e75d9038149fd39bd47611c120cffd = L.popup({\n",
       "  &quot;maxWidth&quot;: &quot;100%&quot;,\n",
       "});\n",
       "\n",
       "        \n",
       "            \n",
       "                var html_42c87aab2793ab08f0d020a2bcc85485 = $(`&lt;div id=&quot;html_42c87aab2793ab08f0d020a2bcc85485&quot; style=&quot;width: 100.0%; height: 100.0%;&quot;&gt;Aix en Provence&lt;/div&gt;`)[0];\n",
       "                popup_78e75d9038149fd39bd47611c120cffd.setContent(html_42c87aab2793ab08f0d020a2bcc85485);\n",
       "            \n",
       "        \n",
       "\n",
       "        marker_31d41ca4a2488500dd1b023a72eb2f08.bindPopup(popup_78e75d9038149fd39bd47611c120cffd)\n",
       "        ;\n",
       "\n",
       "        \n",
       "    \n",
       "    \n",
       "                marker_31d41ca4a2488500dd1b023a72eb2f08.setIcon(custom_icon_79050a2cfa78801554bf43cb8fcab068);\n",
       "            \n",
       "    \n",
       "            var marker_ef41ebf1fcc4cca3b14dcf6a8ab0ecf6 = L.marker(\n",
       "                [43.9492493, 4.8059012],\n",
       "                {\n",
       "}\n",
       "            ).addTo(map_ff6dd746367eaa80e9bf7960058cdf81);\n",
       "        \n",
       "    \n",
       "        var custom_icon_e098e6d49571b240c13355182d48c347 = L.icon({\n",
       "  &quot;iconUrl&quot;: &quot;https://images.icon-icons.com/3565/PNG/512/tree_flower_plant_nature_landscape_icon_225325.png&quot;,\n",
       "  &quot;iconSize&quot;: [40, 40],\n",
       "});\n",
       "        marker_ef41ebf1fcc4cca3b14dcf6a8ab0ecf6.setIcon(custom_icon_e098e6d49571b240c13355182d48c347);\n",
       "        \n",
       "    \n",
       "        var popup_c2580fd06e81b84b1c8c6421108380fc = L.popup({\n",
       "  &quot;maxWidth&quot;: &quot;100%&quot;,\n",
       "});\n",
       "\n",
       "        \n",
       "            \n",
       "                var html_0f1a5d7cee4c562f840d741b930f4b0b = $(`&lt;div id=&quot;html_0f1a5d7cee4c562f840d741b930f4b0b&quot; style=&quot;width: 100.0%; height: 100.0%;&quot;&gt;Avignon&lt;/div&gt;`)[0];\n",
       "                popup_c2580fd06e81b84b1c8c6421108380fc.setContent(html_0f1a5d7cee4c562f840d741b930f4b0b);\n",
       "            \n",
       "        \n",
       "\n",
       "        marker_ef41ebf1fcc4cca3b14dcf6a8ab0ecf6.bindPopup(popup_c2580fd06e81b84b1c8c6421108380fc)\n",
       "        ;\n",
       "\n",
       "        \n",
       "    \n",
       "    \n",
       "                marker_ef41ebf1fcc4cca3b14dcf6a8ab0ecf6.setIcon(custom_icon_e098e6d49571b240c13355182d48c347);\n",
       "            \n",
       "    \n",
       "            var marker_20ffb613ac7a1d2ec46232d91f77ddaf = L.marker(\n",
       "                [44.0121279, 4.4196718],\n",
       "                {\n",
       "}\n",
       "            ).addTo(map_ff6dd746367eaa80e9bf7960058cdf81);\n",
       "        \n",
       "    \n",
       "        var custom_icon_ab4cbeb708a517d5a31ae20597e0787e = L.icon({\n",
       "  &quot;iconUrl&quot;: &quot;https://images.icon-icons.com/3565/PNG/512/tree_flower_plant_nature_landscape_icon_225325.png&quot;,\n",
       "  &quot;iconSize&quot;: [40, 40],\n",
       "});\n",
       "        marker_20ffb613ac7a1d2ec46232d91f77ddaf.setIcon(custom_icon_ab4cbeb708a517d5a31ae20597e0787e);\n",
       "        \n",
       "    \n",
       "        var popup_566a33252aa0aa7dc208553c81328772 = L.popup({\n",
       "  &quot;maxWidth&quot;: &quot;100%&quot;,\n",
       "});\n",
       "\n",
       "        \n",
       "            \n",
       "                var html_884c83611cf52ab1183090edc111464c = $(`&lt;div id=&quot;html_884c83611cf52ab1183090edc111464c&quot; style=&quot;width: 100.0%; height: 100.0%;&quot;&gt;Uzes&lt;/div&gt;`)[0];\n",
       "                popup_566a33252aa0aa7dc208553c81328772.setContent(html_884c83611cf52ab1183090edc111464c);\n",
       "            \n",
       "        \n",
       "\n",
       "        marker_20ffb613ac7a1d2ec46232d91f77ddaf.bindPopup(popup_566a33252aa0aa7dc208553c81328772)\n",
       "        ;\n",
       "\n",
       "        \n",
       "    \n",
       "    \n",
       "                marker_20ffb613ac7a1d2ec46232d91f77ddaf.setIcon(custom_icon_ab4cbeb708a517d5a31ae20597e0787e);\n",
       "            \n",
       "    \n",
       "            var marker_8a2a30cf9d4c736902a3d71e160ab8d2 = L.marker(\n",
       "                [43.8374249, 4.3600687],\n",
       "                {\n",
       "}\n",
       "            ).addTo(map_ff6dd746367eaa80e9bf7960058cdf81);\n",
       "        \n",
       "    \n",
       "        var custom_icon_2c06d5b64e1fdf7b70dbd71f3e899c63 = L.icon({\n",
       "  &quot;iconUrl&quot;: &quot;https://images.icon-icons.com/3565/PNG/512/tree_flower_plant_nature_landscape_icon_225325.png&quot;,\n",
       "  &quot;iconSize&quot;: [40, 40],\n",
       "});\n",
       "        marker_8a2a30cf9d4c736902a3d71e160ab8d2.setIcon(custom_icon_2c06d5b64e1fdf7b70dbd71f3e899c63);\n",
       "        \n",
       "    \n",
       "        var popup_f72ea6e6f88501d748d637df373f8f39 = L.popup({\n",
       "  &quot;maxWidth&quot;: &quot;100%&quot;,\n",
       "});\n",
       "\n",
       "        \n",
       "            \n",
       "                var html_5cb458b7bfde416897d84b90316d816f = $(`&lt;div id=&quot;html_5cb458b7bfde416897d84b90316d816f&quot; style=&quot;width: 100.0%; height: 100.0%;&quot;&gt;Nimes&lt;/div&gt;`)[0];\n",
       "                popup_f72ea6e6f88501d748d637df373f8f39.setContent(html_5cb458b7bfde416897d84b90316d816f);\n",
       "            \n",
       "        \n",
       "\n",
       "        marker_8a2a30cf9d4c736902a3d71e160ab8d2.bindPopup(popup_f72ea6e6f88501d748d637df373f8f39)\n",
       "        ;\n",
       "\n",
       "        \n",
       "    \n",
       "    \n",
       "                marker_8a2a30cf9d4c736902a3d71e160ab8d2.setIcon(custom_icon_2c06d5b64e1fdf7b70dbd71f3e899c63);\n",
       "            \n",
       "    \n",
       "            var marker_c0a2bf7d09cea5fc197ce46488873ef5 = L.marker(\n",
       "                [43.5658225, 4.1912837],\n",
       "                {\n",
       "}\n",
       "            ).addTo(map_ff6dd746367eaa80e9bf7960058cdf81);\n",
       "        \n",
       "    \n",
       "        var custom_icon_51887a1f63b439f2c830bdf3a555085b = L.icon({\n",
       "  &quot;iconUrl&quot;: &quot;https://images.icon-icons.com/3565/PNG/512/tree_flower_plant_nature_landscape_icon_225325.png&quot;,\n",
       "  &quot;iconSize&quot;: [40, 40],\n",
       "});\n",
       "        marker_c0a2bf7d09cea5fc197ce46488873ef5.setIcon(custom_icon_51887a1f63b439f2c830bdf3a555085b);\n",
       "        \n",
       "    \n",
       "        var popup_6d8cd31c1c1bdd516ca3adae2b0ea323 = L.popup({\n",
       "  &quot;maxWidth&quot;: &quot;100%&quot;,\n",
       "});\n",
       "\n",
       "        \n",
       "            \n",
       "                var html_437e17cfc94a643ff6c28a333f76e471 = $(`&lt;div id=&quot;html_437e17cfc94a643ff6c28a333f76e471&quot; style=&quot;width: 100.0%; height: 100.0%;&quot;&gt;Aigues Mortes&lt;/div&gt;`)[0];\n",
       "                popup_6d8cd31c1c1bdd516ca3adae2b0ea323.setContent(html_437e17cfc94a643ff6c28a333f76e471);\n",
       "            \n",
       "        \n",
       "\n",
       "        marker_c0a2bf7d09cea5fc197ce46488873ef5.bindPopup(popup_6d8cd31c1c1bdd516ca3adae2b0ea323)\n",
       "        ;\n",
       "\n",
       "        \n",
       "    \n",
       "    \n",
       "                marker_c0a2bf7d09cea5fc197ce46488873ef5.setIcon(custom_icon_51887a1f63b439f2c830bdf3a555085b);\n",
       "            \n",
       "    \n",
       "            var marker_8b10f712737b23edcc39b4545344ad9e = L.marker(\n",
       "                [43.4522771, 4.4287172],\n",
       "                {\n",
       "}\n",
       "            ).addTo(map_ff6dd746367eaa80e9bf7960058cdf81);\n",
       "        \n",
       "    \n",
       "        var custom_icon_d756fef7388c6410a73e334a3da63b58 = L.icon({\n",
       "  &quot;iconUrl&quot;: &quot;https://images.icon-icons.com/3565/PNG/512/tree_flower_plant_nature_landscape_icon_225325.png&quot;,\n",
       "  &quot;iconSize&quot;: [40, 40],\n",
       "});\n",
       "        marker_8b10f712737b23edcc39b4545344ad9e.setIcon(custom_icon_d756fef7388c6410a73e334a3da63b58);\n",
       "        \n",
       "    \n",
       "        var popup_2da54db89ba2b531b9c75dde95d392ca = L.popup({\n",
       "  &quot;maxWidth&quot;: &quot;100%&quot;,\n",
       "});\n",
       "\n",
       "        \n",
       "            \n",
       "                var html_4e3b9d0404a5c1318307faffa24575cc = $(`&lt;div id=&quot;html_4e3b9d0404a5c1318307faffa24575cc&quot; style=&quot;width: 100.0%; height: 100.0%;&quot;&gt;Saintes Maries de la mer&lt;/div&gt;`)[0];\n",
       "                popup_2da54db89ba2b531b9c75dde95d392ca.setContent(html_4e3b9d0404a5c1318307faffa24575cc);\n",
       "            \n",
       "        \n",
       "\n",
       "        marker_8b10f712737b23edcc39b4545344ad9e.bindPopup(popup_2da54db89ba2b531b9c75dde95d392ca)\n",
       "        ;\n",
       "\n",
       "        \n",
       "    \n",
       "    \n",
       "                marker_8b10f712737b23edcc39b4545344ad9e.setIcon(custom_icon_d756fef7388c6410a73e334a3da63b58);\n",
       "            \n",
       "    \n",
       "            var marker_eba787794902fb3e9abfe140868aaf98 = L.marker(\n",
       "                [42.52505, 3.0831554],\n",
       "                {\n",
       "}\n",
       "            ).addTo(map_ff6dd746367eaa80e9bf7960058cdf81);\n",
       "        \n",
       "    \n",
       "        var custom_icon_c90bcac67f2abc03ddc2310e17f7b61b = L.icon({\n",
       "  &quot;iconUrl&quot;: &quot;https://images.icon-icons.com/3565/PNG/512/tree_flower_plant_nature_landscape_icon_225325.png&quot;,\n",
       "  &quot;iconSize&quot;: [40, 40],\n",
       "});\n",
       "        marker_eba787794902fb3e9abfe140868aaf98.setIcon(custom_icon_c90bcac67f2abc03ddc2310e17f7b61b);\n",
       "        \n",
       "    \n",
       "        var popup_2c58a7d4dd5b417d81cf88be173a1ed5 = L.popup({\n",
       "  &quot;maxWidth&quot;: &quot;100%&quot;,\n",
       "});\n",
       "\n",
       "        \n",
       "            \n",
       "                var html_50d772b39ff1be108a0362fb2902558d = $(`&lt;div id=&quot;html_50d772b39ff1be108a0362fb2902558d&quot; style=&quot;width: 100.0%; height: 100.0%;&quot;&gt;Collioure&lt;/div&gt;`)[0];\n",
       "                popup_2c58a7d4dd5b417d81cf88be173a1ed5.setContent(html_50d772b39ff1be108a0362fb2902558d);\n",
       "            \n",
       "        \n",
       "\n",
       "        marker_eba787794902fb3e9abfe140868aaf98.bindPopup(popup_2c58a7d4dd5b417d81cf88be173a1ed5)\n",
       "        ;\n",
       "\n",
       "        \n",
       "    \n",
       "    \n",
       "                marker_eba787794902fb3e9abfe140868aaf98.setIcon(custom_icon_c90bcac67f2abc03ddc2310e17f7b61b);\n",
       "            \n",
       "    \n",
       "            var marker_2a4e52237941547c185fc9bc2deb21c8 = L.marker(\n",
       "                [43.2130358, 2.3491069],\n",
       "                {\n",
       "}\n",
       "            ).addTo(map_ff6dd746367eaa80e9bf7960058cdf81);\n",
       "        \n",
       "    \n",
       "        var custom_icon_000f676f333daf873cf32d472394e7ef = L.icon({\n",
       "  &quot;iconUrl&quot;: &quot;https://images.icon-icons.com/3565/PNG/512/tree_flower_plant_nature_landscape_icon_225325.png&quot;,\n",
       "  &quot;iconSize&quot;: [40, 40],\n",
       "});\n",
       "        marker_2a4e52237941547c185fc9bc2deb21c8.setIcon(custom_icon_000f676f333daf873cf32d472394e7ef);\n",
       "        \n",
       "    \n",
       "        var popup_9aaa5cde9b33b3639241a5d2b9265274 = L.popup({\n",
       "  &quot;maxWidth&quot;: &quot;100%&quot;,\n",
       "});\n",
       "\n",
       "        \n",
       "            \n",
       "                var html_d18d95e75c463a15acfb39179023b10f = $(`&lt;div id=&quot;html_d18d95e75c463a15acfb39179023b10f&quot; style=&quot;width: 100.0%; height: 100.0%;&quot;&gt;Carcassonne&lt;/div&gt;`)[0];\n",
       "                popup_9aaa5cde9b33b3639241a5d2b9265274.setContent(html_d18d95e75c463a15acfb39179023b10f);\n",
       "            \n",
       "        \n",
       "\n",
       "        marker_2a4e52237941547c185fc9bc2deb21c8.bindPopup(popup_9aaa5cde9b33b3639241a5d2b9265274)\n",
       "        ;\n",
       "\n",
       "        \n",
       "    \n",
       "    \n",
       "                marker_2a4e52237941547c185fc9bc2deb21c8.setIcon(custom_icon_000f676f333daf873cf32d472394e7ef);\n",
       "            \n",
       "    \n",
       "            var marker_4cd581a53b8b111c337b39f618f59932 = L.marker(\n",
       "                [42.8458016, 1.6067586],\n",
       "                {\n",
       "}\n",
       "            ).addTo(map_ff6dd746367eaa80e9bf7960058cdf81);\n",
       "        \n",
       "    \n",
       "        var custom_icon_c91470ce4a129ed4345ebc8c35e59c88 = L.icon({\n",
       "  &quot;iconUrl&quot;: &quot;https://images.icon-icons.com/3565/PNG/512/tree_flower_plant_nature_landscape_icon_225325.png&quot;,\n",
       "  &quot;iconSize&quot;: [40, 40],\n",
       "});\n",
       "        marker_4cd581a53b8b111c337b39f618f59932.setIcon(custom_icon_c91470ce4a129ed4345ebc8c35e59c88);\n",
       "        \n",
       "    \n",
       "        var popup_07cccc0665432edb0fa533ea0aa91d13 = L.popup({\n",
       "  &quot;maxWidth&quot;: &quot;100%&quot;,\n",
       "});\n",
       "\n",
       "        \n",
       "            \n",
       "                var html_ff6ac7b0e262b7abdb7664a9462dc41c = $(`&lt;div id=&quot;html_ff6ac7b0e262b7abdb7664a9462dc41c&quot; style=&quot;width: 100.0%; height: 100.0%;&quot;&gt;Ariege&lt;/div&gt;`)[0];\n",
       "                popup_07cccc0665432edb0fa533ea0aa91d13.setContent(html_ff6ac7b0e262b7abdb7664a9462dc41c);\n",
       "            \n",
       "        \n",
       "\n",
       "        marker_4cd581a53b8b111c337b39f618f59932.bindPopup(popup_07cccc0665432edb0fa533ea0aa91d13)\n",
       "        ;\n",
       "\n",
       "        \n",
       "    \n",
       "    \n",
       "                marker_4cd581a53b8b111c337b39f618f59932.setIcon(custom_icon_c91470ce4a129ed4345ebc8c35e59c88);\n",
       "            \n",
       "    \n",
       "            var marker_19d49e9628415afd32fbc78763342d38 = L.marker(\n",
       "                [43.6044622, 1.4442469],\n",
       "                {\n",
       "}\n",
       "            ).addTo(map_ff6dd746367eaa80e9bf7960058cdf81);\n",
       "        \n",
       "    \n",
       "        var custom_icon_bc079480aa7c9a3a9c6dbfed2fe2bcc9 = L.icon({\n",
       "  &quot;iconUrl&quot;: &quot;https://images.icon-icons.com/3565/PNG/512/tree_flower_plant_nature_landscape_icon_225325.png&quot;,\n",
       "  &quot;iconSize&quot;: [40, 40],\n",
       "});\n",
       "        marker_19d49e9628415afd32fbc78763342d38.setIcon(custom_icon_bc079480aa7c9a3a9c6dbfed2fe2bcc9);\n",
       "        \n",
       "    \n",
       "        var popup_12d713a97d5f1ac260b417549b355f52 = L.popup({\n",
       "  &quot;maxWidth&quot;: &quot;100%&quot;,\n",
       "});\n",
       "\n",
       "        \n",
       "            \n",
       "                var html_b8dbdbca87a2ca2e5eaf4c4feba1ae1d = $(`&lt;div id=&quot;html_b8dbdbca87a2ca2e5eaf4c4feba1ae1d&quot; style=&quot;width: 100.0%; height: 100.0%;&quot;&gt;Toulouse&lt;/div&gt;`)[0];\n",
       "                popup_12d713a97d5f1ac260b417549b355f52.setContent(html_b8dbdbca87a2ca2e5eaf4c4feba1ae1d);\n",
       "            \n",
       "        \n",
       "\n",
       "        marker_19d49e9628415afd32fbc78763342d38.bindPopup(popup_12d713a97d5f1ac260b417549b355f52)\n",
       "        ;\n",
       "\n",
       "        \n",
       "    \n",
       "    \n",
       "                marker_19d49e9628415afd32fbc78763342d38.setIcon(custom_icon_bc079480aa7c9a3a9c6dbfed2fe2bcc9);\n",
       "            \n",
       "    \n",
       "            var marker_090c4f3ac51f3b368c5ae8c650faac7f = L.marker(\n",
       "                [44.0175835, 1.3549991],\n",
       "                {\n",
       "}\n",
       "            ).addTo(map_ff6dd746367eaa80e9bf7960058cdf81);\n",
       "        \n",
       "    \n",
       "        var custom_icon_98b5cf9050130dcd80c0069314bde7e5 = L.icon({\n",
       "  &quot;iconUrl&quot;: &quot;https://images.icon-icons.com/3565/PNG/512/tree_flower_plant_nature_landscape_icon_225325.png&quot;,\n",
       "  &quot;iconSize&quot;: [40, 40],\n",
       "});\n",
       "        marker_090c4f3ac51f3b368c5ae8c650faac7f.setIcon(custom_icon_98b5cf9050130dcd80c0069314bde7e5);\n",
       "        \n",
       "    \n",
       "        var popup_684af71bb03e35e4aaea4cfda2efef62 = L.popup({\n",
       "  &quot;maxWidth&quot;: &quot;100%&quot;,\n",
       "});\n",
       "\n",
       "        \n",
       "            \n",
       "                var html_8b4b74abf9ea8e26436ba6c5a21462ed = $(`&lt;div id=&quot;html_8b4b74abf9ea8e26436ba6c5a21462ed&quot; style=&quot;width: 100.0%; height: 100.0%;&quot;&gt;Montauban&lt;/div&gt;`)[0];\n",
       "                popup_684af71bb03e35e4aaea4cfda2efef62.setContent(html_8b4b74abf9ea8e26436ba6c5a21462ed);\n",
       "            \n",
       "        \n",
       "\n",
       "        marker_090c4f3ac51f3b368c5ae8c650faac7f.bindPopup(popup_684af71bb03e35e4aaea4cfda2efef62)\n",
       "        ;\n",
       "\n",
       "        \n",
       "    \n",
       "    \n",
       "                marker_090c4f3ac51f3b368c5ae8c650faac7f.setIcon(custom_icon_98b5cf9050130dcd80c0069314bde7e5);\n",
       "            \n",
       "    \n",
       "            var marker_dea73353e0a203c6ac887265ef630f24 = L.marker(\n",
       "                [43.4832523, -1.5592776],\n",
       "                {\n",
       "}\n",
       "            ).addTo(map_ff6dd746367eaa80e9bf7960058cdf81);\n",
       "        \n",
       "    \n",
       "        var custom_icon_12c48b086726791b0ed0c1d2a09c4530 = L.icon({\n",
       "  &quot;iconUrl&quot;: &quot;https://images.icon-icons.com/3565/PNG/512/tree_flower_plant_nature_landscape_icon_225325.png&quot;,\n",
       "  &quot;iconSize&quot;: [40, 40],\n",
       "});\n",
       "        marker_dea73353e0a203c6ac887265ef630f24.setIcon(custom_icon_12c48b086726791b0ed0c1d2a09c4530);\n",
       "        \n",
       "    \n",
       "        var popup_45a5af828a2e47ddae2f115166b71a41 = L.popup({\n",
       "  &quot;maxWidth&quot;: &quot;100%&quot;,\n",
       "});\n",
       "\n",
       "        \n",
       "            \n",
       "                var html_bbcef11894369b508763b9408870fb2e = $(`&lt;div id=&quot;html_bbcef11894369b508763b9408870fb2e&quot; style=&quot;width: 100.0%; height: 100.0%;&quot;&gt;Biarritz&lt;/div&gt;`)[0];\n",
       "                popup_45a5af828a2e47ddae2f115166b71a41.setContent(html_bbcef11894369b508763b9408870fb2e);\n",
       "            \n",
       "        \n",
       "\n",
       "        marker_dea73353e0a203c6ac887265ef630f24.bindPopup(popup_45a5af828a2e47ddae2f115166b71a41)\n",
       "        ;\n",
       "\n",
       "        \n",
       "    \n",
       "    \n",
       "                marker_dea73353e0a203c6ac887265ef630f24.setIcon(custom_icon_12c48b086726791b0ed0c1d2a09c4530);\n",
       "            \n",
       "    \n",
       "            var marker_f046a9947feb3c0d76d5ea2a1880c988 = L.marker(\n",
       "                [43.4945144, -1.4736657],\n",
       "                {\n",
       "}\n",
       "            ).addTo(map_ff6dd746367eaa80e9bf7960058cdf81);\n",
       "        \n",
       "    \n",
       "        var custom_icon_1834e0a0fa9fa1d7f65ef8e62b2fc8eb = L.icon({\n",
       "  &quot;iconUrl&quot;: &quot;https://images.icon-icons.com/3565/PNG/512/tree_flower_plant_nature_landscape_icon_225325.png&quot;,\n",
       "  &quot;iconSize&quot;: [40, 40],\n",
       "});\n",
       "        marker_f046a9947feb3c0d76d5ea2a1880c988.setIcon(custom_icon_1834e0a0fa9fa1d7f65ef8e62b2fc8eb);\n",
       "        \n",
       "    \n",
       "        var popup_380294e95f56b8088b7cf0bbc8625d50 = L.popup({\n",
       "  &quot;maxWidth&quot;: &quot;100%&quot;,\n",
       "});\n",
       "\n",
       "        \n",
       "            \n",
       "                var html_01e998a9d042d4ef27866f2fd7a6a3c9 = $(`&lt;div id=&quot;html_01e998a9d042d4ef27866f2fd7a6a3c9&quot; style=&quot;width: 100.0%; height: 100.0%;&quot;&gt;Bayonne&lt;/div&gt;`)[0];\n",
       "                popup_380294e95f56b8088b7cf0bbc8625d50.setContent(html_01e998a9d042d4ef27866f2fd7a6a3c9);\n",
       "            \n",
       "        \n",
       "\n",
       "        marker_f046a9947feb3c0d76d5ea2a1880c988.bindPopup(popup_380294e95f56b8088b7cf0bbc8625d50)\n",
       "        ;\n",
       "\n",
       "        \n",
       "    \n",
       "    \n",
       "                marker_f046a9947feb3c0d76d5ea2a1880c988.setIcon(custom_icon_1834e0a0fa9fa1d7f65ef8e62b2fc8eb);\n",
       "            \n",
       "    \n",
       "            var marker_05bdde5a4dc0090f5b29e80c0f73ccd1 = L.marker(\n",
       "                [46.1591126, -1.1520434],\n",
       "                {\n",
       "}\n",
       "            ).addTo(map_ff6dd746367eaa80e9bf7960058cdf81);\n",
       "        \n",
       "    \n",
       "        var custom_icon_b7066af67f590b33d6e3f34ec8ffa3a7 = L.icon({\n",
       "  &quot;iconUrl&quot;: &quot;https://images.icon-icons.com/3565/PNG/512/tree_flower_plant_nature_landscape_icon_225325.png&quot;,\n",
       "  &quot;iconSize&quot;: [40, 40],\n",
       "});\n",
       "        marker_05bdde5a4dc0090f5b29e80c0f73ccd1.setIcon(custom_icon_b7066af67f590b33d6e3f34ec8ffa3a7);\n",
       "        \n",
       "    \n",
       "        var popup_ac623d93a4621444b4aa388bf90006fc = L.popup({\n",
       "  &quot;maxWidth&quot;: &quot;100%&quot;,\n",
       "});\n",
       "\n",
       "        \n",
       "            \n",
       "                var html_f8a70759c407d2134f565cbb0c1a67c4 = $(`&lt;div id=&quot;html_f8a70759c407d2134f565cbb0c1a67c4&quot; style=&quot;width: 100.0%; height: 100.0%;&quot;&gt;La Rochelle&lt;/div&gt;`)[0];\n",
       "                popup_ac623d93a4621444b4aa388bf90006fc.setContent(html_f8a70759c407d2134f565cbb0c1a67c4);\n",
       "            \n",
       "        \n",
       "\n",
       "        marker_05bdde5a4dc0090f5b29e80c0f73ccd1.bindPopup(popup_ac623d93a4621444b4aa388bf90006fc)\n",
       "        ;\n",
       "\n",
       "        \n",
       "    \n",
       "    \n",
       "                marker_05bdde5a4dc0090f5b29e80c0f73ccd1.setIcon(custom_icon_b7066af67f590b33d6e3f34ec8ffa3a7);\n",
       "            \n",
       "    \n",
       "            var marker_7ad7d79f037c854a6c4116802998f81d = L.marker(\n",
       "                [43.7496562, 6.3285616],\n",
       "                {\n",
       "}\n",
       "            ).addTo(map_ff6dd746367eaa80e9bf7960058cdf81);\n",
       "        \n",
       "    \n",
       "        var custom_icon_cc2199e52f0dc75279561711574fdf1e = L.icon({\n",
       "  &quot;iconUrl&quot;: &quot;https://images.icon-icons.com/3565/PNG/512/tree_flower_plant_nature_landscape_icon_225325.png&quot;,\n",
       "  &quot;iconSize&quot;: [40, 40],\n",
       "});\n",
       "        marker_7ad7d79f037c854a6c4116802998f81d.setIcon(custom_icon_cc2199e52f0dc75279561711574fdf1e);\n",
       "        \n",
       "    \n",
       "        var popup_d8acc52ed4ad0babeae128518bf0229f = L.popup({\n",
       "  &quot;maxWidth&quot;: &quot;100%&quot;,\n",
       "});\n",
       "\n",
       "        \n",
       "            \n",
       "                var html_72afbfff7803f46548c06dd56cebedc4 = $(`&lt;div id=&quot;html_72afbfff7803f46548c06dd56cebedc4&quot; style=&quot;width: 100.0%; height: 100.0%;&quot;&gt;Gorges du Verdon&lt;/div&gt;`)[0];\n",
       "                popup_d8acc52ed4ad0babeae128518bf0229f.setContent(html_72afbfff7803f46548c06dd56cebedc4);\n",
       "            \n",
       "        \n",
       "\n",
       "        marker_7ad7d79f037c854a6c4116802998f81d.bindPopup(popup_d8acc52ed4ad0babeae128518bf0229f)\n",
       "        ;\n",
       "\n",
       "        \n",
       "    \n",
       "    \n",
       "                marker_7ad7d79f037c854a6c4116802998f81d.setIcon(custom_icon_cc2199e52f0dc75279561711574fdf1e);\n",
       "            \n",
       "    \n",
       "            tile_layer_a90a543a855d0afa9010ecf4b2574452.addTo(map_ff6dd746367eaa80e9bf7960058cdf81);\n",
       "        \n",
       "    \n",
       "                marker_69d566470c70c513ad81f16ae06aff7a.setIcon(custom_icon_8fb3c55b4ab31bd456bdc109fe4d1239);\n",
       "            \n",
       "    \n",
       "                marker_297d0678d9dc840a873c35b508edd883.setIcon(custom_icon_29e1505a0d8c696d645db2190c207e25);\n",
       "            \n",
       "    \n",
       "                marker_dbaed1997ece3ac4fffa5582bbd9ed35.setIcon(custom_icon_e90f206f131ec0327d56d517ef6a3323);\n",
       "            \n",
       "    \n",
       "                marker_5805aaf6cf920bf3624458da8ff7bbc9.setIcon(custom_icon_4a7da5f37cc8263ee0f409caedfa446a);\n",
       "            \n",
       "    \n",
       "                marker_2449b375969f055730c9a71f6ae24fe0.setIcon(custom_icon_ba61264f233e9a9b1c1c22e61d29f37f);\n",
       "            \n",
       "    \n",
       "                marker_2f46f66506dbdeb641051bfe7840c8e3.setIcon(custom_icon_864617478b46a21faa8a8768fc0109a3);\n",
       "            \n",
       "    \n",
       "                marker_85c48e799646fd76f0a34e5ae2da6d82.setIcon(custom_icon_933b102b49a4591a19125af864549adc);\n",
       "            \n",
       "    \n",
       "                marker_0f592c774da17e3bb7937901b46a75d9.setIcon(custom_icon_a31a184dee59c40ea5ec8b758485f5f6);\n",
       "            \n",
       "    \n",
       "                marker_f7be0ec7034df62fc88ba7f5cb747c30.setIcon(custom_icon_3fa8af74dda321c05914883bcb26dfda);\n",
       "            \n",
       "    \n",
       "                marker_54401a834a85324be74120154a89f8d1.setIcon(custom_icon_72a3e7a7db1d94b78cf7f20cf19d2390);\n",
       "            \n",
       "    \n",
       "                marker_3282dcaa22164ddd28f206892338d808.setIcon(custom_icon_3f9e3e4f39f464c4a27d85d791f432a2);\n",
       "            \n",
       "    \n",
       "                marker_d608352737205121c39a219fed379ce8.setIcon(custom_icon_1e7b29215e3fcdfeecaa81dd4e8393f3);\n",
       "            \n",
       "    \n",
       "                marker_49b627911cbc9e32c6637de76b865448.setIcon(custom_icon_507950702c1fc8de11cc293971003bc1);\n",
       "            \n",
       "    \n",
       "                marker_b9ba3c6705a204c250ce3494da52244b.setIcon(custom_icon_7018fdd2c5d74bc73a30a35571155303);\n",
       "            \n",
       "    \n",
       "                marker_9989e9ff4530568189b256fc1f87f175.setIcon(custom_icon_25cebf36221a72802538ff1f102c5644);\n",
       "            \n",
       "    \n",
       "                marker_bfd975a99b997a2527d57e70426d59b5.setIcon(custom_icon_b1ac43e8e5bb359e558854c4b25c1954);\n",
       "            \n",
       "    \n",
       "                marker_d3dfd0c94cba8fd3f1026d944aac64a0.setIcon(custom_icon_450ae04293a1a537e3a3f9b5ec82742f);\n",
       "            \n",
       "    \n",
       "                marker_800d6d545fedbcab5941bf1b761165a0.setIcon(custom_icon_1f7cc38a58c9d5c20908ce7e6cbfaaa5);\n",
       "            \n",
       "    \n",
       "                marker_58e960e0742e5369f9520aa1bf11148a.setIcon(custom_icon_518fa3b6f86fa13903cb3336ea764771);\n",
       "            \n",
       "    \n",
       "                marker_412d7988dda117640bc1b2dd84d24ce2.setIcon(custom_icon_2992ebc546fd0f869f81967a76b8a7bd);\n",
       "            \n",
       "    \n",
       "                marker_31d41ca4a2488500dd1b023a72eb2f08.setIcon(custom_icon_79050a2cfa78801554bf43cb8fcab068);\n",
       "            \n",
       "    \n",
       "                marker_ef41ebf1fcc4cca3b14dcf6a8ab0ecf6.setIcon(custom_icon_e098e6d49571b240c13355182d48c347);\n",
       "            \n",
       "    \n",
       "                marker_20ffb613ac7a1d2ec46232d91f77ddaf.setIcon(custom_icon_ab4cbeb708a517d5a31ae20597e0787e);\n",
       "            \n",
       "    \n",
       "                marker_8a2a30cf9d4c736902a3d71e160ab8d2.setIcon(custom_icon_2c06d5b64e1fdf7b70dbd71f3e899c63);\n",
       "            \n",
       "    \n",
       "                marker_c0a2bf7d09cea5fc197ce46488873ef5.setIcon(custom_icon_51887a1f63b439f2c830bdf3a555085b);\n",
       "            \n",
       "    \n",
       "                marker_8b10f712737b23edcc39b4545344ad9e.setIcon(custom_icon_d756fef7388c6410a73e334a3da63b58);\n",
       "            \n",
       "    \n",
       "                marker_eba787794902fb3e9abfe140868aaf98.setIcon(custom_icon_c90bcac67f2abc03ddc2310e17f7b61b);\n",
       "            \n",
       "    \n",
       "                marker_2a4e52237941547c185fc9bc2deb21c8.setIcon(custom_icon_000f676f333daf873cf32d472394e7ef);\n",
       "            \n",
       "    \n",
       "                marker_4cd581a53b8b111c337b39f618f59932.setIcon(custom_icon_c91470ce4a129ed4345ebc8c35e59c88);\n",
       "            \n",
       "    \n",
       "                marker_19d49e9628415afd32fbc78763342d38.setIcon(custom_icon_bc079480aa7c9a3a9c6dbfed2fe2bcc9);\n",
       "            \n",
       "    \n",
       "                marker_090c4f3ac51f3b368c5ae8c650faac7f.setIcon(custom_icon_98b5cf9050130dcd80c0069314bde7e5);\n",
       "            \n",
       "    \n",
       "                marker_dea73353e0a203c6ac887265ef630f24.setIcon(custom_icon_12c48b086726791b0ed0c1d2a09c4530);\n",
       "            \n",
       "    \n",
       "                marker_f046a9947feb3c0d76d5ea2a1880c988.setIcon(custom_icon_1834e0a0fa9fa1d7f65ef8e62b2fc8eb);\n",
       "            \n",
       "    \n",
       "                marker_05bdde5a4dc0090f5b29e80c0f73ccd1.setIcon(custom_icon_b7066af67f590b33d6e3f34ec8ffa3a7);\n",
       "            \n",
       "    \n",
       "                marker_7ad7d79f037c854a6c4116802998f81d.setIcon(custom_icon_cc2199e52f0dc75279561711574fdf1e);\n",
       "            \n",
       "&lt;/script&gt;\n",
       "&lt;/html&gt;\" style=\"position:absolute;width:100%;height:100%;left:0;top:0;border:none !important;\" allowfullscreen webkitallowfullscreen mozallowfullscreen></iframe></div></div>"
      ],
      "text/plain": [
       "<folium.folium.Map at 0x1e699496380>"
      ]
     },
     "execution_count": 12,
     "metadata": {},
     "output_type": "execute_result"
    }
   ],
   "source": [
    "# Création d'une carte pour visualiser les 35 best cities/points d'intérêts et leur localisation exacte\n",
    "map = folium.Map(location=[46.603354, 1.888334], zoom_start=6)\n",
    "\n",
    "# Définir le marker \n",
    "icon_url = \"https://images.icon-icons.com/3565/PNG/512/tree_flower_plant_nature_landscape_icon_225325.png\"\n",
    "\n",
    "# Ajouter les villes à la carte\n",
    "for i, row in df_merged.iterrows():\n",
    "    folium.Marker(\n",
    "        location=[row['lat'], row['lon']],\n",
    "        popup=row['cities'],\n",
    "        icon=folium.CustomIcon(icon_url, icon_size=(40, 40))  # Ajustez la taille de l'icône si nécessaire\n",
    "    ).add_to(map)\n",
    "\n",
    "# Sauvegarder la carte dans un fichier HTML\n",
    "map.save('map_best_city.html')\n",
    "\n",
    "# Afficher la carte\n",
    "map"
   ]
  },
  {
   "cell_type": "code",
   "execution_count": 13,
   "metadata": {},
   "outputs": [],
   "source": [
    "# Enregistrement du DataFrame fusionné en fichier CSV\n",
    "df_merged.to_csv('data/best_cities_merged.csv', index=False)"
   ]
  },
  {
   "cell_type": "markdown",
   "metadata": {},
   "source": [
    "## Import weather information"
   ]
  },
  {
   "cell_type": "code",
   "execution_count": 14,
   "metadata": {},
   "outputs": [],
   "source": [
    "df=pd.read_csv(\"data/best_cities_merged.csv\")"
   ]
  },
  {
   "cell_type": "code",
   "execution_count": 15,
   "metadata": {},
   "outputs": [
    {
     "data": {
      "text/plain": [
       "<Response [200]>"
      ]
     },
     "execution_count": 15,
     "metadata": {},
     "output_type": "execute_result"
    }
   ],
   "source": [
    "url = f\"https://api.openweathermap.org/data/3.0/onecall?lat={df.loc[0, 'lat']}&lon={df.loc[0, 'lon']}&units=metric&exclude=hourly,daily&appid={Open_Weather_API_Key_Myriam}\"\n",
    "\n",
    "r = requests.get(url)\n",
    "data = r.json()\n",
    "r"
   ]
  },
  {
   "cell_type": "code",
   "execution_count": 16,
   "metadata": {},
   "outputs": [],
   "source": [
    "# import des informations météorologiques importantes\n",
    "for i in df.index:\n",
    "    lat = df.loc[i, 'lat']\n",
    "    lon = df.loc[i, 'lon']\n",
    "\n",
    "    url = f\"https://api.openweathermap.org/data/3.0/onecall?lat={lat}&lon={lon}&units=metric&exclude=hourly,daily&appid={Open_Weather_API_Key_Myriam}\"\n",
    "\n",
    "    r = requests.get(url)\n",
    "\n",
    "    if r.status_code == 200:\n",
    "        data = r.json()\n",
    "  \n",
    "        df.loc[i,\"date\"] = data[\"current\"][\"dt\"]\n",
    "        df.loc[i, \"temp\"] = data[\"current\"][\"temp\"]\n",
    "        df.loc[i, \"feels_like\"] = data[\"current\"][\"feels_like\"]\n",
    "        df.loc[i, \"uvi\"] = data[\"current\"][\"uvi\"]\n",
    "        df.loc[i, \"humidity\"] = data[\"current\"][\"humidity\"]\n",
    "        df.loc[i, \"wind_speed\"] = data[\"current\"][\"wind_speed\"]\n",
    "        df.loc[i, \"description\"] = data[\"current\"][\"weather\"][0][\"description\"]\n",
    "        \n",
    "    else:\n",
    "        print(f\"Erreur lors de la requête pour l'index {i} : {r.status_code}\")\n",
    "        print(r.text)  # Imprime le message d'erreur pour plus de détails\n",
    "\n"
   ]
  },
  {
   "cell_type": "code",
   "execution_count": 17,
   "metadata": {},
   "outputs": [
    {
     "data": {
      "text/html": [
       "<div>\n",
       "<style scoped>\n",
       "    .dataframe tbody tr th:only-of-type {\n",
       "        vertical-align: middle;\n",
       "    }\n",
       "\n",
       "    .dataframe tbody tr th {\n",
       "        vertical-align: top;\n",
       "    }\n",
       "\n",
       "    .dataframe thead th {\n",
       "        text-align: right;\n",
       "    }\n",
       "</style>\n",
       "<table border=\"1\" class=\"dataframe\">\n",
       "  <thead>\n",
       "    <tr style=\"text-align: right;\">\n",
       "      <th></th>\n",
       "      <th>cities</th>\n",
       "      <th>name</th>\n",
       "      <th>country</th>\n",
       "      <th>state</th>\n",
       "      <th>lat</th>\n",
       "      <th>lon</th>\n",
       "      <th>date</th>\n",
       "      <th>temp</th>\n",
       "      <th>feels_like</th>\n",
       "      <th>uvi</th>\n",
       "      <th>humidity</th>\n",
       "      <th>wind_speed</th>\n",
       "      <th>description</th>\n",
       "    </tr>\n",
       "  </thead>\n",
       "  <tbody>\n",
       "    <tr>\n",
       "      <th>0</th>\n",
       "      <td>Mont Saint Michel</td>\n",
       "      <td>Mont Saint-Michel</td>\n",
       "      <td>FR</td>\n",
       "      <td>Normandy</td>\n",
       "      <td>48.635954</td>\n",
       "      <td>-1.511460</td>\n",
       "      <td>1.745405e+09</td>\n",
       "      <td>12.99</td>\n",
       "      <td>12.64</td>\n",
       "      <td>3.26</td>\n",
       "      <td>88.0</td>\n",
       "      <td>9.01</td>\n",
       "      <td>broken clouds</td>\n",
       "    </tr>\n",
       "    <tr>\n",
       "      <th>1</th>\n",
       "      <td>St Malo</td>\n",
       "      <td>Saint-Malo</td>\n",
       "      <td>FR</td>\n",
       "      <td>Brittany</td>\n",
       "      <td>48.649518</td>\n",
       "      <td>-2.026041</td>\n",
       "      <td>1.745405e+09</td>\n",
       "      <td>12.29</td>\n",
       "      <td>12.03</td>\n",
       "      <td>4.91</td>\n",
       "      <td>94.0</td>\n",
       "      <td>7.20</td>\n",
       "      <td>broken clouds</td>\n",
       "    </tr>\n",
       "    <tr>\n",
       "      <th>2</th>\n",
       "      <td>Bayeux</td>\n",
       "      <td>Bayeux</td>\n",
       "      <td>FR</td>\n",
       "      <td>Normandy</td>\n",
       "      <td>49.276462</td>\n",
       "      <td>-0.702474</td>\n",
       "      <td>1.745405e+09</td>\n",
       "      <td>14.14</td>\n",
       "      <td>13.93</td>\n",
       "      <td>4.51</td>\n",
       "      <td>89.0</td>\n",
       "      <td>4.76</td>\n",
       "      <td>broken clouds</td>\n",
       "    </tr>\n",
       "    <tr>\n",
       "      <th>3</th>\n",
       "      <td>Le Havre</td>\n",
       "      <td>Le Havre</td>\n",
       "      <td>FR</td>\n",
       "      <td>Normandy</td>\n",
       "      <td>49.493898</td>\n",
       "      <td>0.107973</td>\n",
       "      <td>1.745405e+09</td>\n",
       "      <td>12.51</td>\n",
       "      <td>12.27</td>\n",
       "      <td>4.50</td>\n",
       "      <td>94.0</td>\n",
       "      <td>6.69</td>\n",
       "      <td>broken clouds</td>\n",
       "    </tr>\n",
       "    <tr>\n",
       "      <th>4</th>\n",
       "      <td>Rouen</td>\n",
       "      <td>Rouen</td>\n",
       "      <td>FR</td>\n",
       "      <td>Normandy</td>\n",
       "      <td>49.440459</td>\n",
       "      <td>1.093966</td>\n",
       "      <td>1.745405e+09</td>\n",
       "      <td>11.52</td>\n",
       "      <td>10.97</td>\n",
       "      <td>4.53</td>\n",
       "      <td>86.0</td>\n",
       "      <td>6.17</td>\n",
       "      <td>broken clouds</td>\n",
       "    </tr>\n",
       "  </tbody>\n",
       "</table>\n",
       "</div>"
      ],
      "text/plain": [
       "              cities               name country     state        lat  \\\n",
       "0  Mont Saint Michel  Mont Saint-Michel      FR  Normandy  48.635954   \n",
       "1            St Malo         Saint-Malo      FR  Brittany  48.649518   \n",
       "2             Bayeux             Bayeux      FR  Normandy  49.276462   \n",
       "3           Le Havre           Le Havre      FR  Normandy  49.493898   \n",
       "4              Rouen              Rouen      FR  Normandy  49.440459   \n",
       "\n",
       "        lon          date   temp  feels_like   uvi  humidity  wind_speed  \\\n",
       "0 -1.511460  1.745405e+09  12.99       12.64  3.26      88.0        9.01   \n",
       "1 -2.026041  1.745405e+09  12.29       12.03  4.91      94.0        7.20   \n",
       "2 -0.702474  1.745405e+09  14.14       13.93  4.51      89.0        4.76   \n",
       "3  0.107973  1.745405e+09  12.51       12.27  4.50      94.0        6.69   \n",
       "4  1.093966  1.745405e+09  11.52       10.97  4.53      86.0        6.17   \n",
       "\n",
       "     description  \n",
       "0  broken clouds  \n",
       "1  broken clouds  \n",
       "2  broken clouds  \n",
       "3  broken clouds  \n",
       "4  broken clouds  "
      ]
     },
     "execution_count": 17,
     "metadata": {},
     "output_type": "execute_result"
    }
   ],
   "source": [
    "df.head()"
   ]
  },
  {
   "cell_type": "code",
   "execution_count": 18,
   "metadata": {},
   "outputs": [
    {
     "data": {
      "text/html": [
       "<div>\n",
       "<style scoped>\n",
       "    .dataframe tbody tr th:only-of-type {\n",
       "        vertical-align: middle;\n",
       "    }\n",
       "\n",
       "    .dataframe tbody tr th {\n",
       "        vertical-align: top;\n",
       "    }\n",
       "\n",
       "    .dataframe thead th {\n",
       "        text-align: right;\n",
       "    }\n",
       "</style>\n",
       "<table border=\"1\" class=\"dataframe\">\n",
       "  <thead>\n",
       "    <tr style=\"text-align: right;\">\n",
       "      <th></th>\n",
       "      <th>cities</th>\n",
       "      <th>name</th>\n",
       "      <th>country</th>\n",
       "      <th>state</th>\n",
       "      <th>lat</th>\n",
       "      <th>lon</th>\n",
       "      <th>date</th>\n",
       "      <th>temp</th>\n",
       "      <th>feels_like</th>\n",
       "      <th>uvi</th>\n",
       "      <th>humidity</th>\n",
       "      <th>wind_speed</th>\n",
       "      <th>description</th>\n",
       "    </tr>\n",
       "  </thead>\n",
       "  <tbody>\n",
       "    <tr>\n",
       "      <th>0</th>\n",
       "      <td>Mont Saint Michel</td>\n",
       "      <td>Mont Saint-Michel</td>\n",
       "      <td>FR</td>\n",
       "      <td>Normandy</td>\n",
       "      <td>48.635954</td>\n",
       "      <td>-1.511460</td>\n",
       "      <td>2025-04-23 10:39:55</td>\n",
       "      <td>12.99</td>\n",
       "      <td>12.64</td>\n",
       "      <td>3.26</td>\n",
       "      <td>88.0</td>\n",
       "      <td>9.01</td>\n",
       "      <td>broken clouds</td>\n",
       "    </tr>\n",
       "    <tr>\n",
       "      <th>1</th>\n",
       "      <td>St Malo</td>\n",
       "      <td>Saint-Malo</td>\n",
       "      <td>FR</td>\n",
       "      <td>Brittany</td>\n",
       "      <td>48.649518</td>\n",
       "      <td>-2.026041</td>\n",
       "      <td>2025-04-23 10:40:00</td>\n",
       "      <td>12.29</td>\n",
       "      <td>12.03</td>\n",
       "      <td>4.91</td>\n",
       "      <td>94.0</td>\n",
       "      <td>7.20</td>\n",
       "      <td>broken clouds</td>\n",
       "    </tr>\n",
       "    <tr>\n",
       "      <th>2</th>\n",
       "      <td>Bayeux</td>\n",
       "      <td>Bayeux</td>\n",
       "      <td>FR</td>\n",
       "      <td>Normandy</td>\n",
       "      <td>49.276462</td>\n",
       "      <td>-0.702474</td>\n",
       "      <td>2025-04-23 10:40:00</td>\n",
       "      <td>14.14</td>\n",
       "      <td>13.93</td>\n",
       "      <td>4.51</td>\n",
       "      <td>89.0</td>\n",
       "      <td>4.76</td>\n",
       "      <td>broken clouds</td>\n",
       "    </tr>\n",
       "    <tr>\n",
       "      <th>3</th>\n",
       "      <td>Le Havre</td>\n",
       "      <td>Le Havre</td>\n",
       "      <td>FR</td>\n",
       "      <td>Normandy</td>\n",
       "      <td>49.493898</td>\n",
       "      <td>0.107973</td>\n",
       "      <td>2025-04-23 10:40:01</td>\n",
       "      <td>12.51</td>\n",
       "      <td>12.27</td>\n",
       "      <td>4.50</td>\n",
       "      <td>94.0</td>\n",
       "      <td>6.69</td>\n",
       "      <td>broken clouds</td>\n",
       "    </tr>\n",
       "    <tr>\n",
       "      <th>4</th>\n",
       "      <td>Rouen</td>\n",
       "      <td>Rouen</td>\n",
       "      <td>FR</td>\n",
       "      <td>Normandy</td>\n",
       "      <td>49.440459</td>\n",
       "      <td>1.093966</td>\n",
       "      <td>2025-04-23 10:40:01</td>\n",
       "      <td>11.52</td>\n",
       "      <td>10.97</td>\n",
       "      <td>4.53</td>\n",
       "      <td>86.0</td>\n",
       "      <td>6.17</td>\n",
       "      <td>broken clouds</td>\n",
       "    </tr>\n",
       "  </tbody>\n",
       "</table>\n",
       "</div>"
      ],
      "text/plain": [
       "              cities               name country     state        lat  \\\n",
       "0  Mont Saint Michel  Mont Saint-Michel      FR  Normandy  48.635954   \n",
       "1            St Malo         Saint-Malo      FR  Brittany  48.649518   \n",
       "2             Bayeux             Bayeux      FR  Normandy  49.276462   \n",
       "3           Le Havre           Le Havre      FR  Normandy  49.493898   \n",
       "4              Rouen              Rouen      FR  Normandy  49.440459   \n",
       "\n",
       "        lon                date   temp  feels_like   uvi  humidity  \\\n",
       "0 -1.511460 2025-04-23 10:39:55  12.99       12.64  3.26      88.0   \n",
       "1 -2.026041 2025-04-23 10:40:00  12.29       12.03  4.91      94.0   \n",
       "2 -0.702474 2025-04-23 10:40:00  14.14       13.93  4.51      89.0   \n",
       "3  0.107973 2025-04-23 10:40:01  12.51       12.27  4.50      94.0   \n",
       "4  1.093966 2025-04-23 10:40:01  11.52       10.97  4.53      86.0   \n",
       "\n",
       "   wind_speed    description  \n",
       "0        9.01  broken clouds  \n",
       "1        7.20  broken clouds  \n",
       "2        4.76  broken clouds  \n",
       "3        6.69  broken clouds  \n",
       "4        6.17  broken clouds  "
      ]
     },
     "execution_count": 18,
     "metadata": {},
     "output_type": "execute_result"
    }
   ],
   "source": [
    "#conversion de la colonne date en formation datetime\n",
    "df['date'] = pd.to_datetime(df['date'], unit='s')\n",
    "df.head()"
   ]
  },
  {
   "cell_type": "code",
   "execution_count": 19,
   "metadata": {},
   "outputs": [],
   "source": [
    "# Enregistrer le DataFrame en fichier CSV\n",
    "df.to_csv('data/best_cities_weather.csv', index=False)"
   ]
  },
  {
   "cell_type": "markdown",
   "metadata": {},
   "source": [
    "# Rapide EDA "
   ]
  },
  {
   "cell_type": "code",
   "execution_count": 20,
   "metadata": {},
   "outputs": [
    {
     "data": {
      "text/html": [
       "<div>\n",
       "<style scoped>\n",
       "    .dataframe tbody tr th:only-of-type {\n",
       "        vertical-align: middle;\n",
       "    }\n",
       "\n",
       "    .dataframe tbody tr th {\n",
       "        vertical-align: top;\n",
       "    }\n",
       "\n",
       "    .dataframe thead th {\n",
       "        text-align: right;\n",
       "    }\n",
       "</style>\n",
       "<table border=\"1\" class=\"dataframe\">\n",
       "  <thead>\n",
       "    <tr style=\"text-align: right;\">\n",
       "      <th></th>\n",
       "      <th>cities</th>\n",
       "      <th>name</th>\n",
       "      <th>country</th>\n",
       "      <th>state</th>\n",
       "      <th>lat</th>\n",
       "      <th>lon</th>\n",
       "      <th>date</th>\n",
       "      <th>temp</th>\n",
       "      <th>feels_like</th>\n",
       "      <th>uvi</th>\n",
       "      <th>humidity</th>\n",
       "      <th>wind_speed</th>\n",
       "      <th>description</th>\n",
       "    </tr>\n",
       "  </thead>\n",
       "  <tbody>\n",
       "    <tr>\n",
       "      <th>0</th>\n",
       "      <td>Mont Saint Michel</td>\n",
       "      <td>Mont Saint-Michel</td>\n",
       "      <td>FR</td>\n",
       "      <td>Normandy</td>\n",
       "      <td>48.635954</td>\n",
       "      <td>-1.511460</td>\n",
       "      <td>2025-04-23 10:39:55</td>\n",
       "      <td>12.99</td>\n",
       "      <td>12.64</td>\n",
       "      <td>3.26</td>\n",
       "      <td>88.0</td>\n",
       "      <td>9.01</td>\n",
       "      <td>broken clouds</td>\n",
       "    </tr>\n",
       "    <tr>\n",
       "      <th>1</th>\n",
       "      <td>St Malo</td>\n",
       "      <td>Saint-Malo</td>\n",
       "      <td>FR</td>\n",
       "      <td>Brittany</td>\n",
       "      <td>48.649518</td>\n",
       "      <td>-2.026041</td>\n",
       "      <td>2025-04-23 10:40:00</td>\n",
       "      <td>12.29</td>\n",
       "      <td>12.03</td>\n",
       "      <td>4.91</td>\n",
       "      <td>94.0</td>\n",
       "      <td>7.20</td>\n",
       "      <td>broken clouds</td>\n",
       "    </tr>\n",
       "    <tr>\n",
       "      <th>2</th>\n",
       "      <td>Bayeux</td>\n",
       "      <td>Bayeux</td>\n",
       "      <td>FR</td>\n",
       "      <td>Normandy</td>\n",
       "      <td>49.276462</td>\n",
       "      <td>-0.702474</td>\n",
       "      <td>2025-04-23 10:40:00</td>\n",
       "      <td>14.14</td>\n",
       "      <td>13.93</td>\n",
       "      <td>4.51</td>\n",
       "      <td>89.0</td>\n",
       "      <td>4.76</td>\n",
       "      <td>broken clouds</td>\n",
       "    </tr>\n",
       "    <tr>\n",
       "      <th>3</th>\n",
       "      <td>Le Havre</td>\n",
       "      <td>Le Havre</td>\n",
       "      <td>FR</td>\n",
       "      <td>Normandy</td>\n",
       "      <td>49.493898</td>\n",
       "      <td>0.107973</td>\n",
       "      <td>2025-04-23 10:40:01</td>\n",
       "      <td>12.51</td>\n",
       "      <td>12.27</td>\n",
       "      <td>4.50</td>\n",
       "      <td>94.0</td>\n",
       "      <td>6.69</td>\n",
       "      <td>broken clouds</td>\n",
       "    </tr>\n",
       "    <tr>\n",
       "      <th>4</th>\n",
       "      <td>Rouen</td>\n",
       "      <td>Rouen</td>\n",
       "      <td>FR</td>\n",
       "      <td>Normandy</td>\n",
       "      <td>49.440459</td>\n",
       "      <td>1.093966</td>\n",
       "      <td>2025-04-23 10:40:01</td>\n",
       "      <td>11.52</td>\n",
       "      <td>10.97</td>\n",
       "      <td>4.53</td>\n",
       "      <td>86.0</td>\n",
       "      <td>6.17</td>\n",
       "      <td>broken clouds</td>\n",
       "    </tr>\n",
       "    <tr>\n",
       "      <th>5</th>\n",
       "      <td>Paris</td>\n",
       "      <td>Paris</td>\n",
       "      <td>FR</td>\n",
       "      <td>Ile-de-France</td>\n",
       "      <td>48.858890</td>\n",
       "      <td>2.320041</td>\n",
       "      <td>2025-04-23 10:40:01</td>\n",
       "      <td>11.32</td>\n",
       "      <td>10.91</td>\n",
       "      <td>4.52</td>\n",
       "      <td>92.0</td>\n",
       "      <td>5.66</td>\n",
       "      <td>light intensity drizzle</td>\n",
       "    </tr>\n",
       "    <tr>\n",
       "      <th>6</th>\n",
       "      <td>Amiens</td>\n",
       "      <td>Amiens</td>\n",
       "      <td>FR</td>\n",
       "      <td>Hauts-de-France</td>\n",
       "      <td>49.894171</td>\n",
       "      <td>2.295695</td>\n",
       "      <td>2025-04-23 10:40:01</td>\n",
       "      <td>10.10</td>\n",
       "      <td>9.57</td>\n",
       "      <td>1.10</td>\n",
       "      <td>92.0</td>\n",
       "      <td>4.43</td>\n",
       "      <td>overcast clouds</td>\n",
       "    </tr>\n",
       "    <tr>\n",
       "      <th>7</th>\n",
       "      <td>Lille</td>\n",
       "      <td>Lille</td>\n",
       "      <td>FR</td>\n",
       "      <td>Hauts-de-France</td>\n",
       "      <td>50.636565</td>\n",
       "      <td>3.063528</td>\n",
       "      <td>2025-04-23 10:40:01</td>\n",
       "      <td>9.37</td>\n",
       "      <td>6.07</td>\n",
       "      <td>0.82</td>\n",
       "      <td>71.0</td>\n",
       "      <td>7.20</td>\n",
       "      <td>light intensity drizzle</td>\n",
       "    </tr>\n",
       "    <tr>\n",
       "      <th>8</th>\n",
       "      <td>Strasbourg</td>\n",
       "      <td>Strasbourg</td>\n",
       "      <td>FR</td>\n",
       "      <td>Grand Est</td>\n",
       "      <td>48.584614</td>\n",
       "      <td>7.750713</td>\n",
       "      <td>2025-04-23 10:40:01</td>\n",
       "      <td>17.01</td>\n",
       "      <td>16.41</td>\n",
       "      <td>3.67</td>\n",
       "      <td>63.0</td>\n",
       "      <td>2.06</td>\n",
       "      <td>clear sky</td>\n",
       "    </tr>\n",
       "    <tr>\n",
       "      <th>9</th>\n",
       "      <td>Chateau du Haut Koenigsbourg</td>\n",
       "      <td>Château du Haut-Kœnigsbourg</td>\n",
       "      <td>FR</td>\n",
       "      <td>Grand Est</td>\n",
       "      <td>48.249523</td>\n",
       "      <td>7.345492</td>\n",
       "      <td>2025-04-23 10:40:01</td>\n",
       "      <td>12.90</td>\n",
       "      <td>12.00</td>\n",
       "      <td>5.07</td>\n",
       "      <td>67.0</td>\n",
       "      <td>1.03</td>\n",
       "      <td>clear sky</td>\n",
       "    </tr>\n",
       "    <tr>\n",
       "      <th>10</th>\n",
       "      <td>Colmar</td>\n",
       "      <td>Colmar</td>\n",
       "      <td>FR</td>\n",
       "      <td>Grand Est</td>\n",
       "      <td>48.077752</td>\n",
       "      <td>7.357964</td>\n",
       "      <td>2025-04-23 10:40:01</td>\n",
       "      <td>15.94</td>\n",
       "      <td>15.34</td>\n",
       "      <td>5.07</td>\n",
       "      <td>67.0</td>\n",
       "      <td>1.03</td>\n",
       "      <td>clear sky</td>\n",
       "    </tr>\n",
       "    <tr>\n",
       "      <th>11</th>\n",
       "      <td>Eguisheim</td>\n",
       "      <td>Eguisheim</td>\n",
       "      <td>FR</td>\n",
       "      <td>Grand Est</td>\n",
       "      <td>48.044797</td>\n",
       "      <td>7.307962</td>\n",
       "      <td>2025-04-23 10:40:02</td>\n",
       "      <td>15.90</td>\n",
       "      <td>15.30</td>\n",
       "      <td>5.07</td>\n",
       "      <td>67.0</td>\n",
       "      <td>1.03</td>\n",
       "      <td>clear sky</td>\n",
       "    </tr>\n",
       "    <tr>\n",
       "      <th>12</th>\n",
       "      <td>Besancon</td>\n",
       "      <td>Besançon</td>\n",
       "      <td>FR</td>\n",
       "      <td>Bourgogne-Franche-Comté</td>\n",
       "      <td>47.238022</td>\n",
       "      <td>6.024362</td>\n",
       "      <td>2025-04-23 10:40:02</td>\n",
       "      <td>14.13</td>\n",
       "      <td>13.56</td>\n",
       "      <td>3.53</td>\n",
       "      <td>75.0</td>\n",
       "      <td>5.30</td>\n",
       "      <td>overcast clouds</td>\n",
       "    </tr>\n",
       "    <tr>\n",
       "      <th>13</th>\n",
       "      <td>Dijon</td>\n",
       "      <td>Dijon</td>\n",
       "      <td>FR</td>\n",
       "      <td>Bourgogne-Franche-Comté</td>\n",
       "      <td>47.321581</td>\n",
       "      <td>5.041470</td>\n",
       "      <td>2025-04-23 10:40:02</td>\n",
       "      <td>12.80</td>\n",
       "      <td>12.12</td>\n",
       "      <td>2.28</td>\n",
       "      <td>76.0</td>\n",
       "      <td>2.57</td>\n",
       "      <td>light rain</td>\n",
       "    </tr>\n",
       "    <tr>\n",
       "      <th>14</th>\n",
       "      <td>Annecy</td>\n",
       "      <td>Annecy</td>\n",
       "      <td>FR</td>\n",
       "      <td>Auvergne-Rhône-Alpes</td>\n",
       "      <td>45.899235</td>\n",
       "      <td>6.128885</td>\n",
       "      <td>2025-04-23 10:40:02</td>\n",
       "      <td>15.08</td>\n",
       "      <td>14.29</td>\n",
       "      <td>5.29</td>\n",
       "      <td>63.0</td>\n",
       "      <td>4.63</td>\n",
       "      <td>broken clouds</td>\n",
       "    </tr>\n",
       "    <tr>\n",
       "      <th>15</th>\n",
       "      <td>Grenoble</td>\n",
       "      <td>Grenoble</td>\n",
       "      <td>FR</td>\n",
       "      <td>Auvergne-Rhône-Alpes</td>\n",
       "      <td>45.187560</td>\n",
       "      <td>5.735782</td>\n",
       "      <td>2025-04-23 10:40:02</td>\n",
       "      <td>15.43</td>\n",
       "      <td>15.14</td>\n",
       "      <td>4.79</td>\n",
       "      <td>81.0</td>\n",
       "      <td>0.89</td>\n",
       "      <td>overcast clouds</td>\n",
       "    </tr>\n",
       "    <tr>\n",
       "      <th>16</th>\n",
       "      <td>Lyon</td>\n",
       "      <td>Lyon</td>\n",
       "      <td>FR</td>\n",
       "      <td>Auvergne-Rhône-Alpes</td>\n",
       "      <td>45.757814</td>\n",
       "      <td>4.832011</td>\n",
       "      <td>2025-04-23 10:40:02</td>\n",
       "      <td>15.98</td>\n",
       "      <td>15.17</td>\n",
       "      <td>2.87</td>\n",
       "      <td>59.0</td>\n",
       "      <td>3.13</td>\n",
       "      <td>light rain</td>\n",
       "    </tr>\n",
       "    <tr>\n",
       "      <th>17</th>\n",
       "      <td>Bormes les Mimosas</td>\n",
       "      <td>Bormes-les-Mimosas</td>\n",
       "      <td>FR</td>\n",
       "      <td>Provence-Alpes-Côte d'Azur</td>\n",
       "      <td>43.150697</td>\n",
       "      <td>6.341928</td>\n",
       "      <td>2025-04-23 10:40:02</td>\n",
       "      <td>18.55</td>\n",
       "      <td>18.05</td>\n",
       "      <td>6.34</td>\n",
       "      <td>61.0</td>\n",
       "      <td>6.17</td>\n",
       "      <td>clear sky</td>\n",
       "    </tr>\n",
       "    <tr>\n",
       "      <th>18</th>\n",
       "      <td>Cassis</td>\n",
       "      <td>Cassis</td>\n",
       "      <td>FR</td>\n",
       "      <td>Provence-Alpes-Côte d'Azur</td>\n",
       "      <td>43.214036</td>\n",
       "      <td>5.539632</td>\n",
       "      <td>2025-04-23 10:40:02</td>\n",
       "      <td>19.58</td>\n",
       "      <td>18.90</td>\n",
       "      <td>6.29</td>\n",
       "      <td>50.0</td>\n",
       "      <td>9.08</td>\n",
       "      <td>clear sky</td>\n",
       "    </tr>\n",
       "    <tr>\n",
       "      <th>19</th>\n",
       "      <td>Marseille</td>\n",
       "      <td>Marseille</td>\n",
       "      <td>FR</td>\n",
       "      <td>Provence-Alpes-Côte d'Azur</td>\n",
       "      <td>43.296174</td>\n",
       "      <td>5.369953</td>\n",
       "      <td>2025-04-23 10:40:02</td>\n",
       "      <td>19.75</td>\n",
       "      <td>19.09</td>\n",
       "      <td>6.19</td>\n",
       "      <td>50.0</td>\n",
       "      <td>7.20</td>\n",
       "      <td>clear sky</td>\n",
       "    </tr>\n",
       "    <tr>\n",
       "      <th>20</th>\n",
       "      <td>Aix en Provence</td>\n",
       "      <td>Aix-en-Provence</td>\n",
       "      <td>FR</td>\n",
       "      <td>Provence-Alpes-Côte d'Azur</td>\n",
       "      <td>43.529842</td>\n",
       "      <td>5.447474</td>\n",
       "      <td>2025-04-23 10:40:03</td>\n",
       "      <td>18.01</td>\n",
       "      <td>16.91</td>\n",
       "      <td>5.81</td>\n",
       "      <td>40.0</td>\n",
       "      <td>6.22</td>\n",
       "      <td>clear sky</td>\n",
       "    </tr>\n",
       "    <tr>\n",
       "      <th>21</th>\n",
       "      <td>Avignon</td>\n",
       "      <td>Avignon</td>\n",
       "      <td>FR</td>\n",
       "      <td>Provence-Alpes-Côte d'Azur</td>\n",
       "      <td>43.949249</td>\n",
       "      <td>4.805901</td>\n",
       "      <td>2025-04-23 10:40:03</td>\n",
       "      <td>19.67</td>\n",
       "      <td>19.02</td>\n",
       "      <td>6.14</td>\n",
       "      <td>51.0</td>\n",
       "      <td>6.17</td>\n",
       "      <td>clear sky</td>\n",
       "    </tr>\n",
       "    <tr>\n",
       "      <th>22</th>\n",
       "      <td>Uzes</td>\n",
       "      <td>Uzès</td>\n",
       "      <td>FR</td>\n",
       "      <td>Occitania</td>\n",
       "      <td>44.012128</td>\n",
       "      <td>4.419672</td>\n",
       "      <td>2025-04-23 10:40:03</td>\n",
       "      <td>19.56</td>\n",
       "      <td>18.64</td>\n",
       "      <td>6.42</td>\n",
       "      <td>41.0</td>\n",
       "      <td>4.06</td>\n",
       "      <td>scattered clouds</td>\n",
       "    </tr>\n",
       "    <tr>\n",
       "      <th>23</th>\n",
       "      <td>Nimes</td>\n",
       "      <td>Nimes</td>\n",
       "      <td>FR</td>\n",
       "      <td>Occitania</td>\n",
       "      <td>43.837425</td>\n",
       "      <td>4.360069</td>\n",
       "      <td>2025-04-23 10:40:03</td>\n",
       "      <td>20.22</td>\n",
       "      <td>19.26</td>\n",
       "      <td>6.22</td>\n",
       "      <td>37.0</td>\n",
       "      <td>4.63</td>\n",
       "      <td>clear sky</td>\n",
       "    </tr>\n",
       "    <tr>\n",
       "      <th>24</th>\n",
       "      <td>Aigues Mortes</td>\n",
       "      <td>Aigues-Mortes</td>\n",
       "      <td>FR</td>\n",
       "      <td>Occitania</td>\n",
       "      <td>43.565823</td>\n",
       "      <td>4.191284</td>\n",
       "      <td>2025-04-23 10:40:03</td>\n",
       "      <td>19.77</td>\n",
       "      <td>18.85</td>\n",
       "      <td>6.22</td>\n",
       "      <td>40.0</td>\n",
       "      <td>7.72</td>\n",
       "      <td>clear sky</td>\n",
       "    </tr>\n",
       "    <tr>\n",
       "      <th>25</th>\n",
       "      <td>Saintes Maries de la mer</td>\n",
       "      <td>Saintes-Maries-de-la-Mer</td>\n",
       "      <td>FR</td>\n",
       "      <td>Provence-Alpes-Côte d'Azur</td>\n",
       "      <td>43.452277</td>\n",
       "      <td>4.428717</td>\n",
       "      <td>2025-04-23 10:40:03</td>\n",
       "      <td>17.64</td>\n",
       "      <td>16.90</td>\n",
       "      <td>6.03</td>\n",
       "      <td>55.0</td>\n",
       "      <td>6.02</td>\n",
       "      <td>clear sky</td>\n",
       "    </tr>\n",
       "    <tr>\n",
       "      <th>26</th>\n",
       "      <td>Collioure</td>\n",
       "      <td>Collioure</td>\n",
       "      <td>FR</td>\n",
       "      <td>Occitania</td>\n",
       "      <td>42.525050</td>\n",
       "      <td>3.083155</td>\n",
       "      <td>2025-04-23 10:40:03</td>\n",
       "      <td>20.50</td>\n",
       "      <td>19.94</td>\n",
       "      <td>5.98</td>\n",
       "      <td>51.0</td>\n",
       "      <td>2.16</td>\n",
       "      <td>broken clouds</td>\n",
       "    </tr>\n",
       "    <tr>\n",
       "      <th>27</th>\n",
       "      <td>Carcassonne</td>\n",
       "      <td>Carcassonne</td>\n",
       "      <td>FR</td>\n",
       "      <td>Occitania</td>\n",
       "      <td>43.213036</td>\n",
       "      <td>2.349107</td>\n",
       "      <td>2025-04-23 10:40:03</td>\n",
       "      <td>14.31</td>\n",
       "      <td>13.55</td>\n",
       "      <td>3.30</td>\n",
       "      <td>67.0</td>\n",
       "      <td>6.17</td>\n",
       "      <td>broken clouds</td>\n",
       "    </tr>\n",
       "    <tr>\n",
       "      <th>28</th>\n",
       "      <td>Ariege</td>\n",
       "      <td>Tarascon-sur-Ariège</td>\n",
       "      <td>FR</td>\n",
       "      <td>Occitania</td>\n",
       "      <td>42.845802</td>\n",
       "      <td>1.606759</td>\n",
       "      <td>2025-04-23 10:40:03</td>\n",
       "      <td>15.44</td>\n",
       "      <td>14.50</td>\n",
       "      <td>5.98</td>\n",
       "      <td>56.0</td>\n",
       "      <td>2.56</td>\n",
       "      <td>broken clouds</td>\n",
       "    </tr>\n",
       "    <tr>\n",
       "      <th>29</th>\n",
       "      <td>Toulouse</td>\n",
       "      <td>Toulouse</td>\n",
       "      <td>FR</td>\n",
       "      <td>Occitania</td>\n",
       "      <td>43.604462</td>\n",
       "      <td>1.444247</td>\n",
       "      <td>2025-04-23 10:40:03</td>\n",
       "      <td>13.97</td>\n",
       "      <td>13.30</td>\n",
       "      <td>0.52</td>\n",
       "      <td>72.0</td>\n",
       "      <td>4.63</td>\n",
       "      <td>broken clouds</td>\n",
       "    </tr>\n",
       "    <tr>\n",
       "      <th>30</th>\n",
       "      <td>Montauban</td>\n",
       "      <td>Montauban</td>\n",
       "      <td>FR</td>\n",
       "      <td>Occitania</td>\n",
       "      <td>44.017584</td>\n",
       "      <td>1.354999</td>\n",
       "      <td>2025-04-23 10:40:04</td>\n",
       "      <td>13.17</td>\n",
       "      <td>12.55</td>\n",
       "      <td>0.34</td>\n",
       "      <td>77.0</td>\n",
       "      <td>3.62</td>\n",
       "      <td>overcast clouds</td>\n",
       "    </tr>\n",
       "    <tr>\n",
       "      <th>31</th>\n",
       "      <td>Biarritz</td>\n",
       "      <td>Biarritz</td>\n",
       "      <td>FR</td>\n",
       "      <td>Nouvelle-Aquitaine</td>\n",
       "      <td>43.483252</td>\n",
       "      <td>-1.559278</td>\n",
       "      <td>2025-04-23 10:40:04</td>\n",
       "      <td>15.30</td>\n",
       "      <td>14.77</td>\n",
       "      <td>5.85</td>\n",
       "      <td>72.0</td>\n",
       "      <td>5.14</td>\n",
       "      <td>overcast clouds</td>\n",
       "    </tr>\n",
       "    <tr>\n",
       "      <th>32</th>\n",
       "      <td>Bayonne</td>\n",
       "      <td>Bayonne</td>\n",
       "      <td>FR</td>\n",
       "      <td>Nouvelle-Aquitaine</td>\n",
       "      <td>43.494514</td>\n",
       "      <td>-1.473666</td>\n",
       "      <td>2025-04-23 10:40:04</td>\n",
       "      <td>15.42</td>\n",
       "      <td>14.90</td>\n",
       "      <td>4.00</td>\n",
       "      <td>72.0</td>\n",
       "      <td>5.14</td>\n",
       "      <td>overcast clouds</td>\n",
       "    </tr>\n",
       "    <tr>\n",
       "      <th>33</th>\n",
       "      <td>La Rochelle</td>\n",
       "      <td>La Rochelle</td>\n",
       "      <td>FR</td>\n",
       "      <td>Nouvelle-Aquitaine</td>\n",
       "      <td>46.159113</td>\n",
       "      <td>-1.152043</td>\n",
       "      <td>2025-04-23 10:40:04</td>\n",
       "      <td>12.25</td>\n",
       "      <td>11.99</td>\n",
       "      <td>0.37</td>\n",
       "      <td>94.0</td>\n",
       "      <td>6.17</td>\n",
       "      <td>light rain</td>\n",
       "    </tr>\n",
       "    <tr>\n",
       "      <th>34</th>\n",
       "      <td>Gorges du Verdon</td>\n",
       "      <td>NaN</td>\n",
       "      <td>NaN</td>\n",
       "      <td>NaN</td>\n",
       "      <td>43.749656</td>\n",
       "      <td>6.328562</td>\n",
       "      <td>2025-04-23 10:40:04</td>\n",
       "      <td>19.98</td>\n",
       "      <td>19.42</td>\n",
       "      <td>6.38</td>\n",
       "      <td>53.0</td>\n",
       "      <td>3.53</td>\n",
       "      <td>clear sky</td>\n",
       "    </tr>\n",
       "  </tbody>\n",
       "</table>\n",
       "</div>"
      ],
      "text/plain": [
       "                          cities                         name country  \\\n",
       "0              Mont Saint Michel            Mont Saint-Michel      FR   \n",
       "1                        St Malo                   Saint-Malo      FR   \n",
       "2                         Bayeux                       Bayeux      FR   \n",
       "3                       Le Havre                     Le Havre      FR   \n",
       "4                          Rouen                        Rouen      FR   \n",
       "5                          Paris                        Paris      FR   \n",
       "6                         Amiens                       Amiens      FR   \n",
       "7                          Lille                        Lille      FR   \n",
       "8                     Strasbourg                   Strasbourg      FR   \n",
       "9   Chateau du Haut Koenigsbourg  Château du Haut-Kœnigsbourg      FR   \n",
       "10                        Colmar                       Colmar      FR   \n",
       "11                     Eguisheim                    Eguisheim      FR   \n",
       "12                      Besancon                     Besançon      FR   \n",
       "13                         Dijon                        Dijon      FR   \n",
       "14                        Annecy                       Annecy      FR   \n",
       "15                      Grenoble                     Grenoble      FR   \n",
       "16                          Lyon                         Lyon      FR   \n",
       "17            Bormes les Mimosas           Bormes-les-Mimosas      FR   \n",
       "18                        Cassis                       Cassis      FR   \n",
       "19                     Marseille                    Marseille      FR   \n",
       "20               Aix en Provence              Aix-en-Provence      FR   \n",
       "21                       Avignon                      Avignon      FR   \n",
       "22                          Uzes                         Uzès      FR   \n",
       "23                         Nimes                        Nimes      FR   \n",
       "24                 Aigues Mortes                Aigues-Mortes      FR   \n",
       "25      Saintes Maries de la mer     Saintes-Maries-de-la-Mer      FR   \n",
       "26                     Collioure                    Collioure      FR   \n",
       "27                   Carcassonne                  Carcassonne      FR   \n",
       "28                        Ariege          Tarascon-sur-Ariège      FR   \n",
       "29                      Toulouse                     Toulouse      FR   \n",
       "30                     Montauban                    Montauban      FR   \n",
       "31                      Biarritz                     Biarritz      FR   \n",
       "32                       Bayonne                      Bayonne      FR   \n",
       "33                   La Rochelle                  La Rochelle      FR   \n",
       "34              Gorges du Verdon                          NaN     NaN   \n",
       "\n",
       "                         state        lat       lon                 date  \\\n",
       "0                     Normandy  48.635954 -1.511460  2025-04-23 10:39:55   \n",
       "1                     Brittany  48.649518 -2.026041  2025-04-23 10:40:00   \n",
       "2                     Normandy  49.276462 -0.702474  2025-04-23 10:40:00   \n",
       "3                     Normandy  49.493898  0.107973  2025-04-23 10:40:01   \n",
       "4                     Normandy  49.440459  1.093966  2025-04-23 10:40:01   \n",
       "5                Ile-de-France  48.858890  2.320041  2025-04-23 10:40:01   \n",
       "6              Hauts-de-France  49.894171  2.295695  2025-04-23 10:40:01   \n",
       "7              Hauts-de-France  50.636565  3.063528  2025-04-23 10:40:01   \n",
       "8                    Grand Est  48.584614  7.750713  2025-04-23 10:40:01   \n",
       "9                    Grand Est  48.249523  7.345492  2025-04-23 10:40:01   \n",
       "10                   Grand Est  48.077752  7.357964  2025-04-23 10:40:01   \n",
       "11                   Grand Est  48.044797  7.307962  2025-04-23 10:40:02   \n",
       "12     Bourgogne-Franche-Comté  47.238022  6.024362  2025-04-23 10:40:02   \n",
       "13     Bourgogne-Franche-Comté  47.321581  5.041470  2025-04-23 10:40:02   \n",
       "14        Auvergne-Rhône-Alpes  45.899235  6.128885  2025-04-23 10:40:02   \n",
       "15        Auvergne-Rhône-Alpes  45.187560  5.735782  2025-04-23 10:40:02   \n",
       "16        Auvergne-Rhône-Alpes  45.757814  4.832011  2025-04-23 10:40:02   \n",
       "17  Provence-Alpes-Côte d'Azur  43.150697  6.341928  2025-04-23 10:40:02   \n",
       "18  Provence-Alpes-Côte d'Azur  43.214036  5.539632  2025-04-23 10:40:02   \n",
       "19  Provence-Alpes-Côte d'Azur  43.296174  5.369953  2025-04-23 10:40:02   \n",
       "20  Provence-Alpes-Côte d'Azur  43.529842  5.447474  2025-04-23 10:40:03   \n",
       "21  Provence-Alpes-Côte d'Azur  43.949249  4.805901  2025-04-23 10:40:03   \n",
       "22                   Occitania  44.012128  4.419672  2025-04-23 10:40:03   \n",
       "23                   Occitania  43.837425  4.360069  2025-04-23 10:40:03   \n",
       "24                   Occitania  43.565823  4.191284  2025-04-23 10:40:03   \n",
       "25  Provence-Alpes-Côte d'Azur  43.452277  4.428717  2025-04-23 10:40:03   \n",
       "26                   Occitania  42.525050  3.083155  2025-04-23 10:40:03   \n",
       "27                   Occitania  43.213036  2.349107  2025-04-23 10:40:03   \n",
       "28                   Occitania  42.845802  1.606759  2025-04-23 10:40:03   \n",
       "29                   Occitania  43.604462  1.444247  2025-04-23 10:40:03   \n",
       "30                   Occitania  44.017584  1.354999  2025-04-23 10:40:04   \n",
       "31          Nouvelle-Aquitaine  43.483252 -1.559278  2025-04-23 10:40:04   \n",
       "32          Nouvelle-Aquitaine  43.494514 -1.473666  2025-04-23 10:40:04   \n",
       "33          Nouvelle-Aquitaine  46.159113 -1.152043  2025-04-23 10:40:04   \n",
       "34                         NaN  43.749656  6.328562  2025-04-23 10:40:04   \n",
       "\n",
       "     temp  feels_like   uvi  humidity  wind_speed              description  \n",
       "0   12.99       12.64  3.26      88.0        9.01            broken clouds  \n",
       "1   12.29       12.03  4.91      94.0        7.20            broken clouds  \n",
       "2   14.14       13.93  4.51      89.0        4.76            broken clouds  \n",
       "3   12.51       12.27  4.50      94.0        6.69            broken clouds  \n",
       "4   11.52       10.97  4.53      86.0        6.17            broken clouds  \n",
       "5   11.32       10.91  4.52      92.0        5.66  light intensity drizzle  \n",
       "6   10.10        9.57  1.10      92.0        4.43          overcast clouds  \n",
       "7    9.37        6.07  0.82      71.0        7.20  light intensity drizzle  \n",
       "8   17.01       16.41  3.67      63.0        2.06                clear sky  \n",
       "9   12.90       12.00  5.07      67.0        1.03                clear sky  \n",
       "10  15.94       15.34  5.07      67.0        1.03                clear sky  \n",
       "11  15.90       15.30  5.07      67.0        1.03                clear sky  \n",
       "12  14.13       13.56  3.53      75.0        5.30          overcast clouds  \n",
       "13  12.80       12.12  2.28      76.0        2.57               light rain  \n",
       "14  15.08       14.29  5.29      63.0        4.63            broken clouds  \n",
       "15  15.43       15.14  4.79      81.0        0.89          overcast clouds  \n",
       "16  15.98       15.17  2.87      59.0        3.13               light rain  \n",
       "17  18.55       18.05  6.34      61.0        6.17                clear sky  \n",
       "18  19.58       18.90  6.29      50.0        9.08                clear sky  \n",
       "19  19.75       19.09  6.19      50.0        7.20                clear sky  \n",
       "20  18.01       16.91  5.81      40.0        6.22                clear sky  \n",
       "21  19.67       19.02  6.14      51.0        6.17                clear sky  \n",
       "22  19.56       18.64  6.42      41.0        4.06         scattered clouds  \n",
       "23  20.22       19.26  6.22      37.0        4.63                clear sky  \n",
       "24  19.77       18.85  6.22      40.0        7.72                clear sky  \n",
       "25  17.64       16.90  6.03      55.0        6.02                clear sky  \n",
       "26  20.50       19.94  5.98      51.0        2.16            broken clouds  \n",
       "27  14.31       13.55  3.30      67.0        6.17            broken clouds  \n",
       "28  15.44       14.50  5.98      56.0        2.56            broken clouds  \n",
       "29  13.97       13.30  0.52      72.0        4.63            broken clouds  \n",
       "30  13.17       12.55  0.34      77.0        3.62          overcast clouds  \n",
       "31  15.30       14.77  5.85      72.0        5.14          overcast clouds  \n",
       "32  15.42       14.90  4.00      72.0        5.14          overcast clouds  \n",
       "33  12.25       11.99  0.37      94.0        6.17               light rain  \n",
       "34  19.98       19.42  6.38      53.0        3.53                clear sky  "
      ]
     },
     "execution_count": 20,
     "metadata": {},
     "output_type": "execute_result"
    }
   ],
   "source": [
    "bc = pd.read_csv(\"data/best_cities_weather.csv\")\n",
    "bc"
   ]
  },
  {
   "cell_type": "code",
   "execution_count": 21,
   "metadata": {},
   "outputs": [
    {
     "data": {
      "text/plain": [
       "(35, 13)"
      ]
     },
     "execution_count": 21,
     "metadata": {},
     "output_type": "execute_result"
    }
   ],
   "source": [
    "bc.shape"
   ]
  },
  {
   "cell_type": "code",
   "execution_count": 22,
   "metadata": {},
   "outputs": [
    {
     "data": {
      "application/vnd.plotly.v1+json": {
       "config": {
        "plotlyServerURL": "https://plot.ly"
       },
       "data": [
        {
         "hovertemplate": "Température (°C)=%{x}<br>Ville=%{y}<extra></extra>",
         "legendgroup": "",
         "marker": {
          "color": "#636efa",
          "pattern": {
           "shape": ""
          }
         },
         "name": "",
         "orientation": "h",
         "showlegend": false,
         "textposition": "auto",
         "type": "bar",
         "x": {
          "bdata": "PQrXo3C9IkAzMzMzMzMkQKRwPQrXoyZACtejcD0KJ0AAAAAAAIAoQBSuR+F6lChAhetRuB4FKUCamZmZmZkpQM3MzMzMzClAexSuR+H6KUDXo3A9ClcqQHE9Ctej8CtAw/UoXI9CLEBI4XoUrkcsQB+F61G4nixAKVyPwvUoLkCamZmZmZkuQNejcD0K1y5AXI/C9SjcLkDhehSuR+EuQM3MzMzMzC9A4XoUrkfhL0D2KFyPwvUvQMP1KFyPAjFApHA9CtejMUDD9ShcjwIyQM3MzMzMjDJAj8L1KFyPM0AUrkfhepQzQOxRuB6FqzNAAAAAAADAM0CF61G4HsUzQHsUrkfh+jNAuB6F61E4NEAAAAAAAIA0QA==",
          "dtype": "f8"
         },
         "xaxis": "x",
         "y": [
          "Lille",
          "Amiens",
          "Paris",
          "Rouen",
          "La Rochelle",
          "St Malo",
          "Le Havre",
          "Dijon",
          "Chateau du Haut Koenigsbourg",
          "Mont Saint Michel",
          "Montauban",
          "Toulouse",
          "Besancon",
          "Bayeux",
          "Carcassonne",
          "Annecy",
          "Biarritz",
          "Bayonne",
          "Grenoble",
          "Ariege",
          "Eguisheim",
          "Colmar",
          "Lyon",
          "Strasbourg",
          "Saintes Maries de la mer",
          "Aix en Provence",
          "Bormes les Mimosas",
          "Uzes",
          "Cassis",
          "Avignon",
          "Marseille",
          "Aigues Mortes",
          "Gorges du Verdon",
          "Nimes",
          "Collioure"
         ],
         "yaxis": "y"
        }
       ],
       "layout": {
        "barmode": "relative",
        "height": 800,
        "legend": {
         "tracegroupgap": 0
        },
        "template": {
         "data": {
          "bar": [
           {
            "error_x": {
             "color": "#2a3f5f"
            },
            "error_y": {
             "color": "#2a3f5f"
            },
            "marker": {
             "line": {
              "color": "#E5ECF6",
              "width": 0.5
             },
             "pattern": {
              "fillmode": "overlay",
              "size": 10,
              "solidity": 0.2
             }
            },
            "type": "bar"
           }
          ],
          "barpolar": [
           {
            "marker": {
             "line": {
              "color": "#E5ECF6",
              "width": 0.5
             },
             "pattern": {
              "fillmode": "overlay",
              "size": 10,
              "solidity": 0.2
             }
            },
            "type": "barpolar"
           }
          ],
          "carpet": [
           {
            "aaxis": {
             "endlinecolor": "#2a3f5f",
             "gridcolor": "white",
             "linecolor": "white",
             "minorgridcolor": "white",
             "startlinecolor": "#2a3f5f"
            },
            "baxis": {
             "endlinecolor": "#2a3f5f",
             "gridcolor": "white",
             "linecolor": "white",
             "minorgridcolor": "white",
             "startlinecolor": "#2a3f5f"
            },
            "type": "carpet"
           }
          ],
          "choropleth": [
           {
            "colorbar": {
             "outlinewidth": 0,
             "ticks": ""
            },
            "type": "choropleth"
           }
          ],
          "contour": [
           {
            "colorbar": {
             "outlinewidth": 0,
             "ticks": ""
            },
            "colorscale": [
             [
              0,
              "#0d0887"
             ],
             [
              0.1111111111111111,
              "#46039f"
             ],
             [
              0.2222222222222222,
              "#7201a8"
             ],
             [
              0.3333333333333333,
              "#9c179e"
             ],
             [
              0.4444444444444444,
              "#bd3786"
             ],
             [
              0.5555555555555556,
              "#d8576b"
             ],
             [
              0.6666666666666666,
              "#ed7953"
             ],
             [
              0.7777777777777778,
              "#fb9f3a"
             ],
             [
              0.8888888888888888,
              "#fdca26"
             ],
             [
              1,
              "#f0f921"
             ]
            ],
            "type": "contour"
           }
          ],
          "contourcarpet": [
           {
            "colorbar": {
             "outlinewidth": 0,
             "ticks": ""
            },
            "type": "contourcarpet"
           }
          ],
          "heatmap": [
           {
            "colorbar": {
             "outlinewidth": 0,
             "ticks": ""
            },
            "colorscale": [
             [
              0,
              "#0d0887"
             ],
             [
              0.1111111111111111,
              "#46039f"
             ],
             [
              0.2222222222222222,
              "#7201a8"
             ],
             [
              0.3333333333333333,
              "#9c179e"
             ],
             [
              0.4444444444444444,
              "#bd3786"
             ],
             [
              0.5555555555555556,
              "#d8576b"
             ],
             [
              0.6666666666666666,
              "#ed7953"
             ],
             [
              0.7777777777777778,
              "#fb9f3a"
             ],
             [
              0.8888888888888888,
              "#fdca26"
             ],
             [
              1,
              "#f0f921"
             ]
            ],
            "type": "heatmap"
           }
          ],
          "histogram": [
           {
            "marker": {
             "pattern": {
              "fillmode": "overlay",
              "size": 10,
              "solidity": 0.2
             }
            },
            "type": "histogram"
           }
          ],
          "histogram2d": [
           {
            "colorbar": {
             "outlinewidth": 0,
             "ticks": ""
            },
            "colorscale": [
             [
              0,
              "#0d0887"
             ],
             [
              0.1111111111111111,
              "#46039f"
             ],
             [
              0.2222222222222222,
              "#7201a8"
             ],
             [
              0.3333333333333333,
              "#9c179e"
             ],
             [
              0.4444444444444444,
              "#bd3786"
             ],
             [
              0.5555555555555556,
              "#d8576b"
             ],
             [
              0.6666666666666666,
              "#ed7953"
             ],
             [
              0.7777777777777778,
              "#fb9f3a"
             ],
             [
              0.8888888888888888,
              "#fdca26"
             ],
             [
              1,
              "#f0f921"
             ]
            ],
            "type": "histogram2d"
           }
          ],
          "histogram2dcontour": [
           {
            "colorbar": {
             "outlinewidth": 0,
             "ticks": ""
            },
            "colorscale": [
             [
              0,
              "#0d0887"
             ],
             [
              0.1111111111111111,
              "#46039f"
             ],
             [
              0.2222222222222222,
              "#7201a8"
             ],
             [
              0.3333333333333333,
              "#9c179e"
             ],
             [
              0.4444444444444444,
              "#bd3786"
             ],
             [
              0.5555555555555556,
              "#d8576b"
             ],
             [
              0.6666666666666666,
              "#ed7953"
             ],
             [
              0.7777777777777778,
              "#fb9f3a"
             ],
             [
              0.8888888888888888,
              "#fdca26"
             ],
             [
              1,
              "#f0f921"
             ]
            ],
            "type": "histogram2dcontour"
           }
          ],
          "mesh3d": [
           {
            "colorbar": {
             "outlinewidth": 0,
             "ticks": ""
            },
            "type": "mesh3d"
           }
          ],
          "parcoords": [
           {
            "line": {
             "colorbar": {
              "outlinewidth": 0,
              "ticks": ""
             }
            },
            "type": "parcoords"
           }
          ],
          "pie": [
           {
            "automargin": true,
            "type": "pie"
           }
          ],
          "scatter": [
           {
            "fillpattern": {
             "fillmode": "overlay",
             "size": 10,
             "solidity": 0.2
            },
            "type": "scatter"
           }
          ],
          "scatter3d": [
           {
            "line": {
             "colorbar": {
              "outlinewidth": 0,
              "ticks": ""
             }
            },
            "marker": {
             "colorbar": {
              "outlinewidth": 0,
              "ticks": ""
             }
            },
            "type": "scatter3d"
           }
          ],
          "scattercarpet": [
           {
            "marker": {
             "colorbar": {
              "outlinewidth": 0,
              "ticks": ""
             }
            },
            "type": "scattercarpet"
           }
          ],
          "scattergeo": [
           {
            "marker": {
             "colorbar": {
              "outlinewidth": 0,
              "ticks": ""
             }
            },
            "type": "scattergeo"
           }
          ],
          "scattergl": [
           {
            "marker": {
             "colorbar": {
              "outlinewidth": 0,
              "ticks": ""
             }
            },
            "type": "scattergl"
           }
          ],
          "scattermap": [
           {
            "marker": {
             "colorbar": {
              "outlinewidth": 0,
              "ticks": ""
             }
            },
            "type": "scattermap"
           }
          ],
          "scattermapbox": [
           {
            "marker": {
             "colorbar": {
              "outlinewidth": 0,
              "ticks": ""
             }
            },
            "type": "scattermapbox"
           }
          ],
          "scatterpolar": [
           {
            "marker": {
             "colorbar": {
              "outlinewidth": 0,
              "ticks": ""
             }
            },
            "type": "scatterpolar"
           }
          ],
          "scatterpolargl": [
           {
            "marker": {
             "colorbar": {
              "outlinewidth": 0,
              "ticks": ""
             }
            },
            "type": "scatterpolargl"
           }
          ],
          "scatterternary": [
           {
            "marker": {
             "colorbar": {
              "outlinewidth": 0,
              "ticks": ""
             }
            },
            "type": "scatterternary"
           }
          ],
          "surface": [
           {
            "colorbar": {
             "outlinewidth": 0,
             "ticks": ""
            },
            "colorscale": [
             [
              0,
              "#0d0887"
             ],
             [
              0.1111111111111111,
              "#46039f"
             ],
             [
              0.2222222222222222,
              "#7201a8"
             ],
             [
              0.3333333333333333,
              "#9c179e"
             ],
             [
              0.4444444444444444,
              "#bd3786"
             ],
             [
              0.5555555555555556,
              "#d8576b"
             ],
             [
              0.6666666666666666,
              "#ed7953"
             ],
             [
              0.7777777777777778,
              "#fb9f3a"
             ],
             [
              0.8888888888888888,
              "#fdca26"
             ],
             [
              1,
              "#f0f921"
             ]
            ],
            "type": "surface"
           }
          ],
          "table": [
           {
            "cells": {
             "fill": {
              "color": "#EBF0F8"
             },
             "line": {
              "color": "white"
             }
            },
            "header": {
             "fill": {
              "color": "#C8D4E3"
             },
             "line": {
              "color": "white"
             }
            },
            "type": "table"
           }
          ]
         },
         "layout": {
          "annotationdefaults": {
           "arrowcolor": "#2a3f5f",
           "arrowhead": 0,
           "arrowwidth": 1
          },
          "autotypenumbers": "strict",
          "coloraxis": {
           "colorbar": {
            "outlinewidth": 0,
            "ticks": ""
           }
          },
          "colorscale": {
           "diverging": [
            [
             0,
             "#8e0152"
            ],
            [
             0.1,
             "#c51b7d"
            ],
            [
             0.2,
             "#de77ae"
            ],
            [
             0.3,
             "#f1b6da"
            ],
            [
             0.4,
             "#fde0ef"
            ],
            [
             0.5,
             "#f7f7f7"
            ],
            [
             0.6,
             "#e6f5d0"
            ],
            [
             0.7,
             "#b8e186"
            ],
            [
             0.8,
             "#7fbc41"
            ],
            [
             0.9,
             "#4d9221"
            ],
            [
             1,
             "#276419"
            ]
           ],
           "sequential": [
            [
             0,
             "#0d0887"
            ],
            [
             0.1111111111111111,
             "#46039f"
            ],
            [
             0.2222222222222222,
             "#7201a8"
            ],
            [
             0.3333333333333333,
             "#9c179e"
            ],
            [
             0.4444444444444444,
             "#bd3786"
            ],
            [
             0.5555555555555556,
             "#d8576b"
            ],
            [
             0.6666666666666666,
             "#ed7953"
            ],
            [
             0.7777777777777778,
             "#fb9f3a"
            ],
            [
             0.8888888888888888,
             "#fdca26"
            ],
            [
             1,
             "#f0f921"
            ]
           ],
           "sequentialminus": [
            [
             0,
             "#0d0887"
            ],
            [
             0.1111111111111111,
             "#46039f"
            ],
            [
             0.2222222222222222,
             "#7201a8"
            ],
            [
             0.3333333333333333,
             "#9c179e"
            ],
            [
             0.4444444444444444,
             "#bd3786"
            ],
            [
             0.5555555555555556,
             "#d8576b"
            ],
            [
             0.6666666666666666,
             "#ed7953"
            ],
            [
             0.7777777777777778,
             "#fb9f3a"
            ],
            [
             0.8888888888888888,
             "#fdca26"
            ],
            [
             1,
             "#f0f921"
            ]
           ]
          },
          "colorway": [
           "#636efa",
           "#EF553B",
           "#00cc96",
           "#ab63fa",
           "#FFA15A",
           "#19d3f3",
           "#FF6692",
           "#B6E880",
           "#FF97FF",
           "#FECB52"
          ],
          "font": {
           "color": "#2a3f5f"
          },
          "geo": {
           "bgcolor": "white",
           "lakecolor": "white",
           "landcolor": "#E5ECF6",
           "showlakes": true,
           "showland": true,
           "subunitcolor": "white"
          },
          "hoverlabel": {
           "align": "left"
          },
          "hovermode": "closest",
          "mapbox": {
           "style": "light"
          },
          "paper_bgcolor": "white",
          "plot_bgcolor": "#E5ECF6",
          "polar": {
           "angularaxis": {
            "gridcolor": "white",
            "linecolor": "white",
            "ticks": ""
           },
           "bgcolor": "#E5ECF6",
           "radialaxis": {
            "gridcolor": "white",
            "linecolor": "white",
            "ticks": ""
           }
          },
          "scene": {
           "xaxis": {
            "backgroundcolor": "#E5ECF6",
            "gridcolor": "white",
            "gridwidth": 2,
            "linecolor": "white",
            "showbackground": true,
            "ticks": "",
            "zerolinecolor": "white"
           },
           "yaxis": {
            "backgroundcolor": "#E5ECF6",
            "gridcolor": "white",
            "gridwidth": 2,
            "linecolor": "white",
            "showbackground": true,
            "ticks": "",
            "zerolinecolor": "white"
           },
           "zaxis": {
            "backgroundcolor": "#E5ECF6",
            "gridcolor": "white",
            "gridwidth": 2,
            "linecolor": "white",
            "showbackground": true,
            "ticks": "",
            "zerolinecolor": "white"
           }
          },
          "shapedefaults": {
           "line": {
            "color": "#2a3f5f"
           }
          },
          "ternary": {
           "aaxis": {
            "gridcolor": "white",
            "linecolor": "white",
            "ticks": ""
           },
           "baxis": {
            "gridcolor": "white",
            "linecolor": "white",
            "ticks": ""
           },
           "bgcolor": "#E5ECF6",
           "caxis": {
            "gridcolor": "white",
            "linecolor": "white",
            "ticks": ""
           }
          },
          "title": {
           "x": 0.05
          },
          "xaxis": {
           "automargin": true,
           "gridcolor": "white",
           "linecolor": "white",
           "ticks": "",
           "title": {
            "standoff": 15
           },
           "zerolinecolor": "white",
           "zerolinewidth": 2
          },
          "yaxis": {
           "automargin": true,
           "gridcolor": "white",
           "linecolor": "white",
           "ticks": "",
           "title": {
            "standoff": 15
           },
           "zerolinecolor": "white",
           "zerolinewidth": 2
          }
         }
        },
        "title": {
         "text": "Températures par Ville"
        },
        "xaxis": {
         "anchor": "y",
         "domain": [
          0,
          1
         ],
         "title": {
          "text": "Température (°C)"
         }
        },
        "yaxis": {
         "anchor": "x",
         "domain": [
          0,
          1
         ],
         "title": {
          "text": "Ville"
         }
        }
       }
      }
     },
     "metadata": {},
     "output_type": "display_data"
    }
   ],
   "source": [
    "df_sorted = bc.sort_values(by='temp', ascending=True)\n",
    "\n",
    "# Créer un diagramme en bâtons horizontal\n",
    "fig = px.bar(df_sorted, x='temp', y='cities', orientation='h',\n",
    "             title='Températures par Ville',\n",
    "             labels={'temp': 'Température (°C)', 'cities': 'Ville'})\n",
    "\n",
    "# Ajuster la hauteur du graphique\n",
    "fig.update_layout(height=800)\n",
    "\n",
    "# Afficher le diagramme\n",
    "fig.show()"
   ]
  },
  {
   "cell_type": "code",
   "execution_count": 23,
   "metadata": {},
   "outputs": [
    {
     "data": {
      "application/vnd.plotly.v1+json": {
       "config": {
        "plotlyServerURL": "https://plot.ly"
       },
       "data": [
        {
         "hovertemplate": "Température ressentie (°C)=%{x}<br>Ville=%{y}<extra></extra>",
         "legendgroup": "",
         "marker": {
          "color": "#636efa",
          "pattern": {
           "shape": ""
          }
         },
         "name": "",
         "orientation": "h",
         "showlegend": false,
         "textposition": "auto",
         "type": "bar",
         "x": {
          "bdata": "SOF6FK5HGECkcD0K1yMjQFK4HoXr0SVAcT0K16PwJUB7FK5H4fonQAAAAAAAAChAj8L1KFwPKEA9CtejcD0oQArXo3A9iihAmpmZmZkZKUBI4XoUrkcpQJqZmZmZmSpAmpmZmZkZK0AfhetRuB4rQFyPwvUo3CtAFK5H4XqULEAAAAAAAAAtQArXo3A9ii1AzczMzMzMLUBI4XoUrkcuQNejcD0KVy5AmpmZmZmZLkCuR+F6FK4uQClcj8L1aDBAZmZmZmbmMEApXI/C9egwQM3MzMzMDDJApHA9CtejMkCamZmZmdkyQGZmZmZm5jJAhetRuB4FM0DXo3A9ChczQMP1KFyPQjNA7FG4HoVrM0BxPQrXo/AzQA==",
          "dtype": "f8"
         },
         "xaxis": "x",
         "y": [
          "Lille",
          "Amiens",
          "Paris",
          "Rouen",
          "La Rochelle",
          "Chateau du Haut Koenigsbourg",
          "St Malo",
          "Dijon",
          "Le Havre",
          "Montauban",
          "Mont Saint Michel",
          "Toulouse",
          "Carcassonne",
          "Besancon",
          "Bayeux",
          "Annecy",
          "Ariege",
          "Biarritz",
          "Bayonne",
          "Grenoble",
          "Lyon",
          "Eguisheim",
          "Colmar",
          "Strasbourg",
          "Saintes Maries de la mer",
          "Aix en Provence",
          "Bormes les Mimosas",
          "Uzes",
          "Aigues Mortes",
          "Cassis",
          "Avignon",
          "Marseille",
          "Nimes",
          "Gorges du Verdon",
          "Collioure"
         ],
         "yaxis": "y"
        }
       ],
       "layout": {
        "barmode": "relative",
        "height": 800,
        "legend": {
         "tracegroupgap": 0
        },
        "template": {
         "data": {
          "bar": [
           {
            "error_x": {
             "color": "#2a3f5f"
            },
            "error_y": {
             "color": "#2a3f5f"
            },
            "marker": {
             "line": {
              "color": "#E5ECF6",
              "width": 0.5
             },
             "pattern": {
              "fillmode": "overlay",
              "size": 10,
              "solidity": 0.2
             }
            },
            "type": "bar"
           }
          ],
          "barpolar": [
           {
            "marker": {
             "line": {
              "color": "#E5ECF6",
              "width": 0.5
             },
             "pattern": {
              "fillmode": "overlay",
              "size": 10,
              "solidity": 0.2
             }
            },
            "type": "barpolar"
           }
          ],
          "carpet": [
           {
            "aaxis": {
             "endlinecolor": "#2a3f5f",
             "gridcolor": "white",
             "linecolor": "white",
             "minorgridcolor": "white",
             "startlinecolor": "#2a3f5f"
            },
            "baxis": {
             "endlinecolor": "#2a3f5f",
             "gridcolor": "white",
             "linecolor": "white",
             "minorgridcolor": "white",
             "startlinecolor": "#2a3f5f"
            },
            "type": "carpet"
           }
          ],
          "choropleth": [
           {
            "colorbar": {
             "outlinewidth": 0,
             "ticks": ""
            },
            "type": "choropleth"
           }
          ],
          "contour": [
           {
            "colorbar": {
             "outlinewidth": 0,
             "ticks": ""
            },
            "colorscale": [
             [
              0,
              "#0d0887"
             ],
             [
              0.1111111111111111,
              "#46039f"
             ],
             [
              0.2222222222222222,
              "#7201a8"
             ],
             [
              0.3333333333333333,
              "#9c179e"
             ],
             [
              0.4444444444444444,
              "#bd3786"
             ],
             [
              0.5555555555555556,
              "#d8576b"
             ],
             [
              0.6666666666666666,
              "#ed7953"
             ],
             [
              0.7777777777777778,
              "#fb9f3a"
             ],
             [
              0.8888888888888888,
              "#fdca26"
             ],
             [
              1,
              "#f0f921"
             ]
            ],
            "type": "contour"
           }
          ],
          "contourcarpet": [
           {
            "colorbar": {
             "outlinewidth": 0,
             "ticks": ""
            },
            "type": "contourcarpet"
           }
          ],
          "heatmap": [
           {
            "colorbar": {
             "outlinewidth": 0,
             "ticks": ""
            },
            "colorscale": [
             [
              0,
              "#0d0887"
             ],
             [
              0.1111111111111111,
              "#46039f"
             ],
             [
              0.2222222222222222,
              "#7201a8"
             ],
             [
              0.3333333333333333,
              "#9c179e"
             ],
             [
              0.4444444444444444,
              "#bd3786"
             ],
             [
              0.5555555555555556,
              "#d8576b"
             ],
             [
              0.6666666666666666,
              "#ed7953"
             ],
             [
              0.7777777777777778,
              "#fb9f3a"
             ],
             [
              0.8888888888888888,
              "#fdca26"
             ],
             [
              1,
              "#f0f921"
             ]
            ],
            "type": "heatmap"
           }
          ],
          "histogram": [
           {
            "marker": {
             "pattern": {
              "fillmode": "overlay",
              "size": 10,
              "solidity": 0.2
             }
            },
            "type": "histogram"
           }
          ],
          "histogram2d": [
           {
            "colorbar": {
             "outlinewidth": 0,
             "ticks": ""
            },
            "colorscale": [
             [
              0,
              "#0d0887"
             ],
             [
              0.1111111111111111,
              "#46039f"
             ],
             [
              0.2222222222222222,
              "#7201a8"
             ],
             [
              0.3333333333333333,
              "#9c179e"
             ],
             [
              0.4444444444444444,
              "#bd3786"
             ],
             [
              0.5555555555555556,
              "#d8576b"
             ],
             [
              0.6666666666666666,
              "#ed7953"
             ],
             [
              0.7777777777777778,
              "#fb9f3a"
             ],
             [
              0.8888888888888888,
              "#fdca26"
             ],
             [
              1,
              "#f0f921"
             ]
            ],
            "type": "histogram2d"
           }
          ],
          "histogram2dcontour": [
           {
            "colorbar": {
             "outlinewidth": 0,
             "ticks": ""
            },
            "colorscale": [
             [
              0,
              "#0d0887"
             ],
             [
              0.1111111111111111,
              "#46039f"
             ],
             [
              0.2222222222222222,
              "#7201a8"
             ],
             [
              0.3333333333333333,
              "#9c179e"
             ],
             [
              0.4444444444444444,
              "#bd3786"
             ],
             [
              0.5555555555555556,
              "#d8576b"
             ],
             [
              0.6666666666666666,
              "#ed7953"
             ],
             [
              0.7777777777777778,
              "#fb9f3a"
             ],
             [
              0.8888888888888888,
              "#fdca26"
             ],
             [
              1,
              "#f0f921"
             ]
            ],
            "type": "histogram2dcontour"
           }
          ],
          "mesh3d": [
           {
            "colorbar": {
             "outlinewidth": 0,
             "ticks": ""
            },
            "type": "mesh3d"
           }
          ],
          "parcoords": [
           {
            "line": {
             "colorbar": {
              "outlinewidth": 0,
              "ticks": ""
             }
            },
            "type": "parcoords"
           }
          ],
          "pie": [
           {
            "automargin": true,
            "type": "pie"
           }
          ],
          "scatter": [
           {
            "fillpattern": {
             "fillmode": "overlay",
             "size": 10,
             "solidity": 0.2
            },
            "type": "scatter"
           }
          ],
          "scatter3d": [
           {
            "line": {
             "colorbar": {
              "outlinewidth": 0,
              "ticks": ""
             }
            },
            "marker": {
             "colorbar": {
              "outlinewidth": 0,
              "ticks": ""
             }
            },
            "type": "scatter3d"
           }
          ],
          "scattercarpet": [
           {
            "marker": {
             "colorbar": {
              "outlinewidth": 0,
              "ticks": ""
             }
            },
            "type": "scattercarpet"
           }
          ],
          "scattergeo": [
           {
            "marker": {
             "colorbar": {
              "outlinewidth": 0,
              "ticks": ""
             }
            },
            "type": "scattergeo"
           }
          ],
          "scattergl": [
           {
            "marker": {
             "colorbar": {
              "outlinewidth": 0,
              "ticks": ""
             }
            },
            "type": "scattergl"
           }
          ],
          "scattermap": [
           {
            "marker": {
             "colorbar": {
              "outlinewidth": 0,
              "ticks": ""
             }
            },
            "type": "scattermap"
           }
          ],
          "scattermapbox": [
           {
            "marker": {
             "colorbar": {
              "outlinewidth": 0,
              "ticks": ""
             }
            },
            "type": "scattermapbox"
           }
          ],
          "scatterpolar": [
           {
            "marker": {
             "colorbar": {
              "outlinewidth": 0,
              "ticks": ""
             }
            },
            "type": "scatterpolar"
           }
          ],
          "scatterpolargl": [
           {
            "marker": {
             "colorbar": {
              "outlinewidth": 0,
              "ticks": ""
             }
            },
            "type": "scatterpolargl"
           }
          ],
          "scatterternary": [
           {
            "marker": {
             "colorbar": {
              "outlinewidth": 0,
              "ticks": ""
             }
            },
            "type": "scatterternary"
           }
          ],
          "surface": [
           {
            "colorbar": {
             "outlinewidth": 0,
             "ticks": ""
            },
            "colorscale": [
             [
              0,
              "#0d0887"
             ],
             [
              0.1111111111111111,
              "#46039f"
             ],
             [
              0.2222222222222222,
              "#7201a8"
             ],
             [
              0.3333333333333333,
              "#9c179e"
             ],
             [
              0.4444444444444444,
              "#bd3786"
             ],
             [
              0.5555555555555556,
              "#d8576b"
             ],
             [
              0.6666666666666666,
              "#ed7953"
             ],
             [
              0.7777777777777778,
              "#fb9f3a"
             ],
             [
              0.8888888888888888,
              "#fdca26"
             ],
             [
              1,
              "#f0f921"
             ]
            ],
            "type": "surface"
           }
          ],
          "table": [
           {
            "cells": {
             "fill": {
              "color": "#EBF0F8"
             },
             "line": {
              "color": "white"
             }
            },
            "header": {
             "fill": {
              "color": "#C8D4E3"
             },
             "line": {
              "color": "white"
             }
            },
            "type": "table"
           }
          ]
         },
         "layout": {
          "annotationdefaults": {
           "arrowcolor": "#2a3f5f",
           "arrowhead": 0,
           "arrowwidth": 1
          },
          "autotypenumbers": "strict",
          "coloraxis": {
           "colorbar": {
            "outlinewidth": 0,
            "ticks": ""
           }
          },
          "colorscale": {
           "diverging": [
            [
             0,
             "#8e0152"
            ],
            [
             0.1,
             "#c51b7d"
            ],
            [
             0.2,
             "#de77ae"
            ],
            [
             0.3,
             "#f1b6da"
            ],
            [
             0.4,
             "#fde0ef"
            ],
            [
             0.5,
             "#f7f7f7"
            ],
            [
             0.6,
             "#e6f5d0"
            ],
            [
             0.7,
             "#b8e186"
            ],
            [
             0.8,
             "#7fbc41"
            ],
            [
             0.9,
             "#4d9221"
            ],
            [
             1,
             "#276419"
            ]
           ],
           "sequential": [
            [
             0,
             "#0d0887"
            ],
            [
             0.1111111111111111,
             "#46039f"
            ],
            [
             0.2222222222222222,
             "#7201a8"
            ],
            [
             0.3333333333333333,
             "#9c179e"
            ],
            [
             0.4444444444444444,
             "#bd3786"
            ],
            [
             0.5555555555555556,
             "#d8576b"
            ],
            [
             0.6666666666666666,
             "#ed7953"
            ],
            [
             0.7777777777777778,
             "#fb9f3a"
            ],
            [
             0.8888888888888888,
             "#fdca26"
            ],
            [
             1,
             "#f0f921"
            ]
           ],
           "sequentialminus": [
            [
             0,
             "#0d0887"
            ],
            [
             0.1111111111111111,
             "#46039f"
            ],
            [
             0.2222222222222222,
             "#7201a8"
            ],
            [
             0.3333333333333333,
             "#9c179e"
            ],
            [
             0.4444444444444444,
             "#bd3786"
            ],
            [
             0.5555555555555556,
             "#d8576b"
            ],
            [
             0.6666666666666666,
             "#ed7953"
            ],
            [
             0.7777777777777778,
             "#fb9f3a"
            ],
            [
             0.8888888888888888,
             "#fdca26"
            ],
            [
             1,
             "#f0f921"
            ]
           ]
          },
          "colorway": [
           "#636efa",
           "#EF553B",
           "#00cc96",
           "#ab63fa",
           "#FFA15A",
           "#19d3f3",
           "#FF6692",
           "#B6E880",
           "#FF97FF",
           "#FECB52"
          ],
          "font": {
           "color": "#2a3f5f"
          },
          "geo": {
           "bgcolor": "white",
           "lakecolor": "white",
           "landcolor": "#E5ECF6",
           "showlakes": true,
           "showland": true,
           "subunitcolor": "white"
          },
          "hoverlabel": {
           "align": "left"
          },
          "hovermode": "closest",
          "mapbox": {
           "style": "light"
          },
          "paper_bgcolor": "white",
          "plot_bgcolor": "#E5ECF6",
          "polar": {
           "angularaxis": {
            "gridcolor": "white",
            "linecolor": "white",
            "ticks": ""
           },
           "bgcolor": "#E5ECF6",
           "radialaxis": {
            "gridcolor": "white",
            "linecolor": "white",
            "ticks": ""
           }
          },
          "scene": {
           "xaxis": {
            "backgroundcolor": "#E5ECF6",
            "gridcolor": "white",
            "gridwidth": 2,
            "linecolor": "white",
            "showbackground": true,
            "ticks": "",
            "zerolinecolor": "white"
           },
           "yaxis": {
            "backgroundcolor": "#E5ECF6",
            "gridcolor": "white",
            "gridwidth": 2,
            "linecolor": "white",
            "showbackground": true,
            "ticks": "",
            "zerolinecolor": "white"
           },
           "zaxis": {
            "backgroundcolor": "#E5ECF6",
            "gridcolor": "white",
            "gridwidth": 2,
            "linecolor": "white",
            "showbackground": true,
            "ticks": "",
            "zerolinecolor": "white"
           }
          },
          "shapedefaults": {
           "line": {
            "color": "#2a3f5f"
           }
          },
          "ternary": {
           "aaxis": {
            "gridcolor": "white",
            "linecolor": "white",
            "ticks": ""
           },
           "baxis": {
            "gridcolor": "white",
            "linecolor": "white",
            "ticks": ""
           },
           "bgcolor": "#E5ECF6",
           "caxis": {
            "gridcolor": "white",
            "linecolor": "white",
            "ticks": ""
           }
          },
          "title": {
           "x": 0.05
          },
          "xaxis": {
           "automargin": true,
           "gridcolor": "white",
           "linecolor": "white",
           "ticks": "",
           "title": {
            "standoff": 15
           },
           "zerolinecolor": "white",
           "zerolinewidth": 2
          },
          "yaxis": {
           "automargin": true,
           "gridcolor": "white",
           "linecolor": "white",
           "ticks": "",
           "title": {
            "standoff": 15
           },
           "zerolinecolor": "white",
           "zerolinewidth": 2
          }
         }
        },
        "title": {
         "text": "Températures ressenties par Ville"
        },
        "xaxis": {
         "anchor": "y",
         "domain": [
          0,
          1
         ],
         "title": {
          "text": "Température ressentie (°C)"
         }
        },
        "yaxis": {
         "anchor": "x",
         "domain": [
          0,
          1
         ],
         "title": {
          "text": "Ville"
         }
        }
       }
      }
     },
     "metadata": {},
     "output_type": "display_data"
    }
   ],
   "source": [
    "df_sorted = bc.sort_values(by='feels_like', ascending=True)\n",
    "\n",
    "# Créer un diagramme en bâtons horizontal\n",
    "fig = px.bar(df_sorted, x='feels_like', y='cities', orientation='h',\n",
    "             title='Températures ressenties par Ville',\n",
    "             labels={'feels_like': 'Température ressentie (°C)', 'cities': 'Ville'})\n",
    "\n",
    "# Ajuster la hauteur du graphique\n",
    "fig.update_layout(height=800)\n",
    "\n",
    "# Afficher le diagramme\n",
    "fig.show()"
   ]
  },
  {
   "cell_type": "code",
   "execution_count": 24,
   "metadata": {},
   "outputs": [
    {
     "data": {
      "application/vnd.plotly.v1+json": {
       "config": {
        "plotlyServerURL": "https://plot.ly"
       },
       "data": [
        {
         "hovertemplate": "Indice UV=%{x}<br>Ville=%{y}<extra></extra>",
         "legendgroup": "",
         "marker": {
          "color": "#636efa",
          "pattern": {
           "shape": ""
          }
         },
         "name": "",
         "orientation": "h",
         "showlegend": false,
         "textposition": "auto",
         "type": "bar",
         "x": {
          "bdata": "w/UoXI/C1T+uR+F6FK7XP6RwPQrXo+A/PQrXo3A96j+amZmZmZnxPz0K16NwPQJA9ihcj8L1BkAUrkfhehQKQGZmZmZmZgpAPQrXo3A9DEBcj8L1KFwNQAAAAAAAABBAAAAAAAAAEkAK16NwPQoSQBSuR+F6FBJAH4XrUbgeEkApXI/C9SgTQKRwPQrXoxNASOF6FK5HFEBI4XoUrkcUQEjhehSuRxRAKVyPwvUoFUA9CtejcD0XQGZmZmZmZhdA7FG4HoXrF0DsUbgehesXQB+F61G4HhhAj8L1KFyPGEDD9Shcj8IYQOF6FK5H4RhA4XoUrkfhGEApXI/C9SgZQFyPwvUoXBlAhetRuB6FGUCuR+F6FK4ZQA==",
          "dtype": "f8"
         },
         "xaxis": "x",
         "y": [
          "Montauban",
          "La Rochelle",
          "Toulouse",
          "Lille",
          "Amiens",
          "Dijon",
          "Lyon",
          "Mont Saint Michel",
          "Carcassonne",
          "Besancon",
          "Strasbourg",
          "Bayonne",
          "Le Havre",
          "Bayeux",
          "Paris",
          "Rouen",
          "Grenoble",
          "St Malo",
          "Eguisheim",
          "Colmar",
          "Chateau du Haut Koenigsbourg",
          "Annecy",
          "Aix en Provence",
          "Biarritz",
          "Collioure",
          "Ariege",
          "Saintes Maries de la mer",
          "Avignon",
          "Marseille",
          "Nimes",
          "Aigues Mortes",
          "Cassis",
          "Bormes les Mimosas",
          "Gorges du Verdon",
          "Uzes"
         ],
         "yaxis": "y"
        }
       ],
       "layout": {
        "barmode": "relative",
        "height": 800,
        "legend": {
         "tracegroupgap": 0
        },
        "template": {
         "data": {
          "bar": [
           {
            "error_x": {
             "color": "#2a3f5f"
            },
            "error_y": {
             "color": "#2a3f5f"
            },
            "marker": {
             "line": {
              "color": "#E5ECF6",
              "width": 0.5
             },
             "pattern": {
              "fillmode": "overlay",
              "size": 10,
              "solidity": 0.2
             }
            },
            "type": "bar"
           }
          ],
          "barpolar": [
           {
            "marker": {
             "line": {
              "color": "#E5ECF6",
              "width": 0.5
             },
             "pattern": {
              "fillmode": "overlay",
              "size": 10,
              "solidity": 0.2
             }
            },
            "type": "barpolar"
           }
          ],
          "carpet": [
           {
            "aaxis": {
             "endlinecolor": "#2a3f5f",
             "gridcolor": "white",
             "linecolor": "white",
             "minorgridcolor": "white",
             "startlinecolor": "#2a3f5f"
            },
            "baxis": {
             "endlinecolor": "#2a3f5f",
             "gridcolor": "white",
             "linecolor": "white",
             "minorgridcolor": "white",
             "startlinecolor": "#2a3f5f"
            },
            "type": "carpet"
           }
          ],
          "choropleth": [
           {
            "colorbar": {
             "outlinewidth": 0,
             "ticks": ""
            },
            "type": "choropleth"
           }
          ],
          "contour": [
           {
            "colorbar": {
             "outlinewidth": 0,
             "ticks": ""
            },
            "colorscale": [
             [
              0,
              "#0d0887"
             ],
             [
              0.1111111111111111,
              "#46039f"
             ],
             [
              0.2222222222222222,
              "#7201a8"
             ],
             [
              0.3333333333333333,
              "#9c179e"
             ],
             [
              0.4444444444444444,
              "#bd3786"
             ],
             [
              0.5555555555555556,
              "#d8576b"
             ],
             [
              0.6666666666666666,
              "#ed7953"
             ],
             [
              0.7777777777777778,
              "#fb9f3a"
             ],
             [
              0.8888888888888888,
              "#fdca26"
             ],
             [
              1,
              "#f0f921"
             ]
            ],
            "type": "contour"
           }
          ],
          "contourcarpet": [
           {
            "colorbar": {
             "outlinewidth": 0,
             "ticks": ""
            },
            "type": "contourcarpet"
           }
          ],
          "heatmap": [
           {
            "colorbar": {
             "outlinewidth": 0,
             "ticks": ""
            },
            "colorscale": [
             [
              0,
              "#0d0887"
             ],
             [
              0.1111111111111111,
              "#46039f"
             ],
             [
              0.2222222222222222,
              "#7201a8"
             ],
             [
              0.3333333333333333,
              "#9c179e"
             ],
             [
              0.4444444444444444,
              "#bd3786"
             ],
             [
              0.5555555555555556,
              "#d8576b"
             ],
             [
              0.6666666666666666,
              "#ed7953"
             ],
             [
              0.7777777777777778,
              "#fb9f3a"
             ],
             [
              0.8888888888888888,
              "#fdca26"
             ],
             [
              1,
              "#f0f921"
             ]
            ],
            "type": "heatmap"
           }
          ],
          "histogram": [
           {
            "marker": {
             "pattern": {
              "fillmode": "overlay",
              "size": 10,
              "solidity": 0.2
             }
            },
            "type": "histogram"
           }
          ],
          "histogram2d": [
           {
            "colorbar": {
             "outlinewidth": 0,
             "ticks": ""
            },
            "colorscale": [
             [
              0,
              "#0d0887"
             ],
             [
              0.1111111111111111,
              "#46039f"
             ],
             [
              0.2222222222222222,
              "#7201a8"
             ],
             [
              0.3333333333333333,
              "#9c179e"
             ],
             [
              0.4444444444444444,
              "#bd3786"
             ],
             [
              0.5555555555555556,
              "#d8576b"
             ],
             [
              0.6666666666666666,
              "#ed7953"
             ],
             [
              0.7777777777777778,
              "#fb9f3a"
             ],
             [
              0.8888888888888888,
              "#fdca26"
             ],
             [
              1,
              "#f0f921"
             ]
            ],
            "type": "histogram2d"
           }
          ],
          "histogram2dcontour": [
           {
            "colorbar": {
             "outlinewidth": 0,
             "ticks": ""
            },
            "colorscale": [
             [
              0,
              "#0d0887"
             ],
             [
              0.1111111111111111,
              "#46039f"
             ],
             [
              0.2222222222222222,
              "#7201a8"
             ],
             [
              0.3333333333333333,
              "#9c179e"
             ],
             [
              0.4444444444444444,
              "#bd3786"
             ],
             [
              0.5555555555555556,
              "#d8576b"
             ],
             [
              0.6666666666666666,
              "#ed7953"
             ],
             [
              0.7777777777777778,
              "#fb9f3a"
             ],
             [
              0.8888888888888888,
              "#fdca26"
             ],
             [
              1,
              "#f0f921"
             ]
            ],
            "type": "histogram2dcontour"
           }
          ],
          "mesh3d": [
           {
            "colorbar": {
             "outlinewidth": 0,
             "ticks": ""
            },
            "type": "mesh3d"
           }
          ],
          "parcoords": [
           {
            "line": {
             "colorbar": {
              "outlinewidth": 0,
              "ticks": ""
             }
            },
            "type": "parcoords"
           }
          ],
          "pie": [
           {
            "automargin": true,
            "type": "pie"
           }
          ],
          "scatter": [
           {
            "fillpattern": {
             "fillmode": "overlay",
             "size": 10,
             "solidity": 0.2
            },
            "type": "scatter"
           }
          ],
          "scatter3d": [
           {
            "line": {
             "colorbar": {
              "outlinewidth": 0,
              "ticks": ""
             }
            },
            "marker": {
             "colorbar": {
              "outlinewidth": 0,
              "ticks": ""
             }
            },
            "type": "scatter3d"
           }
          ],
          "scattercarpet": [
           {
            "marker": {
             "colorbar": {
              "outlinewidth": 0,
              "ticks": ""
             }
            },
            "type": "scattercarpet"
           }
          ],
          "scattergeo": [
           {
            "marker": {
             "colorbar": {
              "outlinewidth": 0,
              "ticks": ""
             }
            },
            "type": "scattergeo"
           }
          ],
          "scattergl": [
           {
            "marker": {
             "colorbar": {
              "outlinewidth": 0,
              "ticks": ""
             }
            },
            "type": "scattergl"
           }
          ],
          "scattermap": [
           {
            "marker": {
             "colorbar": {
              "outlinewidth": 0,
              "ticks": ""
             }
            },
            "type": "scattermap"
           }
          ],
          "scattermapbox": [
           {
            "marker": {
             "colorbar": {
              "outlinewidth": 0,
              "ticks": ""
             }
            },
            "type": "scattermapbox"
           }
          ],
          "scatterpolar": [
           {
            "marker": {
             "colorbar": {
              "outlinewidth": 0,
              "ticks": ""
             }
            },
            "type": "scatterpolar"
           }
          ],
          "scatterpolargl": [
           {
            "marker": {
             "colorbar": {
              "outlinewidth": 0,
              "ticks": ""
             }
            },
            "type": "scatterpolargl"
           }
          ],
          "scatterternary": [
           {
            "marker": {
             "colorbar": {
              "outlinewidth": 0,
              "ticks": ""
             }
            },
            "type": "scatterternary"
           }
          ],
          "surface": [
           {
            "colorbar": {
             "outlinewidth": 0,
             "ticks": ""
            },
            "colorscale": [
             [
              0,
              "#0d0887"
             ],
             [
              0.1111111111111111,
              "#46039f"
             ],
             [
              0.2222222222222222,
              "#7201a8"
             ],
             [
              0.3333333333333333,
              "#9c179e"
             ],
             [
              0.4444444444444444,
              "#bd3786"
             ],
             [
              0.5555555555555556,
              "#d8576b"
             ],
             [
              0.6666666666666666,
              "#ed7953"
             ],
             [
              0.7777777777777778,
              "#fb9f3a"
             ],
             [
              0.8888888888888888,
              "#fdca26"
             ],
             [
              1,
              "#f0f921"
             ]
            ],
            "type": "surface"
           }
          ],
          "table": [
           {
            "cells": {
             "fill": {
              "color": "#EBF0F8"
             },
             "line": {
              "color": "white"
             }
            },
            "header": {
             "fill": {
              "color": "#C8D4E3"
             },
             "line": {
              "color": "white"
             }
            },
            "type": "table"
           }
          ]
         },
         "layout": {
          "annotationdefaults": {
           "arrowcolor": "#2a3f5f",
           "arrowhead": 0,
           "arrowwidth": 1
          },
          "autotypenumbers": "strict",
          "coloraxis": {
           "colorbar": {
            "outlinewidth": 0,
            "ticks": ""
           }
          },
          "colorscale": {
           "diverging": [
            [
             0,
             "#8e0152"
            ],
            [
             0.1,
             "#c51b7d"
            ],
            [
             0.2,
             "#de77ae"
            ],
            [
             0.3,
             "#f1b6da"
            ],
            [
             0.4,
             "#fde0ef"
            ],
            [
             0.5,
             "#f7f7f7"
            ],
            [
             0.6,
             "#e6f5d0"
            ],
            [
             0.7,
             "#b8e186"
            ],
            [
             0.8,
             "#7fbc41"
            ],
            [
             0.9,
             "#4d9221"
            ],
            [
             1,
             "#276419"
            ]
           ],
           "sequential": [
            [
             0,
             "#0d0887"
            ],
            [
             0.1111111111111111,
             "#46039f"
            ],
            [
             0.2222222222222222,
             "#7201a8"
            ],
            [
             0.3333333333333333,
             "#9c179e"
            ],
            [
             0.4444444444444444,
             "#bd3786"
            ],
            [
             0.5555555555555556,
             "#d8576b"
            ],
            [
             0.6666666666666666,
             "#ed7953"
            ],
            [
             0.7777777777777778,
             "#fb9f3a"
            ],
            [
             0.8888888888888888,
             "#fdca26"
            ],
            [
             1,
             "#f0f921"
            ]
           ],
           "sequentialminus": [
            [
             0,
             "#0d0887"
            ],
            [
             0.1111111111111111,
             "#46039f"
            ],
            [
             0.2222222222222222,
             "#7201a8"
            ],
            [
             0.3333333333333333,
             "#9c179e"
            ],
            [
             0.4444444444444444,
             "#bd3786"
            ],
            [
             0.5555555555555556,
             "#d8576b"
            ],
            [
             0.6666666666666666,
             "#ed7953"
            ],
            [
             0.7777777777777778,
             "#fb9f3a"
            ],
            [
             0.8888888888888888,
             "#fdca26"
            ],
            [
             1,
             "#f0f921"
            ]
           ]
          },
          "colorway": [
           "#636efa",
           "#EF553B",
           "#00cc96",
           "#ab63fa",
           "#FFA15A",
           "#19d3f3",
           "#FF6692",
           "#B6E880",
           "#FF97FF",
           "#FECB52"
          ],
          "font": {
           "color": "#2a3f5f"
          },
          "geo": {
           "bgcolor": "white",
           "lakecolor": "white",
           "landcolor": "#E5ECF6",
           "showlakes": true,
           "showland": true,
           "subunitcolor": "white"
          },
          "hoverlabel": {
           "align": "left"
          },
          "hovermode": "closest",
          "mapbox": {
           "style": "light"
          },
          "paper_bgcolor": "white",
          "plot_bgcolor": "#E5ECF6",
          "polar": {
           "angularaxis": {
            "gridcolor": "white",
            "linecolor": "white",
            "ticks": ""
           },
           "bgcolor": "#E5ECF6",
           "radialaxis": {
            "gridcolor": "white",
            "linecolor": "white",
            "ticks": ""
           }
          },
          "scene": {
           "xaxis": {
            "backgroundcolor": "#E5ECF6",
            "gridcolor": "white",
            "gridwidth": 2,
            "linecolor": "white",
            "showbackground": true,
            "ticks": "",
            "zerolinecolor": "white"
           },
           "yaxis": {
            "backgroundcolor": "#E5ECF6",
            "gridcolor": "white",
            "gridwidth": 2,
            "linecolor": "white",
            "showbackground": true,
            "ticks": "",
            "zerolinecolor": "white"
           },
           "zaxis": {
            "backgroundcolor": "#E5ECF6",
            "gridcolor": "white",
            "gridwidth": 2,
            "linecolor": "white",
            "showbackground": true,
            "ticks": "",
            "zerolinecolor": "white"
           }
          },
          "shapedefaults": {
           "line": {
            "color": "#2a3f5f"
           }
          },
          "ternary": {
           "aaxis": {
            "gridcolor": "white",
            "linecolor": "white",
            "ticks": ""
           },
           "baxis": {
            "gridcolor": "white",
            "linecolor": "white",
            "ticks": ""
           },
           "bgcolor": "#E5ECF6",
           "caxis": {
            "gridcolor": "white",
            "linecolor": "white",
            "ticks": ""
           }
          },
          "title": {
           "x": 0.05
          },
          "xaxis": {
           "automargin": true,
           "gridcolor": "white",
           "linecolor": "white",
           "ticks": "",
           "title": {
            "standoff": 15
           },
           "zerolinecolor": "white",
           "zerolinewidth": 2
          },
          "yaxis": {
           "automargin": true,
           "gridcolor": "white",
           "linecolor": "white",
           "ticks": "",
           "title": {
            "standoff": 15
           },
           "zerolinecolor": "white",
           "zerolinewidth": 2
          }
         }
        },
        "title": {
         "text": "indices UV par Ville"
        },
        "xaxis": {
         "anchor": "y",
         "domain": [
          0,
          1
         ],
         "title": {
          "text": "Indice UV"
         }
        },
        "yaxis": {
         "anchor": "x",
         "domain": [
          0,
          1
         ],
         "title": {
          "text": "Ville"
         }
        }
       }
      }
     },
     "metadata": {},
     "output_type": "display_data"
    }
   ],
   "source": [
    "df_sorted = bc.sort_values(by='uvi', ascending=True)\n",
    "\n",
    "# Créer un diagramme en bâtons horizontal\n",
    "fig = px.bar(df_sorted, x='uvi', y='cities', orientation='h',\n",
    "             title='indices UV par Ville',\n",
    "             labels={'uvi': 'Indice UV', 'cities': 'Ville'})\n",
    "\n",
    "# Ajuster la hauteur du graphique\n",
    "fig.update_layout(height=800)\n",
    "\n",
    "# Afficher le diagramme\n",
    "fig.show()"
   ]
  },
  {
   "cell_type": "code",
   "execution_count": 25,
   "metadata": {},
   "outputs": [
    {
     "data": {
      "application/vnd.plotly.v1+json": {
       "config": {
        "plotlyServerURL": "https://plot.ly"
       },
       "data": [
        {
         "hovertemplate": "Humidité=%{x}<br>Ville=%{y}<extra></extra>",
         "legendgroup": "",
         "marker": {
          "color": "#636efa",
          "pattern": {
           "shape": ""
          }
         },
         "name": "",
         "orientation": "h",
         "showlegend": false,
         "textposition": "auto",
         "type": "bar",
         "x": {
          "bdata": "AAAAAACAV0AAAAAAAIBXQAAAAAAAgFdAAAAAAAAAV0AAAAAAAABXQAAAAAAAQFZAAAAAAAAAVkAAAAAAAIBVQAAAAAAAQFRAAAAAAABAU0AAAAAAAABTQAAAAAAAwFJAAAAAAAAAUkAAAAAAAABSQAAAAAAAAFJAAAAAAADAUUAAAAAAAMBQQAAAAAAAwFBAAAAAAADAUEAAAAAAAMBQQAAAAAAAgE9AAAAAAACAT0AAAAAAAIBOQAAAAAAAgE1AAAAAAAAATEAAAAAAAIBLQAAAAAAAgEpAAAAAAACASUAAAAAAAIBJQAAAAAAAAElAAAAAAAAASUAAAAAAAIBEQAAAAAAAAERAAAAAAAAAREAAAAAAAIBCQA==",
          "dtype": "f8"
         },
         "xaxis": "x",
         "y": [
          "Le Havre",
          "St Malo",
          "La Rochelle",
          "Paris",
          "Amiens",
          "Bayeux",
          "Mont Saint Michel",
          "Rouen",
          "Grenoble",
          "Montauban",
          "Dijon",
          "Besancon",
          "Biarritz",
          "Bayonne",
          "Toulouse",
          "Lille",
          "Carcassonne",
          "Colmar",
          "Chateau du Haut Koenigsbourg",
          "Eguisheim",
          "Annecy",
          "Strasbourg",
          "Bormes les Mimosas",
          "Lyon",
          "Ariege",
          "Saintes Maries de la mer",
          "Gorges du Verdon",
          "Collioure",
          "Avignon",
          "Marseille",
          "Cassis",
          "Uzes",
          "Aigues Mortes",
          "Aix en Provence",
          "Nimes"
         ],
         "yaxis": "y"
        }
       ],
       "layout": {
        "barmode": "relative",
        "height": 800,
        "legend": {
         "tracegroupgap": 0
        },
        "template": {
         "data": {
          "bar": [
           {
            "error_x": {
             "color": "#2a3f5f"
            },
            "error_y": {
             "color": "#2a3f5f"
            },
            "marker": {
             "line": {
              "color": "#E5ECF6",
              "width": 0.5
             },
             "pattern": {
              "fillmode": "overlay",
              "size": 10,
              "solidity": 0.2
             }
            },
            "type": "bar"
           }
          ],
          "barpolar": [
           {
            "marker": {
             "line": {
              "color": "#E5ECF6",
              "width": 0.5
             },
             "pattern": {
              "fillmode": "overlay",
              "size": 10,
              "solidity": 0.2
             }
            },
            "type": "barpolar"
           }
          ],
          "carpet": [
           {
            "aaxis": {
             "endlinecolor": "#2a3f5f",
             "gridcolor": "white",
             "linecolor": "white",
             "minorgridcolor": "white",
             "startlinecolor": "#2a3f5f"
            },
            "baxis": {
             "endlinecolor": "#2a3f5f",
             "gridcolor": "white",
             "linecolor": "white",
             "minorgridcolor": "white",
             "startlinecolor": "#2a3f5f"
            },
            "type": "carpet"
           }
          ],
          "choropleth": [
           {
            "colorbar": {
             "outlinewidth": 0,
             "ticks": ""
            },
            "type": "choropleth"
           }
          ],
          "contour": [
           {
            "colorbar": {
             "outlinewidth": 0,
             "ticks": ""
            },
            "colorscale": [
             [
              0,
              "#0d0887"
             ],
             [
              0.1111111111111111,
              "#46039f"
             ],
             [
              0.2222222222222222,
              "#7201a8"
             ],
             [
              0.3333333333333333,
              "#9c179e"
             ],
             [
              0.4444444444444444,
              "#bd3786"
             ],
             [
              0.5555555555555556,
              "#d8576b"
             ],
             [
              0.6666666666666666,
              "#ed7953"
             ],
             [
              0.7777777777777778,
              "#fb9f3a"
             ],
             [
              0.8888888888888888,
              "#fdca26"
             ],
             [
              1,
              "#f0f921"
             ]
            ],
            "type": "contour"
           }
          ],
          "contourcarpet": [
           {
            "colorbar": {
             "outlinewidth": 0,
             "ticks": ""
            },
            "type": "contourcarpet"
           }
          ],
          "heatmap": [
           {
            "colorbar": {
             "outlinewidth": 0,
             "ticks": ""
            },
            "colorscale": [
             [
              0,
              "#0d0887"
             ],
             [
              0.1111111111111111,
              "#46039f"
             ],
             [
              0.2222222222222222,
              "#7201a8"
             ],
             [
              0.3333333333333333,
              "#9c179e"
             ],
             [
              0.4444444444444444,
              "#bd3786"
             ],
             [
              0.5555555555555556,
              "#d8576b"
             ],
             [
              0.6666666666666666,
              "#ed7953"
             ],
             [
              0.7777777777777778,
              "#fb9f3a"
             ],
             [
              0.8888888888888888,
              "#fdca26"
             ],
             [
              1,
              "#f0f921"
             ]
            ],
            "type": "heatmap"
           }
          ],
          "histogram": [
           {
            "marker": {
             "pattern": {
              "fillmode": "overlay",
              "size": 10,
              "solidity": 0.2
             }
            },
            "type": "histogram"
           }
          ],
          "histogram2d": [
           {
            "colorbar": {
             "outlinewidth": 0,
             "ticks": ""
            },
            "colorscale": [
             [
              0,
              "#0d0887"
             ],
             [
              0.1111111111111111,
              "#46039f"
             ],
             [
              0.2222222222222222,
              "#7201a8"
             ],
             [
              0.3333333333333333,
              "#9c179e"
             ],
             [
              0.4444444444444444,
              "#bd3786"
             ],
             [
              0.5555555555555556,
              "#d8576b"
             ],
             [
              0.6666666666666666,
              "#ed7953"
             ],
             [
              0.7777777777777778,
              "#fb9f3a"
             ],
             [
              0.8888888888888888,
              "#fdca26"
             ],
             [
              1,
              "#f0f921"
             ]
            ],
            "type": "histogram2d"
           }
          ],
          "histogram2dcontour": [
           {
            "colorbar": {
             "outlinewidth": 0,
             "ticks": ""
            },
            "colorscale": [
             [
              0,
              "#0d0887"
             ],
             [
              0.1111111111111111,
              "#46039f"
             ],
             [
              0.2222222222222222,
              "#7201a8"
             ],
             [
              0.3333333333333333,
              "#9c179e"
             ],
             [
              0.4444444444444444,
              "#bd3786"
             ],
             [
              0.5555555555555556,
              "#d8576b"
             ],
             [
              0.6666666666666666,
              "#ed7953"
             ],
             [
              0.7777777777777778,
              "#fb9f3a"
             ],
             [
              0.8888888888888888,
              "#fdca26"
             ],
             [
              1,
              "#f0f921"
             ]
            ],
            "type": "histogram2dcontour"
           }
          ],
          "mesh3d": [
           {
            "colorbar": {
             "outlinewidth": 0,
             "ticks": ""
            },
            "type": "mesh3d"
           }
          ],
          "parcoords": [
           {
            "line": {
             "colorbar": {
              "outlinewidth": 0,
              "ticks": ""
             }
            },
            "type": "parcoords"
           }
          ],
          "pie": [
           {
            "automargin": true,
            "type": "pie"
           }
          ],
          "scatter": [
           {
            "fillpattern": {
             "fillmode": "overlay",
             "size": 10,
             "solidity": 0.2
            },
            "type": "scatter"
           }
          ],
          "scatter3d": [
           {
            "line": {
             "colorbar": {
              "outlinewidth": 0,
              "ticks": ""
             }
            },
            "marker": {
             "colorbar": {
              "outlinewidth": 0,
              "ticks": ""
             }
            },
            "type": "scatter3d"
           }
          ],
          "scattercarpet": [
           {
            "marker": {
             "colorbar": {
              "outlinewidth": 0,
              "ticks": ""
             }
            },
            "type": "scattercarpet"
           }
          ],
          "scattergeo": [
           {
            "marker": {
             "colorbar": {
              "outlinewidth": 0,
              "ticks": ""
             }
            },
            "type": "scattergeo"
           }
          ],
          "scattergl": [
           {
            "marker": {
             "colorbar": {
              "outlinewidth": 0,
              "ticks": ""
             }
            },
            "type": "scattergl"
           }
          ],
          "scattermap": [
           {
            "marker": {
             "colorbar": {
              "outlinewidth": 0,
              "ticks": ""
             }
            },
            "type": "scattermap"
           }
          ],
          "scattermapbox": [
           {
            "marker": {
             "colorbar": {
              "outlinewidth": 0,
              "ticks": ""
             }
            },
            "type": "scattermapbox"
           }
          ],
          "scatterpolar": [
           {
            "marker": {
             "colorbar": {
              "outlinewidth": 0,
              "ticks": ""
             }
            },
            "type": "scatterpolar"
           }
          ],
          "scatterpolargl": [
           {
            "marker": {
             "colorbar": {
              "outlinewidth": 0,
              "ticks": ""
             }
            },
            "type": "scatterpolargl"
           }
          ],
          "scatterternary": [
           {
            "marker": {
             "colorbar": {
              "outlinewidth": 0,
              "ticks": ""
             }
            },
            "type": "scatterternary"
           }
          ],
          "surface": [
           {
            "colorbar": {
             "outlinewidth": 0,
             "ticks": ""
            },
            "colorscale": [
             [
              0,
              "#0d0887"
             ],
             [
              0.1111111111111111,
              "#46039f"
             ],
             [
              0.2222222222222222,
              "#7201a8"
             ],
             [
              0.3333333333333333,
              "#9c179e"
             ],
             [
              0.4444444444444444,
              "#bd3786"
             ],
             [
              0.5555555555555556,
              "#d8576b"
             ],
             [
              0.6666666666666666,
              "#ed7953"
             ],
             [
              0.7777777777777778,
              "#fb9f3a"
             ],
             [
              0.8888888888888888,
              "#fdca26"
             ],
             [
              1,
              "#f0f921"
             ]
            ],
            "type": "surface"
           }
          ],
          "table": [
           {
            "cells": {
             "fill": {
              "color": "#EBF0F8"
             },
             "line": {
              "color": "white"
             }
            },
            "header": {
             "fill": {
              "color": "#C8D4E3"
             },
             "line": {
              "color": "white"
             }
            },
            "type": "table"
           }
          ]
         },
         "layout": {
          "annotationdefaults": {
           "arrowcolor": "#2a3f5f",
           "arrowhead": 0,
           "arrowwidth": 1
          },
          "autotypenumbers": "strict",
          "coloraxis": {
           "colorbar": {
            "outlinewidth": 0,
            "ticks": ""
           }
          },
          "colorscale": {
           "diverging": [
            [
             0,
             "#8e0152"
            ],
            [
             0.1,
             "#c51b7d"
            ],
            [
             0.2,
             "#de77ae"
            ],
            [
             0.3,
             "#f1b6da"
            ],
            [
             0.4,
             "#fde0ef"
            ],
            [
             0.5,
             "#f7f7f7"
            ],
            [
             0.6,
             "#e6f5d0"
            ],
            [
             0.7,
             "#b8e186"
            ],
            [
             0.8,
             "#7fbc41"
            ],
            [
             0.9,
             "#4d9221"
            ],
            [
             1,
             "#276419"
            ]
           ],
           "sequential": [
            [
             0,
             "#0d0887"
            ],
            [
             0.1111111111111111,
             "#46039f"
            ],
            [
             0.2222222222222222,
             "#7201a8"
            ],
            [
             0.3333333333333333,
             "#9c179e"
            ],
            [
             0.4444444444444444,
             "#bd3786"
            ],
            [
             0.5555555555555556,
             "#d8576b"
            ],
            [
             0.6666666666666666,
             "#ed7953"
            ],
            [
             0.7777777777777778,
             "#fb9f3a"
            ],
            [
             0.8888888888888888,
             "#fdca26"
            ],
            [
             1,
             "#f0f921"
            ]
           ],
           "sequentialminus": [
            [
             0,
             "#0d0887"
            ],
            [
             0.1111111111111111,
             "#46039f"
            ],
            [
             0.2222222222222222,
             "#7201a8"
            ],
            [
             0.3333333333333333,
             "#9c179e"
            ],
            [
             0.4444444444444444,
             "#bd3786"
            ],
            [
             0.5555555555555556,
             "#d8576b"
            ],
            [
             0.6666666666666666,
             "#ed7953"
            ],
            [
             0.7777777777777778,
             "#fb9f3a"
            ],
            [
             0.8888888888888888,
             "#fdca26"
            ],
            [
             1,
             "#f0f921"
            ]
           ]
          },
          "colorway": [
           "#636efa",
           "#EF553B",
           "#00cc96",
           "#ab63fa",
           "#FFA15A",
           "#19d3f3",
           "#FF6692",
           "#B6E880",
           "#FF97FF",
           "#FECB52"
          ],
          "font": {
           "color": "#2a3f5f"
          },
          "geo": {
           "bgcolor": "white",
           "lakecolor": "white",
           "landcolor": "#E5ECF6",
           "showlakes": true,
           "showland": true,
           "subunitcolor": "white"
          },
          "hoverlabel": {
           "align": "left"
          },
          "hovermode": "closest",
          "mapbox": {
           "style": "light"
          },
          "paper_bgcolor": "white",
          "plot_bgcolor": "#E5ECF6",
          "polar": {
           "angularaxis": {
            "gridcolor": "white",
            "linecolor": "white",
            "ticks": ""
           },
           "bgcolor": "#E5ECF6",
           "radialaxis": {
            "gridcolor": "white",
            "linecolor": "white",
            "ticks": ""
           }
          },
          "scene": {
           "xaxis": {
            "backgroundcolor": "#E5ECF6",
            "gridcolor": "white",
            "gridwidth": 2,
            "linecolor": "white",
            "showbackground": true,
            "ticks": "",
            "zerolinecolor": "white"
           },
           "yaxis": {
            "backgroundcolor": "#E5ECF6",
            "gridcolor": "white",
            "gridwidth": 2,
            "linecolor": "white",
            "showbackground": true,
            "ticks": "",
            "zerolinecolor": "white"
           },
           "zaxis": {
            "backgroundcolor": "#E5ECF6",
            "gridcolor": "white",
            "gridwidth": 2,
            "linecolor": "white",
            "showbackground": true,
            "ticks": "",
            "zerolinecolor": "white"
           }
          },
          "shapedefaults": {
           "line": {
            "color": "#2a3f5f"
           }
          },
          "ternary": {
           "aaxis": {
            "gridcolor": "white",
            "linecolor": "white",
            "ticks": ""
           },
           "baxis": {
            "gridcolor": "white",
            "linecolor": "white",
            "ticks": ""
           },
           "bgcolor": "#E5ECF6",
           "caxis": {
            "gridcolor": "white",
            "linecolor": "white",
            "ticks": ""
           }
          },
          "title": {
           "x": 0.05
          },
          "xaxis": {
           "automargin": true,
           "gridcolor": "white",
           "linecolor": "white",
           "ticks": "",
           "title": {
            "standoff": 15
           },
           "zerolinecolor": "white",
           "zerolinewidth": 2
          },
          "yaxis": {
           "automargin": true,
           "gridcolor": "white",
           "linecolor": "white",
           "ticks": "",
           "title": {
            "standoff": 15
           },
           "zerolinecolor": "white",
           "zerolinewidth": 2
          }
         }
        },
        "title": {
         "text": "Humidité par Ville"
        },
        "xaxis": {
         "anchor": "y",
         "domain": [
          0,
          1
         ],
         "title": {
          "text": "Humidité"
         }
        },
        "yaxis": {
         "anchor": "x",
         "domain": [
          0,
          1
         ],
         "title": {
          "text": "Ville"
         }
        }
       }
      }
     },
     "metadata": {},
     "output_type": "display_data"
    }
   ],
   "source": [
    "df_sorted = bc.sort_values(by='humidity', ascending=False)\n",
    "\n",
    "# Créer un diagramme en bâtons horizontal\n",
    "fig = px.bar(df_sorted, x='humidity', y='cities', orientation='h',\n",
    "             title='Humidité par Ville',\n",
    "             labels={'humidity': 'Humidité', 'cities': 'Ville'})\n",
    "\n",
    "# Ajuster la hauteur du graphique\n",
    "fig.update_layout(height=800)\n",
    "\n",
    "# Afficher le diagramme\n",
    "fig.show()"
   ]
  },
  {
   "cell_type": "code",
   "execution_count": 26,
   "metadata": {},
   "outputs": [
    {
     "data": {
      "application/vnd.plotly.v1+json": {
       "config": {
        "plotlyServerURL": "https://plot.ly"
       },
       "data": [
        {
         "hovertemplate": "wind_speed=%{x}<br>Ville=%{y}<extra></extra>",
         "legendgroup": "",
         "marker": {
          "color": "#636efa",
          "pattern": {
           "shape": ""
          }
         },
         "name": "",
         "orientation": "h",
         "showlegend": false,
         "textposition": "auto",
         "type": "bar",
         "x": {
          "bdata": "KVyPwvUoIkCF61G4HgUiQOF6FK5H4R5AzczMzMzMHEDNzMzMzMwcQM3MzMzMzBxAw/UoXI/CGkDhehSuR+EYQK5H4XoUrhhArkfhehSuGECuR+F6FK4YQK5H4XoUrhhArkfhehSuGEAUrkfhehQYQKRwPQrXoxZAMzMzMzMzFUCPwvUoXI8UQI/C9ShcjxRACtejcD0KE0CF61G4HoUSQIXrUbgehRJAhetRuB6FEkC4HoXrUbgRQD0K16NwPRBA9ihcj8L1DEA9CtejcD0MQArXo3A9CglAj8L1KFyPBEB7FK5H4XoEQEjhehSuRwFAexSuR+F6AEB7FK5H4XrwP3sUrkfhevA/exSuR+F68D97FK5H4XrsPw==",
          "dtype": "f8"
         },
         "xaxis": "x",
         "y": [
          "Cassis",
          "Mont Saint Michel",
          "Aigues Mortes",
          "St Malo",
          "Lille",
          "Marseille",
          "Le Havre",
          "Aix en Provence",
          "La Rochelle",
          "Carcassonne",
          "Avignon",
          "Bormes les Mimosas",
          "Rouen",
          "Saintes Maries de la mer",
          "Paris",
          "Besancon",
          "Bayonne",
          "Biarritz",
          "Bayeux",
          "Toulouse",
          "Nimes",
          "Annecy",
          "Amiens",
          "Uzes",
          "Montauban",
          "Gorges du Verdon",
          "Lyon",
          "Dijon",
          "Ariege",
          "Collioure",
          "Strasbourg",
          "Chateau du Haut Koenigsbourg",
          "Colmar",
          "Eguisheim",
          "Grenoble"
         ],
         "yaxis": "y"
        }
       ],
       "layout": {
        "barmode": "relative",
        "height": 800,
        "legend": {
         "tracegroupgap": 0
        },
        "template": {
         "data": {
          "bar": [
           {
            "error_x": {
             "color": "#2a3f5f"
            },
            "error_y": {
             "color": "#2a3f5f"
            },
            "marker": {
             "line": {
              "color": "#E5ECF6",
              "width": 0.5
             },
             "pattern": {
              "fillmode": "overlay",
              "size": 10,
              "solidity": 0.2
             }
            },
            "type": "bar"
           }
          ],
          "barpolar": [
           {
            "marker": {
             "line": {
              "color": "#E5ECF6",
              "width": 0.5
             },
             "pattern": {
              "fillmode": "overlay",
              "size": 10,
              "solidity": 0.2
             }
            },
            "type": "barpolar"
           }
          ],
          "carpet": [
           {
            "aaxis": {
             "endlinecolor": "#2a3f5f",
             "gridcolor": "white",
             "linecolor": "white",
             "minorgridcolor": "white",
             "startlinecolor": "#2a3f5f"
            },
            "baxis": {
             "endlinecolor": "#2a3f5f",
             "gridcolor": "white",
             "linecolor": "white",
             "minorgridcolor": "white",
             "startlinecolor": "#2a3f5f"
            },
            "type": "carpet"
           }
          ],
          "choropleth": [
           {
            "colorbar": {
             "outlinewidth": 0,
             "ticks": ""
            },
            "type": "choropleth"
           }
          ],
          "contour": [
           {
            "colorbar": {
             "outlinewidth": 0,
             "ticks": ""
            },
            "colorscale": [
             [
              0,
              "#0d0887"
             ],
             [
              0.1111111111111111,
              "#46039f"
             ],
             [
              0.2222222222222222,
              "#7201a8"
             ],
             [
              0.3333333333333333,
              "#9c179e"
             ],
             [
              0.4444444444444444,
              "#bd3786"
             ],
             [
              0.5555555555555556,
              "#d8576b"
             ],
             [
              0.6666666666666666,
              "#ed7953"
             ],
             [
              0.7777777777777778,
              "#fb9f3a"
             ],
             [
              0.8888888888888888,
              "#fdca26"
             ],
             [
              1,
              "#f0f921"
             ]
            ],
            "type": "contour"
           }
          ],
          "contourcarpet": [
           {
            "colorbar": {
             "outlinewidth": 0,
             "ticks": ""
            },
            "type": "contourcarpet"
           }
          ],
          "heatmap": [
           {
            "colorbar": {
             "outlinewidth": 0,
             "ticks": ""
            },
            "colorscale": [
             [
              0,
              "#0d0887"
             ],
             [
              0.1111111111111111,
              "#46039f"
             ],
             [
              0.2222222222222222,
              "#7201a8"
             ],
             [
              0.3333333333333333,
              "#9c179e"
             ],
             [
              0.4444444444444444,
              "#bd3786"
             ],
             [
              0.5555555555555556,
              "#d8576b"
             ],
             [
              0.6666666666666666,
              "#ed7953"
             ],
             [
              0.7777777777777778,
              "#fb9f3a"
             ],
             [
              0.8888888888888888,
              "#fdca26"
             ],
             [
              1,
              "#f0f921"
             ]
            ],
            "type": "heatmap"
           }
          ],
          "histogram": [
           {
            "marker": {
             "pattern": {
              "fillmode": "overlay",
              "size": 10,
              "solidity": 0.2
             }
            },
            "type": "histogram"
           }
          ],
          "histogram2d": [
           {
            "colorbar": {
             "outlinewidth": 0,
             "ticks": ""
            },
            "colorscale": [
             [
              0,
              "#0d0887"
             ],
             [
              0.1111111111111111,
              "#46039f"
             ],
             [
              0.2222222222222222,
              "#7201a8"
             ],
             [
              0.3333333333333333,
              "#9c179e"
             ],
             [
              0.4444444444444444,
              "#bd3786"
             ],
             [
              0.5555555555555556,
              "#d8576b"
             ],
             [
              0.6666666666666666,
              "#ed7953"
             ],
             [
              0.7777777777777778,
              "#fb9f3a"
             ],
             [
              0.8888888888888888,
              "#fdca26"
             ],
             [
              1,
              "#f0f921"
             ]
            ],
            "type": "histogram2d"
           }
          ],
          "histogram2dcontour": [
           {
            "colorbar": {
             "outlinewidth": 0,
             "ticks": ""
            },
            "colorscale": [
             [
              0,
              "#0d0887"
             ],
             [
              0.1111111111111111,
              "#46039f"
             ],
             [
              0.2222222222222222,
              "#7201a8"
             ],
             [
              0.3333333333333333,
              "#9c179e"
             ],
             [
              0.4444444444444444,
              "#bd3786"
             ],
             [
              0.5555555555555556,
              "#d8576b"
             ],
             [
              0.6666666666666666,
              "#ed7953"
             ],
             [
              0.7777777777777778,
              "#fb9f3a"
             ],
             [
              0.8888888888888888,
              "#fdca26"
             ],
             [
              1,
              "#f0f921"
             ]
            ],
            "type": "histogram2dcontour"
           }
          ],
          "mesh3d": [
           {
            "colorbar": {
             "outlinewidth": 0,
             "ticks": ""
            },
            "type": "mesh3d"
           }
          ],
          "parcoords": [
           {
            "line": {
             "colorbar": {
              "outlinewidth": 0,
              "ticks": ""
             }
            },
            "type": "parcoords"
           }
          ],
          "pie": [
           {
            "automargin": true,
            "type": "pie"
           }
          ],
          "scatter": [
           {
            "fillpattern": {
             "fillmode": "overlay",
             "size": 10,
             "solidity": 0.2
            },
            "type": "scatter"
           }
          ],
          "scatter3d": [
           {
            "line": {
             "colorbar": {
              "outlinewidth": 0,
              "ticks": ""
             }
            },
            "marker": {
             "colorbar": {
              "outlinewidth": 0,
              "ticks": ""
             }
            },
            "type": "scatter3d"
           }
          ],
          "scattercarpet": [
           {
            "marker": {
             "colorbar": {
              "outlinewidth": 0,
              "ticks": ""
             }
            },
            "type": "scattercarpet"
           }
          ],
          "scattergeo": [
           {
            "marker": {
             "colorbar": {
              "outlinewidth": 0,
              "ticks": ""
             }
            },
            "type": "scattergeo"
           }
          ],
          "scattergl": [
           {
            "marker": {
             "colorbar": {
              "outlinewidth": 0,
              "ticks": ""
             }
            },
            "type": "scattergl"
           }
          ],
          "scattermap": [
           {
            "marker": {
             "colorbar": {
              "outlinewidth": 0,
              "ticks": ""
             }
            },
            "type": "scattermap"
           }
          ],
          "scattermapbox": [
           {
            "marker": {
             "colorbar": {
              "outlinewidth": 0,
              "ticks": ""
             }
            },
            "type": "scattermapbox"
           }
          ],
          "scatterpolar": [
           {
            "marker": {
             "colorbar": {
              "outlinewidth": 0,
              "ticks": ""
             }
            },
            "type": "scatterpolar"
           }
          ],
          "scatterpolargl": [
           {
            "marker": {
             "colorbar": {
              "outlinewidth": 0,
              "ticks": ""
             }
            },
            "type": "scatterpolargl"
           }
          ],
          "scatterternary": [
           {
            "marker": {
             "colorbar": {
              "outlinewidth": 0,
              "ticks": ""
             }
            },
            "type": "scatterternary"
           }
          ],
          "surface": [
           {
            "colorbar": {
             "outlinewidth": 0,
             "ticks": ""
            },
            "colorscale": [
             [
              0,
              "#0d0887"
             ],
             [
              0.1111111111111111,
              "#46039f"
             ],
             [
              0.2222222222222222,
              "#7201a8"
             ],
             [
              0.3333333333333333,
              "#9c179e"
             ],
             [
              0.4444444444444444,
              "#bd3786"
             ],
             [
              0.5555555555555556,
              "#d8576b"
             ],
             [
              0.6666666666666666,
              "#ed7953"
             ],
             [
              0.7777777777777778,
              "#fb9f3a"
             ],
             [
              0.8888888888888888,
              "#fdca26"
             ],
             [
              1,
              "#f0f921"
             ]
            ],
            "type": "surface"
           }
          ],
          "table": [
           {
            "cells": {
             "fill": {
              "color": "#EBF0F8"
             },
             "line": {
              "color": "white"
             }
            },
            "header": {
             "fill": {
              "color": "#C8D4E3"
             },
             "line": {
              "color": "white"
             }
            },
            "type": "table"
           }
          ]
         },
         "layout": {
          "annotationdefaults": {
           "arrowcolor": "#2a3f5f",
           "arrowhead": 0,
           "arrowwidth": 1
          },
          "autotypenumbers": "strict",
          "coloraxis": {
           "colorbar": {
            "outlinewidth": 0,
            "ticks": ""
           }
          },
          "colorscale": {
           "diverging": [
            [
             0,
             "#8e0152"
            ],
            [
             0.1,
             "#c51b7d"
            ],
            [
             0.2,
             "#de77ae"
            ],
            [
             0.3,
             "#f1b6da"
            ],
            [
             0.4,
             "#fde0ef"
            ],
            [
             0.5,
             "#f7f7f7"
            ],
            [
             0.6,
             "#e6f5d0"
            ],
            [
             0.7,
             "#b8e186"
            ],
            [
             0.8,
             "#7fbc41"
            ],
            [
             0.9,
             "#4d9221"
            ],
            [
             1,
             "#276419"
            ]
           ],
           "sequential": [
            [
             0,
             "#0d0887"
            ],
            [
             0.1111111111111111,
             "#46039f"
            ],
            [
             0.2222222222222222,
             "#7201a8"
            ],
            [
             0.3333333333333333,
             "#9c179e"
            ],
            [
             0.4444444444444444,
             "#bd3786"
            ],
            [
             0.5555555555555556,
             "#d8576b"
            ],
            [
             0.6666666666666666,
             "#ed7953"
            ],
            [
             0.7777777777777778,
             "#fb9f3a"
            ],
            [
             0.8888888888888888,
             "#fdca26"
            ],
            [
             1,
             "#f0f921"
            ]
           ],
           "sequentialminus": [
            [
             0,
             "#0d0887"
            ],
            [
             0.1111111111111111,
             "#46039f"
            ],
            [
             0.2222222222222222,
             "#7201a8"
            ],
            [
             0.3333333333333333,
             "#9c179e"
            ],
            [
             0.4444444444444444,
             "#bd3786"
            ],
            [
             0.5555555555555556,
             "#d8576b"
            ],
            [
             0.6666666666666666,
             "#ed7953"
            ],
            [
             0.7777777777777778,
             "#fb9f3a"
            ],
            [
             0.8888888888888888,
             "#fdca26"
            ],
            [
             1,
             "#f0f921"
            ]
           ]
          },
          "colorway": [
           "#636efa",
           "#EF553B",
           "#00cc96",
           "#ab63fa",
           "#FFA15A",
           "#19d3f3",
           "#FF6692",
           "#B6E880",
           "#FF97FF",
           "#FECB52"
          ],
          "font": {
           "color": "#2a3f5f"
          },
          "geo": {
           "bgcolor": "white",
           "lakecolor": "white",
           "landcolor": "#E5ECF6",
           "showlakes": true,
           "showland": true,
           "subunitcolor": "white"
          },
          "hoverlabel": {
           "align": "left"
          },
          "hovermode": "closest",
          "mapbox": {
           "style": "light"
          },
          "paper_bgcolor": "white",
          "plot_bgcolor": "#E5ECF6",
          "polar": {
           "angularaxis": {
            "gridcolor": "white",
            "linecolor": "white",
            "ticks": ""
           },
           "bgcolor": "#E5ECF6",
           "radialaxis": {
            "gridcolor": "white",
            "linecolor": "white",
            "ticks": ""
           }
          },
          "scene": {
           "xaxis": {
            "backgroundcolor": "#E5ECF6",
            "gridcolor": "white",
            "gridwidth": 2,
            "linecolor": "white",
            "showbackground": true,
            "ticks": "",
            "zerolinecolor": "white"
           },
           "yaxis": {
            "backgroundcolor": "#E5ECF6",
            "gridcolor": "white",
            "gridwidth": 2,
            "linecolor": "white",
            "showbackground": true,
            "ticks": "",
            "zerolinecolor": "white"
           },
           "zaxis": {
            "backgroundcolor": "#E5ECF6",
            "gridcolor": "white",
            "gridwidth": 2,
            "linecolor": "white",
            "showbackground": true,
            "ticks": "",
            "zerolinecolor": "white"
           }
          },
          "shapedefaults": {
           "line": {
            "color": "#2a3f5f"
           }
          },
          "ternary": {
           "aaxis": {
            "gridcolor": "white",
            "linecolor": "white",
            "ticks": ""
           },
           "baxis": {
            "gridcolor": "white",
            "linecolor": "white",
            "ticks": ""
           },
           "bgcolor": "#E5ECF6",
           "caxis": {
            "gridcolor": "white",
            "linecolor": "white",
            "ticks": ""
           }
          },
          "title": {
           "x": 0.05
          },
          "xaxis": {
           "automargin": true,
           "gridcolor": "white",
           "linecolor": "white",
           "ticks": "",
           "title": {
            "standoff": 15
           },
           "zerolinecolor": "white",
           "zerolinewidth": 2
          },
          "yaxis": {
           "automargin": true,
           "gridcolor": "white",
           "linecolor": "white",
           "ticks": "",
           "title": {
            "standoff": 15
           },
           "zerolinecolor": "white",
           "zerolinewidth": 2
          }
         }
        },
        "title": {
         "text": "Vitesse du vent par Ville"
        },
        "xaxis": {
         "anchor": "y",
         "domain": [
          0,
          1
         ],
         "title": {
          "text": "wind_speed"
         }
        },
        "yaxis": {
         "anchor": "x",
         "domain": [
          0,
          1
         ],
         "title": {
          "text": "Ville"
         }
        }
       }
      }
     },
     "metadata": {},
     "output_type": "display_data"
    }
   ],
   "source": [
    "df_sorted = bc.sort_values(by='wind_speed', ascending=False)\n",
    "\n",
    "# Créer un diagramme en bâtons horizontal\n",
    "fig = px.bar(df_sorted, x='wind_speed', y='cities', orientation='h',\n",
    "             title='Vitesse du vent par Ville',\n",
    "             labels={'wind_speed': 'wind_speed', 'cities': 'Ville'})\n",
    "\n",
    "# Ajuster la hauteur du graphique\n",
    "fig.update_layout(height=800)\n",
    "\n",
    "# Afficher le diagramme\n",
    "fig.show()"
   ]
  },
  {
   "cell_type": "code",
   "execution_count": 30,
   "metadata": {},
   "outputs": [
    {
     "data": {
      "text/html": [
       "<div style=\"width:100%;\"><div style=\"position:relative;width:100%;height:0;padding-bottom:60%;\"><span style=\"color:#565656\">Make this Notebook Trusted to load map: File -> Trust Notebook</span><iframe srcdoc=\"&lt;!DOCTYPE html&gt;\n",
       "&lt;html&gt;\n",
       "&lt;head&gt;\n",
       "    \n",
       "    &lt;meta http-equiv=&quot;content-type&quot; content=&quot;text/html; charset=UTF-8&quot; /&gt;\n",
       "    \n",
       "        &lt;script&gt;\n",
       "            L_NO_TOUCH = false;\n",
       "            L_DISABLE_3D = false;\n",
       "        &lt;/script&gt;\n",
       "    \n",
       "    &lt;style&gt;html, body {width: 100%;height: 100%;margin: 0;padding: 0;}&lt;/style&gt;\n",
       "    &lt;style&gt;#map {position:absolute;top:0;bottom:0;right:0;left:0;}&lt;/style&gt;\n",
       "    &lt;script src=&quot;https://cdn.jsdelivr.net/npm/leaflet@1.9.3/dist/leaflet.js&quot;&gt;&lt;/script&gt;\n",
       "    &lt;script src=&quot;https://code.jquery.com/jquery-3.7.1.min.js&quot;&gt;&lt;/script&gt;\n",
       "    &lt;script src=&quot;https://cdn.jsdelivr.net/npm/bootstrap@5.2.2/dist/js/bootstrap.bundle.min.js&quot;&gt;&lt;/script&gt;\n",
       "    &lt;script src=&quot;https://cdnjs.cloudflare.com/ajax/libs/Leaflet.awesome-markers/2.0.2/leaflet.awesome-markers.js&quot;&gt;&lt;/script&gt;\n",
       "    &lt;link rel=&quot;stylesheet&quot; href=&quot;https://cdn.jsdelivr.net/npm/leaflet@1.9.3/dist/leaflet.css&quot;/&gt;\n",
       "    &lt;link rel=&quot;stylesheet&quot; href=&quot;https://cdn.jsdelivr.net/npm/bootstrap@5.2.2/dist/css/bootstrap.min.css&quot;/&gt;\n",
       "    &lt;link rel=&quot;stylesheet&quot; href=&quot;https://netdna.bootstrapcdn.com/bootstrap/3.0.0/css/bootstrap-glyphicons.css&quot;/&gt;\n",
       "    &lt;link rel=&quot;stylesheet&quot; href=&quot;https://cdn.jsdelivr.net/npm/@fortawesome/fontawesome-free@6.2.0/css/all.min.css&quot;/&gt;\n",
       "    &lt;link rel=&quot;stylesheet&quot; href=&quot;https://cdnjs.cloudflare.com/ajax/libs/Leaflet.awesome-markers/2.0.2/leaflet.awesome-markers.css&quot;/&gt;\n",
       "    &lt;link rel=&quot;stylesheet&quot; href=&quot;https://cdn.jsdelivr.net/gh/python-visualization/folium/folium/templates/leaflet.awesome.rotate.min.css&quot;/&gt;\n",
       "    \n",
       "            &lt;meta name=&quot;viewport&quot; content=&quot;width=device-width,\n",
       "                initial-scale=1.0, maximum-scale=1.0, user-scalable=no&quot; /&gt;\n",
       "            &lt;style&gt;\n",
       "                #map_7eb414fbebe7f3862aafc70d88708bf5 {\n",
       "                    position: relative;\n",
       "                    width: 100.0%;\n",
       "                    height: 100.0%;\n",
       "                    left: 0.0%;\n",
       "                    top: 0.0%;\n",
       "                }\n",
       "                .leaflet-container { font-size: 1rem; }\n",
       "            &lt;/style&gt;\n",
       "        \n",
       "&lt;/head&gt;\n",
       "&lt;body&gt;\n",
       "    \n",
       "    \n",
       "            &lt;div class=&quot;folium-map&quot; id=&quot;map_7eb414fbebe7f3862aafc70d88708bf5&quot; &gt;&lt;/div&gt;\n",
       "        \n",
       "&lt;/body&gt;\n",
       "&lt;script&gt;\n",
       "    \n",
       "    \n",
       "            var map_7eb414fbebe7f3862aafc70d88708bf5 = L.map(\n",
       "                &quot;map_7eb414fbebe7f3862aafc70d88708bf5&quot;,\n",
       "                {\n",
       "                    center: [46.603354, 1.888334],\n",
       "                    crs: L.CRS.EPSG3857,\n",
       "                    ...{\n",
       "  &quot;zoom&quot;: 6,\n",
       "  &quot;zoomControl&quot;: true,\n",
       "  &quot;preferCanvas&quot;: false,\n",
       "}\n",
       "\n",
       "                }\n",
       "            );\n",
       "\n",
       "            \n",
       "\n",
       "        \n",
       "    \n",
       "            var tile_layer_9f5bbcfc6114ea91cb3b9a14d1be560b = L.tileLayer(\n",
       "                &quot;https://tile.openstreetmap.org/{z}/{x}/{y}.png&quot;,\n",
       "                {\n",
       "  &quot;minZoom&quot;: 0,\n",
       "  &quot;maxZoom&quot;: 19,\n",
       "  &quot;maxNativeZoom&quot;: 19,\n",
       "  &quot;noWrap&quot;: false,\n",
       "  &quot;attribution&quot;: &quot;\\u0026copy; \\u003ca href=\\&quot;https://www.openstreetmap.org/copyright\\&quot;\\u003eOpenStreetMap\\u003c/a\\u003e contributors&quot;,\n",
       "  &quot;subdomains&quot;: &quot;abc&quot;,\n",
       "  &quot;detectRetina&quot;: false,\n",
       "  &quot;tms&quot;: false,\n",
       "  &quot;opacity&quot;: 1,\n",
       "}\n",
       "\n",
       "            );\n",
       "        \n",
       "    \n",
       "            tile_layer_9f5bbcfc6114ea91cb3b9a14d1be560b.addTo(map_7eb414fbebe7f3862aafc70d88708bf5);\n",
       "        \n",
       "    \n",
       "            var marker_bef8d60de56ef471c90a80088c58c99a = L.marker(\n",
       "                [48.6359541, -1.511459954959514],\n",
       "                {\n",
       "}\n",
       "            ).addTo(map_7eb414fbebe7f3862aafc70d88708bf5);\n",
       "        \n",
       "    \n",
       "        var custom_icon_6c0091f2abc00873a323fc8ed63d2216 = L.icon({\n",
       "  &quot;iconUrl&quot;: &quot;https://images.icon-icons.com/2791/PNG/512/cloudy_cloud_weather_icon_177580.png&quot;,\n",
       "  &quot;iconSize&quot;: [40, 40],\n",
       "});\n",
       "        marker_bef8d60de56ef471c90a80088c58c99a.setIcon(custom_icon_6c0091f2abc00873a323fc8ed63d2216);\n",
       "        \n",
       "    \n",
       "        var popup_92450efde36f19d6a6febbdf32c1d86c = L.popup({\n",
       "  &quot;maxWidth&quot;: &quot;100%&quot;,\n",
       "});\n",
       "\n",
       "        \n",
       "            \n",
       "                var html_9acfc5f4f3d87ef05333dbfed5c7f594 = $(`&lt;div id=&quot;html_9acfc5f4f3d87ef05333dbfed5c7f594&quot; style=&quot;width: 100.0%; height: 100.0%;&quot;&gt;Mont Saint Michel&lt;/div&gt;`)[0];\n",
       "                popup_92450efde36f19d6a6febbdf32c1d86c.setContent(html_9acfc5f4f3d87ef05333dbfed5c7f594);\n",
       "            \n",
       "        \n",
       "\n",
       "        marker_bef8d60de56ef471c90a80088c58c99a.bindPopup(popup_92450efde36f19d6a6febbdf32c1d86c)\n",
       "        ;\n",
       "\n",
       "        \n",
       "    \n",
       "    \n",
       "                marker_bef8d60de56ef471c90a80088c58c99a.setIcon(custom_icon_6c0091f2abc00873a323fc8ed63d2216);\n",
       "            \n",
       "    \n",
       "            var marker_e1889e414e28d956fa52332d105fabeb = L.marker(\n",
       "                [48.649518, -2.0260409],\n",
       "                {\n",
       "}\n",
       "            ).addTo(map_7eb414fbebe7f3862aafc70d88708bf5);\n",
       "        \n",
       "    \n",
       "        var custom_icon_6ed8be99b9921bafa9a246c5dc2bbc70 = L.icon({\n",
       "  &quot;iconUrl&quot;: &quot;https://images.icon-icons.com/2791/PNG/512/cloudy_cloud_weather_icon_177580.png&quot;,\n",
       "  &quot;iconSize&quot;: [40, 40],\n",
       "});\n",
       "        marker_e1889e414e28d956fa52332d105fabeb.setIcon(custom_icon_6ed8be99b9921bafa9a246c5dc2bbc70);\n",
       "        \n",
       "    \n",
       "        var popup_97dbccdfafbc90d9c5f80a413738daf3 = L.popup({\n",
       "  &quot;maxWidth&quot;: &quot;100%&quot;,\n",
       "});\n",
       "\n",
       "        \n",
       "            \n",
       "                var html_fa2d4e72054b750a92e780f8b2e26aef = $(`&lt;div id=&quot;html_fa2d4e72054b750a92e780f8b2e26aef&quot; style=&quot;width: 100.0%; height: 100.0%;&quot;&gt;St Malo&lt;/div&gt;`)[0];\n",
       "                popup_97dbccdfafbc90d9c5f80a413738daf3.setContent(html_fa2d4e72054b750a92e780f8b2e26aef);\n",
       "            \n",
       "        \n",
       "\n",
       "        marker_e1889e414e28d956fa52332d105fabeb.bindPopup(popup_97dbccdfafbc90d9c5f80a413738daf3)\n",
       "        ;\n",
       "\n",
       "        \n",
       "    \n",
       "    \n",
       "                marker_e1889e414e28d956fa52332d105fabeb.setIcon(custom_icon_6ed8be99b9921bafa9a246c5dc2bbc70);\n",
       "            \n",
       "    \n",
       "            var marker_e336fbe025eb092c415f4f0eb827bd1f = L.marker(\n",
       "                [49.2764624, -0.7024738],\n",
       "                {\n",
       "}\n",
       "            ).addTo(map_7eb414fbebe7f3862aafc70d88708bf5);\n",
       "        \n",
       "    \n",
       "        var custom_icon_f06dd15fab4dd5a1d610f9d37dea4a2b = L.icon({\n",
       "  &quot;iconUrl&quot;: &quot;https://images.icon-icons.com/2791/PNG/512/cloudy_cloud_weather_icon_177580.png&quot;,\n",
       "  &quot;iconSize&quot;: [40, 40],\n",
       "});\n",
       "        marker_e336fbe025eb092c415f4f0eb827bd1f.setIcon(custom_icon_f06dd15fab4dd5a1d610f9d37dea4a2b);\n",
       "        \n",
       "    \n",
       "        var popup_8eaffb6bf38359fae7f166b4f19c18de = L.popup({\n",
       "  &quot;maxWidth&quot;: &quot;100%&quot;,\n",
       "});\n",
       "\n",
       "        \n",
       "            \n",
       "                var html_f8cf3f0be23c464b8ba6a3825405ed62 = $(`&lt;div id=&quot;html_f8cf3f0be23c464b8ba6a3825405ed62&quot; style=&quot;width: 100.0%; height: 100.0%;&quot;&gt;Bayeux&lt;/div&gt;`)[0];\n",
       "                popup_8eaffb6bf38359fae7f166b4f19c18de.setContent(html_f8cf3f0be23c464b8ba6a3825405ed62);\n",
       "            \n",
       "        \n",
       "\n",
       "        marker_e336fbe025eb092c415f4f0eb827bd1f.bindPopup(popup_8eaffb6bf38359fae7f166b4f19c18de)\n",
       "        ;\n",
       "\n",
       "        \n",
       "    \n",
       "    \n",
       "                marker_e336fbe025eb092c415f4f0eb827bd1f.setIcon(custom_icon_f06dd15fab4dd5a1d610f9d37dea4a2b);\n",
       "            \n",
       "    \n",
       "            var marker_7f58fe9fb11b859b406884dd60544aef = L.marker(\n",
       "                [49.4938975, 0.1079732],\n",
       "                {\n",
       "}\n",
       "            ).addTo(map_7eb414fbebe7f3862aafc70d88708bf5);\n",
       "        \n",
       "    \n",
       "        var custom_icon_aff87457435aa75f24694a03696697e7 = L.icon({\n",
       "  &quot;iconUrl&quot;: &quot;https://images.icon-icons.com/2791/PNG/512/cloudy_cloud_weather_icon_177580.png&quot;,\n",
       "  &quot;iconSize&quot;: [40, 40],\n",
       "});\n",
       "        marker_7f58fe9fb11b859b406884dd60544aef.setIcon(custom_icon_aff87457435aa75f24694a03696697e7);\n",
       "        \n",
       "    \n",
       "        var popup_525b823e03860d8765b8a824f9b44dd8 = L.popup({\n",
       "  &quot;maxWidth&quot;: &quot;100%&quot;,\n",
       "});\n",
       "\n",
       "        \n",
       "            \n",
       "                var html_0a6ff77255bcabaccee318f3aa6acb59 = $(`&lt;div id=&quot;html_0a6ff77255bcabaccee318f3aa6acb59&quot; style=&quot;width: 100.0%; height: 100.0%;&quot;&gt;Le Havre&lt;/div&gt;`)[0];\n",
       "                popup_525b823e03860d8765b8a824f9b44dd8.setContent(html_0a6ff77255bcabaccee318f3aa6acb59);\n",
       "            \n",
       "        \n",
       "\n",
       "        marker_7f58fe9fb11b859b406884dd60544aef.bindPopup(popup_525b823e03860d8765b8a824f9b44dd8)\n",
       "        ;\n",
       "\n",
       "        \n",
       "    \n",
       "    \n",
       "                marker_7f58fe9fb11b859b406884dd60544aef.setIcon(custom_icon_aff87457435aa75f24694a03696697e7);\n",
       "            \n",
       "    \n",
       "            var marker_9c8a84b6fb73d48229220ea59a4f83c7 = L.marker(\n",
       "                [49.4404591, 1.0939658],\n",
       "                {\n",
       "}\n",
       "            ).addTo(map_7eb414fbebe7f3862aafc70d88708bf5);\n",
       "        \n",
       "    \n",
       "        var custom_icon_c702666e4abf77aaef85f283e56ff4a6 = L.icon({\n",
       "  &quot;iconUrl&quot;: &quot;https://images.icon-icons.com/2791/PNG/512/cloudy_cloud_weather_icon_177580.png&quot;,\n",
       "  &quot;iconSize&quot;: [40, 40],\n",
       "});\n",
       "        marker_9c8a84b6fb73d48229220ea59a4f83c7.setIcon(custom_icon_c702666e4abf77aaef85f283e56ff4a6);\n",
       "        \n",
       "    \n",
       "        var popup_fdefd80ebb5b532598af07b430e73fcf = L.popup({\n",
       "  &quot;maxWidth&quot;: &quot;100%&quot;,\n",
       "});\n",
       "\n",
       "        \n",
       "            \n",
       "                var html_6f8d71391b553f4133c6ad53b6e10c64 = $(`&lt;div id=&quot;html_6f8d71391b553f4133c6ad53b6e10c64&quot; style=&quot;width: 100.0%; height: 100.0%;&quot;&gt;Rouen&lt;/div&gt;`)[0];\n",
       "                popup_fdefd80ebb5b532598af07b430e73fcf.setContent(html_6f8d71391b553f4133c6ad53b6e10c64);\n",
       "            \n",
       "        \n",
       "\n",
       "        marker_9c8a84b6fb73d48229220ea59a4f83c7.bindPopup(popup_fdefd80ebb5b532598af07b430e73fcf)\n",
       "        ;\n",
       "\n",
       "        \n",
       "    \n",
       "    \n",
       "                marker_9c8a84b6fb73d48229220ea59a4f83c7.setIcon(custom_icon_c702666e4abf77aaef85f283e56ff4a6);\n",
       "            \n",
       "    \n",
       "            var marker_b9b79f4853499f2f570b9e102ed083f6 = L.marker(\n",
       "                [48.8588897, 2.3200410217200766],\n",
       "                {\n",
       "}\n",
       "            ).addTo(map_7eb414fbebe7f3862aafc70d88708bf5);\n",
       "        \n",
       "    \n",
       "        var custom_icon_d1cced98d17b3c280da697d7962dcbb1 = L.icon({\n",
       "  &quot;iconUrl&quot;: &quot;https://images.icon-icons.com/139/PNG/512/drizzle_day_weather_20907.png&quot;,\n",
       "  &quot;iconSize&quot;: [40, 40],\n",
       "});\n",
       "        marker_b9b79f4853499f2f570b9e102ed083f6.setIcon(custom_icon_d1cced98d17b3c280da697d7962dcbb1);\n",
       "        \n",
       "    \n",
       "        var popup_24b225c579f5afbe4a7a4fdb19d8ff37 = L.popup({\n",
       "  &quot;maxWidth&quot;: &quot;100%&quot;,\n",
       "});\n",
       "\n",
       "        \n",
       "            \n",
       "                var html_4955ce7dba19296408e9b496e22b5b40 = $(`&lt;div id=&quot;html_4955ce7dba19296408e9b496e22b5b40&quot; style=&quot;width: 100.0%; height: 100.0%;&quot;&gt;Paris&lt;/div&gt;`)[0];\n",
       "                popup_24b225c579f5afbe4a7a4fdb19d8ff37.setContent(html_4955ce7dba19296408e9b496e22b5b40);\n",
       "            \n",
       "        \n",
       "\n",
       "        marker_b9b79f4853499f2f570b9e102ed083f6.bindPopup(popup_24b225c579f5afbe4a7a4fdb19d8ff37)\n",
       "        ;\n",
       "\n",
       "        \n",
       "    \n",
       "    \n",
       "                marker_b9b79f4853499f2f570b9e102ed083f6.setIcon(custom_icon_d1cced98d17b3c280da697d7962dcbb1);\n",
       "            \n",
       "    \n",
       "            var marker_40b0a5af820f874c22dea9d344b013d1 = L.marker(\n",
       "                [49.8941708, 2.2956951],\n",
       "                {\n",
       "}\n",
       "            ).addTo(map_7eb414fbebe7f3862aafc70d88708bf5);\n",
       "        \n",
       "    \n",
       "        var custom_icon_8738c6194c0d4d96634d07a5a4dd7dc1 = L.icon({\n",
       "  &quot;iconUrl&quot;: &quot;https://images.icon-icons.com/2791/PNG/512/overcast_cloud_weather_icon_177561.png&quot;,\n",
       "  &quot;iconSize&quot;: [40, 40],\n",
       "});\n",
       "        marker_40b0a5af820f874c22dea9d344b013d1.setIcon(custom_icon_8738c6194c0d4d96634d07a5a4dd7dc1);\n",
       "        \n",
       "    \n",
       "        var popup_97b106ce1e527ad9aad5786caa66a604 = L.popup({\n",
       "  &quot;maxWidth&quot;: &quot;100%&quot;,\n",
       "});\n",
       "\n",
       "        \n",
       "            \n",
       "                var html_fac066920cdd0184614f2d12650f1a4c = $(`&lt;div id=&quot;html_fac066920cdd0184614f2d12650f1a4c&quot; style=&quot;width: 100.0%; height: 100.0%;&quot;&gt;Amiens&lt;/div&gt;`)[0];\n",
       "                popup_97b106ce1e527ad9aad5786caa66a604.setContent(html_fac066920cdd0184614f2d12650f1a4c);\n",
       "            \n",
       "        \n",
       "\n",
       "        marker_40b0a5af820f874c22dea9d344b013d1.bindPopup(popup_97b106ce1e527ad9aad5786caa66a604)\n",
       "        ;\n",
       "\n",
       "        \n",
       "    \n",
       "    \n",
       "                marker_40b0a5af820f874c22dea9d344b013d1.setIcon(custom_icon_8738c6194c0d4d96634d07a5a4dd7dc1);\n",
       "            \n",
       "    \n",
       "            var marker_0ab7b9b9c1250df845345258c1c15034 = L.marker(\n",
       "                [50.6365654, 3.0635282],\n",
       "                {\n",
       "}\n",
       "            ).addTo(map_7eb414fbebe7f3862aafc70d88708bf5);\n",
       "        \n",
       "    \n",
       "        var custom_icon_7aaa4d87df8fc99500b7359807344641 = L.icon({\n",
       "  &quot;iconUrl&quot;: &quot;https://images.icon-icons.com/139/PNG/512/drizzle_day_weather_20907.png&quot;,\n",
       "  &quot;iconSize&quot;: [40, 40],\n",
       "});\n",
       "        marker_0ab7b9b9c1250df845345258c1c15034.setIcon(custom_icon_7aaa4d87df8fc99500b7359807344641);\n",
       "        \n",
       "    \n",
       "        var popup_dbc9313c7c6549bd8bb436a893c0c79b = L.popup({\n",
       "  &quot;maxWidth&quot;: &quot;100%&quot;,\n",
       "});\n",
       "\n",
       "        \n",
       "            \n",
       "                var html_97f7070ecb4095d13e87e3a41daa6b6b = $(`&lt;div id=&quot;html_97f7070ecb4095d13e87e3a41daa6b6b&quot; style=&quot;width: 100.0%; height: 100.0%;&quot;&gt;Lille&lt;/div&gt;`)[0];\n",
       "                popup_dbc9313c7c6549bd8bb436a893c0c79b.setContent(html_97f7070ecb4095d13e87e3a41daa6b6b);\n",
       "            \n",
       "        \n",
       "\n",
       "        marker_0ab7b9b9c1250df845345258c1c15034.bindPopup(popup_dbc9313c7c6549bd8bb436a893c0c79b)\n",
       "        ;\n",
       "\n",
       "        \n",
       "    \n",
       "    \n",
       "                marker_0ab7b9b9c1250df845345258c1c15034.setIcon(custom_icon_7aaa4d87df8fc99500b7359807344641);\n",
       "            \n",
       "    \n",
       "            var marker_684095fcaf94db7ee7bd23f77c6cfa4b = L.marker(\n",
       "                [48.584614, 7.7507127],\n",
       "                {\n",
       "}\n",
       "            ).addTo(map_7eb414fbebe7f3862aafc70d88708bf5);\n",
       "        \n",
       "    \n",
       "        var custom_icon_631d6216765c68c0d1610facb7a43b43 = L.icon({\n",
       "  &quot;iconUrl&quot;: &quot;https://images.icon-icons.com/2791/PNG/512/sunny_day_weather_sun_icon_177555.png&quot;,\n",
       "  &quot;iconSize&quot;: [40, 40],\n",
       "});\n",
       "        marker_684095fcaf94db7ee7bd23f77c6cfa4b.setIcon(custom_icon_631d6216765c68c0d1610facb7a43b43);\n",
       "        \n",
       "    \n",
       "        var popup_e7a361ad0a37622eff37585946497e00 = L.popup({\n",
       "  &quot;maxWidth&quot;: &quot;100%&quot;,\n",
       "});\n",
       "\n",
       "        \n",
       "            \n",
       "                var html_d971e38089dbd28227a557b0fdf73a67 = $(`&lt;div id=&quot;html_d971e38089dbd28227a557b0fdf73a67&quot; style=&quot;width: 100.0%; height: 100.0%;&quot;&gt;Strasbourg&lt;/div&gt;`)[0];\n",
       "                popup_e7a361ad0a37622eff37585946497e00.setContent(html_d971e38089dbd28227a557b0fdf73a67);\n",
       "            \n",
       "        \n",
       "\n",
       "        marker_684095fcaf94db7ee7bd23f77c6cfa4b.bindPopup(popup_e7a361ad0a37622eff37585946497e00)\n",
       "        ;\n",
       "\n",
       "        \n",
       "    \n",
       "    \n",
       "                marker_684095fcaf94db7ee7bd23f77c6cfa4b.setIcon(custom_icon_631d6216765c68c0d1610facb7a43b43);\n",
       "            \n",
       "    \n",
       "            var marker_eb7a8aca83ec9f62fe39fa61b264b1cd = L.marker(\n",
       "                [48.2495226, 7.3454923],\n",
       "                {\n",
       "}\n",
       "            ).addTo(map_7eb414fbebe7f3862aafc70d88708bf5);\n",
       "        \n",
       "    \n",
       "        var custom_icon_46403b7f77c941469bdf4b2a0fe16938 = L.icon({\n",
       "  &quot;iconUrl&quot;: &quot;https://images.icon-icons.com/2791/PNG/512/sunny_day_weather_sun_icon_177555.png&quot;,\n",
       "  &quot;iconSize&quot;: [40, 40],\n",
       "});\n",
       "        marker_eb7a8aca83ec9f62fe39fa61b264b1cd.setIcon(custom_icon_46403b7f77c941469bdf4b2a0fe16938);\n",
       "        \n",
       "    \n",
       "        var popup_84538121368a180873bf728563c017ae = L.popup({\n",
       "  &quot;maxWidth&quot;: &quot;100%&quot;,\n",
       "});\n",
       "\n",
       "        \n",
       "            \n",
       "                var html_bd78d1561a90dd18382948101392e510 = $(`&lt;div id=&quot;html_bd78d1561a90dd18382948101392e510&quot; style=&quot;width: 100.0%; height: 100.0%;&quot;&gt;Chateau du Haut Koenigsbourg&lt;/div&gt;`)[0];\n",
       "                popup_84538121368a180873bf728563c017ae.setContent(html_bd78d1561a90dd18382948101392e510);\n",
       "            \n",
       "        \n",
       "\n",
       "        marker_eb7a8aca83ec9f62fe39fa61b264b1cd.bindPopup(popup_84538121368a180873bf728563c017ae)\n",
       "        ;\n",
       "\n",
       "        \n",
       "    \n",
       "    \n",
       "                marker_eb7a8aca83ec9f62fe39fa61b264b1cd.setIcon(custom_icon_46403b7f77c941469bdf4b2a0fe16938);\n",
       "            \n",
       "    \n",
       "            var marker_c75e4b791265d01ce7639874f61d3ac9 = L.marker(\n",
       "                [48.0777517, 7.3579641],\n",
       "                {\n",
       "}\n",
       "            ).addTo(map_7eb414fbebe7f3862aafc70d88708bf5);\n",
       "        \n",
       "    \n",
       "        var custom_icon_99229de95961d6f1d46bd8e428d3f475 = L.icon({\n",
       "  &quot;iconUrl&quot;: &quot;https://images.icon-icons.com/2791/PNG/512/sunny_day_weather_sun_icon_177555.png&quot;,\n",
       "  &quot;iconSize&quot;: [40, 40],\n",
       "});\n",
       "        marker_c75e4b791265d01ce7639874f61d3ac9.setIcon(custom_icon_99229de95961d6f1d46bd8e428d3f475);\n",
       "        \n",
       "    \n",
       "        var popup_47f4eb83eb668a33e847cb635b512130 = L.popup({\n",
       "  &quot;maxWidth&quot;: &quot;100%&quot;,\n",
       "});\n",
       "\n",
       "        \n",
       "            \n",
       "                var html_ae4b3d0717e9b84f6389022cdfb4153e = $(`&lt;div id=&quot;html_ae4b3d0717e9b84f6389022cdfb4153e&quot; style=&quot;width: 100.0%; height: 100.0%;&quot;&gt;Colmar&lt;/div&gt;`)[0];\n",
       "                popup_47f4eb83eb668a33e847cb635b512130.setContent(html_ae4b3d0717e9b84f6389022cdfb4153e);\n",
       "            \n",
       "        \n",
       "\n",
       "        marker_c75e4b791265d01ce7639874f61d3ac9.bindPopup(popup_47f4eb83eb668a33e847cb635b512130)\n",
       "        ;\n",
       "\n",
       "        \n",
       "    \n",
       "    \n",
       "                marker_c75e4b791265d01ce7639874f61d3ac9.setIcon(custom_icon_99229de95961d6f1d46bd8e428d3f475);\n",
       "            \n",
       "    \n",
       "            var marker_67fe5a803cb9af47f3c34e610c51e53b = L.marker(\n",
       "                [48.0447968, 7.3079618],\n",
       "                {\n",
       "}\n",
       "            ).addTo(map_7eb414fbebe7f3862aafc70d88708bf5);\n",
       "        \n",
       "    \n",
       "        var custom_icon_2aa806a893cb8f01e1c7a7c8cbc8c8eb = L.icon({\n",
       "  &quot;iconUrl&quot;: &quot;https://images.icon-icons.com/2791/PNG/512/sunny_day_weather_sun_icon_177555.png&quot;,\n",
       "  &quot;iconSize&quot;: [40, 40],\n",
       "});\n",
       "        marker_67fe5a803cb9af47f3c34e610c51e53b.setIcon(custom_icon_2aa806a893cb8f01e1c7a7c8cbc8c8eb);\n",
       "        \n",
       "    \n",
       "        var popup_97c156e5598251e3bf2f47eae9611c2c = L.popup({\n",
       "  &quot;maxWidth&quot;: &quot;100%&quot;,\n",
       "});\n",
       "\n",
       "        \n",
       "            \n",
       "                var html_58772fc862f7e2292bade3b63aafbff1 = $(`&lt;div id=&quot;html_58772fc862f7e2292bade3b63aafbff1&quot; style=&quot;width: 100.0%; height: 100.0%;&quot;&gt;Eguisheim&lt;/div&gt;`)[0];\n",
       "                popup_97c156e5598251e3bf2f47eae9611c2c.setContent(html_58772fc862f7e2292bade3b63aafbff1);\n",
       "            \n",
       "        \n",
       "\n",
       "        marker_67fe5a803cb9af47f3c34e610c51e53b.bindPopup(popup_97c156e5598251e3bf2f47eae9611c2c)\n",
       "        ;\n",
       "\n",
       "        \n",
       "    \n",
       "    \n",
       "                marker_67fe5a803cb9af47f3c34e610c51e53b.setIcon(custom_icon_2aa806a893cb8f01e1c7a7c8cbc8c8eb);\n",
       "            \n",
       "    \n",
       "            var marker_4b6caa5685de59291337095643d05739 = L.marker(\n",
       "                [47.2380222, 6.0243622],\n",
       "                {\n",
       "}\n",
       "            ).addTo(map_7eb414fbebe7f3862aafc70d88708bf5);\n",
       "        \n",
       "    \n",
       "        var custom_icon_173a3c19bec6939a9f1d77b3f47564b3 = L.icon({\n",
       "  &quot;iconUrl&quot;: &quot;https://images.icon-icons.com/2791/PNG/512/overcast_cloud_weather_icon_177561.png&quot;,\n",
       "  &quot;iconSize&quot;: [40, 40],\n",
       "});\n",
       "        marker_4b6caa5685de59291337095643d05739.setIcon(custom_icon_173a3c19bec6939a9f1d77b3f47564b3);\n",
       "        \n",
       "    \n",
       "        var popup_fd3b06548935a534f89eda9a4c4cbc9c = L.popup({\n",
       "  &quot;maxWidth&quot;: &quot;100%&quot;,\n",
       "});\n",
       "\n",
       "        \n",
       "            \n",
       "                var html_1c3d16b5a8e0ac890f3ebcb0dbde9232 = $(`&lt;div id=&quot;html_1c3d16b5a8e0ac890f3ebcb0dbde9232&quot; style=&quot;width: 100.0%; height: 100.0%;&quot;&gt;Besancon&lt;/div&gt;`)[0];\n",
       "                popup_fd3b06548935a534f89eda9a4c4cbc9c.setContent(html_1c3d16b5a8e0ac890f3ebcb0dbde9232);\n",
       "            \n",
       "        \n",
       "\n",
       "        marker_4b6caa5685de59291337095643d05739.bindPopup(popup_fd3b06548935a534f89eda9a4c4cbc9c)\n",
       "        ;\n",
       "\n",
       "        \n",
       "    \n",
       "    \n",
       "                marker_4b6caa5685de59291337095643d05739.setIcon(custom_icon_173a3c19bec6939a9f1d77b3f47564b3);\n",
       "            \n",
       "    \n",
       "            var marker_da2b5c953fda08daae4158c082df6c5f = L.marker(\n",
       "                [47.3215806, 5.0414701],\n",
       "                {\n",
       "}\n",
       "            ).addTo(map_7eb414fbebe7f3862aafc70d88708bf5);\n",
       "        \n",
       "    \n",
       "        var custom_icon_6816254baac64412f98f815d2748412b = L.icon({\n",
       "  &quot;iconUrl&quot;: &quot;https://images.icon-icons.com/2791/PNG/512/rain_cloud_weather_icon_177568.png&quot;,\n",
       "  &quot;iconSize&quot;: [40, 40],\n",
       "});\n",
       "        marker_da2b5c953fda08daae4158c082df6c5f.setIcon(custom_icon_6816254baac64412f98f815d2748412b);\n",
       "        \n",
       "    \n",
       "        var popup_aaaf4f09b909ba154e2fffa596db79a0 = L.popup({\n",
       "  &quot;maxWidth&quot;: &quot;100%&quot;,\n",
       "});\n",
       "\n",
       "        \n",
       "            \n",
       "                var html_9df47729e86f2a3b3abd136bfdbd9296 = $(`&lt;div id=&quot;html_9df47729e86f2a3b3abd136bfdbd9296&quot; style=&quot;width: 100.0%; height: 100.0%;&quot;&gt;Dijon&lt;/div&gt;`)[0];\n",
       "                popup_aaaf4f09b909ba154e2fffa596db79a0.setContent(html_9df47729e86f2a3b3abd136bfdbd9296);\n",
       "            \n",
       "        \n",
       "\n",
       "        marker_da2b5c953fda08daae4158c082df6c5f.bindPopup(popup_aaaf4f09b909ba154e2fffa596db79a0)\n",
       "        ;\n",
       "\n",
       "        \n",
       "    \n",
       "    \n",
       "                marker_da2b5c953fda08daae4158c082df6c5f.setIcon(custom_icon_6816254baac64412f98f815d2748412b);\n",
       "            \n",
       "    \n",
       "            var marker_c3d22a854270e4d3a781487ad2403926 = L.marker(\n",
       "                [45.8992348, 6.1288847],\n",
       "                {\n",
       "}\n",
       "            ).addTo(map_7eb414fbebe7f3862aafc70d88708bf5);\n",
       "        \n",
       "    \n",
       "        var custom_icon_6bc5d963aa9349fc08fb50b47297618b = L.icon({\n",
       "  &quot;iconUrl&quot;: &quot;https://images.icon-icons.com/2791/PNG/512/cloudy_cloud_weather_icon_177580.png&quot;,\n",
       "  &quot;iconSize&quot;: [40, 40],\n",
       "});\n",
       "        marker_c3d22a854270e4d3a781487ad2403926.setIcon(custom_icon_6bc5d963aa9349fc08fb50b47297618b);\n",
       "        \n",
       "    \n",
       "        var popup_c58583293771799da79864e0396e4c4c = L.popup({\n",
       "  &quot;maxWidth&quot;: &quot;100%&quot;,\n",
       "});\n",
       "\n",
       "        \n",
       "            \n",
       "                var html_029db5d94f55ed3a14870f9199219b1c = $(`&lt;div id=&quot;html_029db5d94f55ed3a14870f9199219b1c&quot; style=&quot;width: 100.0%; height: 100.0%;&quot;&gt;Annecy&lt;/div&gt;`)[0];\n",
       "                popup_c58583293771799da79864e0396e4c4c.setContent(html_029db5d94f55ed3a14870f9199219b1c);\n",
       "            \n",
       "        \n",
       "\n",
       "        marker_c3d22a854270e4d3a781487ad2403926.bindPopup(popup_c58583293771799da79864e0396e4c4c)\n",
       "        ;\n",
       "\n",
       "        \n",
       "    \n",
       "    \n",
       "                marker_c3d22a854270e4d3a781487ad2403926.setIcon(custom_icon_6bc5d963aa9349fc08fb50b47297618b);\n",
       "            \n",
       "    \n",
       "            var marker_a981b39aa1774ab460eb538771345d1e = L.marker(\n",
       "                [45.1875602, 5.7357819],\n",
       "                {\n",
       "}\n",
       "            ).addTo(map_7eb414fbebe7f3862aafc70d88708bf5);\n",
       "        \n",
       "    \n",
       "        var custom_icon_9bb7a51aa1123372283945dfedfb1471 = L.icon({\n",
       "  &quot;iconUrl&quot;: &quot;https://images.icon-icons.com/2791/PNG/512/overcast_cloud_weather_icon_177561.png&quot;,\n",
       "  &quot;iconSize&quot;: [40, 40],\n",
       "});\n",
       "        marker_a981b39aa1774ab460eb538771345d1e.setIcon(custom_icon_9bb7a51aa1123372283945dfedfb1471);\n",
       "        \n",
       "    \n",
       "        var popup_b467ae56e578945ba1e3b2b6daefc0f2 = L.popup({\n",
       "  &quot;maxWidth&quot;: &quot;100%&quot;,\n",
       "});\n",
       "\n",
       "        \n",
       "            \n",
       "                var html_0d499ec3d0769be3974ecef8b449acde = $(`&lt;div id=&quot;html_0d499ec3d0769be3974ecef8b449acde&quot; style=&quot;width: 100.0%; height: 100.0%;&quot;&gt;Grenoble&lt;/div&gt;`)[0];\n",
       "                popup_b467ae56e578945ba1e3b2b6daefc0f2.setContent(html_0d499ec3d0769be3974ecef8b449acde);\n",
       "            \n",
       "        \n",
       "\n",
       "        marker_a981b39aa1774ab460eb538771345d1e.bindPopup(popup_b467ae56e578945ba1e3b2b6daefc0f2)\n",
       "        ;\n",
       "\n",
       "        \n",
       "    \n",
       "    \n",
       "                marker_a981b39aa1774ab460eb538771345d1e.setIcon(custom_icon_9bb7a51aa1123372283945dfedfb1471);\n",
       "            \n",
       "    \n",
       "            var marker_c9c9aaeaaf8a96d5cd4016bacd32a4f7 = L.marker(\n",
       "                [45.7578137, 4.8320114],\n",
       "                {\n",
       "}\n",
       "            ).addTo(map_7eb414fbebe7f3862aafc70d88708bf5);\n",
       "        \n",
       "    \n",
       "        var custom_icon_444869b774dbc1ccd555d49587396fc0 = L.icon({\n",
       "  &quot;iconUrl&quot;: &quot;https://images.icon-icons.com/2791/PNG/512/rain_cloud_weather_icon_177568.png&quot;,\n",
       "  &quot;iconSize&quot;: [40, 40],\n",
       "});\n",
       "        marker_c9c9aaeaaf8a96d5cd4016bacd32a4f7.setIcon(custom_icon_444869b774dbc1ccd555d49587396fc0);\n",
       "        \n",
       "    \n",
       "        var popup_94991ae2d52854f2f59788f86f317f96 = L.popup({\n",
       "  &quot;maxWidth&quot;: &quot;100%&quot;,\n",
       "});\n",
       "\n",
       "        \n",
       "            \n",
       "                var html_5fb51451ac84e17ca898cb053693f855 = $(`&lt;div id=&quot;html_5fb51451ac84e17ca898cb053693f855&quot; style=&quot;width: 100.0%; height: 100.0%;&quot;&gt;Lyon&lt;/div&gt;`)[0];\n",
       "                popup_94991ae2d52854f2f59788f86f317f96.setContent(html_5fb51451ac84e17ca898cb053693f855);\n",
       "            \n",
       "        \n",
       "\n",
       "        marker_c9c9aaeaaf8a96d5cd4016bacd32a4f7.bindPopup(popup_94991ae2d52854f2f59788f86f317f96)\n",
       "        ;\n",
       "\n",
       "        \n",
       "    \n",
       "    \n",
       "                marker_c9c9aaeaaf8a96d5cd4016bacd32a4f7.setIcon(custom_icon_444869b774dbc1ccd555d49587396fc0);\n",
       "            \n",
       "    \n",
       "            var marker_08893df240bbfe2ac7ca73e99a7498b4 = L.marker(\n",
       "                [43.1506968, 6.3419285],\n",
       "                {\n",
       "}\n",
       "            ).addTo(map_7eb414fbebe7f3862aafc70d88708bf5);\n",
       "        \n",
       "    \n",
       "        var custom_icon_6d05be07fa408a0d619f61a3c9a9f569 = L.icon({\n",
       "  &quot;iconUrl&quot;: &quot;https://images.icon-icons.com/2791/PNG/512/sunny_day_weather_sun_icon_177555.png&quot;,\n",
       "  &quot;iconSize&quot;: [40, 40],\n",
       "});\n",
       "        marker_08893df240bbfe2ac7ca73e99a7498b4.setIcon(custom_icon_6d05be07fa408a0d619f61a3c9a9f569);\n",
       "        \n",
       "    \n",
       "        var popup_8678edc287f1c139ca5bf6fa8a863b3d = L.popup({\n",
       "  &quot;maxWidth&quot;: &quot;100%&quot;,\n",
       "});\n",
       "\n",
       "        \n",
       "            \n",
       "                var html_ec5a65b976ae204ff0fa3e848afefded = $(`&lt;div id=&quot;html_ec5a65b976ae204ff0fa3e848afefded&quot; style=&quot;width: 100.0%; height: 100.0%;&quot;&gt;Bormes les Mimosas&lt;/div&gt;`)[0];\n",
       "                popup_8678edc287f1c139ca5bf6fa8a863b3d.setContent(html_ec5a65b976ae204ff0fa3e848afefded);\n",
       "            \n",
       "        \n",
       "\n",
       "        marker_08893df240bbfe2ac7ca73e99a7498b4.bindPopup(popup_8678edc287f1c139ca5bf6fa8a863b3d)\n",
       "        ;\n",
       "\n",
       "        \n",
       "    \n",
       "    \n",
       "                marker_08893df240bbfe2ac7ca73e99a7498b4.setIcon(custom_icon_6d05be07fa408a0d619f61a3c9a9f569);\n",
       "            \n",
       "    \n",
       "            var marker_6926b0584cfd5b52688f90a7b84acb5f = L.marker(\n",
       "                [43.2140359, 5.5396318],\n",
       "                {\n",
       "}\n",
       "            ).addTo(map_7eb414fbebe7f3862aafc70d88708bf5);\n",
       "        \n",
       "    \n",
       "        var custom_icon_b23bd423b02fd206cb0b946c57dce262 = L.icon({\n",
       "  &quot;iconUrl&quot;: &quot;https://images.icon-icons.com/2791/PNG/512/sunny_day_weather_sun_icon_177555.png&quot;,\n",
       "  &quot;iconSize&quot;: [40, 40],\n",
       "});\n",
       "        marker_6926b0584cfd5b52688f90a7b84acb5f.setIcon(custom_icon_b23bd423b02fd206cb0b946c57dce262);\n",
       "        \n",
       "    \n",
       "        var popup_5ea7ec861cc79d6ecdb7b441e2f1f453 = L.popup({\n",
       "  &quot;maxWidth&quot;: &quot;100%&quot;,\n",
       "});\n",
       "\n",
       "        \n",
       "            \n",
       "                var html_29821013be17dc98a137f9d327b9548b = $(`&lt;div id=&quot;html_29821013be17dc98a137f9d327b9548b&quot; style=&quot;width: 100.0%; height: 100.0%;&quot;&gt;Cassis&lt;/div&gt;`)[0];\n",
       "                popup_5ea7ec861cc79d6ecdb7b441e2f1f453.setContent(html_29821013be17dc98a137f9d327b9548b);\n",
       "            \n",
       "        \n",
       "\n",
       "        marker_6926b0584cfd5b52688f90a7b84acb5f.bindPopup(popup_5ea7ec861cc79d6ecdb7b441e2f1f453)\n",
       "        ;\n",
       "\n",
       "        \n",
       "    \n",
       "    \n",
       "                marker_6926b0584cfd5b52688f90a7b84acb5f.setIcon(custom_icon_b23bd423b02fd206cb0b946c57dce262);\n",
       "            \n",
       "    \n",
       "            var marker_641d4033c43ef714f3340946de8c7268 = L.marker(\n",
       "                [43.2961743, 5.3699525],\n",
       "                {\n",
       "}\n",
       "            ).addTo(map_7eb414fbebe7f3862aafc70d88708bf5);\n",
       "        \n",
       "    \n",
       "        var custom_icon_192a57dc8a9ef8beaef2c760cc19540b = L.icon({\n",
       "  &quot;iconUrl&quot;: &quot;https://images.icon-icons.com/2791/PNG/512/sunny_day_weather_sun_icon_177555.png&quot;,\n",
       "  &quot;iconSize&quot;: [40, 40],\n",
       "});\n",
       "        marker_641d4033c43ef714f3340946de8c7268.setIcon(custom_icon_192a57dc8a9ef8beaef2c760cc19540b);\n",
       "        \n",
       "    \n",
       "        var popup_01bcd771d6de0f31fd47c6bf1ab9612b = L.popup({\n",
       "  &quot;maxWidth&quot;: &quot;100%&quot;,\n",
       "});\n",
       "\n",
       "        \n",
       "            \n",
       "                var html_fa0b0e2c1f85628cac28b71cceb398a3 = $(`&lt;div id=&quot;html_fa0b0e2c1f85628cac28b71cceb398a3&quot; style=&quot;width: 100.0%; height: 100.0%;&quot;&gt;Marseille&lt;/div&gt;`)[0];\n",
       "                popup_01bcd771d6de0f31fd47c6bf1ab9612b.setContent(html_fa0b0e2c1f85628cac28b71cceb398a3);\n",
       "            \n",
       "        \n",
       "\n",
       "        marker_641d4033c43ef714f3340946de8c7268.bindPopup(popup_01bcd771d6de0f31fd47c6bf1ab9612b)\n",
       "        ;\n",
       "\n",
       "        \n",
       "    \n",
       "    \n",
       "                marker_641d4033c43ef714f3340946de8c7268.setIcon(custom_icon_192a57dc8a9ef8beaef2c760cc19540b);\n",
       "            \n",
       "    \n",
       "            var marker_c072932304261024569521f0290cf3d6 = L.marker(\n",
       "                [43.5298424, 5.4474738],\n",
       "                {\n",
       "}\n",
       "            ).addTo(map_7eb414fbebe7f3862aafc70d88708bf5);\n",
       "        \n",
       "    \n",
       "        var custom_icon_b833e891107a5d7148fdf6c02cce6926 = L.icon({\n",
       "  &quot;iconUrl&quot;: &quot;https://images.icon-icons.com/2791/PNG/512/sunny_day_weather_sun_icon_177555.png&quot;,\n",
       "  &quot;iconSize&quot;: [40, 40],\n",
       "});\n",
       "        marker_c072932304261024569521f0290cf3d6.setIcon(custom_icon_b833e891107a5d7148fdf6c02cce6926);\n",
       "        \n",
       "    \n",
       "        var popup_024bcb9082878bc55d8765ccf91de136 = L.popup({\n",
       "  &quot;maxWidth&quot;: &quot;100%&quot;,\n",
       "});\n",
       "\n",
       "        \n",
       "            \n",
       "                var html_95603f12e07895ae2786564416f2fa7b = $(`&lt;div id=&quot;html_95603f12e07895ae2786564416f2fa7b&quot; style=&quot;width: 100.0%; height: 100.0%;&quot;&gt;Aix en Provence&lt;/div&gt;`)[0];\n",
       "                popup_024bcb9082878bc55d8765ccf91de136.setContent(html_95603f12e07895ae2786564416f2fa7b);\n",
       "            \n",
       "        \n",
       "\n",
       "        marker_c072932304261024569521f0290cf3d6.bindPopup(popup_024bcb9082878bc55d8765ccf91de136)\n",
       "        ;\n",
       "\n",
       "        \n",
       "    \n",
       "    \n",
       "                marker_c072932304261024569521f0290cf3d6.setIcon(custom_icon_b833e891107a5d7148fdf6c02cce6926);\n",
       "            \n",
       "    \n",
       "            var marker_eb7e19571751b83009974f0bbf8c59a3 = L.marker(\n",
       "                [43.9492493, 4.8059012],\n",
       "                {\n",
       "}\n",
       "            ).addTo(map_7eb414fbebe7f3862aafc70d88708bf5);\n",
       "        \n",
       "    \n",
       "        var custom_icon_eb1bf250a2ec5ade20e1f8f8e49366e9 = L.icon({\n",
       "  &quot;iconUrl&quot;: &quot;https://images.icon-icons.com/2791/PNG/512/sunny_day_weather_sun_icon_177555.png&quot;,\n",
       "  &quot;iconSize&quot;: [40, 40],\n",
       "});\n",
       "        marker_eb7e19571751b83009974f0bbf8c59a3.setIcon(custom_icon_eb1bf250a2ec5ade20e1f8f8e49366e9);\n",
       "        \n",
       "    \n",
       "        var popup_9117eca0ff889158e7575f9f345aca33 = L.popup({\n",
       "  &quot;maxWidth&quot;: &quot;100%&quot;,\n",
       "});\n",
       "\n",
       "        \n",
       "            \n",
       "                var html_2a610136ae1f316e6262d97cace69ea1 = $(`&lt;div id=&quot;html_2a610136ae1f316e6262d97cace69ea1&quot; style=&quot;width: 100.0%; height: 100.0%;&quot;&gt;Avignon&lt;/div&gt;`)[0];\n",
       "                popup_9117eca0ff889158e7575f9f345aca33.setContent(html_2a610136ae1f316e6262d97cace69ea1);\n",
       "            \n",
       "        \n",
       "\n",
       "        marker_eb7e19571751b83009974f0bbf8c59a3.bindPopup(popup_9117eca0ff889158e7575f9f345aca33)\n",
       "        ;\n",
       "\n",
       "        \n",
       "    \n",
       "    \n",
       "                marker_eb7e19571751b83009974f0bbf8c59a3.setIcon(custom_icon_eb1bf250a2ec5ade20e1f8f8e49366e9);\n",
       "            \n",
       "    \n",
       "            var marker_3dbbb686d43a20f634608dd331dd2701 = L.marker(\n",
       "                [44.0121279, 4.4196718],\n",
       "                {\n",
       "}\n",
       "            ).addTo(map_7eb414fbebe7f3862aafc70d88708bf5);\n",
       "        \n",
       "    \n",
       "        var custom_icon_a09329ced53a922e7cf6ce8304515ff0 = L.icon({\n",
       "  &quot;iconUrl&quot;: &quot;https://images.icon-icons.com/2791/PNG/512/partly_cloudy_day_sun_clouds_weather_icon_177560.png&quot;,\n",
       "  &quot;iconSize&quot;: [40, 40],\n",
       "});\n",
       "        marker_3dbbb686d43a20f634608dd331dd2701.setIcon(custom_icon_a09329ced53a922e7cf6ce8304515ff0);\n",
       "        \n",
       "    \n",
       "        var popup_a1152ecd00c0c29f6e83de878e2d2fb0 = L.popup({\n",
       "  &quot;maxWidth&quot;: &quot;100%&quot;,\n",
       "});\n",
       "\n",
       "        \n",
       "            \n",
       "                var html_55098029ac74eb5fa5d2b3a9dd225bf5 = $(`&lt;div id=&quot;html_55098029ac74eb5fa5d2b3a9dd225bf5&quot; style=&quot;width: 100.0%; height: 100.0%;&quot;&gt;Uzes&lt;/div&gt;`)[0];\n",
       "                popup_a1152ecd00c0c29f6e83de878e2d2fb0.setContent(html_55098029ac74eb5fa5d2b3a9dd225bf5);\n",
       "            \n",
       "        \n",
       "\n",
       "        marker_3dbbb686d43a20f634608dd331dd2701.bindPopup(popup_a1152ecd00c0c29f6e83de878e2d2fb0)\n",
       "        ;\n",
       "\n",
       "        \n",
       "    \n",
       "    \n",
       "                marker_3dbbb686d43a20f634608dd331dd2701.setIcon(custom_icon_a09329ced53a922e7cf6ce8304515ff0);\n",
       "            \n",
       "    \n",
       "            var marker_4fc099352a33ef6b7c905660c24d767e = L.marker(\n",
       "                [43.8374249, 4.3600687],\n",
       "                {\n",
       "}\n",
       "            ).addTo(map_7eb414fbebe7f3862aafc70d88708bf5);\n",
       "        \n",
       "    \n",
       "        var custom_icon_516293817db85fe4dd9bf8dbf8af1023 = L.icon({\n",
       "  &quot;iconUrl&quot;: &quot;https://images.icon-icons.com/2791/PNG/512/sunny_day_weather_sun_icon_177555.png&quot;,\n",
       "  &quot;iconSize&quot;: [40, 40],\n",
       "});\n",
       "        marker_4fc099352a33ef6b7c905660c24d767e.setIcon(custom_icon_516293817db85fe4dd9bf8dbf8af1023);\n",
       "        \n",
       "    \n",
       "        var popup_c2ec6c0ada65fdfa713be4f39aaa0038 = L.popup({\n",
       "  &quot;maxWidth&quot;: &quot;100%&quot;,\n",
       "});\n",
       "\n",
       "        \n",
       "            \n",
       "                var html_27da41b66a12a36622b784468f07fb78 = $(`&lt;div id=&quot;html_27da41b66a12a36622b784468f07fb78&quot; style=&quot;width: 100.0%; height: 100.0%;&quot;&gt;Nimes&lt;/div&gt;`)[0];\n",
       "                popup_c2ec6c0ada65fdfa713be4f39aaa0038.setContent(html_27da41b66a12a36622b784468f07fb78);\n",
       "            \n",
       "        \n",
       "\n",
       "        marker_4fc099352a33ef6b7c905660c24d767e.bindPopup(popup_c2ec6c0ada65fdfa713be4f39aaa0038)\n",
       "        ;\n",
       "\n",
       "        \n",
       "    \n",
       "    \n",
       "                marker_4fc099352a33ef6b7c905660c24d767e.setIcon(custom_icon_516293817db85fe4dd9bf8dbf8af1023);\n",
       "            \n",
       "    \n",
       "            var marker_110de07ad29b3ffa8902bbbf5fa5db0e = L.marker(\n",
       "                [43.5658225, 4.1912837],\n",
       "                {\n",
       "}\n",
       "            ).addTo(map_7eb414fbebe7f3862aafc70d88708bf5);\n",
       "        \n",
       "    \n",
       "        var custom_icon_27e4dbe72464b28f15b598d6d6ce8a5a = L.icon({\n",
       "  &quot;iconUrl&quot;: &quot;https://images.icon-icons.com/2791/PNG/512/sunny_day_weather_sun_icon_177555.png&quot;,\n",
       "  &quot;iconSize&quot;: [40, 40],\n",
       "});\n",
       "        marker_110de07ad29b3ffa8902bbbf5fa5db0e.setIcon(custom_icon_27e4dbe72464b28f15b598d6d6ce8a5a);\n",
       "        \n",
       "    \n",
       "        var popup_ccda4dbe40efeaf0138e162b4c0b8b3e = L.popup({\n",
       "  &quot;maxWidth&quot;: &quot;100%&quot;,\n",
       "});\n",
       "\n",
       "        \n",
       "            \n",
       "                var html_e1d0dce259da14f86363e3531c204d36 = $(`&lt;div id=&quot;html_e1d0dce259da14f86363e3531c204d36&quot; style=&quot;width: 100.0%; height: 100.0%;&quot;&gt;Aigues Mortes&lt;/div&gt;`)[0];\n",
       "                popup_ccda4dbe40efeaf0138e162b4c0b8b3e.setContent(html_e1d0dce259da14f86363e3531c204d36);\n",
       "            \n",
       "        \n",
       "\n",
       "        marker_110de07ad29b3ffa8902bbbf5fa5db0e.bindPopup(popup_ccda4dbe40efeaf0138e162b4c0b8b3e)\n",
       "        ;\n",
       "\n",
       "        \n",
       "    \n",
       "    \n",
       "                marker_110de07ad29b3ffa8902bbbf5fa5db0e.setIcon(custom_icon_27e4dbe72464b28f15b598d6d6ce8a5a);\n",
       "            \n",
       "    \n",
       "            var marker_532d044c88a5e5d3a1e885d0979764e6 = L.marker(\n",
       "                [43.4522771, 4.4287172],\n",
       "                {\n",
       "}\n",
       "            ).addTo(map_7eb414fbebe7f3862aafc70d88708bf5);\n",
       "        \n",
       "    \n",
       "        var custom_icon_43c8b4701e1fed1c4a5d581b8e3821fa = L.icon({\n",
       "  &quot;iconUrl&quot;: &quot;https://images.icon-icons.com/2791/PNG/512/sunny_day_weather_sun_icon_177555.png&quot;,\n",
       "  &quot;iconSize&quot;: [40, 40],\n",
       "});\n",
       "        marker_532d044c88a5e5d3a1e885d0979764e6.setIcon(custom_icon_43c8b4701e1fed1c4a5d581b8e3821fa);\n",
       "        \n",
       "    \n",
       "        var popup_78556286c422d175a60402bbea57ec16 = L.popup({\n",
       "  &quot;maxWidth&quot;: &quot;100%&quot;,\n",
       "});\n",
       "\n",
       "        \n",
       "            \n",
       "                var html_4932f231a84f0f4b3a3901bfe4790404 = $(`&lt;div id=&quot;html_4932f231a84f0f4b3a3901bfe4790404&quot; style=&quot;width: 100.0%; height: 100.0%;&quot;&gt;Saintes Maries de la mer&lt;/div&gt;`)[0];\n",
       "                popup_78556286c422d175a60402bbea57ec16.setContent(html_4932f231a84f0f4b3a3901bfe4790404);\n",
       "            \n",
       "        \n",
       "\n",
       "        marker_532d044c88a5e5d3a1e885d0979764e6.bindPopup(popup_78556286c422d175a60402bbea57ec16)\n",
       "        ;\n",
       "\n",
       "        \n",
       "    \n",
       "    \n",
       "                marker_532d044c88a5e5d3a1e885d0979764e6.setIcon(custom_icon_43c8b4701e1fed1c4a5d581b8e3821fa);\n",
       "            \n",
       "    \n",
       "            var marker_c27b7b9428c7ba6093acac5675e5a453 = L.marker(\n",
       "                [42.52505, 3.0831554],\n",
       "                {\n",
       "}\n",
       "            ).addTo(map_7eb414fbebe7f3862aafc70d88708bf5);\n",
       "        \n",
       "    \n",
       "        var custom_icon_e570d35f85b66b546a5346f5d1c378d1 = L.icon({\n",
       "  &quot;iconUrl&quot;: &quot;https://images.icon-icons.com/2791/PNG/512/cloudy_cloud_weather_icon_177580.png&quot;,\n",
       "  &quot;iconSize&quot;: [40, 40],\n",
       "});\n",
       "        marker_c27b7b9428c7ba6093acac5675e5a453.setIcon(custom_icon_e570d35f85b66b546a5346f5d1c378d1);\n",
       "        \n",
       "    \n",
       "        var popup_849886ad53c3951eac8958903c806496 = L.popup({\n",
       "  &quot;maxWidth&quot;: &quot;100%&quot;,\n",
       "});\n",
       "\n",
       "        \n",
       "            \n",
       "                var html_cb91ef4ea5a42b6937dee7f3c678dcd4 = $(`&lt;div id=&quot;html_cb91ef4ea5a42b6937dee7f3c678dcd4&quot; style=&quot;width: 100.0%; height: 100.0%;&quot;&gt;Collioure&lt;/div&gt;`)[0];\n",
       "                popup_849886ad53c3951eac8958903c806496.setContent(html_cb91ef4ea5a42b6937dee7f3c678dcd4);\n",
       "            \n",
       "        \n",
       "\n",
       "        marker_c27b7b9428c7ba6093acac5675e5a453.bindPopup(popup_849886ad53c3951eac8958903c806496)\n",
       "        ;\n",
       "\n",
       "        \n",
       "    \n",
       "    \n",
       "                marker_c27b7b9428c7ba6093acac5675e5a453.setIcon(custom_icon_e570d35f85b66b546a5346f5d1c378d1);\n",
       "            \n",
       "    \n",
       "            var marker_777b319bdd723d751984262182f2eada = L.marker(\n",
       "                [43.2130358, 2.3491069],\n",
       "                {\n",
       "}\n",
       "            ).addTo(map_7eb414fbebe7f3862aafc70d88708bf5);\n",
       "        \n",
       "    \n",
       "        var custom_icon_df5e73cdc9439909b15db2bc8d3bcdb0 = L.icon({\n",
       "  &quot;iconUrl&quot;: &quot;https://images.icon-icons.com/2791/PNG/512/cloudy_cloud_weather_icon_177580.png&quot;,\n",
       "  &quot;iconSize&quot;: [40, 40],\n",
       "});\n",
       "        marker_777b319bdd723d751984262182f2eada.setIcon(custom_icon_df5e73cdc9439909b15db2bc8d3bcdb0);\n",
       "        \n",
       "    \n",
       "        var popup_5011b9d2db103157c87ab1328fb2ffac = L.popup({\n",
       "  &quot;maxWidth&quot;: &quot;100%&quot;,\n",
       "});\n",
       "\n",
       "        \n",
       "            \n",
       "                var html_08066d756c2bb6ba66776388ffd3eff4 = $(`&lt;div id=&quot;html_08066d756c2bb6ba66776388ffd3eff4&quot; style=&quot;width: 100.0%; height: 100.0%;&quot;&gt;Carcassonne&lt;/div&gt;`)[0];\n",
       "                popup_5011b9d2db103157c87ab1328fb2ffac.setContent(html_08066d756c2bb6ba66776388ffd3eff4);\n",
       "            \n",
       "        \n",
       "\n",
       "        marker_777b319bdd723d751984262182f2eada.bindPopup(popup_5011b9d2db103157c87ab1328fb2ffac)\n",
       "        ;\n",
       "\n",
       "        \n",
       "    \n",
       "    \n",
       "                marker_777b319bdd723d751984262182f2eada.setIcon(custom_icon_df5e73cdc9439909b15db2bc8d3bcdb0);\n",
       "            \n",
       "    \n",
       "            var marker_49b09809d4ef61b7af97df1be8511743 = L.marker(\n",
       "                [42.8458016, 1.6067586],\n",
       "                {\n",
       "}\n",
       "            ).addTo(map_7eb414fbebe7f3862aafc70d88708bf5);\n",
       "        \n",
       "    \n",
       "        var custom_icon_cea9d607277abb9713e7233cd01e6279 = L.icon({\n",
       "  &quot;iconUrl&quot;: &quot;https://images.icon-icons.com/2791/PNG/512/cloudy_cloud_weather_icon_177580.png&quot;,\n",
       "  &quot;iconSize&quot;: [40, 40],\n",
       "});\n",
       "        marker_49b09809d4ef61b7af97df1be8511743.setIcon(custom_icon_cea9d607277abb9713e7233cd01e6279);\n",
       "        \n",
       "    \n",
       "        var popup_57ded4a20b00ae3a9624d80e5b1559d2 = L.popup({\n",
       "  &quot;maxWidth&quot;: &quot;100%&quot;,\n",
       "});\n",
       "\n",
       "        \n",
       "            \n",
       "                var html_72a31fbd29514753f6747e85cda6c17e = $(`&lt;div id=&quot;html_72a31fbd29514753f6747e85cda6c17e&quot; style=&quot;width: 100.0%; height: 100.0%;&quot;&gt;Ariege&lt;/div&gt;`)[0];\n",
       "                popup_57ded4a20b00ae3a9624d80e5b1559d2.setContent(html_72a31fbd29514753f6747e85cda6c17e);\n",
       "            \n",
       "        \n",
       "\n",
       "        marker_49b09809d4ef61b7af97df1be8511743.bindPopup(popup_57ded4a20b00ae3a9624d80e5b1559d2)\n",
       "        ;\n",
       "\n",
       "        \n",
       "    \n",
       "    \n",
       "                marker_49b09809d4ef61b7af97df1be8511743.setIcon(custom_icon_cea9d607277abb9713e7233cd01e6279);\n",
       "            \n",
       "    \n",
       "            var marker_4fd69103764ecfb755816ce1ee9fafe4 = L.marker(\n",
       "                [43.6044622, 1.4442469],\n",
       "                {\n",
       "}\n",
       "            ).addTo(map_7eb414fbebe7f3862aafc70d88708bf5);\n",
       "        \n",
       "    \n",
       "        var custom_icon_9b60f2626643c18b3cce8a113a0bb404 = L.icon({\n",
       "  &quot;iconUrl&quot;: &quot;https://images.icon-icons.com/2791/PNG/512/cloudy_cloud_weather_icon_177580.png&quot;,\n",
       "  &quot;iconSize&quot;: [40, 40],\n",
       "});\n",
       "        marker_4fd69103764ecfb755816ce1ee9fafe4.setIcon(custom_icon_9b60f2626643c18b3cce8a113a0bb404);\n",
       "        \n",
       "    \n",
       "        var popup_d689f20febb921de6b8e7761689f8bad = L.popup({\n",
       "  &quot;maxWidth&quot;: &quot;100%&quot;,\n",
       "});\n",
       "\n",
       "        \n",
       "            \n",
       "                var html_7891cc2618d71e997c3e618c2c8c1e87 = $(`&lt;div id=&quot;html_7891cc2618d71e997c3e618c2c8c1e87&quot; style=&quot;width: 100.0%; height: 100.0%;&quot;&gt;Toulouse&lt;/div&gt;`)[0];\n",
       "                popup_d689f20febb921de6b8e7761689f8bad.setContent(html_7891cc2618d71e997c3e618c2c8c1e87);\n",
       "            \n",
       "        \n",
       "\n",
       "        marker_4fd69103764ecfb755816ce1ee9fafe4.bindPopup(popup_d689f20febb921de6b8e7761689f8bad)\n",
       "        ;\n",
       "\n",
       "        \n",
       "    \n",
       "    \n",
       "                marker_4fd69103764ecfb755816ce1ee9fafe4.setIcon(custom_icon_9b60f2626643c18b3cce8a113a0bb404);\n",
       "            \n",
       "    \n",
       "            var marker_97be312f98bcd681f42cd48d634c74b8 = L.marker(\n",
       "                [44.0175835, 1.3549991],\n",
       "                {\n",
       "}\n",
       "            ).addTo(map_7eb414fbebe7f3862aafc70d88708bf5);\n",
       "        \n",
       "    \n",
       "        var custom_icon_cb8b5a1871b133d710c5bbc322512914 = L.icon({\n",
       "  &quot;iconUrl&quot;: &quot;https://images.icon-icons.com/2791/PNG/512/overcast_cloud_weather_icon_177561.png&quot;,\n",
       "  &quot;iconSize&quot;: [40, 40],\n",
       "});\n",
       "        marker_97be312f98bcd681f42cd48d634c74b8.setIcon(custom_icon_cb8b5a1871b133d710c5bbc322512914);\n",
       "        \n",
       "    \n",
       "        var popup_fa5b7c8fdbcabd61f349a017720dc44a = L.popup({\n",
       "  &quot;maxWidth&quot;: &quot;100%&quot;,\n",
       "});\n",
       "\n",
       "        \n",
       "            \n",
       "                var html_e0db87718edea42525b3e4a4deeb1cc4 = $(`&lt;div id=&quot;html_e0db87718edea42525b3e4a4deeb1cc4&quot; style=&quot;width: 100.0%; height: 100.0%;&quot;&gt;Montauban&lt;/div&gt;`)[0];\n",
       "                popup_fa5b7c8fdbcabd61f349a017720dc44a.setContent(html_e0db87718edea42525b3e4a4deeb1cc4);\n",
       "            \n",
       "        \n",
       "\n",
       "        marker_97be312f98bcd681f42cd48d634c74b8.bindPopup(popup_fa5b7c8fdbcabd61f349a017720dc44a)\n",
       "        ;\n",
       "\n",
       "        \n",
       "    \n",
       "    \n",
       "                marker_97be312f98bcd681f42cd48d634c74b8.setIcon(custom_icon_cb8b5a1871b133d710c5bbc322512914);\n",
       "            \n",
       "    \n",
       "            var marker_70194edec67e6b761fbfd91352ed3934 = L.marker(\n",
       "                [43.4832523, -1.5592776],\n",
       "                {\n",
       "}\n",
       "            ).addTo(map_7eb414fbebe7f3862aafc70d88708bf5);\n",
       "        \n",
       "    \n",
       "        var custom_icon_1270f704d065d7ffd2a1773517648157 = L.icon({\n",
       "  &quot;iconUrl&quot;: &quot;https://images.icon-icons.com/2791/PNG/512/overcast_cloud_weather_icon_177561.png&quot;,\n",
       "  &quot;iconSize&quot;: [40, 40],\n",
       "});\n",
       "        marker_70194edec67e6b761fbfd91352ed3934.setIcon(custom_icon_1270f704d065d7ffd2a1773517648157);\n",
       "        \n",
       "    \n",
       "        var popup_8ebd98dd1c1ffd64f898bff1ed3ab170 = L.popup({\n",
       "  &quot;maxWidth&quot;: &quot;100%&quot;,\n",
       "});\n",
       "\n",
       "        \n",
       "            \n",
       "                var html_b8f4650536c2aeb7fe78d176570e5c2c = $(`&lt;div id=&quot;html_b8f4650536c2aeb7fe78d176570e5c2c&quot; style=&quot;width: 100.0%; height: 100.0%;&quot;&gt;Biarritz&lt;/div&gt;`)[0];\n",
       "                popup_8ebd98dd1c1ffd64f898bff1ed3ab170.setContent(html_b8f4650536c2aeb7fe78d176570e5c2c);\n",
       "            \n",
       "        \n",
       "\n",
       "        marker_70194edec67e6b761fbfd91352ed3934.bindPopup(popup_8ebd98dd1c1ffd64f898bff1ed3ab170)\n",
       "        ;\n",
       "\n",
       "        \n",
       "    \n",
       "    \n",
       "                marker_70194edec67e6b761fbfd91352ed3934.setIcon(custom_icon_1270f704d065d7ffd2a1773517648157);\n",
       "            \n",
       "    \n",
       "            var marker_46f744ad66bd51b6593707b16e1b8b5f = L.marker(\n",
       "                [43.4945144, -1.4736657],\n",
       "                {\n",
       "}\n",
       "            ).addTo(map_7eb414fbebe7f3862aafc70d88708bf5);\n",
       "        \n",
       "    \n",
       "        var custom_icon_17516a10c3c1adabf76e103af5ebcc45 = L.icon({\n",
       "  &quot;iconUrl&quot;: &quot;https://images.icon-icons.com/2791/PNG/512/overcast_cloud_weather_icon_177561.png&quot;,\n",
       "  &quot;iconSize&quot;: [40, 40],\n",
       "});\n",
       "        marker_46f744ad66bd51b6593707b16e1b8b5f.setIcon(custom_icon_17516a10c3c1adabf76e103af5ebcc45);\n",
       "        \n",
       "    \n",
       "        var popup_f36a769da344ffe991410c49bb32ecec = L.popup({\n",
       "  &quot;maxWidth&quot;: &quot;100%&quot;,\n",
       "});\n",
       "\n",
       "        \n",
       "            \n",
       "                var html_002d07d23f2dd32268bf444fddfbf8e6 = $(`&lt;div id=&quot;html_002d07d23f2dd32268bf444fddfbf8e6&quot; style=&quot;width: 100.0%; height: 100.0%;&quot;&gt;Bayonne&lt;/div&gt;`)[0];\n",
       "                popup_f36a769da344ffe991410c49bb32ecec.setContent(html_002d07d23f2dd32268bf444fddfbf8e6);\n",
       "            \n",
       "        \n",
       "\n",
       "        marker_46f744ad66bd51b6593707b16e1b8b5f.bindPopup(popup_f36a769da344ffe991410c49bb32ecec)\n",
       "        ;\n",
       "\n",
       "        \n",
       "    \n",
       "    \n",
       "                marker_46f744ad66bd51b6593707b16e1b8b5f.setIcon(custom_icon_17516a10c3c1adabf76e103af5ebcc45);\n",
       "            \n",
       "    \n",
       "            var marker_d8735a78a4ab96eabab1732a5184022b = L.marker(\n",
       "                [46.1591126, -1.1520434],\n",
       "                {\n",
       "}\n",
       "            ).addTo(map_7eb414fbebe7f3862aafc70d88708bf5);\n",
       "        \n",
       "    \n",
       "        var custom_icon_8146e0053f32e1b5901e9aed6dfaa657 = L.icon({\n",
       "  &quot;iconUrl&quot;: &quot;https://images.icon-icons.com/2791/PNG/512/rain_cloud_weather_icon_177568.png&quot;,\n",
       "  &quot;iconSize&quot;: [40, 40],\n",
       "});\n",
       "        marker_d8735a78a4ab96eabab1732a5184022b.setIcon(custom_icon_8146e0053f32e1b5901e9aed6dfaa657);\n",
       "        \n",
       "    \n",
       "        var popup_418b7ae1b0bc1488e35174be96dce532 = L.popup({\n",
       "  &quot;maxWidth&quot;: &quot;100%&quot;,\n",
       "});\n",
       "\n",
       "        \n",
       "            \n",
       "                var html_f0202225034100063b26a4be4e955ec7 = $(`&lt;div id=&quot;html_f0202225034100063b26a4be4e955ec7&quot; style=&quot;width: 100.0%; height: 100.0%;&quot;&gt;La Rochelle&lt;/div&gt;`)[0];\n",
       "                popup_418b7ae1b0bc1488e35174be96dce532.setContent(html_f0202225034100063b26a4be4e955ec7);\n",
       "            \n",
       "        \n",
       "\n",
       "        marker_d8735a78a4ab96eabab1732a5184022b.bindPopup(popup_418b7ae1b0bc1488e35174be96dce532)\n",
       "        ;\n",
       "\n",
       "        \n",
       "    \n",
       "    \n",
       "                marker_d8735a78a4ab96eabab1732a5184022b.setIcon(custom_icon_8146e0053f32e1b5901e9aed6dfaa657);\n",
       "            \n",
       "    \n",
       "            var marker_1f6f1eaeb86c9a40df5c84dddaef3442 = L.marker(\n",
       "                [43.7496562, 6.3285616],\n",
       "                {\n",
       "}\n",
       "            ).addTo(map_7eb414fbebe7f3862aafc70d88708bf5);\n",
       "        \n",
       "    \n",
       "        var custom_icon_90919e35da45c6ce9310a5cf580fd808 = L.icon({\n",
       "  &quot;iconUrl&quot;: &quot;https://images.icon-icons.com/2791/PNG/512/sunny_day_weather_sun_icon_177555.png&quot;,\n",
       "  &quot;iconSize&quot;: [40, 40],\n",
       "});\n",
       "        marker_1f6f1eaeb86c9a40df5c84dddaef3442.setIcon(custom_icon_90919e35da45c6ce9310a5cf580fd808);\n",
       "        \n",
       "    \n",
       "        var popup_b6e14aa95beba894dc9e74b36f060c49 = L.popup({\n",
       "  &quot;maxWidth&quot;: &quot;100%&quot;,\n",
       "});\n",
       "\n",
       "        \n",
       "            \n",
       "                var html_de38f258ad7df13b2537e1e10007355e = $(`&lt;div id=&quot;html_de38f258ad7df13b2537e1e10007355e&quot; style=&quot;width: 100.0%; height: 100.0%;&quot;&gt;Gorges du Verdon&lt;/div&gt;`)[0];\n",
       "                popup_b6e14aa95beba894dc9e74b36f060c49.setContent(html_de38f258ad7df13b2537e1e10007355e);\n",
       "            \n",
       "        \n",
       "\n",
       "        marker_1f6f1eaeb86c9a40df5c84dddaef3442.bindPopup(popup_b6e14aa95beba894dc9e74b36f060c49)\n",
       "        ;\n",
       "\n",
       "        \n",
       "    \n",
       "    \n",
       "                marker_1f6f1eaeb86c9a40df5c84dddaef3442.setIcon(custom_icon_90919e35da45c6ce9310a5cf580fd808);\n",
       "            \n",
       "    \n",
       "            tile_layer_9f5bbcfc6114ea91cb3b9a14d1be560b.addTo(map_7eb414fbebe7f3862aafc70d88708bf5);\n",
       "        \n",
       "    \n",
       "                marker_bef8d60de56ef471c90a80088c58c99a.setIcon(custom_icon_6c0091f2abc00873a323fc8ed63d2216);\n",
       "            \n",
       "    \n",
       "                marker_e1889e414e28d956fa52332d105fabeb.setIcon(custom_icon_6ed8be99b9921bafa9a246c5dc2bbc70);\n",
       "            \n",
       "    \n",
       "                marker_e336fbe025eb092c415f4f0eb827bd1f.setIcon(custom_icon_f06dd15fab4dd5a1d610f9d37dea4a2b);\n",
       "            \n",
       "    \n",
       "                marker_7f58fe9fb11b859b406884dd60544aef.setIcon(custom_icon_aff87457435aa75f24694a03696697e7);\n",
       "            \n",
       "    \n",
       "                marker_9c8a84b6fb73d48229220ea59a4f83c7.setIcon(custom_icon_c702666e4abf77aaef85f283e56ff4a6);\n",
       "            \n",
       "    \n",
       "                marker_b9b79f4853499f2f570b9e102ed083f6.setIcon(custom_icon_d1cced98d17b3c280da697d7962dcbb1);\n",
       "            \n",
       "    \n",
       "                marker_40b0a5af820f874c22dea9d344b013d1.setIcon(custom_icon_8738c6194c0d4d96634d07a5a4dd7dc1);\n",
       "            \n",
       "    \n",
       "                marker_0ab7b9b9c1250df845345258c1c15034.setIcon(custom_icon_7aaa4d87df8fc99500b7359807344641);\n",
       "            \n",
       "    \n",
       "                marker_684095fcaf94db7ee7bd23f77c6cfa4b.setIcon(custom_icon_631d6216765c68c0d1610facb7a43b43);\n",
       "            \n",
       "    \n",
       "                marker_eb7a8aca83ec9f62fe39fa61b264b1cd.setIcon(custom_icon_46403b7f77c941469bdf4b2a0fe16938);\n",
       "            \n",
       "    \n",
       "                marker_c75e4b791265d01ce7639874f61d3ac9.setIcon(custom_icon_99229de95961d6f1d46bd8e428d3f475);\n",
       "            \n",
       "    \n",
       "                marker_67fe5a803cb9af47f3c34e610c51e53b.setIcon(custom_icon_2aa806a893cb8f01e1c7a7c8cbc8c8eb);\n",
       "            \n",
       "    \n",
       "                marker_4b6caa5685de59291337095643d05739.setIcon(custom_icon_173a3c19bec6939a9f1d77b3f47564b3);\n",
       "            \n",
       "    \n",
       "                marker_da2b5c953fda08daae4158c082df6c5f.setIcon(custom_icon_6816254baac64412f98f815d2748412b);\n",
       "            \n",
       "    \n",
       "                marker_c3d22a854270e4d3a781487ad2403926.setIcon(custom_icon_6bc5d963aa9349fc08fb50b47297618b);\n",
       "            \n",
       "    \n",
       "                marker_a981b39aa1774ab460eb538771345d1e.setIcon(custom_icon_9bb7a51aa1123372283945dfedfb1471);\n",
       "            \n",
       "    \n",
       "                marker_c9c9aaeaaf8a96d5cd4016bacd32a4f7.setIcon(custom_icon_444869b774dbc1ccd555d49587396fc0);\n",
       "            \n",
       "    \n",
       "                marker_08893df240bbfe2ac7ca73e99a7498b4.setIcon(custom_icon_6d05be07fa408a0d619f61a3c9a9f569);\n",
       "            \n",
       "    \n",
       "                marker_6926b0584cfd5b52688f90a7b84acb5f.setIcon(custom_icon_b23bd423b02fd206cb0b946c57dce262);\n",
       "            \n",
       "    \n",
       "                marker_641d4033c43ef714f3340946de8c7268.setIcon(custom_icon_192a57dc8a9ef8beaef2c760cc19540b);\n",
       "            \n",
       "    \n",
       "                marker_c072932304261024569521f0290cf3d6.setIcon(custom_icon_b833e891107a5d7148fdf6c02cce6926);\n",
       "            \n",
       "    \n",
       "                marker_eb7e19571751b83009974f0bbf8c59a3.setIcon(custom_icon_eb1bf250a2ec5ade20e1f8f8e49366e9);\n",
       "            \n",
       "    \n",
       "                marker_3dbbb686d43a20f634608dd331dd2701.setIcon(custom_icon_a09329ced53a922e7cf6ce8304515ff0);\n",
       "            \n",
       "    \n",
       "                marker_4fc099352a33ef6b7c905660c24d767e.setIcon(custom_icon_516293817db85fe4dd9bf8dbf8af1023);\n",
       "            \n",
       "    \n",
       "                marker_110de07ad29b3ffa8902bbbf5fa5db0e.setIcon(custom_icon_27e4dbe72464b28f15b598d6d6ce8a5a);\n",
       "            \n",
       "    \n",
       "                marker_532d044c88a5e5d3a1e885d0979764e6.setIcon(custom_icon_43c8b4701e1fed1c4a5d581b8e3821fa);\n",
       "            \n",
       "    \n",
       "                marker_c27b7b9428c7ba6093acac5675e5a453.setIcon(custom_icon_e570d35f85b66b546a5346f5d1c378d1);\n",
       "            \n",
       "    \n",
       "                marker_777b319bdd723d751984262182f2eada.setIcon(custom_icon_df5e73cdc9439909b15db2bc8d3bcdb0);\n",
       "            \n",
       "    \n",
       "                marker_49b09809d4ef61b7af97df1be8511743.setIcon(custom_icon_cea9d607277abb9713e7233cd01e6279);\n",
       "            \n",
       "    \n",
       "                marker_4fd69103764ecfb755816ce1ee9fafe4.setIcon(custom_icon_9b60f2626643c18b3cce8a113a0bb404);\n",
       "            \n",
       "    \n",
       "                marker_97be312f98bcd681f42cd48d634c74b8.setIcon(custom_icon_cb8b5a1871b133d710c5bbc322512914);\n",
       "            \n",
       "    \n",
       "                marker_70194edec67e6b761fbfd91352ed3934.setIcon(custom_icon_1270f704d065d7ffd2a1773517648157);\n",
       "            \n",
       "    \n",
       "                marker_46f744ad66bd51b6593707b16e1b8b5f.setIcon(custom_icon_17516a10c3c1adabf76e103af5ebcc45);\n",
       "            \n",
       "    \n",
       "                marker_d8735a78a4ab96eabab1732a5184022b.setIcon(custom_icon_8146e0053f32e1b5901e9aed6dfaa657);\n",
       "            \n",
       "    \n",
       "                marker_1f6f1eaeb86c9a40df5c84dddaef3442.setIcon(custom_icon_90919e35da45c6ce9310a5cf580fd808);\n",
       "            \n",
       "&lt;/script&gt;\n",
       "&lt;/html&gt;\" style=\"position:absolute;width:100%;height:100%;left:0;top:0;border:none !important;\" allowfullscreen webkitallowfullscreen mozallowfullscreen></iframe></div></div>"
      ],
      "text/plain": [
       "<folium.folium.Map at 0x1e69b3df2b0>"
      ]
     },
     "execution_count": 30,
     "metadata": {},
     "output_type": "execute_result"
    }
   ],
   "source": [
    "# Dictionnaire pour mapper les descriptions aux icônes\n",
    "icon_mapping = {\n",
    "    'clear sky': \"https://images.icon-icons.com/2791/PNG/512/sunny_day_weather_sun_icon_177555.png\",  \n",
    "    'scattered clouds': 'https://images.icon-icons.com/2791/PNG/512/partly_cloudy_day_sun_clouds_weather_icon_177560.png',\n",
    "    'few clouds' : 'https://images.icon-icons.com/857/PNG/512/weather-2_icon-icons.com_67742.png',\n",
    "    'broken clouds': 'https://images.icon-icons.com/2791/PNG/512/cloudy_cloud_weather_icon_177580.png',\n",
    "    'overcast clouds': 'https://images.icon-icons.com/2791/PNG/512/overcast_cloud_weather_icon_177561.png',\n",
    "    'light intensity drizzle rain' : 'https://images.icon-icons.com/139/PNG/512/drizzle_day_weather_20907.png',\n",
    "    'light intensity drizzle': 'https://images.icon-icons.com/139/PNG/512/drizzle_day_weather_20907.png',\n",
    "    'mist': 'https://images.icon-icons.com/2791/PNG/512/fog_weather_icon_177578.png',\n",
    "    'light rain' : 'https://images.icon-icons.com/2791/PNG/512/rain_cloud_weather_icon_177568.png',\n",
    "    'heavy rain' : 'https://images.icon-icons.com/2791/PNG/512/heavy_rain_weather_icon_177574.png',\n",
    "    'heavy intensity rain' : \"https://images.icon-icons.com/2791/PNG/512/heavy_rain_day_weather_icon_177573.png\",\n",
    "    'moderate rain' : 'https://images.icon-icons.com/2791/PNG/512/heavy_rain_day_weather_icon_177573.png',\n",
    "    'thunder storm' : 'https://images.icon-icons.com/2791/PNG/512/thunder_thunderbolt_cloud_weather_icon_177554.png',\n",
    "    'snow' : 'https://images.icon-icons.com/2791/PNG/512/heavy_snow_weather_icon_177571.png'\n",
    "}\n",
    "\n",
    "# Créer une carte centrée sur la France\n",
    "map = folium.Map(location=[46.603354, 1.888334], zoom_start=6)\n",
    "\n",
    "# Ajouter les villes à la carte avec des icônes personnalisées\n",
    "for i, row in bc.iterrows():\n",
    "    icon_url = icon_mapping.get(row['description'], 'https://images.icon-icons.com/1744/PNG/512/3643775-caution-exclamation-mark-sign-triangle_113444.png')  #si non trouvé dans le dico, ce logo apparait\n",
    "    folium.Marker(\n",
    "        location=[row['lat'], row['lon']],\n",
    "        popup=row['cities'],\n",
    "        icon=folium.CustomIcon(icon_url, icon_size=(40, 40))  # Ajustez la taille de l'icône si nécessaire\n",
    "    ).add_to(map)\n",
    "\n",
    "# Sauvegarder la carte dans un fichier HTML\n",
    "map.save('map_meteo_best_city.html')\n",
    "\n",
    "# Afficher la carte\n",
    "map\n"
   ]
  },
  {
   "cell_type": "markdown",
   "metadata": {},
   "source": [
    "# Selection des meilleures destinations"
   ]
  },
  {
   "cell_type": "markdown",
   "metadata": {},
   "source": [
    "Nous sommes au printemps. Nous cherchons une distination qui nous changerait de la grisaille parisienne. Pour définir les villes avec la meilleure météo, nous pouvons définir les conditions suivantes :\n",
    "- ciel dégagé\n",
    "- hautes température rééel et ressentie\n",
    "- Indice UV élevé\n",
    "- faible taux d'humidité\n",
    "- faible vitesse du vent"
   ]
  },
  {
   "cell_type": "code",
   "execution_count": 31,
   "metadata": {},
   "outputs": [
    {
     "data": {
      "text/html": [
       "<div>\n",
       "<style scoped>\n",
       "    .dataframe tbody tr th:only-of-type {\n",
       "        vertical-align: middle;\n",
       "    }\n",
       "\n",
       "    .dataframe tbody tr th {\n",
       "        vertical-align: top;\n",
       "    }\n",
       "\n",
       "    .dataframe thead th {\n",
       "        text-align: right;\n",
       "    }\n",
       "</style>\n",
       "<table border=\"1\" class=\"dataframe\">\n",
       "  <thead>\n",
       "    <tr style=\"text-align: right;\">\n",
       "      <th></th>\n",
       "      <th>cities</th>\n",
       "      <th>name</th>\n",
       "      <th>country</th>\n",
       "      <th>state</th>\n",
       "      <th>lat</th>\n",
       "      <th>lon</th>\n",
       "      <th>date</th>\n",
       "      <th>temp</th>\n",
       "      <th>feels_like</th>\n",
       "      <th>uvi</th>\n",
       "      <th>humidity</th>\n",
       "      <th>wind_speed</th>\n",
       "      <th>description</th>\n",
       "    </tr>\n",
       "  </thead>\n",
       "  <tbody>\n",
       "    <tr>\n",
       "      <th>8</th>\n",
       "      <td>Strasbourg</td>\n",
       "      <td>Strasbourg</td>\n",
       "      <td>FR</td>\n",
       "      <td>Grand Est</td>\n",
       "      <td>48.584614</td>\n",
       "      <td>7.750713</td>\n",
       "      <td>2025-04-23 10:40:01</td>\n",
       "      <td>17.01</td>\n",
       "      <td>16.41</td>\n",
       "      <td>3.67</td>\n",
       "      <td>63.0</td>\n",
       "      <td>2.06</td>\n",
       "      <td>clear sky</td>\n",
       "    </tr>\n",
       "    <tr>\n",
       "      <th>9</th>\n",
       "      <td>Chateau du Haut Koenigsbourg</td>\n",
       "      <td>Château du Haut-Kœnigsbourg</td>\n",
       "      <td>FR</td>\n",
       "      <td>Grand Est</td>\n",
       "      <td>48.249523</td>\n",
       "      <td>7.345492</td>\n",
       "      <td>2025-04-23 10:40:01</td>\n",
       "      <td>12.90</td>\n",
       "      <td>12.00</td>\n",
       "      <td>5.07</td>\n",
       "      <td>67.0</td>\n",
       "      <td>1.03</td>\n",
       "      <td>clear sky</td>\n",
       "    </tr>\n",
       "    <tr>\n",
       "      <th>10</th>\n",
       "      <td>Colmar</td>\n",
       "      <td>Colmar</td>\n",
       "      <td>FR</td>\n",
       "      <td>Grand Est</td>\n",
       "      <td>48.077752</td>\n",
       "      <td>7.357964</td>\n",
       "      <td>2025-04-23 10:40:01</td>\n",
       "      <td>15.94</td>\n",
       "      <td>15.34</td>\n",
       "      <td>5.07</td>\n",
       "      <td>67.0</td>\n",
       "      <td>1.03</td>\n",
       "      <td>clear sky</td>\n",
       "    </tr>\n",
       "    <tr>\n",
       "      <th>11</th>\n",
       "      <td>Eguisheim</td>\n",
       "      <td>Eguisheim</td>\n",
       "      <td>FR</td>\n",
       "      <td>Grand Est</td>\n",
       "      <td>48.044797</td>\n",
       "      <td>7.307962</td>\n",
       "      <td>2025-04-23 10:40:02</td>\n",
       "      <td>15.90</td>\n",
       "      <td>15.30</td>\n",
       "      <td>5.07</td>\n",
       "      <td>67.0</td>\n",
       "      <td>1.03</td>\n",
       "      <td>clear sky</td>\n",
       "    </tr>\n",
       "    <tr>\n",
       "      <th>17</th>\n",
       "      <td>Bormes les Mimosas</td>\n",
       "      <td>Bormes-les-Mimosas</td>\n",
       "      <td>FR</td>\n",
       "      <td>Provence-Alpes-Côte d'Azur</td>\n",
       "      <td>43.150697</td>\n",
       "      <td>6.341928</td>\n",
       "      <td>2025-04-23 10:40:02</td>\n",
       "      <td>18.55</td>\n",
       "      <td>18.05</td>\n",
       "      <td>6.34</td>\n",
       "      <td>61.0</td>\n",
       "      <td>6.17</td>\n",
       "      <td>clear sky</td>\n",
       "    </tr>\n",
       "    <tr>\n",
       "      <th>18</th>\n",
       "      <td>Cassis</td>\n",
       "      <td>Cassis</td>\n",
       "      <td>FR</td>\n",
       "      <td>Provence-Alpes-Côte d'Azur</td>\n",
       "      <td>43.214036</td>\n",
       "      <td>5.539632</td>\n",
       "      <td>2025-04-23 10:40:02</td>\n",
       "      <td>19.58</td>\n",
       "      <td>18.90</td>\n",
       "      <td>6.29</td>\n",
       "      <td>50.0</td>\n",
       "      <td>9.08</td>\n",
       "      <td>clear sky</td>\n",
       "    </tr>\n",
       "    <tr>\n",
       "      <th>19</th>\n",
       "      <td>Marseille</td>\n",
       "      <td>Marseille</td>\n",
       "      <td>FR</td>\n",
       "      <td>Provence-Alpes-Côte d'Azur</td>\n",
       "      <td>43.296174</td>\n",
       "      <td>5.369953</td>\n",
       "      <td>2025-04-23 10:40:02</td>\n",
       "      <td>19.75</td>\n",
       "      <td>19.09</td>\n",
       "      <td>6.19</td>\n",
       "      <td>50.0</td>\n",
       "      <td>7.20</td>\n",
       "      <td>clear sky</td>\n",
       "    </tr>\n",
       "    <tr>\n",
       "      <th>20</th>\n",
       "      <td>Aix en Provence</td>\n",
       "      <td>Aix-en-Provence</td>\n",
       "      <td>FR</td>\n",
       "      <td>Provence-Alpes-Côte d'Azur</td>\n",
       "      <td>43.529842</td>\n",
       "      <td>5.447474</td>\n",
       "      <td>2025-04-23 10:40:03</td>\n",
       "      <td>18.01</td>\n",
       "      <td>16.91</td>\n",
       "      <td>5.81</td>\n",
       "      <td>40.0</td>\n",
       "      <td>6.22</td>\n",
       "      <td>clear sky</td>\n",
       "    </tr>\n",
       "    <tr>\n",
       "      <th>21</th>\n",
       "      <td>Avignon</td>\n",
       "      <td>Avignon</td>\n",
       "      <td>FR</td>\n",
       "      <td>Provence-Alpes-Côte d'Azur</td>\n",
       "      <td>43.949249</td>\n",
       "      <td>4.805901</td>\n",
       "      <td>2025-04-23 10:40:03</td>\n",
       "      <td>19.67</td>\n",
       "      <td>19.02</td>\n",
       "      <td>6.14</td>\n",
       "      <td>51.0</td>\n",
       "      <td>6.17</td>\n",
       "      <td>clear sky</td>\n",
       "    </tr>\n",
       "    <tr>\n",
       "      <th>23</th>\n",
       "      <td>Nimes</td>\n",
       "      <td>Nimes</td>\n",
       "      <td>FR</td>\n",
       "      <td>Occitania</td>\n",
       "      <td>43.837425</td>\n",
       "      <td>4.360069</td>\n",
       "      <td>2025-04-23 10:40:03</td>\n",
       "      <td>20.22</td>\n",
       "      <td>19.26</td>\n",
       "      <td>6.22</td>\n",
       "      <td>37.0</td>\n",
       "      <td>4.63</td>\n",
       "      <td>clear sky</td>\n",
       "    </tr>\n",
       "    <tr>\n",
       "      <th>24</th>\n",
       "      <td>Aigues Mortes</td>\n",
       "      <td>Aigues-Mortes</td>\n",
       "      <td>FR</td>\n",
       "      <td>Occitania</td>\n",
       "      <td>43.565823</td>\n",
       "      <td>4.191284</td>\n",
       "      <td>2025-04-23 10:40:03</td>\n",
       "      <td>19.77</td>\n",
       "      <td>18.85</td>\n",
       "      <td>6.22</td>\n",
       "      <td>40.0</td>\n",
       "      <td>7.72</td>\n",
       "      <td>clear sky</td>\n",
       "    </tr>\n",
       "    <tr>\n",
       "      <th>25</th>\n",
       "      <td>Saintes Maries de la mer</td>\n",
       "      <td>Saintes-Maries-de-la-Mer</td>\n",
       "      <td>FR</td>\n",
       "      <td>Provence-Alpes-Côte d'Azur</td>\n",
       "      <td>43.452277</td>\n",
       "      <td>4.428717</td>\n",
       "      <td>2025-04-23 10:40:03</td>\n",
       "      <td>17.64</td>\n",
       "      <td>16.90</td>\n",
       "      <td>6.03</td>\n",
       "      <td>55.0</td>\n",
       "      <td>6.02</td>\n",
       "      <td>clear sky</td>\n",
       "    </tr>\n",
       "    <tr>\n",
       "      <th>34</th>\n",
       "      <td>Gorges du Verdon</td>\n",
       "      <td>NaN</td>\n",
       "      <td>NaN</td>\n",
       "      <td>NaN</td>\n",
       "      <td>43.749656</td>\n",
       "      <td>6.328562</td>\n",
       "      <td>2025-04-23 10:40:04</td>\n",
       "      <td>19.98</td>\n",
       "      <td>19.42</td>\n",
       "      <td>6.38</td>\n",
       "      <td>53.0</td>\n",
       "      <td>3.53</td>\n",
       "      <td>clear sky</td>\n",
       "    </tr>\n",
       "  </tbody>\n",
       "</table>\n",
       "</div>"
      ],
      "text/plain": [
       "                          cities                         name country  \\\n",
       "8                     Strasbourg                   Strasbourg      FR   \n",
       "9   Chateau du Haut Koenigsbourg  Château du Haut-Kœnigsbourg      FR   \n",
       "10                        Colmar                       Colmar      FR   \n",
       "11                     Eguisheim                    Eguisheim      FR   \n",
       "17            Bormes les Mimosas           Bormes-les-Mimosas      FR   \n",
       "18                        Cassis                       Cassis      FR   \n",
       "19                     Marseille                    Marseille      FR   \n",
       "20               Aix en Provence              Aix-en-Provence      FR   \n",
       "21                       Avignon                      Avignon      FR   \n",
       "23                         Nimes                        Nimes      FR   \n",
       "24                 Aigues Mortes                Aigues-Mortes      FR   \n",
       "25      Saintes Maries de la mer     Saintes-Maries-de-la-Mer      FR   \n",
       "34              Gorges du Verdon                          NaN     NaN   \n",
       "\n",
       "                         state        lat       lon                 date  \\\n",
       "8                    Grand Est  48.584614  7.750713  2025-04-23 10:40:01   \n",
       "9                    Grand Est  48.249523  7.345492  2025-04-23 10:40:01   \n",
       "10                   Grand Est  48.077752  7.357964  2025-04-23 10:40:01   \n",
       "11                   Grand Est  48.044797  7.307962  2025-04-23 10:40:02   \n",
       "17  Provence-Alpes-Côte d'Azur  43.150697  6.341928  2025-04-23 10:40:02   \n",
       "18  Provence-Alpes-Côte d'Azur  43.214036  5.539632  2025-04-23 10:40:02   \n",
       "19  Provence-Alpes-Côte d'Azur  43.296174  5.369953  2025-04-23 10:40:02   \n",
       "20  Provence-Alpes-Côte d'Azur  43.529842  5.447474  2025-04-23 10:40:03   \n",
       "21  Provence-Alpes-Côte d'Azur  43.949249  4.805901  2025-04-23 10:40:03   \n",
       "23                   Occitania  43.837425  4.360069  2025-04-23 10:40:03   \n",
       "24                   Occitania  43.565823  4.191284  2025-04-23 10:40:03   \n",
       "25  Provence-Alpes-Côte d'Azur  43.452277  4.428717  2025-04-23 10:40:03   \n",
       "34                         NaN  43.749656  6.328562  2025-04-23 10:40:04   \n",
       "\n",
       "     temp  feels_like   uvi  humidity  wind_speed description  \n",
       "8   17.01       16.41  3.67      63.0        2.06   clear sky  \n",
       "9   12.90       12.00  5.07      67.0        1.03   clear sky  \n",
       "10  15.94       15.34  5.07      67.0        1.03   clear sky  \n",
       "11  15.90       15.30  5.07      67.0        1.03   clear sky  \n",
       "17  18.55       18.05  6.34      61.0        6.17   clear sky  \n",
       "18  19.58       18.90  6.29      50.0        9.08   clear sky  \n",
       "19  19.75       19.09  6.19      50.0        7.20   clear sky  \n",
       "20  18.01       16.91  5.81      40.0        6.22   clear sky  \n",
       "21  19.67       19.02  6.14      51.0        6.17   clear sky  \n",
       "23  20.22       19.26  6.22      37.0        4.63   clear sky  \n",
       "24  19.77       18.85  6.22      40.0        7.72   clear sky  \n",
       "25  17.64       16.90  6.03      55.0        6.02   clear sky  \n",
       "34  19.98       19.42  6.38      53.0        3.53   clear sky  "
      ]
     },
     "execution_count": 31,
     "metadata": {},
     "output_type": "execute_result"
    }
   ],
   "source": [
    "bc[bc[\"description\"]==\"clear sky\"]"
   ]
  },
  {
   "cell_type": "code",
   "execution_count": 32,
   "metadata": {},
   "outputs": [
    {
     "name": "stdout",
     "output_type": "stream",
     "text": [
      "Villes avec la meilleure météo :\n",
      "{'Marseille', 'Nimes', 'Avignon', 'Cassis', 'Gorges du Verdon'}\n"
     ]
    }
   ],
   "source": [
    "# Filtrer les villes avec la description \"clear sky\"\n",
    "filtered_bc = bc[bc['description'] == 'clear sky']\n",
    "\n",
    "# Sélectionner les 5 meilleures villes pour chaque critère parmi les villes filtrées.\n",
    "top_feels_like = set(filtered_bc.nlargest(5, 'feels_like')['cities'])# critère le plus important, donc le plus restrictif\n",
    "#top_temp = set(filtered_bc.nlargest(10, 'temp')['cities']) #critère retiré car redondant avec la précédent\n",
    "top_uvi = set(filtered_bc.nlargest(10, 'uvi')['cities'])\n",
    "top_humidity = set(filtered_bc.nsmallest(10, 'humidity')['cities'])\n",
    "top_wind_speed = set(filtered_bc.nsmallest(15, 'wind_speed')['cities'])\n",
    "\n",
    "# Trouver l'intersection des ensembles\n",
    "best_weather = top_feels_like &  top_uvi & top_humidity & top_wind_speed\n",
    "#top_temp &\n",
    "\n",
    "# Afficher la liste des meilleures villes\n",
    "print(\"Villes avec la meilleure météo :\")\n",
    "print(best_weather)"
   ]
  },
  {
   "cell_type": "code",
   "execution_count": 33,
   "metadata": {},
   "outputs": [
    {
     "data": {
      "text/html": [
       "<div>\n",
       "<style scoped>\n",
       "    .dataframe tbody tr th:only-of-type {\n",
       "        vertical-align: middle;\n",
       "    }\n",
       "\n",
       "    .dataframe tbody tr th {\n",
       "        vertical-align: top;\n",
       "    }\n",
       "\n",
       "    .dataframe thead th {\n",
       "        text-align: right;\n",
       "    }\n",
       "</style>\n",
       "<table border=\"1\" class=\"dataframe\">\n",
       "  <thead>\n",
       "    <tr style=\"text-align: right;\">\n",
       "      <th></th>\n",
       "      <th>cities</th>\n",
       "      <th>name</th>\n",
       "      <th>country</th>\n",
       "      <th>state</th>\n",
       "      <th>lat</th>\n",
       "      <th>lon</th>\n",
       "      <th>date</th>\n",
       "      <th>temp</th>\n",
       "      <th>feels_like</th>\n",
       "      <th>uvi</th>\n",
       "      <th>humidity</th>\n",
       "      <th>wind_speed</th>\n",
       "      <th>description</th>\n",
       "    </tr>\n",
       "  </thead>\n",
       "  <tbody>\n",
       "    <tr>\n",
       "      <th>34</th>\n",
       "      <td>Gorges du Verdon</td>\n",
       "      <td>NaN</td>\n",
       "      <td>NaN</td>\n",
       "      <td>NaN</td>\n",
       "      <td>43.749656</td>\n",
       "      <td>6.328562</td>\n",
       "      <td>2025-04-23 10:40:04</td>\n",
       "      <td>19.98</td>\n",
       "      <td>19.42</td>\n",
       "      <td>6.38</td>\n",
       "      <td>53.0</td>\n",
       "      <td>3.53</td>\n",
       "      <td>clear sky</td>\n",
       "    </tr>\n",
       "    <tr>\n",
       "      <th>23</th>\n",
       "      <td>Nimes</td>\n",
       "      <td>Nimes</td>\n",
       "      <td>FR</td>\n",
       "      <td>Occitania</td>\n",
       "      <td>43.837425</td>\n",
       "      <td>4.360069</td>\n",
       "      <td>2025-04-23 10:40:03</td>\n",
       "      <td>20.22</td>\n",
       "      <td>19.26</td>\n",
       "      <td>6.22</td>\n",
       "      <td>37.0</td>\n",
       "      <td>4.63</td>\n",
       "      <td>clear sky</td>\n",
       "    </tr>\n",
       "    <tr>\n",
       "      <th>19</th>\n",
       "      <td>Marseille</td>\n",
       "      <td>Marseille</td>\n",
       "      <td>FR</td>\n",
       "      <td>Provence-Alpes-Côte d'Azur</td>\n",
       "      <td>43.296174</td>\n",
       "      <td>5.369953</td>\n",
       "      <td>2025-04-23 10:40:02</td>\n",
       "      <td>19.75</td>\n",
       "      <td>19.09</td>\n",
       "      <td>6.19</td>\n",
       "      <td>50.0</td>\n",
       "      <td>7.20</td>\n",
       "      <td>clear sky</td>\n",
       "    </tr>\n",
       "    <tr>\n",
       "      <th>21</th>\n",
       "      <td>Avignon</td>\n",
       "      <td>Avignon</td>\n",
       "      <td>FR</td>\n",
       "      <td>Provence-Alpes-Côte d'Azur</td>\n",
       "      <td>43.949249</td>\n",
       "      <td>4.805901</td>\n",
       "      <td>2025-04-23 10:40:03</td>\n",
       "      <td>19.67</td>\n",
       "      <td>19.02</td>\n",
       "      <td>6.14</td>\n",
       "      <td>51.0</td>\n",
       "      <td>6.17</td>\n",
       "      <td>clear sky</td>\n",
       "    </tr>\n",
       "    <tr>\n",
       "      <th>18</th>\n",
       "      <td>Cassis</td>\n",
       "      <td>Cassis</td>\n",
       "      <td>FR</td>\n",
       "      <td>Provence-Alpes-Côte d'Azur</td>\n",
       "      <td>43.214036</td>\n",
       "      <td>5.539632</td>\n",
       "      <td>2025-04-23 10:40:02</td>\n",
       "      <td>19.58</td>\n",
       "      <td>18.90</td>\n",
       "      <td>6.29</td>\n",
       "      <td>50.0</td>\n",
       "      <td>9.08</td>\n",
       "      <td>clear sky</td>\n",
       "    </tr>\n",
       "  </tbody>\n",
       "</table>\n",
       "</div>"
      ],
      "text/plain": [
       "              cities       name country                       state  \\\n",
       "34  Gorges du Verdon        NaN     NaN                         NaN   \n",
       "23             Nimes      Nimes      FR                   Occitania   \n",
       "19         Marseille  Marseille      FR  Provence-Alpes-Côte d'Azur   \n",
       "21           Avignon    Avignon      FR  Provence-Alpes-Côte d'Azur   \n",
       "18            Cassis     Cassis      FR  Provence-Alpes-Côte d'Azur   \n",
       "\n",
       "          lat       lon                 date   temp  feels_like   uvi  \\\n",
       "34  43.749656  6.328562  2025-04-23 10:40:04  19.98       19.42  6.38   \n",
       "23  43.837425  4.360069  2025-04-23 10:40:03  20.22       19.26  6.22   \n",
       "19  43.296174  5.369953  2025-04-23 10:40:02  19.75       19.09  6.19   \n",
       "21  43.949249  4.805901  2025-04-23 10:40:03  19.67       19.02  6.14   \n",
       "18  43.214036  5.539632  2025-04-23 10:40:02  19.58       18.90  6.29   \n",
       "\n",
       "    humidity  wind_speed description  \n",
       "34      53.0        3.53   clear sky  \n",
       "23      37.0        4.63   clear sky  \n",
       "19      50.0        7.20   clear sky  \n",
       "21      51.0        6.17   clear sky  \n",
       "18      50.0        9.08   clear sky  "
      ]
     },
     "execution_count": 33,
     "metadata": {},
     "output_type": "execute_result"
    }
   ],
   "source": [
    "best_weather = list(best_weather) #transformer le set en liste\n",
    "best_weather_df = bc[bc['cities'].isin(best_weather)] #puis filter le dataframe sur la liste\n",
    "best_weather_df = best_weather_df.sort_values(by='feels_like', ascending=False)\n",
    "best_weather_df\n"
   ]
  },
  {
   "cell_type": "code",
   "execution_count": 34,
   "metadata": {},
   "outputs": [],
   "source": [
    "# Enregistrer le DataFrame en fichier CSV\n",
    "best_weather_df.to_csv('data/top_best_weather.csv', index=False)"
   ]
  },
  {
   "cell_type": "code",
   "execution_count": 35,
   "metadata": {},
   "outputs": [
    {
     "data": {
      "text/html": [
       "<div style=\"width:100%;\"><div style=\"position:relative;width:100%;height:0;padding-bottom:60%;\"><span style=\"color:#565656\">Make this Notebook Trusted to load map: File -> Trust Notebook</span><iframe srcdoc=\"&lt;!DOCTYPE html&gt;\n",
       "&lt;html&gt;\n",
       "&lt;head&gt;\n",
       "    \n",
       "    &lt;meta http-equiv=&quot;content-type&quot; content=&quot;text/html; charset=UTF-8&quot; /&gt;\n",
       "    \n",
       "        &lt;script&gt;\n",
       "            L_NO_TOUCH = false;\n",
       "            L_DISABLE_3D = false;\n",
       "        &lt;/script&gt;\n",
       "    \n",
       "    &lt;style&gt;html, body {width: 100%;height: 100%;margin: 0;padding: 0;}&lt;/style&gt;\n",
       "    &lt;style&gt;#map {position:absolute;top:0;bottom:0;right:0;left:0;}&lt;/style&gt;\n",
       "    &lt;script src=&quot;https://cdn.jsdelivr.net/npm/leaflet@1.9.3/dist/leaflet.js&quot;&gt;&lt;/script&gt;\n",
       "    &lt;script src=&quot;https://code.jquery.com/jquery-3.7.1.min.js&quot;&gt;&lt;/script&gt;\n",
       "    &lt;script src=&quot;https://cdn.jsdelivr.net/npm/bootstrap@5.2.2/dist/js/bootstrap.bundle.min.js&quot;&gt;&lt;/script&gt;\n",
       "    &lt;script src=&quot;https://cdnjs.cloudflare.com/ajax/libs/Leaflet.awesome-markers/2.0.2/leaflet.awesome-markers.js&quot;&gt;&lt;/script&gt;\n",
       "    &lt;link rel=&quot;stylesheet&quot; href=&quot;https://cdn.jsdelivr.net/npm/leaflet@1.9.3/dist/leaflet.css&quot;/&gt;\n",
       "    &lt;link rel=&quot;stylesheet&quot; href=&quot;https://cdn.jsdelivr.net/npm/bootstrap@5.2.2/dist/css/bootstrap.min.css&quot;/&gt;\n",
       "    &lt;link rel=&quot;stylesheet&quot; href=&quot;https://netdna.bootstrapcdn.com/bootstrap/3.0.0/css/bootstrap-glyphicons.css&quot;/&gt;\n",
       "    &lt;link rel=&quot;stylesheet&quot; href=&quot;https://cdn.jsdelivr.net/npm/@fortawesome/fontawesome-free@6.2.0/css/all.min.css&quot;/&gt;\n",
       "    &lt;link rel=&quot;stylesheet&quot; href=&quot;https://cdnjs.cloudflare.com/ajax/libs/Leaflet.awesome-markers/2.0.2/leaflet.awesome-markers.css&quot;/&gt;\n",
       "    &lt;link rel=&quot;stylesheet&quot; href=&quot;https://cdn.jsdelivr.net/gh/python-visualization/folium/folium/templates/leaflet.awesome.rotate.min.css&quot;/&gt;\n",
       "    \n",
       "            &lt;meta name=&quot;viewport&quot; content=&quot;width=device-width,\n",
       "                initial-scale=1.0, maximum-scale=1.0, user-scalable=no&quot; /&gt;\n",
       "            &lt;style&gt;\n",
       "                #map_423c566775d24514187bd5d6edf98f8d {\n",
       "                    position: relative;\n",
       "                    width: 100.0%;\n",
       "                    height: 100.0%;\n",
       "                    left: 0.0%;\n",
       "                    top: 0.0%;\n",
       "                }\n",
       "                .leaflet-container { font-size: 1rem; }\n",
       "            &lt;/style&gt;\n",
       "        \n",
       "&lt;/head&gt;\n",
       "&lt;body&gt;\n",
       "    \n",
       "    \n",
       "            &lt;div class=&quot;folium-map&quot; id=&quot;map_423c566775d24514187bd5d6edf98f8d&quot; &gt;&lt;/div&gt;\n",
       "        \n",
       "&lt;/body&gt;\n",
       "&lt;script&gt;\n",
       "    \n",
       "    \n",
       "            var map_423c566775d24514187bd5d6edf98f8d = L.map(\n",
       "                &quot;map_423c566775d24514187bd5d6edf98f8d&quot;,\n",
       "                {\n",
       "                    center: [46.603354, 1.888334],\n",
       "                    crs: L.CRS.EPSG3857,\n",
       "                    ...{\n",
       "  &quot;zoom&quot;: 6,\n",
       "  &quot;zoomControl&quot;: true,\n",
       "  &quot;preferCanvas&quot;: false,\n",
       "}\n",
       "\n",
       "                }\n",
       "            );\n",
       "\n",
       "            \n",
       "\n",
       "        \n",
       "    \n",
       "            var tile_layer_89a5464c907bb436847be1125a18794b = L.tileLayer(\n",
       "                &quot;https://tile.openstreetmap.org/{z}/{x}/{y}.png&quot;,\n",
       "                {\n",
       "  &quot;minZoom&quot;: 0,\n",
       "  &quot;maxZoom&quot;: 19,\n",
       "  &quot;maxNativeZoom&quot;: 19,\n",
       "  &quot;noWrap&quot;: false,\n",
       "  &quot;attribution&quot;: &quot;\\u0026copy; \\u003ca href=\\&quot;https://www.openstreetmap.org/copyright\\&quot;\\u003eOpenStreetMap\\u003c/a\\u003e contributors&quot;,\n",
       "  &quot;subdomains&quot;: &quot;abc&quot;,\n",
       "  &quot;detectRetina&quot;: false,\n",
       "  &quot;tms&quot;: false,\n",
       "  &quot;opacity&quot;: 1,\n",
       "}\n",
       "\n",
       "            );\n",
       "        \n",
       "    \n",
       "            tile_layer_89a5464c907bb436847be1125a18794b.addTo(map_423c566775d24514187bd5d6edf98f8d);\n",
       "        \n",
       "    \n",
       "            var marker_318fe11b966992065f969dec70ff2049 = L.marker(\n",
       "                [43.7496562, 6.3285616],\n",
       "                {\n",
       "}\n",
       "            ).addTo(map_423c566775d24514187bd5d6edf98f8d);\n",
       "        \n",
       "    \n",
       "        var custom_icon_784ddaba2d29be1ffaa7ac46e39963b6 = L.icon({\n",
       "  &quot;iconUrl&quot;: &quot;https://images.icon-icons.com/3565/PNG/512/tree_flower_plant_nature_landscape_icon_225325.png&quot;,\n",
       "  &quot;iconSize&quot;: [40, 40],\n",
       "});\n",
       "        marker_318fe11b966992065f969dec70ff2049.setIcon(custom_icon_784ddaba2d29be1ffaa7ac46e39963b6);\n",
       "        \n",
       "    \n",
       "        var popup_3e525605e080724318be72dafd47e52e = L.popup({\n",
       "  &quot;maxWidth&quot;: &quot;100%&quot;,\n",
       "});\n",
       "\n",
       "        \n",
       "            \n",
       "                var html_2d0f08baf74f88aead406731e5a26457 = $(`&lt;div id=&quot;html_2d0f08baf74f88aead406731e5a26457&quot; style=&quot;width: 100.0%; height: 100.0%;&quot;&gt;Gorges du Verdon&lt;/div&gt;`)[0];\n",
       "                popup_3e525605e080724318be72dafd47e52e.setContent(html_2d0f08baf74f88aead406731e5a26457);\n",
       "            \n",
       "        \n",
       "\n",
       "        marker_318fe11b966992065f969dec70ff2049.bindPopup(popup_3e525605e080724318be72dafd47e52e)\n",
       "        ;\n",
       "\n",
       "        \n",
       "    \n",
       "    \n",
       "                marker_318fe11b966992065f969dec70ff2049.setIcon(custom_icon_784ddaba2d29be1ffaa7ac46e39963b6);\n",
       "            \n",
       "    \n",
       "            var marker_eb3a69604737ab6c95d95052d134cc70 = L.marker(\n",
       "                [43.8374249, 4.3600687],\n",
       "                {\n",
       "}\n",
       "            ).addTo(map_423c566775d24514187bd5d6edf98f8d);\n",
       "        \n",
       "    \n",
       "        var custom_icon_6018f3a04ddbda37297de8be5685761a = L.icon({\n",
       "  &quot;iconUrl&quot;: &quot;https://images.icon-icons.com/3565/PNG/512/tree_flower_plant_nature_landscape_icon_225325.png&quot;,\n",
       "  &quot;iconSize&quot;: [40, 40],\n",
       "});\n",
       "        marker_eb3a69604737ab6c95d95052d134cc70.setIcon(custom_icon_6018f3a04ddbda37297de8be5685761a);\n",
       "        \n",
       "    \n",
       "        var popup_ad512bf43604fae5fb9e25fcb2a3adc9 = L.popup({\n",
       "  &quot;maxWidth&quot;: &quot;100%&quot;,\n",
       "});\n",
       "\n",
       "        \n",
       "            \n",
       "                var html_25b94601134e4be666550299465d250b = $(`&lt;div id=&quot;html_25b94601134e4be666550299465d250b&quot; style=&quot;width: 100.0%; height: 100.0%;&quot;&gt;Nimes&lt;/div&gt;`)[0];\n",
       "                popup_ad512bf43604fae5fb9e25fcb2a3adc9.setContent(html_25b94601134e4be666550299465d250b);\n",
       "            \n",
       "        \n",
       "\n",
       "        marker_eb3a69604737ab6c95d95052d134cc70.bindPopup(popup_ad512bf43604fae5fb9e25fcb2a3adc9)\n",
       "        ;\n",
       "\n",
       "        \n",
       "    \n",
       "    \n",
       "                marker_eb3a69604737ab6c95d95052d134cc70.setIcon(custom_icon_6018f3a04ddbda37297de8be5685761a);\n",
       "            \n",
       "    \n",
       "            var marker_f39cbf945f3ccf512432ad9e43694622 = L.marker(\n",
       "                [43.2961743, 5.3699525],\n",
       "                {\n",
       "}\n",
       "            ).addTo(map_423c566775d24514187bd5d6edf98f8d);\n",
       "        \n",
       "    \n",
       "        var custom_icon_4412581c3db3f93eb4bf8482d57e95a0 = L.icon({\n",
       "  &quot;iconUrl&quot;: &quot;https://images.icon-icons.com/3565/PNG/512/tree_flower_plant_nature_landscape_icon_225325.png&quot;,\n",
       "  &quot;iconSize&quot;: [40, 40],\n",
       "});\n",
       "        marker_f39cbf945f3ccf512432ad9e43694622.setIcon(custom_icon_4412581c3db3f93eb4bf8482d57e95a0);\n",
       "        \n",
       "    \n",
       "        var popup_08ed8c8813033863d75cce7cec662f33 = L.popup({\n",
       "  &quot;maxWidth&quot;: &quot;100%&quot;,\n",
       "});\n",
       "\n",
       "        \n",
       "            \n",
       "                var html_4db1436d15cf62adc6e3f6ec1f2aad84 = $(`&lt;div id=&quot;html_4db1436d15cf62adc6e3f6ec1f2aad84&quot; style=&quot;width: 100.0%; height: 100.0%;&quot;&gt;Marseille&lt;/div&gt;`)[0];\n",
       "                popup_08ed8c8813033863d75cce7cec662f33.setContent(html_4db1436d15cf62adc6e3f6ec1f2aad84);\n",
       "            \n",
       "        \n",
       "\n",
       "        marker_f39cbf945f3ccf512432ad9e43694622.bindPopup(popup_08ed8c8813033863d75cce7cec662f33)\n",
       "        ;\n",
       "\n",
       "        \n",
       "    \n",
       "    \n",
       "                marker_f39cbf945f3ccf512432ad9e43694622.setIcon(custom_icon_4412581c3db3f93eb4bf8482d57e95a0);\n",
       "            \n",
       "    \n",
       "            var marker_93afe0a5d91f7c1571a520dcb660fa89 = L.marker(\n",
       "                [43.9492493, 4.8059012],\n",
       "                {\n",
       "}\n",
       "            ).addTo(map_423c566775d24514187bd5d6edf98f8d);\n",
       "        \n",
       "    \n",
       "        var custom_icon_3ca552880c4ece296f0f03a07524b147 = L.icon({\n",
       "  &quot;iconUrl&quot;: &quot;https://images.icon-icons.com/3565/PNG/512/tree_flower_plant_nature_landscape_icon_225325.png&quot;,\n",
       "  &quot;iconSize&quot;: [40, 40],\n",
       "});\n",
       "        marker_93afe0a5d91f7c1571a520dcb660fa89.setIcon(custom_icon_3ca552880c4ece296f0f03a07524b147);\n",
       "        \n",
       "    \n",
       "        var popup_39f1712e0927f2aa95076790ffdc5f2e = L.popup({\n",
       "  &quot;maxWidth&quot;: &quot;100%&quot;,\n",
       "});\n",
       "\n",
       "        \n",
       "            \n",
       "                var html_bc4303b75e6f5c2cd430532a237245c9 = $(`&lt;div id=&quot;html_bc4303b75e6f5c2cd430532a237245c9&quot; style=&quot;width: 100.0%; height: 100.0%;&quot;&gt;Avignon&lt;/div&gt;`)[0];\n",
       "                popup_39f1712e0927f2aa95076790ffdc5f2e.setContent(html_bc4303b75e6f5c2cd430532a237245c9);\n",
       "            \n",
       "        \n",
       "\n",
       "        marker_93afe0a5d91f7c1571a520dcb660fa89.bindPopup(popup_39f1712e0927f2aa95076790ffdc5f2e)\n",
       "        ;\n",
       "\n",
       "        \n",
       "    \n",
       "    \n",
       "                marker_93afe0a5d91f7c1571a520dcb660fa89.setIcon(custom_icon_3ca552880c4ece296f0f03a07524b147);\n",
       "            \n",
       "    \n",
       "            var marker_97da8bd897da05eb360d409a04b8fcef = L.marker(\n",
       "                [43.2140359, 5.5396318],\n",
       "                {\n",
       "}\n",
       "            ).addTo(map_423c566775d24514187bd5d6edf98f8d);\n",
       "        \n",
       "    \n",
       "        var custom_icon_11f05fc60006f10adc562a40fcc413e7 = L.icon({\n",
       "  &quot;iconUrl&quot;: &quot;https://images.icon-icons.com/3565/PNG/512/tree_flower_plant_nature_landscape_icon_225325.png&quot;,\n",
       "  &quot;iconSize&quot;: [40, 40],\n",
       "});\n",
       "        marker_97da8bd897da05eb360d409a04b8fcef.setIcon(custom_icon_11f05fc60006f10adc562a40fcc413e7);\n",
       "        \n",
       "    \n",
       "        var popup_b1cacedc5ef9462d115108ac0e78f0d7 = L.popup({\n",
       "  &quot;maxWidth&quot;: &quot;100%&quot;,\n",
       "});\n",
       "\n",
       "        \n",
       "            \n",
       "                var html_cfe6c872b897098d23aaf6e57a31e705 = $(`&lt;div id=&quot;html_cfe6c872b897098d23aaf6e57a31e705&quot; style=&quot;width: 100.0%; height: 100.0%;&quot;&gt;Cassis&lt;/div&gt;`)[0];\n",
       "                popup_b1cacedc5ef9462d115108ac0e78f0d7.setContent(html_cfe6c872b897098d23aaf6e57a31e705);\n",
       "            \n",
       "        \n",
       "\n",
       "        marker_97da8bd897da05eb360d409a04b8fcef.bindPopup(popup_b1cacedc5ef9462d115108ac0e78f0d7)\n",
       "        ;\n",
       "\n",
       "        \n",
       "    \n",
       "    \n",
       "                marker_97da8bd897da05eb360d409a04b8fcef.setIcon(custom_icon_11f05fc60006f10adc562a40fcc413e7);\n",
       "            \n",
       "    \n",
       "            tile_layer_89a5464c907bb436847be1125a18794b.addTo(map_423c566775d24514187bd5d6edf98f8d);\n",
       "        \n",
       "    \n",
       "                marker_318fe11b966992065f969dec70ff2049.setIcon(custom_icon_784ddaba2d29be1ffaa7ac46e39963b6);\n",
       "            \n",
       "    \n",
       "                marker_eb3a69604737ab6c95d95052d134cc70.setIcon(custom_icon_6018f3a04ddbda37297de8be5685761a);\n",
       "            \n",
       "    \n",
       "                marker_f39cbf945f3ccf512432ad9e43694622.setIcon(custom_icon_4412581c3db3f93eb4bf8482d57e95a0);\n",
       "            \n",
       "    \n",
       "                marker_93afe0a5d91f7c1571a520dcb660fa89.setIcon(custom_icon_3ca552880c4ece296f0f03a07524b147);\n",
       "            \n",
       "    \n",
       "                marker_97da8bd897da05eb360d409a04b8fcef.setIcon(custom_icon_11f05fc60006f10adc562a40fcc413e7);\n",
       "            \n",
       "&lt;/script&gt;\n",
       "&lt;/html&gt;\" style=\"position:absolute;width:100%;height:100%;left:0;top:0;border:none !important;\" allowfullscreen webkitallowfullscreen mozallowfullscreen></iframe></div></div>"
      ],
      "text/plain": [
       "<folium.folium.Map at 0x1e69b37fe80>"
      ]
     },
     "execution_count": 35,
     "metadata": {},
     "output_type": "execute_result"
    }
   ],
   "source": [
    "# visualiser le top5 des destinations selectionnées\n",
    "map = folium.Map(location=[46.603354, 1.888334], zoom_start=6)\n",
    "\n",
    "# Définir le marker\n",
    "icon_url = \"https://images.icon-icons.com/3565/PNG/512/tree_flower_plant_nature_landscape_icon_225325.png\"\n",
    "\n",
    "# Ajouter les villes à la carte avec des icônes personnalisées\n",
    "for i, row in best_weather_df.iterrows():\n",
    "    folium.Marker(\n",
    "        location=[row['lat'], row['lon']],\n",
    "        popup=row['cities'],\n",
    "        icon=folium.CustomIcon(icon_url, icon_size=(40, 40))  # Ajustez la taille de l'icône si nécessaire\n",
    "    ).add_to(map)\n",
    "\n",
    "# Sauvegarder la carte dans un fichier HTML\n",
    "map.save('map_top_best_destinations.html')\n",
    "\n",
    "# Afficher la carte\n",
    "map\n"
   ]
  },
  {
   "cell_type": "markdown",
   "metadata": {},
   "source": [
    "# Scraping Booking"
   ]
  },
  {
   "cell_type": "code",
   "execution_count": 36,
   "metadata": {},
   "outputs": [
    {
     "data": {
      "text/html": [
       "<div>\n",
       "<style scoped>\n",
       "    .dataframe tbody tr th:only-of-type {\n",
       "        vertical-align: middle;\n",
       "    }\n",
       "\n",
       "    .dataframe tbody tr th {\n",
       "        vertical-align: top;\n",
       "    }\n",
       "\n",
       "    .dataframe thead th {\n",
       "        text-align: right;\n",
       "    }\n",
       "</style>\n",
       "<table border=\"1\" class=\"dataframe\">\n",
       "  <thead>\n",
       "    <tr style=\"text-align: right;\">\n",
       "      <th></th>\n",
       "      <th>cities</th>\n",
       "      <th>name</th>\n",
       "      <th>country</th>\n",
       "      <th>state</th>\n",
       "      <th>lat</th>\n",
       "      <th>lon</th>\n",
       "      <th>date</th>\n",
       "      <th>temp</th>\n",
       "      <th>feels_like</th>\n",
       "      <th>uvi</th>\n",
       "      <th>humidity</th>\n",
       "      <th>wind_speed</th>\n",
       "      <th>description</th>\n",
       "    </tr>\n",
       "  </thead>\n",
       "  <tbody>\n",
       "    <tr>\n",
       "      <th>34</th>\n",
       "      <td>Gorges du Verdon</td>\n",
       "      <td>NaN</td>\n",
       "      <td>NaN</td>\n",
       "      <td>NaN</td>\n",
       "      <td>43.749656</td>\n",
       "      <td>6.328562</td>\n",
       "      <td>2025-04-23 10:40:04</td>\n",
       "      <td>19.98</td>\n",
       "      <td>19.42</td>\n",
       "      <td>6.38</td>\n",
       "      <td>53.0</td>\n",
       "      <td>3.53</td>\n",
       "      <td>clear sky</td>\n",
       "    </tr>\n",
       "    <tr>\n",
       "      <th>23</th>\n",
       "      <td>Nimes</td>\n",
       "      <td>Nimes</td>\n",
       "      <td>FR</td>\n",
       "      <td>Occitania</td>\n",
       "      <td>43.837425</td>\n",
       "      <td>4.360069</td>\n",
       "      <td>2025-04-23 10:40:03</td>\n",
       "      <td>20.22</td>\n",
       "      <td>19.26</td>\n",
       "      <td>6.22</td>\n",
       "      <td>37.0</td>\n",
       "      <td>4.63</td>\n",
       "      <td>clear sky</td>\n",
       "    </tr>\n",
       "    <tr>\n",
       "      <th>19</th>\n",
       "      <td>Marseille</td>\n",
       "      <td>Marseille</td>\n",
       "      <td>FR</td>\n",
       "      <td>Provence-Alpes-Côte d'Azur</td>\n",
       "      <td>43.296174</td>\n",
       "      <td>5.369953</td>\n",
       "      <td>2025-04-23 10:40:02</td>\n",
       "      <td>19.75</td>\n",
       "      <td>19.09</td>\n",
       "      <td>6.19</td>\n",
       "      <td>50.0</td>\n",
       "      <td>7.20</td>\n",
       "      <td>clear sky</td>\n",
       "    </tr>\n",
       "    <tr>\n",
       "      <th>21</th>\n",
       "      <td>Avignon</td>\n",
       "      <td>Avignon</td>\n",
       "      <td>FR</td>\n",
       "      <td>Provence-Alpes-Côte d'Azur</td>\n",
       "      <td>43.949249</td>\n",
       "      <td>4.805901</td>\n",
       "      <td>2025-04-23 10:40:03</td>\n",
       "      <td>19.67</td>\n",
       "      <td>19.02</td>\n",
       "      <td>6.14</td>\n",
       "      <td>51.0</td>\n",
       "      <td>6.17</td>\n",
       "      <td>clear sky</td>\n",
       "    </tr>\n",
       "    <tr>\n",
       "      <th>18</th>\n",
       "      <td>Cassis</td>\n",
       "      <td>Cassis</td>\n",
       "      <td>FR</td>\n",
       "      <td>Provence-Alpes-Côte d'Azur</td>\n",
       "      <td>43.214036</td>\n",
       "      <td>5.539632</td>\n",
       "      <td>2025-04-23 10:40:02</td>\n",
       "      <td>19.58</td>\n",
       "      <td>18.90</td>\n",
       "      <td>6.29</td>\n",
       "      <td>50.0</td>\n",
       "      <td>9.08</td>\n",
       "      <td>clear sky</td>\n",
       "    </tr>\n",
       "  </tbody>\n",
       "</table>\n",
       "</div>"
      ],
      "text/plain": [
       "              cities       name country                       state  \\\n",
       "34  Gorges du Verdon        NaN     NaN                         NaN   \n",
       "23             Nimes      Nimes      FR                   Occitania   \n",
       "19         Marseille  Marseille      FR  Provence-Alpes-Côte d'Azur   \n",
       "21           Avignon    Avignon      FR  Provence-Alpes-Côte d'Azur   \n",
       "18            Cassis     Cassis      FR  Provence-Alpes-Côte d'Azur   \n",
       "\n",
       "          lat       lon                 date   temp  feels_like   uvi  \\\n",
       "34  43.749656  6.328562  2025-04-23 10:40:04  19.98       19.42  6.38   \n",
       "23  43.837425  4.360069  2025-04-23 10:40:03  20.22       19.26  6.22   \n",
       "19  43.296174  5.369953  2025-04-23 10:40:02  19.75       19.09  6.19   \n",
       "21  43.949249  4.805901  2025-04-23 10:40:03  19.67       19.02  6.14   \n",
       "18  43.214036  5.539632  2025-04-23 10:40:02  19.58       18.90  6.29   \n",
       "\n",
       "    humidity  wind_speed description  \n",
       "34      53.0        3.53   clear sky  \n",
       "23      37.0        4.63   clear sky  \n",
       "19      50.0        7.20   clear sky  \n",
       "21      51.0        6.17   clear sky  \n",
       "18      50.0        9.08   clear sky  "
      ]
     },
     "execution_count": 36,
     "metadata": {},
     "output_type": "execute_result"
    }
   ],
   "source": [
    "best_weather_df"
   ]
  },
  {
   "cell_type": "markdown",
   "metadata": {},
   "source": [
    "## Gorges du Verdon"
   ]
  },
  {
   "cell_type": "code",
   "execution_count": 37,
   "metadata": {},
   "outputs": [],
   "source": [
    "headers = {\n",
    "    'User-Agent': 'Mozilla/5.0 (Windows NT 10.0; Win64; x64) AppleWebKit/537.36 (KHTML, like Gecko) Chrome/58.0.3029.110 Safari/537.3'\n",
    "}\n",
    "\n",
    "url_gdv = \"https://www.booking.com/searchresults.fr.html?ss=Gorges+du+Verdon&ssne=Gorges+du+Verdon&ssne_untouched=Gorges+du+Verdon&label=gen173nr-1BCAEoggI46AdIM1gEaE2IAQGYAQ24ARfIAQ_YAQHoAQGIAgGoAgO4ApGKo8AGwAIB0gIkN2ViMDZiMzEtODE3Yy00ODM4LTllODctZTNjZGIwY2VlMGQy2AIF4AIB&sid=b10d6df758b0e059011bf7be0724e09f&aid=304142&lang=fr&sb=1&src_elem=sb&src=index&dest_id=2746&dest_type=region&checkin=2025-04-23&checkout=2025-04-24&group_adults=2&no_rooms=1&group_children=0\"\n",
    "url = url_gdv\n",
    "r = requests.get(url, headers=headers)\n",
    "\n",
    "response = Selector(text=r.text)"
   ]
  },
  {
   "cell_type": "code",
   "execution_count": 38,
   "metadata": {},
   "outputs": [
    {
     "data": {
      "text/plain": [
       "<Response [200]>"
      ]
     },
     "execution_count": 38,
     "metadata": {},
     "output_type": "execute_result"
    }
   ],
   "source": [
    "r"
   ]
  },
  {
   "cell_type": "code",
   "execution_count": 40,
   "metadata": {},
   "outputs": [
    {
     "data": {
      "text/plain": [
       "['Auberge de Baudinard sur Verdon',\n",
       " 'La Ferme Rose-Hôtel de Charme',\n",
       " 'Hôtel Le Colombier',\n",
       " 'Les Canyons du Verdon',\n",
       " 'Gabrielle hôtel',\n",
       " 'Camping La Ferme de Castellane',\n",
       " 'Lou Paradou',\n",
       " 'Camping Les Framboiseilles',\n",
       " 'Camping Arbre de Vie',\n",
       " 'Villa Borghese, The Originals Relais',\n",
       " \"Hôtel Spa L'Ermitage\",\n",
       " 'Auberge des Salles',\n",
       " 'Studi-Hôtel Résidence Plein Voile',\n",
       " 'Mymoustiers',\n",
       " 'Gorges du Verdon - Lac Sainte-Croix',\n",
       " 'Domaine de Majastre',\n",
       " 'Loft avec mezzanine',\n",
       " '\" LE CHABASSOLE \" CHAMBRES D\\'HÔTES - GORGES du VERDON',\n",
       " 'Le Bosquet',\n",
       " 'sous les arbres',\n",
       " 'Hôtel le Panoramic - Votre Hôtel au cœur des Gorges du Verdon',\n",
       " 'Hôtel La Bonne Auberge',\n",
       " 'Le Chemin Neuf',\n",
       " 'Le Chardon 2',\n",
       " 'Ma Petite Auberge']"
      ]
     },
     "execution_count": 40,
     "metadata": {},
     "output_type": "execute_result"
    }
   ],
   "source": [
    "hotel_name=response.css(\"div.f6431b446c.a15b38c233 ::text\").getall()\n",
    "hotel_name"
   ]
  },
  {
   "cell_type": "code",
   "execution_count": 41,
   "metadata": {},
   "outputs": [
    {
     "data": {
      "text/plain": [
       "['https://www.booking.com/hotel/fr/auberge-de-baudinard.fr.html?label=gen173nr-1BCAEoggI46AdIM1gEaE2IAQGYAQ24ARfIAQ_YAQHoAQGIAgGoAgO4ApGKo8AGwAIB0gIkN2ViMDZiMzEtODE3Yy00ODM4LTllODctZTNjZGIwY2VlMGQy2AIF4AIB&sid=b10d6df758b0e059011bf7be0724e09f&aid=304142&ucfs=1&arphpl=1&checkin=2025-04-23&checkout=2025-04-24&dest_id=2746&dest_type=region&group_adults=2&req_adults=2&no_rooms=1&group_children=0&req_children=0&hpos=1&hapos=1&sr_order=popularity&srpvid=5dde4bf9963a18d9&srepoch=1745405301&all_sr_blocks=41142901_170013382_2_34_0&highlighted_blocks=41142901_170013382_2_34_0&matching_block_id=41142901_170013382_2_34_0&sr_pri_blocks=41142901_170013382_2_34_0__10560&from=searchresults',\n",
       " 'https://www.booking.com/hotel/fr/la-ferme-rose.fr.html?label=gen173nr-1BCAEoggI46AdIM1gEaE2IAQGYAQ24ARfIAQ_YAQHoAQGIAgGoAgO4ApGKo8AGwAIB0gIkN2ViMDZiMzEtODE3Yy00ODM4LTllODctZTNjZGIwY2VlMGQy2AIF4AIB&sid=b10d6df758b0e059011bf7be0724e09f&aid=304142&ucfs=1&arphpl=1&checkin=2025-04-23&checkout=2025-04-24&dest_id=2746&dest_type=region&group_adults=2&req_adults=2&no_rooms=1&group_children=0&req_children=0&hpos=2&hapos=2&sr_order=popularity&srpvid=5dde4bf9963a18d9&srepoch=1745405301&all_sr_blocks=34384102_387429407_0_2_0&highlighted_blocks=34384102_387429407_0_2_0&matching_block_id=34384102_387429407_0_2_0&sr_pri_blocks=34384102_387429407_0_2_0__12390&from=searchresults',\n",
       " 'https://www.booking.com/hotel/fr/le-colombier-moustiers-sainte-marie.fr.html?label=gen173nr-1BCAEoggI46AdIM1gEaE2IAQGYAQ24ARfIAQ_YAQHoAQGIAgGoAgO4ApGKo8AGwAIB0gIkN2ViMDZiMzEtODE3Yy00ODM4LTllODctZTNjZGIwY2VlMGQy2AIF4AIB&sid=b10d6df758b0e059011bf7be0724e09f&aid=304142&ucfs=1&arphpl=1&checkin=2025-04-23&checkout=2025-04-24&dest_id=2746&dest_type=region&group_adults=2&req_adults=2&no_rooms=1&group_children=0&req_children=0&hpos=3&hapos=3&sr_order=popularity&srpvid=5dde4bf9963a18d9&srepoch=1745405301&all_sr_blocks=28915217_376876640_2_2_0&highlighted_blocks=28915217_376876640_2_2_0&matching_block_id=28915217_376876640_2_2_0&sr_pri_blocks=28915217_376876640_2_2_0__14630&from=searchresults',\n",
       " 'https://www.booking.com/hotel/fr/les-canyons-du-verdon.fr.html?label=gen173nr-1BCAEoggI46AdIM1gEaE2IAQGYAQ24ARfIAQ_YAQHoAQGIAgGoAgO4ApGKo8AGwAIB0gIkN2ViMDZiMzEtODE3Yy00ODM4LTllODctZTNjZGIwY2VlMGQy2AIF4AIB&sid=b10d6df758b0e059011bf7be0724e09f&aid=304142&ucfs=1&arphpl=1&checkin=2025-04-23&checkout=2025-04-24&dest_id=2746&dest_type=region&group_adults=2&req_adults=2&no_rooms=1&group_children=0&req_children=0&hpos=4&hapos=4&sr_order=popularity&srpvid=5dde4bf9963a18d9&srepoch=1745405301&all_sr_blocks=41042005_372132471_0_2_0&highlighted_blocks=41042005_372132471_0_2_0&matching_block_id=41042005_372132471_0_2_0&sr_pri_blocks=41042005_372132471_0_2_0__7800&from=searchresults',\n",
       " 'https://www.booking.com/hotel/fr/logis-altitude-823.fr.html?label=gen173nr-1BCAEoggI46AdIM1gEaE2IAQGYAQ24ARfIAQ_YAQHoAQGIAgGoAgO4ApGKo8AGwAIB0gIkN2ViMDZiMzEtODE3Yy00ODM4LTllODctZTNjZGIwY2VlMGQy2AIF4AIB&sid=b10d6df758b0e059011bf7be0724e09f&aid=304142&ucfs=1&arphpl=1&checkin=2025-04-23&checkout=2025-04-24&dest_id=2746&dest_type=region&group_adults=2&req_adults=2&no_rooms=1&group_children=0&req_children=0&hpos=5&hapos=5&sr_order=popularity&srpvid=5dde4bf9963a18d9&srepoch=1745405301&all_sr_blocks=23781014_359883128_2_34_0&highlighted_blocks=23781014_359883128_2_34_0&matching_block_id=23781014_359883128_2_34_0&sr_pri_blocks=23781014_359883128_2_34_0__9450&from=searchresults',\n",
       " 'https://www.booking.com/hotel/fr/camping-la-ferme-de-castellane.fr.html?label=gen173nr-1BCAEoggI46AdIM1gEaE2IAQGYAQ24ARfIAQ_YAQHoAQGIAgGoAgO4ApGKo8AGwAIB0gIkN2ViMDZiMzEtODE3Yy00ODM4LTllODctZTNjZGIwY2VlMGQy2AIF4AIB&sid=b10d6df758b0e059011bf7be0724e09f&aid=304142&ucfs=1&arphpl=1&checkin=2025-04-23&checkout=2025-04-24&dest_id=2746&dest_type=region&group_adults=2&req_adults=2&no_rooms=1&group_children=0&req_children=0&hpos=6&hapos=6&sr_order=popularity&srpvid=5dde4bf9963a18d9&srepoch=1745405301&all_sr_blocks=35326514_298395841_0_0_0&highlighted_blocks=35326514_298395841_0_0_0&matching_block_id=35326514_298395841_0_0_0&sr_pri_blocks=35326514_298395841_0_0_0__5132&from=searchresults',\n",
       " 'https://www.booking.com/hotel/fr/hotellouparadou.fr.html?label=gen173nr-1BCAEoggI46AdIM1gEaE2IAQGYAQ24ARfIAQ_YAQHoAQGIAgGoAgO4ApGKo8AGwAIB0gIkN2ViMDZiMzEtODE3Yy00ODM4LTllODctZTNjZGIwY2VlMGQy2AIF4AIB&sid=b10d6df758b0e059011bf7be0724e09f&aid=304142&ucfs=1&arphpl=1&checkin=2025-04-23&checkout=2025-04-24&dest_id=2746&dest_type=region&group_adults=2&req_adults=2&no_rooms=1&group_children=0&req_children=0&hpos=7&hapos=7&sr_order=popularity&srpvid=5dde4bf9963a18d9&srepoch=1745405301&all_sr_blocks=13655_195943888_0_1_0&highlighted_blocks=13655_195943888_0_1_0&matching_block_id=13655_195943888_0_1_0&sr_pri_blocks=13655_195943888_0_1_0__11788&from=searchresults',\n",
       " 'https://www.booking.com/hotel/fr/les-framboiseilles.fr.html?label=gen173nr-1BCAEoggI46AdIM1gEaE2IAQGYAQ24ARfIAQ_YAQHoAQGIAgGoAgO4ApGKo8AGwAIB0gIkN2ViMDZiMzEtODE3Yy00ODM4LTllODctZTNjZGIwY2VlMGQy2AIF4AIB&sid=b10d6df758b0e059011bf7be0724e09f&aid=304142&ucfs=1&arphpl=1&checkin=2025-04-23&checkout=2025-04-24&dest_id=2746&dest_type=region&group_adults=2&req_adults=2&no_rooms=1&group_children=0&req_children=0&hpos=8&hapos=8&sr_order=popularity&srpvid=5dde4bf9963a18d9&srepoch=1745405301&all_sr_blocks=58118215_400874007_4_0_0_627455&highlighted_blocks=58118215_400874007_4_0_0_627455&matching_block_id=58118215_400874007_4_0_0_627455&sr_pri_blocks=58118215_400874007_4_0_0_627455_12472&from=searchresults',\n",
       " 'https://www.booking.com/hotel/fr/camping-arbre-de-vie.fr.html?label=gen173nr-1BCAEoggI46AdIM1gEaE2IAQGYAQ24ARfIAQ_YAQHoAQGIAgGoAgO4ApGKo8AGwAIB0gIkN2ViMDZiMzEtODE3Yy00ODM4LTllODctZTNjZGIwY2VlMGQy2AIF4AIB&sid=b10d6df758b0e059011bf7be0724e09f&aid=304142&ucfs=1&arphpl=1&checkin=2025-04-23&checkout=2025-04-24&dest_id=2746&dest_type=region&group_adults=2&req_adults=2&no_rooms=1&group_children=0&req_children=0&hpos=9&hapos=9&sr_order=popularity&srpvid=5dde4bf9963a18d9&srepoch=1745405301&all_sr_blocks=483885003_372682112_2_34_0&highlighted_blocks=483885003_372682112_2_34_0&matching_block_id=483885003_372682112_2_34_0&sr_pri_blocks=483885003_372682112_2_34_0__6388&from=searchresults',\n",
       " 'https://www.booking.com/hotel/fr/villa-borghese.fr.html?label=gen173nr-1BCAEoggI46AdIM1gEaE2IAQGYAQ24ARfIAQ_YAQHoAQGIAgGoAgO4ApGKo8AGwAIB0gIkN2ViMDZiMzEtODE3Yy00ODM4LTllODctZTNjZGIwY2VlMGQy2AIF4AIB&sid=b10d6df758b0e059011bf7be0724e09f&aid=304142&ucfs=1&arphpl=1&checkin=2025-04-23&checkout=2025-04-24&dest_id=2746&dest_type=region&group_adults=2&req_adults=2&no_rooms=1&group_children=0&req_children=0&hpos=10&hapos=10&sr_order=popularity&srpvid=5dde4bf9963a18d9&srepoch=1745405301&all_sr_blocks=67371_408377603_2_42_0&highlighted_blocks=67371_408377603_2_42_0&matching_block_id=67371_408377603_2_42_0&sr_pri_blocks=67371_408377603_2_42_0__12540&from=searchresults',\n",
       " 'https://www.booking.com/hotel/fr/ha-tel-l-ermitage.fr.html?label=gen173nr-1BCAEoggI46AdIM1gEaE2IAQGYAQ24ARfIAQ_YAQHoAQGIAgGoAgO4ApGKo8AGwAIB0gIkN2ViMDZiMzEtODE3Yy00ODM4LTllODctZTNjZGIwY2VlMGQy2AIF4AIB&sid=b10d6df758b0e059011bf7be0724e09f&aid=304142&ucfs=1&arphpl=1&checkin=2025-04-23&checkout=2025-04-24&dest_id=2746&dest_type=region&group_adults=2&req_adults=2&no_rooms=1&group_children=0&req_children=0&hpos=11&hapos=11&sr_order=popularity&srpvid=5dde4bf9963a18d9&srepoch=1745405301&all_sr_blocks=44665701_388226770_0_2_0&highlighted_blocks=44665701_388226770_0_2_0&matching_block_id=44665701_388226770_0_2_0&sr_pri_blocks=44665701_388226770_0_2_0__9432&from=searchresults',\n",
       " 'https://www.booking.com/hotel/fr/auberge-des-salles.fr.html?label=gen173nr-1BCAEoggI46AdIM1gEaE2IAQGYAQ24ARfIAQ_YAQHoAQGIAgGoAgO4ApGKo8AGwAIB0gIkN2ViMDZiMzEtODE3Yy00ODM4LTllODctZTNjZGIwY2VlMGQy2AIF4AIB&sid=b10d6df758b0e059011bf7be0724e09f&aid=304142&ucfs=1&arphpl=1&checkin=2025-04-23&checkout=2025-04-24&dest_id=2746&dest_type=region&group_adults=2&req_adults=2&no_rooms=1&group_children=0&req_children=0&hpos=12&hapos=12&sr_order=popularity&srpvid=5dde4bf9963a18d9&srepoch=1745405301&all_sr_blocks=55477702_354698393_0_2_0&highlighted_blocks=55477702_354698393_0_2_0&matching_block_id=55477702_354698393_0_2_0&sr_pri_blocks=55477702_354698393_0_2_0__11560&from=searchresults',\n",
       " 'https://www.booking.com/hotel/fr/studi-ha-tel-ra-c-sidence-plein-voile.fr.html?label=gen173nr-1BCAEoggI46AdIM1gEaE2IAQGYAQ24ARfIAQ_YAQHoAQGIAgGoAgO4ApGKo8AGwAIB0gIkN2ViMDZiMzEtODE3Yy00ODM4LTllODctZTNjZGIwY2VlMGQy2AIF4AIB&sid=b10d6df758b0e059011bf7be0724e09f&aid=304142&ucfs=1&arphpl=1&checkin=2025-04-23&checkout=2025-04-24&dest_id=2746&dest_type=region&group_adults=2&req_adults=2&no_rooms=1&group_children=0&req_children=0&hpos=13&hapos=13&sr_order=popularity&srpvid=5dde4bf9963a18d9&srepoch=1745405301&all_sr_blocks=43352401_400211608_2_2_0&highlighted_blocks=43352401_400211608_2_2_0&matching_block_id=43352401_400211608_2_2_0&sr_pri_blocks=43352401_400211608_2_2_0__7300&from=searchresults',\n",
       " 'https://www.booking.com/hotel/fr/angouire-gite-quot-la-bergerie-quot.fr.html?label=gen173nr-1BCAEoggI46AdIM1gEaE2IAQGYAQ24ARfIAQ_YAQHoAQGIAgGoAgO4ApGKo8AGwAIB0gIkN2ViMDZiMzEtODE3Yy00ODM4LTllODctZTNjZGIwY2VlMGQy2AIF4AIB&sid=b10d6df758b0e059011bf7be0724e09f&aid=304142&ucfs=1&arphpl=1&checkin=2025-04-23&checkout=2025-04-24&dest_id=2746&dest_type=region&group_adults=2&req_adults=2&no_rooms=1&group_children=0&req_children=0&hpos=14&hapos=14&sr_order=popularity&srpvid=5dde4bf9963a18d9&srepoch=1745405301&all_sr_blocks=100238302_374392067_0_2_0&highlighted_blocks=100238302_374392067_0_2_0&matching_block_id=100238302_374392067_0_2_0&sr_pri_blocks=100238302_374392067_0_2_0__14400&from=searchresults',\n",
       " 'https://www.booking.com/hotel/fr/the-loft-at-the-tree-of-life.fr.html?label=gen173nr-1BCAEoggI46AdIM1gEaE2IAQGYAQ24ARfIAQ_YAQHoAQGIAgGoAgO4ApGKo8AGwAIB0gIkN2ViMDZiMzEtODE3Yy00ODM4LTllODctZTNjZGIwY2VlMGQy2AIF4AIB&sid=b10d6df758b0e059011bf7be0724e09f&aid=304142&ucfs=1&arphpl=1&checkin=2025-04-23&checkout=2025-04-24&dest_id=2746&dest_type=region&group_adults=2&req_adults=2&no_rooms=1&group_children=0&req_children=0&hpos=15&hapos=15&sr_order=popularity&srpvid=5dde4bf9963a18d9&srepoch=1745405301&all_sr_blocks=174979602_372682077_4_42_0&highlighted_blocks=174979602_372682077_4_42_0&matching_block_id=174979602_372682077_4_42_0&sr_pri_blocks=174979602_372682077_4_42_0__11530&from=searchresults',\n",
       " 'https://www.booking.com/hotel/fr/domaine-de-majastre.fr.html?label=gen173nr-1BCAEoggI46AdIM1gEaE2IAQGYAQ24ARfIAQ_YAQHoAQGIAgGoAgO4ApGKo8AGwAIB0gIkN2ViMDZiMzEtODE3Yy00ODM4LTllODctZTNjZGIwY2VlMGQy2AIF4AIB&sid=b10d6df758b0e059011bf7be0724e09f&aid=304142&ucfs=1&arphpl=1&checkin=2025-04-23&checkout=2025-04-24&dest_id=2746&dest_type=region&group_adults=2&req_adults=2&no_rooms=1&group_children=0&req_children=0&hpos=16&hapos=16&sr_order=popularity&srpvid=5dde4bf9963a18d9&srepoch=1745405301&all_sr_blocks=42209303_375931580_0_1_0&highlighted_blocks=42209303_375931580_0_1_0&matching_block_id=42209303_375931580_0_1_0&sr_pri_blocks=42209303_375931580_0_1_0__16006&from=searchresults',\n",
       " 'https://www.booking.com/hotel/fr/loft-avec-mezzanine.fr.html?label=gen173nr-1BCAEoggI46AdIM1gEaE2IAQGYAQ24ARfIAQ_YAQHoAQGIAgGoAgO4ApGKo8AGwAIB0gIkN2ViMDZiMzEtODE3Yy00ODM4LTllODctZTNjZGIwY2VlMGQy2AIF4AIB&sid=b10d6df758b0e059011bf7be0724e09f&aid=304142&ucfs=1&arphpl=1&checkin=2025-04-23&checkout=2025-04-24&dest_id=2746&dest_type=region&group_adults=2&req_adults=2&no_rooms=1&group_children=0&req_children=0&hpos=17&hapos=17&sr_order=popularity&srpvid=5dde4bf9963a18d9&srepoch=1745405301&all_sr_blocks=806410701_372682087_5_34_0&highlighted_blocks=806410701_372682087_5_34_0&matching_block_id=806410701_372682087_5_34_0&sr_pri_blocks=806410701_372682087_5_34_0__12530&from=searchresults',\n",
       " 'https://www.booking.com/hotel/fr/le-chabassole.fr.html?label=gen173nr-1BCAEoggI46AdIM1gEaE2IAQGYAQ24ARfIAQ_YAQHoAQGIAgGoAgO4ApGKo8AGwAIB0gIkN2ViMDZiMzEtODE3Yy00ODM4LTllODctZTNjZGIwY2VlMGQy2AIF4AIB&sid=b10d6df758b0e059011bf7be0724e09f&aid=304142&ucfs=1&arphpl=1&checkin=2025-04-23&checkout=2025-04-24&dest_id=2746&dest_type=region&group_adults=2&req_adults=2&no_rooms=1&group_children=0&req_children=0&hpos=18&hapos=18&sr_order=popularity&srpvid=5dde4bf9963a18d9&srepoch=1745405301&all_sr_blocks=90770404_373568405_2_1_0_224723&highlighted_blocks=90770404_373568405_2_1_0_224723&matching_block_id=90770404_373568405_2_1_0_224723&sr_pri_blocks=90770404_373568405_2_1_0_224723_11230&from=searchresults',\n",
       " 'https://www.booking.com/hotel/fr/le-bosquet-aiguines.fr.html?label=gen173nr-1BCAEoggI46AdIM1gEaE2IAQGYAQ24ARfIAQ_YAQHoAQGIAgGoAgO4ApGKo8AGwAIB0gIkN2ViMDZiMzEtODE3Yy00ODM4LTllODctZTNjZGIwY2VlMGQy2AIF4AIB&sid=b10d6df758b0e059011bf7be0724e09f&aid=304142&ucfs=1&arphpl=1&checkin=2025-04-23&checkout=2025-04-24&dest_id=2746&dest_type=region&group_adults=2&req_adults=2&no_rooms=1&group_children=0&req_children=0&hpos=19&hapos=19&sr_order=popularity&srpvid=5dde4bf9963a18d9&srepoch=1745405301&all_sr_blocks=58034712_407447603_2_1_0&highlighted_blocks=58034712_407447603_2_1_0&matching_block_id=58034712_407447603_2_1_0&sr_pri_blocks=58034712_407447603_2_1_0__10260&from=searchresults',\n",
       " 'https://www.booking.com/hotel/fr/sous-les-arbres-la-palud-sur-verdon1.fr.html?label=gen173nr-1BCAEoggI46AdIM1gEaE2IAQGYAQ24ARfIAQ_YAQHoAQGIAgGoAgO4ApGKo8AGwAIB0gIkN2ViMDZiMzEtODE3Yy00ODM4LTllODctZTNjZGIwY2VlMGQy2AIF4AIB&sid=b10d6df758b0e059011bf7be0724e09f&aid=304142&ucfs=1&arphpl=1&checkin=2025-04-23&checkout=2025-04-24&dest_id=2746&dest_type=region&group_adults=2&req_adults=2&no_rooms=1&group_children=0&req_children=0&hpos=20&hapos=20&sr_order=popularity&srpvid=5dde4bf9963a18d9&srepoch=1745405301&all_sr_blocks=1154054501_388185512_2_0_0&highlighted_blocks=1154054501_388185512_2_0_0&matching_block_id=1154054501_388185512_2_0_0&sr_pri_blocks=1154054501_388185512_2_0_0__6300&from=searchresults',\n",
       " 'https://www.booking.com/hotel/fr/le-panoramic-la-palud.fr.html?label=gen173nr-1BCAEoggI46AdIM1gEaE2IAQGYAQ24ARfIAQ_YAQHoAQGIAgGoAgO4ApGKo8AGwAIB0gIkN2ViMDZiMzEtODE3Yy00ODM4LTllODctZTNjZGIwY2VlMGQy2AIF4AIB&sid=b10d6df758b0e059011bf7be0724e09f&aid=304142&ucfs=1&arphpl=1&checkin=2025-04-23&checkout=2025-04-24&dest_id=2746&dest_type=region&group_adults=2&req_adults=2&no_rooms=1&group_children=0&req_children=0&hpos=21&hapos=21&sr_order=popularity&srpvid=5dde4bf9963a18d9&srepoch=1745405301&all_sr_blocks=135143001_228459713_2_1_0_350104&highlighted_blocks=135143001_228459713_2_1_0_350104&matching_block_id=135143001_228459713_2_1_0_350104&sr_pri_blocks=135143001_228459713_2_1_0_350104_13612&from=searchresults',\n",
       " 'https://www.booking.com/hotel/fr/ha-tel-la-bonne-etape.fr.html?label=gen173nr-1BCAEoggI46AdIM1gEaE2IAQGYAQ24ARfIAQ_YAQHoAQGIAgGoAgO4ApGKo8AGwAIB0gIkN2ViMDZiMzEtODE3Yy00ODM4LTllODctZTNjZGIwY2VlMGQy2AIF4AIB&sid=b10d6df758b0e059011bf7be0724e09f&aid=304142&ucfs=1&arphpl=1&checkin=2025-04-23&checkout=2025-04-24&dest_id=2746&dest_type=region&group_adults=2&req_adults=2&no_rooms=1&group_children=0&req_children=0&hpos=22&hapos=22&sr_order=popularity&srpvid=5dde4bf9963a18d9&srepoch=1745405301&all_sr_blocks=37256002_382116484_0_34_0&highlighted_blocks=37256002_382116484_0_34_0&matching_block_id=37256002_382116484_0_34_0&sr_pri_blocks=37256002_382116484_0_34_0__10700&from=searchresults',\n",
       " 'https://www.booking.com/hotel/fr/le-chemin-neuf-greoux-les-bains.fr.html?label=gen173nr-1BCAEoggI46AdIM1gEaE2IAQGYAQ24ARfIAQ_YAQHoAQGIAgGoAgO4ApGKo8AGwAIB0gIkN2ViMDZiMzEtODE3Yy00ODM4LTllODctZTNjZGIwY2VlMGQy2AIF4AIB&sid=b10d6df758b0e059011bf7be0724e09f&aid=304142&ucfs=1&arphpl=1&checkin=2025-04-23&checkout=2025-04-24&dest_id=2746&dest_type=region&group_adults=2&req_adults=2&no_rooms=1&group_children=0&req_children=0&hpos=23&hapos=23&sr_order=popularity&srpvid=5dde4bf9963a18d9&srepoch=1745405301&all_sr_blocks=183745104_411361886_2_0_0&highlighted_blocks=183745104_411361886_2_0_0&matching_block_id=183745104_411361886_2_0_0&sr_pri_blocks=183745104_411361886_2_0_0__6154&from=searchresults',\n",
       " 'https://www.booking.com/hotel/fr/le-chardon-2.fr.html?label=gen173nr-1BCAEoggI46AdIM1gEaE2IAQGYAQ24ARfIAQ_YAQHoAQGIAgGoAgO4ApGKo8AGwAIB0gIkN2ViMDZiMzEtODE3Yy00ODM4LTllODctZTNjZGIwY2VlMGQy2AIF4AIB&sid=b10d6df758b0e059011bf7be0724e09f&aid=304142&ucfs=1&arphpl=1&checkin=2025-04-23&checkout=2025-04-24&dest_id=2746&dest_type=region&group_adults=2&req_adults=2&no_rooms=1&group_children=0&req_children=0&hpos=24&hapos=24&sr_order=popularity&srpvid=5dde4bf9963a18d9&srepoch=1745405301&all_sr_blocks=349040301_368987873_2_0_0&highlighted_blocks=349040301_368987873_2_0_0&matching_block_id=349040301_368987873_2_0_0&sr_pri_blocks=349040301_368987873_2_0_0__7480&from=searchresults',\n",
       " 'https://www.booking.com/hotel/fr/ma-petite-auberge.fr.html?label=gen173nr-1BCAEoggI46AdIM1gEaE2IAQGYAQ24ARfIAQ_YAQHoAQGIAgGoAgO4ApGKo8AGwAIB0gIkN2ViMDZiMzEtODE3Yy00ODM4LTllODctZTNjZGIwY2VlMGQy2AIF4AIB&sid=b10d6df758b0e059011bf7be0724e09f&aid=304142&ucfs=1&arphpl=1&checkin=2025-04-23&checkout=2025-04-24&dest_id=2746&dest_type=region&group_adults=2&req_adults=2&no_rooms=1&group_children=0&req_children=0&hpos=25&hapos=25&sr_order=popularity&srpvid=5dde4bf9963a18d9&srepoch=1745405301&all_sr_blocks=43279206_336152591_2_2_0&highlighted_blocks=43279206_336152591_2_2_0&matching_block_id=43279206_336152591_2_2_0&sr_pri_blocks=43279206_336152591_2_2_0__7054&from=searchresults']"
      ]
     },
     "execution_count": 41,
     "metadata": {},
     "output_type": "execute_result"
    }
   ],
   "source": [
    "hotel_url = response.css(\"a.a78ca197d0 ::attr(href)\").getall()\n",
    "hotel_url"
   ]
  },
  {
   "cell_type": "code",
   "execution_count": 45,
   "metadata": {},
   "outputs": [
    {
     "data": {
      "text/plain": [
       "['Avec une note de 8,5',\n",
       " '8,5',\n",
       " 'Avec une note de 9,3',\n",
       " '9,3',\n",
       " 'Avec une note de 9,2',\n",
       " '9,2',\n",
       " 'Avec une note de 7,8',\n",
       " '7,8',\n",
       " 'Avec une note de 7,7',\n",
       " '7,7',\n",
       " 'Avec une note de 9,0',\n",
       " '9,0',\n",
       " 'Avec une note de 8,8',\n",
       " '8,8',\n",
       " 'Avec une note de 8,9',\n",
       " '8,9',\n",
       " 'Avec une note de 8,5',\n",
       " '8,5',\n",
       " 'Avec une note de 7,4',\n",
       " '7,4',\n",
       " 'Avec une note de 7,9',\n",
       " '7,9',\n",
       " 'Avec une note de 8,5',\n",
       " '8,5',\n",
       " 'Avec une note de 7,8',\n",
       " '7,8',\n",
       " 'Avec une note de 8,0',\n",
       " '8,0',\n",
       " 'Avec une note de 7,9',\n",
       " '7,9',\n",
       " 'Avec une note de 7,9',\n",
       " '7,9',\n",
       " 'Avec une note de 8,4',\n",
       " '8,4',\n",
       " 'Avec une note de 9,2',\n",
       " '9,2',\n",
       " 'Avec une note de 8,7',\n",
       " '8,7',\n",
       " 'Avec une note de 7,6',\n",
       " '7,6',\n",
       " 'Avec une note de 8,5',\n",
       " '8,5',\n",
       " 'Avec une note de 8,2',\n",
       " '8,2',\n",
       " 'Avec une note de 7,7',\n",
       " '7,7',\n",
       " 'Avec une note de 9,2',\n",
       " '9,2',\n",
       " 'Avec une note de 8,2',\n",
       " '8,2']"
      ]
     },
     "execution_count": 45,
     "metadata": {},
     "output_type": "execute_result"
    }
   ],
   "source": [
    "hotel_ratting= response.css('div.a3b8729ab1.d86cee9b25 ::text').getall()\n",
    "#hotel_ratting= response.css('div.ac4a7896c7 ::text').getall()\n",
    "hotel_ratting"
   ]
  },
  {
   "cell_type": "code",
   "execution_count": 48,
   "metadata": {},
   "outputs": [
    {
     "data": {
      "text/plain": [
       "['8,5',\n",
       " '9,3',\n",
       " '9,2',\n",
       " '7,8',\n",
       " '7,7',\n",
       " '9,0',\n",
       " '8,8',\n",
       " '8,9',\n",
       " '8,5',\n",
       " '7,4',\n",
       " '7,9',\n",
       " '8,5',\n",
       " '7,8',\n",
       " '8,0',\n",
       " '7,9',\n",
       " '7,9',\n",
       " '8,4',\n",
       " '9,2',\n",
       " '8,7',\n",
       " '7,6',\n",
       " '8,5',\n",
       " '8,2',\n",
       " '7,7',\n",
       " '9,2',\n",
       " '8,2']"
      ]
     },
     "execution_count": 48,
     "metadata": {},
     "output_type": "execute_result"
    }
   ],
   "source": [
    "hotel_ratting = [rating for rating in response.css('div.a3b8729ab1.d86cee9b25 ::text').getall() if \"Avec une note de \" not in rating]\n",
    "hotel_ratting"
   ]
  },
  {
   "cell_type": "code",
   "execution_count": 39,
   "metadata": {},
   "outputs": [
    {
     "name": "stdout",
     "output_type": "stream",
     "text": [
      "['Auberge de Baudinard sur Verdon', 'La Ferme Rose-Hôtel de Charme', 'Hôtel Le Colombier', 'Les Canyons du Verdon', 'Gabrielle hôtel', 'Camping La Ferme de Castellane', 'Lou Paradou', 'Camping Les Framboiseilles', 'Camping Arbre de Vie', 'Villa Borghese, The Originals Relais', \"Hôtel Spa L'Ermitage\", 'Auberge des Salles', 'Studi-Hôtel Résidence Plein Voile', 'Mymoustiers', 'Gorges du Verdon - Lac Sainte-Croix', 'Domaine de Majastre', 'Loft avec mezzanine', '\" LE CHABASSOLE \" CHAMBRES D\\'HÔTES - GORGES du VERDON', 'Le Bosquet', 'sous les arbres', 'Hôtel le Panoramic - Votre Hôtel au cœur des Gorges du Verdon', 'Hôtel La Bonne Auberge', 'Le Chemin Neuf', 'Le Chardon 2', 'Ma Petite Auberge']\n"
     ]
    }
   ],
   "source": [
    "\n",
    "hotel_name=[]\n",
    "for i in range(100):\n",
    "    if response.css(f'div.c82435a4b8:nth-child({i}) > div:nth-child(1) > div:nth-child(2) > div:nth-child(1) > div:nth-child(1) > div:nth-child(1) > div:nth-child(1) > div:nth-child(1) > div:nth-child(1) > h3:nth-child(1) > a:nth-child(1) > div:nth-child(1)::text').get() is not None:\n",
    "        hotel_name.append(response.css(f'div.c82435a4b8:nth-child({i}) > div:nth-child(1) > div:nth-child(2) > div:nth-child(1) > div:nth-child(1) > div:nth-child(1) > div:nth-child(1) > div:nth-child(1) > div:nth-child(1) > h3:nth-child(1) > a:nth-child(1) > div:nth-child(1)::text').get())\n",
    "print(hotel_name)\n"
   ]
  },
  {
   "cell_type": "code",
   "execution_count": 42,
   "metadata": {},
   "outputs": [
    {
     "data": {
      "text/plain": [
       "25"
      ]
     },
     "execution_count": 42,
     "metadata": {},
     "output_type": "execute_result"
    }
   ],
   "source": [
    "len(hotel_name)"
   ]
  },
  {
   "cell_type": "code",
   "execution_count": 43,
   "metadata": {},
   "outputs": [
    {
     "name": "stdout",
     "output_type": "stream",
     "text": [
      "['7,8', '8,3', '7,9', '8,1', '8,2', '8,0', '8,2', '9,2', '8,6', '9,0', '9,6', '7,9', '8,6', '8,4', '8,7', '8,0', '8,9', '9,7', '9,7', '9,2', '7,7', '10']\n"
     ]
    }
   ],
   "source": [
    "ratting=[]\n",
    "for i in range(100):\n",
    "    if response.css(f\"div.c82435a4b8:nth-child({i}) > div:nth-child(1) > div:nth-child(2) > div:nth-child(1) > div:nth-child(1) > div:nth-child(2) > div:nth-child(1) > div:nth-child(1) > a:nth-child(1) > span:nth-child(1) > div:nth-child(1) > div:nth-child(1) > div:nth-child(1)::text\").get() is not None:\n",
    "        ratting.append(response.css(f\"div.c82435a4b8:nth-child({i}) > div:nth-child(1) > div:nth-child(2) > div:nth-child(1) > div:nth-child(1) > div:nth-child(2) > div:nth-child(1) > div:nth-child(1) > a:nth-child(1) > span:nth-child(1) > div:nth-child(1) > div:nth-child(1) > div:nth-child(1)::text\").get().split()[-1])\n",
    "print(ratting)\n"
   ]
  },
  {
   "cell_type": "code",
   "execution_count": null,
   "metadata": {},
   "outputs": [
    {
     "data": {
      "text/html": [
       "<div>\n",
       "<style scoped>\n",
       "    .dataframe tbody tr th:only-of-type {\n",
       "        vertical-align: middle;\n",
       "    }\n",
       "\n",
       "    .dataframe tbody tr th {\n",
       "        vertical-align: top;\n",
       "    }\n",
       "\n",
       "    .dataframe thead th {\n",
       "        text-align: right;\n",
       "    }\n",
       "</style>\n",
       "<table border=\"1\" class=\"dataframe\">\n",
       "  <thead>\n",
       "    <tr style=\"text-align: right;\">\n",
       "      <th></th>\n",
       "      <th>index</th>\n",
       "      <th>hotel_name</th>\n",
       "      <th>ratting</th>\n",
       "    </tr>\n",
       "  </thead>\n",
       "  <tbody>\n",
       "    <tr>\n",
       "      <th>0</th>\n",
       "      <td>0.0</td>\n",
       "      <td>NaN</td>\n",
       "      <td>NaN</td>\n",
       "    </tr>\n",
       "    <tr>\n",
       "      <th>1</th>\n",
       "      <td>1.0</td>\n",
       "      <td>NaN</td>\n",
       "      <td>NaN</td>\n",
       "    </tr>\n",
       "    <tr>\n",
       "      <th>2</th>\n",
       "      <td>2.0</td>\n",
       "      <td>NaN</td>\n",
       "      <td>NaN</td>\n",
       "    </tr>\n",
       "    <tr>\n",
       "      <th>3</th>\n",
       "      <td>3.0</td>\n",
       "      <td>NaN</td>\n",
       "      <td>NaN</td>\n",
       "    </tr>\n",
       "    <tr>\n",
       "      <th>4</th>\n",
       "      <td>4.0</td>\n",
       "      <td>NaN</td>\n",
       "      <td>NaN</td>\n",
       "    </tr>\n",
       "    <tr>\n",
       "      <th>...</th>\n",
       "      <td>...</td>\n",
       "      <td>...</td>\n",
       "      <td>...</td>\n",
       "    </tr>\n",
       "    <tr>\n",
       "      <th>95</th>\n",
       "      <td>95.0</td>\n",
       "      <td>NaN</td>\n",
       "      <td>NaN</td>\n",
       "    </tr>\n",
       "    <tr>\n",
       "      <th>96</th>\n",
       "      <td>96.0</td>\n",
       "      <td>NaN</td>\n",
       "      <td>NaN</td>\n",
       "    </tr>\n",
       "    <tr>\n",
       "      <th>97</th>\n",
       "      <td>97.0</td>\n",
       "      <td>NaN</td>\n",
       "      <td>NaN</td>\n",
       "    </tr>\n",
       "    <tr>\n",
       "      <th>98</th>\n",
       "      <td>98.0</td>\n",
       "      <td>NaN</td>\n",
       "      <td>NaN</td>\n",
       "    </tr>\n",
       "    <tr>\n",
       "      <th>99</th>\n",
       "      <td>99.0</td>\n",
       "      <td>NaN</td>\n",
       "      <td>NaN</td>\n",
       "    </tr>\n",
       "  </tbody>\n",
       "</table>\n",
       "<p>100 rows × 3 columns</p>\n",
       "</div>"
      ],
      "text/plain": [
       "    index hotel_name  ratting\n",
       "0     0.0        NaN      NaN\n",
       "1     1.0        NaN      NaN\n",
       "2     2.0        NaN      NaN\n",
       "3     3.0        NaN      NaN\n",
       "4     4.0        NaN      NaN\n",
       "..    ...        ...      ...\n",
       "95   95.0        NaN      NaN\n",
       "96   96.0        NaN      NaN\n",
       "97   97.0        NaN      NaN\n",
       "98   98.0        NaN      NaN\n",
       "99   99.0        NaN      NaN\n",
       "\n",
       "[100 rows x 3 columns]"
      ]
     },
     "execution_count": 56,
     "metadata": {},
     "output_type": "execute_result"
    }
   ],
   "source": [
    "import pandas as pd\n",
    "\n",
    "# Initialisation du DataFrame avec les types de données appropriés\n",
    "data = {\n",
    "    'index': pd.Series(dtype='int'),\n",
    "    'hotel_name': pd.Series(dtype='str'),\n",
    "    'ratting': pd.Series(dtype='float'),\n",
    "    'hotel_url' : pd.Series(dtype='str'),\n",
    "}\n",
    "df = pd.DataFrame(data)\n",
    "\n",
    "# Boucle pour remplir le DataFrame\n",
    "for i in range(100):\n",
    "    # Ajout de l'index\n",
    "    df.loc[i, 'index'] = i\n",
    "\n",
    "    # Récupération et ajout du ratting\n",
    "    ratting_text = response.css(f\"div.c82435a4b8:nth-child({i}) > div:nth-child(1) > div:nth-child(2) > div:nth-child(1) > div:nth-child(1) > div:nth-child(2) > div:nth-child(1) > div:nth-child(1) > a:nth-child(1) > span:nth-child(1) > div:nth-child(1) > div:nth-child(1) > div:nth-child(1)::text\").get()\n",
    "    if ratting_text is not None:\n",
    "        ratting_value = ratting_text.split()[-1].replace(',', '.')  # Remplacer la virgule par un point pour la conversion en float\n",
    "        df.loc[i, 'ratting'] = float(ratting_value)\n",
    "\n",
    "    # Récupération et ajout du nom de l'hôtel\n",
    "    hotel_name_text = response.css(f'div.c82435a4b8:nth-child({i}) > div:nth-child(1) > div:nth-child(2) > div:nth-child(1) > div:nth-child(1) > div:nth-child(1) > div:nth-child(1) > div:nth-child(1) > div:nth-child(1) > h3:nth-child(1) > a:nth-child(1) > div:nth-child(1)::text').get()\n",
    "    if hotel_name_text is not None:\n",
    "        df.loc[i, 'hotel_name'] = hotel_name_text\n",
    "\n",
    "# Affichage du DataFrame\n",
    "df\n"
   ]
  },
  {
   "cell_type": "code",
   "execution_count": 62,
   "metadata": {},
   "outputs": [
    {
     "data": {
      "text/html": [
       "<div>\n",
       "<style scoped>\n",
       "    .dataframe tbody tr th:only-of-type {\n",
       "        vertical-align: middle;\n",
       "    }\n",
       "\n",
       "    .dataframe tbody tr th {\n",
       "        vertical-align: top;\n",
       "    }\n",
       "\n",
       "    .dataframe thead th {\n",
       "        text-align: right;\n",
       "    }\n",
       "</style>\n",
       "<table border=\"1\" class=\"dataframe\">\n",
       "  <thead>\n",
       "    <tr style=\"text-align: right;\">\n",
       "      <th></th>\n",
       "      <th>index</th>\n",
       "      <th>hotel_name</th>\n",
       "      <th>ratting</th>\n",
       "    </tr>\n",
       "  </thead>\n",
       "  <tbody>\n",
       "    <tr>\n",
       "      <th>5</th>\n",
       "      <td>5.0</td>\n",
       "      <td>Campanile Bayeux</td>\n",
       "      <td>7.8</td>\n",
       "    </tr>\n",
       "    <tr>\n",
       "      <th>8</th>\n",
       "      <td>8.0</td>\n",
       "      <td>Le Declic</td>\n",
       "      <td>8.3</td>\n",
       "    </tr>\n",
       "    <tr>\n",
       "      <th>9</th>\n",
       "      <td>9.0</td>\n",
       "      <td>Château de Bellefontaine - Teritoria</td>\n",
       "      <td>7.9</td>\n",
       "    </tr>\n",
       "    <tr>\n",
       "      <th>11</th>\n",
       "      <td>11.0</td>\n",
       "      <td>Hôtel De Brunville &amp; Spa</td>\n",
       "      <td>8.1</td>\n",
       "    </tr>\n",
       "    <tr>\n",
       "      <th>14</th>\n",
       "      <td>14.0</td>\n",
       "      <td>Au Loup Historic Apartments</td>\n",
       "      <td>8.2</td>\n",
       "    </tr>\n",
       "    <tr>\n",
       "      <th>15</th>\n",
       "      <td>15.0</td>\n",
       "      <td>Novotel Bayeux</td>\n",
       "      <td>8.0</td>\n",
       "    </tr>\n",
       "    <tr>\n",
       "      <th>17</th>\n",
       "      <td>17.0</td>\n",
       "      <td>Hôtel Le Saint Patrice</td>\n",
       "      <td>8.2</td>\n",
       "    </tr>\n",
       "    <tr>\n",
       "      <th>19</th>\n",
       "      <td>19.0</td>\n",
       "      <td>Domaine de Bayeux</td>\n",
       "      <td>9.2</td>\n",
       "    </tr>\n",
       "    <tr>\n",
       "      <th>24</th>\n",
       "      <td>24.0</td>\n",
       "      <td>Hotel Le Lion D'Or et Restaurant La Table Du Lion</td>\n",
       "      <td>8.6</td>\n",
       "    </tr>\n",
       "    <tr>\n",
       "      <th>26</th>\n",
       "      <td>26.0</td>\n",
       "      <td>Logis Les Remparts</td>\n",
       "      <td>9.0</td>\n",
       "    </tr>\n",
       "    <tr>\n",
       "      <th>29</th>\n",
       "      <td>29.0</td>\n",
       "      <td>Manoir Sainte Victoire</td>\n",
       "      <td>9.6</td>\n",
       "    </tr>\n",
       "    <tr>\n",
       "      <th>31</th>\n",
       "      <td>31.0</td>\n",
       "      <td>Hôtel Le Bayeux</td>\n",
       "      <td>7.9</td>\n",
       "    </tr>\n",
       "    <tr>\n",
       "      <th>33</th>\n",
       "      <td>33.0</td>\n",
       "      <td>Hotel Reine Mathilde</td>\n",
       "      <td>8.6</td>\n",
       "    </tr>\n",
       "    <tr>\n",
       "      <th>34</th>\n",
       "      <td>34.0</td>\n",
       "      <td>La Naomath - Maison d'hôtes, Hébergement insol...</td>\n",
       "      <td>8.4</td>\n",
       "    </tr>\n",
       "    <tr>\n",
       "      <th>36</th>\n",
       "      <td>36.0</td>\n",
       "      <td>le nid cosy</td>\n",
       "      <td>8.7</td>\n",
       "    </tr>\n",
       "    <tr>\n",
       "      <th>38</th>\n",
       "      <td>38.0</td>\n",
       "      <td>Grand Hôtel du Luxembourg &amp; Spa</td>\n",
       "      <td>8.0</td>\n",
       "    </tr>\n",
       "    <tr>\n",
       "      <th>40</th>\n",
       "      <td>40.0</td>\n",
       "      <td>Belle Normandy</td>\n",
       "      <td>8.9</td>\n",
       "    </tr>\n",
       "    <tr>\n",
       "      <th>42</th>\n",
       "      <td>42.0</td>\n",
       "      <td>Villa Lara Hotel</td>\n",
       "      <td>9.7</td>\n",
       "    </tr>\n",
       "    <tr>\n",
       "      <th>44</th>\n",
       "      <td>44.0</td>\n",
       "      <td>Bayeuzen - Le Baldaquin - Nuitée avec Spa Priv...</td>\n",
       "      <td>9.7</td>\n",
       "    </tr>\n",
       "    <tr>\n",
       "      <th>45</th>\n",
       "      <td>45.0</td>\n",
       "      <td>Chambre tout confort</td>\n",
       "      <td>9.2</td>\n",
       "    </tr>\n",
       "    <tr>\n",
       "      <th>46</th>\n",
       "      <td>46.0</td>\n",
       "      <td>studio du botanique</td>\n",
       "      <td>7.7</td>\n",
       "    </tr>\n",
       "    <tr>\n",
       "      <th>48</th>\n",
       "      <td>48.0</td>\n",
       "      <td>The Victory</td>\n",
       "      <td>NaN</td>\n",
       "    </tr>\n",
       "    <tr>\n",
       "      <th>50</th>\n",
       "      <td>50.0</td>\n",
       "      <td>studio du parvis</td>\n",
       "      <td>NaN</td>\n",
       "    </tr>\n",
       "    <tr>\n",
       "      <th>52</th>\n",
       "      <td>52.0</td>\n",
       "      <td>La Bayeuzen - La Tropicale - Love Room</td>\n",
       "      <td>10.0</td>\n",
       "    </tr>\n",
       "    <tr>\n",
       "      <th>53</th>\n",
       "      <td>53.0</td>\n",
       "      <td>Maison plages du débarquement</td>\n",
       "      <td>NaN</td>\n",
       "    </tr>\n",
       "  </tbody>\n",
       "</table>\n",
       "</div>"
      ],
      "text/plain": [
       "    index                                         hotel_name  ratting\n",
       "5     5.0                                   Campanile Bayeux      7.8\n",
       "8     8.0                                          Le Declic      8.3\n",
       "9     9.0               Château de Bellefontaine - Teritoria      7.9\n",
       "11   11.0                           Hôtel De Brunville & Spa      8.1\n",
       "14   14.0                        Au Loup Historic Apartments      8.2\n",
       "15   15.0                                     Novotel Bayeux      8.0\n",
       "17   17.0                             Hôtel Le Saint Patrice      8.2\n",
       "19   19.0                                  Domaine de Bayeux      9.2\n",
       "24   24.0  Hotel Le Lion D'Or et Restaurant La Table Du Lion      8.6\n",
       "26   26.0                                 Logis Les Remparts      9.0\n",
       "29   29.0                             Manoir Sainte Victoire      9.6\n",
       "31   31.0                                    Hôtel Le Bayeux      7.9\n",
       "33   33.0                               Hotel Reine Mathilde      8.6\n",
       "34   34.0  La Naomath - Maison d'hôtes, Hébergement insol...      8.4\n",
       "36   36.0                                        le nid cosy      8.7\n",
       "38   38.0                    Grand Hôtel du Luxembourg & Spa      8.0\n",
       "40   40.0                                     Belle Normandy      8.9\n",
       "42   42.0                                   Villa Lara Hotel      9.7\n",
       "44   44.0  Bayeuzen - Le Baldaquin - Nuitée avec Spa Priv...      9.7\n",
       "45   45.0                               Chambre tout confort      9.2\n",
       "46   46.0                                studio du botanique      7.7\n",
       "48   48.0                                        The Victory      NaN\n",
       "50   50.0                                   studio du parvis      NaN\n",
       "52   52.0             La Bayeuzen - La Tropicale - Love Room     10.0\n",
       "53   53.0                      Maison plages du débarquement      NaN"
      ]
     },
     "execution_count": 62,
     "metadata": {},
     "output_type": "execute_result"
    }
   ],
   "source": [
    "df=df[~df[\"hotel_name\"].isna()]\n",
    "df"
   ]
  },
  {
   "cell_type": "code",
   "execution_count": 87,
   "metadata": {},
   "outputs": [
    {
     "name": "stderr",
     "output_type": "stream",
     "text": [
      "C:\\Users\\Myriam\\AppData\\Local\\Temp\\ipykernel_8180\\2590807557.py:3: SettingWithCopyWarning:\n",
      "\n",
      "\n",
      "A value is trying to be set on a copy of a slice from a DataFrame\n",
      "\n",
      "See the caveats in the documentation: https://pandas.pydata.org/pandas-docs/stable/user_guide/indexing.html#returning-a-view-versus-a-copy\n",
      "\n"
     ]
    },
    {
     "data": {
      "text/html": [
       "<div>\n",
       "<style scoped>\n",
       "    .dataframe tbody tr th:only-of-type {\n",
       "        vertical-align: middle;\n",
       "    }\n",
       "\n",
       "    .dataframe tbody tr th {\n",
       "        vertical-align: top;\n",
       "    }\n",
       "\n",
       "    .dataframe thead th {\n",
       "        text-align: right;\n",
       "    }\n",
       "</style>\n",
       "<table border=\"1\" class=\"dataframe\">\n",
       "  <thead>\n",
       "    <tr style=\"text-align: right;\">\n",
       "      <th></th>\n",
       "      <th>index</th>\n",
       "      <th>hotel_name</th>\n",
       "      <th>ratting</th>\n",
       "      <th>hotel_url</th>\n",
       "    </tr>\n",
       "  </thead>\n",
       "  <tbody>\n",
       "    <tr>\n",
       "      <th>5</th>\n",
       "      <td>5.0</td>\n",
       "      <td>Campanile Bayeux</td>\n",
       "      <td>7.8</td>\n",
       "      <td>https://www.booking.com/hotel/fr/novotel.fr.ht...</td>\n",
       "    </tr>\n",
       "    <tr>\n",
       "      <th>8</th>\n",
       "      <td>8.0</td>\n",
       "      <td>Le Declic</td>\n",
       "      <td>8.3</td>\n",
       "      <td>https://www.booking.com/hotel/fr/le-lion-d-or-...</td>\n",
       "    </tr>\n",
       "    <tr>\n",
       "      <th>9</th>\n",
       "      <td>9.0</td>\n",
       "      <td>Château de Bellefontaine - Teritoria</td>\n",
       "      <td>7.9</td>\n",
       "      <td>https://www.booking.com/hotel/fr/chambre-d-ha-...</td>\n",
       "    </tr>\n",
       "    <tr>\n",
       "      <th>11</th>\n",
       "      <td>11.0</td>\n",
       "      <td>Hôtel De Brunville &amp; Spa</td>\n",
       "      <td>8.1</td>\n",
       "      <td>https://www.booking.com/hotel/fr/le-bayeux.fr....</td>\n",
       "    </tr>\n",
       "    <tr>\n",
       "      <th>14</th>\n",
       "      <td>14.0</td>\n",
       "      <td>Au Loup Historic Apartments</td>\n",
       "      <td>8.2</td>\n",
       "      <td>https://www.booking.com/hotel/fr/le-nid-cosy-b...</td>\n",
       "    </tr>\n",
       "    <tr>\n",
       "      <th>15</th>\n",
       "      <td>15.0</td>\n",
       "      <td>Novotel Bayeux</td>\n",
       "      <td>8.0</td>\n",
       "      <td>https://www.booking.com/hotel/fr/hotelduluxemb...</td>\n",
       "    </tr>\n",
       "    <tr>\n",
       "      <th>17</th>\n",
       "      <td>17.0</td>\n",
       "      <td>Hôtel Le Saint Patrice</td>\n",
       "      <td>8.2</td>\n",
       "      <td>https://www.booking.com/hotel/fr/villa-lara-ha...</td>\n",
       "    </tr>\n",
       "    <tr>\n",
       "      <th>19</th>\n",
       "      <td>19.0</td>\n",
       "      <td>Domaine de Bayeux</td>\n",
       "      <td>9.2</td>\n",
       "      <td>https://www.booking.com/hotel/fr/chambre-tout-...</td>\n",
       "    </tr>\n",
       "    <tr>\n",
       "      <th>24</th>\n",
       "      <td>24.0</td>\n",
       "      <td>Hotel Le Lion D'Or et Restaurant La Table Du Lion</td>\n",
       "      <td>8.6</td>\n",
       "      <td>https://www.booking.com/hotel/fr/maison-plages...</td>\n",
       "    </tr>\n",
       "    <tr>\n",
       "      <th>26</th>\n",
       "      <td>26.0</td>\n",
       "      <td>Logis Les Remparts</td>\n",
       "      <td>9.0</td>\n",
       "      <td>NaN</td>\n",
       "    </tr>\n",
       "    <tr>\n",
       "      <th>29</th>\n",
       "      <td>29.0</td>\n",
       "      <td>Manoir Sainte Victoire</td>\n",
       "      <td>9.6</td>\n",
       "      <td>NaN</td>\n",
       "    </tr>\n",
       "    <tr>\n",
       "      <th>31</th>\n",
       "      <td>31.0</td>\n",
       "      <td>Hôtel Le Bayeux</td>\n",
       "      <td>7.9</td>\n",
       "      <td>NaN</td>\n",
       "    </tr>\n",
       "    <tr>\n",
       "      <th>33</th>\n",
       "      <td>33.0</td>\n",
       "      <td>Hotel Reine Mathilde</td>\n",
       "      <td>8.6</td>\n",
       "      <td>NaN</td>\n",
       "    </tr>\n",
       "    <tr>\n",
       "      <th>34</th>\n",
       "      <td>34.0</td>\n",
       "      <td>La Naomath - Maison d'hôtes, Hébergement insol...</td>\n",
       "      <td>8.4</td>\n",
       "      <td>NaN</td>\n",
       "    </tr>\n",
       "    <tr>\n",
       "      <th>36</th>\n",
       "      <td>36.0</td>\n",
       "      <td>le nid cosy</td>\n",
       "      <td>8.7</td>\n",
       "      <td>NaN</td>\n",
       "    </tr>\n",
       "    <tr>\n",
       "      <th>38</th>\n",
       "      <td>38.0</td>\n",
       "      <td>Grand Hôtel du Luxembourg &amp; Spa</td>\n",
       "      <td>8.0</td>\n",
       "      <td>NaN</td>\n",
       "    </tr>\n",
       "    <tr>\n",
       "      <th>40</th>\n",
       "      <td>40.0</td>\n",
       "      <td>Belle Normandy</td>\n",
       "      <td>8.9</td>\n",
       "      <td>NaN</td>\n",
       "    </tr>\n",
       "    <tr>\n",
       "      <th>42</th>\n",
       "      <td>42.0</td>\n",
       "      <td>Villa Lara Hotel</td>\n",
       "      <td>9.7</td>\n",
       "      <td>NaN</td>\n",
       "    </tr>\n",
       "    <tr>\n",
       "      <th>44</th>\n",
       "      <td>44.0</td>\n",
       "      <td>Bayeuzen - Le Baldaquin - Nuitée avec Spa Priv...</td>\n",
       "      <td>9.7</td>\n",
       "      <td>NaN</td>\n",
       "    </tr>\n",
       "    <tr>\n",
       "      <th>45</th>\n",
       "      <td>45.0</td>\n",
       "      <td>Chambre tout confort</td>\n",
       "      <td>9.2</td>\n",
       "      <td>NaN</td>\n",
       "    </tr>\n",
       "    <tr>\n",
       "      <th>46</th>\n",
       "      <td>46.0</td>\n",
       "      <td>studio du botanique</td>\n",
       "      <td>7.7</td>\n",
       "      <td>NaN</td>\n",
       "    </tr>\n",
       "    <tr>\n",
       "      <th>48</th>\n",
       "      <td>48.0</td>\n",
       "      <td>The Victory</td>\n",
       "      <td>NaN</td>\n",
       "      <td>NaN</td>\n",
       "    </tr>\n",
       "    <tr>\n",
       "      <th>50</th>\n",
       "      <td>50.0</td>\n",
       "      <td>studio du parvis</td>\n",
       "      <td>NaN</td>\n",
       "      <td>NaN</td>\n",
       "    </tr>\n",
       "    <tr>\n",
       "      <th>52</th>\n",
       "      <td>52.0</td>\n",
       "      <td>La Bayeuzen - La Tropicale - Love Room</td>\n",
       "      <td>10.0</td>\n",
       "      <td>NaN</td>\n",
       "    </tr>\n",
       "    <tr>\n",
       "      <th>53</th>\n",
       "      <td>53.0</td>\n",
       "      <td>Maison plages du débarquement</td>\n",
       "      <td>NaN</td>\n",
       "      <td>NaN</td>\n",
       "    </tr>\n",
       "    <tr>\n",
       "      <th>0</th>\n",
       "      <td>NaN</td>\n",
       "      <td>NaN</td>\n",
       "      <td>NaN</td>\n",
       "      <td>https://www.booking.com/hotel/fr/campanile-bay...</td>\n",
       "    </tr>\n",
       "    <tr>\n",
       "      <th>1</th>\n",
       "      <td>NaN</td>\n",
       "      <td>NaN</td>\n",
       "      <td>NaN</td>\n",
       "      <td>https://www.booking.com/hotel/fr/le-mogador-ba...</td>\n",
       "    </tr>\n",
       "    <tr>\n",
       "      <th>2</th>\n",
       "      <td>NaN</td>\n",
       "      <td>NaN</td>\n",
       "      <td>NaN</td>\n",
       "      <td>https://www.booking.com/hotel/fr/chateau-de-be...</td>\n",
       "    </tr>\n",
       "    <tr>\n",
       "      <th>3</th>\n",
       "      <td>NaN</td>\n",
       "      <td>NaN</td>\n",
       "      <td>NaN</td>\n",
       "      <td>https://www.booking.com/hotel/fr/hoteldebrunvi...</td>\n",
       "    </tr>\n",
       "    <tr>\n",
       "      <th>4</th>\n",
       "      <td>NaN</td>\n",
       "      <td>NaN</td>\n",
       "      <td>NaN</td>\n",
       "      <td>https://www.booking.com/hotel/fr/au-loup-histo...</td>\n",
       "    </tr>\n",
       "    <tr>\n",
       "      <th>6</th>\n",
       "      <td>NaN</td>\n",
       "      <td>NaN</td>\n",
       "      <td>NaN</td>\n",
       "      <td>https://www.booking.com/hotel/fr/saint-patrice...</td>\n",
       "    </tr>\n",
       "    <tr>\n",
       "      <th>7</th>\n",
       "      <td>NaN</td>\n",
       "      <td>NaN</td>\n",
       "      <td>NaN</td>\n",
       "      <td>https://www.booking.com/hotel/fr/domaine-de-ba...</td>\n",
       "    </tr>\n",
       "    <tr>\n",
       "      <th>10</th>\n",
       "      <td>NaN</td>\n",
       "      <td>NaN</td>\n",
       "      <td>NaN</td>\n",
       "      <td>https://www.booking.com/hotel/fr/manoir-sainte...</td>\n",
       "    </tr>\n",
       "    <tr>\n",
       "      <th>12</th>\n",
       "      <td>NaN</td>\n",
       "      <td>NaN</td>\n",
       "      <td>NaN</td>\n",
       "      <td>https://www.booking.com/hotel/fr/reine-mathild...</td>\n",
       "    </tr>\n",
       "    <tr>\n",
       "      <th>13</th>\n",
       "      <td>NaN</td>\n",
       "      <td>NaN</td>\n",
       "      <td>NaN</td>\n",
       "      <td>https://www.booking.com/hotel/fr/la-naomath.fr...</td>\n",
       "    </tr>\n",
       "    <tr>\n",
       "      <th>16</th>\n",
       "      <td>NaN</td>\n",
       "      <td>NaN</td>\n",
       "      <td>NaN</td>\n",
       "      <td>https://www.booking.com/hotel/fr/clos-des-cord...</td>\n",
       "    </tr>\n",
       "    <tr>\n",
       "      <th>18</th>\n",
       "      <td>NaN</td>\n",
       "      <td>NaN</td>\n",
       "      <td>NaN</td>\n",
       "      <td>https://www.booking.com/hotel/fr/bayeuzen-le-b...</td>\n",
       "    </tr>\n",
       "    <tr>\n",
       "      <th>20</th>\n",
       "      <td>NaN</td>\n",
       "      <td>NaN</td>\n",
       "      <td>NaN</td>\n",
       "      <td>https://www.booking.com/hotel/fr/59-rue-de-por...</td>\n",
       "    </tr>\n",
       "    <tr>\n",
       "      <th>21</th>\n",
       "      <td>NaN</td>\n",
       "      <td>NaN</td>\n",
       "      <td>NaN</td>\n",
       "      <td>https://www.booking.com/hotel/fr/the-victory.f...</td>\n",
       "    </tr>\n",
       "    <tr>\n",
       "      <th>22</th>\n",
       "      <td>NaN</td>\n",
       "      <td>NaN</td>\n",
       "      <td>NaN</td>\n",
       "      <td>https://www.booking.com/hotel/fr/studio-du-par...</td>\n",
       "    </tr>\n",
       "    <tr>\n",
       "      <th>23</th>\n",
       "      <td>NaN</td>\n",
       "      <td>NaN</td>\n",
       "      <td>NaN</td>\n",
       "      <td>https://www.booking.com/hotel/fr/la-bayeuzen-l...</td>\n",
       "    </tr>\n",
       "  </tbody>\n",
       "</table>\n",
       "</div>"
      ],
      "text/plain": [
       "    index                                         hotel_name  ratting  \\\n",
       "5     5.0                                   Campanile Bayeux      7.8   \n",
       "8     8.0                                          Le Declic      8.3   \n",
       "9     9.0               Château de Bellefontaine - Teritoria      7.9   \n",
       "11   11.0                           Hôtel De Brunville & Spa      8.1   \n",
       "14   14.0                        Au Loup Historic Apartments      8.2   \n",
       "15   15.0                                     Novotel Bayeux      8.0   \n",
       "17   17.0                             Hôtel Le Saint Patrice      8.2   \n",
       "19   19.0                                  Domaine de Bayeux      9.2   \n",
       "24   24.0  Hotel Le Lion D'Or et Restaurant La Table Du Lion      8.6   \n",
       "26   26.0                                 Logis Les Remparts      9.0   \n",
       "29   29.0                             Manoir Sainte Victoire      9.6   \n",
       "31   31.0                                    Hôtel Le Bayeux      7.9   \n",
       "33   33.0                               Hotel Reine Mathilde      8.6   \n",
       "34   34.0  La Naomath - Maison d'hôtes, Hébergement insol...      8.4   \n",
       "36   36.0                                        le nid cosy      8.7   \n",
       "38   38.0                    Grand Hôtel du Luxembourg & Spa      8.0   \n",
       "40   40.0                                     Belle Normandy      8.9   \n",
       "42   42.0                                   Villa Lara Hotel      9.7   \n",
       "44   44.0  Bayeuzen - Le Baldaquin - Nuitée avec Spa Priv...      9.7   \n",
       "45   45.0                               Chambre tout confort      9.2   \n",
       "46   46.0                                studio du botanique      7.7   \n",
       "48   48.0                                        The Victory      NaN   \n",
       "50   50.0                                   studio du parvis      NaN   \n",
       "52   52.0             La Bayeuzen - La Tropicale - Love Room     10.0   \n",
       "53   53.0                      Maison plages du débarquement      NaN   \n",
       "0     NaN                                                NaN      NaN   \n",
       "1     NaN                                                NaN      NaN   \n",
       "2     NaN                                                NaN      NaN   \n",
       "3     NaN                                                NaN      NaN   \n",
       "4     NaN                                                NaN      NaN   \n",
       "6     NaN                                                NaN      NaN   \n",
       "7     NaN                                                NaN      NaN   \n",
       "10    NaN                                                NaN      NaN   \n",
       "12    NaN                                                NaN      NaN   \n",
       "13    NaN                                                NaN      NaN   \n",
       "16    NaN                                                NaN      NaN   \n",
       "18    NaN                                                NaN      NaN   \n",
       "20    NaN                                                NaN      NaN   \n",
       "21    NaN                                                NaN      NaN   \n",
       "22    NaN                                                NaN      NaN   \n",
       "23    NaN                                                NaN      NaN   \n",
       "\n",
       "                                            hotel_url  \n",
       "5   https://www.booking.com/hotel/fr/novotel.fr.ht...  \n",
       "8   https://www.booking.com/hotel/fr/le-lion-d-or-...  \n",
       "9   https://www.booking.com/hotel/fr/chambre-d-ha-...  \n",
       "11  https://www.booking.com/hotel/fr/le-bayeux.fr....  \n",
       "14  https://www.booking.com/hotel/fr/le-nid-cosy-b...  \n",
       "15  https://www.booking.com/hotel/fr/hotelduluxemb...  \n",
       "17  https://www.booking.com/hotel/fr/villa-lara-ha...  \n",
       "19  https://www.booking.com/hotel/fr/chambre-tout-...  \n",
       "24  https://www.booking.com/hotel/fr/maison-plages...  \n",
       "26                                                NaN  \n",
       "29                                                NaN  \n",
       "31                                                NaN  \n",
       "33                                                NaN  \n",
       "34                                                NaN  \n",
       "36                                                NaN  \n",
       "38                                                NaN  \n",
       "40                                                NaN  \n",
       "42                                                NaN  \n",
       "44                                                NaN  \n",
       "45                                                NaN  \n",
       "46                                                NaN  \n",
       "48                                                NaN  \n",
       "50                                                NaN  \n",
       "52                                                NaN  \n",
       "53                                                NaN  \n",
       "0   https://www.booking.com/hotel/fr/campanile-bay...  \n",
       "1   https://www.booking.com/hotel/fr/le-mogador-ba...  \n",
       "2   https://www.booking.com/hotel/fr/chateau-de-be...  \n",
       "3   https://www.booking.com/hotel/fr/hoteldebrunvi...  \n",
       "4   https://www.booking.com/hotel/fr/au-loup-histo...  \n",
       "6   https://www.booking.com/hotel/fr/saint-patrice...  \n",
       "7   https://www.booking.com/hotel/fr/domaine-de-ba...  \n",
       "10  https://www.booking.com/hotel/fr/manoir-sainte...  \n",
       "12  https://www.booking.com/hotel/fr/reine-mathild...  \n",
       "13  https://www.booking.com/hotel/fr/la-naomath.fr...  \n",
       "16  https://www.booking.com/hotel/fr/clos-des-cord...  \n",
       "18  https://www.booking.com/hotel/fr/bayeuzen-le-b...  \n",
       "20  https://www.booking.com/hotel/fr/59-rue-de-por...  \n",
       "21  https://www.booking.com/hotel/fr/the-victory.f...  \n",
       "22  https://www.booking.com/hotel/fr/studio-du-par...  \n",
       "23  https://www.booking.com/hotel/fr/la-bayeuzen-l...  "
      ]
     },
     "execution_count": 87,
     "metadata": {},
     "output_type": "execute_result"
    }
   ],
   "source": [
    "for i in range(len(df)):\n",
    "    if i < len(hotel_url):\n",
    "        df.loc[i, 'hotel_url'] = hotel_url[i]\n",
    "    else:\n",
    "        df.loc[i, 'hotel_url'] = \"\"  \n",
    "df"
   ]
  },
  {
   "cell_type": "code",
   "execution_count": 44,
   "metadata": {},
   "outputs": [
    {
     "data": {
      "text/plain": [
       "22"
      ]
     },
     "execution_count": 44,
     "metadata": {},
     "output_type": "execute_result"
    }
   ],
   "source": [
    "len(ratting)"
   ]
  },
  {
   "cell_type": "code",
   "execution_count": 131,
   "metadata": {},
   "outputs": [],
   "source": [
    "\n",
    "response.css(\"div.c82435a4b8:nth-child(8) > div:nth-child(1) > div:nth-child(2) > div:nth-child(1) > div:nth-child(2) > div:nth-child(2) > div:nth-child(1) > div:nth-child(2) > a:nth-child(1)::text\").css(\"a[href]::attr(href)\").get()\n",
    "response.css(\"html.b_firefox.b_firefox_136.supports_inline-block.supports_flexbox_unprefixed.supports_fontface.supports_hyphens.hasJS body#b2searchresultsPage.bookings2.b2.searchresults.fr.lang_is_ltr.header_reshuffle.no_bg_img.nobg.user_center.app_user_center.sb_gradient_border.b-sprite-3.ds-traveller-header.bigblue_std_sm.bigblue_std_lg.system-font.iq-x-bar.iq-x-bar-new div#bodyconstraint.bodyconstraint--full-width div#bodyconstraint-inner div div div.af5895d4b2 div.df7e6ba27d div.bcbf33c5c3 div.dcf496a7b9.bb2746aad9 div.d4924c9e74 div.c82435a4b8.a178069f51.a6ae3c2b40.a18aeea94d.d794b7a0f7.f53e278e95.c6710787a4 div.c066246e13.d8aec464ca div.c1edfbabcb div.c624d7469d.a0e60936ad.a3214e5942.b0db0e8ada div.b1037148f8.c730b02848 div.a4b53081e1 div.c624d7469d.a0e60936ad.a3214e5942.b23caa1645 div.da8b337763 a.a83ed08757.c21c56c305.a4c1805887.d691166b09.ab98298258.c082d89982.ff33faec5f::text\").css(\"a[href]::attr(href)\").get()\n",
    "response.css(\"a.a83ed08757.c21c56c305.a4c1805887.d691166b09.ab98298258.c082d89982.ff33faec5f::text\").css(\"a[href]::attr(href)\").get()\n",
    "\n"
   ]
  },
  {
   "cell_type": "code",
   "execution_count": null,
   "metadata": {},
   "outputs": [],
   "source": [
    "html.b_firefox.b_firefox_136.supports_inline-block.supports_flexbox_unprefixed.supports_fontface.supports_hyphens.hasJS body#b2searchresultsPage.bookings2.b2.searchresults.fr.lang_is_ltr.header_reshuffle.no_bg_img.nobg.user_center.app_user_center.sb_gradient_border.b-sprite-3.ds-traveller-header.bigblue_std_sm.bigblue_std_lg.system-font.iq-x-bar.iq-x-bar-new div#bodyconstraint.bodyconstraint--full-width div#bodyconstraint-inner div div div.af5895d4b2 div.df7e6ba27d div.bcbf33c5c3 div.dcf496a7b9.bb2746aad9 div.d4924c9e74 div.c82435a4b8.a178069f51.a6ae3c2b40.a18aeea94d.d794b7a0f7.f53e278e95.c6710787a4 div.c066246e13.d8aec464ca div.c1edfbabcb div.c624d7469d.a0e60936ad.a3214e5942.b0db0e8ada div.b1037148f8.c730b02848 div.a4b53081e1 div.c624d7469d.a0e60936ad.a3214e5942.b23caa1645 div.da8b337763 a.a83ed08757.c21c56c305.a4c1805887.d691166b09.ab98298258.c082d89982.ff33faec5f"
   ]
  },
  {
   "cell_type": "code",
   "execution_count": 58,
   "metadata": {},
   "outputs": [
    {
     "name": "stdout",
     "output_type": "stream",
     "text": [
      "None\n",
      "Hôtel Saint Louis\n"
     ]
    }
   ],
   "source": [
    "print(name)\n",
    "print(name2)"
   ]
  },
  {
   "cell_type": "code",
   "execution_count": null,
   "metadata": {},
   "outputs": [],
   "source": [
    "div.c82435a4b8:nth-child(5) > div:nth-child(1) > div:nth-child(2)"
   ]
  },
  {
   "cell_type": "code",
   "execution_count": 40,
   "metadata": {},
   "outputs": [
    {
     "data": {
      "text/plain": [
       "[]"
      ]
     },
     "execution_count": 40,
     "metadata": {},
     "output_type": "execute_result"
    }
   ],
   "source": [
    "response.css('div.f6431b446c a15b38c233')"
   ]
  },
  {
   "cell_type": "code",
   "execution_count": 37,
   "metadata": {},
   "outputs": [
    {
     "data": {
      "text/plain": [
       "'8,7'"
      ]
     },
     "execution_count": 37,
     "metadata": {},
     "output_type": "execute_result"
    }
   ],
   "source": [
    "xp_ratting=\"/html/body/div[4]/div/div/div/div[2]/div[3]/div[2]/div[2]/div[3]/div[4]/div[1]/div[2]/div/div[1]/div[2]/div/div/a/span/div/div[1]/div\"\n",
    "ratting = response.xpath(f\"{xp_ratting}/text()\").get()\n",
    "ratting = ratting.split()[-1]\n",
    "ratting"
   ]
  },
  {
   "cell_type": "code",
   "execution_count": 80,
   "metadata": {},
   "outputs": [],
   "source": [
    "xp_ratting=\"/html/body/div[4]/div/div/div/div[2]/div[3]/div[2]/div[2]/div[3]/div[4]/div[1]/div[2]/div/div[1]/div[2]/div/div/a/span/div/div[1]/div\"\n",
    "ratting = response.xpath(f\"{xp_ratting}/text()\").get()"
   ]
  },
  {
   "cell_type": "code",
   "execution_count": 242,
   "metadata": {},
   "outputs": [
    {
     "data": {
      "text/plain": [
       "'https://www.booking.com/searchresults.fr.html?ss=aigues&efdco=1&label=qwa121jc-1DCAEoggI46AdIM1gDaE2IAQGYAQ24ARfIAQ_YAQPoAQGIAgGoAgO4AoX3mr8GwAIB0gIkMDk1NzlmY2YtNjcwMy00MzdkLWFmNGItMzE3ODQzYzYxNWI32AIE4AIB&sid=f8c0b82bd17e0df0aab4997651af0857&aid=1588662&lang=fr&sb=1&src_elem=sb&src=index&dest_id=-1406800&dest_type=city&ac_position=0&ac_click_type=b&ac_langcode=fr&ac_suggestion_list_length=5&search_selected=true&search_pageview_id=9fc26a828ac01775&ac_meta=GhA5ZmMyNmE4MjhhYzAxNzc1IAAoATICZnI6BmFpZ3Vlc0AASgBQAA%3D%3D&checkin=2025-03-28&checkout=2025-03-29&group_adults=2&no_rooms=1&group_children=0'"
      ]
     },
     "execution_count": 242,
     "metadata": {},
     "output_type": "execute_result"
    }
   ],
   "source": [
    "url"
   ]
  },
  {
   "cell_type": "code",
   "execution_count": null,
   "metadata": {},
   "outputs": [],
   "source": [
    "xpath = \"/html/body/div[4]/div/div/div/div[2]/div[3]/div[2]/div[2]/div[3]/div[4]/div[1]/div[2]/div/div[2]/div[2]/div/div[2]\"\n"
   ]
  },
  {
   "cell_type": "code",
   "execution_count": 247,
   "metadata": {},
   "outputs": [
    {
     "ename": "SelectorSyntaxError",
     "evalue": "Unclosed string at 11 (<string>)",
     "output_type": "error",
     "traceback": [
      "Traceback \u001b[1;36m(most recent call last)\u001b[0m:\n",
      "\u001b[0m  File \u001b[0;32mc:\\Users\\Myriam\\anaconda3\\envs\\myenv\\lib\\site-packages\\IPython\\core\\interactiveshell.py:3579\u001b[0m in \u001b[0;35mrun_code\u001b[0m\n    exec(code_obj, self.user_global_ns, self.user_ns)\u001b[0m\n",
      "\u001b[0m  Cell \u001b[0;32mIn[247], line 1\u001b[0m\n    response.css(\"div [class='da8b337763]\").css(\"a[herf]::attr(herf)\").get()\u001b[0m\n",
      "\u001b[0m  File \u001b[0;32mc:\\Users\\Myriam\\anaconda3\\envs\\myenv\\lib\\site-packages\\parsel\\selector.py:655\u001b[0m in \u001b[0;35mcss\u001b[0m\n    return self.xpath(self._css2xpath(query))\u001b[0m\n",
      "\u001b[0m  File \u001b[0;32mc:\\Users\\Myriam\\anaconda3\\envs\\myenv\\lib\\site-packages\\parsel\\selector.py:659\u001b[0m in \u001b[0;35m_css2xpath\u001b[0m\n    return _ctgroup[type][\"_csstranslator\"].css_to_xpath(query)\u001b[0m\n",
      "\u001b[0m  File \u001b[0;32mc:\\Users\\Myriam\\anaconda3\\envs\\myenv\\lib\\site-packages\\parsel\\csstranslator.py:137\u001b[0m in \u001b[0;35mcss_to_xpath\u001b[0m\n    return super().css_to_xpath(css, prefix)\u001b[0m\n",
      "\u001b[0m  File \u001b[0;32mc:\\Users\\Myriam\\anaconda3\\envs\\myenv\\lib\\site-packages\\cssselect\\xpath.py:223\u001b[0m in \u001b[0;35mcss_to_xpath\u001b[0m\n    for selector in parse(css)\u001b[0m\n",
      "\u001b[0m  File \u001b[0;32mc:\\Users\\Myriam\\anaconda3\\envs\\myenv\\lib\\site-packages\\cssselect\\parser.py:529\u001b[0m in \u001b[0;35mparse\u001b[0m\n    return list(parse_selector_group(stream))\u001b[0m\n",
      "\u001b[0m  File \u001b[0;32mc:\\Users\\Myriam\\anaconda3\\envs\\myenv\\lib\\site-packages\\cssselect\\parser.py:544\u001b[0m in \u001b[0;35mparse_selector_group\u001b[0m\n    yield Selector(*parse_selector(stream))\u001b[0m\n",
      "\u001b[0m  File \u001b[0;32mc:\\Users\\Myriam\\anaconda3\\envs\\myenv\\lib\\site-packages\\cssselect\\parser.py:571\u001b[0m in \u001b[0;35mparse_selector\u001b[0m\n    next_selector, pseudo_element = parse_simple_selector(stream)\u001b[0m\n",
      "\u001b[0m  File \u001b[0;32mc:\\Users\\Myriam\\anaconda3\\envs\\myenv\\lib\\site-packages\\cssselect\\parser.py:620\u001b[0m in \u001b[0;35mparse_simple_selector\u001b[0m\n    result = parse_attrib(result, stream)\u001b[0m\n",
      "\u001b[0m  File \u001b[0;32mc:\\Users\\Myriam\\anaconda3\\envs\\myenv\\lib\\site-packages\\cssselect\\parser.py:787\u001b[0m in \u001b[0;35mparse_attrib\u001b[0m\n    stream.skip_whitespace()\u001b[0m\n",
      "\u001b[0m  File \u001b[0;32mc:\\Users\\Myriam\\anaconda3\\envs\\myenv\\lib\\site-packages\\cssselect\\parser.py:1044\u001b[0m in \u001b[0;35mskip_whitespace\u001b[0m\n    peek = self.peek()\u001b[0m\n",
      "\u001b[0m  File \u001b[0;32mc:\\Users\\Myriam\\anaconda3\\envs\\myenv\\lib\\site-packages\\cssselect\\parser.py:1024\u001b[0m in \u001b[0;35mpeek\u001b[0m\n    self.peeked = self.next_token()\u001b[0m\n",
      "\u001b[1;36m  File \u001b[1;32mc:\\Users\\Myriam\\anaconda3\\envs\\myenv\\lib\\site-packages\\cssselect\\parser.py:967\u001b[1;36m in \u001b[1;35mtokenize\u001b[1;36m\n\u001b[1;33m    raise SelectorSyntaxError(f\"Unclosed string at {pos}\")\u001b[1;36m\n",
      "\u001b[1;36m  File \u001b[1;32m<string>\u001b[1;36m\u001b[0m\n\u001b[1;31mSelectorSyntaxError\u001b[0m\u001b[1;31m:\u001b[0m Unclosed string at 11\n"
     ]
    }
   ],
   "source": [
    "response.css(\"div [class='da8b337763]\").css(\"a[herf]::attr(herf)\").get()\n",
    "\n",
    "\n"
   ]
  },
  {
   "cell_type": "code",
   "execution_count": null,
   "metadata": {},
   "outputs": [],
   "source": [
    "global_endpoint + response.css(\"nav li[class='next']\").css(\"a[href]::attr(href)\").get()"
   ]
  },
  {
   "cell_type": "code",
   "execution_count": null,
   "metadata": {},
   "outputs": [],
   "source": [
    "<span class=\"e4adce92df\">Voir les disponibilités</span><span class=\"eedba9e88a d7eef963fa\"><span class=\"fcd9eec8fb bf9a32efa5\" aria-hidden=\"true\"><span data-testid=\"availability-cta-icon\" class=\"fcd9eec8fb bf9a32efa5\" aria-hidden=\"true\"><svg xmlns=\"http://www.w3.org/2000/svg\" viewBox=\"0 0 24 24\" width=\"50px\" data-rtl-flip=\"true\"><path d=\"M8.913 19.236a.9.9 0 0 0 .642-.266l6.057-6.057a1.3 1.3 0 0 0 .388-.945c.008-.35-.123-.69-.364-.945L9.58 4.966a.91.91 0 0 0-1.284 0 .896.896 0 0 0 0 1.284l5.694 5.718-5.718 5.718a.896.896 0 0 0 0 1.284.88.88 0 0 0 .642.266\"></path></svg></span></span></span>"
   ]
  },
  {
   "cell_type": "code",
   "execution_count": null,
   "metadata": {},
   "outputs": [
    {
     "data": {
      "text/plain": [
       "'8,7'"
      ]
     },
     "execution_count": 224,
     "metadata": {},
     "output_type": "execute_result"
    }
   ],
   "source": []
  },
  {
   "cell_type": "code",
   "execution_count": 223,
   "metadata": {},
   "outputs": [
    {
     "name": "stdout",
     "output_type": "stream",
     "text": [
      "Hôtel Le Médiéval\n",
      "8,7\n"
     ]
    }
   ],
   "source": [
    "print(hotel_name)\n",
    "print(ratting)"
   ]
  },
  {
   "cell_type": "code",
   "execution_count": 225,
   "metadata": {},
   "outputs": [],
   "source": [
    "url2 = \"https://www.booking.com/hotel/fr/le-medieval.fr.html?aid=1588662&label=qwa121jc-1BCAEoggI46AdIM1gDaE2IAQGYAQ24ARfIAQ_YAQHoAQGIAgGoAgO4AoX3mr8GwAIB0gIkMDk1NzlmY2YtNjcwMy00MzdkLWFmNGItMzE3ODQzYzYxNWI32AIF4AIB&sid=f8c0b82bd17e0df0aab4997651af0857&all_sr_blocks=25855901_400539506_0_2_0&checkin=2025-03-28&checkout=2025-03-29&dest_id=-1406800&dest_type=city&dist=0&group_adults=2&group_children=0&hapos=1&highlighted_blocks=25855901_400539506_0_2_0&hpos=1&matching_block_id=25855901_400539506_0_2_0&no_rooms=1&req_adults=2&req_children=0&room1=A%2CA&sb_price_type=total&sr_order=popularity&sr_pri_blocks=25855901_400539506_0_2_0__8520&srepoch=1743176548&srpvid=72b26b676ce90250&type=total&ucfs=1&\"\n",
    "\n",
    "headers = {\n",
    "    'User-Agent': 'Mozilla/5.0 (Windows NT 10.0; Win64; x64) AppleWebKit/537.36 (KHTML, like Gecko) Chrome/58.0.3029.110 Safari/537.3'\n",
    "}\n",
    "\n",
    "r = requests.get(url2, headers=headers)\n",
    "\n",
    "response = Selector(text=r.text)"
   ]
  },
  {
   "cell_type": "code",
   "execution_count": 227,
   "metadata": {},
   "outputs": [],
   "source": [
    "xp_desc = \"/html/body/div[4]/div/div[4]/div[1]/div[1]/div[2]/div/div[1]/div[1]/div[1]/div/div/p[1]\"\n",
    "description = response.xpath(f\"{xp_desc}/text()\").get()"
   ]
  },
  {
   "cell_type": "code",
   "execution_count": 228,
   "metadata": {},
   "outputs": [
    {
     "data": {
      "text/plain": [
       "\"L'Hôtel Le Médiéval est situé sur les rives du canal d'Aigues-Mortes, à 30 km de Montpellier. Il propose des chambres pourvues d'une salle de bains privative, d'un parking gratuit et d'une piscine extérieure.\\n\\nL'Hôtel Le Médiéval propose chaque jour un petit-déjeuner buffet continental qui peut être dégusté sur la terrasse quand le temps le permet. Une connexion Wi-Fi est disponible gratuitement dans les parties communes.\\n\\nUn parking privé gratuit est disponible sur place. Une promenade de 2 minutes vous mènera aux remparts médiévaux.\""
      ]
     },
     "execution_count": 228,
     "metadata": {},
     "output_type": "execute_result"
    }
   ],
   "source": [
    "description"
   ]
  },
  {
   "cell_type": "code",
   "execution_count": 229,
   "metadata": {},
   "outputs": [],
   "source": [
    "xp_desc = \"/html/body/div[4]/div/div/div/div[2]/div[3]/div[2]/div[2]/div[3]/div[4]/div[1]/div[2]/div/div[1]/div[1]/div/div[1]/div/h3/a/div[2]\"\n",
    "description = response.xpath(f\"{xp_desc}/text()\").get()"
   ]
  },
  {
   "cell_type": "markdown",
   "metadata": {},
   "source": [
    "## La Rochelle"
   ]
  },
  {
   "cell_type": "code",
   "execution_count": 85,
   "metadata": {},
   "outputs": [
    {
     "ename": "ConnectTimeout",
     "evalue": "HTTPSConnectionPool(host='www.booking.com', port=443): Max retries exceeded with url: /searchresults.fr.html?ss=La+Rochelle&ssne=La+Rochelle&ssne_untouched=La+Rochelle&label=qwa121jc-1DCAEoggI46AdIM1gDaE2IAQGYAQ24ARfIAQ_YAQPoAQGIAgGoAgO4AoX3mr8GwAIB0gIkMDk1NzlmY2YtNjcwMy00MzdkLWFmNGItMzE3ODQzYzYxNWI32AIE4AIB&sid=b10d6df758b0e059011bf7be0724e09f&aid=1588662&lang=fr&sb=1&src_elem=sb&src=index&dest_id=-1438604&dest_type=city&checkin=2025-04-16&checkout=2025-04-17&group_adults=2&no_rooms=1&group_children=0 (Caused by ConnectTimeoutError(<urllib3.connection.HTTPSConnection object at 0x000001AD425E3CD0>, 'Connection to www.booking.com timed out. (connect timeout=None)'))",
     "output_type": "error",
     "traceback": [
      "\u001b[1;31m---------------------------------------------------------------------------\u001b[0m",
      "\u001b[1;31mTimeoutError\u001b[0m                              Traceback (most recent call last)",
      "File \u001b[1;32mc:\\Users\\Myriam\\anaconda3\\envs\\myenv\\lib\\site-packages\\urllib3\\connection.py:198\u001b[0m, in \u001b[0;36mHTTPConnection._new_conn\u001b[1;34m(self)\u001b[0m\n\u001b[0;32m    197\u001b[0m \u001b[38;5;28;01mtry\u001b[39;00m:\n\u001b[1;32m--> 198\u001b[0m     sock \u001b[38;5;241m=\u001b[39m \u001b[43mconnection\u001b[49m\u001b[38;5;241;43m.\u001b[39;49m\u001b[43mcreate_connection\u001b[49m\u001b[43m(\u001b[49m\n\u001b[0;32m    199\u001b[0m \u001b[43m        \u001b[49m\u001b[43m(\u001b[49m\u001b[38;5;28;43mself\u001b[39;49m\u001b[38;5;241;43m.\u001b[39;49m\u001b[43m_dns_host\u001b[49m\u001b[43m,\u001b[49m\u001b[43m \u001b[49m\u001b[38;5;28;43mself\u001b[39;49m\u001b[38;5;241;43m.\u001b[39;49m\u001b[43mport\u001b[49m\u001b[43m)\u001b[49m\u001b[43m,\u001b[49m\n\u001b[0;32m    200\u001b[0m \u001b[43m        \u001b[49m\u001b[38;5;28;43mself\u001b[39;49m\u001b[38;5;241;43m.\u001b[39;49m\u001b[43mtimeout\u001b[49m\u001b[43m,\u001b[49m\n\u001b[0;32m    201\u001b[0m \u001b[43m        \u001b[49m\u001b[43msource_address\u001b[49m\u001b[38;5;241;43m=\u001b[39;49m\u001b[38;5;28;43mself\u001b[39;49m\u001b[38;5;241;43m.\u001b[39;49m\u001b[43msource_address\u001b[49m\u001b[43m,\u001b[49m\n\u001b[0;32m    202\u001b[0m \u001b[43m        \u001b[49m\u001b[43msocket_options\u001b[49m\u001b[38;5;241;43m=\u001b[39;49m\u001b[38;5;28;43mself\u001b[39;49m\u001b[38;5;241;43m.\u001b[39;49m\u001b[43msocket_options\u001b[49m\u001b[43m,\u001b[49m\n\u001b[0;32m    203\u001b[0m \u001b[43m    \u001b[49m\u001b[43m)\u001b[49m\n\u001b[0;32m    204\u001b[0m \u001b[38;5;28;01mexcept\u001b[39;00m socket\u001b[38;5;241m.\u001b[39mgaierror \u001b[38;5;28;01mas\u001b[39;00m e:\n",
      "File \u001b[1;32mc:\\Users\\Myriam\\anaconda3\\envs\\myenv\\lib\\site-packages\\urllib3\\util\\connection.py:85\u001b[0m, in \u001b[0;36mcreate_connection\u001b[1;34m(address, timeout, source_address, socket_options)\u001b[0m\n\u001b[0;32m     84\u001b[0m \u001b[38;5;28;01mtry\u001b[39;00m:\n\u001b[1;32m---> 85\u001b[0m     \u001b[38;5;28;01mraise\u001b[39;00m err\n\u001b[0;32m     86\u001b[0m \u001b[38;5;28;01mfinally\u001b[39;00m:\n\u001b[0;32m     87\u001b[0m     \u001b[38;5;66;03m# Break explicitly a reference cycle\u001b[39;00m\n",
      "File \u001b[1;32mc:\\Users\\Myriam\\anaconda3\\envs\\myenv\\lib\\site-packages\\urllib3\\util\\connection.py:73\u001b[0m, in \u001b[0;36mcreate_connection\u001b[1;34m(address, timeout, source_address, socket_options)\u001b[0m\n\u001b[0;32m     72\u001b[0m     sock\u001b[38;5;241m.\u001b[39mbind(source_address)\n\u001b[1;32m---> 73\u001b[0m \u001b[43msock\u001b[49m\u001b[38;5;241;43m.\u001b[39;49m\u001b[43mconnect\u001b[49m\u001b[43m(\u001b[49m\u001b[43msa\u001b[49m\u001b[43m)\u001b[49m\n\u001b[0;32m     74\u001b[0m \u001b[38;5;66;03m# Break explicitly a reference cycle\u001b[39;00m\n",
      "\u001b[1;31mTimeoutError\u001b[0m: [WinError 10060] Une tentative de connexion a échoué car le parti connecté n’a pas répondu convenablement au-delà d’une certaine durée ou une connexion établie a échoué car l’hôte de connexion n’a pas répondu",
      "\nThe above exception was the direct cause of the following exception:\n",
      "\u001b[1;31mConnectTimeoutError\u001b[0m                       Traceback (most recent call last)",
      "File \u001b[1;32mc:\\Users\\Myriam\\anaconda3\\envs\\myenv\\lib\\site-packages\\urllib3\\connectionpool.py:787\u001b[0m, in \u001b[0;36mHTTPConnectionPool.urlopen\u001b[1;34m(self, method, url, body, headers, retries, redirect, assert_same_host, timeout, pool_timeout, release_conn, chunked, body_pos, preload_content, decode_content, **response_kw)\u001b[0m\n\u001b[0;32m    786\u001b[0m \u001b[38;5;66;03m# Make the request on the HTTPConnection object\u001b[39;00m\n\u001b[1;32m--> 787\u001b[0m response \u001b[38;5;241m=\u001b[39m \u001b[38;5;28mself\u001b[39m\u001b[38;5;241m.\u001b[39m_make_request(\n\u001b[0;32m    788\u001b[0m     conn,\n\u001b[0;32m    789\u001b[0m     method,\n\u001b[0;32m    790\u001b[0m     url,\n\u001b[0;32m    791\u001b[0m     timeout\u001b[38;5;241m=\u001b[39mtimeout_obj,\n\u001b[0;32m    792\u001b[0m     body\u001b[38;5;241m=\u001b[39mbody,\n\u001b[0;32m    793\u001b[0m     headers\u001b[38;5;241m=\u001b[39mheaders,\n\u001b[0;32m    794\u001b[0m     chunked\u001b[38;5;241m=\u001b[39mchunked,\n\u001b[0;32m    795\u001b[0m     retries\u001b[38;5;241m=\u001b[39mretries,\n\u001b[0;32m    796\u001b[0m     response_conn\u001b[38;5;241m=\u001b[39mresponse_conn,\n\u001b[0;32m    797\u001b[0m     preload_content\u001b[38;5;241m=\u001b[39mpreload_content,\n\u001b[0;32m    798\u001b[0m     decode_content\u001b[38;5;241m=\u001b[39mdecode_content,\n\u001b[0;32m    799\u001b[0m     \u001b[38;5;241m*\u001b[39m\u001b[38;5;241m*\u001b[39mresponse_kw,\n\u001b[0;32m    800\u001b[0m )\n\u001b[0;32m    802\u001b[0m \u001b[38;5;66;03m# Everything went great!\u001b[39;00m\n",
      "File \u001b[1;32mc:\\Users\\Myriam\\anaconda3\\envs\\myenv\\lib\\site-packages\\urllib3\\connectionpool.py:488\u001b[0m, in \u001b[0;36mHTTPConnectionPool._make_request\u001b[1;34m(self, conn, method, url, body, headers, retries, timeout, chunked, response_conn, preload_content, decode_content, enforce_content_length)\u001b[0m\n\u001b[0;32m    487\u001b[0m         new_e \u001b[38;5;241m=\u001b[39m _wrap_proxy_error(new_e, conn\u001b[38;5;241m.\u001b[39mproxy\u001b[38;5;241m.\u001b[39mscheme)\n\u001b[1;32m--> 488\u001b[0m     \u001b[38;5;28;01mraise\u001b[39;00m new_e\n\u001b[0;32m    490\u001b[0m \u001b[38;5;66;03m# conn.request() calls http.client.*.request, not the method in\u001b[39;00m\n\u001b[0;32m    491\u001b[0m \u001b[38;5;66;03m# urllib3.request. It also calls makefile (recv) on the socket.\u001b[39;00m\n",
      "File \u001b[1;32mc:\\Users\\Myriam\\anaconda3\\envs\\myenv\\lib\\site-packages\\urllib3\\connectionpool.py:464\u001b[0m, in \u001b[0;36mHTTPConnectionPool._make_request\u001b[1;34m(self, conn, method, url, body, headers, retries, timeout, chunked, response_conn, preload_content, decode_content, enforce_content_length)\u001b[0m\n\u001b[0;32m    463\u001b[0m \u001b[38;5;28;01mtry\u001b[39;00m:\n\u001b[1;32m--> 464\u001b[0m     \u001b[38;5;28;43mself\u001b[39;49m\u001b[38;5;241;43m.\u001b[39;49m\u001b[43m_validate_conn\u001b[49m\u001b[43m(\u001b[49m\u001b[43mconn\u001b[49m\u001b[43m)\u001b[49m\n\u001b[0;32m    465\u001b[0m \u001b[38;5;28;01mexcept\u001b[39;00m (SocketTimeout, BaseSSLError) \u001b[38;5;28;01mas\u001b[39;00m e:\n",
      "File \u001b[1;32mc:\\Users\\Myriam\\anaconda3\\envs\\myenv\\lib\\site-packages\\urllib3\\connectionpool.py:1093\u001b[0m, in \u001b[0;36mHTTPSConnectionPool._validate_conn\u001b[1;34m(self, conn)\u001b[0m\n\u001b[0;32m   1092\u001b[0m \u001b[38;5;28;01mif\u001b[39;00m conn\u001b[38;5;241m.\u001b[39mis_closed:\n\u001b[1;32m-> 1093\u001b[0m     \u001b[43mconn\u001b[49m\u001b[38;5;241;43m.\u001b[39;49m\u001b[43mconnect\u001b[49m\u001b[43m(\u001b[49m\u001b[43m)\u001b[49m\n\u001b[0;32m   1095\u001b[0m \u001b[38;5;66;03m# TODO revise this, see https://github.com/urllib3/urllib3/issues/2791\u001b[39;00m\n",
      "File \u001b[1;32mc:\\Users\\Myriam\\anaconda3\\envs\\myenv\\lib\\site-packages\\urllib3\\connection.py:704\u001b[0m, in \u001b[0;36mHTTPSConnection.connect\u001b[1;34m(self)\u001b[0m\n\u001b[0;32m    703\u001b[0m sock: socket\u001b[38;5;241m.\u001b[39msocket \u001b[38;5;241m|\u001b[39m ssl\u001b[38;5;241m.\u001b[39mSSLSocket\n\u001b[1;32m--> 704\u001b[0m \u001b[38;5;28mself\u001b[39m\u001b[38;5;241m.\u001b[39msock \u001b[38;5;241m=\u001b[39m sock \u001b[38;5;241m=\u001b[39m \u001b[38;5;28;43mself\u001b[39;49m\u001b[38;5;241;43m.\u001b[39;49m\u001b[43m_new_conn\u001b[49m\u001b[43m(\u001b[49m\u001b[43m)\u001b[49m\n\u001b[0;32m    705\u001b[0m server_hostname: \u001b[38;5;28mstr\u001b[39m \u001b[38;5;241m=\u001b[39m \u001b[38;5;28mself\u001b[39m\u001b[38;5;241m.\u001b[39mhost\n",
      "File \u001b[1;32mc:\\Users\\Myriam\\anaconda3\\envs\\myenv\\lib\\site-packages\\urllib3\\connection.py:207\u001b[0m, in \u001b[0;36mHTTPConnection._new_conn\u001b[1;34m(self)\u001b[0m\n\u001b[0;32m    206\u001b[0m \u001b[38;5;28;01mexcept\u001b[39;00m SocketTimeout \u001b[38;5;28;01mas\u001b[39;00m e:\n\u001b[1;32m--> 207\u001b[0m     \u001b[38;5;28;01mraise\u001b[39;00m ConnectTimeoutError(\n\u001b[0;32m    208\u001b[0m         \u001b[38;5;28mself\u001b[39m,\n\u001b[0;32m    209\u001b[0m         \u001b[38;5;124mf\u001b[39m\u001b[38;5;124m\"\u001b[39m\u001b[38;5;124mConnection to \u001b[39m\u001b[38;5;132;01m{\u001b[39;00m\u001b[38;5;28mself\u001b[39m\u001b[38;5;241m.\u001b[39mhost\u001b[38;5;132;01m}\u001b[39;00m\u001b[38;5;124m timed out. (connect timeout=\u001b[39m\u001b[38;5;132;01m{\u001b[39;00m\u001b[38;5;28mself\u001b[39m\u001b[38;5;241m.\u001b[39mtimeout\u001b[38;5;132;01m}\u001b[39;00m\u001b[38;5;124m)\u001b[39m\u001b[38;5;124m\"\u001b[39m,\n\u001b[0;32m    210\u001b[0m     ) \u001b[38;5;28;01mfrom\u001b[39;00m\u001b[38;5;250m \u001b[39m\u001b[38;5;21;01me\u001b[39;00m\n\u001b[0;32m    212\u001b[0m \u001b[38;5;28;01mexcept\u001b[39;00m \u001b[38;5;167;01mOSError\u001b[39;00m \u001b[38;5;28;01mas\u001b[39;00m e:\n",
      "\u001b[1;31mConnectTimeoutError\u001b[0m: (<urllib3.connection.HTTPSConnection object at 0x000001AD425E3CD0>, 'Connection to www.booking.com timed out. (connect timeout=None)')",
      "\nThe above exception was the direct cause of the following exception:\n",
      "\u001b[1;31mMaxRetryError\u001b[0m                             Traceback (most recent call last)",
      "File \u001b[1;32mc:\\Users\\Myriam\\anaconda3\\envs\\myenv\\lib\\site-packages\\requests\\adapters.py:667\u001b[0m, in \u001b[0;36mHTTPAdapter.send\u001b[1;34m(self, request, stream, timeout, verify, cert, proxies)\u001b[0m\n\u001b[0;32m    666\u001b[0m \u001b[38;5;28;01mtry\u001b[39;00m:\n\u001b[1;32m--> 667\u001b[0m     resp \u001b[38;5;241m=\u001b[39m \u001b[43mconn\u001b[49m\u001b[38;5;241;43m.\u001b[39;49m\u001b[43murlopen\u001b[49m\u001b[43m(\u001b[49m\n\u001b[0;32m    668\u001b[0m \u001b[43m        \u001b[49m\u001b[43mmethod\u001b[49m\u001b[38;5;241;43m=\u001b[39;49m\u001b[43mrequest\u001b[49m\u001b[38;5;241;43m.\u001b[39;49m\u001b[43mmethod\u001b[49m\u001b[43m,\u001b[49m\n\u001b[0;32m    669\u001b[0m \u001b[43m        \u001b[49m\u001b[43murl\u001b[49m\u001b[38;5;241;43m=\u001b[39;49m\u001b[43murl\u001b[49m\u001b[43m,\u001b[49m\n\u001b[0;32m    670\u001b[0m \u001b[43m        \u001b[49m\u001b[43mbody\u001b[49m\u001b[38;5;241;43m=\u001b[39;49m\u001b[43mrequest\u001b[49m\u001b[38;5;241;43m.\u001b[39;49m\u001b[43mbody\u001b[49m\u001b[43m,\u001b[49m\n\u001b[0;32m    671\u001b[0m \u001b[43m        \u001b[49m\u001b[43mheaders\u001b[49m\u001b[38;5;241;43m=\u001b[39;49m\u001b[43mrequest\u001b[49m\u001b[38;5;241;43m.\u001b[39;49m\u001b[43mheaders\u001b[49m\u001b[43m,\u001b[49m\n\u001b[0;32m    672\u001b[0m \u001b[43m        \u001b[49m\u001b[43mredirect\u001b[49m\u001b[38;5;241;43m=\u001b[39;49m\u001b[38;5;28;43;01mFalse\u001b[39;49;00m\u001b[43m,\u001b[49m\n\u001b[0;32m    673\u001b[0m \u001b[43m        \u001b[49m\u001b[43massert_same_host\u001b[49m\u001b[38;5;241;43m=\u001b[39;49m\u001b[38;5;28;43;01mFalse\u001b[39;49;00m\u001b[43m,\u001b[49m\n\u001b[0;32m    674\u001b[0m \u001b[43m        \u001b[49m\u001b[43mpreload_content\u001b[49m\u001b[38;5;241;43m=\u001b[39;49m\u001b[38;5;28;43;01mFalse\u001b[39;49;00m\u001b[43m,\u001b[49m\n\u001b[0;32m    675\u001b[0m \u001b[43m        \u001b[49m\u001b[43mdecode_content\u001b[49m\u001b[38;5;241;43m=\u001b[39;49m\u001b[38;5;28;43;01mFalse\u001b[39;49;00m\u001b[43m,\u001b[49m\n\u001b[0;32m    676\u001b[0m \u001b[43m        \u001b[49m\u001b[43mretries\u001b[49m\u001b[38;5;241;43m=\u001b[39;49m\u001b[38;5;28;43mself\u001b[39;49m\u001b[38;5;241;43m.\u001b[39;49m\u001b[43mmax_retries\u001b[49m\u001b[43m,\u001b[49m\n\u001b[0;32m    677\u001b[0m \u001b[43m        \u001b[49m\u001b[43mtimeout\u001b[49m\u001b[38;5;241;43m=\u001b[39;49m\u001b[43mtimeout\u001b[49m\u001b[43m,\u001b[49m\n\u001b[0;32m    678\u001b[0m \u001b[43m        \u001b[49m\u001b[43mchunked\u001b[49m\u001b[38;5;241;43m=\u001b[39;49m\u001b[43mchunked\u001b[49m\u001b[43m,\u001b[49m\n\u001b[0;32m    679\u001b[0m \u001b[43m    \u001b[49m\u001b[43m)\u001b[49m\n\u001b[0;32m    681\u001b[0m \u001b[38;5;28;01mexcept\u001b[39;00m (ProtocolError, \u001b[38;5;167;01mOSError\u001b[39;00m) \u001b[38;5;28;01mas\u001b[39;00m err:\n",
      "File \u001b[1;32mc:\\Users\\Myriam\\anaconda3\\envs\\myenv\\lib\\site-packages\\urllib3\\connectionpool.py:841\u001b[0m, in \u001b[0;36mHTTPConnectionPool.urlopen\u001b[1;34m(self, method, url, body, headers, retries, redirect, assert_same_host, timeout, pool_timeout, release_conn, chunked, body_pos, preload_content, decode_content, **response_kw)\u001b[0m\n\u001b[0;32m    839\u001b[0m     new_e \u001b[38;5;241m=\u001b[39m ProtocolError(\u001b[38;5;124m\"\u001b[39m\u001b[38;5;124mConnection aborted.\u001b[39m\u001b[38;5;124m\"\u001b[39m, new_e)\n\u001b[1;32m--> 841\u001b[0m retries \u001b[38;5;241m=\u001b[39m \u001b[43mretries\u001b[49m\u001b[38;5;241;43m.\u001b[39;49m\u001b[43mincrement\u001b[49m\u001b[43m(\u001b[49m\n\u001b[0;32m    842\u001b[0m \u001b[43m    \u001b[49m\u001b[43mmethod\u001b[49m\u001b[43m,\u001b[49m\u001b[43m \u001b[49m\u001b[43murl\u001b[49m\u001b[43m,\u001b[49m\u001b[43m \u001b[49m\u001b[43merror\u001b[49m\u001b[38;5;241;43m=\u001b[39;49m\u001b[43mnew_e\u001b[49m\u001b[43m,\u001b[49m\u001b[43m \u001b[49m\u001b[43m_pool\u001b[49m\u001b[38;5;241;43m=\u001b[39;49m\u001b[38;5;28;43mself\u001b[39;49m\u001b[43m,\u001b[49m\u001b[43m \u001b[49m\u001b[43m_stacktrace\u001b[49m\u001b[38;5;241;43m=\u001b[39;49m\u001b[43msys\u001b[49m\u001b[38;5;241;43m.\u001b[39;49m\u001b[43mexc_info\u001b[49m\u001b[43m(\u001b[49m\u001b[43m)\u001b[49m\u001b[43m[\u001b[49m\u001b[38;5;241;43m2\u001b[39;49m\u001b[43m]\u001b[49m\n\u001b[0;32m    843\u001b[0m \u001b[43m\u001b[49m\u001b[43m)\u001b[49m\n\u001b[0;32m    844\u001b[0m retries\u001b[38;5;241m.\u001b[39msleep()\n",
      "File \u001b[1;32mc:\\Users\\Myriam\\anaconda3\\envs\\myenv\\lib\\site-packages\\urllib3\\util\\retry.py:519\u001b[0m, in \u001b[0;36mRetry.increment\u001b[1;34m(self, method, url, response, error, _pool, _stacktrace)\u001b[0m\n\u001b[0;32m    518\u001b[0m     reason \u001b[38;5;241m=\u001b[39m error \u001b[38;5;129;01mor\u001b[39;00m ResponseError(cause)\n\u001b[1;32m--> 519\u001b[0m     \u001b[38;5;28;01mraise\u001b[39;00m MaxRetryError(_pool, url, reason) \u001b[38;5;28;01mfrom\u001b[39;00m\u001b[38;5;250m \u001b[39m\u001b[38;5;21;01mreason\u001b[39;00m  \u001b[38;5;66;03m# type: ignore[arg-type]\u001b[39;00m\n\u001b[0;32m    521\u001b[0m log\u001b[38;5;241m.\u001b[39mdebug(\u001b[38;5;124m\"\u001b[39m\u001b[38;5;124mIncremented Retry for (url=\u001b[39m\u001b[38;5;124m'\u001b[39m\u001b[38;5;132;01m%s\u001b[39;00m\u001b[38;5;124m'\u001b[39m\u001b[38;5;124m): \u001b[39m\u001b[38;5;132;01m%r\u001b[39;00m\u001b[38;5;124m\"\u001b[39m, url, new_retry)\n",
      "\u001b[1;31mMaxRetryError\u001b[0m: HTTPSConnectionPool(host='www.booking.com', port=443): Max retries exceeded with url: /searchresults.fr.html?ss=La+Rochelle&ssne=La+Rochelle&ssne_untouched=La+Rochelle&label=qwa121jc-1DCAEoggI46AdIM1gDaE2IAQGYAQ24ARfIAQ_YAQPoAQGIAgGoAgO4AoX3mr8GwAIB0gIkMDk1NzlmY2YtNjcwMy00MzdkLWFmNGItMzE3ODQzYzYxNWI32AIE4AIB&sid=b10d6df758b0e059011bf7be0724e09f&aid=1588662&lang=fr&sb=1&src_elem=sb&src=index&dest_id=-1438604&dest_type=city&checkin=2025-04-16&checkout=2025-04-17&group_adults=2&no_rooms=1&group_children=0 (Caused by ConnectTimeoutError(<urllib3.connection.HTTPSConnection object at 0x000001AD425E3CD0>, 'Connection to www.booking.com timed out. (connect timeout=None)'))",
      "\nDuring handling of the above exception, another exception occurred:\n",
      "\u001b[1;31mConnectTimeout\u001b[0m                            Traceback (most recent call last)",
      "Cell \u001b[1;32mIn[85], line 7\u001b[0m\n\u001b[0;32m      5\u001b[0m url_LaRochelle \u001b[38;5;241m=\u001b[39m \u001b[38;5;124m\"\u001b[39m\u001b[38;5;124mhttps://www.booking.com/searchresults.fr.html?ss=La+Rochelle&ssne=La+Rochelle&ssne_untouched=La+Rochelle&label=qwa121jc-1DCAEoggI46AdIM1gDaE2IAQGYAQ24ARfIAQ_YAQPoAQGIAgGoAgO4AoX3mr8GwAIB0gIkMDk1NzlmY2YtNjcwMy00MzdkLWFmNGItMzE3ODQzYzYxNWI32AIE4AIB&sid=b10d6df758b0e059011bf7be0724e09f&aid=1588662&lang=fr&sb=1&src_elem=sb&src=index&dest_id=-1438604&dest_type=city&checkin=2025-04-16&checkout=2025-04-17&group_adults=2&no_rooms=1&group_children=0\u001b[39m\u001b[38;5;124m\"\u001b[39m\n\u001b[0;32m      6\u001b[0m url \u001b[38;5;241m=\u001b[39m url_LaRochelle\n\u001b[1;32m----> 7\u001b[0m r \u001b[38;5;241m=\u001b[39m \u001b[43mrequests\u001b[49m\u001b[38;5;241;43m.\u001b[39;49m\u001b[43mget\u001b[49m\u001b[43m(\u001b[49m\u001b[43murl\u001b[49m\u001b[43m,\u001b[49m\u001b[43m \u001b[49m\u001b[43mheaders\u001b[49m\u001b[38;5;241;43m=\u001b[39;49m\u001b[43mheaders\u001b[49m\u001b[43m)\u001b[49m\n\u001b[0;32m      9\u001b[0m response \u001b[38;5;241m=\u001b[39m Selector(text\u001b[38;5;241m=\u001b[39mr\u001b[38;5;241m.\u001b[39mtext)\n",
      "File \u001b[1;32mc:\\Users\\Myriam\\anaconda3\\envs\\myenv\\lib\\site-packages\\requests\\api.py:73\u001b[0m, in \u001b[0;36mget\u001b[1;34m(url, params, **kwargs)\u001b[0m\n\u001b[0;32m     62\u001b[0m \u001b[38;5;28;01mdef\u001b[39;00m\u001b[38;5;250m \u001b[39m\u001b[38;5;21mget\u001b[39m(url, params\u001b[38;5;241m=\u001b[39m\u001b[38;5;28;01mNone\u001b[39;00m, \u001b[38;5;241m*\u001b[39m\u001b[38;5;241m*\u001b[39mkwargs):\n\u001b[0;32m     63\u001b[0m \u001b[38;5;250m    \u001b[39m\u001b[38;5;124mr\u001b[39m\u001b[38;5;124;03m\"\"\"Sends a GET request.\u001b[39;00m\n\u001b[0;32m     64\u001b[0m \n\u001b[0;32m     65\u001b[0m \u001b[38;5;124;03m    :param url: URL for the new :class:`Request` object.\u001b[39;00m\n\u001b[1;32m   (...)\u001b[0m\n\u001b[0;32m     70\u001b[0m \u001b[38;5;124;03m    :rtype: requests.Response\u001b[39;00m\n\u001b[0;32m     71\u001b[0m \u001b[38;5;124;03m    \"\"\"\u001b[39;00m\n\u001b[1;32m---> 73\u001b[0m     \u001b[38;5;28;01mreturn\u001b[39;00m request(\u001b[38;5;124m\"\u001b[39m\u001b[38;5;124mget\u001b[39m\u001b[38;5;124m\"\u001b[39m, url, params\u001b[38;5;241m=\u001b[39mparams, \u001b[38;5;241m*\u001b[39m\u001b[38;5;241m*\u001b[39mkwargs)\n",
      "File \u001b[1;32mc:\\Users\\Myriam\\anaconda3\\envs\\myenv\\lib\\site-packages\\requests\\api.py:59\u001b[0m, in \u001b[0;36mrequest\u001b[1;34m(method, url, **kwargs)\u001b[0m\n\u001b[0;32m     55\u001b[0m \u001b[38;5;66;03m# By using the 'with' statement we are sure the session is closed, thus we\u001b[39;00m\n\u001b[0;32m     56\u001b[0m \u001b[38;5;66;03m# avoid leaving sockets open which can trigger a ResourceWarning in some\u001b[39;00m\n\u001b[0;32m     57\u001b[0m \u001b[38;5;66;03m# cases, and look like a memory leak in others.\u001b[39;00m\n\u001b[0;32m     58\u001b[0m \u001b[38;5;28;01mwith\u001b[39;00m sessions\u001b[38;5;241m.\u001b[39mSession() \u001b[38;5;28;01mas\u001b[39;00m session:\n\u001b[1;32m---> 59\u001b[0m     \u001b[38;5;28;01mreturn\u001b[39;00m session\u001b[38;5;241m.\u001b[39mrequest(method\u001b[38;5;241m=\u001b[39mmethod, url\u001b[38;5;241m=\u001b[39murl, \u001b[38;5;241m*\u001b[39m\u001b[38;5;241m*\u001b[39mkwargs)\n",
      "File \u001b[1;32mc:\\Users\\Myriam\\anaconda3\\envs\\myenv\\lib\\site-packages\\requests\\sessions.py:589\u001b[0m, in \u001b[0;36mSession.request\u001b[1;34m(self, method, url, params, data, headers, cookies, files, auth, timeout, allow_redirects, proxies, hooks, stream, verify, cert, json)\u001b[0m\n\u001b[0;32m    584\u001b[0m send_kwargs \u001b[38;5;241m=\u001b[39m {\n\u001b[0;32m    585\u001b[0m     \u001b[38;5;124m\"\u001b[39m\u001b[38;5;124mtimeout\u001b[39m\u001b[38;5;124m\"\u001b[39m: timeout,\n\u001b[0;32m    586\u001b[0m     \u001b[38;5;124m\"\u001b[39m\u001b[38;5;124mallow_redirects\u001b[39m\u001b[38;5;124m\"\u001b[39m: allow_redirects,\n\u001b[0;32m    587\u001b[0m }\n\u001b[0;32m    588\u001b[0m send_kwargs\u001b[38;5;241m.\u001b[39mupdate(settings)\n\u001b[1;32m--> 589\u001b[0m resp \u001b[38;5;241m=\u001b[39m \u001b[38;5;28mself\u001b[39m\u001b[38;5;241m.\u001b[39msend(prep, \u001b[38;5;241m*\u001b[39m\u001b[38;5;241m*\u001b[39msend_kwargs)\n\u001b[0;32m    591\u001b[0m \u001b[38;5;28;01mreturn\u001b[39;00m resp\n",
      "File \u001b[1;32mc:\\Users\\Myriam\\anaconda3\\envs\\myenv\\lib\\site-packages\\requests\\sessions.py:703\u001b[0m, in \u001b[0;36mSession.send\u001b[1;34m(self, request, **kwargs)\u001b[0m\n\u001b[0;32m    700\u001b[0m start \u001b[38;5;241m=\u001b[39m preferred_clock()\n\u001b[0;32m    702\u001b[0m \u001b[38;5;66;03m# Send the request\u001b[39;00m\n\u001b[1;32m--> 703\u001b[0m r \u001b[38;5;241m=\u001b[39m adapter\u001b[38;5;241m.\u001b[39msend(request, \u001b[38;5;241m*\u001b[39m\u001b[38;5;241m*\u001b[39mkwargs)\n\u001b[0;32m    705\u001b[0m \u001b[38;5;66;03m# Total elapsed time of the request (approximately)\u001b[39;00m\n\u001b[0;32m    706\u001b[0m elapsed \u001b[38;5;241m=\u001b[39m preferred_clock() \u001b[38;5;241m-\u001b[39m start\n",
      "File \u001b[1;32mc:\\Users\\Myriam\\anaconda3\\envs\\myenv\\lib\\site-packages\\requests\\adapters.py:688\u001b[0m, in \u001b[0;36mHTTPAdapter.send\u001b[1;34m(self, request, stream, timeout, verify, cert, proxies)\u001b[0m\n\u001b[0;32m    685\u001b[0m \u001b[38;5;28;01mif\u001b[39;00m \u001b[38;5;28misinstance\u001b[39m(e\u001b[38;5;241m.\u001b[39mreason, ConnectTimeoutError):\n\u001b[0;32m    686\u001b[0m     \u001b[38;5;66;03m# TODO: Remove this in 3.0.0: see #2811\u001b[39;00m\n\u001b[0;32m    687\u001b[0m     \u001b[38;5;28;01mif\u001b[39;00m \u001b[38;5;129;01mnot\u001b[39;00m \u001b[38;5;28misinstance\u001b[39m(e\u001b[38;5;241m.\u001b[39mreason, NewConnectionError):\n\u001b[1;32m--> 688\u001b[0m         \u001b[38;5;28;01mraise\u001b[39;00m ConnectTimeout(e, request\u001b[38;5;241m=\u001b[39mrequest)\n\u001b[0;32m    690\u001b[0m \u001b[38;5;28;01mif\u001b[39;00m \u001b[38;5;28misinstance\u001b[39m(e\u001b[38;5;241m.\u001b[39mreason, ResponseError):\n\u001b[0;32m    691\u001b[0m     \u001b[38;5;28;01mraise\u001b[39;00m RetryError(e, request\u001b[38;5;241m=\u001b[39mrequest)\n",
      "\u001b[1;31mConnectTimeout\u001b[0m: HTTPSConnectionPool(host='www.booking.com', port=443): Max retries exceeded with url: /searchresults.fr.html?ss=La+Rochelle&ssne=La+Rochelle&ssne_untouched=La+Rochelle&label=qwa121jc-1DCAEoggI46AdIM1gDaE2IAQGYAQ24ARfIAQ_YAQPoAQGIAgGoAgO4AoX3mr8GwAIB0gIkMDk1NzlmY2YtNjcwMy00MzdkLWFmNGItMzE3ODQzYzYxNWI32AIE4AIB&sid=b10d6df758b0e059011bf7be0724e09f&aid=1588662&lang=fr&sb=1&src_elem=sb&src=index&dest_id=-1438604&dest_type=city&checkin=2025-04-16&checkout=2025-04-17&group_adults=2&no_rooms=1&group_children=0 (Caused by ConnectTimeoutError(<urllib3.connection.HTTPSConnection object at 0x000001AD425E3CD0>, 'Connection to www.booking.com timed out. (connect timeout=None)'))"
     ]
    }
   ],
   "source": [
    "headers = {\n",
    "    'User-Agent': 'Mozilla/5.0 (Windows NT 10.0; Win64; x64) AppleWebKit/537.36 (KHTML, like Gecko) Chrome/58.0.3029.110 Safari/537.3'\n",
    "}\n",
    "\n",
    "url_LaRochelle = \"https://www.booking.com/searchresults.fr.html?ss=La+Rochelle&ssne=La+Rochelle&ssne_untouched=La+Rochelle&label=qwa121jc-1DCAEoggI46AdIM1gDaE2IAQGYAQ24ARfIAQ_YAQPoAQGIAgGoAgO4AoX3mr8GwAIB0gIkMDk1NzlmY2YtNjcwMy00MzdkLWFmNGItMzE3ODQzYzYxNWI32AIE4AIB&sid=b10d6df758b0e059011bf7be0724e09f&aid=1588662&lang=fr&sb=1&src_elem=sb&src=index&dest_id=-1438604&dest_type=city&checkin=2025-04-16&checkout=2025-04-17&group_adults=2&no_rooms=1&group_children=0\"\n",
    "url = url_LaRochelle\n",
    "r = requests.get(url, headers=headers)\n",
    "\n",
    "response = Selector(text=r.text)"
   ]
  },
  {
   "cell_type": "code",
   "execution_count": 88,
   "metadata": {},
   "outputs": [
    {
     "data": {
      "text/plain": [
       "<Response [200]>"
      ]
     },
     "execution_count": 88,
     "metadata": {},
     "output_type": "execute_result"
    }
   ],
   "source": [
    "r"
   ]
  },
  {
   "cell_type": "code",
   "execution_count": null,
   "metadata": {},
   "outputs": [],
   "source": []
  }
 ],
 "metadata": {
  "kernelspec": {
   "display_name": "myenv",
   "language": "python",
   "name": "python3"
  },
  "language_info": {
   "codemirror_mode": {
    "name": "ipython",
    "version": 3
   },
   "file_extension": ".py",
   "mimetype": "text/x-python",
   "name": "python",
   "nbconvert_exporter": "python",
   "pygments_lexer": "ipython3",
   "version": "3.10.13"
  }
 },
 "nbformat": 4,
 "nbformat_minor": 2
}
