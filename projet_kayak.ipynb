{
 "cells": [
  {
   "cell_type": "code",
   "execution_count": 397,
   "metadata": {},
   "outputs": [
    {
     "data": {
      "text/plain": [
       "'\\nimport plotly.express as px\\nfrom scrapy.crawler import CrawlerProcess\\nimport csv\\n'"
      ]
     },
     "execution_count": 397,
     "metadata": {},
     "output_type": "execute_result"
    }
   ],
   "source": [
    "import requests\n",
    "import json\n",
    "import os\n",
    "from dotenv import load_dotenv\n",
    "import pandas as pd\n",
    "from datetime import datetime\n",
    "import folium\n",
    "import time\n",
    "from matplotlib import colormaps\n",
    "from matplotlib.colors import rgb2hex\n",
    "import scrapy\n",
    "from scrapy import Selector\n",
    "'''\n",
    "import plotly.express as px\n",
    "from scrapy.crawler import CrawlerProcess\n",
    "import csv\n",
    "'''\n"
   ]
  },
  {
   "cell_type": "code",
   "execution_count": 349,
   "metadata": {},
   "outputs": [],
   "source": [
    "load_dotenv()\n",
    "\n",
    "Open_Weather_API_Key_Myriam= os.getenv(\"Open_Weather_API_Key_Myriam\") "
   ]
  },
  {
   "cell_type": "markdown",
   "metadata": {},
   "source": [
    "# Extraction des informations géographiques des 35 plus belles villes"
   ]
  },
  {
   "cell_type": "markdown",
   "metadata": {},
   "source": [
    "Sur la liste des 35 plus belles villes, nous avons 34 noms de villes + 1 lieu d'interêt qui n'est pas une ville (Gorges du Verdon). Pour récupérer les latitudes et longitudes des 34 villes nous pouvons facilement utiliser l'API openweathermap. Cette API permet facilement de collecter également le pays et la région, ce qui est utile pour contrôler d'un même coût les éventuelles erreures liées à des villes homonymes dans le monde.\n",
    "Cependant, cette API récupère les informations en se basant sur un nom de ville. Elle ne reconnait pas les Gorges du Verdon. Pour palier ce problème, une seconde API a été utilisée, nominatim.openstreetmap. Le nombre de requete est plus limité et elle ne permet pas de récupérer la région et le pays. C'est en visualisant les villes sur une carte qu'on pourra confirmer la bonne géolocalisation."
   ]
  },
  {
   "cell_type": "code",
   "execution_count": 350,
   "metadata": {},
   "outputs": [],
   "source": [
    "best_cities= [\"Mont Saint Michel\",\n",
    "\"St Malo\",\n",
    "\"Bayeux\",\n",
    "\"Le Havre\",\n",
    "\"Rouen\",\n",
    "\"Paris\",\n",
    "\"Amiens\",\n",
    "\"Lille\",\n",
    "\"Strasbourg\",\n",
    "\"Chateau du Haut Koenigsbourg\",\n",
    "\"Colmar\",\n",
    "\"Eguisheim\",\n",
    "\"Besancon\",\n",
    "\"Dijon\",\n",
    "\"Annecy\",\n",
    "\"Grenoble\",\n",
    "\"Lyon\",\n",
    "\"Bormes les Mimosas\",\n",
    "\"Cassis\",\n",
    "\"Marseille\",\n",
    "\"Aix en Provence\",\n",
    "\"Avignon\",\n",
    "\"Uzes\",\n",
    "\"Nimes\",\n",
    "\"Aigues Mortes\",\n",
    "\"Saintes Maries de la mer\",\n",
    "\"Collioure\",\n",
    "\"Carcassonne\",\n",
    "\"Ariege\",\n",
    "\"Toulouse\",\n",
    "\"Montauban\",\n",
    "\"Biarritz\",\n",
    "\"Bayonne\",\n",
    "\"La Rochelle\",\n",
    "#\"Gorges du Verdon\" exclu de la liste dans un premier temps car n'est pas une ville mais un point d'intérêt.\n",
    "]\n"
   ]
  },
  {
   "cell_type": "code",
   "execution_count": 351,
   "metadata": {},
   "outputs": [
    {
     "data": {
      "text/plain": [
       "'La Rochelle'"
      ]
     },
     "execution_count": 351,
     "metadata": {},
     "output_type": "execute_result"
    }
   ],
   "source": [
    "best_cities[-1]"
   ]
  },
  {
   "cell_type": "code",
   "execution_count": 352,
   "metadata": {},
   "outputs": [
    {
     "data": {
      "text/html": [
       "<div>\n",
       "<style scoped>\n",
       "    .dataframe tbody tr th:only-of-type {\n",
       "        vertical-align: middle;\n",
       "    }\n",
       "\n",
       "    .dataframe tbody tr th {\n",
       "        vertical-align: top;\n",
       "    }\n",
       "\n",
       "    .dataframe thead th {\n",
       "        text-align: right;\n",
       "    }\n",
       "</style>\n",
       "<table border=\"1\" class=\"dataframe\">\n",
       "  <thead>\n",
       "    <tr style=\"text-align: right;\">\n",
       "      <th></th>\n",
       "      <th>cities</th>\n",
       "    </tr>\n",
       "  </thead>\n",
       "  <tbody>\n",
       "    <tr>\n",
       "      <th>0</th>\n",
       "      <td>Mont Saint Michel</td>\n",
       "    </tr>\n",
       "    <tr>\n",
       "      <th>1</th>\n",
       "      <td>St Malo</td>\n",
       "    </tr>\n",
       "    <tr>\n",
       "      <th>2</th>\n",
       "      <td>Bayeux</td>\n",
       "    </tr>\n",
       "    <tr>\n",
       "      <th>3</th>\n",
       "      <td>Le Havre</td>\n",
       "    </tr>\n",
       "    <tr>\n",
       "      <th>4</th>\n",
       "      <td>Rouen</td>\n",
       "    </tr>\n",
       "    <tr>\n",
       "      <th>5</th>\n",
       "      <td>Paris</td>\n",
       "    </tr>\n",
       "    <tr>\n",
       "      <th>6</th>\n",
       "      <td>Amiens</td>\n",
       "    </tr>\n",
       "    <tr>\n",
       "      <th>7</th>\n",
       "      <td>Lille</td>\n",
       "    </tr>\n",
       "    <tr>\n",
       "      <th>8</th>\n",
       "      <td>Strasbourg</td>\n",
       "    </tr>\n",
       "    <tr>\n",
       "      <th>9</th>\n",
       "      <td>Chateau du Haut Koenigsbourg</td>\n",
       "    </tr>\n",
       "    <tr>\n",
       "      <th>10</th>\n",
       "      <td>Colmar</td>\n",
       "    </tr>\n",
       "    <tr>\n",
       "      <th>11</th>\n",
       "      <td>Eguisheim</td>\n",
       "    </tr>\n",
       "    <tr>\n",
       "      <th>12</th>\n",
       "      <td>Besancon</td>\n",
       "    </tr>\n",
       "    <tr>\n",
       "      <th>13</th>\n",
       "      <td>Dijon</td>\n",
       "    </tr>\n",
       "    <tr>\n",
       "      <th>14</th>\n",
       "      <td>Annecy</td>\n",
       "    </tr>\n",
       "    <tr>\n",
       "      <th>15</th>\n",
       "      <td>Grenoble</td>\n",
       "    </tr>\n",
       "    <tr>\n",
       "      <th>16</th>\n",
       "      <td>Lyon</td>\n",
       "    </tr>\n",
       "    <tr>\n",
       "      <th>17</th>\n",
       "      <td>Bormes les Mimosas</td>\n",
       "    </tr>\n",
       "    <tr>\n",
       "      <th>18</th>\n",
       "      <td>Cassis</td>\n",
       "    </tr>\n",
       "    <tr>\n",
       "      <th>19</th>\n",
       "      <td>Marseille</td>\n",
       "    </tr>\n",
       "    <tr>\n",
       "      <th>20</th>\n",
       "      <td>Aix en Provence</td>\n",
       "    </tr>\n",
       "    <tr>\n",
       "      <th>21</th>\n",
       "      <td>Avignon</td>\n",
       "    </tr>\n",
       "    <tr>\n",
       "      <th>22</th>\n",
       "      <td>Uzes</td>\n",
       "    </tr>\n",
       "    <tr>\n",
       "      <th>23</th>\n",
       "      <td>Nimes</td>\n",
       "    </tr>\n",
       "    <tr>\n",
       "      <th>24</th>\n",
       "      <td>Aigues Mortes</td>\n",
       "    </tr>\n",
       "    <tr>\n",
       "      <th>25</th>\n",
       "      <td>Saintes Maries de la mer</td>\n",
       "    </tr>\n",
       "    <tr>\n",
       "      <th>26</th>\n",
       "      <td>Collioure</td>\n",
       "    </tr>\n",
       "    <tr>\n",
       "      <th>27</th>\n",
       "      <td>Carcassonne</td>\n",
       "    </tr>\n",
       "    <tr>\n",
       "      <th>28</th>\n",
       "      <td>Ariege</td>\n",
       "    </tr>\n",
       "    <tr>\n",
       "      <th>29</th>\n",
       "      <td>Toulouse</td>\n",
       "    </tr>\n",
       "    <tr>\n",
       "      <th>30</th>\n",
       "      <td>Montauban</td>\n",
       "    </tr>\n",
       "    <tr>\n",
       "      <th>31</th>\n",
       "      <td>Biarritz</td>\n",
       "    </tr>\n",
       "    <tr>\n",
       "      <th>32</th>\n",
       "      <td>Bayonne</td>\n",
       "    </tr>\n",
       "    <tr>\n",
       "      <th>33</th>\n",
       "      <td>La Rochelle</td>\n",
       "    </tr>\n",
       "  </tbody>\n",
       "</table>\n",
       "</div>"
      ],
      "text/plain": [
       "                          cities\n",
       "0              Mont Saint Michel\n",
       "1                        St Malo\n",
       "2                         Bayeux\n",
       "3                       Le Havre\n",
       "4                          Rouen\n",
       "5                          Paris\n",
       "6                         Amiens\n",
       "7                          Lille\n",
       "8                     Strasbourg\n",
       "9   Chateau du Haut Koenigsbourg\n",
       "10                        Colmar\n",
       "11                     Eguisheim\n",
       "12                      Besancon\n",
       "13                         Dijon\n",
       "14                        Annecy\n",
       "15                      Grenoble\n",
       "16                          Lyon\n",
       "17            Bormes les Mimosas\n",
       "18                        Cassis\n",
       "19                     Marseille\n",
       "20               Aix en Provence\n",
       "21                       Avignon\n",
       "22                          Uzes\n",
       "23                         Nimes\n",
       "24                 Aigues Mortes\n",
       "25      Saintes Maries de la mer\n",
       "26                     Collioure\n",
       "27                   Carcassonne\n",
       "28                        Ariege\n",
       "29                      Toulouse\n",
       "30                     Montauban\n",
       "31                      Biarritz\n",
       "32                       Bayonne\n",
       "33                   La Rochelle"
      ]
     },
     "execution_count": 352,
     "metadata": {},
     "output_type": "execute_result"
    }
   ],
   "source": [
    "#création d'un dataframe avec la liste des best cities\n",
    "df = pd.DataFrame(data = best_cities, columns = [\"cities\"])\n",
    "df"
   ]
  },
  {
   "cell_type": "markdown",
   "metadata": {},
   "source": [
    "## Import des longitudes & latitudes des 35 best cities"
   ]
  },
  {
   "cell_type": "code",
   "execution_count": 353,
   "metadata": {},
   "outputs": [
    {
     "data": {
      "text/plain": [
       "(34, 1)"
      ]
     },
     "execution_count": 353,
     "metadata": {},
     "output_type": "execute_result"
    }
   ],
   "source": [
    "df.shape"
   ]
  },
  {
   "cell_type": "code",
   "execution_count": 354,
   "metadata": {},
   "outputs": [
    {
     "data": {
      "text/html": [
       "<div>\n",
       "<style scoped>\n",
       "    .dataframe tbody tr th:only-of-type {\n",
       "        vertical-align: middle;\n",
       "    }\n",
       "\n",
       "    .dataframe tbody tr th {\n",
       "        vertical-align: top;\n",
       "    }\n",
       "\n",
       "    .dataframe thead th {\n",
       "        text-align: right;\n",
       "    }\n",
       "</style>\n",
       "<table border=\"1\" class=\"dataframe\">\n",
       "  <thead>\n",
       "    <tr style=\"text-align: right;\">\n",
       "      <th></th>\n",
       "      <th>cities</th>\n",
       "      <th>name</th>\n",
       "      <th>country</th>\n",
       "      <th>state</th>\n",
       "      <th>lat</th>\n",
       "      <th>lon</th>\n",
       "    </tr>\n",
       "  </thead>\n",
       "  <tbody>\n",
       "    <tr>\n",
       "      <th>0</th>\n",
       "      <td>Mont Saint Michel</td>\n",
       "      <td>Mont Saint-Michel</td>\n",
       "      <td>FR</td>\n",
       "      <td>Normandy</td>\n",
       "      <td>48.635954</td>\n",
       "      <td>-1.511460</td>\n",
       "    </tr>\n",
       "    <tr>\n",
       "      <th>1</th>\n",
       "      <td>St Malo</td>\n",
       "      <td>Saint-Malo</td>\n",
       "      <td>FR</td>\n",
       "      <td>Brittany</td>\n",
       "      <td>48.649518</td>\n",
       "      <td>-2.026041</td>\n",
       "    </tr>\n",
       "    <tr>\n",
       "      <th>2</th>\n",
       "      <td>Bayeux</td>\n",
       "      <td>Bayeux</td>\n",
       "      <td>FR</td>\n",
       "      <td>Normandy</td>\n",
       "      <td>49.276462</td>\n",
       "      <td>-0.702474</td>\n",
       "    </tr>\n",
       "    <tr>\n",
       "      <th>3</th>\n",
       "      <td>Le Havre</td>\n",
       "      <td>Le Havre</td>\n",
       "      <td>FR</td>\n",
       "      <td>Normandy</td>\n",
       "      <td>49.493898</td>\n",
       "      <td>0.107973</td>\n",
       "    </tr>\n",
       "    <tr>\n",
       "      <th>4</th>\n",
       "      <td>Rouen</td>\n",
       "      <td>Rouen</td>\n",
       "      <td>FR</td>\n",
       "      <td>Normandy</td>\n",
       "      <td>49.440459</td>\n",
       "      <td>1.093966</td>\n",
       "    </tr>\n",
       "    <tr>\n",
       "      <th>5</th>\n",
       "      <td>Paris</td>\n",
       "      <td>Paris</td>\n",
       "      <td>FR</td>\n",
       "      <td>Ile-de-France</td>\n",
       "      <td>48.858890</td>\n",
       "      <td>2.320041</td>\n",
       "    </tr>\n",
       "    <tr>\n",
       "      <th>6</th>\n",
       "      <td>Amiens</td>\n",
       "      <td>Amiens</td>\n",
       "      <td>FR</td>\n",
       "      <td>Hauts-de-France</td>\n",
       "      <td>49.894171</td>\n",
       "      <td>2.295695</td>\n",
       "    </tr>\n",
       "    <tr>\n",
       "      <th>7</th>\n",
       "      <td>Lille</td>\n",
       "      <td>Lille</td>\n",
       "      <td>FR</td>\n",
       "      <td>Hauts-de-France</td>\n",
       "      <td>50.636565</td>\n",
       "      <td>3.063528</td>\n",
       "    </tr>\n",
       "    <tr>\n",
       "      <th>8</th>\n",
       "      <td>Strasbourg</td>\n",
       "      <td>Strasbourg</td>\n",
       "      <td>FR</td>\n",
       "      <td>Grand Est</td>\n",
       "      <td>48.584614</td>\n",
       "      <td>7.750713</td>\n",
       "    </tr>\n",
       "    <tr>\n",
       "      <th>9</th>\n",
       "      <td>Chateau du Haut Koenigsbourg</td>\n",
       "      <td>Château du Haut-Kœnigsbourg</td>\n",
       "      <td>FR</td>\n",
       "      <td>Grand Est</td>\n",
       "      <td>48.249523</td>\n",
       "      <td>7.345492</td>\n",
       "    </tr>\n",
       "    <tr>\n",
       "      <th>10</th>\n",
       "      <td>Colmar</td>\n",
       "      <td>Colmar</td>\n",
       "      <td>FR</td>\n",
       "      <td>Grand Est</td>\n",
       "      <td>48.077752</td>\n",
       "      <td>7.357964</td>\n",
       "    </tr>\n",
       "    <tr>\n",
       "      <th>11</th>\n",
       "      <td>Eguisheim</td>\n",
       "      <td>Eguisheim</td>\n",
       "      <td>FR</td>\n",
       "      <td>Grand Est</td>\n",
       "      <td>48.044797</td>\n",
       "      <td>7.307962</td>\n",
       "    </tr>\n",
       "    <tr>\n",
       "      <th>12</th>\n",
       "      <td>Besancon</td>\n",
       "      <td>Besançon</td>\n",
       "      <td>FR</td>\n",
       "      <td>Bourgogne-Franche-Comté</td>\n",
       "      <td>47.238022</td>\n",
       "      <td>6.024362</td>\n",
       "    </tr>\n",
       "    <tr>\n",
       "      <th>13</th>\n",
       "      <td>Dijon</td>\n",
       "      <td>Dijon</td>\n",
       "      <td>FR</td>\n",
       "      <td>Bourgogne-Franche-Comté</td>\n",
       "      <td>47.321581</td>\n",
       "      <td>5.041470</td>\n",
       "    </tr>\n",
       "    <tr>\n",
       "      <th>14</th>\n",
       "      <td>Annecy</td>\n",
       "      <td>Annecy</td>\n",
       "      <td>FR</td>\n",
       "      <td>Auvergne-Rhône-Alpes</td>\n",
       "      <td>45.899235</td>\n",
       "      <td>6.128885</td>\n",
       "    </tr>\n",
       "    <tr>\n",
       "      <th>15</th>\n",
       "      <td>Grenoble</td>\n",
       "      <td>Grenoble</td>\n",
       "      <td>FR</td>\n",
       "      <td>Auvergne-Rhône-Alpes</td>\n",
       "      <td>45.187560</td>\n",
       "      <td>5.735782</td>\n",
       "    </tr>\n",
       "    <tr>\n",
       "      <th>16</th>\n",
       "      <td>Lyon</td>\n",
       "      <td>Lyon</td>\n",
       "      <td>FR</td>\n",
       "      <td>Auvergne-Rhône-Alpes</td>\n",
       "      <td>45.757814</td>\n",
       "      <td>4.832011</td>\n",
       "    </tr>\n",
       "    <tr>\n",
       "      <th>17</th>\n",
       "      <td>Bormes les Mimosas</td>\n",
       "      <td>Bormes-les-Mimosas</td>\n",
       "      <td>FR</td>\n",
       "      <td>Provence-Alpes-Côte d'Azur</td>\n",
       "      <td>43.150697</td>\n",
       "      <td>6.341928</td>\n",
       "    </tr>\n",
       "    <tr>\n",
       "      <th>18</th>\n",
       "      <td>Cassis</td>\n",
       "      <td>Cassis</td>\n",
       "      <td>FR</td>\n",
       "      <td>Provence-Alpes-Côte d'Azur</td>\n",
       "      <td>43.214036</td>\n",
       "      <td>5.539632</td>\n",
       "    </tr>\n",
       "    <tr>\n",
       "      <th>19</th>\n",
       "      <td>Marseille</td>\n",
       "      <td>Marseille</td>\n",
       "      <td>FR</td>\n",
       "      <td>Provence-Alpes-Côte d'Azur</td>\n",
       "      <td>43.296174</td>\n",
       "      <td>5.369953</td>\n",
       "    </tr>\n",
       "    <tr>\n",
       "      <th>20</th>\n",
       "      <td>Aix en Provence</td>\n",
       "      <td>Aix-en-Provence</td>\n",
       "      <td>FR</td>\n",
       "      <td>Provence-Alpes-Côte d'Azur</td>\n",
       "      <td>43.529842</td>\n",
       "      <td>5.447474</td>\n",
       "    </tr>\n",
       "    <tr>\n",
       "      <th>21</th>\n",
       "      <td>Avignon</td>\n",
       "      <td>Avignon</td>\n",
       "      <td>FR</td>\n",
       "      <td>Provence-Alpes-Côte d'Azur</td>\n",
       "      <td>43.949249</td>\n",
       "      <td>4.805901</td>\n",
       "    </tr>\n",
       "    <tr>\n",
       "      <th>22</th>\n",
       "      <td>Uzes</td>\n",
       "      <td>Uzès</td>\n",
       "      <td>FR</td>\n",
       "      <td>Occitania</td>\n",
       "      <td>44.012128</td>\n",
       "      <td>4.419672</td>\n",
       "    </tr>\n",
       "    <tr>\n",
       "      <th>23</th>\n",
       "      <td>Nimes</td>\n",
       "      <td>Nimes</td>\n",
       "      <td>FR</td>\n",
       "      <td>Occitania</td>\n",
       "      <td>43.837425</td>\n",
       "      <td>4.360069</td>\n",
       "    </tr>\n",
       "    <tr>\n",
       "      <th>24</th>\n",
       "      <td>Aigues Mortes</td>\n",
       "      <td>Aigues-Mortes</td>\n",
       "      <td>FR</td>\n",
       "      <td>Occitania</td>\n",
       "      <td>43.565823</td>\n",
       "      <td>4.191284</td>\n",
       "    </tr>\n",
       "    <tr>\n",
       "      <th>25</th>\n",
       "      <td>Saintes Maries de la mer</td>\n",
       "      <td>Saintes-Maries-de-la-Mer</td>\n",
       "      <td>FR</td>\n",
       "      <td>Provence-Alpes-Côte d'Azur</td>\n",
       "      <td>43.452277</td>\n",
       "      <td>4.428717</td>\n",
       "    </tr>\n",
       "    <tr>\n",
       "      <th>26</th>\n",
       "      <td>Collioure</td>\n",
       "      <td>Collioure</td>\n",
       "      <td>FR</td>\n",
       "      <td>Occitania</td>\n",
       "      <td>42.525050</td>\n",
       "      <td>3.083155</td>\n",
       "    </tr>\n",
       "    <tr>\n",
       "      <th>27</th>\n",
       "      <td>Carcassonne</td>\n",
       "      <td>Carcassonne</td>\n",
       "      <td>FR</td>\n",
       "      <td>Occitania</td>\n",
       "      <td>43.213036</td>\n",
       "      <td>2.349107</td>\n",
       "    </tr>\n",
       "    <tr>\n",
       "      <th>28</th>\n",
       "      <td>Ariege</td>\n",
       "      <td>Tarascon-sur-Ariège</td>\n",
       "      <td>FR</td>\n",
       "      <td>Occitania</td>\n",
       "      <td>42.845802</td>\n",
       "      <td>1.606759</td>\n",
       "    </tr>\n",
       "    <tr>\n",
       "      <th>29</th>\n",
       "      <td>Toulouse</td>\n",
       "      <td>Toulouse</td>\n",
       "      <td>FR</td>\n",
       "      <td>Occitania</td>\n",
       "      <td>43.604462</td>\n",
       "      <td>1.444247</td>\n",
       "    </tr>\n",
       "    <tr>\n",
       "      <th>30</th>\n",
       "      <td>Montauban</td>\n",
       "      <td>Montauban</td>\n",
       "      <td>FR</td>\n",
       "      <td>Occitania</td>\n",
       "      <td>44.017584</td>\n",
       "      <td>1.354999</td>\n",
       "    </tr>\n",
       "    <tr>\n",
       "      <th>31</th>\n",
       "      <td>Biarritz</td>\n",
       "      <td>Biarritz</td>\n",
       "      <td>FR</td>\n",
       "      <td>Nouvelle-Aquitaine</td>\n",
       "      <td>43.483252</td>\n",
       "      <td>-1.559278</td>\n",
       "    </tr>\n",
       "    <tr>\n",
       "      <th>32</th>\n",
       "      <td>Bayonne</td>\n",
       "      <td>Bayonne</td>\n",
       "      <td>FR</td>\n",
       "      <td>Nouvelle-Aquitaine</td>\n",
       "      <td>43.494514</td>\n",
       "      <td>-1.473666</td>\n",
       "    </tr>\n",
       "    <tr>\n",
       "      <th>33</th>\n",
       "      <td>La Rochelle</td>\n",
       "      <td>La Rochelle</td>\n",
       "      <td>FR</td>\n",
       "      <td>Nouvelle-Aquitaine</td>\n",
       "      <td>46.159113</td>\n",
       "      <td>-1.152043</td>\n",
       "    </tr>\n",
       "  </tbody>\n",
       "</table>\n",
       "</div>"
      ],
      "text/plain": [
       "                          cities                         name country  \\\n",
       "0              Mont Saint Michel            Mont Saint-Michel      FR   \n",
       "1                        St Malo                   Saint-Malo      FR   \n",
       "2                         Bayeux                       Bayeux      FR   \n",
       "3                       Le Havre                     Le Havre      FR   \n",
       "4                          Rouen                        Rouen      FR   \n",
       "5                          Paris                        Paris      FR   \n",
       "6                         Amiens                       Amiens      FR   \n",
       "7                          Lille                        Lille      FR   \n",
       "8                     Strasbourg                   Strasbourg      FR   \n",
       "9   Chateau du Haut Koenigsbourg  Château du Haut-Kœnigsbourg      FR   \n",
       "10                        Colmar                       Colmar      FR   \n",
       "11                     Eguisheim                    Eguisheim      FR   \n",
       "12                      Besancon                     Besançon      FR   \n",
       "13                         Dijon                        Dijon      FR   \n",
       "14                        Annecy                       Annecy      FR   \n",
       "15                      Grenoble                     Grenoble      FR   \n",
       "16                          Lyon                         Lyon      FR   \n",
       "17            Bormes les Mimosas           Bormes-les-Mimosas      FR   \n",
       "18                        Cassis                       Cassis      FR   \n",
       "19                     Marseille                    Marseille      FR   \n",
       "20               Aix en Provence              Aix-en-Provence      FR   \n",
       "21                       Avignon                      Avignon      FR   \n",
       "22                          Uzes                         Uzès      FR   \n",
       "23                         Nimes                        Nimes      FR   \n",
       "24                 Aigues Mortes                Aigues-Mortes      FR   \n",
       "25      Saintes Maries de la mer     Saintes-Maries-de-la-Mer      FR   \n",
       "26                     Collioure                    Collioure      FR   \n",
       "27                   Carcassonne                  Carcassonne      FR   \n",
       "28                        Ariege          Tarascon-sur-Ariège      FR   \n",
       "29                      Toulouse                     Toulouse      FR   \n",
       "30                     Montauban                    Montauban      FR   \n",
       "31                      Biarritz                     Biarritz      FR   \n",
       "32                       Bayonne                      Bayonne      FR   \n",
       "33                   La Rochelle                  La Rochelle      FR   \n",
       "\n",
       "                         state        lat       lon  \n",
       "0                     Normandy  48.635954 -1.511460  \n",
       "1                     Brittany  48.649518 -2.026041  \n",
       "2                     Normandy  49.276462 -0.702474  \n",
       "3                     Normandy  49.493898  0.107973  \n",
       "4                     Normandy  49.440459  1.093966  \n",
       "5                Ile-de-France  48.858890  2.320041  \n",
       "6              Hauts-de-France  49.894171  2.295695  \n",
       "7              Hauts-de-France  50.636565  3.063528  \n",
       "8                    Grand Est  48.584614  7.750713  \n",
       "9                    Grand Est  48.249523  7.345492  \n",
       "10                   Grand Est  48.077752  7.357964  \n",
       "11                   Grand Est  48.044797  7.307962  \n",
       "12     Bourgogne-Franche-Comté  47.238022  6.024362  \n",
       "13     Bourgogne-Franche-Comté  47.321581  5.041470  \n",
       "14        Auvergne-Rhône-Alpes  45.899235  6.128885  \n",
       "15        Auvergne-Rhône-Alpes  45.187560  5.735782  \n",
       "16        Auvergne-Rhône-Alpes  45.757814  4.832011  \n",
       "17  Provence-Alpes-Côte d'Azur  43.150697  6.341928  \n",
       "18  Provence-Alpes-Côte d'Azur  43.214036  5.539632  \n",
       "19  Provence-Alpes-Côte d'Azur  43.296174  5.369953  \n",
       "20  Provence-Alpes-Côte d'Azur  43.529842  5.447474  \n",
       "21  Provence-Alpes-Côte d'Azur  43.949249  4.805901  \n",
       "22                   Occitania  44.012128  4.419672  \n",
       "23                   Occitania  43.837425  4.360069  \n",
       "24                   Occitania  43.565823  4.191284  \n",
       "25  Provence-Alpes-Côte d'Azur  43.452277  4.428717  \n",
       "26                   Occitania  42.525050  3.083155  \n",
       "27                   Occitania  43.213036  2.349107  \n",
       "28                   Occitania  42.845802  1.606759  \n",
       "29                   Occitania  43.604462  1.444247  \n",
       "30                   Occitania  44.017584  1.354999  \n",
       "31          Nouvelle-Aquitaine  43.483252 -1.559278  \n",
       "32          Nouvelle-Aquitaine  43.494514 -1.473666  \n",
       "33          Nouvelle-Aquitaine  46.159113 -1.152043  "
      ]
     },
     "execution_count": 354,
     "metadata": {},
     "output_type": "execute_result"
    }
   ],
   "source": [
    "for i,best_city in enumerate(best_cities):\n",
    "    r = requests.get(f\"http://api.openweathermap.org/geo/1.0/direct?q={best_city}&limit=1&appid={Open_Weather_API_Key_Myriam}\")\n",
    "    if r.status_code == 200:\n",
    "        data = r.json()\n",
    "  \n",
    "        df.loc[i,\"name\"] = data[0][\"name\"] #pour s'assurer de la bonne attribution de la ville\n",
    "        df.loc[i,\"country\"] = data[0][\"country\"] #pour vérifier la localisation\n",
    "        df.loc[i,\"state\"] = data[0][\"state\"] # pour vérifier la localisation\n",
    "        df.loc[i,\"lat\"] = data[0][\"lat\"]\n",
    "        df.loc[i,\"lon\"] = data[0][\"lon\"]\n",
    "    \n",
    "    else:\n",
    "        print(f\"Erreur lors de la requête pour {best_cities} :\", r.status_code)\n",
    "\n",
    "df"
   ]
  },
  {
   "cell_type": "code",
   "execution_count": 355,
   "metadata": {},
   "outputs": [
    {
     "data": {
      "text/plain": [
       "<Response [200]>"
      ]
     },
     "execution_count": 355,
     "metadata": {},
     "output_type": "execute_result"
    }
   ],
   "source": [
    "url = \"https://nominatim.openstreetmap.org/search\"\n",
    "\n",
    "headers = {\n",
    "        'User-Agent': 'Mozilla/5.0 (Windows NT 10.0; Win64; x64) AppleWebKit/537.36 (KHTML, like Gecko) Chrome/58.0.3029.110 Safari/537.3'    }\n",
    "\n",
    "lieux = [\"Gorges du Verdon\"]\n",
    "\n",
    "for lieu in lieux:\n",
    "    params = {\n",
    "        'q': lieu,\n",
    "        'format': 'json',\n",
    "        'limit': 1\n",
    "    }\n",
    "\n",
    "response = requests.get(url, params=params, headers=headers)\n",
    "response"
   ]
  },
  {
   "cell_type": "code",
   "execution_count": 356,
   "metadata": {},
   "outputs": [
    {
     "name": "stdout",
     "output_type": "stream",
     "text": [
      "[{'cities': 'Gorges du Verdon', 'name': None, 'country': None, 'state': None, 'lat': '43.7496562', 'lon': '6.3285616'}]\n"
     ]
    }
   ],
   "source": [
    "# pour trouver les coordonnés des Gorges du Verdon, utiisation d'une seconde API (Elle est plus restrictive en termes du nombre de requete, c'est pour celà que la préédente API a été favorisée)\n",
    "def rechercher_coordonnees(lieux):\n",
    "    url = \"https://nominatim.openstreetmap.org/search\"\n",
    "    coordonnees = []\n",
    "\n",
    "    headers = {\n",
    "        'User-Agent': 'Mozilla/5.0 (Windows NT 10.0; Win64; x64) AppleWebKit/537.36 (KHTML, like Gecko) Chrome/58.0.3029.110 Safari/537.3'    }\n",
    "\n",
    "    for lieu in lieux:\n",
    "        params = {\n",
    "            'q': lieu,\n",
    "            'format': 'json',\n",
    "            'limit': 1\n",
    "        }\n",
    "\n",
    "        response = requests.get(url, params=params, headers=headers)\n",
    "\n",
    "        if response.status_code == 200:\n",
    "            data = response.json()\n",
    "            if data:\n",
    "                address = data[0].get('address', {})\n",
    "                coordonnees.append({\n",
    "                    'cities': lieu,\n",
    "                    'name': address.get('city'),\n",
    "                    'country': address.get('country'), #information non trouvée avec l'API\n",
    "                    'state': address.get('state'), #information non trouvée avec l'API\n",
    "                    'lat': data[0].get('lat'),\n",
    "                    'lon': data[0].get('lon'),\n",
    "                })\n",
    "            else:\n",
    "                coordonnees.append({\n",
    "                    'cities': lieu,\n",
    "                    'name': None,\n",
    "                    'country': None,\n",
    "                    'state': None,\n",
    "                    'lat': None,\n",
    "                    'lon': None\n",
    "\n",
    "                })\n",
    "        else:\n",
    "            print(f\"Erreur lors de la requête pour {lieu} :\", response.status_code)\n",
    "            coordonnees.append({\n",
    "                    'cities': lieu,\n",
    "                    'name': None,\n",
    "                    'country': None,\n",
    "                    'state': None,\n",
    "                    'lat': None,\n",
    "                    'lon': None,\n",
    "            })\n",
    "\n",
    "        # Attendre un peu entre les requêtes pour éviter de dépasser les limites\n",
    "        time.sleep(1)\n",
    "\n",
    "    return coordonnees\n",
    "\n",
    "\n",
    "coordonnees = rechercher_coordonnees([\"Gorges du Verdon\"])\n",
    "print(coordonnees)\n"
   ]
  },
  {
   "cell_type": "code",
   "execution_count": 357,
   "metadata": {},
   "outputs": [
    {
     "data": {
      "text/html": [
       "<div>\n",
       "<style scoped>\n",
       "    .dataframe tbody tr th:only-of-type {\n",
       "        vertical-align: middle;\n",
       "    }\n",
       "\n",
       "    .dataframe tbody tr th {\n",
       "        vertical-align: top;\n",
       "    }\n",
       "\n",
       "    .dataframe thead th {\n",
       "        text-align: right;\n",
       "    }\n",
       "</style>\n",
       "<table border=\"1\" class=\"dataframe\">\n",
       "  <thead>\n",
       "    <tr style=\"text-align: right;\">\n",
       "      <th></th>\n",
       "      <th>cities</th>\n",
       "      <th>name</th>\n",
       "      <th>country</th>\n",
       "      <th>state</th>\n",
       "      <th>lat</th>\n",
       "      <th>lon</th>\n",
       "    </tr>\n",
       "  </thead>\n",
       "  <tbody>\n",
       "    <tr>\n",
       "      <th>0</th>\n",
       "      <td>Gorges du Verdon</td>\n",
       "      <td>None</td>\n",
       "      <td>None</td>\n",
       "      <td>None</td>\n",
       "      <td>43.7496562</td>\n",
       "      <td>6.3285616</td>\n",
       "    </tr>\n",
       "  </tbody>\n",
       "</table>\n",
       "</div>"
      ],
      "text/plain": [
       "             cities  name country state         lat        lon\n",
       "0  Gorges du Verdon  None    None  None  43.7496562  6.3285616"
      ]
     },
     "execution_count": 357,
     "metadata": {},
     "output_type": "execute_result"
    }
   ],
   "source": [
    "#réalisation d'un dataframe avec le même colonage que le dataframe initial\n",
    "gdv = pd.DataFrame(coordonnees)\n",
    "gdv"
   ]
  },
  {
   "cell_type": "code",
   "execution_count": 358,
   "metadata": {},
   "outputs": [
    {
     "data": {
      "text/html": [
       "<div>\n",
       "<style scoped>\n",
       "    .dataframe tbody tr th:only-of-type {\n",
       "        vertical-align: middle;\n",
       "    }\n",
       "\n",
       "    .dataframe tbody tr th {\n",
       "        vertical-align: top;\n",
       "    }\n",
       "\n",
       "    .dataframe thead th {\n",
       "        text-align: right;\n",
       "    }\n",
       "</style>\n",
       "<table border=\"1\" class=\"dataframe\">\n",
       "  <thead>\n",
       "    <tr style=\"text-align: right;\">\n",
       "      <th></th>\n",
       "      <th>cities</th>\n",
       "      <th>name</th>\n",
       "      <th>country</th>\n",
       "      <th>state</th>\n",
       "      <th>lat</th>\n",
       "      <th>lon</th>\n",
       "    </tr>\n",
       "  </thead>\n",
       "  <tbody>\n",
       "    <tr>\n",
       "      <th>0</th>\n",
       "      <td>Mont Saint Michel</td>\n",
       "      <td>Mont Saint-Michel</td>\n",
       "      <td>FR</td>\n",
       "      <td>Normandy</td>\n",
       "      <td>48.635954</td>\n",
       "      <td>-1.51146</td>\n",
       "    </tr>\n",
       "    <tr>\n",
       "      <th>1</th>\n",
       "      <td>St Malo</td>\n",
       "      <td>Saint-Malo</td>\n",
       "      <td>FR</td>\n",
       "      <td>Brittany</td>\n",
       "      <td>48.649518</td>\n",
       "      <td>-2.026041</td>\n",
       "    </tr>\n",
       "    <tr>\n",
       "      <th>2</th>\n",
       "      <td>Bayeux</td>\n",
       "      <td>Bayeux</td>\n",
       "      <td>FR</td>\n",
       "      <td>Normandy</td>\n",
       "      <td>49.276462</td>\n",
       "      <td>-0.702474</td>\n",
       "    </tr>\n",
       "    <tr>\n",
       "      <th>3</th>\n",
       "      <td>Le Havre</td>\n",
       "      <td>Le Havre</td>\n",
       "      <td>FR</td>\n",
       "      <td>Normandy</td>\n",
       "      <td>49.493898</td>\n",
       "      <td>0.107973</td>\n",
       "    </tr>\n",
       "    <tr>\n",
       "      <th>4</th>\n",
       "      <td>Rouen</td>\n",
       "      <td>Rouen</td>\n",
       "      <td>FR</td>\n",
       "      <td>Normandy</td>\n",
       "      <td>49.440459</td>\n",
       "      <td>1.093966</td>\n",
       "    </tr>\n",
       "    <tr>\n",
       "      <th>5</th>\n",
       "      <td>Paris</td>\n",
       "      <td>Paris</td>\n",
       "      <td>FR</td>\n",
       "      <td>Ile-de-France</td>\n",
       "      <td>48.85889</td>\n",
       "      <td>2.320041</td>\n",
       "    </tr>\n",
       "    <tr>\n",
       "      <th>6</th>\n",
       "      <td>Amiens</td>\n",
       "      <td>Amiens</td>\n",
       "      <td>FR</td>\n",
       "      <td>Hauts-de-France</td>\n",
       "      <td>49.894171</td>\n",
       "      <td>2.295695</td>\n",
       "    </tr>\n",
       "    <tr>\n",
       "      <th>7</th>\n",
       "      <td>Lille</td>\n",
       "      <td>Lille</td>\n",
       "      <td>FR</td>\n",
       "      <td>Hauts-de-France</td>\n",
       "      <td>50.636565</td>\n",
       "      <td>3.063528</td>\n",
       "    </tr>\n",
       "    <tr>\n",
       "      <th>8</th>\n",
       "      <td>Strasbourg</td>\n",
       "      <td>Strasbourg</td>\n",
       "      <td>FR</td>\n",
       "      <td>Grand Est</td>\n",
       "      <td>48.584614</td>\n",
       "      <td>7.750713</td>\n",
       "    </tr>\n",
       "    <tr>\n",
       "      <th>9</th>\n",
       "      <td>Chateau du Haut Koenigsbourg</td>\n",
       "      <td>Château du Haut-Kœnigsbourg</td>\n",
       "      <td>FR</td>\n",
       "      <td>Grand Est</td>\n",
       "      <td>48.249523</td>\n",
       "      <td>7.345492</td>\n",
       "    </tr>\n",
       "    <tr>\n",
       "      <th>10</th>\n",
       "      <td>Colmar</td>\n",
       "      <td>Colmar</td>\n",
       "      <td>FR</td>\n",
       "      <td>Grand Est</td>\n",
       "      <td>48.077752</td>\n",
       "      <td>7.357964</td>\n",
       "    </tr>\n",
       "    <tr>\n",
       "      <th>11</th>\n",
       "      <td>Eguisheim</td>\n",
       "      <td>Eguisheim</td>\n",
       "      <td>FR</td>\n",
       "      <td>Grand Est</td>\n",
       "      <td>48.044797</td>\n",
       "      <td>7.307962</td>\n",
       "    </tr>\n",
       "    <tr>\n",
       "      <th>12</th>\n",
       "      <td>Besancon</td>\n",
       "      <td>Besançon</td>\n",
       "      <td>FR</td>\n",
       "      <td>Bourgogne-Franche-Comté</td>\n",
       "      <td>47.238022</td>\n",
       "      <td>6.024362</td>\n",
       "    </tr>\n",
       "    <tr>\n",
       "      <th>13</th>\n",
       "      <td>Dijon</td>\n",
       "      <td>Dijon</td>\n",
       "      <td>FR</td>\n",
       "      <td>Bourgogne-Franche-Comté</td>\n",
       "      <td>47.321581</td>\n",
       "      <td>5.04147</td>\n",
       "    </tr>\n",
       "    <tr>\n",
       "      <th>14</th>\n",
       "      <td>Annecy</td>\n",
       "      <td>Annecy</td>\n",
       "      <td>FR</td>\n",
       "      <td>Auvergne-Rhône-Alpes</td>\n",
       "      <td>45.899235</td>\n",
       "      <td>6.128885</td>\n",
       "    </tr>\n",
       "    <tr>\n",
       "      <th>15</th>\n",
       "      <td>Grenoble</td>\n",
       "      <td>Grenoble</td>\n",
       "      <td>FR</td>\n",
       "      <td>Auvergne-Rhône-Alpes</td>\n",
       "      <td>45.18756</td>\n",
       "      <td>5.735782</td>\n",
       "    </tr>\n",
       "    <tr>\n",
       "      <th>16</th>\n",
       "      <td>Lyon</td>\n",
       "      <td>Lyon</td>\n",
       "      <td>FR</td>\n",
       "      <td>Auvergne-Rhône-Alpes</td>\n",
       "      <td>45.757814</td>\n",
       "      <td>4.832011</td>\n",
       "    </tr>\n",
       "    <tr>\n",
       "      <th>17</th>\n",
       "      <td>Bormes les Mimosas</td>\n",
       "      <td>Bormes-les-Mimosas</td>\n",
       "      <td>FR</td>\n",
       "      <td>Provence-Alpes-Côte d'Azur</td>\n",
       "      <td>43.150697</td>\n",
       "      <td>6.341928</td>\n",
       "    </tr>\n",
       "    <tr>\n",
       "      <th>18</th>\n",
       "      <td>Cassis</td>\n",
       "      <td>Cassis</td>\n",
       "      <td>FR</td>\n",
       "      <td>Provence-Alpes-Côte d'Azur</td>\n",
       "      <td>43.214036</td>\n",
       "      <td>5.539632</td>\n",
       "    </tr>\n",
       "    <tr>\n",
       "      <th>19</th>\n",
       "      <td>Marseille</td>\n",
       "      <td>Marseille</td>\n",
       "      <td>FR</td>\n",
       "      <td>Provence-Alpes-Côte d'Azur</td>\n",
       "      <td>43.296174</td>\n",
       "      <td>5.369953</td>\n",
       "    </tr>\n",
       "    <tr>\n",
       "      <th>20</th>\n",
       "      <td>Aix en Provence</td>\n",
       "      <td>Aix-en-Provence</td>\n",
       "      <td>FR</td>\n",
       "      <td>Provence-Alpes-Côte d'Azur</td>\n",
       "      <td>43.529842</td>\n",
       "      <td>5.447474</td>\n",
       "    </tr>\n",
       "    <tr>\n",
       "      <th>21</th>\n",
       "      <td>Avignon</td>\n",
       "      <td>Avignon</td>\n",
       "      <td>FR</td>\n",
       "      <td>Provence-Alpes-Côte d'Azur</td>\n",
       "      <td>43.949249</td>\n",
       "      <td>4.805901</td>\n",
       "    </tr>\n",
       "    <tr>\n",
       "      <th>22</th>\n",
       "      <td>Uzes</td>\n",
       "      <td>Uzès</td>\n",
       "      <td>FR</td>\n",
       "      <td>Occitania</td>\n",
       "      <td>44.012128</td>\n",
       "      <td>4.419672</td>\n",
       "    </tr>\n",
       "    <tr>\n",
       "      <th>23</th>\n",
       "      <td>Nimes</td>\n",
       "      <td>Nimes</td>\n",
       "      <td>FR</td>\n",
       "      <td>Occitania</td>\n",
       "      <td>43.837425</td>\n",
       "      <td>4.360069</td>\n",
       "    </tr>\n",
       "    <tr>\n",
       "      <th>24</th>\n",
       "      <td>Aigues Mortes</td>\n",
       "      <td>Aigues-Mortes</td>\n",
       "      <td>FR</td>\n",
       "      <td>Occitania</td>\n",
       "      <td>43.565823</td>\n",
       "      <td>4.191284</td>\n",
       "    </tr>\n",
       "    <tr>\n",
       "      <th>25</th>\n",
       "      <td>Saintes Maries de la mer</td>\n",
       "      <td>Saintes-Maries-de-la-Mer</td>\n",
       "      <td>FR</td>\n",
       "      <td>Provence-Alpes-Côte d'Azur</td>\n",
       "      <td>43.452277</td>\n",
       "      <td>4.428717</td>\n",
       "    </tr>\n",
       "    <tr>\n",
       "      <th>26</th>\n",
       "      <td>Collioure</td>\n",
       "      <td>Collioure</td>\n",
       "      <td>FR</td>\n",
       "      <td>Occitania</td>\n",
       "      <td>42.52505</td>\n",
       "      <td>3.083155</td>\n",
       "    </tr>\n",
       "    <tr>\n",
       "      <th>27</th>\n",
       "      <td>Carcassonne</td>\n",
       "      <td>Carcassonne</td>\n",
       "      <td>FR</td>\n",
       "      <td>Occitania</td>\n",
       "      <td>43.213036</td>\n",
       "      <td>2.349107</td>\n",
       "    </tr>\n",
       "    <tr>\n",
       "      <th>28</th>\n",
       "      <td>Ariege</td>\n",
       "      <td>Tarascon-sur-Ariège</td>\n",
       "      <td>FR</td>\n",
       "      <td>Occitania</td>\n",
       "      <td>42.845802</td>\n",
       "      <td>1.606759</td>\n",
       "    </tr>\n",
       "    <tr>\n",
       "      <th>29</th>\n",
       "      <td>Toulouse</td>\n",
       "      <td>Toulouse</td>\n",
       "      <td>FR</td>\n",
       "      <td>Occitania</td>\n",
       "      <td>43.604462</td>\n",
       "      <td>1.444247</td>\n",
       "    </tr>\n",
       "    <tr>\n",
       "      <th>30</th>\n",
       "      <td>Montauban</td>\n",
       "      <td>Montauban</td>\n",
       "      <td>FR</td>\n",
       "      <td>Occitania</td>\n",
       "      <td>44.017584</td>\n",
       "      <td>1.354999</td>\n",
       "    </tr>\n",
       "    <tr>\n",
       "      <th>31</th>\n",
       "      <td>Biarritz</td>\n",
       "      <td>Biarritz</td>\n",
       "      <td>FR</td>\n",
       "      <td>Nouvelle-Aquitaine</td>\n",
       "      <td>43.483252</td>\n",
       "      <td>-1.559278</td>\n",
       "    </tr>\n",
       "    <tr>\n",
       "      <th>32</th>\n",
       "      <td>Bayonne</td>\n",
       "      <td>Bayonne</td>\n",
       "      <td>FR</td>\n",
       "      <td>Nouvelle-Aquitaine</td>\n",
       "      <td>43.494514</td>\n",
       "      <td>-1.473666</td>\n",
       "    </tr>\n",
       "    <tr>\n",
       "      <th>33</th>\n",
       "      <td>La Rochelle</td>\n",
       "      <td>La Rochelle</td>\n",
       "      <td>FR</td>\n",
       "      <td>Nouvelle-Aquitaine</td>\n",
       "      <td>46.159113</td>\n",
       "      <td>-1.152043</td>\n",
       "    </tr>\n",
       "    <tr>\n",
       "      <th>34</th>\n",
       "      <td>Gorges du Verdon</td>\n",
       "      <td>None</td>\n",
       "      <td>None</td>\n",
       "      <td>None</td>\n",
       "      <td>43.7496562</td>\n",
       "      <td>6.3285616</td>\n",
       "    </tr>\n",
       "  </tbody>\n",
       "</table>\n",
       "</div>"
      ],
      "text/plain": [
       "                          cities                         name country  \\\n",
       "0              Mont Saint Michel            Mont Saint-Michel      FR   \n",
       "1                        St Malo                   Saint-Malo      FR   \n",
       "2                         Bayeux                       Bayeux      FR   \n",
       "3                       Le Havre                     Le Havre      FR   \n",
       "4                          Rouen                        Rouen      FR   \n",
       "5                          Paris                        Paris      FR   \n",
       "6                         Amiens                       Amiens      FR   \n",
       "7                          Lille                        Lille      FR   \n",
       "8                     Strasbourg                   Strasbourg      FR   \n",
       "9   Chateau du Haut Koenigsbourg  Château du Haut-Kœnigsbourg      FR   \n",
       "10                        Colmar                       Colmar      FR   \n",
       "11                     Eguisheim                    Eguisheim      FR   \n",
       "12                      Besancon                     Besançon      FR   \n",
       "13                         Dijon                        Dijon      FR   \n",
       "14                        Annecy                       Annecy      FR   \n",
       "15                      Grenoble                     Grenoble      FR   \n",
       "16                          Lyon                         Lyon      FR   \n",
       "17            Bormes les Mimosas           Bormes-les-Mimosas      FR   \n",
       "18                        Cassis                       Cassis      FR   \n",
       "19                     Marseille                    Marseille      FR   \n",
       "20               Aix en Provence              Aix-en-Provence      FR   \n",
       "21                       Avignon                      Avignon      FR   \n",
       "22                          Uzes                         Uzès      FR   \n",
       "23                         Nimes                        Nimes      FR   \n",
       "24                 Aigues Mortes                Aigues-Mortes      FR   \n",
       "25      Saintes Maries de la mer     Saintes-Maries-de-la-Mer      FR   \n",
       "26                     Collioure                    Collioure      FR   \n",
       "27                   Carcassonne                  Carcassonne      FR   \n",
       "28                        Ariege          Tarascon-sur-Ariège      FR   \n",
       "29                      Toulouse                     Toulouse      FR   \n",
       "30                     Montauban                    Montauban      FR   \n",
       "31                      Biarritz                     Biarritz      FR   \n",
       "32                       Bayonne                      Bayonne      FR   \n",
       "33                   La Rochelle                  La Rochelle      FR   \n",
       "34              Gorges du Verdon                         None    None   \n",
       "\n",
       "                         state         lat        lon  \n",
       "0                     Normandy   48.635954   -1.51146  \n",
       "1                     Brittany   48.649518  -2.026041  \n",
       "2                     Normandy   49.276462  -0.702474  \n",
       "3                     Normandy   49.493898   0.107973  \n",
       "4                     Normandy   49.440459   1.093966  \n",
       "5                Ile-de-France    48.85889   2.320041  \n",
       "6              Hauts-de-France   49.894171   2.295695  \n",
       "7              Hauts-de-France   50.636565   3.063528  \n",
       "8                    Grand Est   48.584614   7.750713  \n",
       "9                    Grand Est   48.249523   7.345492  \n",
       "10                   Grand Est   48.077752   7.357964  \n",
       "11                   Grand Est   48.044797   7.307962  \n",
       "12     Bourgogne-Franche-Comté   47.238022   6.024362  \n",
       "13     Bourgogne-Franche-Comté   47.321581    5.04147  \n",
       "14        Auvergne-Rhône-Alpes   45.899235   6.128885  \n",
       "15        Auvergne-Rhône-Alpes    45.18756   5.735782  \n",
       "16        Auvergne-Rhône-Alpes   45.757814   4.832011  \n",
       "17  Provence-Alpes-Côte d'Azur   43.150697   6.341928  \n",
       "18  Provence-Alpes-Côte d'Azur   43.214036   5.539632  \n",
       "19  Provence-Alpes-Côte d'Azur   43.296174   5.369953  \n",
       "20  Provence-Alpes-Côte d'Azur   43.529842   5.447474  \n",
       "21  Provence-Alpes-Côte d'Azur   43.949249   4.805901  \n",
       "22                   Occitania   44.012128   4.419672  \n",
       "23                   Occitania   43.837425   4.360069  \n",
       "24                   Occitania   43.565823   4.191284  \n",
       "25  Provence-Alpes-Côte d'Azur   43.452277   4.428717  \n",
       "26                   Occitania    42.52505   3.083155  \n",
       "27                   Occitania   43.213036   2.349107  \n",
       "28                   Occitania   42.845802   1.606759  \n",
       "29                   Occitania   43.604462   1.444247  \n",
       "30                   Occitania   44.017584   1.354999  \n",
       "31          Nouvelle-Aquitaine   43.483252  -1.559278  \n",
       "32          Nouvelle-Aquitaine   43.494514  -1.473666  \n",
       "33          Nouvelle-Aquitaine   46.159113  -1.152043  \n",
       "34                        None  43.7496562  6.3285616  "
      ]
     },
     "execution_count": 358,
     "metadata": {},
     "output_type": "execute_result"
    }
   ],
   "source": [
    "#Fusion des deux dataframes\n",
    "df_merged = pd.concat([df, gdv], ignore_index=True)\n",
    "df_merged"
   ]
  },
  {
   "cell_type": "code",
   "execution_count": 359,
   "metadata": {},
   "outputs": [
    {
     "data": {
      "text/html": [
       "<div style=\"width:100%;\"><div style=\"position:relative;width:100%;height:0;padding-bottom:60%;\"><span style=\"color:#565656\">Make this Notebook Trusted to load map: File -> Trust Notebook</span><iframe srcdoc=\"&lt;!DOCTYPE html&gt;\n",
       "&lt;html&gt;\n",
       "&lt;head&gt;\n",
       "    \n",
       "    &lt;meta http-equiv=&quot;content-type&quot; content=&quot;text/html; charset=UTF-8&quot; /&gt;\n",
       "    \n",
       "        &lt;script&gt;\n",
       "            L_NO_TOUCH = false;\n",
       "            L_DISABLE_3D = false;\n",
       "        &lt;/script&gt;\n",
       "    \n",
       "    &lt;style&gt;html, body {width: 100%;height: 100%;margin: 0;padding: 0;}&lt;/style&gt;\n",
       "    &lt;style&gt;#map {position:absolute;top:0;bottom:0;right:0;left:0;}&lt;/style&gt;\n",
       "    &lt;script src=&quot;https://cdn.jsdelivr.net/npm/leaflet@1.9.3/dist/leaflet.js&quot;&gt;&lt;/script&gt;\n",
       "    &lt;script src=&quot;https://code.jquery.com/jquery-3.7.1.min.js&quot;&gt;&lt;/script&gt;\n",
       "    &lt;script src=&quot;https://cdn.jsdelivr.net/npm/bootstrap@5.2.2/dist/js/bootstrap.bundle.min.js&quot;&gt;&lt;/script&gt;\n",
       "    &lt;script src=&quot;https://cdnjs.cloudflare.com/ajax/libs/Leaflet.awesome-markers/2.0.2/leaflet.awesome-markers.js&quot;&gt;&lt;/script&gt;\n",
       "    &lt;link rel=&quot;stylesheet&quot; href=&quot;https://cdn.jsdelivr.net/npm/leaflet@1.9.3/dist/leaflet.css&quot;/&gt;\n",
       "    &lt;link rel=&quot;stylesheet&quot; href=&quot;https://cdn.jsdelivr.net/npm/bootstrap@5.2.2/dist/css/bootstrap.min.css&quot;/&gt;\n",
       "    &lt;link rel=&quot;stylesheet&quot; href=&quot;https://netdna.bootstrapcdn.com/bootstrap/3.0.0/css/bootstrap-glyphicons.css&quot;/&gt;\n",
       "    &lt;link rel=&quot;stylesheet&quot; href=&quot;https://cdn.jsdelivr.net/npm/@fortawesome/fontawesome-free@6.2.0/css/all.min.css&quot;/&gt;\n",
       "    &lt;link rel=&quot;stylesheet&quot; href=&quot;https://cdnjs.cloudflare.com/ajax/libs/Leaflet.awesome-markers/2.0.2/leaflet.awesome-markers.css&quot;/&gt;\n",
       "    &lt;link rel=&quot;stylesheet&quot; href=&quot;https://cdn.jsdelivr.net/gh/python-visualization/folium/folium/templates/leaflet.awesome.rotate.min.css&quot;/&gt;\n",
       "    \n",
       "            &lt;meta name=&quot;viewport&quot; content=&quot;width=device-width,\n",
       "                initial-scale=1.0, maximum-scale=1.0, user-scalable=no&quot; /&gt;\n",
       "            &lt;style&gt;\n",
       "                #map_ce465677d555d3911d7ef9f3376db9e4 {\n",
       "                    position: relative;\n",
       "                    width: 100.0%;\n",
       "                    height: 100.0%;\n",
       "                    left: 0.0%;\n",
       "                    top: 0.0%;\n",
       "                }\n",
       "                .leaflet-container { font-size: 1rem; }\n",
       "            &lt;/style&gt;\n",
       "        \n",
       "&lt;/head&gt;\n",
       "&lt;body&gt;\n",
       "    \n",
       "    \n",
       "            &lt;div class=&quot;folium-map&quot; id=&quot;map_ce465677d555d3911d7ef9f3376db9e4&quot; &gt;&lt;/div&gt;\n",
       "        \n",
       "&lt;/body&gt;\n",
       "&lt;script&gt;\n",
       "    \n",
       "    \n",
       "            var map_ce465677d555d3911d7ef9f3376db9e4 = L.map(\n",
       "                &quot;map_ce465677d555d3911d7ef9f3376db9e4&quot;,\n",
       "                {\n",
       "                    center: [46.603354, 1.888334],\n",
       "                    crs: L.CRS.EPSG3857,\n",
       "                    ...{\n",
       "  &quot;zoom&quot;: 6,\n",
       "  &quot;zoomControl&quot;: true,\n",
       "  &quot;preferCanvas&quot;: false,\n",
       "}\n",
       "\n",
       "                }\n",
       "            );\n",
       "\n",
       "            \n",
       "\n",
       "        \n",
       "    \n",
       "            var tile_layer_05004d079e1dce63a2e36930ac931879 = L.tileLayer(\n",
       "                &quot;https://tile.openstreetmap.org/{z}/{x}/{y}.png&quot;,\n",
       "                {\n",
       "  &quot;minZoom&quot;: 0,\n",
       "  &quot;maxZoom&quot;: 19,\n",
       "  &quot;maxNativeZoom&quot;: 19,\n",
       "  &quot;noWrap&quot;: false,\n",
       "  &quot;attribution&quot;: &quot;\\u0026copy; \\u003ca href=\\&quot;https://www.openstreetmap.org/copyright\\&quot;\\u003eOpenStreetMap\\u003c/a\\u003e contributors&quot;,\n",
       "  &quot;subdomains&quot;: &quot;abc&quot;,\n",
       "  &quot;detectRetina&quot;: false,\n",
       "  &quot;tms&quot;: false,\n",
       "  &quot;opacity&quot;: 1,\n",
       "}\n",
       "\n",
       "            );\n",
       "        \n",
       "    \n",
       "            tile_layer_05004d079e1dce63a2e36930ac931879.addTo(map_ce465677d555d3911d7ef9f3376db9e4);\n",
       "        \n",
       "    \n",
       "            var marker_83d1c0f093292c2dec4ed4ae583f7201 = L.marker(\n",
       "                [48.6359541, -1.511459954959514],\n",
       "                {\n",
       "}\n",
       "            ).addTo(map_ce465677d555d3911d7ef9f3376db9e4);\n",
       "        \n",
       "    \n",
       "        var custom_icon_c9465e434a35a67fde0e2970b77d3d63 = L.icon({\n",
       "  &quot;iconUrl&quot;: &quot;https://images.icon-icons.com/3565/PNG/512/tree_flower_plant_nature_landscape_icon_225325.png&quot;,\n",
       "  &quot;iconSize&quot;: [40, 40],\n",
       "});\n",
       "        marker_83d1c0f093292c2dec4ed4ae583f7201.setIcon(custom_icon_c9465e434a35a67fde0e2970b77d3d63);\n",
       "        \n",
       "    \n",
       "        var popup_d2a06e145892498846cdbef9c6f478c9 = L.popup({\n",
       "  &quot;maxWidth&quot;: &quot;100%&quot;,\n",
       "});\n",
       "\n",
       "        \n",
       "            \n",
       "                var html_ef0a8c3f2d6cad80e82533e68db1b199 = $(`&lt;div id=&quot;html_ef0a8c3f2d6cad80e82533e68db1b199&quot; style=&quot;width: 100.0%; height: 100.0%;&quot;&gt;Mont Saint Michel&lt;/div&gt;`)[0];\n",
       "                popup_d2a06e145892498846cdbef9c6f478c9.setContent(html_ef0a8c3f2d6cad80e82533e68db1b199);\n",
       "            \n",
       "        \n",
       "\n",
       "        marker_83d1c0f093292c2dec4ed4ae583f7201.bindPopup(popup_d2a06e145892498846cdbef9c6f478c9)\n",
       "        ;\n",
       "\n",
       "        \n",
       "    \n",
       "    \n",
       "                marker_83d1c0f093292c2dec4ed4ae583f7201.setIcon(custom_icon_c9465e434a35a67fde0e2970b77d3d63);\n",
       "            \n",
       "    \n",
       "            var marker_6ec1b5814430ebb28bf0ca5e04934589 = L.marker(\n",
       "                [48.649518, -2.0260409],\n",
       "                {\n",
       "}\n",
       "            ).addTo(map_ce465677d555d3911d7ef9f3376db9e4);\n",
       "        \n",
       "    \n",
       "        var custom_icon_00c3be2c4adca5930d0877fb3fa780b0 = L.icon({\n",
       "  &quot;iconUrl&quot;: &quot;https://images.icon-icons.com/3565/PNG/512/tree_flower_plant_nature_landscape_icon_225325.png&quot;,\n",
       "  &quot;iconSize&quot;: [40, 40],\n",
       "});\n",
       "        marker_6ec1b5814430ebb28bf0ca5e04934589.setIcon(custom_icon_00c3be2c4adca5930d0877fb3fa780b0);\n",
       "        \n",
       "    \n",
       "        var popup_0c298ab8644a0d60b4193cb366b96708 = L.popup({\n",
       "  &quot;maxWidth&quot;: &quot;100%&quot;,\n",
       "});\n",
       "\n",
       "        \n",
       "            \n",
       "                var html_ee541d26bf0ca1002fa216a5dda32d6a = $(`&lt;div id=&quot;html_ee541d26bf0ca1002fa216a5dda32d6a&quot; style=&quot;width: 100.0%; height: 100.0%;&quot;&gt;St Malo&lt;/div&gt;`)[0];\n",
       "                popup_0c298ab8644a0d60b4193cb366b96708.setContent(html_ee541d26bf0ca1002fa216a5dda32d6a);\n",
       "            \n",
       "        \n",
       "\n",
       "        marker_6ec1b5814430ebb28bf0ca5e04934589.bindPopup(popup_0c298ab8644a0d60b4193cb366b96708)\n",
       "        ;\n",
       "\n",
       "        \n",
       "    \n",
       "    \n",
       "                marker_6ec1b5814430ebb28bf0ca5e04934589.setIcon(custom_icon_00c3be2c4adca5930d0877fb3fa780b0);\n",
       "            \n",
       "    \n",
       "            var marker_3bf7a9f2e2fb69956876ad985a4ec78f = L.marker(\n",
       "                [49.2764624, -0.7024738],\n",
       "                {\n",
       "}\n",
       "            ).addTo(map_ce465677d555d3911d7ef9f3376db9e4);\n",
       "        \n",
       "    \n",
       "        var custom_icon_d7247b89b82fd39e1eb89207eeb9f3be = L.icon({\n",
       "  &quot;iconUrl&quot;: &quot;https://images.icon-icons.com/3565/PNG/512/tree_flower_plant_nature_landscape_icon_225325.png&quot;,\n",
       "  &quot;iconSize&quot;: [40, 40],\n",
       "});\n",
       "        marker_3bf7a9f2e2fb69956876ad985a4ec78f.setIcon(custom_icon_d7247b89b82fd39e1eb89207eeb9f3be);\n",
       "        \n",
       "    \n",
       "        var popup_e4db80d977b0ebd856462a9dad562bc8 = L.popup({\n",
       "  &quot;maxWidth&quot;: &quot;100%&quot;,\n",
       "});\n",
       "\n",
       "        \n",
       "            \n",
       "                var html_d5f1474c368bbe3c411d26726c7f5944 = $(`&lt;div id=&quot;html_d5f1474c368bbe3c411d26726c7f5944&quot; style=&quot;width: 100.0%; height: 100.0%;&quot;&gt;Bayeux&lt;/div&gt;`)[0];\n",
       "                popup_e4db80d977b0ebd856462a9dad562bc8.setContent(html_d5f1474c368bbe3c411d26726c7f5944);\n",
       "            \n",
       "        \n",
       "\n",
       "        marker_3bf7a9f2e2fb69956876ad985a4ec78f.bindPopup(popup_e4db80d977b0ebd856462a9dad562bc8)\n",
       "        ;\n",
       "\n",
       "        \n",
       "    \n",
       "    \n",
       "                marker_3bf7a9f2e2fb69956876ad985a4ec78f.setIcon(custom_icon_d7247b89b82fd39e1eb89207eeb9f3be);\n",
       "            \n",
       "    \n",
       "            var marker_9b9bd6982b576a608ce59e2f89e31d8a = L.marker(\n",
       "                [49.4938975, 0.1079732],\n",
       "                {\n",
       "}\n",
       "            ).addTo(map_ce465677d555d3911d7ef9f3376db9e4);\n",
       "        \n",
       "    \n",
       "        var custom_icon_a21ef1f8a3ae06f5408507bfc7c109fb = L.icon({\n",
       "  &quot;iconUrl&quot;: &quot;https://images.icon-icons.com/3565/PNG/512/tree_flower_plant_nature_landscape_icon_225325.png&quot;,\n",
       "  &quot;iconSize&quot;: [40, 40],\n",
       "});\n",
       "        marker_9b9bd6982b576a608ce59e2f89e31d8a.setIcon(custom_icon_a21ef1f8a3ae06f5408507bfc7c109fb);\n",
       "        \n",
       "    \n",
       "        var popup_bbd91925fd54fe02b8c36a31252eb899 = L.popup({\n",
       "  &quot;maxWidth&quot;: &quot;100%&quot;,\n",
       "});\n",
       "\n",
       "        \n",
       "            \n",
       "                var html_6a44849c7cf2ef838975652c0ad1558e = $(`&lt;div id=&quot;html_6a44849c7cf2ef838975652c0ad1558e&quot; style=&quot;width: 100.0%; height: 100.0%;&quot;&gt;Le Havre&lt;/div&gt;`)[0];\n",
       "                popup_bbd91925fd54fe02b8c36a31252eb899.setContent(html_6a44849c7cf2ef838975652c0ad1558e);\n",
       "            \n",
       "        \n",
       "\n",
       "        marker_9b9bd6982b576a608ce59e2f89e31d8a.bindPopup(popup_bbd91925fd54fe02b8c36a31252eb899)\n",
       "        ;\n",
       "\n",
       "        \n",
       "    \n",
       "    \n",
       "                marker_9b9bd6982b576a608ce59e2f89e31d8a.setIcon(custom_icon_a21ef1f8a3ae06f5408507bfc7c109fb);\n",
       "            \n",
       "    \n",
       "            var marker_c4191b0a48e207da821a1951db3e2c28 = L.marker(\n",
       "                [49.4404591, 1.0939658],\n",
       "                {\n",
       "}\n",
       "            ).addTo(map_ce465677d555d3911d7ef9f3376db9e4);\n",
       "        \n",
       "    \n",
       "        var custom_icon_e4078a55305e9cf2c557c62714149aa8 = L.icon({\n",
       "  &quot;iconUrl&quot;: &quot;https://images.icon-icons.com/3565/PNG/512/tree_flower_plant_nature_landscape_icon_225325.png&quot;,\n",
       "  &quot;iconSize&quot;: [40, 40],\n",
       "});\n",
       "        marker_c4191b0a48e207da821a1951db3e2c28.setIcon(custom_icon_e4078a55305e9cf2c557c62714149aa8);\n",
       "        \n",
       "    \n",
       "        var popup_b94c2571f8feb2c32d4c06888bd52c77 = L.popup({\n",
       "  &quot;maxWidth&quot;: &quot;100%&quot;,\n",
       "});\n",
       "\n",
       "        \n",
       "            \n",
       "                var html_b332195a5e88fd507ae2db9fa347d9f3 = $(`&lt;div id=&quot;html_b332195a5e88fd507ae2db9fa347d9f3&quot; style=&quot;width: 100.0%; height: 100.0%;&quot;&gt;Rouen&lt;/div&gt;`)[0];\n",
       "                popup_b94c2571f8feb2c32d4c06888bd52c77.setContent(html_b332195a5e88fd507ae2db9fa347d9f3);\n",
       "            \n",
       "        \n",
       "\n",
       "        marker_c4191b0a48e207da821a1951db3e2c28.bindPopup(popup_b94c2571f8feb2c32d4c06888bd52c77)\n",
       "        ;\n",
       "\n",
       "        \n",
       "    \n",
       "    \n",
       "                marker_c4191b0a48e207da821a1951db3e2c28.setIcon(custom_icon_e4078a55305e9cf2c557c62714149aa8);\n",
       "            \n",
       "    \n",
       "            var marker_fcf68f472898e78dec24f2019caa96ba = L.marker(\n",
       "                [48.8588897, 2.3200410217200766],\n",
       "                {\n",
       "}\n",
       "            ).addTo(map_ce465677d555d3911d7ef9f3376db9e4);\n",
       "        \n",
       "    \n",
       "        var custom_icon_6474c49d7e0a703d591a959515adb279 = L.icon({\n",
       "  &quot;iconUrl&quot;: &quot;https://images.icon-icons.com/3565/PNG/512/tree_flower_plant_nature_landscape_icon_225325.png&quot;,\n",
       "  &quot;iconSize&quot;: [40, 40],\n",
       "});\n",
       "        marker_fcf68f472898e78dec24f2019caa96ba.setIcon(custom_icon_6474c49d7e0a703d591a959515adb279);\n",
       "        \n",
       "    \n",
       "        var popup_7a0bd0bb6cb0921bd438af7c421e6533 = L.popup({\n",
       "  &quot;maxWidth&quot;: &quot;100%&quot;,\n",
       "});\n",
       "\n",
       "        \n",
       "            \n",
       "                var html_4aa0efe04edbf343e72162b48d9b316c = $(`&lt;div id=&quot;html_4aa0efe04edbf343e72162b48d9b316c&quot; style=&quot;width: 100.0%; height: 100.0%;&quot;&gt;Paris&lt;/div&gt;`)[0];\n",
       "                popup_7a0bd0bb6cb0921bd438af7c421e6533.setContent(html_4aa0efe04edbf343e72162b48d9b316c);\n",
       "            \n",
       "        \n",
       "\n",
       "        marker_fcf68f472898e78dec24f2019caa96ba.bindPopup(popup_7a0bd0bb6cb0921bd438af7c421e6533)\n",
       "        ;\n",
       "\n",
       "        \n",
       "    \n",
       "    \n",
       "                marker_fcf68f472898e78dec24f2019caa96ba.setIcon(custom_icon_6474c49d7e0a703d591a959515adb279);\n",
       "            \n",
       "    \n",
       "            var marker_7498fe22dc66c37592195bc74bf60448 = L.marker(\n",
       "                [49.8941708, 2.2956951],\n",
       "                {\n",
       "}\n",
       "            ).addTo(map_ce465677d555d3911d7ef9f3376db9e4);\n",
       "        \n",
       "    \n",
       "        var custom_icon_0e93d96e8a7f56ddacd026c9de5b9771 = L.icon({\n",
       "  &quot;iconUrl&quot;: &quot;https://images.icon-icons.com/3565/PNG/512/tree_flower_plant_nature_landscape_icon_225325.png&quot;,\n",
       "  &quot;iconSize&quot;: [40, 40],\n",
       "});\n",
       "        marker_7498fe22dc66c37592195bc74bf60448.setIcon(custom_icon_0e93d96e8a7f56ddacd026c9de5b9771);\n",
       "        \n",
       "    \n",
       "        var popup_6d9895d4943859ffb012ca0035d8d757 = L.popup({\n",
       "  &quot;maxWidth&quot;: &quot;100%&quot;,\n",
       "});\n",
       "\n",
       "        \n",
       "            \n",
       "                var html_e3412078978f1cfc3a2be5b2523d670c = $(`&lt;div id=&quot;html_e3412078978f1cfc3a2be5b2523d670c&quot; style=&quot;width: 100.0%; height: 100.0%;&quot;&gt;Amiens&lt;/div&gt;`)[0];\n",
       "                popup_6d9895d4943859ffb012ca0035d8d757.setContent(html_e3412078978f1cfc3a2be5b2523d670c);\n",
       "            \n",
       "        \n",
       "\n",
       "        marker_7498fe22dc66c37592195bc74bf60448.bindPopup(popup_6d9895d4943859ffb012ca0035d8d757)\n",
       "        ;\n",
       "\n",
       "        \n",
       "    \n",
       "    \n",
       "                marker_7498fe22dc66c37592195bc74bf60448.setIcon(custom_icon_0e93d96e8a7f56ddacd026c9de5b9771);\n",
       "            \n",
       "    \n",
       "            var marker_12c2610b8a93b5235ee81904c46008d0 = L.marker(\n",
       "                [50.6365654, 3.0635282],\n",
       "                {\n",
       "}\n",
       "            ).addTo(map_ce465677d555d3911d7ef9f3376db9e4);\n",
       "        \n",
       "    \n",
       "        var custom_icon_afa37a4a9b7fd72f05d01084ad7b621c = L.icon({\n",
       "  &quot;iconUrl&quot;: &quot;https://images.icon-icons.com/3565/PNG/512/tree_flower_plant_nature_landscape_icon_225325.png&quot;,\n",
       "  &quot;iconSize&quot;: [40, 40],\n",
       "});\n",
       "        marker_12c2610b8a93b5235ee81904c46008d0.setIcon(custom_icon_afa37a4a9b7fd72f05d01084ad7b621c);\n",
       "        \n",
       "    \n",
       "        var popup_f84ac8cdccd9cf403e0f4ce7cfd840fa = L.popup({\n",
       "  &quot;maxWidth&quot;: &quot;100%&quot;,\n",
       "});\n",
       "\n",
       "        \n",
       "            \n",
       "                var html_81a192619b158c9f5602c3523a91cb94 = $(`&lt;div id=&quot;html_81a192619b158c9f5602c3523a91cb94&quot; style=&quot;width: 100.0%; height: 100.0%;&quot;&gt;Lille&lt;/div&gt;`)[0];\n",
       "                popup_f84ac8cdccd9cf403e0f4ce7cfd840fa.setContent(html_81a192619b158c9f5602c3523a91cb94);\n",
       "            \n",
       "        \n",
       "\n",
       "        marker_12c2610b8a93b5235ee81904c46008d0.bindPopup(popup_f84ac8cdccd9cf403e0f4ce7cfd840fa)\n",
       "        ;\n",
       "\n",
       "        \n",
       "    \n",
       "    \n",
       "                marker_12c2610b8a93b5235ee81904c46008d0.setIcon(custom_icon_afa37a4a9b7fd72f05d01084ad7b621c);\n",
       "            \n",
       "    \n",
       "            var marker_b134c25ef91bab8b012602c1f1537ef0 = L.marker(\n",
       "                [48.584614, 7.7507127],\n",
       "                {\n",
       "}\n",
       "            ).addTo(map_ce465677d555d3911d7ef9f3376db9e4);\n",
       "        \n",
       "    \n",
       "        var custom_icon_d242c6ceb130cf065031058bb1aa712b = L.icon({\n",
       "  &quot;iconUrl&quot;: &quot;https://images.icon-icons.com/3565/PNG/512/tree_flower_plant_nature_landscape_icon_225325.png&quot;,\n",
       "  &quot;iconSize&quot;: [40, 40],\n",
       "});\n",
       "        marker_b134c25ef91bab8b012602c1f1537ef0.setIcon(custom_icon_d242c6ceb130cf065031058bb1aa712b);\n",
       "        \n",
       "    \n",
       "        var popup_f967ed711cb6fff14970dcde0a2c7e07 = L.popup({\n",
       "  &quot;maxWidth&quot;: &quot;100%&quot;,\n",
       "});\n",
       "\n",
       "        \n",
       "            \n",
       "                var html_851a675737fd92c11f4b999cb00da221 = $(`&lt;div id=&quot;html_851a675737fd92c11f4b999cb00da221&quot; style=&quot;width: 100.0%; height: 100.0%;&quot;&gt;Strasbourg&lt;/div&gt;`)[0];\n",
       "                popup_f967ed711cb6fff14970dcde0a2c7e07.setContent(html_851a675737fd92c11f4b999cb00da221);\n",
       "            \n",
       "        \n",
       "\n",
       "        marker_b134c25ef91bab8b012602c1f1537ef0.bindPopup(popup_f967ed711cb6fff14970dcde0a2c7e07)\n",
       "        ;\n",
       "\n",
       "        \n",
       "    \n",
       "    \n",
       "                marker_b134c25ef91bab8b012602c1f1537ef0.setIcon(custom_icon_d242c6ceb130cf065031058bb1aa712b);\n",
       "            \n",
       "    \n",
       "            var marker_bdb84d30c06a90f03589c0ab91f58955 = L.marker(\n",
       "                [48.2495226, 7.3454923],\n",
       "                {\n",
       "}\n",
       "            ).addTo(map_ce465677d555d3911d7ef9f3376db9e4);\n",
       "        \n",
       "    \n",
       "        var custom_icon_22dc443e67aac292f761b2f197dd0693 = L.icon({\n",
       "  &quot;iconUrl&quot;: &quot;https://images.icon-icons.com/3565/PNG/512/tree_flower_plant_nature_landscape_icon_225325.png&quot;,\n",
       "  &quot;iconSize&quot;: [40, 40],\n",
       "});\n",
       "        marker_bdb84d30c06a90f03589c0ab91f58955.setIcon(custom_icon_22dc443e67aac292f761b2f197dd0693);\n",
       "        \n",
       "    \n",
       "        var popup_e25d8be5a336ffa2a577e3b29befe905 = L.popup({\n",
       "  &quot;maxWidth&quot;: &quot;100%&quot;,\n",
       "});\n",
       "\n",
       "        \n",
       "            \n",
       "                var html_c6bf594f0ecabf1569a15e984c585a6a = $(`&lt;div id=&quot;html_c6bf594f0ecabf1569a15e984c585a6a&quot; style=&quot;width: 100.0%; height: 100.0%;&quot;&gt;Chateau du Haut Koenigsbourg&lt;/div&gt;`)[0];\n",
       "                popup_e25d8be5a336ffa2a577e3b29befe905.setContent(html_c6bf594f0ecabf1569a15e984c585a6a);\n",
       "            \n",
       "        \n",
       "\n",
       "        marker_bdb84d30c06a90f03589c0ab91f58955.bindPopup(popup_e25d8be5a336ffa2a577e3b29befe905)\n",
       "        ;\n",
       "\n",
       "        \n",
       "    \n",
       "    \n",
       "                marker_bdb84d30c06a90f03589c0ab91f58955.setIcon(custom_icon_22dc443e67aac292f761b2f197dd0693);\n",
       "            \n",
       "    \n",
       "            var marker_47df8afc3dcafb57691311794c597050 = L.marker(\n",
       "                [48.0777517, 7.3579641],\n",
       "                {\n",
       "}\n",
       "            ).addTo(map_ce465677d555d3911d7ef9f3376db9e4);\n",
       "        \n",
       "    \n",
       "        var custom_icon_94b8a47bfa8e567d012c4c0a0dcbe3ce = L.icon({\n",
       "  &quot;iconUrl&quot;: &quot;https://images.icon-icons.com/3565/PNG/512/tree_flower_plant_nature_landscape_icon_225325.png&quot;,\n",
       "  &quot;iconSize&quot;: [40, 40],\n",
       "});\n",
       "        marker_47df8afc3dcafb57691311794c597050.setIcon(custom_icon_94b8a47bfa8e567d012c4c0a0dcbe3ce);\n",
       "        \n",
       "    \n",
       "        var popup_ff4a826947c63899915efa34244125db = L.popup({\n",
       "  &quot;maxWidth&quot;: &quot;100%&quot;,\n",
       "});\n",
       "\n",
       "        \n",
       "            \n",
       "                var html_f6481c53b77c57fedb572a6fc018f871 = $(`&lt;div id=&quot;html_f6481c53b77c57fedb572a6fc018f871&quot; style=&quot;width: 100.0%; height: 100.0%;&quot;&gt;Colmar&lt;/div&gt;`)[0];\n",
       "                popup_ff4a826947c63899915efa34244125db.setContent(html_f6481c53b77c57fedb572a6fc018f871);\n",
       "            \n",
       "        \n",
       "\n",
       "        marker_47df8afc3dcafb57691311794c597050.bindPopup(popup_ff4a826947c63899915efa34244125db)\n",
       "        ;\n",
       "\n",
       "        \n",
       "    \n",
       "    \n",
       "                marker_47df8afc3dcafb57691311794c597050.setIcon(custom_icon_94b8a47bfa8e567d012c4c0a0dcbe3ce);\n",
       "            \n",
       "    \n",
       "            var marker_721d5c7fd10fb38e88de93be58a0c5be = L.marker(\n",
       "                [48.0447968, 7.3079618],\n",
       "                {\n",
       "}\n",
       "            ).addTo(map_ce465677d555d3911d7ef9f3376db9e4);\n",
       "        \n",
       "    \n",
       "        var custom_icon_b7a13d94068fc6956617164aa64fc9de = L.icon({\n",
       "  &quot;iconUrl&quot;: &quot;https://images.icon-icons.com/3565/PNG/512/tree_flower_plant_nature_landscape_icon_225325.png&quot;,\n",
       "  &quot;iconSize&quot;: [40, 40],\n",
       "});\n",
       "        marker_721d5c7fd10fb38e88de93be58a0c5be.setIcon(custom_icon_b7a13d94068fc6956617164aa64fc9de);\n",
       "        \n",
       "    \n",
       "        var popup_d837159b27db56d8356c4e39a287bdd9 = L.popup({\n",
       "  &quot;maxWidth&quot;: &quot;100%&quot;,\n",
       "});\n",
       "\n",
       "        \n",
       "            \n",
       "                var html_820a328273480de5b3bdd72a04221af2 = $(`&lt;div id=&quot;html_820a328273480de5b3bdd72a04221af2&quot; style=&quot;width: 100.0%; height: 100.0%;&quot;&gt;Eguisheim&lt;/div&gt;`)[0];\n",
       "                popup_d837159b27db56d8356c4e39a287bdd9.setContent(html_820a328273480de5b3bdd72a04221af2);\n",
       "            \n",
       "        \n",
       "\n",
       "        marker_721d5c7fd10fb38e88de93be58a0c5be.bindPopup(popup_d837159b27db56d8356c4e39a287bdd9)\n",
       "        ;\n",
       "\n",
       "        \n",
       "    \n",
       "    \n",
       "                marker_721d5c7fd10fb38e88de93be58a0c5be.setIcon(custom_icon_b7a13d94068fc6956617164aa64fc9de);\n",
       "            \n",
       "    \n",
       "            var marker_2a49aa8ebb932eb1540d9684ef338fab = L.marker(\n",
       "                [47.2380222, 6.0243622],\n",
       "                {\n",
       "}\n",
       "            ).addTo(map_ce465677d555d3911d7ef9f3376db9e4);\n",
       "        \n",
       "    \n",
       "        var custom_icon_ee51656fd88eb27ad40ca7a2d3e8a1c5 = L.icon({\n",
       "  &quot;iconUrl&quot;: &quot;https://images.icon-icons.com/3565/PNG/512/tree_flower_plant_nature_landscape_icon_225325.png&quot;,\n",
       "  &quot;iconSize&quot;: [40, 40],\n",
       "});\n",
       "        marker_2a49aa8ebb932eb1540d9684ef338fab.setIcon(custom_icon_ee51656fd88eb27ad40ca7a2d3e8a1c5);\n",
       "        \n",
       "    \n",
       "        var popup_aee28195ac079d3c6b0bebb506efa735 = L.popup({\n",
       "  &quot;maxWidth&quot;: &quot;100%&quot;,\n",
       "});\n",
       "\n",
       "        \n",
       "            \n",
       "                var html_7d4baf83c613ceeade0da85b2a8a179e = $(`&lt;div id=&quot;html_7d4baf83c613ceeade0da85b2a8a179e&quot; style=&quot;width: 100.0%; height: 100.0%;&quot;&gt;Besancon&lt;/div&gt;`)[0];\n",
       "                popup_aee28195ac079d3c6b0bebb506efa735.setContent(html_7d4baf83c613ceeade0da85b2a8a179e);\n",
       "            \n",
       "        \n",
       "\n",
       "        marker_2a49aa8ebb932eb1540d9684ef338fab.bindPopup(popup_aee28195ac079d3c6b0bebb506efa735)\n",
       "        ;\n",
       "\n",
       "        \n",
       "    \n",
       "    \n",
       "                marker_2a49aa8ebb932eb1540d9684ef338fab.setIcon(custom_icon_ee51656fd88eb27ad40ca7a2d3e8a1c5);\n",
       "            \n",
       "    \n",
       "            var marker_a2e4d111f831f3152ad562fb8d0f7832 = L.marker(\n",
       "                [47.3215806, 5.0414701],\n",
       "                {\n",
       "}\n",
       "            ).addTo(map_ce465677d555d3911d7ef9f3376db9e4);\n",
       "        \n",
       "    \n",
       "        var custom_icon_fd301d7bc8ba0a5096f3d28f6b39df00 = L.icon({\n",
       "  &quot;iconUrl&quot;: &quot;https://images.icon-icons.com/3565/PNG/512/tree_flower_plant_nature_landscape_icon_225325.png&quot;,\n",
       "  &quot;iconSize&quot;: [40, 40],\n",
       "});\n",
       "        marker_a2e4d111f831f3152ad562fb8d0f7832.setIcon(custom_icon_fd301d7bc8ba0a5096f3d28f6b39df00);\n",
       "        \n",
       "    \n",
       "        var popup_94413d48c21347c06ea1cf51a13004ce = L.popup({\n",
       "  &quot;maxWidth&quot;: &quot;100%&quot;,\n",
       "});\n",
       "\n",
       "        \n",
       "            \n",
       "                var html_a9b135f1bc42c503065708c262bc2245 = $(`&lt;div id=&quot;html_a9b135f1bc42c503065708c262bc2245&quot; style=&quot;width: 100.0%; height: 100.0%;&quot;&gt;Dijon&lt;/div&gt;`)[0];\n",
       "                popup_94413d48c21347c06ea1cf51a13004ce.setContent(html_a9b135f1bc42c503065708c262bc2245);\n",
       "            \n",
       "        \n",
       "\n",
       "        marker_a2e4d111f831f3152ad562fb8d0f7832.bindPopup(popup_94413d48c21347c06ea1cf51a13004ce)\n",
       "        ;\n",
       "\n",
       "        \n",
       "    \n",
       "    \n",
       "                marker_a2e4d111f831f3152ad562fb8d0f7832.setIcon(custom_icon_fd301d7bc8ba0a5096f3d28f6b39df00);\n",
       "            \n",
       "    \n",
       "            var marker_b58072ecb3258c22a7edd3a41ab179e8 = L.marker(\n",
       "                [45.8992348, 6.1288847],\n",
       "                {\n",
       "}\n",
       "            ).addTo(map_ce465677d555d3911d7ef9f3376db9e4);\n",
       "        \n",
       "    \n",
       "        var custom_icon_dac726d668fe27c57e9271a845d8487b = L.icon({\n",
       "  &quot;iconUrl&quot;: &quot;https://images.icon-icons.com/3565/PNG/512/tree_flower_plant_nature_landscape_icon_225325.png&quot;,\n",
       "  &quot;iconSize&quot;: [40, 40],\n",
       "});\n",
       "        marker_b58072ecb3258c22a7edd3a41ab179e8.setIcon(custom_icon_dac726d668fe27c57e9271a845d8487b);\n",
       "        \n",
       "    \n",
       "        var popup_30f4c6554dba5511a54d236b5af6d3e6 = L.popup({\n",
       "  &quot;maxWidth&quot;: &quot;100%&quot;,\n",
       "});\n",
       "\n",
       "        \n",
       "            \n",
       "                var html_8cf7450b54652e07d9cc909f7ad20c30 = $(`&lt;div id=&quot;html_8cf7450b54652e07d9cc909f7ad20c30&quot; style=&quot;width: 100.0%; height: 100.0%;&quot;&gt;Annecy&lt;/div&gt;`)[0];\n",
       "                popup_30f4c6554dba5511a54d236b5af6d3e6.setContent(html_8cf7450b54652e07d9cc909f7ad20c30);\n",
       "            \n",
       "        \n",
       "\n",
       "        marker_b58072ecb3258c22a7edd3a41ab179e8.bindPopup(popup_30f4c6554dba5511a54d236b5af6d3e6)\n",
       "        ;\n",
       "\n",
       "        \n",
       "    \n",
       "    \n",
       "                marker_b58072ecb3258c22a7edd3a41ab179e8.setIcon(custom_icon_dac726d668fe27c57e9271a845d8487b);\n",
       "            \n",
       "    \n",
       "            var marker_b8427f89b737d664a66261cddfb1b24e = L.marker(\n",
       "                [45.1875602, 5.7357819],\n",
       "                {\n",
       "}\n",
       "            ).addTo(map_ce465677d555d3911d7ef9f3376db9e4);\n",
       "        \n",
       "    \n",
       "        var custom_icon_fc0053909eea87297bdfeabced23ffdd = L.icon({\n",
       "  &quot;iconUrl&quot;: &quot;https://images.icon-icons.com/3565/PNG/512/tree_flower_plant_nature_landscape_icon_225325.png&quot;,\n",
       "  &quot;iconSize&quot;: [40, 40],\n",
       "});\n",
       "        marker_b8427f89b737d664a66261cddfb1b24e.setIcon(custom_icon_fc0053909eea87297bdfeabced23ffdd);\n",
       "        \n",
       "    \n",
       "        var popup_832638ed7ff084ae45199b9469d7b8df = L.popup({\n",
       "  &quot;maxWidth&quot;: &quot;100%&quot;,\n",
       "});\n",
       "\n",
       "        \n",
       "            \n",
       "                var html_97e957485216ad5ef3704e0b996e55db = $(`&lt;div id=&quot;html_97e957485216ad5ef3704e0b996e55db&quot; style=&quot;width: 100.0%; height: 100.0%;&quot;&gt;Grenoble&lt;/div&gt;`)[0];\n",
       "                popup_832638ed7ff084ae45199b9469d7b8df.setContent(html_97e957485216ad5ef3704e0b996e55db);\n",
       "            \n",
       "        \n",
       "\n",
       "        marker_b8427f89b737d664a66261cddfb1b24e.bindPopup(popup_832638ed7ff084ae45199b9469d7b8df)\n",
       "        ;\n",
       "\n",
       "        \n",
       "    \n",
       "    \n",
       "                marker_b8427f89b737d664a66261cddfb1b24e.setIcon(custom_icon_fc0053909eea87297bdfeabced23ffdd);\n",
       "            \n",
       "    \n",
       "            var marker_90e528645282cd7e0e100486c1e4eb98 = L.marker(\n",
       "                [45.7578137, 4.8320114],\n",
       "                {\n",
       "}\n",
       "            ).addTo(map_ce465677d555d3911d7ef9f3376db9e4);\n",
       "        \n",
       "    \n",
       "        var custom_icon_e79b113bf680f330316c694f8732a0c2 = L.icon({\n",
       "  &quot;iconUrl&quot;: &quot;https://images.icon-icons.com/3565/PNG/512/tree_flower_plant_nature_landscape_icon_225325.png&quot;,\n",
       "  &quot;iconSize&quot;: [40, 40],\n",
       "});\n",
       "        marker_90e528645282cd7e0e100486c1e4eb98.setIcon(custom_icon_e79b113bf680f330316c694f8732a0c2);\n",
       "        \n",
       "    \n",
       "        var popup_f9fd71b66b92b508adeb0acc2de86451 = L.popup({\n",
       "  &quot;maxWidth&quot;: &quot;100%&quot;,\n",
       "});\n",
       "\n",
       "        \n",
       "            \n",
       "                var html_0be4dfadb7f325d3bd816eec6701c4b1 = $(`&lt;div id=&quot;html_0be4dfadb7f325d3bd816eec6701c4b1&quot; style=&quot;width: 100.0%; height: 100.0%;&quot;&gt;Lyon&lt;/div&gt;`)[0];\n",
       "                popup_f9fd71b66b92b508adeb0acc2de86451.setContent(html_0be4dfadb7f325d3bd816eec6701c4b1);\n",
       "            \n",
       "        \n",
       "\n",
       "        marker_90e528645282cd7e0e100486c1e4eb98.bindPopup(popup_f9fd71b66b92b508adeb0acc2de86451)\n",
       "        ;\n",
       "\n",
       "        \n",
       "    \n",
       "    \n",
       "                marker_90e528645282cd7e0e100486c1e4eb98.setIcon(custom_icon_e79b113bf680f330316c694f8732a0c2);\n",
       "            \n",
       "    \n",
       "            var marker_d67aa94a014142fb2f0130013459d15c = L.marker(\n",
       "                [43.1506968, 6.3419285],\n",
       "                {\n",
       "}\n",
       "            ).addTo(map_ce465677d555d3911d7ef9f3376db9e4);\n",
       "        \n",
       "    \n",
       "        var custom_icon_15d29ed93c4bf041f9892b4e2a749759 = L.icon({\n",
       "  &quot;iconUrl&quot;: &quot;https://images.icon-icons.com/3565/PNG/512/tree_flower_plant_nature_landscape_icon_225325.png&quot;,\n",
       "  &quot;iconSize&quot;: [40, 40],\n",
       "});\n",
       "        marker_d67aa94a014142fb2f0130013459d15c.setIcon(custom_icon_15d29ed93c4bf041f9892b4e2a749759);\n",
       "        \n",
       "    \n",
       "        var popup_928e6f9f7ba96f7a05c21213b43b232e = L.popup({\n",
       "  &quot;maxWidth&quot;: &quot;100%&quot;,\n",
       "});\n",
       "\n",
       "        \n",
       "            \n",
       "                var html_a9a7a1d61dc16dbe4ffc694fede8e7e0 = $(`&lt;div id=&quot;html_a9a7a1d61dc16dbe4ffc694fede8e7e0&quot; style=&quot;width: 100.0%; height: 100.0%;&quot;&gt;Bormes les Mimosas&lt;/div&gt;`)[0];\n",
       "                popup_928e6f9f7ba96f7a05c21213b43b232e.setContent(html_a9a7a1d61dc16dbe4ffc694fede8e7e0);\n",
       "            \n",
       "        \n",
       "\n",
       "        marker_d67aa94a014142fb2f0130013459d15c.bindPopup(popup_928e6f9f7ba96f7a05c21213b43b232e)\n",
       "        ;\n",
       "\n",
       "        \n",
       "    \n",
       "    \n",
       "                marker_d67aa94a014142fb2f0130013459d15c.setIcon(custom_icon_15d29ed93c4bf041f9892b4e2a749759);\n",
       "            \n",
       "    \n",
       "            var marker_3fbb227cb5ce447b9cff193a8b9f4a72 = L.marker(\n",
       "                [43.2140359, 5.5396318],\n",
       "                {\n",
       "}\n",
       "            ).addTo(map_ce465677d555d3911d7ef9f3376db9e4);\n",
       "        \n",
       "    \n",
       "        var custom_icon_fddbac528c18550fca0bcbdb2db0e0c7 = L.icon({\n",
       "  &quot;iconUrl&quot;: &quot;https://images.icon-icons.com/3565/PNG/512/tree_flower_plant_nature_landscape_icon_225325.png&quot;,\n",
       "  &quot;iconSize&quot;: [40, 40],\n",
       "});\n",
       "        marker_3fbb227cb5ce447b9cff193a8b9f4a72.setIcon(custom_icon_fddbac528c18550fca0bcbdb2db0e0c7);\n",
       "        \n",
       "    \n",
       "        var popup_35206a3111a6480c3961306dd9d709e9 = L.popup({\n",
       "  &quot;maxWidth&quot;: &quot;100%&quot;,\n",
       "});\n",
       "\n",
       "        \n",
       "            \n",
       "                var html_b36a3f0c42676477ebe04df6cc01051f = $(`&lt;div id=&quot;html_b36a3f0c42676477ebe04df6cc01051f&quot; style=&quot;width: 100.0%; height: 100.0%;&quot;&gt;Cassis&lt;/div&gt;`)[0];\n",
       "                popup_35206a3111a6480c3961306dd9d709e9.setContent(html_b36a3f0c42676477ebe04df6cc01051f);\n",
       "            \n",
       "        \n",
       "\n",
       "        marker_3fbb227cb5ce447b9cff193a8b9f4a72.bindPopup(popup_35206a3111a6480c3961306dd9d709e9)\n",
       "        ;\n",
       "\n",
       "        \n",
       "    \n",
       "    \n",
       "                marker_3fbb227cb5ce447b9cff193a8b9f4a72.setIcon(custom_icon_fddbac528c18550fca0bcbdb2db0e0c7);\n",
       "            \n",
       "    \n",
       "            var marker_2e6a7dde122ad921b560509f17ddba03 = L.marker(\n",
       "                [43.2961743, 5.3699525],\n",
       "                {\n",
       "}\n",
       "            ).addTo(map_ce465677d555d3911d7ef9f3376db9e4);\n",
       "        \n",
       "    \n",
       "        var custom_icon_70f1a861c775087d2b402d1dc3e24c05 = L.icon({\n",
       "  &quot;iconUrl&quot;: &quot;https://images.icon-icons.com/3565/PNG/512/tree_flower_plant_nature_landscape_icon_225325.png&quot;,\n",
       "  &quot;iconSize&quot;: [40, 40],\n",
       "});\n",
       "        marker_2e6a7dde122ad921b560509f17ddba03.setIcon(custom_icon_70f1a861c775087d2b402d1dc3e24c05);\n",
       "        \n",
       "    \n",
       "        var popup_c9fade41d29c57ba2e25d8e082511467 = L.popup({\n",
       "  &quot;maxWidth&quot;: &quot;100%&quot;,\n",
       "});\n",
       "\n",
       "        \n",
       "            \n",
       "                var html_b2381f76b99c1601f55b2d155ededaea = $(`&lt;div id=&quot;html_b2381f76b99c1601f55b2d155ededaea&quot; style=&quot;width: 100.0%; height: 100.0%;&quot;&gt;Marseille&lt;/div&gt;`)[0];\n",
       "                popup_c9fade41d29c57ba2e25d8e082511467.setContent(html_b2381f76b99c1601f55b2d155ededaea);\n",
       "            \n",
       "        \n",
       "\n",
       "        marker_2e6a7dde122ad921b560509f17ddba03.bindPopup(popup_c9fade41d29c57ba2e25d8e082511467)\n",
       "        ;\n",
       "\n",
       "        \n",
       "    \n",
       "    \n",
       "                marker_2e6a7dde122ad921b560509f17ddba03.setIcon(custom_icon_70f1a861c775087d2b402d1dc3e24c05);\n",
       "            \n",
       "    \n",
       "            var marker_315f745ca052fec6a3eadf3a214fad78 = L.marker(\n",
       "                [43.5298424, 5.4474738],\n",
       "                {\n",
       "}\n",
       "            ).addTo(map_ce465677d555d3911d7ef9f3376db9e4);\n",
       "        \n",
       "    \n",
       "        var custom_icon_a0ba87be0692d846c161dfbf94083c37 = L.icon({\n",
       "  &quot;iconUrl&quot;: &quot;https://images.icon-icons.com/3565/PNG/512/tree_flower_plant_nature_landscape_icon_225325.png&quot;,\n",
       "  &quot;iconSize&quot;: [40, 40],\n",
       "});\n",
       "        marker_315f745ca052fec6a3eadf3a214fad78.setIcon(custom_icon_a0ba87be0692d846c161dfbf94083c37);\n",
       "        \n",
       "    \n",
       "        var popup_77f048c5d94b78556d46ee766bf5f271 = L.popup({\n",
       "  &quot;maxWidth&quot;: &quot;100%&quot;,\n",
       "});\n",
       "\n",
       "        \n",
       "            \n",
       "                var html_e04b0af53efe33ef0e9060c824fc2d55 = $(`&lt;div id=&quot;html_e04b0af53efe33ef0e9060c824fc2d55&quot; style=&quot;width: 100.0%; height: 100.0%;&quot;&gt;Aix en Provence&lt;/div&gt;`)[0];\n",
       "                popup_77f048c5d94b78556d46ee766bf5f271.setContent(html_e04b0af53efe33ef0e9060c824fc2d55);\n",
       "            \n",
       "        \n",
       "\n",
       "        marker_315f745ca052fec6a3eadf3a214fad78.bindPopup(popup_77f048c5d94b78556d46ee766bf5f271)\n",
       "        ;\n",
       "\n",
       "        \n",
       "    \n",
       "    \n",
       "                marker_315f745ca052fec6a3eadf3a214fad78.setIcon(custom_icon_a0ba87be0692d846c161dfbf94083c37);\n",
       "            \n",
       "    \n",
       "            var marker_6611fe4a757841e4770afbc4f2005e4f = L.marker(\n",
       "                [43.9492493, 4.8059012],\n",
       "                {\n",
       "}\n",
       "            ).addTo(map_ce465677d555d3911d7ef9f3376db9e4);\n",
       "        \n",
       "    \n",
       "        var custom_icon_4398bb8f9bc016797122f127744ba700 = L.icon({\n",
       "  &quot;iconUrl&quot;: &quot;https://images.icon-icons.com/3565/PNG/512/tree_flower_plant_nature_landscape_icon_225325.png&quot;,\n",
       "  &quot;iconSize&quot;: [40, 40],\n",
       "});\n",
       "        marker_6611fe4a757841e4770afbc4f2005e4f.setIcon(custom_icon_4398bb8f9bc016797122f127744ba700);\n",
       "        \n",
       "    \n",
       "        var popup_59aa88b911b9cb3e24aeeacb8c82ac77 = L.popup({\n",
       "  &quot;maxWidth&quot;: &quot;100%&quot;,\n",
       "});\n",
       "\n",
       "        \n",
       "            \n",
       "                var html_cb006a44c98e9a46aea98c9b0ab1c44e = $(`&lt;div id=&quot;html_cb006a44c98e9a46aea98c9b0ab1c44e&quot; style=&quot;width: 100.0%; height: 100.0%;&quot;&gt;Avignon&lt;/div&gt;`)[0];\n",
       "                popup_59aa88b911b9cb3e24aeeacb8c82ac77.setContent(html_cb006a44c98e9a46aea98c9b0ab1c44e);\n",
       "            \n",
       "        \n",
       "\n",
       "        marker_6611fe4a757841e4770afbc4f2005e4f.bindPopup(popup_59aa88b911b9cb3e24aeeacb8c82ac77)\n",
       "        ;\n",
       "\n",
       "        \n",
       "    \n",
       "    \n",
       "                marker_6611fe4a757841e4770afbc4f2005e4f.setIcon(custom_icon_4398bb8f9bc016797122f127744ba700);\n",
       "            \n",
       "    \n",
       "            var marker_984cb8b255d3e94772f1576fe46b18c1 = L.marker(\n",
       "                [44.0121279, 4.4196718],\n",
       "                {\n",
       "}\n",
       "            ).addTo(map_ce465677d555d3911d7ef9f3376db9e4);\n",
       "        \n",
       "    \n",
       "        var custom_icon_8cf25db9ed62e7f15f4de8ed8d289b70 = L.icon({\n",
       "  &quot;iconUrl&quot;: &quot;https://images.icon-icons.com/3565/PNG/512/tree_flower_plant_nature_landscape_icon_225325.png&quot;,\n",
       "  &quot;iconSize&quot;: [40, 40],\n",
       "});\n",
       "        marker_984cb8b255d3e94772f1576fe46b18c1.setIcon(custom_icon_8cf25db9ed62e7f15f4de8ed8d289b70);\n",
       "        \n",
       "    \n",
       "        var popup_0c4bc0cb9386b3f3cfb7c70a2cd00300 = L.popup({\n",
       "  &quot;maxWidth&quot;: &quot;100%&quot;,\n",
       "});\n",
       "\n",
       "        \n",
       "            \n",
       "                var html_0005a44332276b3ff817855118609058 = $(`&lt;div id=&quot;html_0005a44332276b3ff817855118609058&quot; style=&quot;width: 100.0%; height: 100.0%;&quot;&gt;Uzes&lt;/div&gt;`)[0];\n",
       "                popup_0c4bc0cb9386b3f3cfb7c70a2cd00300.setContent(html_0005a44332276b3ff817855118609058);\n",
       "            \n",
       "        \n",
       "\n",
       "        marker_984cb8b255d3e94772f1576fe46b18c1.bindPopup(popup_0c4bc0cb9386b3f3cfb7c70a2cd00300)\n",
       "        ;\n",
       "\n",
       "        \n",
       "    \n",
       "    \n",
       "                marker_984cb8b255d3e94772f1576fe46b18c1.setIcon(custom_icon_8cf25db9ed62e7f15f4de8ed8d289b70);\n",
       "            \n",
       "    \n",
       "            var marker_0c3483373d70e967d003c5608629d010 = L.marker(\n",
       "                [43.8374249, 4.3600687],\n",
       "                {\n",
       "}\n",
       "            ).addTo(map_ce465677d555d3911d7ef9f3376db9e4);\n",
       "        \n",
       "    \n",
       "        var custom_icon_6bf1c859e6f4545ccb05c030398260e3 = L.icon({\n",
       "  &quot;iconUrl&quot;: &quot;https://images.icon-icons.com/3565/PNG/512/tree_flower_plant_nature_landscape_icon_225325.png&quot;,\n",
       "  &quot;iconSize&quot;: [40, 40],\n",
       "});\n",
       "        marker_0c3483373d70e967d003c5608629d010.setIcon(custom_icon_6bf1c859e6f4545ccb05c030398260e3);\n",
       "        \n",
       "    \n",
       "        var popup_8f1ca4d165f050b1f0bdcf5a7a857952 = L.popup({\n",
       "  &quot;maxWidth&quot;: &quot;100%&quot;,\n",
       "});\n",
       "\n",
       "        \n",
       "            \n",
       "                var html_7a056bc6ec7a0d9c19955f413e9d62d8 = $(`&lt;div id=&quot;html_7a056bc6ec7a0d9c19955f413e9d62d8&quot; style=&quot;width: 100.0%; height: 100.0%;&quot;&gt;Nimes&lt;/div&gt;`)[0];\n",
       "                popup_8f1ca4d165f050b1f0bdcf5a7a857952.setContent(html_7a056bc6ec7a0d9c19955f413e9d62d8);\n",
       "            \n",
       "        \n",
       "\n",
       "        marker_0c3483373d70e967d003c5608629d010.bindPopup(popup_8f1ca4d165f050b1f0bdcf5a7a857952)\n",
       "        ;\n",
       "\n",
       "        \n",
       "    \n",
       "    \n",
       "                marker_0c3483373d70e967d003c5608629d010.setIcon(custom_icon_6bf1c859e6f4545ccb05c030398260e3);\n",
       "            \n",
       "    \n",
       "            var marker_bb9e6baa962196a3c3c6823d16f6a153 = L.marker(\n",
       "                [43.5658225, 4.1912837],\n",
       "                {\n",
       "}\n",
       "            ).addTo(map_ce465677d555d3911d7ef9f3376db9e4);\n",
       "        \n",
       "    \n",
       "        var custom_icon_f9343db89ccf398d35f9d8c152e1844e = L.icon({\n",
       "  &quot;iconUrl&quot;: &quot;https://images.icon-icons.com/3565/PNG/512/tree_flower_plant_nature_landscape_icon_225325.png&quot;,\n",
       "  &quot;iconSize&quot;: [40, 40],\n",
       "});\n",
       "        marker_bb9e6baa962196a3c3c6823d16f6a153.setIcon(custom_icon_f9343db89ccf398d35f9d8c152e1844e);\n",
       "        \n",
       "    \n",
       "        var popup_435ac9a594c53d81ea07f96a497255aa = L.popup({\n",
       "  &quot;maxWidth&quot;: &quot;100%&quot;,\n",
       "});\n",
       "\n",
       "        \n",
       "            \n",
       "                var html_5c30fac23ee75367a8a98016db707e02 = $(`&lt;div id=&quot;html_5c30fac23ee75367a8a98016db707e02&quot; style=&quot;width: 100.0%; height: 100.0%;&quot;&gt;Aigues Mortes&lt;/div&gt;`)[0];\n",
       "                popup_435ac9a594c53d81ea07f96a497255aa.setContent(html_5c30fac23ee75367a8a98016db707e02);\n",
       "            \n",
       "        \n",
       "\n",
       "        marker_bb9e6baa962196a3c3c6823d16f6a153.bindPopup(popup_435ac9a594c53d81ea07f96a497255aa)\n",
       "        ;\n",
       "\n",
       "        \n",
       "    \n",
       "    \n",
       "                marker_bb9e6baa962196a3c3c6823d16f6a153.setIcon(custom_icon_f9343db89ccf398d35f9d8c152e1844e);\n",
       "            \n",
       "    \n",
       "            var marker_92032925e83e41ae2ca8191567b78783 = L.marker(\n",
       "                [43.4522771, 4.4287172],\n",
       "                {\n",
       "}\n",
       "            ).addTo(map_ce465677d555d3911d7ef9f3376db9e4);\n",
       "        \n",
       "    \n",
       "        var custom_icon_76e70327909ad5f505fc70e3bfe6b7c7 = L.icon({\n",
       "  &quot;iconUrl&quot;: &quot;https://images.icon-icons.com/3565/PNG/512/tree_flower_plant_nature_landscape_icon_225325.png&quot;,\n",
       "  &quot;iconSize&quot;: [40, 40],\n",
       "});\n",
       "        marker_92032925e83e41ae2ca8191567b78783.setIcon(custom_icon_76e70327909ad5f505fc70e3bfe6b7c7);\n",
       "        \n",
       "    \n",
       "        var popup_dcc3a7acf4155dff157d89cc3a709654 = L.popup({\n",
       "  &quot;maxWidth&quot;: &quot;100%&quot;,\n",
       "});\n",
       "\n",
       "        \n",
       "            \n",
       "                var html_6a5f5608dfb36d6b333f9c8e48a6f7d0 = $(`&lt;div id=&quot;html_6a5f5608dfb36d6b333f9c8e48a6f7d0&quot; style=&quot;width: 100.0%; height: 100.0%;&quot;&gt;Saintes Maries de la mer&lt;/div&gt;`)[0];\n",
       "                popup_dcc3a7acf4155dff157d89cc3a709654.setContent(html_6a5f5608dfb36d6b333f9c8e48a6f7d0);\n",
       "            \n",
       "        \n",
       "\n",
       "        marker_92032925e83e41ae2ca8191567b78783.bindPopup(popup_dcc3a7acf4155dff157d89cc3a709654)\n",
       "        ;\n",
       "\n",
       "        \n",
       "    \n",
       "    \n",
       "                marker_92032925e83e41ae2ca8191567b78783.setIcon(custom_icon_76e70327909ad5f505fc70e3bfe6b7c7);\n",
       "            \n",
       "    \n",
       "            var marker_1b724a9e59cc8083afc639c92096df0e = L.marker(\n",
       "                [42.52505, 3.0831554],\n",
       "                {\n",
       "}\n",
       "            ).addTo(map_ce465677d555d3911d7ef9f3376db9e4);\n",
       "        \n",
       "    \n",
       "        var custom_icon_06e915398f73d9c93584940364a31076 = L.icon({\n",
       "  &quot;iconUrl&quot;: &quot;https://images.icon-icons.com/3565/PNG/512/tree_flower_plant_nature_landscape_icon_225325.png&quot;,\n",
       "  &quot;iconSize&quot;: [40, 40],\n",
       "});\n",
       "        marker_1b724a9e59cc8083afc639c92096df0e.setIcon(custom_icon_06e915398f73d9c93584940364a31076);\n",
       "        \n",
       "    \n",
       "        var popup_2542f1049b46bf9a7795f0a28d797c1b = L.popup({\n",
       "  &quot;maxWidth&quot;: &quot;100%&quot;,\n",
       "});\n",
       "\n",
       "        \n",
       "            \n",
       "                var html_2f09ec97b6a400ce64f0fb2ce64ec158 = $(`&lt;div id=&quot;html_2f09ec97b6a400ce64f0fb2ce64ec158&quot; style=&quot;width: 100.0%; height: 100.0%;&quot;&gt;Collioure&lt;/div&gt;`)[0];\n",
       "                popup_2542f1049b46bf9a7795f0a28d797c1b.setContent(html_2f09ec97b6a400ce64f0fb2ce64ec158);\n",
       "            \n",
       "        \n",
       "\n",
       "        marker_1b724a9e59cc8083afc639c92096df0e.bindPopup(popup_2542f1049b46bf9a7795f0a28d797c1b)\n",
       "        ;\n",
       "\n",
       "        \n",
       "    \n",
       "    \n",
       "                marker_1b724a9e59cc8083afc639c92096df0e.setIcon(custom_icon_06e915398f73d9c93584940364a31076);\n",
       "            \n",
       "    \n",
       "            var marker_628d15c148200c7f9e088849ee16821c = L.marker(\n",
       "                [43.2130358, 2.3491069],\n",
       "                {\n",
       "}\n",
       "            ).addTo(map_ce465677d555d3911d7ef9f3376db9e4);\n",
       "        \n",
       "    \n",
       "        var custom_icon_e1bb8fdd3c33e07e355f2bd4ecaa8f4a = L.icon({\n",
       "  &quot;iconUrl&quot;: &quot;https://images.icon-icons.com/3565/PNG/512/tree_flower_plant_nature_landscape_icon_225325.png&quot;,\n",
       "  &quot;iconSize&quot;: [40, 40],\n",
       "});\n",
       "        marker_628d15c148200c7f9e088849ee16821c.setIcon(custom_icon_e1bb8fdd3c33e07e355f2bd4ecaa8f4a);\n",
       "        \n",
       "    \n",
       "        var popup_a30771a19c4f51261fcf9faaff00212f = L.popup({\n",
       "  &quot;maxWidth&quot;: &quot;100%&quot;,\n",
       "});\n",
       "\n",
       "        \n",
       "            \n",
       "                var html_b535c5fea9be9d2197cc277201fee09c = $(`&lt;div id=&quot;html_b535c5fea9be9d2197cc277201fee09c&quot; style=&quot;width: 100.0%; height: 100.0%;&quot;&gt;Carcassonne&lt;/div&gt;`)[0];\n",
       "                popup_a30771a19c4f51261fcf9faaff00212f.setContent(html_b535c5fea9be9d2197cc277201fee09c);\n",
       "            \n",
       "        \n",
       "\n",
       "        marker_628d15c148200c7f9e088849ee16821c.bindPopup(popup_a30771a19c4f51261fcf9faaff00212f)\n",
       "        ;\n",
       "\n",
       "        \n",
       "    \n",
       "    \n",
       "                marker_628d15c148200c7f9e088849ee16821c.setIcon(custom_icon_e1bb8fdd3c33e07e355f2bd4ecaa8f4a);\n",
       "            \n",
       "    \n",
       "            var marker_f5c8ed722dbb6edacad3f8ffb548b6bf = L.marker(\n",
       "                [42.8458016, 1.6067586],\n",
       "                {\n",
       "}\n",
       "            ).addTo(map_ce465677d555d3911d7ef9f3376db9e4);\n",
       "        \n",
       "    \n",
       "        var custom_icon_413e98ed8b322fdda60942c7c22c6e43 = L.icon({\n",
       "  &quot;iconUrl&quot;: &quot;https://images.icon-icons.com/3565/PNG/512/tree_flower_plant_nature_landscape_icon_225325.png&quot;,\n",
       "  &quot;iconSize&quot;: [40, 40],\n",
       "});\n",
       "        marker_f5c8ed722dbb6edacad3f8ffb548b6bf.setIcon(custom_icon_413e98ed8b322fdda60942c7c22c6e43);\n",
       "        \n",
       "    \n",
       "        var popup_f8172f4178437465a978576c8c0292a3 = L.popup({\n",
       "  &quot;maxWidth&quot;: &quot;100%&quot;,\n",
       "});\n",
       "\n",
       "        \n",
       "            \n",
       "                var html_fcb61e262b9ac4fedb6f5a39db154b15 = $(`&lt;div id=&quot;html_fcb61e262b9ac4fedb6f5a39db154b15&quot; style=&quot;width: 100.0%; height: 100.0%;&quot;&gt;Ariege&lt;/div&gt;`)[0];\n",
       "                popup_f8172f4178437465a978576c8c0292a3.setContent(html_fcb61e262b9ac4fedb6f5a39db154b15);\n",
       "            \n",
       "        \n",
       "\n",
       "        marker_f5c8ed722dbb6edacad3f8ffb548b6bf.bindPopup(popup_f8172f4178437465a978576c8c0292a3)\n",
       "        ;\n",
       "\n",
       "        \n",
       "    \n",
       "    \n",
       "                marker_f5c8ed722dbb6edacad3f8ffb548b6bf.setIcon(custom_icon_413e98ed8b322fdda60942c7c22c6e43);\n",
       "            \n",
       "    \n",
       "            var marker_42971bbc8737296110f07d44da4e792f = L.marker(\n",
       "                [43.6044622, 1.4442469],\n",
       "                {\n",
       "}\n",
       "            ).addTo(map_ce465677d555d3911d7ef9f3376db9e4);\n",
       "        \n",
       "    \n",
       "        var custom_icon_a89f18e3298e3162c959e66bbcfa09a7 = L.icon({\n",
       "  &quot;iconUrl&quot;: &quot;https://images.icon-icons.com/3565/PNG/512/tree_flower_plant_nature_landscape_icon_225325.png&quot;,\n",
       "  &quot;iconSize&quot;: [40, 40],\n",
       "});\n",
       "        marker_42971bbc8737296110f07d44da4e792f.setIcon(custom_icon_a89f18e3298e3162c959e66bbcfa09a7);\n",
       "        \n",
       "    \n",
       "        var popup_3a83077586149fe1b4a4b3d2ae2c7c54 = L.popup({\n",
       "  &quot;maxWidth&quot;: &quot;100%&quot;,\n",
       "});\n",
       "\n",
       "        \n",
       "            \n",
       "                var html_f422fa34b670d6c400eb6fc189afa566 = $(`&lt;div id=&quot;html_f422fa34b670d6c400eb6fc189afa566&quot; style=&quot;width: 100.0%; height: 100.0%;&quot;&gt;Toulouse&lt;/div&gt;`)[0];\n",
       "                popup_3a83077586149fe1b4a4b3d2ae2c7c54.setContent(html_f422fa34b670d6c400eb6fc189afa566);\n",
       "            \n",
       "        \n",
       "\n",
       "        marker_42971bbc8737296110f07d44da4e792f.bindPopup(popup_3a83077586149fe1b4a4b3d2ae2c7c54)\n",
       "        ;\n",
       "\n",
       "        \n",
       "    \n",
       "    \n",
       "                marker_42971bbc8737296110f07d44da4e792f.setIcon(custom_icon_a89f18e3298e3162c959e66bbcfa09a7);\n",
       "            \n",
       "    \n",
       "            var marker_2dc2382eb005c384197e0b79f2b09fca = L.marker(\n",
       "                [44.0175835, 1.3549991],\n",
       "                {\n",
       "}\n",
       "            ).addTo(map_ce465677d555d3911d7ef9f3376db9e4);\n",
       "        \n",
       "    \n",
       "        var custom_icon_a2f421a02a56958d25f7394ab1fb2b38 = L.icon({\n",
       "  &quot;iconUrl&quot;: &quot;https://images.icon-icons.com/3565/PNG/512/tree_flower_plant_nature_landscape_icon_225325.png&quot;,\n",
       "  &quot;iconSize&quot;: [40, 40],\n",
       "});\n",
       "        marker_2dc2382eb005c384197e0b79f2b09fca.setIcon(custom_icon_a2f421a02a56958d25f7394ab1fb2b38);\n",
       "        \n",
       "    \n",
       "        var popup_8f39267fb2b6727764b1e5362f67062d = L.popup({\n",
       "  &quot;maxWidth&quot;: &quot;100%&quot;,\n",
       "});\n",
       "\n",
       "        \n",
       "            \n",
       "                var html_6364eac4ae55fee2674879d1a6720cb7 = $(`&lt;div id=&quot;html_6364eac4ae55fee2674879d1a6720cb7&quot; style=&quot;width: 100.0%; height: 100.0%;&quot;&gt;Montauban&lt;/div&gt;`)[0];\n",
       "                popup_8f39267fb2b6727764b1e5362f67062d.setContent(html_6364eac4ae55fee2674879d1a6720cb7);\n",
       "            \n",
       "        \n",
       "\n",
       "        marker_2dc2382eb005c384197e0b79f2b09fca.bindPopup(popup_8f39267fb2b6727764b1e5362f67062d)\n",
       "        ;\n",
       "\n",
       "        \n",
       "    \n",
       "    \n",
       "                marker_2dc2382eb005c384197e0b79f2b09fca.setIcon(custom_icon_a2f421a02a56958d25f7394ab1fb2b38);\n",
       "            \n",
       "    \n",
       "            var marker_bab1dfc3a7884aea222fbd5162f855e3 = L.marker(\n",
       "                [43.4832523, -1.5592776],\n",
       "                {\n",
       "}\n",
       "            ).addTo(map_ce465677d555d3911d7ef9f3376db9e4);\n",
       "        \n",
       "    \n",
       "        var custom_icon_9e51e375659f725266d2a55c9319321d = L.icon({\n",
       "  &quot;iconUrl&quot;: &quot;https://images.icon-icons.com/3565/PNG/512/tree_flower_plant_nature_landscape_icon_225325.png&quot;,\n",
       "  &quot;iconSize&quot;: [40, 40],\n",
       "});\n",
       "        marker_bab1dfc3a7884aea222fbd5162f855e3.setIcon(custom_icon_9e51e375659f725266d2a55c9319321d);\n",
       "        \n",
       "    \n",
       "        var popup_0dffb52817df97a1b84353148472d879 = L.popup({\n",
       "  &quot;maxWidth&quot;: &quot;100%&quot;,\n",
       "});\n",
       "\n",
       "        \n",
       "            \n",
       "                var html_f3e58dbae1f8caebd1594dc63256ef3e = $(`&lt;div id=&quot;html_f3e58dbae1f8caebd1594dc63256ef3e&quot; style=&quot;width: 100.0%; height: 100.0%;&quot;&gt;Biarritz&lt;/div&gt;`)[0];\n",
       "                popup_0dffb52817df97a1b84353148472d879.setContent(html_f3e58dbae1f8caebd1594dc63256ef3e);\n",
       "            \n",
       "        \n",
       "\n",
       "        marker_bab1dfc3a7884aea222fbd5162f855e3.bindPopup(popup_0dffb52817df97a1b84353148472d879)\n",
       "        ;\n",
       "\n",
       "        \n",
       "    \n",
       "    \n",
       "                marker_bab1dfc3a7884aea222fbd5162f855e3.setIcon(custom_icon_9e51e375659f725266d2a55c9319321d);\n",
       "            \n",
       "    \n",
       "            var marker_916fa173beb609aaa5d7b2a99444f777 = L.marker(\n",
       "                [43.4945144, -1.4736657],\n",
       "                {\n",
       "}\n",
       "            ).addTo(map_ce465677d555d3911d7ef9f3376db9e4);\n",
       "        \n",
       "    \n",
       "        var custom_icon_a581ebede69666159e826bf52249c716 = L.icon({\n",
       "  &quot;iconUrl&quot;: &quot;https://images.icon-icons.com/3565/PNG/512/tree_flower_plant_nature_landscape_icon_225325.png&quot;,\n",
       "  &quot;iconSize&quot;: [40, 40],\n",
       "});\n",
       "        marker_916fa173beb609aaa5d7b2a99444f777.setIcon(custom_icon_a581ebede69666159e826bf52249c716);\n",
       "        \n",
       "    \n",
       "        var popup_b95e835a04bd746b83f1da0370bd4f71 = L.popup({\n",
       "  &quot;maxWidth&quot;: &quot;100%&quot;,\n",
       "});\n",
       "\n",
       "        \n",
       "            \n",
       "                var html_9c156d9893138b685934580381bf6d54 = $(`&lt;div id=&quot;html_9c156d9893138b685934580381bf6d54&quot; style=&quot;width: 100.0%; height: 100.0%;&quot;&gt;Bayonne&lt;/div&gt;`)[0];\n",
       "                popup_b95e835a04bd746b83f1da0370bd4f71.setContent(html_9c156d9893138b685934580381bf6d54);\n",
       "            \n",
       "        \n",
       "\n",
       "        marker_916fa173beb609aaa5d7b2a99444f777.bindPopup(popup_b95e835a04bd746b83f1da0370bd4f71)\n",
       "        ;\n",
       "\n",
       "        \n",
       "    \n",
       "    \n",
       "                marker_916fa173beb609aaa5d7b2a99444f777.setIcon(custom_icon_a581ebede69666159e826bf52249c716);\n",
       "            \n",
       "    \n",
       "            var marker_8cb7219f27cd1521b9935e067f034097 = L.marker(\n",
       "                [46.1591126, -1.1520434],\n",
       "                {\n",
       "}\n",
       "            ).addTo(map_ce465677d555d3911d7ef9f3376db9e4);\n",
       "        \n",
       "    \n",
       "        var custom_icon_5d6a38af0b7abc34bfee3269aef19aa7 = L.icon({\n",
       "  &quot;iconUrl&quot;: &quot;https://images.icon-icons.com/3565/PNG/512/tree_flower_plant_nature_landscape_icon_225325.png&quot;,\n",
       "  &quot;iconSize&quot;: [40, 40],\n",
       "});\n",
       "        marker_8cb7219f27cd1521b9935e067f034097.setIcon(custom_icon_5d6a38af0b7abc34bfee3269aef19aa7);\n",
       "        \n",
       "    \n",
       "        var popup_31e66e05a3c651af42cff0a0f0e568a8 = L.popup({\n",
       "  &quot;maxWidth&quot;: &quot;100%&quot;,\n",
       "});\n",
       "\n",
       "        \n",
       "            \n",
       "                var html_53568ef11841c6829084880ea2ebe28a = $(`&lt;div id=&quot;html_53568ef11841c6829084880ea2ebe28a&quot; style=&quot;width: 100.0%; height: 100.0%;&quot;&gt;La Rochelle&lt;/div&gt;`)[0];\n",
       "                popup_31e66e05a3c651af42cff0a0f0e568a8.setContent(html_53568ef11841c6829084880ea2ebe28a);\n",
       "            \n",
       "        \n",
       "\n",
       "        marker_8cb7219f27cd1521b9935e067f034097.bindPopup(popup_31e66e05a3c651af42cff0a0f0e568a8)\n",
       "        ;\n",
       "\n",
       "        \n",
       "    \n",
       "    \n",
       "                marker_8cb7219f27cd1521b9935e067f034097.setIcon(custom_icon_5d6a38af0b7abc34bfee3269aef19aa7);\n",
       "            \n",
       "    \n",
       "            var marker_f6d763ecdc33f0624dfbb02758d0cc49 = L.marker(\n",
       "                [43.7496562, 6.3285616],\n",
       "                {\n",
       "}\n",
       "            ).addTo(map_ce465677d555d3911d7ef9f3376db9e4);\n",
       "        \n",
       "    \n",
       "        var custom_icon_32fa1ae3d6d8c60e227f87afb9e82fcc = L.icon({\n",
       "  &quot;iconUrl&quot;: &quot;https://images.icon-icons.com/3565/PNG/512/tree_flower_plant_nature_landscape_icon_225325.png&quot;,\n",
       "  &quot;iconSize&quot;: [40, 40],\n",
       "});\n",
       "        marker_f6d763ecdc33f0624dfbb02758d0cc49.setIcon(custom_icon_32fa1ae3d6d8c60e227f87afb9e82fcc);\n",
       "        \n",
       "    \n",
       "        var popup_4be4b22a1b1f84661b98b19813992ad9 = L.popup({\n",
       "  &quot;maxWidth&quot;: &quot;100%&quot;,\n",
       "});\n",
       "\n",
       "        \n",
       "            \n",
       "                var html_4c80dc085d65d8716da0874714b1af06 = $(`&lt;div id=&quot;html_4c80dc085d65d8716da0874714b1af06&quot; style=&quot;width: 100.0%; height: 100.0%;&quot;&gt;Gorges du Verdon&lt;/div&gt;`)[0];\n",
       "                popup_4be4b22a1b1f84661b98b19813992ad9.setContent(html_4c80dc085d65d8716da0874714b1af06);\n",
       "            \n",
       "        \n",
       "\n",
       "        marker_f6d763ecdc33f0624dfbb02758d0cc49.bindPopup(popup_4be4b22a1b1f84661b98b19813992ad9)\n",
       "        ;\n",
       "\n",
       "        \n",
       "    \n",
       "    \n",
       "                marker_f6d763ecdc33f0624dfbb02758d0cc49.setIcon(custom_icon_32fa1ae3d6d8c60e227f87afb9e82fcc);\n",
       "            \n",
       "    \n",
       "            tile_layer_05004d079e1dce63a2e36930ac931879.addTo(map_ce465677d555d3911d7ef9f3376db9e4);\n",
       "        \n",
       "    \n",
       "                marker_83d1c0f093292c2dec4ed4ae583f7201.setIcon(custom_icon_c9465e434a35a67fde0e2970b77d3d63);\n",
       "            \n",
       "    \n",
       "                marker_6ec1b5814430ebb28bf0ca5e04934589.setIcon(custom_icon_00c3be2c4adca5930d0877fb3fa780b0);\n",
       "            \n",
       "    \n",
       "                marker_3bf7a9f2e2fb69956876ad985a4ec78f.setIcon(custom_icon_d7247b89b82fd39e1eb89207eeb9f3be);\n",
       "            \n",
       "    \n",
       "                marker_9b9bd6982b576a608ce59e2f89e31d8a.setIcon(custom_icon_a21ef1f8a3ae06f5408507bfc7c109fb);\n",
       "            \n",
       "    \n",
       "                marker_c4191b0a48e207da821a1951db3e2c28.setIcon(custom_icon_e4078a55305e9cf2c557c62714149aa8);\n",
       "            \n",
       "    \n",
       "                marker_fcf68f472898e78dec24f2019caa96ba.setIcon(custom_icon_6474c49d7e0a703d591a959515adb279);\n",
       "            \n",
       "    \n",
       "                marker_7498fe22dc66c37592195bc74bf60448.setIcon(custom_icon_0e93d96e8a7f56ddacd026c9de5b9771);\n",
       "            \n",
       "    \n",
       "                marker_12c2610b8a93b5235ee81904c46008d0.setIcon(custom_icon_afa37a4a9b7fd72f05d01084ad7b621c);\n",
       "            \n",
       "    \n",
       "                marker_b134c25ef91bab8b012602c1f1537ef0.setIcon(custom_icon_d242c6ceb130cf065031058bb1aa712b);\n",
       "            \n",
       "    \n",
       "                marker_bdb84d30c06a90f03589c0ab91f58955.setIcon(custom_icon_22dc443e67aac292f761b2f197dd0693);\n",
       "            \n",
       "    \n",
       "                marker_47df8afc3dcafb57691311794c597050.setIcon(custom_icon_94b8a47bfa8e567d012c4c0a0dcbe3ce);\n",
       "            \n",
       "    \n",
       "                marker_721d5c7fd10fb38e88de93be58a0c5be.setIcon(custom_icon_b7a13d94068fc6956617164aa64fc9de);\n",
       "            \n",
       "    \n",
       "                marker_2a49aa8ebb932eb1540d9684ef338fab.setIcon(custom_icon_ee51656fd88eb27ad40ca7a2d3e8a1c5);\n",
       "            \n",
       "    \n",
       "                marker_a2e4d111f831f3152ad562fb8d0f7832.setIcon(custom_icon_fd301d7bc8ba0a5096f3d28f6b39df00);\n",
       "            \n",
       "    \n",
       "                marker_b58072ecb3258c22a7edd3a41ab179e8.setIcon(custom_icon_dac726d668fe27c57e9271a845d8487b);\n",
       "            \n",
       "    \n",
       "                marker_b8427f89b737d664a66261cddfb1b24e.setIcon(custom_icon_fc0053909eea87297bdfeabced23ffdd);\n",
       "            \n",
       "    \n",
       "                marker_90e528645282cd7e0e100486c1e4eb98.setIcon(custom_icon_e79b113bf680f330316c694f8732a0c2);\n",
       "            \n",
       "    \n",
       "                marker_d67aa94a014142fb2f0130013459d15c.setIcon(custom_icon_15d29ed93c4bf041f9892b4e2a749759);\n",
       "            \n",
       "    \n",
       "                marker_3fbb227cb5ce447b9cff193a8b9f4a72.setIcon(custom_icon_fddbac528c18550fca0bcbdb2db0e0c7);\n",
       "            \n",
       "    \n",
       "                marker_2e6a7dde122ad921b560509f17ddba03.setIcon(custom_icon_70f1a861c775087d2b402d1dc3e24c05);\n",
       "            \n",
       "    \n",
       "                marker_315f745ca052fec6a3eadf3a214fad78.setIcon(custom_icon_a0ba87be0692d846c161dfbf94083c37);\n",
       "            \n",
       "    \n",
       "                marker_6611fe4a757841e4770afbc4f2005e4f.setIcon(custom_icon_4398bb8f9bc016797122f127744ba700);\n",
       "            \n",
       "    \n",
       "                marker_984cb8b255d3e94772f1576fe46b18c1.setIcon(custom_icon_8cf25db9ed62e7f15f4de8ed8d289b70);\n",
       "            \n",
       "    \n",
       "                marker_0c3483373d70e967d003c5608629d010.setIcon(custom_icon_6bf1c859e6f4545ccb05c030398260e3);\n",
       "            \n",
       "    \n",
       "                marker_bb9e6baa962196a3c3c6823d16f6a153.setIcon(custom_icon_f9343db89ccf398d35f9d8c152e1844e);\n",
       "            \n",
       "    \n",
       "                marker_92032925e83e41ae2ca8191567b78783.setIcon(custom_icon_76e70327909ad5f505fc70e3bfe6b7c7);\n",
       "            \n",
       "    \n",
       "                marker_1b724a9e59cc8083afc639c92096df0e.setIcon(custom_icon_06e915398f73d9c93584940364a31076);\n",
       "            \n",
       "    \n",
       "                marker_628d15c148200c7f9e088849ee16821c.setIcon(custom_icon_e1bb8fdd3c33e07e355f2bd4ecaa8f4a);\n",
       "            \n",
       "    \n",
       "                marker_f5c8ed722dbb6edacad3f8ffb548b6bf.setIcon(custom_icon_413e98ed8b322fdda60942c7c22c6e43);\n",
       "            \n",
       "    \n",
       "                marker_42971bbc8737296110f07d44da4e792f.setIcon(custom_icon_a89f18e3298e3162c959e66bbcfa09a7);\n",
       "            \n",
       "    \n",
       "                marker_2dc2382eb005c384197e0b79f2b09fca.setIcon(custom_icon_a2f421a02a56958d25f7394ab1fb2b38);\n",
       "            \n",
       "    \n",
       "                marker_bab1dfc3a7884aea222fbd5162f855e3.setIcon(custom_icon_9e51e375659f725266d2a55c9319321d);\n",
       "            \n",
       "    \n",
       "                marker_916fa173beb609aaa5d7b2a99444f777.setIcon(custom_icon_a581ebede69666159e826bf52249c716);\n",
       "            \n",
       "    \n",
       "                marker_8cb7219f27cd1521b9935e067f034097.setIcon(custom_icon_5d6a38af0b7abc34bfee3269aef19aa7);\n",
       "            \n",
       "    \n",
       "                marker_f6d763ecdc33f0624dfbb02758d0cc49.setIcon(custom_icon_32fa1ae3d6d8c60e227f87afb9e82fcc);\n",
       "            \n",
       "&lt;/script&gt;\n",
       "&lt;/html&gt;\" style=\"position:absolute;width:100%;height:100%;left:0;top:0;border:none !important;\" allowfullscreen webkitallowfullscreen mozallowfullscreen></iframe></div></div>"
      ],
      "text/plain": [
       "<folium.folium.Map at 0x1e6a3038520>"
      ]
     },
     "execution_count": 359,
     "metadata": {},
     "output_type": "execute_result"
    }
   ],
   "source": [
    "# Création d'une carte pour visualiser les 35 best cities/points d'intérêts et leur localisation exacte\n",
    "map = folium.Map(location=[46.603354, 1.888334], zoom_start=6)\n",
    "\n",
    "# Définir le marker \n",
    "icon_url = \"https://images.icon-icons.com/3565/PNG/512/tree_flower_plant_nature_landscape_icon_225325.png\"\n",
    "\n",
    "# Ajouter les villes à la carte\n",
    "for i, row in df_merged.iterrows():\n",
    "    folium.Marker(\n",
    "        location=[row['lat'], row['lon']],\n",
    "        popup=row['cities'],\n",
    "        icon=folium.CustomIcon(icon_url, icon_size=(40, 40))  # Ajustez la taille de l'icône si nécessaire\n",
    "    ).add_to(map)\n",
    "\n",
    "# Sauvegarder la carte dans un fichier HTML\n",
    "map.save('maps/map_best_city.html')\n",
    "\n",
    "# Afficher la carte\n",
    "map"
   ]
  },
  {
   "cell_type": "code",
   "execution_count": 366,
   "metadata": {},
   "outputs": [],
   "source": [
    "df_merged = df_merged.drop(\"name\", axis=1)"
   ]
  },
  {
   "cell_type": "code",
   "execution_count": 367,
   "metadata": {},
   "outputs": [
    {
     "data": {
      "text/html": [
       "<div>\n",
       "<style scoped>\n",
       "    .dataframe tbody tr th:only-of-type {\n",
       "        vertical-align: middle;\n",
       "    }\n",
       "\n",
       "    .dataframe tbody tr th {\n",
       "        vertical-align: top;\n",
       "    }\n",
       "\n",
       "    .dataframe thead th {\n",
       "        text-align: right;\n",
       "    }\n",
       "</style>\n",
       "<table border=\"1\" class=\"dataframe\">\n",
       "  <thead>\n",
       "    <tr style=\"text-align: right;\">\n",
       "      <th></th>\n",
       "      <th>cities</th>\n",
       "      <th>country</th>\n",
       "      <th>state</th>\n",
       "      <th>lat</th>\n",
       "      <th>lon</th>\n",
       "    </tr>\n",
       "  </thead>\n",
       "  <tbody>\n",
       "    <tr>\n",
       "      <th>0</th>\n",
       "      <td>Mont Saint Michel</td>\n",
       "      <td>FR</td>\n",
       "      <td>Normandy</td>\n",
       "      <td>48.635954</td>\n",
       "      <td>-1.51146</td>\n",
       "    </tr>\n",
       "    <tr>\n",
       "      <th>1</th>\n",
       "      <td>St Malo</td>\n",
       "      <td>FR</td>\n",
       "      <td>Brittany</td>\n",
       "      <td>48.649518</td>\n",
       "      <td>-2.026041</td>\n",
       "    </tr>\n",
       "    <tr>\n",
       "      <th>2</th>\n",
       "      <td>Bayeux</td>\n",
       "      <td>FR</td>\n",
       "      <td>Normandy</td>\n",
       "      <td>49.276462</td>\n",
       "      <td>-0.702474</td>\n",
       "    </tr>\n",
       "    <tr>\n",
       "      <th>3</th>\n",
       "      <td>Le Havre</td>\n",
       "      <td>FR</td>\n",
       "      <td>Normandy</td>\n",
       "      <td>49.493898</td>\n",
       "      <td>0.107973</td>\n",
       "    </tr>\n",
       "    <tr>\n",
       "      <th>4</th>\n",
       "      <td>Rouen</td>\n",
       "      <td>FR</td>\n",
       "      <td>Normandy</td>\n",
       "      <td>49.440459</td>\n",
       "      <td>1.093966</td>\n",
       "    </tr>\n",
       "  </tbody>\n",
       "</table>\n",
       "</div>"
      ],
      "text/plain": [
       "              cities country     state        lat       lon\n",
       "0  Mont Saint Michel      FR  Normandy  48.635954  -1.51146\n",
       "1            St Malo      FR  Brittany  48.649518 -2.026041\n",
       "2             Bayeux      FR  Normandy  49.276462 -0.702474\n",
       "3           Le Havre      FR  Normandy  49.493898  0.107973\n",
       "4              Rouen      FR  Normandy  49.440459  1.093966"
      ]
     },
     "execution_count": 367,
     "metadata": {},
     "output_type": "execute_result"
    }
   ],
   "source": [
    "df_merged.head()"
   ]
  },
  {
   "cell_type": "code",
   "execution_count": 368,
   "metadata": {},
   "outputs": [],
   "source": [
    "# Enregistrement du DataFrame fusionné en fichier CSV\n",
    "df_merged.to_csv('data/35_best_cities_latlon.csv', index=False)"
   ]
  },
  {
   "cell_type": "markdown",
   "metadata": {},
   "source": [
    "## Import des informations météo"
   ]
  },
  {
   "cell_type": "code",
   "execution_count": 369,
   "metadata": {},
   "outputs": [],
   "source": [
    "df=pd.read_csv(\"data/35_best_cities_latlon.csv\")"
   ]
  },
  {
   "cell_type": "code",
   "execution_count": 370,
   "metadata": {},
   "outputs": [
    {
     "data": {
      "text/plain": [
       "<Response [200]>"
      ]
     },
     "execution_count": 370,
     "metadata": {},
     "output_type": "execute_result"
    }
   ],
   "source": [
    "url = f\"https://api.openweathermap.org/data/3.0/onecall?lat={df.loc[0, 'lat']}&lon={df.loc[0, 'lon']}&units=metric&exclude=hourly,daily&appid={Open_Weather_API_Key_Myriam}\"\n",
    "\n",
    "r = requests.get(url)\n",
    "data = r.json()\n",
    "r"
   ]
  },
  {
   "cell_type": "code",
   "execution_count": 371,
   "metadata": {},
   "outputs": [],
   "source": [
    "# import des informations météorologiques importantes\n",
    "for i in df.index:\n",
    "    lat = df.loc[i, 'lat']\n",
    "    lon = df.loc[i, 'lon']\n",
    "\n",
    "    url = f\"https://api.openweathermap.org/data/3.0/onecall?lat={lat}&lon={lon}&units=metric&exclude=hourly,daily&appid={Open_Weather_API_Key_Myriam}\"\n",
    "\n",
    "    r = requests.get(url)\n",
    "\n",
    "    if r.status_code == 200:\n",
    "        data = r.json()\n",
    "  \n",
    "        df.loc[i,\"date\"] = data[\"current\"][\"dt\"]\n",
    "        df.loc[i, \"temp\"] = data[\"current\"][\"temp\"]\n",
    "        df.loc[i, \"feels_like\"] = data[\"current\"][\"feels_like\"]\n",
    "        df.loc[i, \"uvi\"] = data[\"current\"][\"uvi\"]\n",
    "        df.loc[i, \"humidity\"] = data[\"current\"][\"humidity\"]\n",
    "        df.loc[i, \"wind_speed\"] = data[\"current\"][\"wind_speed\"]\n",
    "        df.loc[i, \"description\"] = data[\"current\"][\"weather\"][0][\"description\"]\n",
    "        \n",
    "    else:\n",
    "        print(f\"Erreur lors de la requête pour l'index {i} : {r.status_code}\")\n",
    "        print(r.text)  # Imprime le message d'erreur pour plus de détails\n",
    "\n"
   ]
  },
  {
   "cell_type": "code",
   "execution_count": 372,
   "metadata": {},
   "outputs": [
    {
     "data": {
      "text/html": [
       "<div>\n",
       "<style scoped>\n",
       "    .dataframe tbody tr th:only-of-type {\n",
       "        vertical-align: middle;\n",
       "    }\n",
       "\n",
       "    .dataframe tbody tr th {\n",
       "        vertical-align: top;\n",
       "    }\n",
       "\n",
       "    .dataframe thead th {\n",
       "        text-align: right;\n",
       "    }\n",
       "</style>\n",
       "<table border=\"1\" class=\"dataframe\">\n",
       "  <thead>\n",
       "    <tr style=\"text-align: right;\">\n",
       "      <th></th>\n",
       "      <th>cities</th>\n",
       "      <th>country</th>\n",
       "      <th>state</th>\n",
       "      <th>lat</th>\n",
       "      <th>lon</th>\n",
       "      <th>date</th>\n",
       "      <th>temp</th>\n",
       "      <th>feels_like</th>\n",
       "      <th>uvi</th>\n",
       "      <th>humidity</th>\n",
       "      <th>wind_speed</th>\n",
       "      <th>description</th>\n",
       "    </tr>\n",
       "  </thead>\n",
       "  <tbody>\n",
       "    <tr>\n",
       "      <th>0</th>\n",
       "      <td>Mont Saint Michel</td>\n",
       "      <td>FR</td>\n",
       "      <td>Normandy</td>\n",
       "      <td>48.635954</td>\n",
       "      <td>-1.511460</td>\n",
       "      <td>1.745499e+09</td>\n",
       "      <td>13.95</td>\n",
       "      <td>13.23</td>\n",
       "      <td>4.75</td>\n",
       "      <td>70.0</td>\n",
       "      <td>3.42</td>\n",
       "      <td>broken clouds</td>\n",
       "    </tr>\n",
       "    <tr>\n",
       "      <th>1</th>\n",
       "      <td>St Malo</td>\n",
       "      <td>FR</td>\n",
       "      <td>Brittany</td>\n",
       "      <td>48.649518</td>\n",
       "      <td>-2.026041</td>\n",
       "      <td>1.745499e+09</td>\n",
       "      <td>15.29</td>\n",
       "      <td>14.62</td>\n",
       "      <td>5.41</td>\n",
       "      <td>67.0</td>\n",
       "      <td>3.09</td>\n",
       "      <td>broken clouds</td>\n",
       "    </tr>\n",
       "    <tr>\n",
       "      <th>2</th>\n",
       "      <td>Bayeux</td>\n",
       "      <td>FR</td>\n",
       "      <td>Normandy</td>\n",
       "      <td>49.276462</td>\n",
       "      <td>-0.702474</td>\n",
       "      <td>1.745499e+09</td>\n",
       "      <td>12.14</td>\n",
       "      <td>11.37</td>\n",
       "      <td>4.33</td>\n",
       "      <td>75.0</td>\n",
       "      <td>4.45</td>\n",
       "      <td>broken clouds</td>\n",
       "    </tr>\n",
       "    <tr>\n",
       "      <th>3</th>\n",
       "      <td>Le Havre</td>\n",
       "      <td>FR</td>\n",
       "      <td>Normandy</td>\n",
       "      <td>49.493898</td>\n",
       "      <td>0.107973</td>\n",
       "      <td>1.745499e+09</td>\n",
       "      <td>11.51</td>\n",
       "      <td>10.99</td>\n",
       "      <td>4.59</td>\n",
       "      <td>87.0</td>\n",
       "      <td>4.63</td>\n",
       "      <td>overcast clouds</td>\n",
       "    </tr>\n",
       "    <tr>\n",
       "      <th>4</th>\n",
       "      <td>Rouen</td>\n",
       "      <td>FR</td>\n",
       "      <td>Normandy</td>\n",
       "      <td>49.440459</td>\n",
       "      <td>1.093966</td>\n",
       "      <td>1.745499e+09</td>\n",
       "      <td>13.66</td>\n",
       "      <td>13.01</td>\n",
       "      <td>3.15</td>\n",
       "      <td>74.0</td>\n",
       "      <td>3.60</td>\n",
       "      <td>broken clouds</td>\n",
       "    </tr>\n",
       "  </tbody>\n",
       "</table>\n",
       "</div>"
      ],
      "text/plain": [
       "              cities country     state        lat       lon          date  \\\n",
       "0  Mont Saint Michel      FR  Normandy  48.635954 -1.511460  1.745499e+09   \n",
       "1            St Malo      FR  Brittany  48.649518 -2.026041  1.745499e+09   \n",
       "2             Bayeux      FR  Normandy  49.276462 -0.702474  1.745499e+09   \n",
       "3           Le Havre      FR  Normandy  49.493898  0.107973  1.745499e+09   \n",
       "4              Rouen      FR  Normandy  49.440459  1.093966  1.745499e+09   \n",
       "\n",
       "    temp  feels_like   uvi  humidity  wind_speed      description  \n",
       "0  13.95       13.23  4.75      70.0        3.42    broken clouds  \n",
       "1  15.29       14.62  5.41      67.0        3.09    broken clouds  \n",
       "2  12.14       11.37  4.33      75.0        4.45    broken clouds  \n",
       "3  11.51       10.99  4.59      87.0        4.63  overcast clouds  \n",
       "4  13.66       13.01  3.15      74.0        3.60    broken clouds  "
      ]
     },
     "execution_count": 372,
     "metadata": {},
     "output_type": "execute_result"
    }
   ],
   "source": [
    "df.head()"
   ]
  },
  {
   "cell_type": "code",
   "execution_count": 373,
   "metadata": {},
   "outputs": [
    {
     "data": {
      "text/html": [
       "<div>\n",
       "<style scoped>\n",
       "    .dataframe tbody tr th:only-of-type {\n",
       "        vertical-align: middle;\n",
       "    }\n",
       "\n",
       "    .dataframe tbody tr th {\n",
       "        vertical-align: top;\n",
       "    }\n",
       "\n",
       "    .dataframe thead th {\n",
       "        text-align: right;\n",
       "    }\n",
       "</style>\n",
       "<table border=\"1\" class=\"dataframe\">\n",
       "  <thead>\n",
       "    <tr style=\"text-align: right;\">\n",
       "      <th></th>\n",
       "      <th>cities</th>\n",
       "      <th>country</th>\n",
       "      <th>state</th>\n",
       "      <th>lat</th>\n",
       "      <th>lon</th>\n",
       "      <th>date</th>\n",
       "      <th>temp</th>\n",
       "      <th>feels_like</th>\n",
       "      <th>uvi</th>\n",
       "      <th>humidity</th>\n",
       "      <th>wind_speed</th>\n",
       "      <th>description</th>\n",
       "    </tr>\n",
       "  </thead>\n",
       "  <tbody>\n",
       "    <tr>\n",
       "      <th>0</th>\n",
       "      <td>Mont Saint Michel</td>\n",
       "      <td>FR</td>\n",
       "      <td>Normandy</td>\n",
       "      <td>48.635954</td>\n",
       "      <td>-1.511460</td>\n",
       "      <td>2025-04-24 12:50:01</td>\n",
       "      <td>13.95</td>\n",
       "      <td>13.23</td>\n",
       "      <td>4.75</td>\n",
       "      <td>70.0</td>\n",
       "      <td>3.42</td>\n",
       "      <td>broken clouds</td>\n",
       "    </tr>\n",
       "    <tr>\n",
       "      <th>1</th>\n",
       "      <td>St Malo</td>\n",
       "      <td>FR</td>\n",
       "      <td>Brittany</td>\n",
       "      <td>48.649518</td>\n",
       "      <td>-2.026041</td>\n",
       "      <td>2025-04-24 12:50:05</td>\n",
       "      <td>15.29</td>\n",
       "      <td>14.62</td>\n",
       "      <td>5.41</td>\n",
       "      <td>67.0</td>\n",
       "      <td>3.09</td>\n",
       "      <td>broken clouds</td>\n",
       "    </tr>\n",
       "    <tr>\n",
       "      <th>2</th>\n",
       "      <td>Bayeux</td>\n",
       "      <td>FR</td>\n",
       "      <td>Normandy</td>\n",
       "      <td>49.276462</td>\n",
       "      <td>-0.702474</td>\n",
       "      <td>2025-04-24 12:50:05</td>\n",
       "      <td>12.14</td>\n",
       "      <td>11.37</td>\n",
       "      <td>4.33</td>\n",
       "      <td>75.0</td>\n",
       "      <td>4.45</td>\n",
       "      <td>broken clouds</td>\n",
       "    </tr>\n",
       "    <tr>\n",
       "      <th>3</th>\n",
       "      <td>Le Havre</td>\n",
       "      <td>FR</td>\n",
       "      <td>Normandy</td>\n",
       "      <td>49.493898</td>\n",
       "      <td>0.107973</td>\n",
       "      <td>2025-04-24 12:50:05</td>\n",
       "      <td>11.51</td>\n",
       "      <td>10.99</td>\n",
       "      <td>4.59</td>\n",
       "      <td>87.0</td>\n",
       "      <td>4.63</td>\n",
       "      <td>overcast clouds</td>\n",
       "    </tr>\n",
       "    <tr>\n",
       "      <th>4</th>\n",
       "      <td>Rouen</td>\n",
       "      <td>FR</td>\n",
       "      <td>Normandy</td>\n",
       "      <td>49.440459</td>\n",
       "      <td>1.093966</td>\n",
       "      <td>2025-04-24 12:50:05</td>\n",
       "      <td>13.66</td>\n",
       "      <td>13.01</td>\n",
       "      <td>3.15</td>\n",
       "      <td>74.0</td>\n",
       "      <td>3.60</td>\n",
       "      <td>broken clouds</td>\n",
       "    </tr>\n",
       "  </tbody>\n",
       "</table>\n",
       "</div>"
      ],
      "text/plain": [
       "              cities country     state        lat       lon  \\\n",
       "0  Mont Saint Michel      FR  Normandy  48.635954 -1.511460   \n",
       "1            St Malo      FR  Brittany  48.649518 -2.026041   \n",
       "2             Bayeux      FR  Normandy  49.276462 -0.702474   \n",
       "3           Le Havre      FR  Normandy  49.493898  0.107973   \n",
       "4              Rouen      FR  Normandy  49.440459  1.093966   \n",
       "\n",
       "                 date   temp  feels_like   uvi  humidity  wind_speed  \\\n",
       "0 2025-04-24 12:50:01  13.95       13.23  4.75      70.0        3.42   \n",
       "1 2025-04-24 12:50:05  15.29       14.62  5.41      67.0        3.09   \n",
       "2 2025-04-24 12:50:05  12.14       11.37  4.33      75.0        4.45   \n",
       "3 2025-04-24 12:50:05  11.51       10.99  4.59      87.0        4.63   \n",
       "4 2025-04-24 12:50:05  13.66       13.01  3.15      74.0        3.60   \n",
       "\n",
       "       description  \n",
       "0    broken clouds  \n",
       "1    broken clouds  \n",
       "2    broken clouds  \n",
       "3  overcast clouds  \n",
       "4    broken clouds  "
      ]
     },
     "execution_count": 373,
     "metadata": {},
     "output_type": "execute_result"
    }
   ],
   "source": [
    "#conversion de la colonne date en formation datetime\n",
    "df['date'] = pd.to_datetime(df['date'], unit='s')\n",
    "df.head()"
   ]
  },
  {
   "cell_type": "code",
   "execution_count": 374,
   "metadata": {},
   "outputs": [],
   "source": [
    "# Enregistrer le DataFrame en fichier CSV\n",
    "df.to_csv('data/35_best_cities_weather.csv', index=False)"
   ]
  },
  {
   "cell_type": "markdown",
   "metadata": {},
   "source": [
    "# Rapide EDA "
   ]
  },
  {
   "cell_type": "code",
   "execution_count": 375,
   "metadata": {},
   "outputs": [
    {
     "data": {
      "text/html": [
       "<div>\n",
       "<style scoped>\n",
       "    .dataframe tbody tr th:only-of-type {\n",
       "        vertical-align: middle;\n",
       "    }\n",
       "\n",
       "    .dataframe tbody tr th {\n",
       "        vertical-align: top;\n",
       "    }\n",
       "\n",
       "    .dataframe thead th {\n",
       "        text-align: right;\n",
       "    }\n",
       "</style>\n",
       "<table border=\"1\" class=\"dataframe\">\n",
       "  <thead>\n",
       "    <tr style=\"text-align: right;\">\n",
       "      <th></th>\n",
       "      <th>cities</th>\n",
       "      <th>country</th>\n",
       "      <th>state</th>\n",
       "      <th>lat</th>\n",
       "      <th>lon</th>\n",
       "      <th>date</th>\n",
       "      <th>temp</th>\n",
       "      <th>feels_like</th>\n",
       "      <th>uvi</th>\n",
       "      <th>humidity</th>\n",
       "      <th>wind_speed</th>\n",
       "      <th>description</th>\n",
       "    </tr>\n",
       "  </thead>\n",
       "  <tbody>\n",
       "    <tr>\n",
       "      <th>0</th>\n",
       "      <td>Mont Saint Michel</td>\n",
       "      <td>FR</td>\n",
       "      <td>Normandy</td>\n",
       "      <td>48.635954</td>\n",
       "      <td>-1.511460</td>\n",
       "      <td>2025-04-24 12:50:01</td>\n",
       "      <td>13.95</td>\n",
       "      <td>13.23</td>\n",
       "      <td>4.75</td>\n",
       "      <td>70.0</td>\n",
       "      <td>3.42</td>\n",
       "      <td>broken clouds</td>\n",
       "    </tr>\n",
       "    <tr>\n",
       "      <th>1</th>\n",
       "      <td>St Malo</td>\n",
       "      <td>FR</td>\n",
       "      <td>Brittany</td>\n",
       "      <td>48.649518</td>\n",
       "      <td>-2.026041</td>\n",
       "      <td>2025-04-24 12:50:05</td>\n",
       "      <td>15.29</td>\n",
       "      <td>14.62</td>\n",
       "      <td>5.41</td>\n",
       "      <td>67.0</td>\n",
       "      <td>3.09</td>\n",
       "      <td>broken clouds</td>\n",
       "    </tr>\n",
       "    <tr>\n",
       "      <th>2</th>\n",
       "      <td>Bayeux</td>\n",
       "      <td>FR</td>\n",
       "      <td>Normandy</td>\n",
       "      <td>49.276462</td>\n",
       "      <td>-0.702474</td>\n",
       "      <td>2025-04-24 12:50:05</td>\n",
       "      <td>12.14</td>\n",
       "      <td>11.37</td>\n",
       "      <td>4.33</td>\n",
       "      <td>75.0</td>\n",
       "      <td>4.45</td>\n",
       "      <td>broken clouds</td>\n",
       "    </tr>\n",
       "    <tr>\n",
       "      <th>3</th>\n",
       "      <td>Le Havre</td>\n",
       "      <td>FR</td>\n",
       "      <td>Normandy</td>\n",
       "      <td>49.493898</td>\n",
       "      <td>0.107973</td>\n",
       "      <td>2025-04-24 12:50:05</td>\n",
       "      <td>11.51</td>\n",
       "      <td>10.99</td>\n",
       "      <td>4.59</td>\n",
       "      <td>87.0</td>\n",
       "      <td>4.63</td>\n",
       "      <td>overcast clouds</td>\n",
       "    </tr>\n",
       "    <tr>\n",
       "      <th>4</th>\n",
       "      <td>Rouen</td>\n",
       "      <td>FR</td>\n",
       "      <td>Normandy</td>\n",
       "      <td>49.440459</td>\n",
       "      <td>1.093966</td>\n",
       "      <td>2025-04-24 12:50:05</td>\n",
       "      <td>13.66</td>\n",
       "      <td>13.01</td>\n",
       "      <td>3.15</td>\n",
       "      <td>74.0</td>\n",
       "      <td>3.60</td>\n",
       "      <td>broken clouds</td>\n",
       "    </tr>\n",
       "    <tr>\n",
       "      <th>5</th>\n",
       "      <td>Paris</td>\n",
       "      <td>FR</td>\n",
       "      <td>Ile-de-France</td>\n",
       "      <td>48.858890</td>\n",
       "      <td>2.320041</td>\n",
       "      <td>2025-04-24 12:50:05</td>\n",
       "      <td>15.21</td>\n",
       "      <td>14.59</td>\n",
       "      <td>3.04</td>\n",
       "      <td>69.0</td>\n",
       "      <td>4.63</td>\n",
       "      <td>overcast clouds</td>\n",
       "    </tr>\n",
       "    <tr>\n",
       "      <th>6</th>\n",
       "      <td>Amiens</td>\n",
       "      <td>FR</td>\n",
       "      <td>Hauts-de-France</td>\n",
       "      <td>49.894171</td>\n",
       "      <td>2.295695</td>\n",
       "      <td>2025-04-24 12:50:05</td>\n",
       "      <td>12.88</td>\n",
       "      <td>12.21</td>\n",
       "      <td>2.61</td>\n",
       "      <td>76.0</td>\n",
       "      <td>4.59</td>\n",
       "      <td>overcast clouds</td>\n",
       "    </tr>\n",
       "    <tr>\n",
       "      <th>7</th>\n",
       "      <td>Lille</td>\n",
       "      <td>FR</td>\n",
       "      <td>Hauts-de-France</td>\n",
       "      <td>50.636565</td>\n",
       "      <td>3.063528</td>\n",
       "      <td>2025-04-24 12:50:05</td>\n",
       "      <td>12.98</td>\n",
       "      <td>12.08</td>\n",
       "      <td>4.78</td>\n",
       "      <td>67.0</td>\n",
       "      <td>6.69</td>\n",
       "      <td>overcast clouds</td>\n",
       "    </tr>\n",
       "    <tr>\n",
       "      <th>8</th>\n",
       "      <td>Strasbourg</td>\n",
       "      <td>FR</td>\n",
       "      <td>Grand Est</td>\n",
       "      <td>48.584614</td>\n",
       "      <td>7.750713</td>\n",
       "      <td>2025-04-24 12:50:05</td>\n",
       "      <td>13.00</td>\n",
       "      <td>12.34</td>\n",
       "      <td>3.68</td>\n",
       "      <td>76.0</td>\n",
       "      <td>2.57</td>\n",
       "      <td>light rain</td>\n",
       "    </tr>\n",
       "    <tr>\n",
       "      <th>9</th>\n",
       "      <td>Chateau du Haut Koenigsbourg</td>\n",
       "      <td>FR</td>\n",
       "      <td>Grand Est</td>\n",
       "      <td>48.249523</td>\n",
       "      <td>7.345492</td>\n",
       "      <td>2025-04-24 12:50:05</td>\n",
       "      <td>10.90</td>\n",
       "      <td>9.80</td>\n",
       "      <td>2.49</td>\n",
       "      <td>67.0</td>\n",
       "      <td>3.09</td>\n",
       "      <td>broken clouds</td>\n",
       "    </tr>\n",
       "    <tr>\n",
       "      <th>10</th>\n",
       "      <td>Colmar</td>\n",
       "      <td>FR</td>\n",
       "      <td>Grand Est</td>\n",
       "      <td>48.077752</td>\n",
       "      <td>7.357964</td>\n",
       "      <td>2025-04-24 12:50:05</td>\n",
       "      <td>13.94</td>\n",
       "      <td>13.22</td>\n",
       "      <td>2.49</td>\n",
       "      <td>70.0</td>\n",
       "      <td>3.09</td>\n",
       "      <td>broken clouds</td>\n",
       "    </tr>\n",
       "    <tr>\n",
       "      <th>11</th>\n",
       "      <td>Eguisheim</td>\n",
       "      <td>FR</td>\n",
       "      <td>Grand Est</td>\n",
       "      <td>48.044797</td>\n",
       "      <td>7.307962</td>\n",
       "      <td>2025-04-24 12:50:06</td>\n",
       "      <td>13.91</td>\n",
       "      <td>13.21</td>\n",
       "      <td>2.49</td>\n",
       "      <td>71.0</td>\n",
       "      <td>3.09</td>\n",
       "      <td>broken clouds</td>\n",
       "    </tr>\n",
       "    <tr>\n",
       "      <th>12</th>\n",
       "      <td>Besancon</td>\n",
       "      <td>FR</td>\n",
       "      <td>Bourgogne-Franche-Comté</td>\n",
       "      <td>47.238022</td>\n",
       "      <td>6.024362</td>\n",
       "      <td>2025-04-24 12:50:06</td>\n",
       "      <td>13.33</td>\n",
       "      <td>12.49</td>\n",
       "      <td>0.56</td>\n",
       "      <td>68.0</td>\n",
       "      <td>2.45</td>\n",
       "      <td>overcast clouds</td>\n",
       "    </tr>\n",
       "    <tr>\n",
       "      <th>13</th>\n",
       "      <td>Dijon</td>\n",
       "      <td>FR</td>\n",
       "      <td>Bourgogne-Franche-Comté</td>\n",
       "      <td>47.321581</td>\n",
       "      <td>5.041470</td>\n",
       "      <td>2025-04-24 12:50:06</td>\n",
       "      <td>13.80</td>\n",
       "      <td>12.99</td>\n",
       "      <td>2.62</td>\n",
       "      <td>67.0</td>\n",
       "      <td>4.63</td>\n",
       "      <td>moderate rain</td>\n",
       "    </tr>\n",
       "    <tr>\n",
       "      <th>14</th>\n",
       "      <td>Annecy</td>\n",
       "      <td>FR</td>\n",
       "      <td>Auvergne-Rhône-Alpes</td>\n",
       "      <td>45.899235</td>\n",
       "      <td>6.128885</td>\n",
       "      <td>2025-04-24 12:50:06</td>\n",
       "      <td>13.08</td>\n",
       "      <td>12.06</td>\n",
       "      <td>2.59</td>\n",
       "      <td>62.0</td>\n",
       "      <td>5.14</td>\n",
       "      <td>broken clouds</td>\n",
       "    </tr>\n",
       "    <tr>\n",
       "      <th>15</th>\n",
       "      <td>Grenoble</td>\n",
       "      <td>FR</td>\n",
       "      <td>Auvergne-Rhône-Alpes</td>\n",
       "      <td>45.187560</td>\n",
       "      <td>5.735782</td>\n",
       "      <td>2025-04-24 12:50:06</td>\n",
       "      <td>14.32</td>\n",
       "      <td>13.84</td>\n",
       "      <td>3.27</td>\n",
       "      <td>78.0</td>\n",
       "      <td>1.34</td>\n",
       "      <td>overcast clouds</td>\n",
       "    </tr>\n",
       "    <tr>\n",
       "      <th>16</th>\n",
       "      <td>Lyon</td>\n",
       "      <td>FR</td>\n",
       "      <td>Auvergne-Rhône-Alpes</td>\n",
       "      <td>45.757814</td>\n",
       "      <td>4.832011</td>\n",
       "      <td>2025-04-24 12:50:06</td>\n",
       "      <td>15.65</td>\n",
       "      <td>14.79</td>\n",
       "      <td>4.55</td>\n",
       "      <td>58.0</td>\n",
       "      <td>5.14</td>\n",
       "      <td>broken clouds</td>\n",
       "    </tr>\n",
       "    <tr>\n",
       "      <th>17</th>\n",
       "      <td>Bormes les Mimosas</td>\n",
       "      <td>FR</td>\n",
       "      <td>Provence-Alpes-Côte d'Azur</td>\n",
       "      <td>43.150697</td>\n",
       "      <td>6.341928</td>\n",
       "      <td>2025-04-24 12:50:06</td>\n",
       "      <td>22.24</td>\n",
       "      <td>21.54</td>\n",
       "      <td>6.05</td>\n",
       "      <td>39.0</td>\n",
       "      <td>5.66</td>\n",
       "      <td>clear sky</td>\n",
       "    </tr>\n",
       "    <tr>\n",
       "      <th>18</th>\n",
       "      <td>Cassis</td>\n",
       "      <td>FR</td>\n",
       "      <td>Provence-Alpes-Côte d'Azur</td>\n",
       "      <td>43.214036</td>\n",
       "      <td>5.539632</td>\n",
       "      <td>2025-04-24 12:50:06</td>\n",
       "      <td>20.17</td>\n",
       "      <td>19.13</td>\n",
       "      <td>6.08</td>\n",
       "      <td>34.0</td>\n",
       "      <td>13.70</td>\n",
       "      <td>clear sky</td>\n",
       "    </tr>\n",
       "    <tr>\n",
       "      <th>19</th>\n",
       "      <td>Marseille</td>\n",
       "      <td>FR</td>\n",
       "      <td>Provence-Alpes-Côte d'Azur</td>\n",
       "      <td>43.296174</td>\n",
       "      <td>5.369953</td>\n",
       "      <td>2025-04-24 12:50:06</td>\n",
       "      <td>20.30</td>\n",
       "      <td>19.27</td>\n",
       "      <td>6.03</td>\n",
       "      <td>34.0</td>\n",
       "      <td>13.89</td>\n",
       "      <td>clear sky</td>\n",
       "    </tr>\n",
       "    <tr>\n",
       "      <th>20</th>\n",
       "      <td>Aix en Provence</td>\n",
       "      <td>FR</td>\n",
       "      <td>Provence-Alpes-Côte d'Azur</td>\n",
       "      <td>43.529842</td>\n",
       "      <td>5.447474</td>\n",
       "      <td>2025-04-24 12:50:06</td>\n",
       "      <td>19.49</td>\n",
       "      <td>18.59</td>\n",
       "      <td>5.99</td>\n",
       "      <td>42.0</td>\n",
       "      <td>3.58</td>\n",
       "      <td>clear sky</td>\n",
       "    </tr>\n",
       "    <tr>\n",
       "      <th>21</th>\n",
       "      <td>Avignon</td>\n",
       "      <td>FR</td>\n",
       "      <td>Provence-Alpes-Côte d'Azur</td>\n",
       "      <td>43.949249</td>\n",
       "      <td>4.805901</td>\n",
       "      <td>2025-04-24 12:50:07</td>\n",
       "      <td>20.16</td>\n",
       "      <td>19.48</td>\n",
       "      <td>6.06</td>\n",
       "      <td>48.0</td>\n",
       "      <td>9.77</td>\n",
       "      <td>broken clouds</td>\n",
       "    </tr>\n",
       "    <tr>\n",
       "      <th>22</th>\n",
       "      <td>Uzes</td>\n",
       "      <td>FR</td>\n",
       "      <td>Occitania</td>\n",
       "      <td>44.012128</td>\n",
       "      <td>4.419672</td>\n",
       "      <td>2025-04-24 12:50:07</td>\n",
       "      <td>19.56</td>\n",
       "      <td>18.82</td>\n",
       "      <td>6.27</td>\n",
       "      <td>48.0</td>\n",
       "      <td>8.04</td>\n",
       "      <td>clear sky</td>\n",
       "    </tr>\n",
       "    <tr>\n",
       "      <th>23</th>\n",
       "      <td>Nimes</td>\n",
       "      <td>FR</td>\n",
       "      <td>Occitania</td>\n",
       "      <td>43.837425</td>\n",
       "      <td>4.360069</td>\n",
       "      <td>2025-04-24 12:50:07</td>\n",
       "      <td>21.22</td>\n",
       "      <td>20.44</td>\n",
       "      <td>6.10</td>\n",
       "      <td>40.0</td>\n",
       "      <td>7.72</td>\n",
       "      <td>clear sky</td>\n",
       "    </tr>\n",
       "    <tr>\n",
       "      <th>24</th>\n",
       "      <td>Aigues Mortes</td>\n",
       "      <td>FR</td>\n",
       "      <td>Occitania</td>\n",
       "      <td>43.565823</td>\n",
       "      <td>4.191284</td>\n",
       "      <td>2025-04-24 12:50:07</td>\n",
       "      <td>21.87</td>\n",
       "      <td>21.16</td>\n",
       "      <td>6.10</td>\n",
       "      <td>40.0</td>\n",
       "      <td>6.69</td>\n",
       "      <td>clear sky</td>\n",
       "    </tr>\n",
       "    <tr>\n",
       "      <th>25</th>\n",
       "      <td>Saintes Maries de la mer</td>\n",
       "      <td>FR</td>\n",
       "      <td>Provence-Alpes-Côte d'Azur</td>\n",
       "      <td>43.452277</td>\n",
       "      <td>4.428717</td>\n",
       "      <td>2025-04-24 12:50:07</td>\n",
       "      <td>19.54</td>\n",
       "      <td>18.86</td>\n",
       "      <td>6.11</td>\n",
       "      <td>50.0</td>\n",
       "      <td>5.99</td>\n",
       "      <td>clear sky</td>\n",
       "    </tr>\n",
       "    <tr>\n",
       "      <th>26</th>\n",
       "      <td>Collioure</td>\n",
       "      <td>FR</td>\n",
       "      <td>Occitania</td>\n",
       "      <td>42.525050</td>\n",
       "      <td>3.083155</td>\n",
       "      <td>2025-04-24 12:50:07</td>\n",
       "      <td>21.64</td>\n",
       "      <td>21.24</td>\n",
       "      <td>6.26</td>\n",
       "      <td>53.0</td>\n",
       "      <td>6.92</td>\n",
       "      <td>broken clouds</td>\n",
       "    </tr>\n",
       "    <tr>\n",
       "      <th>27</th>\n",
       "      <td>Carcassonne</td>\n",
       "      <td>FR</td>\n",
       "      <td>Occitania</td>\n",
       "      <td>43.213036</td>\n",
       "      <td>2.349107</td>\n",
       "      <td>2025-04-24 12:50:07</td>\n",
       "      <td>17.01</td>\n",
       "      <td>16.70</td>\n",
       "      <td>3.36</td>\n",
       "      <td>74.0</td>\n",
       "      <td>7.72</td>\n",
       "      <td>overcast clouds</td>\n",
       "    </tr>\n",
       "    <tr>\n",
       "      <th>28</th>\n",
       "      <td>Ariege</td>\n",
       "      <td>FR</td>\n",
       "      <td>Occitania</td>\n",
       "      <td>42.845802</td>\n",
       "      <td>1.606759</td>\n",
       "      <td>2025-04-24 12:50:07</td>\n",
       "      <td>18.46</td>\n",
       "      <td>18.06</td>\n",
       "      <td>4.37</td>\n",
       "      <td>65.0</td>\n",
       "      <td>2.59</td>\n",
       "      <td>broken clouds</td>\n",
       "    </tr>\n",
       "    <tr>\n",
       "      <th>29</th>\n",
       "      <td>Toulouse</td>\n",
       "      <td>FR</td>\n",
       "      <td>Occitania</td>\n",
       "      <td>43.604462</td>\n",
       "      <td>1.444247</td>\n",
       "      <td>2025-04-24 12:50:07</td>\n",
       "      <td>15.97</td>\n",
       "      <td>15.50</td>\n",
       "      <td>2.87</td>\n",
       "      <td>72.0</td>\n",
       "      <td>6.69</td>\n",
       "      <td>broken clouds</td>\n",
       "    </tr>\n",
       "    <tr>\n",
       "      <th>30</th>\n",
       "      <td>Montauban</td>\n",
       "      <td>FR</td>\n",
       "      <td>Occitania</td>\n",
       "      <td>44.017584</td>\n",
       "      <td>1.354999</td>\n",
       "      <td>2025-04-24 12:50:07</td>\n",
       "      <td>16.66</td>\n",
       "      <td>16.03</td>\n",
       "      <td>4.79</td>\n",
       "      <td>63.0</td>\n",
       "      <td>5.14</td>\n",
       "      <td>overcast clouds</td>\n",
       "    </tr>\n",
       "    <tr>\n",
       "      <th>31</th>\n",
       "      <td>Biarritz</td>\n",
       "      <td>FR</td>\n",
       "      <td>Nouvelle-Aquitaine</td>\n",
       "      <td>43.483252</td>\n",
       "      <td>-1.559278</td>\n",
       "      <td>2025-04-24 12:50:08</td>\n",
       "      <td>15.30</td>\n",
       "      <td>15.18</td>\n",
       "      <td>6.57</td>\n",
       "      <td>88.0</td>\n",
       "      <td>3.60</td>\n",
       "      <td>overcast clouds</td>\n",
       "    </tr>\n",
       "    <tr>\n",
       "      <th>32</th>\n",
       "      <td>Bayonne</td>\n",
       "      <td>FR</td>\n",
       "      <td>Nouvelle-Aquitaine</td>\n",
       "      <td>43.494514</td>\n",
       "      <td>-1.473666</td>\n",
       "      <td>2025-04-24 12:50:08</td>\n",
       "      <td>15.42</td>\n",
       "      <td>15.32</td>\n",
       "      <td>6.12</td>\n",
       "      <td>88.0</td>\n",
       "      <td>3.60</td>\n",
       "      <td>overcast clouds</td>\n",
       "    </tr>\n",
       "    <tr>\n",
       "      <th>33</th>\n",
       "      <td>La Rochelle</td>\n",
       "      <td>FR</td>\n",
       "      <td>Nouvelle-Aquitaine</td>\n",
       "      <td>46.159113</td>\n",
       "      <td>-1.152043</td>\n",
       "      <td>2025-04-24 12:50:08</td>\n",
       "      <td>14.98</td>\n",
       "      <td>14.31</td>\n",
       "      <td>3.66</td>\n",
       "      <td>68.0</td>\n",
       "      <td>3.09</td>\n",
       "      <td>overcast clouds</td>\n",
       "    </tr>\n",
       "    <tr>\n",
       "      <th>34</th>\n",
       "      <td>Gorges du Verdon</td>\n",
       "      <td>NaN</td>\n",
       "      <td>NaN</td>\n",
       "      <td>43.749656</td>\n",
       "      <td>6.328562</td>\n",
       "      <td>2025-04-24 12:50:08</td>\n",
       "      <td>19.98</td>\n",
       "      <td>19.13</td>\n",
       "      <td>6.08</td>\n",
       "      <td>42.0</td>\n",
       "      <td>3.30</td>\n",
       "      <td>clear sky</td>\n",
       "    </tr>\n",
       "  </tbody>\n",
       "</table>\n",
       "</div>"
      ],
      "text/plain": [
       "                          cities country                       state  \\\n",
       "0              Mont Saint Michel      FR                    Normandy   \n",
       "1                        St Malo      FR                    Brittany   \n",
       "2                         Bayeux      FR                    Normandy   \n",
       "3                       Le Havre      FR                    Normandy   \n",
       "4                          Rouen      FR                    Normandy   \n",
       "5                          Paris      FR               Ile-de-France   \n",
       "6                         Amiens      FR             Hauts-de-France   \n",
       "7                          Lille      FR             Hauts-de-France   \n",
       "8                     Strasbourg      FR                   Grand Est   \n",
       "9   Chateau du Haut Koenigsbourg      FR                   Grand Est   \n",
       "10                        Colmar      FR                   Grand Est   \n",
       "11                     Eguisheim      FR                   Grand Est   \n",
       "12                      Besancon      FR     Bourgogne-Franche-Comté   \n",
       "13                         Dijon      FR     Bourgogne-Franche-Comté   \n",
       "14                        Annecy      FR        Auvergne-Rhône-Alpes   \n",
       "15                      Grenoble      FR        Auvergne-Rhône-Alpes   \n",
       "16                          Lyon      FR        Auvergne-Rhône-Alpes   \n",
       "17            Bormes les Mimosas      FR  Provence-Alpes-Côte d'Azur   \n",
       "18                        Cassis      FR  Provence-Alpes-Côte d'Azur   \n",
       "19                     Marseille      FR  Provence-Alpes-Côte d'Azur   \n",
       "20               Aix en Provence      FR  Provence-Alpes-Côte d'Azur   \n",
       "21                       Avignon      FR  Provence-Alpes-Côte d'Azur   \n",
       "22                          Uzes      FR                   Occitania   \n",
       "23                         Nimes      FR                   Occitania   \n",
       "24                 Aigues Mortes      FR                   Occitania   \n",
       "25      Saintes Maries de la mer      FR  Provence-Alpes-Côte d'Azur   \n",
       "26                     Collioure      FR                   Occitania   \n",
       "27                   Carcassonne      FR                   Occitania   \n",
       "28                        Ariege      FR                   Occitania   \n",
       "29                      Toulouse      FR                   Occitania   \n",
       "30                     Montauban      FR                   Occitania   \n",
       "31                      Biarritz      FR          Nouvelle-Aquitaine   \n",
       "32                       Bayonne      FR          Nouvelle-Aquitaine   \n",
       "33                   La Rochelle      FR          Nouvelle-Aquitaine   \n",
       "34              Gorges du Verdon     NaN                         NaN   \n",
       "\n",
       "          lat       lon                 date   temp  feels_like   uvi  \\\n",
       "0   48.635954 -1.511460  2025-04-24 12:50:01  13.95       13.23  4.75   \n",
       "1   48.649518 -2.026041  2025-04-24 12:50:05  15.29       14.62  5.41   \n",
       "2   49.276462 -0.702474  2025-04-24 12:50:05  12.14       11.37  4.33   \n",
       "3   49.493898  0.107973  2025-04-24 12:50:05  11.51       10.99  4.59   \n",
       "4   49.440459  1.093966  2025-04-24 12:50:05  13.66       13.01  3.15   \n",
       "5   48.858890  2.320041  2025-04-24 12:50:05  15.21       14.59  3.04   \n",
       "6   49.894171  2.295695  2025-04-24 12:50:05  12.88       12.21  2.61   \n",
       "7   50.636565  3.063528  2025-04-24 12:50:05  12.98       12.08  4.78   \n",
       "8   48.584614  7.750713  2025-04-24 12:50:05  13.00       12.34  3.68   \n",
       "9   48.249523  7.345492  2025-04-24 12:50:05  10.90        9.80  2.49   \n",
       "10  48.077752  7.357964  2025-04-24 12:50:05  13.94       13.22  2.49   \n",
       "11  48.044797  7.307962  2025-04-24 12:50:06  13.91       13.21  2.49   \n",
       "12  47.238022  6.024362  2025-04-24 12:50:06  13.33       12.49  0.56   \n",
       "13  47.321581  5.041470  2025-04-24 12:50:06  13.80       12.99  2.62   \n",
       "14  45.899235  6.128885  2025-04-24 12:50:06  13.08       12.06  2.59   \n",
       "15  45.187560  5.735782  2025-04-24 12:50:06  14.32       13.84  3.27   \n",
       "16  45.757814  4.832011  2025-04-24 12:50:06  15.65       14.79  4.55   \n",
       "17  43.150697  6.341928  2025-04-24 12:50:06  22.24       21.54  6.05   \n",
       "18  43.214036  5.539632  2025-04-24 12:50:06  20.17       19.13  6.08   \n",
       "19  43.296174  5.369953  2025-04-24 12:50:06  20.30       19.27  6.03   \n",
       "20  43.529842  5.447474  2025-04-24 12:50:06  19.49       18.59  5.99   \n",
       "21  43.949249  4.805901  2025-04-24 12:50:07  20.16       19.48  6.06   \n",
       "22  44.012128  4.419672  2025-04-24 12:50:07  19.56       18.82  6.27   \n",
       "23  43.837425  4.360069  2025-04-24 12:50:07  21.22       20.44  6.10   \n",
       "24  43.565823  4.191284  2025-04-24 12:50:07  21.87       21.16  6.10   \n",
       "25  43.452277  4.428717  2025-04-24 12:50:07  19.54       18.86  6.11   \n",
       "26  42.525050  3.083155  2025-04-24 12:50:07  21.64       21.24  6.26   \n",
       "27  43.213036  2.349107  2025-04-24 12:50:07  17.01       16.70  3.36   \n",
       "28  42.845802  1.606759  2025-04-24 12:50:07  18.46       18.06  4.37   \n",
       "29  43.604462  1.444247  2025-04-24 12:50:07  15.97       15.50  2.87   \n",
       "30  44.017584  1.354999  2025-04-24 12:50:07  16.66       16.03  4.79   \n",
       "31  43.483252 -1.559278  2025-04-24 12:50:08  15.30       15.18  6.57   \n",
       "32  43.494514 -1.473666  2025-04-24 12:50:08  15.42       15.32  6.12   \n",
       "33  46.159113 -1.152043  2025-04-24 12:50:08  14.98       14.31  3.66   \n",
       "34  43.749656  6.328562  2025-04-24 12:50:08  19.98       19.13  6.08   \n",
       "\n",
       "    humidity  wind_speed      description  \n",
       "0       70.0        3.42    broken clouds  \n",
       "1       67.0        3.09    broken clouds  \n",
       "2       75.0        4.45    broken clouds  \n",
       "3       87.0        4.63  overcast clouds  \n",
       "4       74.0        3.60    broken clouds  \n",
       "5       69.0        4.63  overcast clouds  \n",
       "6       76.0        4.59  overcast clouds  \n",
       "7       67.0        6.69  overcast clouds  \n",
       "8       76.0        2.57       light rain  \n",
       "9       67.0        3.09    broken clouds  \n",
       "10      70.0        3.09    broken clouds  \n",
       "11      71.0        3.09    broken clouds  \n",
       "12      68.0        2.45  overcast clouds  \n",
       "13      67.0        4.63    moderate rain  \n",
       "14      62.0        5.14    broken clouds  \n",
       "15      78.0        1.34  overcast clouds  \n",
       "16      58.0        5.14    broken clouds  \n",
       "17      39.0        5.66        clear sky  \n",
       "18      34.0       13.70        clear sky  \n",
       "19      34.0       13.89        clear sky  \n",
       "20      42.0        3.58        clear sky  \n",
       "21      48.0        9.77    broken clouds  \n",
       "22      48.0        8.04        clear sky  \n",
       "23      40.0        7.72        clear sky  \n",
       "24      40.0        6.69        clear sky  \n",
       "25      50.0        5.99        clear sky  \n",
       "26      53.0        6.92    broken clouds  \n",
       "27      74.0        7.72  overcast clouds  \n",
       "28      65.0        2.59    broken clouds  \n",
       "29      72.0        6.69    broken clouds  \n",
       "30      63.0        5.14  overcast clouds  \n",
       "31      88.0        3.60  overcast clouds  \n",
       "32      88.0        3.60  overcast clouds  \n",
       "33      68.0        3.09  overcast clouds  \n",
       "34      42.0        3.30        clear sky  "
      ]
     },
     "execution_count": 375,
     "metadata": {},
     "output_type": "execute_result"
    }
   ],
   "source": [
    "bc = pd.read_csv(\"data/35_best_cities_weather.csv\")\n",
    "bc"
   ]
  },
  {
   "cell_type": "code",
   "execution_count": 376,
   "metadata": {},
   "outputs": [
    {
     "data": {
      "text/plain": [
       "(35, 12)"
      ]
     },
     "execution_count": 376,
     "metadata": {},
     "output_type": "execute_result"
    }
   ],
   "source": [
    "bc.shape"
   ]
  },
  {
   "cell_type": "code",
   "execution_count": 377,
   "metadata": {},
   "outputs": [
    {
     "data": {
      "application/vnd.plotly.v1+json": {
       "config": {
        "plotlyServerURL": "https://plot.ly"
       },
       "data": [
        {
         "hovertemplate": "Température (°C)=%{x}<br>Ville=%{y}<extra></extra>",
         "legendgroup": "",
         "marker": {
          "color": "#636efa",
          "pattern": {
           "shape": ""
          }
         },
         "name": "",
         "orientation": "h",
         "showlegend": false,
         "textposition": "auto",
         "type": "bar",
         "x": {
          "bdata": "zczMzMzMJUCF61G4HgUnQEjhehSuRyhAw/UoXI/CKUD2KFyPwvUpQAAAAAAAACpAKVyPwvUoKkApXI/C9agqQFK4HoXrUStAmpmZmZmZK0BSuB6F69ErQOF6FK5H4StAZmZmZmbmK0CkcD0K16MsQPYoXI/C9S1A7FG4HoVrLkAUrkfhepQuQJqZmZmZmS5A16NwPQrXLkDNzMzMzEwvQHE9Ctej8C9AKVyPwvWoMEDD9ShcjwIxQPYoXI/CdTJAPQrXo3B9M0AK16NwPYozQI/C9ShcjzNAexSuR+H6M0ApXI/C9Sg0QOxRuB6FKzRAzczMzMxMNEC4HoXrUTg1QKRwPQrXozVAH4XrUbjeNUA9CtejcD02QA==",
          "dtype": "f8"
         },
         "xaxis": "x",
         "y": [
          "Chateau du Haut Koenigsbourg",
          "Le Havre",
          "Bayeux",
          "Amiens",
          "Lille",
          "Strasbourg",
          "Annecy",
          "Besancon",
          "Rouen",
          "Dijon",
          "Eguisheim",
          "Colmar",
          "Mont Saint Michel",
          "Grenoble",
          "La Rochelle",
          "Paris",
          "St Malo",
          "Biarritz",
          "Bayonne",
          "Lyon",
          "Toulouse",
          "Montauban",
          "Carcassonne",
          "Ariege",
          "Aix en Provence",
          "Saintes Maries de la mer",
          "Uzes",
          "Gorges du Verdon",
          "Avignon",
          "Cassis",
          "Marseille",
          "Nimes",
          "Collioure",
          "Aigues Mortes",
          "Bormes les Mimosas"
         ],
         "yaxis": "y"
        }
       ],
       "layout": {
        "barmode": "relative",
        "height": 800,
        "legend": {
         "tracegroupgap": 0
        },
        "template": {
         "data": {
          "bar": [
           {
            "error_x": {
             "color": "#2a3f5f"
            },
            "error_y": {
             "color": "#2a3f5f"
            },
            "marker": {
             "line": {
              "color": "#E5ECF6",
              "width": 0.5
             },
             "pattern": {
              "fillmode": "overlay",
              "size": 10,
              "solidity": 0.2
             }
            },
            "type": "bar"
           }
          ],
          "barpolar": [
           {
            "marker": {
             "line": {
              "color": "#E5ECF6",
              "width": 0.5
             },
             "pattern": {
              "fillmode": "overlay",
              "size": 10,
              "solidity": 0.2
             }
            },
            "type": "barpolar"
           }
          ],
          "carpet": [
           {
            "aaxis": {
             "endlinecolor": "#2a3f5f",
             "gridcolor": "white",
             "linecolor": "white",
             "minorgridcolor": "white",
             "startlinecolor": "#2a3f5f"
            },
            "baxis": {
             "endlinecolor": "#2a3f5f",
             "gridcolor": "white",
             "linecolor": "white",
             "minorgridcolor": "white",
             "startlinecolor": "#2a3f5f"
            },
            "type": "carpet"
           }
          ],
          "choropleth": [
           {
            "colorbar": {
             "outlinewidth": 0,
             "ticks": ""
            },
            "type": "choropleth"
           }
          ],
          "contour": [
           {
            "colorbar": {
             "outlinewidth": 0,
             "ticks": ""
            },
            "colorscale": [
             [
              0,
              "#0d0887"
             ],
             [
              0.1111111111111111,
              "#46039f"
             ],
             [
              0.2222222222222222,
              "#7201a8"
             ],
             [
              0.3333333333333333,
              "#9c179e"
             ],
             [
              0.4444444444444444,
              "#bd3786"
             ],
             [
              0.5555555555555556,
              "#d8576b"
             ],
             [
              0.6666666666666666,
              "#ed7953"
             ],
             [
              0.7777777777777778,
              "#fb9f3a"
             ],
             [
              0.8888888888888888,
              "#fdca26"
             ],
             [
              1,
              "#f0f921"
             ]
            ],
            "type": "contour"
           }
          ],
          "contourcarpet": [
           {
            "colorbar": {
             "outlinewidth": 0,
             "ticks": ""
            },
            "type": "contourcarpet"
           }
          ],
          "heatmap": [
           {
            "colorbar": {
             "outlinewidth": 0,
             "ticks": ""
            },
            "colorscale": [
             [
              0,
              "#0d0887"
             ],
             [
              0.1111111111111111,
              "#46039f"
             ],
             [
              0.2222222222222222,
              "#7201a8"
             ],
             [
              0.3333333333333333,
              "#9c179e"
             ],
             [
              0.4444444444444444,
              "#bd3786"
             ],
             [
              0.5555555555555556,
              "#d8576b"
             ],
             [
              0.6666666666666666,
              "#ed7953"
             ],
             [
              0.7777777777777778,
              "#fb9f3a"
             ],
             [
              0.8888888888888888,
              "#fdca26"
             ],
             [
              1,
              "#f0f921"
             ]
            ],
            "type": "heatmap"
           }
          ],
          "histogram": [
           {
            "marker": {
             "pattern": {
              "fillmode": "overlay",
              "size": 10,
              "solidity": 0.2
             }
            },
            "type": "histogram"
           }
          ],
          "histogram2d": [
           {
            "colorbar": {
             "outlinewidth": 0,
             "ticks": ""
            },
            "colorscale": [
             [
              0,
              "#0d0887"
             ],
             [
              0.1111111111111111,
              "#46039f"
             ],
             [
              0.2222222222222222,
              "#7201a8"
             ],
             [
              0.3333333333333333,
              "#9c179e"
             ],
             [
              0.4444444444444444,
              "#bd3786"
             ],
             [
              0.5555555555555556,
              "#d8576b"
             ],
             [
              0.6666666666666666,
              "#ed7953"
             ],
             [
              0.7777777777777778,
              "#fb9f3a"
             ],
             [
              0.8888888888888888,
              "#fdca26"
             ],
             [
              1,
              "#f0f921"
             ]
            ],
            "type": "histogram2d"
           }
          ],
          "histogram2dcontour": [
           {
            "colorbar": {
             "outlinewidth": 0,
             "ticks": ""
            },
            "colorscale": [
             [
              0,
              "#0d0887"
             ],
             [
              0.1111111111111111,
              "#46039f"
             ],
             [
              0.2222222222222222,
              "#7201a8"
             ],
             [
              0.3333333333333333,
              "#9c179e"
             ],
             [
              0.4444444444444444,
              "#bd3786"
             ],
             [
              0.5555555555555556,
              "#d8576b"
             ],
             [
              0.6666666666666666,
              "#ed7953"
             ],
             [
              0.7777777777777778,
              "#fb9f3a"
             ],
             [
              0.8888888888888888,
              "#fdca26"
             ],
             [
              1,
              "#f0f921"
             ]
            ],
            "type": "histogram2dcontour"
           }
          ],
          "mesh3d": [
           {
            "colorbar": {
             "outlinewidth": 0,
             "ticks": ""
            },
            "type": "mesh3d"
           }
          ],
          "parcoords": [
           {
            "line": {
             "colorbar": {
              "outlinewidth": 0,
              "ticks": ""
             }
            },
            "type": "parcoords"
           }
          ],
          "pie": [
           {
            "automargin": true,
            "type": "pie"
           }
          ],
          "scatter": [
           {
            "fillpattern": {
             "fillmode": "overlay",
             "size": 10,
             "solidity": 0.2
            },
            "type": "scatter"
           }
          ],
          "scatter3d": [
           {
            "line": {
             "colorbar": {
              "outlinewidth": 0,
              "ticks": ""
             }
            },
            "marker": {
             "colorbar": {
              "outlinewidth": 0,
              "ticks": ""
             }
            },
            "type": "scatter3d"
           }
          ],
          "scattercarpet": [
           {
            "marker": {
             "colorbar": {
              "outlinewidth": 0,
              "ticks": ""
             }
            },
            "type": "scattercarpet"
           }
          ],
          "scattergeo": [
           {
            "marker": {
             "colorbar": {
              "outlinewidth": 0,
              "ticks": ""
             }
            },
            "type": "scattergeo"
           }
          ],
          "scattergl": [
           {
            "marker": {
             "colorbar": {
              "outlinewidth": 0,
              "ticks": ""
             }
            },
            "type": "scattergl"
           }
          ],
          "scattermap": [
           {
            "marker": {
             "colorbar": {
              "outlinewidth": 0,
              "ticks": ""
             }
            },
            "type": "scattermap"
           }
          ],
          "scattermapbox": [
           {
            "marker": {
             "colorbar": {
              "outlinewidth": 0,
              "ticks": ""
             }
            },
            "type": "scattermapbox"
           }
          ],
          "scatterpolar": [
           {
            "marker": {
             "colorbar": {
              "outlinewidth": 0,
              "ticks": ""
             }
            },
            "type": "scatterpolar"
           }
          ],
          "scatterpolargl": [
           {
            "marker": {
             "colorbar": {
              "outlinewidth": 0,
              "ticks": ""
             }
            },
            "type": "scatterpolargl"
           }
          ],
          "scatterternary": [
           {
            "marker": {
             "colorbar": {
              "outlinewidth": 0,
              "ticks": ""
             }
            },
            "type": "scatterternary"
           }
          ],
          "surface": [
           {
            "colorbar": {
             "outlinewidth": 0,
             "ticks": ""
            },
            "colorscale": [
             [
              0,
              "#0d0887"
             ],
             [
              0.1111111111111111,
              "#46039f"
             ],
             [
              0.2222222222222222,
              "#7201a8"
             ],
             [
              0.3333333333333333,
              "#9c179e"
             ],
             [
              0.4444444444444444,
              "#bd3786"
             ],
             [
              0.5555555555555556,
              "#d8576b"
             ],
             [
              0.6666666666666666,
              "#ed7953"
             ],
             [
              0.7777777777777778,
              "#fb9f3a"
             ],
             [
              0.8888888888888888,
              "#fdca26"
             ],
             [
              1,
              "#f0f921"
             ]
            ],
            "type": "surface"
           }
          ],
          "table": [
           {
            "cells": {
             "fill": {
              "color": "#EBF0F8"
             },
             "line": {
              "color": "white"
             }
            },
            "header": {
             "fill": {
              "color": "#C8D4E3"
             },
             "line": {
              "color": "white"
             }
            },
            "type": "table"
           }
          ]
         },
         "layout": {
          "annotationdefaults": {
           "arrowcolor": "#2a3f5f",
           "arrowhead": 0,
           "arrowwidth": 1
          },
          "autotypenumbers": "strict",
          "coloraxis": {
           "colorbar": {
            "outlinewidth": 0,
            "ticks": ""
           }
          },
          "colorscale": {
           "diverging": [
            [
             0,
             "#8e0152"
            ],
            [
             0.1,
             "#c51b7d"
            ],
            [
             0.2,
             "#de77ae"
            ],
            [
             0.3,
             "#f1b6da"
            ],
            [
             0.4,
             "#fde0ef"
            ],
            [
             0.5,
             "#f7f7f7"
            ],
            [
             0.6,
             "#e6f5d0"
            ],
            [
             0.7,
             "#b8e186"
            ],
            [
             0.8,
             "#7fbc41"
            ],
            [
             0.9,
             "#4d9221"
            ],
            [
             1,
             "#276419"
            ]
           ],
           "sequential": [
            [
             0,
             "#0d0887"
            ],
            [
             0.1111111111111111,
             "#46039f"
            ],
            [
             0.2222222222222222,
             "#7201a8"
            ],
            [
             0.3333333333333333,
             "#9c179e"
            ],
            [
             0.4444444444444444,
             "#bd3786"
            ],
            [
             0.5555555555555556,
             "#d8576b"
            ],
            [
             0.6666666666666666,
             "#ed7953"
            ],
            [
             0.7777777777777778,
             "#fb9f3a"
            ],
            [
             0.8888888888888888,
             "#fdca26"
            ],
            [
             1,
             "#f0f921"
            ]
           ],
           "sequentialminus": [
            [
             0,
             "#0d0887"
            ],
            [
             0.1111111111111111,
             "#46039f"
            ],
            [
             0.2222222222222222,
             "#7201a8"
            ],
            [
             0.3333333333333333,
             "#9c179e"
            ],
            [
             0.4444444444444444,
             "#bd3786"
            ],
            [
             0.5555555555555556,
             "#d8576b"
            ],
            [
             0.6666666666666666,
             "#ed7953"
            ],
            [
             0.7777777777777778,
             "#fb9f3a"
            ],
            [
             0.8888888888888888,
             "#fdca26"
            ],
            [
             1,
             "#f0f921"
            ]
           ]
          },
          "colorway": [
           "#636efa",
           "#EF553B",
           "#00cc96",
           "#ab63fa",
           "#FFA15A",
           "#19d3f3",
           "#FF6692",
           "#B6E880",
           "#FF97FF",
           "#FECB52"
          ],
          "font": {
           "color": "#2a3f5f"
          },
          "geo": {
           "bgcolor": "white",
           "lakecolor": "white",
           "landcolor": "#E5ECF6",
           "showlakes": true,
           "showland": true,
           "subunitcolor": "white"
          },
          "hoverlabel": {
           "align": "left"
          },
          "hovermode": "closest",
          "mapbox": {
           "style": "light"
          },
          "paper_bgcolor": "white",
          "plot_bgcolor": "#E5ECF6",
          "polar": {
           "angularaxis": {
            "gridcolor": "white",
            "linecolor": "white",
            "ticks": ""
           },
           "bgcolor": "#E5ECF6",
           "radialaxis": {
            "gridcolor": "white",
            "linecolor": "white",
            "ticks": ""
           }
          },
          "scene": {
           "xaxis": {
            "backgroundcolor": "#E5ECF6",
            "gridcolor": "white",
            "gridwidth": 2,
            "linecolor": "white",
            "showbackground": true,
            "ticks": "",
            "zerolinecolor": "white"
           },
           "yaxis": {
            "backgroundcolor": "#E5ECF6",
            "gridcolor": "white",
            "gridwidth": 2,
            "linecolor": "white",
            "showbackground": true,
            "ticks": "",
            "zerolinecolor": "white"
           },
           "zaxis": {
            "backgroundcolor": "#E5ECF6",
            "gridcolor": "white",
            "gridwidth": 2,
            "linecolor": "white",
            "showbackground": true,
            "ticks": "",
            "zerolinecolor": "white"
           }
          },
          "shapedefaults": {
           "line": {
            "color": "#2a3f5f"
           }
          },
          "ternary": {
           "aaxis": {
            "gridcolor": "white",
            "linecolor": "white",
            "ticks": ""
           },
           "baxis": {
            "gridcolor": "white",
            "linecolor": "white",
            "ticks": ""
           },
           "bgcolor": "#E5ECF6",
           "caxis": {
            "gridcolor": "white",
            "linecolor": "white",
            "ticks": ""
           }
          },
          "title": {
           "x": 0.05
          },
          "xaxis": {
           "automargin": true,
           "gridcolor": "white",
           "linecolor": "white",
           "ticks": "",
           "title": {
            "standoff": 15
           },
           "zerolinecolor": "white",
           "zerolinewidth": 2
          },
          "yaxis": {
           "automargin": true,
           "gridcolor": "white",
           "linecolor": "white",
           "ticks": "",
           "title": {
            "standoff": 15
           },
           "zerolinecolor": "white",
           "zerolinewidth": 2
          }
         }
        },
        "title": {
         "text": "Températures par Ville"
        },
        "xaxis": {
         "anchor": "y",
         "domain": [
          0,
          1
         ],
         "title": {
          "text": "Température (°C)"
         }
        },
        "yaxis": {
         "anchor": "x",
         "domain": [
          0,
          1
         ],
         "title": {
          "text": "Ville"
         }
        }
       }
      }
     },
     "metadata": {},
     "output_type": "display_data"
    }
   ],
   "source": [
    "df_sorted = bc.sort_values(by='temp', ascending=True)\n",
    "\n",
    "# Créer un diagramme en bâtons horizontal\n",
    "fig = px.bar(df_sorted, x='temp', y='cities', orientation='h',\n",
    "             title='Températures par Ville',\n",
    "             labels={'temp': 'Température (°C)', 'cities': 'Ville'})\n",
    "\n",
    "# Ajuster la hauteur du graphique\n",
    "fig.update_layout(height=800)\n",
    "\n",
    "# Afficher le diagramme\n",
    "fig.show()"
   ]
  },
  {
   "cell_type": "code",
   "execution_count": 378,
   "metadata": {},
   "outputs": [
    {
     "data": {
      "application/vnd.plotly.v1+json": {
       "config": {
        "plotlyServerURL": "https://plot.ly"
       },
       "data": [
        {
         "hovertemplate": "Température ressentie (°C)=%{x}<br>Ville=%{y}<extra></extra>",
         "legendgroup": "",
         "marker": {
          "color": "#636efa",
          "pattern": {
           "shape": ""
          }
         },
         "name": "",
         "orientation": "h",
         "showlegend": false,
         "textposition": "auto",
         "type": "bar",
         "x": {
          "bdata": "mpmZmZmZI0B7FK5H4folQD0K16NwvSZAH4XrUbgeKEApXI/C9SgoQOxRuB6FayhArkfhehSuKEB7FK5H4fooQHsUrkfh+ilAhetRuB4FKkDsUbgehWsqQHE9CtejcCpA9ihcj8J1KkCuR+F6FK4rQB+F61G4nixArkfhehQuLUA9CtejcD0tQBSuR+F6lC1AXI/C9ShcLkCkcD0K16MuQAAAAAAAAC9ASOF6FK4HMEAzMzMzM7MwQI/C9ShcDzJA16NwPQqXMkBSuB6F69EyQFyPwvUo3DJA4XoUrkchM0DhehSuRyEzQIXrUbgeRTNAexSuR+F6M0BxPQrXo3A0QClcj8L1KDVAPQrXo3A9NUAK16NwPYo1QA==",
          "dtype": "f8"
         },
         "xaxis": "x",
         "y": [
          "Chateau du Haut Koenigsbourg",
          "Le Havre",
          "Bayeux",
          "Annecy",
          "Lille",
          "Amiens",
          "Strasbourg",
          "Besancon",
          "Dijon",
          "Rouen",
          "Eguisheim",
          "Colmar",
          "Mont Saint Michel",
          "Grenoble",
          "La Rochelle",
          "Paris",
          "St Malo",
          "Lyon",
          "Biarritz",
          "Bayonne",
          "Toulouse",
          "Montauban",
          "Carcassonne",
          "Ariege",
          "Aix en Provence",
          "Uzes",
          "Saintes Maries de la mer",
          "Gorges du Verdon",
          "Cassis",
          "Marseille",
          "Avignon",
          "Nimes",
          "Aigues Mortes",
          "Collioure",
          "Bormes les Mimosas"
         ],
         "yaxis": "y"
        }
       ],
       "layout": {
        "barmode": "relative",
        "height": 800,
        "legend": {
         "tracegroupgap": 0
        },
        "template": {
         "data": {
          "bar": [
           {
            "error_x": {
             "color": "#2a3f5f"
            },
            "error_y": {
             "color": "#2a3f5f"
            },
            "marker": {
             "line": {
              "color": "#E5ECF6",
              "width": 0.5
             },
             "pattern": {
              "fillmode": "overlay",
              "size": 10,
              "solidity": 0.2
             }
            },
            "type": "bar"
           }
          ],
          "barpolar": [
           {
            "marker": {
             "line": {
              "color": "#E5ECF6",
              "width": 0.5
             },
             "pattern": {
              "fillmode": "overlay",
              "size": 10,
              "solidity": 0.2
             }
            },
            "type": "barpolar"
           }
          ],
          "carpet": [
           {
            "aaxis": {
             "endlinecolor": "#2a3f5f",
             "gridcolor": "white",
             "linecolor": "white",
             "minorgridcolor": "white",
             "startlinecolor": "#2a3f5f"
            },
            "baxis": {
             "endlinecolor": "#2a3f5f",
             "gridcolor": "white",
             "linecolor": "white",
             "minorgridcolor": "white",
             "startlinecolor": "#2a3f5f"
            },
            "type": "carpet"
           }
          ],
          "choropleth": [
           {
            "colorbar": {
             "outlinewidth": 0,
             "ticks": ""
            },
            "type": "choropleth"
           }
          ],
          "contour": [
           {
            "colorbar": {
             "outlinewidth": 0,
             "ticks": ""
            },
            "colorscale": [
             [
              0,
              "#0d0887"
             ],
             [
              0.1111111111111111,
              "#46039f"
             ],
             [
              0.2222222222222222,
              "#7201a8"
             ],
             [
              0.3333333333333333,
              "#9c179e"
             ],
             [
              0.4444444444444444,
              "#bd3786"
             ],
             [
              0.5555555555555556,
              "#d8576b"
             ],
             [
              0.6666666666666666,
              "#ed7953"
             ],
             [
              0.7777777777777778,
              "#fb9f3a"
             ],
             [
              0.8888888888888888,
              "#fdca26"
             ],
             [
              1,
              "#f0f921"
             ]
            ],
            "type": "contour"
           }
          ],
          "contourcarpet": [
           {
            "colorbar": {
             "outlinewidth": 0,
             "ticks": ""
            },
            "type": "contourcarpet"
           }
          ],
          "heatmap": [
           {
            "colorbar": {
             "outlinewidth": 0,
             "ticks": ""
            },
            "colorscale": [
             [
              0,
              "#0d0887"
             ],
             [
              0.1111111111111111,
              "#46039f"
             ],
             [
              0.2222222222222222,
              "#7201a8"
             ],
             [
              0.3333333333333333,
              "#9c179e"
             ],
             [
              0.4444444444444444,
              "#bd3786"
             ],
             [
              0.5555555555555556,
              "#d8576b"
             ],
             [
              0.6666666666666666,
              "#ed7953"
             ],
             [
              0.7777777777777778,
              "#fb9f3a"
             ],
             [
              0.8888888888888888,
              "#fdca26"
             ],
             [
              1,
              "#f0f921"
             ]
            ],
            "type": "heatmap"
           }
          ],
          "histogram": [
           {
            "marker": {
             "pattern": {
              "fillmode": "overlay",
              "size": 10,
              "solidity": 0.2
             }
            },
            "type": "histogram"
           }
          ],
          "histogram2d": [
           {
            "colorbar": {
             "outlinewidth": 0,
             "ticks": ""
            },
            "colorscale": [
             [
              0,
              "#0d0887"
             ],
             [
              0.1111111111111111,
              "#46039f"
             ],
             [
              0.2222222222222222,
              "#7201a8"
             ],
             [
              0.3333333333333333,
              "#9c179e"
             ],
             [
              0.4444444444444444,
              "#bd3786"
             ],
             [
              0.5555555555555556,
              "#d8576b"
             ],
             [
              0.6666666666666666,
              "#ed7953"
             ],
             [
              0.7777777777777778,
              "#fb9f3a"
             ],
             [
              0.8888888888888888,
              "#fdca26"
             ],
             [
              1,
              "#f0f921"
             ]
            ],
            "type": "histogram2d"
           }
          ],
          "histogram2dcontour": [
           {
            "colorbar": {
             "outlinewidth": 0,
             "ticks": ""
            },
            "colorscale": [
             [
              0,
              "#0d0887"
             ],
             [
              0.1111111111111111,
              "#46039f"
             ],
             [
              0.2222222222222222,
              "#7201a8"
             ],
             [
              0.3333333333333333,
              "#9c179e"
             ],
             [
              0.4444444444444444,
              "#bd3786"
             ],
             [
              0.5555555555555556,
              "#d8576b"
             ],
             [
              0.6666666666666666,
              "#ed7953"
             ],
             [
              0.7777777777777778,
              "#fb9f3a"
             ],
             [
              0.8888888888888888,
              "#fdca26"
             ],
             [
              1,
              "#f0f921"
             ]
            ],
            "type": "histogram2dcontour"
           }
          ],
          "mesh3d": [
           {
            "colorbar": {
             "outlinewidth": 0,
             "ticks": ""
            },
            "type": "mesh3d"
           }
          ],
          "parcoords": [
           {
            "line": {
             "colorbar": {
              "outlinewidth": 0,
              "ticks": ""
             }
            },
            "type": "parcoords"
           }
          ],
          "pie": [
           {
            "automargin": true,
            "type": "pie"
           }
          ],
          "scatter": [
           {
            "fillpattern": {
             "fillmode": "overlay",
             "size": 10,
             "solidity": 0.2
            },
            "type": "scatter"
           }
          ],
          "scatter3d": [
           {
            "line": {
             "colorbar": {
              "outlinewidth": 0,
              "ticks": ""
             }
            },
            "marker": {
             "colorbar": {
              "outlinewidth": 0,
              "ticks": ""
             }
            },
            "type": "scatter3d"
           }
          ],
          "scattercarpet": [
           {
            "marker": {
             "colorbar": {
              "outlinewidth": 0,
              "ticks": ""
             }
            },
            "type": "scattercarpet"
           }
          ],
          "scattergeo": [
           {
            "marker": {
             "colorbar": {
              "outlinewidth": 0,
              "ticks": ""
             }
            },
            "type": "scattergeo"
           }
          ],
          "scattergl": [
           {
            "marker": {
             "colorbar": {
              "outlinewidth": 0,
              "ticks": ""
             }
            },
            "type": "scattergl"
           }
          ],
          "scattermap": [
           {
            "marker": {
             "colorbar": {
              "outlinewidth": 0,
              "ticks": ""
             }
            },
            "type": "scattermap"
           }
          ],
          "scattermapbox": [
           {
            "marker": {
             "colorbar": {
              "outlinewidth": 0,
              "ticks": ""
             }
            },
            "type": "scattermapbox"
           }
          ],
          "scatterpolar": [
           {
            "marker": {
             "colorbar": {
              "outlinewidth": 0,
              "ticks": ""
             }
            },
            "type": "scatterpolar"
           }
          ],
          "scatterpolargl": [
           {
            "marker": {
             "colorbar": {
              "outlinewidth": 0,
              "ticks": ""
             }
            },
            "type": "scatterpolargl"
           }
          ],
          "scatterternary": [
           {
            "marker": {
             "colorbar": {
              "outlinewidth": 0,
              "ticks": ""
             }
            },
            "type": "scatterternary"
           }
          ],
          "surface": [
           {
            "colorbar": {
             "outlinewidth": 0,
             "ticks": ""
            },
            "colorscale": [
             [
              0,
              "#0d0887"
             ],
             [
              0.1111111111111111,
              "#46039f"
             ],
             [
              0.2222222222222222,
              "#7201a8"
             ],
             [
              0.3333333333333333,
              "#9c179e"
             ],
             [
              0.4444444444444444,
              "#bd3786"
             ],
             [
              0.5555555555555556,
              "#d8576b"
             ],
             [
              0.6666666666666666,
              "#ed7953"
             ],
             [
              0.7777777777777778,
              "#fb9f3a"
             ],
             [
              0.8888888888888888,
              "#fdca26"
             ],
             [
              1,
              "#f0f921"
             ]
            ],
            "type": "surface"
           }
          ],
          "table": [
           {
            "cells": {
             "fill": {
              "color": "#EBF0F8"
             },
             "line": {
              "color": "white"
             }
            },
            "header": {
             "fill": {
              "color": "#C8D4E3"
             },
             "line": {
              "color": "white"
             }
            },
            "type": "table"
           }
          ]
         },
         "layout": {
          "annotationdefaults": {
           "arrowcolor": "#2a3f5f",
           "arrowhead": 0,
           "arrowwidth": 1
          },
          "autotypenumbers": "strict",
          "coloraxis": {
           "colorbar": {
            "outlinewidth": 0,
            "ticks": ""
           }
          },
          "colorscale": {
           "diverging": [
            [
             0,
             "#8e0152"
            ],
            [
             0.1,
             "#c51b7d"
            ],
            [
             0.2,
             "#de77ae"
            ],
            [
             0.3,
             "#f1b6da"
            ],
            [
             0.4,
             "#fde0ef"
            ],
            [
             0.5,
             "#f7f7f7"
            ],
            [
             0.6,
             "#e6f5d0"
            ],
            [
             0.7,
             "#b8e186"
            ],
            [
             0.8,
             "#7fbc41"
            ],
            [
             0.9,
             "#4d9221"
            ],
            [
             1,
             "#276419"
            ]
           ],
           "sequential": [
            [
             0,
             "#0d0887"
            ],
            [
             0.1111111111111111,
             "#46039f"
            ],
            [
             0.2222222222222222,
             "#7201a8"
            ],
            [
             0.3333333333333333,
             "#9c179e"
            ],
            [
             0.4444444444444444,
             "#bd3786"
            ],
            [
             0.5555555555555556,
             "#d8576b"
            ],
            [
             0.6666666666666666,
             "#ed7953"
            ],
            [
             0.7777777777777778,
             "#fb9f3a"
            ],
            [
             0.8888888888888888,
             "#fdca26"
            ],
            [
             1,
             "#f0f921"
            ]
           ],
           "sequentialminus": [
            [
             0,
             "#0d0887"
            ],
            [
             0.1111111111111111,
             "#46039f"
            ],
            [
             0.2222222222222222,
             "#7201a8"
            ],
            [
             0.3333333333333333,
             "#9c179e"
            ],
            [
             0.4444444444444444,
             "#bd3786"
            ],
            [
             0.5555555555555556,
             "#d8576b"
            ],
            [
             0.6666666666666666,
             "#ed7953"
            ],
            [
             0.7777777777777778,
             "#fb9f3a"
            ],
            [
             0.8888888888888888,
             "#fdca26"
            ],
            [
             1,
             "#f0f921"
            ]
           ]
          },
          "colorway": [
           "#636efa",
           "#EF553B",
           "#00cc96",
           "#ab63fa",
           "#FFA15A",
           "#19d3f3",
           "#FF6692",
           "#B6E880",
           "#FF97FF",
           "#FECB52"
          ],
          "font": {
           "color": "#2a3f5f"
          },
          "geo": {
           "bgcolor": "white",
           "lakecolor": "white",
           "landcolor": "#E5ECF6",
           "showlakes": true,
           "showland": true,
           "subunitcolor": "white"
          },
          "hoverlabel": {
           "align": "left"
          },
          "hovermode": "closest",
          "mapbox": {
           "style": "light"
          },
          "paper_bgcolor": "white",
          "plot_bgcolor": "#E5ECF6",
          "polar": {
           "angularaxis": {
            "gridcolor": "white",
            "linecolor": "white",
            "ticks": ""
           },
           "bgcolor": "#E5ECF6",
           "radialaxis": {
            "gridcolor": "white",
            "linecolor": "white",
            "ticks": ""
           }
          },
          "scene": {
           "xaxis": {
            "backgroundcolor": "#E5ECF6",
            "gridcolor": "white",
            "gridwidth": 2,
            "linecolor": "white",
            "showbackground": true,
            "ticks": "",
            "zerolinecolor": "white"
           },
           "yaxis": {
            "backgroundcolor": "#E5ECF6",
            "gridcolor": "white",
            "gridwidth": 2,
            "linecolor": "white",
            "showbackground": true,
            "ticks": "",
            "zerolinecolor": "white"
           },
           "zaxis": {
            "backgroundcolor": "#E5ECF6",
            "gridcolor": "white",
            "gridwidth": 2,
            "linecolor": "white",
            "showbackground": true,
            "ticks": "",
            "zerolinecolor": "white"
           }
          },
          "shapedefaults": {
           "line": {
            "color": "#2a3f5f"
           }
          },
          "ternary": {
           "aaxis": {
            "gridcolor": "white",
            "linecolor": "white",
            "ticks": ""
           },
           "baxis": {
            "gridcolor": "white",
            "linecolor": "white",
            "ticks": ""
           },
           "bgcolor": "#E5ECF6",
           "caxis": {
            "gridcolor": "white",
            "linecolor": "white",
            "ticks": ""
           }
          },
          "title": {
           "x": 0.05
          },
          "xaxis": {
           "automargin": true,
           "gridcolor": "white",
           "linecolor": "white",
           "ticks": "",
           "title": {
            "standoff": 15
           },
           "zerolinecolor": "white",
           "zerolinewidth": 2
          },
          "yaxis": {
           "automargin": true,
           "gridcolor": "white",
           "linecolor": "white",
           "ticks": "",
           "title": {
            "standoff": 15
           },
           "zerolinecolor": "white",
           "zerolinewidth": 2
          }
         }
        },
        "title": {
         "text": "Températures ressenties par Ville"
        },
        "xaxis": {
         "anchor": "y",
         "domain": [
          0,
          1
         ],
         "title": {
          "text": "Température ressentie (°C)"
         }
        },
        "yaxis": {
         "anchor": "x",
         "domain": [
          0,
          1
         ],
         "title": {
          "text": "Ville"
         }
        }
       }
      }
     },
     "metadata": {},
     "output_type": "display_data"
    }
   ],
   "source": [
    "df_sorted = bc.sort_values(by='feels_like', ascending=True)\n",
    "\n",
    "# Créer un diagramme en bâtons horizontal\n",
    "fig = px.bar(df_sorted, x='feels_like', y='cities', orientation='h',\n",
    "             title='Températures ressenties par Ville',\n",
    "             labels={'feels_like': 'Température ressentie (°C)', 'cities': 'Ville'})\n",
    "\n",
    "# Ajuster la hauteur du graphique\n",
    "fig.update_layout(height=800)\n",
    "\n",
    "# Afficher le diagramme\n",
    "fig.show()"
   ]
  },
  {
   "cell_type": "code",
   "execution_count": 379,
   "metadata": {},
   "outputs": [
    {
     "data": {
      "application/vnd.plotly.v1+json": {
       "config": {
        "plotlyServerURL": "https://plot.ly"
       },
       "data": [
        {
         "hovertemplate": "Indice UV=%{x}<br>Ville=%{y}<extra></extra>",
         "legendgroup": "",
         "marker": {
          "color": "#636efa",
          "pattern": {
           "shape": ""
          }
         },
         "name": "",
         "orientation": "h",
         "showlegend": false,
         "textposition": "auto",
         "type": "bar",
         "x": {
          "bdata": "7FG4HoXr4T/sUbgehesDQOxRuB6F6wNA7FG4HoXrA0C4HoXrUbgEQOF6FK5H4QRA9ihcj8L1BED2KFyPwvUGQFK4HoXrUQhAMzMzMzMzCUApXI/C9SgKQOF6FK5H4QpASOF6FK5HDUBxPQrXo3ANQFK4HoXrURFAexSuR+F6EUAzMzMzMzMSQFyPwvUoXBJAAAAAAAAAE0AfhetRuB4TQClcj8L1KBNApHA9CtejFUD2KFyPwvUXQB+F61G4HhhAMzMzMzMzGEA9CtejcD0YQFK4HoXrURhAUrgehetRGEBmZmZmZmYYQGZmZmZmZhhAcT0K16NwGEB7FK5H4XoYQArXo3A9ChlAFK5H4XoUGUBI4XoUrkcaQA==",
          "dtype": "f8"
         },
         "xaxis": "x",
         "y": [
          "Besancon",
          "Eguisheim",
          "Chateau du Haut Koenigsbourg",
          "Colmar",
          "Annecy",
          "Amiens",
          "Dijon",
          "Toulouse",
          "Paris",
          "Rouen",
          "Grenoble",
          "Carcassonne",
          "La Rochelle",
          "Strasbourg",
          "Bayeux",
          "Ariege",
          "Lyon",
          "Le Havre",
          "Mont Saint Michel",
          "Lille",
          "Montauban",
          "St Malo",
          "Aix en Provence",
          "Marseille",
          "Bormes les Mimosas",
          "Avignon",
          "Cassis",
          "Gorges du Verdon",
          "Nimes",
          "Aigues Mortes",
          "Saintes Maries de la mer",
          "Bayonne",
          "Collioure",
          "Uzes",
          "Biarritz"
         ],
         "yaxis": "y"
        }
       ],
       "layout": {
        "barmode": "relative",
        "height": 800,
        "legend": {
         "tracegroupgap": 0
        },
        "template": {
         "data": {
          "bar": [
           {
            "error_x": {
             "color": "#2a3f5f"
            },
            "error_y": {
             "color": "#2a3f5f"
            },
            "marker": {
             "line": {
              "color": "#E5ECF6",
              "width": 0.5
             },
             "pattern": {
              "fillmode": "overlay",
              "size": 10,
              "solidity": 0.2
             }
            },
            "type": "bar"
           }
          ],
          "barpolar": [
           {
            "marker": {
             "line": {
              "color": "#E5ECF6",
              "width": 0.5
             },
             "pattern": {
              "fillmode": "overlay",
              "size": 10,
              "solidity": 0.2
             }
            },
            "type": "barpolar"
           }
          ],
          "carpet": [
           {
            "aaxis": {
             "endlinecolor": "#2a3f5f",
             "gridcolor": "white",
             "linecolor": "white",
             "minorgridcolor": "white",
             "startlinecolor": "#2a3f5f"
            },
            "baxis": {
             "endlinecolor": "#2a3f5f",
             "gridcolor": "white",
             "linecolor": "white",
             "minorgridcolor": "white",
             "startlinecolor": "#2a3f5f"
            },
            "type": "carpet"
           }
          ],
          "choropleth": [
           {
            "colorbar": {
             "outlinewidth": 0,
             "ticks": ""
            },
            "type": "choropleth"
           }
          ],
          "contour": [
           {
            "colorbar": {
             "outlinewidth": 0,
             "ticks": ""
            },
            "colorscale": [
             [
              0,
              "#0d0887"
             ],
             [
              0.1111111111111111,
              "#46039f"
             ],
             [
              0.2222222222222222,
              "#7201a8"
             ],
             [
              0.3333333333333333,
              "#9c179e"
             ],
             [
              0.4444444444444444,
              "#bd3786"
             ],
             [
              0.5555555555555556,
              "#d8576b"
             ],
             [
              0.6666666666666666,
              "#ed7953"
             ],
             [
              0.7777777777777778,
              "#fb9f3a"
             ],
             [
              0.8888888888888888,
              "#fdca26"
             ],
             [
              1,
              "#f0f921"
             ]
            ],
            "type": "contour"
           }
          ],
          "contourcarpet": [
           {
            "colorbar": {
             "outlinewidth": 0,
             "ticks": ""
            },
            "type": "contourcarpet"
           }
          ],
          "heatmap": [
           {
            "colorbar": {
             "outlinewidth": 0,
             "ticks": ""
            },
            "colorscale": [
             [
              0,
              "#0d0887"
             ],
             [
              0.1111111111111111,
              "#46039f"
             ],
             [
              0.2222222222222222,
              "#7201a8"
             ],
             [
              0.3333333333333333,
              "#9c179e"
             ],
             [
              0.4444444444444444,
              "#bd3786"
             ],
             [
              0.5555555555555556,
              "#d8576b"
             ],
             [
              0.6666666666666666,
              "#ed7953"
             ],
             [
              0.7777777777777778,
              "#fb9f3a"
             ],
             [
              0.8888888888888888,
              "#fdca26"
             ],
             [
              1,
              "#f0f921"
             ]
            ],
            "type": "heatmap"
           }
          ],
          "histogram": [
           {
            "marker": {
             "pattern": {
              "fillmode": "overlay",
              "size": 10,
              "solidity": 0.2
             }
            },
            "type": "histogram"
           }
          ],
          "histogram2d": [
           {
            "colorbar": {
             "outlinewidth": 0,
             "ticks": ""
            },
            "colorscale": [
             [
              0,
              "#0d0887"
             ],
             [
              0.1111111111111111,
              "#46039f"
             ],
             [
              0.2222222222222222,
              "#7201a8"
             ],
             [
              0.3333333333333333,
              "#9c179e"
             ],
             [
              0.4444444444444444,
              "#bd3786"
             ],
             [
              0.5555555555555556,
              "#d8576b"
             ],
             [
              0.6666666666666666,
              "#ed7953"
             ],
             [
              0.7777777777777778,
              "#fb9f3a"
             ],
             [
              0.8888888888888888,
              "#fdca26"
             ],
             [
              1,
              "#f0f921"
             ]
            ],
            "type": "histogram2d"
           }
          ],
          "histogram2dcontour": [
           {
            "colorbar": {
             "outlinewidth": 0,
             "ticks": ""
            },
            "colorscale": [
             [
              0,
              "#0d0887"
             ],
             [
              0.1111111111111111,
              "#46039f"
             ],
             [
              0.2222222222222222,
              "#7201a8"
             ],
             [
              0.3333333333333333,
              "#9c179e"
             ],
             [
              0.4444444444444444,
              "#bd3786"
             ],
             [
              0.5555555555555556,
              "#d8576b"
             ],
             [
              0.6666666666666666,
              "#ed7953"
             ],
             [
              0.7777777777777778,
              "#fb9f3a"
             ],
             [
              0.8888888888888888,
              "#fdca26"
             ],
             [
              1,
              "#f0f921"
             ]
            ],
            "type": "histogram2dcontour"
           }
          ],
          "mesh3d": [
           {
            "colorbar": {
             "outlinewidth": 0,
             "ticks": ""
            },
            "type": "mesh3d"
           }
          ],
          "parcoords": [
           {
            "line": {
             "colorbar": {
              "outlinewidth": 0,
              "ticks": ""
             }
            },
            "type": "parcoords"
           }
          ],
          "pie": [
           {
            "automargin": true,
            "type": "pie"
           }
          ],
          "scatter": [
           {
            "fillpattern": {
             "fillmode": "overlay",
             "size": 10,
             "solidity": 0.2
            },
            "type": "scatter"
           }
          ],
          "scatter3d": [
           {
            "line": {
             "colorbar": {
              "outlinewidth": 0,
              "ticks": ""
             }
            },
            "marker": {
             "colorbar": {
              "outlinewidth": 0,
              "ticks": ""
             }
            },
            "type": "scatter3d"
           }
          ],
          "scattercarpet": [
           {
            "marker": {
             "colorbar": {
              "outlinewidth": 0,
              "ticks": ""
             }
            },
            "type": "scattercarpet"
           }
          ],
          "scattergeo": [
           {
            "marker": {
             "colorbar": {
              "outlinewidth": 0,
              "ticks": ""
             }
            },
            "type": "scattergeo"
           }
          ],
          "scattergl": [
           {
            "marker": {
             "colorbar": {
              "outlinewidth": 0,
              "ticks": ""
             }
            },
            "type": "scattergl"
           }
          ],
          "scattermap": [
           {
            "marker": {
             "colorbar": {
              "outlinewidth": 0,
              "ticks": ""
             }
            },
            "type": "scattermap"
           }
          ],
          "scattermapbox": [
           {
            "marker": {
             "colorbar": {
              "outlinewidth": 0,
              "ticks": ""
             }
            },
            "type": "scattermapbox"
           }
          ],
          "scatterpolar": [
           {
            "marker": {
             "colorbar": {
              "outlinewidth": 0,
              "ticks": ""
             }
            },
            "type": "scatterpolar"
           }
          ],
          "scatterpolargl": [
           {
            "marker": {
             "colorbar": {
              "outlinewidth": 0,
              "ticks": ""
             }
            },
            "type": "scatterpolargl"
           }
          ],
          "scatterternary": [
           {
            "marker": {
             "colorbar": {
              "outlinewidth": 0,
              "ticks": ""
             }
            },
            "type": "scatterternary"
           }
          ],
          "surface": [
           {
            "colorbar": {
             "outlinewidth": 0,
             "ticks": ""
            },
            "colorscale": [
             [
              0,
              "#0d0887"
             ],
             [
              0.1111111111111111,
              "#46039f"
             ],
             [
              0.2222222222222222,
              "#7201a8"
             ],
             [
              0.3333333333333333,
              "#9c179e"
             ],
             [
              0.4444444444444444,
              "#bd3786"
             ],
             [
              0.5555555555555556,
              "#d8576b"
             ],
             [
              0.6666666666666666,
              "#ed7953"
             ],
             [
              0.7777777777777778,
              "#fb9f3a"
             ],
             [
              0.8888888888888888,
              "#fdca26"
             ],
             [
              1,
              "#f0f921"
             ]
            ],
            "type": "surface"
           }
          ],
          "table": [
           {
            "cells": {
             "fill": {
              "color": "#EBF0F8"
             },
             "line": {
              "color": "white"
             }
            },
            "header": {
             "fill": {
              "color": "#C8D4E3"
             },
             "line": {
              "color": "white"
             }
            },
            "type": "table"
           }
          ]
         },
         "layout": {
          "annotationdefaults": {
           "arrowcolor": "#2a3f5f",
           "arrowhead": 0,
           "arrowwidth": 1
          },
          "autotypenumbers": "strict",
          "coloraxis": {
           "colorbar": {
            "outlinewidth": 0,
            "ticks": ""
           }
          },
          "colorscale": {
           "diverging": [
            [
             0,
             "#8e0152"
            ],
            [
             0.1,
             "#c51b7d"
            ],
            [
             0.2,
             "#de77ae"
            ],
            [
             0.3,
             "#f1b6da"
            ],
            [
             0.4,
             "#fde0ef"
            ],
            [
             0.5,
             "#f7f7f7"
            ],
            [
             0.6,
             "#e6f5d0"
            ],
            [
             0.7,
             "#b8e186"
            ],
            [
             0.8,
             "#7fbc41"
            ],
            [
             0.9,
             "#4d9221"
            ],
            [
             1,
             "#276419"
            ]
           ],
           "sequential": [
            [
             0,
             "#0d0887"
            ],
            [
             0.1111111111111111,
             "#46039f"
            ],
            [
             0.2222222222222222,
             "#7201a8"
            ],
            [
             0.3333333333333333,
             "#9c179e"
            ],
            [
             0.4444444444444444,
             "#bd3786"
            ],
            [
             0.5555555555555556,
             "#d8576b"
            ],
            [
             0.6666666666666666,
             "#ed7953"
            ],
            [
             0.7777777777777778,
             "#fb9f3a"
            ],
            [
             0.8888888888888888,
             "#fdca26"
            ],
            [
             1,
             "#f0f921"
            ]
           ],
           "sequentialminus": [
            [
             0,
             "#0d0887"
            ],
            [
             0.1111111111111111,
             "#46039f"
            ],
            [
             0.2222222222222222,
             "#7201a8"
            ],
            [
             0.3333333333333333,
             "#9c179e"
            ],
            [
             0.4444444444444444,
             "#bd3786"
            ],
            [
             0.5555555555555556,
             "#d8576b"
            ],
            [
             0.6666666666666666,
             "#ed7953"
            ],
            [
             0.7777777777777778,
             "#fb9f3a"
            ],
            [
             0.8888888888888888,
             "#fdca26"
            ],
            [
             1,
             "#f0f921"
            ]
           ]
          },
          "colorway": [
           "#636efa",
           "#EF553B",
           "#00cc96",
           "#ab63fa",
           "#FFA15A",
           "#19d3f3",
           "#FF6692",
           "#B6E880",
           "#FF97FF",
           "#FECB52"
          ],
          "font": {
           "color": "#2a3f5f"
          },
          "geo": {
           "bgcolor": "white",
           "lakecolor": "white",
           "landcolor": "#E5ECF6",
           "showlakes": true,
           "showland": true,
           "subunitcolor": "white"
          },
          "hoverlabel": {
           "align": "left"
          },
          "hovermode": "closest",
          "mapbox": {
           "style": "light"
          },
          "paper_bgcolor": "white",
          "plot_bgcolor": "#E5ECF6",
          "polar": {
           "angularaxis": {
            "gridcolor": "white",
            "linecolor": "white",
            "ticks": ""
           },
           "bgcolor": "#E5ECF6",
           "radialaxis": {
            "gridcolor": "white",
            "linecolor": "white",
            "ticks": ""
           }
          },
          "scene": {
           "xaxis": {
            "backgroundcolor": "#E5ECF6",
            "gridcolor": "white",
            "gridwidth": 2,
            "linecolor": "white",
            "showbackground": true,
            "ticks": "",
            "zerolinecolor": "white"
           },
           "yaxis": {
            "backgroundcolor": "#E5ECF6",
            "gridcolor": "white",
            "gridwidth": 2,
            "linecolor": "white",
            "showbackground": true,
            "ticks": "",
            "zerolinecolor": "white"
           },
           "zaxis": {
            "backgroundcolor": "#E5ECF6",
            "gridcolor": "white",
            "gridwidth": 2,
            "linecolor": "white",
            "showbackground": true,
            "ticks": "",
            "zerolinecolor": "white"
           }
          },
          "shapedefaults": {
           "line": {
            "color": "#2a3f5f"
           }
          },
          "ternary": {
           "aaxis": {
            "gridcolor": "white",
            "linecolor": "white",
            "ticks": ""
           },
           "baxis": {
            "gridcolor": "white",
            "linecolor": "white",
            "ticks": ""
           },
           "bgcolor": "#E5ECF6",
           "caxis": {
            "gridcolor": "white",
            "linecolor": "white",
            "ticks": ""
           }
          },
          "title": {
           "x": 0.05
          },
          "xaxis": {
           "automargin": true,
           "gridcolor": "white",
           "linecolor": "white",
           "ticks": "",
           "title": {
            "standoff": 15
           },
           "zerolinecolor": "white",
           "zerolinewidth": 2
          },
          "yaxis": {
           "automargin": true,
           "gridcolor": "white",
           "linecolor": "white",
           "ticks": "",
           "title": {
            "standoff": 15
           },
           "zerolinecolor": "white",
           "zerolinewidth": 2
          }
         }
        },
        "title": {
         "text": "indices UV par Ville"
        },
        "xaxis": {
         "anchor": "y",
         "domain": [
          0,
          1
         ],
         "title": {
          "text": "Indice UV"
         }
        },
        "yaxis": {
         "anchor": "x",
         "domain": [
          0,
          1
         ],
         "title": {
          "text": "Ville"
         }
        }
       }
      }
     },
     "metadata": {},
     "output_type": "display_data"
    }
   ],
   "source": [
    "df_sorted = bc.sort_values(by='uvi', ascending=True)\n",
    "\n",
    "# Créer un diagramme en bâtons horizontal\n",
    "fig = px.bar(df_sorted, x='uvi', y='cities', orientation='h',\n",
    "             title='indices UV par Ville',\n",
    "             labels={'uvi': 'Indice UV', 'cities': 'Ville'})\n",
    "\n",
    "# Ajuster la hauteur du graphique\n",
    "fig.update_layout(height=800)\n",
    "\n",
    "# Afficher le diagramme\n",
    "fig.show()"
   ]
  },
  {
   "cell_type": "code",
   "execution_count": 380,
   "metadata": {},
   "outputs": [
    {
     "data": {
      "application/vnd.plotly.v1+json": {
       "config": {
        "plotlyServerURL": "https://plot.ly"
       },
       "data": [
        {
         "hovertemplate": "Humidité=%{x}<br>Ville=%{y}<extra></extra>",
         "legendgroup": "",
         "marker": {
          "color": "#636efa",
          "pattern": {
           "shape": ""
          }
         },
         "name": "",
         "orientation": "h",
         "showlegend": false,
         "textposition": "auto",
         "type": "bar",
         "x": {
          "bdata": "AAAAAAAAVkAAAAAAAABWQAAAAAAAwFVAAAAAAACAU0AAAAAAAABTQAAAAAAAAFNAAAAAAADAUkAAAAAAAIBSQAAAAAAAgFJAAAAAAAAAUkAAAAAAAMBRQAAAAAAAgFFAAAAAAACAUUAAAAAAAEBRQAAAAAAAAFFAAAAAAAAAUUAAAAAAAMBQQAAAAAAAwFBAAAAAAADAUEAAAAAAAMBQQAAAAAAAQFBAAAAAAACAT0AAAAAAAABPQAAAAAAAAE1AAAAAAACASkAAAAAAAABJQAAAAAAAAEhAAAAAAAAASEAAAAAAAABFQAAAAAAAAEVAAAAAAAAAREAAAAAAAABEQAAAAAAAgENAAAAAAAAAQUAAAAAAAABBQA==",
          "dtype": "f8"
         },
         "xaxis": "x",
         "y": [
          "Biarritz",
          "Bayonne",
          "Le Havre",
          "Grenoble",
          "Amiens",
          "Strasbourg",
          "Bayeux",
          "Carcassonne",
          "Rouen",
          "Toulouse",
          "Eguisheim",
          "Mont Saint Michel",
          "Colmar",
          "Paris",
          "Besancon",
          "La Rochelle",
          "Dijon",
          "St Malo",
          "Chateau du Haut Koenigsbourg",
          "Lille",
          "Ariege",
          "Montauban",
          "Annecy",
          "Lyon",
          "Collioure",
          "Saintes Maries de la mer",
          "Avignon",
          "Uzes",
          "Gorges du Verdon",
          "Aix en Provence",
          "Aigues Mortes",
          "Nimes",
          "Bormes les Mimosas",
          "Marseille",
          "Cassis"
         ],
         "yaxis": "y"
        }
       ],
       "layout": {
        "barmode": "relative",
        "height": 800,
        "legend": {
         "tracegroupgap": 0
        },
        "template": {
         "data": {
          "bar": [
           {
            "error_x": {
             "color": "#2a3f5f"
            },
            "error_y": {
             "color": "#2a3f5f"
            },
            "marker": {
             "line": {
              "color": "#E5ECF6",
              "width": 0.5
             },
             "pattern": {
              "fillmode": "overlay",
              "size": 10,
              "solidity": 0.2
             }
            },
            "type": "bar"
           }
          ],
          "barpolar": [
           {
            "marker": {
             "line": {
              "color": "#E5ECF6",
              "width": 0.5
             },
             "pattern": {
              "fillmode": "overlay",
              "size": 10,
              "solidity": 0.2
             }
            },
            "type": "barpolar"
           }
          ],
          "carpet": [
           {
            "aaxis": {
             "endlinecolor": "#2a3f5f",
             "gridcolor": "white",
             "linecolor": "white",
             "minorgridcolor": "white",
             "startlinecolor": "#2a3f5f"
            },
            "baxis": {
             "endlinecolor": "#2a3f5f",
             "gridcolor": "white",
             "linecolor": "white",
             "minorgridcolor": "white",
             "startlinecolor": "#2a3f5f"
            },
            "type": "carpet"
           }
          ],
          "choropleth": [
           {
            "colorbar": {
             "outlinewidth": 0,
             "ticks": ""
            },
            "type": "choropleth"
           }
          ],
          "contour": [
           {
            "colorbar": {
             "outlinewidth": 0,
             "ticks": ""
            },
            "colorscale": [
             [
              0,
              "#0d0887"
             ],
             [
              0.1111111111111111,
              "#46039f"
             ],
             [
              0.2222222222222222,
              "#7201a8"
             ],
             [
              0.3333333333333333,
              "#9c179e"
             ],
             [
              0.4444444444444444,
              "#bd3786"
             ],
             [
              0.5555555555555556,
              "#d8576b"
             ],
             [
              0.6666666666666666,
              "#ed7953"
             ],
             [
              0.7777777777777778,
              "#fb9f3a"
             ],
             [
              0.8888888888888888,
              "#fdca26"
             ],
             [
              1,
              "#f0f921"
             ]
            ],
            "type": "contour"
           }
          ],
          "contourcarpet": [
           {
            "colorbar": {
             "outlinewidth": 0,
             "ticks": ""
            },
            "type": "contourcarpet"
           }
          ],
          "heatmap": [
           {
            "colorbar": {
             "outlinewidth": 0,
             "ticks": ""
            },
            "colorscale": [
             [
              0,
              "#0d0887"
             ],
             [
              0.1111111111111111,
              "#46039f"
             ],
             [
              0.2222222222222222,
              "#7201a8"
             ],
             [
              0.3333333333333333,
              "#9c179e"
             ],
             [
              0.4444444444444444,
              "#bd3786"
             ],
             [
              0.5555555555555556,
              "#d8576b"
             ],
             [
              0.6666666666666666,
              "#ed7953"
             ],
             [
              0.7777777777777778,
              "#fb9f3a"
             ],
             [
              0.8888888888888888,
              "#fdca26"
             ],
             [
              1,
              "#f0f921"
             ]
            ],
            "type": "heatmap"
           }
          ],
          "histogram": [
           {
            "marker": {
             "pattern": {
              "fillmode": "overlay",
              "size": 10,
              "solidity": 0.2
             }
            },
            "type": "histogram"
           }
          ],
          "histogram2d": [
           {
            "colorbar": {
             "outlinewidth": 0,
             "ticks": ""
            },
            "colorscale": [
             [
              0,
              "#0d0887"
             ],
             [
              0.1111111111111111,
              "#46039f"
             ],
             [
              0.2222222222222222,
              "#7201a8"
             ],
             [
              0.3333333333333333,
              "#9c179e"
             ],
             [
              0.4444444444444444,
              "#bd3786"
             ],
             [
              0.5555555555555556,
              "#d8576b"
             ],
             [
              0.6666666666666666,
              "#ed7953"
             ],
             [
              0.7777777777777778,
              "#fb9f3a"
             ],
             [
              0.8888888888888888,
              "#fdca26"
             ],
             [
              1,
              "#f0f921"
             ]
            ],
            "type": "histogram2d"
           }
          ],
          "histogram2dcontour": [
           {
            "colorbar": {
             "outlinewidth": 0,
             "ticks": ""
            },
            "colorscale": [
             [
              0,
              "#0d0887"
             ],
             [
              0.1111111111111111,
              "#46039f"
             ],
             [
              0.2222222222222222,
              "#7201a8"
             ],
             [
              0.3333333333333333,
              "#9c179e"
             ],
             [
              0.4444444444444444,
              "#bd3786"
             ],
             [
              0.5555555555555556,
              "#d8576b"
             ],
             [
              0.6666666666666666,
              "#ed7953"
             ],
             [
              0.7777777777777778,
              "#fb9f3a"
             ],
             [
              0.8888888888888888,
              "#fdca26"
             ],
             [
              1,
              "#f0f921"
             ]
            ],
            "type": "histogram2dcontour"
           }
          ],
          "mesh3d": [
           {
            "colorbar": {
             "outlinewidth": 0,
             "ticks": ""
            },
            "type": "mesh3d"
           }
          ],
          "parcoords": [
           {
            "line": {
             "colorbar": {
              "outlinewidth": 0,
              "ticks": ""
             }
            },
            "type": "parcoords"
           }
          ],
          "pie": [
           {
            "automargin": true,
            "type": "pie"
           }
          ],
          "scatter": [
           {
            "fillpattern": {
             "fillmode": "overlay",
             "size": 10,
             "solidity": 0.2
            },
            "type": "scatter"
           }
          ],
          "scatter3d": [
           {
            "line": {
             "colorbar": {
              "outlinewidth": 0,
              "ticks": ""
             }
            },
            "marker": {
             "colorbar": {
              "outlinewidth": 0,
              "ticks": ""
             }
            },
            "type": "scatter3d"
           }
          ],
          "scattercarpet": [
           {
            "marker": {
             "colorbar": {
              "outlinewidth": 0,
              "ticks": ""
             }
            },
            "type": "scattercarpet"
           }
          ],
          "scattergeo": [
           {
            "marker": {
             "colorbar": {
              "outlinewidth": 0,
              "ticks": ""
             }
            },
            "type": "scattergeo"
           }
          ],
          "scattergl": [
           {
            "marker": {
             "colorbar": {
              "outlinewidth": 0,
              "ticks": ""
             }
            },
            "type": "scattergl"
           }
          ],
          "scattermap": [
           {
            "marker": {
             "colorbar": {
              "outlinewidth": 0,
              "ticks": ""
             }
            },
            "type": "scattermap"
           }
          ],
          "scattermapbox": [
           {
            "marker": {
             "colorbar": {
              "outlinewidth": 0,
              "ticks": ""
             }
            },
            "type": "scattermapbox"
           }
          ],
          "scatterpolar": [
           {
            "marker": {
             "colorbar": {
              "outlinewidth": 0,
              "ticks": ""
             }
            },
            "type": "scatterpolar"
           }
          ],
          "scatterpolargl": [
           {
            "marker": {
             "colorbar": {
              "outlinewidth": 0,
              "ticks": ""
             }
            },
            "type": "scatterpolargl"
           }
          ],
          "scatterternary": [
           {
            "marker": {
             "colorbar": {
              "outlinewidth": 0,
              "ticks": ""
             }
            },
            "type": "scatterternary"
           }
          ],
          "surface": [
           {
            "colorbar": {
             "outlinewidth": 0,
             "ticks": ""
            },
            "colorscale": [
             [
              0,
              "#0d0887"
             ],
             [
              0.1111111111111111,
              "#46039f"
             ],
             [
              0.2222222222222222,
              "#7201a8"
             ],
             [
              0.3333333333333333,
              "#9c179e"
             ],
             [
              0.4444444444444444,
              "#bd3786"
             ],
             [
              0.5555555555555556,
              "#d8576b"
             ],
             [
              0.6666666666666666,
              "#ed7953"
             ],
             [
              0.7777777777777778,
              "#fb9f3a"
             ],
             [
              0.8888888888888888,
              "#fdca26"
             ],
             [
              1,
              "#f0f921"
             ]
            ],
            "type": "surface"
           }
          ],
          "table": [
           {
            "cells": {
             "fill": {
              "color": "#EBF0F8"
             },
             "line": {
              "color": "white"
             }
            },
            "header": {
             "fill": {
              "color": "#C8D4E3"
             },
             "line": {
              "color": "white"
             }
            },
            "type": "table"
           }
          ]
         },
         "layout": {
          "annotationdefaults": {
           "arrowcolor": "#2a3f5f",
           "arrowhead": 0,
           "arrowwidth": 1
          },
          "autotypenumbers": "strict",
          "coloraxis": {
           "colorbar": {
            "outlinewidth": 0,
            "ticks": ""
           }
          },
          "colorscale": {
           "diverging": [
            [
             0,
             "#8e0152"
            ],
            [
             0.1,
             "#c51b7d"
            ],
            [
             0.2,
             "#de77ae"
            ],
            [
             0.3,
             "#f1b6da"
            ],
            [
             0.4,
             "#fde0ef"
            ],
            [
             0.5,
             "#f7f7f7"
            ],
            [
             0.6,
             "#e6f5d0"
            ],
            [
             0.7,
             "#b8e186"
            ],
            [
             0.8,
             "#7fbc41"
            ],
            [
             0.9,
             "#4d9221"
            ],
            [
             1,
             "#276419"
            ]
           ],
           "sequential": [
            [
             0,
             "#0d0887"
            ],
            [
             0.1111111111111111,
             "#46039f"
            ],
            [
             0.2222222222222222,
             "#7201a8"
            ],
            [
             0.3333333333333333,
             "#9c179e"
            ],
            [
             0.4444444444444444,
             "#bd3786"
            ],
            [
             0.5555555555555556,
             "#d8576b"
            ],
            [
             0.6666666666666666,
             "#ed7953"
            ],
            [
             0.7777777777777778,
             "#fb9f3a"
            ],
            [
             0.8888888888888888,
             "#fdca26"
            ],
            [
             1,
             "#f0f921"
            ]
           ],
           "sequentialminus": [
            [
             0,
             "#0d0887"
            ],
            [
             0.1111111111111111,
             "#46039f"
            ],
            [
             0.2222222222222222,
             "#7201a8"
            ],
            [
             0.3333333333333333,
             "#9c179e"
            ],
            [
             0.4444444444444444,
             "#bd3786"
            ],
            [
             0.5555555555555556,
             "#d8576b"
            ],
            [
             0.6666666666666666,
             "#ed7953"
            ],
            [
             0.7777777777777778,
             "#fb9f3a"
            ],
            [
             0.8888888888888888,
             "#fdca26"
            ],
            [
             1,
             "#f0f921"
            ]
           ]
          },
          "colorway": [
           "#636efa",
           "#EF553B",
           "#00cc96",
           "#ab63fa",
           "#FFA15A",
           "#19d3f3",
           "#FF6692",
           "#B6E880",
           "#FF97FF",
           "#FECB52"
          ],
          "font": {
           "color": "#2a3f5f"
          },
          "geo": {
           "bgcolor": "white",
           "lakecolor": "white",
           "landcolor": "#E5ECF6",
           "showlakes": true,
           "showland": true,
           "subunitcolor": "white"
          },
          "hoverlabel": {
           "align": "left"
          },
          "hovermode": "closest",
          "mapbox": {
           "style": "light"
          },
          "paper_bgcolor": "white",
          "plot_bgcolor": "#E5ECF6",
          "polar": {
           "angularaxis": {
            "gridcolor": "white",
            "linecolor": "white",
            "ticks": ""
           },
           "bgcolor": "#E5ECF6",
           "radialaxis": {
            "gridcolor": "white",
            "linecolor": "white",
            "ticks": ""
           }
          },
          "scene": {
           "xaxis": {
            "backgroundcolor": "#E5ECF6",
            "gridcolor": "white",
            "gridwidth": 2,
            "linecolor": "white",
            "showbackground": true,
            "ticks": "",
            "zerolinecolor": "white"
           },
           "yaxis": {
            "backgroundcolor": "#E5ECF6",
            "gridcolor": "white",
            "gridwidth": 2,
            "linecolor": "white",
            "showbackground": true,
            "ticks": "",
            "zerolinecolor": "white"
           },
           "zaxis": {
            "backgroundcolor": "#E5ECF6",
            "gridcolor": "white",
            "gridwidth": 2,
            "linecolor": "white",
            "showbackground": true,
            "ticks": "",
            "zerolinecolor": "white"
           }
          },
          "shapedefaults": {
           "line": {
            "color": "#2a3f5f"
           }
          },
          "ternary": {
           "aaxis": {
            "gridcolor": "white",
            "linecolor": "white",
            "ticks": ""
           },
           "baxis": {
            "gridcolor": "white",
            "linecolor": "white",
            "ticks": ""
           },
           "bgcolor": "#E5ECF6",
           "caxis": {
            "gridcolor": "white",
            "linecolor": "white",
            "ticks": ""
           }
          },
          "title": {
           "x": 0.05
          },
          "xaxis": {
           "automargin": true,
           "gridcolor": "white",
           "linecolor": "white",
           "ticks": "",
           "title": {
            "standoff": 15
           },
           "zerolinecolor": "white",
           "zerolinewidth": 2
          },
          "yaxis": {
           "automargin": true,
           "gridcolor": "white",
           "linecolor": "white",
           "ticks": "",
           "title": {
            "standoff": 15
           },
           "zerolinecolor": "white",
           "zerolinewidth": 2
          }
         }
        },
        "title": {
         "text": "Humidité par Ville"
        },
        "xaxis": {
         "anchor": "y",
         "domain": [
          0,
          1
         ],
         "title": {
          "text": "Humidité"
         }
        },
        "yaxis": {
         "anchor": "x",
         "domain": [
          0,
          1
         ],
         "title": {
          "text": "Ville"
         }
        }
       }
      }
     },
     "metadata": {},
     "output_type": "display_data"
    }
   ],
   "source": [
    "df_sorted = bc.sort_values(by='humidity', ascending=False)\n",
    "\n",
    "# Créer un diagramme en bâtons horizontal\n",
    "fig = px.bar(df_sorted, x='humidity', y='cities', orientation='h',\n",
    "             title='Humidité par Ville',\n",
    "             labels={'humidity': 'Humidité', 'cities': 'Ville'})\n",
    "\n",
    "# Ajuster la hauteur du graphique\n",
    "fig.update_layout(height=800)\n",
    "\n",
    "# Afficher le diagramme\n",
    "fig.show()"
   ]
  },
  {
   "cell_type": "code",
   "execution_count": 381,
   "metadata": {},
   "outputs": [
    {
     "data": {
      "application/vnd.plotly.v1+json": {
       "config": {
        "plotlyServerURL": "https://plot.ly"
       },
       "data": [
        {
         "hovertemplate": "wind_speed=%{x}<br>Ville=%{y}<extra></extra>",
         "legendgroup": "",
         "marker": {
          "color": "#636efa",
          "pattern": {
           "shape": ""
          }
         },
         "name": "",
         "orientation": "h",
         "showlegend": false,
         "textposition": "auto",
         "type": "bar",
         "x": {
          "bdata": "SOF6FK7HK0BmZmZmZmYrQArXo3A9iiNAFK5H4XoUIEDhehSuR+EeQOF6FK5H4R5ArkfhehSuG0DD9Shcj8IaQMP1KFyPwhpAw/UoXI/CGkD2KFyPwvUXQKRwPQrXoxZAj8L1KFyPFECPwvUoXI8UQI/C9ShcjxRAhetRuB6FEkCF61G4HoUSQIXrUbgehRJAXI/C9ShcEkDNzMzMzMwRQM3MzMzMzAxAzczMzMzMDEDNzMzMzMwMQKRwPQrXowxAXI/C9ShcC0BmZmZmZmYKQLgehetRuAhAuB6F61G4CEC4HoXrUbgIQLgehetRuAhAuB6F61G4CEC4HoXrUbgEQI/C9ShcjwRAmpmZmZmZA0BxPQrXo3D1Pw==",
          "dtype": "f8"
         },
         "xaxis": "x",
         "y": [
          "Marseille",
          "Cassis",
          "Avignon",
          "Uzes",
          "Carcassonne",
          "Nimes",
          "Collioure",
          "Toulouse",
          "Lille",
          "Aigues Mortes",
          "Saintes Maries de la mer",
          "Bormes les Mimosas",
          "Montauban",
          "Annecy",
          "Lyon",
          "Dijon",
          "Paris",
          "Le Havre",
          "Amiens",
          "Bayeux",
          "Biarritz",
          "Bayonne",
          "Rouen",
          "Aix en Provence",
          "Mont Saint Michel",
          "Gorges du Verdon",
          "St Malo",
          "Eguisheim",
          "Colmar",
          "Chateau du Haut Koenigsbourg",
          "La Rochelle",
          "Ariege",
          "Strasbourg",
          "Besancon",
          "Grenoble"
         ],
         "yaxis": "y"
        }
       ],
       "layout": {
        "barmode": "relative",
        "height": 800,
        "legend": {
         "tracegroupgap": 0
        },
        "template": {
         "data": {
          "bar": [
           {
            "error_x": {
             "color": "#2a3f5f"
            },
            "error_y": {
             "color": "#2a3f5f"
            },
            "marker": {
             "line": {
              "color": "#E5ECF6",
              "width": 0.5
             },
             "pattern": {
              "fillmode": "overlay",
              "size": 10,
              "solidity": 0.2
             }
            },
            "type": "bar"
           }
          ],
          "barpolar": [
           {
            "marker": {
             "line": {
              "color": "#E5ECF6",
              "width": 0.5
             },
             "pattern": {
              "fillmode": "overlay",
              "size": 10,
              "solidity": 0.2
             }
            },
            "type": "barpolar"
           }
          ],
          "carpet": [
           {
            "aaxis": {
             "endlinecolor": "#2a3f5f",
             "gridcolor": "white",
             "linecolor": "white",
             "minorgridcolor": "white",
             "startlinecolor": "#2a3f5f"
            },
            "baxis": {
             "endlinecolor": "#2a3f5f",
             "gridcolor": "white",
             "linecolor": "white",
             "minorgridcolor": "white",
             "startlinecolor": "#2a3f5f"
            },
            "type": "carpet"
           }
          ],
          "choropleth": [
           {
            "colorbar": {
             "outlinewidth": 0,
             "ticks": ""
            },
            "type": "choropleth"
           }
          ],
          "contour": [
           {
            "colorbar": {
             "outlinewidth": 0,
             "ticks": ""
            },
            "colorscale": [
             [
              0,
              "#0d0887"
             ],
             [
              0.1111111111111111,
              "#46039f"
             ],
             [
              0.2222222222222222,
              "#7201a8"
             ],
             [
              0.3333333333333333,
              "#9c179e"
             ],
             [
              0.4444444444444444,
              "#bd3786"
             ],
             [
              0.5555555555555556,
              "#d8576b"
             ],
             [
              0.6666666666666666,
              "#ed7953"
             ],
             [
              0.7777777777777778,
              "#fb9f3a"
             ],
             [
              0.8888888888888888,
              "#fdca26"
             ],
             [
              1,
              "#f0f921"
             ]
            ],
            "type": "contour"
           }
          ],
          "contourcarpet": [
           {
            "colorbar": {
             "outlinewidth": 0,
             "ticks": ""
            },
            "type": "contourcarpet"
           }
          ],
          "heatmap": [
           {
            "colorbar": {
             "outlinewidth": 0,
             "ticks": ""
            },
            "colorscale": [
             [
              0,
              "#0d0887"
             ],
             [
              0.1111111111111111,
              "#46039f"
             ],
             [
              0.2222222222222222,
              "#7201a8"
             ],
             [
              0.3333333333333333,
              "#9c179e"
             ],
             [
              0.4444444444444444,
              "#bd3786"
             ],
             [
              0.5555555555555556,
              "#d8576b"
             ],
             [
              0.6666666666666666,
              "#ed7953"
             ],
             [
              0.7777777777777778,
              "#fb9f3a"
             ],
             [
              0.8888888888888888,
              "#fdca26"
             ],
             [
              1,
              "#f0f921"
             ]
            ],
            "type": "heatmap"
           }
          ],
          "histogram": [
           {
            "marker": {
             "pattern": {
              "fillmode": "overlay",
              "size": 10,
              "solidity": 0.2
             }
            },
            "type": "histogram"
           }
          ],
          "histogram2d": [
           {
            "colorbar": {
             "outlinewidth": 0,
             "ticks": ""
            },
            "colorscale": [
             [
              0,
              "#0d0887"
             ],
             [
              0.1111111111111111,
              "#46039f"
             ],
             [
              0.2222222222222222,
              "#7201a8"
             ],
             [
              0.3333333333333333,
              "#9c179e"
             ],
             [
              0.4444444444444444,
              "#bd3786"
             ],
             [
              0.5555555555555556,
              "#d8576b"
             ],
             [
              0.6666666666666666,
              "#ed7953"
             ],
             [
              0.7777777777777778,
              "#fb9f3a"
             ],
             [
              0.8888888888888888,
              "#fdca26"
             ],
             [
              1,
              "#f0f921"
             ]
            ],
            "type": "histogram2d"
           }
          ],
          "histogram2dcontour": [
           {
            "colorbar": {
             "outlinewidth": 0,
             "ticks": ""
            },
            "colorscale": [
             [
              0,
              "#0d0887"
             ],
             [
              0.1111111111111111,
              "#46039f"
             ],
             [
              0.2222222222222222,
              "#7201a8"
             ],
             [
              0.3333333333333333,
              "#9c179e"
             ],
             [
              0.4444444444444444,
              "#bd3786"
             ],
             [
              0.5555555555555556,
              "#d8576b"
             ],
             [
              0.6666666666666666,
              "#ed7953"
             ],
             [
              0.7777777777777778,
              "#fb9f3a"
             ],
             [
              0.8888888888888888,
              "#fdca26"
             ],
             [
              1,
              "#f0f921"
             ]
            ],
            "type": "histogram2dcontour"
           }
          ],
          "mesh3d": [
           {
            "colorbar": {
             "outlinewidth": 0,
             "ticks": ""
            },
            "type": "mesh3d"
           }
          ],
          "parcoords": [
           {
            "line": {
             "colorbar": {
              "outlinewidth": 0,
              "ticks": ""
             }
            },
            "type": "parcoords"
           }
          ],
          "pie": [
           {
            "automargin": true,
            "type": "pie"
           }
          ],
          "scatter": [
           {
            "fillpattern": {
             "fillmode": "overlay",
             "size": 10,
             "solidity": 0.2
            },
            "type": "scatter"
           }
          ],
          "scatter3d": [
           {
            "line": {
             "colorbar": {
              "outlinewidth": 0,
              "ticks": ""
             }
            },
            "marker": {
             "colorbar": {
              "outlinewidth": 0,
              "ticks": ""
             }
            },
            "type": "scatter3d"
           }
          ],
          "scattercarpet": [
           {
            "marker": {
             "colorbar": {
              "outlinewidth": 0,
              "ticks": ""
             }
            },
            "type": "scattercarpet"
           }
          ],
          "scattergeo": [
           {
            "marker": {
             "colorbar": {
              "outlinewidth": 0,
              "ticks": ""
             }
            },
            "type": "scattergeo"
           }
          ],
          "scattergl": [
           {
            "marker": {
             "colorbar": {
              "outlinewidth": 0,
              "ticks": ""
             }
            },
            "type": "scattergl"
           }
          ],
          "scattermap": [
           {
            "marker": {
             "colorbar": {
              "outlinewidth": 0,
              "ticks": ""
             }
            },
            "type": "scattermap"
           }
          ],
          "scattermapbox": [
           {
            "marker": {
             "colorbar": {
              "outlinewidth": 0,
              "ticks": ""
             }
            },
            "type": "scattermapbox"
           }
          ],
          "scatterpolar": [
           {
            "marker": {
             "colorbar": {
              "outlinewidth": 0,
              "ticks": ""
             }
            },
            "type": "scatterpolar"
           }
          ],
          "scatterpolargl": [
           {
            "marker": {
             "colorbar": {
              "outlinewidth": 0,
              "ticks": ""
             }
            },
            "type": "scatterpolargl"
           }
          ],
          "scatterternary": [
           {
            "marker": {
             "colorbar": {
              "outlinewidth": 0,
              "ticks": ""
             }
            },
            "type": "scatterternary"
           }
          ],
          "surface": [
           {
            "colorbar": {
             "outlinewidth": 0,
             "ticks": ""
            },
            "colorscale": [
             [
              0,
              "#0d0887"
             ],
             [
              0.1111111111111111,
              "#46039f"
             ],
             [
              0.2222222222222222,
              "#7201a8"
             ],
             [
              0.3333333333333333,
              "#9c179e"
             ],
             [
              0.4444444444444444,
              "#bd3786"
             ],
             [
              0.5555555555555556,
              "#d8576b"
             ],
             [
              0.6666666666666666,
              "#ed7953"
             ],
             [
              0.7777777777777778,
              "#fb9f3a"
             ],
             [
              0.8888888888888888,
              "#fdca26"
             ],
             [
              1,
              "#f0f921"
             ]
            ],
            "type": "surface"
           }
          ],
          "table": [
           {
            "cells": {
             "fill": {
              "color": "#EBF0F8"
             },
             "line": {
              "color": "white"
             }
            },
            "header": {
             "fill": {
              "color": "#C8D4E3"
             },
             "line": {
              "color": "white"
             }
            },
            "type": "table"
           }
          ]
         },
         "layout": {
          "annotationdefaults": {
           "arrowcolor": "#2a3f5f",
           "arrowhead": 0,
           "arrowwidth": 1
          },
          "autotypenumbers": "strict",
          "coloraxis": {
           "colorbar": {
            "outlinewidth": 0,
            "ticks": ""
           }
          },
          "colorscale": {
           "diverging": [
            [
             0,
             "#8e0152"
            ],
            [
             0.1,
             "#c51b7d"
            ],
            [
             0.2,
             "#de77ae"
            ],
            [
             0.3,
             "#f1b6da"
            ],
            [
             0.4,
             "#fde0ef"
            ],
            [
             0.5,
             "#f7f7f7"
            ],
            [
             0.6,
             "#e6f5d0"
            ],
            [
             0.7,
             "#b8e186"
            ],
            [
             0.8,
             "#7fbc41"
            ],
            [
             0.9,
             "#4d9221"
            ],
            [
             1,
             "#276419"
            ]
           ],
           "sequential": [
            [
             0,
             "#0d0887"
            ],
            [
             0.1111111111111111,
             "#46039f"
            ],
            [
             0.2222222222222222,
             "#7201a8"
            ],
            [
             0.3333333333333333,
             "#9c179e"
            ],
            [
             0.4444444444444444,
             "#bd3786"
            ],
            [
             0.5555555555555556,
             "#d8576b"
            ],
            [
             0.6666666666666666,
             "#ed7953"
            ],
            [
             0.7777777777777778,
             "#fb9f3a"
            ],
            [
             0.8888888888888888,
             "#fdca26"
            ],
            [
             1,
             "#f0f921"
            ]
           ],
           "sequentialminus": [
            [
             0,
             "#0d0887"
            ],
            [
             0.1111111111111111,
             "#46039f"
            ],
            [
             0.2222222222222222,
             "#7201a8"
            ],
            [
             0.3333333333333333,
             "#9c179e"
            ],
            [
             0.4444444444444444,
             "#bd3786"
            ],
            [
             0.5555555555555556,
             "#d8576b"
            ],
            [
             0.6666666666666666,
             "#ed7953"
            ],
            [
             0.7777777777777778,
             "#fb9f3a"
            ],
            [
             0.8888888888888888,
             "#fdca26"
            ],
            [
             1,
             "#f0f921"
            ]
           ]
          },
          "colorway": [
           "#636efa",
           "#EF553B",
           "#00cc96",
           "#ab63fa",
           "#FFA15A",
           "#19d3f3",
           "#FF6692",
           "#B6E880",
           "#FF97FF",
           "#FECB52"
          ],
          "font": {
           "color": "#2a3f5f"
          },
          "geo": {
           "bgcolor": "white",
           "lakecolor": "white",
           "landcolor": "#E5ECF6",
           "showlakes": true,
           "showland": true,
           "subunitcolor": "white"
          },
          "hoverlabel": {
           "align": "left"
          },
          "hovermode": "closest",
          "mapbox": {
           "style": "light"
          },
          "paper_bgcolor": "white",
          "plot_bgcolor": "#E5ECF6",
          "polar": {
           "angularaxis": {
            "gridcolor": "white",
            "linecolor": "white",
            "ticks": ""
           },
           "bgcolor": "#E5ECF6",
           "radialaxis": {
            "gridcolor": "white",
            "linecolor": "white",
            "ticks": ""
           }
          },
          "scene": {
           "xaxis": {
            "backgroundcolor": "#E5ECF6",
            "gridcolor": "white",
            "gridwidth": 2,
            "linecolor": "white",
            "showbackground": true,
            "ticks": "",
            "zerolinecolor": "white"
           },
           "yaxis": {
            "backgroundcolor": "#E5ECF6",
            "gridcolor": "white",
            "gridwidth": 2,
            "linecolor": "white",
            "showbackground": true,
            "ticks": "",
            "zerolinecolor": "white"
           },
           "zaxis": {
            "backgroundcolor": "#E5ECF6",
            "gridcolor": "white",
            "gridwidth": 2,
            "linecolor": "white",
            "showbackground": true,
            "ticks": "",
            "zerolinecolor": "white"
           }
          },
          "shapedefaults": {
           "line": {
            "color": "#2a3f5f"
           }
          },
          "ternary": {
           "aaxis": {
            "gridcolor": "white",
            "linecolor": "white",
            "ticks": ""
           },
           "baxis": {
            "gridcolor": "white",
            "linecolor": "white",
            "ticks": ""
           },
           "bgcolor": "#E5ECF6",
           "caxis": {
            "gridcolor": "white",
            "linecolor": "white",
            "ticks": ""
           }
          },
          "title": {
           "x": 0.05
          },
          "xaxis": {
           "automargin": true,
           "gridcolor": "white",
           "linecolor": "white",
           "ticks": "",
           "title": {
            "standoff": 15
           },
           "zerolinecolor": "white",
           "zerolinewidth": 2
          },
          "yaxis": {
           "automargin": true,
           "gridcolor": "white",
           "linecolor": "white",
           "ticks": "",
           "title": {
            "standoff": 15
           },
           "zerolinecolor": "white",
           "zerolinewidth": 2
          }
         }
        },
        "title": {
         "text": "Vitesse du vent par Ville"
        },
        "xaxis": {
         "anchor": "y",
         "domain": [
          0,
          1
         ],
         "title": {
          "text": "wind_speed"
         }
        },
        "yaxis": {
         "anchor": "x",
         "domain": [
          0,
          1
         ],
         "title": {
          "text": "Ville"
         }
        }
       }
      }
     },
     "metadata": {},
     "output_type": "display_data"
    }
   ],
   "source": [
    "df_sorted = bc.sort_values(by='wind_speed', ascending=False)\n",
    "\n",
    "# Créer un diagramme en bâtons horizontal\n",
    "fig = px.bar(df_sorted, x='wind_speed', y='cities', orientation='h',\n",
    "             title='Vitesse du vent par Ville',\n",
    "             labels={'wind_speed': 'wind_speed', 'cities': 'Ville'})\n",
    "\n",
    "# Ajuster la hauteur du graphique\n",
    "fig.update_layout(height=800)\n",
    "\n",
    "# Afficher le diagramme\n",
    "fig.show()"
   ]
  },
  {
   "cell_type": "code",
   "execution_count": 389,
   "metadata": {},
   "outputs": [
    {
     "data": {
      "text/html": [
       "<div style=\"width:100%;\"><div style=\"position:relative;width:100%;height:0;padding-bottom:60%;\"><span style=\"color:#565656\">Make this Notebook Trusted to load map: File -> Trust Notebook</span><iframe srcdoc=\"&lt;!DOCTYPE html&gt;\n",
       "&lt;html&gt;\n",
       "&lt;head&gt;\n",
       "    \n",
       "    &lt;meta http-equiv=&quot;content-type&quot; content=&quot;text/html; charset=UTF-8&quot; /&gt;\n",
       "    \n",
       "        &lt;script&gt;\n",
       "            L_NO_TOUCH = false;\n",
       "            L_DISABLE_3D = false;\n",
       "        &lt;/script&gt;\n",
       "    \n",
       "    &lt;style&gt;html, body {width: 100%;height: 100%;margin: 0;padding: 0;}&lt;/style&gt;\n",
       "    &lt;style&gt;#map {position:absolute;top:0;bottom:0;right:0;left:0;}&lt;/style&gt;\n",
       "    &lt;script src=&quot;https://cdn.jsdelivr.net/npm/leaflet@1.9.3/dist/leaflet.js&quot;&gt;&lt;/script&gt;\n",
       "    &lt;script src=&quot;https://code.jquery.com/jquery-3.7.1.min.js&quot;&gt;&lt;/script&gt;\n",
       "    &lt;script src=&quot;https://cdn.jsdelivr.net/npm/bootstrap@5.2.2/dist/js/bootstrap.bundle.min.js&quot;&gt;&lt;/script&gt;\n",
       "    &lt;script src=&quot;https://cdnjs.cloudflare.com/ajax/libs/Leaflet.awesome-markers/2.0.2/leaflet.awesome-markers.js&quot;&gt;&lt;/script&gt;\n",
       "    &lt;link rel=&quot;stylesheet&quot; href=&quot;https://cdn.jsdelivr.net/npm/leaflet@1.9.3/dist/leaflet.css&quot;/&gt;\n",
       "    &lt;link rel=&quot;stylesheet&quot; href=&quot;https://cdn.jsdelivr.net/npm/bootstrap@5.2.2/dist/css/bootstrap.min.css&quot;/&gt;\n",
       "    &lt;link rel=&quot;stylesheet&quot; href=&quot;https://netdna.bootstrapcdn.com/bootstrap/3.0.0/css/bootstrap-glyphicons.css&quot;/&gt;\n",
       "    &lt;link rel=&quot;stylesheet&quot; href=&quot;https://cdn.jsdelivr.net/npm/@fortawesome/fontawesome-free@6.2.0/css/all.min.css&quot;/&gt;\n",
       "    &lt;link rel=&quot;stylesheet&quot; href=&quot;https://cdnjs.cloudflare.com/ajax/libs/Leaflet.awesome-markers/2.0.2/leaflet.awesome-markers.css&quot;/&gt;\n",
       "    &lt;link rel=&quot;stylesheet&quot; href=&quot;https://cdn.jsdelivr.net/gh/python-visualization/folium/folium/templates/leaflet.awesome.rotate.min.css&quot;/&gt;\n",
       "    \n",
       "            &lt;meta name=&quot;viewport&quot; content=&quot;width=device-width,\n",
       "                initial-scale=1.0, maximum-scale=1.0, user-scalable=no&quot; /&gt;\n",
       "            &lt;style&gt;\n",
       "                #map_021cfb7fb4adb0a4b3c9c026c31b25ef {\n",
       "                    position: relative;\n",
       "                    width: 100.0%;\n",
       "                    height: 100.0%;\n",
       "                    left: 0.0%;\n",
       "                    top: 0.0%;\n",
       "                }\n",
       "                .leaflet-container { font-size: 1rem; }\n",
       "            &lt;/style&gt;\n",
       "        \n",
       "&lt;/head&gt;\n",
       "&lt;body&gt;\n",
       "    \n",
       "    \n",
       "            &lt;div class=&quot;folium-map&quot; id=&quot;map_021cfb7fb4adb0a4b3c9c026c31b25ef&quot; &gt;&lt;/div&gt;\n",
       "        \n",
       "&lt;/body&gt;\n",
       "&lt;script&gt;\n",
       "    \n",
       "    \n",
       "            var map_021cfb7fb4adb0a4b3c9c026c31b25ef = L.map(\n",
       "                &quot;map_021cfb7fb4adb0a4b3c9c026c31b25ef&quot;,\n",
       "                {\n",
       "                    center: [46.603354, 1.888334],\n",
       "                    crs: L.CRS.EPSG3857,\n",
       "                    ...{\n",
       "  &quot;zoom&quot;: 6,\n",
       "  &quot;zoomControl&quot;: true,\n",
       "  &quot;preferCanvas&quot;: false,\n",
       "}\n",
       "\n",
       "                }\n",
       "            );\n",
       "\n",
       "            \n",
       "\n",
       "        \n",
       "    \n",
       "            var tile_layer_e5a8ca1df4e38f51d3d2e39e471e03f2 = L.tileLayer(\n",
       "                &quot;https://tile.openstreetmap.org/{z}/{x}/{y}.png&quot;,\n",
       "                {\n",
       "  &quot;minZoom&quot;: 0,\n",
       "  &quot;maxZoom&quot;: 19,\n",
       "  &quot;maxNativeZoom&quot;: 19,\n",
       "  &quot;noWrap&quot;: false,\n",
       "  &quot;attribution&quot;: &quot;\\u0026copy; \\u003ca href=\\&quot;https://www.openstreetmap.org/copyright\\&quot;\\u003eOpenStreetMap\\u003c/a\\u003e contributors&quot;,\n",
       "  &quot;subdomains&quot;: &quot;abc&quot;,\n",
       "  &quot;detectRetina&quot;: false,\n",
       "  &quot;tms&quot;: false,\n",
       "  &quot;opacity&quot;: 1,\n",
       "}\n",
       "\n",
       "            );\n",
       "        \n",
       "    \n",
       "            tile_layer_e5a8ca1df4e38f51d3d2e39e471e03f2.addTo(map_021cfb7fb4adb0a4b3c9c026c31b25ef);\n",
       "        \n",
       "    \n",
       "            var marker_a9d99606f54dc7be18539298a8233154 = L.marker(\n",
       "                [48.6359541, -1.511459954959514],\n",
       "                {\n",
       "}\n",
       "            ).addTo(map_021cfb7fb4adb0a4b3c9c026c31b25ef);\n",
       "        \n",
       "    \n",
       "        var custom_icon_ff7f69d3f351f75e76c69cd77669bb4e = L.icon({\n",
       "  &quot;iconUrl&quot;: &quot;https://images.icon-icons.com/2791/PNG/512/cloudy_cloud_weather_icon_177580.png&quot;,\n",
       "  &quot;iconSize&quot;: [40, 40],\n",
       "});\n",
       "        marker_a9d99606f54dc7be18539298a8233154.setIcon(custom_icon_ff7f69d3f351f75e76c69cd77669bb4e);\n",
       "        \n",
       "    \n",
       "        var popup_309f4decb5a0babb693d5d8226487a53 = L.popup({\n",
       "  &quot;maxWidth&quot;: &quot;100%&quot;,\n",
       "});\n",
       "\n",
       "        \n",
       "            \n",
       "                var html_1124c08be7e96924cc6d8007805ab01a = $(`&lt;div id=&quot;html_1124c08be7e96924cc6d8007805ab01a&quot; style=&quot;width: 100.0%; height: 100.0%;&quot;&gt;Mont Saint Michel&lt;/div&gt;`)[0];\n",
       "                popup_309f4decb5a0babb693d5d8226487a53.setContent(html_1124c08be7e96924cc6d8007805ab01a);\n",
       "            \n",
       "        \n",
       "\n",
       "        marker_a9d99606f54dc7be18539298a8233154.bindPopup(popup_309f4decb5a0babb693d5d8226487a53)\n",
       "        ;\n",
       "\n",
       "        \n",
       "    \n",
       "    \n",
       "                marker_a9d99606f54dc7be18539298a8233154.setIcon(custom_icon_ff7f69d3f351f75e76c69cd77669bb4e);\n",
       "            \n",
       "    \n",
       "            var marker_0c8edfefba8616992009cbb815e913db = L.marker(\n",
       "                [48.649518, -2.0260409],\n",
       "                {\n",
       "}\n",
       "            ).addTo(map_021cfb7fb4adb0a4b3c9c026c31b25ef);\n",
       "        \n",
       "    \n",
       "        var custom_icon_f37e483a1b7046df9ca00d6d60826ef9 = L.icon({\n",
       "  &quot;iconUrl&quot;: &quot;https://images.icon-icons.com/2791/PNG/512/cloudy_cloud_weather_icon_177580.png&quot;,\n",
       "  &quot;iconSize&quot;: [40, 40],\n",
       "});\n",
       "        marker_0c8edfefba8616992009cbb815e913db.setIcon(custom_icon_f37e483a1b7046df9ca00d6d60826ef9);\n",
       "        \n",
       "    \n",
       "        var popup_71ff5aef6bee33f8f03c1c0933162598 = L.popup({\n",
       "  &quot;maxWidth&quot;: &quot;100%&quot;,\n",
       "});\n",
       "\n",
       "        \n",
       "            \n",
       "                var html_a5129b7110a72a0a862ff115f3f49260 = $(`&lt;div id=&quot;html_a5129b7110a72a0a862ff115f3f49260&quot; style=&quot;width: 100.0%; height: 100.0%;&quot;&gt;St Malo&lt;/div&gt;`)[0];\n",
       "                popup_71ff5aef6bee33f8f03c1c0933162598.setContent(html_a5129b7110a72a0a862ff115f3f49260);\n",
       "            \n",
       "        \n",
       "\n",
       "        marker_0c8edfefba8616992009cbb815e913db.bindPopup(popup_71ff5aef6bee33f8f03c1c0933162598)\n",
       "        ;\n",
       "\n",
       "        \n",
       "    \n",
       "    \n",
       "                marker_0c8edfefba8616992009cbb815e913db.setIcon(custom_icon_f37e483a1b7046df9ca00d6d60826ef9);\n",
       "            \n",
       "    \n",
       "            var marker_43eb7bbfcf26e236d6f5e69f31179172 = L.marker(\n",
       "                [49.2764624, -0.7024738],\n",
       "                {\n",
       "}\n",
       "            ).addTo(map_021cfb7fb4adb0a4b3c9c026c31b25ef);\n",
       "        \n",
       "    \n",
       "        var custom_icon_c638a6430b13b7ea07593389a7bd842a = L.icon({\n",
       "  &quot;iconUrl&quot;: &quot;https://images.icon-icons.com/2791/PNG/512/cloudy_cloud_weather_icon_177580.png&quot;,\n",
       "  &quot;iconSize&quot;: [40, 40],\n",
       "});\n",
       "        marker_43eb7bbfcf26e236d6f5e69f31179172.setIcon(custom_icon_c638a6430b13b7ea07593389a7bd842a);\n",
       "        \n",
       "    \n",
       "        var popup_3f0d006b7562376ef8892962e2628b31 = L.popup({\n",
       "  &quot;maxWidth&quot;: &quot;100%&quot;,\n",
       "});\n",
       "\n",
       "        \n",
       "            \n",
       "                var html_544d69a4b29b8a1adcd483dc4ac76d52 = $(`&lt;div id=&quot;html_544d69a4b29b8a1adcd483dc4ac76d52&quot; style=&quot;width: 100.0%; height: 100.0%;&quot;&gt;Bayeux&lt;/div&gt;`)[0];\n",
       "                popup_3f0d006b7562376ef8892962e2628b31.setContent(html_544d69a4b29b8a1adcd483dc4ac76d52);\n",
       "            \n",
       "        \n",
       "\n",
       "        marker_43eb7bbfcf26e236d6f5e69f31179172.bindPopup(popup_3f0d006b7562376ef8892962e2628b31)\n",
       "        ;\n",
       "\n",
       "        \n",
       "    \n",
       "    \n",
       "                marker_43eb7bbfcf26e236d6f5e69f31179172.setIcon(custom_icon_c638a6430b13b7ea07593389a7bd842a);\n",
       "            \n",
       "    \n",
       "            var marker_15379749f41a004460ff97a9df7e3999 = L.marker(\n",
       "                [49.4938975, 0.1079732],\n",
       "                {\n",
       "}\n",
       "            ).addTo(map_021cfb7fb4adb0a4b3c9c026c31b25ef);\n",
       "        \n",
       "    \n",
       "        var custom_icon_f72d0fe21e18c073d804d53595e8c09c = L.icon({\n",
       "  &quot;iconUrl&quot;: &quot;https://images.icon-icons.com/2791/PNG/512/overcast_cloud_weather_icon_177561.png&quot;,\n",
       "  &quot;iconSize&quot;: [40, 40],\n",
       "});\n",
       "        marker_15379749f41a004460ff97a9df7e3999.setIcon(custom_icon_f72d0fe21e18c073d804d53595e8c09c);\n",
       "        \n",
       "    \n",
       "        var popup_0d8a63018fbd2d96319c4531faf0ca35 = L.popup({\n",
       "  &quot;maxWidth&quot;: &quot;100%&quot;,\n",
       "});\n",
       "\n",
       "        \n",
       "            \n",
       "                var html_8b15241a154ca862c010bcee8c9573a6 = $(`&lt;div id=&quot;html_8b15241a154ca862c010bcee8c9573a6&quot; style=&quot;width: 100.0%; height: 100.0%;&quot;&gt;Le Havre&lt;/div&gt;`)[0];\n",
       "                popup_0d8a63018fbd2d96319c4531faf0ca35.setContent(html_8b15241a154ca862c010bcee8c9573a6);\n",
       "            \n",
       "        \n",
       "\n",
       "        marker_15379749f41a004460ff97a9df7e3999.bindPopup(popup_0d8a63018fbd2d96319c4531faf0ca35)\n",
       "        ;\n",
       "\n",
       "        \n",
       "    \n",
       "    \n",
       "                marker_15379749f41a004460ff97a9df7e3999.setIcon(custom_icon_f72d0fe21e18c073d804d53595e8c09c);\n",
       "            \n",
       "    \n",
       "            var marker_267e88fa107a572e49ecdd37c860df5b = L.marker(\n",
       "                [49.4404591, 1.0939658],\n",
       "                {\n",
       "}\n",
       "            ).addTo(map_021cfb7fb4adb0a4b3c9c026c31b25ef);\n",
       "        \n",
       "    \n",
       "        var custom_icon_e411d8730f9bed32105515ea4e451e34 = L.icon({\n",
       "  &quot;iconUrl&quot;: &quot;https://images.icon-icons.com/2791/PNG/512/cloudy_cloud_weather_icon_177580.png&quot;,\n",
       "  &quot;iconSize&quot;: [40, 40],\n",
       "});\n",
       "        marker_267e88fa107a572e49ecdd37c860df5b.setIcon(custom_icon_e411d8730f9bed32105515ea4e451e34);\n",
       "        \n",
       "    \n",
       "        var popup_8f0514c0aa04a145b54c69d27d9fccf4 = L.popup({\n",
       "  &quot;maxWidth&quot;: &quot;100%&quot;,\n",
       "});\n",
       "\n",
       "        \n",
       "            \n",
       "                var html_47532de7c47718a5bea4bc0477fa0113 = $(`&lt;div id=&quot;html_47532de7c47718a5bea4bc0477fa0113&quot; style=&quot;width: 100.0%; height: 100.0%;&quot;&gt;Rouen&lt;/div&gt;`)[0];\n",
       "                popup_8f0514c0aa04a145b54c69d27d9fccf4.setContent(html_47532de7c47718a5bea4bc0477fa0113);\n",
       "            \n",
       "        \n",
       "\n",
       "        marker_267e88fa107a572e49ecdd37c860df5b.bindPopup(popup_8f0514c0aa04a145b54c69d27d9fccf4)\n",
       "        ;\n",
       "\n",
       "        \n",
       "    \n",
       "    \n",
       "                marker_267e88fa107a572e49ecdd37c860df5b.setIcon(custom_icon_e411d8730f9bed32105515ea4e451e34);\n",
       "            \n",
       "    \n",
       "            var marker_a90522e3007fdf7296b1f6e0239b3eaf = L.marker(\n",
       "                [48.8588897, 2.3200410217200766],\n",
       "                {\n",
       "}\n",
       "            ).addTo(map_021cfb7fb4adb0a4b3c9c026c31b25ef);\n",
       "        \n",
       "    \n",
       "        var custom_icon_008e25e5ac489583bea783acbae9e115 = L.icon({\n",
       "  &quot;iconUrl&quot;: &quot;https://images.icon-icons.com/2791/PNG/512/overcast_cloud_weather_icon_177561.png&quot;,\n",
       "  &quot;iconSize&quot;: [40, 40],\n",
       "});\n",
       "        marker_a90522e3007fdf7296b1f6e0239b3eaf.setIcon(custom_icon_008e25e5ac489583bea783acbae9e115);\n",
       "        \n",
       "    \n",
       "        var popup_5871f923ada48c58dd9304b3a5a1b7ee = L.popup({\n",
       "  &quot;maxWidth&quot;: &quot;100%&quot;,\n",
       "});\n",
       "\n",
       "        \n",
       "            \n",
       "                var html_7ea237bced093080f23426e039895d89 = $(`&lt;div id=&quot;html_7ea237bced093080f23426e039895d89&quot; style=&quot;width: 100.0%; height: 100.0%;&quot;&gt;Paris&lt;/div&gt;`)[0];\n",
       "                popup_5871f923ada48c58dd9304b3a5a1b7ee.setContent(html_7ea237bced093080f23426e039895d89);\n",
       "            \n",
       "        \n",
       "\n",
       "        marker_a90522e3007fdf7296b1f6e0239b3eaf.bindPopup(popup_5871f923ada48c58dd9304b3a5a1b7ee)\n",
       "        ;\n",
       "\n",
       "        \n",
       "    \n",
       "    \n",
       "                marker_a90522e3007fdf7296b1f6e0239b3eaf.setIcon(custom_icon_008e25e5ac489583bea783acbae9e115);\n",
       "            \n",
       "    \n",
       "            var marker_7fdd004d953bedf10bef9522e47715ec = L.marker(\n",
       "                [49.8941708, 2.2956951],\n",
       "                {\n",
       "}\n",
       "            ).addTo(map_021cfb7fb4adb0a4b3c9c026c31b25ef);\n",
       "        \n",
       "    \n",
       "        var custom_icon_8e3a99c868fc3c5b9f3f6c4795cb8694 = L.icon({\n",
       "  &quot;iconUrl&quot;: &quot;https://images.icon-icons.com/2791/PNG/512/overcast_cloud_weather_icon_177561.png&quot;,\n",
       "  &quot;iconSize&quot;: [40, 40],\n",
       "});\n",
       "        marker_7fdd004d953bedf10bef9522e47715ec.setIcon(custom_icon_8e3a99c868fc3c5b9f3f6c4795cb8694);\n",
       "        \n",
       "    \n",
       "        var popup_a8e2c82a181c486eb0f41dae5e61c9c1 = L.popup({\n",
       "  &quot;maxWidth&quot;: &quot;100%&quot;,\n",
       "});\n",
       "\n",
       "        \n",
       "            \n",
       "                var html_c65fd55814ad9bc80d935aca04bc1d50 = $(`&lt;div id=&quot;html_c65fd55814ad9bc80d935aca04bc1d50&quot; style=&quot;width: 100.0%; height: 100.0%;&quot;&gt;Amiens&lt;/div&gt;`)[0];\n",
       "                popup_a8e2c82a181c486eb0f41dae5e61c9c1.setContent(html_c65fd55814ad9bc80d935aca04bc1d50);\n",
       "            \n",
       "        \n",
       "\n",
       "        marker_7fdd004d953bedf10bef9522e47715ec.bindPopup(popup_a8e2c82a181c486eb0f41dae5e61c9c1)\n",
       "        ;\n",
       "\n",
       "        \n",
       "    \n",
       "    \n",
       "                marker_7fdd004d953bedf10bef9522e47715ec.setIcon(custom_icon_8e3a99c868fc3c5b9f3f6c4795cb8694);\n",
       "            \n",
       "    \n",
       "            var marker_90288fe1c836ab4b3d1c862275498bb4 = L.marker(\n",
       "                [50.6365654, 3.0635282],\n",
       "                {\n",
       "}\n",
       "            ).addTo(map_021cfb7fb4adb0a4b3c9c026c31b25ef);\n",
       "        \n",
       "    \n",
       "        var custom_icon_6e97661ce08c24c1c2d9c07eaea5cc7d = L.icon({\n",
       "  &quot;iconUrl&quot;: &quot;https://images.icon-icons.com/2791/PNG/512/overcast_cloud_weather_icon_177561.png&quot;,\n",
       "  &quot;iconSize&quot;: [40, 40],\n",
       "});\n",
       "        marker_90288fe1c836ab4b3d1c862275498bb4.setIcon(custom_icon_6e97661ce08c24c1c2d9c07eaea5cc7d);\n",
       "        \n",
       "    \n",
       "        var popup_7f13b37caaf71917c98325b3461bf53a = L.popup({\n",
       "  &quot;maxWidth&quot;: &quot;100%&quot;,\n",
       "});\n",
       "\n",
       "        \n",
       "            \n",
       "                var html_3d3f67a8cdbb5c39dc61e61befc5113c = $(`&lt;div id=&quot;html_3d3f67a8cdbb5c39dc61e61befc5113c&quot; style=&quot;width: 100.0%; height: 100.0%;&quot;&gt;Lille&lt;/div&gt;`)[0];\n",
       "                popup_7f13b37caaf71917c98325b3461bf53a.setContent(html_3d3f67a8cdbb5c39dc61e61befc5113c);\n",
       "            \n",
       "        \n",
       "\n",
       "        marker_90288fe1c836ab4b3d1c862275498bb4.bindPopup(popup_7f13b37caaf71917c98325b3461bf53a)\n",
       "        ;\n",
       "\n",
       "        \n",
       "    \n",
       "    \n",
       "                marker_90288fe1c836ab4b3d1c862275498bb4.setIcon(custom_icon_6e97661ce08c24c1c2d9c07eaea5cc7d);\n",
       "            \n",
       "    \n",
       "            var marker_e6180fb465ba20cfdef09ec3ee0bff1e = L.marker(\n",
       "                [48.584614, 7.7507127],\n",
       "                {\n",
       "}\n",
       "            ).addTo(map_021cfb7fb4adb0a4b3c9c026c31b25ef);\n",
       "        \n",
       "    \n",
       "        var custom_icon_d68bad5fec5ef3372e74d8d70a87f045 = L.icon({\n",
       "  &quot;iconUrl&quot;: &quot;https://images.icon-icons.com/2791/PNG/512/rain_cloud_weather_icon_177568.png&quot;,\n",
       "  &quot;iconSize&quot;: [40, 40],\n",
       "});\n",
       "        marker_e6180fb465ba20cfdef09ec3ee0bff1e.setIcon(custom_icon_d68bad5fec5ef3372e74d8d70a87f045);\n",
       "        \n",
       "    \n",
       "        var popup_721e7837dbc7ebfa6a963c5052f35d34 = L.popup({\n",
       "  &quot;maxWidth&quot;: &quot;100%&quot;,\n",
       "});\n",
       "\n",
       "        \n",
       "            \n",
       "                var html_da1f9e6f72e4cbfb499a4c37c4300d86 = $(`&lt;div id=&quot;html_da1f9e6f72e4cbfb499a4c37c4300d86&quot; style=&quot;width: 100.0%; height: 100.0%;&quot;&gt;Strasbourg&lt;/div&gt;`)[0];\n",
       "                popup_721e7837dbc7ebfa6a963c5052f35d34.setContent(html_da1f9e6f72e4cbfb499a4c37c4300d86);\n",
       "            \n",
       "        \n",
       "\n",
       "        marker_e6180fb465ba20cfdef09ec3ee0bff1e.bindPopup(popup_721e7837dbc7ebfa6a963c5052f35d34)\n",
       "        ;\n",
       "\n",
       "        \n",
       "    \n",
       "    \n",
       "                marker_e6180fb465ba20cfdef09ec3ee0bff1e.setIcon(custom_icon_d68bad5fec5ef3372e74d8d70a87f045);\n",
       "            \n",
       "    \n",
       "            var marker_daeda4473fdf073e11d29cc1bfb076be = L.marker(\n",
       "                [48.2495226, 7.3454923],\n",
       "                {\n",
       "}\n",
       "            ).addTo(map_021cfb7fb4adb0a4b3c9c026c31b25ef);\n",
       "        \n",
       "    \n",
       "        var custom_icon_e08a26052b6b712a1163ffae6edaee61 = L.icon({\n",
       "  &quot;iconUrl&quot;: &quot;https://images.icon-icons.com/2791/PNG/512/cloudy_cloud_weather_icon_177580.png&quot;,\n",
       "  &quot;iconSize&quot;: [40, 40],\n",
       "});\n",
       "        marker_daeda4473fdf073e11d29cc1bfb076be.setIcon(custom_icon_e08a26052b6b712a1163ffae6edaee61);\n",
       "        \n",
       "    \n",
       "        var popup_e53ee424ed1f9782bfc81b9e14b43f4f = L.popup({\n",
       "  &quot;maxWidth&quot;: &quot;100%&quot;,\n",
       "});\n",
       "\n",
       "        \n",
       "            \n",
       "                var html_1ae23910bb8c05ef81deee756b7c1c43 = $(`&lt;div id=&quot;html_1ae23910bb8c05ef81deee756b7c1c43&quot; style=&quot;width: 100.0%; height: 100.0%;&quot;&gt;Chateau du Haut Koenigsbourg&lt;/div&gt;`)[0];\n",
       "                popup_e53ee424ed1f9782bfc81b9e14b43f4f.setContent(html_1ae23910bb8c05ef81deee756b7c1c43);\n",
       "            \n",
       "        \n",
       "\n",
       "        marker_daeda4473fdf073e11d29cc1bfb076be.bindPopup(popup_e53ee424ed1f9782bfc81b9e14b43f4f)\n",
       "        ;\n",
       "\n",
       "        \n",
       "    \n",
       "    \n",
       "                marker_daeda4473fdf073e11d29cc1bfb076be.setIcon(custom_icon_e08a26052b6b712a1163ffae6edaee61);\n",
       "            \n",
       "    \n",
       "            var marker_e9553faebb17518bfd81ded4492e7675 = L.marker(\n",
       "                [48.0777517, 7.3579641],\n",
       "                {\n",
       "}\n",
       "            ).addTo(map_021cfb7fb4adb0a4b3c9c026c31b25ef);\n",
       "        \n",
       "    \n",
       "        var custom_icon_c9ea952c611c707f96477211db05da08 = L.icon({\n",
       "  &quot;iconUrl&quot;: &quot;https://images.icon-icons.com/2791/PNG/512/cloudy_cloud_weather_icon_177580.png&quot;,\n",
       "  &quot;iconSize&quot;: [40, 40],\n",
       "});\n",
       "        marker_e9553faebb17518bfd81ded4492e7675.setIcon(custom_icon_c9ea952c611c707f96477211db05da08);\n",
       "        \n",
       "    \n",
       "        var popup_de1ccb323ff4bfe2b7cdebf3a5eac1bc = L.popup({\n",
       "  &quot;maxWidth&quot;: &quot;100%&quot;,\n",
       "});\n",
       "\n",
       "        \n",
       "            \n",
       "                var html_498a47c80e6f69ebce34544fe93162f7 = $(`&lt;div id=&quot;html_498a47c80e6f69ebce34544fe93162f7&quot; style=&quot;width: 100.0%; height: 100.0%;&quot;&gt;Colmar&lt;/div&gt;`)[0];\n",
       "                popup_de1ccb323ff4bfe2b7cdebf3a5eac1bc.setContent(html_498a47c80e6f69ebce34544fe93162f7);\n",
       "            \n",
       "        \n",
       "\n",
       "        marker_e9553faebb17518bfd81ded4492e7675.bindPopup(popup_de1ccb323ff4bfe2b7cdebf3a5eac1bc)\n",
       "        ;\n",
       "\n",
       "        \n",
       "    \n",
       "    \n",
       "                marker_e9553faebb17518bfd81ded4492e7675.setIcon(custom_icon_c9ea952c611c707f96477211db05da08);\n",
       "            \n",
       "    \n",
       "            var marker_bd58cf768761d2ced3bf7fb5322457f4 = L.marker(\n",
       "                [48.0447968, 7.3079618],\n",
       "                {\n",
       "}\n",
       "            ).addTo(map_021cfb7fb4adb0a4b3c9c026c31b25ef);\n",
       "        \n",
       "    \n",
       "        var custom_icon_562ff073b5054a8183a45fbd593bacd9 = L.icon({\n",
       "  &quot;iconUrl&quot;: &quot;https://images.icon-icons.com/2791/PNG/512/cloudy_cloud_weather_icon_177580.png&quot;,\n",
       "  &quot;iconSize&quot;: [40, 40],\n",
       "});\n",
       "        marker_bd58cf768761d2ced3bf7fb5322457f4.setIcon(custom_icon_562ff073b5054a8183a45fbd593bacd9);\n",
       "        \n",
       "    \n",
       "        var popup_14d6a76d30e8c6d42ad978d6d7374027 = L.popup({\n",
       "  &quot;maxWidth&quot;: &quot;100%&quot;,\n",
       "});\n",
       "\n",
       "        \n",
       "            \n",
       "                var html_0048c3c5cd37f6d7334d0768b585934c = $(`&lt;div id=&quot;html_0048c3c5cd37f6d7334d0768b585934c&quot; style=&quot;width: 100.0%; height: 100.0%;&quot;&gt;Eguisheim&lt;/div&gt;`)[0];\n",
       "                popup_14d6a76d30e8c6d42ad978d6d7374027.setContent(html_0048c3c5cd37f6d7334d0768b585934c);\n",
       "            \n",
       "        \n",
       "\n",
       "        marker_bd58cf768761d2ced3bf7fb5322457f4.bindPopup(popup_14d6a76d30e8c6d42ad978d6d7374027)\n",
       "        ;\n",
       "\n",
       "        \n",
       "    \n",
       "    \n",
       "                marker_bd58cf768761d2ced3bf7fb5322457f4.setIcon(custom_icon_562ff073b5054a8183a45fbd593bacd9);\n",
       "            \n",
       "    \n",
       "            var marker_c8f1d783d316260618a688c6c979d820 = L.marker(\n",
       "                [47.2380222, 6.0243622],\n",
       "                {\n",
       "}\n",
       "            ).addTo(map_021cfb7fb4adb0a4b3c9c026c31b25ef);\n",
       "        \n",
       "    \n",
       "        var custom_icon_c8ffb003c3dc35ac8944c5d09fd3052a = L.icon({\n",
       "  &quot;iconUrl&quot;: &quot;https://images.icon-icons.com/2791/PNG/512/overcast_cloud_weather_icon_177561.png&quot;,\n",
       "  &quot;iconSize&quot;: [40, 40],\n",
       "});\n",
       "        marker_c8f1d783d316260618a688c6c979d820.setIcon(custom_icon_c8ffb003c3dc35ac8944c5d09fd3052a);\n",
       "        \n",
       "    \n",
       "        var popup_a8913e73f934395c194da64519900f60 = L.popup({\n",
       "  &quot;maxWidth&quot;: &quot;100%&quot;,\n",
       "});\n",
       "\n",
       "        \n",
       "            \n",
       "                var html_3ab1ab60045ec3babcb1ec86f9fb7bce = $(`&lt;div id=&quot;html_3ab1ab60045ec3babcb1ec86f9fb7bce&quot; style=&quot;width: 100.0%; height: 100.0%;&quot;&gt;Besancon&lt;/div&gt;`)[0];\n",
       "                popup_a8913e73f934395c194da64519900f60.setContent(html_3ab1ab60045ec3babcb1ec86f9fb7bce);\n",
       "            \n",
       "        \n",
       "\n",
       "        marker_c8f1d783d316260618a688c6c979d820.bindPopup(popup_a8913e73f934395c194da64519900f60)\n",
       "        ;\n",
       "\n",
       "        \n",
       "    \n",
       "    \n",
       "                marker_c8f1d783d316260618a688c6c979d820.setIcon(custom_icon_c8ffb003c3dc35ac8944c5d09fd3052a);\n",
       "            \n",
       "    \n",
       "            var marker_aa969f5a81b27a6c6f7599abf79a9fe2 = L.marker(\n",
       "                [47.3215806, 5.0414701],\n",
       "                {\n",
       "}\n",
       "            ).addTo(map_021cfb7fb4adb0a4b3c9c026c31b25ef);\n",
       "        \n",
       "    \n",
       "        var custom_icon_f5f44b9b963350faef93dbbb656d0862 = L.icon({\n",
       "  &quot;iconUrl&quot;: &quot;https://images.icon-icons.com/2791/PNG/512/heavy_rain_day_weather_icon_177573.png&quot;,\n",
       "  &quot;iconSize&quot;: [40, 40],\n",
       "});\n",
       "        marker_aa969f5a81b27a6c6f7599abf79a9fe2.setIcon(custom_icon_f5f44b9b963350faef93dbbb656d0862);\n",
       "        \n",
       "    \n",
       "        var popup_824c8c041546d65aaeb34d7acb431c02 = L.popup({\n",
       "  &quot;maxWidth&quot;: &quot;100%&quot;,\n",
       "});\n",
       "\n",
       "        \n",
       "            \n",
       "                var html_5d53a90c005868ba83c19a052b0f3ad3 = $(`&lt;div id=&quot;html_5d53a90c005868ba83c19a052b0f3ad3&quot; style=&quot;width: 100.0%; height: 100.0%;&quot;&gt;Dijon&lt;/div&gt;`)[0];\n",
       "                popup_824c8c041546d65aaeb34d7acb431c02.setContent(html_5d53a90c005868ba83c19a052b0f3ad3);\n",
       "            \n",
       "        \n",
       "\n",
       "        marker_aa969f5a81b27a6c6f7599abf79a9fe2.bindPopup(popup_824c8c041546d65aaeb34d7acb431c02)\n",
       "        ;\n",
       "\n",
       "        \n",
       "    \n",
       "    \n",
       "                marker_aa969f5a81b27a6c6f7599abf79a9fe2.setIcon(custom_icon_f5f44b9b963350faef93dbbb656d0862);\n",
       "            \n",
       "    \n",
       "            var marker_ed9b427b857e4b36c38760943a624b15 = L.marker(\n",
       "                [45.8992348, 6.1288847],\n",
       "                {\n",
       "}\n",
       "            ).addTo(map_021cfb7fb4adb0a4b3c9c026c31b25ef);\n",
       "        \n",
       "    \n",
       "        var custom_icon_4cad45342cba50832b3b217fb8d1ae9e = L.icon({\n",
       "  &quot;iconUrl&quot;: &quot;https://images.icon-icons.com/2791/PNG/512/cloudy_cloud_weather_icon_177580.png&quot;,\n",
       "  &quot;iconSize&quot;: [40, 40],\n",
       "});\n",
       "        marker_ed9b427b857e4b36c38760943a624b15.setIcon(custom_icon_4cad45342cba50832b3b217fb8d1ae9e);\n",
       "        \n",
       "    \n",
       "        var popup_8dacfe44697ee4d541404f931b84d044 = L.popup({\n",
       "  &quot;maxWidth&quot;: &quot;100%&quot;,\n",
       "});\n",
       "\n",
       "        \n",
       "            \n",
       "                var html_184c1cd7a7815cdb02bedc709b4c06f9 = $(`&lt;div id=&quot;html_184c1cd7a7815cdb02bedc709b4c06f9&quot; style=&quot;width: 100.0%; height: 100.0%;&quot;&gt;Annecy&lt;/div&gt;`)[0];\n",
       "                popup_8dacfe44697ee4d541404f931b84d044.setContent(html_184c1cd7a7815cdb02bedc709b4c06f9);\n",
       "            \n",
       "        \n",
       "\n",
       "        marker_ed9b427b857e4b36c38760943a624b15.bindPopup(popup_8dacfe44697ee4d541404f931b84d044)\n",
       "        ;\n",
       "\n",
       "        \n",
       "    \n",
       "    \n",
       "                marker_ed9b427b857e4b36c38760943a624b15.setIcon(custom_icon_4cad45342cba50832b3b217fb8d1ae9e);\n",
       "            \n",
       "    \n",
       "            var marker_12eca1e8a330de7bce63576af69a86b7 = L.marker(\n",
       "                [45.1875602, 5.7357819],\n",
       "                {\n",
       "}\n",
       "            ).addTo(map_021cfb7fb4adb0a4b3c9c026c31b25ef);\n",
       "        \n",
       "    \n",
       "        var custom_icon_ef0b2805b4275c85724c3fca113711fa = L.icon({\n",
       "  &quot;iconUrl&quot;: &quot;https://images.icon-icons.com/2791/PNG/512/overcast_cloud_weather_icon_177561.png&quot;,\n",
       "  &quot;iconSize&quot;: [40, 40],\n",
       "});\n",
       "        marker_12eca1e8a330de7bce63576af69a86b7.setIcon(custom_icon_ef0b2805b4275c85724c3fca113711fa);\n",
       "        \n",
       "    \n",
       "        var popup_0723aa45a8cee80a7d3ecf92bac07b59 = L.popup({\n",
       "  &quot;maxWidth&quot;: &quot;100%&quot;,\n",
       "});\n",
       "\n",
       "        \n",
       "            \n",
       "                var html_f0193ac523df4173510d8069e3e9f887 = $(`&lt;div id=&quot;html_f0193ac523df4173510d8069e3e9f887&quot; style=&quot;width: 100.0%; height: 100.0%;&quot;&gt;Grenoble&lt;/div&gt;`)[0];\n",
       "                popup_0723aa45a8cee80a7d3ecf92bac07b59.setContent(html_f0193ac523df4173510d8069e3e9f887);\n",
       "            \n",
       "        \n",
       "\n",
       "        marker_12eca1e8a330de7bce63576af69a86b7.bindPopup(popup_0723aa45a8cee80a7d3ecf92bac07b59)\n",
       "        ;\n",
       "\n",
       "        \n",
       "    \n",
       "    \n",
       "                marker_12eca1e8a330de7bce63576af69a86b7.setIcon(custom_icon_ef0b2805b4275c85724c3fca113711fa);\n",
       "            \n",
       "    \n",
       "            var marker_cb1ee1840a8d9da7ec262f50342557e5 = L.marker(\n",
       "                [45.7578137, 4.8320114],\n",
       "                {\n",
       "}\n",
       "            ).addTo(map_021cfb7fb4adb0a4b3c9c026c31b25ef);\n",
       "        \n",
       "    \n",
       "        var custom_icon_07eee1764f1d7bdc8b3340b2e8cf72dd = L.icon({\n",
       "  &quot;iconUrl&quot;: &quot;https://images.icon-icons.com/2791/PNG/512/cloudy_cloud_weather_icon_177580.png&quot;,\n",
       "  &quot;iconSize&quot;: [40, 40],\n",
       "});\n",
       "        marker_cb1ee1840a8d9da7ec262f50342557e5.setIcon(custom_icon_07eee1764f1d7bdc8b3340b2e8cf72dd);\n",
       "        \n",
       "    \n",
       "        var popup_f095559c6dd3f3d8c32a4c258fd0ed7b = L.popup({\n",
       "  &quot;maxWidth&quot;: &quot;100%&quot;,\n",
       "});\n",
       "\n",
       "        \n",
       "            \n",
       "                var html_10652afb7ddab4c6f36ea54dca133c2a = $(`&lt;div id=&quot;html_10652afb7ddab4c6f36ea54dca133c2a&quot; style=&quot;width: 100.0%; height: 100.0%;&quot;&gt;Lyon&lt;/div&gt;`)[0];\n",
       "                popup_f095559c6dd3f3d8c32a4c258fd0ed7b.setContent(html_10652afb7ddab4c6f36ea54dca133c2a);\n",
       "            \n",
       "        \n",
       "\n",
       "        marker_cb1ee1840a8d9da7ec262f50342557e5.bindPopup(popup_f095559c6dd3f3d8c32a4c258fd0ed7b)\n",
       "        ;\n",
       "\n",
       "        \n",
       "    \n",
       "    \n",
       "                marker_cb1ee1840a8d9da7ec262f50342557e5.setIcon(custom_icon_07eee1764f1d7bdc8b3340b2e8cf72dd);\n",
       "            \n",
       "    \n",
       "            var marker_d5f4dcf8ec44288fe2b61ca8cc805367 = L.marker(\n",
       "                [43.1506968, 6.3419285],\n",
       "                {\n",
       "}\n",
       "            ).addTo(map_021cfb7fb4adb0a4b3c9c026c31b25ef);\n",
       "        \n",
       "    \n",
       "        var custom_icon_e30f589c7962ca124b1b052747cb3e00 = L.icon({\n",
       "  &quot;iconUrl&quot;: &quot;https://images.icon-icons.com/2791/PNG/512/sunny_day_weather_sun_icon_177555.png&quot;,\n",
       "  &quot;iconSize&quot;: [40, 40],\n",
       "});\n",
       "        marker_d5f4dcf8ec44288fe2b61ca8cc805367.setIcon(custom_icon_e30f589c7962ca124b1b052747cb3e00);\n",
       "        \n",
       "    \n",
       "        var popup_4064816f721bb297edbf85135eb6e5c1 = L.popup({\n",
       "  &quot;maxWidth&quot;: &quot;100%&quot;,\n",
       "});\n",
       "\n",
       "        \n",
       "            \n",
       "                var html_fb7a0efdc0afb0d3ea558726584df53c = $(`&lt;div id=&quot;html_fb7a0efdc0afb0d3ea558726584df53c&quot; style=&quot;width: 100.0%; height: 100.0%;&quot;&gt;Bormes les Mimosas&lt;/div&gt;`)[0];\n",
       "                popup_4064816f721bb297edbf85135eb6e5c1.setContent(html_fb7a0efdc0afb0d3ea558726584df53c);\n",
       "            \n",
       "        \n",
       "\n",
       "        marker_d5f4dcf8ec44288fe2b61ca8cc805367.bindPopup(popup_4064816f721bb297edbf85135eb6e5c1)\n",
       "        ;\n",
       "\n",
       "        \n",
       "    \n",
       "    \n",
       "                marker_d5f4dcf8ec44288fe2b61ca8cc805367.setIcon(custom_icon_e30f589c7962ca124b1b052747cb3e00);\n",
       "            \n",
       "    \n",
       "            var marker_d5f63e3ba6f637af3286934aa1a79659 = L.marker(\n",
       "                [43.2140359, 5.5396318],\n",
       "                {\n",
       "}\n",
       "            ).addTo(map_021cfb7fb4adb0a4b3c9c026c31b25ef);\n",
       "        \n",
       "    \n",
       "        var custom_icon_6428777c0733a6da56528f684b065c8e = L.icon({\n",
       "  &quot;iconUrl&quot;: &quot;https://images.icon-icons.com/2791/PNG/512/sunny_day_weather_sun_icon_177555.png&quot;,\n",
       "  &quot;iconSize&quot;: [40, 40],\n",
       "});\n",
       "        marker_d5f63e3ba6f637af3286934aa1a79659.setIcon(custom_icon_6428777c0733a6da56528f684b065c8e);\n",
       "        \n",
       "    \n",
       "        var popup_797dd8e4703d37a8d9f4ca4db570114d = L.popup({\n",
       "  &quot;maxWidth&quot;: &quot;100%&quot;,\n",
       "});\n",
       "\n",
       "        \n",
       "            \n",
       "                var html_4be1ef8d5814461d287d015a87b89c95 = $(`&lt;div id=&quot;html_4be1ef8d5814461d287d015a87b89c95&quot; style=&quot;width: 100.0%; height: 100.0%;&quot;&gt;Cassis&lt;/div&gt;`)[0];\n",
       "                popup_797dd8e4703d37a8d9f4ca4db570114d.setContent(html_4be1ef8d5814461d287d015a87b89c95);\n",
       "            \n",
       "        \n",
       "\n",
       "        marker_d5f63e3ba6f637af3286934aa1a79659.bindPopup(popup_797dd8e4703d37a8d9f4ca4db570114d)\n",
       "        ;\n",
       "\n",
       "        \n",
       "    \n",
       "    \n",
       "                marker_d5f63e3ba6f637af3286934aa1a79659.setIcon(custom_icon_6428777c0733a6da56528f684b065c8e);\n",
       "            \n",
       "    \n",
       "            var marker_d372fa6608737c737068d23304062e83 = L.marker(\n",
       "                [43.2961743, 5.3699525],\n",
       "                {\n",
       "}\n",
       "            ).addTo(map_021cfb7fb4adb0a4b3c9c026c31b25ef);\n",
       "        \n",
       "    \n",
       "        var custom_icon_6b20fd809d2fd3cbc933f6f5deb51230 = L.icon({\n",
       "  &quot;iconUrl&quot;: &quot;https://images.icon-icons.com/2791/PNG/512/sunny_day_weather_sun_icon_177555.png&quot;,\n",
       "  &quot;iconSize&quot;: [40, 40],\n",
       "});\n",
       "        marker_d372fa6608737c737068d23304062e83.setIcon(custom_icon_6b20fd809d2fd3cbc933f6f5deb51230);\n",
       "        \n",
       "    \n",
       "        var popup_4785597ed33f0b919a1dabcece4b8b1c = L.popup({\n",
       "  &quot;maxWidth&quot;: &quot;100%&quot;,\n",
       "});\n",
       "\n",
       "        \n",
       "            \n",
       "                var html_c235f501add6c346ef0c0c3bc87461e3 = $(`&lt;div id=&quot;html_c235f501add6c346ef0c0c3bc87461e3&quot; style=&quot;width: 100.0%; height: 100.0%;&quot;&gt;Marseille&lt;/div&gt;`)[0];\n",
       "                popup_4785597ed33f0b919a1dabcece4b8b1c.setContent(html_c235f501add6c346ef0c0c3bc87461e3);\n",
       "            \n",
       "        \n",
       "\n",
       "        marker_d372fa6608737c737068d23304062e83.bindPopup(popup_4785597ed33f0b919a1dabcece4b8b1c)\n",
       "        ;\n",
       "\n",
       "        \n",
       "    \n",
       "    \n",
       "                marker_d372fa6608737c737068d23304062e83.setIcon(custom_icon_6b20fd809d2fd3cbc933f6f5deb51230);\n",
       "            \n",
       "    \n",
       "            var marker_a50409db63919e22815099f0c2f84663 = L.marker(\n",
       "                [43.5298424, 5.4474738],\n",
       "                {\n",
       "}\n",
       "            ).addTo(map_021cfb7fb4adb0a4b3c9c026c31b25ef);\n",
       "        \n",
       "    \n",
       "        var custom_icon_405eec426f2cb1459399fa7a3b52de09 = L.icon({\n",
       "  &quot;iconUrl&quot;: &quot;https://images.icon-icons.com/2791/PNG/512/sunny_day_weather_sun_icon_177555.png&quot;,\n",
       "  &quot;iconSize&quot;: [40, 40],\n",
       "});\n",
       "        marker_a50409db63919e22815099f0c2f84663.setIcon(custom_icon_405eec426f2cb1459399fa7a3b52de09);\n",
       "        \n",
       "    \n",
       "        var popup_68174935c6877d762274cbbe71030392 = L.popup({\n",
       "  &quot;maxWidth&quot;: &quot;100%&quot;,\n",
       "});\n",
       "\n",
       "        \n",
       "            \n",
       "                var html_45a3be0f281da76e17a2b39d58cbbe11 = $(`&lt;div id=&quot;html_45a3be0f281da76e17a2b39d58cbbe11&quot; style=&quot;width: 100.0%; height: 100.0%;&quot;&gt;Aix en Provence&lt;/div&gt;`)[0];\n",
       "                popup_68174935c6877d762274cbbe71030392.setContent(html_45a3be0f281da76e17a2b39d58cbbe11);\n",
       "            \n",
       "        \n",
       "\n",
       "        marker_a50409db63919e22815099f0c2f84663.bindPopup(popup_68174935c6877d762274cbbe71030392)\n",
       "        ;\n",
       "\n",
       "        \n",
       "    \n",
       "    \n",
       "                marker_a50409db63919e22815099f0c2f84663.setIcon(custom_icon_405eec426f2cb1459399fa7a3b52de09);\n",
       "            \n",
       "    \n",
       "            var marker_f1cecc49f551a98ae0f004ffbcf22fed = L.marker(\n",
       "                [43.9492493, 4.8059012],\n",
       "                {\n",
       "}\n",
       "            ).addTo(map_021cfb7fb4adb0a4b3c9c026c31b25ef);\n",
       "        \n",
       "    \n",
       "        var custom_icon_426ecfaca5b628c86f1dea3976126e2b = L.icon({\n",
       "  &quot;iconUrl&quot;: &quot;https://images.icon-icons.com/2791/PNG/512/cloudy_cloud_weather_icon_177580.png&quot;,\n",
       "  &quot;iconSize&quot;: [40, 40],\n",
       "});\n",
       "        marker_f1cecc49f551a98ae0f004ffbcf22fed.setIcon(custom_icon_426ecfaca5b628c86f1dea3976126e2b);\n",
       "        \n",
       "    \n",
       "        var popup_fd2787a7c48865e5967e4b3ef9489c78 = L.popup({\n",
       "  &quot;maxWidth&quot;: &quot;100%&quot;,\n",
       "});\n",
       "\n",
       "        \n",
       "            \n",
       "                var html_cf2fa445fb69ec5b6dacf53f347db701 = $(`&lt;div id=&quot;html_cf2fa445fb69ec5b6dacf53f347db701&quot; style=&quot;width: 100.0%; height: 100.0%;&quot;&gt;Avignon&lt;/div&gt;`)[0];\n",
       "                popup_fd2787a7c48865e5967e4b3ef9489c78.setContent(html_cf2fa445fb69ec5b6dacf53f347db701);\n",
       "            \n",
       "        \n",
       "\n",
       "        marker_f1cecc49f551a98ae0f004ffbcf22fed.bindPopup(popup_fd2787a7c48865e5967e4b3ef9489c78)\n",
       "        ;\n",
       "\n",
       "        \n",
       "    \n",
       "    \n",
       "                marker_f1cecc49f551a98ae0f004ffbcf22fed.setIcon(custom_icon_426ecfaca5b628c86f1dea3976126e2b);\n",
       "            \n",
       "    \n",
       "            var marker_e5690c3d336e7519bd2a03865d96b521 = L.marker(\n",
       "                [44.0121279, 4.4196718],\n",
       "                {\n",
       "}\n",
       "            ).addTo(map_021cfb7fb4adb0a4b3c9c026c31b25ef);\n",
       "        \n",
       "    \n",
       "        var custom_icon_200c9f2633684f358f500a478f0966ab = L.icon({\n",
       "  &quot;iconUrl&quot;: &quot;https://images.icon-icons.com/2791/PNG/512/sunny_day_weather_sun_icon_177555.png&quot;,\n",
       "  &quot;iconSize&quot;: [40, 40],\n",
       "});\n",
       "        marker_e5690c3d336e7519bd2a03865d96b521.setIcon(custom_icon_200c9f2633684f358f500a478f0966ab);\n",
       "        \n",
       "    \n",
       "        var popup_dfb96feb79ab3b22f9bb9552f59ee21d = L.popup({\n",
       "  &quot;maxWidth&quot;: &quot;100%&quot;,\n",
       "});\n",
       "\n",
       "        \n",
       "            \n",
       "                var html_532cf5e8629617d1b4c1382e4e507b42 = $(`&lt;div id=&quot;html_532cf5e8629617d1b4c1382e4e507b42&quot; style=&quot;width: 100.0%; height: 100.0%;&quot;&gt;Uzes&lt;/div&gt;`)[0];\n",
       "                popup_dfb96feb79ab3b22f9bb9552f59ee21d.setContent(html_532cf5e8629617d1b4c1382e4e507b42);\n",
       "            \n",
       "        \n",
       "\n",
       "        marker_e5690c3d336e7519bd2a03865d96b521.bindPopup(popup_dfb96feb79ab3b22f9bb9552f59ee21d)\n",
       "        ;\n",
       "\n",
       "        \n",
       "    \n",
       "    \n",
       "                marker_e5690c3d336e7519bd2a03865d96b521.setIcon(custom_icon_200c9f2633684f358f500a478f0966ab);\n",
       "            \n",
       "    \n",
       "            var marker_2be6e68a03adb803fe4414e21326bc2e = L.marker(\n",
       "                [43.8374249, 4.3600687],\n",
       "                {\n",
       "}\n",
       "            ).addTo(map_021cfb7fb4adb0a4b3c9c026c31b25ef);\n",
       "        \n",
       "    \n",
       "        var custom_icon_f6201cdbdf80d27485c6f56a4b409079 = L.icon({\n",
       "  &quot;iconUrl&quot;: &quot;https://images.icon-icons.com/2791/PNG/512/sunny_day_weather_sun_icon_177555.png&quot;,\n",
       "  &quot;iconSize&quot;: [40, 40],\n",
       "});\n",
       "        marker_2be6e68a03adb803fe4414e21326bc2e.setIcon(custom_icon_f6201cdbdf80d27485c6f56a4b409079);\n",
       "        \n",
       "    \n",
       "        var popup_d3b912aa87160ba9f8246ad69a83d641 = L.popup({\n",
       "  &quot;maxWidth&quot;: &quot;100%&quot;,\n",
       "});\n",
       "\n",
       "        \n",
       "            \n",
       "                var html_5387ca553f83f178075ac1eecccfa047 = $(`&lt;div id=&quot;html_5387ca553f83f178075ac1eecccfa047&quot; style=&quot;width: 100.0%; height: 100.0%;&quot;&gt;Nimes&lt;/div&gt;`)[0];\n",
       "                popup_d3b912aa87160ba9f8246ad69a83d641.setContent(html_5387ca553f83f178075ac1eecccfa047);\n",
       "            \n",
       "        \n",
       "\n",
       "        marker_2be6e68a03adb803fe4414e21326bc2e.bindPopup(popup_d3b912aa87160ba9f8246ad69a83d641)\n",
       "        ;\n",
       "\n",
       "        \n",
       "    \n",
       "    \n",
       "                marker_2be6e68a03adb803fe4414e21326bc2e.setIcon(custom_icon_f6201cdbdf80d27485c6f56a4b409079);\n",
       "            \n",
       "    \n",
       "            var marker_b1371350bc53e16524f19595ab47c95f = L.marker(\n",
       "                [43.5658225, 4.1912837],\n",
       "                {\n",
       "}\n",
       "            ).addTo(map_021cfb7fb4adb0a4b3c9c026c31b25ef);\n",
       "        \n",
       "    \n",
       "        var custom_icon_a47cd951dfab76c0057822a0c6d2a465 = L.icon({\n",
       "  &quot;iconUrl&quot;: &quot;https://images.icon-icons.com/2791/PNG/512/sunny_day_weather_sun_icon_177555.png&quot;,\n",
       "  &quot;iconSize&quot;: [40, 40],\n",
       "});\n",
       "        marker_b1371350bc53e16524f19595ab47c95f.setIcon(custom_icon_a47cd951dfab76c0057822a0c6d2a465);\n",
       "        \n",
       "    \n",
       "        var popup_20e90e2851e80c9dda11f8e36ae283ea = L.popup({\n",
       "  &quot;maxWidth&quot;: &quot;100%&quot;,\n",
       "});\n",
       "\n",
       "        \n",
       "            \n",
       "                var html_284c2962c23da0f0af27edd73a76943b = $(`&lt;div id=&quot;html_284c2962c23da0f0af27edd73a76943b&quot; style=&quot;width: 100.0%; height: 100.0%;&quot;&gt;Aigues Mortes&lt;/div&gt;`)[0];\n",
       "                popup_20e90e2851e80c9dda11f8e36ae283ea.setContent(html_284c2962c23da0f0af27edd73a76943b);\n",
       "            \n",
       "        \n",
       "\n",
       "        marker_b1371350bc53e16524f19595ab47c95f.bindPopup(popup_20e90e2851e80c9dda11f8e36ae283ea)\n",
       "        ;\n",
       "\n",
       "        \n",
       "    \n",
       "    \n",
       "                marker_b1371350bc53e16524f19595ab47c95f.setIcon(custom_icon_a47cd951dfab76c0057822a0c6d2a465);\n",
       "            \n",
       "    \n",
       "            var marker_cc4281a5c5bdfd7de29e1659ca7c831b = L.marker(\n",
       "                [43.4522771, 4.4287172],\n",
       "                {\n",
       "}\n",
       "            ).addTo(map_021cfb7fb4adb0a4b3c9c026c31b25ef);\n",
       "        \n",
       "    \n",
       "        var custom_icon_0820bd5d4539294f3610a7505102fd1f = L.icon({\n",
       "  &quot;iconUrl&quot;: &quot;https://images.icon-icons.com/2791/PNG/512/sunny_day_weather_sun_icon_177555.png&quot;,\n",
       "  &quot;iconSize&quot;: [40, 40],\n",
       "});\n",
       "        marker_cc4281a5c5bdfd7de29e1659ca7c831b.setIcon(custom_icon_0820bd5d4539294f3610a7505102fd1f);\n",
       "        \n",
       "    \n",
       "        var popup_325a645e3941b3600cdaedbea3f79004 = L.popup({\n",
       "  &quot;maxWidth&quot;: &quot;100%&quot;,\n",
       "});\n",
       "\n",
       "        \n",
       "            \n",
       "                var html_5fe8d3825c0bbf0d443afc26fec65759 = $(`&lt;div id=&quot;html_5fe8d3825c0bbf0d443afc26fec65759&quot; style=&quot;width: 100.0%; height: 100.0%;&quot;&gt;Saintes Maries de la mer&lt;/div&gt;`)[0];\n",
       "                popup_325a645e3941b3600cdaedbea3f79004.setContent(html_5fe8d3825c0bbf0d443afc26fec65759);\n",
       "            \n",
       "        \n",
       "\n",
       "        marker_cc4281a5c5bdfd7de29e1659ca7c831b.bindPopup(popup_325a645e3941b3600cdaedbea3f79004)\n",
       "        ;\n",
       "\n",
       "        \n",
       "    \n",
       "    \n",
       "                marker_cc4281a5c5bdfd7de29e1659ca7c831b.setIcon(custom_icon_0820bd5d4539294f3610a7505102fd1f);\n",
       "            \n",
       "    \n",
       "            var marker_87f7a3687300d5f65e55a74458e9442f = L.marker(\n",
       "                [42.52505, 3.0831554],\n",
       "                {\n",
       "}\n",
       "            ).addTo(map_021cfb7fb4adb0a4b3c9c026c31b25ef);\n",
       "        \n",
       "    \n",
       "        var custom_icon_bd266d342907f9290e63c85f3fd1a918 = L.icon({\n",
       "  &quot;iconUrl&quot;: &quot;https://images.icon-icons.com/2791/PNG/512/cloudy_cloud_weather_icon_177580.png&quot;,\n",
       "  &quot;iconSize&quot;: [40, 40],\n",
       "});\n",
       "        marker_87f7a3687300d5f65e55a74458e9442f.setIcon(custom_icon_bd266d342907f9290e63c85f3fd1a918);\n",
       "        \n",
       "    \n",
       "        var popup_508682c2c6078d75fe34386603ecb47a = L.popup({\n",
       "  &quot;maxWidth&quot;: &quot;100%&quot;,\n",
       "});\n",
       "\n",
       "        \n",
       "            \n",
       "                var html_0dbee6d4dd13c9d8a0645fbf28ac2135 = $(`&lt;div id=&quot;html_0dbee6d4dd13c9d8a0645fbf28ac2135&quot; style=&quot;width: 100.0%; height: 100.0%;&quot;&gt;Collioure&lt;/div&gt;`)[0];\n",
       "                popup_508682c2c6078d75fe34386603ecb47a.setContent(html_0dbee6d4dd13c9d8a0645fbf28ac2135);\n",
       "            \n",
       "        \n",
       "\n",
       "        marker_87f7a3687300d5f65e55a74458e9442f.bindPopup(popup_508682c2c6078d75fe34386603ecb47a)\n",
       "        ;\n",
       "\n",
       "        \n",
       "    \n",
       "    \n",
       "                marker_87f7a3687300d5f65e55a74458e9442f.setIcon(custom_icon_bd266d342907f9290e63c85f3fd1a918);\n",
       "            \n",
       "    \n",
       "            var marker_ebea3c02c2d3ec80f8bd0d23ea2d7c84 = L.marker(\n",
       "                [43.2130358, 2.3491069],\n",
       "                {\n",
       "}\n",
       "            ).addTo(map_021cfb7fb4adb0a4b3c9c026c31b25ef);\n",
       "        \n",
       "    \n",
       "        var custom_icon_b171744bbc716c5385d918aca0577de9 = L.icon({\n",
       "  &quot;iconUrl&quot;: &quot;https://images.icon-icons.com/2791/PNG/512/overcast_cloud_weather_icon_177561.png&quot;,\n",
       "  &quot;iconSize&quot;: [40, 40],\n",
       "});\n",
       "        marker_ebea3c02c2d3ec80f8bd0d23ea2d7c84.setIcon(custom_icon_b171744bbc716c5385d918aca0577de9);\n",
       "        \n",
       "    \n",
       "        var popup_103ee814d333b026f6daa4975ce01662 = L.popup({\n",
       "  &quot;maxWidth&quot;: &quot;100%&quot;,\n",
       "});\n",
       "\n",
       "        \n",
       "            \n",
       "                var html_d11500dd83e9df3141e60a181c3a93a8 = $(`&lt;div id=&quot;html_d11500dd83e9df3141e60a181c3a93a8&quot; style=&quot;width: 100.0%; height: 100.0%;&quot;&gt;Carcassonne&lt;/div&gt;`)[0];\n",
       "                popup_103ee814d333b026f6daa4975ce01662.setContent(html_d11500dd83e9df3141e60a181c3a93a8);\n",
       "            \n",
       "        \n",
       "\n",
       "        marker_ebea3c02c2d3ec80f8bd0d23ea2d7c84.bindPopup(popup_103ee814d333b026f6daa4975ce01662)\n",
       "        ;\n",
       "\n",
       "        \n",
       "    \n",
       "    \n",
       "                marker_ebea3c02c2d3ec80f8bd0d23ea2d7c84.setIcon(custom_icon_b171744bbc716c5385d918aca0577de9);\n",
       "            \n",
       "    \n",
       "            var marker_714525dd4896b97502978c99e84a3264 = L.marker(\n",
       "                [42.8458016, 1.6067586],\n",
       "                {\n",
       "}\n",
       "            ).addTo(map_021cfb7fb4adb0a4b3c9c026c31b25ef);\n",
       "        \n",
       "    \n",
       "        var custom_icon_0ac64da905b642336d6959ada69accca = L.icon({\n",
       "  &quot;iconUrl&quot;: &quot;https://images.icon-icons.com/2791/PNG/512/cloudy_cloud_weather_icon_177580.png&quot;,\n",
       "  &quot;iconSize&quot;: [40, 40],\n",
       "});\n",
       "        marker_714525dd4896b97502978c99e84a3264.setIcon(custom_icon_0ac64da905b642336d6959ada69accca);\n",
       "        \n",
       "    \n",
       "        var popup_f58cef2019d05532bc0027129c968fbe = L.popup({\n",
       "  &quot;maxWidth&quot;: &quot;100%&quot;,\n",
       "});\n",
       "\n",
       "        \n",
       "            \n",
       "                var html_04ec0060a066840815523aa837827e65 = $(`&lt;div id=&quot;html_04ec0060a066840815523aa837827e65&quot; style=&quot;width: 100.0%; height: 100.0%;&quot;&gt;Ariege&lt;/div&gt;`)[0];\n",
       "                popup_f58cef2019d05532bc0027129c968fbe.setContent(html_04ec0060a066840815523aa837827e65);\n",
       "            \n",
       "        \n",
       "\n",
       "        marker_714525dd4896b97502978c99e84a3264.bindPopup(popup_f58cef2019d05532bc0027129c968fbe)\n",
       "        ;\n",
       "\n",
       "        \n",
       "    \n",
       "    \n",
       "                marker_714525dd4896b97502978c99e84a3264.setIcon(custom_icon_0ac64da905b642336d6959ada69accca);\n",
       "            \n",
       "    \n",
       "            var marker_9468944e3c0c934818fffb05085e1d09 = L.marker(\n",
       "                [43.6044622, 1.4442469],\n",
       "                {\n",
       "}\n",
       "            ).addTo(map_021cfb7fb4adb0a4b3c9c026c31b25ef);\n",
       "        \n",
       "    \n",
       "        var custom_icon_e587a111071b50d341aca037e86ac58e = L.icon({\n",
       "  &quot;iconUrl&quot;: &quot;https://images.icon-icons.com/2791/PNG/512/cloudy_cloud_weather_icon_177580.png&quot;,\n",
       "  &quot;iconSize&quot;: [40, 40],\n",
       "});\n",
       "        marker_9468944e3c0c934818fffb05085e1d09.setIcon(custom_icon_e587a111071b50d341aca037e86ac58e);\n",
       "        \n",
       "    \n",
       "        var popup_a1192c0e96e926b92b5a79a3c6623037 = L.popup({\n",
       "  &quot;maxWidth&quot;: &quot;100%&quot;,\n",
       "});\n",
       "\n",
       "        \n",
       "            \n",
       "                var html_a5e92e98fa9ae5eecc7ea76ac8e9c328 = $(`&lt;div id=&quot;html_a5e92e98fa9ae5eecc7ea76ac8e9c328&quot; style=&quot;width: 100.0%; height: 100.0%;&quot;&gt;Toulouse&lt;/div&gt;`)[0];\n",
       "                popup_a1192c0e96e926b92b5a79a3c6623037.setContent(html_a5e92e98fa9ae5eecc7ea76ac8e9c328);\n",
       "            \n",
       "        \n",
       "\n",
       "        marker_9468944e3c0c934818fffb05085e1d09.bindPopup(popup_a1192c0e96e926b92b5a79a3c6623037)\n",
       "        ;\n",
       "\n",
       "        \n",
       "    \n",
       "    \n",
       "                marker_9468944e3c0c934818fffb05085e1d09.setIcon(custom_icon_e587a111071b50d341aca037e86ac58e);\n",
       "            \n",
       "    \n",
       "            var marker_f196e6b5e21300d43301a1e5f0a7b1b3 = L.marker(\n",
       "                [44.0175835, 1.3549991],\n",
       "                {\n",
       "}\n",
       "            ).addTo(map_021cfb7fb4adb0a4b3c9c026c31b25ef);\n",
       "        \n",
       "    \n",
       "        var custom_icon_fc15092323c4b91035ec4725be46fd76 = L.icon({\n",
       "  &quot;iconUrl&quot;: &quot;https://images.icon-icons.com/2791/PNG/512/overcast_cloud_weather_icon_177561.png&quot;,\n",
       "  &quot;iconSize&quot;: [40, 40],\n",
       "});\n",
       "        marker_f196e6b5e21300d43301a1e5f0a7b1b3.setIcon(custom_icon_fc15092323c4b91035ec4725be46fd76);\n",
       "        \n",
       "    \n",
       "        var popup_c127c60b4d5207c0331d4977cb2eee97 = L.popup({\n",
       "  &quot;maxWidth&quot;: &quot;100%&quot;,\n",
       "});\n",
       "\n",
       "        \n",
       "            \n",
       "                var html_939e5b749c7d153dd70dd404502a7e91 = $(`&lt;div id=&quot;html_939e5b749c7d153dd70dd404502a7e91&quot; style=&quot;width: 100.0%; height: 100.0%;&quot;&gt;Montauban&lt;/div&gt;`)[0];\n",
       "                popup_c127c60b4d5207c0331d4977cb2eee97.setContent(html_939e5b749c7d153dd70dd404502a7e91);\n",
       "            \n",
       "        \n",
       "\n",
       "        marker_f196e6b5e21300d43301a1e5f0a7b1b3.bindPopup(popup_c127c60b4d5207c0331d4977cb2eee97)\n",
       "        ;\n",
       "\n",
       "        \n",
       "    \n",
       "    \n",
       "                marker_f196e6b5e21300d43301a1e5f0a7b1b3.setIcon(custom_icon_fc15092323c4b91035ec4725be46fd76);\n",
       "            \n",
       "    \n",
       "            var marker_7269af89625fd31eeeb31090c64070fa = L.marker(\n",
       "                [43.4832523, -1.5592776],\n",
       "                {\n",
       "}\n",
       "            ).addTo(map_021cfb7fb4adb0a4b3c9c026c31b25ef);\n",
       "        \n",
       "    \n",
       "        var custom_icon_d3e146ffb808c3e9da1e3cff644d813d = L.icon({\n",
       "  &quot;iconUrl&quot;: &quot;https://images.icon-icons.com/2791/PNG/512/overcast_cloud_weather_icon_177561.png&quot;,\n",
       "  &quot;iconSize&quot;: [40, 40],\n",
       "});\n",
       "        marker_7269af89625fd31eeeb31090c64070fa.setIcon(custom_icon_d3e146ffb808c3e9da1e3cff644d813d);\n",
       "        \n",
       "    \n",
       "        var popup_ace3ae0a82b7f2c6976b8840ea2c6d6e = L.popup({\n",
       "  &quot;maxWidth&quot;: &quot;100%&quot;,\n",
       "});\n",
       "\n",
       "        \n",
       "            \n",
       "                var html_35d0323434a0e5a6865c22e6bf9b69f2 = $(`&lt;div id=&quot;html_35d0323434a0e5a6865c22e6bf9b69f2&quot; style=&quot;width: 100.0%; height: 100.0%;&quot;&gt;Biarritz&lt;/div&gt;`)[0];\n",
       "                popup_ace3ae0a82b7f2c6976b8840ea2c6d6e.setContent(html_35d0323434a0e5a6865c22e6bf9b69f2);\n",
       "            \n",
       "        \n",
       "\n",
       "        marker_7269af89625fd31eeeb31090c64070fa.bindPopup(popup_ace3ae0a82b7f2c6976b8840ea2c6d6e)\n",
       "        ;\n",
       "\n",
       "        \n",
       "    \n",
       "    \n",
       "                marker_7269af89625fd31eeeb31090c64070fa.setIcon(custom_icon_d3e146ffb808c3e9da1e3cff644d813d);\n",
       "            \n",
       "    \n",
       "            var marker_4bc3f54dff19035bfa0bfaa38f2ecebf = L.marker(\n",
       "                [43.4945144, -1.4736657],\n",
       "                {\n",
       "}\n",
       "            ).addTo(map_021cfb7fb4adb0a4b3c9c026c31b25ef);\n",
       "        \n",
       "    \n",
       "        var custom_icon_da576af370284a03e797908e9c355103 = L.icon({\n",
       "  &quot;iconUrl&quot;: &quot;https://images.icon-icons.com/2791/PNG/512/overcast_cloud_weather_icon_177561.png&quot;,\n",
       "  &quot;iconSize&quot;: [40, 40],\n",
       "});\n",
       "        marker_4bc3f54dff19035bfa0bfaa38f2ecebf.setIcon(custom_icon_da576af370284a03e797908e9c355103);\n",
       "        \n",
       "    \n",
       "        var popup_1e7208e18445753af4781e3c1358446a = L.popup({\n",
       "  &quot;maxWidth&quot;: &quot;100%&quot;,\n",
       "});\n",
       "\n",
       "        \n",
       "            \n",
       "                var html_e84bc4fa81c6f6c2365e20fb722615e8 = $(`&lt;div id=&quot;html_e84bc4fa81c6f6c2365e20fb722615e8&quot; style=&quot;width: 100.0%; height: 100.0%;&quot;&gt;Bayonne&lt;/div&gt;`)[0];\n",
       "                popup_1e7208e18445753af4781e3c1358446a.setContent(html_e84bc4fa81c6f6c2365e20fb722615e8);\n",
       "            \n",
       "        \n",
       "\n",
       "        marker_4bc3f54dff19035bfa0bfaa38f2ecebf.bindPopup(popup_1e7208e18445753af4781e3c1358446a)\n",
       "        ;\n",
       "\n",
       "        \n",
       "    \n",
       "    \n",
       "                marker_4bc3f54dff19035bfa0bfaa38f2ecebf.setIcon(custom_icon_da576af370284a03e797908e9c355103);\n",
       "            \n",
       "    \n",
       "            var marker_d0cfbc4e729b63f34ba8291c9cd4a330 = L.marker(\n",
       "                [46.1591126, -1.1520434],\n",
       "                {\n",
       "}\n",
       "            ).addTo(map_021cfb7fb4adb0a4b3c9c026c31b25ef);\n",
       "        \n",
       "    \n",
       "        var custom_icon_28128b98591ee9bd3fa9c8bfb1338cd6 = L.icon({\n",
       "  &quot;iconUrl&quot;: &quot;https://images.icon-icons.com/2791/PNG/512/overcast_cloud_weather_icon_177561.png&quot;,\n",
       "  &quot;iconSize&quot;: [40, 40],\n",
       "});\n",
       "        marker_d0cfbc4e729b63f34ba8291c9cd4a330.setIcon(custom_icon_28128b98591ee9bd3fa9c8bfb1338cd6);\n",
       "        \n",
       "    \n",
       "        var popup_620eb539cbeb1cb1506dc3db41bbbcfd = L.popup({\n",
       "  &quot;maxWidth&quot;: &quot;100%&quot;,\n",
       "});\n",
       "\n",
       "        \n",
       "            \n",
       "                var html_32c444030d742230bdb912e7f02a0f92 = $(`&lt;div id=&quot;html_32c444030d742230bdb912e7f02a0f92&quot; style=&quot;width: 100.0%; height: 100.0%;&quot;&gt;La Rochelle&lt;/div&gt;`)[0];\n",
       "                popup_620eb539cbeb1cb1506dc3db41bbbcfd.setContent(html_32c444030d742230bdb912e7f02a0f92);\n",
       "            \n",
       "        \n",
       "\n",
       "        marker_d0cfbc4e729b63f34ba8291c9cd4a330.bindPopup(popup_620eb539cbeb1cb1506dc3db41bbbcfd)\n",
       "        ;\n",
       "\n",
       "        \n",
       "    \n",
       "    \n",
       "                marker_d0cfbc4e729b63f34ba8291c9cd4a330.setIcon(custom_icon_28128b98591ee9bd3fa9c8bfb1338cd6);\n",
       "            \n",
       "    \n",
       "            var marker_6cf40ebd35215e84c08a81d12f42750f = L.marker(\n",
       "                [43.7496562, 6.3285616],\n",
       "                {\n",
       "}\n",
       "            ).addTo(map_021cfb7fb4adb0a4b3c9c026c31b25ef);\n",
       "        \n",
       "    \n",
       "        var custom_icon_5ae769bd286a3ceba9317c89d5dfb970 = L.icon({\n",
       "  &quot;iconUrl&quot;: &quot;https://images.icon-icons.com/2791/PNG/512/sunny_day_weather_sun_icon_177555.png&quot;,\n",
       "  &quot;iconSize&quot;: [40, 40],\n",
       "});\n",
       "        marker_6cf40ebd35215e84c08a81d12f42750f.setIcon(custom_icon_5ae769bd286a3ceba9317c89d5dfb970);\n",
       "        \n",
       "    \n",
       "        var popup_58e7fb91eef8121d6f1403fa351a9a62 = L.popup({\n",
       "  &quot;maxWidth&quot;: &quot;100%&quot;,\n",
       "});\n",
       "\n",
       "        \n",
       "            \n",
       "                var html_8c9ca233ff319c9f48e63d2ad174f0cd = $(`&lt;div id=&quot;html_8c9ca233ff319c9f48e63d2ad174f0cd&quot; style=&quot;width: 100.0%; height: 100.0%;&quot;&gt;Gorges du Verdon&lt;/div&gt;`)[0];\n",
       "                popup_58e7fb91eef8121d6f1403fa351a9a62.setContent(html_8c9ca233ff319c9f48e63d2ad174f0cd);\n",
       "            \n",
       "        \n",
       "\n",
       "        marker_6cf40ebd35215e84c08a81d12f42750f.bindPopup(popup_58e7fb91eef8121d6f1403fa351a9a62)\n",
       "        ;\n",
       "\n",
       "        \n",
       "    \n",
       "    \n",
       "                marker_6cf40ebd35215e84c08a81d12f42750f.setIcon(custom_icon_5ae769bd286a3ceba9317c89d5dfb970);\n",
       "            \n",
       "    \n",
       "            tile_layer_e5a8ca1df4e38f51d3d2e39e471e03f2.addTo(map_021cfb7fb4adb0a4b3c9c026c31b25ef);\n",
       "        \n",
       "    \n",
       "                marker_a9d99606f54dc7be18539298a8233154.setIcon(custom_icon_ff7f69d3f351f75e76c69cd77669bb4e);\n",
       "            \n",
       "    \n",
       "                marker_0c8edfefba8616992009cbb815e913db.setIcon(custom_icon_f37e483a1b7046df9ca00d6d60826ef9);\n",
       "            \n",
       "    \n",
       "                marker_43eb7bbfcf26e236d6f5e69f31179172.setIcon(custom_icon_c638a6430b13b7ea07593389a7bd842a);\n",
       "            \n",
       "    \n",
       "                marker_15379749f41a004460ff97a9df7e3999.setIcon(custom_icon_f72d0fe21e18c073d804d53595e8c09c);\n",
       "            \n",
       "    \n",
       "                marker_267e88fa107a572e49ecdd37c860df5b.setIcon(custom_icon_e411d8730f9bed32105515ea4e451e34);\n",
       "            \n",
       "    \n",
       "                marker_a90522e3007fdf7296b1f6e0239b3eaf.setIcon(custom_icon_008e25e5ac489583bea783acbae9e115);\n",
       "            \n",
       "    \n",
       "                marker_7fdd004d953bedf10bef9522e47715ec.setIcon(custom_icon_8e3a99c868fc3c5b9f3f6c4795cb8694);\n",
       "            \n",
       "    \n",
       "                marker_90288fe1c836ab4b3d1c862275498bb4.setIcon(custom_icon_6e97661ce08c24c1c2d9c07eaea5cc7d);\n",
       "            \n",
       "    \n",
       "                marker_e6180fb465ba20cfdef09ec3ee0bff1e.setIcon(custom_icon_d68bad5fec5ef3372e74d8d70a87f045);\n",
       "            \n",
       "    \n",
       "                marker_daeda4473fdf073e11d29cc1bfb076be.setIcon(custom_icon_e08a26052b6b712a1163ffae6edaee61);\n",
       "            \n",
       "    \n",
       "                marker_e9553faebb17518bfd81ded4492e7675.setIcon(custom_icon_c9ea952c611c707f96477211db05da08);\n",
       "            \n",
       "    \n",
       "                marker_bd58cf768761d2ced3bf7fb5322457f4.setIcon(custom_icon_562ff073b5054a8183a45fbd593bacd9);\n",
       "            \n",
       "    \n",
       "                marker_c8f1d783d316260618a688c6c979d820.setIcon(custom_icon_c8ffb003c3dc35ac8944c5d09fd3052a);\n",
       "            \n",
       "    \n",
       "                marker_aa969f5a81b27a6c6f7599abf79a9fe2.setIcon(custom_icon_f5f44b9b963350faef93dbbb656d0862);\n",
       "            \n",
       "    \n",
       "                marker_ed9b427b857e4b36c38760943a624b15.setIcon(custom_icon_4cad45342cba50832b3b217fb8d1ae9e);\n",
       "            \n",
       "    \n",
       "                marker_12eca1e8a330de7bce63576af69a86b7.setIcon(custom_icon_ef0b2805b4275c85724c3fca113711fa);\n",
       "            \n",
       "    \n",
       "                marker_cb1ee1840a8d9da7ec262f50342557e5.setIcon(custom_icon_07eee1764f1d7bdc8b3340b2e8cf72dd);\n",
       "            \n",
       "    \n",
       "                marker_d5f4dcf8ec44288fe2b61ca8cc805367.setIcon(custom_icon_e30f589c7962ca124b1b052747cb3e00);\n",
       "            \n",
       "    \n",
       "                marker_d5f63e3ba6f637af3286934aa1a79659.setIcon(custom_icon_6428777c0733a6da56528f684b065c8e);\n",
       "            \n",
       "    \n",
       "                marker_d372fa6608737c737068d23304062e83.setIcon(custom_icon_6b20fd809d2fd3cbc933f6f5deb51230);\n",
       "            \n",
       "    \n",
       "                marker_a50409db63919e22815099f0c2f84663.setIcon(custom_icon_405eec426f2cb1459399fa7a3b52de09);\n",
       "            \n",
       "    \n",
       "                marker_f1cecc49f551a98ae0f004ffbcf22fed.setIcon(custom_icon_426ecfaca5b628c86f1dea3976126e2b);\n",
       "            \n",
       "    \n",
       "                marker_e5690c3d336e7519bd2a03865d96b521.setIcon(custom_icon_200c9f2633684f358f500a478f0966ab);\n",
       "            \n",
       "    \n",
       "                marker_2be6e68a03adb803fe4414e21326bc2e.setIcon(custom_icon_f6201cdbdf80d27485c6f56a4b409079);\n",
       "            \n",
       "    \n",
       "                marker_b1371350bc53e16524f19595ab47c95f.setIcon(custom_icon_a47cd951dfab76c0057822a0c6d2a465);\n",
       "            \n",
       "    \n",
       "                marker_cc4281a5c5bdfd7de29e1659ca7c831b.setIcon(custom_icon_0820bd5d4539294f3610a7505102fd1f);\n",
       "            \n",
       "    \n",
       "                marker_87f7a3687300d5f65e55a74458e9442f.setIcon(custom_icon_bd266d342907f9290e63c85f3fd1a918);\n",
       "            \n",
       "    \n",
       "                marker_ebea3c02c2d3ec80f8bd0d23ea2d7c84.setIcon(custom_icon_b171744bbc716c5385d918aca0577de9);\n",
       "            \n",
       "    \n",
       "                marker_714525dd4896b97502978c99e84a3264.setIcon(custom_icon_0ac64da905b642336d6959ada69accca);\n",
       "            \n",
       "    \n",
       "                marker_9468944e3c0c934818fffb05085e1d09.setIcon(custom_icon_e587a111071b50d341aca037e86ac58e);\n",
       "            \n",
       "    \n",
       "                marker_f196e6b5e21300d43301a1e5f0a7b1b3.setIcon(custom_icon_fc15092323c4b91035ec4725be46fd76);\n",
       "            \n",
       "    \n",
       "                marker_7269af89625fd31eeeb31090c64070fa.setIcon(custom_icon_d3e146ffb808c3e9da1e3cff644d813d);\n",
       "            \n",
       "    \n",
       "                marker_4bc3f54dff19035bfa0bfaa38f2ecebf.setIcon(custom_icon_da576af370284a03e797908e9c355103);\n",
       "            \n",
       "    \n",
       "                marker_d0cfbc4e729b63f34ba8291c9cd4a330.setIcon(custom_icon_28128b98591ee9bd3fa9c8bfb1338cd6);\n",
       "            \n",
       "    \n",
       "                marker_6cf40ebd35215e84c08a81d12f42750f.setIcon(custom_icon_5ae769bd286a3ceba9317c89d5dfb970);\n",
       "            \n",
       "&lt;/script&gt;\n",
       "&lt;/html&gt;\" style=\"position:absolute;width:100%;height:100%;left:0;top:0;border:none !important;\" allowfullscreen webkitallowfullscreen mozallowfullscreen></iframe></div></div>"
      ],
      "text/plain": [
       "<folium.folium.Map at 0x1e6a329fb80>"
      ]
     },
     "execution_count": 389,
     "metadata": {},
     "output_type": "execute_result"
    }
   ],
   "source": [
    "# Dictionnaire pour mapper les descriptions aux icônes\n",
    "icon_mapping = {\n",
    "    'clear sky': \"https://images.icon-icons.com/2791/PNG/512/sunny_day_weather_sun_icon_177555.png\",  \n",
    "    'scattered clouds': 'https://images.icon-icons.com/2791/PNG/512/partly_cloudy_day_sun_clouds_weather_icon_177560.png',\n",
    "    'few clouds' : 'https://images.icon-icons.com/857/PNG/512/weather-2_icon-icons.com_67742.png',\n",
    "    'broken clouds': 'https://images.icon-icons.com/2791/PNG/512/cloudy_cloud_weather_icon_177580.png',\n",
    "    'overcast clouds': 'https://images.icon-icons.com/2791/PNG/512/overcast_cloud_weather_icon_177561.png',\n",
    "    'light intensity drizzle rain' : 'https://images.icon-icons.com/139/PNG/512/drizzle_day_weather_20907.png',\n",
    "    'light intensity drizzle': 'https://images.icon-icons.com/139/PNG/512/drizzle_day_weather_20907.png',\n",
    "    'mist': 'https://images.icon-icons.com/2791/PNG/512/fog_weather_icon_177578.png',\n",
    "    'light rain' : 'https://images.icon-icons.com/2791/PNG/512/rain_cloud_weather_icon_177568.png',\n",
    "    'heavy rain' : 'https://images.icon-icons.com/2791/PNG/512/heavy_rain_weather_icon_177574.png',\n",
    "    'heavy intensity rain' : \"https://images.icon-icons.com/2791/PNG/512/heavy_rain_day_weather_icon_177573.png\",\n",
    "    'moderate rain' : 'https://images.icon-icons.com/2791/PNG/512/heavy_rain_day_weather_icon_177573.png',\n",
    "    'thunder storm' : 'https://images.icon-icons.com/2791/PNG/512/thunder_thunderbolt_cloud_weather_icon_177554.png',\n",
    "    'snow' : 'https://images.icon-icons.com/2791/PNG/512/heavy_snow_weather_icon_177571.png'\n",
    "}\n",
    "\n",
    "# Créer une carte centrée sur la France\n",
    "map = folium.Map(location=[46.603354, 1.888334], zoom_start=6)\n",
    "\n",
    "# Ajouter les villes à la carte avec des icônes personnalisées\n",
    "for i, row in bc.iterrows():\n",
    "    icon_url = icon_mapping.get(row['description'], 'https://images.icon-icons.com/1744/PNG/512/3643775-caution-exclamation-mark-sign-triangle_113444.png')  #si non trouvé dans le dico, ce logo apparait\n",
    "    folium.Marker(\n",
    "        location=[row['lat'], row['lon']],\n",
    "        popup=row['cities'],\n",
    "        icon=folium.CustomIcon(icon_url, icon_size=(40, 40))  # Ajustez la taille de l'icône si nécessaire\n",
    "    ).add_to(map)\n",
    "\n",
    "# Sauvegarder la carte dans un fichier HTML\n",
    "map.save('maps/map_meteo_35_best_city.html')\n",
    "\n",
    "# Afficher la carte\n",
    "map\n"
   ]
  },
  {
   "cell_type": "markdown",
   "metadata": {},
   "source": [
    "# Selection des meilleures destinations"
   ]
  },
  {
   "cell_type": "markdown",
   "metadata": {},
   "source": [
    "Nous sommes au printemps. Nous cherchons une distination qui nous changerait de la grisaille parisienne. Pour définir les villes avec la meilleure météo, nous pouvons définir les conditions suivantes :\n",
    "- ciel dégagé\n",
    "- hautes température rééel et ressentie\n",
    "- Indice UV élevé\n",
    "- faible taux d'humidité\n",
    "- faible vitesse du vent"
   ]
  },
  {
   "cell_type": "code",
   "execution_count": 384,
   "metadata": {},
   "outputs": [
    {
     "name": "stdout",
     "output_type": "stream",
     "text": [
      "Villes avec la meilleure météo :\n",
      "{'Bormes les Mimosas', 'Marseille', 'Aigues Mortes', 'Nimes', 'Cassis'}\n"
     ]
    }
   ],
   "source": [
    "# Filtrer les villes avec la description \"clear sky\"\n",
    "filtered_bc = bc[bc['description'] == 'clear sky']\n",
    "\n",
    "# Sélectionner les 5 meilleures villes pour chaque critère parmi les villes filtrées.\n",
    "top_feels_like = set(filtered_bc.nlargest(5, 'feels_like')['cities'])# critère le plus important, donc le plus restrictif\n",
    "#top_temp = set(filtered_bc.nlargest(10, 'temp')['cities']) #critère retiré car redondant avec la précédent\n",
    "top_uvi = set(filtered_bc.nlargest(10, 'uvi')['cities'])\n",
    "top_humidity = set(filtered_bc.nsmallest(10, 'humidity')['cities'])\n",
    "top_wind_speed = set(filtered_bc.nsmallest(15, 'wind_speed')['cities'])\n",
    "\n",
    "# Trouver l'intersection des ensembles\n",
    "best_weather = top_feels_like &  top_uvi & top_humidity & top_wind_speed\n",
    "#top_temp &\n",
    "\n",
    "# Afficher la liste des meilleures villes\n",
    "print(\"Villes avec la meilleure météo :\")\n",
    "print(best_weather)"
   ]
  },
  {
   "cell_type": "code",
   "execution_count": 385,
   "metadata": {},
   "outputs": [
    {
     "data": {
      "text/html": [
       "<div>\n",
       "<style scoped>\n",
       "    .dataframe tbody tr th:only-of-type {\n",
       "        vertical-align: middle;\n",
       "    }\n",
       "\n",
       "    .dataframe tbody tr th {\n",
       "        vertical-align: top;\n",
       "    }\n",
       "\n",
       "    .dataframe thead th {\n",
       "        text-align: right;\n",
       "    }\n",
       "</style>\n",
       "<table border=\"1\" class=\"dataframe\">\n",
       "  <thead>\n",
       "    <tr style=\"text-align: right;\">\n",
       "      <th></th>\n",
       "      <th>cities</th>\n",
       "      <th>country</th>\n",
       "      <th>state</th>\n",
       "      <th>lat</th>\n",
       "      <th>lon</th>\n",
       "      <th>date</th>\n",
       "      <th>temp</th>\n",
       "      <th>feels_like</th>\n",
       "      <th>uvi</th>\n",
       "      <th>humidity</th>\n",
       "      <th>wind_speed</th>\n",
       "      <th>description</th>\n",
       "    </tr>\n",
       "  </thead>\n",
       "  <tbody>\n",
       "    <tr>\n",
       "      <th>17</th>\n",
       "      <td>Bormes les Mimosas</td>\n",
       "      <td>FR</td>\n",
       "      <td>Provence-Alpes-Côte d'Azur</td>\n",
       "      <td>43.150697</td>\n",
       "      <td>6.341928</td>\n",
       "      <td>2025-04-24 12:50:06</td>\n",
       "      <td>22.24</td>\n",
       "      <td>21.54</td>\n",
       "      <td>6.05</td>\n",
       "      <td>39.0</td>\n",
       "      <td>5.66</td>\n",
       "      <td>clear sky</td>\n",
       "    </tr>\n",
       "    <tr>\n",
       "      <th>24</th>\n",
       "      <td>Aigues Mortes</td>\n",
       "      <td>FR</td>\n",
       "      <td>Occitania</td>\n",
       "      <td>43.565823</td>\n",
       "      <td>4.191284</td>\n",
       "      <td>2025-04-24 12:50:07</td>\n",
       "      <td>21.87</td>\n",
       "      <td>21.16</td>\n",
       "      <td>6.10</td>\n",
       "      <td>40.0</td>\n",
       "      <td>6.69</td>\n",
       "      <td>clear sky</td>\n",
       "    </tr>\n",
       "    <tr>\n",
       "      <th>23</th>\n",
       "      <td>Nimes</td>\n",
       "      <td>FR</td>\n",
       "      <td>Occitania</td>\n",
       "      <td>43.837425</td>\n",
       "      <td>4.360069</td>\n",
       "      <td>2025-04-24 12:50:07</td>\n",
       "      <td>21.22</td>\n",
       "      <td>20.44</td>\n",
       "      <td>6.10</td>\n",
       "      <td>40.0</td>\n",
       "      <td>7.72</td>\n",
       "      <td>clear sky</td>\n",
       "    </tr>\n",
       "    <tr>\n",
       "      <th>19</th>\n",
       "      <td>Marseille</td>\n",
       "      <td>FR</td>\n",
       "      <td>Provence-Alpes-Côte d'Azur</td>\n",
       "      <td>43.296174</td>\n",
       "      <td>5.369953</td>\n",
       "      <td>2025-04-24 12:50:06</td>\n",
       "      <td>20.30</td>\n",
       "      <td>19.27</td>\n",
       "      <td>6.03</td>\n",
       "      <td>34.0</td>\n",
       "      <td>13.89</td>\n",
       "      <td>clear sky</td>\n",
       "    </tr>\n",
       "    <tr>\n",
       "      <th>18</th>\n",
       "      <td>Cassis</td>\n",
       "      <td>FR</td>\n",
       "      <td>Provence-Alpes-Côte d'Azur</td>\n",
       "      <td>43.214036</td>\n",
       "      <td>5.539632</td>\n",
       "      <td>2025-04-24 12:50:06</td>\n",
       "      <td>20.17</td>\n",
       "      <td>19.13</td>\n",
       "      <td>6.08</td>\n",
       "      <td>34.0</td>\n",
       "      <td>13.70</td>\n",
       "      <td>clear sky</td>\n",
       "    </tr>\n",
       "  </tbody>\n",
       "</table>\n",
       "</div>"
      ],
      "text/plain": [
       "                cities country                       state        lat  \\\n",
       "17  Bormes les Mimosas      FR  Provence-Alpes-Côte d'Azur  43.150697   \n",
       "24       Aigues Mortes      FR                   Occitania  43.565823   \n",
       "23               Nimes      FR                   Occitania  43.837425   \n",
       "19           Marseille      FR  Provence-Alpes-Côte d'Azur  43.296174   \n",
       "18              Cassis      FR  Provence-Alpes-Côte d'Azur  43.214036   \n",
       "\n",
       "         lon                 date   temp  feels_like   uvi  humidity  \\\n",
       "17  6.341928  2025-04-24 12:50:06  22.24       21.54  6.05      39.0   \n",
       "24  4.191284  2025-04-24 12:50:07  21.87       21.16  6.10      40.0   \n",
       "23  4.360069  2025-04-24 12:50:07  21.22       20.44  6.10      40.0   \n",
       "19  5.369953  2025-04-24 12:50:06  20.30       19.27  6.03      34.0   \n",
       "18  5.539632  2025-04-24 12:50:06  20.17       19.13  6.08      34.0   \n",
       "\n",
       "    wind_speed description  \n",
       "17        5.66   clear sky  \n",
       "24        6.69   clear sky  \n",
       "23        7.72   clear sky  \n",
       "19       13.89   clear sky  \n",
       "18       13.70   clear sky  "
      ]
     },
     "execution_count": 385,
     "metadata": {},
     "output_type": "execute_result"
    }
   ],
   "source": [
    "best_weather = list(best_weather) #transformer le set en liste\n",
    "best_weather_df = bc[bc['cities'].isin(best_weather)] #puis filter le dataframe sur la liste\n",
    "best_weather_df = best_weather_df.sort_values(by='feels_like', ascending=False)\n",
    "best_weather_df\n"
   ]
  },
  {
   "cell_type": "code",
   "execution_count": 386,
   "metadata": {},
   "outputs": [
    {
     "data": {
      "text/plain": [
       "17    Bormes les Mimosas\n",
       "24         Aigues Mortes\n",
       "23                 Nimes\n",
       "19             Marseille\n",
       "18                Cassis\n",
       "Name: cities, dtype: object"
      ]
     },
     "execution_count": 386,
     "metadata": {},
     "output_type": "execute_result"
    }
   ],
   "source": [
    "best_weather_df[\"cities\"]"
   ]
  },
  {
   "cell_type": "code",
   "execution_count": 387,
   "metadata": {},
   "outputs": [],
   "source": [
    "# Enregistrer le DataFrame en fichier CSV\n",
    "best_weather_df.to_csv('data/top_best_cities_weather.csv', index=False)"
   ]
  },
  {
   "cell_type": "code",
   "execution_count": 392,
   "metadata": {},
   "outputs": [
    {
     "data": {
      "text/html": [
       "<div>\n",
       "<style scoped>\n",
       "    .dataframe tbody tr th:only-of-type {\n",
       "        vertical-align: middle;\n",
       "    }\n",
       "\n",
       "    .dataframe tbody tr th {\n",
       "        vertical-align: top;\n",
       "    }\n",
       "\n",
       "    .dataframe thead th {\n",
       "        text-align: right;\n",
       "    }\n",
       "</style>\n",
       "<table border=\"1\" class=\"dataframe\">\n",
       "  <thead>\n",
       "    <tr style=\"text-align: right;\">\n",
       "      <th></th>\n",
       "      <th>cities</th>\n",
       "      <th>country</th>\n",
       "      <th>state</th>\n",
       "      <th>lat</th>\n",
       "      <th>lon</th>\n",
       "      <th>date</th>\n",
       "      <th>temp</th>\n",
       "      <th>feels_like</th>\n",
       "      <th>uvi</th>\n",
       "      <th>humidity</th>\n",
       "      <th>wind_speed</th>\n",
       "      <th>description</th>\n",
       "    </tr>\n",
       "  </thead>\n",
       "  <tbody>\n",
       "    <tr>\n",
       "      <th>0</th>\n",
       "      <td>Bormes les Mimosas</td>\n",
       "      <td>FR</td>\n",
       "      <td>Provence-Alpes-Côte d'Azur</td>\n",
       "      <td>43.150697</td>\n",
       "      <td>6.341928</td>\n",
       "      <td>2025-04-24 12:50:06</td>\n",
       "      <td>22.24</td>\n",
       "      <td>21.54</td>\n",
       "      <td>6.05</td>\n",
       "      <td>39.0</td>\n",
       "      <td>5.66</td>\n",
       "      <td>clear sky</td>\n",
       "    </tr>\n",
       "    <tr>\n",
       "      <th>1</th>\n",
       "      <td>Aigues Mortes</td>\n",
       "      <td>FR</td>\n",
       "      <td>Occitania</td>\n",
       "      <td>43.565823</td>\n",
       "      <td>4.191284</td>\n",
       "      <td>2025-04-24 12:50:07</td>\n",
       "      <td>21.87</td>\n",
       "      <td>21.16</td>\n",
       "      <td>6.10</td>\n",
       "      <td>40.0</td>\n",
       "      <td>6.69</td>\n",
       "      <td>clear sky</td>\n",
       "    </tr>\n",
       "    <tr>\n",
       "      <th>2</th>\n",
       "      <td>Nimes</td>\n",
       "      <td>FR</td>\n",
       "      <td>Occitania</td>\n",
       "      <td>43.837425</td>\n",
       "      <td>4.360069</td>\n",
       "      <td>2025-04-24 12:50:07</td>\n",
       "      <td>21.22</td>\n",
       "      <td>20.44</td>\n",
       "      <td>6.10</td>\n",
       "      <td>40.0</td>\n",
       "      <td>7.72</td>\n",
       "      <td>clear sky</td>\n",
       "    </tr>\n",
       "    <tr>\n",
       "      <th>3</th>\n",
       "      <td>Marseille</td>\n",
       "      <td>FR</td>\n",
       "      <td>Provence-Alpes-Côte d'Azur</td>\n",
       "      <td>43.296174</td>\n",
       "      <td>5.369953</td>\n",
       "      <td>2025-04-24 12:50:06</td>\n",
       "      <td>20.30</td>\n",
       "      <td>19.27</td>\n",
       "      <td>6.03</td>\n",
       "      <td>34.0</td>\n",
       "      <td>13.89</td>\n",
       "      <td>clear sky</td>\n",
       "    </tr>\n",
       "    <tr>\n",
       "      <th>4</th>\n",
       "      <td>Cassis</td>\n",
       "      <td>FR</td>\n",
       "      <td>Provence-Alpes-Côte d'Azur</td>\n",
       "      <td>43.214036</td>\n",
       "      <td>5.539632</td>\n",
       "      <td>2025-04-24 12:50:06</td>\n",
       "      <td>20.17</td>\n",
       "      <td>19.13</td>\n",
       "      <td>6.08</td>\n",
       "      <td>34.0</td>\n",
       "      <td>13.70</td>\n",
       "      <td>clear sky</td>\n",
       "    </tr>\n",
       "  </tbody>\n",
       "</table>\n",
       "</div>"
      ],
      "text/plain": [
       "               cities country                       state        lat  \\\n",
       "0  Bormes les Mimosas      FR  Provence-Alpes-Côte d'Azur  43.150697   \n",
       "1       Aigues Mortes      FR                   Occitania  43.565823   \n",
       "2               Nimes      FR                   Occitania  43.837425   \n",
       "3           Marseille      FR  Provence-Alpes-Côte d'Azur  43.296174   \n",
       "4              Cassis      FR  Provence-Alpes-Côte d'Azur  43.214036   \n",
       "\n",
       "        lon                 date   temp  feels_like   uvi  humidity  \\\n",
       "0  6.341928  2025-04-24 12:50:06  22.24       21.54  6.05      39.0   \n",
       "1  4.191284  2025-04-24 12:50:07  21.87       21.16  6.10      40.0   \n",
       "2  4.360069  2025-04-24 12:50:07  21.22       20.44  6.10      40.0   \n",
       "3  5.369953  2025-04-24 12:50:06  20.30       19.27  6.03      34.0   \n",
       "4  5.539632  2025-04-24 12:50:06  20.17       19.13  6.08      34.0   \n",
       "\n",
       "   wind_speed description  \n",
       "0        5.66   clear sky  \n",
       "1        6.69   clear sky  \n",
       "2        7.72   clear sky  \n",
       "3       13.89   clear sky  \n",
       "4       13.70   clear sky  "
      ]
     },
     "execution_count": 392,
     "metadata": {},
     "output_type": "execute_result"
    }
   ],
   "source": [
    "best_weather_df = pd.read_csv(\"data/top_best_cities_weather.csv\")\n",
    "best_weather_df"
   ]
  },
  {
   "cell_type": "code",
   "execution_count": 393,
   "metadata": {},
   "outputs": [
    {
     "data": {
      "text/html": [
       "<div style=\"width:100%;\"><div style=\"position:relative;width:100%;height:0;padding-bottom:60%;\"><span style=\"color:#565656\">Make this Notebook Trusted to load map: File -> Trust Notebook</span><iframe srcdoc=\"&lt;!DOCTYPE html&gt;\n",
       "&lt;html&gt;\n",
       "&lt;head&gt;\n",
       "    \n",
       "    &lt;meta http-equiv=&quot;content-type&quot; content=&quot;text/html; charset=UTF-8&quot; /&gt;\n",
       "    \n",
       "        &lt;script&gt;\n",
       "            L_NO_TOUCH = false;\n",
       "            L_DISABLE_3D = false;\n",
       "        &lt;/script&gt;\n",
       "    \n",
       "    &lt;style&gt;html, body {width: 100%;height: 100%;margin: 0;padding: 0;}&lt;/style&gt;\n",
       "    &lt;style&gt;#map {position:absolute;top:0;bottom:0;right:0;left:0;}&lt;/style&gt;\n",
       "    &lt;script src=&quot;https://cdn.jsdelivr.net/npm/leaflet@1.9.3/dist/leaflet.js&quot;&gt;&lt;/script&gt;\n",
       "    &lt;script src=&quot;https://code.jquery.com/jquery-3.7.1.min.js&quot;&gt;&lt;/script&gt;\n",
       "    &lt;script src=&quot;https://cdn.jsdelivr.net/npm/bootstrap@5.2.2/dist/js/bootstrap.bundle.min.js&quot;&gt;&lt;/script&gt;\n",
       "    &lt;script src=&quot;https://cdnjs.cloudflare.com/ajax/libs/Leaflet.awesome-markers/2.0.2/leaflet.awesome-markers.js&quot;&gt;&lt;/script&gt;\n",
       "    &lt;link rel=&quot;stylesheet&quot; href=&quot;https://cdn.jsdelivr.net/npm/leaflet@1.9.3/dist/leaflet.css&quot;/&gt;\n",
       "    &lt;link rel=&quot;stylesheet&quot; href=&quot;https://cdn.jsdelivr.net/npm/bootstrap@5.2.2/dist/css/bootstrap.min.css&quot;/&gt;\n",
       "    &lt;link rel=&quot;stylesheet&quot; href=&quot;https://netdna.bootstrapcdn.com/bootstrap/3.0.0/css/bootstrap-glyphicons.css&quot;/&gt;\n",
       "    &lt;link rel=&quot;stylesheet&quot; href=&quot;https://cdn.jsdelivr.net/npm/@fortawesome/fontawesome-free@6.2.0/css/all.min.css&quot;/&gt;\n",
       "    &lt;link rel=&quot;stylesheet&quot; href=&quot;https://cdnjs.cloudflare.com/ajax/libs/Leaflet.awesome-markers/2.0.2/leaflet.awesome-markers.css&quot;/&gt;\n",
       "    &lt;link rel=&quot;stylesheet&quot; href=&quot;https://cdn.jsdelivr.net/gh/python-visualization/folium/folium/templates/leaflet.awesome.rotate.min.css&quot;/&gt;\n",
       "    \n",
       "            &lt;meta name=&quot;viewport&quot; content=&quot;width=device-width,\n",
       "                initial-scale=1.0, maximum-scale=1.0, user-scalable=no&quot; /&gt;\n",
       "            &lt;style&gt;\n",
       "                #map_05d8082386a4591be842cb5704d36578 {\n",
       "                    position: relative;\n",
       "                    width: 100.0%;\n",
       "                    height: 100.0%;\n",
       "                    left: 0.0%;\n",
       "                    top: 0.0%;\n",
       "                }\n",
       "                .leaflet-container { font-size: 1rem; }\n",
       "            &lt;/style&gt;\n",
       "        \n",
       "&lt;/head&gt;\n",
       "&lt;body&gt;\n",
       "    \n",
       "    \n",
       "            &lt;div class=&quot;folium-map&quot; id=&quot;map_05d8082386a4591be842cb5704d36578&quot; &gt;&lt;/div&gt;\n",
       "        \n",
       "&lt;/body&gt;\n",
       "&lt;script&gt;\n",
       "    \n",
       "    \n",
       "            var map_05d8082386a4591be842cb5704d36578 = L.map(\n",
       "                &quot;map_05d8082386a4591be842cb5704d36578&quot;,\n",
       "                {\n",
       "                    center: [46.603354, 1.888334],\n",
       "                    crs: L.CRS.EPSG3857,\n",
       "                    ...{\n",
       "  &quot;zoom&quot;: 6,\n",
       "  &quot;zoomControl&quot;: true,\n",
       "  &quot;preferCanvas&quot;: false,\n",
       "}\n",
       "\n",
       "                }\n",
       "            );\n",
       "\n",
       "            \n",
       "\n",
       "        \n",
       "    \n",
       "            var tile_layer_23e916fca8fa02a375f6c0030a68105c = L.tileLayer(\n",
       "                &quot;https://tile.openstreetmap.org/{z}/{x}/{y}.png&quot;,\n",
       "                {\n",
       "  &quot;minZoom&quot;: 0,\n",
       "  &quot;maxZoom&quot;: 19,\n",
       "  &quot;maxNativeZoom&quot;: 19,\n",
       "  &quot;noWrap&quot;: false,\n",
       "  &quot;attribution&quot;: &quot;\\u0026copy; \\u003ca href=\\&quot;https://www.openstreetmap.org/copyright\\&quot;\\u003eOpenStreetMap\\u003c/a\\u003e contributors&quot;,\n",
       "  &quot;subdomains&quot;: &quot;abc&quot;,\n",
       "  &quot;detectRetina&quot;: false,\n",
       "  &quot;tms&quot;: false,\n",
       "  &quot;opacity&quot;: 1,\n",
       "}\n",
       "\n",
       "            );\n",
       "        \n",
       "    \n",
       "            tile_layer_23e916fca8fa02a375f6c0030a68105c.addTo(map_05d8082386a4591be842cb5704d36578);\n",
       "        \n",
       "    \n",
       "            var marker_da8c8f1fb1c296414464d3fe9d527c70 = L.marker(\n",
       "                [43.1506968, 6.3419285],\n",
       "                {\n",
       "}\n",
       "            ).addTo(map_05d8082386a4591be842cb5704d36578);\n",
       "        \n",
       "    \n",
       "        var custom_icon_fe35373c59d5b63c8a04a9f163c36cd8 = L.icon({\n",
       "  &quot;iconUrl&quot;: &quot;https://images.icon-icons.com/3565/PNG/512/tree_flower_plant_nature_landscape_icon_225325.png&quot;,\n",
       "  &quot;iconSize&quot;: [40, 40],\n",
       "});\n",
       "        marker_da8c8f1fb1c296414464d3fe9d527c70.setIcon(custom_icon_fe35373c59d5b63c8a04a9f163c36cd8);\n",
       "        \n",
       "    \n",
       "        var popup_7eae6b58b91489abf506f7f9dce73fa1 = L.popup({\n",
       "  &quot;maxWidth&quot;: &quot;100%&quot;,\n",
       "});\n",
       "\n",
       "        \n",
       "            \n",
       "                var html_ea42abd331e90a14566d8ec96822327a = $(`&lt;div id=&quot;html_ea42abd331e90a14566d8ec96822327a&quot; style=&quot;width: 100.0%; height: 100.0%;&quot;&gt;Bormes les Mimosas&lt;/div&gt;`)[0];\n",
       "                popup_7eae6b58b91489abf506f7f9dce73fa1.setContent(html_ea42abd331e90a14566d8ec96822327a);\n",
       "            \n",
       "        \n",
       "\n",
       "        marker_da8c8f1fb1c296414464d3fe9d527c70.bindPopup(popup_7eae6b58b91489abf506f7f9dce73fa1)\n",
       "        ;\n",
       "\n",
       "        \n",
       "    \n",
       "    \n",
       "                marker_da8c8f1fb1c296414464d3fe9d527c70.setIcon(custom_icon_fe35373c59d5b63c8a04a9f163c36cd8);\n",
       "            \n",
       "    \n",
       "            var marker_7bd08e048b2ba9fb915b73e155f079df = L.marker(\n",
       "                [43.5658225, 4.1912837],\n",
       "                {\n",
       "}\n",
       "            ).addTo(map_05d8082386a4591be842cb5704d36578);\n",
       "        \n",
       "    \n",
       "        var custom_icon_ad7aaa904fefb65cfdad2145567eb157 = L.icon({\n",
       "  &quot;iconUrl&quot;: &quot;https://images.icon-icons.com/3565/PNG/512/tree_flower_plant_nature_landscape_icon_225325.png&quot;,\n",
       "  &quot;iconSize&quot;: [40, 40],\n",
       "});\n",
       "        marker_7bd08e048b2ba9fb915b73e155f079df.setIcon(custom_icon_ad7aaa904fefb65cfdad2145567eb157);\n",
       "        \n",
       "    \n",
       "        var popup_59d558a71e349b5a3e5768eb68fca80d = L.popup({\n",
       "  &quot;maxWidth&quot;: &quot;100%&quot;,\n",
       "});\n",
       "\n",
       "        \n",
       "            \n",
       "                var html_8258ae23ca76af09acd359685f6c98af = $(`&lt;div id=&quot;html_8258ae23ca76af09acd359685f6c98af&quot; style=&quot;width: 100.0%; height: 100.0%;&quot;&gt;Aigues Mortes&lt;/div&gt;`)[0];\n",
       "                popup_59d558a71e349b5a3e5768eb68fca80d.setContent(html_8258ae23ca76af09acd359685f6c98af);\n",
       "            \n",
       "        \n",
       "\n",
       "        marker_7bd08e048b2ba9fb915b73e155f079df.bindPopup(popup_59d558a71e349b5a3e5768eb68fca80d)\n",
       "        ;\n",
       "\n",
       "        \n",
       "    \n",
       "    \n",
       "                marker_7bd08e048b2ba9fb915b73e155f079df.setIcon(custom_icon_ad7aaa904fefb65cfdad2145567eb157);\n",
       "            \n",
       "    \n",
       "            var marker_6f051821c4da7a5df7943fe61eb5ffbf = L.marker(\n",
       "                [43.8374249, 4.3600687],\n",
       "                {\n",
       "}\n",
       "            ).addTo(map_05d8082386a4591be842cb5704d36578);\n",
       "        \n",
       "    \n",
       "        var custom_icon_4d03ab2f0f7206ae7ce7294b9f8ed3e5 = L.icon({\n",
       "  &quot;iconUrl&quot;: &quot;https://images.icon-icons.com/3565/PNG/512/tree_flower_plant_nature_landscape_icon_225325.png&quot;,\n",
       "  &quot;iconSize&quot;: [40, 40],\n",
       "});\n",
       "        marker_6f051821c4da7a5df7943fe61eb5ffbf.setIcon(custom_icon_4d03ab2f0f7206ae7ce7294b9f8ed3e5);\n",
       "        \n",
       "    \n",
       "        var popup_cff74e91f507e202b6e638cb29eb7abd = L.popup({\n",
       "  &quot;maxWidth&quot;: &quot;100%&quot;,\n",
       "});\n",
       "\n",
       "        \n",
       "            \n",
       "                var html_0a5fff64ba08a17ec960e104232c89e7 = $(`&lt;div id=&quot;html_0a5fff64ba08a17ec960e104232c89e7&quot; style=&quot;width: 100.0%; height: 100.0%;&quot;&gt;Nimes&lt;/div&gt;`)[0];\n",
       "                popup_cff74e91f507e202b6e638cb29eb7abd.setContent(html_0a5fff64ba08a17ec960e104232c89e7);\n",
       "            \n",
       "        \n",
       "\n",
       "        marker_6f051821c4da7a5df7943fe61eb5ffbf.bindPopup(popup_cff74e91f507e202b6e638cb29eb7abd)\n",
       "        ;\n",
       "\n",
       "        \n",
       "    \n",
       "    \n",
       "                marker_6f051821c4da7a5df7943fe61eb5ffbf.setIcon(custom_icon_4d03ab2f0f7206ae7ce7294b9f8ed3e5);\n",
       "            \n",
       "    \n",
       "            var marker_8a4ed06ff47e111f5fdf7d11a9717d85 = L.marker(\n",
       "                [43.2961743, 5.3699525],\n",
       "                {\n",
       "}\n",
       "            ).addTo(map_05d8082386a4591be842cb5704d36578);\n",
       "        \n",
       "    \n",
       "        var custom_icon_20951566f2fff252ca37195ca25b254e = L.icon({\n",
       "  &quot;iconUrl&quot;: &quot;https://images.icon-icons.com/3565/PNG/512/tree_flower_plant_nature_landscape_icon_225325.png&quot;,\n",
       "  &quot;iconSize&quot;: [40, 40],\n",
       "});\n",
       "        marker_8a4ed06ff47e111f5fdf7d11a9717d85.setIcon(custom_icon_20951566f2fff252ca37195ca25b254e);\n",
       "        \n",
       "    \n",
       "        var popup_d1c6a268f155b7254efa0b478542caae = L.popup({\n",
       "  &quot;maxWidth&quot;: &quot;100%&quot;,\n",
       "});\n",
       "\n",
       "        \n",
       "            \n",
       "                var html_ec2581e105b93b3ca8e6684a1c471d49 = $(`&lt;div id=&quot;html_ec2581e105b93b3ca8e6684a1c471d49&quot; style=&quot;width: 100.0%; height: 100.0%;&quot;&gt;Marseille&lt;/div&gt;`)[0];\n",
       "                popup_d1c6a268f155b7254efa0b478542caae.setContent(html_ec2581e105b93b3ca8e6684a1c471d49);\n",
       "            \n",
       "        \n",
       "\n",
       "        marker_8a4ed06ff47e111f5fdf7d11a9717d85.bindPopup(popup_d1c6a268f155b7254efa0b478542caae)\n",
       "        ;\n",
       "\n",
       "        \n",
       "    \n",
       "    \n",
       "                marker_8a4ed06ff47e111f5fdf7d11a9717d85.setIcon(custom_icon_20951566f2fff252ca37195ca25b254e);\n",
       "            \n",
       "    \n",
       "            var marker_40bc40525852cabe6699f168095a498b = L.marker(\n",
       "                [43.2140359, 5.5396318],\n",
       "                {\n",
       "}\n",
       "            ).addTo(map_05d8082386a4591be842cb5704d36578);\n",
       "        \n",
       "    \n",
       "        var custom_icon_c5bf14ecff1dcddabd30a23f93645897 = L.icon({\n",
       "  &quot;iconUrl&quot;: &quot;https://images.icon-icons.com/3565/PNG/512/tree_flower_plant_nature_landscape_icon_225325.png&quot;,\n",
       "  &quot;iconSize&quot;: [40, 40],\n",
       "});\n",
       "        marker_40bc40525852cabe6699f168095a498b.setIcon(custom_icon_c5bf14ecff1dcddabd30a23f93645897);\n",
       "        \n",
       "    \n",
       "        var popup_31037c8dec0698b319a8fbdc3a03fd74 = L.popup({\n",
       "  &quot;maxWidth&quot;: &quot;100%&quot;,\n",
       "});\n",
       "\n",
       "        \n",
       "            \n",
       "                var html_9d0fa9cb332e3513e8a928e38ad4ece5 = $(`&lt;div id=&quot;html_9d0fa9cb332e3513e8a928e38ad4ece5&quot; style=&quot;width: 100.0%; height: 100.0%;&quot;&gt;Cassis&lt;/div&gt;`)[0];\n",
       "                popup_31037c8dec0698b319a8fbdc3a03fd74.setContent(html_9d0fa9cb332e3513e8a928e38ad4ece5);\n",
       "            \n",
       "        \n",
       "\n",
       "        marker_40bc40525852cabe6699f168095a498b.bindPopup(popup_31037c8dec0698b319a8fbdc3a03fd74)\n",
       "        ;\n",
       "\n",
       "        \n",
       "    \n",
       "    \n",
       "                marker_40bc40525852cabe6699f168095a498b.setIcon(custom_icon_c5bf14ecff1dcddabd30a23f93645897);\n",
       "            \n",
       "    \n",
       "            tile_layer_23e916fca8fa02a375f6c0030a68105c.addTo(map_05d8082386a4591be842cb5704d36578);\n",
       "        \n",
       "    \n",
       "                marker_da8c8f1fb1c296414464d3fe9d527c70.setIcon(custom_icon_fe35373c59d5b63c8a04a9f163c36cd8);\n",
       "            \n",
       "    \n",
       "                marker_7bd08e048b2ba9fb915b73e155f079df.setIcon(custom_icon_ad7aaa904fefb65cfdad2145567eb157);\n",
       "            \n",
       "    \n",
       "                marker_6f051821c4da7a5df7943fe61eb5ffbf.setIcon(custom_icon_4d03ab2f0f7206ae7ce7294b9f8ed3e5);\n",
       "            \n",
       "    \n",
       "                marker_8a4ed06ff47e111f5fdf7d11a9717d85.setIcon(custom_icon_20951566f2fff252ca37195ca25b254e);\n",
       "            \n",
       "    \n",
       "                marker_40bc40525852cabe6699f168095a498b.setIcon(custom_icon_c5bf14ecff1dcddabd30a23f93645897);\n",
       "            \n",
       "&lt;/script&gt;\n",
       "&lt;/html&gt;\" style=\"position:absolute;width:100%;height:100%;left:0;top:0;border:none !important;\" allowfullscreen webkitallowfullscreen mozallowfullscreen></iframe></div></div>"
      ],
      "text/plain": [
       "<folium.folium.Map at 0x1e6a7e6bcd0>"
      ]
     },
     "execution_count": 393,
     "metadata": {},
     "output_type": "execute_result"
    }
   ],
   "source": [
    "# visualiser le top5 des destinations selectionnées\n",
    "map = folium.Map(location=[46.603354, 1.888334], zoom_start=6)\n",
    "\n",
    "# Définir le marker\n",
    "icon_url = \"https://images.icon-icons.com/3565/PNG/512/tree_flower_plant_nature_landscape_icon_225325.png\"\n",
    "\n",
    "# Ajouter les villes à la carte avec des icônes personnalisées\n",
    "for i, row in best_weather_df.iterrows():\n",
    "    folium.Marker(\n",
    "        location=[row['lat'], row['lon']],\n",
    "        popup=row['cities'],\n",
    "        icon=folium.CustomIcon(icon_url, icon_size=(40, 40))  # Ajustez la taille de l'icône si nécessaire\n",
    "    ).add_to(map)\n",
    "\n",
    "# Sauvegarder la carte dans un fichier HTML\n",
    "map.save('maps/map_top_best_destinations.html')\n",
    "\n",
    "# Afficher la carte\n",
    "map\n"
   ]
  },
  {
   "cell_type": "markdown",
   "metadata": {},
   "source": [
    "# Scraping Booking"
   ]
  },
  {
   "cell_type": "code",
   "execution_count": 394,
   "metadata": {},
   "outputs": [
    {
     "data": {
      "text/html": [
       "<div>\n",
       "<style scoped>\n",
       "    .dataframe tbody tr th:only-of-type {\n",
       "        vertical-align: middle;\n",
       "    }\n",
       "\n",
       "    .dataframe tbody tr th {\n",
       "        vertical-align: top;\n",
       "    }\n",
       "\n",
       "    .dataframe thead th {\n",
       "        text-align: right;\n",
       "    }\n",
       "</style>\n",
       "<table border=\"1\" class=\"dataframe\">\n",
       "  <thead>\n",
       "    <tr style=\"text-align: right;\">\n",
       "      <th></th>\n",
       "      <th>cities</th>\n",
       "      <th>country</th>\n",
       "      <th>state</th>\n",
       "      <th>lat</th>\n",
       "      <th>lon</th>\n",
       "      <th>date</th>\n",
       "      <th>temp</th>\n",
       "      <th>feels_like</th>\n",
       "      <th>uvi</th>\n",
       "      <th>humidity</th>\n",
       "      <th>wind_speed</th>\n",
       "      <th>description</th>\n",
       "    </tr>\n",
       "  </thead>\n",
       "  <tbody>\n",
       "    <tr>\n",
       "      <th>0</th>\n",
       "      <td>Bormes les Mimosas</td>\n",
       "      <td>FR</td>\n",
       "      <td>Provence-Alpes-Côte d'Azur</td>\n",
       "      <td>43.150697</td>\n",
       "      <td>6.341928</td>\n",
       "      <td>2025-04-24 12:50:06</td>\n",
       "      <td>22.24</td>\n",
       "      <td>21.54</td>\n",
       "      <td>6.05</td>\n",
       "      <td>39.0</td>\n",
       "      <td>5.66</td>\n",
       "      <td>clear sky</td>\n",
       "    </tr>\n",
       "    <tr>\n",
       "      <th>1</th>\n",
       "      <td>Aigues Mortes</td>\n",
       "      <td>FR</td>\n",
       "      <td>Occitania</td>\n",
       "      <td>43.565823</td>\n",
       "      <td>4.191284</td>\n",
       "      <td>2025-04-24 12:50:07</td>\n",
       "      <td>21.87</td>\n",
       "      <td>21.16</td>\n",
       "      <td>6.10</td>\n",
       "      <td>40.0</td>\n",
       "      <td>6.69</td>\n",
       "      <td>clear sky</td>\n",
       "    </tr>\n",
       "    <tr>\n",
       "      <th>2</th>\n",
       "      <td>Nimes</td>\n",
       "      <td>FR</td>\n",
       "      <td>Occitania</td>\n",
       "      <td>43.837425</td>\n",
       "      <td>4.360069</td>\n",
       "      <td>2025-04-24 12:50:07</td>\n",
       "      <td>21.22</td>\n",
       "      <td>20.44</td>\n",
       "      <td>6.10</td>\n",
       "      <td>40.0</td>\n",
       "      <td>7.72</td>\n",
       "      <td>clear sky</td>\n",
       "    </tr>\n",
       "    <tr>\n",
       "      <th>3</th>\n",
       "      <td>Marseille</td>\n",
       "      <td>FR</td>\n",
       "      <td>Provence-Alpes-Côte d'Azur</td>\n",
       "      <td>43.296174</td>\n",
       "      <td>5.369953</td>\n",
       "      <td>2025-04-24 12:50:06</td>\n",
       "      <td>20.30</td>\n",
       "      <td>19.27</td>\n",
       "      <td>6.03</td>\n",
       "      <td>34.0</td>\n",
       "      <td>13.89</td>\n",
       "      <td>clear sky</td>\n",
       "    </tr>\n",
       "    <tr>\n",
       "      <th>4</th>\n",
       "      <td>Cassis</td>\n",
       "      <td>FR</td>\n",
       "      <td>Provence-Alpes-Côte d'Azur</td>\n",
       "      <td>43.214036</td>\n",
       "      <td>5.539632</td>\n",
       "      <td>2025-04-24 12:50:06</td>\n",
       "      <td>20.17</td>\n",
       "      <td>19.13</td>\n",
       "      <td>6.08</td>\n",
       "      <td>34.0</td>\n",
       "      <td>13.70</td>\n",
       "      <td>clear sky</td>\n",
       "    </tr>\n",
       "  </tbody>\n",
       "</table>\n",
       "</div>"
      ],
      "text/plain": [
       "               cities country                       state        lat  \\\n",
       "0  Bormes les Mimosas      FR  Provence-Alpes-Côte d'Azur  43.150697   \n",
       "1       Aigues Mortes      FR                   Occitania  43.565823   \n",
       "2               Nimes      FR                   Occitania  43.837425   \n",
       "3           Marseille      FR  Provence-Alpes-Côte d'Azur  43.296174   \n",
       "4              Cassis      FR  Provence-Alpes-Côte d'Azur  43.214036   \n",
       "\n",
       "        lon                 date   temp  feels_like   uvi  humidity  \\\n",
       "0  6.341928  2025-04-24 12:50:06  22.24       21.54  6.05      39.0   \n",
       "1  4.191284  2025-04-24 12:50:07  21.87       21.16  6.10      40.0   \n",
       "2  4.360069  2025-04-24 12:50:07  21.22       20.44  6.10      40.0   \n",
       "3  5.369953  2025-04-24 12:50:06  20.30       19.27  6.03      34.0   \n",
       "4  5.539632  2025-04-24 12:50:06  20.17       19.13  6.08      34.0   \n",
       "\n",
       "   wind_speed description  \n",
       "0        5.66   clear sky  \n",
       "1        6.69   clear sky  \n",
       "2        7.72   clear sky  \n",
       "3       13.89   clear sky  \n",
       "4       13.70   clear sky  "
      ]
     },
     "execution_count": 394,
     "metadata": {},
     "output_type": "execute_result"
    }
   ],
   "source": [
    "best_weather_df"
   ]
  },
  {
   "cell_type": "markdown",
   "metadata": {},
   "source": [
    "## Test des selecteurs pour extraction des urls"
   ]
  },
  {
   "cell_type": "code",
   "execution_count": 395,
   "metadata": {},
   "outputs": [
    {
     "data": {
      "text/plain": [
       "['Bormes les Mimosas', 'Aigues Mortes', 'Nimes', 'Marseille', 'Cassis']"
      ]
     },
     "execution_count": 395,
     "metadata": {},
     "output_type": "execute_result"
    }
   ],
   "source": [
    "best_cities_list=best_weather_df['cities'].tolist()\n",
    "best_cities_list"
   ]
  },
  {
   "cell_type": "code",
   "execution_count": 396,
   "metadata": {},
   "outputs": [
    {
     "data": {
      "text/plain": [
       "['https://www.booking.com/searchresults.html?ss=Bormes%20les%20Mimosas',\n",
       " 'https://www.booking.com/searchresults.html?ss=Aigues%20Mortes',\n",
       " 'https://www.booking.com/searchresults.html?ss=Nimes',\n",
       " 'https://www.booking.com/searchresults.html?ss=Marseille',\n",
       " 'https://www.booking.com/searchresults.html?ss=Cassis']"
      ]
     },
     "execution_count": 396,
     "metadata": {},
     "output_type": "execute_result"
    }
   ],
   "source": [
    "import urllib.parse\n",
    "urls= ['https://www.booking.com/searchresults.html?ss=' + urllib.parse.quote(city) for city in best_cities_list]\n",
    "urls"
   ]
  },
  {
   "cell_type": "code",
   "execution_count": 398,
   "metadata": {},
   "outputs": [],
   "source": [
    "headers = {\n",
    "    'User-Agent': 'Mozilla/5.0 (Windows NT 10.0; Win64; x64) AppleWebKit/537.36 (KHTML, like Gecko) Chrome/58.0.3029.110 Safari/537.3'\n",
    "}\n",
    "url = urls[0]\n",
    "r = requests.get(url, headers=headers)\n",
    "\n",
    "response = Selector(text=r.text)"
   ]
  },
  {
   "cell_type": "code",
   "execution_count": 399,
   "metadata": {},
   "outputs": [
    {
     "data": {
      "text/plain": [
       "<Response [200]>"
      ]
     },
     "execution_count": 399,
     "metadata": {},
     "output_type": "execute_result"
    }
   ],
   "source": [
    "r"
   ]
  },
  {
   "cell_type": "code",
   "execution_count": 400,
   "metadata": {},
   "outputs": [
    {
     "data": {
      "text/plain": [
       "['Cosy studio - Place du Figuier',\n",
       " 'Les Terrasses de Lô',\n",
       " 'Bord de mer, charmant studio entièrement équipé',\n",
       " 'Superbe T2 4 étoiles climatisé Favière refait à neuf',\n",
       " 'Boulevard du Soleil',\n",
       " 'Studio Liège, vue mer au village de Bormes les Mimosas',\n",
       " 'La Lavandière',\n",
       " 'Cosy 36m With Nice Sea View Center Village !',\n",
       " 'Hotel La Voile',\n",
       " 'Hôtel Paradis',\n",
       " 'Studio idéal séjour en amoureux rez de jardin proche plage',\n",
       " 'Les deux mas',\n",
       " 'Hostellerie du Cigalou',\n",
       " 'Le petit atelier',\n",
       " \"L'Amirauté 150m de la plage\",\n",
       " 'Hotel Restaurant Bellevue',\n",
       " 'Hotel Les Jardins de Bormes, sauna & jacuzzi',\n",
       " 'Coeur de village',\n",
       " 'Studio cosy avec vue sur la mer à Bormes-les-Mimosas, 20 m².',\n",
       " 'Villa avec piscine - confort et tranquillité',\n",
       " 'Villa Merveille',\n",
       " \"SELECT'soHOME - T2 proche de la station balnéaire de La Favière avec parking privé ! - AZUR-17\",\n",
       " 'Gaou Benat, village des fourches, Label patrimoine XXe siècle',\n",
       " 'La Recampado',\n",
       " 'Hôtel de la Plage - HDLP']"
      ]
     },
     "execution_count": 400,
     "metadata": {},
     "output_type": "execute_result"
    }
   ],
   "source": [
    "hotel_name=response.css(\"div.f6431b446c.a15b38c233 ::text\").getall()\n",
    "hotel_name"
   ]
  },
  {
   "cell_type": "code",
   "execution_count": 401,
   "metadata": {},
   "outputs": [
    {
     "data": {
      "text/plain": [
       "['https://www.booking.com/hotel/fr/studio-figuier-bormes-les-mimosas.en-gb.html?aid=304142&label=gen173nr-1FCAQoggJCGXNlYXJjaF9ib3JtZXMgbGVzIG1pbW9zYXNIM1gEaE2IAQGYAQm4ARfIAQzYAQHoAQH4AQOIAgGoAgO4Av7qqMAGwAIB0gIkMzc3NWY3MTUtOGVlOS00MGEzLThmNGEtYzBjNTdlOWM2ZmMy2AIF4AIB&ucfs=1&arphpl=1&group_adults=2&req_adults=2&no_rooms=1&group_children=0&req_children=0&hpos=1&hapos=1&sr_order=popularity&srpvid=b5fd5b3f08ec02ed&srepoch=1745499519&from=searchresults',\n",
       " 'https://www.booking.com/hotel/fr/les-terrasses-de-lo.en-gb.html?aid=304142&label=gen173nr-1FCAQoggJCGXNlYXJjaF9ib3JtZXMgbGVzIG1pbW9zYXNIM1gEaE2IAQGYAQm4ARfIAQzYAQHoAQH4AQOIAgGoAgO4Av7qqMAGwAIB0gIkMzc3NWY3MTUtOGVlOS00MGEzLThmNGEtYzBjNTdlOWM2ZmMy2AIF4AIB&ucfs=1&arphpl=1&group_adults=2&req_adults=2&no_rooms=1&group_children=0&req_children=0&hpos=2&hapos=2&sr_order=popularity&srpvid=b5fd5b3f08ec02ed&srepoch=1745499519&from=searchresults',\n",
       " 'https://www.booking.com/hotel/fr/bord-de-mer-charmant-studio-entierement-equipe.en-gb.html?aid=304142&label=gen173nr-1FCAQoggJCGXNlYXJjaF9ib3JtZXMgbGVzIG1pbW9zYXNIM1gEaE2IAQGYAQm4ARfIAQzYAQHoAQH4AQOIAgGoAgO4Av7qqMAGwAIB0gIkMzc3NWY3MTUtOGVlOS00MGEzLThmNGEtYzBjNTdlOWM2ZmMy2AIF4AIB&ucfs=1&arphpl=1&group_adults=2&req_adults=2&no_rooms=1&group_children=0&req_children=0&hpos=3&hapos=3&sr_order=popularity&srpvid=b5fd5b3f08ec02ed&srepoch=1745499519&from=searchresults',\n",
       " 'https://www.booking.com/hotel/fr/superbe-t2-4-etoiles-climatise-faviere-refait-a-neuf.en-gb.html?aid=304142&label=gen173nr-1FCAQoggJCGXNlYXJjaF9ib3JtZXMgbGVzIG1pbW9zYXNIM1gEaE2IAQGYAQm4ARfIAQzYAQHoAQH4AQOIAgGoAgO4Av7qqMAGwAIB0gIkMzc3NWY3MTUtOGVlOS00MGEzLThmNGEtYzBjNTdlOWM2ZmMy2AIF4AIB&ucfs=1&arphpl=1&group_adults=2&req_adults=2&no_rooms=1&group_children=0&req_children=0&hpos=4&hapos=4&sr_order=popularity&srpvid=b5fd5b3f08ec02ed&srepoch=1745499519&from=searchresults',\n",
       " 'https://www.booking.com/hotel/fr/boulevard-du-soleil.en-gb.html?aid=304142&label=gen173nr-1FCAQoggJCGXNlYXJjaF9ib3JtZXMgbGVzIG1pbW9zYXNIM1gEaE2IAQGYAQm4ARfIAQzYAQHoAQH4AQOIAgGoAgO4Av7qqMAGwAIB0gIkMzc3NWY3MTUtOGVlOS00MGEzLThmNGEtYzBjNTdlOWM2ZmMy2AIF4AIB&ucfs=1&arphpl=1&group_adults=2&req_adults=2&no_rooms=1&group_children=0&req_children=0&hpos=5&hapos=5&sr_order=popularity&srpvid=b5fd5b3f08ec02ed&srepoch=1745499519&from=searchresults',\n",
       " 'https://www.booking.com/hotel/fr/studio-vue-mer-au-village-de-bormes-les-mimosas.en-gb.html?aid=304142&label=gen173nr-1FCAQoggJCGXNlYXJjaF9ib3JtZXMgbGVzIG1pbW9zYXNIM1gEaE2IAQGYAQm4ARfIAQzYAQHoAQH4AQOIAgGoAgO4Av7qqMAGwAIB0gIkMzc3NWY3MTUtOGVlOS00MGEzLThmNGEtYzBjNTdlOWM2ZmMy2AIF4AIB&ucfs=1&arphpl=1&group_adults=2&req_adults=2&no_rooms=1&group_children=0&req_children=0&hpos=6&hapos=6&sr_order=popularity&srpvid=b5fd5b3f08ec02ed&srepoch=1745499519&from=searchresults',\n",
       " 'https://www.booking.com/hotel/fr/la-lavandiere-bormes-les-mimosas.en-gb.html?aid=304142&label=gen173nr-1FCAQoggJCGXNlYXJjaF9ib3JtZXMgbGVzIG1pbW9zYXNIM1gEaE2IAQGYAQm4ARfIAQzYAQHoAQH4AQOIAgGoAgO4Av7qqMAGwAIB0gIkMzc3NWY3MTUtOGVlOS00MGEzLThmNGEtYzBjNTdlOWM2ZmMy2AIF4AIB&ucfs=1&arphpl=1&group_adults=2&req_adults=2&no_rooms=1&group_children=0&req_children=0&hpos=7&hapos=7&sr_order=popularity&srpvid=b5fd5b3f08ec02ed&srepoch=1745499519&from=searchresults',\n",
       " 'https://www.booking.com/hotel/fr/cosy-36m-with-nice-sea-view-center-village.en-gb.html?aid=304142&label=gen173nr-1FCAQoggJCGXNlYXJjaF9ib3JtZXMgbGVzIG1pbW9zYXNIM1gEaE2IAQGYAQm4ARfIAQzYAQHoAQH4AQOIAgGoAgO4Av7qqMAGwAIB0gIkMzc3NWY3MTUtOGVlOS00MGEzLThmNGEtYzBjNTdlOWM2ZmMy2AIF4AIB&ucfs=1&arphpl=1&group_adults=2&req_adults=2&no_rooms=1&group_children=0&req_children=0&hpos=8&hapos=8&sr_order=popularity&srpvid=b5fd5b3f08ec02ed&srepoch=1745499519&from=searchresults',\n",
       " 'https://www.booking.com/hotel/fr/hotel-la-voile-fr.en-gb.html?aid=304142&label=gen173nr-1FCAQoggJCGXNlYXJjaF9ib3JtZXMgbGVzIG1pbW9zYXNIM1gEaE2IAQGYAQm4ARfIAQzYAQHoAQH4AQOIAgGoAgO4Av7qqMAGwAIB0gIkMzc3NWY3MTUtOGVlOS00MGEzLThmNGEtYzBjNTdlOWM2ZmMy2AIF4AIB&ucfs=1&arphpl=1&group_adults=2&req_adults=2&no_rooms=1&group_children=0&req_children=0&hpos=9&hapos=9&sr_order=popularity&srpvid=b5fd5b3f08ec02ed&srepoch=1745499519&from=searchresults',\n",
       " 'https://www.booking.com/hotel/fr/paradis.en-gb.html?aid=304142&label=gen173nr-1FCAQoggJCGXNlYXJjaF9ib3JtZXMgbGVzIG1pbW9zYXNIM1gEaE2IAQGYAQm4ARfIAQzYAQHoAQH4AQOIAgGoAgO4Av7qqMAGwAIB0gIkMzc3NWY3MTUtOGVlOS00MGEzLThmNGEtYzBjNTdlOWM2ZmMy2AIF4AIB&ucfs=1&arphpl=1&group_adults=2&req_adults=2&no_rooms=1&group_children=0&req_children=0&hpos=10&hapos=10&sr_order=popularity&srpvid=b5fd5b3f08ec02ed&srepoch=1745499519&from=searchresults',\n",
       " 'https://www.booking.com/hotel/fr/studio-ideal-sejour-en-amoureux-rez-de-jardin-proche-plage.en-gb.html?aid=304142&label=gen173nr-1FCAQoggJCGXNlYXJjaF9ib3JtZXMgbGVzIG1pbW9zYXNIM1gEaE2IAQGYAQm4ARfIAQzYAQHoAQH4AQOIAgGoAgO4Av7qqMAGwAIB0gIkMzc3NWY3MTUtOGVlOS00MGEzLThmNGEtYzBjNTdlOWM2ZmMy2AIF4AIB&ucfs=1&arphpl=1&group_adults=2&req_adults=2&no_rooms=1&group_children=0&req_children=0&hpos=11&hapos=11&sr_order=popularity&srpvid=b5fd5b3f08ec02ed&srepoch=1745499519&from=searchresults',\n",
       " 'https://www.booking.com/hotel/fr/lou-mazet-bormes-les-mimosas.en-gb.html?aid=304142&label=gen173nr-1FCAQoggJCGXNlYXJjaF9ib3JtZXMgbGVzIG1pbW9zYXNIM1gEaE2IAQGYAQm4ARfIAQzYAQHoAQH4AQOIAgGoAgO4Av7qqMAGwAIB0gIkMzc3NWY3MTUtOGVlOS00MGEzLThmNGEtYzBjNTdlOWM2ZmMy2AIF4AIB&ucfs=1&arphpl=1&group_adults=2&req_adults=2&no_rooms=1&group_children=0&req_children=0&hpos=12&hapos=12&sr_order=popularity&srpvid=b5fd5b3f08ec02ed&srepoch=1745499519&from=searchresults',\n",
       " 'https://www.booking.com/hotel/fr/hostellerie-du-cigalou.en-gb.html?aid=304142&label=gen173nr-1FCAQoggJCGXNlYXJjaF9ib3JtZXMgbGVzIG1pbW9zYXNIM1gEaE2IAQGYAQm4ARfIAQzYAQHoAQH4AQOIAgGoAgO4Av7qqMAGwAIB0gIkMzc3NWY3MTUtOGVlOS00MGEzLThmNGEtYzBjNTdlOWM2ZmMy2AIF4AIB&ucfs=1&arphpl=1&group_adults=2&req_adults=2&no_rooms=1&group_children=0&req_children=0&hpos=13&hapos=13&sr_order=popularity&srpvid=b5fd5b3f08ec02ed&srepoch=1745499519&from=searchresults',\n",
       " 'https://www.booking.com/hotel/fr/le-petit-atelier-bormes-les-mimosas1234567891011121314151617.en-gb.html?aid=304142&label=gen173nr-1FCAQoggJCGXNlYXJjaF9ib3JtZXMgbGVzIG1pbW9zYXNIM1gEaE2IAQGYAQm4ARfIAQzYAQHoAQH4AQOIAgGoAgO4Av7qqMAGwAIB0gIkMzc3NWY3MTUtOGVlOS00MGEzLThmNGEtYzBjNTdlOWM2ZmMy2AIF4AIB&ucfs=1&arphpl=1&group_adults=2&req_adults=2&no_rooms=1&group_children=0&req_children=0&hpos=14&hapos=14&sr_order=popularity&srpvid=b5fd5b3f08ec02ed&srepoch=1745499519&from=searchresults',\n",
       " 'https://www.booking.com/hotel/fr/studio-alize.en-gb.html?aid=304142&label=gen173nr-1FCAQoggJCGXNlYXJjaF9ib3JtZXMgbGVzIG1pbW9zYXNIM1gEaE2IAQGYAQm4ARfIAQzYAQHoAQH4AQOIAgGoAgO4Av7qqMAGwAIB0gIkMzc3NWY3MTUtOGVlOS00MGEzLThmNGEtYzBjNTdlOWM2ZmMy2AIF4AIB&ucfs=1&arphpl=1&group_adults=2&req_adults=2&no_rooms=1&group_children=0&req_children=0&hpos=15&hapos=15&sr_order=popularity&srpvid=b5fd5b3f08ec02ed&srepoch=1745499519&from=searchresults',\n",
       " 'https://www.booking.com/hotel/fr/restaurant-bellevue.en-gb.html?aid=304142&label=gen173nr-1FCAQoggJCGXNlYXJjaF9ib3JtZXMgbGVzIG1pbW9zYXNIM1gEaE2IAQGYAQm4ARfIAQzYAQHoAQH4AQOIAgGoAgO4Av7qqMAGwAIB0gIkMzc3NWY3MTUtOGVlOS00MGEzLThmNGEtYzBjNTdlOWM2ZmMy2AIF4AIB&ucfs=1&arphpl=1&group_adults=2&req_adults=2&no_rooms=1&group_children=0&req_children=0&hpos=16&hapos=16&sr_order=popularity&srpvid=b5fd5b3f08ec02ed&srepoch=1745499519&from=searchresults',\n",
       " 'https://www.booking.com/hotel/fr/new-life.en-gb.html?aid=304142&label=gen173nr-1FCAQoggJCGXNlYXJjaF9ib3JtZXMgbGVzIG1pbW9zYXNIM1gEaE2IAQGYAQm4ARfIAQzYAQHoAQH4AQOIAgGoAgO4Av7qqMAGwAIB0gIkMzc3NWY3MTUtOGVlOS00MGEzLThmNGEtYzBjNTdlOWM2ZmMy2AIF4AIB&ucfs=1&arphpl=1&group_adults=2&req_adults=2&no_rooms=1&group_children=0&req_children=0&hpos=17&hapos=17&sr_order=popularity&srpvid=b5fd5b3f08ec02ed&srepoch=1745499519&from=searchresults',\n",
       " 'https://www.booking.com/hotel/fr/coeur-de-village-bormes-les-mimosas.en-gb.html?aid=304142&label=gen173nr-1FCAQoggJCGXNlYXJjaF9ib3JtZXMgbGVzIG1pbW9zYXNIM1gEaE2IAQGYAQm4ARfIAQzYAQHoAQH4AQOIAgGoAgO4Av7qqMAGwAIB0gIkMzc3NWY3MTUtOGVlOS00MGEzLThmNGEtYzBjNTdlOWM2ZmMy2AIF4AIB&ucfs=1&arphpl=1&group_adults=2&req_adults=2&no_rooms=1&group_children=0&req_children=0&hpos=18&hapos=18&sr_order=popularity&srpvid=b5fd5b3f08ec02ed&srepoch=1745499519&from=searchresults',\n",
       " 'https://www.booking.com/hotel/fr/apartment-avenue-de-la-mer.en-gb.html?aid=304142&label=gen173nr-1FCAQoggJCGXNlYXJjaF9ib3JtZXMgbGVzIG1pbW9zYXNIM1gEaE2IAQGYAQm4ARfIAQzYAQHoAQH4AQOIAgGoAgO4Av7qqMAGwAIB0gIkMzc3NWY3MTUtOGVlOS00MGEzLThmNGEtYzBjNTdlOWM2ZmMy2AIF4AIB&ucfs=1&arphpl=1&group_adults=2&req_adults=2&no_rooms=1&group_children=0&req_children=0&hpos=19&hapos=19&sr_order=popularity&srpvid=b5fd5b3f08ec02ed&srepoch=1745499519&from=searchresults',\n",
       " 'https://www.booking.com/hotel/fr/villa-avec-piscine-confort-et-tranquillite.en-gb.html?aid=304142&label=gen173nr-1FCAQoggJCGXNlYXJjaF9ib3JtZXMgbGVzIG1pbW9zYXNIM1gEaE2IAQGYAQm4ARfIAQzYAQHoAQH4AQOIAgGoAgO4Av7qqMAGwAIB0gIkMzc3NWY3MTUtOGVlOS00MGEzLThmNGEtYzBjNTdlOWM2ZmMy2AIF4AIB&ucfs=1&arphpl=1&group_adults=2&req_adults=2&no_rooms=1&group_children=0&req_children=0&hpos=20&hapos=20&sr_order=popularity&srpvid=b5fd5b3f08ec02ed&srepoch=1745499519&from=searchresults',\n",
       " 'https://www.booking.com/hotel/fr/merveille.en-gb.html?aid=304142&label=gen173nr-1FCAQoggJCGXNlYXJjaF9ib3JtZXMgbGVzIG1pbW9zYXNIM1gEaE2IAQGYAQm4ARfIAQzYAQHoAQH4AQOIAgGoAgO4Av7qqMAGwAIB0gIkMzc3NWY3MTUtOGVlOS00MGEzLThmNGEtYzBjNTdlOWM2ZmMy2AIF4AIB&ucfs=1&arphpl=1&group_adults=2&req_adults=2&no_rooms=1&group_children=0&req_children=0&hpos=21&hapos=21&sr_order=popularity&srpvid=b5fd5b3f08ec02ed&srepoch=1745499519&from=searchresults',\n",
       " 'https://www.booking.com/hotel/fr/select-sohome-t2-proche-de-la-station-balneaire-de-la-faviere-azur-17.en-gb.html?aid=304142&label=gen173nr-1FCAQoggJCGXNlYXJjaF9ib3JtZXMgbGVzIG1pbW9zYXNIM1gEaE2IAQGYAQm4ARfIAQzYAQHoAQH4AQOIAgGoAgO4Av7qqMAGwAIB0gIkMzc3NWY3MTUtOGVlOS00MGEzLThmNGEtYzBjNTdlOWM2ZmMy2AIF4AIB&ucfs=1&arphpl=1&group_adults=2&req_adults=2&no_rooms=1&group_children=0&req_children=0&hpos=22&hapos=22&sr_order=popularity&srpvid=b5fd5b3f08ec02ed&srepoch=1745499519&from=searchresults',\n",
       " 'https://www.booking.com/hotel/fr/gaou-benat.en-gb.html?aid=304142&label=gen173nr-1FCAQoggJCGXNlYXJjaF9ib3JtZXMgbGVzIG1pbW9zYXNIM1gEaE2IAQGYAQm4ARfIAQzYAQHoAQH4AQOIAgGoAgO4Av7qqMAGwAIB0gIkMzc3NWY3MTUtOGVlOS00MGEzLThmNGEtYzBjNTdlOWM2ZmMy2AIF4AIB&ucfs=1&arphpl=1&group_adults=2&req_adults=2&no_rooms=1&group_children=0&req_children=0&hpos=23&hapos=23&sr_order=popularity&srpvid=b5fd5b3f08ec02ed&srepoch=1745499519&from=searchresults',\n",
       " 'https://www.booking.com/hotel/fr/la-recampado-bormes-les-mimosas.en-gb.html?aid=304142&label=gen173nr-1FCAQoggJCGXNlYXJjaF9ib3JtZXMgbGVzIG1pbW9zYXNIM1gEaE2IAQGYAQm4ARfIAQzYAQHoAQH4AQOIAgGoAgO4Av7qqMAGwAIB0gIkMzc3NWY3MTUtOGVlOS00MGEzLThmNGEtYzBjNTdlOWM2ZmMy2AIF4AIB&ucfs=1&arphpl=1&group_adults=2&req_adults=2&no_rooms=1&group_children=0&req_children=0&hpos=24&hapos=24&sr_order=popularity&srpvid=b5fd5b3f08ec02ed&srepoch=1745499519&from=searchresults',\n",
       " 'https://www.booking.com/hotel/fr/de-la-plage-hdlp.en-gb.html?aid=304142&label=gen173nr-1FCAQoggJCGXNlYXJjaF9ib3JtZXMgbGVzIG1pbW9zYXNIM1gEaE2IAQGYAQm4ARfIAQzYAQHoAQH4AQOIAgGoAgO4Av7qqMAGwAIB0gIkMzc3NWY3MTUtOGVlOS00MGEzLThmNGEtYzBjNTdlOWM2ZmMy2AIF4AIB&ucfs=1&arphpl=1&group_adults=2&req_adults=2&no_rooms=1&group_children=0&req_children=0&hpos=25&hapos=25&sr_order=popularity&srpvid=b5fd5b3f08ec02ed&srepoch=1745499519&from=searchresults']"
      ]
     },
     "execution_count": 401,
     "metadata": {},
     "output_type": "execute_result"
    }
   ],
   "source": [
    "hotel_url = response.css(\"a.a78ca197d0 ::attr(href)\").getall()\n",
    "hotel_url"
   ]
  },
  {
   "cell_type": "markdown",
   "metadata": {},
   "source": [
    "## Test des selecteurs pour extractions des infos par hotel"
   ]
  },
  {
   "cell_type": "code",
   "execution_count": 402,
   "metadata": {},
   "outputs": [],
   "source": [
    "#étape réalisée après avoir scrapé les urls d'hotel"
   ]
  },
  {
   "cell_type": "code",
   "execution_count": 403,
   "metadata": {},
   "outputs": [
    {
     "data": {
      "text/plain": [
       "['https://www.booking.com/hotel/fr/lepregaloffrenimes.fr.html?aid=304142&label=gen173nr-1FCAQoggJCDHNlYXJjaF9uaW1lc0gzWARoTYgBAZgBDbgBF8gBDNgBAegBAfgBA4gCAagCA7gCl-yowAbAAgHSAiQ1OGUyMGZlOS01MjdjLTQ2OGItYjgyZC1jMWU0OGY2NGQ4MjDYAgXgAgE&ucfs=1&arphpl=1&group_adults=2&req_adults=2&no_rooms=1&group_children=0&req_children=0&hpos=25&hapos=25&sr_order=popularity&srpvid=d5965b8b343f0269&srepoch=1745499672&from=searchresults',\n",
       " 'https://www.booking.com/hotel/fr/mezza-nimes.fr.html?aid=304142&label=gen173nr-1FCAQoggJCDHNlYXJjaF9uaW1lc0gzWARoTYgBAZgBDbgBF8gBDNgBAegBAfgBA4gCAagCA7gCl-yowAbAAgHSAiQ1OGUyMGZlOS01MjdjLTQ2OGItYjgyZC1jMWU0OGY2NGQ4MjDYAgXgAgE&ucfs=1&arphpl=1&group_adults=2&req_adults=2&no_rooms=1&group_children=0&req_children=0&hpos=21&hapos=21&sr_order=popularity&srpvid=d5965b8b343f0269&srepoch=1745499672&from=searchresults',\n",
       " 'https://www.booking.com/hotel/fr/nimotel.fr.html?aid=304142&label=gen173nr-1FCAQoggJCDHNlYXJjaF9uaW1lc0gzWARoTYgBAZgBDbgBF8gBDNgBAegBAfgBA4gCAagCA7gCl-yowAbAAgHSAiQ1OGUyMGZlOS01MjdjLTQ2OGItYjgyZC1jMWU0OGY2NGQ4MjDYAgXgAgE&ucfs=1&arphpl=1&group_adults=2&req_adults=2&no_rooms=1&group_children=0&req_children=0&hpos=18&hapos=18&sr_order=popularity&srpvid=d5965b8b343f0269&srepoch=1745499672&from_sustainable_property_sr=1&from=searchresults',\n",
       " 'https://www.booking.com/hotel/fr/appartement-des-carmes.fr.html?aid=304142&label=gen173nr-1FCAQoggJCDHNlYXJjaF9uaW1lc0gzWARoTYgBAZgBDbgBF8gBDNgBAegBAfgBA4gCAagCA7gCl-yowAbAAgHSAiQ1OGUyMGZlOS01MjdjLTQ2OGItYjgyZC1jMWU0OGY2NGQ4MjDYAgXgAgE&ucfs=1&arphpl=1&group_adults=2&req_adults=2&no_rooms=1&group_children=0&req_children=0&hpos=22&hapos=22&sr_order=popularity&srpvid=d5965b8b343f0269&srepoch=1745499672&from=searchresults',\n",
       " 'https://www.booking.com/hotel/fr/le-cosy-nimes2.fr.html?aid=304142&label=gen173nr-1FCAQoggJCDHNlYXJjaF9uaW1lc0gzWARoTYgBAZgBDbgBF8gBDNgBAegBAfgBA4gCAagCA7gCl-yowAbAAgHSAiQ1OGUyMGZlOS01MjdjLTQ2OGItYjgyZC1jMWU0OGY2NGQ4MjDYAgXgAgE&ucfs=1&arphpl=1&group_adults=2&req_adults=2&no_rooms=1&group_children=0&req_children=0&hpos=19&hapos=19&sr_order=popularity&srpvid=d5965b8b343f0269&srepoch=1745499672&from=searchresults',\n",
       " 'https://www.booking.com/hotel/fr/appartement-haussmannien-nimes.fr.html?aid=304142&label=gen173nr-1FCAQoggJCDHNlYXJjaF9uaW1lc0gzWARoTYgBAZgBDbgBF8gBDNgBAegBAfgBA4gCAagCA7gCl-yowAbAAgHSAiQ1OGUyMGZlOS01MjdjLTQ2OGItYjgyZC1jMWU0OGY2NGQ4MjDYAgXgAgE&ucfs=1&arphpl=1&group_adults=2&req_adults=2&no_rooms=1&group_children=0&req_children=0&hpos=24&hapos=24&sr_order=popularity&srpvid=d5965b8b343f0269&srepoch=1745499672&from=searchresults',\n",
       " 'https://www.booking.com/hotel/fr/central-nimes.fr.html?aid=304142&label=gen173nr-1FCAQoggJCDHNlYXJjaF9uaW1lc0gzWARoTYgBAZgBDbgBF8gBDNgBAegBAfgBA4gCAagCA7gCl-yowAbAAgHSAiQ1OGUyMGZlOS01MjdjLTQ2OGItYjgyZC1jMWU0OGY2NGQ4MjDYAgXgAgE&ucfs=1&arphpl=1&group_adults=2&req_adults=2&no_rooms=1&group_children=0&req_children=0&hpos=23&hapos=23&sr_order=popularity&srpvid=d5965b8b343f0269&srepoch=1745499672&from=searchresults',\n",
       " 'https://www.booking.com/hotel/fr/appart-city-nimes.fr.html?aid=304142&label=gen173nr-1FCAQoggJCDHNlYXJjaF9uaW1lc0gzWARoTYgBAZgBDbgBF8gBDNgBAegBAfgBA4gCAagCA7gCl-yowAbAAgHSAiQ1OGUyMGZlOS01MjdjLTQ2OGItYjgyZC1jMWU0OGY2NGQ4MjDYAgXgAgE&ucfs=1&arphpl=1&group_adults=2&req_adults=2&no_rooms=1&group_children=0&req_children=0&hpos=20&hapos=20&sr_order=popularity&srpvid=d5965b8b343f0269&srepoch=1745499672&from_sustainable_property_sr=1&from=searchresults',\n",
       " 'https://www.booking.com/hotel/fr/appartement-t3-proches-arenes.fr.html?aid=304142&label=gen173nr-1FCAQoggJCDHNlYXJjaF9uaW1lc0gzWARoTYgBAZgBDbgBF8gBDNgBAegBAfgBA4gCAagCA7gCl-yowAbAAgHSAiQ1OGUyMGZlOS01MjdjLTQ2OGItYjgyZC1jMWU0OGY2NGQ4MjDYAgXgAgE&ucfs=1&arphpl=1&group_adults=2&req_adults=2&no_rooms=1&group_children=0&req_children=0&hpos=17&hapos=17&sr_order=popularity&srpvid=d5965b8b343f0269&srepoch=1745499672&from=searchresults',\n",
       " 'https://www.booking.com/hotel/fr/appartcosy-emplacement-ideal-avec-terrasse-amp-parking-prive.fr.html?aid=304142&label=gen173nr-1FCAQoggJCDHNlYXJjaF9uaW1lc0gzWARoTYgBAZgBDbgBF8gBDNgBAegBAfgBA4gCAagCA7gCl-yowAbAAgHSAiQ1OGUyMGZlOS01MjdjLTQ2OGItYjgyZC1jMWU0OGY2NGQ4MjDYAgXgAgE&ucfs=1&arphpl=1&group_adults=2&req_adults=2&no_rooms=1&group_children=0&req_children=0&hpos=14&hapos=14&sr_order=popularity&srpvid=d5965b8b343f0269&srepoch=1745499672&from=searchresults',\n",
       " 'https://www.booking.com/hotel/fr/b-amp-b-nimes-villes-active.fr.html?aid=304142&label=gen173nr-1FCAQoggJCDHNlYXJjaF9uaW1lc0gzWARoTYgBAZgBDbgBF8gBDNgBAegBAfgBA4gCAagCA7gCl-yowAbAAgHSAiQ1OGUyMGZlOS01MjdjLTQ2OGItYjgyZC1jMWU0OGY2NGQ4MjDYAgXgAgE&ucfs=1&arphpl=1&group_adults=2&req_adults=2&no_rooms=1&group_children=0&req_children=0&hpos=13&hapos=13&sr_order=popularity&srpvid=d5965b8b343f0269&srepoch=1745499672&from=searchresults',\n",
       " 'https://www.booking.com/hotel/fr/eclat-doree.fr.html?aid=304142&label=gen173nr-1FCAQoggJCDHNlYXJjaF9uaW1lc0gzWARoTYgBAZgBDbgBF8gBDNgBAegBAfgBA4gCAagCA7gCl-yowAbAAgHSAiQ1OGUyMGZlOS01MjdjLTQ2OGItYjgyZC1jMWU0OGY2NGQ4MjDYAgXgAgE&ucfs=1&arphpl=1&group_adults=2&req_adults=2&no_rooms=1&group_children=0&req_children=0&hpos=11&hapos=11&sr_order=popularity&srpvid=d5965b8b343f0269&srepoch=1745499672&from=searchresults',\n",
       " 'https://www.booking.com/hotel/fr/ha-tel-la-baume.fr.html?aid=304142&label=gen173nr-1FCAQoggJCDHNlYXJjaF9uaW1lc0gzWARoTYgBAZgBDbgBF8gBDNgBAegBAfgBA4gCAagCA7gCl-yowAbAAgHSAiQ1OGUyMGZlOS01MjdjLTQ2OGItYjgyZC1jMWU0OGY2NGQ4MjDYAgXgAgE&ucfs=1&arphpl=1&group_adults=2&req_adults=2&no_rooms=1&group_children=0&req_children=0&hpos=15&hapos=15&sr_order=popularity&srpvid=d5965b8b343f0269&srepoch=1745499672&from=searchresults',\n",
       " 'https://www.booking.com/hotel/fr/logement-tout-confort-avec-grand-garage-gratuit.fr.html?aid=304142&label=gen173nr-1FCAQoggJCDHNlYXJjaF9uaW1lc0gzWARoTYgBAZgBDbgBF8gBDNgBAegBAfgBA4gCAagCA7gCl-yowAbAAgHSAiQ1OGUyMGZlOS01MjdjLTQ2OGItYjgyZC1jMWU0OGY2NGQ4MjDYAgXgAgE&ucfs=1&arphpl=1&group_adults=2&req_adults=2&no_rooms=1&group_children=0&req_children=0&hpos=12&hapos=12&sr_order=popularity&srpvid=d5965b8b343f0269&srepoch=1745499672&from=searchresults',\n",
       " 'https://www.booking.com/hotel/fr/le-mas-des-oliviers-nimes.fr.html?aid=304142&label=gen173nr-1FCAQoggJCDHNlYXJjaF9uaW1lc0gzWARoTYgBAZgBDbgBF8gBDNgBAegBAfgBA4gCAagCA7gCl-yowAbAAgHSAiQ1OGUyMGZlOS01MjdjLTQ2OGItYjgyZC1jMWU0OGY2NGQ4MjDYAgXgAgE&ucfs=1&arphpl=1&group_adults=2&req_adults=2&no_rooms=1&group_children=0&req_children=0&hpos=16&hapos=16&sr_order=popularity&srpvid=d5965b8b343f0269&srepoch=1745499672&from=searchresults',\n",
       " 'https://www.booking.com/hotel/fr/nimes-les-pins.fr.html?aid=304142&label=gen173nr-1FCAQoggJCDHNlYXJjaF9uaW1lc0gzWARoTYgBAZgBDbgBF8gBDNgBAegBAfgBA4gCAagCA7gCl-yowAbAAgHSAiQ1OGUyMGZlOS01MjdjLTQ2OGItYjgyZC1jMWU0OGY2NGQ4MjDYAgXgAgE&ucfs=1&arphpl=1&group_adults=2&req_adults=2&no_rooms=1&group_children=0&req_children=0&hpos=10&hapos=10&sr_order=popularity&srpvid=d5965b8b343f0269&srepoch=1745499672&from=searchresults',\n",
       " 'https://www.booking.com/hotel/fr/select-sohome-joli-appartement-pour-4-personnes-au-coeur-de-la-faviere-iloa-c01.fr.html?aid=304142&label=gen173nr-1FCAQoggJCGXNlYXJjaF9ib3JtZXMgbGVzIG1pbW9zYXNIM1gEaE2IAQGYAQ24ARfIAQzYAQHoAQH4AQOIAgGoAgO4ApfsqMAGwAIB0gIkMGU5NmRhYjUtYjI2Yy00YmZkLWEwMmYtYjAwMzk4YzdhMWIx2AIF4AIB&ucfs=1&arphpl=1&group_adults=2&req_adults=2&no_rooms=1&group_children=0&req_children=0&hpos=25&hapos=25&sr_order=popularity&srpvid=d5965b8b26d4049c&srepoch=1745499672&from=searchresults',\n",
       " 'https://www.booking.com/hotel/fr/gaou-benat.fr.html?aid=304142&label=gen173nr-1FCAQoggJCGXNlYXJjaF9ib3JtZXMgbGVzIG1pbW9zYXNIM1gEaE2IAQGYAQ24ARfIAQzYAQHoAQH4AQOIAgGoAgO4ApfsqMAGwAIB0gIkMGU5NmRhYjUtYjI2Yy00YmZkLWEwMmYtYjAwMzk4YzdhMWIx2AIF4AIB&ucfs=1&arphpl=1&group_adults=2&req_adults=2&no_rooms=1&group_children=0&req_children=0&hpos=22&hapos=22&sr_order=popularity&srpvid=d5965b8b26d4049c&srepoch=1745499672&from=searchresults',\n",
       " 'https://www.booking.com/hotel/fr/appartement-centre-marseille.fr.html?aid=304142&label=gen173nr-1FCAQoggJCEHNlYXJjaF9tYXJzZWlsbGVIM1gEaE2IAQGYAQ24ARfIAQzYAQHoAQH4AQOIAgGoAgO4ApfsqMAGwAIB0gIkYzkzN2EwMGEtYmI1Ni00NWYxLTk1ZmMtNTViNDE1ZTBmZmY02AIF4AIB&ucfs=1&arphpl=1&group_adults=2&req_adults=2&no_rooms=1&group_children=0&req_children=0&hpos=25&hapos=25&sr_order=popularity&srpvid=28e45b8b04bf1643&srepoch=1745499672&from=searchresults',\n",
       " 'https://www.booking.com/hotel/fr/hostellerie-du-cigalou.fr.html?aid=304142&label=gen173nr-1FCAQoggJCGXNlYXJjaF9ib3JtZXMgbGVzIG1pbW9zYXNIM1gEaE2IAQGYAQ24ARfIAQzYAQHoAQH4AQOIAgGoAgO4ApfsqMAGwAIB0gIkMGU5NmRhYjUtYjI2Yy00YmZkLWEwMmYtYjAwMzk4YzdhMWIx2AIF4AIB&ucfs=1&arphpl=1&group_adults=2&req_adults=2&no_rooms=1&group_children=0&req_children=0&hpos=23&hapos=23&sr_order=popularity&srpvid=d5965b8b26d4049c&srepoch=1745499672&from=searchresults',\n",
       " 'https://www.booking.com/hotel/fr/merveille.fr.html?aid=304142&label=gen173nr-1FCAQoggJCGXNlYXJjaF9ib3JtZXMgbGVzIG1pbW9zYXNIM1gEaE2IAQGYAQ24ARfIAQzYAQHoAQH4AQOIAgGoAgO4ApfsqMAGwAIB0gIkMGU5NmRhYjUtYjI2Yy00YmZkLWEwMmYtYjAwMzk4YzdhMWIx2AIF4AIB&ucfs=1&arphpl=1&group_adults=2&req_adults=2&no_rooms=1&group_children=0&req_children=0&hpos=20&hapos=20&sr_order=popularity&srpvid=d5965b8b26d4049c&srepoch=1745499672&from=searchresults',\n",
       " 'https://www.booking.com/hotel/fr/new-life.fr.html?aid=304142&label=gen173nr-1FCAQoggJCGXNlYXJjaF9ib3JtZXMgbGVzIG1pbW9zYXNIM1gEaE2IAQGYAQ24ARfIAQzYAQHoAQH4AQOIAgGoAgO4ApfsqMAGwAIB0gIkMGU5NmRhYjUtYjI2Yy00YmZkLWEwMmYtYjAwMzk4YzdhMWIx2AIF4AIB&ucfs=1&arphpl=1&group_adults=2&req_adults=2&no_rooms=1&group_children=0&req_children=0&hpos=24&hapos=24&sr_order=popularity&srpvid=d5965b8b26d4049c&srepoch=1745499672&from=searchresults',\n",
       " 'https://www.booking.com/hotel/fr/restaurant-bellevue.fr.html?aid=304142&label=gen173nr-1FCAQoggJCGXNlYXJjaF9ib3JtZXMgbGVzIG1pbW9zYXNIM1gEaE2IAQGYAQ24ARfIAQzYAQHoAQH4AQOIAgGoAgO4ApfsqMAGwAIB0gIkMGU5NmRhYjUtYjI2Yy00YmZkLWEwMmYtYjAwMzk4YzdhMWIx2AIF4AIB&ucfs=1&arphpl=1&group_adults=2&req_adults=2&no_rooms=1&group_children=0&req_children=0&hpos=21&hapos=21&sr_order=popularity&srpvid=d5965b8b26d4049c&srepoch=1745499672&from=searchresults',\n",
       " 'https://www.booking.com/hotel/fr/appartement-proche-gare-marseille.fr.html?aid=304142&label=gen173nr-1FCAQoggJCEHNlYXJjaF9tYXJzZWlsbGVIM1gEaE2IAQGYAQ24ARfIAQzYAQHoAQH4AQOIAgGoAgO4ApfsqMAGwAIB0gIkYzkzN2EwMGEtYmI1Ni00NWYxLTk1ZmMtNTViNDE1ZTBmZmY02AIF4AIB&ucfs=1&arphpl=1&group_adults=2&req_adults=2&no_rooms=1&group_children=0&req_children=0&hpos=24&hapos=24&sr_order=popularity&srpvid=28e45b8b04bf1643&srepoch=1745499672&from=searchresults',\n",
       " 'https://www.booking.com/hotel/fr/ligo-by-happyculture-marseille4.fr.html?aid=304142&label=gen173nr-1FCAQoggJCEHNlYXJjaF9tYXJzZWlsbGVIM1gEaE2IAQGYAQ24ARfIAQzYAQHoAQH4AQOIAgGoAgO4ApfsqMAGwAIB0gIkYzkzN2EwMGEtYmI1Ni00NWYxLTk1ZmMtNTViNDE1ZTBmZmY02AIF4AIB&ucfs=1&arphpl=1&group_adults=2&req_adults=2&no_rooms=1&group_children=0&req_children=0&hpos=22&hapos=22&sr_order=popularity&srpvid=28e45b8b04bf1643&srepoch=1745499672&from=searchresults',\n",
       " 'https://www.booking.com/hotel/fr/studio-au-coeur-de-marseille-marseille4.fr.html?aid=304142&label=gen173nr-1FCAQoggJCEHNlYXJjaF9tYXJzZWlsbGVIM1gEaE2IAQGYAQ24ARfIAQzYAQHoAQH4AQOIAgGoAgO4ApfsqMAGwAIB0gIkYzkzN2EwMGEtYmI1Ni00NWYxLTk1ZmMtNTViNDE1ZTBmZmY02AIF4AIB&ucfs=1&arphpl=1&group_adults=2&req_adults=2&no_rooms=1&group_children=0&req_children=0&hpos=21&hapos=21&sr_order=popularity&srpvid=28e45b8b04bf1643&srepoch=1745499672&from=searchresults',\n",
       " 'https://www.booking.com/hotel/fr/la-petite-bastide-cassis.fr.html?aid=304142&label=gen173nr-1FCAQoggJCDXNlYXJjaF9jYXNzaXNIM1gEaE2IAQGYAQ24ARfIAQzYAQHoAQH4AQOIAgGoAgO4ApfsqMAGwAIB0gIkYzJjOTZmZjItOGVkZS00YjE3LTkyOTktY2U5MWQ2ZjE4ZjA32AIF4AIB&ucfs=1&arphpl=1&group_adults=2&req_adults=2&no_rooms=1&group_children=0&req_children=0&hpos=25&hapos=25&sr_order=popularity&srpvid=797d5b8bdb590e4a&srepoch=1745499673&from=searchresults',\n",
       " 'https://www.booking.com/hotel/fr/les-toits-de-la-canebiere-studio-tout-confort.fr.html?aid=304142&label=gen173nr-1FCAQoggJCEHNlYXJjaF9tYXJzZWlsbGVIM1gEaE2IAQGYAQ24ARfIAQzYAQHoAQH4AQOIAgGoAgO4ApfsqMAGwAIB0gIkYzkzN2EwMGEtYmI1Ni00NWYxLTk1ZmMtNTViNDE1ZTBmZmY02AIF4AIB&ucfs=1&arphpl=1&group_adults=2&req_adults=2&no_rooms=1&group_children=0&req_children=0&hpos=23&hapos=23&sr_order=popularity&srpvid=28e45b8b04bf1643&srepoch=1745499672&from=searchresults',\n",
       " 'https://www.booking.com/hotel/fr/le-ptit-paradis-d-emma-grand-t3-parking-terrasse.fr.html?aid=304142&label=gen173nr-1FCAQoggJCDXNlYXJjaF9jYXNzaXNIM1gEaE2IAQGYAQ24ARfIAQzYAQHoAQH4AQOIAgGoAgO4ApfsqMAGwAIB0gIkYzJjOTZmZjItOGVkZS00YjE3LTkyOTktY2U5MWQ2ZjE4ZjA32AIF4AIB&ucfs=1&arphpl=1&group_adults=2&req_adults=2&no_rooms=1&group_children=0&req_children=0&hpos=23&hapos=23&sr_order=popularity&srpvid=797d5b8bdb590e4a&srepoch=1745499673&from=searchresults',\n",
       " 'https://www.booking.com/hotel/fr/le-golfe-cassis.fr.html?aid=304142&label=gen173nr-1FCAQoggJCDXNlYXJjaF9jYXNzaXNIM1gEaE2IAQGYAQ24ARfIAQzYAQHoAQH4AQOIAgGoAgO4ApfsqMAGwAIB0gIkYzJjOTZmZjItOGVkZS00YjE3LTkyOTktY2U5MWQ2ZjE4ZjA32AIF4AIB&ucfs=1&arphpl=1&group_adults=2&req_adults=2&no_rooms=1&group_children=0&req_children=0&hpos=22&hapos=22&sr_order=popularity&srpvid=797d5b8bdb590e4a&srepoch=1745499673&from=searchresults',\n",
       " 'https://www.booking.com/hotel/fr/entre-terre-et-mer-a-cassis.fr.html?aid=304142&label=gen173nr-1FCAQoggJCDXNlYXJjaF9jYXNzaXNIM1gEaE2IAQGYAQ24ARfIAQzYAQHoAQH4AQOIAgGoAgO4ApfsqMAGwAIB0gIkYzJjOTZmZjItOGVkZS00YjE3LTkyOTktY2U5MWQ2ZjE4ZjA32AIF4AIB&ucfs=1&arphpl=1&group_adults=2&req_adults=2&no_rooms=1&group_children=0&req_children=0&hpos=24&hapos=24&sr_order=popularity&srpvid=797d5b8bdb590e4a&srepoch=1745499673&from=searchresults',\n",
       " 'https://www.booking.com/hotel/fr/charmant-studio-cassis.fr.html?aid=304142&label=gen173nr-1FCAQoggJCDXNlYXJjaF9jYXNzaXNIM1gEaE2IAQGYAQ24ARfIAQzYAQHoAQH4AQOIAgGoAgO4ApfsqMAGwAIB0gIkYzJjOTZmZjItOGVkZS00YjE3LTkyOTktY2U5MWQ2ZjE4ZjA32AIF4AIB&ucfs=1&arphpl=1&group_adults=2&req_adults=2&no_rooms=1&group_children=0&req_children=0&hpos=21&hapos=21&sr_order=popularity&srpvid=797d5b8bdb590e4a&srepoch=1745499673&from=searchresults',\n",
       " 'https://www.booking.com/hotel/fr/appartement-cassis-plage.fr.html?aid=304142&label=gen173nr-1FCAQoggJCDXNlYXJjaF9jYXNzaXNIM1gEaE2IAQGYAQ24ARfIAQzYAQHoAQH4AQOIAgGoAgO4ApfsqMAGwAIB0gIkYzJjOTZmZjItOGVkZS00YjE3LTkyOTktY2U5MWQ2ZjE4ZjA32AIF4AIB&ucfs=1&arphpl=1&group_adults=2&req_adults=2&no_rooms=1&group_children=0&req_children=0&hpos=20&hapos=20&sr_order=popularity&srpvid=797d5b8bdb590e4a&srepoch=1745499673&from=searchresults',\n",
       " 'https://www.booking.com/hotel/fr/mistral-gagnant-cassis.fr.html?aid=304142&label=gen173nr-1FCAQoggJCDXNlYXJjaF9jYXNzaXNIM1gEaE2IAQGYAQ24ARfIAQzYAQHoAQH4AQOIAgGoAgO4ApfsqMAGwAIB0gIkYzJjOTZmZjItOGVkZS00YjE3LTkyOTktY2U5MWQ2ZjE4ZjA32AIF4AIB&ucfs=1&arphpl=1&group_adults=2&req_adults=2&no_rooms=1&group_children=0&req_children=0&hpos=19&hapos=19&sr_order=popularity&srpvid=797d5b8bdb590e4a&srepoch=1745499673&from=searchresults',\n",
       " 'https://www.booking.com/hotel/fr/appartement-astoria-villa-face-piscine.fr.html?aid=304142&label=gen173nr-1FCAQoggJCDXNlYXJjaF9jYXNzaXNIM1gEaE2IAQGYAQ24ARfIAQzYAQHoAQH4AQOIAgGoAgO4ApfsqMAGwAIB0gIkYzJjOTZmZjItOGVkZS00YjE3LTkyOTktY2U5MWQ2ZjE4ZjA32AIF4AIB&ucfs=1&arphpl=1&group_adults=2&req_adults=2&no_rooms=1&group_children=0&req_children=0&hpos=17&hapos=17&sr_order=popularity&srpvid=797d5b8bdb590e4a&srepoch=1745499673&from=searchresults',\n",
       " 'https://www.booking.com/hotel/fr/appt-4-personnes-vue-mer-parking-climatisation.fr.html?aid=304142&label=gen173nr-1FCAQoggJCDXNlYXJjaF9jYXNzaXNIM1gEaE2IAQGYAQ24ARfIAQzYAQHoAQH4AQOIAgGoAgO4ApfsqMAGwAIB0gIkYzJjOTZmZjItOGVkZS00YjE3LTkyOTktY2U5MWQ2ZjE4ZjA32AIF4AIB&ucfs=1&arphpl=1&group_adults=2&req_adults=2&no_rooms=1&group_children=0&req_children=0&hpos=18&hapos=18&sr_order=popularity&srpvid=797d5b8bdb590e4a&srepoch=1745499673&from=searchresults',\n",
       " 'https://www.booking.com/hotel/fr/calanques-cassis-apartment.fr.html?aid=304142&label=gen173nr-1FCAQoggJCDXNlYXJjaF9jYXNzaXNIM1gEaE2IAQGYAQ24ARfIAQzYAQHoAQH4AQOIAgGoAgO4ApfsqMAGwAIB0gIkYzJjOTZmZjItOGVkZS00YjE3LTkyOTktY2U5MWQ2ZjE4ZjA32AIF4AIB&ucfs=1&arphpl=1&group_adults=2&req_adults=2&no_rooms=1&group_children=0&req_children=0&hpos=15&hapos=15&sr_order=popularity&srpvid=797d5b8bdb590e4a&srepoch=1745499673&from=searchresults',\n",
       " 'https://www.booking.com/hotel/fr/location-au-bord-de-l-eau-cassis.fr.html?aid=304142&label=gen173nr-1FCAQoggJCDXNlYXJjaF9jYXNzaXNIM1gEaE2IAQGYAQ24ARfIAQzYAQHoAQH4AQOIAgGoAgO4ApfsqMAGwAIB0gIkYzJjOTZmZjItOGVkZS00YjE3LTkyOTktY2U5MWQ2ZjE4ZjA32AIF4AIB&ucfs=1&arphpl=1&group_adults=2&req_adults=2&no_rooms=1&group_children=0&req_children=0&hpos=14&hapos=14&sr_order=popularity&srpvid=797d5b8bdb590e4a&srepoch=1745499673&from=searchresults',\n",
       " 'https://www.booking.com/hotel/fr/aiguade-appartement-a-cassis.fr.html?aid=304142&label=gen173nr-1FCAQoggJCDXNlYXJjaF9jYXNzaXNIM1gEaE2IAQGYAQ24ARfIAQzYAQHoAQH4AQOIAgGoAgO4ApfsqMAGwAIB0gIkYzJjOTZmZjItOGVkZS00YjE3LTkyOTktY2U5MWQ2ZjE4ZjA32AIF4AIB&ucfs=1&arphpl=1&group_adults=2&req_adults=2&no_rooms=1&group_children=0&req_children=0&hpos=16&hapos=16&sr_order=popularity&srpvid=797d5b8bdb590e4a&srepoch=1745499673&from=searchresults',\n",
       " 'https://www.booking.com/hotel/fr/cassis-calanques-2-pieces-grande-terrasse-vue-mer.fr.html?aid=304142&label=gen173nr-1FCAQoggJCDXNlYXJjaF9jYXNzaXNIM1gEaE2IAQGYAQ24ARfIAQzYAQHoAQH4AQOIAgGoAgO4ApfsqMAGwAIB0gIkYzJjOTZmZjItOGVkZS00YjE3LTkyOTktY2U5MWQ2ZjE4ZjA32AIF4AIB&ucfs=1&arphpl=1&group_adults=2&req_adults=2&no_rooms=1&group_children=0&req_children=0&hpos=13&hapos=13&sr_order=popularity&srpvid=797d5b8bdb590e4a&srepoch=1745499673&from=searchresults',\n",
       " 'https://www.booking.com/hotel/fr/seaview-cassis.fr.html?aid=304142&label=gen173nr-1FCAQoggJCDXNlYXJjaF9jYXNzaXNIM1gEaE2IAQGYAQ24ARfIAQzYAQHoAQH4AQOIAgGoAgO4ApfsqMAGwAIB0gIkYzJjOTZmZjItOGVkZS00YjE3LTkyOTktY2U5MWQ2ZjE4ZjA32AIF4AIB&ucfs=1&arphpl=1&group_adults=2&req_adults=2&no_rooms=1&group_children=0&req_children=0&hpos=12&hapos=12&sr_order=popularity&srpvid=797d5b8bdb590e4a&srepoch=1745499673&from=searchresults',\n",
       " 'https://www.booking.com/hotel/fr/aquarius-in-cassis-chambres-d-hotes.fr.html?aid=304142&label=gen173nr-1FCAQoggJCDXNlYXJjaF9jYXNzaXNIM1gEaE2IAQGYAQ24ARfIAQzYAQHoAQH4AQOIAgGoAgO4ApfsqMAGwAIB0gIkYzJjOTZmZjItOGVkZS00YjE3LTkyOTktY2U5MWQ2ZjE4ZjA32AIF4AIB&ucfs=1&arphpl=1&group_adults=2&req_adults=2&no_rooms=1&group_children=0&req_children=0&hpos=11&hapos=11&sr_order=popularity&srpvid=797d5b8bdb590e4a&srepoch=1745499673&from=searchresults',\n",
       " 'https://www.booking.com/hotel/fr/apartement-la-faviere-bormes-les-mimosas.fr.html?aid=304142&label=gen173nr-1FCAQoggJCGXNlYXJjaF9ib3JtZXMgbGVzIG1pbW9zYXNIM1gEaE2IAQGYAQ24ARfIAQzYAQHoAQH4AQOIAgGoAgO4ApfsqMAGwAIB0gIkMGU5NmRhYjUtYjI2Yy00YmZkLWEwMmYtYjAwMzk4YzdhMWIx2AIF4AIB&ucfs=1&arphpl=1&group_adults=2&req_adults=2&no_rooms=1&group_children=0&req_children=0&hpos=19&hapos=19&sr_order=popularity&srpvid=d5965b8b26d4049c&srepoch=1745499672&from=searchresults',\n",
       " 'https://www.booking.com/hotel/fr/paradis.fr.html?aid=304142&label=gen173nr-1FCAQoggJCGXNlYXJjaF9ib3JtZXMgbGVzIG1pbW9zYXNIM1gEaE2IAQGYAQ24ARfIAQzYAQHoAQH4AQOIAgGoAgO4ApfsqMAGwAIB0gIkMGU5NmRhYjUtYjI2Yy00YmZkLWEwMmYtYjAwMzk4YzdhMWIx2AIF4AIB&ucfs=1&arphpl=1&group_adults=2&req_adults=2&no_rooms=1&group_children=0&req_children=0&hpos=18&hapos=18&sr_order=popularity&srpvid=d5965b8b26d4049c&srepoch=1745499672&from=searchresults',\n",
       " 'https://www.booking.com/hotel/fr/coeur-de-village-bormes-les-mimosas.fr.html?aid=304142&label=gen173nr-1FCAQoggJCGXNlYXJjaF9ib3JtZXMgbGVzIG1pbW9zYXNIM1gEaE2IAQGYAQ24ARfIAQzYAQHoAQH4AQOIAgGoAgO4ApfsqMAGwAIB0gIkMGU5NmRhYjUtYjI2Yy00YmZkLWEwMmYtYjAwMzk4YzdhMWIx2AIF4AIB&ucfs=1&arphpl=1&group_adults=2&req_adults=2&no_rooms=1&group_children=0&req_children=0&hpos=17&hapos=17&sr_order=popularity&srpvid=d5965b8b26d4049c&srepoch=1745499672&from=searchresults',\n",
       " 'https://www.booking.com/hotel/fr/poseidon-mazet-60-m2-en-duplex-3-pieces-piscine-et-garage-prive.fr.html?aid=304142&label=gen173nr-1FCAQoggJCGXNlYXJjaF9ib3JtZXMgbGVzIG1pbW9zYXNIM1gEaE2IAQGYAQ24ARfIAQzYAQHoAQH4AQOIAgGoAgO4ApfsqMAGwAIB0gIkMGU5NmRhYjUtYjI2Yy00YmZkLWEwMmYtYjAwMzk4YzdhMWIx2AIF4AIB&ucfs=1&arphpl=1&group_adults=2&req_adults=2&no_rooms=1&group_children=0&req_children=0&hpos=16&hapos=16&sr_order=popularity&srpvid=d5965b8b26d4049c&srepoch=1745499672&from=searchresults',\n",
       " 'https://www.booking.com/hotel/fr/bormes-les-mimosas-appartement-vue-mer-4-pers.fr.html?aid=304142&label=gen173nr-1FCAQoggJCGXNlYXJjaF9ib3JtZXMgbGVzIG1pbW9zYXNIM1gEaE2IAQGYAQ24ARfIAQzYAQHoAQH4AQOIAgGoAgO4ApfsqMAGwAIB0gIkMGU5NmRhYjUtYjI2Yy00YmZkLWEwMmYtYjAwMzk4YzdhMWIx2AIF4AIB&ucfs=1&arphpl=1&group_adults=2&req_adults=2&no_rooms=1&group_children=0&req_children=0&hpos=14&hapos=14&sr_order=popularity&srpvid=d5965b8b26d4049c&srepoch=1745499672&from=searchresults',\n",
       " 'https://www.booking.com/hotel/fr/hotel-la-voile-fr.fr.html?aid=304142&label=gen173nr-1FCAQoggJCGXNlYXJjaF9ib3JtZXMgbGVzIG1pbW9zYXNIM1gEaE2IAQGYAQ24ARfIAQzYAQHoAQH4AQOIAgGoAgO4ApfsqMAGwAIB0gIkMGU5NmRhYjUtYjI2Yy00YmZkLWEwMmYtYjAwMzk4YzdhMWIx2AIF4AIB&ucfs=1&arphpl=1&group_adults=2&req_adults=2&no_rooms=1&group_children=0&req_children=0&hpos=15&hapos=15&sr_order=popularity&srpvid=d5965b8b26d4049c&srepoch=1745499672&from=searchresults',\n",
       " 'https://www.booking.com/hotel/fr/le-petit-atelier-bormes-les-mimosas1234567891011121314151617.fr.html?aid=304142&label=gen173nr-1FCAQoggJCGXNlYXJjaF9ib3JtZXMgbGVzIG1pbW9zYXNIM1gEaE2IAQGYAQ24ARfIAQzYAQHoAQH4AQOIAgGoAgO4ApfsqMAGwAIB0gIkMGU5NmRhYjUtYjI2Yy00YmZkLWEwMmYtYjAwMzk4YzdhMWIx2AIF4AIB&ucfs=1&arphpl=1&group_adults=2&req_adults=2&no_rooms=1&group_children=0&req_children=0&hpos=12&hapos=12&sr_order=popularity&srpvid=d5965b8b26d4049c&srepoch=1745499672&from=searchresults',\n",
       " 'https://www.booking.com/hotel/fr/select-sohome-t2-proche-de-la-station-balneaire-de-la-faviere-azur-17.fr.html?aid=304142&label=gen173nr-1FCAQoggJCGXNlYXJjaF9ib3JtZXMgbGVzIG1pbW9zYXNIM1gEaE2IAQGYAQ24ARfIAQzYAQHoAQH4AQOIAgGoAgO4ApfsqMAGwAIB0gIkMGU5NmRhYjUtYjI2Yy00YmZkLWEwMmYtYjAwMzk4YzdhMWIx2AIF4AIB&ucfs=1&arphpl=1&group_adults=2&req_adults=2&no_rooms=1&group_children=0&req_children=0&hpos=11&hapos=11&sr_order=popularity&srpvid=d5965b8b26d4049c&srepoch=1745499672&from=searchresults',\n",
       " 'https://www.booking.com/hotel/fr/lou-mazet-bormes-les-mimosas.fr.html?aid=304142&label=gen173nr-1FCAQoggJCGXNlYXJjaF9ib3JtZXMgbGVzIG1pbW9zYXNIM1gEaE2IAQGYAQ24ARfIAQzYAQHoAQH4AQOIAgGoAgO4ApfsqMAGwAIB0gIkMGU5NmRhYjUtYjI2Yy00YmZkLWEwMmYtYjAwMzk4YzdhMWIx2AIF4AIB&ucfs=1&arphpl=1&group_adults=2&req_adults=2&no_rooms=1&group_children=0&req_children=0&hpos=13&hapos=13&sr_order=popularity&srpvid=d5965b8b26d4049c&srepoch=1745499672&from=searchresults',\n",
       " 'https://www.booking.com/hotel/fr/la-lavandiere-bormes-les-mimosas.fr.html?aid=304142&label=gen173nr-1FCAQoggJCGXNlYXJjaF9ib3JtZXMgbGVzIG1pbW9zYXNIM1gEaE2IAQGYAQ24ARfIAQzYAQHoAQH4AQOIAgGoAgO4ApfsqMAGwAIB0gIkMGU5NmRhYjUtYjI2Yy00YmZkLWEwMmYtYjAwMzk4YzdhMWIx2AIF4AIB&ucfs=1&arphpl=1&group_adults=2&req_adults=2&no_rooms=1&group_children=0&req_children=0&hpos=10&hapos=10&sr_order=popularity&srpvid=d5965b8b26d4049c&srepoch=1745499672&from=searchresults',\n",
       " 'https://www.booking.com/hotel/fr/cosy-36m-with-nice-sea-view-center-village.fr.html?aid=304142&label=gen173nr-1FCAQoggJCGXNlYXJjaF9ib3JtZXMgbGVzIG1pbW9zYXNIM1gEaE2IAQGYAQ24ARfIAQzYAQHoAQH4AQOIAgGoAgO4ApfsqMAGwAIB0gIkMGU5NmRhYjUtYjI2Yy00YmZkLWEwMmYtYjAwMzk4YzdhMWIx2AIF4AIB&ucfs=1&arphpl=1&group_adults=2&req_adults=2&no_rooms=1&group_children=0&req_children=0&hpos=9&hapos=9&sr_order=popularity&srpvid=d5965b8b26d4049c&srepoch=1745499672&from=searchresults',\n",
       " 'https://www.booking.com/hotel/fr/les-terrasses-de-lo.fr.html?aid=304142&label=gen173nr-1FCAQoggJCGXNlYXJjaF9ib3JtZXMgbGVzIG1pbW9zYXNIM1gEaE2IAQGYAQ24ARfIAQzYAQHoAQH4AQOIAgGoAgO4ApfsqMAGwAIB0gIkMGU5NmRhYjUtYjI2Yy00YmZkLWEwMmYtYjAwMzk4YzdhMWIx2AIF4AIB&ucfs=1&arphpl=1&group_adults=2&req_adults=2&no_rooms=1&group_children=0&req_children=0&hpos=8&hapos=8&sr_order=popularity&srpvid=d5965b8b26d4049c&srepoch=1745499672&from=searchresults',\n",
       " 'https://www.booking.com/hotel/fr/studio-alize.fr.html?aid=304142&label=gen173nr-1FCAQoggJCGXNlYXJjaF9ib3JtZXMgbGVzIG1pbW9zYXNIM1gEaE2IAQGYAQ24ARfIAQzYAQHoAQH4AQOIAgGoAgO4ApfsqMAGwAIB0gIkMGU5NmRhYjUtYjI2Yy00YmZkLWEwMmYtYjAwMzk4YzdhMWIx2AIF4AIB&ucfs=1&arphpl=1&group_adults=2&req_adults=2&no_rooms=1&group_children=0&req_children=0&hpos=6&hapos=6&sr_order=popularity&srpvid=d5965b8b26d4049c&srepoch=1745499672&from=searchresults',\n",
       " 'https://www.booking.com/hotel/fr/boulevard-du-soleil.fr.html?aid=304142&label=gen173nr-1FCAQoggJCGXNlYXJjaF9ib3JtZXMgbGVzIG1pbW9zYXNIM1gEaE2IAQGYAQ24ARfIAQzYAQHoAQH4AQOIAgGoAgO4ApfsqMAGwAIB0gIkMGU5NmRhYjUtYjI2Yy00YmZkLWEwMmYtYjAwMzk4YzdhMWIx2AIF4AIB&ucfs=1&arphpl=1&group_adults=2&req_adults=2&no_rooms=1&group_children=0&req_children=0&hpos=7&hapos=7&sr_order=popularity&srpvid=d5965b8b26d4049c&srepoch=1745499672&from=searchresults',\n",
       " 'https://www.booking.com/hotel/fr/studio-vue-mer-au-village-de-bormes-les-mimosas.fr.html?aid=304142&label=gen173nr-1FCAQoggJCGXNlYXJjaF9ib3JtZXMgbGVzIG1pbW9zYXNIM1gEaE2IAQGYAQ24ARfIAQzYAQHoAQH4AQOIAgGoAgO4ApfsqMAGwAIB0gIkMGU5NmRhYjUtYjI2Yy00YmZkLWEwMmYtYjAwMzk4YzdhMWIx2AIF4AIB&ucfs=1&arphpl=1&group_adults=2&req_adults=2&no_rooms=1&group_children=0&req_children=0&hpos=5&hapos=5&sr_order=popularity&srpvid=d5965b8b26d4049c&srepoch=1745499672&from=searchresults',\n",
       " 'https://www.booking.com/hotel/fr/superbe-t2-4-etoiles-climatise-faviere-refait-a-neuf.fr.html?aid=304142&label=gen173nr-1FCAQoggJCGXNlYXJjaF9ib3JtZXMgbGVzIG1pbW9zYXNIM1gEaE2IAQGYAQ24ARfIAQzYAQHoAQH4AQOIAgGoAgO4ApfsqMAGwAIB0gIkMGU5NmRhYjUtYjI2Yy00YmZkLWEwMmYtYjAwMzk4YzdhMWIx2AIF4AIB&ucfs=1&arphpl=1&group_adults=2&req_adults=2&no_rooms=1&group_children=0&req_children=0&hpos=2&hapos=2&sr_order=popularity&srpvid=d5965b8b26d4049c&srepoch=1745499672&from=searchresults',\n",
       " 'https://www.booking.com/hotel/fr/studio-figuier-bormes-les-mimosas.fr.html?aid=304142&label=gen173nr-1FCAQoggJCGXNlYXJjaF9ib3JtZXMgbGVzIG1pbW9zYXNIM1gEaE2IAQGYAQ24ARfIAQzYAQHoAQH4AQOIAgGoAgO4ApfsqMAGwAIB0gIkMGU5NmRhYjUtYjI2Yy00YmZkLWEwMmYtYjAwMzk4YzdhMWIx2AIF4AIB&ucfs=1&arphpl=1&group_adults=2&req_adults=2&no_rooms=1&group_children=0&req_children=0&hpos=4&hapos=4&sr_order=popularity&srpvid=d5965b8b26d4049c&srepoch=1745499672&from=searchresults',\n",
       " 'https://www.booking.com/hotel/fr/studio-ideal-sejour-en-amoureux-rez-de-jardin-proche-plage.fr.html?aid=304142&label=gen173nr-1FCAQoggJCGXNlYXJjaF9ib3JtZXMgbGVzIG1pbW9zYXNIM1gEaE2IAQGYAQ24ARfIAQzYAQHoAQH4AQOIAgGoAgO4ApfsqMAGwAIB0gIkMGU5NmRhYjUtYjI2Yy00YmZkLWEwMmYtYjAwMzk4YzdhMWIx2AIF4AIB&ucfs=1&arphpl=1&group_adults=2&req_adults=2&no_rooms=1&group_children=0&req_children=0&hpos=3&hapos=3&sr_order=popularity&srpvid=d5965b8b26d4049c&srepoch=1745499672&from=searchresults',\n",
       " 'https://www.booking.com/hotel/fr/ravissant-studio-dans-le-vieux-marseille-entierement-renove-avec-vu-sur-vieux-po.fr.html?aid=304142&label=gen173nr-1FCAQoggJCEHNlYXJjaF9tYXJzZWlsbGVIM1gEaE2IAQGYAQ24ARfIAQzYAQHoAQH4AQOIAgGoAgO4ApfsqMAGwAIB0gIkYzkzN2EwMGEtYmI1Ni00NWYxLTk1ZmMtNTViNDE1ZTBmZmY02AIF4AIB&ucfs=1&arphpl=1&group_adults=2&req_adults=2&no_rooms=1&group_children=0&req_children=0&hpos=20&hapos=20&sr_order=popularity&srpvid=28e45b8b04bf1643&srepoch=1745499672&from=searchresults',\n",
       " 'https://www.booking.com/hotel/fr/charmant-t2-avec-balcon-chaves.fr.html?aid=304142&label=gen173nr-1FCAQoggJCEHNlYXJjaF9tYXJzZWlsbGVIM1gEaE2IAQGYAQ24ARfIAQzYAQHoAQH4AQOIAgGoAgO4ApfsqMAGwAIB0gIkYzkzN2EwMGEtYmI1Ni00NWYxLTk1ZmMtNTViNDE1ZTBmZmY02AIF4AIB&ucfs=1&arphpl=1&group_adults=2&req_adults=2&no_rooms=1&group_children=0&req_children=0&hpos=19&hapos=19&sr_order=popularity&srpvid=28e45b8b04bf1643&srepoch=1745499672&from=searchresults',\n",
       " 'https://www.booking.com/hotel/fr/montgrand.fr.html?aid=304142&label=gen173nr-1FCAQoggJCEHNlYXJjaF9tYXJzZWlsbGVIM1gEaE2IAQGYAQ24ARfIAQzYAQHoAQH4AQOIAgGoAgO4ApfsqMAGwAIB0gIkYzkzN2EwMGEtYmI1Ni00NWYxLTk1ZmMtNTViNDE1ZTBmZmY02AIF4AIB&ucfs=1&arphpl=1&group_adults=2&req_adults=2&no_rooms=1&group_children=0&req_children=0&hpos=18&hapos=18&sr_order=popularity&srpvid=28e45b8b04bf1643&srepoch=1745499672&from=searchresults',\n",
       " 'https://www.booking.com/hotel/fr/sv-au-pied-du-vieux-port.fr.html?aid=304142&label=gen173nr-1FCAQoggJCEHNlYXJjaF9tYXJzZWlsbGVIM1gEaE2IAQGYAQ24ARfIAQzYAQHoAQH4AQOIAgGoAgO4ApfsqMAGwAIB0gIkYzkzN2EwMGEtYmI1Ni00NWYxLTk1ZmMtNTViNDE1ZTBmZmY02AIF4AIB&ucfs=1&arphpl=1&group_adults=2&req_adults=2&no_rooms=1&group_children=0&req_children=0&hpos=17&hapos=17&sr_order=popularity&srpvid=28e45b8b04bf1643&srepoch=1745499672&from=searchresults',\n",
       " 'https://www.booking.com/hotel/fr/suite-parentale-independante.fr.html?aid=304142&label=gen173nr-1FCAQoggJCEHNlYXJjaF9tYXJzZWlsbGVIM1gEaE2IAQGYAQ24ARfIAQzYAQHoAQH4AQOIAgGoAgO4ApfsqMAGwAIB0gIkYzkzN2EwMGEtYmI1Ni00NWYxLTk1ZmMtNTViNDE1ZTBmZmY02AIF4AIB&ucfs=1&arphpl=1&group_adults=2&req_adults=2&no_rooms=1&group_children=0&req_children=0&hpos=16&hapos=16&sr_order=popularity&srpvid=28e45b8b04bf1643&srepoch=1745499672&from=searchresults',\n",
       " 'https://www.booking.com/hotel/fr/joli-t2-moderne-au-centre-de-marseille.fr.html?aid=304142&label=gen173nr-1FCAQoggJCEHNlYXJjaF9tYXJzZWlsbGVIM1gEaE2IAQGYAQ24ARfIAQzYAQHoAQH4AQOIAgGoAgO4ApfsqMAGwAIB0gIkYzkzN2EwMGEtYmI1Ni00NWYxLTk1ZmMtNTViNDE1ZTBmZmY02AIF4AIB&ucfs=1&arphpl=1&group_adults=2&req_adults=2&no_rooms=1&group_children=0&req_children=0&hpos=15&hapos=15&sr_order=popularity&srpvid=28e45b8b04bf1643&srepoch=1745499672&from=searchresults',\n",
       " 'https://www.booking.com/hotel/fr/le-madeleine-marseille.fr.html?aid=304142&label=gen173nr-1FCAQoggJCEHNlYXJjaF9tYXJzZWlsbGVIM1gEaE2IAQGYAQ24ARfIAQzYAQHoAQH4AQOIAgGoAgO4ApfsqMAGwAIB0gIkYzkzN2EwMGEtYmI1Ni00NWYxLTk1ZmMtNTViNDE1ZTBmZmY02AIF4AIB&ucfs=1&arphpl=1&group_adults=2&req_adults=2&no_rooms=1&group_children=0&req_children=0&hpos=14&hapos=14&sr_order=popularity&srpvid=28e45b8b04bf1643&srepoch=1745499672&from=searchresults',\n",
       " 'https://www.booking.com/hotel/fr/elana-bel-appartement-dans-la-quartier-du-camas.fr.html?aid=304142&label=gen173nr-1FCAQoggJCEHNlYXJjaF9tYXJzZWlsbGVIM1gEaE2IAQGYAQ24ARfIAQzYAQHoAQH4AQOIAgGoAgO4ApfsqMAGwAIB0gIkYzkzN2EwMGEtYmI1Ni00NWYxLTk1ZmMtNTViNDE1ZTBmZmY02AIF4AIB&ucfs=1&arphpl=1&group_adults=2&req_adults=2&no_rooms=1&group_children=0&req_children=0&hpos=12&hapos=12&sr_order=popularity&srpvid=28e45b8b04bf1643&srepoch=1745499672&from=searchresults',\n",
       " 'https://www.booking.com/hotel/fr/residence-kley-marseille-republique.fr.html?aid=304142&label=gen173nr-1FCAQoggJCEHNlYXJjaF9tYXJzZWlsbGVIM1gEaE2IAQGYAQ24ARfIAQzYAQHoAQH4AQOIAgGoAgO4ApfsqMAGwAIB0gIkYzkzN2EwMGEtYmI1Ni00NWYxLTk1ZmMtNTViNDE1ZTBmZmY02AIF4AIB&ucfs=1&arphpl=1&group_adults=2&req_adults=2&no_rooms=1&group_children=0&req_children=0&hpos=11&hapos=11&sr_order=popularity&srpvid=28e45b8b04bf1643&srepoch=1745499672&from=searchresults',\n",
       " 'https://www.booking.com/hotel/fr/appartement-1-chambre-panier.fr.html?aid=304142&label=gen173nr-1FCAQoggJCEHNlYXJjaF9tYXJzZWlsbGVIM1gEaE2IAQGYAQ24ARfIAQzYAQHoAQH4AQOIAgGoAgO4ApfsqMAGwAIB0gIkYzkzN2EwMGEtYmI1Ni00NWYxLTk1ZmMtNTViNDE1ZTBmZmY02AIF4AIB&ucfs=1&arphpl=1&group_adults=2&req_adults=2&no_rooms=1&group_children=0&req_children=0&hpos=13&hapos=13&sr_order=popularity&srpvid=28e45b8b04bf1643&srepoch=1745499672&from=searchresults',\n",
       " 'https://www.booking.com/hotel/fr/hermes.fr.html?aid=304142&label=gen173nr-1FCAQoggJCEHNlYXJjaF9tYXJzZWlsbGVIM1gEaE2IAQGYAQ24ARfIAQzYAQHoAQH4AQOIAgGoAgO4ApfsqMAGwAIB0gIkYzkzN2EwMGEtYmI1Ni00NWYxLTk1ZmMtNTViNDE1ZTBmZmY02AIF4AIB&ucfs=1&arphpl=1&group_adults=2&req_adults=2&no_rooms=1&group_children=0&req_children=0&hpos=9&hapos=9&sr_order=popularity&srpvid=28e45b8b04bf1643&srepoch=1745499672&from=searchresults',\n",
       " 'https://www.booking.com/hotel/fr/odalys-city-marseille-centre-euromed.fr.html?aid=304142&label=gen173nr-1FCAQoggJCEHNlYXJjaF9tYXJzZWlsbGVIM1gEaE2IAQGYAQ24ARfIAQzYAQHoAQH4AQOIAgGoAgO4ApfsqMAGwAIB0gIkYzkzN2EwMGEtYmI1Ni00NWYxLTk1ZmMtNTViNDE1ZTBmZmY02AIF4AIB&ucfs=1&arphpl=1&group_adults=2&req_adults=2&no_rooms=1&group_children=0&req_children=0&hpos=10&hapos=10&sr_order=popularity&srpvid=28e45b8b04bf1643&srepoch=1745499672&from=searchresults',\n",
       " 'https://www.booking.com/hotel/fr/easyhotel-marseille.fr.html?aid=304142&label=gen173nr-1FCAQoggJCEHNlYXJjaF9tYXJzZWlsbGVIM1gEaE2IAQGYAQ24ARfIAQzYAQHoAQH4AQOIAgGoAgO4ApfsqMAGwAIB0gIkYzkzN2EwMGEtYmI1Ni00NWYxLTk1ZmMtNTViNDE1ZTBmZmY02AIF4AIB&ucfs=1&arphpl=1&group_adults=2&req_adults=2&no_rooms=1&group_children=0&req_children=0&hpos=7&hapos=7&sr_order=popularity&srpvid=28e45b8b04bf1643&srepoch=1745499672&from=searchresults',\n",
       " 'https://www.booking.com/hotel/fr/vieux-port-studio-chic.fr.html?aid=304142&label=gen173nr-1FCAQoggJCEHNlYXJjaF9tYXJzZWlsbGVIM1gEaE2IAQGYAQ24ARfIAQzYAQHoAQH4AQOIAgGoAgO4ApfsqMAGwAIB0gIkYzkzN2EwMGEtYmI1Ni00NWYxLTk1ZmMtNTViNDE1ZTBmZmY02AIF4AIB&ucfs=1&arphpl=1&group_adults=2&req_adults=2&no_rooms=1&group_children=0&req_children=0&hpos=8&hapos=8&sr_order=popularity&srpvid=28e45b8b04bf1643&srepoch=1745499672&from=searchresults',\n",
       " 'https://www.booking.com/hotel/fr/logement-caroline.fr.html?aid=304142&label=gen173nr-1FCAQoggJCEHNlYXJjaF9tYXJzZWlsbGVIM1gEaE2IAQGYAQ24ARfIAQzYAQHoAQH4AQOIAgGoAgO4ApfsqMAGwAIB0gIkYzkzN2EwMGEtYmI1Ni00NWYxLTk1ZmMtNTViNDE1ZTBmZmY02AIF4AIB&ucfs=1&arphpl=1&group_adults=2&req_adults=2&no_rooms=1&group_children=0&req_children=0&hpos=6&hapos=6&sr_order=popularity&srpvid=28e45b8b04bf1643&srepoch=1745499672&from=searchresults',\n",
       " 'https://www.booking.com/hotel/fr/le-studio-des-artistes.fr.html?aid=304142&label=gen173nr-1FCAQoggJCEHNlYXJjaF9tYXJzZWlsbGVIM1gEaE2IAQGYAQ24ARfIAQzYAQHoAQH4AQOIAgGoAgO4ApfsqMAGwAIB0gIkYzkzN2EwMGEtYmI1Ni00NWYxLTk1ZmMtNTViNDE1ZTBmZmY02AIF4AIB&ucfs=1&arphpl=1&group_adults=2&req_adults=2&no_rooms=1&group_children=0&req_children=0&hpos=5&hapos=5&sr_order=popularity&srpvid=28e45b8b04bf1643&srepoch=1745499672&from=searchresults',\n",
       " 'https://www.booking.com/hotel/fr/les-toits-du-vieux-port.fr.html?aid=304142&label=gen173nr-1FCAQoggJCEHNlYXJjaF9tYXJzZWlsbGVIM1gEaE2IAQGYAQ24ARfIAQzYAQHoAQH4AQOIAgGoAgO4ApfsqMAGwAIB0gIkYzkzN2EwMGEtYmI1Ni00NWYxLTk1ZmMtNTViNDE1ZTBmZmY02AIF4AIB&ucfs=1&arphpl=1&group_adults=2&req_adults=2&no_rooms=1&group_children=0&req_children=0&hpos=3&hapos=3&sr_order=popularity&srpvid=28e45b8b04bf1643&srepoch=1745499672&from=searchresults',\n",
       " 'https://www.booking.com/hotel/fr/toyoko-inn-marseille-saint-charles.fr.html?aid=304142&label=gen173nr-1FCAQoggJCEHNlYXJjaF9tYXJzZWlsbGVIM1gEaE2IAQGYAQ24ARfIAQzYAQHoAQH4AQOIAgGoAgO4ApfsqMAGwAIB0gIkYzkzN2EwMGEtYmI1Ni00NWYxLTk1ZmMtNTViNDE1ZTBmZmY02AIF4AIB&ucfs=1&arphpl=1&group_adults=2&req_adults=2&no_rooms=1&group_children=0&req_children=0&hpos=4&hapos=4&sr_order=popularity&srpvid=28e45b8b04bf1643&srepoch=1745499672&from=searchresults',\n",
       " 'https://www.booking.com/hotel/fr/grand-t1-vieux-port-salle-de-sport-amp-rooftop.fr.html?aid=304142&label=gen173nr-1FCAQoggJCEHNlYXJjaF9tYXJzZWlsbGVIM1gEaE2IAQGYAQ24ARfIAQzYAQHoAQH4AQOIAgGoAgO4ApfsqMAGwAIB0gIkYzkzN2EwMGEtYmI1Ni00NWYxLTk1ZmMtNTViNDE1ZTBmZmY02AIF4AIB&ucfs=1&arphpl=1&group_adults=2&req_adults=2&no_rooms=1&group_children=0&req_children=0&hpos=2&hapos=2&sr_order=popularity&srpvid=28e45b8b04bf1643&srepoch=1745499672&from=searchresults',\n",
       " 'https://www.booking.com/hotel/fr/ambiance-nature-aux-portes-des-halles-de-nimes.fr.html?aid=304142&label=gen173nr-1FCAQoggJCDHNlYXJjaF9uaW1lc0gzWARoTYgBAZgBDbgBF8gBDNgBAegBAfgBA4gCAagCA7gCl-yowAbAAgHSAiQ1OGUyMGZlOS01MjdjLTQ2OGItYjgyZC1jMWU0OGY2NGQ4MjDYAgXgAgE&ucfs=1&arphpl=1&group_adults=2&req_adults=2&no_rooms=1&group_children=0&req_children=0&hpos=8&hapos=8&sr_order=popularity&srpvid=d5965b8b343f0269&srepoch=1745499672&from=searchresults',\n",
       " 'https://www.booking.com/hotel/fr/square-nimes.fr.html?aid=304142&label=gen173nr-1FCAQoggJCDHNlYXJjaF9uaW1lc0gzWARoTYgBAZgBDbgBF8gBDNgBAegBAfgBA4gCAagCA7gCl-yowAbAAgHSAiQ1OGUyMGZlOS01MjdjLTQ2OGItYjgyZC1jMWU0OGY2NGQ4MjDYAgXgAgE&ucfs=1&arphpl=1&group_adults=2&req_adults=2&no_rooms=1&group_children=0&req_children=0&hpos=6&hapos=6&sr_order=popularity&srpvid=d5965b8b343f0269&srepoch=1745499672&from=searchresults',\n",
       " 'https://www.booking.com/hotel/fr/le-13-nimes.fr.html?aid=304142&label=gen173nr-1FCAQoggJCDHNlYXJjaF9uaW1lc0gzWARoTYgBAZgBDbgBF8gBDNgBAegBAfgBA4gCAagCA7gCl-yowAbAAgHSAiQ1OGUyMGZlOS01MjdjLTQ2OGItYjgyZC1jMWU0OGY2NGQ4MjDYAgXgAgE&ucfs=1&arphpl=1&group_adults=2&req_adults=2&no_rooms=1&group_children=0&req_children=0&hpos=9&hapos=9&sr_order=popularity&srpvid=d5965b8b343f0269&srepoch=1745499672&from=searchresults',\n",
       " 'https://www.booking.com/hotel/fr/ibis-budget-nimes-centre-gare.fr.html?aid=304142&label=gen173nr-1FCAQoggJCDHNlYXJjaF9uaW1lc0gzWARoTYgBAZgBDbgBF8gBDNgBAegBAfgBA4gCAagCA7gCl-yowAbAAgHSAiQ1OGUyMGZlOS01MjdjLTQ2OGItYjgyZC1jMWU0OGY2NGQ4MjDYAgXgAgE&ucfs=1&arphpl=1&group_adults=2&req_adults=2&no_rooms=1&group_children=0&req_children=0&hpos=7&hapos=7&sr_order=popularity&srpvid=d5965b8b343f0269&srepoch=1745499672&from=searchresults',\n",
       " 'https://www.booking.com/hotel/fr/campanile-nimes-centre-mas-carbonnel.fr.html?aid=304142&label=gen173nr-1FCAQoggJCDHNlYXJjaF9uaW1lc0gzWARoTYgBAZgBDbgBF8gBDNgBAegBAfgBA4gCAagCA7gCl-yowAbAAgHSAiQ1OGUyMGZlOS01MjdjLTQ2OGItYjgyZC1jMWU0OGY2NGQ4MjDYAgXgAgE&ucfs=1&arphpl=1&group_adults=2&req_adults=2&no_rooms=1&group_children=0&req_children=0&hpos=4&hapos=4&sr_order=popularity&srpvid=d5965b8b343f0269&srepoch=1745499672&from=searchresults',\n",
       " 'https://www.booking.com/hotel/fr/appart-39-city-nimes.fr.html?aid=304142&label=gen173nr-1FCAQoggJCDHNlYXJjaF9uaW1lc0gzWARoTYgBAZgBDbgBF8gBDNgBAegBAfgBA4gCAagCA7gCl-yowAbAAgHSAiQ1OGUyMGZlOS01MjdjLTQ2OGItYjgyZC1jMWU0OGY2NGQ4MjDYAgXgAgE&ucfs=1&arphpl=1&group_adults=2&req_adults=2&no_rooms=1&group_children=0&req_children=0&hpos=3&hapos=3&sr_order=popularity&srpvid=d5965b8b343f0269&srepoch=1745499672&from_sustainable_property_sr=1&from=searchresults',\n",
       " 'https://www.booking.com/hotel/fr/adagio-access-nimes.fr.html?aid=304142&label=gen173nr-1FCAQoggJCDHNlYXJjaF9uaW1lc0gzWARoTYgBAZgBDbgBF8gBDNgBAegBAfgBA4gCAagCA7gCl-yowAbAAgHSAiQ1OGUyMGZlOS01MjdjLTQ2OGItYjgyZC1jMWU0OGY2NGQ4MjDYAgXgAgE&ucfs=1&arphpl=1&group_adults=2&req_adults=2&no_rooms=1&group_children=0&req_children=0&hpos=5&hapos=5&sr_order=popularity&srpvid=d5965b8b343f0269&srepoch=1745499672&from_sustainable_property_sr=1&from=searchresults',\n",
       " 'https://www.booking.com/hotel/fr/b-amp-b-nimes-centre-ville.fr.html?aid=304142&label=gen173nr-1FCAQoggJCDHNlYXJjaF9uaW1lc0gzWARoTYgBAZgBDbgBF8gBDNgBAegBAfgBA4gCAagCA7gCl-yowAbAAgHSAiQ1OGUyMGZlOS01MjdjLTQ2OGItYjgyZC1jMWU0OGY2NGQ4MjDYAgXgAgE&ucfs=1&arphpl=1&group_adults=2&req_adults=2&no_rooms=1&group_children=0&req_children=0&hpos=2&hapos=2&sr_order=popularity&srpvid=d5965b8b343f0269&srepoch=1745499672&from_sustainable_property_sr=1&from=searchresults',\n",
       " 'https://www.booking.com/hotel/fr/la-rade-centre-ville-balcon-clim-neuf.fr.html?aid=304142&label=gen173nr-1FCAQoggJCDXNlYXJjaF9jYXNzaXNIM1gEaE2IAQGYAQ24ARfIAQzYAQHoAQH4AQOIAgGoAgO4ApfsqMAGwAIB0gIkYzJjOTZmZjItOGVkZS00YjE3LTkyOTktY2U5MWQ2ZjE4ZjA32AIF4AIB&ucfs=1&arphpl=1&group_adults=2&req_adults=2&no_rooms=1&group_children=0&req_children=0&hpos=9&hapos=9&sr_order=popularity&srpvid=797d5b8bdb590e4a&srepoch=1745499673&from=searchresults',\n",
       " 'https://www.booking.com/hotel/fr/home-cassis-maison-mediterrannee.fr.html?aid=304142&label=gen173nr-1FCAQoggJCDXNlYXJjaF9jYXNzaXNIM1gEaE2IAQGYAQ24ARfIAQzYAQHoAQH4AQOIAgGoAgO4ApfsqMAGwAIB0gIkYzJjOTZmZjItOGVkZS00YjE3LTkyOTktY2U5MWQ2ZjE4ZjA32AIF4AIB&ucfs=1&arphpl=1&group_adults=2&req_adults=2&no_rooms=1&group_children=0&req_children=0&hpos=8&hapos=8&sr_order=popularity&srpvid=797d5b8bdb590e4a&srepoch=1745499673&from=searchresults',\n",
       " 'https://www.booking.com/hotel/fr/studio-la-pinta-cassis.fr.html?aid=304142&label=gen173nr-1FCAQoggJCDXNlYXJjaF9jYXNzaXNIM1gEaE2IAQGYAQ24ARfIAQzYAQHoAQH4AQOIAgGoAgO4ApfsqMAGwAIB0gIkYzJjOTZmZjItOGVkZS00YjE3LTkyOTktY2U5MWQ2ZjE4ZjA32AIF4AIB&ucfs=1&arphpl=1&group_adults=2&req_adults=2&no_rooms=1&group_children=0&req_children=0&hpos=10&hapos=10&sr_order=popularity&srpvid=797d5b8bdb590e4a&srepoch=1745499673&from=searchresults',\n",
       " 'https://www.booking.com/hotel/fr/villa-bobnell.fr.html?aid=304142&label=gen173nr-1FCAQoggJCDXNlYXJjaF9jYXNzaXNIM1gEaE2IAQGYAQ24ARfIAQzYAQHoAQH4AQOIAgGoAgO4ApfsqMAGwAIB0gIkYzJjOTZmZjItOGVkZS00YjE3LTkyOTktY2U5MWQ2ZjE4ZjA32AIF4AIB&ucfs=1&arphpl=1&group_adults=2&req_adults=2&no_rooms=1&group_children=0&req_children=0&hpos=7&hapos=7&sr_order=popularity&srpvid=797d5b8bdb590e4a&srepoch=1745499673&from=searchresults',\n",
       " 'https://www.booking.com/hotel/fr/le-p-tit-canaille-plein-centre-avec-parking-prive.fr.html?aid=304142&label=gen173nr-1FCAQoggJCDXNlYXJjaF9jYXNzaXNIM1gEaE2IAQGYAQ24ARfIAQzYAQHoAQH4AQOIAgGoAgO4ApfsqMAGwAIB0gIkYzJjOTZmZjItOGVkZS00YjE3LTkyOTktY2U5MWQ2ZjE4ZjA32AIF4AIB&ucfs=1&arphpl=1&group_adults=2&req_adults=2&no_rooms=1&group_children=0&req_children=0&hpos=5&hapos=5&sr_order=popularity&srpvid=797d5b8bdb590e4a&srepoch=1745499673&from=searchresults',\n",
       " 'https://www.booking.com/hotel/fr/cassis-charmant-appart-en-face-de-la-plage.fr.html?aid=304142&label=gen173nr-1FCAQoggJCDXNlYXJjaF9jYXNzaXNIM1gEaE2IAQGYAQ24ARfIAQzYAQHoAQH4AQOIAgGoAgO4ApfsqMAGwAIB0gIkYzJjOTZmZjItOGVkZS00YjE3LTkyOTktY2U5MWQ2ZjE4ZjA32AIF4AIB&ucfs=1&arphpl=1&group_adults=2&req_adults=2&no_rooms=1&group_children=0&req_children=0&hpos=6&hapos=6&sr_order=popularity&srpvid=797d5b8bdb590e4a&srepoch=1745499673&from=searchresults',\n",
       " 'https://www.booking.com/hotel/fr/le-sept-charmant-studio-aux-portes-des-calanques.fr.html?aid=304142&label=gen173nr-1FCAQoggJCDXNlYXJjaF9jYXNzaXNIM1gEaE2IAQGYAQ24ARfIAQzYAQHoAQH4AQOIAgGoAgO4ApfsqMAGwAIB0gIkYzJjOTZmZjItOGVkZS00YjE3LTkyOTktY2U5MWQ2ZjE4ZjA32AIF4AIB&ucfs=1&arphpl=1&group_adults=2&req_adults=2&no_rooms=1&group_children=0&req_children=0&hpos=4&hapos=4&sr_order=popularity&srpvid=797d5b8bdb590e4a&srepoch=1745499673&from=searchresults',\n",
       " 'https://www.booking.com/hotel/fr/chez-nous-cassis.fr.html?aid=304142&label=gen173nr-1FCAQoggJCDXNlYXJjaF9jYXNzaXNIM1gEaE2IAQGYAQ24ARfIAQzYAQHoAQH4AQOIAgGoAgO4ApfsqMAGwAIB0gIkYzJjOTZmZjItOGVkZS00YjE3LTkyOTktY2U5MWQ2ZjE4ZjA32AIF4AIB&ucfs=1&arphpl=1&group_adults=2&req_adults=2&no_rooms=1&group_children=0&req_children=0&hpos=3&hapos=3&sr_order=popularity&srpvid=797d5b8bdb590e4a&srepoch=1745499673&from=searchresults',\n",
       " 'https://www.booking.com/hotel/fr/11-le-tadorne.fr.html?aid=304142&label=gen173nr-1FCAQoggJCFHNlYXJjaF9haWd1ZXMgbW9ydGVzSDNYBGhNiAEBmAENuAEXyAEM2AEB6AEB-AEDiAIBqAIDuAKX7KjABsACAdICJDA0ZTMwOWY2LTJlOGQtNGE3My04MDVhLWIxM2YxMzliZjViYtgCBeACAQ&ucfs=1&arphpl=1&group_adults=2&req_adults=2&no_rooms=1&group_children=0&req_children=0&hpos=25&hapos=25&sr_order=popularity&srpvid=40745b8b70d80379&srepoch=1745499672&from=searchresults',\n",
       " 'https://www.booking.com/hotel/fr/appartement-3-etoiles-terrasse-intra-muros.fr.html?aid=304142&label=gen173nr-1FCAQoggJCFHNlYXJjaF9haWd1ZXMgbW9ydGVzSDNYBGhNiAEBmAENuAEXyAEM2AEB6AEB-AEDiAIBqAIDuAKX7KjABsACAdICJDA0ZTMwOWY2LTJlOGQtNGE3My04MDVhLWIxM2YxMzliZjViYtgCBeACAQ&ucfs=1&arphpl=1&group_adults=2&req_adults=2&no_rooms=1&group_children=0&req_children=0&hpos=24&hapos=24&sr_order=popularity&srpvid=40745b8b70d80379&srepoch=1745499672&from=searchresults',\n",
       " 'https://www.booking.com/hotel/fr/home-cassis.fr.html?aid=304142&label=gen173nr-1FCAQoggJCDXNlYXJjaF9jYXNzaXNIM1gEaE2IAQGYAQ24ARfIAQzYAQHoAQH4AQOIAgGoAgO4ApfsqMAGwAIB0gIkYzJjOTZmZjItOGVkZS00YjE3LTkyOTktY2U5MWQ2ZjE4ZjA32AIF4AIB&ucfs=1&arphpl=1&group_adults=2&req_adults=2&no_rooms=1&group_children=0&req_children=0&hpos=2&hapos=2&sr_order=popularity&srpvid=797d5b8bdb590e4a&srepoch=1745499673&from=searchresults',\n",
       " 'https://www.booking.com/hotel/fr/chez-celine-et-sebastien-aigues-mortes.fr.html?aid=304142&label=gen173nr-1FCAQoggJCFHNlYXJjaF9haWd1ZXMgbW9ydGVzSDNYBGhNiAEBmAENuAEXyAEM2AEB6AEB-AEDiAIBqAIDuAKX7KjABsACAdICJDA0ZTMwOWY2LTJlOGQtNGE3My04MDVhLWIxM2YxMzliZjViYtgCBeACAQ&ucfs=1&arphpl=1&group_adults=2&req_adults=2&no_rooms=1&group_children=0&req_children=0&hpos=21&hapos=21&sr_order=popularity&srpvid=40745b8b70d80379&srepoch=1745499672&from=searchresults',\n",
       " 'https://www.booking.com/hotel/fr/magnifique-studio-le-flamant-dore-avec-loggia-terrasse-amp-climatisation-proche.fr.html?aid=304142&label=gen173nr-1FCAQoggJCFHNlYXJjaF9haWd1ZXMgbW9ydGVzSDNYBGhNiAEBmAENuAEXyAEM2AEB6AEB-AEDiAIBqAIDuAKX7KjABsACAdICJDA0ZTMwOWY2LTJlOGQtNGE3My04MDVhLWIxM2YxMzliZjViYtgCBeACAQ&ucfs=1&arphpl=1&group_adults=2&req_adults=2&no_rooms=1&group_children=0&req_children=0&hpos=23&hapos=23&sr_order=popularity&srpvid=40745b8b70d80379&srepoch=1745499672&from=searchresults',\n",
       " 'https://www.booking.com/hotel/fr/la-maison-de-lyna.fr.html?aid=304142&label=gen173nr-1FCAQoggJCFHNlYXJjaF9haWd1ZXMgbW9ydGVzSDNYBGhNiAEBmAENuAEXyAEM2AEB6AEB-AEDiAIBqAIDuAKX7KjABsACAdICJDA0ZTMwOWY2LTJlOGQtNGE3My04MDVhLWIxM2YxMzliZjViYtgCBeACAQ&ucfs=1&arphpl=1&group_adults=2&req_adults=2&no_rooms=1&group_children=0&req_children=0&hpos=20&hapos=20&sr_order=popularity&srpvid=40745b8b70d80379&srepoch=1745499672&from=searchresults',\n",
       " 'https://www.booking.com/hotel/fr/studio-dans-villa.fr.html?aid=304142&label=gen173nr-1FCAQoggJCFHNlYXJjaF9haWd1ZXMgbW9ydGVzSDNYBGhNiAEBmAENuAEXyAEM2AEB6AEB-AEDiAIBqAIDuAKX7KjABsACAdICJDA0ZTMwOWY2LTJlOGQtNGE3My04MDVhLWIxM2YxMzliZjViYtgCBeACAQ&ucfs=1&arphpl=1&group_adults=2&req_adults=2&no_rooms=1&group_children=0&req_children=0&hpos=22&hapos=22&sr_order=popularity&srpvid=40745b8b70d80379&srepoch=1745499672&from=searchresults',\n",
       " 'https://www.booking.com/hotel/fr/miracles-apt.fr.html?aid=304142&label=gen173nr-1FCAQoggJCFHNlYXJjaF9haWd1ZXMgbW9ydGVzSDNYBGhNiAEBmAENuAEXyAEM2AEB6AEB-AEDiAIBqAIDuAKX7KjABsACAdICJDA0ZTMwOWY2LTJlOGQtNGE3My04MDVhLWIxM2YxMzliZjViYtgCBeACAQ&ucfs=1&arphpl=1&group_adults=2&req_adults=2&no_rooms=1&group_children=0&req_children=0&hpos=19&hapos=19&sr_order=popularity&srpvid=40745b8b70d80379&srepoch=1745499672&from=searchresults',\n",
       " 'https://www.booking.com/hotel/fr/gite-du-mas-charmant-gite-provencal-avec-jardin-commun.fr.html?aid=304142&label=gen173nr-1FCAQoggJCFHNlYXJjaF9haWd1ZXMgbW9ydGVzSDNYBGhNiAEBmAENuAEXyAEM2AEB6AEB-AEDiAIBqAIDuAKX7KjABsACAdICJDA0ZTMwOWY2LTJlOGQtNGE3My04MDVhLWIxM2YxMzliZjViYtgCBeACAQ&ucfs=1&arphpl=1&group_adults=2&req_adults=2&no_rooms=1&group_children=0&req_children=0&hpos=18&hapos=18&sr_order=popularity&srpvid=40745b8b70d80379&srepoch=1745499672&from=searchresults',\n",
       " 'https://www.booking.com/hotel/fr/au-coeur-des-remparts-aigues-mortes.fr.html?aid=304142&label=gen173nr-1FCAQoggJCFHNlYXJjaF9haWd1ZXMgbW9ydGVzSDNYBGhNiAEBmAENuAEXyAEM2AEB6AEB-AEDiAIBqAIDuAKX7KjABsACAdICJDA0ZTMwOWY2LTJlOGQtNGE3My04MDVhLWIxM2YxMzliZjViYtgCBeACAQ&ucfs=1&arphpl=1&group_adults=2&req_adults=2&no_rooms=1&group_children=0&req_children=0&hpos=17&hapos=17&sr_order=popularity&srpvid=40745b8b70d80379&srepoch=1745499672&from=searchresults',\n",
       " 'https://www.booking.com/hotel/fr/le-dit-vin-secret.fr.html?aid=304142&label=gen173nr-1FCAQoggJCFHNlYXJjaF9haWd1ZXMgbW9ydGVzSDNYBGhNiAEBmAENuAEXyAEM2AEB6AEB-AEDiAIBqAIDuAKX7KjABsACAdICJDA0ZTMwOWY2LTJlOGQtNGE3My04MDVhLWIxM2YxMzliZjViYtgCBeACAQ&ucfs=1&arphpl=1&group_adults=2&req_adults=2&no_rooms=1&group_children=0&req_children=0&hpos=16&hapos=16&sr_order=popularity&srpvid=40745b8b70d80379&srepoch=1745499672&from=searchresults',\n",
       " 'https://www.booking.com/hotel/fr/des-4-vents.fr.html?aid=304142&label=gen173nr-1FCAQoggJCFHNlYXJjaF9haWd1ZXMgbW9ydGVzSDNYBGhNiAEBmAENuAEXyAEM2AEB6AEB-AEDiAIBqAIDuAKX7KjABsACAdICJDA0ZTMwOWY2LTJlOGQtNGE3My04MDVhLWIxM2YxMzliZjViYtgCBeACAQ&ucfs=1&arphpl=1&group_adults=2&req_adults=2&no_rooms=1&group_children=0&req_children=0&hpos=15&hapos=15&sr_order=popularity&srpvid=40745b8b70d80379&srepoch=1745499672&from=searchresults',\n",
       " 'https://www.booking.com/hotel/fr/bord-de-mer-charmant-studio-entierement-equipe.fr.html?aid=304142&label=gen173nr-1FCAQoggJCGXNlYXJjaF9ib3JtZXMgbGVzIG1pbW9zYXNIM1gEaE2IAQGYAQ24ARfIAQzYAQHoAQH4AQOIAgGoAgO4ApfsqMAGwAIB0gIkMGU5NmRhYjUtYjI2Yy00YmZkLWEwMmYtYjAwMzk4YzdhMWIx2AIF4AIB&ucfs=1&arphpl=1&group_adults=2&req_adults=2&no_rooms=1&group_children=0&req_children=0&hpos=1&hapos=1&sr_order=popularity&srpvid=d5965b8b26d4049c&srepoch=1745499672&from=searchresults',\n",
       " 'https://www.booking.com/hotel/fr/paradise-eart-amp-sea.fr.html?aid=304142&label=gen173nr-1FCAQoggJCEHNlYXJjaF9tYXJzZWlsbGVIM1gEaE2IAQGYAQ24ARfIAQzYAQHoAQH4AQOIAgGoAgO4ApfsqMAGwAIB0gIkYzkzN2EwMGEtYmI1Ni00NWYxLTk1ZmMtNTViNDE1ZTBmZmY02AIF4AIB&ucfs=1&arphpl=1&group_adults=2&req_adults=2&no_rooms=1&group_children=0&req_children=0&hpos=1&hapos=1&sr_order=popularity&srpvid=28e45b8b04bf1643&srepoch=1745499672&from=searchresults',\n",
       " 'https://www.booking.com/hotel/fr/odalys-city-nimes-arenes.fr.html?aid=304142&label=gen173nr-1FCAQoggJCDHNlYXJjaF9uaW1lc0gzWARoTYgBAZgBDbgBF8gBDNgBAegBAfgBA4gCAagCA7gCl-yowAbAAgHSAiQ1OGUyMGZlOS01MjdjLTQ2OGItYjgyZC1jMWU0OGY2NGQ4MjDYAgXgAgE&ucfs=1&arphpl=1&group_adults=2&req_adults=2&no_rooms=1&group_children=0&req_children=0&hpos=1&hapos=1&sr_order=popularity&srpvid=d5965b8b343f0269&srepoch=1745499672&from=searchresults',\n",
       " 'https://www.booking.com/hotel/fr/la-douceur-de-cassis.fr.html?aid=304142&label=gen173nr-1FCAQoggJCDXNlYXJjaF9jYXNzaXNIM1gEaE2IAQGYAQ24ARfIAQzYAQHoAQH4AQOIAgGoAgO4ApfsqMAGwAIB0gIkYzJjOTZmZjItOGVkZS00YjE3LTkyOTktY2U5MWQ2ZjE4ZjA32AIF4AIB&ucfs=1&arphpl=1&group_adults=2&req_adults=2&no_rooms=1&group_children=0&req_children=0&hpos=1&hapos=1&sr_order=popularity&srpvid=797d5b8bdb590e4a&srepoch=1745499673&from=searchresults',\n",
       " 'https://www.booking.com/hotel/fr/mas-de-constance-3pieces-standing.fr.html?aid=304142&label=gen173nr-1FCAQoggJCFHNlYXJjaF9haWd1ZXMgbW9ydGVzSDNYBGhNiAEBmAENuAEXyAEM2AEB6AEB-AEDiAIBqAIDuAKX7KjABsACAdICJDA0ZTMwOWY2LTJlOGQtNGE3My04MDVhLWIxM2YxMzliZjViYtgCBeACAQ&ucfs=1&arphpl=1&group_adults=2&req_adults=2&no_rooms=1&group_children=0&req_children=0&hpos=14&hapos=14&sr_order=popularity&srpvid=40745b8b70d80379&srepoch=1745499672&from=searchresults',\n",
       " 'https://www.booking.com/hotel/fr/les-suites-du-17.fr.html?aid=304142&label=gen173nr-1FCAQoggJCFHNlYXJjaF9haWd1ZXMgbW9ydGVzSDNYBGhNiAEBmAENuAEXyAEM2AEB6AEB-AEDiAIBqAIDuAKX7KjABsACAdICJDA0ZTMwOWY2LTJlOGQtNGE3My04MDVhLWIxM2YxMzliZjViYtgCBeACAQ&ucfs=1&arphpl=1&group_adults=2&req_adults=2&no_rooms=1&group_children=0&req_children=0&hpos=13&hapos=13&sr_order=popularity&srpvid=40745b8b70d80379&srepoch=1745499672&from=searchresults',\n",
       " 'https://www.booking.com/hotel/fr/la-villa-mazarin.fr.html?aid=304142&label=gen173nr-1FCAQoggJCFHNlYXJjaF9haWd1ZXMgbW9ydGVzSDNYBGhNiAEBmAENuAEXyAEM2AEB6AEB-AEDiAIBqAIDuAKX7KjABsACAdICJDA0ZTMwOWY2LTJlOGQtNGE3My04MDVhLWIxM2YxMzliZjViYtgCBeACAQ&ucfs=1&arphpl=1&group_adults=2&req_adults=2&no_rooms=1&group_children=0&req_children=0&hpos=12&hapos=12&sr_order=popularity&srpvid=40745b8b70d80379&srepoch=1745499672&from=searchresults',\n",
       " 'https://www.booking.com/hotel/fr/42-rue-pasteur.fr.html?aid=304142&label=gen173nr-1FCAQoggJCFHNlYXJjaF9haWd1ZXMgbW9ydGVzSDNYBGhNiAEBmAENuAEXyAEM2AEB6AEB-AEDiAIBqAIDuAKX7KjABsACAdICJDA0ZTMwOWY2LTJlOGQtNGE3My04MDVhLWIxM2YxMzliZjViYtgCBeACAQ&ucfs=1&arphpl=1&group_adults=2&req_adults=2&no_rooms=1&group_children=0&req_children=0&hpos=11&hapos=11&sr_order=popularity&srpvid=40745b8b70d80379&srepoch=1745499672&from=searchresults',\n",
       " 'https://www.booking.com/hotel/fr/residence-odalys-fleur-de-sel.fr.html?aid=304142&label=gen173nr-1FCAQoggJCFHNlYXJjaF9haWd1ZXMgbW9ydGVzSDNYBGhNiAEBmAENuAEXyAEM2AEB6AEB-AEDiAIBqAIDuAKX7KjABsACAdICJDA0ZTMwOWY2LTJlOGQtNGE3My04MDVhLWIxM2YxMzliZjViYtgCBeACAQ&ucfs=1&arphpl=1&group_adults=2&req_adults=2&no_rooms=1&group_children=0&req_children=0&hpos=10&hapos=10&sr_order=popularity&srpvid=40745b8b70d80379&srepoch=1745499672&from=searchresults',\n",
       " 'https://www.booking.com/hotel/fr/appartement-70m2-vue-rempart.fr.html?aid=304142&label=gen173nr-1FCAQoggJCFHNlYXJjaF9haWd1ZXMgbW9ydGVzSDNYBGhNiAEBmAENuAEXyAEM2AEB6AEB-AEDiAIBqAIDuAKX7KjABsACAdICJDA0ZTMwOWY2LTJlOGQtNGE3My04MDVhLWIxM2YxMzliZjViYtgCBeACAQ&ucfs=1&arphpl=1&group_adults=2&req_adults=2&no_rooms=1&group_children=0&req_children=0&hpos=7&hapos=7&sr_order=popularity&srpvid=40745b8b70d80379&srepoch=1745499672&from=searchresults',\n",
       " 'https://www.booking.com/hotel/fr/maison-de-village-avec-garage-aigues-mortes.fr.html?aid=304142&label=gen173nr-1FCAQoggJCFHNlYXJjaF9haWd1ZXMgbW9ydGVzSDNYBGhNiAEBmAENuAEXyAEM2AEB6AEB-AEDiAIBqAIDuAKX7KjABsACAdICJDA0ZTMwOWY2LTJlOGQtNGE3My04MDVhLWIxM2YxMzliZjViYtgCBeACAQ&ucfs=1&arphpl=1&group_adults=2&req_adults=2&no_rooms=1&group_children=0&req_children=0&hpos=9&hapos=9&sr_order=popularity&srpvid=40745b8b70d80379&srepoch=1745499672&from=searchresults',\n",
       " 'https://www.booking.com/hotel/fr/des-croisades.fr.html?aid=304142&label=gen173nr-1FCAQoggJCFHNlYXJjaF9haWd1ZXMgbW9ydGVzSDNYBGhNiAEBmAENuAEXyAEM2AEB6AEB-AEDiAIBqAIDuAKX7KjABsACAdICJDA0ZTMwOWY2LTJlOGQtNGE3My04MDVhLWIxM2YxMzliZjViYtgCBeACAQ&ucfs=1&arphpl=1&group_adults=2&req_adults=2&no_rooms=1&group_children=0&req_children=0&hpos=8&hapos=8&sr_order=popularity&srpvid=40745b8b70d80379&srepoch=1745499672&from=searchresults',\n",
       " 'https://www.booking.com/hotel/fr/cabane-du-saunier-au-commun-electre.fr.html?aid=304142&label=gen173nr-1FCAQoggJCFHNlYXJjaF9haWd1ZXMgbW9ydGVzSDNYBGhNiAEBmAENuAEXyAEM2AEB6AEB-AEDiAIBqAIDuAKX7KjABsACAdICJDA0ZTMwOWY2LTJlOGQtNGE3My04MDVhLWIxM2YxMzliZjViYtgCBeACAQ&ucfs=1&arphpl=1&group_adults=2&req_adults=2&no_rooms=1&group_children=0&req_children=0&hpos=6&hapos=6&sr_order=popularity&srpvid=40745b8b70d80379&srepoch=1745499672&from=searchresults',\n",
       " 'https://www.booking.com/hotel/fr/residence-le-mas-des-flamants.fr.html?aid=304142&label=gen173nr-1FCAQoggJCFHNlYXJjaF9haWd1ZXMgbW9ydGVzSDNYBGhNiAEBmAENuAEXyAEM2AEB6AEB-AEDiAIBqAIDuAKX7KjABsACAdICJDA0ZTMwOWY2LTJlOGQtNGE3My04MDVhLWIxM2YxMzliZjViYtgCBeACAQ&ucfs=1&arphpl=1&group_adults=2&req_adults=2&no_rooms=1&group_children=0&req_children=0&hpos=5&hapos=5&sr_order=popularity&srpvid=40745b8b70d80379&srepoch=1745499672&from=searchresults',\n",
       " 'https://www.booking.com/hotel/fr/canal-aigues-mortes.fr.html?aid=304142&label=gen173nr-1FCAQoggJCFHNlYXJjaF9haWd1ZXMgbW9ydGVzSDNYBGhNiAEBmAENuAEXyAEM2AEB6AEB-AEDiAIBqAIDuAKX7KjABsACAdICJDA0ZTMwOWY2LTJlOGQtNGE3My04MDVhLWIxM2YxMzliZjViYtgCBeACAQ&ucfs=1&arphpl=1&group_adults=2&req_adults=2&no_rooms=1&group_children=0&req_children=0&hpos=4&hapos=4&sr_order=popularity&srpvid=40745b8b70d80379&srepoch=1745499672&from=searchresults',\n",
       " 'https://www.booking.com/hotel/fr/le-medieval.fr.html?aid=304142&label=gen173nr-1FCAQoggJCFHNlYXJjaF9haWd1ZXMgbW9ydGVzSDNYBGhNiAEBmAENuAEXyAEM2AEB6AEB-AEDiAIBqAIDuAKX7KjABsACAdICJDA0ZTMwOWY2LTJlOGQtNGE3My04MDVhLWIxM2YxMzliZjViYtgCBeACAQ&ucfs=1&arphpl=1&group_adults=2&req_adults=2&no_rooms=1&group_children=0&req_children=0&hpos=2&hapos=2&sr_order=popularity&srpvid=40745b8b70d80379&srepoch=1745499672&from=searchresults',\n",
       " 'https://www.booking.com/hotel/fr/saint-louis-aigues-mortes.fr.html?aid=304142&label=gen173nr-1FCAQoggJCFHNlYXJjaF9haWd1ZXMgbW9ydGVzSDNYBGhNiAEBmAENuAEXyAEM2AEB6AEB-AEDiAIBqAIDuAKX7KjABsACAdICJDA0ZTMwOWY2LTJlOGQtNGE3My04MDVhLWIxM2YxMzliZjViYtgCBeACAQ&ucfs=1&arphpl=1&group_adults=2&req_adults=2&no_rooms=1&group_children=0&req_children=0&hpos=3&hapos=3&sr_order=popularity&srpvid=40745b8b70d80379&srepoch=1745499672&from=searchresults',\n",
       " 'https://www.booking.com/hotel/fr/le-royal-hotel-aigues-mortes.fr.html?aid=304142&label=gen173nr-1FCAQoggJCFHNlYXJjaF9haWd1ZXMgbW9ydGVzSDNYBGhNiAEBmAENuAEXyAEM2AEB6AEB-AEDiAIBqAIDuAKX7KjABsACAdICJDA0ZTMwOWY2LTJlOGQtNGE3My04MDVhLWIxM2YxMzliZjViYtgCBeACAQ&ucfs=1&arphpl=1&group_adults=2&req_adults=2&no_rooms=1&group_children=0&req_children=0&hpos=1&hapos=1&sr_order=popularity&srpvid=40745b8b70d80379&srepoch=1745499672&from=searchresults']"
      ]
     },
     "execution_count": 403,
     "metadata": {},
     "output_type": "execute_result"
    }
   ],
   "source": [
    "#extraction des URL d'hotels\n",
    "with open('data/booking_hotels.json', 'r', encoding=\"utf-8\") as file:\n",
    "    data = json.load(file)\n",
    "hotel_urls = [item['hotel_url'] for item in data]\n",
    "hotel_urls"
   ]
  },
  {
   "cell_type": "code",
   "execution_count": 404,
   "metadata": {},
   "outputs": [
    {
     "data": {
      "text/plain": [
       "<Response [200]>"
      ]
     },
     "execution_count": 404,
     "metadata": {},
     "output_type": "execute_result"
    }
   ],
   "source": [
    "headers = {\n",
    "    'User-Agent': 'Mozilla/5.0 (Windows NT 10.0; Win64; x64) AppleWebKit/537.36 (KHTML, like Gecko) Chrome/58.0.3029.110 Safari/537.3',\n",
    "    'Accept-Language': 'fr-FR,fr;q=0.9,en-US;q=0.8,en;q=0.7'\n",
    "}\n",
    "url = hotel_urls[0]\n",
    "r = requests.get(url, headers=headers)\n",
    "\n",
    "response = Selector(text=r.text)\n",
    "r"
   ]
  },
  {
   "cell_type": "code",
   "execution_count": 405,
   "metadata": {},
   "outputs": [
    {
     "data": {
      "text/plain": [
       "'Hôtel Le Pré Galoffre'"
      ]
     },
     "execution_count": 405,
     "metadata": {},
     "output_type": "execute_result"
    }
   ],
   "source": [
    "hotel_name= response.css(\"h2.d2fee87262.pp-header__title::text\").get()\n",
    "hotel_name"
   ]
  },
  {
   "cell_type": "code",
   "execution_count": 406,
   "metadata": {},
   "outputs": [
    {
     "data": {
      "text/plain": [
       "'3115 Route De Générac, 30900 Nîmes, France'"
      ]
     },
     "execution_count": 406,
     "metadata": {},
     "output_type": "execute_result"
    }
   ],
   "source": [
    "hotel_address= response.css(\"div.a53cbfa6de.f17adf7576::text\").get()\n",
    "hotel_address"
   ]
  },
  {
   "cell_type": "code",
   "execution_count": 407,
   "metadata": {},
   "outputs": [
    {
     "data": {
      "text/plain": [
       "'L’Hôtel Le Pré Galoffre bénéficie d’un emplacement paisible dans un cadre rural à 10\\xa0minutes de route du centre de Nîmes. L’établissement possède une piscine extérieure, une terrasse bien exposée et une connexion Wi-Fi gratuite.\\n\\nLes chambres se trouvent dans un bâtiment provençal traditionnel en pierre. Tous les hébergements disposent de la climatisation et d’une télévision à écran plat.\\n\\nL’Hotel Galoffre propose chaque jour un grand choix de plats pour le petit-déjeuner, et vous pourrez prendre vos repas au bord de la piscine par beau temps.\\n\\nLe Pré Galoffre peut assurer un service de location de vélos et de voitures. Des paniers-repas sont également disponibles pour le déjeuner. Vous aurez la possibilité de partir en randonnée et de faire de l’équitation dans les environs.\\n\\nUn parking est disponible gratuitement sur place si vous voyagez en voiture. Les autoroutes\\xa0A9 et A54 se trouvent à 4\\xa0km. L’aéroport de Nîmes-Alès-Camargue-Cévennes est à 15\\xa0minutes de route.\\n\\nDes conditions différentes et des suppléments peuvent s’appliquer pour les réservations de plus de 4\\xa0chambres.'"
      ]
     },
     "execution_count": 407,
     "metadata": {},
     "output_type": "execute_result"
    }
   ],
   "source": [
    "hotel_description= response.css(\"p.a53cbfa6de.b3efd73f69::text\").get()\n",
    "hotel_description"
   ]
  },
  {
   "cell_type": "code",
   "execution_count": 408,
   "metadata": {},
   "outputs": [
    {
     "data": {
      "text/plain": [
       "'8.2'"
      ]
     },
     "execution_count": 408,
     "metadata": {},
     "output_type": "execute_result"
    }
   ],
   "source": [
    "hotel_rating = response.css(\"div.ac4a7896c7::text\").get().split()[-1]\n",
    "hotel_rating"
   ]
  },
  {
   "cell_type": "code",
   "execution_count": 409,
   "metadata": {},
   "outputs": [
    {
     "data": {
      "text/plain": [
       "'43.78858215364223,4.35380257666111'"
      ]
     },
     "execution_count": 409,
     "metadata": {},
     "output_type": "execute_result"
    }
   ],
   "source": [
    "latlng = response.css('a#map_trigger_header_pin::attr(data-atlas-latlng)').get()\n",
    "latlng"
   ]
  },
  {
   "cell_type": "code",
   "execution_count": 410,
   "metadata": {},
   "outputs": [
    {
     "name": "stdout",
     "output_type": "stream",
     "text": [
      "Latitude: 43.78858215364223, Longitude: 4.35380257666111\n"
     ]
    }
   ],
   "source": [
    "latlng_cleaned = latlng.replace('\\u200b', '').replace(' ', '').strip()\n",
    "lat, lon = latlng_cleaned.split(',')\n",
    "print(f\"Latitude: {lat}, Longitude: {lon}\")"
   ]
  },
  {
   "cell_type": "code",
   "execution_count": null,
   "metadata": {},
   "outputs": [],
   "source": []
  }
 ],
 "metadata": {
  "kernelspec": {
   "display_name": "myenv",
   "language": "python",
   "name": "python3"
  },
  "language_info": {
   "codemirror_mode": {
    "name": "ipython",
    "version": 3
   },
   "file_extension": ".py",
   "mimetype": "text/x-python",
   "name": "python",
   "nbconvert_exporter": "python",
   "pygments_lexer": "ipython3",
   "version": "3.10.13"
  }
 },
 "nbformat": 4,
 "nbformat_minor": 2
}
