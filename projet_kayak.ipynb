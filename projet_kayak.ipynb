{
 "cells": [
  {
   "cell_type": "code",
   "execution_count": 17,
   "metadata": {},
   "outputs": [],
   "source": [
    "import requests\n",
    "import json\n",
    "import os\n",
    "from dotenv import load_dotenv\n",
    "import pandas as pd\n",
    "from datetime import datetime\n",
    "import folium\n",
    "import time\n",
    "import seaborn as sns\n",
    "import plotly.express as px\n",
    "\n",
    "\n"
   ]
  },
  {
   "cell_type": "code",
   "execution_count": 18,
   "metadata": {},
   "outputs": [],
   "source": [
    "load_dotenv()\n",
    "\n",
    "Open_Weather_API_Key_Myriam= os.getenv(\"Open_Weather_API_Key_Myriam\") "
   ]
  },
  {
   "cell_type": "markdown",
   "metadata": {},
   "source": [
    "# 35 Best cities"
   ]
  },
  {
   "cell_type": "markdown",
   "metadata": {},
   "source": [
    "Sur la liste des 35 plus belles villes, nous avons 34 noms de villes + 1 lieu d'interêt qui n'est pas une ville (Gorges du Verdon). Pour récupérer les latitudes et longitudes des 34 villes nous pouvons facilement utiliser l'API openweathermap. Cette API permet facilement de collecter également le pays et la région, ce qui est utile contrôler les éventuelles erreures liées à des villes homonymes.\n",
    "Cependant, cette API ne reconnait pas les Gorges du Verdon. Pour palier ce problème, une seconde API a été utilisée, nominatim.openstreetmap, mais elle ne permet pas de récupérer la région et le pays."
   ]
  },
  {
   "cell_type": "code",
   "execution_count": 19,
   "metadata": {},
   "outputs": [],
   "source": [
    "best_cities= [\"Mont Saint Michel\",\n",
    "\"St Malo\",\n",
    "\"Bayeux\",\n",
    "\"Le Havre\",\n",
    "\"Rouen\",\n",
    "\"Paris\",\n",
    "\"Amiens\",\n",
    "\"Lille\",\n",
    "\"Strasbourg\",\n",
    "\"Chateau du Haut Koenigsbourg\",\n",
    "\"Colmar\",\n",
    "\"Eguisheim\",\n",
    "\"Besancon\",\n",
    "\"Dijon\",\n",
    "\"Annecy\",\n",
    "\"Grenoble\",\n",
    "\"Lyon\",\n",
    "\"Bormes les Mimosas\",\n",
    "\"Cassis\",\n",
    "\"Marseille\",\n",
    "\"Aix en Provence\",\n",
    "\"Avignon\",\n",
    "\"Uzes\",\n",
    "\"Nimes\",\n",
    "\"Aigues Mortes\",\n",
    "\"Saintes Maries de la mer\",\n",
    "\"Collioure\",\n",
    "\"Carcassonne\",\n",
    "\"Ariege\",\n",
    "\"Toulouse\",\n",
    "\"Montauban\",\n",
    "\"Biarritz\",\n",
    "\"Bayonne\",\n",
    "\"La Rochelle\",\n",
    "#\"Gorges du Verdon\" exclu de la liste car n'est pas une ville mais un point d'intérêt.\n",
    "]\n"
   ]
  },
  {
   "cell_type": "code",
   "execution_count": 20,
   "metadata": {},
   "outputs": [
    {
     "data": {
      "text/plain": [
       "'La Rochelle'"
      ]
     },
     "execution_count": 20,
     "metadata": {},
     "output_type": "execute_result"
    }
   ],
   "source": [
    "len(best_cities)\n",
    "type(best_cities)\n",
    "best_cities[-1]"
   ]
  },
  {
   "cell_type": "code",
   "execution_count": 21,
   "metadata": {},
   "outputs": [
    {
     "data": {
      "text/html": [
       "<div>\n",
       "<style scoped>\n",
       "    .dataframe tbody tr th:only-of-type {\n",
       "        vertical-align: middle;\n",
       "    }\n",
       "\n",
       "    .dataframe tbody tr th {\n",
       "        vertical-align: top;\n",
       "    }\n",
       "\n",
       "    .dataframe thead th {\n",
       "        text-align: right;\n",
       "    }\n",
       "</style>\n",
       "<table border=\"1\" class=\"dataframe\">\n",
       "  <thead>\n",
       "    <tr style=\"text-align: right;\">\n",
       "      <th></th>\n",
       "      <th>cities</th>\n",
       "    </tr>\n",
       "  </thead>\n",
       "  <tbody>\n",
       "    <tr>\n",
       "      <th>0</th>\n",
       "      <td>Mont Saint Michel</td>\n",
       "    </tr>\n",
       "    <tr>\n",
       "      <th>1</th>\n",
       "      <td>St Malo</td>\n",
       "    </tr>\n",
       "    <tr>\n",
       "      <th>2</th>\n",
       "      <td>Bayeux</td>\n",
       "    </tr>\n",
       "    <tr>\n",
       "      <th>3</th>\n",
       "      <td>Le Havre</td>\n",
       "    </tr>\n",
       "    <tr>\n",
       "      <th>4</th>\n",
       "      <td>Rouen</td>\n",
       "    </tr>\n",
       "    <tr>\n",
       "      <th>5</th>\n",
       "      <td>Paris</td>\n",
       "    </tr>\n",
       "    <tr>\n",
       "      <th>6</th>\n",
       "      <td>Amiens</td>\n",
       "    </tr>\n",
       "    <tr>\n",
       "      <th>7</th>\n",
       "      <td>Lille</td>\n",
       "    </tr>\n",
       "    <tr>\n",
       "      <th>8</th>\n",
       "      <td>Strasbourg</td>\n",
       "    </tr>\n",
       "    <tr>\n",
       "      <th>9</th>\n",
       "      <td>Chateau du Haut Koenigsbourg</td>\n",
       "    </tr>\n",
       "    <tr>\n",
       "      <th>10</th>\n",
       "      <td>Colmar</td>\n",
       "    </tr>\n",
       "    <tr>\n",
       "      <th>11</th>\n",
       "      <td>Eguisheim</td>\n",
       "    </tr>\n",
       "    <tr>\n",
       "      <th>12</th>\n",
       "      <td>Besancon</td>\n",
       "    </tr>\n",
       "    <tr>\n",
       "      <th>13</th>\n",
       "      <td>Dijon</td>\n",
       "    </tr>\n",
       "    <tr>\n",
       "      <th>14</th>\n",
       "      <td>Annecy</td>\n",
       "    </tr>\n",
       "    <tr>\n",
       "      <th>15</th>\n",
       "      <td>Grenoble</td>\n",
       "    </tr>\n",
       "    <tr>\n",
       "      <th>16</th>\n",
       "      <td>Lyon</td>\n",
       "    </tr>\n",
       "    <tr>\n",
       "      <th>17</th>\n",
       "      <td>Bormes les Mimosas</td>\n",
       "    </tr>\n",
       "    <tr>\n",
       "      <th>18</th>\n",
       "      <td>Cassis</td>\n",
       "    </tr>\n",
       "    <tr>\n",
       "      <th>19</th>\n",
       "      <td>Marseille</td>\n",
       "    </tr>\n",
       "    <tr>\n",
       "      <th>20</th>\n",
       "      <td>Aix en Provence</td>\n",
       "    </tr>\n",
       "    <tr>\n",
       "      <th>21</th>\n",
       "      <td>Avignon</td>\n",
       "    </tr>\n",
       "    <tr>\n",
       "      <th>22</th>\n",
       "      <td>Uzes</td>\n",
       "    </tr>\n",
       "    <tr>\n",
       "      <th>23</th>\n",
       "      <td>Nimes</td>\n",
       "    </tr>\n",
       "    <tr>\n",
       "      <th>24</th>\n",
       "      <td>Aigues Mortes</td>\n",
       "    </tr>\n",
       "    <tr>\n",
       "      <th>25</th>\n",
       "      <td>Saintes Maries de la mer</td>\n",
       "    </tr>\n",
       "    <tr>\n",
       "      <th>26</th>\n",
       "      <td>Collioure</td>\n",
       "    </tr>\n",
       "    <tr>\n",
       "      <th>27</th>\n",
       "      <td>Carcassonne</td>\n",
       "    </tr>\n",
       "    <tr>\n",
       "      <th>28</th>\n",
       "      <td>Ariege</td>\n",
       "    </tr>\n",
       "    <tr>\n",
       "      <th>29</th>\n",
       "      <td>Toulouse</td>\n",
       "    </tr>\n",
       "    <tr>\n",
       "      <th>30</th>\n",
       "      <td>Montauban</td>\n",
       "    </tr>\n",
       "    <tr>\n",
       "      <th>31</th>\n",
       "      <td>Biarritz</td>\n",
       "    </tr>\n",
       "    <tr>\n",
       "      <th>32</th>\n",
       "      <td>Bayonne</td>\n",
       "    </tr>\n",
       "    <tr>\n",
       "      <th>33</th>\n",
       "      <td>La Rochelle</td>\n",
       "    </tr>\n",
       "  </tbody>\n",
       "</table>\n",
       "</div>"
      ],
      "text/plain": [
       "                          cities\n",
       "0              Mont Saint Michel\n",
       "1                        St Malo\n",
       "2                         Bayeux\n",
       "3                       Le Havre\n",
       "4                          Rouen\n",
       "5                          Paris\n",
       "6                         Amiens\n",
       "7                          Lille\n",
       "8                     Strasbourg\n",
       "9   Chateau du Haut Koenigsbourg\n",
       "10                        Colmar\n",
       "11                     Eguisheim\n",
       "12                      Besancon\n",
       "13                         Dijon\n",
       "14                        Annecy\n",
       "15                      Grenoble\n",
       "16                          Lyon\n",
       "17            Bormes les Mimosas\n",
       "18                        Cassis\n",
       "19                     Marseille\n",
       "20               Aix en Provence\n",
       "21                       Avignon\n",
       "22                          Uzes\n",
       "23                         Nimes\n",
       "24                 Aigues Mortes\n",
       "25      Saintes Maries de la mer\n",
       "26                     Collioure\n",
       "27                   Carcassonne\n",
       "28                        Ariege\n",
       "29                      Toulouse\n",
       "30                     Montauban\n",
       "31                      Biarritz\n",
       "32                       Bayonne\n",
       "33                   La Rochelle"
      ]
     },
     "execution_count": 21,
     "metadata": {},
     "output_type": "execute_result"
    }
   ],
   "source": [
    "df = pd.DataFrame(data = best_cities, columns = [\"cities\"])\n",
    "df"
   ]
  },
  {
   "cell_type": "markdown",
   "metadata": {},
   "source": [
    "## Import longitudes & latitudes of 35 best cities"
   ]
  },
  {
   "cell_type": "code",
   "execution_count": 22,
   "metadata": {},
   "outputs": [
    {
     "data": {
      "text/plain": [
       "(34, 1)"
      ]
     },
     "execution_count": 22,
     "metadata": {},
     "output_type": "execute_result"
    }
   ],
   "source": [
    "df.shape"
   ]
  },
  {
   "cell_type": "code",
   "execution_count": 23,
   "metadata": {},
   "outputs": [
    {
     "data": {
      "text/html": [
       "<div>\n",
       "<style scoped>\n",
       "    .dataframe tbody tr th:only-of-type {\n",
       "        vertical-align: middle;\n",
       "    }\n",
       "\n",
       "    .dataframe tbody tr th {\n",
       "        vertical-align: top;\n",
       "    }\n",
       "\n",
       "    .dataframe thead th {\n",
       "        text-align: right;\n",
       "    }\n",
       "</style>\n",
       "<table border=\"1\" class=\"dataframe\">\n",
       "  <thead>\n",
       "    <tr style=\"text-align: right;\">\n",
       "      <th></th>\n",
       "      <th>cities</th>\n",
       "      <th>name</th>\n",
       "      <th>country</th>\n",
       "      <th>state</th>\n",
       "      <th>lat</th>\n",
       "      <th>lon</th>\n",
       "    </tr>\n",
       "  </thead>\n",
       "  <tbody>\n",
       "    <tr>\n",
       "      <th>0</th>\n",
       "      <td>Mont Saint Michel</td>\n",
       "      <td>Mont Saint-Michel</td>\n",
       "      <td>FR</td>\n",
       "      <td>Normandy</td>\n",
       "      <td>48.635954</td>\n",
       "      <td>-1.511460</td>\n",
       "    </tr>\n",
       "    <tr>\n",
       "      <th>1</th>\n",
       "      <td>St Malo</td>\n",
       "      <td>Saint-Malo</td>\n",
       "      <td>FR</td>\n",
       "      <td>Brittany</td>\n",
       "      <td>48.649518</td>\n",
       "      <td>-2.026041</td>\n",
       "    </tr>\n",
       "    <tr>\n",
       "      <th>2</th>\n",
       "      <td>Bayeux</td>\n",
       "      <td>Bayeux</td>\n",
       "      <td>FR</td>\n",
       "      <td>Normandy</td>\n",
       "      <td>49.276462</td>\n",
       "      <td>-0.702474</td>\n",
       "    </tr>\n",
       "    <tr>\n",
       "      <th>3</th>\n",
       "      <td>Le Havre</td>\n",
       "      <td>Le Havre</td>\n",
       "      <td>FR</td>\n",
       "      <td>Normandy</td>\n",
       "      <td>49.493898</td>\n",
       "      <td>0.107973</td>\n",
       "    </tr>\n",
       "    <tr>\n",
       "      <th>4</th>\n",
       "      <td>Rouen</td>\n",
       "      <td>Rouen</td>\n",
       "      <td>FR</td>\n",
       "      <td>Normandy</td>\n",
       "      <td>49.440459</td>\n",
       "      <td>1.093966</td>\n",
       "    </tr>\n",
       "    <tr>\n",
       "      <th>5</th>\n",
       "      <td>Paris</td>\n",
       "      <td>Paris</td>\n",
       "      <td>FR</td>\n",
       "      <td>Ile-de-France</td>\n",
       "      <td>48.858890</td>\n",
       "      <td>2.320041</td>\n",
       "    </tr>\n",
       "    <tr>\n",
       "      <th>6</th>\n",
       "      <td>Amiens</td>\n",
       "      <td>Amiens</td>\n",
       "      <td>FR</td>\n",
       "      <td>Hauts-de-France</td>\n",
       "      <td>49.894171</td>\n",
       "      <td>2.295695</td>\n",
       "    </tr>\n",
       "    <tr>\n",
       "      <th>7</th>\n",
       "      <td>Lille</td>\n",
       "      <td>Lille</td>\n",
       "      <td>FR</td>\n",
       "      <td>Hauts-de-France</td>\n",
       "      <td>50.636565</td>\n",
       "      <td>3.063528</td>\n",
       "    </tr>\n",
       "    <tr>\n",
       "      <th>8</th>\n",
       "      <td>Strasbourg</td>\n",
       "      <td>Strasbourg</td>\n",
       "      <td>FR</td>\n",
       "      <td>Grand Est</td>\n",
       "      <td>48.584614</td>\n",
       "      <td>7.750713</td>\n",
       "    </tr>\n",
       "    <tr>\n",
       "      <th>9</th>\n",
       "      <td>Chateau du Haut Koenigsbourg</td>\n",
       "      <td>Château du Haut-Kœnigsbourg</td>\n",
       "      <td>FR</td>\n",
       "      <td>Grand Est</td>\n",
       "      <td>48.249523</td>\n",
       "      <td>7.345492</td>\n",
       "    </tr>\n",
       "    <tr>\n",
       "      <th>10</th>\n",
       "      <td>Colmar</td>\n",
       "      <td>Colmar</td>\n",
       "      <td>FR</td>\n",
       "      <td>Grand Est</td>\n",
       "      <td>48.077752</td>\n",
       "      <td>7.357964</td>\n",
       "    </tr>\n",
       "    <tr>\n",
       "      <th>11</th>\n",
       "      <td>Eguisheim</td>\n",
       "      <td>Eguisheim</td>\n",
       "      <td>FR</td>\n",
       "      <td>Grand Est</td>\n",
       "      <td>48.044797</td>\n",
       "      <td>7.307962</td>\n",
       "    </tr>\n",
       "    <tr>\n",
       "      <th>12</th>\n",
       "      <td>Besancon</td>\n",
       "      <td>Besançon</td>\n",
       "      <td>FR</td>\n",
       "      <td>Bourgogne-Franche-Comté</td>\n",
       "      <td>47.238022</td>\n",
       "      <td>6.024362</td>\n",
       "    </tr>\n",
       "    <tr>\n",
       "      <th>13</th>\n",
       "      <td>Dijon</td>\n",
       "      <td>Dijon</td>\n",
       "      <td>FR</td>\n",
       "      <td>Bourgogne-Franche-Comté</td>\n",
       "      <td>47.321581</td>\n",
       "      <td>5.041470</td>\n",
       "    </tr>\n",
       "    <tr>\n",
       "      <th>14</th>\n",
       "      <td>Annecy</td>\n",
       "      <td>Annecy</td>\n",
       "      <td>FR</td>\n",
       "      <td>Auvergne-Rhône-Alpes</td>\n",
       "      <td>45.899235</td>\n",
       "      <td>6.128885</td>\n",
       "    </tr>\n",
       "    <tr>\n",
       "      <th>15</th>\n",
       "      <td>Grenoble</td>\n",
       "      <td>Grenoble</td>\n",
       "      <td>FR</td>\n",
       "      <td>Auvergne-Rhône-Alpes</td>\n",
       "      <td>45.187560</td>\n",
       "      <td>5.735782</td>\n",
       "    </tr>\n",
       "    <tr>\n",
       "      <th>16</th>\n",
       "      <td>Lyon</td>\n",
       "      <td>Lyon</td>\n",
       "      <td>FR</td>\n",
       "      <td>Auvergne-Rhône-Alpes</td>\n",
       "      <td>45.757814</td>\n",
       "      <td>4.832011</td>\n",
       "    </tr>\n",
       "    <tr>\n",
       "      <th>17</th>\n",
       "      <td>Bormes les Mimosas</td>\n",
       "      <td>Bormes-les-Mimosas</td>\n",
       "      <td>FR</td>\n",
       "      <td>Provence-Alpes-Côte d'Azur</td>\n",
       "      <td>43.150697</td>\n",
       "      <td>6.341928</td>\n",
       "    </tr>\n",
       "    <tr>\n",
       "      <th>18</th>\n",
       "      <td>Cassis</td>\n",
       "      <td>Cassis</td>\n",
       "      <td>FR</td>\n",
       "      <td>Provence-Alpes-Côte d'Azur</td>\n",
       "      <td>43.214036</td>\n",
       "      <td>5.539632</td>\n",
       "    </tr>\n",
       "    <tr>\n",
       "      <th>19</th>\n",
       "      <td>Marseille</td>\n",
       "      <td>Marseille</td>\n",
       "      <td>FR</td>\n",
       "      <td>Provence-Alpes-Côte d'Azur</td>\n",
       "      <td>43.296174</td>\n",
       "      <td>5.369953</td>\n",
       "    </tr>\n",
       "    <tr>\n",
       "      <th>20</th>\n",
       "      <td>Aix en Provence</td>\n",
       "      <td>Aix-en-Provence</td>\n",
       "      <td>FR</td>\n",
       "      <td>Provence-Alpes-Côte d'Azur</td>\n",
       "      <td>43.529842</td>\n",
       "      <td>5.447474</td>\n",
       "    </tr>\n",
       "    <tr>\n",
       "      <th>21</th>\n",
       "      <td>Avignon</td>\n",
       "      <td>Avignon</td>\n",
       "      <td>FR</td>\n",
       "      <td>Provence-Alpes-Côte d'Azur</td>\n",
       "      <td>43.949249</td>\n",
       "      <td>4.805901</td>\n",
       "    </tr>\n",
       "    <tr>\n",
       "      <th>22</th>\n",
       "      <td>Uzes</td>\n",
       "      <td>Uzès</td>\n",
       "      <td>FR</td>\n",
       "      <td>Occitania</td>\n",
       "      <td>44.012128</td>\n",
       "      <td>4.419672</td>\n",
       "    </tr>\n",
       "    <tr>\n",
       "      <th>23</th>\n",
       "      <td>Nimes</td>\n",
       "      <td>Nimes</td>\n",
       "      <td>FR</td>\n",
       "      <td>Occitania</td>\n",
       "      <td>43.837425</td>\n",
       "      <td>4.360069</td>\n",
       "    </tr>\n",
       "    <tr>\n",
       "      <th>24</th>\n",
       "      <td>Aigues Mortes</td>\n",
       "      <td>Aigues-Mortes</td>\n",
       "      <td>FR</td>\n",
       "      <td>Occitania</td>\n",
       "      <td>43.565823</td>\n",
       "      <td>4.191284</td>\n",
       "    </tr>\n",
       "    <tr>\n",
       "      <th>25</th>\n",
       "      <td>Saintes Maries de la mer</td>\n",
       "      <td>Saintes-Maries-de-la-Mer</td>\n",
       "      <td>FR</td>\n",
       "      <td>Provence-Alpes-Côte d'Azur</td>\n",
       "      <td>43.452277</td>\n",
       "      <td>4.428717</td>\n",
       "    </tr>\n",
       "    <tr>\n",
       "      <th>26</th>\n",
       "      <td>Collioure</td>\n",
       "      <td>Collioure</td>\n",
       "      <td>FR</td>\n",
       "      <td>Occitania</td>\n",
       "      <td>42.525050</td>\n",
       "      <td>3.083155</td>\n",
       "    </tr>\n",
       "    <tr>\n",
       "      <th>27</th>\n",
       "      <td>Carcassonne</td>\n",
       "      <td>Carcassonne</td>\n",
       "      <td>FR</td>\n",
       "      <td>Occitania</td>\n",
       "      <td>43.213036</td>\n",
       "      <td>2.349107</td>\n",
       "    </tr>\n",
       "    <tr>\n",
       "      <th>28</th>\n",
       "      <td>Ariege</td>\n",
       "      <td>Tarascon-sur-Ariège</td>\n",
       "      <td>FR</td>\n",
       "      <td>Occitania</td>\n",
       "      <td>42.845802</td>\n",
       "      <td>1.606759</td>\n",
       "    </tr>\n",
       "    <tr>\n",
       "      <th>29</th>\n",
       "      <td>Toulouse</td>\n",
       "      <td>Toulouse</td>\n",
       "      <td>FR</td>\n",
       "      <td>Occitania</td>\n",
       "      <td>43.604462</td>\n",
       "      <td>1.444247</td>\n",
       "    </tr>\n",
       "    <tr>\n",
       "      <th>30</th>\n",
       "      <td>Montauban</td>\n",
       "      <td>Montauban</td>\n",
       "      <td>FR</td>\n",
       "      <td>Occitania</td>\n",
       "      <td>44.017584</td>\n",
       "      <td>1.354999</td>\n",
       "    </tr>\n",
       "    <tr>\n",
       "      <th>31</th>\n",
       "      <td>Biarritz</td>\n",
       "      <td>Biarritz</td>\n",
       "      <td>FR</td>\n",
       "      <td>Nouvelle-Aquitaine</td>\n",
       "      <td>43.483252</td>\n",
       "      <td>-1.559278</td>\n",
       "    </tr>\n",
       "    <tr>\n",
       "      <th>32</th>\n",
       "      <td>Bayonne</td>\n",
       "      <td>Bayonne</td>\n",
       "      <td>FR</td>\n",
       "      <td>Nouvelle-Aquitaine</td>\n",
       "      <td>43.494514</td>\n",
       "      <td>-1.473666</td>\n",
       "    </tr>\n",
       "    <tr>\n",
       "      <th>33</th>\n",
       "      <td>La Rochelle</td>\n",
       "      <td>La Rochelle</td>\n",
       "      <td>FR</td>\n",
       "      <td>Nouvelle-Aquitaine</td>\n",
       "      <td>46.159113</td>\n",
       "      <td>-1.152043</td>\n",
       "    </tr>\n",
       "  </tbody>\n",
       "</table>\n",
       "</div>"
      ],
      "text/plain": [
       "                          cities                         name country  \\\n",
       "0              Mont Saint Michel            Mont Saint-Michel      FR   \n",
       "1                        St Malo                   Saint-Malo      FR   \n",
       "2                         Bayeux                       Bayeux      FR   \n",
       "3                       Le Havre                     Le Havre      FR   \n",
       "4                          Rouen                        Rouen      FR   \n",
       "5                          Paris                        Paris      FR   \n",
       "6                         Amiens                       Amiens      FR   \n",
       "7                          Lille                        Lille      FR   \n",
       "8                     Strasbourg                   Strasbourg      FR   \n",
       "9   Chateau du Haut Koenigsbourg  Château du Haut-Kœnigsbourg      FR   \n",
       "10                        Colmar                       Colmar      FR   \n",
       "11                     Eguisheim                    Eguisheim      FR   \n",
       "12                      Besancon                     Besançon      FR   \n",
       "13                         Dijon                        Dijon      FR   \n",
       "14                        Annecy                       Annecy      FR   \n",
       "15                      Grenoble                     Grenoble      FR   \n",
       "16                          Lyon                         Lyon      FR   \n",
       "17            Bormes les Mimosas           Bormes-les-Mimosas      FR   \n",
       "18                        Cassis                       Cassis      FR   \n",
       "19                     Marseille                    Marseille      FR   \n",
       "20               Aix en Provence              Aix-en-Provence      FR   \n",
       "21                       Avignon                      Avignon      FR   \n",
       "22                          Uzes                         Uzès      FR   \n",
       "23                         Nimes                        Nimes      FR   \n",
       "24                 Aigues Mortes                Aigues-Mortes      FR   \n",
       "25      Saintes Maries de la mer     Saintes-Maries-de-la-Mer      FR   \n",
       "26                     Collioure                    Collioure      FR   \n",
       "27                   Carcassonne                  Carcassonne      FR   \n",
       "28                        Ariege          Tarascon-sur-Ariège      FR   \n",
       "29                      Toulouse                     Toulouse      FR   \n",
       "30                     Montauban                    Montauban      FR   \n",
       "31                      Biarritz                     Biarritz      FR   \n",
       "32                       Bayonne                      Bayonne      FR   \n",
       "33                   La Rochelle                  La Rochelle      FR   \n",
       "\n",
       "                         state        lat       lon  \n",
       "0                     Normandy  48.635954 -1.511460  \n",
       "1                     Brittany  48.649518 -2.026041  \n",
       "2                     Normandy  49.276462 -0.702474  \n",
       "3                     Normandy  49.493898  0.107973  \n",
       "4                     Normandy  49.440459  1.093966  \n",
       "5                Ile-de-France  48.858890  2.320041  \n",
       "6              Hauts-de-France  49.894171  2.295695  \n",
       "7              Hauts-de-France  50.636565  3.063528  \n",
       "8                    Grand Est  48.584614  7.750713  \n",
       "9                    Grand Est  48.249523  7.345492  \n",
       "10                   Grand Est  48.077752  7.357964  \n",
       "11                   Grand Est  48.044797  7.307962  \n",
       "12     Bourgogne-Franche-Comté  47.238022  6.024362  \n",
       "13     Bourgogne-Franche-Comté  47.321581  5.041470  \n",
       "14        Auvergne-Rhône-Alpes  45.899235  6.128885  \n",
       "15        Auvergne-Rhône-Alpes  45.187560  5.735782  \n",
       "16        Auvergne-Rhône-Alpes  45.757814  4.832011  \n",
       "17  Provence-Alpes-Côte d'Azur  43.150697  6.341928  \n",
       "18  Provence-Alpes-Côte d'Azur  43.214036  5.539632  \n",
       "19  Provence-Alpes-Côte d'Azur  43.296174  5.369953  \n",
       "20  Provence-Alpes-Côte d'Azur  43.529842  5.447474  \n",
       "21  Provence-Alpes-Côte d'Azur  43.949249  4.805901  \n",
       "22                   Occitania  44.012128  4.419672  \n",
       "23                   Occitania  43.837425  4.360069  \n",
       "24                   Occitania  43.565823  4.191284  \n",
       "25  Provence-Alpes-Côte d'Azur  43.452277  4.428717  \n",
       "26                   Occitania  42.525050  3.083155  \n",
       "27                   Occitania  43.213036  2.349107  \n",
       "28                   Occitania  42.845802  1.606759  \n",
       "29                   Occitania  43.604462  1.444247  \n",
       "30                   Occitania  44.017584  1.354999  \n",
       "31          Nouvelle-Aquitaine  43.483252 -1.559278  \n",
       "32          Nouvelle-Aquitaine  43.494514 -1.473666  \n",
       "33          Nouvelle-Aquitaine  46.159113 -1.152043  "
      ]
     },
     "execution_count": 23,
     "metadata": {},
     "output_type": "execute_result"
    }
   ],
   "source": [
    "for i,best_city in enumerate(best_cities):\n",
    "    r = requests.get(f\"http://api.openweathermap.org/geo/1.0/direct?q={best_city}&limit=1&appid={Open_Weather_API_Key_Myriam}\")\n",
    "    data = r.json()\n",
    "  \n",
    "    df.loc[i,\"name\"] = data[0][\"name\"]\n",
    "    df.loc[i,\"country\"] = data[0][\"country\"]\n",
    "    df.loc[i,\"state\"] = data[0][\"state\"]\n",
    "    df.loc[i,\"lat\"] = data[0][\"lat\"]\n",
    "    df.loc[i,\"lon\"] = data[0][\"lon\"]\n",
    "\n",
    "df"
   ]
  },
  {
   "cell_type": "code",
   "execution_count": 24,
   "metadata": {},
   "outputs": [
    {
     "name": "stdout",
     "output_type": "stream",
     "text": [
      "Erreur lors de la requête pour Gorges du Verdon : 403\n",
      "[{'cities': 'Gorges du Verdon', 'name': None, 'country': None, 'state': None, 'lat': None, 'lon': None}]\n"
     ]
    }
   ],
   "source": [
    "import time\n",
    "\n",
    "def rechercher_coordonnees(lieux):\n",
    "    url = \"https://nominatim.openstreetmap.org/search\"\n",
    "    coordonnees = []\n",
    "\n",
    "    headers = {\n",
    "        'User-Agent': 'Mozilla/5.0 (Windows NT 10.0; Win64; x64) AppleWebKit/537.36 (KHTML, like Gecko) Chrome/58.0.3029.110 Safari/537.3'    }\n",
    "\n",
    "    for lieu in lieux:\n",
    "        params = {\n",
    "            'q': lieu,\n",
    "            'format': 'json',\n",
    "            'limit': 1\n",
    "        }\n",
    "\n",
    "        response = requests.get(url, params=params, headers=headers)\n",
    "\n",
    "        if response.status_code == 200:\n",
    "            data = response.json()\n",
    "            if data:\n",
    "                address = data[0].get('address', {})\n",
    "                coordonnees.append({\n",
    "                    'cities': lieu,\n",
    "                    'name': address.get('city'),\n",
    "                    'country': address.get('country'),\n",
    "                    'state': address.get('state'),\n",
    "                    'lat': data[0].get('lat'),\n",
    "                    'lon': data[0].get('lon'),\n",
    "                })\n",
    "            else:\n",
    "                coordonnees.append({\n",
    "                    'cities': lieu,\n",
    "                    'name': None,\n",
    "                    'country': None,\n",
    "                    'state': None,\n",
    "                    'lat': None,\n",
    "                    'lon': None\n",
    "\n",
    "                })\n",
    "        else:\n",
    "            print(f\"Erreur lors de la requête pour {lieu} :\", response.status_code)\n",
    "            coordonnees.append({\n",
    "                    'cities': lieu,\n",
    "                    'name': None,\n",
    "                    'country': None,\n",
    "                    'state': None,\n",
    "                    'lat': None,\n",
    "                    'lon': None,\n",
    "            })\n",
    "\n",
    "        # Attendre un peu entre les requêtes pour éviter de dépasser les limites\n",
    "        time.sleep(1)\n",
    "\n",
    "    return coordonnees\n",
    "\n",
    "\n",
    "coordonnees = rechercher_coordonnees([\"Gorges du Verdon\"])\n",
    "print(coordonnees)\n"
   ]
  },
  {
   "cell_type": "code",
   "execution_count": 25,
   "metadata": {},
   "outputs": [
    {
     "data": {
      "text/html": [
       "<div>\n",
       "<style scoped>\n",
       "    .dataframe tbody tr th:only-of-type {\n",
       "        vertical-align: middle;\n",
       "    }\n",
       "\n",
       "    .dataframe tbody tr th {\n",
       "        vertical-align: top;\n",
       "    }\n",
       "\n",
       "    .dataframe thead th {\n",
       "        text-align: right;\n",
       "    }\n",
       "</style>\n",
       "<table border=\"1\" class=\"dataframe\">\n",
       "  <thead>\n",
       "    <tr style=\"text-align: right;\">\n",
       "      <th></th>\n",
       "      <th>cities</th>\n",
       "      <th>name</th>\n",
       "      <th>country</th>\n",
       "      <th>state</th>\n",
       "      <th>lat</th>\n",
       "      <th>lon</th>\n",
       "    </tr>\n",
       "  </thead>\n",
       "  <tbody>\n",
       "    <tr>\n",
       "      <th>0</th>\n",
       "      <td>Gorges du Verdon</td>\n",
       "      <td>None</td>\n",
       "      <td>None</td>\n",
       "      <td>None</td>\n",
       "      <td>None</td>\n",
       "      <td>None</td>\n",
       "    </tr>\n",
       "  </tbody>\n",
       "</table>\n",
       "</div>"
      ],
      "text/plain": [
       "             cities  name country state   lat   lon\n",
       "0  Gorges du Verdon  None    None  None  None  None"
      ]
     },
     "execution_count": 25,
     "metadata": {},
     "output_type": "execute_result"
    }
   ],
   "source": [
    "gdv = pd.DataFrame(coordonnees)\n",
    "gdv"
   ]
  },
  {
   "cell_type": "code",
   "execution_count": 26,
   "metadata": {},
   "outputs": [
    {
     "name": "stderr",
     "output_type": "stream",
     "text": [
      "C:\\Users\\Myriam\\AppData\\Local\\Temp\\ipykernel_20748\\3862222630.py:1: FutureWarning: The behavior of DataFrame concatenation with empty or all-NA entries is deprecated. In a future version, this will no longer exclude empty or all-NA columns when determining the result dtypes. To retain the old behavior, exclude the relevant entries before the concat operation.\n",
      "  df_merged = pd.concat([df, gdv], ignore_index=True)\n"
     ]
    },
    {
     "data": {
      "text/html": [
       "<div>\n",
       "<style scoped>\n",
       "    .dataframe tbody tr th:only-of-type {\n",
       "        vertical-align: middle;\n",
       "    }\n",
       "\n",
       "    .dataframe tbody tr th {\n",
       "        vertical-align: top;\n",
       "    }\n",
       "\n",
       "    .dataframe thead th {\n",
       "        text-align: right;\n",
       "    }\n",
       "</style>\n",
       "<table border=\"1\" class=\"dataframe\">\n",
       "  <thead>\n",
       "    <tr style=\"text-align: right;\">\n",
       "      <th></th>\n",
       "      <th>cities</th>\n",
       "      <th>name</th>\n",
       "      <th>country</th>\n",
       "      <th>state</th>\n",
       "      <th>lat</th>\n",
       "      <th>lon</th>\n",
       "    </tr>\n",
       "  </thead>\n",
       "  <tbody>\n",
       "    <tr>\n",
       "      <th>0</th>\n",
       "      <td>Mont Saint Michel</td>\n",
       "      <td>Mont Saint-Michel</td>\n",
       "      <td>FR</td>\n",
       "      <td>Normandy</td>\n",
       "      <td>48.635954</td>\n",
       "      <td>-1.511460</td>\n",
       "    </tr>\n",
       "    <tr>\n",
       "      <th>1</th>\n",
       "      <td>St Malo</td>\n",
       "      <td>Saint-Malo</td>\n",
       "      <td>FR</td>\n",
       "      <td>Brittany</td>\n",
       "      <td>48.649518</td>\n",
       "      <td>-2.026041</td>\n",
       "    </tr>\n",
       "    <tr>\n",
       "      <th>2</th>\n",
       "      <td>Bayeux</td>\n",
       "      <td>Bayeux</td>\n",
       "      <td>FR</td>\n",
       "      <td>Normandy</td>\n",
       "      <td>49.276462</td>\n",
       "      <td>-0.702474</td>\n",
       "    </tr>\n",
       "    <tr>\n",
       "      <th>3</th>\n",
       "      <td>Le Havre</td>\n",
       "      <td>Le Havre</td>\n",
       "      <td>FR</td>\n",
       "      <td>Normandy</td>\n",
       "      <td>49.493898</td>\n",
       "      <td>0.107973</td>\n",
       "    </tr>\n",
       "    <tr>\n",
       "      <th>4</th>\n",
       "      <td>Rouen</td>\n",
       "      <td>Rouen</td>\n",
       "      <td>FR</td>\n",
       "      <td>Normandy</td>\n",
       "      <td>49.440459</td>\n",
       "      <td>1.093966</td>\n",
       "    </tr>\n",
       "    <tr>\n",
       "      <th>5</th>\n",
       "      <td>Paris</td>\n",
       "      <td>Paris</td>\n",
       "      <td>FR</td>\n",
       "      <td>Ile-de-France</td>\n",
       "      <td>48.858890</td>\n",
       "      <td>2.320041</td>\n",
       "    </tr>\n",
       "    <tr>\n",
       "      <th>6</th>\n",
       "      <td>Amiens</td>\n",
       "      <td>Amiens</td>\n",
       "      <td>FR</td>\n",
       "      <td>Hauts-de-France</td>\n",
       "      <td>49.894171</td>\n",
       "      <td>2.295695</td>\n",
       "    </tr>\n",
       "    <tr>\n",
       "      <th>7</th>\n",
       "      <td>Lille</td>\n",
       "      <td>Lille</td>\n",
       "      <td>FR</td>\n",
       "      <td>Hauts-de-France</td>\n",
       "      <td>50.636565</td>\n",
       "      <td>3.063528</td>\n",
       "    </tr>\n",
       "    <tr>\n",
       "      <th>8</th>\n",
       "      <td>Strasbourg</td>\n",
       "      <td>Strasbourg</td>\n",
       "      <td>FR</td>\n",
       "      <td>Grand Est</td>\n",
       "      <td>48.584614</td>\n",
       "      <td>7.750713</td>\n",
       "    </tr>\n",
       "    <tr>\n",
       "      <th>9</th>\n",
       "      <td>Chateau du Haut Koenigsbourg</td>\n",
       "      <td>Château du Haut-Kœnigsbourg</td>\n",
       "      <td>FR</td>\n",
       "      <td>Grand Est</td>\n",
       "      <td>48.249523</td>\n",
       "      <td>7.345492</td>\n",
       "    </tr>\n",
       "    <tr>\n",
       "      <th>10</th>\n",
       "      <td>Colmar</td>\n",
       "      <td>Colmar</td>\n",
       "      <td>FR</td>\n",
       "      <td>Grand Est</td>\n",
       "      <td>48.077752</td>\n",
       "      <td>7.357964</td>\n",
       "    </tr>\n",
       "    <tr>\n",
       "      <th>11</th>\n",
       "      <td>Eguisheim</td>\n",
       "      <td>Eguisheim</td>\n",
       "      <td>FR</td>\n",
       "      <td>Grand Est</td>\n",
       "      <td>48.044797</td>\n",
       "      <td>7.307962</td>\n",
       "    </tr>\n",
       "    <tr>\n",
       "      <th>12</th>\n",
       "      <td>Besancon</td>\n",
       "      <td>Besançon</td>\n",
       "      <td>FR</td>\n",
       "      <td>Bourgogne-Franche-Comté</td>\n",
       "      <td>47.238022</td>\n",
       "      <td>6.024362</td>\n",
       "    </tr>\n",
       "    <tr>\n",
       "      <th>13</th>\n",
       "      <td>Dijon</td>\n",
       "      <td>Dijon</td>\n",
       "      <td>FR</td>\n",
       "      <td>Bourgogne-Franche-Comté</td>\n",
       "      <td>47.321581</td>\n",
       "      <td>5.041470</td>\n",
       "    </tr>\n",
       "    <tr>\n",
       "      <th>14</th>\n",
       "      <td>Annecy</td>\n",
       "      <td>Annecy</td>\n",
       "      <td>FR</td>\n",
       "      <td>Auvergne-Rhône-Alpes</td>\n",
       "      <td>45.899235</td>\n",
       "      <td>6.128885</td>\n",
       "    </tr>\n",
       "    <tr>\n",
       "      <th>15</th>\n",
       "      <td>Grenoble</td>\n",
       "      <td>Grenoble</td>\n",
       "      <td>FR</td>\n",
       "      <td>Auvergne-Rhône-Alpes</td>\n",
       "      <td>45.187560</td>\n",
       "      <td>5.735782</td>\n",
       "    </tr>\n",
       "    <tr>\n",
       "      <th>16</th>\n",
       "      <td>Lyon</td>\n",
       "      <td>Lyon</td>\n",
       "      <td>FR</td>\n",
       "      <td>Auvergne-Rhône-Alpes</td>\n",
       "      <td>45.757814</td>\n",
       "      <td>4.832011</td>\n",
       "    </tr>\n",
       "    <tr>\n",
       "      <th>17</th>\n",
       "      <td>Bormes les Mimosas</td>\n",
       "      <td>Bormes-les-Mimosas</td>\n",
       "      <td>FR</td>\n",
       "      <td>Provence-Alpes-Côte d'Azur</td>\n",
       "      <td>43.150697</td>\n",
       "      <td>6.341928</td>\n",
       "    </tr>\n",
       "    <tr>\n",
       "      <th>18</th>\n",
       "      <td>Cassis</td>\n",
       "      <td>Cassis</td>\n",
       "      <td>FR</td>\n",
       "      <td>Provence-Alpes-Côte d'Azur</td>\n",
       "      <td>43.214036</td>\n",
       "      <td>5.539632</td>\n",
       "    </tr>\n",
       "    <tr>\n",
       "      <th>19</th>\n",
       "      <td>Marseille</td>\n",
       "      <td>Marseille</td>\n",
       "      <td>FR</td>\n",
       "      <td>Provence-Alpes-Côte d'Azur</td>\n",
       "      <td>43.296174</td>\n",
       "      <td>5.369953</td>\n",
       "    </tr>\n",
       "    <tr>\n",
       "      <th>20</th>\n",
       "      <td>Aix en Provence</td>\n",
       "      <td>Aix-en-Provence</td>\n",
       "      <td>FR</td>\n",
       "      <td>Provence-Alpes-Côte d'Azur</td>\n",
       "      <td>43.529842</td>\n",
       "      <td>5.447474</td>\n",
       "    </tr>\n",
       "    <tr>\n",
       "      <th>21</th>\n",
       "      <td>Avignon</td>\n",
       "      <td>Avignon</td>\n",
       "      <td>FR</td>\n",
       "      <td>Provence-Alpes-Côte d'Azur</td>\n",
       "      <td>43.949249</td>\n",
       "      <td>4.805901</td>\n",
       "    </tr>\n",
       "    <tr>\n",
       "      <th>22</th>\n",
       "      <td>Uzes</td>\n",
       "      <td>Uzès</td>\n",
       "      <td>FR</td>\n",
       "      <td>Occitania</td>\n",
       "      <td>44.012128</td>\n",
       "      <td>4.419672</td>\n",
       "    </tr>\n",
       "    <tr>\n",
       "      <th>23</th>\n",
       "      <td>Nimes</td>\n",
       "      <td>Nimes</td>\n",
       "      <td>FR</td>\n",
       "      <td>Occitania</td>\n",
       "      <td>43.837425</td>\n",
       "      <td>4.360069</td>\n",
       "    </tr>\n",
       "    <tr>\n",
       "      <th>24</th>\n",
       "      <td>Aigues Mortes</td>\n",
       "      <td>Aigues-Mortes</td>\n",
       "      <td>FR</td>\n",
       "      <td>Occitania</td>\n",
       "      <td>43.565823</td>\n",
       "      <td>4.191284</td>\n",
       "    </tr>\n",
       "    <tr>\n",
       "      <th>25</th>\n",
       "      <td>Saintes Maries de la mer</td>\n",
       "      <td>Saintes-Maries-de-la-Mer</td>\n",
       "      <td>FR</td>\n",
       "      <td>Provence-Alpes-Côte d'Azur</td>\n",
       "      <td>43.452277</td>\n",
       "      <td>4.428717</td>\n",
       "    </tr>\n",
       "    <tr>\n",
       "      <th>26</th>\n",
       "      <td>Collioure</td>\n",
       "      <td>Collioure</td>\n",
       "      <td>FR</td>\n",
       "      <td>Occitania</td>\n",
       "      <td>42.525050</td>\n",
       "      <td>3.083155</td>\n",
       "    </tr>\n",
       "    <tr>\n",
       "      <th>27</th>\n",
       "      <td>Carcassonne</td>\n",
       "      <td>Carcassonne</td>\n",
       "      <td>FR</td>\n",
       "      <td>Occitania</td>\n",
       "      <td>43.213036</td>\n",
       "      <td>2.349107</td>\n",
       "    </tr>\n",
       "    <tr>\n",
       "      <th>28</th>\n",
       "      <td>Ariege</td>\n",
       "      <td>Tarascon-sur-Ariège</td>\n",
       "      <td>FR</td>\n",
       "      <td>Occitania</td>\n",
       "      <td>42.845802</td>\n",
       "      <td>1.606759</td>\n",
       "    </tr>\n",
       "    <tr>\n",
       "      <th>29</th>\n",
       "      <td>Toulouse</td>\n",
       "      <td>Toulouse</td>\n",
       "      <td>FR</td>\n",
       "      <td>Occitania</td>\n",
       "      <td>43.604462</td>\n",
       "      <td>1.444247</td>\n",
       "    </tr>\n",
       "    <tr>\n",
       "      <th>30</th>\n",
       "      <td>Montauban</td>\n",
       "      <td>Montauban</td>\n",
       "      <td>FR</td>\n",
       "      <td>Occitania</td>\n",
       "      <td>44.017584</td>\n",
       "      <td>1.354999</td>\n",
       "    </tr>\n",
       "    <tr>\n",
       "      <th>31</th>\n",
       "      <td>Biarritz</td>\n",
       "      <td>Biarritz</td>\n",
       "      <td>FR</td>\n",
       "      <td>Nouvelle-Aquitaine</td>\n",
       "      <td>43.483252</td>\n",
       "      <td>-1.559278</td>\n",
       "    </tr>\n",
       "    <tr>\n",
       "      <th>32</th>\n",
       "      <td>Bayonne</td>\n",
       "      <td>Bayonne</td>\n",
       "      <td>FR</td>\n",
       "      <td>Nouvelle-Aquitaine</td>\n",
       "      <td>43.494514</td>\n",
       "      <td>-1.473666</td>\n",
       "    </tr>\n",
       "    <tr>\n",
       "      <th>33</th>\n",
       "      <td>La Rochelle</td>\n",
       "      <td>La Rochelle</td>\n",
       "      <td>FR</td>\n",
       "      <td>Nouvelle-Aquitaine</td>\n",
       "      <td>46.159113</td>\n",
       "      <td>-1.152043</td>\n",
       "    </tr>\n",
       "    <tr>\n",
       "      <th>34</th>\n",
       "      <td>Gorges du Verdon</td>\n",
       "      <td>None</td>\n",
       "      <td>None</td>\n",
       "      <td>None</td>\n",
       "      <td>NaN</td>\n",
       "      <td>NaN</td>\n",
       "    </tr>\n",
       "  </tbody>\n",
       "</table>\n",
       "</div>"
      ],
      "text/plain": [
       "                          cities                         name country  \\\n",
       "0              Mont Saint Michel            Mont Saint-Michel      FR   \n",
       "1                        St Malo                   Saint-Malo      FR   \n",
       "2                         Bayeux                       Bayeux      FR   \n",
       "3                       Le Havre                     Le Havre      FR   \n",
       "4                          Rouen                        Rouen      FR   \n",
       "5                          Paris                        Paris      FR   \n",
       "6                         Amiens                       Amiens      FR   \n",
       "7                          Lille                        Lille      FR   \n",
       "8                     Strasbourg                   Strasbourg      FR   \n",
       "9   Chateau du Haut Koenigsbourg  Château du Haut-Kœnigsbourg      FR   \n",
       "10                        Colmar                       Colmar      FR   \n",
       "11                     Eguisheim                    Eguisheim      FR   \n",
       "12                      Besancon                     Besançon      FR   \n",
       "13                         Dijon                        Dijon      FR   \n",
       "14                        Annecy                       Annecy      FR   \n",
       "15                      Grenoble                     Grenoble      FR   \n",
       "16                          Lyon                         Lyon      FR   \n",
       "17            Bormes les Mimosas           Bormes-les-Mimosas      FR   \n",
       "18                        Cassis                       Cassis      FR   \n",
       "19                     Marseille                    Marseille      FR   \n",
       "20               Aix en Provence              Aix-en-Provence      FR   \n",
       "21                       Avignon                      Avignon      FR   \n",
       "22                          Uzes                         Uzès      FR   \n",
       "23                         Nimes                        Nimes      FR   \n",
       "24                 Aigues Mortes                Aigues-Mortes      FR   \n",
       "25      Saintes Maries de la mer     Saintes-Maries-de-la-Mer      FR   \n",
       "26                     Collioure                    Collioure      FR   \n",
       "27                   Carcassonne                  Carcassonne      FR   \n",
       "28                        Ariege          Tarascon-sur-Ariège      FR   \n",
       "29                      Toulouse                     Toulouse      FR   \n",
       "30                     Montauban                    Montauban      FR   \n",
       "31                      Biarritz                     Biarritz      FR   \n",
       "32                       Bayonne                      Bayonne      FR   \n",
       "33                   La Rochelle                  La Rochelle      FR   \n",
       "34              Gorges du Verdon                         None    None   \n",
       "\n",
       "                         state        lat       lon  \n",
       "0                     Normandy  48.635954 -1.511460  \n",
       "1                     Brittany  48.649518 -2.026041  \n",
       "2                     Normandy  49.276462 -0.702474  \n",
       "3                     Normandy  49.493898  0.107973  \n",
       "4                     Normandy  49.440459  1.093966  \n",
       "5                Ile-de-France  48.858890  2.320041  \n",
       "6              Hauts-de-France  49.894171  2.295695  \n",
       "7              Hauts-de-France  50.636565  3.063528  \n",
       "8                    Grand Est  48.584614  7.750713  \n",
       "9                    Grand Est  48.249523  7.345492  \n",
       "10                   Grand Est  48.077752  7.357964  \n",
       "11                   Grand Est  48.044797  7.307962  \n",
       "12     Bourgogne-Franche-Comté  47.238022  6.024362  \n",
       "13     Bourgogne-Franche-Comté  47.321581  5.041470  \n",
       "14        Auvergne-Rhône-Alpes  45.899235  6.128885  \n",
       "15        Auvergne-Rhône-Alpes  45.187560  5.735782  \n",
       "16        Auvergne-Rhône-Alpes  45.757814  4.832011  \n",
       "17  Provence-Alpes-Côte d'Azur  43.150697  6.341928  \n",
       "18  Provence-Alpes-Côte d'Azur  43.214036  5.539632  \n",
       "19  Provence-Alpes-Côte d'Azur  43.296174  5.369953  \n",
       "20  Provence-Alpes-Côte d'Azur  43.529842  5.447474  \n",
       "21  Provence-Alpes-Côte d'Azur  43.949249  4.805901  \n",
       "22                   Occitania  44.012128  4.419672  \n",
       "23                   Occitania  43.837425  4.360069  \n",
       "24                   Occitania  43.565823  4.191284  \n",
       "25  Provence-Alpes-Côte d'Azur  43.452277  4.428717  \n",
       "26                   Occitania  42.525050  3.083155  \n",
       "27                   Occitania  43.213036  2.349107  \n",
       "28                   Occitania  42.845802  1.606759  \n",
       "29                   Occitania  43.604462  1.444247  \n",
       "30                   Occitania  44.017584  1.354999  \n",
       "31          Nouvelle-Aquitaine  43.483252 -1.559278  \n",
       "32          Nouvelle-Aquitaine  43.494514 -1.473666  \n",
       "33          Nouvelle-Aquitaine  46.159113 -1.152043  \n",
       "34                        None        NaN       NaN  "
      ]
     },
     "execution_count": 26,
     "metadata": {},
     "output_type": "execute_result"
    }
   ],
   "source": [
    "df_merged = pd.concat([df, gdv], ignore_index=True)\n",
    "df_merged"
   ]
  },
  {
   "cell_type": "code",
   "execution_count": 27,
   "metadata": {},
   "outputs": [
    {
     "ename": "ValueError",
     "evalue": "Location values cannot contain NaNs.",
     "output_type": "error",
     "traceback": [
      "\u001b[1;31m---------------------------------------------------------------------------\u001b[0m",
      "\u001b[1;31mValueError\u001b[0m                                Traceback (most recent call last)",
      "Cell \u001b[1;32mIn[27], line 6\u001b[0m\n\u001b[0;32m      4\u001b[0m \u001b[38;5;66;03m# Ajouter les villes à la carte\u001b[39;00m\n\u001b[0;32m      5\u001b[0m \u001b[38;5;28;01mfor\u001b[39;00m i, row \u001b[38;5;129;01min\u001b[39;00m df_merged\u001b[38;5;241m.\u001b[39miterrows():\n\u001b[1;32m----> 6\u001b[0m     \u001b[43mfolium\u001b[49m\u001b[38;5;241;43m.\u001b[39;49m\u001b[43mMarker\u001b[49m\u001b[43m(\u001b[49m\n\u001b[0;32m      7\u001b[0m \u001b[43m        \u001b[49m\u001b[43mlocation\u001b[49m\u001b[38;5;241;43m=\u001b[39;49m\u001b[43m[\u001b[49m\u001b[43mrow\u001b[49m\u001b[43m[\u001b[49m\u001b[38;5;124;43m'\u001b[39;49m\u001b[38;5;124;43mlat\u001b[39;49m\u001b[38;5;124;43m'\u001b[39;49m\u001b[43m]\u001b[49m\u001b[43m,\u001b[49m\u001b[43m \u001b[49m\u001b[43mrow\u001b[49m\u001b[43m[\u001b[49m\u001b[38;5;124;43m'\u001b[39;49m\u001b[38;5;124;43mlon\u001b[39;49m\u001b[38;5;124;43m'\u001b[39;49m\u001b[43m]\u001b[49m\u001b[43m]\u001b[49m\u001b[43m,\u001b[49m\n\u001b[0;32m      8\u001b[0m \u001b[43m        \u001b[49m\u001b[43mpopup\u001b[49m\u001b[38;5;241;43m=\u001b[39;49m\u001b[43mrow\u001b[49m\u001b[43m[\u001b[49m\u001b[38;5;124;43m'\u001b[39;49m\u001b[38;5;124;43mcities\u001b[39;49m\u001b[38;5;124;43m'\u001b[39;49m\u001b[43m]\u001b[49m\n\u001b[0;32m      9\u001b[0m \u001b[43m    \u001b[49m\u001b[43m)\u001b[49m\u001b[38;5;241m.\u001b[39madd_to(\u001b[38;5;28mmap\u001b[39m)\n\u001b[0;32m     11\u001b[0m \u001b[38;5;66;03m# Sauvegarder la carte dans un fichier HTML\u001b[39;00m\n\u001b[0;32m     12\u001b[0m \u001b[38;5;28mmap\u001b[39m\u001b[38;5;241m.\u001b[39msave(\u001b[38;5;124m'\u001b[39m\u001b[38;5;124mmap_best_city.html\u001b[39m\u001b[38;5;124m'\u001b[39m)\n",
      "File \u001b[1;32mc:\\Users\\Myriam\\anaconda3\\envs\\myenv\\lib\\site-packages\\folium\\map.py:402\u001b[0m, in \u001b[0;36mMarker.__init__\u001b[1;34m(self, location, popup, tooltip, icon, draggable, **kwargs)\u001b[0m\n\u001b[0;32m    400\u001b[0m \u001b[38;5;28msuper\u001b[39m()\u001b[38;5;241m.\u001b[39m\u001b[38;5;21m__init__\u001b[39m()\n\u001b[0;32m    401\u001b[0m \u001b[38;5;28mself\u001b[39m\u001b[38;5;241m.\u001b[39m_name \u001b[38;5;241m=\u001b[39m \u001b[38;5;124m\"\u001b[39m\u001b[38;5;124mMarker\u001b[39m\u001b[38;5;124m\"\u001b[39m\n\u001b[1;32m--> 402\u001b[0m \u001b[38;5;28mself\u001b[39m\u001b[38;5;241m.\u001b[39mlocation \u001b[38;5;241m=\u001b[39m \u001b[43mvalidate_location\u001b[49m\u001b[43m(\u001b[49m\u001b[43mlocation\u001b[49m\u001b[43m)\u001b[49m \u001b[38;5;28;01mif\u001b[39;00m location \u001b[38;5;129;01mis\u001b[39;00m \u001b[38;5;129;01mnot\u001b[39;00m \u001b[38;5;28;01mNone\u001b[39;00m \u001b[38;5;28;01melse\u001b[39;00m \u001b[38;5;28;01mNone\u001b[39;00m\n\u001b[0;32m    403\u001b[0m \u001b[38;5;28mself\u001b[39m\u001b[38;5;241m.\u001b[39moptions \u001b[38;5;241m=\u001b[39m remove_empty(\n\u001b[0;32m    404\u001b[0m     draggable\u001b[38;5;241m=\u001b[39mdraggable \u001b[38;5;129;01mor\u001b[39;00m \u001b[38;5;28;01mNone\u001b[39;00m, autoPan\u001b[38;5;241m=\u001b[39mdraggable \u001b[38;5;129;01mor\u001b[39;00m \u001b[38;5;28;01mNone\u001b[39;00m, \u001b[38;5;241m*\u001b[39m\u001b[38;5;241m*\u001b[39mkwargs\n\u001b[0;32m    405\u001b[0m )\n\u001b[0;32m    406\u001b[0m \u001b[38;5;66;03m# this attribute is not used by Marker, but by GeoJson\u001b[39;00m\n",
      "File \u001b[1;32mc:\\Users\\Myriam\\anaconda3\\envs\\myenv\\lib\\site-packages\\folium\\utilities.py:108\u001b[0m, in \u001b[0;36mvalidate_location\u001b[1;34m(location)\u001b[0m\n\u001b[0;32m    103\u001b[0m         \u001b[38;5;28;01mraise\u001b[39;00m \u001b[38;5;167;01mValueError\u001b[39;00m(\n\u001b[0;32m    104\u001b[0m             \u001b[38;5;124m\"\u001b[39m\u001b[38;5;124mLocation should consist of two numerical values, \u001b[39m\u001b[38;5;124m\"\u001b[39m\n\u001b[0;32m    105\u001b[0m             \u001b[38;5;124mf\u001b[39m\u001b[38;5;124m\"\u001b[39m\u001b[38;5;124mbut \u001b[39m\u001b[38;5;132;01m{\u001b[39;00mcoord\u001b[38;5;132;01m!r}\u001b[39;00m\u001b[38;5;124m of type \u001b[39m\u001b[38;5;132;01m{\u001b[39;00m\u001b[38;5;28mtype\u001b[39m(coord)\u001b[38;5;132;01m}\u001b[39;00m\u001b[38;5;124m is not convertible to float.\u001b[39m\u001b[38;5;124m\"\u001b[39m\n\u001b[0;32m    106\u001b[0m         )\n\u001b[0;32m    107\u001b[0m     \u001b[38;5;28;01mif\u001b[39;00m math\u001b[38;5;241m.\u001b[39misnan(\u001b[38;5;28mfloat\u001b[39m(coord)):\n\u001b[1;32m--> 108\u001b[0m         \u001b[38;5;28;01mraise\u001b[39;00m \u001b[38;5;167;01mValueError\u001b[39;00m(\u001b[38;5;124m\"\u001b[39m\u001b[38;5;124mLocation values cannot contain NaNs.\u001b[39m\u001b[38;5;124m\"\u001b[39m)\n\u001b[0;32m    109\u001b[0m \u001b[38;5;28;01mreturn\u001b[39;00m [\u001b[38;5;28mfloat\u001b[39m(x) \u001b[38;5;28;01mfor\u001b[39;00m x \u001b[38;5;129;01min\u001b[39;00m coords]\n",
      "\u001b[1;31mValueError\u001b[0m: Location values cannot contain NaNs."
     ]
    }
   ],
   "source": [
    "# Créer une carte centrée sur la France\n",
    "map = folium.Map(location=[46.603354, 1.888334], zoom_start=5)\n",
    "\n",
    "# Ajouter les villes à la carte\n",
    "for i, row in df_merged.iterrows():\n",
    "    folium.Marker(\n",
    "        location=[row['lat'], row['lon']],\n",
    "        popup=row['cities']\n",
    "    ).add_to(map)\n",
    "\n",
    "# Sauvegarder la carte dans un fichier HTML\n",
    "map.save('map_best_city.html')\n",
    "\n",
    "# Afficher la carte\n",
    "map"
   ]
  },
  {
   "cell_type": "markdown",
   "metadata": {},
   "source": [
    "## Import weather information"
   ]
  },
  {
   "cell_type": "code",
   "execution_count": 28,
   "metadata": {},
   "outputs": [],
   "source": [
    "df=df_merged"
   ]
  },
  {
   "cell_type": "code",
   "execution_count": 29,
   "metadata": {},
   "outputs": [
    {
     "data": {
      "text/plain": [
       "<Response [200]>"
      ]
     },
     "execution_count": 29,
     "metadata": {},
     "output_type": "execute_result"
    }
   ],
   "source": [
    "url = f\"https://api.openweathermap.org/data/3.0/onecall?lat={df.loc[0, 'lat']}&lon={df.loc[0, 'lon']}&units=metric&exclude=hourly,daily&appid={Open_Weather_API_Key_Myriam}\"\n",
    "\n",
    "r = requests.get(url)\n",
    "data = r.json()\n",
    "r"
   ]
  },
  {
   "cell_type": "code",
   "execution_count": 30,
   "metadata": {},
   "outputs": [
    {
     "name": "stdout",
     "output_type": "stream",
     "text": [
      "Colonnes du DataFrame : Index(['cities', 'name', 'country', 'state', 'lat', 'lon'], dtype='object')\n"
     ]
    }
   ],
   "source": [
    "\n",
    "# Vérifiez les colonnes du DataFrame\n",
    "print(\"Colonnes du DataFrame :\", df.columns)"
   ]
  },
  {
   "cell_type": "code",
   "execution_count": 31,
   "metadata": {},
   "outputs": [
    {
     "name": "stdout",
     "output_type": "stream",
     "text": [
      "Erreur lors de la requête pour l'index 34 : 400\n",
      "{\"cod\":\"400\",\"message\":\"wrong latitude\"}\n"
     ]
    }
   ],
   "source": [
    "\n",
    "for i in df.index:\n",
    "    lat = df.loc[i, 'lat']\n",
    "    lon = df.loc[i, 'lon']\n",
    "\n",
    "    url = f\"https://api.openweathermap.org/data/3.0/onecall?lat={lat}&lon={lon}&units=metric&exclude=hourly,daily&appid={Open_Weather_API_Key_Myriam}\"\n",
    "\n",
    "    r = requests.get(url)\n",
    "\n",
    "    if r.status_code == 200:\n",
    "        data = r.json()\n",
    "  \n",
    "        df.loc[i,\"date\"] = data[\"current\"][\"dt\"]\n",
    "        df.loc[i, \"temp\"] = data[\"current\"][\"temp\"]\n",
    "        df.loc[i, \"humidity\"] = data[\"current\"][\"humidity\"]\n",
    "        df.loc[i, \"description\"] = data[\"current\"][\"weather\"][0][\"description\"]\n",
    "        \n",
    "    else:\n",
    "        print(f\"Erreur lors de la requête pour l'index {i} : {r.status_code}\")\n",
    "        print(r.text)  # Imprime le message d'erreur pour plus de détails\n",
    "\n"
   ]
  },
  {
   "cell_type": "code",
   "execution_count": 32,
   "metadata": {},
   "outputs": [
    {
     "data": {
      "text/html": [
       "<div>\n",
       "<style scoped>\n",
       "    .dataframe tbody tr th:only-of-type {\n",
       "        vertical-align: middle;\n",
       "    }\n",
       "\n",
       "    .dataframe tbody tr th {\n",
       "        vertical-align: top;\n",
       "    }\n",
       "\n",
       "    .dataframe thead th {\n",
       "        text-align: right;\n",
       "    }\n",
       "</style>\n",
       "<table border=\"1\" class=\"dataframe\">\n",
       "  <thead>\n",
       "    <tr style=\"text-align: right;\">\n",
       "      <th></th>\n",
       "      <th>cities</th>\n",
       "      <th>name</th>\n",
       "      <th>country</th>\n",
       "      <th>state</th>\n",
       "      <th>lat</th>\n",
       "      <th>lon</th>\n",
       "      <th>date</th>\n",
       "      <th>temp</th>\n",
       "      <th>humidity</th>\n",
       "      <th>description</th>\n",
       "    </tr>\n",
       "  </thead>\n",
       "  <tbody>\n",
       "    <tr>\n",
       "      <th>0</th>\n",
       "      <td>Mont Saint Michel</td>\n",
       "      <td>Mont Saint-Michel</td>\n",
       "      <td>FR</td>\n",
       "      <td>Normandy</td>\n",
       "      <td>48.635954</td>\n",
       "      <td>-1.511460</td>\n",
       "      <td>2025-03-27 16:55:03</td>\n",
       "      <td>10.53</td>\n",
       "      <td>85.0</td>\n",
       "      <td>clear sky</td>\n",
       "    </tr>\n",
       "    <tr>\n",
       "      <th>1</th>\n",
       "      <td>St Malo</td>\n",
       "      <td>Saint-Malo</td>\n",
       "      <td>FR</td>\n",
       "      <td>Brittany</td>\n",
       "      <td>48.649518</td>\n",
       "      <td>-2.026041</td>\n",
       "      <td>2025-03-27 16:55:07</td>\n",
       "      <td>10.43</td>\n",
       "      <td>88.0</td>\n",
       "      <td>clear sky</td>\n",
       "    </tr>\n",
       "    <tr>\n",
       "      <th>2</th>\n",
       "      <td>Bayeux</td>\n",
       "      <td>Bayeux</td>\n",
       "      <td>FR</td>\n",
       "      <td>Normandy</td>\n",
       "      <td>49.276462</td>\n",
       "      <td>-0.702474</td>\n",
       "      <td>2025-03-27 16:55:08</td>\n",
       "      <td>11.31</td>\n",
       "      <td>78.0</td>\n",
       "      <td>clear sky</td>\n",
       "    </tr>\n",
       "    <tr>\n",
       "      <th>3</th>\n",
       "      <td>Le Havre</td>\n",
       "      <td>Le Havre</td>\n",
       "      <td>FR</td>\n",
       "      <td>Normandy</td>\n",
       "      <td>49.493898</td>\n",
       "      <td>0.107973</td>\n",
       "      <td>2025-03-27 16:55:08</td>\n",
       "      <td>10.07</td>\n",
       "      <td>75.0</td>\n",
       "      <td>fog</td>\n",
       "    </tr>\n",
       "    <tr>\n",
       "      <th>4</th>\n",
       "      <td>Rouen</td>\n",
       "      <td>Rouen</td>\n",
       "      <td>FR</td>\n",
       "      <td>Normandy</td>\n",
       "      <td>49.440459</td>\n",
       "      <td>1.093966</td>\n",
       "      <td>2025-03-27 16:55:08</td>\n",
       "      <td>14.69</td>\n",
       "      <td>59.0</td>\n",
       "      <td>clear sky</td>\n",
       "    </tr>\n",
       "  </tbody>\n",
       "</table>\n",
       "</div>"
      ],
      "text/plain": [
       "              cities               name country     state        lat  \\\n",
       "0  Mont Saint Michel  Mont Saint-Michel      FR  Normandy  48.635954   \n",
       "1            St Malo         Saint-Malo      FR  Brittany  48.649518   \n",
       "2             Bayeux             Bayeux      FR  Normandy  49.276462   \n",
       "3           Le Havre           Le Havre      FR  Normandy  49.493898   \n",
       "4              Rouen              Rouen      FR  Normandy  49.440459   \n",
       "\n",
       "        lon                date   temp  humidity description  \n",
       "0 -1.511460 2025-03-27 16:55:03  10.53      85.0   clear sky  \n",
       "1 -2.026041 2025-03-27 16:55:07  10.43      88.0   clear sky  \n",
       "2 -0.702474 2025-03-27 16:55:08  11.31      78.0   clear sky  \n",
       "3  0.107973 2025-03-27 16:55:08  10.07      75.0         fog  \n",
       "4  1.093966 2025-03-27 16:55:08  14.69      59.0   clear sky  "
      ]
     },
     "execution_count": 32,
     "metadata": {},
     "output_type": "execute_result"
    }
   ],
   "source": [
    "df['date'] = pd.to_datetime(df['date'], unit='s')\n",
    "df.head()"
   ]
  },
  {
   "cell_type": "code",
   "execution_count": 33,
   "metadata": {},
   "outputs": [],
   "source": [
    "# Enregistrer le DataFrame en fichier CSV\n",
    "df.to_csv('best_cities.csv', index=False)"
   ]
  },
  {
   "cell_type": "markdown",
   "metadata": {},
   "source": [
    "# analyse"
   ]
  },
  {
   "cell_type": "code",
   "execution_count": 34,
   "metadata": {},
   "outputs": [
    {
     "data": {
      "text/html": [
       "<div>\n",
       "<style scoped>\n",
       "    .dataframe tbody tr th:only-of-type {\n",
       "        vertical-align: middle;\n",
       "    }\n",
       "\n",
       "    .dataframe tbody tr th {\n",
       "        vertical-align: top;\n",
       "    }\n",
       "\n",
       "    .dataframe thead th {\n",
       "        text-align: right;\n",
       "    }\n",
       "</style>\n",
       "<table border=\"1\" class=\"dataframe\">\n",
       "  <thead>\n",
       "    <tr style=\"text-align: right;\">\n",
       "      <th></th>\n",
       "      <th>cities</th>\n",
       "      <th>name</th>\n",
       "      <th>country</th>\n",
       "      <th>state</th>\n",
       "      <th>lat</th>\n",
       "      <th>lon</th>\n",
       "      <th>date</th>\n",
       "      <th>temp</th>\n",
       "      <th>humidity</th>\n",
       "      <th>description</th>\n",
       "    </tr>\n",
       "  </thead>\n",
       "  <tbody>\n",
       "    <tr>\n",
       "      <th>0</th>\n",
       "      <td>Mont Saint Michel</td>\n",
       "      <td>Mont Saint-Michel</td>\n",
       "      <td>FR</td>\n",
       "      <td>Normandy</td>\n",
       "      <td>48.635954</td>\n",
       "      <td>-1.511460</td>\n",
       "      <td>2025-03-27 16:55:03</td>\n",
       "      <td>10.53</td>\n",
       "      <td>85.0</td>\n",
       "      <td>clear sky</td>\n",
       "    </tr>\n",
       "    <tr>\n",
       "      <th>1</th>\n",
       "      <td>St Malo</td>\n",
       "      <td>Saint-Malo</td>\n",
       "      <td>FR</td>\n",
       "      <td>Brittany</td>\n",
       "      <td>48.649518</td>\n",
       "      <td>-2.026041</td>\n",
       "      <td>2025-03-27 16:55:07</td>\n",
       "      <td>10.43</td>\n",
       "      <td>88.0</td>\n",
       "      <td>clear sky</td>\n",
       "    </tr>\n",
       "    <tr>\n",
       "      <th>2</th>\n",
       "      <td>Bayeux</td>\n",
       "      <td>Bayeux</td>\n",
       "      <td>FR</td>\n",
       "      <td>Normandy</td>\n",
       "      <td>49.276462</td>\n",
       "      <td>-0.702474</td>\n",
       "      <td>2025-03-27 16:55:08</td>\n",
       "      <td>11.31</td>\n",
       "      <td>78.0</td>\n",
       "      <td>clear sky</td>\n",
       "    </tr>\n",
       "    <tr>\n",
       "      <th>3</th>\n",
       "      <td>Le Havre</td>\n",
       "      <td>Le Havre</td>\n",
       "      <td>FR</td>\n",
       "      <td>Normandy</td>\n",
       "      <td>49.493898</td>\n",
       "      <td>0.107973</td>\n",
       "      <td>2025-03-27 16:55:08</td>\n",
       "      <td>10.07</td>\n",
       "      <td>75.0</td>\n",
       "      <td>fog</td>\n",
       "    </tr>\n",
       "    <tr>\n",
       "      <th>4</th>\n",
       "      <td>Rouen</td>\n",
       "      <td>Rouen</td>\n",
       "      <td>FR</td>\n",
       "      <td>Normandy</td>\n",
       "      <td>49.440459</td>\n",
       "      <td>1.093966</td>\n",
       "      <td>2025-03-27 16:55:08</td>\n",
       "      <td>14.69</td>\n",
       "      <td>59.0</td>\n",
       "      <td>clear sky</td>\n",
       "    </tr>\n",
       "  </tbody>\n",
       "</table>\n",
       "</div>"
      ],
      "text/plain": [
       "              cities               name country     state        lat  \\\n",
       "0  Mont Saint Michel  Mont Saint-Michel      FR  Normandy  48.635954   \n",
       "1            St Malo         Saint-Malo      FR  Brittany  48.649518   \n",
       "2             Bayeux             Bayeux      FR  Normandy  49.276462   \n",
       "3           Le Havre           Le Havre      FR  Normandy  49.493898   \n",
       "4              Rouen              Rouen      FR  Normandy  49.440459   \n",
       "\n",
       "        lon                 date   temp  humidity description  \n",
       "0 -1.511460  2025-03-27 16:55:03  10.53      85.0   clear sky  \n",
       "1 -2.026041  2025-03-27 16:55:07  10.43      88.0   clear sky  \n",
       "2 -0.702474  2025-03-27 16:55:08  11.31      78.0   clear sky  \n",
       "3  0.107973  2025-03-27 16:55:08  10.07      75.0         fog  \n",
       "4  1.093966  2025-03-27 16:55:08  14.69      59.0   clear sky  "
      ]
     },
     "execution_count": 34,
     "metadata": {},
     "output_type": "execute_result"
    }
   ],
   "source": [
    "bc = pd.read_csv(\"best_cities.csv\")\n",
    "bc.head()"
   ]
  },
  {
   "cell_type": "code",
   "execution_count": 40,
   "metadata": {},
   "outputs": [
    {
     "data": {
      "application/vnd.plotly.v1+json": {
       "config": {
        "plotlyServerURL": "https://plot.ly"
       },
       "data": [
        {
         "hovertemplate": "Température (°C)=%{x}<br>Ville=%{y}<extra></extra>",
         "legendgroup": "",
         "marker": {
          "color": "#636efa",
          "pattern": {
           "shape": ""
          }
         },
         "name": "",
         "orientation": "h",
         "showlegend": false,
         "textposition": "auto",
         "type": "bar",
         "x": {
          "bdata": "FK5H4XoUIkCkcD0K1yMkQFK4HoXrUSRAXI/C9SjcJECPwvUoXA8lQB+F61G4niZArkfhehSuJ0DsUbgehesnQBSuR+F6FChAAAAAAACAKEDD9Shcj8IoQD0K16NwPSlApHA9CtcjKkDD9Shcj0IqQB+F61G4nipAUrgehetRK0Bcj8L1KFwrQArXo3A9iitAj8L1KFyPK0AK16NwPYosQClcj8L1qCxAPQrXo3C9LEDD9Shcj8IsQEjhehSuxyxAj8L1KFwPLUCamZmZmRktQOF6FK5HYS1APQrXo3C9LUB7FK5H4fotQHsUrkfh+i1ArkfhehSuLkDhehSuR+EuQGZmZmZmZi9A16NwPQrXL0AAAAAAAAD4fw==",
          "dtype": "f8"
         },
         "xaxis": "x",
         "y": [
          "Ariege",
          "Le Havre",
          "Chateau du Haut Koenigsbourg",
          "St Malo",
          "Mont Saint Michel",
          "Bayeux",
          "Besancon",
          "Annecy",
          "Dijon",
          "Eguisheim",
          "Carcassonne",
          "Colmar",
          "Toulouse",
          "Strasbourg",
          "Biarritz",
          "Bormes les Mimosas",
          "Lyon",
          "Bayonne",
          "Uzes",
          "La Rochelle",
          "Montauban",
          "Lille",
          "Grenoble",
          "Avignon",
          "Amiens",
          "Cassis",
          "Rouen",
          "Nimes",
          "Aigues Mortes",
          "Saintes Maries de la mer",
          "Collioure",
          "Aix en Provence",
          "Marseille",
          "Paris",
          "Gorges du Verdon"
         ],
         "yaxis": "y"
        }
       ],
       "layout": {
        "barmode": "relative",
        "legend": {
         "tracegroupgap": 0
        },
        "template": {
         "data": {
          "bar": [
           {
            "error_x": {
             "color": "#2a3f5f"
            },
            "error_y": {
             "color": "#2a3f5f"
            },
            "marker": {
             "line": {
              "color": "#E5ECF6",
              "width": 0.5
             },
             "pattern": {
              "fillmode": "overlay",
              "size": 10,
              "solidity": 0.2
             }
            },
            "type": "bar"
           }
          ],
          "barpolar": [
           {
            "marker": {
             "line": {
              "color": "#E5ECF6",
              "width": 0.5
             },
             "pattern": {
              "fillmode": "overlay",
              "size": 10,
              "solidity": 0.2
             }
            },
            "type": "barpolar"
           }
          ],
          "carpet": [
           {
            "aaxis": {
             "endlinecolor": "#2a3f5f",
             "gridcolor": "white",
             "linecolor": "white",
             "minorgridcolor": "white",
             "startlinecolor": "#2a3f5f"
            },
            "baxis": {
             "endlinecolor": "#2a3f5f",
             "gridcolor": "white",
             "linecolor": "white",
             "minorgridcolor": "white",
             "startlinecolor": "#2a3f5f"
            },
            "type": "carpet"
           }
          ],
          "choropleth": [
           {
            "colorbar": {
             "outlinewidth": 0,
             "ticks": ""
            },
            "type": "choropleth"
           }
          ],
          "contour": [
           {
            "colorbar": {
             "outlinewidth": 0,
             "ticks": ""
            },
            "colorscale": [
             [
              0,
              "#0d0887"
             ],
             [
              0.1111111111111111,
              "#46039f"
             ],
             [
              0.2222222222222222,
              "#7201a8"
             ],
             [
              0.3333333333333333,
              "#9c179e"
             ],
             [
              0.4444444444444444,
              "#bd3786"
             ],
             [
              0.5555555555555556,
              "#d8576b"
             ],
             [
              0.6666666666666666,
              "#ed7953"
             ],
             [
              0.7777777777777778,
              "#fb9f3a"
             ],
             [
              0.8888888888888888,
              "#fdca26"
             ],
             [
              1,
              "#f0f921"
             ]
            ],
            "type": "contour"
           }
          ],
          "contourcarpet": [
           {
            "colorbar": {
             "outlinewidth": 0,
             "ticks": ""
            },
            "type": "contourcarpet"
           }
          ],
          "heatmap": [
           {
            "colorbar": {
             "outlinewidth": 0,
             "ticks": ""
            },
            "colorscale": [
             [
              0,
              "#0d0887"
             ],
             [
              0.1111111111111111,
              "#46039f"
             ],
             [
              0.2222222222222222,
              "#7201a8"
             ],
             [
              0.3333333333333333,
              "#9c179e"
             ],
             [
              0.4444444444444444,
              "#bd3786"
             ],
             [
              0.5555555555555556,
              "#d8576b"
             ],
             [
              0.6666666666666666,
              "#ed7953"
             ],
             [
              0.7777777777777778,
              "#fb9f3a"
             ],
             [
              0.8888888888888888,
              "#fdca26"
             ],
             [
              1,
              "#f0f921"
             ]
            ],
            "type": "heatmap"
           }
          ],
          "histogram": [
           {
            "marker": {
             "pattern": {
              "fillmode": "overlay",
              "size": 10,
              "solidity": 0.2
             }
            },
            "type": "histogram"
           }
          ],
          "histogram2d": [
           {
            "colorbar": {
             "outlinewidth": 0,
             "ticks": ""
            },
            "colorscale": [
             [
              0,
              "#0d0887"
             ],
             [
              0.1111111111111111,
              "#46039f"
             ],
             [
              0.2222222222222222,
              "#7201a8"
             ],
             [
              0.3333333333333333,
              "#9c179e"
             ],
             [
              0.4444444444444444,
              "#bd3786"
             ],
             [
              0.5555555555555556,
              "#d8576b"
             ],
             [
              0.6666666666666666,
              "#ed7953"
             ],
             [
              0.7777777777777778,
              "#fb9f3a"
             ],
             [
              0.8888888888888888,
              "#fdca26"
             ],
             [
              1,
              "#f0f921"
             ]
            ],
            "type": "histogram2d"
           }
          ],
          "histogram2dcontour": [
           {
            "colorbar": {
             "outlinewidth": 0,
             "ticks": ""
            },
            "colorscale": [
             [
              0,
              "#0d0887"
             ],
             [
              0.1111111111111111,
              "#46039f"
             ],
             [
              0.2222222222222222,
              "#7201a8"
             ],
             [
              0.3333333333333333,
              "#9c179e"
             ],
             [
              0.4444444444444444,
              "#bd3786"
             ],
             [
              0.5555555555555556,
              "#d8576b"
             ],
             [
              0.6666666666666666,
              "#ed7953"
             ],
             [
              0.7777777777777778,
              "#fb9f3a"
             ],
             [
              0.8888888888888888,
              "#fdca26"
             ],
             [
              1,
              "#f0f921"
             ]
            ],
            "type": "histogram2dcontour"
           }
          ],
          "mesh3d": [
           {
            "colorbar": {
             "outlinewidth": 0,
             "ticks": ""
            },
            "type": "mesh3d"
           }
          ],
          "parcoords": [
           {
            "line": {
             "colorbar": {
              "outlinewidth": 0,
              "ticks": ""
             }
            },
            "type": "parcoords"
           }
          ],
          "pie": [
           {
            "automargin": true,
            "type": "pie"
           }
          ],
          "scatter": [
           {
            "fillpattern": {
             "fillmode": "overlay",
             "size": 10,
             "solidity": 0.2
            },
            "type": "scatter"
           }
          ],
          "scatter3d": [
           {
            "line": {
             "colorbar": {
              "outlinewidth": 0,
              "ticks": ""
             }
            },
            "marker": {
             "colorbar": {
              "outlinewidth": 0,
              "ticks": ""
             }
            },
            "type": "scatter3d"
           }
          ],
          "scattercarpet": [
           {
            "marker": {
             "colorbar": {
              "outlinewidth": 0,
              "ticks": ""
             }
            },
            "type": "scattercarpet"
           }
          ],
          "scattergeo": [
           {
            "marker": {
             "colorbar": {
              "outlinewidth": 0,
              "ticks": ""
             }
            },
            "type": "scattergeo"
           }
          ],
          "scattergl": [
           {
            "marker": {
             "colorbar": {
              "outlinewidth": 0,
              "ticks": ""
             }
            },
            "type": "scattergl"
           }
          ],
          "scattermap": [
           {
            "marker": {
             "colorbar": {
              "outlinewidth": 0,
              "ticks": ""
             }
            },
            "type": "scattermap"
           }
          ],
          "scattermapbox": [
           {
            "marker": {
             "colorbar": {
              "outlinewidth": 0,
              "ticks": ""
             }
            },
            "type": "scattermapbox"
           }
          ],
          "scatterpolar": [
           {
            "marker": {
             "colorbar": {
              "outlinewidth": 0,
              "ticks": ""
             }
            },
            "type": "scatterpolar"
           }
          ],
          "scatterpolargl": [
           {
            "marker": {
             "colorbar": {
              "outlinewidth": 0,
              "ticks": ""
             }
            },
            "type": "scatterpolargl"
           }
          ],
          "scatterternary": [
           {
            "marker": {
             "colorbar": {
              "outlinewidth": 0,
              "ticks": ""
             }
            },
            "type": "scatterternary"
           }
          ],
          "surface": [
           {
            "colorbar": {
             "outlinewidth": 0,
             "ticks": ""
            },
            "colorscale": [
             [
              0,
              "#0d0887"
             ],
             [
              0.1111111111111111,
              "#46039f"
             ],
             [
              0.2222222222222222,
              "#7201a8"
             ],
             [
              0.3333333333333333,
              "#9c179e"
             ],
             [
              0.4444444444444444,
              "#bd3786"
             ],
             [
              0.5555555555555556,
              "#d8576b"
             ],
             [
              0.6666666666666666,
              "#ed7953"
             ],
             [
              0.7777777777777778,
              "#fb9f3a"
             ],
             [
              0.8888888888888888,
              "#fdca26"
             ],
             [
              1,
              "#f0f921"
             ]
            ],
            "type": "surface"
           }
          ],
          "table": [
           {
            "cells": {
             "fill": {
              "color": "#EBF0F8"
             },
             "line": {
              "color": "white"
             }
            },
            "header": {
             "fill": {
              "color": "#C8D4E3"
             },
             "line": {
              "color": "white"
             }
            },
            "type": "table"
           }
          ]
         },
         "layout": {
          "annotationdefaults": {
           "arrowcolor": "#2a3f5f",
           "arrowhead": 0,
           "arrowwidth": 1
          },
          "autotypenumbers": "strict",
          "coloraxis": {
           "colorbar": {
            "outlinewidth": 0,
            "ticks": ""
           }
          },
          "colorscale": {
           "diverging": [
            [
             0,
             "#8e0152"
            ],
            [
             0.1,
             "#c51b7d"
            ],
            [
             0.2,
             "#de77ae"
            ],
            [
             0.3,
             "#f1b6da"
            ],
            [
             0.4,
             "#fde0ef"
            ],
            [
             0.5,
             "#f7f7f7"
            ],
            [
             0.6,
             "#e6f5d0"
            ],
            [
             0.7,
             "#b8e186"
            ],
            [
             0.8,
             "#7fbc41"
            ],
            [
             0.9,
             "#4d9221"
            ],
            [
             1,
             "#276419"
            ]
           ],
           "sequential": [
            [
             0,
             "#0d0887"
            ],
            [
             0.1111111111111111,
             "#46039f"
            ],
            [
             0.2222222222222222,
             "#7201a8"
            ],
            [
             0.3333333333333333,
             "#9c179e"
            ],
            [
             0.4444444444444444,
             "#bd3786"
            ],
            [
             0.5555555555555556,
             "#d8576b"
            ],
            [
             0.6666666666666666,
             "#ed7953"
            ],
            [
             0.7777777777777778,
             "#fb9f3a"
            ],
            [
             0.8888888888888888,
             "#fdca26"
            ],
            [
             1,
             "#f0f921"
            ]
           ],
           "sequentialminus": [
            [
             0,
             "#0d0887"
            ],
            [
             0.1111111111111111,
             "#46039f"
            ],
            [
             0.2222222222222222,
             "#7201a8"
            ],
            [
             0.3333333333333333,
             "#9c179e"
            ],
            [
             0.4444444444444444,
             "#bd3786"
            ],
            [
             0.5555555555555556,
             "#d8576b"
            ],
            [
             0.6666666666666666,
             "#ed7953"
            ],
            [
             0.7777777777777778,
             "#fb9f3a"
            ],
            [
             0.8888888888888888,
             "#fdca26"
            ],
            [
             1,
             "#f0f921"
            ]
           ]
          },
          "colorway": [
           "#636efa",
           "#EF553B",
           "#00cc96",
           "#ab63fa",
           "#FFA15A",
           "#19d3f3",
           "#FF6692",
           "#B6E880",
           "#FF97FF",
           "#FECB52"
          ],
          "font": {
           "color": "#2a3f5f"
          },
          "geo": {
           "bgcolor": "white",
           "lakecolor": "white",
           "landcolor": "#E5ECF6",
           "showlakes": true,
           "showland": true,
           "subunitcolor": "white"
          },
          "hoverlabel": {
           "align": "left"
          },
          "hovermode": "closest",
          "mapbox": {
           "style": "light"
          },
          "paper_bgcolor": "white",
          "plot_bgcolor": "#E5ECF6",
          "polar": {
           "angularaxis": {
            "gridcolor": "white",
            "linecolor": "white",
            "ticks": ""
           },
           "bgcolor": "#E5ECF6",
           "radialaxis": {
            "gridcolor": "white",
            "linecolor": "white",
            "ticks": ""
           }
          },
          "scene": {
           "xaxis": {
            "backgroundcolor": "#E5ECF6",
            "gridcolor": "white",
            "gridwidth": 2,
            "linecolor": "white",
            "showbackground": true,
            "ticks": "",
            "zerolinecolor": "white"
           },
           "yaxis": {
            "backgroundcolor": "#E5ECF6",
            "gridcolor": "white",
            "gridwidth": 2,
            "linecolor": "white",
            "showbackground": true,
            "ticks": "",
            "zerolinecolor": "white"
           },
           "zaxis": {
            "backgroundcolor": "#E5ECF6",
            "gridcolor": "white",
            "gridwidth": 2,
            "linecolor": "white",
            "showbackground": true,
            "ticks": "",
            "zerolinecolor": "white"
           }
          },
          "shapedefaults": {
           "line": {
            "color": "#2a3f5f"
           }
          },
          "ternary": {
           "aaxis": {
            "gridcolor": "white",
            "linecolor": "white",
            "ticks": ""
           },
           "baxis": {
            "gridcolor": "white",
            "linecolor": "white",
            "ticks": ""
           },
           "bgcolor": "#E5ECF6",
           "caxis": {
            "gridcolor": "white",
            "linecolor": "white",
            "ticks": ""
           }
          },
          "title": {
           "x": 0.05
          },
          "xaxis": {
           "automargin": true,
           "gridcolor": "white",
           "linecolor": "white",
           "ticks": "",
           "title": {
            "standoff": 15
           },
           "zerolinecolor": "white",
           "zerolinewidth": 2
          },
          "yaxis": {
           "automargin": true,
           "gridcolor": "white",
           "linecolor": "white",
           "ticks": "",
           "title": {
            "standoff": 15
           },
           "zerolinecolor": "white",
           "zerolinewidth": 2
          }
         }
        },
        "title": {
         "text": "Températures par Ville"
        },
        "xaxis": {
         "anchor": "y",
         "domain": [
          0,
          1
         ],
         "title": {
          "text": "Température (°C)"
         }
        },
        "yaxis": {
         "anchor": "x",
         "domain": [
          0,
          1
         ],
         "title": {
          "text": "Ville"
         }
        }
       }
      }
     },
     "metadata": {},
     "output_type": "display_data"
    }
   ],
   "source": [
    "df_sorted = bc.sort_values(by='temp', ascending=True)\n",
    "\n",
    "# Créer un diagramme en bâtons horizontal\n",
    "fig = px.bar(df_sorted, x='temp', y='cities', orientation='h',\n",
    "             title='Températures par Ville',\n",
    "             labels={'temp': 'Température (°C)', 'cities': 'Ville'})\n",
    "\n",
    "# Afficher le diagramme\n",
    "fig.show()"
   ]
  },
  {
   "cell_type": "code",
   "execution_count": 41,
   "metadata": {},
   "outputs": [
    {
     "data": {
      "application/vnd.plotly.v1+json": {
       "config": {
        "plotlyServerURL": "https://plot.ly"
       },
       "data": [
        {
         "hovertemplate": "Humidité=%{x}<br>Ville=%{y}<extra></extra>",
         "legendgroup": "",
         "marker": {
          "color": "#636efa",
          "pattern": {
           "shape": ""
          }
         },
         "name": "",
         "orientation": "h",
         "showlegend": false,
         "textposition": "auto",
         "type": "bar",
         "x": {
          "bdata": "AAAAAAAAV0AAAAAAAABWQAAAAAAAQFVAAAAAAACAU0AAAAAAAEBTQAAAAAAAQFNAAAAAAADAUkAAAAAAAEBSQAAAAAAAwFFAAAAAAADAUUAAAAAAAABRQAAAAAAAAFFAAAAAAAAAUUAAAAAAAABQQAAAAAAAgE9AAAAAAACAT0AAAAAAAABPQAAAAAAAAE9AAAAAAAAAT0AAAAAAAABPQAAAAAAAAE9AAAAAAAAATkAAAAAAAABOQAAAAAAAAE5AAAAAAACATUAAAAAAAIBNQAAAAAAAAE1AAAAAAACATEAAAAAAAIBLQAAAAAAAgEtAAAAAAAAASkAAAAAAAABJQAAAAAAAAElAAAAAAACARUAAAAAAAAD4fw==",
          "dtype": "f8"
         },
         "xaxis": "x",
         "y": [
          "Ariege",
          "St Malo",
          "Mont Saint Michel",
          "Bayeux",
          "Biarritz",
          "Grenoble",
          "Le Havre",
          "Annecy",
          "Bayonne",
          "Dijon",
          "Besancon",
          "Carcassonne",
          "La Rochelle",
          "Saintes Maries de la mer",
          "Cassis",
          "Uzes",
          "Toulouse",
          "Lyon",
          "Montauban",
          "Avignon",
          "Aigues Mortes",
          "Eguisheim",
          "Chateau du Haut Koenigsbourg",
          "Colmar",
          "Rouen",
          "Marseille",
          "Bormes les Mimosas",
          "Nimes",
          "Amiens",
          "Strasbourg",
          "Lille",
          "Collioure",
          "Aix en Provence",
          "Paris",
          "Gorges du Verdon"
         ],
         "yaxis": "y"
        }
       ],
       "layout": {
        "barmode": "relative",
        "legend": {
         "tracegroupgap": 0
        },
        "template": {
         "data": {
          "bar": [
           {
            "error_x": {
             "color": "#2a3f5f"
            },
            "error_y": {
             "color": "#2a3f5f"
            },
            "marker": {
             "line": {
              "color": "#E5ECF6",
              "width": 0.5
             },
             "pattern": {
              "fillmode": "overlay",
              "size": 10,
              "solidity": 0.2
             }
            },
            "type": "bar"
           }
          ],
          "barpolar": [
           {
            "marker": {
             "line": {
              "color": "#E5ECF6",
              "width": 0.5
             },
             "pattern": {
              "fillmode": "overlay",
              "size": 10,
              "solidity": 0.2
             }
            },
            "type": "barpolar"
           }
          ],
          "carpet": [
           {
            "aaxis": {
             "endlinecolor": "#2a3f5f",
             "gridcolor": "white",
             "linecolor": "white",
             "minorgridcolor": "white",
             "startlinecolor": "#2a3f5f"
            },
            "baxis": {
             "endlinecolor": "#2a3f5f",
             "gridcolor": "white",
             "linecolor": "white",
             "minorgridcolor": "white",
             "startlinecolor": "#2a3f5f"
            },
            "type": "carpet"
           }
          ],
          "choropleth": [
           {
            "colorbar": {
             "outlinewidth": 0,
             "ticks": ""
            },
            "type": "choropleth"
           }
          ],
          "contour": [
           {
            "colorbar": {
             "outlinewidth": 0,
             "ticks": ""
            },
            "colorscale": [
             [
              0,
              "#0d0887"
             ],
             [
              0.1111111111111111,
              "#46039f"
             ],
             [
              0.2222222222222222,
              "#7201a8"
             ],
             [
              0.3333333333333333,
              "#9c179e"
             ],
             [
              0.4444444444444444,
              "#bd3786"
             ],
             [
              0.5555555555555556,
              "#d8576b"
             ],
             [
              0.6666666666666666,
              "#ed7953"
             ],
             [
              0.7777777777777778,
              "#fb9f3a"
             ],
             [
              0.8888888888888888,
              "#fdca26"
             ],
             [
              1,
              "#f0f921"
             ]
            ],
            "type": "contour"
           }
          ],
          "contourcarpet": [
           {
            "colorbar": {
             "outlinewidth": 0,
             "ticks": ""
            },
            "type": "contourcarpet"
           }
          ],
          "heatmap": [
           {
            "colorbar": {
             "outlinewidth": 0,
             "ticks": ""
            },
            "colorscale": [
             [
              0,
              "#0d0887"
             ],
             [
              0.1111111111111111,
              "#46039f"
             ],
             [
              0.2222222222222222,
              "#7201a8"
             ],
             [
              0.3333333333333333,
              "#9c179e"
             ],
             [
              0.4444444444444444,
              "#bd3786"
             ],
             [
              0.5555555555555556,
              "#d8576b"
             ],
             [
              0.6666666666666666,
              "#ed7953"
             ],
             [
              0.7777777777777778,
              "#fb9f3a"
             ],
             [
              0.8888888888888888,
              "#fdca26"
             ],
             [
              1,
              "#f0f921"
             ]
            ],
            "type": "heatmap"
           }
          ],
          "histogram": [
           {
            "marker": {
             "pattern": {
              "fillmode": "overlay",
              "size": 10,
              "solidity": 0.2
             }
            },
            "type": "histogram"
           }
          ],
          "histogram2d": [
           {
            "colorbar": {
             "outlinewidth": 0,
             "ticks": ""
            },
            "colorscale": [
             [
              0,
              "#0d0887"
             ],
             [
              0.1111111111111111,
              "#46039f"
             ],
             [
              0.2222222222222222,
              "#7201a8"
             ],
             [
              0.3333333333333333,
              "#9c179e"
             ],
             [
              0.4444444444444444,
              "#bd3786"
             ],
             [
              0.5555555555555556,
              "#d8576b"
             ],
             [
              0.6666666666666666,
              "#ed7953"
             ],
             [
              0.7777777777777778,
              "#fb9f3a"
             ],
             [
              0.8888888888888888,
              "#fdca26"
             ],
             [
              1,
              "#f0f921"
             ]
            ],
            "type": "histogram2d"
           }
          ],
          "histogram2dcontour": [
           {
            "colorbar": {
             "outlinewidth": 0,
             "ticks": ""
            },
            "colorscale": [
             [
              0,
              "#0d0887"
             ],
             [
              0.1111111111111111,
              "#46039f"
             ],
             [
              0.2222222222222222,
              "#7201a8"
             ],
             [
              0.3333333333333333,
              "#9c179e"
             ],
             [
              0.4444444444444444,
              "#bd3786"
             ],
             [
              0.5555555555555556,
              "#d8576b"
             ],
             [
              0.6666666666666666,
              "#ed7953"
             ],
             [
              0.7777777777777778,
              "#fb9f3a"
             ],
             [
              0.8888888888888888,
              "#fdca26"
             ],
             [
              1,
              "#f0f921"
             ]
            ],
            "type": "histogram2dcontour"
           }
          ],
          "mesh3d": [
           {
            "colorbar": {
             "outlinewidth": 0,
             "ticks": ""
            },
            "type": "mesh3d"
           }
          ],
          "parcoords": [
           {
            "line": {
             "colorbar": {
              "outlinewidth": 0,
              "ticks": ""
             }
            },
            "type": "parcoords"
           }
          ],
          "pie": [
           {
            "automargin": true,
            "type": "pie"
           }
          ],
          "scatter": [
           {
            "fillpattern": {
             "fillmode": "overlay",
             "size": 10,
             "solidity": 0.2
            },
            "type": "scatter"
           }
          ],
          "scatter3d": [
           {
            "line": {
             "colorbar": {
              "outlinewidth": 0,
              "ticks": ""
             }
            },
            "marker": {
             "colorbar": {
              "outlinewidth": 0,
              "ticks": ""
             }
            },
            "type": "scatter3d"
           }
          ],
          "scattercarpet": [
           {
            "marker": {
             "colorbar": {
              "outlinewidth": 0,
              "ticks": ""
             }
            },
            "type": "scattercarpet"
           }
          ],
          "scattergeo": [
           {
            "marker": {
             "colorbar": {
              "outlinewidth": 0,
              "ticks": ""
             }
            },
            "type": "scattergeo"
           }
          ],
          "scattergl": [
           {
            "marker": {
             "colorbar": {
              "outlinewidth": 0,
              "ticks": ""
             }
            },
            "type": "scattergl"
           }
          ],
          "scattermap": [
           {
            "marker": {
             "colorbar": {
              "outlinewidth": 0,
              "ticks": ""
             }
            },
            "type": "scattermap"
           }
          ],
          "scattermapbox": [
           {
            "marker": {
             "colorbar": {
              "outlinewidth": 0,
              "ticks": ""
             }
            },
            "type": "scattermapbox"
           }
          ],
          "scatterpolar": [
           {
            "marker": {
             "colorbar": {
              "outlinewidth": 0,
              "ticks": ""
             }
            },
            "type": "scatterpolar"
           }
          ],
          "scatterpolargl": [
           {
            "marker": {
             "colorbar": {
              "outlinewidth": 0,
              "ticks": ""
             }
            },
            "type": "scatterpolargl"
           }
          ],
          "scatterternary": [
           {
            "marker": {
             "colorbar": {
              "outlinewidth": 0,
              "ticks": ""
             }
            },
            "type": "scatterternary"
           }
          ],
          "surface": [
           {
            "colorbar": {
             "outlinewidth": 0,
             "ticks": ""
            },
            "colorscale": [
             [
              0,
              "#0d0887"
             ],
             [
              0.1111111111111111,
              "#46039f"
             ],
             [
              0.2222222222222222,
              "#7201a8"
             ],
             [
              0.3333333333333333,
              "#9c179e"
             ],
             [
              0.4444444444444444,
              "#bd3786"
             ],
             [
              0.5555555555555556,
              "#d8576b"
             ],
             [
              0.6666666666666666,
              "#ed7953"
             ],
             [
              0.7777777777777778,
              "#fb9f3a"
             ],
             [
              0.8888888888888888,
              "#fdca26"
             ],
             [
              1,
              "#f0f921"
             ]
            ],
            "type": "surface"
           }
          ],
          "table": [
           {
            "cells": {
             "fill": {
              "color": "#EBF0F8"
             },
             "line": {
              "color": "white"
             }
            },
            "header": {
             "fill": {
              "color": "#C8D4E3"
             },
             "line": {
              "color": "white"
             }
            },
            "type": "table"
           }
          ]
         },
         "layout": {
          "annotationdefaults": {
           "arrowcolor": "#2a3f5f",
           "arrowhead": 0,
           "arrowwidth": 1
          },
          "autotypenumbers": "strict",
          "coloraxis": {
           "colorbar": {
            "outlinewidth": 0,
            "ticks": ""
           }
          },
          "colorscale": {
           "diverging": [
            [
             0,
             "#8e0152"
            ],
            [
             0.1,
             "#c51b7d"
            ],
            [
             0.2,
             "#de77ae"
            ],
            [
             0.3,
             "#f1b6da"
            ],
            [
             0.4,
             "#fde0ef"
            ],
            [
             0.5,
             "#f7f7f7"
            ],
            [
             0.6,
             "#e6f5d0"
            ],
            [
             0.7,
             "#b8e186"
            ],
            [
             0.8,
             "#7fbc41"
            ],
            [
             0.9,
             "#4d9221"
            ],
            [
             1,
             "#276419"
            ]
           ],
           "sequential": [
            [
             0,
             "#0d0887"
            ],
            [
             0.1111111111111111,
             "#46039f"
            ],
            [
             0.2222222222222222,
             "#7201a8"
            ],
            [
             0.3333333333333333,
             "#9c179e"
            ],
            [
             0.4444444444444444,
             "#bd3786"
            ],
            [
             0.5555555555555556,
             "#d8576b"
            ],
            [
             0.6666666666666666,
             "#ed7953"
            ],
            [
             0.7777777777777778,
             "#fb9f3a"
            ],
            [
             0.8888888888888888,
             "#fdca26"
            ],
            [
             1,
             "#f0f921"
            ]
           ],
           "sequentialminus": [
            [
             0,
             "#0d0887"
            ],
            [
             0.1111111111111111,
             "#46039f"
            ],
            [
             0.2222222222222222,
             "#7201a8"
            ],
            [
             0.3333333333333333,
             "#9c179e"
            ],
            [
             0.4444444444444444,
             "#bd3786"
            ],
            [
             0.5555555555555556,
             "#d8576b"
            ],
            [
             0.6666666666666666,
             "#ed7953"
            ],
            [
             0.7777777777777778,
             "#fb9f3a"
            ],
            [
             0.8888888888888888,
             "#fdca26"
            ],
            [
             1,
             "#f0f921"
            ]
           ]
          },
          "colorway": [
           "#636efa",
           "#EF553B",
           "#00cc96",
           "#ab63fa",
           "#FFA15A",
           "#19d3f3",
           "#FF6692",
           "#B6E880",
           "#FF97FF",
           "#FECB52"
          ],
          "font": {
           "color": "#2a3f5f"
          },
          "geo": {
           "bgcolor": "white",
           "lakecolor": "white",
           "landcolor": "#E5ECF6",
           "showlakes": true,
           "showland": true,
           "subunitcolor": "white"
          },
          "hoverlabel": {
           "align": "left"
          },
          "hovermode": "closest",
          "mapbox": {
           "style": "light"
          },
          "paper_bgcolor": "white",
          "plot_bgcolor": "#E5ECF6",
          "polar": {
           "angularaxis": {
            "gridcolor": "white",
            "linecolor": "white",
            "ticks": ""
           },
           "bgcolor": "#E5ECF6",
           "radialaxis": {
            "gridcolor": "white",
            "linecolor": "white",
            "ticks": ""
           }
          },
          "scene": {
           "xaxis": {
            "backgroundcolor": "#E5ECF6",
            "gridcolor": "white",
            "gridwidth": 2,
            "linecolor": "white",
            "showbackground": true,
            "ticks": "",
            "zerolinecolor": "white"
           },
           "yaxis": {
            "backgroundcolor": "#E5ECF6",
            "gridcolor": "white",
            "gridwidth": 2,
            "linecolor": "white",
            "showbackground": true,
            "ticks": "",
            "zerolinecolor": "white"
           },
           "zaxis": {
            "backgroundcolor": "#E5ECF6",
            "gridcolor": "white",
            "gridwidth": 2,
            "linecolor": "white",
            "showbackground": true,
            "ticks": "",
            "zerolinecolor": "white"
           }
          },
          "shapedefaults": {
           "line": {
            "color": "#2a3f5f"
           }
          },
          "ternary": {
           "aaxis": {
            "gridcolor": "white",
            "linecolor": "white",
            "ticks": ""
           },
           "baxis": {
            "gridcolor": "white",
            "linecolor": "white",
            "ticks": ""
           },
           "bgcolor": "#E5ECF6",
           "caxis": {
            "gridcolor": "white",
            "linecolor": "white",
            "ticks": ""
           }
          },
          "title": {
           "x": 0.05
          },
          "xaxis": {
           "automargin": true,
           "gridcolor": "white",
           "linecolor": "white",
           "ticks": "",
           "title": {
            "standoff": 15
           },
           "zerolinecolor": "white",
           "zerolinewidth": 2
          },
          "yaxis": {
           "automargin": true,
           "gridcolor": "white",
           "linecolor": "white",
           "ticks": "",
           "title": {
            "standoff": 15
           },
           "zerolinecolor": "white",
           "zerolinewidth": 2
          }
         }
        },
        "title": {
         "text": "Humidité par Ville"
        },
        "xaxis": {
         "anchor": "y",
         "domain": [
          0,
          1
         ],
         "title": {
          "text": "Humidité"
         }
        },
        "yaxis": {
         "anchor": "x",
         "domain": [
          0,
          1
         ],
         "title": {
          "text": "Ville"
         }
        }
       }
      }
     },
     "metadata": {},
     "output_type": "display_data"
    }
   ],
   "source": [
    "df_sorted = bc.sort_values(by='humidity', ascending=False)\n",
    "\n",
    "# Créer un diagramme en bâtons horizontal\n",
    "fig = px.bar(df_sorted, x='humidity', y='cities', orientation='h',\n",
    "             title='Humidité par Ville',\n",
    "             labels={'humidity': 'Humidité', 'cities': 'Ville'})\n",
    "\n",
    "# Afficher le diagramme\n",
    "fig.show()"
   ]
  },
  {
   "cell_type": "code",
   "execution_count": 43,
   "metadata": {},
   "outputs": [
    {
     "data": {
      "application/vnd.plotly.v1+json": {
       "config": {
        "plotlyServerURL": "https://plot.ly"
       },
       "data": [
        {
         "hovertemplate": "description=%{x}<br>Ville=%{y}<extra></extra>",
         "legendgroup": "",
         "marker": {
          "color": "#636efa",
          "pattern": {
           "shape": ""
          }
         },
         "name": "",
         "orientation": "v",
         "showlegend": false,
         "textposition": "auto",
         "type": "bar",
         "x": [
          "overcast clouds",
          "clear sky",
          "clear sky",
          "clear sky",
          "few clouds",
          "overcast clouds",
          "fog",
          "overcast clouds",
          "few clouds",
          "clear sky",
          "clear sky",
          "overcast clouds",
          "clear sky",
          "scattered clouds",
          "clear sky",
          "scattered clouds",
          "overcast clouds",
          "clear sky",
          "overcast clouds",
          "clear sky",
          "clear sky",
          "clear sky",
          "clear sky",
          "clear sky",
          "clear sky",
          "clear sky",
          "few clouds",
          "clear sky",
          "clear sky",
          "clear sky",
          "clear sky",
          "broken clouds",
          "clear sky",
          "clear sky",
          null
         ],
         "xaxis": "x",
         "y": [
          "Ariege",
          "St Malo",
          "Mont Saint Michel",
          "Bayeux",
          "Biarritz",
          "Grenoble",
          "Le Havre",
          "Annecy",
          "Bayonne",
          "Dijon",
          "Besancon",
          "Carcassonne",
          "La Rochelle",
          "Saintes Maries de la mer",
          "Cassis",
          "Uzes",
          "Toulouse",
          "Lyon",
          "Montauban",
          "Avignon",
          "Aigues Mortes",
          "Eguisheim",
          "Chateau du Haut Koenigsbourg",
          "Colmar",
          "Rouen",
          "Marseille",
          "Bormes les Mimosas",
          "Nimes",
          "Amiens",
          "Strasbourg",
          "Lille",
          "Collioure",
          "Aix en Provence",
          "Paris",
          "Gorges du Verdon"
         ],
         "yaxis": "y"
        }
       ],
       "layout": {
        "barmode": "relative",
        "legend": {
         "tracegroupgap": 0
        },
        "template": {
         "data": {
          "bar": [
           {
            "error_x": {
             "color": "#2a3f5f"
            },
            "error_y": {
             "color": "#2a3f5f"
            },
            "marker": {
             "line": {
              "color": "#E5ECF6",
              "width": 0.5
             },
             "pattern": {
              "fillmode": "overlay",
              "size": 10,
              "solidity": 0.2
             }
            },
            "type": "bar"
           }
          ],
          "barpolar": [
           {
            "marker": {
             "line": {
              "color": "#E5ECF6",
              "width": 0.5
             },
             "pattern": {
              "fillmode": "overlay",
              "size": 10,
              "solidity": 0.2
             }
            },
            "type": "barpolar"
           }
          ],
          "carpet": [
           {
            "aaxis": {
             "endlinecolor": "#2a3f5f",
             "gridcolor": "white",
             "linecolor": "white",
             "minorgridcolor": "white",
             "startlinecolor": "#2a3f5f"
            },
            "baxis": {
             "endlinecolor": "#2a3f5f",
             "gridcolor": "white",
             "linecolor": "white",
             "minorgridcolor": "white",
             "startlinecolor": "#2a3f5f"
            },
            "type": "carpet"
           }
          ],
          "choropleth": [
           {
            "colorbar": {
             "outlinewidth": 0,
             "ticks": ""
            },
            "type": "choropleth"
           }
          ],
          "contour": [
           {
            "colorbar": {
             "outlinewidth": 0,
             "ticks": ""
            },
            "colorscale": [
             [
              0,
              "#0d0887"
             ],
             [
              0.1111111111111111,
              "#46039f"
             ],
             [
              0.2222222222222222,
              "#7201a8"
             ],
             [
              0.3333333333333333,
              "#9c179e"
             ],
             [
              0.4444444444444444,
              "#bd3786"
             ],
             [
              0.5555555555555556,
              "#d8576b"
             ],
             [
              0.6666666666666666,
              "#ed7953"
             ],
             [
              0.7777777777777778,
              "#fb9f3a"
             ],
             [
              0.8888888888888888,
              "#fdca26"
             ],
             [
              1,
              "#f0f921"
             ]
            ],
            "type": "contour"
           }
          ],
          "contourcarpet": [
           {
            "colorbar": {
             "outlinewidth": 0,
             "ticks": ""
            },
            "type": "contourcarpet"
           }
          ],
          "heatmap": [
           {
            "colorbar": {
             "outlinewidth": 0,
             "ticks": ""
            },
            "colorscale": [
             [
              0,
              "#0d0887"
             ],
             [
              0.1111111111111111,
              "#46039f"
             ],
             [
              0.2222222222222222,
              "#7201a8"
             ],
             [
              0.3333333333333333,
              "#9c179e"
             ],
             [
              0.4444444444444444,
              "#bd3786"
             ],
             [
              0.5555555555555556,
              "#d8576b"
             ],
             [
              0.6666666666666666,
              "#ed7953"
             ],
             [
              0.7777777777777778,
              "#fb9f3a"
             ],
             [
              0.8888888888888888,
              "#fdca26"
             ],
             [
              1,
              "#f0f921"
             ]
            ],
            "type": "heatmap"
           }
          ],
          "histogram": [
           {
            "marker": {
             "pattern": {
              "fillmode": "overlay",
              "size": 10,
              "solidity": 0.2
             }
            },
            "type": "histogram"
           }
          ],
          "histogram2d": [
           {
            "colorbar": {
             "outlinewidth": 0,
             "ticks": ""
            },
            "colorscale": [
             [
              0,
              "#0d0887"
             ],
             [
              0.1111111111111111,
              "#46039f"
             ],
             [
              0.2222222222222222,
              "#7201a8"
             ],
             [
              0.3333333333333333,
              "#9c179e"
             ],
             [
              0.4444444444444444,
              "#bd3786"
             ],
             [
              0.5555555555555556,
              "#d8576b"
             ],
             [
              0.6666666666666666,
              "#ed7953"
             ],
             [
              0.7777777777777778,
              "#fb9f3a"
             ],
             [
              0.8888888888888888,
              "#fdca26"
             ],
             [
              1,
              "#f0f921"
             ]
            ],
            "type": "histogram2d"
           }
          ],
          "histogram2dcontour": [
           {
            "colorbar": {
             "outlinewidth": 0,
             "ticks": ""
            },
            "colorscale": [
             [
              0,
              "#0d0887"
             ],
             [
              0.1111111111111111,
              "#46039f"
             ],
             [
              0.2222222222222222,
              "#7201a8"
             ],
             [
              0.3333333333333333,
              "#9c179e"
             ],
             [
              0.4444444444444444,
              "#bd3786"
             ],
             [
              0.5555555555555556,
              "#d8576b"
             ],
             [
              0.6666666666666666,
              "#ed7953"
             ],
             [
              0.7777777777777778,
              "#fb9f3a"
             ],
             [
              0.8888888888888888,
              "#fdca26"
             ],
             [
              1,
              "#f0f921"
             ]
            ],
            "type": "histogram2dcontour"
           }
          ],
          "mesh3d": [
           {
            "colorbar": {
             "outlinewidth": 0,
             "ticks": ""
            },
            "type": "mesh3d"
           }
          ],
          "parcoords": [
           {
            "line": {
             "colorbar": {
              "outlinewidth": 0,
              "ticks": ""
             }
            },
            "type": "parcoords"
           }
          ],
          "pie": [
           {
            "automargin": true,
            "type": "pie"
           }
          ],
          "scatter": [
           {
            "fillpattern": {
             "fillmode": "overlay",
             "size": 10,
             "solidity": 0.2
            },
            "type": "scatter"
           }
          ],
          "scatter3d": [
           {
            "line": {
             "colorbar": {
              "outlinewidth": 0,
              "ticks": ""
             }
            },
            "marker": {
             "colorbar": {
              "outlinewidth": 0,
              "ticks": ""
             }
            },
            "type": "scatter3d"
           }
          ],
          "scattercarpet": [
           {
            "marker": {
             "colorbar": {
              "outlinewidth": 0,
              "ticks": ""
             }
            },
            "type": "scattercarpet"
           }
          ],
          "scattergeo": [
           {
            "marker": {
             "colorbar": {
              "outlinewidth": 0,
              "ticks": ""
             }
            },
            "type": "scattergeo"
           }
          ],
          "scattergl": [
           {
            "marker": {
             "colorbar": {
              "outlinewidth": 0,
              "ticks": ""
             }
            },
            "type": "scattergl"
           }
          ],
          "scattermap": [
           {
            "marker": {
             "colorbar": {
              "outlinewidth": 0,
              "ticks": ""
             }
            },
            "type": "scattermap"
           }
          ],
          "scattermapbox": [
           {
            "marker": {
             "colorbar": {
              "outlinewidth": 0,
              "ticks": ""
             }
            },
            "type": "scattermapbox"
           }
          ],
          "scatterpolar": [
           {
            "marker": {
             "colorbar": {
              "outlinewidth": 0,
              "ticks": ""
             }
            },
            "type": "scatterpolar"
           }
          ],
          "scatterpolargl": [
           {
            "marker": {
             "colorbar": {
              "outlinewidth": 0,
              "ticks": ""
             }
            },
            "type": "scatterpolargl"
           }
          ],
          "scatterternary": [
           {
            "marker": {
             "colorbar": {
              "outlinewidth": 0,
              "ticks": ""
             }
            },
            "type": "scatterternary"
           }
          ],
          "surface": [
           {
            "colorbar": {
             "outlinewidth": 0,
             "ticks": ""
            },
            "colorscale": [
             [
              0,
              "#0d0887"
             ],
             [
              0.1111111111111111,
              "#46039f"
             ],
             [
              0.2222222222222222,
              "#7201a8"
             ],
             [
              0.3333333333333333,
              "#9c179e"
             ],
             [
              0.4444444444444444,
              "#bd3786"
             ],
             [
              0.5555555555555556,
              "#d8576b"
             ],
             [
              0.6666666666666666,
              "#ed7953"
             ],
             [
              0.7777777777777778,
              "#fb9f3a"
             ],
             [
              0.8888888888888888,
              "#fdca26"
             ],
             [
              1,
              "#f0f921"
             ]
            ],
            "type": "surface"
           }
          ],
          "table": [
           {
            "cells": {
             "fill": {
              "color": "#EBF0F8"
             },
             "line": {
              "color": "white"
             }
            },
            "header": {
             "fill": {
              "color": "#C8D4E3"
             },
             "line": {
              "color": "white"
             }
            },
            "type": "table"
           }
          ]
         },
         "layout": {
          "annotationdefaults": {
           "arrowcolor": "#2a3f5f",
           "arrowhead": 0,
           "arrowwidth": 1
          },
          "autotypenumbers": "strict",
          "coloraxis": {
           "colorbar": {
            "outlinewidth": 0,
            "ticks": ""
           }
          },
          "colorscale": {
           "diverging": [
            [
             0,
             "#8e0152"
            ],
            [
             0.1,
             "#c51b7d"
            ],
            [
             0.2,
             "#de77ae"
            ],
            [
             0.3,
             "#f1b6da"
            ],
            [
             0.4,
             "#fde0ef"
            ],
            [
             0.5,
             "#f7f7f7"
            ],
            [
             0.6,
             "#e6f5d0"
            ],
            [
             0.7,
             "#b8e186"
            ],
            [
             0.8,
             "#7fbc41"
            ],
            [
             0.9,
             "#4d9221"
            ],
            [
             1,
             "#276419"
            ]
           ],
           "sequential": [
            [
             0,
             "#0d0887"
            ],
            [
             0.1111111111111111,
             "#46039f"
            ],
            [
             0.2222222222222222,
             "#7201a8"
            ],
            [
             0.3333333333333333,
             "#9c179e"
            ],
            [
             0.4444444444444444,
             "#bd3786"
            ],
            [
             0.5555555555555556,
             "#d8576b"
            ],
            [
             0.6666666666666666,
             "#ed7953"
            ],
            [
             0.7777777777777778,
             "#fb9f3a"
            ],
            [
             0.8888888888888888,
             "#fdca26"
            ],
            [
             1,
             "#f0f921"
            ]
           ],
           "sequentialminus": [
            [
             0,
             "#0d0887"
            ],
            [
             0.1111111111111111,
             "#46039f"
            ],
            [
             0.2222222222222222,
             "#7201a8"
            ],
            [
             0.3333333333333333,
             "#9c179e"
            ],
            [
             0.4444444444444444,
             "#bd3786"
            ],
            [
             0.5555555555555556,
             "#d8576b"
            ],
            [
             0.6666666666666666,
             "#ed7953"
            ],
            [
             0.7777777777777778,
             "#fb9f3a"
            ],
            [
             0.8888888888888888,
             "#fdca26"
            ],
            [
             1,
             "#f0f921"
            ]
           ]
          },
          "colorway": [
           "#636efa",
           "#EF553B",
           "#00cc96",
           "#ab63fa",
           "#FFA15A",
           "#19d3f3",
           "#FF6692",
           "#B6E880",
           "#FF97FF",
           "#FECB52"
          ],
          "font": {
           "color": "#2a3f5f"
          },
          "geo": {
           "bgcolor": "white",
           "lakecolor": "white",
           "landcolor": "#E5ECF6",
           "showlakes": true,
           "showland": true,
           "subunitcolor": "white"
          },
          "hoverlabel": {
           "align": "left"
          },
          "hovermode": "closest",
          "mapbox": {
           "style": "light"
          },
          "paper_bgcolor": "white",
          "plot_bgcolor": "#E5ECF6",
          "polar": {
           "angularaxis": {
            "gridcolor": "white",
            "linecolor": "white",
            "ticks": ""
           },
           "bgcolor": "#E5ECF6",
           "radialaxis": {
            "gridcolor": "white",
            "linecolor": "white",
            "ticks": ""
           }
          },
          "scene": {
           "xaxis": {
            "backgroundcolor": "#E5ECF6",
            "gridcolor": "white",
            "gridwidth": 2,
            "linecolor": "white",
            "showbackground": true,
            "ticks": "",
            "zerolinecolor": "white"
           },
           "yaxis": {
            "backgroundcolor": "#E5ECF6",
            "gridcolor": "white",
            "gridwidth": 2,
            "linecolor": "white",
            "showbackground": true,
            "ticks": "",
            "zerolinecolor": "white"
           },
           "zaxis": {
            "backgroundcolor": "#E5ECF6",
            "gridcolor": "white",
            "gridwidth": 2,
            "linecolor": "white",
            "showbackground": true,
            "ticks": "",
            "zerolinecolor": "white"
           }
          },
          "shapedefaults": {
           "line": {
            "color": "#2a3f5f"
           }
          },
          "ternary": {
           "aaxis": {
            "gridcolor": "white",
            "linecolor": "white",
            "ticks": ""
           },
           "baxis": {
            "gridcolor": "white",
            "linecolor": "white",
            "ticks": ""
           },
           "bgcolor": "#E5ECF6",
           "caxis": {
            "gridcolor": "white",
            "linecolor": "white",
            "ticks": ""
           }
          },
          "title": {
           "x": 0.05
          },
          "xaxis": {
           "automargin": true,
           "gridcolor": "white",
           "linecolor": "white",
           "ticks": "",
           "title": {
            "standoff": 15
           },
           "zerolinecolor": "white",
           "zerolinewidth": 2
          },
          "yaxis": {
           "automargin": true,
           "gridcolor": "white",
           "linecolor": "white",
           "ticks": "",
           "title": {
            "standoff": 15
           },
           "zerolinecolor": "white",
           "zerolinewidth": 2
          }
         }
        },
        "title": {
         "text": "description par Ville"
        },
        "xaxis": {
         "anchor": "y",
         "domain": [
          0,
          1
         ],
         "title": {
          "text": "description"
         }
        },
        "yaxis": {
         "anchor": "x",
         "domain": [
          0,
          1
         ],
         "title": {
          "text": "Ville"
         }
        }
       }
      }
     },
     "metadata": {},
     "output_type": "display_data"
    }
   ],
   "source": [
    "#changer le diagramme pour faire un scatter plot\n",
    "fig = px.bar(df_sorted, x='description', y='cities', orientation='v',\n",
    "             title='description par Ville',\n",
    "             labels={'description': 'description', 'cities': 'Ville'})\n",
    "\n",
    "# Afficher le diagramme\n",
    "fig.show()"
   ]
  },
  {
   "cell_type": "markdown",
   "metadata": {},
   "source": [
    "# ANNEXES"
   ]
  },
  {
   "cell_type": "code",
   "execution_count": 14,
   "metadata": {},
   "outputs": [
    {
     "data": {
      "text/html": [
       "<div>\n",
       "<style scoped>\n",
       "    .dataframe tbody tr th:only-of-type {\n",
       "        vertical-align: middle;\n",
       "    }\n",
       "\n",
       "    .dataframe tbody tr th {\n",
       "        vertical-align: top;\n",
       "    }\n",
       "\n",
       "    .dataframe thead th {\n",
       "        text-align: right;\n",
       "    }\n",
       "</style>\n",
       "<table border=\"1\" class=\"dataframe\">\n",
       "  <thead>\n",
       "    <tr style=\"text-align: right;\">\n",
       "      <th></th>\n",
       "      <th>city</th>\n",
       "      <th>name</th>\n",
       "      <th>country</th>\n",
       "      <th>state</th>\n",
       "      <th>lat</th>\n",
       "      <th>lon</th>\n",
       "      <th>current_dt</th>\n",
       "      <th>current_temp</th>\n",
       "      <th>current_feels_like</th>\n",
       "      <th>current_pressure</th>\n",
       "      <th>current_humidity</th>\n",
       "      <th>current_clouds</th>\n",
       "    </tr>\n",
       "  </thead>\n",
       "  <tbody>\n",
       "    <tr>\n",
       "      <th>0</th>\n",
       "      <td>Mont Saint Michel</td>\n",
       "      <td>Mont Saint-Michel</td>\n",
       "      <td>FR</td>\n",
       "      <td>Normandy</td>\n",
       "      <td>48.635954</td>\n",
       "      <td>-1.51146</td>\n",
       "      <td>1.738832e+09</td>\n",
       "      <td>5.19</td>\n",
       "      <td>2.05</td>\n",
       "      <td>1039.0</td>\n",
       "      <td>80.0</td>\n",
       "      <td>100.0</td>\n",
       "    </tr>\n",
       "    <tr>\n",
       "      <th>1</th>\n",
       "      <td>St Malo</td>\n",
       "      <td>Saint-Malo</td>\n",
       "      <td>FR</td>\n",
       "      <td>Brittany</td>\n",
       "      <td>48.649518</td>\n",
       "      <td>-2.026041</td>\n",
       "      <td>1.738832e+09</td>\n",
       "      <td>6.29</td>\n",
       "      <td>6.29</td>\n",
       "      <td>1039.0</td>\n",
       "      <td>93.0</td>\n",
       "      <td>0.0</td>\n",
       "    </tr>\n",
       "    <tr>\n",
       "      <th>2</th>\n",
       "      <td>Bayeux</td>\n",
       "      <td>Bayeux</td>\n",
       "      <td>FR</td>\n",
       "      <td>Normandy</td>\n",
       "      <td>49.276462</td>\n",
       "      <td>-0.702474</td>\n",
       "      <td>1.738832e+09</td>\n",
       "      <td>5.14</td>\n",
       "      <td>1.80</td>\n",
       "      <td>1040.0</td>\n",
       "      <td>88.0</td>\n",
       "      <td>96.0</td>\n",
       "    </tr>\n",
       "    <tr>\n",
       "      <th>3</th>\n",
       "      <td>Le Havre</td>\n",
       "      <td>Le Havre</td>\n",
       "      <td>FR</td>\n",
       "      <td>Normandy</td>\n",
       "      <td>49.493898</td>\n",
       "      <td>0.107973</td>\n",
       "      <td>1.738832e+09</td>\n",
       "      <td>4.51</td>\n",
       "      <td>0.42</td>\n",
       "      <td>1040.0</td>\n",
       "      <td>93.0</td>\n",
       "      <td>20.0</td>\n",
       "    </tr>\n",
       "    <tr>\n",
       "      <th>4</th>\n",
       "      <td>Rouen</td>\n",
       "      <td>Rouen</td>\n",
       "      <td>FR</td>\n",
       "      <td>Normandy</td>\n",
       "      <td>49.440459</td>\n",
       "      <td>1.093966</td>\n",
       "      <td>1.738832e+09</td>\n",
       "      <td>4.52</td>\n",
       "      <td>0.92</td>\n",
       "      <td>1040.0</td>\n",
       "      <td>89.0</td>\n",
       "      <td>100.0</td>\n",
       "    </tr>\n",
       "    <tr>\n",
       "      <th>5</th>\n",
       "      <td>Paris</td>\n",
       "      <td>Paris</td>\n",
       "      <td>FR</td>\n",
       "      <td>Ile-de-France</td>\n",
       "      <td>48.85889</td>\n",
       "      <td>2.320041</td>\n",
       "      <td>1.738832e+09</td>\n",
       "      <td>2.83</td>\n",
       "      <td>-1.18</td>\n",
       "      <td>1039.0</td>\n",
       "      <td>93.0</td>\n",
       "      <td>100.0</td>\n",
       "    </tr>\n",
       "    <tr>\n",
       "      <th>6</th>\n",
       "      <td>Amiens</td>\n",
       "      <td>Amiens</td>\n",
       "      <td>FR</td>\n",
       "      <td>Hauts-de-France</td>\n",
       "      <td>49.894171</td>\n",
       "      <td>2.295695</td>\n",
       "      <td>1.738832e+09</td>\n",
       "      <td>4.12</td>\n",
       "      <td>0.74</td>\n",
       "      <td>1040.0</td>\n",
       "      <td>88.0</td>\n",
       "      <td>93.0</td>\n",
       "    </tr>\n",
       "    <tr>\n",
       "      <th>7</th>\n",
       "      <td>Lille</td>\n",
       "      <td>Lille</td>\n",
       "      <td>FR</td>\n",
       "      <td>Hauts-de-France</td>\n",
       "      <td>50.636565</td>\n",
       "      <td>3.063528</td>\n",
       "      <td>1.738832e+09</td>\n",
       "      <td>4.05</td>\n",
       "      <td>0.94</td>\n",
       "      <td>1041.0</td>\n",
       "      <td>85.0</td>\n",
       "      <td>100.0</td>\n",
       "    </tr>\n",
       "    <tr>\n",
       "      <th>8</th>\n",
       "      <td>Strasbourg</td>\n",
       "      <td>Strasbourg</td>\n",
       "      <td>FR</td>\n",
       "      <td>Grand Est</td>\n",
       "      <td>48.584614</td>\n",
       "      <td>7.750713</td>\n",
       "      <td>1.738832e+09</td>\n",
       "      <td>1.99</td>\n",
       "      <td>-3.23</td>\n",
       "      <td>1038.0</td>\n",
       "      <td>93.0</td>\n",
       "      <td>100.0</td>\n",
       "    </tr>\n",
       "    <tr>\n",
       "      <th>9</th>\n",
       "      <td>Chateau du Haut Koenigsbourg</td>\n",
       "      <td>Château du Haut-Kœnigsbourg</td>\n",
       "      <td>FR</td>\n",
       "      <td>Grand Est</td>\n",
       "      <td>48.249523</td>\n",
       "      <td>7.345492</td>\n",
       "      <td>1.738832e+09</td>\n",
       "      <td>-1.10</td>\n",
       "      <td>-6.93</td>\n",
       "      <td>1037.0</td>\n",
       "      <td>93.0</td>\n",
       "      <td>100.0</td>\n",
       "    </tr>\n",
       "    <tr>\n",
       "      <th>10</th>\n",
       "      <td>Colmar</td>\n",
       "      <td>Colmar</td>\n",
       "      <td>FR</td>\n",
       "      <td>Grand Est</td>\n",
       "      <td>48.077752</td>\n",
       "      <td>7.357964</td>\n",
       "      <td>1.738832e+09</td>\n",
       "      <td>1.87</td>\n",
       "      <td>-3.15</td>\n",
       "      <td>1037.0</td>\n",
       "      <td>93.0</td>\n",
       "      <td>100.0</td>\n",
       "    </tr>\n",
       "    <tr>\n",
       "      <th>11</th>\n",
       "      <td>Eguisheim</td>\n",
       "      <td>Eguisheim</td>\n",
       "      <td>FR</td>\n",
       "      <td>Grand Est</td>\n",
       "      <td>48.044797</td>\n",
       "      <td>7.307962</td>\n",
       "      <td>1.738832e+09</td>\n",
       "      <td>1.75</td>\n",
       "      <td>-3.31</td>\n",
       "      <td>1037.0</td>\n",
       "      <td>94.0</td>\n",
       "      <td>100.0</td>\n",
       "    </tr>\n",
       "    <tr>\n",
       "      <th>12</th>\n",
       "      <td>Besancon</td>\n",
       "      <td>Besançon</td>\n",
       "      <td>FR</td>\n",
       "      <td>Bourgogne-Franche-Comté</td>\n",
       "      <td>47.238022</td>\n",
       "      <td>6.024362</td>\n",
       "      <td>1.738832e+09</td>\n",
       "      <td>0.80</td>\n",
       "      <td>-1.86</td>\n",
       "      <td>1035.0</td>\n",
       "      <td>94.0</td>\n",
       "      <td>60.0</td>\n",
       "    </tr>\n",
       "    <tr>\n",
       "      <th>13</th>\n",
       "      <td>Dijon</td>\n",
       "      <td>Dijon</td>\n",
       "      <td>FR</td>\n",
       "      <td>Bourgogne-Franche-Comté</td>\n",
       "      <td>47.321581</td>\n",
       "      <td>5.04147</td>\n",
       "      <td>1.738832e+09</td>\n",
       "      <td>1.80</td>\n",
       "      <td>-0.96</td>\n",
       "      <td>1036.0</td>\n",
       "      <td>100.0</td>\n",
       "      <td>100.0</td>\n",
       "    </tr>\n",
       "    <tr>\n",
       "      <th>14</th>\n",
       "      <td>Annecy</td>\n",
       "      <td>Annecy</td>\n",
       "      <td>FR</td>\n",
       "      <td>Auvergne-Rhône-Alpes</td>\n",
       "      <td>45.899235</td>\n",
       "      <td>6.128885</td>\n",
       "      <td>1.738832e+09</td>\n",
       "      <td>1.08</td>\n",
       "      <td>-0.58</td>\n",
       "      <td>1035.0</td>\n",
       "      <td>86.0</td>\n",
       "      <td>100.0</td>\n",
       "    </tr>\n",
       "    <tr>\n",
       "      <th>15</th>\n",
       "      <td>Grenoble</td>\n",
       "      <td>Grenoble</td>\n",
       "      <td>FR</td>\n",
       "      <td>Auvergne-Rhône-Alpes</td>\n",
       "      <td>45.18756</td>\n",
       "      <td>5.735782</td>\n",
       "      <td>1.738832e+09</td>\n",
       "      <td>4.61</td>\n",
       "      <td>4.61</td>\n",
       "      <td>1033.0</td>\n",
       "      <td>53.0</td>\n",
       "      <td>1.0</td>\n",
       "    </tr>\n",
       "    <tr>\n",
       "      <th>16</th>\n",
       "      <td>Lyon</td>\n",
       "      <td>Lyon</td>\n",
       "      <td>FR</td>\n",
       "      <td>Auvergne-Rhône-Alpes</td>\n",
       "      <td>45.757814</td>\n",
       "      <td>4.832011</td>\n",
       "      <td>1.738832e+09</td>\n",
       "      <td>2.05</td>\n",
       "      <td>-1.11</td>\n",
       "      <td>1035.0</td>\n",
       "      <td>89.0</td>\n",
       "      <td>100.0</td>\n",
       "    </tr>\n",
       "    <tr>\n",
       "      <th>17</th>\n",
       "      <td>Bormes les Mimosas</td>\n",
       "      <td>Bormes-les-Mimosas</td>\n",
       "      <td>FR</td>\n",
       "      <td>Provence-Alpes-Côte d'Azur</td>\n",
       "      <td>43.150697</td>\n",
       "      <td>6.341928</td>\n",
       "      <td>1.738832e+09</td>\n",
       "      <td>9.26</td>\n",
       "      <td>7.57</td>\n",
       "      <td>1030.0</td>\n",
       "      <td>71.0</td>\n",
       "      <td>0.0</td>\n",
       "    </tr>\n",
       "    <tr>\n",
       "      <th>18</th>\n",
       "      <td>Cassis</td>\n",
       "      <td>Cassis</td>\n",
       "      <td>FR</td>\n",
       "      <td>Provence-Alpes-Côte d'Azur</td>\n",
       "      <td>43.214036</td>\n",
       "      <td>5.539632</td>\n",
       "      <td>1.738832e+09</td>\n",
       "      <td>9.04</td>\n",
       "      <td>9.04</td>\n",
       "      <td>1030.0</td>\n",
       "      <td>79.0</td>\n",
       "      <td>0.0</td>\n",
       "    </tr>\n",
       "    <tr>\n",
       "      <th>19</th>\n",
       "      <td>Marseille</td>\n",
       "      <td>Marseille</td>\n",
       "      <td>FR</td>\n",
       "      <td>Provence-Alpes-Côte d'Azur</td>\n",
       "      <td>43.296174</td>\n",
       "      <td>5.369953</td>\n",
       "      <td>1.738832e+09</td>\n",
       "      <td>9.19</td>\n",
       "      <td>9.19</td>\n",
       "      <td>1030.0</td>\n",
       "      <td>79.0</td>\n",
       "      <td>0.0</td>\n",
       "    </tr>\n",
       "    <tr>\n",
       "      <th>20</th>\n",
       "      <td>Aix en Provence</td>\n",
       "      <td>Aix-en-Provence</td>\n",
       "      <td>FR</td>\n",
       "      <td>Provence-Alpes-Côte d'Azur</td>\n",
       "      <td>43.529842</td>\n",
       "      <td>5.447474</td>\n",
       "      <td>1.738832e+09</td>\n",
       "      <td>3.71</td>\n",
       "      <td>2.45</td>\n",
       "      <td>1030.0</td>\n",
       "      <td>53.0</td>\n",
       "      <td>0.0</td>\n",
       "    </tr>\n",
       "    <tr>\n",
       "      <th>21</th>\n",
       "      <td>Avignon</td>\n",
       "      <td>Avignon</td>\n",
       "      <td>FR</td>\n",
       "      <td>Provence-Alpes-Côte d'Azur</td>\n",
       "      <td>43.949249</td>\n",
       "      <td>4.805901</td>\n",
       "      <td>1.738832e+09</td>\n",
       "      <td>5.72</td>\n",
       "      <td>2.73</td>\n",
       "      <td>1031.0</td>\n",
       "      <td>71.0</td>\n",
       "      <td>0.0</td>\n",
       "    </tr>\n",
       "    <tr>\n",
       "      <th>22</th>\n",
       "      <td>Uzes</td>\n",
       "      <td>Uzès</td>\n",
       "      <td>FR</td>\n",
       "      <td>Occitania</td>\n",
       "      <td>44.012128</td>\n",
       "      <td>4.419672</td>\n",
       "      <td>1.738832e+09</td>\n",
       "      <td>5.67</td>\n",
       "      <td>1.82</td>\n",
       "      <td>1031.0</td>\n",
       "      <td>61.0</td>\n",
       "      <td>3.0</td>\n",
       "    </tr>\n",
       "    <tr>\n",
       "      <th>23</th>\n",
       "      <td>Nimes</td>\n",
       "      <td>Nimes</td>\n",
       "      <td>FR</td>\n",
       "      <td>Occitania</td>\n",
       "      <td>43.837425</td>\n",
       "      <td>4.360069</td>\n",
       "      <td>1.738832e+09</td>\n",
       "      <td>6.22</td>\n",
       "      <td>2.58</td>\n",
       "      <td>1031.0</td>\n",
       "      <td>70.0</td>\n",
       "      <td>0.0</td>\n",
       "    </tr>\n",
       "    <tr>\n",
       "      <th>24</th>\n",
       "      <td>Aigues Mortes</td>\n",
       "      <td>Aigues-Mortes</td>\n",
       "      <td>FR</td>\n",
       "      <td>Occitania</td>\n",
       "      <td>43.565823</td>\n",
       "      <td>4.191284</td>\n",
       "      <td>1.738832e+09</td>\n",
       "      <td>6.07</td>\n",
       "      <td>2.85</td>\n",
       "      <td>1031.0</td>\n",
       "      <td>70.0</td>\n",
       "      <td>0.0</td>\n",
       "    </tr>\n",
       "    <tr>\n",
       "      <th>25</th>\n",
       "      <td>Saintes Maries de la mer</td>\n",
       "      <td>Saintes-Maries-de-la-Mer</td>\n",
       "      <td>FR</td>\n",
       "      <td>Provence-Alpes-Côte d'Azur</td>\n",
       "      <td>43.452277</td>\n",
       "      <td>4.428717</td>\n",
       "      <td>1.738832e+09</td>\n",
       "      <td>6.48</td>\n",
       "      <td>2.16</td>\n",
       "      <td>1031.0</td>\n",
       "      <td>63.0</td>\n",
       "      <td>0.0</td>\n",
       "    </tr>\n",
       "    <tr>\n",
       "      <th>26</th>\n",
       "      <td>Collioure</td>\n",
       "      <td>Collioure</td>\n",
       "      <td>FR</td>\n",
       "      <td>Occitania</td>\n",
       "      <td>42.52505</td>\n",
       "      <td>3.083155</td>\n",
       "      <td>1.738832e+09</td>\n",
       "      <td>8.78</td>\n",
       "      <td>7.74</td>\n",
       "      <td>1031.0</td>\n",
       "      <td>61.0</td>\n",
       "      <td>0.0</td>\n",
       "    </tr>\n",
       "    <tr>\n",
       "      <th>27</th>\n",
       "      <td>Carcassonne</td>\n",
       "      <td>Carcassonne</td>\n",
       "      <td>FR</td>\n",
       "      <td>Occitania</td>\n",
       "      <td>43.213036</td>\n",
       "      <td>2.349107</td>\n",
       "      <td>1.738832e+09</td>\n",
       "      <td>3.06</td>\n",
       "      <td>3.06</td>\n",
       "      <td>1032.0</td>\n",
       "      <td>93.0</td>\n",
       "      <td>0.0</td>\n",
       "    </tr>\n",
       "    <tr>\n",
       "      <th>28</th>\n",
       "      <td>Ariege</td>\n",
       "      <td>Tarascon-sur-Ariège</td>\n",
       "      <td>FR</td>\n",
       "      <td>Occitania</td>\n",
       "      <td>42.845802</td>\n",
       "      <td>1.606759</td>\n",
       "      <td>1.738832e+09</td>\n",
       "      <td>9.16</td>\n",
       "      <td>9.16</td>\n",
       "      <td>1030.0</td>\n",
       "      <td>51.0</td>\n",
       "      <td>0.0</td>\n",
       "    </tr>\n",
       "    <tr>\n",
       "      <th>29</th>\n",
       "      <td>Toulouse</td>\n",
       "      <td>Toulouse</td>\n",
       "      <td>FR</td>\n",
       "      <td>Occitania</td>\n",
       "      <td>43.604462</td>\n",
       "      <td>1.444247</td>\n",
       "      <td>1.738832e+09</td>\n",
       "      <td>1.97</td>\n",
       "      <td>0.43</td>\n",
       "      <td>1032.0</td>\n",
       "      <td>87.0</td>\n",
       "      <td>0.0</td>\n",
       "    </tr>\n",
       "    <tr>\n",
       "      <th>30</th>\n",
       "      <td>Montauban</td>\n",
       "      <td>Montauban</td>\n",
       "      <td>FR</td>\n",
       "      <td>Occitania</td>\n",
       "      <td>44.017584</td>\n",
       "      <td>1.354999</td>\n",
       "      <td>1.738832e+09</td>\n",
       "      <td>5.15</td>\n",
       "      <td>4.00</td>\n",
       "      <td>1032.0</td>\n",
       "      <td>81.0</td>\n",
       "      <td>3.0</td>\n",
       "    </tr>\n",
       "    <tr>\n",
       "      <th>31</th>\n",
       "      <td>Biarritz</td>\n",
       "      <td>Biarritz</td>\n",
       "      <td>FR</td>\n",
       "      <td>Nouvelle-Aquitaine</td>\n",
       "      <td>43.483252</td>\n",
       "      <td>-1.559278</td>\n",
       "      <td>1.738832e+09</td>\n",
       "      <td>4.30</td>\n",
       "      <td>4.30</td>\n",
       "      <td>1032.0</td>\n",
       "      <td>100.0</td>\n",
       "      <td>100.0</td>\n",
       "    </tr>\n",
       "    <tr>\n",
       "      <th>32</th>\n",
       "      <td>Bayonne</td>\n",
       "      <td>Bayonne</td>\n",
       "      <td>FR</td>\n",
       "      <td>Nouvelle-Aquitaine</td>\n",
       "      <td>43.494514</td>\n",
       "      <td>-1.473666</td>\n",
       "      <td>1.738832e+09</td>\n",
       "      <td>4.42</td>\n",
       "      <td>4.42</td>\n",
       "      <td>1032.0</td>\n",
       "      <td>100.0</td>\n",
       "      <td>100.0</td>\n",
       "    </tr>\n",
       "    <tr>\n",
       "      <th>33</th>\n",
       "      <td>La Rochelle</td>\n",
       "      <td>La Rochelle</td>\n",
       "      <td>FR</td>\n",
       "      <td>Nouvelle-Aquitaine</td>\n",
       "      <td>46.159113</td>\n",
       "      <td>-1.152043</td>\n",
       "      <td>1.738832e+09</td>\n",
       "      <td>6.01</td>\n",
       "      <td>1.57</td>\n",
       "      <td>1035.0</td>\n",
       "      <td>83.0</td>\n",
       "      <td>75.0</td>\n",
       "    </tr>\n",
       "  </tbody>\n",
       "</table>\n",
       "</div>"
      ],
      "text/plain": [
       "                            city                         name country  \\\n",
       "0              Mont Saint Michel            Mont Saint-Michel      FR   \n",
       "1                        St Malo                   Saint-Malo      FR   \n",
       "2                         Bayeux                       Bayeux      FR   \n",
       "3                       Le Havre                     Le Havre      FR   \n",
       "4                          Rouen                        Rouen      FR   \n",
       "5                          Paris                        Paris      FR   \n",
       "6                         Amiens                       Amiens      FR   \n",
       "7                          Lille                        Lille      FR   \n",
       "8                     Strasbourg                   Strasbourg      FR   \n",
       "9   Chateau du Haut Koenigsbourg  Château du Haut-Kœnigsbourg      FR   \n",
       "10                        Colmar                       Colmar      FR   \n",
       "11                     Eguisheim                    Eguisheim      FR   \n",
       "12                      Besancon                     Besançon      FR   \n",
       "13                         Dijon                        Dijon      FR   \n",
       "14                        Annecy                       Annecy      FR   \n",
       "15                      Grenoble                     Grenoble      FR   \n",
       "16                          Lyon                         Lyon      FR   \n",
       "17            Bormes les Mimosas           Bormes-les-Mimosas      FR   \n",
       "18                        Cassis                       Cassis      FR   \n",
       "19                     Marseille                    Marseille      FR   \n",
       "20               Aix en Provence              Aix-en-Provence      FR   \n",
       "21                       Avignon                      Avignon      FR   \n",
       "22                          Uzes                         Uzès      FR   \n",
       "23                         Nimes                        Nimes      FR   \n",
       "24                 Aigues Mortes                Aigues-Mortes      FR   \n",
       "25      Saintes Maries de la mer     Saintes-Maries-de-la-Mer      FR   \n",
       "26                     Collioure                    Collioure      FR   \n",
       "27                   Carcassonne                  Carcassonne      FR   \n",
       "28                        Ariege          Tarascon-sur-Ariège      FR   \n",
       "29                      Toulouse                     Toulouse      FR   \n",
       "30                     Montauban                    Montauban      FR   \n",
       "31                      Biarritz                     Biarritz      FR   \n",
       "32                       Bayonne                      Bayonne      FR   \n",
       "33                   La Rochelle                  La Rochelle      FR   \n",
       "\n",
       "                         state        lat       lon    current_dt  \\\n",
       "0                     Normandy  48.635954  -1.51146  1.738832e+09   \n",
       "1                     Brittany  48.649518 -2.026041  1.738832e+09   \n",
       "2                     Normandy  49.276462 -0.702474  1.738832e+09   \n",
       "3                     Normandy  49.493898  0.107973  1.738832e+09   \n",
       "4                     Normandy  49.440459  1.093966  1.738832e+09   \n",
       "5                Ile-de-France   48.85889  2.320041  1.738832e+09   \n",
       "6              Hauts-de-France  49.894171  2.295695  1.738832e+09   \n",
       "7              Hauts-de-France  50.636565  3.063528  1.738832e+09   \n",
       "8                    Grand Est  48.584614  7.750713  1.738832e+09   \n",
       "9                    Grand Est  48.249523  7.345492  1.738832e+09   \n",
       "10                   Grand Est  48.077752  7.357964  1.738832e+09   \n",
       "11                   Grand Est  48.044797  7.307962  1.738832e+09   \n",
       "12     Bourgogne-Franche-Comté  47.238022  6.024362  1.738832e+09   \n",
       "13     Bourgogne-Franche-Comté  47.321581   5.04147  1.738832e+09   \n",
       "14        Auvergne-Rhône-Alpes  45.899235  6.128885  1.738832e+09   \n",
       "15        Auvergne-Rhône-Alpes   45.18756  5.735782  1.738832e+09   \n",
       "16        Auvergne-Rhône-Alpes  45.757814  4.832011  1.738832e+09   \n",
       "17  Provence-Alpes-Côte d'Azur  43.150697  6.341928  1.738832e+09   \n",
       "18  Provence-Alpes-Côte d'Azur  43.214036  5.539632  1.738832e+09   \n",
       "19  Provence-Alpes-Côte d'Azur  43.296174  5.369953  1.738832e+09   \n",
       "20  Provence-Alpes-Côte d'Azur  43.529842  5.447474  1.738832e+09   \n",
       "21  Provence-Alpes-Côte d'Azur  43.949249  4.805901  1.738832e+09   \n",
       "22                   Occitania  44.012128  4.419672  1.738832e+09   \n",
       "23                   Occitania  43.837425  4.360069  1.738832e+09   \n",
       "24                   Occitania  43.565823  4.191284  1.738832e+09   \n",
       "25  Provence-Alpes-Côte d'Azur  43.452277  4.428717  1.738832e+09   \n",
       "26                   Occitania   42.52505  3.083155  1.738832e+09   \n",
       "27                   Occitania  43.213036  2.349107  1.738832e+09   \n",
       "28                   Occitania  42.845802  1.606759  1.738832e+09   \n",
       "29                   Occitania  43.604462  1.444247  1.738832e+09   \n",
       "30                   Occitania  44.017584  1.354999  1.738832e+09   \n",
       "31          Nouvelle-Aquitaine  43.483252 -1.559278  1.738832e+09   \n",
       "32          Nouvelle-Aquitaine  43.494514 -1.473666  1.738832e+09   \n",
       "33          Nouvelle-Aquitaine  46.159113 -1.152043  1.738832e+09   \n",
       "\n",
       "    current_temp  current_feels_like  current_pressure  current_humidity  \\\n",
       "0           5.19                2.05            1039.0              80.0   \n",
       "1           6.29                6.29            1039.0              93.0   \n",
       "2           5.14                1.80            1040.0              88.0   \n",
       "3           4.51                0.42            1040.0              93.0   \n",
       "4           4.52                0.92            1040.0              89.0   \n",
       "5           2.83               -1.18            1039.0              93.0   \n",
       "6           4.12                0.74            1040.0              88.0   \n",
       "7           4.05                0.94            1041.0              85.0   \n",
       "8           1.99               -3.23            1038.0              93.0   \n",
       "9          -1.10               -6.93            1037.0              93.0   \n",
       "10          1.87               -3.15            1037.0              93.0   \n",
       "11          1.75               -3.31            1037.0              94.0   \n",
       "12          0.80               -1.86            1035.0              94.0   \n",
       "13          1.80               -0.96            1036.0             100.0   \n",
       "14          1.08               -0.58            1035.0              86.0   \n",
       "15          4.61                4.61            1033.0              53.0   \n",
       "16          2.05               -1.11            1035.0              89.0   \n",
       "17          9.26                7.57            1030.0              71.0   \n",
       "18          9.04                9.04            1030.0              79.0   \n",
       "19          9.19                9.19            1030.0              79.0   \n",
       "20          3.71                2.45            1030.0              53.0   \n",
       "21          5.72                2.73            1031.0              71.0   \n",
       "22          5.67                1.82            1031.0              61.0   \n",
       "23          6.22                2.58            1031.0              70.0   \n",
       "24          6.07                2.85            1031.0              70.0   \n",
       "25          6.48                2.16            1031.0              63.0   \n",
       "26          8.78                7.74            1031.0              61.0   \n",
       "27          3.06                3.06            1032.0              93.0   \n",
       "28          9.16                9.16            1030.0              51.0   \n",
       "29          1.97                0.43            1032.0              87.0   \n",
       "30          5.15                4.00            1032.0              81.0   \n",
       "31          4.30                4.30            1032.0             100.0   \n",
       "32          4.42                4.42            1032.0             100.0   \n",
       "33          6.01                1.57            1035.0              83.0   \n",
       "\n",
       "    current_clouds  \n",
       "0            100.0  \n",
       "1              0.0  \n",
       "2             96.0  \n",
       "3             20.0  \n",
       "4            100.0  \n",
       "5            100.0  \n",
       "6             93.0  \n",
       "7            100.0  \n",
       "8            100.0  \n",
       "9            100.0  \n",
       "10           100.0  \n",
       "11           100.0  \n",
       "12            60.0  \n",
       "13           100.0  \n",
       "14           100.0  \n",
       "15             1.0  \n",
       "16           100.0  \n",
       "17             0.0  \n",
       "18             0.0  \n",
       "19             0.0  \n",
       "20             0.0  \n",
       "21             0.0  \n",
       "22             3.0  \n",
       "23             0.0  \n",
       "24             0.0  \n",
       "25             0.0  \n",
       "26             0.0  \n",
       "27             0.0  \n",
       "28             0.0  \n",
       "29             0.0  \n",
       "30             3.0  \n",
       "31           100.0  \n",
       "32           100.0  \n",
       "33            75.0  "
      ]
     },
     "execution_count": 14,
     "metadata": {},
     "output_type": "execute_result"
    }
   ],
   "source": [
    "start=0\n",
    "for x, y in zip(df[\"lat\"],df[\"lon\"]):\n",
    "    r = requests.get(f\"https://api.openweathermap.org/data/3.0/onecall?lat={x}&lon={y}&units=metric&appid={Open_Weather_API_Key_Myriam}\")\n",
    "    data = r.json()\n",
    "    df.loc[start,[\"current_dt\"]] = data[\"current\"][\"dt\"]\n",
    "    df.loc[start,[\"current_temp\"]] = data[\"current\"][\"temp\"]\n",
    "    df.loc[start,[\"current_feels_like\"]] = data[\"current\"][\"feels_like\"]\n",
    "    df.loc[start,[\"current_pressure\"]] = data[\"current\"][\"pressure\"]\n",
    "    df.loc[start,[\"current_humidity\"]] = data[\"current\"][\"humidity\"]\n",
    "    df.loc[start,[\"current_clouds\"]] = data[\"current\"][\"clouds\"]\n",
    "    start = start+1\n",
    "df    \n"
   ]
  },
  {
   "cell_type": "code",
   "execution_count": null,
   "metadata": {},
   "outputs": [],
   "source": []
  }
 ],
 "metadata": {
  "kernelspec": {
   "display_name": "myenv",
   "language": "python",
   "name": "python3"
  },
  "language_info": {
   "codemirror_mode": {
    "name": "ipython",
    "version": 3
   },
   "file_extension": ".py",
   "mimetype": "text/x-python",
   "name": "python",
   "nbconvert_exporter": "python",
   "pygments_lexer": "ipython3",
   "version": "3.10.13"
  }
 },
 "nbformat": 4,
 "nbformat_minor": 2
}
