{
 "cells": [
  {
   "cell_type": "code",
   "execution_count": 72,
   "metadata": {},
   "outputs": [],
   "source": [
    "import requests\n",
    "import json\n",
    "import os\n",
    "from dotenv import load_dotenv\n",
    "import pandas as pd\n",
    "from datetime import datetime\n",
    "import folium\n",
    "import time\n",
    "import seaborn as sns\n",
    "import plotly.express as px\n",
    "import requests\n",
    "import scrapy\n",
    "from scrapy import Selector\n",
    "from scrapy.crawler import CrawlerProcess\n",
    "import logging\n",
    "\n",
    "\n",
    "\n"
   ]
  },
  {
   "cell_type": "code",
   "execution_count": 73,
   "metadata": {},
   "outputs": [],
   "source": [
    "load_dotenv()\n",
    "\n",
    "Open_Weather_API_Key_Myriam= os.getenv(\"Open_Weather_API_Key_Myriam\") "
   ]
  },
  {
   "cell_type": "markdown",
   "metadata": {},
   "source": [
    "# Extraction des informations géographiques des 35 plus belles villes"
   ]
  },
  {
   "cell_type": "markdown",
   "metadata": {},
   "source": [
    "Sur la liste des 35 plus belles villes, nous avons 34 noms de villes + 1 lieu d'interêt qui n'est pas une ville (Gorges du Verdon). Pour récupérer les latitudes et longitudes des 34 villes nous pouvons facilement utiliser l'API openweathermap. Cette API permet facilement de collecter également le pays et la région, ce qui est utile pour contrôler d'un même coût les éventuelles erreures liées à des villes homonymes dans le monde.\n",
    "Cependant, cette API récupère les informations en se basant sur un nom de ville. Elle ne reconnait pas les Gorges du Verdon. Pour palier ce problème, une seconde API a été utilisée, nominatim.openstreetmap. Le nombre de requete est plus limité et elle ne permet pas de récupérer la région et le pays. C'est en visualisant les villes sur une carte qu'on pourra confirmer la bonne géolocalisation."
   ]
  },
  {
   "cell_type": "code",
   "execution_count": 74,
   "metadata": {},
   "outputs": [],
   "source": [
    "best_cities= [\"Mont Saint Michel\",\n",
    "\"St Malo\",\n",
    "\"Bayeux\",\n",
    "\"Le Havre\",\n",
    "\"Rouen\",\n",
    "\"Paris\",\n",
    "\"Amiens\",\n",
    "\"Lille\",\n",
    "\"Strasbourg\",\n",
    "\"Chateau du Haut Koenigsbourg\",\n",
    "\"Colmar\",\n",
    "\"Eguisheim\",\n",
    "\"Besancon\",\n",
    "\"Dijon\",\n",
    "\"Annecy\",\n",
    "\"Grenoble\",\n",
    "\"Lyon\",\n",
    "\"Bormes les Mimosas\",\n",
    "\"Cassis\",\n",
    "\"Marseille\",\n",
    "\"Aix en Provence\",\n",
    "\"Avignon\",\n",
    "\"Uzes\",\n",
    "\"Nimes\",\n",
    "\"Aigues Mortes\",\n",
    "\"Saintes Maries de la mer\",\n",
    "\"Collioure\",\n",
    "\"Carcassonne\",\n",
    "\"Ariege\",\n",
    "\"Toulouse\",\n",
    "\"Montauban\",\n",
    "\"Biarritz\",\n",
    "\"Bayonne\",\n",
    "\"La Rochelle\",\n",
    "#\"Gorges du Verdon\" exclu de la liste dans un premier temps car n'est pas une ville mais un point d'intérêt.\n",
    "]\n"
   ]
  },
  {
   "cell_type": "code",
   "execution_count": 75,
   "metadata": {},
   "outputs": [
    {
     "data": {
      "text/plain": [
       "'La Rochelle'"
      ]
     },
     "execution_count": 75,
     "metadata": {},
     "output_type": "execute_result"
    }
   ],
   "source": [
    "best_cities[-1]"
   ]
  },
  {
   "cell_type": "code",
   "execution_count": 76,
   "metadata": {},
   "outputs": [
    {
     "data": {
      "text/html": [
       "<div>\n",
       "<style scoped>\n",
       "    .dataframe tbody tr th:only-of-type {\n",
       "        vertical-align: middle;\n",
       "    }\n",
       "\n",
       "    .dataframe tbody tr th {\n",
       "        vertical-align: top;\n",
       "    }\n",
       "\n",
       "    .dataframe thead th {\n",
       "        text-align: right;\n",
       "    }\n",
       "</style>\n",
       "<table border=\"1\" class=\"dataframe\">\n",
       "  <thead>\n",
       "    <tr style=\"text-align: right;\">\n",
       "      <th></th>\n",
       "      <th>cities</th>\n",
       "    </tr>\n",
       "  </thead>\n",
       "  <tbody>\n",
       "    <tr>\n",
       "      <th>0</th>\n",
       "      <td>Mont Saint Michel</td>\n",
       "    </tr>\n",
       "    <tr>\n",
       "      <th>1</th>\n",
       "      <td>St Malo</td>\n",
       "    </tr>\n",
       "    <tr>\n",
       "      <th>2</th>\n",
       "      <td>Bayeux</td>\n",
       "    </tr>\n",
       "    <tr>\n",
       "      <th>3</th>\n",
       "      <td>Le Havre</td>\n",
       "    </tr>\n",
       "    <tr>\n",
       "      <th>4</th>\n",
       "      <td>Rouen</td>\n",
       "    </tr>\n",
       "    <tr>\n",
       "      <th>5</th>\n",
       "      <td>Paris</td>\n",
       "    </tr>\n",
       "    <tr>\n",
       "      <th>6</th>\n",
       "      <td>Amiens</td>\n",
       "    </tr>\n",
       "    <tr>\n",
       "      <th>7</th>\n",
       "      <td>Lille</td>\n",
       "    </tr>\n",
       "    <tr>\n",
       "      <th>8</th>\n",
       "      <td>Strasbourg</td>\n",
       "    </tr>\n",
       "    <tr>\n",
       "      <th>9</th>\n",
       "      <td>Chateau du Haut Koenigsbourg</td>\n",
       "    </tr>\n",
       "    <tr>\n",
       "      <th>10</th>\n",
       "      <td>Colmar</td>\n",
       "    </tr>\n",
       "    <tr>\n",
       "      <th>11</th>\n",
       "      <td>Eguisheim</td>\n",
       "    </tr>\n",
       "    <tr>\n",
       "      <th>12</th>\n",
       "      <td>Besancon</td>\n",
       "    </tr>\n",
       "    <tr>\n",
       "      <th>13</th>\n",
       "      <td>Dijon</td>\n",
       "    </tr>\n",
       "    <tr>\n",
       "      <th>14</th>\n",
       "      <td>Annecy</td>\n",
       "    </tr>\n",
       "    <tr>\n",
       "      <th>15</th>\n",
       "      <td>Grenoble</td>\n",
       "    </tr>\n",
       "    <tr>\n",
       "      <th>16</th>\n",
       "      <td>Lyon</td>\n",
       "    </tr>\n",
       "    <tr>\n",
       "      <th>17</th>\n",
       "      <td>Bormes les Mimosas</td>\n",
       "    </tr>\n",
       "    <tr>\n",
       "      <th>18</th>\n",
       "      <td>Cassis</td>\n",
       "    </tr>\n",
       "    <tr>\n",
       "      <th>19</th>\n",
       "      <td>Marseille</td>\n",
       "    </tr>\n",
       "    <tr>\n",
       "      <th>20</th>\n",
       "      <td>Aix en Provence</td>\n",
       "    </tr>\n",
       "    <tr>\n",
       "      <th>21</th>\n",
       "      <td>Avignon</td>\n",
       "    </tr>\n",
       "    <tr>\n",
       "      <th>22</th>\n",
       "      <td>Uzes</td>\n",
       "    </tr>\n",
       "    <tr>\n",
       "      <th>23</th>\n",
       "      <td>Nimes</td>\n",
       "    </tr>\n",
       "    <tr>\n",
       "      <th>24</th>\n",
       "      <td>Aigues Mortes</td>\n",
       "    </tr>\n",
       "    <tr>\n",
       "      <th>25</th>\n",
       "      <td>Saintes Maries de la mer</td>\n",
       "    </tr>\n",
       "    <tr>\n",
       "      <th>26</th>\n",
       "      <td>Collioure</td>\n",
       "    </tr>\n",
       "    <tr>\n",
       "      <th>27</th>\n",
       "      <td>Carcassonne</td>\n",
       "    </tr>\n",
       "    <tr>\n",
       "      <th>28</th>\n",
       "      <td>Ariege</td>\n",
       "    </tr>\n",
       "    <tr>\n",
       "      <th>29</th>\n",
       "      <td>Toulouse</td>\n",
       "    </tr>\n",
       "    <tr>\n",
       "      <th>30</th>\n",
       "      <td>Montauban</td>\n",
       "    </tr>\n",
       "    <tr>\n",
       "      <th>31</th>\n",
       "      <td>Biarritz</td>\n",
       "    </tr>\n",
       "    <tr>\n",
       "      <th>32</th>\n",
       "      <td>Bayonne</td>\n",
       "    </tr>\n",
       "    <tr>\n",
       "      <th>33</th>\n",
       "      <td>La Rochelle</td>\n",
       "    </tr>\n",
       "  </tbody>\n",
       "</table>\n",
       "</div>"
      ],
      "text/plain": [
       "                          cities\n",
       "0              Mont Saint Michel\n",
       "1                        St Malo\n",
       "2                         Bayeux\n",
       "3                       Le Havre\n",
       "4                          Rouen\n",
       "5                          Paris\n",
       "6                         Amiens\n",
       "7                          Lille\n",
       "8                     Strasbourg\n",
       "9   Chateau du Haut Koenigsbourg\n",
       "10                        Colmar\n",
       "11                     Eguisheim\n",
       "12                      Besancon\n",
       "13                         Dijon\n",
       "14                        Annecy\n",
       "15                      Grenoble\n",
       "16                          Lyon\n",
       "17            Bormes les Mimosas\n",
       "18                        Cassis\n",
       "19                     Marseille\n",
       "20               Aix en Provence\n",
       "21                       Avignon\n",
       "22                          Uzes\n",
       "23                         Nimes\n",
       "24                 Aigues Mortes\n",
       "25      Saintes Maries de la mer\n",
       "26                     Collioure\n",
       "27                   Carcassonne\n",
       "28                        Ariege\n",
       "29                      Toulouse\n",
       "30                     Montauban\n",
       "31                      Biarritz\n",
       "32                       Bayonne\n",
       "33                   La Rochelle"
      ]
     },
     "execution_count": 76,
     "metadata": {},
     "output_type": "execute_result"
    }
   ],
   "source": [
    "#création d'un dataframe avec la liste des best cities\n",
    "df = pd.DataFrame(data = best_cities, columns = [\"cities\"])\n",
    "df"
   ]
  },
  {
   "cell_type": "markdown",
   "metadata": {},
   "source": [
    "## Import des longitudes & latitudes des 35 best cities"
   ]
  },
  {
   "cell_type": "code",
   "execution_count": 77,
   "metadata": {},
   "outputs": [
    {
     "data": {
      "text/plain": [
       "(34, 1)"
      ]
     },
     "execution_count": 77,
     "metadata": {},
     "output_type": "execute_result"
    }
   ],
   "source": [
    "df.shape"
   ]
  },
  {
   "cell_type": "code",
   "execution_count": 78,
   "metadata": {},
   "outputs": [
    {
     "data": {
      "text/html": [
       "<div>\n",
       "<style scoped>\n",
       "    .dataframe tbody tr th:only-of-type {\n",
       "        vertical-align: middle;\n",
       "    }\n",
       "\n",
       "    .dataframe tbody tr th {\n",
       "        vertical-align: top;\n",
       "    }\n",
       "\n",
       "    .dataframe thead th {\n",
       "        text-align: right;\n",
       "    }\n",
       "</style>\n",
       "<table border=\"1\" class=\"dataframe\">\n",
       "  <thead>\n",
       "    <tr style=\"text-align: right;\">\n",
       "      <th></th>\n",
       "      <th>cities</th>\n",
       "      <th>name</th>\n",
       "      <th>country</th>\n",
       "      <th>state</th>\n",
       "      <th>lat</th>\n",
       "      <th>lon</th>\n",
       "    </tr>\n",
       "  </thead>\n",
       "  <tbody>\n",
       "    <tr>\n",
       "      <th>0</th>\n",
       "      <td>Mont Saint Michel</td>\n",
       "      <td>Mont Saint-Michel</td>\n",
       "      <td>FR</td>\n",
       "      <td>Normandy</td>\n",
       "      <td>48.635954</td>\n",
       "      <td>-1.511460</td>\n",
       "    </tr>\n",
       "    <tr>\n",
       "      <th>1</th>\n",
       "      <td>St Malo</td>\n",
       "      <td>Saint-Malo</td>\n",
       "      <td>FR</td>\n",
       "      <td>Brittany</td>\n",
       "      <td>48.649518</td>\n",
       "      <td>-2.026041</td>\n",
       "    </tr>\n",
       "    <tr>\n",
       "      <th>2</th>\n",
       "      <td>Bayeux</td>\n",
       "      <td>Bayeux</td>\n",
       "      <td>FR</td>\n",
       "      <td>Normandy</td>\n",
       "      <td>49.276462</td>\n",
       "      <td>-0.702474</td>\n",
       "    </tr>\n",
       "    <tr>\n",
       "      <th>3</th>\n",
       "      <td>Le Havre</td>\n",
       "      <td>Le Havre</td>\n",
       "      <td>FR</td>\n",
       "      <td>Normandy</td>\n",
       "      <td>49.493898</td>\n",
       "      <td>0.107973</td>\n",
       "    </tr>\n",
       "    <tr>\n",
       "      <th>4</th>\n",
       "      <td>Rouen</td>\n",
       "      <td>Rouen</td>\n",
       "      <td>FR</td>\n",
       "      <td>Normandy</td>\n",
       "      <td>49.440459</td>\n",
       "      <td>1.093966</td>\n",
       "    </tr>\n",
       "    <tr>\n",
       "      <th>5</th>\n",
       "      <td>Paris</td>\n",
       "      <td>Paris</td>\n",
       "      <td>FR</td>\n",
       "      <td>Ile-de-France</td>\n",
       "      <td>48.858890</td>\n",
       "      <td>2.320041</td>\n",
       "    </tr>\n",
       "    <tr>\n",
       "      <th>6</th>\n",
       "      <td>Amiens</td>\n",
       "      <td>Amiens</td>\n",
       "      <td>FR</td>\n",
       "      <td>Hauts-de-France</td>\n",
       "      <td>49.894171</td>\n",
       "      <td>2.295695</td>\n",
       "    </tr>\n",
       "    <tr>\n",
       "      <th>7</th>\n",
       "      <td>Lille</td>\n",
       "      <td>Lille</td>\n",
       "      <td>FR</td>\n",
       "      <td>Hauts-de-France</td>\n",
       "      <td>50.636565</td>\n",
       "      <td>3.063528</td>\n",
       "    </tr>\n",
       "    <tr>\n",
       "      <th>8</th>\n",
       "      <td>Strasbourg</td>\n",
       "      <td>Strasbourg</td>\n",
       "      <td>FR</td>\n",
       "      <td>Grand Est</td>\n",
       "      <td>48.584614</td>\n",
       "      <td>7.750713</td>\n",
       "    </tr>\n",
       "    <tr>\n",
       "      <th>9</th>\n",
       "      <td>Chateau du Haut Koenigsbourg</td>\n",
       "      <td>Château du Haut-Kœnigsbourg</td>\n",
       "      <td>FR</td>\n",
       "      <td>Grand Est</td>\n",
       "      <td>48.249523</td>\n",
       "      <td>7.345492</td>\n",
       "    </tr>\n",
       "    <tr>\n",
       "      <th>10</th>\n",
       "      <td>Colmar</td>\n",
       "      <td>Colmar</td>\n",
       "      <td>FR</td>\n",
       "      <td>Grand Est</td>\n",
       "      <td>48.077752</td>\n",
       "      <td>7.357964</td>\n",
       "    </tr>\n",
       "    <tr>\n",
       "      <th>11</th>\n",
       "      <td>Eguisheim</td>\n",
       "      <td>Eguisheim</td>\n",
       "      <td>FR</td>\n",
       "      <td>Grand Est</td>\n",
       "      <td>48.044797</td>\n",
       "      <td>7.307962</td>\n",
       "    </tr>\n",
       "    <tr>\n",
       "      <th>12</th>\n",
       "      <td>Besancon</td>\n",
       "      <td>Besançon</td>\n",
       "      <td>FR</td>\n",
       "      <td>Bourgogne-Franche-Comté</td>\n",
       "      <td>47.238022</td>\n",
       "      <td>6.024362</td>\n",
       "    </tr>\n",
       "    <tr>\n",
       "      <th>13</th>\n",
       "      <td>Dijon</td>\n",
       "      <td>Dijon</td>\n",
       "      <td>FR</td>\n",
       "      <td>Bourgogne-Franche-Comté</td>\n",
       "      <td>47.321581</td>\n",
       "      <td>5.041470</td>\n",
       "    </tr>\n",
       "    <tr>\n",
       "      <th>14</th>\n",
       "      <td>Annecy</td>\n",
       "      <td>Annecy</td>\n",
       "      <td>FR</td>\n",
       "      <td>Auvergne-Rhône-Alpes</td>\n",
       "      <td>45.899235</td>\n",
       "      <td>6.128885</td>\n",
       "    </tr>\n",
       "    <tr>\n",
       "      <th>15</th>\n",
       "      <td>Grenoble</td>\n",
       "      <td>Grenoble</td>\n",
       "      <td>FR</td>\n",
       "      <td>Auvergne-Rhône-Alpes</td>\n",
       "      <td>45.187560</td>\n",
       "      <td>5.735782</td>\n",
       "    </tr>\n",
       "    <tr>\n",
       "      <th>16</th>\n",
       "      <td>Lyon</td>\n",
       "      <td>Lyon</td>\n",
       "      <td>FR</td>\n",
       "      <td>Auvergne-Rhône-Alpes</td>\n",
       "      <td>45.757814</td>\n",
       "      <td>4.832011</td>\n",
       "    </tr>\n",
       "    <tr>\n",
       "      <th>17</th>\n",
       "      <td>Bormes les Mimosas</td>\n",
       "      <td>Bormes-les-Mimosas</td>\n",
       "      <td>FR</td>\n",
       "      <td>Provence-Alpes-Côte d'Azur</td>\n",
       "      <td>43.150697</td>\n",
       "      <td>6.341928</td>\n",
       "    </tr>\n",
       "    <tr>\n",
       "      <th>18</th>\n",
       "      <td>Cassis</td>\n",
       "      <td>Cassis</td>\n",
       "      <td>FR</td>\n",
       "      <td>Provence-Alpes-Côte d'Azur</td>\n",
       "      <td>43.214036</td>\n",
       "      <td>5.539632</td>\n",
       "    </tr>\n",
       "    <tr>\n",
       "      <th>19</th>\n",
       "      <td>Marseille</td>\n",
       "      <td>Marseille</td>\n",
       "      <td>FR</td>\n",
       "      <td>Provence-Alpes-Côte d'Azur</td>\n",
       "      <td>43.296174</td>\n",
       "      <td>5.369953</td>\n",
       "    </tr>\n",
       "    <tr>\n",
       "      <th>20</th>\n",
       "      <td>Aix en Provence</td>\n",
       "      <td>Aix-en-Provence</td>\n",
       "      <td>FR</td>\n",
       "      <td>Provence-Alpes-Côte d'Azur</td>\n",
       "      <td>43.529842</td>\n",
       "      <td>5.447474</td>\n",
       "    </tr>\n",
       "    <tr>\n",
       "      <th>21</th>\n",
       "      <td>Avignon</td>\n",
       "      <td>Avignon</td>\n",
       "      <td>FR</td>\n",
       "      <td>Provence-Alpes-Côte d'Azur</td>\n",
       "      <td>43.949249</td>\n",
       "      <td>4.805901</td>\n",
       "    </tr>\n",
       "    <tr>\n",
       "      <th>22</th>\n",
       "      <td>Uzes</td>\n",
       "      <td>Uzès</td>\n",
       "      <td>FR</td>\n",
       "      <td>Occitania</td>\n",
       "      <td>44.012128</td>\n",
       "      <td>4.419672</td>\n",
       "    </tr>\n",
       "    <tr>\n",
       "      <th>23</th>\n",
       "      <td>Nimes</td>\n",
       "      <td>Nimes</td>\n",
       "      <td>FR</td>\n",
       "      <td>Occitania</td>\n",
       "      <td>43.837425</td>\n",
       "      <td>4.360069</td>\n",
       "    </tr>\n",
       "    <tr>\n",
       "      <th>24</th>\n",
       "      <td>Aigues Mortes</td>\n",
       "      <td>Aigues-Mortes</td>\n",
       "      <td>FR</td>\n",
       "      <td>Occitania</td>\n",
       "      <td>43.565823</td>\n",
       "      <td>4.191284</td>\n",
       "    </tr>\n",
       "    <tr>\n",
       "      <th>25</th>\n",
       "      <td>Saintes Maries de la mer</td>\n",
       "      <td>Saintes-Maries-de-la-Mer</td>\n",
       "      <td>FR</td>\n",
       "      <td>Provence-Alpes-Côte d'Azur</td>\n",
       "      <td>43.452277</td>\n",
       "      <td>4.428717</td>\n",
       "    </tr>\n",
       "    <tr>\n",
       "      <th>26</th>\n",
       "      <td>Collioure</td>\n",
       "      <td>Collioure</td>\n",
       "      <td>FR</td>\n",
       "      <td>Occitania</td>\n",
       "      <td>42.525050</td>\n",
       "      <td>3.083155</td>\n",
       "    </tr>\n",
       "    <tr>\n",
       "      <th>27</th>\n",
       "      <td>Carcassonne</td>\n",
       "      <td>Carcassonne</td>\n",
       "      <td>FR</td>\n",
       "      <td>Occitania</td>\n",
       "      <td>43.213036</td>\n",
       "      <td>2.349107</td>\n",
       "    </tr>\n",
       "    <tr>\n",
       "      <th>28</th>\n",
       "      <td>Ariege</td>\n",
       "      <td>Tarascon-sur-Ariège</td>\n",
       "      <td>FR</td>\n",
       "      <td>Occitania</td>\n",
       "      <td>42.845802</td>\n",
       "      <td>1.606759</td>\n",
       "    </tr>\n",
       "    <tr>\n",
       "      <th>29</th>\n",
       "      <td>Toulouse</td>\n",
       "      <td>Toulouse</td>\n",
       "      <td>FR</td>\n",
       "      <td>Occitania</td>\n",
       "      <td>43.604462</td>\n",
       "      <td>1.444247</td>\n",
       "    </tr>\n",
       "    <tr>\n",
       "      <th>30</th>\n",
       "      <td>Montauban</td>\n",
       "      <td>Montauban</td>\n",
       "      <td>FR</td>\n",
       "      <td>Occitania</td>\n",
       "      <td>44.017584</td>\n",
       "      <td>1.354999</td>\n",
       "    </tr>\n",
       "    <tr>\n",
       "      <th>31</th>\n",
       "      <td>Biarritz</td>\n",
       "      <td>Biarritz</td>\n",
       "      <td>FR</td>\n",
       "      <td>Nouvelle-Aquitaine</td>\n",
       "      <td>43.483252</td>\n",
       "      <td>-1.559278</td>\n",
       "    </tr>\n",
       "    <tr>\n",
       "      <th>32</th>\n",
       "      <td>Bayonne</td>\n",
       "      <td>Bayonne</td>\n",
       "      <td>FR</td>\n",
       "      <td>Nouvelle-Aquitaine</td>\n",
       "      <td>43.494514</td>\n",
       "      <td>-1.473666</td>\n",
       "    </tr>\n",
       "    <tr>\n",
       "      <th>33</th>\n",
       "      <td>La Rochelle</td>\n",
       "      <td>La Rochelle</td>\n",
       "      <td>FR</td>\n",
       "      <td>Nouvelle-Aquitaine</td>\n",
       "      <td>46.159113</td>\n",
       "      <td>-1.152043</td>\n",
       "    </tr>\n",
       "  </tbody>\n",
       "</table>\n",
       "</div>"
      ],
      "text/plain": [
       "                          cities                         name country  \\\n",
       "0              Mont Saint Michel            Mont Saint-Michel      FR   \n",
       "1                        St Malo                   Saint-Malo      FR   \n",
       "2                         Bayeux                       Bayeux      FR   \n",
       "3                       Le Havre                     Le Havre      FR   \n",
       "4                          Rouen                        Rouen      FR   \n",
       "5                          Paris                        Paris      FR   \n",
       "6                         Amiens                       Amiens      FR   \n",
       "7                          Lille                        Lille      FR   \n",
       "8                     Strasbourg                   Strasbourg      FR   \n",
       "9   Chateau du Haut Koenigsbourg  Château du Haut-Kœnigsbourg      FR   \n",
       "10                        Colmar                       Colmar      FR   \n",
       "11                     Eguisheim                    Eguisheim      FR   \n",
       "12                      Besancon                     Besançon      FR   \n",
       "13                         Dijon                        Dijon      FR   \n",
       "14                        Annecy                       Annecy      FR   \n",
       "15                      Grenoble                     Grenoble      FR   \n",
       "16                          Lyon                         Lyon      FR   \n",
       "17            Bormes les Mimosas           Bormes-les-Mimosas      FR   \n",
       "18                        Cassis                       Cassis      FR   \n",
       "19                     Marseille                    Marseille      FR   \n",
       "20               Aix en Provence              Aix-en-Provence      FR   \n",
       "21                       Avignon                      Avignon      FR   \n",
       "22                          Uzes                         Uzès      FR   \n",
       "23                         Nimes                        Nimes      FR   \n",
       "24                 Aigues Mortes                Aigues-Mortes      FR   \n",
       "25      Saintes Maries de la mer     Saintes-Maries-de-la-Mer      FR   \n",
       "26                     Collioure                    Collioure      FR   \n",
       "27                   Carcassonne                  Carcassonne      FR   \n",
       "28                        Ariege          Tarascon-sur-Ariège      FR   \n",
       "29                      Toulouse                     Toulouse      FR   \n",
       "30                     Montauban                    Montauban      FR   \n",
       "31                      Biarritz                     Biarritz      FR   \n",
       "32                       Bayonne                      Bayonne      FR   \n",
       "33                   La Rochelle                  La Rochelle      FR   \n",
       "\n",
       "                         state        lat       lon  \n",
       "0                     Normandy  48.635954 -1.511460  \n",
       "1                     Brittany  48.649518 -2.026041  \n",
       "2                     Normandy  49.276462 -0.702474  \n",
       "3                     Normandy  49.493898  0.107973  \n",
       "4                     Normandy  49.440459  1.093966  \n",
       "5                Ile-de-France  48.858890  2.320041  \n",
       "6              Hauts-de-France  49.894171  2.295695  \n",
       "7              Hauts-de-France  50.636565  3.063528  \n",
       "8                    Grand Est  48.584614  7.750713  \n",
       "9                    Grand Est  48.249523  7.345492  \n",
       "10                   Grand Est  48.077752  7.357964  \n",
       "11                   Grand Est  48.044797  7.307962  \n",
       "12     Bourgogne-Franche-Comté  47.238022  6.024362  \n",
       "13     Bourgogne-Franche-Comté  47.321581  5.041470  \n",
       "14        Auvergne-Rhône-Alpes  45.899235  6.128885  \n",
       "15        Auvergne-Rhône-Alpes  45.187560  5.735782  \n",
       "16        Auvergne-Rhône-Alpes  45.757814  4.832011  \n",
       "17  Provence-Alpes-Côte d'Azur  43.150697  6.341928  \n",
       "18  Provence-Alpes-Côte d'Azur  43.214036  5.539632  \n",
       "19  Provence-Alpes-Côte d'Azur  43.296174  5.369953  \n",
       "20  Provence-Alpes-Côte d'Azur  43.529842  5.447474  \n",
       "21  Provence-Alpes-Côte d'Azur  43.949249  4.805901  \n",
       "22                   Occitania  44.012128  4.419672  \n",
       "23                   Occitania  43.837425  4.360069  \n",
       "24                   Occitania  43.565823  4.191284  \n",
       "25  Provence-Alpes-Côte d'Azur  43.452277  4.428717  \n",
       "26                   Occitania  42.525050  3.083155  \n",
       "27                   Occitania  43.213036  2.349107  \n",
       "28                   Occitania  42.845802  1.606759  \n",
       "29                   Occitania  43.604462  1.444247  \n",
       "30                   Occitania  44.017584  1.354999  \n",
       "31          Nouvelle-Aquitaine  43.483252 -1.559278  \n",
       "32          Nouvelle-Aquitaine  43.494514 -1.473666  \n",
       "33          Nouvelle-Aquitaine  46.159113 -1.152043  "
      ]
     },
     "execution_count": 78,
     "metadata": {},
     "output_type": "execute_result"
    }
   ],
   "source": [
    "for i,best_city in enumerate(best_cities):\n",
    "    r = requests.get(f\"http://api.openweathermap.org/geo/1.0/direct?q={best_city}&limit=1&appid={Open_Weather_API_Key_Myriam}\")\n",
    "    if r.status_code == 200:\n",
    "        data = r.json()\n",
    "  \n",
    "        df.loc[i,\"name\"] = data[0][\"name\"] #pour s'assurer de la bonne attribution de la ville\n",
    "        df.loc[i,\"country\"] = data[0][\"country\"] #pour vérifier la localisation\n",
    "        df.loc[i,\"state\"] = data[0][\"state\"] # pour vérifier la localisation\n",
    "        df.loc[i,\"lat\"] = data[0][\"lat\"]\n",
    "        df.loc[i,\"lon\"] = data[0][\"lon\"]\n",
    "    \n",
    "    else:\n",
    "        print(f\"Erreur lors de la requête pour {best_cities} :\", r.status_code)\n",
    "\n",
    "df"
   ]
  },
  {
   "cell_type": "code",
   "execution_count": 79,
   "metadata": {},
   "outputs": [
    {
     "data": {
      "text/plain": [
       "<Response [403]>"
      ]
     },
     "execution_count": 79,
     "metadata": {},
     "output_type": "execute_result"
    }
   ],
   "source": [
    "url = \"https://nominatim.openstreetmap.org/search\"\n",
    "\n",
    "headers = {\n",
    "        'User-Agent': 'Mozilla/5.0 (Windows NT 10.0; Win64; x64) AppleWebKit/537.36 (KHTML, like Gecko) Chrome/58.0.3029.110 Safari/537.3'    }\n",
    "\n",
    "lieux = [\"Gorges du Verdon\"]\n",
    "\n",
    "for lieu in lieux:\n",
    "    params = {\n",
    "        'q': lieu,\n",
    "        'format': 'json',\n",
    "        'limit': 1\n",
    "    }\n",
    "\n",
    "response = requests.get(url, params=params, headers=headers)\n",
    "response"
   ]
  },
  {
   "cell_type": "code",
   "execution_count": 9,
   "metadata": {},
   "outputs": [
    {
     "name": "stdout",
     "output_type": "stream",
     "text": [
      "[{'cities': 'Gorges du Verdon', 'name': None, 'country': None, 'state': None, 'lat': '43.7496562', 'lon': '6.3285616'}]\n"
     ]
    }
   ],
   "source": [
    "# pour trouver les coordonnés des Gorges du Verdon, utiisation d'une seconde API (Elle est plus restrictive en termes du nombre de requete, c'est pour celà que la préédente API a été favorisée)\n",
    "def rechercher_coordonnees(lieux):\n",
    "    url = \"https://nominatim.openstreetmap.org/search\"\n",
    "    coordonnees = []\n",
    "\n",
    "    headers = {\n",
    "        'User-Agent': 'Mozilla/5.0 (Windows NT 10.0; Win64; x64) AppleWebKit/537.36 (KHTML, like Gecko) Chrome/58.0.3029.110 Safari/537.3'    }\n",
    "\n",
    "    for lieu in lieux:\n",
    "        params = {\n",
    "            'q': lieu,\n",
    "            'format': 'json',\n",
    "            'limit': 1\n",
    "        }\n",
    "\n",
    "        response = requests.get(url, params=params, headers=headers)\n",
    "\n",
    "        if response.status_code == 200:\n",
    "            data = response.json()\n",
    "            if data:\n",
    "                address = data[0].get('address', {})\n",
    "                coordonnees.append({\n",
    "                    'cities': lieu,\n",
    "                    'name': address.get('city'),\n",
    "                    'country': address.get('country'), #information non trouvée avec l'API\n",
    "                    'state': address.get('state'), #information non trouvée avec l'API\n",
    "                    'lat': data[0].get('lat'),\n",
    "                    'lon': data[0].get('lon'),\n",
    "                })\n",
    "            else:\n",
    "                coordonnees.append({\n",
    "                    'cities': lieu,\n",
    "                    'name': None,\n",
    "                    'country': None,\n",
    "                    'state': None,\n",
    "                    'lat': None,\n",
    "                    'lon': None\n",
    "\n",
    "                })\n",
    "        else:\n",
    "            print(f\"Erreur lors de la requête pour {lieu} :\", response.status_code)\n",
    "            coordonnees.append({\n",
    "                    'cities': lieu,\n",
    "                    'name': None,\n",
    "                    'country': None,\n",
    "                    'state': None,\n",
    "                    'lat': None,\n",
    "                    'lon': None,\n",
    "            })\n",
    "\n",
    "        # Attendre un peu entre les requêtes pour éviter de dépasser les limites\n",
    "        time.sleep(1)\n",
    "\n",
    "    return coordonnees\n",
    "\n",
    "\n",
    "coordonnees = rechercher_coordonnees([\"Gorges du Verdon\"])\n",
    "print(coordonnees)\n"
   ]
  },
  {
   "cell_type": "code",
   "execution_count": 10,
   "metadata": {},
   "outputs": [
    {
     "data": {
      "text/html": [
       "<div>\n",
       "<style scoped>\n",
       "    .dataframe tbody tr th:only-of-type {\n",
       "        vertical-align: middle;\n",
       "    }\n",
       "\n",
       "    .dataframe tbody tr th {\n",
       "        vertical-align: top;\n",
       "    }\n",
       "\n",
       "    .dataframe thead th {\n",
       "        text-align: right;\n",
       "    }\n",
       "</style>\n",
       "<table border=\"1\" class=\"dataframe\">\n",
       "  <thead>\n",
       "    <tr style=\"text-align: right;\">\n",
       "      <th></th>\n",
       "      <th>cities</th>\n",
       "      <th>name</th>\n",
       "      <th>country</th>\n",
       "      <th>state</th>\n",
       "      <th>lat</th>\n",
       "      <th>lon</th>\n",
       "    </tr>\n",
       "  </thead>\n",
       "  <tbody>\n",
       "    <tr>\n",
       "      <th>0</th>\n",
       "      <td>Gorges du Verdon</td>\n",
       "      <td>None</td>\n",
       "      <td>None</td>\n",
       "      <td>None</td>\n",
       "      <td>43.7496562</td>\n",
       "      <td>6.3285616</td>\n",
       "    </tr>\n",
       "  </tbody>\n",
       "</table>\n",
       "</div>"
      ],
      "text/plain": [
       "             cities  name country state         lat        lon\n",
       "0  Gorges du Verdon  None    None  None  43.7496562  6.3285616"
      ]
     },
     "execution_count": 10,
     "metadata": {},
     "output_type": "execute_result"
    }
   ],
   "source": [
    "#réalisation d'un dataframe avec le même colonage que le dataframe initial\n",
    "gdv = pd.DataFrame(coordonnees)\n",
    "gdv"
   ]
  },
  {
   "cell_type": "code",
   "execution_count": 11,
   "metadata": {},
   "outputs": [
    {
     "data": {
      "text/html": [
       "<div>\n",
       "<style scoped>\n",
       "    .dataframe tbody tr th:only-of-type {\n",
       "        vertical-align: middle;\n",
       "    }\n",
       "\n",
       "    .dataframe tbody tr th {\n",
       "        vertical-align: top;\n",
       "    }\n",
       "\n",
       "    .dataframe thead th {\n",
       "        text-align: right;\n",
       "    }\n",
       "</style>\n",
       "<table border=\"1\" class=\"dataframe\">\n",
       "  <thead>\n",
       "    <tr style=\"text-align: right;\">\n",
       "      <th></th>\n",
       "      <th>cities</th>\n",
       "      <th>name</th>\n",
       "      <th>country</th>\n",
       "      <th>state</th>\n",
       "      <th>lat</th>\n",
       "      <th>lon</th>\n",
       "    </tr>\n",
       "  </thead>\n",
       "  <tbody>\n",
       "    <tr>\n",
       "      <th>0</th>\n",
       "      <td>Mont Saint Michel</td>\n",
       "      <td>Mont Saint-Michel</td>\n",
       "      <td>FR</td>\n",
       "      <td>Normandy</td>\n",
       "      <td>48.635954</td>\n",
       "      <td>-1.51146</td>\n",
       "    </tr>\n",
       "    <tr>\n",
       "      <th>1</th>\n",
       "      <td>St Malo</td>\n",
       "      <td>Saint-Malo</td>\n",
       "      <td>FR</td>\n",
       "      <td>Brittany</td>\n",
       "      <td>48.649518</td>\n",
       "      <td>-2.026041</td>\n",
       "    </tr>\n",
       "    <tr>\n",
       "      <th>2</th>\n",
       "      <td>Bayeux</td>\n",
       "      <td>Bayeux</td>\n",
       "      <td>FR</td>\n",
       "      <td>Normandy</td>\n",
       "      <td>49.276462</td>\n",
       "      <td>-0.702474</td>\n",
       "    </tr>\n",
       "    <tr>\n",
       "      <th>3</th>\n",
       "      <td>Le Havre</td>\n",
       "      <td>Le Havre</td>\n",
       "      <td>FR</td>\n",
       "      <td>Normandy</td>\n",
       "      <td>49.493898</td>\n",
       "      <td>0.107973</td>\n",
       "    </tr>\n",
       "    <tr>\n",
       "      <th>4</th>\n",
       "      <td>Rouen</td>\n",
       "      <td>Rouen</td>\n",
       "      <td>FR</td>\n",
       "      <td>Normandy</td>\n",
       "      <td>49.440459</td>\n",
       "      <td>1.093966</td>\n",
       "    </tr>\n",
       "    <tr>\n",
       "      <th>5</th>\n",
       "      <td>Paris</td>\n",
       "      <td>Paris</td>\n",
       "      <td>FR</td>\n",
       "      <td>Ile-de-France</td>\n",
       "      <td>48.85889</td>\n",
       "      <td>2.320041</td>\n",
       "    </tr>\n",
       "    <tr>\n",
       "      <th>6</th>\n",
       "      <td>Amiens</td>\n",
       "      <td>Amiens</td>\n",
       "      <td>FR</td>\n",
       "      <td>Hauts-de-France</td>\n",
       "      <td>49.894171</td>\n",
       "      <td>2.295695</td>\n",
       "    </tr>\n",
       "    <tr>\n",
       "      <th>7</th>\n",
       "      <td>Lille</td>\n",
       "      <td>Lille</td>\n",
       "      <td>FR</td>\n",
       "      <td>Hauts-de-France</td>\n",
       "      <td>50.636565</td>\n",
       "      <td>3.063528</td>\n",
       "    </tr>\n",
       "    <tr>\n",
       "      <th>8</th>\n",
       "      <td>Strasbourg</td>\n",
       "      <td>Strasbourg</td>\n",
       "      <td>FR</td>\n",
       "      <td>Grand Est</td>\n",
       "      <td>48.584614</td>\n",
       "      <td>7.750713</td>\n",
       "    </tr>\n",
       "    <tr>\n",
       "      <th>9</th>\n",
       "      <td>Chateau du Haut Koenigsbourg</td>\n",
       "      <td>Château du Haut-Kœnigsbourg</td>\n",
       "      <td>FR</td>\n",
       "      <td>Grand Est</td>\n",
       "      <td>48.249523</td>\n",
       "      <td>7.345492</td>\n",
       "    </tr>\n",
       "    <tr>\n",
       "      <th>10</th>\n",
       "      <td>Colmar</td>\n",
       "      <td>Colmar</td>\n",
       "      <td>FR</td>\n",
       "      <td>Grand Est</td>\n",
       "      <td>48.077752</td>\n",
       "      <td>7.357964</td>\n",
       "    </tr>\n",
       "    <tr>\n",
       "      <th>11</th>\n",
       "      <td>Eguisheim</td>\n",
       "      <td>Eguisheim</td>\n",
       "      <td>FR</td>\n",
       "      <td>Grand Est</td>\n",
       "      <td>48.044797</td>\n",
       "      <td>7.307962</td>\n",
       "    </tr>\n",
       "    <tr>\n",
       "      <th>12</th>\n",
       "      <td>Besancon</td>\n",
       "      <td>Besançon</td>\n",
       "      <td>FR</td>\n",
       "      <td>Bourgogne-Franche-Comté</td>\n",
       "      <td>47.238022</td>\n",
       "      <td>6.024362</td>\n",
       "    </tr>\n",
       "    <tr>\n",
       "      <th>13</th>\n",
       "      <td>Dijon</td>\n",
       "      <td>Dijon</td>\n",
       "      <td>FR</td>\n",
       "      <td>Bourgogne-Franche-Comté</td>\n",
       "      <td>47.321581</td>\n",
       "      <td>5.04147</td>\n",
       "    </tr>\n",
       "    <tr>\n",
       "      <th>14</th>\n",
       "      <td>Annecy</td>\n",
       "      <td>Annecy</td>\n",
       "      <td>FR</td>\n",
       "      <td>Auvergne-Rhône-Alpes</td>\n",
       "      <td>45.899235</td>\n",
       "      <td>6.128885</td>\n",
       "    </tr>\n",
       "    <tr>\n",
       "      <th>15</th>\n",
       "      <td>Grenoble</td>\n",
       "      <td>Grenoble</td>\n",
       "      <td>FR</td>\n",
       "      <td>Auvergne-Rhône-Alpes</td>\n",
       "      <td>45.18756</td>\n",
       "      <td>5.735782</td>\n",
       "    </tr>\n",
       "    <tr>\n",
       "      <th>16</th>\n",
       "      <td>Lyon</td>\n",
       "      <td>Lyon</td>\n",
       "      <td>FR</td>\n",
       "      <td>Auvergne-Rhône-Alpes</td>\n",
       "      <td>45.757814</td>\n",
       "      <td>4.832011</td>\n",
       "    </tr>\n",
       "    <tr>\n",
       "      <th>17</th>\n",
       "      <td>Bormes les Mimosas</td>\n",
       "      <td>Bormes-les-Mimosas</td>\n",
       "      <td>FR</td>\n",
       "      <td>Provence-Alpes-Côte d'Azur</td>\n",
       "      <td>43.150697</td>\n",
       "      <td>6.341928</td>\n",
       "    </tr>\n",
       "    <tr>\n",
       "      <th>18</th>\n",
       "      <td>Cassis</td>\n",
       "      <td>Cassis</td>\n",
       "      <td>FR</td>\n",
       "      <td>Provence-Alpes-Côte d'Azur</td>\n",
       "      <td>43.214036</td>\n",
       "      <td>5.539632</td>\n",
       "    </tr>\n",
       "    <tr>\n",
       "      <th>19</th>\n",
       "      <td>Marseille</td>\n",
       "      <td>Marseille</td>\n",
       "      <td>FR</td>\n",
       "      <td>Provence-Alpes-Côte d'Azur</td>\n",
       "      <td>43.296174</td>\n",
       "      <td>5.369953</td>\n",
       "    </tr>\n",
       "    <tr>\n",
       "      <th>20</th>\n",
       "      <td>Aix en Provence</td>\n",
       "      <td>Aix-en-Provence</td>\n",
       "      <td>FR</td>\n",
       "      <td>Provence-Alpes-Côte d'Azur</td>\n",
       "      <td>43.529842</td>\n",
       "      <td>5.447474</td>\n",
       "    </tr>\n",
       "    <tr>\n",
       "      <th>21</th>\n",
       "      <td>Avignon</td>\n",
       "      <td>Avignon</td>\n",
       "      <td>FR</td>\n",
       "      <td>Provence-Alpes-Côte d'Azur</td>\n",
       "      <td>43.949249</td>\n",
       "      <td>4.805901</td>\n",
       "    </tr>\n",
       "    <tr>\n",
       "      <th>22</th>\n",
       "      <td>Uzes</td>\n",
       "      <td>Uzès</td>\n",
       "      <td>FR</td>\n",
       "      <td>Occitania</td>\n",
       "      <td>44.012128</td>\n",
       "      <td>4.419672</td>\n",
       "    </tr>\n",
       "    <tr>\n",
       "      <th>23</th>\n",
       "      <td>Nimes</td>\n",
       "      <td>Nimes</td>\n",
       "      <td>FR</td>\n",
       "      <td>Occitania</td>\n",
       "      <td>43.837425</td>\n",
       "      <td>4.360069</td>\n",
       "    </tr>\n",
       "    <tr>\n",
       "      <th>24</th>\n",
       "      <td>Aigues Mortes</td>\n",
       "      <td>Aigues-Mortes</td>\n",
       "      <td>FR</td>\n",
       "      <td>Occitania</td>\n",
       "      <td>43.565823</td>\n",
       "      <td>4.191284</td>\n",
       "    </tr>\n",
       "    <tr>\n",
       "      <th>25</th>\n",
       "      <td>Saintes Maries de la mer</td>\n",
       "      <td>Saintes-Maries-de-la-Mer</td>\n",
       "      <td>FR</td>\n",
       "      <td>Provence-Alpes-Côte d'Azur</td>\n",
       "      <td>43.452277</td>\n",
       "      <td>4.428717</td>\n",
       "    </tr>\n",
       "    <tr>\n",
       "      <th>26</th>\n",
       "      <td>Collioure</td>\n",
       "      <td>Collioure</td>\n",
       "      <td>FR</td>\n",
       "      <td>Occitania</td>\n",
       "      <td>42.52505</td>\n",
       "      <td>3.083155</td>\n",
       "    </tr>\n",
       "    <tr>\n",
       "      <th>27</th>\n",
       "      <td>Carcassonne</td>\n",
       "      <td>Carcassonne</td>\n",
       "      <td>FR</td>\n",
       "      <td>Occitania</td>\n",
       "      <td>43.213036</td>\n",
       "      <td>2.349107</td>\n",
       "    </tr>\n",
       "    <tr>\n",
       "      <th>28</th>\n",
       "      <td>Ariege</td>\n",
       "      <td>Tarascon-sur-Ariège</td>\n",
       "      <td>FR</td>\n",
       "      <td>Occitania</td>\n",
       "      <td>42.845802</td>\n",
       "      <td>1.606759</td>\n",
       "    </tr>\n",
       "    <tr>\n",
       "      <th>29</th>\n",
       "      <td>Toulouse</td>\n",
       "      <td>Toulouse</td>\n",
       "      <td>FR</td>\n",
       "      <td>Occitania</td>\n",
       "      <td>43.604462</td>\n",
       "      <td>1.444247</td>\n",
       "    </tr>\n",
       "    <tr>\n",
       "      <th>30</th>\n",
       "      <td>Montauban</td>\n",
       "      <td>Montauban</td>\n",
       "      <td>FR</td>\n",
       "      <td>Occitania</td>\n",
       "      <td>44.017584</td>\n",
       "      <td>1.354999</td>\n",
       "    </tr>\n",
       "    <tr>\n",
       "      <th>31</th>\n",
       "      <td>Biarritz</td>\n",
       "      <td>Biarritz</td>\n",
       "      <td>FR</td>\n",
       "      <td>Nouvelle-Aquitaine</td>\n",
       "      <td>43.483252</td>\n",
       "      <td>-1.559278</td>\n",
       "    </tr>\n",
       "    <tr>\n",
       "      <th>32</th>\n",
       "      <td>Bayonne</td>\n",
       "      <td>Bayonne</td>\n",
       "      <td>FR</td>\n",
       "      <td>Nouvelle-Aquitaine</td>\n",
       "      <td>43.494514</td>\n",
       "      <td>-1.473666</td>\n",
       "    </tr>\n",
       "    <tr>\n",
       "      <th>33</th>\n",
       "      <td>La Rochelle</td>\n",
       "      <td>La Rochelle</td>\n",
       "      <td>FR</td>\n",
       "      <td>Nouvelle-Aquitaine</td>\n",
       "      <td>46.159113</td>\n",
       "      <td>-1.152043</td>\n",
       "    </tr>\n",
       "    <tr>\n",
       "      <th>34</th>\n",
       "      <td>Gorges du Verdon</td>\n",
       "      <td>None</td>\n",
       "      <td>None</td>\n",
       "      <td>None</td>\n",
       "      <td>43.7496562</td>\n",
       "      <td>6.3285616</td>\n",
       "    </tr>\n",
       "  </tbody>\n",
       "</table>\n",
       "</div>"
      ],
      "text/plain": [
       "                          cities                         name country  \\\n",
       "0              Mont Saint Michel            Mont Saint-Michel      FR   \n",
       "1                        St Malo                   Saint-Malo      FR   \n",
       "2                         Bayeux                       Bayeux      FR   \n",
       "3                       Le Havre                     Le Havre      FR   \n",
       "4                          Rouen                        Rouen      FR   \n",
       "5                          Paris                        Paris      FR   \n",
       "6                         Amiens                       Amiens      FR   \n",
       "7                          Lille                        Lille      FR   \n",
       "8                     Strasbourg                   Strasbourg      FR   \n",
       "9   Chateau du Haut Koenigsbourg  Château du Haut-Kœnigsbourg      FR   \n",
       "10                        Colmar                       Colmar      FR   \n",
       "11                     Eguisheim                    Eguisheim      FR   \n",
       "12                      Besancon                     Besançon      FR   \n",
       "13                         Dijon                        Dijon      FR   \n",
       "14                        Annecy                       Annecy      FR   \n",
       "15                      Grenoble                     Grenoble      FR   \n",
       "16                          Lyon                         Lyon      FR   \n",
       "17            Bormes les Mimosas           Bormes-les-Mimosas      FR   \n",
       "18                        Cassis                       Cassis      FR   \n",
       "19                     Marseille                    Marseille      FR   \n",
       "20               Aix en Provence              Aix-en-Provence      FR   \n",
       "21                       Avignon                      Avignon      FR   \n",
       "22                          Uzes                         Uzès      FR   \n",
       "23                         Nimes                        Nimes      FR   \n",
       "24                 Aigues Mortes                Aigues-Mortes      FR   \n",
       "25      Saintes Maries de la mer     Saintes-Maries-de-la-Mer      FR   \n",
       "26                     Collioure                    Collioure      FR   \n",
       "27                   Carcassonne                  Carcassonne      FR   \n",
       "28                        Ariege          Tarascon-sur-Ariège      FR   \n",
       "29                      Toulouse                     Toulouse      FR   \n",
       "30                     Montauban                    Montauban      FR   \n",
       "31                      Biarritz                     Biarritz      FR   \n",
       "32                       Bayonne                      Bayonne      FR   \n",
       "33                   La Rochelle                  La Rochelle      FR   \n",
       "34              Gorges du Verdon                         None    None   \n",
       "\n",
       "                         state         lat        lon  \n",
       "0                     Normandy   48.635954   -1.51146  \n",
       "1                     Brittany   48.649518  -2.026041  \n",
       "2                     Normandy   49.276462  -0.702474  \n",
       "3                     Normandy   49.493898   0.107973  \n",
       "4                     Normandy   49.440459   1.093966  \n",
       "5                Ile-de-France    48.85889   2.320041  \n",
       "6              Hauts-de-France   49.894171   2.295695  \n",
       "7              Hauts-de-France   50.636565   3.063528  \n",
       "8                    Grand Est   48.584614   7.750713  \n",
       "9                    Grand Est   48.249523   7.345492  \n",
       "10                   Grand Est   48.077752   7.357964  \n",
       "11                   Grand Est   48.044797   7.307962  \n",
       "12     Bourgogne-Franche-Comté   47.238022   6.024362  \n",
       "13     Bourgogne-Franche-Comté   47.321581    5.04147  \n",
       "14        Auvergne-Rhône-Alpes   45.899235   6.128885  \n",
       "15        Auvergne-Rhône-Alpes    45.18756   5.735782  \n",
       "16        Auvergne-Rhône-Alpes   45.757814   4.832011  \n",
       "17  Provence-Alpes-Côte d'Azur   43.150697   6.341928  \n",
       "18  Provence-Alpes-Côte d'Azur   43.214036   5.539632  \n",
       "19  Provence-Alpes-Côte d'Azur   43.296174   5.369953  \n",
       "20  Provence-Alpes-Côte d'Azur   43.529842   5.447474  \n",
       "21  Provence-Alpes-Côte d'Azur   43.949249   4.805901  \n",
       "22                   Occitania   44.012128   4.419672  \n",
       "23                   Occitania   43.837425   4.360069  \n",
       "24                   Occitania   43.565823   4.191284  \n",
       "25  Provence-Alpes-Côte d'Azur   43.452277   4.428717  \n",
       "26                   Occitania    42.52505   3.083155  \n",
       "27                   Occitania   43.213036   2.349107  \n",
       "28                   Occitania   42.845802   1.606759  \n",
       "29                   Occitania   43.604462   1.444247  \n",
       "30                   Occitania   44.017584   1.354999  \n",
       "31          Nouvelle-Aquitaine   43.483252  -1.559278  \n",
       "32          Nouvelle-Aquitaine   43.494514  -1.473666  \n",
       "33          Nouvelle-Aquitaine   46.159113  -1.152043  \n",
       "34                        None  43.7496562  6.3285616  "
      ]
     },
     "execution_count": 11,
     "metadata": {},
     "output_type": "execute_result"
    }
   ],
   "source": [
    "#Fusion des deux dataframes\n",
    "df_merged = pd.concat([df, gdv], ignore_index=True)\n",
    "df_merged"
   ]
  },
  {
   "cell_type": "code",
   "execution_count": 71,
   "metadata": {},
   "outputs": [
    {
     "data": {
      "text/html": [
       "<div style=\"width:100%;\"><div style=\"position:relative;width:100%;height:0;padding-bottom:60%;\"><span style=\"color:#565656\">Make this Notebook Trusted to load map: File -> Trust Notebook</span><iframe srcdoc=\"&lt;!DOCTYPE html&gt;\n",
       "&lt;html&gt;\n",
       "&lt;head&gt;\n",
       "    \n",
       "    &lt;meta http-equiv=&quot;content-type&quot; content=&quot;text/html; charset=UTF-8&quot; /&gt;\n",
       "    \n",
       "        &lt;script&gt;\n",
       "            L_NO_TOUCH = false;\n",
       "            L_DISABLE_3D = false;\n",
       "        &lt;/script&gt;\n",
       "    \n",
       "    &lt;style&gt;html, body {width: 100%;height: 100%;margin: 0;padding: 0;}&lt;/style&gt;\n",
       "    &lt;style&gt;#map {position:absolute;top:0;bottom:0;right:0;left:0;}&lt;/style&gt;\n",
       "    &lt;script src=&quot;https://cdn.jsdelivr.net/npm/leaflet@1.9.3/dist/leaflet.js&quot;&gt;&lt;/script&gt;\n",
       "    &lt;script src=&quot;https://code.jquery.com/jquery-3.7.1.min.js&quot;&gt;&lt;/script&gt;\n",
       "    &lt;script src=&quot;https://cdn.jsdelivr.net/npm/bootstrap@5.2.2/dist/js/bootstrap.bundle.min.js&quot;&gt;&lt;/script&gt;\n",
       "    &lt;script src=&quot;https://cdnjs.cloudflare.com/ajax/libs/Leaflet.awesome-markers/2.0.2/leaflet.awesome-markers.js&quot;&gt;&lt;/script&gt;\n",
       "    &lt;link rel=&quot;stylesheet&quot; href=&quot;https://cdn.jsdelivr.net/npm/leaflet@1.9.3/dist/leaflet.css&quot;/&gt;\n",
       "    &lt;link rel=&quot;stylesheet&quot; href=&quot;https://cdn.jsdelivr.net/npm/bootstrap@5.2.2/dist/css/bootstrap.min.css&quot;/&gt;\n",
       "    &lt;link rel=&quot;stylesheet&quot; href=&quot;https://netdna.bootstrapcdn.com/bootstrap/3.0.0/css/bootstrap-glyphicons.css&quot;/&gt;\n",
       "    &lt;link rel=&quot;stylesheet&quot; href=&quot;https://cdn.jsdelivr.net/npm/@fortawesome/fontawesome-free@6.2.0/css/all.min.css&quot;/&gt;\n",
       "    &lt;link rel=&quot;stylesheet&quot; href=&quot;https://cdnjs.cloudflare.com/ajax/libs/Leaflet.awesome-markers/2.0.2/leaflet.awesome-markers.css&quot;/&gt;\n",
       "    &lt;link rel=&quot;stylesheet&quot; href=&quot;https://cdn.jsdelivr.net/gh/python-visualization/folium/folium/templates/leaflet.awesome.rotate.min.css&quot;/&gt;\n",
       "    \n",
       "            &lt;meta name=&quot;viewport&quot; content=&quot;width=device-width,\n",
       "                initial-scale=1.0, maximum-scale=1.0, user-scalable=no&quot; /&gt;\n",
       "            &lt;style&gt;\n",
       "                #map_cb9109bdbfb085336a632564b32b5316 {\n",
       "                    position: relative;\n",
       "                    width: 100.0%;\n",
       "                    height: 100.0%;\n",
       "                    left: 0.0%;\n",
       "                    top: 0.0%;\n",
       "                }\n",
       "                .leaflet-container { font-size: 1rem; }\n",
       "            &lt;/style&gt;\n",
       "        \n",
       "&lt;/head&gt;\n",
       "&lt;body&gt;\n",
       "    \n",
       "    \n",
       "            &lt;div class=&quot;folium-map&quot; id=&quot;map_cb9109bdbfb085336a632564b32b5316&quot; &gt;&lt;/div&gt;\n",
       "        \n",
       "&lt;/body&gt;\n",
       "&lt;script&gt;\n",
       "    \n",
       "    \n",
       "            var map_cb9109bdbfb085336a632564b32b5316 = L.map(\n",
       "                &quot;map_cb9109bdbfb085336a632564b32b5316&quot;,\n",
       "                {\n",
       "                    center: [46.603354, 1.888334],\n",
       "                    crs: L.CRS.EPSG3857,\n",
       "                    ...{\n",
       "  &quot;zoom&quot;: 6,\n",
       "  &quot;zoomControl&quot;: true,\n",
       "  &quot;preferCanvas&quot;: false,\n",
       "}\n",
       "\n",
       "                }\n",
       "            );\n",
       "\n",
       "            \n",
       "\n",
       "        \n",
       "    \n",
       "            var tile_layer_e36486f1eedaa87190eafb68dfbf767b = L.tileLayer(\n",
       "                &quot;https://tile.openstreetmap.org/{z}/{x}/{y}.png&quot;,\n",
       "                {\n",
       "  &quot;minZoom&quot;: 0,\n",
       "  &quot;maxZoom&quot;: 19,\n",
       "  &quot;maxNativeZoom&quot;: 19,\n",
       "  &quot;noWrap&quot;: false,\n",
       "  &quot;attribution&quot;: &quot;\\u0026copy; \\u003ca href=\\&quot;https://www.openstreetmap.org/copyright\\&quot;\\u003eOpenStreetMap\\u003c/a\\u003e contributors&quot;,\n",
       "  &quot;subdomains&quot;: &quot;abc&quot;,\n",
       "  &quot;detectRetina&quot;: false,\n",
       "  &quot;tms&quot;: false,\n",
       "  &quot;opacity&quot;: 1,\n",
       "}\n",
       "\n",
       "            );\n",
       "        \n",
       "    \n",
       "            tile_layer_e36486f1eedaa87190eafb68dfbf767b.addTo(map_cb9109bdbfb085336a632564b32b5316);\n",
       "        \n",
       "    \n",
       "            var marker_7c2330420d99b2b6c2d46d1f3f67438c = L.marker(\n",
       "                [48.6359541, -1.511459954959514],\n",
       "                {\n",
       "}\n",
       "            ).addTo(map_cb9109bdbfb085336a632564b32b5316);\n",
       "        \n",
       "    \n",
       "        var custom_icon_cf67b20df7140a9cf6e1798c67c2a6ed = L.icon({\n",
       "  &quot;iconUrl&quot;: &quot;https://images.icon-icons.com/3565/PNG/512/tree_flower_plant_nature_landscape_icon_225325.png&quot;,\n",
       "  &quot;iconSize&quot;: [40, 40],\n",
       "});\n",
       "        marker_7c2330420d99b2b6c2d46d1f3f67438c.setIcon(custom_icon_cf67b20df7140a9cf6e1798c67c2a6ed);\n",
       "        \n",
       "    \n",
       "        var popup_83a86bb9a1481f66923d3677b2fac4d8 = L.popup({\n",
       "  &quot;maxWidth&quot;: &quot;100%&quot;,\n",
       "});\n",
       "\n",
       "        \n",
       "            \n",
       "                var html_3c4eb819953397548661d348146e97bd = $(`&lt;div id=&quot;html_3c4eb819953397548661d348146e97bd&quot; style=&quot;width: 100.0%; height: 100.0%;&quot;&gt;Mont Saint Michel&lt;/div&gt;`)[0];\n",
       "                popup_83a86bb9a1481f66923d3677b2fac4d8.setContent(html_3c4eb819953397548661d348146e97bd);\n",
       "            \n",
       "        \n",
       "\n",
       "        marker_7c2330420d99b2b6c2d46d1f3f67438c.bindPopup(popup_83a86bb9a1481f66923d3677b2fac4d8)\n",
       "        ;\n",
       "\n",
       "        \n",
       "    \n",
       "    \n",
       "                marker_7c2330420d99b2b6c2d46d1f3f67438c.setIcon(custom_icon_cf67b20df7140a9cf6e1798c67c2a6ed);\n",
       "            \n",
       "    \n",
       "            var marker_ab9bd00f9dfdf3cc9f0d26331894df40 = L.marker(\n",
       "                [48.649518, -2.0260409],\n",
       "                {\n",
       "}\n",
       "            ).addTo(map_cb9109bdbfb085336a632564b32b5316);\n",
       "        \n",
       "    \n",
       "        var custom_icon_b4d92e08b48bc20d5513b7a845551f86 = L.icon({\n",
       "  &quot;iconUrl&quot;: &quot;https://images.icon-icons.com/3565/PNG/512/tree_flower_plant_nature_landscape_icon_225325.png&quot;,\n",
       "  &quot;iconSize&quot;: [40, 40],\n",
       "});\n",
       "        marker_ab9bd00f9dfdf3cc9f0d26331894df40.setIcon(custom_icon_b4d92e08b48bc20d5513b7a845551f86);\n",
       "        \n",
       "    \n",
       "        var popup_d90d78b3ae34275cfc54ed643ae6b153 = L.popup({\n",
       "  &quot;maxWidth&quot;: &quot;100%&quot;,\n",
       "});\n",
       "\n",
       "        \n",
       "            \n",
       "                var html_de4b311ce922ea032d45ab1e69fcf510 = $(`&lt;div id=&quot;html_de4b311ce922ea032d45ab1e69fcf510&quot; style=&quot;width: 100.0%; height: 100.0%;&quot;&gt;St Malo&lt;/div&gt;`)[0];\n",
       "                popup_d90d78b3ae34275cfc54ed643ae6b153.setContent(html_de4b311ce922ea032d45ab1e69fcf510);\n",
       "            \n",
       "        \n",
       "\n",
       "        marker_ab9bd00f9dfdf3cc9f0d26331894df40.bindPopup(popup_d90d78b3ae34275cfc54ed643ae6b153)\n",
       "        ;\n",
       "\n",
       "        \n",
       "    \n",
       "    \n",
       "                marker_ab9bd00f9dfdf3cc9f0d26331894df40.setIcon(custom_icon_b4d92e08b48bc20d5513b7a845551f86);\n",
       "            \n",
       "    \n",
       "            var marker_611386b564e4646ef6c8ed9a123b8d8b = L.marker(\n",
       "                [49.2764624, -0.7024738],\n",
       "                {\n",
       "}\n",
       "            ).addTo(map_cb9109bdbfb085336a632564b32b5316);\n",
       "        \n",
       "    \n",
       "        var custom_icon_fe3847d2d9b29df1bde60a0cb2ae5b2a = L.icon({\n",
       "  &quot;iconUrl&quot;: &quot;https://images.icon-icons.com/3565/PNG/512/tree_flower_plant_nature_landscape_icon_225325.png&quot;,\n",
       "  &quot;iconSize&quot;: [40, 40],\n",
       "});\n",
       "        marker_611386b564e4646ef6c8ed9a123b8d8b.setIcon(custom_icon_fe3847d2d9b29df1bde60a0cb2ae5b2a);\n",
       "        \n",
       "    \n",
       "        var popup_3dd9b2d43a13309d45ce0ab3bc46efeb = L.popup({\n",
       "  &quot;maxWidth&quot;: &quot;100%&quot;,\n",
       "});\n",
       "\n",
       "        \n",
       "            \n",
       "                var html_1d59d49705ca996d6d92c746f15270c0 = $(`&lt;div id=&quot;html_1d59d49705ca996d6d92c746f15270c0&quot; style=&quot;width: 100.0%; height: 100.0%;&quot;&gt;Bayeux&lt;/div&gt;`)[0];\n",
       "                popup_3dd9b2d43a13309d45ce0ab3bc46efeb.setContent(html_1d59d49705ca996d6d92c746f15270c0);\n",
       "            \n",
       "        \n",
       "\n",
       "        marker_611386b564e4646ef6c8ed9a123b8d8b.bindPopup(popup_3dd9b2d43a13309d45ce0ab3bc46efeb)\n",
       "        ;\n",
       "\n",
       "        \n",
       "    \n",
       "    \n",
       "                marker_611386b564e4646ef6c8ed9a123b8d8b.setIcon(custom_icon_fe3847d2d9b29df1bde60a0cb2ae5b2a);\n",
       "            \n",
       "    \n",
       "            var marker_8c64dd38bcd2f4153b27e1813f821ac2 = L.marker(\n",
       "                [49.4938975, 0.1079732],\n",
       "                {\n",
       "}\n",
       "            ).addTo(map_cb9109bdbfb085336a632564b32b5316);\n",
       "        \n",
       "    \n",
       "        var custom_icon_b5648431814643ea370610b5e9489a82 = L.icon({\n",
       "  &quot;iconUrl&quot;: &quot;https://images.icon-icons.com/3565/PNG/512/tree_flower_plant_nature_landscape_icon_225325.png&quot;,\n",
       "  &quot;iconSize&quot;: [40, 40],\n",
       "});\n",
       "        marker_8c64dd38bcd2f4153b27e1813f821ac2.setIcon(custom_icon_b5648431814643ea370610b5e9489a82);\n",
       "        \n",
       "    \n",
       "        var popup_e02825bf07c92c70205761cce2e9b9a4 = L.popup({\n",
       "  &quot;maxWidth&quot;: &quot;100%&quot;,\n",
       "});\n",
       "\n",
       "        \n",
       "            \n",
       "                var html_46b4ecf83fc90998fb0ff291941daa3b = $(`&lt;div id=&quot;html_46b4ecf83fc90998fb0ff291941daa3b&quot; style=&quot;width: 100.0%; height: 100.0%;&quot;&gt;Le Havre&lt;/div&gt;`)[0];\n",
       "                popup_e02825bf07c92c70205761cce2e9b9a4.setContent(html_46b4ecf83fc90998fb0ff291941daa3b);\n",
       "            \n",
       "        \n",
       "\n",
       "        marker_8c64dd38bcd2f4153b27e1813f821ac2.bindPopup(popup_e02825bf07c92c70205761cce2e9b9a4)\n",
       "        ;\n",
       "\n",
       "        \n",
       "    \n",
       "    \n",
       "                marker_8c64dd38bcd2f4153b27e1813f821ac2.setIcon(custom_icon_b5648431814643ea370610b5e9489a82);\n",
       "            \n",
       "    \n",
       "            var marker_2c46dd8e1d14c0d9063f0855b1d1f8d4 = L.marker(\n",
       "                [49.4404591, 1.0939658],\n",
       "                {\n",
       "}\n",
       "            ).addTo(map_cb9109bdbfb085336a632564b32b5316);\n",
       "        \n",
       "    \n",
       "        var custom_icon_aef602aaae895b104e95cbb826caee36 = L.icon({\n",
       "  &quot;iconUrl&quot;: &quot;https://images.icon-icons.com/3565/PNG/512/tree_flower_plant_nature_landscape_icon_225325.png&quot;,\n",
       "  &quot;iconSize&quot;: [40, 40],\n",
       "});\n",
       "        marker_2c46dd8e1d14c0d9063f0855b1d1f8d4.setIcon(custom_icon_aef602aaae895b104e95cbb826caee36);\n",
       "        \n",
       "    \n",
       "        var popup_daadb3de97b984c2dcbf949d2e5f2c14 = L.popup({\n",
       "  &quot;maxWidth&quot;: &quot;100%&quot;,\n",
       "});\n",
       "\n",
       "        \n",
       "            \n",
       "                var html_a8449dc8f7c03cf2c03f5f0f1930defb = $(`&lt;div id=&quot;html_a8449dc8f7c03cf2c03f5f0f1930defb&quot; style=&quot;width: 100.0%; height: 100.0%;&quot;&gt;Rouen&lt;/div&gt;`)[0];\n",
       "                popup_daadb3de97b984c2dcbf949d2e5f2c14.setContent(html_a8449dc8f7c03cf2c03f5f0f1930defb);\n",
       "            \n",
       "        \n",
       "\n",
       "        marker_2c46dd8e1d14c0d9063f0855b1d1f8d4.bindPopup(popup_daadb3de97b984c2dcbf949d2e5f2c14)\n",
       "        ;\n",
       "\n",
       "        \n",
       "    \n",
       "    \n",
       "                marker_2c46dd8e1d14c0d9063f0855b1d1f8d4.setIcon(custom_icon_aef602aaae895b104e95cbb826caee36);\n",
       "            \n",
       "    \n",
       "            var marker_5510910e7335138b87f3fbbdedda86f8 = L.marker(\n",
       "                [48.8588897, 2.3200410217200766],\n",
       "                {\n",
       "}\n",
       "            ).addTo(map_cb9109bdbfb085336a632564b32b5316);\n",
       "        \n",
       "    \n",
       "        var custom_icon_7f78b949b8a25846eaf8e55d39f26fba = L.icon({\n",
       "  &quot;iconUrl&quot;: &quot;https://images.icon-icons.com/3565/PNG/512/tree_flower_plant_nature_landscape_icon_225325.png&quot;,\n",
       "  &quot;iconSize&quot;: [40, 40],\n",
       "});\n",
       "        marker_5510910e7335138b87f3fbbdedda86f8.setIcon(custom_icon_7f78b949b8a25846eaf8e55d39f26fba);\n",
       "        \n",
       "    \n",
       "        var popup_611594990b65c4a703428bb24975da78 = L.popup({\n",
       "  &quot;maxWidth&quot;: &quot;100%&quot;,\n",
       "});\n",
       "\n",
       "        \n",
       "            \n",
       "                var html_75078def43fecde97cbde58dd9158f6b = $(`&lt;div id=&quot;html_75078def43fecde97cbde58dd9158f6b&quot; style=&quot;width: 100.0%; height: 100.0%;&quot;&gt;Paris&lt;/div&gt;`)[0];\n",
       "                popup_611594990b65c4a703428bb24975da78.setContent(html_75078def43fecde97cbde58dd9158f6b);\n",
       "            \n",
       "        \n",
       "\n",
       "        marker_5510910e7335138b87f3fbbdedda86f8.bindPopup(popup_611594990b65c4a703428bb24975da78)\n",
       "        ;\n",
       "\n",
       "        \n",
       "    \n",
       "    \n",
       "                marker_5510910e7335138b87f3fbbdedda86f8.setIcon(custom_icon_7f78b949b8a25846eaf8e55d39f26fba);\n",
       "            \n",
       "    \n",
       "            var marker_8a1848efdea1440140fa17a3370593a6 = L.marker(\n",
       "                [49.8941708, 2.2956951],\n",
       "                {\n",
       "}\n",
       "            ).addTo(map_cb9109bdbfb085336a632564b32b5316);\n",
       "        \n",
       "    \n",
       "        var custom_icon_e9f9dc953c3651576b913e2de539ff36 = L.icon({\n",
       "  &quot;iconUrl&quot;: &quot;https://images.icon-icons.com/3565/PNG/512/tree_flower_plant_nature_landscape_icon_225325.png&quot;,\n",
       "  &quot;iconSize&quot;: [40, 40],\n",
       "});\n",
       "        marker_8a1848efdea1440140fa17a3370593a6.setIcon(custom_icon_e9f9dc953c3651576b913e2de539ff36);\n",
       "        \n",
       "    \n",
       "        var popup_44f03e112dc1f5c5401f31525f010f14 = L.popup({\n",
       "  &quot;maxWidth&quot;: &quot;100%&quot;,\n",
       "});\n",
       "\n",
       "        \n",
       "            \n",
       "                var html_93dfef80d4a6e5355488c4dd99f9f93b = $(`&lt;div id=&quot;html_93dfef80d4a6e5355488c4dd99f9f93b&quot; style=&quot;width: 100.0%; height: 100.0%;&quot;&gt;Amiens&lt;/div&gt;`)[0];\n",
       "                popup_44f03e112dc1f5c5401f31525f010f14.setContent(html_93dfef80d4a6e5355488c4dd99f9f93b);\n",
       "            \n",
       "        \n",
       "\n",
       "        marker_8a1848efdea1440140fa17a3370593a6.bindPopup(popup_44f03e112dc1f5c5401f31525f010f14)\n",
       "        ;\n",
       "\n",
       "        \n",
       "    \n",
       "    \n",
       "                marker_8a1848efdea1440140fa17a3370593a6.setIcon(custom_icon_e9f9dc953c3651576b913e2de539ff36);\n",
       "            \n",
       "    \n",
       "            var marker_5d46c23db28fbcd4ffd6d4c30d084f5a = L.marker(\n",
       "                [50.6365654, 3.0635282],\n",
       "                {\n",
       "}\n",
       "            ).addTo(map_cb9109bdbfb085336a632564b32b5316);\n",
       "        \n",
       "    \n",
       "        var custom_icon_dd8d4bb8330c68f57257cbba9038e4ff = L.icon({\n",
       "  &quot;iconUrl&quot;: &quot;https://images.icon-icons.com/3565/PNG/512/tree_flower_plant_nature_landscape_icon_225325.png&quot;,\n",
       "  &quot;iconSize&quot;: [40, 40],\n",
       "});\n",
       "        marker_5d46c23db28fbcd4ffd6d4c30d084f5a.setIcon(custom_icon_dd8d4bb8330c68f57257cbba9038e4ff);\n",
       "        \n",
       "    \n",
       "        var popup_e775cf11075a40e663c9205d81dd450e = L.popup({\n",
       "  &quot;maxWidth&quot;: &quot;100%&quot;,\n",
       "});\n",
       "\n",
       "        \n",
       "            \n",
       "                var html_2247b5d788604a9ebf6f0251f0c916ee = $(`&lt;div id=&quot;html_2247b5d788604a9ebf6f0251f0c916ee&quot; style=&quot;width: 100.0%; height: 100.0%;&quot;&gt;Lille&lt;/div&gt;`)[0];\n",
       "                popup_e775cf11075a40e663c9205d81dd450e.setContent(html_2247b5d788604a9ebf6f0251f0c916ee);\n",
       "            \n",
       "        \n",
       "\n",
       "        marker_5d46c23db28fbcd4ffd6d4c30d084f5a.bindPopup(popup_e775cf11075a40e663c9205d81dd450e)\n",
       "        ;\n",
       "\n",
       "        \n",
       "    \n",
       "    \n",
       "                marker_5d46c23db28fbcd4ffd6d4c30d084f5a.setIcon(custom_icon_dd8d4bb8330c68f57257cbba9038e4ff);\n",
       "            \n",
       "    \n",
       "            var marker_7d2023dff7071fc442f89c73d5acf03d = L.marker(\n",
       "                [48.584614, 7.7507127],\n",
       "                {\n",
       "}\n",
       "            ).addTo(map_cb9109bdbfb085336a632564b32b5316);\n",
       "        \n",
       "    \n",
       "        var custom_icon_660f9891326fba6fbc62e1c6a42bdaa9 = L.icon({\n",
       "  &quot;iconUrl&quot;: &quot;https://images.icon-icons.com/3565/PNG/512/tree_flower_plant_nature_landscape_icon_225325.png&quot;,\n",
       "  &quot;iconSize&quot;: [40, 40],\n",
       "});\n",
       "        marker_7d2023dff7071fc442f89c73d5acf03d.setIcon(custom_icon_660f9891326fba6fbc62e1c6a42bdaa9);\n",
       "        \n",
       "    \n",
       "        var popup_b9f8ca9e33c5bfd5a99813caf4c862f3 = L.popup({\n",
       "  &quot;maxWidth&quot;: &quot;100%&quot;,\n",
       "});\n",
       "\n",
       "        \n",
       "            \n",
       "                var html_e4a30092f5a4989d97b8a012e542d87e = $(`&lt;div id=&quot;html_e4a30092f5a4989d97b8a012e542d87e&quot; style=&quot;width: 100.0%; height: 100.0%;&quot;&gt;Strasbourg&lt;/div&gt;`)[0];\n",
       "                popup_b9f8ca9e33c5bfd5a99813caf4c862f3.setContent(html_e4a30092f5a4989d97b8a012e542d87e);\n",
       "            \n",
       "        \n",
       "\n",
       "        marker_7d2023dff7071fc442f89c73d5acf03d.bindPopup(popup_b9f8ca9e33c5bfd5a99813caf4c862f3)\n",
       "        ;\n",
       "\n",
       "        \n",
       "    \n",
       "    \n",
       "                marker_7d2023dff7071fc442f89c73d5acf03d.setIcon(custom_icon_660f9891326fba6fbc62e1c6a42bdaa9);\n",
       "            \n",
       "    \n",
       "            var marker_657b01858d1eb520f4a4969d2f78b082 = L.marker(\n",
       "                [48.2495226, 7.3454923],\n",
       "                {\n",
       "}\n",
       "            ).addTo(map_cb9109bdbfb085336a632564b32b5316);\n",
       "        \n",
       "    \n",
       "        var custom_icon_75eedbdd337227250f93017749d2a544 = L.icon({\n",
       "  &quot;iconUrl&quot;: &quot;https://images.icon-icons.com/3565/PNG/512/tree_flower_plant_nature_landscape_icon_225325.png&quot;,\n",
       "  &quot;iconSize&quot;: [40, 40],\n",
       "});\n",
       "        marker_657b01858d1eb520f4a4969d2f78b082.setIcon(custom_icon_75eedbdd337227250f93017749d2a544);\n",
       "        \n",
       "    \n",
       "        var popup_0803f0ea46ff4768b3faebc72823d0be = L.popup({\n",
       "  &quot;maxWidth&quot;: &quot;100%&quot;,\n",
       "});\n",
       "\n",
       "        \n",
       "            \n",
       "                var html_17ac2e4f1799daebd4fe9266f41bac36 = $(`&lt;div id=&quot;html_17ac2e4f1799daebd4fe9266f41bac36&quot; style=&quot;width: 100.0%; height: 100.0%;&quot;&gt;Chateau du Haut Koenigsbourg&lt;/div&gt;`)[0];\n",
       "                popup_0803f0ea46ff4768b3faebc72823d0be.setContent(html_17ac2e4f1799daebd4fe9266f41bac36);\n",
       "            \n",
       "        \n",
       "\n",
       "        marker_657b01858d1eb520f4a4969d2f78b082.bindPopup(popup_0803f0ea46ff4768b3faebc72823d0be)\n",
       "        ;\n",
       "\n",
       "        \n",
       "    \n",
       "    \n",
       "                marker_657b01858d1eb520f4a4969d2f78b082.setIcon(custom_icon_75eedbdd337227250f93017749d2a544);\n",
       "            \n",
       "    \n",
       "            var marker_1b78b187dde0a97bd6755d948cf8ba15 = L.marker(\n",
       "                [48.0777517, 7.3579641],\n",
       "                {\n",
       "}\n",
       "            ).addTo(map_cb9109bdbfb085336a632564b32b5316);\n",
       "        \n",
       "    \n",
       "        var custom_icon_2251c46eb87226328004af37afe321e0 = L.icon({\n",
       "  &quot;iconUrl&quot;: &quot;https://images.icon-icons.com/3565/PNG/512/tree_flower_plant_nature_landscape_icon_225325.png&quot;,\n",
       "  &quot;iconSize&quot;: [40, 40],\n",
       "});\n",
       "        marker_1b78b187dde0a97bd6755d948cf8ba15.setIcon(custom_icon_2251c46eb87226328004af37afe321e0);\n",
       "        \n",
       "    \n",
       "        var popup_f2a60c1ccce2fad8bdff1f85d940916f = L.popup({\n",
       "  &quot;maxWidth&quot;: &quot;100%&quot;,\n",
       "});\n",
       "\n",
       "        \n",
       "            \n",
       "                var html_3bd2329afebe21e08ab3772c608b0a44 = $(`&lt;div id=&quot;html_3bd2329afebe21e08ab3772c608b0a44&quot; style=&quot;width: 100.0%; height: 100.0%;&quot;&gt;Colmar&lt;/div&gt;`)[0];\n",
       "                popup_f2a60c1ccce2fad8bdff1f85d940916f.setContent(html_3bd2329afebe21e08ab3772c608b0a44);\n",
       "            \n",
       "        \n",
       "\n",
       "        marker_1b78b187dde0a97bd6755d948cf8ba15.bindPopup(popup_f2a60c1ccce2fad8bdff1f85d940916f)\n",
       "        ;\n",
       "\n",
       "        \n",
       "    \n",
       "    \n",
       "                marker_1b78b187dde0a97bd6755d948cf8ba15.setIcon(custom_icon_2251c46eb87226328004af37afe321e0);\n",
       "            \n",
       "    \n",
       "            var marker_f6d5b2c84f4b34d5e192b7306140e6ec = L.marker(\n",
       "                [48.0447968, 7.3079618],\n",
       "                {\n",
       "}\n",
       "            ).addTo(map_cb9109bdbfb085336a632564b32b5316);\n",
       "        \n",
       "    \n",
       "        var custom_icon_f4ec8147ff53ab53dfc301e15d38ccb0 = L.icon({\n",
       "  &quot;iconUrl&quot;: &quot;https://images.icon-icons.com/3565/PNG/512/tree_flower_plant_nature_landscape_icon_225325.png&quot;,\n",
       "  &quot;iconSize&quot;: [40, 40],\n",
       "});\n",
       "        marker_f6d5b2c84f4b34d5e192b7306140e6ec.setIcon(custom_icon_f4ec8147ff53ab53dfc301e15d38ccb0);\n",
       "        \n",
       "    \n",
       "        var popup_ba6343fec53e8c876c2c14c9cb583ff7 = L.popup({\n",
       "  &quot;maxWidth&quot;: &quot;100%&quot;,\n",
       "});\n",
       "\n",
       "        \n",
       "            \n",
       "                var html_ef1394e37f03f27966e2dee7f328e1d1 = $(`&lt;div id=&quot;html_ef1394e37f03f27966e2dee7f328e1d1&quot; style=&quot;width: 100.0%; height: 100.0%;&quot;&gt;Eguisheim&lt;/div&gt;`)[0];\n",
       "                popup_ba6343fec53e8c876c2c14c9cb583ff7.setContent(html_ef1394e37f03f27966e2dee7f328e1d1);\n",
       "            \n",
       "        \n",
       "\n",
       "        marker_f6d5b2c84f4b34d5e192b7306140e6ec.bindPopup(popup_ba6343fec53e8c876c2c14c9cb583ff7)\n",
       "        ;\n",
       "\n",
       "        \n",
       "    \n",
       "    \n",
       "                marker_f6d5b2c84f4b34d5e192b7306140e6ec.setIcon(custom_icon_f4ec8147ff53ab53dfc301e15d38ccb0);\n",
       "            \n",
       "    \n",
       "            var marker_d1268ab1ac1107fc01cd4676f7e7624d = L.marker(\n",
       "                [47.2380222, 6.0243622],\n",
       "                {\n",
       "}\n",
       "            ).addTo(map_cb9109bdbfb085336a632564b32b5316);\n",
       "        \n",
       "    \n",
       "        var custom_icon_e5450c901742a0b29a0507f724787bc2 = L.icon({\n",
       "  &quot;iconUrl&quot;: &quot;https://images.icon-icons.com/3565/PNG/512/tree_flower_plant_nature_landscape_icon_225325.png&quot;,\n",
       "  &quot;iconSize&quot;: [40, 40],\n",
       "});\n",
       "        marker_d1268ab1ac1107fc01cd4676f7e7624d.setIcon(custom_icon_e5450c901742a0b29a0507f724787bc2);\n",
       "        \n",
       "    \n",
       "        var popup_dd419b21c383efdfed53af1513f43865 = L.popup({\n",
       "  &quot;maxWidth&quot;: &quot;100%&quot;,\n",
       "});\n",
       "\n",
       "        \n",
       "            \n",
       "                var html_b94b42f7d2f7f5e2977f585ff8d16d80 = $(`&lt;div id=&quot;html_b94b42f7d2f7f5e2977f585ff8d16d80&quot; style=&quot;width: 100.0%; height: 100.0%;&quot;&gt;Besancon&lt;/div&gt;`)[0];\n",
       "                popup_dd419b21c383efdfed53af1513f43865.setContent(html_b94b42f7d2f7f5e2977f585ff8d16d80);\n",
       "            \n",
       "        \n",
       "\n",
       "        marker_d1268ab1ac1107fc01cd4676f7e7624d.bindPopup(popup_dd419b21c383efdfed53af1513f43865)\n",
       "        ;\n",
       "\n",
       "        \n",
       "    \n",
       "    \n",
       "                marker_d1268ab1ac1107fc01cd4676f7e7624d.setIcon(custom_icon_e5450c901742a0b29a0507f724787bc2);\n",
       "            \n",
       "    \n",
       "            var marker_b75fe8064e2b72f852a25ddb0b97da8a = L.marker(\n",
       "                [47.3215806, 5.0414701],\n",
       "                {\n",
       "}\n",
       "            ).addTo(map_cb9109bdbfb085336a632564b32b5316);\n",
       "        \n",
       "    \n",
       "        var custom_icon_eedcd70fa2e500176d0571c06c70519c = L.icon({\n",
       "  &quot;iconUrl&quot;: &quot;https://images.icon-icons.com/3565/PNG/512/tree_flower_plant_nature_landscape_icon_225325.png&quot;,\n",
       "  &quot;iconSize&quot;: [40, 40],\n",
       "});\n",
       "        marker_b75fe8064e2b72f852a25ddb0b97da8a.setIcon(custom_icon_eedcd70fa2e500176d0571c06c70519c);\n",
       "        \n",
       "    \n",
       "        var popup_1603ef3e235fbc28cfad9ce56f021c72 = L.popup({\n",
       "  &quot;maxWidth&quot;: &quot;100%&quot;,\n",
       "});\n",
       "\n",
       "        \n",
       "            \n",
       "                var html_c0a9ea7b4d2891da92bc07d9a1a1d635 = $(`&lt;div id=&quot;html_c0a9ea7b4d2891da92bc07d9a1a1d635&quot; style=&quot;width: 100.0%; height: 100.0%;&quot;&gt;Dijon&lt;/div&gt;`)[0];\n",
       "                popup_1603ef3e235fbc28cfad9ce56f021c72.setContent(html_c0a9ea7b4d2891da92bc07d9a1a1d635);\n",
       "            \n",
       "        \n",
       "\n",
       "        marker_b75fe8064e2b72f852a25ddb0b97da8a.bindPopup(popup_1603ef3e235fbc28cfad9ce56f021c72)\n",
       "        ;\n",
       "\n",
       "        \n",
       "    \n",
       "    \n",
       "                marker_b75fe8064e2b72f852a25ddb0b97da8a.setIcon(custom_icon_eedcd70fa2e500176d0571c06c70519c);\n",
       "            \n",
       "    \n",
       "            var marker_d2081f4c88ba21693e98ed41e6286679 = L.marker(\n",
       "                [45.8992348, 6.1288847],\n",
       "                {\n",
       "}\n",
       "            ).addTo(map_cb9109bdbfb085336a632564b32b5316);\n",
       "        \n",
       "    \n",
       "        var custom_icon_d034f56ac1ab399b6b878ff25870e0d4 = L.icon({\n",
       "  &quot;iconUrl&quot;: &quot;https://images.icon-icons.com/3565/PNG/512/tree_flower_plant_nature_landscape_icon_225325.png&quot;,\n",
       "  &quot;iconSize&quot;: [40, 40],\n",
       "});\n",
       "        marker_d2081f4c88ba21693e98ed41e6286679.setIcon(custom_icon_d034f56ac1ab399b6b878ff25870e0d4);\n",
       "        \n",
       "    \n",
       "        var popup_c7d7ccca0a0e532081b562851eade7ce = L.popup({\n",
       "  &quot;maxWidth&quot;: &quot;100%&quot;,\n",
       "});\n",
       "\n",
       "        \n",
       "            \n",
       "                var html_54c75af590472d34df8d591552d30653 = $(`&lt;div id=&quot;html_54c75af590472d34df8d591552d30653&quot; style=&quot;width: 100.0%; height: 100.0%;&quot;&gt;Annecy&lt;/div&gt;`)[0];\n",
       "                popup_c7d7ccca0a0e532081b562851eade7ce.setContent(html_54c75af590472d34df8d591552d30653);\n",
       "            \n",
       "        \n",
       "\n",
       "        marker_d2081f4c88ba21693e98ed41e6286679.bindPopup(popup_c7d7ccca0a0e532081b562851eade7ce)\n",
       "        ;\n",
       "\n",
       "        \n",
       "    \n",
       "    \n",
       "                marker_d2081f4c88ba21693e98ed41e6286679.setIcon(custom_icon_d034f56ac1ab399b6b878ff25870e0d4);\n",
       "            \n",
       "    \n",
       "            var marker_8a8ca27dfceb82fa89b792bd3a93db80 = L.marker(\n",
       "                [45.1875602, 5.7357819],\n",
       "                {\n",
       "}\n",
       "            ).addTo(map_cb9109bdbfb085336a632564b32b5316);\n",
       "        \n",
       "    \n",
       "        var custom_icon_6e7f7a11e707258aeae0cdadd853115d = L.icon({\n",
       "  &quot;iconUrl&quot;: &quot;https://images.icon-icons.com/3565/PNG/512/tree_flower_plant_nature_landscape_icon_225325.png&quot;,\n",
       "  &quot;iconSize&quot;: [40, 40],\n",
       "});\n",
       "        marker_8a8ca27dfceb82fa89b792bd3a93db80.setIcon(custom_icon_6e7f7a11e707258aeae0cdadd853115d);\n",
       "        \n",
       "    \n",
       "        var popup_c22aeea3e6aa102c201e6c6f14d41b59 = L.popup({\n",
       "  &quot;maxWidth&quot;: &quot;100%&quot;,\n",
       "});\n",
       "\n",
       "        \n",
       "            \n",
       "                var html_5fdcc8a91edbb1e55d13704916538d28 = $(`&lt;div id=&quot;html_5fdcc8a91edbb1e55d13704916538d28&quot; style=&quot;width: 100.0%; height: 100.0%;&quot;&gt;Grenoble&lt;/div&gt;`)[0];\n",
       "                popup_c22aeea3e6aa102c201e6c6f14d41b59.setContent(html_5fdcc8a91edbb1e55d13704916538d28);\n",
       "            \n",
       "        \n",
       "\n",
       "        marker_8a8ca27dfceb82fa89b792bd3a93db80.bindPopup(popup_c22aeea3e6aa102c201e6c6f14d41b59)\n",
       "        ;\n",
       "\n",
       "        \n",
       "    \n",
       "    \n",
       "                marker_8a8ca27dfceb82fa89b792bd3a93db80.setIcon(custom_icon_6e7f7a11e707258aeae0cdadd853115d);\n",
       "            \n",
       "    \n",
       "            var marker_6cfef7748ab1fcd0bd14c1ca5ee58ea6 = L.marker(\n",
       "                [45.7578137, 4.8320114],\n",
       "                {\n",
       "}\n",
       "            ).addTo(map_cb9109bdbfb085336a632564b32b5316);\n",
       "        \n",
       "    \n",
       "        var custom_icon_588eb93de97b76cfeb17652f84105e35 = L.icon({\n",
       "  &quot;iconUrl&quot;: &quot;https://images.icon-icons.com/3565/PNG/512/tree_flower_plant_nature_landscape_icon_225325.png&quot;,\n",
       "  &quot;iconSize&quot;: [40, 40],\n",
       "});\n",
       "        marker_6cfef7748ab1fcd0bd14c1ca5ee58ea6.setIcon(custom_icon_588eb93de97b76cfeb17652f84105e35);\n",
       "        \n",
       "    \n",
       "        var popup_c2da3f60c9295d89c22738a751236902 = L.popup({\n",
       "  &quot;maxWidth&quot;: &quot;100%&quot;,\n",
       "});\n",
       "\n",
       "        \n",
       "            \n",
       "                var html_eb3438b95a55ee672bf22251dda8aff5 = $(`&lt;div id=&quot;html_eb3438b95a55ee672bf22251dda8aff5&quot; style=&quot;width: 100.0%; height: 100.0%;&quot;&gt;Lyon&lt;/div&gt;`)[0];\n",
       "                popup_c2da3f60c9295d89c22738a751236902.setContent(html_eb3438b95a55ee672bf22251dda8aff5);\n",
       "            \n",
       "        \n",
       "\n",
       "        marker_6cfef7748ab1fcd0bd14c1ca5ee58ea6.bindPopup(popup_c2da3f60c9295d89c22738a751236902)\n",
       "        ;\n",
       "\n",
       "        \n",
       "    \n",
       "    \n",
       "                marker_6cfef7748ab1fcd0bd14c1ca5ee58ea6.setIcon(custom_icon_588eb93de97b76cfeb17652f84105e35);\n",
       "            \n",
       "    \n",
       "            var marker_49d6e9f4b1dea3fe3c3a92f61cc1b617 = L.marker(\n",
       "                [43.1506968, 6.3419285],\n",
       "                {\n",
       "}\n",
       "            ).addTo(map_cb9109bdbfb085336a632564b32b5316);\n",
       "        \n",
       "    \n",
       "        var custom_icon_fe2ac84dd84cf27b008bdd10654ed464 = L.icon({\n",
       "  &quot;iconUrl&quot;: &quot;https://images.icon-icons.com/3565/PNG/512/tree_flower_plant_nature_landscape_icon_225325.png&quot;,\n",
       "  &quot;iconSize&quot;: [40, 40],\n",
       "});\n",
       "        marker_49d6e9f4b1dea3fe3c3a92f61cc1b617.setIcon(custom_icon_fe2ac84dd84cf27b008bdd10654ed464);\n",
       "        \n",
       "    \n",
       "        var popup_1d12a2f912e3ecd5fd713beeb10fdcf5 = L.popup({\n",
       "  &quot;maxWidth&quot;: &quot;100%&quot;,\n",
       "});\n",
       "\n",
       "        \n",
       "            \n",
       "                var html_8f515adeef8c24cb948fa38a2a1faed5 = $(`&lt;div id=&quot;html_8f515adeef8c24cb948fa38a2a1faed5&quot; style=&quot;width: 100.0%; height: 100.0%;&quot;&gt;Bormes les Mimosas&lt;/div&gt;`)[0];\n",
       "                popup_1d12a2f912e3ecd5fd713beeb10fdcf5.setContent(html_8f515adeef8c24cb948fa38a2a1faed5);\n",
       "            \n",
       "        \n",
       "\n",
       "        marker_49d6e9f4b1dea3fe3c3a92f61cc1b617.bindPopup(popup_1d12a2f912e3ecd5fd713beeb10fdcf5)\n",
       "        ;\n",
       "\n",
       "        \n",
       "    \n",
       "    \n",
       "                marker_49d6e9f4b1dea3fe3c3a92f61cc1b617.setIcon(custom_icon_fe2ac84dd84cf27b008bdd10654ed464);\n",
       "            \n",
       "    \n",
       "            var marker_d414321fe790744912b2727dc5ca6df4 = L.marker(\n",
       "                [43.2140359, 5.5396318],\n",
       "                {\n",
       "}\n",
       "            ).addTo(map_cb9109bdbfb085336a632564b32b5316);\n",
       "        \n",
       "    \n",
       "        var custom_icon_84753b70f7858c4e675b5afe72bc852d = L.icon({\n",
       "  &quot;iconUrl&quot;: &quot;https://images.icon-icons.com/3565/PNG/512/tree_flower_plant_nature_landscape_icon_225325.png&quot;,\n",
       "  &quot;iconSize&quot;: [40, 40],\n",
       "});\n",
       "        marker_d414321fe790744912b2727dc5ca6df4.setIcon(custom_icon_84753b70f7858c4e675b5afe72bc852d);\n",
       "        \n",
       "    \n",
       "        var popup_5cb2ebba38aa66f8af6c8382449d7e5f = L.popup({\n",
       "  &quot;maxWidth&quot;: &quot;100%&quot;,\n",
       "});\n",
       "\n",
       "        \n",
       "            \n",
       "                var html_34a5a5687f5b5d8e34bced704ff78cee = $(`&lt;div id=&quot;html_34a5a5687f5b5d8e34bced704ff78cee&quot; style=&quot;width: 100.0%; height: 100.0%;&quot;&gt;Cassis&lt;/div&gt;`)[0];\n",
       "                popup_5cb2ebba38aa66f8af6c8382449d7e5f.setContent(html_34a5a5687f5b5d8e34bced704ff78cee);\n",
       "            \n",
       "        \n",
       "\n",
       "        marker_d414321fe790744912b2727dc5ca6df4.bindPopup(popup_5cb2ebba38aa66f8af6c8382449d7e5f)\n",
       "        ;\n",
       "\n",
       "        \n",
       "    \n",
       "    \n",
       "                marker_d414321fe790744912b2727dc5ca6df4.setIcon(custom_icon_84753b70f7858c4e675b5afe72bc852d);\n",
       "            \n",
       "    \n",
       "            var marker_3456d45ce401cec7a5f6d20823a2c5fa = L.marker(\n",
       "                [43.2961743, 5.3699525],\n",
       "                {\n",
       "}\n",
       "            ).addTo(map_cb9109bdbfb085336a632564b32b5316);\n",
       "        \n",
       "    \n",
       "        var custom_icon_02c667a314c2c3db5dc51e6797523167 = L.icon({\n",
       "  &quot;iconUrl&quot;: &quot;https://images.icon-icons.com/3565/PNG/512/tree_flower_plant_nature_landscape_icon_225325.png&quot;,\n",
       "  &quot;iconSize&quot;: [40, 40],\n",
       "});\n",
       "        marker_3456d45ce401cec7a5f6d20823a2c5fa.setIcon(custom_icon_02c667a314c2c3db5dc51e6797523167);\n",
       "        \n",
       "    \n",
       "        var popup_a3c18b5ed1a8b2a22048e77c1af114fb = L.popup({\n",
       "  &quot;maxWidth&quot;: &quot;100%&quot;,\n",
       "});\n",
       "\n",
       "        \n",
       "            \n",
       "                var html_cea649e814382fe8e6db8cdfd931bc71 = $(`&lt;div id=&quot;html_cea649e814382fe8e6db8cdfd931bc71&quot; style=&quot;width: 100.0%; height: 100.0%;&quot;&gt;Marseille&lt;/div&gt;`)[0];\n",
       "                popup_a3c18b5ed1a8b2a22048e77c1af114fb.setContent(html_cea649e814382fe8e6db8cdfd931bc71);\n",
       "            \n",
       "        \n",
       "\n",
       "        marker_3456d45ce401cec7a5f6d20823a2c5fa.bindPopup(popup_a3c18b5ed1a8b2a22048e77c1af114fb)\n",
       "        ;\n",
       "\n",
       "        \n",
       "    \n",
       "    \n",
       "                marker_3456d45ce401cec7a5f6d20823a2c5fa.setIcon(custom_icon_02c667a314c2c3db5dc51e6797523167);\n",
       "            \n",
       "    \n",
       "            var marker_bff2cc5bd4b68a3ac903d407bc258bcf = L.marker(\n",
       "                [43.5298424, 5.4474738],\n",
       "                {\n",
       "}\n",
       "            ).addTo(map_cb9109bdbfb085336a632564b32b5316);\n",
       "        \n",
       "    \n",
       "        var custom_icon_4e8356c680da3d17e732f43c252a2dc0 = L.icon({\n",
       "  &quot;iconUrl&quot;: &quot;https://images.icon-icons.com/3565/PNG/512/tree_flower_plant_nature_landscape_icon_225325.png&quot;,\n",
       "  &quot;iconSize&quot;: [40, 40],\n",
       "});\n",
       "        marker_bff2cc5bd4b68a3ac903d407bc258bcf.setIcon(custom_icon_4e8356c680da3d17e732f43c252a2dc0);\n",
       "        \n",
       "    \n",
       "        var popup_fa9519049121beeaf0691b8a6d5e5488 = L.popup({\n",
       "  &quot;maxWidth&quot;: &quot;100%&quot;,\n",
       "});\n",
       "\n",
       "        \n",
       "            \n",
       "                var html_ba66b8522e1b587d9595535c4cb65e03 = $(`&lt;div id=&quot;html_ba66b8522e1b587d9595535c4cb65e03&quot; style=&quot;width: 100.0%; height: 100.0%;&quot;&gt;Aix en Provence&lt;/div&gt;`)[0];\n",
       "                popup_fa9519049121beeaf0691b8a6d5e5488.setContent(html_ba66b8522e1b587d9595535c4cb65e03);\n",
       "            \n",
       "        \n",
       "\n",
       "        marker_bff2cc5bd4b68a3ac903d407bc258bcf.bindPopup(popup_fa9519049121beeaf0691b8a6d5e5488)\n",
       "        ;\n",
       "\n",
       "        \n",
       "    \n",
       "    \n",
       "                marker_bff2cc5bd4b68a3ac903d407bc258bcf.setIcon(custom_icon_4e8356c680da3d17e732f43c252a2dc0);\n",
       "            \n",
       "    \n",
       "            var marker_0f8f59939f96918e69b9305fd52d1099 = L.marker(\n",
       "                [43.9492493, 4.8059012],\n",
       "                {\n",
       "}\n",
       "            ).addTo(map_cb9109bdbfb085336a632564b32b5316);\n",
       "        \n",
       "    \n",
       "        var custom_icon_fce6c37980e4acec36e22bf40b2d1a88 = L.icon({\n",
       "  &quot;iconUrl&quot;: &quot;https://images.icon-icons.com/3565/PNG/512/tree_flower_plant_nature_landscape_icon_225325.png&quot;,\n",
       "  &quot;iconSize&quot;: [40, 40],\n",
       "});\n",
       "        marker_0f8f59939f96918e69b9305fd52d1099.setIcon(custom_icon_fce6c37980e4acec36e22bf40b2d1a88);\n",
       "        \n",
       "    \n",
       "        var popup_3065e4d9a7221b5b14fbb452caa82d4b = L.popup({\n",
       "  &quot;maxWidth&quot;: &quot;100%&quot;,\n",
       "});\n",
       "\n",
       "        \n",
       "            \n",
       "                var html_2024654c0631d0d63108dbef71f65b46 = $(`&lt;div id=&quot;html_2024654c0631d0d63108dbef71f65b46&quot; style=&quot;width: 100.0%; height: 100.0%;&quot;&gt;Avignon&lt;/div&gt;`)[0];\n",
       "                popup_3065e4d9a7221b5b14fbb452caa82d4b.setContent(html_2024654c0631d0d63108dbef71f65b46);\n",
       "            \n",
       "        \n",
       "\n",
       "        marker_0f8f59939f96918e69b9305fd52d1099.bindPopup(popup_3065e4d9a7221b5b14fbb452caa82d4b)\n",
       "        ;\n",
       "\n",
       "        \n",
       "    \n",
       "    \n",
       "                marker_0f8f59939f96918e69b9305fd52d1099.setIcon(custom_icon_fce6c37980e4acec36e22bf40b2d1a88);\n",
       "            \n",
       "    \n",
       "            var marker_5fce9d05357c394433e0bc340bdf1c5d = L.marker(\n",
       "                [44.0121279, 4.4196718],\n",
       "                {\n",
       "}\n",
       "            ).addTo(map_cb9109bdbfb085336a632564b32b5316);\n",
       "        \n",
       "    \n",
       "        var custom_icon_d487e1400dbc6406ff26df6b3618fde8 = L.icon({\n",
       "  &quot;iconUrl&quot;: &quot;https://images.icon-icons.com/3565/PNG/512/tree_flower_plant_nature_landscape_icon_225325.png&quot;,\n",
       "  &quot;iconSize&quot;: [40, 40],\n",
       "});\n",
       "        marker_5fce9d05357c394433e0bc340bdf1c5d.setIcon(custom_icon_d487e1400dbc6406ff26df6b3618fde8);\n",
       "        \n",
       "    \n",
       "        var popup_fddb01465c817e8187477284bc858c5d = L.popup({\n",
       "  &quot;maxWidth&quot;: &quot;100%&quot;,\n",
       "});\n",
       "\n",
       "        \n",
       "            \n",
       "                var html_6c7820267cd711fb402b296614cb7c5e = $(`&lt;div id=&quot;html_6c7820267cd711fb402b296614cb7c5e&quot; style=&quot;width: 100.0%; height: 100.0%;&quot;&gt;Uzes&lt;/div&gt;`)[0];\n",
       "                popup_fddb01465c817e8187477284bc858c5d.setContent(html_6c7820267cd711fb402b296614cb7c5e);\n",
       "            \n",
       "        \n",
       "\n",
       "        marker_5fce9d05357c394433e0bc340bdf1c5d.bindPopup(popup_fddb01465c817e8187477284bc858c5d)\n",
       "        ;\n",
       "\n",
       "        \n",
       "    \n",
       "    \n",
       "                marker_5fce9d05357c394433e0bc340bdf1c5d.setIcon(custom_icon_d487e1400dbc6406ff26df6b3618fde8);\n",
       "            \n",
       "    \n",
       "            var marker_3440aaf86701f6122c38c9fde9865374 = L.marker(\n",
       "                [43.8374249, 4.3600687],\n",
       "                {\n",
       "}\n",
       "            ).addTo(map_cb9109bdbfb085336a632564b32b5316);\n",
       "        \n",
       "    \n",
       "        var custom_icon_0634d8eb5905685f9d58c19bef7ad7ed = L.icon({\n",
       "  &quot;iconUrl&quot;: &quot;https://images.icon-icons.com/3565/PNG/512/tree_flower_plant_nature_landscape_icon_225325.png&quot;,\n",
       "  &quot;iconSize&quot;: [40, 40],\n",
       "});\n",
       "        marker_3440aaf86701f6122c38c9fde9865374.setIcon(custom_icon_0634d8eb5905685f9d58c19bef7ad7ed);\n",
       "        \n",
       "    \n",
       "        var popup_af8fecbb357fb94376885aa2a1da8caa = L.popup({\n",
       "  &quot;maxWidth&quot;: &quot;100%&quot;,\n",
       "});\n",
       "\n",
       "        \n",
       "            \n",
       "                var html_75277ecf6e9fc48819fb586770ecc268 = $(`&lt;div id=&quot;html_75277ecf6e9fc48819fb586770ecc268&quot; style=&quot;width: 100.0%; height: 100.0%;&quot;&gt;Nimes&lt;/div&gt;`)[0];\n",
       "                popup_af8fecbb357fb94376885aa2a1da8caa.setContent(html_75277ecf6e9fc48819fb586770ecc268);\n",
       "            \n",
       "        \n",
       "\n",
       "        marker_3440aaf86701f6122c38c9fde9865374.bindPopup(popup_af8fecbb357fb94376885aa2a1da8caa)\n",
       "        ;\n",
       "\n",
       "        \n",
       "    \n",
       "    \n",
       "                marker_3440aaf86701f6122c38c9fde9865374.setIcon(custom_icon_0634d8eb5905685f9d58c19bef7ad7ed);\n",
       "            \n",
       "    \n",
       "            var marker_2c2f439bcd0808e3b9d1912657f81382 = L.marker(\n",
       "                [43.5658225, 4.1912837],\n",
       "                {\n",
       "}\n",
       "            ).addTo(map_cb9109bdbfb085336a632564b32b5316);\n",
       "        \n",
       "    \n",
       "        var custom_icon_363625f0afadc65f13fffcf8e5166903 = L.icon({\n",
       "  &quot;iconUrl&quot;: &quot;https://images.icon-icons.com/3565/PNG/512/tree_flower_plant_nature_landscape_icon_225325.png&quot;,\n",
       "  &quot;iconSize&quot;: [40, 40],\n",
       "});\n",
       "        marker_2c2f439bcd0808e3b9d1912657f81382.setIcon(custom_icon_363625f0afadc65f13fffcf8e5166903);\n",
       "        \n",
       "    \n",
       "        var popup_ca0964f0dd49be50f43946fe10e5214b = L.popup({\n",
       "  &quot;maxWidth&quot;: &quot;100%&quot;,\n",
       "});\n",
       "\n",
       "        \n",
       "            \n",
       "                var html_8e86915724181e9adb7ff8a0ab7fc28d = $(`&lt;div id=&quot;html_8e86915724181e9adb7ff8a0ab7fc28d&quot; style=&quot;width: 100.0%; height: 100.0%;&quot;&gt;Aigues Mortes&lt;/div&gt;`)[0];\n",
       "                popup_ca0964f0dd49be50f43946fe10e5214b.setContent(html_8e86915724181e9adb7ff8a0ab7fc28d);\n",
       "            \n",
       "        \n",
       "\n",
       "        marker_2c2f439bcd0808e3b9d1912657f81382.bindPopup(popup_ca0964f0dd49be50f43946fe10e5214b)\n",
       "        ;\n",
       "\n",
       "        \n",
       "    \n",
       "    \n",
       "                marker_2c2f439bcd0808e3b9d1912657f81382.setIcon(custom_icon_363625f0afadc65f13fffcf8e5166903);\n",
       "            \n",
       "    \n",
       "            var marker_084ddc7ac377b765045433ef6e00fb6c = L.marker(\n",
       "                [43.4522771, 4.4287172],\n",
       "                {\n",
       "}\n",
       "            ).addTo(map_cb9109bdbfb085336a632564b32b5316);\n",
       "        \n",
       "    \n",
       "        var custom_icon_b10107f7438888517650f294a74b6f8d = L.icon({\n",
       "  &quot;iconUrl&quot;: &quot;https://images.icon-icons.com/3565/PNG/512/tree_flower_plant_nature_landscape_icon_225325.png&quot;,\n",
       "  &quot;iconSize&quot;: [40, 40],\n",
       "});\n",
       "        marker_084ddc7ac377b765045433ef6e00fb6c.setIcon(custom_icon_b10107f7438888517650f294a74b6f8d);\n",
       "        \n",
       "    \n",
       "        var popup_534f0639aa52642cdbdf53f242fc6286 = L.popup({\n",
       "  &quot;maxWidth&quot;: &quot;100%&quot;,\n",
       "});\n",
       "\n",
       "        \n",
       "            \n",
       "                var html_984de9a107eb787df281a45869874121 = $(`&lt;div id=&quot;html_984de9a107eb787df281a45869874121&quot; style=&quot;width: 100.0%; height: 100.0%;&quot;&gt;Saintes Maries de la mer&lt;/div&gt;`)[0];\n",
       "                popup_534f0639aa52642cdbdf53f242fc6286.setContent(html_984de9a107eb787df281a45869874121);\n",
       "            \n",
       "        \n",
       "\n",
       "        marker_084ddc7ac377b765045433ef6e00fb6c.bindPopup(popup_534f0639aa52642cdbdf53f242fc6286)\n",
       "        ;\n",
       "\n",
       "        \n",
       "    \n",
       "    \n",
       "                marker_084ddc7ac377b765045433ef6e00fb6c.setIcon(custom_icon_b10107f7438888517650f294a74b6f8d);\n",
       "            \n",
       "    \n",
       "            var marker_194d1f57d799dfe8bccea4b80e52473d = L.marker(\n",
       "                [42.52505, 3.0831554],\n",
       "                {\n",
       "}\n",
       "            ).addTo(map_cb9109bdbfb085336a632564b32b5316);\n",
       "        \n",
       "    \n",
       "        var custom_icon_a6ff259b203876393457acca4900893d = L.icon({\n",
       "  &quot;iconUrl&quot;: &quot;https://images.icon-icons.com/3565/PNG/512/tree_flower_plant_nature_landscape_icon_225325.png&quot;,\n",
       "  &quot;iconSize&quot;: [40, 40],\n",
       "});\n",
       "        marker_194d1f57d799dfe8bccea4b80e52473d.setIcon(custom_icon_a6ff259b203876393457acca4900893d);\n",
       "        \n",
       "    \n",
       "        var popup_c3c838d69f7b3629304c3bc38da43770 = L.popup({\n",
       "  &quot;maxWidth&quot;: &quot;100%&quot;,\n",
       "});\n",
       "\n",
       "        \n",
       "            \n",
       "                var html_6a5c1fe86435633cb611bae39f3752a4 = $(`&lt;div id=&quot;html_6a5c1fe86435633cb611bae39f3752a4&quot; style=&quot;width: 100.0%; height: 100.0%;&quot;&gt;Collioure&lt;/div&gt;`)[0];\n",
       "                popup_c3c838d69f7b3629304c3bc38da43770.setContent(html_6a5c1fe86435633cb611bae39f3752a4);\n",
       "            \n",
       "        \n",
       "\n",
       "        marker_194d1f57d799dfe8bccea4b80e52473d.bindPopup(popup_c3c838d69f7b3629304c3bc38da43770)\n",
       "        ;\n",
       "\n",
       "        \n",
       "    \n",
       "    \n",
       "                marker_194d1f57d799dfe8bccea4b80e52473d.setIcon(custom_icon_a6ff259b203876393457acca4900893d);\n",
       "            \n",
       "    \n",
       "            var marker_3eac217163ee1e6d60b22fe1224d4463 = L.marker(\n",
       "                [43.2130358, 2.3491069],\n",
       "                {\n",
       "}\n",
       "            ).addTo(map_cb9109bdbfb085336a632564b32b5316);\n",
       "        \n",
       "    \n",
       "        var custom_icon_0a4c289444d78d01bec1b1b6ad56f402 = L.icon({\n",
       "  &quot;iconUrl&quot;: &quot;https://images.icon-icons.com/3565/PNG/512/tree_flower_plant_nature_landscape_icon_225325.png&quot;,\n",
       "  &quot;iconSize&quot;: [40, 40],\n",
       "});\n",
       "        marker_3eac217163ee1e6d60b22fe1224d4463.setIcon(custom_icon_0a4c289444d78d01bec1b1b6ad56f402);\n",
       "        \n",
       "    \n",
       "        var popup_7288ef0165e7e2875c45f161f3cc9e57 = L.popup({\n",
       "  &quot;maxWidth&quot;: &quot;100%&quot;,\n",
       "});\n",
       "\n",
       "        \n",
       "            \n",
       "                var html_0557ca7edeef0eb76e04096e426096b6 = $(`&lt;div id=&quot;html_0557ca7edeef0eb76e04096e426096b6&quot; style=&quot;width: 100.0%; height: 100.0%;&quot;&gt;Carcassonne&lt;/div&gt;`)[0];\n",
       "                popup_7288ef0165e7e2875c45f161f3cc9e57.setContent(html_0557ca7edeef0eb76e04096e426096b6);\n",
       "            \n",
       "        \n",
       "\n",
       "        marker_3eac217163ee1e6d60b22fe1224d4463.bindPopup(popup_7288ef0165e7e2875c45f161f3cc9e57)\n",
       "        ;\n",
       "\n",
       "        \n",
       "    \n",
       "    \n",
       "                marker_3eac217163ee1e6d60b22fe1224d4463.setIcon(custom_icon_0a4c289444d78d01bec1b1b6ad56f402);\n",
       "            \n",
       "    \n",
       "            var marker_dbf02ee022b6277d71e639f1909f6975 = L.marker(\n",
       "                [42.8458016, 1.6067586],\n",
       "                {\n",
       "}\n",
       "            ).addTo(map_cb9109bdbfb085336a632564b32b5316);\n",
       "        \n",
       "    \n",
       "        var custom_icon_4cdeee96a7d976cf58742b78d9159573 = L.icon({\n",
       "  &quot;iconUrl&quot;: &quot;https://images.icon-icons.com/3565/PNG/512/tree_flower_plant_nature_landscape_icon_225325.png&quot;,\n",
       "  &quot;iconSize&quot;: [40, 40],\n",
       "});\n",
       "        marker_dbf02ee022b6277d71e639f1909f6975.setIcon(custom_icon_4cdeee96a7d976cf58742b78d9159573);\n",
       "        \n",
       "    \n",
       "        var popup_abc618ddea9581e0ede3055ebdd289ac = L.popup({\n",
       "  &quot;maxWidth&quot;: &quot;100%&quot;,\n",
       "});\n",
       "\n",
       "        \n",
       "            \n",
       "                var html_d4015bdb239013d220013e7bbecba287 = $(`&lt;div id=&quot;html_d4015bdb239013d220013e7bbecba287&quot; style=&quot;width: 100.0%; height: 100.0%;&quot;&gt;Ariege&lt;/div&gt;`)[0];\n",
       "                popup_abc618ddea9581e0ede3055ebdd289ac.setContent(html_d4015bdb239013d220013e7bbecba287);\n",
       "            \n",
       "        \n",
       "\n",
       "        marker_dbf02ee022b6277d71e639f1909f6975.bindPopup(popup_abc618ddea9581e0ede3055ebdd289ac)\n",
       "        ;\n",
       "\n",
       "        \n",
       "    \n",
       "    \n",
       "                marker_dbf02ee022b6277d71e639f1909f6975.setIcon(custom_icon_4cdeee96a7d976cf58742b78d9159573);\n",
       "            \n",
       "    \n",
       "            var marker_f396702fb9fcf2022e002b1f8dcd5bf3 = L.marker(\n",
       "                [43.6044622, 1.4442469],\n",
       "                {\n",
       "}\n",
       "            ).addTo(map_cb9109bdbfb085336a632564b32b5316);\n",
       "        \n",
       "    \n",
       "        var custom_icon_2e42ee11b7ee508efbb55d959f91b4ce = L.icon({\n",
       "  &quot;iconUrl&quot;: &quot;https://images.icon-icons.com/3565/PNG/512/tree_flower_plant_nature_landscape_icon_225325.png&quot;,\n",
       "  &quot;iconSize&quot;: [40, 40],\n",
       "});\n",
       "        marker_f396702fb9fcf2022e002b1f8dcd5bf3.setIcon(custom_icon_2e42ee11b7ee508efbb55d959f91b4ce);\n",
       "        \n",
       "    \n",
       "        var popup_6320519e798848cd16a7d14a59766838 = L.popup({\n",
       "  &quot;maxWidth&quot;: &quot;100%&quot;,\n",
       "});\n",
       "\n",
       "        \n",
       "            \n",
       "                var html_cbcbf642744456ef3ede5181f06a6154 = $(`&lt;div id=&quot;html_cbcbf642744456ef3ede5181f06a6154&quot; style=&quot;width: 100.0%; height: 100.0%;&quot;&gt;Toulouse&lt;/div&gt;`)[0];\n",
       "                popup_6320519e798848cd16a7d14a59766838.setContent(html_cbcbf642744456ef3ede5181f06a6154);\n",
       "            \n",
       "        \n",
       "\n",
       "        marker_f396702fb9fcf2022e002b1f8dcd5bf3.bindPopup(popup_6320519e798848cd16a7d14a59766838)\n",
       "        ;\n",
       "\n",
       "        \n",
       "    \n",
       "    \n",
       "                marker_f396702fb9fcf2022e002b1f8dcd5bf3.setIcon(custom_icon_2e42ee11b7ee508efbb55d959f91b4ce);\n",
       "            \n",
       "    \n",
       "            var marker_b88fcc8bc980daffecc36d839ab93e80 = L.marker(\n",
       "                [44.0175835, 1.3549991],\n",
       "                {\n",
       "}\n",
       "            ).addTo(map_cb9109bdbfb085336a632564b32b5316);\n",
       "        \n",
       "    \n",
       "        var custom_icon_062fbe8de5f7ba4325d7d11d4e72fae4 = L.icon({\n",
       "  &quot;iconUrl&quot;: &quot;https://images.icon-icons.com/3565/PNG/512/tree_flower_plant_nature_landscape_icon_225325.png&quot;,\n",
       "  &quot;iconSize&quot;: [40, 40],\n",
       "});\n",
       "        marker_b88fcc8bc980daffecc36d839ab93e80.setIcon(custom_icon_062fbe8de5f7ba4325d7d11d4e72fae4);\n",
       "        \n",
       "    \n",
       "        var popup_fa5fb042e267efbf7d6a5dc74030cf8a = L.popup({\n",
       "  &quot;maxWidth&quot;: &quot;100%&quot;,\n",
       "});\n",
       "\n",
       "        \n",
       "            \n",
       "                var html_7ef62ac0bc1da1c838d62f511997f982 = $(`&lt;div id=&quot;html_7ef62ac0bc1da1c838d62f511997f982&quot; style=&quot;width: 100.0%; height: 100.0%;&quot;&gt;Montauban&lt;/div&gt;`)[0];\n",
       "                popup_fa5fb042e267efbf7d6a5dc74030cf8a.setContent(html_7ef62ac0bc1da1c838d62f511997f982);\n",
       "            \n",
       "        \n",
       "\n",
       "        marker_b88fcc8bc980daffecc36d839ab93e80.bindPopup(popup_fa5fb042e267efbf7d6a5dc74030cf8a)\n",
       "        ;\n",
       "\n",
       "        \n",
       "    \n",
       "    \n",
       "                marker_b88fcc8bc980daffecc36d839ab93e80.setIcon(custom_icon_062fbe8de5f7ba4325d7d11d4e72fae4);\n",
       "            \n",
       "    \n",
       "            var marker_442fe3ccada6d7884409425b0908a9eb = L.marker(\n",
       "                [43.4832523, -1.5592776],\n",
       "                {\n",
       "}\n",
       "            ).addTo(map_cb9109bdbfb085336a632564b32b5316);\n",
       "        \n",
       "    \n",
       "        var custom_icon_ae4655f0887e90959e0c1736f5316cc2 = L.icon({\n",
       "  &quot;iconUrl&quot;: &quot;https://images.icon-icons.com/3565/PNG/512/tree_flower_plant_nature_landscape_icon_225325.png&quot;,\n",
       "  &quot;iconSize&quot;: [40, 40],\n",
       "});\n",
       "        marker_442fe3ccada6d7884409425b0908a9eb.setIcon(custom_icon_ae4655f0887e90959e0c1736f5316cc2);\n",
       "        \n",
       "    \n",
       "        var popup_f5b0ffc23dccacdbb1744490f7862af4 = L.popup({\n",
       "  &quot;maxWidth&quot;: &quot;100%&quot;,\n",
       "});\n",
       "\n",
       "        \n",
       "            \n",
       "                var html_30a9e86dd4518c7adbb630a05f0c44bf = $(`&lt;div id=&quot;html_30a9e86dd4518c7adbb630a05f0c44bf&quot; style=&quot;width: 100.0%; height: 100.0%;&quot;&gt;Biarritz&lt;/div&gt;`)[0];\n",
       "                popup_f5b0ffc23dccacdbb1744490f7862af4.setContent(html_30a9e86dd4518c7adbb630a05f0c44bf);\n",
       "            \n",
       "        \n",
       "\n",
       "        marker_442fe3ccada6d7884409425b0908a9eb.bindPopup(popup_f5b0ffc23dccacdbb1744490f7862af4)\n",
       "        ;\n",
       "\n",
       "        \n",
       "    \n",
       "    \n",
       "                marker_442fe3ccada6d7884409425b0908a9eb.setIcon(custom_icon_ae4655f0887e90959e0c1736f5316cc2);\n",
       "            \n",
       "    \n",
       "            var marker_a6aa8e5f258bb4366438e4df7ec1a93e = L.marker(\n",
       "                [43.4945144, -1.4736657],\n",
       "                {\n",
       "}\n",
       "            ).addTo(map_cb9109bdbfb085336a632564b32b5316);\n",
       "        \n",
       "    \n",
       "        var custom_icon_0a976049c3a89f698d1b24d9fb22cdb0 = L.icon({\n",
       "  &quot;iconUrl&quot;: &quot;https://images.icon-icons.com/3565/PNG/512/tree_flower_plant_nature_landscape_icon_225325.png&quot;,\n",
       "  &quot;iconSize&quot;: [40, 40],\n",
       "});\n",
       "        marker_a6aa8e5f258bb4366438e4df7ec1a93e.setIcon(custom_icon_0a976049c3a89f698d1b24d9fb22cdb0);\n",
       "        \n",
       "    \n",
       "        var popup_5ec63e23c7f524e177c0daab1ff3e7d5 = L.popup({\n",
       "  &quot;maxWidth&quot;: &quot;100%&quot;,\n",
       "});\n",
       "\n",
       "        \n",
       "            \n",
       "                var html_cc32f1bec309b16a39535af6e896f339 = $(`&lt;div id=&quot;html_cc32f1bec309b16a39535af6e896f339&quot; style=&quot;width: 100.0%; height: 100.0%;&quot;&gt;Bayonne&lt;/div&gt;`)[0];\n",
       "                popup_5ec63e23c7f524e177c0daab1ff3e7d5.setContent(html_cc32f1bec309b16a39535af6e896f339);\n",
       "            \n",
       "        \n",
       "\n",
       "        marker_a6aa8e5f258bb4366438e4df7ec1a93e.bindPopup(popup_5ec63e23c7f524e177c0daab1ff3e7d5)\n",
       "        ;\n",
       "\n",
       "        \n",
       "    \n",
       "    \n",
       "                marker_a6aa8e5f258bb4366438e4df7ec1a93e.setIcon(custom_icon_0a976049c3a89f698d1b24d9fb22cdb0);\n",
       "            \n",
       "    \n",
       "            var marker_7894d9987a6882db8f7fb95c8144b562 = L.marker(\n",
       "                [46.1591126, -1.1520434],\n",
       "                {\n",
       "}\n",
       "            ).addTo(map_cb9109bdbfb085336a632564b32b5316);\n",
       "        \n",
       "    \n",
       "        var custom_icon_c307c4a516ba5c89ecafbdaa650c8874 = L.icon({\n",
       "  &quot;iconUrl&quot;: &quot;https://images.icon-icons.com/3565/PNG/512/tree_flower_plant_nature_landscape_icon_225325.png&quot;,\n",
       "  &quot;iconSize&quot;: [40, 40],\n",
       "});\n",
       "        marker_7894d9987a6882db8f7fb95c8144b562.setIcon(custom_icon_c307c4a516ba5c89ecafbdaa650c8874);\n",
       "        \n",
       "    \n",
       "        var popup_c72cccd02500b739515c393a349939e6 = L.popup({\n",
       "  &quot;maxWidth&quot;: &quot;100%&quot;,\n",
       "});\n",
       "\n",
       "        \n",
       "            \n",
       "                var html_1e1de163475663066c40629c0dbe4da0 = $(`&lt;div id=&quot;html_1e1de163475663066c40629c0dbe4da0&quot; style=&quot;width: 100.0%; height: 100.0%;&quot;&gt;La Rochelle&lt;/div&gt;`)[0];\n",
       "                popup_c72cccd02500b739515c393a349939e6.setContent(html_1e1de163475663066c40629c0dbe4da0);\n",
       "            \n",
       "        \n",
       "\n",
       "        marker_7894d9987a6882db8f7fb95c8144b562.bindPopup(popup_c72cccd02500b739515c393a349939e6)\n",
       "        ;\n",
       "\n",
       "        \n",
       "    \n",
       "    \n",
       "                marker_7894d9987a6882db8f7fb95c8144b562.setIcon(custom_icon_c307c4a516ba5c89ecafbdaa650c8874);\n",
       "            \n",
       "    \n",
       "            var marker_ac09ccc6e96c15bc3d4e9cc8cb267407 = L.marker(\n",
       "                [43.7496562, 6.3285616],\n",
       "                {\n",
       "}\n",
       "            ).addTo(map_cb9109bdbfb085336a632564b32b5316);\n",
       "        \n",
       "    \n",
       "        var custom_icon_9e13980cd221098d602ff83bc1da37dd = L.icon({\n",
       "  &quot;iconUrl&quot;: &quot;https://images.icon-icons.com/3565/PNG/512/tree_flower_plant_nature_landscape_icon_225325.png&quot;,\n",
       "  &quot;iconSize&quot;: [40, 40],\n",
       "});\n",
       "        marker_ac09ccc6e96c15bc3d4e9cc8cb267407.setIcon(custom_icon_9e13980cd221098d602ff83bc1da37dd);\n",
       "        \n",
       "    \n",
       "        var popup_f5098c0bac7a452b103f7c9c9aab8c7a = L.popup({\n",
       "  &quot;maxWidth&quot;: &quot;100%&quot;,\n",
       "});\n",
       "\n",
       "        \n",
       "            \n",
       "                var html_b8b52e1df82830ac89cb58ee5b1fa399 = $(`&lt;div id=&quot;html_b8b52e1df82830ac89cb58ee5b1fa399&quot; style=&quot;width: 100.0%; height: 100.0%;&quot;&gt;Gorges du Verdon&lt;/div&gt;`)[0];\n",
       "                popup_f5098c0bac7a452b103f7c9c9aab8c7a.setContent(html_b8b52e1df82830ac89cb58ee5b1fa399);\n",
       "            \n",
       "        \n",
       "\n",
       "        marker_ac09ccc6e96c15bc3d4e9cc8cb267407.bindPopup(popup_f5098c0bac7a452b103f7c9c9aab8c7a)\n",
       "        ;\n",
       "\n",
       "        \n",
       "    \n",
       "    \n",
       "                marker_ac09ccc6e96c15bc3d4e9cc8cb267407.setIcon(custom_icon_9e13980cd221098d602ff83bc1da37dd);\n",
       "            \n",
       "    \n",
       "            tile_layer_e36486f1eedaa87190eafb68dfbf767b.addTo(map_cb9109bdbfb085336a632564b32b5316);\n",
       "        \n",
       "    \n",
       "                marker_7c2330420d99b2b6c2d46d1f3f67438c.setIcon(custom_icon_cf67b20df7140a9cf6e1798c67c2a6ed);\n",
       "            \n",
       "    \n",
       "                marker_ab9bd00f9dfdf3cc9f0d26331894df40.setIcon(custom_icon_b4d92e08b48bc20d5513b7a845551f86);\n",
       "            \n",
       "    \n",
       "                marker_611386b564e4646ef6c8ed9a123b8d8b.setIcon(custom_icon_fe3847d2d9b29df1bde60a0cb2ae5b2a);\n",
       "            \n",
       "    \n",
       "                marker_8c64dd38bcd2f4153b27e1813f821ac2.setIcon(custom_icon_b5648431814643ea370610b5e9489a82);\n",
       "            \n",
       "    \n",
       "                marker_2c46dd8e1d14c0d9063f0855b1d1f8d4.setIcon(custom_icon_aef602aaae895b104e95cbb826caee36);\n",
       "            \n",
       "    \n",
       "                marker_5510910e7335138b87f3fbbdedda86f8.setIcon(custom_icon_7f78b949b8a25846eaf8e55d39f26fba);\n",
       "            \n",
       "    \n",
       "                marker_8a1848efdea1440140fa17a3370593a6.setIcon(custom_icon_e9f9dc953c3651576b913e2de539ff36);\n",
       "            \n",
       "    \n",
       "                marker_5d46c23db28fbcd4ffd6d4c30d084f5a.setIcon(custom_icon_dd8d4bb8330c68f57257cbba9038e4ff);\n",
       "            \n",
       "    \n",
       "                marker_7d2023dff7071fc442f89c73d5acf03d.setIcon(custom_icon_660f9891326fba6fbc62e1c6a42bdaa9);\n",
       "            \n",
       "    \n",
       "                marker_657b01858d1eb520f4a4969d2f78b082.setIcon(custom_icon_75eedbdd337227250f93017749d2a544);\n",
       "            \n",
       "    \n",
       "                marker_1b78b187dde0a97bd6755d948cf8ba15.setIcon(custom_icon_2251c46eb87226328004af37afe321e0);\n",
       "            \n",
       "    \n",
       "                marker_f6d5b2c84f4b34d5e192b7306140e6ec.setIcon(custom_icon_f4ec8147ff53ab53dfc301e15d38ccb0);\n",
       "            \n",
       "    \n",
       "                marker_d1268ab1ac1107fc01cd4676f7e7624d.setIcon(custom_icon_e5450c901742a0b29a0507f724787bc2);\n",
       "            \n",
       "    \n",
       "                marker_b75fe8064e2b72f852a25ddb0b97da8a.setIcon(custom_icon_eedcd70fa2e500176d0571c06c70519c);\n",
       "            \n",
       "    \n",
       "                marker_d2081f4c88ba21693e98ed41e6286679.setIcon(custom_icon_d034f56ac1ab399b6b878ff25870e0d4);\n",
       "            \n",
       "    \n",
       "                marker_8a8ca27dfceb82fa89b792bd3a93db80.setIcon(custom_icon_6e7f7a11e707258aeae0cdadd853115d);\n",
       "            \n",
       "    \n",
       "                marker_6cfef7748ab1fcd0bd14c1ca5ee58ea6.setIcon(custom_icon_588eb93de97b76cfeb17652f84105e35);\n",
       "            \n",
       "    \n",
       "                marker_49d6e9f4b1dea3fe3c3a92f61cc1b617.setIcon(custom_icon_fe2ac84dd84cf27b008bdd10654ed464);\n",
       "            \n",
       "    \n",
       "                marker_d414321fe790744912b2727dc5ca6df4.setIcon(custom_icon_84753b70f7858c4e675b5afe72bc852d);\n",
       "            \n",
       "    \n",
       "                marker_3456d45ce401cec7a5f6d20823a2c5fa.setIcon(custom_icon_02c667a314c2c3db5dc51e6797523167);\n",
       "            \n",
       "    \n",
       "                marker_bff2cc5bd4b68a3ac903d407bc258bcf.setIcon(custom_icon_4e8356c680da3d17e732f43c252a2dc0);\n",
       "            \n",
       "    \n",
       "                marker_0f8f59939f96918e69b9305fd52d1099.setIcon(custom_icon_fce6c37980e4acec36e22bf40b2d1a88);\n",
       "            \n",
       "    \n",
       "                marker_5fce9d05357c394433e0bc340bdf1c5d.setIcon(custom_icon_d487e1400dbc6406ff26df6b3618fde8);\n",
       "            \n",
       "    \n",
       "                marker_3440aaf86701f6122c38c9fde9865374.setIcon(custom_icon_0634d8eb5905685f9d58c19bef7ad7ed);\n",
       "            \n",
       "    \n",
       "                marker_2c2f439bcd0808e3b9d1912657f81382.setIcon(custom_icon_363625f0afadc65f13fffcf8e5166903);\n",
       "            \n",
       "    \n",
       "                marker_084ddc7ac377b765045433ef6e00fb6c.setIcon(custom_icon_b10107f7438888517650f294a74b6f8d);\n",
       "            \n",
       "    \n",
       "                marker_194d1f57d799dfe8bccea4b80e52473d.setIcon(custom_icon_a6ff259b203876393457acca4900893d);\n",
       "            \n",
       "    \n",
       "                marker_3eac217163ee1e6d60b22fe1224d4463.setIcon(custom_icon_0a4c289444d78d01bec1b1b6ad56f402);\n",
       "            \n",
       "    \n",
       "                marker_dbf02ee022b6277d71e639f1909f6975.setIcon(custom_icon_4cdeee96a7d976cf58742b78d9159573);\n",
       "            \n",
       "    \n",
       "                marker_f396702fb9fcf2022e002b1f8dcd5bf3.setIcon(custom_icon_2e42ee11b7ee508efbb55d959f91b4ce);\n",
       "            \n",
       "    \n",
       "                marker_b88fcc8bc980daffecc36d839ab93e80.setIcon(custom_icon_062fbe8de5f7ba4325d7d11d4e72fae4);\n",
       "            \n",
       "    \n",
       "                marker_442fe3ccada6d7884409425b0908a9eb.setIcon(custom_icon_ae4655f0887e90959e0c1736f5316cc2);\n",
       "            \n",
       "    \n",
       "                marker_a6aa8e5f258bb4366438e4df7ec1a93e.setIcon(custom_icon_0a976049c3a89f698d1b24d9fb22cdb0);\n",
       "            \n",
       "    \n",
       "                marker_7894d9987a6882db8f7fb95c8144b562.setIcon(custom_icon_c307c4a516ba5c89ecafbdaa650c8874);\n",
       "            \n",
       "    \n",
       "                marker_ac09ccc6e96c15bc3d4e9cc8cb267407.setIcon(custom_icon_9e13980cd221098d602ff83bc1da37dd);\n",
       "            \n",
       "&lt;/script&gt;\n",
       "&lt;/html&gt;\" style=\"position:absolute;width:100%;height:100%;left:0;top:0;border:none !important;\" allowfullscreen webkitallowfullscreen mozallowfullscreen></iframe></div></div>"
      ],
      "text/plain": [
       "<folium.folium.Map at 0x1e69d6ac1f0>"
      ]
     },
     "execution_count": 71,
     "metadata": {},
     "output_type": "execute_result"
    }
   ],
   "source": [
    "# Création d'une carte pour visualiser les 35 best cities/points d'intérêts et leur localisation exacte\n",
    "map = folium.Map(location=[46.603354, 1.888334], zoom_start=6)\n",
    "\n",
    "# Définir le marker \n",
    "icon_url = \"https://images.icon-icons.com/3565/PNG/512/tree_flower_plant_nature_landscape_icon_225325.png\"\n",
    "\n",
    "# Ajouter les villes à la carte\n",
    "for i, row in df_merged.iterrows():\n",
    "    folium.Marker(\n",
    "        location=[row['lat'], row['lon']],\n",
    "        popup=row['cities'],\n",
    "        icon=folium.CustomIcon(icon_url, icon_size=(40, 40))  # Ajustez la taille de l'icône si nécessaire\n",
    "    ).add_to(map)\n",
    "\n",
    "# Sauvegarder la carte dans un fichier HTML\n",
    "map.save('maps/map_best_city.html')\n",
    "\n",
    "# Afficher la carte\n",
    "map"
   ]
  },
  {
   "cell_type": "code",
   "execution_count": 13,
   "metadata": {},
   "outputs": [],
   "source": [
    "# Enregistrement du DataFrame fusionné en fichier CSV\n",
    "df_merged.to_csv('data/best_cities_merged.csv', index=False)"
   ]
  },
  {
   "cell_type": "markdown",
   "metadata": {},
   "source": [
    "## Import des informations météo"
   ]
  },
  {
   "cell_type": "code",
   "execution_count": 14,
   "metadata": {},
   "outputs": [],
   "source": [
    "df=pd.read_csv(\"data/best_cities_merged.csv\")"
   ]
  },
  {
   "cell_type": "code",
   "execution_count": 15,
   "metadata": {},
   "outputs": [
    {
     "data": {
      "text/plain": [
       "<Response [200]>"
      ]
     },
     "execution_count": 15,
     "metadata": {},
     "output_type": "execute_result"
    }
   ],
   "source": [
    "url = f\"https://api.openweathermap.org/data/3.0/onecall?lat={df.loc[0, 'lat']}&lon={df.loc[0, 'lon']}&units=metric&exclude=hourly,daily&appid={Open_Weather_API_Key_Myriam}\"\n",
    "\n",
    "r = requests.get(url)\n",
    "data = r.json()\n",
    "r"
   ]
  },
  {
   "cell_type": "code",
   "execution_count": 16,
   "metadata": {},
   "outputs": [],
   "source": [
    "# import des informations météorologiques importantes\n",
    "for i in df.index:\n",
    "    lat = df.loc[i, 'lat']\n",
    "    lon = df.loc[i, 'lon']\n",
    "\n",
    "    url = f\"https://api.openweathermap.org/data/3.0/onecall?lat={lat}&lon={lon}&units=metric&exclude=hourly,daily&appid={Open_Weather_API_Key_Myriam}\"\n",
    "\n",
    "    r = requests.get(url)\n",
    "\n",
    "    if r.status_code == 200:\n",
    "        data = r.json()\n",
    "  \n",
    "        df.loc[i,\"date\"] = data[\"current\"][\"dt\"]\n",
    "        df.loc[i, \"temp\"] = data[\"current\"][\"temp\"]\n",
    "        df.loc[i, \"feels_like\"] = data[\"current\"][\"feels_like\"]\n",
    "        df.loc[i, \"uvi\"] = data[\"current\"][\"uvi\"]\n",
    "        df.loc[i, \"humidity\"] = data[\"current\"][\"humidity\"]\n",
    "        df.loc[i, \"wind_speed\"] = data[\"current\"][\"wind_speed\"]\n",
    "        df.loc[i, \"description\"] = data[\"current\"][\"weather\"][0][\"description\"]\n",
    "        \n",
    "    else:\n",
    "        print(f\"Erreur lors de la requête pour l'index {i} : {r.status_code}\")\n",
    "        print(r.text)  # Imprime le message d'erreur pour plus de détails\n",
    "\n"
   ]
  },
  {
   "cell_type": "code",
   "execution_count": 17,
   "metadata": {},
   "outputs": [
    {
     "data": {
      "text/html": [
       "<div>\n",
       "<style scoped>\n",
       "    .dataframe tbody tr th:only-of-type {\n",
       "        vertical-align: middle;\n",
       "    }\n",
       "\n",
       "    .dataframe tbody tr th {\n",
       "        vertical-align: top;\n",
       "    }\n",
       "\n",
       "    .dataframe thead th {\n",
       "        text-align: right;\n",
       "    }\n",
       "</style>\n",
       "<table border=\"1\" class=\"dataframe\">\n",
       "  <thead>\n",
       "    <tr style=\"text-align: right;\">\n",
       "      <th></th>\n",
       "      <th>cities</th>\n",
       "      <th>name</th>\n",
       "      <th>country</th>\n",
       "      <th>state</th>\n",
       "      <th>lat</th>\n",
       "      <th>lon</th>\n",
       "      <th>date</th>\n",
       "      <th>temp</th>\n",
       "      <th>feels_like</th>\n",
       "      <th>uvi</th>\n",
       "      <th>humidity</th>\n",
       "      <th>wind_speed</th>\n",
       "      <th>description</th>\n",
       "    </tr>\n",
       "  </thead>\n",
       "  <tbody>\n",
       "    <tr>\n",
       "      <th>0</th>\n",
       "      <td>Mont Saint Michel</td>\n",
       "      <td>Mont Saint-Michel</td>\n",
       "      <td>FR</td>\n",
       "      <td>Normandy</td>\n",
       "      <td>48.635954</td>\n",
       "      <td>-1.511460</td>\n",
       "      <td>1.745405e+09</td>\n",
       "      <td>12.99</td>\n",
       "      <td>12.64</td>\n",
       "      <td>3.26</td>\n",
       "      <td>88.0</td>\n",
       "      <td>9.01</td>\n",
       "      <td>broken clouds</td>\n",
       "    </tr>\n",
       "    <tr>\n",
       "      <th>1</th>\n",
       "      <td>St Malo</td>\n",
       "      <td>Saint-Malo</td>\n",
       "      <td>FR</td>\n",
       "      <td>Brittany</td>\n",
       "      <td>48.649518</td>\n",
       "      <td>-2.026041</td>\n",
       "      <td>1.745405e+09</td>\n",
       "      <td>12.29</td>\n",
       "      <td>12.03</td>\n",
       "      <td>4.91</td>\n",
       "      <td>94.0</td>\n",
       "      <td>7.20</td>\n",
       "      <td>broken clouds</td>\n",
       "    </tr>\n",
       "    <tr>\n",
       "      <th>2</th>\n",
       "      <td>Bayeux</td>\n",
       "      <td>Bayeux</td>\n",
       "      <td>FR</td>\n",
       "      <td>Normandy</td>\n",
       "      <td>49.276462</td>\n",
       "      <td>-0.702474</td>\n",
       "      <td>1.745405e+09</td>\n",
       "      <td>14.14</td>\n",
       "      <td>13.93</td>\n",
       "      <td>4.51</td>\n",
       "      <td>89.0</td>\n",
       "      <td>4.76</td>\n",
       "      <td>broken clouds</td>\n",
       "    </tr>\n",
       "    <tr>\n",
       "      <th>3</th>\n",
       "      <td>Le Havre</td>\n",
       "      <td>Le Havre</td>\n",
       "      <td>FR</td>\n",
       "      <td>Normandy</td>\n",
       "      <td>49.493898</td>\n",
       "      <td>0.107973</td>\n",
       "      <td>1.745405e+09</td>\n",
       "      <td>12.51</td>\n",
       "      <td>12.27</td>\n",
       "      <td>4.50</td>\n",
       "      <td>94.0</td>\n",
       "      <td>6.69</td>\n",
       "      <td>broken clouds</td>\n",
       "    </tr>\n",
       "    <tr>\n",
       "      <th>4</th>\n",
       "      <td>Rouen</td>\n",
       "      <td>Rouen</td>\n",
       "      <td>FR</td>\n",
       "      <td>Normandy</td>\n",
       "      <td>49.440459</td>\n",
       "      <td>1.093966</td>\n",
       "      <td>1.745405e+09</td>\n",
       "      <td>11.52</td>\n",
       "      <td>10.97</td>\n",
       "      <td>4.53</td>\n",
       "      <td>86.0</td>\n",
       "      <td>6.17</td>\n",
       "      <td>broken clouds</td>\n",
       "    </tr>\n",
       "  </tbody>\n",
       "</table>\n",
       "</div>"
      ],
      "text/plain": [
       "              cities               name country     state        lat  \\\n",
       "0  Mont Saint Michel  Mont Saint-Michel      FR  Normandy  48.635954   \n",
       "1            St Malo         Saint-Malo      FR  Brittany  48.649518   \n",
       "2             Bayeux             Bayeux      FR  Normandy  49.276462   \n",
       "3           Le Havre           Le Havre      FR  Normandy  49.493898   \n",
       "4              Rouen              Rouen      FR  Normandy  49.440459   \n",
       "\n",
       "        lon          date   temp  feels_like   uvi  humidity  wind_speed  \\\n",
       "0 -1.511460  1.745405e+09  12.99       12.64  3.26      88.0        9.01   \n",
       "1 -2.026041  1.745405e+09  12.29       12.03  4.91      94.0        7.20   \n",
       "2 -0.702474  1.745405e+09  14.14       13.93  4.51      89.0        4.76   \n",
       "3  0.107973  1.745405e+09  12.51       12.27  4.50      94.0        6.69   \n",
       "4  1.093966  1.745405e+09  11.52       10.97  4.53      86.0        6.17   \n",
       "\n",
       "     description  \n",
       "0  broken clouds  \n",
       "1  broken clouds  \n",
       "2  broken clouds  \n",
       "3  broken clouds  \n",
       "4  broken clouds  "
      ]
     },
     "execution_count": 17,
     "metadata": {},
     "output_type": "execute_result"
    }
   ],
   "source": [
    "df.head()"
   ]
  },
  {
   "cell_type": "code",
   "execution_count": 18,
   "metadata": {},
   "outputs": [
    {
     "data": {
      "text/html": [
       "<div>\n",
       "<style scoped>\n",
       "    .dataframe tbody tr th:only-of-type {\n",
       "        vertical-align: middle;\n",
       "    }\n",
       "\n",
       "    .dataframe tbody tr th {\n",
       "        vertical-align: top;\n",
       "    }\n",
       "\n",
       "    .dataframe thead th {\n",
       "        text-align: right;\n",
       "    }\n",
       "</style>\n",
       "<table border=\"1\" class=\"dataframe\">\n",
       "  <thead>\n",
       "    <tr style=\"text-align: right;\">\n",
       "      <th></th>\n",
       "      <th>cities</th>\n",
       "      <th>name</th>\n",
       "      <th>country</th>\n",
       "      <th>state</th>\n",
       "      <th>lat</th>\n",
       "      <th>lon</th>\n",
       "      <th>date</th>\n",
       "      <th>temp</th>\n",
       "      <th>feels_like</th>\n",
       "      <th>uvi</th>\n",
       "      <th>humidity</th>\n",
       "      <th>wind_speed</th>\n",
       "      <th>description</th>\n",
       "    </tr>\n",
       "  </thead>\n",
       "  <tbody>\n",
       "    <tr>\n",
       "      <th>0</th>\n",
       "      <td>Mont Saint Michel</td>\n",
       "      <td>Mont Saint-Michel</td>\n",
       "      <td>FR</td>\n",
       "      <td>Normandy</td>\n",
       "      <td>48.635954</td>\n",
       "      <td>-1.511460</td>\n",
       "      <td>2025-04-23 10:39:55</td>\n",
       "      <td>12.99</td>\n",
       "      <td>12.64</td>\n",
       "      <td>3.26</td>\n",
       "      <td>88.0</td>\n",
       "      <td>9.01</td>\n",
       "      <td>broken clouds</td>\n",
       "    </tr>\n",
       "    <tr>\n",
       "      <th>1</th>\n",
       "      <td>St Malo</td>\n",
       "      <td>Saint-Malo</td>\n",
       "      <td>FR</td>\n",
       "      <td>Brittany</td>\n",
       "      <td>48.649518</td>\n",
       "      <td>-2.026041</td>\n",
       "      <td>2025-04-23 10:40:00</td>\n",
       "      <td>12.29</td>\n",
       "      <td>12.03</td>\n",
       "      <td>4.91</td>\n",
       "      <td>94.0</td>\n",
       "      <td>7.20</td>\n",
       "      <td>broken clouds</td>\n",
       "    </tr>\n",
       "    <tr>\n",
       "      <th>2</th>\n",
       "      <td>Bayeux</td>\n",
       "      <td>Bayeux</td>\n",
       "      <td>FR</td>\n",
       "      <td>Normandy</td>\n",
       "      <td>49.276462</td>\n",
       "      <td>-0.702474</td>\n",
       "      <td>2025-04-23 10:40:00</td>\n",
       "      <td>14.14</td>\n",
       "      <td>13.93</td>\n",
       "      <td>4.51</td>\n",
       "      <td>89.0</td>\n",
       "      <td>4.76</td>\n",
       "      <td>broken clouds</td>\n",
       "    </tr>\n",
       "    <tr>\n",
       "      <th>3</th>\n",
       "      <td>Le Havre</td>\n",
       "      <td>Le Havre</td>\n",
       "      <td>FR</td>\n",
       "      <td>Normandy</td>\n",
       "      <td>49.493898</td>\n",
       "      <td>0.107973</td>\n",
       "      <td>2025-04-23 10:40:01</td>\n",
       "      <td>12.51</td>\n",
       "      <td>12.27</td>\n",
       "      <td>4.50</td>\n",
       "      <td>94.0</td>\n",
       "      <td>6.69</td>\n",
       "      <td>broken clouds</td>\n",
       "    </tr>\n",
       "    <tr>\n",
       "      <th>4</th>\n",
       "      <td>Rouen</td>\n",
       "      <td>Rouen</td>\n",
       "      <td>FR</td>\n",
       "      <td>Normandy</td>\n",
       "      <td>49.440459</td>\n",
       "      <td>1.093966</td>\n",
       "      <td>2025-04-23 10:40:01</td>\n",
       "      <td>11.52</td>\n",
       "      <td>10.97</td>\n",
       "      <td>4.53</td>\n",
       "      <td>86.0</td>\n",
       "      <td>6.17</td>\n",
       "      <td>broken clouds</td>\n",
       "    </tr>\n",
       "  </tbody>\n",
       "</table>\n",
       "</div>"
      ],
      "text/plain": [
       "              cities               name country     state        lat  \\\n",
       "0  Mont Saint Michel  Mont Saint-Michel      FR  Normandy  48.635954   \n",
       "1            St Malo         Saint-Malo      FR  Brittany  48.649518   \n",
       "2             Bayeux             Bayeux      FR  Normandy  49.276462   \n",
       "3           Le Havre           Le Havre      FR  Normandy  49.493898   \n",
       "4              Rouen              Rouen      FR  Normandy  49.440459   \n",
       "\n",
       "        lon                date   temp  feels_like   uvi  humidity  \\\n",
       "0 -1.511460 2025-04-23 10:39:55  12.99       12.64  3.26      88.0   \n",
       "1 -2.026041 2025-04-23 10:40:00  12.29       12.03  4.91      94.0   \n",
       "2 -0.702474 2025-04-23 10:40:00  14.14       13.93  4.51      89.0   \n",
       "3  0.107973 2025-04-23 10:40:01  12.51       12.27  4.50      94.0   \n",
       "4  1.093966 2025-04-23 10:40:01  11.52       10.97  4.53      86.0   \n",
       "\n",
       "   wind_speed    description  \n",
       "0        9.01  broken clouds  \n",
       "1        7.20  broken clouds  \n",
       "2        4.76  broken clouds  \n",
       "3        6.69  broken clouds  \n",
       "4        6.17  broken clouds  "
      ]
     },
     "execution_count": 18,
     "metadata": {},
     "output_type": "execute_result"
    }
   ],
   "source": [
    "#conversion de la colonne date en formation datetime\n",
    "df['date'] = pd.to_datetime(df['date'], unit='s')\n",
    "df.head()"
   ]
  },
  {
   "cell_type": "code",
   "execution_count": 19,
   "metadata": {},
   "outputs": [],
   "source": [
    "# Enregistrer le DataFrame en fichier CSV\n",
    "df.to_csv('data/best_cities_weather.csv', index=False)"
   ]
  },
  {
   "cell_type": "markdown",
   "metadata": {},
   "source": [
    "# Rapide EDA "
   ]
  },
  {
   "cell_type": "code",
   "execution_count": 20,
   "metadata": {},
   "outputs": [
    {
     "data": {
      "text/html": [
       "<div>\n",
       "<style scoped>\n",
       "    .dataframe tbody tr th:only-of-type {\n",
       "        vertical-align: middle;\n",
       "    }\n",
       "\n",
       "    .dataframe tbody tr th {\n",
       "        vertical-align: top;\n",
       "    }\n",
       "\n",
       "    .dataframe thead th {\n",
       "        text-align: right;\n",
       "    }\n",
       "</style>\n",
       "<table border=\"1\" class=\"dataframe\">\n",
       "  <thead>\n",
       "    <tr style=\"text-align: right;\">\n",
       "      <th></th>\n",
       "      <th>cities</th>\n",
       "      <th>name</th>\n",
       "      <th>country</th>\n",
       "      <th>state</th>\n",
       "      <th>lat</th>\n",
       "      <th>lon</th>\n",
       "      <th>date</th>\n",
       "      <th>temp</th>\n",
       "      <th>feels_like</th>\n",
       "      <th>uvi</th>\n",
       "      <th>humidity</th>\n",
       "      <th>wind_speed</th>\n",
       "      <th>description</th>\n",
       "    </tr>\n",
       "  </thead>\n",
       "  <tbody>\n",
       "    <tr>\n",
       "      <th>0</th>\n",
       "      <td>Mont Saint Michel</td>\n",
       "      <td>Mont Saint-Michel</td>\n",
       "      <td>FR</td>\n",
       "      <td>Normandy</td>\n",
       "      <td>48.635954</td>\n",
       "      <td>-1.511460</td>\n",
       "      <td>2025-04-23 10:39:55</td>\n",
       "      <td>12.99</td>\n",
       "      <td>12.64</td>\n",
       "      <td>3.26</td>\n",
       "      <td>88.0</td>\n",
       "      <td>9.01</td>\n",
       "      <td>broken clouds</td>\n",
       "    </tr>\n",
       "    <tr>\n",
       "      <th>1</th>\n",
       "      <td>St Malo</td>\n",
       "      <td>Saint-Malo</td>\n",
       "      <td>FR</td>\n",
       "      <td>Brittany</td>\n",
       "      <td>48.649518</td>\n",
       "      <td>-2.026041</td>\n",
       "      <td>2025-04-23 10:40:00</td>\n",
       "      <td>12.29</td>\n",
       "      <td>12.03</td>\n",
       "      <td>4.91</td>\n",
       "      <td>94.0</td>\n",
       "      <td>7.20</td>\n",
       "      <td>broken clouds</td>\n",
       "    </tr>\n",
       "    <tr>\n",
       "      <th>2</th>\n",
       "      <td>Bayeux</td>\n",
       "      <td>Bayeux</td>\n",
       "      <td>FR</td>\n",
       "      <td>Normandy</td>\n",
       "      <td>49.276462</td>\n",
       "      <td>-0.702474</td>\n",
       "      <td>2025-04-23 10:40:00</td>\n",
       "      <td>14.14</td>\n",
       "      <td>13.93</td>\n",
       "      <td>4.51</td>\n",
       "      <td>89.0</td>\n",
       "      <td>4.76</td>\n",
       "      <td>broken clouds</td>\n",
       "    </tr>\n",
       "    <tr>\n",
       "      <th>3</th>\n",
       "      <td>Le Havre</td>\n",
       "      <td>Le Havre</td>\n",
       "      <td>FR</td>\n",
       "      <td>Normandy</td>\n",
       "      <td>49.493898</td>\n",
       "      <td>0.107973</td>\n",
       "      <td>2025-04-23 10:40:01</td>\n",
       "      <td>12.51</td>\n",
       "      <td>12.27</td>\n",
       "      <td>4.50</td>\n",
       "      <td>94.0</td>\n",
       "      <td>6.69</td>\n",
       "      <td>broken clouds</td>\n",
       "    </tr>\n",
       "    <tr>\n",
       "      <th>4</th>\n",
       "      <td>Rouen</td>\n",
       "      <td>Rouen</td>\n",
       "      <td>FR</td>\n",
       "      <td>Normandy</td>\n",
       "      <td>49.440459</td>\n",
       "      <td>1.093966</td>\n",
       "      <td>2025-04-23 10:40:01</td>\n",
       "      <td>11.52</td>\n",
       "      <td>10.97</td>\n",
       "      <td>4.53</td>\n",
       "      <td>86.0</td>\n",
       "      <td>6.17</td>\n",
       "      <td>broken clouds</td>\n",
       "    </tr>\n",
       "    <tr>\n",
       "      <th>5</th>\n",
       "      <td>Paris</td>\n",
       "      <td>Paris</td>\n",
       "      <td>FR</td>\n",
       "      <td>Ile-de-France</td>\n",
       "      <td>48.858890</td>\n",
       "      <td>2.320041</td>\n",
       "      <td>2025-04-23 10:40:01</td>\n",
       "      <td>11.32</td>\n",
       "      <td>10.91</td>\n",
       "      <td>4.52</td>\n",
       "      <td>92.0</td>\n",
       "      <td>5.66</td>\n",
       "      <td>light intensity drizzle</td>\n",
       "    </tr>\n",
       "    <tr>\n",
       "      <th>6</th>\n",
       "      <td>Amiens</td>\n",
       "      <td>Amiens</td>\n",
       "      <td>FR</td>\n",
       "      <td>Hauts-de-France</td>\n",
       "      <td>49.894171</td>\n",
       "      <td>2.295695</td>\n",
       "      <td>2025-04-23 10:40:01</td>\n",
       "      <td>10.10</td>\n",
       "      <td>9.57</td>\n",
       "      <td>1.10</td>\n",
       "      <td>92.0</td>\n",
       "      <td>4.43</td>\n",
       "      <td>overcast clouds</td>\n",
       "    </tr>\n",
       "    <tr>\n",
       "      <th>7</th>\n",
       "      <td>Lille</td>\n",
       "      <td>Lille</td>\n",
       "      <td>FR</td>\n",
       "      <td>Hauts-de-France</td>\n",
       "      <td>50.636565</td>\n",
       "      <td>3.063528</td>\n",
       "      <td>2025-04-23 10:40:01</td>\n",
       "      <td>9.37</td>\n",
       "      <td>6.07</td>\n",
       "      <td>0.82</td>\n",
       "      <td>71.0</td>\n",
       "      <td>7.20</td>\n",
       "      <td>light intensity drizzle</td>\n",
       "    </tr>\n",
       "    <tr>\n",
       "      <th>8</th>\n",
       "      <td>Strasbourg</td>\n",
       "      <td>Strasbourg</td>\n",
       "      <td>FR</td>\n",
       "      <td>Grand Est</td>\n",
       "      <td>48.584614</td>\n",
       "      <td>7.750713</td>\n",
       "      <td>2025-04-23 10:40:01</td>\n",
       "      <td>17.01</td>\n",
       "      <td>16.41</td>\n",
       "      <td>3.67</td>\n",
       "      <td>63.0</td>\n",
       "      <td>2.06</td>\n",
       "      <td>clear sky</td>\n",
       "    </tr>\n",
       "    <tr>\n",
       "      <th>9</th>\n",
       "      <td>Chateau du Haut Koenigsbourg</td>\n",
       "      <td>Château du Haut-Kœnigsbourg</td>\n",
       "      <td>FR</td>\n",
       "      <td>Grand Est</td>\n",
       "      <td>48.249523</td>\n",
       "      <td>7.345492</td>\n",
       "      <td>2025-04-23 10:40:01</td>\n",
       "      <td>12.90</td>\n",
       "      <td>12.00</td>\n",
       "      <td>5.07</td>\n",
       "      <td>67.0</td>\n",
       "      <td>1.03</td>\n",
       "      <td>clear sky</td>\n",
       "    </tr>\n",
       "    <tr>\n",
       "      <th>10</th>\n",
       "      <td>Colmar</td>\n",
       "      <td>Colmar</td>\n",
       "      <td>FR</td>\n",
       "      <td>Grand Est</td>\n",
       "      <td>48.077752</td>\n",
       "      <td>7.357964</td>\n",
       "      <td>2025-04-23 10:40:01</td>\n",
       "      <td>15.94</td>\n",
       "      <td>15.34</td>\n",
       "      <td>5.07</td>\n",
       "      <td>67.0</td>\n",
       "      <td>1.03</td>\n",
       "      <td>clear sky</td>\n",
       "    </tr>\n",
       "    <tr>\n",
       "      <th>11</th>\n",
       "      <td>Eguisheim</td>\n",
       "      <td>Eguisheim</td>\n",
       "      <td>FR</td>\n",
       "      <td>Grand Est</td>\n",
       "      <td>48.044797</td>\n",
       "      <td>7.307962</td>\n",
       "      <td>2025-04-23 10:40:02</td>\n",
       "      <td>15.90</td>\n",
       "      <td>15.30</td>\n",
       "      <td>5.07</td>\n",
       "      <td>67.0</td>\n",
       "      <td>1.03</td>\n",
       "      <td>clear sky</td>\n",
       "    </tr>\n",
       "    <tr>\n",
       "      <th>12</th>\n",
       "      <td>Besancon</td>\n",
       "      <td>Besançon</td>\n",
       "      <td>FR</td>\n",
       "      <td>Bourgogne-Franche-Comté</td>\n",
       "      <td>47.238022</td>\n",
       "      <td>6.024362</td>\n",
       "      <td>2025-04-23 10:40:02</td>\n",
       "      <td>14.13</td>\n",
       "      <td>13.56</td>\n",
       "      <td>3.53</td>\n",
       "      <td>75.0</td>\n",
       "      <td>5.30</td>\n",
       "      <td>overcast clouds</td>\n",
       "    </tr>\n",
       "    <tr>\n",
       "      <th>13</th>\n",
       "      <td>Dijon</td>\n",
       "      <td>Dijon</td>\n",
       "      <td>FR</td>\n",
       "      <td>Bourgogne-Franche-Comté</td>\n",
       "      <td>47.321581</td>\n",
       "      <td>5.041470</td>\n",
       "      <td>2025-04-23 10:40:02</td>\n",
       "      <td>12.80</td>\n",
       "      <td>12.12</td>\n",
       "      <td>2.28</td>\n",
       "      <td>76.0</td>\n",
       "      <td>2.57</td>\n",
       "      <td>light rain</td>\n",
       "    </tr>\n",
       "    <tr>\n",
       "      <th>14</th>\n",
       "      <td>Annecy</td>\n",
       "      <td>Annecy</td>\n",
       "      <td>FR</td>\n",
       "      <td>Auvergne-Rhône-Alpes</td>\n",
       "      <td>45.899235</td>\n",
       "      <td>6.128885</td>\n",
       "      <td>2025-04-23 10:40:02</td>\n",
       "      <td>15.08</td>\n",
       "      <td>14.29</td>\n",
       "      <td>5.29</td>\n",
       "      <td>63.0</td>\n",
       "      <td>4.63</td>\n",
       "      <td>broken clouds</td>\n",
       "    </tr>\n",
       "    <tr>\n",
       "      <th>15</th>\n",
       "      <td>Grenoble</td>\n",
       "      <td>Grenoble</td>\n",
       "      <td>FR</td>\n",
       "      <td>Auvergne-Rhône-Alpes</td>\n",
       "      <td>45.187560</td>\n",
       "      <td>5.735782</td>\n",
       "      <td>2025-04-23 10:40:02</td>\n",
       "      <td>15.43</td>\n",
       "      <td>15.14</td>\n",
       "      <td>4.79</td>\n",
       "      <td>81.0</td>\n",
       "      <td>0.89</td>\n",
       "      <td>overcast clouds</td>\n",
       "    </tr>\n",
       "    <tr>\n",
       "      <th>16</th>\n",
       "      <td>Lyon</td>\n",
       "      <td>Lyon</td>\n",
       "      <td>FR</td>\n",
       "      <td>Auvergne-Rhône-Alpes</td>\n",
       "      <td>45.757814</td>\n",
       "      <td>4.832011</td>\n",
       "      <td>2025-04-23 10:40:02</td>\n",
       "      <td>15.98</td>\n",
       "      <td>15.17</td>\n",
       "      <td>2.87</td>\n",
       "      <td>59.0</td>\n",
       "      <td>3.13</td>\n",
       "      <td>light rain</td>\n",
       "    </tr>\n",
       "    <tr>\n",
       "      <th>17</th>\n",
       "      <td>Bormes les Mimosas</td>\n",
       "      <td>Bormes-les-Mimosas</td>\n",
       "      <td>FR</td>\n",
       "      <td>Provence-Alpes-Côte d'Azur</td>\n",
       "      <td>43.150697</td>\n",
       "      <td>6.341928</td>\n",
       "      <td>2025-04-23 10:40:02</td>\n",
       "      <td>18.55</td>\n",
       "      <td>18.05</td>\n",
       "      <td>6.34</td>\n",
       "      <td>61.0</td>\n",
       "      <td>6.17</td>\n",
       "      <td>clear sky</td>\n",
       "    </tr>\n",
       "    <tr>\n",
       "      <th>18</th>\n",
       "      <td>Cassis</td>\n",
       "      <td>Cassis</td>\n",
       "      <td>FR</td>\n",
       "      <td>Provence-Alpes-Côte d'Azur</td>\n",
       "      <td>43.214036</td>\n",
       "      <td>5.539632</td>\n",
       "      <td>2025-04-23 10:40:02</td>\n",
       "      <td>19.58</td>\n",
       "      <td>18.90</td>\n",
       "      <td>6.29</td>\n",
       "      <td>50.0</td>\n",
       "      <td>9.08</td>\n",
       "      <td>clear sky</td>\n",
       "    </tr>\n",
       "    <tr>\n",
       "      <th>19</th>\n",
       "      <td>Marseille</td>\n",
       "      <td>Marseille</td>\n",
       "      <td>FR</td>\n",
       "      <td>Provence-Alpes-Côte d'Azur</td>\n",
       "      <td>43.296174</td>\n",
       "      <td>5.369953</td>\n",
       "      <td>2025-04-23 10:40:02</td>\n",
       "      <td>19.75</td>\n",
       "      <td>19.09</td>\n",
       "      <td>6.19</td>\n",
       "      <td>50.0</td>\n",
       "      <td>7.20</td>\n",
       "      <td>clear sky</td>\n",
       "    </tr>\n",
       "    <tr>\n",
       "      <th>20</th>\n",
       "      <td>Aix en Provence</td>\n",
       "      <td>Aix-en-Provence</td>\n",
       "      <td>FR</td>\n",
       "      <td>Provence-Alpes-Côte d'Azur</td>\n",
       "      <td>43.529842</td>\n",
       "      <td>5.447474</td>\n",
       "      <td>2025-04-23 10:40:03</td>\n",
       "      <td>18.01</td>\n",
       "      <td>16.91</td>\n",
       "      <td>5.81</td>\n",
       "      <td>40.0</td>\n",
       "      <td>6.22</td>\n",
       "      <td>clear sky</td>\n",
       "    </tr>\n",
       "    <tr>\n",
       "      <th>21</th>\n",
       "      <td>Avignon</td>\n",
       "      <td>Avignon</td>\n",
       "      <td>FR</td>\n",
       "      <td>Provence-Alpes-Côte d'Azur</td>\n",
       "      <td>43.949249</td>\n",
       "      <td>4.805901</td>\n",
       "      <td>2025-04-23 10:40:03</td>\n",
       "      <td>19.67</td>\n",
       "      <td>19.02</td>\n",
       "      <td>6.14</td>\n",
       "      <td>51.0</td>\n",
       "      <td>6.17</td>\n",
       "      <td>clear sky</td>\n",
       "    </tr>\n",
       "    <tr>\n",
       "      <th>22</th>\n",
       "      <td>Uzes</td>\n",
       "      <td>Uzès</td>\n",
       "      <td>FR</td>\n",
       "      <td>Occitania</td>\n",
       "      <td>44.012128</td>\n",
       "      <td>4.419672</td>\n",
       "      <td>2025-04-23 10:40:03</td>\n",
       "      <td>19.56</td>\n",
       "      <td>18.64</td>\n",
       "      <td>6.42</td>\n",
       "      <td>41.0</td>\n",
       "      <td>4.06</td>\n",
       "      <td>scattered clouds</td>\n",
       "    </tr>\n",
       "    <tr>\n",
       "      <th>23</th>\n",
       "      <td>Nimes</td>\n",
       "      <td>Nimes</td>\n",
       "      <td>FR</td>\n",
       "      <td>Occitania</td>\n",
       "      <td>43.837425</td>\n",
       "      <td>4.360069</td>\n",
       "      <td>2025-04-23 10:40:03</td>\n",
       "      <td>20.22</td>\n",
       "      <td>19.26</td>\n",
       "      <td>6.22</td>\n",
       "      <td>37.0</td>\n",
       "      <td>4.63</td>\n",
       "      <td>clear sky</td>\n",
       "    </tr>\n",
       "    <tr>\n",
       "      <th>24</th>\n",
       "      <td>Aigues Mortes</td>\n",
       "      <td>Aigues-Mortes</td>\n",
       "      <td>FR</td>\n",
       "      <td>Occitania</td>\n",
       "      <td>43.565823</td>\n",
       "      <td>4.191284</td>\n",
       "      <td>2025-04-23 10:40:03</td>\n",
       "      <td>19.77</td>\n",
       "      <td>18.85</td>\n",
       "      <td>6.22</td>\n",
       "      <td>40.0</td>\n",
       "      <td>7.72</td>\n",
       "      <td>clear sky</td>\n",
       "    </tr>\n",
       "    <tr>\n",
       "      <th>25</th>\n",
       "      <td>Saintes Maries de la mer</td>\n",
       "      <td>Saintes-Maries-de-la-Mer</td>\n",
       "      <td>FR</td>\n",
       "      <td>Provence-Alpes-Côte d'Azur</td>\n",
       "      <td>43.452277</td>\n",
       "      <td>4.428717</td>\n",
       "      <td>2025-04-23 10:40:03</td>\n",
       "      <td>17.64</td>\n",
       "      <td>16.90</td>\n",
       "      <td>6.03</td>\n",
       "      <td>55.0</td>\n",
       "      <td>6.02</td>\n",
       "      <td>clear sky</td>\n",
       "    </tr>\n",
       "    <tr>\n",
       "      <th>26</th>\n",
       "      <td>Collioure</td>\n",
       "      <td>Collioure</td>\n",
       "      <td>FR</td>\n",
       "      <td>Occitania</td>\n",
       "      <td>42.525050</td>\n",
       "      <td>3.083155</td>\n",
       "      <td>2025-04-23 10:40:03</td>\n",
       "      <td>20.50</td>\n",
       "      <td>19.94</td>\n",
       "      <td>5.98</td>\n",
       "      <td>51.0</td>\n",
       "      <td>2.16</td>\n",
       "      <td>broken clouds</td>\n",
       "    </tr>\n",
       "    <tr>\n",
       "      <th>27</th>\n",
       "      <td>Carcassonne</td>\n",
       "      <td>Carcassonne</td>\n",
       "      <td>FR</td>\n",
       "      <td>Occitania</td>\n",
       "      <td>43.213036</td>\n",
       "      <td>2.349107</td>\n",
       "      <td>2025-04-23 10:40:03</td>\n",
       "      <td>14.31</td>\n",
       "      <td>13.55</td>\n",
       "      <td>3.30</td>\n",
       "      <td>67.0</td>\n",
       "      <td>6.17</td>\n",
       "      <td>broken clouds</td>\n",
       "    </tr>\n",
       "    <tr>\n",
       "      <th>28</th>\n",
       "      <td>Ariege</td>\n",
       "      <td>Tarascon-sur-Ariège</td>\n",
       "      <td>FR</td>\n",
       "      <td>Occitania</td>\n",
       "      <td>42.845802</td>\n",
       "      <td>1.606759</td>\n",
       "      <td>2025-04-23 10:40:03</td>\n",
       "      <td>15.44</td>\n",
       "      <td>14.50</td>\n",
       "      <td>5.98</td>\n",
       "      <td>56.0</td>\n",
       "      <td>2.56</td>\n",
       "      <td>broken clouds</td>\n",
       "    </tr>\n",
       "    <tr>\n",
       "      <th>29</th>\n",
       "      <td>Toulouse</td>\n",
       "      <td>Toulouse</td>\n",
       "      <td>FR</td>\n",
       "      <td>Occitania</td>\n",
       "      <td>43.604462</td>\n",
       "      <td>1.444247</td>\n",
       "      <td>2025-04-23 10:40:03</td>\n",
       "      <td>13.97</td>\n",
       "      <td>13.30</td>\n",
       "      <td>0.52</td>\n",
       "      <td>72.0</td>\n",
       "      <td>4.63</td>\n",
       "      <td>broken clouds</td>\n",
       "    </tr>\n",
       "    <tr>\n",
       "      <th>30</th>\n",
       "      <td>Montauban</td>\n",
       "      <td>Montauban</td>\n",
       "      <td>FR</td>\n",
       "      <td>Occitania</td>\n",
       "      <td>44.017584</td>\n",
       "      <td>1.354999</td>\n",
       "      <td>2025-04-23 10:40:04</td>\n",
       "      <td>13.17</td>\n",
       "      <td>12.55</td>\n",
       "      <td>0.34</td>\n",
       "      <td>77.0</td>\n",
       "      <td>3.62</td>\n",
       "      <td>overcast clouds</td>\n",
       "    </tr>\n",
       "    <tr>\n",
       "      <th>31</th>\n",
       "      <td>Biarritz</td>\n",
       "      <td>Biarritz</td>\n",
       "      <td>FR</td>\n",
       "      <td>Nouvelle-Aquitaine</td>\n",
       "      <td>43.483252</td>\n",
       "      <td>-1.559278</td>\n",
       "      <td>2025-04-23 10:40:04</td>\n",
       "      <td>15.30</td>\n",
       "      <td>14.77</td>\n",
       "      <td>5.85</td>\n",
       "      <td>72.0</td>\n",
       "      <td>5.14</td>\n",
       "      <td>overcast clouds</td>\n",
       "    </tr>\n",
       "    <tr>\n",
       "      <th>32</th>\n",
       "      <td>Bayonne</td>\n",
       "      <td>Bayonne</td>\n",
       "      <td>FR</td>\n",
       "      <td>Nouvelle-Aquitaine</td>\n",
       "      <td>43.494514</td>\n",
       "      <td>-1.473666</td>\n",
       "      <td>2025-04-23 10:40:04</td>\n",
       "      <td>15.42</td>\n",
       "      <td>14.90</td>\n",
       "      <td>4.00</td>\n",
       "      <td>72.0</td>\n",
       "      <td>5.14</td>\n",
       "      <td>overcast clouds</td>\n",
       "    </tr>\n",
       "    <tr>\n",
       "      <th>33</th>\n",
       "      <td>La Rochelle</td>\n",
       "      <td>La Rochelle</td>\n",
       "      <td>FR</td>\n",
       "      <td>Nouvelle-Aquitaine</td>\n",
       "      <td>46.159113</td>\n",
       "      <td>-1.152043</td>\n",
       "      <td>2025-04-23 10:40:04</td>\n",
       "      <td>12.25</td>\n",
       "      <td>11.99</td>\n",
       "      <td>0.37</td>\n",
       "      <td>94.0</td>\n",
       "      <td>6.17</td>\n",
       "      <td>light rain</td>\n",
       "    </tr>\n",
       "    <tr>\n",
       "      <th>34</th>\n",
       "      <td>Gorges du Verdon</td>\n",
       "      <td>NaN</td>\n",
       "      <td>NaN</td>\n",
       "      <td>NaN</td>\n",
       "      <td>43.749656</td>\n",
       "      <td>6.328562</td>\n",
       "      <td>2025-04-23 10:40:04</td>\n",
       "      <td>19.98</td>\n",
       "      <td>19.42</td>\n",
       "      <td>6.38</td>\n",
       "      <td>53.0</td>\n",
       "      <td>3.53</td>\n",
       "      <td>clear sky</td>\n",
       "    </tr>\n",
       "  </tbody>\n",
       "</table>\n",
       "</div>"
      ],
      "text/plain": [
       "                          cities                         name country  \\\n",
       "0              Mont Saint Michel            Mont Saint-Michel      FR   \n",
       "1                        St Malo                   Saint-Malo      FR   \n",
       "2                         Bayeux                       Bayeux      FR   \n",
       "3                       Le Havre                     Le Havre      FR   \n",
       "4                          Rouen                        Rouen      FR   \n",
       "5                          Paris                        Paris      FR   \n",
       "6                         Amiens                       Amiens      FR   \n",
       "7                          Lille                        Lille      FR   \n",
       "8                     Strasbourg                   Strasbourg      FR   \n",
       "9   Chateau du Haut Koenigsbourg  Château du Haut-Kœnigsbourg      FR   \n",
       "10                        Colmar                       Colmar      FR   \n",
       "11                     Eguisheim                    Eguisheim      FR   \n",
       "12                      Besancon                     Besançon      FR   \n",
       "13                         Dijon                        Dijon      FR   \n",
       "14                        Annecy                       Annecy      FR   \n",
       "15                      Grenoble                     Grenoble      FR   \n",
       "16                          Lyon                         Lyon      FR   \n",
       "17            Bormes les Mimosas           Bormes-les-Mimosas      FR   \n",
       "18                        Cassis                       Cassis      FR   \n",
       "19                     Marseille                    Marseille      FR   \n",
       "20               Aix en Provence              Aix-en-Provence      FR   \n",
       "21                       Avignon                      Avignon      FR   \n",
       "22                          Uzes                         Uzès      FR   \n",
       "23                         Nimes                        Nimes      FR   \n",
       "24                 Aigues Mortes                Aigues-Mortes      FR   \n",
       "25      Saintes Maries de la mer     Saintes-Maries-de-la-Mer      FR   \n",
       "26                     Collioure                    Collioure      FR   \n",
       "27                   Carcassonne                  Carcassonne      FR   \n",
       "28                        Ariege          Tarascon-sur-Ariège      FR   \n",
       "29                      Toulouse                     Toulouse      FR   \n",
       "30                     Montauban                    Montauban      FR   \n",
       "31                      Biarritz                     Biarritz      FR   \n",
       "32                       Bayonne                      Bayonne      FR   \n",
       "33                   La Rochelle                  La Rochelle      FR   \n",
       "34              Gorges du Verdon                          NaN     NaN   \n",
       "\n",
       "                         state        lat       lon                 date  \\\n",
       "0                     Normandy  48.635954 -1.511460  2025-04-23 10:39:55   \n",
       "1                     Brittany  48.649518 -2.026041  2025-04-23 10:40:00   \n",
       "2                     Normandy  49.276462 -0.702474  2025-04-23 10:40:00   \n",
       "3                     Normandy  49.493898  0.107973  2025-04-23 10:40:01   \n",
       "4                     Normandy  49.440459  1.093966  2025-04-23 10:40:01   \n",
       "5                Ile-de-France  48.858890  2.320041  2025-04-23 10:40:01   \n",
       "6              Hauts-de-France  49.894171  2.295695  2025-04-23 10:40:01   \n",
       "7              Hauts-de-France  50.636565  3.063528  2025-04-23 10:40:01   \n",
       "8                    Grand Est  48.584614  7.750713  2025-04-23 10:40:01   \n",
       "9                    Grand Est  48.249523  7.345492  2025-04-23 10:40:01   \n",
       "10                   Grand Est  48.077752  7.357964  2025-04-23 10:40:01   \n",
       "11                   Grand Est  48.044797  7.307962  2025-04-23 10:40:02   \n",
       "12     Bourgogne-Franche-Comté  47.238022  6.024362  2025-04-23 10:40:02   \n",
       "13     Bourgogne-Franche-Comté  47.321581  5.041470  2025-04-23 10:40:02   \n",
       "14        Auvergne-Rhône-Alpes  45.899235  6.128885  2025-04-23 10:40:02   \n",
       "15        Auvergne-Rhône-Alpes  45.187560  5.735782  2025-04-23 10:40:02   \n",
       "16        Auvergne-Rhône-Alpes  45.757814  4.832011  2025-04-23 10:40:02   \n",
       "17  Provence-Alpes-Côte d'Azur  43.150697  6.341928  2025-04-23 10:40:02   \n",
       "18  Provence-Alpes-Côte d'Azur  43.214036  5.539632  2025-04-23 10:40:02   \n",
       "19  Provence-Alpes-Côte d'Azur  43.296174  5.369953  2025-04-23 10:40:02   \n",
       "20  Provence-Alpes-Côte d'Azur  43.529842  5.447474  2025-04-23 10:40:03   \n",
       "21  Provence-Alpes-Côte d'Azur  43.949249  4.805901  2025-04-23 10:40:03   \n",
       "22                   Occitania  44.012128  4.419672  2025-04-23 10:40:03   \n",
       "23                   Occitania  43.837425  4.360069  2025-04-23 10:40:03   \n",
       "24                   Occitania  43.565823  4.191284  2025-04-23 10:40:03   \n",
       "25  Provence-Alpes-Côte d'Azur  43.452277  4.428717  2025-04-23 10:40:03   \n",
       "26                   Occitania  42.525050  3.083155  2025-04-23 10:40:03   \n",
       "27                   Occitania  43.213036  2.349107  2025-04-23 10:40:03   \n",
       "28                   Occitania  42.845802  1.606759  2025-04-23 10:40:03   \n",
       "29                   Occitania  43.604462  1.444247  2025-04-23 10:40:03   \n",
       "30                   Occitania  44.017584  1.354999  2025-04-23 10:40:04   \n",
       "31          Nouvelle-Aquitaine  43.483252 -1.559278  2025-04-23 10:40:04   \n",
       "32          Nouvelle-Aquitaine  43.494514 -1.473666  2025-04-23 10:40:04   \n",
       "33          Nouvelle-Aquitaine  46.159113 -1.152043  2025-04-23 10:40:04   \n",
       "34                         NaN  43.749656  6.328562  2025-04-23 10:40:04   \n",
       "\n",
       "     temp  feels_like   uvi  humidity  wind_speed              description  \n",
       "0   12.99       12.64  3.26      88.0        9.01            broken clouds  \n",
       "1   12.29       12.03  4.91      94.0        7.20            broken clouds  \n",
       "2   14.14       13.93  4.51      89.0        4.76            broken clouds  \n",
       "3   12.51       12.27  4.50      94.0        6.69            broken clouds  \n",
       "4   11.52       10.97  4.53      86.0        6.17            broken clouds  \n",
       "5   11.32       10.91  4.52      92.0        5.66  light intensity drizzle  \n",
       "6   10.10        9.57  1.10      92.0        4.43          overcast clouds  \n",
       "7    9.37        6.07  0.82      71.0        7.20  light intensity drizzle  \n",
       "8   17.01       16.41  3.67      63.0        2.06                clear sky  \n",
       "9   12.90       12.00  5.07      67.0        1.03                clear sky  \n",
       "10  15.94       15.34  5.07      67.0        1.03                clear sky  \n",
       "11  15.90       15.30  5.07      67.0        1.03                clear sky  \n",
       "12  14.13       13.56  3.53      75.0        5.30          overcast clouds  \n",
       "13  12.80       12.12  2.28      76.0        2.57               light rain  \n",
       "14  15.08       14.29  5.29      63.0        4.63            broken clouds  \n",
       "15  15.43       15.14  4.79      81.0        0.89          overcast clouds  \n",
       "16  15.98       15.17  2.87      59.0        3.13               light rain  \n",
       "17  18.55       18.05  6.34      61.0        6.17                clear sky  \n",
       "18  19.58       18.90  6.29      50.0        9.08                clear sky  \n",
       "19  19.75       19.09  6.19      50.0        7.20                clear sky  \n",
       "20  18.01       16.91  5.81      40.0        6.22                clear sky  \n",
       "21  19.67       19.02  6.14      51.0        6.17                clear sky  \n",
       "22  19.56       18.64  6.42      41.0        4.06         scattered clouds  \n",
       "23  20.22       19.26  6.22      37.0        4.63                clear sky  \n",
       "24  19.77       18.85  6.22      40.0        7.72                clear sky  \n",
       "25  17.64       16.90  6.03      55.0        6.02                clear sky  \n",
       "26  20.50       19.94  5.98      51.0        2.16            broken clouds  \n",
       "27  14.31       13.55  3.30      67.0        6.17            broken clouds  \n",
       "28  15.44       14.50  5.98      56.0        2.56            broken clouds  \n",
       "29  13.97       13.30  0.52      72.0        4.63            broken clouds  \n",
       "30  13.17       12.55  0.34      77.0        3.62          overcast clouds  \n",
       "31  15.30       14.77  5.85      72.0        5.14          overcast clouds  \n",
       "32  15.42       14.90  4.00      72.0        5.14          overcast clouds  \n",
       "33  12.25       11.99  0.37      94.0        6.17               light rain  \n",
       "34  19.98       19.42  6.38      53.0        3.53                clear sky  "
      ]
     },
     "execution_count": 20,
     "metadata": {},
     "output_type": "execute_result"
    }
   ],
   "source": [
    "bc = pd.read_csv(\"data/best_cities_weather.csv\")\n",
    "bc"
   ]
  },
  {
   "cell_type": "code",
   "execution_count": 21,
   "metadata": {},
   "outputs": [
    {
     "data": {
      "text/plain": [
       "(35, 13)"
      ]
     },
     "execution_count": 21,
     "metadata": {},
     "output_type": "execute_result"
    }
   ],
   "source": [
    "bc.shape"
   ]
  },
  {
   "cell_type": "code",
   "execution_count": 22,
   "metadata": {},
   "outputs": [
    {
     "data": {
      "application/vnd.plotly.v1+json": {
       "config": {
        "plotlyServerURL": "https://plot.ly"
       },
       "data": [
        {
         "hovertemplate": "Température (°C)=%{x}<br>Ville=%{y}<extra></extra>",
         "legendgroup": "",
         "marker": {
          "color": "#636efa",
          "pattern": {
           "shape": ""
          }
         },
         "name": "",
         "orientation": "h",
         "showlegend": false,
         "textposition": "auto",
         "type": "bar",
         "x": {
          "bdata": "PQrXo3C9IkAzMzMzMzMkQKRwPQrXoyZACtejcD0KJ0AAAAAAAIAoQBSuR+F6lChAhetRuB4FKUCamZmZmZkpQM3MzMzMzClAexSuR+H6KUDXo3A9ClcqQHE9Ctej8CtAw/UoXI9CLEBI4XoUrkcsQB+F61G4nixAKVyPwvUoLkCamZmZmZkuQNejcD0K1y5AXI/C9SjcLkDhehSuR+EuQM3MzMzMzC9A4XoUrkfhL0D2KFyPwvUvQMP1KFyPAjFApHA9CtejMUDD9ShcjwIyQM3MzMzMjDJAj8L1KFyPM0AUrkfhepQzQOxRuB6FqzNAAAAAAADAM0CF61G4HsUzQHsUrkfh+jNAuB6F61E4NEAAAAAAAIA0QA==",
          "dtype": "f8"
         },
         "xaxis": "x",
         "y": [
          "Lille",
          "Amiens",
          "Paris",
          "Rouen",
          "La Rochelle",
          "St Malo",
          "Le Havre",
          "Dijon",
          "Chateau du Haut Koenigsbourg",
          "Mont Saint Michel",
          "Montauban",
          "Toulouse",
          "Besancon",
          "Bayeux",
          "Carcassonne",
          "Annecy",
          "Biarritz",
          "Bayonne",
          "Grenoble",
          "Ariege",
          "Eguisheim",
          "Colmar",
          "Lyon",
          "Strasbourg",
          "Saintes Maries de la mer",
          "Aix en Provence",
          "Bormes les Mimosas",
          "Uzes",
          "Cassis",
          "Avignon",
          "Marseille",
          "Aigues Mortes",
          "Gorges du Verdon",
          "Nimes",
          "Collioure"
         ],
         "yaxis": "y"
        }
       ],
       "layout": {
        "barmode": "relative",
        "height": 800,
        "legend": {
         "tracegroupgap": 0
        },
        "template": {
         "data": {
          "bar": [
           {
            "error_x": {
             "color": "#2a3f5f"
            },
            "error_y": {
             "color": "#2a3f5f"
            },
            "marker": {
             "line": {
              "color": "#E5ECF6",
              "width": 0.5
             },
             "pattern": {
              "fillmode": "overlay",
              "size": 10,
              "solidity": 0.2
             }
            },
            "type": "bar"
           }
          ],
          "barpolar": [
           {
            "marker": {
             "line": {
              "color": "#E5ECF6",
              "width": 0.5
             },
             "pattern": {
              "fillmode": "overlay",
              "size": 10,
              "solidity": 0.2
             }
            },
            "type": "barpolar"
           }
          ],
          "carpet": [
           {
            "aaxis": {
             "endlinecolor": "#2a3f5f",
             "gridcolor": "white",
             "linecolor": "white",
             "minorgridcolor": "white",
             "startlinecolor": "#2a3f5f"
            },
            "baxis": {
             "endlinecolor": "#2a3f5f",
             "gridcolor": "white",
             "linecolor": "white",
             "minorgridcolor": "white",
             "startlinecolor": "#2a3f5f"
            },
            "type": "carpet"
           }
          ],
          "choropleth": [
           {
            "colorbar": {
             "outlinewidth": 0,
             "ticks": ""
            },
            "type": "choropleth"
           }
          ],
          "contour": [
           {
            "colorbar": {
             "outlinewidth": 0,
             "ticks": ""
            },
            "colorscale": [
             [
              0,
              "#0d0887"
             ],
             [
              0.1111111111111111,
              "#46039f"
             ],
             [
              0.2222222222222222,
              "#7201a8"
             ],
             [
              0.3333333333333333,
              "#9c179e"
             ],
             [
              0.4444444444444444,
              "#bd3786"
             ],
             [
              0.5555555555555556,
              "#d8576b"
             ],
             [
              0.6666666666666666,
              "#ed7953"
             ],
             [
              0.7777777777777778,
              "#fb9f3a"
             ],
             [
              0.8888888888888888,
              "#fdca26"
             ],
             [
              1,
              "#f0f921"
             ]
            ],
            "type": "contour"
           }
          ],
          "contourcarpet": [
           {
            "colorbar": {
             "outlinewidth": 0,
             "ticks": ""
            },
            "type": "contourcarpet"
           }
          ],
          "heatmap": [
           {
            "colorbar": {
             "outlinewidth": 0,
             "ticks": ""
            },
            "colorscale": [
             [
              0,
              "#0d0887"
             ],
             [
              0.1111111111111111,
              "#46039f"
             ],
             [
              0.2222222222222222,
              "#7201a8"
             ],
             [
              0.3333333333333333,
              "#9c179e"
             ],
             [
              0.4444444444444444,
              "#bd3786"
             ],
             [
              0.5555555555555556,
              "#d8576b"
             ],
             [
              0.6666666666666666,
              "#ed7953"
             ],
             [
              0.7777777777777778,
              "#fb9f3a"
             ],
             [
              0.8888888888888888,
              "#fdca26"
             ],
             [
              1,
              "#f0f921"
             ]
            ],
            "type": "heatmap"
           }
          ],
          "histogram": [
           {
            "marker": {
             "pattern": {
              "fillmode": "overlay",
              "size": 10,
              "solidity": 0.2
             }
            },
            "type": "histogram"
           }
          ],
          "histogram2d": [
           {
            "colorbar": {
             "outlinewidth": 0,
             "ticks": ""
            },
            "colorscale": [
             [
              0,
              "#0d0887"
             ],
             [
              0.1111111111111111,
              "#46039f"
             ],
             [
              0.2222222222222222,
              "#7201a8"
             ],
             [
              0.3333333333333333,
              "#9c179e"
             ],
             [
              0.4444444444444444,
              "#bd3786"
             ],
             [
              0.5555555555555556,
              "#d8576b"
             ],
             [
              0.6666666666666666,
              "#ed7953"
             ],
             [
              0.7777777777777778,
              "#fb9f3a"
             ],
             [
              0.8888888888888888,
              "#fdca26"
             ],
             [
              1,
              "#f0f921"
             ]
            ],
            "type": "histogram2d"
           }
          ],
          "histogram2dcontour": [
           {
            "colorbar": {
             "outlinewidth": 0,
             "ticks": ""
            },
            "colorscale": [
             [
              0,
              "#0d0887"
             ],
             [
              0.1111111111111111,
              "#46039f"
             ],
             [
              0.2222222222222222,
              "#7201a8"
             ],
             [
              0.3333333333333333,
              "#9c179e"
             ],
             [
              0.4444444444444444,
              "#bd3786"
             ],
             [
              0.5555555555555556,
              "#d8576b"
             ],
             [
              0.6666666666666666,
              "#ed7953"
             ],
             [
              0.7777777777777778,
              "#fb9f3a"
             ],
             [
              0.8888888888888888,
              "#fdca26"
             ],
             [
              1,
              "#f0f921"
             ]
            ],
            "type": "histogram2dcontour"
           }
          ],
          "mesh3d": [
           {
            "colorbar": {
             "outlinewidth": 0,
             "ticks": ""
            },
            "type": "mesh3d"
           }
          ],
          "parcoords": [
           {
            "line": {
             "colorbar": {
              "outlinewidth": 0,
              "ticks": ""
             }
            },
            "type": "parcoords"
           }
          ],
          "pie": [
           {
            "automargin": true,
            "type": "pie"
           }
          ],
          "scatter": [
           {
            "fillpattern": {
             "fillmode": "overlay",
             "size": 10,
             "solidity": 0.2
            },
            "type": "scatter"
           }
          ],
          "scatter3d": [
           {
            "line": {
             "colorbar": {
              "outlinewidth": 0,
              "ticks": ""
             }
            },
            "marker": {
             "colorbar": {
              "outlinewidth": 0,
              "ticks": ""
             }
            },
            "type": "scatter3d"
           }
          ],
          "scattercarpet": [
           {
            "marker": {
             "colorbar": {
              "outlinewidth": 0,
              "ticks": ""
             }
            },
            "type": "scattercarpet"
           }
          ],
          "scattergeo": [
           {
            "marker": {
             "colorbar": {
              "outlinewidth": 0,
              "ticks": ""
             }
            },
            "type": "scattergeo"
           }
          ],
          "scattergl": [
           {
            "marker": {
             "colorbar": {
              "outlinewidth": 0,
              "ticks": ""
             }
            },
            "type": "scattergl"
           }
          ],
          "scattermap": [
           {
            "marker": {
             "colorbar": {
              "outlinewidth": 0,
              "ticks": ""
             }
            },
            "type": "scattermap"
           }
          ],
          "scattermapbox": [
           {
            "marker": {
             "colorbar": {
              "outlinewidth": 0,
              "ticks": ""
             }
            },
            "type": "scattermapbox"
           }
          ],
          "scatterpolar": [
           {
            "marker": {
             "colorbar": {
              "outlinewidth": 0,
              "ticks": ""
             }
            },
            "type": "scatterpolar"
           }
          ],
          "scatterpolargl": [
           {
            "marker": {
             "colorbar": {
              "outlinewidth": 0,
              "ticks": ""
             }
            },
            "type": "scatterpolargl"
           }
          ],
          "scatterternary": [
           {
            "marker": {
             "colorbar": {
              "outlinewidth": 0,
              "ticks": ""
             }
            },
            "type": "scatterternary"
           }
          ],
          "surface": [
           {
            "colorbar": {
             "outlinewidth": 0,
             "ticks": ""
            },
            "colorscale": [
             [
              0,
              "#0d0887"
             ],
             [
              0.1111111111111111,
              "#46039f"
             ],
             [
              0.2222222222222222,
              "#7201a8"
             ],
             [
              0.3333333333333333,
              "#9c179e"
             ],
             [
              0.4444444444444444,
              "#bd3786"
             ],
             [
              0.5555555555555556,
              "#d8576b"
             ],
             [
              0.6666666666666666,
              "#ed7953"
             ],
             [
              0.7777777777777778,
              "#fb9f3a"
             ],
             [
              0.8888888888888888,
              "#fdca26"
             ],
             [
              1,
              "#f0f921"
             ]
            ],
            "type": "surface"
           }
          ],
          "table": [
           {
            "cells": {
             "fill": {
              "color": "#EBF0F8"
             },
             "line": {
              "color": "white"
             }
            },
            "header": {
             "fill": {
              "color": "#C8D4E3"
             },
             "line": {
              "color": "white"
             }
            },
            "type": "table"
           }
          ]
         },
         "layout": {
          "annotationdefaults": {
           "arrowcolor": "#2a3f5f",
           "arrowhead": 0,
           "arrowwidth": 1
          },
          "autotypenumbers": "strict",
          "coloraxis": {
           "colorbar": {
            "outlinewidth": 0,
            "ticks": ""
           }
          },
          "colorscale": {
           "diverging": [
            [
             0,
             "#8e0152"
            ],
            [
             0.1,
             "#c51b7d"
            ],
            [
             0.2,
             "#de77ae"
            ],
            [
             0.3,
             "#f1b6da"
            ],
            [
             0.4,
             "#fde0ef"
            ],
            [
             0.5,
             "#f7f7f7"
            ],
            [
             0.6,
             "#e6f5d0"
            ],
            [
             0.7,
             "#b8e186"
            ],
            [
             0.8,
             "#7fbc41"
            ],
            [
             0.9,
             "#4d9221"
            ],
            [
             1,
             "#276419"
            ]
           ],
           "sequential": [
            [
             0,
             "#0d0887"
            ],
            [
             0.1111111111111111,
             "#46039f"
            ],
            [
             0.2222222222222222,
             "#7201a8"
            ],
            [
             0.3333333333333333,
             "#9c179e"
            ],
            [
             0.4444444444444444,
             "#bd3786"
            ],
            [
             0.5555555555555556,
             "#d8576b"
            ],
            [
             0.6666666666666666,
             "#ed7953"
            ],
            [
             0.7777777777777778,
             "#fb9f3a"
            ],
            [
             0.8888888888888888,
             "#fdca26"
            ],
            [
             1,
             "#f0f921"
            ]
           ],
           "sequentialminus": [
            [
             0,
             "#0d0887"
            ],
            [
             0.1111111111111111,
             "#46039f"
            ],
            [
             0.2222222222222222,
             "#7201a8"
            ],
            [
             0.3333333333333333,
             "#9c179e"
            ],
            [
             0.4444444444444444,
             "#bd3786"
            ],
            [
             0.5555555555555556,
             "#d8576b"
            ],
            [
             0.6666666666666666,
             "#ed7953"
            ],
            [
             0.7777777777777778,
             "#fb9f3a"
            ],
            [
             0.8888888888888888,
             "#fdca26"
            ],
            [
             1,
             "#f0f921"
            ]
           ]
          },
          "colorway": [
           "#636efa",
           "#EF553B",
           "#00cc96",
           "#ab63fa",
           "#FFA15A",
           "#19d3f3",
           "#FF6692",
           "#B6E880",
           "#FF97FF",
           "#FECB52"
          ],
          "font": {
           "color": "#2a3f5f"
          },
          "geo": {
           "bgcolor": "white",
           "lakecolor": "white",
           "landcolor": "#E5ECF6",
           "showlakes": true,
           "showland": true,
           "subunitcolor": "white"
          },
          "hoverlabel": {
           "align": "left"
          },
          "hovermode": "closest",
          "mapbox": {
           "style": "light"
          },
          "paper_bgcolor": "white",
          "plot_bgcolor": "#E5ECF6",
          "polar": {
           "angularaxis": {
            "gridcolor": "white",
            "linecolor": "white",
            "ticks": ""
           },
           "bgcolor": "#E5ECF6",
           "radialaxis": {
            "gridcolor": "white",
            "linecolor": "white",
            "ticks": ""
           }
          },
          "scene": {
           "xaxis": {
            "backgroundcolor": "#E5ECF6",
            "gridcolor": "white",
            "gridwidth": 2,
            "linecolor": "white",
            "showbackground": true,
            "ticks": "",
            "zerolinecolor": "white"
           },
           "yaxis": {
            "backgroundcolor": "#E5ECF6",
            "gridcolor": "white",
            "gridwidth": 2,
            "linecolor": "white",
            "showbackground": true,
            "ticks": "",
            "zerolinecolor": "white"
           },
           "zaxis": {
            "backgroundcolor": "#E5ECF6",
            "gridcolor": "white",
            "gridwidth": 2,
            "linecolor": "white",
            "showbackground": true,
            "ticks": "",
            "zerolinecolor": "white"
           }
          },
          "shapedefaults": {
           "line": {
            "color": "#2a3f5f"
           }
          },
          "ternary": {
           "aaxis": {
            "gridcolor": "white",
            "linecolor": "white",
            "ticks": ""
           },
           "baxis": {
            "gridcolor": "white",
            "linecolor": "white",
            "ticks": ""
           },
           "bgcolor": "#E5ECF6",
           "caxis": {
            "gridcolor": "white",
            "linecolor": "white",
            "ticks": ""
           }
          },
          "title": {
           "x": 0.05
          },
          "xaxis": {
           "automargin": true,
           "gridcolor": "white",
           "linecolor": "white",
           "ticks": "",
           "title": {
            "standoff": 15
           },
           "zerolinecolor": "white",
           "zerolinewidth": 2
          },
          "yaxis": {
           "automargin": true,
           "gridcolor": "white",
           "linecolor": "white",
           "ticks": "",
           "title": {
            "standoff": 15
           },
           "zerolinecolor": "white",
           "zerolinewidth": 2
          }
         }
        },
        "title": {
         "text": "Températures par Ville"
        },
        "xaxis": {
         "anchor": "y",
         "domain": [
          0,
          1
         ],
         "title": {
          "text": "Température (°C)"
         }
        },
        "yaxis": {
         "anchor": "x",
         "domain": [
          0,
          1
         ],
         "title": {
          "text": "Ville"
         }
        }
       }
      }
     },
     "metadata": {},
     "output_type": "display_data"
    }
   ],
   "source": [
    "df_sorted = bc.sort_values(by='temp', ascending=True)\n",
    "\n",
    "# Créer un diagramme en bâtons horizontal\n",
    "fig = px.bar(df_sorted, x='temp', y='cities', orientation='h',\n",
    "             title='Températures par Ville',\n",
    "             labels={'temp': 'Température (°C)', 'cities': 'Ville'})\n",
    "\n",
    "# Ajuster la hauteur du graphique\n",
    "fig.update_layout(height=800)\n",
    "\n",
    "# Afficher le diagramme\n",
    "fig.show()"
   ]
  },
  {
   "cell_type": "code",
   "execution_count": 23,
   "metadata": {},
   "outputs": [
    {
     "data": {
      "application/vnd.plotly.v1+json": {
       "config": {
        "plotlyServerURL": "https://plot.ly"
       },
       "data": [
        {
         "hovertemplate": "Température ressentie (°C)=%{x}<br>Ville=%{y}<extra></extra>",
         "legendgroup": "",
         "marker": {
          "color": "#636efa",
          "pattern": {
           "shape": ""
          }
         },
         "name": "",
         "orientation": "h",
         "showlegend": false,
         "textposition": "auto",
         "type": "bar",
         "x": {
          "bdata": "SOF6FK5HGECkcD0K1yMjQFK4HoXr0SVAcT0K16PwJUB7FK5H4fonQAAAAAAAAChAj8L1KFwPKEA9CtejcD0oQArXo3A9iihAmpmZmZkZKUBI4XoUrkcpQJqZmZmZmSpAmpmZmZkZK0AfhetRuB4rQFyPwvUo3CtAFK5H4XqULEAAAAAAAAAtQArXo3A9ii1AzczMzMzMLUBI4XoUrkcuQNejcD0KVy5AmpmZmZmZLkCuR+F6FK4uQClcj8L1aDBAZmZmZmbmMEApXI/C9egwQM3MzMzMDDJApHA9CtejMkCamZmZmdkyQGZmZmZm5jJAhetRuB4FM0DXo3A9ChczQMP1KFyPQjNA7FG4HoVrM0BxPQrXo/AzQA==",
          "dtype": "f8"
         },
         "xaxis": "x",
         "y": [
          "Lille",
          "Amiens",
          "Paris",
          "Rouen",
          "La Rochelle",
          "Chateau du Haut Koenigsbourg",
          "St Malo",
          "Dijon",
          "Le Havre",
          "Montauban",
          "Mont Saint Michel",
          "Toulouse",
          "Carcassonne",
          "Besancon",
          "Bayeux",
          "Annecy",
          "Ariege",
          "Biarritz",
          "Bayonne",
          "Grenoble",
          "Lyon",
          "Eguisheim",
          "Colmar",
          "Strasbourg",
          "Saintes Maries de la mer",
          "Aix en Provence",
          "Bormes les Mimosas",
          "Uzes",
          "Aigues Mortes",
          "Cassis",
          "Avignon",
          "Marseille",
          "Nimes",
          "Gorges du Verdon",
          "Collioure"
         ],
         "yaxis": "y"
        }
       ],
       "layout": {
        "barmode": "relative",
        "height": 800,
        "legend": {
         "tracegroupgap": 0
        },
        "template": {
         "data": {
          "bar": [
           {
            "error_x": {
             "color": "#2a3f5f"
            },
            "error_y": {
             "color": "#2a3f5f"
            },
            "marker": {
             "line": {
              "color": "#E5ECF6",
              "width": 0.5
             },
             "pattern": {
              "fillmode": "overlay",
              "size": 10,
              "solidity": 0.2
             }
            },
            "type": "bar"
           }
          ],
          "barpolar": [
           {
            "marker": {
             "line": {
              "color": "#E5ECF6",
              "width": 0.5
             },
             "pattern": {
              "fillmode": "overlay",
              "size": 10,
              "solidity": 0.2
             }
            },
            "type": "barpolar"
           }
          ],
          "carpet": [
           {
            "aaxis": {
             "endlinecolor": "#2a3f5f",
             "gridcolor": "white",
             "linecolor": "white",
             "minorgridcolor": "white",
             "startlinecolor": "#2a3f5f"
            },
            "baxis": {
             "endlinecolor": "#2a3f5f",
             "gridcolor": "white",
             "linecolor": "white",
             "minorgridcolor": "white",
             "startlinecolor": "#2a3f5f"
            },
            "type": "carpet"
           }
          ],
          "choropleth": [
           {
            "colorbar": {
             "outlinewidth": 0,
             "ticks": ""
            },
            "type": "choropleth"
           }
          ],
          "contour": [
           {
            "colorbar": {
             "outlinewidth": 0,
             "ticks": ""
            },
            "colorscale": [
             [
              0,
              "#0d0887"
             ],
             [
              0.1111111111111111,
              "#46039f"
             ],
             [
              0.2222222222222222,
              "#7201a8"
             ],
             [
              0.3333333333333333,
              "#9c179e"
             ],
             [
              0.4444444444444444,
              "#bd3786"
             ],
             [
              0.5555555555555556,
              "#d8576b"
             ],
             [
              0.6666666666666666,
              "#ed7953"
             ],
             [
              0.7777777777777778,
              "#fb9f3a"
             ],
             [
              0.8888888888888888,
              "#fdca26"
             ],
             [
              1,
              "#f0f921"
             ]
            ],
            "type": "contour"
           }
          ],
          "contourcarpet": [
           {
            "colorbar": {
             "outlinewidth": 0,
             "ticks": ""
            },
            "type": "contourcarpet"
           }
          ],
          "heatmap": [
           {
            "colorbar": {
             "outlinewidth": 0,
             "ticks": ""
            },
            "colorscale": [
             [
              0,
              "#0d0887"
             ],
             [
              0.1111111111111111,
              "#46039f"
             ],
             [
              0.2222222222222222,
              "#7201a8"
             ],
             [
              0.3333333333333333,
              "#9c179e"
             ],
             [
              0.4444444444444444,
              "#bd3786"
             ],
             [
              0.5555555555555556,
              "#d8576b"
             ],
             [
              0.6666666666666666,
              "#ed7953"
             ],
             [
              0.7777777777777778,
              "#fb9f3a"
             ],
             [
              0.8888888888888888,
              "#fdca26"
             ],
             [
              1,
              "#f0f921"
             ]
            ],
            "type": "heatmap"
           }
          ],
          "histogram": [
           {
            "marker": {
             "pattern": {
              "fillmode": "overlay",
              "size": 10,
              "solidity": 0.2
             }
            },
            "type": "histogram"
           }
          ],
          "histogram2d": [
           {
            "colorbar": {
             "outlinewidth": 0,
             "ticks": ""
            },
            "colorscale": [
             [
              0,
              "#0d0887"
             ],
             [
              0.1111111111111111,
              "#46039f"
             ],
             [
              0.2222222222222222,
              "#7201a8"
             ],
             [
              0.3333333333333333,
              "#9c179e"
             ],
             [
              0.4444444444444444,
              "#bd3786"
             ],
             [
              0.5555555555555556,
              "#d8576b"
             ],
             [
              0.6666666666666666,
              "#ed7953"
             ],
             [
              0.7777777777777778,
              "#fb9f3a"
             ],
             [
              0.8888888888888888,
              "#fdca26"
             ],
             [
              1,
              "#f0f921"
             ]
            ],
            "type": "histogram2d"
           }
          ],
          "histogram2dcontour": [
           {
            "colorbar": {
             "outlinewidth": 0,
             "ticks": ""
            },
            "colorscale": [
             [
              0,
              "#0d0887"
             ],
             [
              0.1111111111111111,
              "#46039f"
             ],
             [
              0.2222222222222222,
              "#7201a8"
             ],
             [
              0.3333333333333333,
              "#9c179e"
             ],
             [
              0.4444444444444444,
              "#bd3786"
             ],
             [
              0.5555555555555556,
              "#d8576b"
             ],
             [
              0.6666666666666666,
              "#ed7953"
             ],
             [
              0.7777777777777778,
              "#fb9f3a"
             ],
             [
              0.8888888888888888,
              "#fdca26"
             ],
             [
              1,
              "#f0f921"
             ]
            ],
            "type": "histogram2dcontour"
           }
          ],
          "mesh3d": [
           {
            "colorbar": {
             "outlinewidth": 0,
             "ticks": ""
            },
            "type": "mesh3d"
           }
          ],
          "parcoords": [
           {
            "line": {
             "colorbar": {
              "outlinewidth": 0,
              "ticks": ""
             }
            },
            "type": "parcoords"
           }
          ],
          "pie": [
           {
            "automargin": true,
            "type": "pie"
           }
          ],
          "scatter": [
           {
            "fillpattern": {
             "fillmode": "overlay",
             "size": 10,
             "solidity": 0.2
            },
            "type": "scatter"
           }
          ],
          "scatter3d": [
           {
            "line": {
             "colorbar": {
              "outlinewidth": 0,
              "ticks": ""
             }
            },
            "marker": {
             "colorbar": {
              "outlinewidth": 0,
              "ticks": ""
             }
            },
            "type": "scatter3d"
           }
          ],
          "scattercarpet": [
           {
            "marker": {
             "colorbar": {
              "outlinewidth": 0,
              "ticks": ""
             }
            },
            "type": "scattercarpet"
           }
          ],
          "scattergeo": [
           {
            "marker": {
             "colorbar": {
              "outlinewidth": 0,
              "ticks": ""
             }
            },
            "type": "scattergeo"
           }
          ],
          "scattergl": [
           {
            "marker": {
             "colorbar": {
              "outlinewidth": 0,
              "ticks": ""
             }
            },
            "type": "scattergl"
           }
          ],
          "scattermap": [
           {
            "marker": {
             "colorbar": {
              "outlinewidth": 0,
              "ticks": ""
             }
            },
            "type": "scattermap"
           }
          ],
          "scattermapbox": [
           {
            "marker": {
             "colorbar": {
              "outlinewidth": 0,
              "ticks": ""
             }
            },
            "type": "scattermapbox"
           }
          ],
          "scatterpolar": [
           {
            "marker": {
             "colorbar": {
              "outlinewidth": 0,
              "ticks": ""
             }
            },
            "type": "scatterpolar"
           }
          ],
          "scatterpolargl": [
           {
            "marker": {
             "colorbar": {
              "outlinewidth": 0,
              "ticks": ""
             }
            },
            "type": "scatterpolargl"
           }
          ],
          "scatterternary": [
           {
            "marker": {
             "colorbar": {
              "outlinewidth": 0,
              "ticks": ""
             }
            },
            "type": "scatterternary"
           }
          ],
          "surface": [
           {
            "colorbar": {
             "outlinewidth": 0,
             "ticks": ""
            },
            "colorscale": [
             [
              0,
              "#0d0887"
             ],
             [
              0.1111111111111111,
              "#46039f"
             ],
             [
              0.2222222222222222,
              "#7201a8"
             ],
             [
              0.3333333333333333,
              "#9c179e"
             ],
             [
              0.4444444444444444,
              "#bd3786"
             ],
             [
              0.5555555555555556,
              "#d8576b"
             ],
             [
              0.6666666666666666,
              "#ed7953"
             ],
             [
              0.7777777777777778,
              "#fb9f3a"
             ],
             [
              0.8888888888888888,
              "#fdca26"
             ],
             [
              1,
              "#f0f921"
             ]
            ],
            "type": "surface"
           }
          ],
          "table": [
           {
            "cells": {
             "fill": {
              "color": "#EBF0F8"
             },
             "line": {
              "color": "white"
             }
            },
            "header": {
             "fill": {
              "color": "#C8D4E3"
             },
             "line": {
              "color": "white"
             }
            },
            "type": "table"
           }
          ]
         },
         "layout": {
          "annotationdefaults": {
           "arrowcolor": "#2a3f5f",
           "arrowhead": 0,
           "arrowwidth": 1
          },
          "autotypenumbers": "strict",
          "coloraxis": {
           "colorbar": {
            "outlinewidth": 0,
            "ticks": ""
           }
          },
          "colorscale": {
           "diverging": [
            [
             0,
             "#8e0152"
            ],
            [
             0.1,
             "#c51b7d"
            ],
            [
             0.2,
             "#de77ae"
            ],
            [
             0.3,
             "#f1b6da"
            ],
            [
             0.4,
             "#fde0ef"
            ],
            [
             0.5,
             "#f7f7f7"
            ],
            [
             0.6,
             "#e6f5d0"
            ],
            [
             0.7,
             "#b8e186"
            ],
            [
             0.8,
             "#7fbc41"
            ],
            [
             0.9,
             "#4d9221"
            ],
            [
             1,
             "#276419"
            ]
           ],
           "sequential": [
            [
             0,
             "#0d0887"
            ],
            [
             0.1111111111111111,
             "#46039f"
            ],
            [
             0.2222222222222222,
             "#7201a8"
            ],
            [
             0.3333333333333333,
             "#9c179e"
            ],
            [
             0.4444444444444444,
             "#bd3786"
            ],
            [
             0.5555555555555556,
             "#d8576b"
            ],
            [
             0.6666666666666666,
             "#ed7953"
            ],
            [
             0.7777777777777778,
             "#fb9f3a"
            ],
            [
             0.8888888888888888,
             "#fdca26"
            ],
            [
             1,
             "#f0f921"
            ]
           ],
           "sequentialminus": [
            [
             0,
             "#0d0887"
            ],
            [
             0.1111111111111111,
             "#46039f"
            ],
            [
             0.2222222222222222,
             "#7201a8"
            ],
            [
             0.3333333333333333,
             "#9c179e"
            ],
            [
             0.4444444444444444,
             "#bd3786"
            ],
            [
             0.5555555555555556,
             "#d8576b"
            ],
            [
             0.6666666666666666,
             "#ed7953"
            ],
            [
             0.7777777777777778,
             "#fb9f3a"
            ],
            [
             0.8888888888888888,
             "#fdca26"
            ],
            [
             1,
             "#f0f921"
            ]
           ]
          },
          "colorway": [
           "#636efa",
           "#EF553B",
           "#00cc96",
           "#ab63fa",
           "#FFA15A",
           "#19d3f3",
           "#FF6692",
           "#B6E880",
           "#FF97FF",
           "#FECB52"
          ],
          "font": {
           "color": "#2a3f5f"
          },
          "geo": {
           "bgcolor": "white",
           "lakecolor": "white",
           "landcolor": "#E5ECF6",
           "showlakes": true,
           "showland": true,
           "subunitcolor": "white"
          },
          "hoverlabel": {
           "align": "left"
          },
          "hovermode": "closest",
          "mapbox": {
           "style": "light"
          },
          "paper_bgcolor": "white",
          "plot_bgcolor": "#E5ECF6",
          "polar": {
           "angularaxis": {
            "gridcolor": "white",
            "linecolor": "white",
            "ticks": ""
           },
           "bgcolor": "#E5ECF6",
           "radialaxis": {
            "gridcolor": "white",
            "linecolor": "white",
            "ticks": ""
           }
          },
          "scene": {
           "xaxis": {
            "backgroundcolor": "#E5ECF6",
            "gridcolor": "white",
            "gridwidth": 2,
            "linecolor": "white",
            "showbackground": true,
            "ticks": "",
            "zerolinecolor": "white"
           },
           "yaxis": {
            "backgroundcolor": "#E5ECF6",
            "gridcolor": "white",
            "gridwidth": 2,
            "linecolor": "white",
            "showbackground": true,
            "ticks": "",
            "zerolinecolor": "white"
           },
           "zaxis": {
            "backgroundcolor": "#E5ECF6",
            "gridcolor": "white",
            "gridwidth": 2,
            "linecolor": "white",
            "showbackground": true,
            "ticks": "",
            "zerolinecolor": "white"
           }
          },
          "shapedefaults": {
           "line": {
            "color": "#2a3f5f"
           }
          },
          "ternary": {
           "aaxis": {
            "gridcolor": "white",
            "linecolor": "white",
            "ticks": ""
           },
           "baxis": {
            "gridcolor": "white",
            "linecolor": "white",
            "ticks": ""
           },
           "bgcolor": "#E5ECF6",
           "caxis": {
            "gridcolor": "white",
            "linecolor": "white",
            "ticks": ""
           }
          },
          "title": {
           "x": 0.05
          },
          "xaxis": {
           "automargin": true,
           "gridcolor": "white",
           "linecolor": "white",
           "ticks": "",
           "title": {
            "standoff": 15
           },
           "zerolinecolor": "white",
           "zerolinewidth": 2
          },
          "yaxis": {
           "automargin": true,
           "gridcolor": "white",
           "linecolor": "white",
           "ticks": "",
           "title": {
            "standoff": 15
           },
           "zerolinecolor": "white",
           "zerolinewidth": 2
          }
         }
        },
        "title": {
         "text": "Températures ressenties par Ville"
        },
        "xaxis": {
         "anchor": "y",
         "domain": [
          0,
          1
         ],
         "title": {
          "text": "Température ressentie (°C)"
         }
        },
        "yaxis": {
         "anchor": "x",
         "domain": [
          0,
          1
         ],
         "title": {
          "text": "Ville"
         }
        }
       }
      }
     },
     "metadata": {},
     "output_type": "display_data"
    }
   ],
   "source": [
    "df_sorted = bc.sort_values(by='feels_like', ascending=True)\n",
    "\n",
    "# Créer un diagramme en bâtons horizontal\n",
    "fig = px.bar(df_sorted, x='feels_like', y='cities', orientation='h',\n",
    "             title='Températures ressenties par Ville',\n",
    "             labels={'feels_like': 'Température ressentie (°C)', 'cities': 'Ville'})\n",
    "\n",
    "# Ajuster la hauteur du graphique\n",
    "fig.update_layout(height=800)\n",
    "\n",
    "# Afficher le diagramme\n",
    "fig.show()"
   ]
  },
  {
   "cell_type": "code",
   "execution_count": 24,
   "metadata": {},
   "outputs": [
    {
     "data": {
      "application/vnd.plotly.v1+json": {
       "config": {
        "plotlyServerURL": "https://plot.ly"
       },
       "data": [
        {
         "hovertemplate": "Indice UV=%{x}<br>Ville=%{y}<extra></extra>",
         "legendgroup": "",
         "marker": {
          "color": "#636efa",
          "pattern": {
           "shape": ""
          }
         },
         "name": "",
         "orientation": "h",
         "showlegend": false,
         "textposition": "auto",
         "type": "bar",
         "x": {
          "bdata": "w/UoXI/C1T+uR+F6FK7XP6RwPQrXo+A/PQrXo3A96j+amZmZmZnxPz0K16NwPQJA9ihcj8L1BkAUrkfhehQKQGZmZmZmZgpAPQrXo3A9DEBcj8L1KFwNQAAAAAAAABBAAAAAAAAAEkAK16NwPQoSQBSuR+F6FBJAH4XrUbgeEkApXI/C9SgTQKRwPQrXoxNASOF6FK5HFEBI4XoUrkcUQEjhehSuRxRAKVyPwvUoFUA9CtejcD0XQGZmZmZmZhdA7FG4HoXrF0DsUbgehesXQB+F61G4HhhAj8L1KFyPGEDD9Shcj8IYQOF6FK5H4RhA4XoUrkfhGEApXI/C9SgZQFyPwvUoXBlAhetRuB6FGUCuR+F6FK4ZQA==",
          "dtype": "f8"
         },
         "xaxis": "x",
         "y": [
          "Montauban",
          "La Rochelle",
          "Toulouse",
          "Lille",
          "Amiens",
          "Dijon",
          "Lyon",
          "Mont Saint Michel",
          "Carcassonne",
          "Besancon",
          "Strasbourg",
          "Bayonne",
          "Le Havre",
          "Bayeux",
          "Paris",
          "Rouen",
          "Grenoble",
          "St Malo",
          "Eguisheim",
          "Colmar",
          "Chateau du Haut Koenigsbourg",
          "Annecy",
          "Aix en Provence",
          "Biarritz",
          "Collioure",
          "Ariege",
          "Saintes Maries de la mer",
          "Avignon",
          "Marseille",
          "Nimes",
          "Aigues Mortes",
          "Cassis",
          "Bormes les Mimosas",
          "Gorges du Verdon",
          "Uzes"
         ],
         "yaxis": "y"
        }
       ],
       "layout": {
        "barmode": "relative",
        "height": 800,
        "legend": {
         "tracegroupgap": 0
        },
        "template": {
         "data": {
          "bar": [
           {
            "error_x": {
             "color": "#2a3f5f"
            },
            "error_y": {
             "color": "#2a3f5f"
            },
            "marker": {
             "line": {
              "color": "#E5ECF6",
              "width": 0.5
             },
             "pattern": {
              "fillmode": "overlay",
              "size": 10,
              "solidity": 0.2
             }
            },
            "type": "bar"
           }
          ],
          "barpolar": [
           {
            "marker": {
             "line": {
              "color": "#E5ECF6",
              "width": 0.5
             },
             "pattern": {
              "fillmode": "overlay",
              "size": 10,
              "solidity": 0.2
             }
            },
            "type": "barpolar"
           }
          ],
          "carpet": [
           {
            "aaxis": {
             "endlinecolor": "#2a3f5f",
             "gridcolor": "white",
             "linecolor": "white",
             "minorgridcolor": "white",
             "startlinecolor": "#2a3f5f"
            },
            "baxis": {
             "endlinecolor": "#2a3f5f",
             "gridcolor": "white",
             "linecolor": "white",
             "minorgridcolor": "white",
             "startlinecolor": "#2a3f5f"
            },
            "type": "carpet"
           }
          ],
          "choropleth": [
           {
            "colorbar": {
             "outlinewidth": 0,
             "ticks": ""
            },
            "type": "choropleth"
           }
          ],
          "contour": [
           {
            "colorbar": {
             "outlinewidth": 0,
             "ticks": ""
            },
            "colorscale": [
             [
              0,
              "#0d0887"
             ],
             [
              0.1111111111111111,
              "#46039f"
             ],
             [
              0.2222222222222222,
              "#7201a8"
             ],
             [
              0.3333333333333333,
              "#9c179e"
             ],
             [
              0.4444444444444444,
              "#bd3786"
             ],
             [
              0.5555555555555556,
              "#d8576b"
             ],
             [
              0.6666666666666666,
              "#ed7953"
             ],
             [
              0.7777777777777778,
              "#fb9f3a"
             ],
             [
              0.8888888888888888,
              "#fdca26"
             ],
             [
              1,
              "#f0f921"
             ]
            ],
            "type": "contour"
           }
          ],
          "contourcarpet": [
           {
            "colorbar": {
             "outlinewidth": 0,
             "ticks": ""
            },
            "type": "contourcarpet"
           }
          ],
          "heatmap": [
           {
            "colorbar": {
             "outlinewidth": 0,
             "ticks": ""
            },
            "colorscale": [
             [
              0,
              "#0d0887"
             ],
             [
              0.1111111111111111,
              "#46039f"
             ],
             [
              0.2222222222222222,
              "#7201a8"
             ],
             [
              0.3333333333333333,
              "#9c179e"
             ],
             [
              0.4444444444444444,
              "#bd3786"
             ],
             [
              0.5555555555555556,
              "#d8576b"
             ],
             [
              0.6666666666666666,
              "#ed7953"
             ],
             [
              0.7777777777777778,
              "#fb9f3a"
             ],
             [
              0.8888888888888888,
              "#fdca26"
             ],
             [
              1,
              "#f0f921"
             ]
            ],
            "type": "heatmap"
           }
          ],
          "histogram": [
           {
            "marker": {
             "pattern": {
              "fillmode": "overlay",
              "size": 10,
              "solidity": 0.2
             }
            },
            "type": "histogram"
           }
          ],
          "histogram2d": [
           {
            "colorbar": {
             "outlinewidth": 0,
             "ticks": ""
            },
            "colorscale": [
             [
              0,
              "#0d0887"
             ],
             [
              0.1111111111111111,
              "#46039f"
             ],
             [
              0.2222222222222222,
              "#7201a8"
             ],
             [
              0.3333333333333333,
              "#9c179e"
             ],
             [
              0.4444444444444444,
              "#bd3786"
             ],
             [
              0.5555555555555556,
              "#d8576b"
             ],
             [
              0.6666666666666666,
              "#ed7953"
             ],
             [
              0.7777777777777778,
              "#fb9f3a"
             ],
             [
              0.8888888888888888,
              "#fdca26"
             ],
             [
              1,
              "#f0f921"
             ]
            ],
            "type": "histogram2d"
           }
          ],
          "histogram2dcontour": [
           {
            "colorbar": {
             "outlinewidth": 0,
             "ticks": ""
            },
            "colorscale": [
             [
              0,
              "#0d0887"
             ],
             [
              0.1111111111111111,
              "#46039f"
             ],
             [
              0.2222222222222222,
              "#7201a8"
             ],
             [
              0.3333333333333333,
              "#9c179e"
             ],
             [
              0.4444444444444444,
              "#bd3786"
             ],
             [
              0.5555555555555556,
              "#d8576b"
             ],
             [
              0.6666666666666666,
              "#ed7953"
             ],
             [
              0.7777777777777778,
              "#fb9f3a"
             ],
             [
              0.8888888888888888,
              "#fdca26"
             ],
             [
              1,
              "#f0f921"
             ]
            ],
            "type": "histogram2dcontour"
           }
          ],
          "mesh3d": [
           {
            "colorbar": {
             "outlinewidth": 0,
             "ticks": ""
            },
            "type": "mesh3d"
           }
          ],
          "parcoords": [
           {
            "line": {
             "colorbar": {
              "outlinewidth": 0,
              "ticks": ""
             }
            },
            "type": "parcoords"
           }
          ],
          "pie": [
           {
            "automargin": true,
            "type": "pie"
           }
          ],
          "scatter": [
           {
            "fillpattern": {
             "fillmode": "overlay",
             "size": 10,
             "solidity": 0.2
            },
            "type": "scatter"
           }
          ],
          "scatter3d": [
           {
            "line": {
             "colorbar": {
              "outlinewidth": 0,
              "ticks": ""
             }
            },
            "marker": {
             "colorbar": {
              "outlinewidth": 0,
              "ticks": ""
             }
            },
            "type": "scatter3d"
           }
          ],
          "scattercarpet": [
           {
            "marker": {
             "colorbar": {
              "outlinewidth": 0,
              "ticks": ""
             }
            },
            "type": "scattercarpet"
           }
          ],
          "scattergeo": [
           {
            "marker": {
             "colorbar": {
              "outlinewidth": 0,
              "ticks": ""
             }
            },
            "type": "scattergeo"
           }
          ],
          "scattergl": [
           {
            "marker": {
             "colorbar": {
              "outlinewidth": 0,
              "ticks": ""
             }
            },
            "type": "scattergl"
           }
          ],
          "scattermap": [
           {
            "marker": {
             "colorbar": {
              "outlinewidth": 0,
              "ticks": ""
             }
            },
            "type": "scattermap"
           }
          ],
          "scattermapbox": [
           {
            "marker": {
             "colorbar": {
              "outlinewidth": 0,
              "ticks": ""
             }
            },
            "type": "scattermapbox"
           }
          ],
          "scatterpolar": [
           {
            "marker": {
             "colorbar": {
              "outlinewidth": 0,
              "ticks": ""
             }
            },
            "type": "scatterpolar"
           }
          ],
          "scatterpolargl": [
           {
            "marker": {
             "colorbar": {
              "outlinewidth": 0,
              "ticks": ""
             }
            },
            "type": "scatterpolargl"
           }
          ],
          "scatterternary": [
           {
            "marker": {
             "colorbar": {
              "outlinewidth": 0,
              "ticks": ""
             }
            },
            "type": "scatterternary"
           }
          ],
          "surface": [
           {
            "colorbar": {
             "outlinewidth": 0,
             "ticks": ""
            },
            "colorscale": [
             [
              0,
              "#0d0887"
             ],
             [
              0.1111111111111111,
              "#46039f"
             ],
             [
              0.2222222222222222,
              "#7201a8"
             ],
             [
              0.3333333333333333,
              "#9c179e"
             ],
             [
              0.4444444444444444,
              "#bd3786"
             ],
             [
              0.5555555555555556,
              "#d8576b"
             ],
             [
              0.6666666666666666,
              "#ed7953"
             ],
             [
              0.7777777777777778,
              "#fb9f3a"
             ],
             [
              0.8888888888888888,
              "#fdca26"
             ],
             [
              1,
              "#f0f921"
             ]
            ],
            "type": "surface"
           }
          ],
          "table": [
           {
            "cells": {
             "fill": {
              "color": "#EBF0F8"
             },
             "line": {
              "color": "white"
             }
            },
            "header": {
             "fill": {
              "color": "#C8D4E3"
             },
             "line": {
              "color": "white"
             }
            },
            "type": "table"
           }
          ]
         },
         "layout": {
          "annotationdefaults": {
           "arrowcolor": "#2a3f5f",
           "arrowhead": 0,
           "arrowwidth": 1
          },
          "autotypenumbers": "strict",
          "coloraxis": {
           "colorbar": {
            "outlinewidth": 0,
            "ticks": ""
           }
          },
          "colorscale": {
           "diverging": [
            [
             0,
             "#8e0152"
            ],
            [
             0.1,
             "#c51b7d"
            ],
            [
             0.2,
             "#de77ae"
            ],
            [
             0.3,
             "#f1b6da"
            ],
            [
             0.4,
             "#fde0ef"
            ],
            [
             0.5,
             "#f7f7f7"
            ],
            [
             0.6,
             "#e6f5d0"
            ],
            [
             0.7,
             "#b8e186"
            ],
            [
             0.8,
             "#7fbc41"
            ],
            [
             0.9,
             "#4d9221"
            ],
            [
             1,
             "#276419"
            ]
           ],
           "sequential": [
            [
             0,
             "#0d0887"
            ],
            [
             0.1111111111111111,
             "#46039f"
            ],
            [
             0.2222222222222222,
             "#7201a8"
            ],
            [
             0.3333333333333333,
             "#9c179e"
            ],
            [
             0.4444444444444444,
             "#bd3786"
            ],
            [
             0.5555555555555556,
             "#d8576b"
            ],
            [
             0.6666666666666666,
             "#ed7953"
            ],
            [
             0.7777777777777778,
             "#fb9f3a"
            ],
            [
             0.8888888888888888,
             "#fdca26"
            ],
            [
             1,
             "#f0f921"
            ]
           ],
           "sequentialminus": [
            [
             0,
             "#0d0887"
            ],
            [
             0.1111111111111111,
             "#46039f"
            ],
            [
             0.2222222222222222,
             "#7201a8"
            ],
            [
             0.3333333333333333,
             "#9c179e"
            ],
            [
             0.4444444444444444,
             "#bd3786"
            ],
            [
             0.5555555555555556,
             "#d8576b"
            ],
            [
             0.6666666666666666,
             "#ed7953"
            ],
            [
             0.7777777777777778,
             "#fb9f3a"
            ],
            [
             0.8888888888888888,
             "#fdca26"
            ],
            [
             1,
             "#f0f921"
            ]
           ]
          },
          "colorway": [
           "#636efa",
           "#EF553B",
           "#00cc96",
           "#ab63fa",
           "#FFA15A",
           "#19d3f3",
           "#FF6692",
           "#B6E880",
           "#FF97FF",
           "#FECB52"
          ],
          "font": {
           "color": "#2a3f5f"
          },
          "geo": {
           "bgcolor": "white",
           "lakecolor": "white",
           "landcolor": "#E5ECF6",
           "showlakes": true,
           "showland": true,
           "subunitcolor": "white"
          },
          "hoverlabel": {
           "align": "left"
          },
          "hovermode": "closest",
          "mapbox": {
           "style": "light"
          },
          "paper_bgcolor": "white",
          "plot_bgcolor": "#E5ECF6",
          "polar": {
           "angularaxis": {
            "gridcolor": "white",
            "linecolor": "white",
            "ticks": ""
           },
           "bgcolor": "#E5ECF6",
           "radialaxis": {
            "gridcolor": "white",
            "linecolor": "white",
            "ticks": ""
           }
          },
          "scene": {
           "xaxis": {
            "backgroundcolor": "#E5ECF6",
            "gridcolor": "white",
            "gridwidth": 2,
            "linecolor": "white",
            "showbackground": true,
            "ticks": "",
            "zerolinecolor": "white"
           },
           "yaxis": {
            "backgroundcolor": "#E5ECF6",
            "gridcolor": "white",
            "gridwidth": 2,
            "linecolor": "white",
            "showbackground": true,
            "ticks": "",
            "zerolinecolor": "white"
           },
           "zaxis": {
            "backgroundcolor": "#E5ECF6",
            "gridcolor": "white",
            "gridwidth": 2,
            "linecolor": "white",
            "showbackground": true,
            "ticks": "",
            "zerolinecolor": "white"
           }
          },
          "shapedefaults": {
           "line": {
            "color": "#2a3f5f"
           }
          },
          "ternary": {
           "aaxis": {
            "gridcolor": "white",
            "linecolor": "white",
            "ticks": ""
           },
           "baxis": {
            "gridcolor": "white",
            "linecolor": "white",
            "ticks": ""
           },
           "bgcolor": "#E5ECF6",
           "caxis": {
            "gridcolor": "white",
            "linecolor": "white",
            "ticks": ""
           }
          },
          "title": {
           "x": 0.05
          },
          "xaxis": {
           "automargin": true,
           "gridcolor": "white",
           "linecolor": "white",
           "ticks": "",
           "title": {
            "standoff": 15
           },
           "zerolinecolor": "white",
           "zerolinewidth": 2
          },
          "yaxis": {
           "automargin": true,
           "gridcolor": "white",
           "linecolor": "white",
           "ticks": "",
           "title": {
            "standoff": 15
           },
           "zerolinecolor": "white",
           "zerolinewidth": 2
          }
         }
        },
        "title": {
         "text": "indices UV par Ville"
        },
        "xaxis": {
         "anchor": "y",
         "domain": [
          0,
          1
         ],
         "title": {
          "text": "Indice UV"
         }
        },
        "yaxis": {
         "anchor": "x",
         "domain": [
          0,
          1
         ],
         "title": {
          "text": "Ville"
         }
        }
       }
      }
     },
     "metadata": {},
     "output_type": "display_data"
    }
   ],
   "source": [
    "df_sorted = bc.sort_values(by='uvi', ascending=True)\n",
    "\n",
    "# Créer un diagramme en bâtons horizontal\n",
    "fig = px.bar(df_sorted, x='uvi', y='cities', orientation='h',\n",
    "             title='indices UV par Ville',\n",
    "             labels={'uvi': 'Indice UV', 'cities': 'Ville'})\n",
    "\n",
    "# Ajuster la hauteur du graphique\n",
    "fig.update_layout(height=800)\n",
    "\n",
    "# Afficher le diagramme\n",
    "fig.show()"
   ]
  },
  {
   "cell_type": "code",
   "execution_count": 25,
   "metadata": {},
   "outputs": [
    {
     "data": {
      "application/vnd.plotly.v1+json": {
       "config": {
        "plotlyServerURL": "https://plot.ly"
       },
       "data": [
        {
         "hovertemplate": "Humidité=%{x}<br>Ville=%{y}<extra></extra>",
         "legendgroup": "",
         "marker": {
          "color": "#636efa",
          "pattern": {
           "shape": ""
          }
         },
         "name": "",
         "orientation": "h",
         "showlegend": false,
         "textposition": "auto",
         "type": "bar",
         "x": {
          "bdata": "AAAAAACAV0AAAAAAAIBXQAAAAAAAgFdAAAAAAAAAV0AAAAAAAABXQAAAAAAAQFZAAAAAAAAAVkAAAAAAAIBVQAAAAAAAQFRAAAAAAABAU0AAAAAAAABTQAAAAAAAwFJAAAAAAAAAUkAAAAAAAABSQAAAAAAAAFJAAAAAAADAUUAAAAAAAMBQQAAAAAAAwFBAAAAAAADAUEAAAAAAAMBQQAAAAAAAgE9AAAAAAACAT0AAAAAAAIBOQAAAAAAAgE1AAAAAAAAATEAAAAAAAIBLQAAAAAAAgEpAAAAAAACASUAAAAAAAIBJQAAAAAAAAElAAAAAAAAASUAAAAAAAIBEQAAAAAAAAERAAAAAAAAAREAAAAAAAIBCQA==",
          "dtype": "f8"
         },
         "xaxis": "x",
         "y": [
          "Le Havre",
          "St Malo",
          "La Rochelle",
          "Paris",
          "Amiens",
          "Bayeux",
          "Mont Saint Michel",
          "Rouen",
          "Grenoble",
          "Montauban",
          "Dijon",
          "Besancon",
          "Biarritz",
          "Bayonne",
          "Toulouse",
          "Lille",
          "Carcassonne",
          "Colmar",
          "Chateau du Haut Koenigsbourg",
          "Eguisheim",
          "Annecy",
          "Strasbourg",
          "Bormes les Mimosas",
          "Lyon",
          "Ariege",
          "Saintes Maries de la mer",
          "Gorges du Verdon",
          "Collioure",
          "Avignon",
          "Marseille",
          "Cassis",
          "Uzes",
          "Aigues Mortes",
          "Aix en Provence",
          "Nimes"
         ],
         "yaxis": "y"
        }
       ],
       "layout": {
        "barmode": "relative",
        "height": 800,
        "legend": {
         "tracegroupgap": 0
        },
        "template": {
         "data": {
          "bar": [
           {
            "error_x": {
             "color": "#2a3f5f"
            },
            "error_y": {
             "color": "#2a3f5f"
            },
            "marker": {
             "line": {
              "color": "#E5ECF6",
              "width": 0.5
             },
             "pattern": {
              "fillmode": "overlay",
              "size": 10,
              "solidity": 0.2
             }
            },
            "type": "bar"
           }
          ],
          "barpolar": [
           {
            "marker": {
             "line": {
              "color": "#E5ECF6",
              "width": 0.5
             },
             "pattern": {
              "fillmode": "overlay",
              "size": 10,
              "solidity": 0.2
             }
            },
            "type": "barpolar"
           }
          ],
          "carpet": [
           {
            "aaxis": {
             "endlinecolor": "#2a3f5f",
             "gridcolor": "white",
             "linecolor": "white",
             "minorgridcolor": "white",
             "startlinecolor": "#2a3f5f"
            },
            "baxis": {
             "endlinecolor": "#2a3f5f",
             "gridcolor": "white",
             "linecolor": "white",
             "minorgridcolor": "white",
             "startlinecolor": "#2a3f5f"
            },
            "type": "carpet"
           }
          ],
          "choropleth": [
           {
            "colorbar": {
             "outlinewidth": 0,
             "ticks": ""
            },
            "type": "choropleth"
           }
          ],
          "contour": [
           {
            "colorbar": {
             "outlinewidth": 0,
             "ticks": ""
            },
            "colorscale": [
             [
              0,
              "#0d0887"
             ],
             [
              0.1111111111111111,
              "#46039f"
             ],
             [
              0.2222222222222222,
              "#7201a8"
             ],
             [
              0.3333333333333333,
              "#9c179e"
             ],
             [
              0.4444444444444444,
              "#bd3786"
             ],
             [
              0.5555555555555556,
              "#d8576b"
             ],
             [
              0.6666666666666666,
              "#ed7953"
             ],
             [
              0.7777777777777778,
              "#fb9f3a"
             ],
             [
              0.8888888888888888,
              "#fdca26"
             ],
             [
              1,
              "#f0f921"
             ]
            ],
            "type": "contour"
           }
          ],
          "contourcarpet": [
           {
            "colorbar": {
             "outlinewidth": 0,
             "ticks": ""
            },
            "type": "contourcarpet"
           }
          ],
          "heatmap": [
           {
            "colorbar": {
             "outlinewidth": 0,
             "ticks": ""
            },
            "colorscale": [
             [
              0,
              "#0d0887"
             ],
             [
              0.1111111111111111,
              "#46039f"
             ],
             [
              0.2222222222222222,
              "#7201a8"
             ],
             [
              0.3333333333333333,
              "#9c179e"
             ],
             [
              0.4444444444444444,
              "#bd3786"
             ],
             [
              0.5555555555555556,
              "#d8576b"
             ],
             [
              0.6666666666666666,
              "#ed7953"
             ],
             [
              0.7777777777777778,
              "#fb9f3a"
             ],
             [
              0.8888888888888888,
              "#fdca26"
             ],
             [
              1,
              "#f0f921"
             ]
            ],
            "type": "heatmap"
           }
          ],
          "histogram": [
           {
            "marker": {
             "pattern": {
              "fillmode": "overlay",
              "size": 10,
              "solidity": 0.2
             }
            },
            "type": "histogram"
           }
          ],
          "histogram2d": [
           {
            "colorbar": {
             "outlinewidth": 0,
             "ticks": ""
            },
            "colorscale": [
             [
              0,
              "#0d0887"
             ],
             [
              0.1111111111111111,
              "#46039f"
             ],
             [
              0.2222222222222222,
              "#7201a8"
             ],
             [
              0.3333333333333333,
              "#9c179e"
             ],
             [
              0.4444444444444444,
              "#bd3786"
             ],
             [
              0.5555555555555556,
              "#d8576b"
             ],
             [
              0.6666666666666666,
              "#ed7953"
             ],
             [
              0.7777777777777778,
              "#fb9f3a"
             ],
             [
              0.8888888888888888,
              "#fdca26"
             ],
             [
              1,
              "#f0f921"
             ]
            ],
            "type": "histogram2d"
           }
          ],
          "histogram2dcontour": [
           {
            "colorbar": {
             "outlinewidth": 0,
             "ticks": ""
            },
            "colorscale": [
             [
              0,
              "#0d0887"
             ],
             [
              0.1111111111111111,
              "#46039f"
             ],
             [
              0.2222222222222222,
              "#7201a8"
             ],
             [
              0.3333333333333333,
              "#9c179e"
             ],
             [
              0.4444444444444444,
              "#bd3786"
             ],
             [
              0.5555555555555556,
              "#d8576b"
             ],
             [
              0.6666666666666666,
              "#ed7953"
             ],
             [
              0.7777777777777778,
              "#fb9f3a"
             ],
             [
              0.8888888888888888,
              "#fdca26"
             ],
             [
              1,
              "#f0f921"
             ]
            ],
            "type": "histogram2dcontour"
           }
          ],
          "mesh3d": [
           {
            "colorbar": {
             "outlinewidth": 0,
             "ticks": ""
            },
            "type": "mesh3d"
           }
          ],
          "parcoords": [
           {
            "line": {
             "colorbar": {
              "outlinewidth": 0,
              "ticks": ""
             }
            },
            "type": "parcoords"
           }
          ],
          "pie": [
           {
            "automargin": true,
            "type": "pie"
           }
          ],
          "scatter": [
           {
            "fillpattern": {
             "fillmode": "overlay",
             "size": 10,
             "solidity": 0.2
            },
            "type": "scatter"
           }
          ],
          "scatter3d": [
           {
            "line": {
             "colorbar": {
              "outlinewidth": 0,
              "ticks": ""
             }
            },
            "marker": {
             "colorbar": {
              "outlinewidth": 0,
              "ticks": ""
             }
            },
            "type": "scatter3d"
           }
          ],
          "scattercarpet": [
           {
            "marker": {
             "colorbar": {
              "outlinewidth": 0,
              "ticks": ""
             }
            },
            "type": "scattercarpet"
           }
          ],
          "scattergeo": [
           {
            "marker": {
             "colorbar": {
              "outlinewidth": 0,
              "ticks": ""
             }
            },
            "type": "scattergeo"
           }
          ],
          "scattergl": [
           {
            "marker": {
             "colorbar": {
              "outlinewidth": 0,
              "ticks": ""
             }
            },
            "type": "scattergl"
           }
          ],
          "scattermap": [
           {
            "marker": {
             "colorbar": {
              "outlinewidth": 0,
              "ticks": ""
             }
            },
            "type": "scattermap"
           }
          ],
          "scattermapbox": [
           {
            "marker": {
             "colorbar": {
              "outlinewidth": 0,
              "ticks": ""
             }
            },
            "type": "scattermapbox"
           }
          ],
          "scatterpolar": [
           {
            "marker": {
             "colorbar": {
              "outlinewidth": 0,
              "ticks": ""
             }
            },
            "type": "scatterpolar"
           }
          ],
          "scatterpolargl": [
           {
            "marker": {
             "colorbar": {
              "outlinewidth": 0,
              "ticks": ""
             }
            },
            "type": "scatterpolargl"
           }
          ],
          "scatterternary": [
           {
            "marker": {
             "colorbar": {
              "outlinewidth": 0,
              "ticks": ""
             }
            },
            "type": "scatterternary"
           }
          ],
          "surface": [
           {
            "colorbar": {
             "outlinewidth": 0,
             "ticks": ""
            },
            "colorscale": [
             [
              0,
              "#0d0887"
             ],
             [
              0.1111111111111111,
              "#46039f"
             ],
             [
              0.2222222222222222,
              "#7201a8"
             ],
             [
              0.3333333333333333,
              "#9c179e"
             ],
             [
              0.4444444444444444,
              "#bd3786"
             ],
             [
              0.5555555555555556,
              "#d8576b"
             ],
             [
              0.6666666666666666,
              "#ed7953"
             ],
             [
              0.7777777777777778,
              "#fb9f3a"
             ],
             [
              0.8888888888888888,
              "#fdca26"
             ],
             [
              1,
              "#f0f921"
             ]
            ],
            "type": "surface"
           }
          ],
          "table": [
           {
            "cells": {
             "fill": {
              "color": "#EBF0F8"
             },
             "line": {
              "color": "white"
             }
            },
            "header": {
             "fill": {
              "color": "#C8D4E3"
             },
             "line": {
              "color": "white"
             }
            },
            "type": "table"
           }
          ]
         },
         "layout": {
          "annotationdefaults": {
           "arrowcolor": "#2a3f5f",
           "arrowhead": 0,
           "arrowwidth": 1
          },
          "autotypenumbers": "strict",
          "coloraxis": {
           "colorbar": {
            "outlinewidth": 0,
            "ticks": ""
           }
          },
          "colorscale": {
           "diverging": [
            [
             0,
             "#8e0152"
            ],
            [
             0.1,
             "#c51b7d"
            ],
            [
             0.2,
             "#de77ae"
            ],
            [
             0.3,
             "#f1b6da"
            ],
            [
             0.4,
             "#fde0ef"
            ],
            [
             0.5,
             "#f7f7f7"
            ],
            [
             0.6,
             "#e6f5d0"
            ],
            [
             0.7,
             "#b8e186"
            ],
            [
             0.8,
             "#7fbc41"
            ],
            [
             0.9,
             "#4d9221"
            ],
            [
             1,
             "#276419"
            ]
           ],
           "sequential": [
            [
             0,
             "#0d0887"
            ],
            [
             0.1111111111111111,
             "#46039f"
            ],
            [
             0.2222222222222222,
             "#7201a8"
            ],
            [
             0.3333333333333333,
             "#9c179e"
            ],
            [
             0.4444444444444444,
             "#bd3786"
            ],
            [
             0.5555555555555556,
             "#d8576b"
            ],
            [
             0.6666666666666666,
             "#ed7953"
            ],
            [
             0.7777777777777778,
             "#fb9f3a"
            ],
            [
             0.8888888888888888,
             "#fdca26"
            ],
            [
             1,
             "#f0f921"
            ]
           ],
           "sequentialminus": [
            [
             0,
             "#0d0887"
            ],
            [
             0.1111111111111111,
             "#46039f"
            ],
            [
             0.2222222222222222,
             "#7201a8"
            ],
            [
             0.3333333333333333,
             "#9c179e"
            ],
            [
             0.4444444444444444,
             "#bd3786"
            ],
            [
             0.5555555555555556,
             "#d8576b"
            ],
            [
             0.6666666666666666,
             "#ed7953"
            ],
            [
             0.7777777777777778,
             "#fb9f3a"
            ],
            [
             0.8888888888888888,
             "#fdca26"
            ],
            [
             1,
             "#f0f921"
            ]
           ]
          },
          "colorway": [
           "#636efa",
           "#EF553B",
           "#00cc96",
           "#ab63fa",
           "#FFA15A",
           "#19d3f3",
           "#FF6692",
           "#B6E880",
           "#FF97FF",
           "#FECB52"
          ],
          "font": {
           "color": "#2a3f5f"
          },
          "geo": {
           "bgcolor": "white",
           "lakecolor": "white",
           "landcolor": "#E5ECF6",
           "showlakes": true,
           "showland": true,
           "subunitcolor": "white"
          },
          "hoverlabel": {
           "align": "left"
          },
          "hovermode": "closest",
          "mapbox": {
           "style": "light"
          },
          "paper_bgcolor": "white",
          "plot_bgcolor": "#E5ECF6",
          "polar": {
           "angularaxis": {
            "gridcolor": "white",
            "linecolor": "white",
            "ticks": ""
           },
           "bgcolor": "#E5ECF6",
           "radialaxis": {
            "gridcolor": "white",
            "linecolor": "white",
            "ticks": ""
           }
          },
          "scene": {
           "xaxis": {
            "backgroundcolor": "#E5ECF6",
            "gridcolor": "white",
            "gridwidth": 2,
            "linecolor": "white",
            "showbackground": true,
            "ticks": "",
            "zerolinecolor": "white"
           },
           "yaxis": {
            "backgroundcolor": "#E5ECF6",
            "gridcolor": "white",
            "gridwidth": 2,
            "linecolor": "white",
            "showbackground": true,
            "ticks": "",
            "zerolinecolor": "white"
           },
           "zaxis": {
            "backgroundcolor": "#E5ECF6",
            "gridcolor": "white",
            "gridwidth": 2,
            "linecolor": "white",
            "showbackground": true,
            "ticks": "",
            "zerolinecolor": "white"
           }
          },
          "shapedefaults": {
           "line": {
            "color": "#2a3f5f"
           }
          },
          "ternary": {
           "aaxis": {
            "gridcolor": "white",
            "linecolor": "white",
            "ticks": ""
           },
           "baxis": {
            "gridcolor": "white",
            "linecolor": "white",
            "ticks": ""
           },
           "bgcolor": "#E5ECF6",
           "caxis": {
            "gridcolor": "white",
            "linecolor": "white",
            "ticks": ""
           }
          },
          "title": {
           "x": 0.05
          },
          "xaxis": {
           "automargin": true,
           "gridcolor": "white",
           "linecolor": "white",
           "ticks": "",
           "title": {
            "standoff": 15
           },
           "zerolinecolor": "white",
           "zerolinewidth": 2
          },
          "yaxis": {
           "automargin": true,
           "gridcolor": "white",
           "linecolor": "white",
           "ticks": "",
           "title": {
            "standoff": 15
           },
           "zerolinecolor": "white",
           "zerolinewidth": 2
          }
         }
        },
        "title": {
         "text": "Humidité par Ville"
        },
        "xaxis": {
         "anchor": "y",
         "domain": [
          0,
          1
         ],
         "title": {
          "text": "Humidité"
         }
        },
        "yaxis": {
         "anchor": "x",
         "domain": [
          0,
          1
         ],
         "title": {
          "text": "Ville"
         }
        }
       }
      }
     },
     "metadata": {},
     "output_type": "display_data"
    }
   ],
   "source": [
    "df_sorted = bc.sort_values(by='humidity', ascending=False)\n",
    "\n",
    "# Créer un diagramme en bâtons horizontal\n",
    "fig = px.bar(df_sorted, x='humidity', y='cities', orientation='h',\n",
    "             title='Humidité par Ville',\n",
    "             labels={'humidity': 'Humidité', 'cities': 'Ville'})\n",
    "\n",
    "# Ajuster la hauteur du graphique\n",
    "fig.update_layout(height=800)\n",
    "\n",
    "# Afficher le diagramme\n",
    "fig.show()"
   ]
  },
  {
   "cell_type": "code",
   "execution_count": 26,
   "metadata": {},
   "outputs": [
    {
     "data": {
      "application/vnd.plotly.v1+json": {
       "config": {
        "plotlyServerURL": "https://plot.ly"
       },
       "data": [
        {
         "hovertemplate": "wind_speed=%{x}<br>Ville=%{y}<extra></extra>",
         "legendgroup": "",
         "marker": {
          "color": "#636efa",
          "pattern": {
           "shape": ""
          }
         },
         "name": "",
         "orientation": "h",
         "showlegend": false,
         "textposition": "auto",
         "type": "bar",
         "x": {
          "bdata": "KVyPwvUoIkCF61G4HgUiQOF6FK5H4R5AzczMzMzMHEDNzMzMzMwcQM3MzMzMzBxAw/UoXI/CGkDhehSuR+EYQK5H4XoUrhhArkfhehSuGECuR+F6FK4YQK5H4XoUrhhArkfhehSuGEAUrkfhehQYQKRwPQrXoxZAMzMzMzMzFUCPwvUoXI8UQI/C9ShcjxRACtejcD0KE0CF61G4HoUSQIXrUbgehRJAhetRuB6FEkC4HoXrUbgRQD0K16NwPRBA9ihcj8L1DEA9CtejcD0MQArXo3A9CglAj8L1KFyPBEB7FK5H4XoEQEjhehSuRwFAexSuR+F6AEB7FK5H4XrwP3sUrkfhevA/exSuR+F68D97FK5H4XrsPw==",
          "dtype": "f8"
         },
         "xaxis": "x",
         "y": [
          "Cassis",
          "Mont Saint Michel",
          "Aigues Mortes",
          "St Malo",
          "Lille",
          "Marseille",
          "Le Havre",
          "Aix en Provence",
          "La Rochelle",
          "Carcassonne",
          "Avignon",
          "Bormes les Mimosas",
          "Rouen",
          "Saintes Maries de la mer",
          "Paris",
          "Besancon",
          "Bayonne",
          "Biarritz",
          "Bayeux",
          "Toulouse",
          "Nimes",
          "Annecy",
          "Amiens",
          "Uzes",
          "Montauban",
          "Gorges du Verdon",
          "Lyon",
          "Dijon",
          "Ariege",
          "Collioure",
          "Strasbourg",
          "Chateau du Haut Koenigsbourg",
          "Colmar",
          "Eguisheim",
          "Grenoble"
         ],
         "yaxis": "y"
        }
       ],
       "layout": {
        "barmode": "relative",
        "height": 800,
        "legend": {
         "tracegroupgap": 0
        },
        "template": {
         "data": {
          "bar": [
           {
            "error_x": {
             "color": "#2a3f5f"
            },
            "error_y": {
             "color": "#2a3f5f"
            },
            "marker": {
             "line": {
              "color": "#E5ECF6",
              "width": 0.5
             },
             "pattern": {
              "fillmode": "overlay",
              "size": 10,
              "solidity": 0.2
             }
            },
            "type": "bar"
           }
          ],
          "barpolar": [
           {
            "marker": {
             "line": {
              "color": "#E5ECF6",
              "width": 0.5
             },
             "pattern": {
              "fillmode": "overlay",
              "size": 10,
              "solidity": 0.2
             }
            },
            "type": "barpolar"
           }
          ],
          "carpet": [
           {
            "aaxis": {
             "endlinecolor": "#2a3f5f",
             "gridcolor": "white",
             "linecolor": "white",
             "minorgridcolor": "white",
             "startlinecolor": "#2a3f5f"
            },
            "baxis": {
             "endlinecolor": "#2a3f5f",
             "gridcolor": "white",
             "linecolor": "white",
             "minorgridcolor": "white",
             "startlinecolor": "#2a3f5f"
            },
            "type": "carpet"
           }
          ],
          "choropleth": [
           {
            "colorbar": {
             "outlinewidth": 0,
             "ticks": ""
            },
            "type": "choropleth"
           }
          ],
          "contour": [
           {
            "colorbar": {
             "outlinewidth": 0,
             "ticks": ""
            },
            "colorscale": [
             [
              0,
              "#0d0887"
             ],
             [
              0.1111111111111111,
              "#46039f"
             ],
             [
              0.2222222222222222,
              "#7201a8"
             ],
             [
              0.3333333333333333,
              "#9c179e"
             ],
             [
              0.4444444444444444,
              "#bd3786"
             ],
             [
              0.5555555555555556,
              "#d8576b"
             ],
             [
              0.6666666666666666,
              "#ed7953"
             ],
             [
              0.7777777777777778,
              "#fb9f3a"
             ],
             [
              0.8888888888888888,
              "#fdca26"
             ],
             [
              1,
              "#f0f921"
             ]
            ],
            "type": "contour"
           }
          ],
          "contourcarpet": [
           {
            "colorbar": {
             "outlinewidth": 0,
             "ticks": ""
            },
            "type": "contourcarpet"
           }
          ],
          "heatmap": [
           {
            "colorbar": {
             "outlinewidth": 0,
             "ticks": ""
            },
            "colorscale": [
             [
              0,
              "#0d0887"
             ],
             [
              0.1111111111111111,
              "#46039f"
             ],
             [
              0.2222222222222222,
              "#7201a8"
             ],
             [
              0.3333333333333333,
              "#9c179e"
             ],
             [
              0.4444444444444444,
              "#bd3786"
             ],
             [
              0.5555555555555556,
              "#d8576b"
             ],
             [
              0.6666666666666666,
              "#ed7953"
             ],
             [
              0.7777777777777778,
              "#fb9f3a"
             ],
             [
              0.8888888888888888,
              "#fdca26"
             ],
             [
              1,
              "#f0f921"
             ]
            ],
            "type": "heatmap"
           }
          ],
          "histogram": [
           {
            "marker": {
             "pattern": {
              "fillmode": "overlay",
              "size": 10,
              "solidity": 0.2
             }
            },
            "type": "histogram"
           }
          ],
          "histogram2d": [
           {
            "colorbar": {
             "outlinewidth": 0,
             "ticks": ""
            },
            "colorscale": [
             [
              0,
              "#0d0887"
             ],
             [
              0.1111111111111111,
              "#46039f"
             ],
             [
              0.2222222222222222,
              "#7201a8"
             ],
             [
              0.3333333333333333,
              "#9c179e"
             ],
             [
              0.4444444444444444,
              "#bd3786"
             ],
             [
              0.5555555555555556,
              "#d8576b"
             ],
             [
              0.6666666666666666,
              "#ed7953"
             ],
             [
              0.7777777777777778,
              "#fb9f3a"
             ],
             [
              0.8888888888888888,
              "#fdca26"
             ],
             [
              1,
              "#f0f921"
             ]
            ],
            "type": "histogram2d"
           }
          ],
          "histogram2dcontour": [
           {
            "colorbar": {
             "outlinewidth": 0,
             "ticks": ""
            },
            "colorscale": [
             [
              0,
              "#0d0887"
             ],
             [
              0.1111111111111111,
              "#46039f"
             ],
             [
              0.2222222222222222,
              "#7201a8"
             ],
             [
              0.3333333333333333,
              "#9c179e"
             ],
             [
              0.4444444444444444,
              "#bd3786"
             ],
             [
              0.5555555555555556,
              "#d8576b"
             ],
             [
              0.6666666666666666,
              "#ed7953"
             ],
             [
              0.7777777777777778,
              "#fb9f3a"
             ],
             [
              0.8888888888888888,
              "#fdca26"
             ],
             [
              1,
              "#f0f921"
             ]
            ],
            "type": "histogram2dcontour"
           }
          ],
          "mesh3d": [
           {
            "colorbar": {
             "outlinewidth": 0,
             "ticks": ""
            },
            "type": "mesh3d"
           }
          ],
          "parcoords": [
           {
            "line": {
             "colorbar": {
              "outlinewidth": 0,
              "ticks": ""
             }
            },
            "type": "parcoords"
           }
          ],
          "pie": [
           {
            "automargin": true,
            "type": "pie"
           }
          ],
          "scatter": [
           {
            "fillpattern": {
             "fillmode": "overlay",
             "size": 10,
             "solidity": 0.2
            },
            "type": "scatter"
           }
          ],
          "scatter3d": [
           {
            "line": {
             "colorbar": {
              "outlinewidth": 0,
              "ticks": ""
             }
            },
            "marker": {
             "colorbar": {
              "outlinewidth": 0,
              "ticks": ""
             }
            },
            "type": "scatter3d"
           }
          ],
          "scattercarpet": [
           {
            "marker": {
             "colorbar": {
              "outlinewidth": 0,
              "ticks": ""
             }
            },
            "type": "scattercarpet"
           }
          ],
          "scattergeo": [
           {
            "marker": {
             "colorbar": {
              "outlinewidth": 0,
              "ticks": ""
             }
            },
            "type": "scattergeo"
           }
          ],
          "scattergl": [
           {
            "marker": {
             "colorbar": {
              "outlinewidth": 0,
              "ticks": ""
             }
            },
            "type": "scattergl"
           }
          ],
          "scattermap": [
           {
            "marker": {
             "colorbar": {
              "outlinewidth": 0,
              "ticks": ""
             }
            },
            "type": "scattermap"
           }
          ],
          "scattermapbox": [
           {
            "marker": {
             "colorbar": {
              "outlinewidth": 0,
              "ticks": ""
             }
            },
            "type": "scattermapbox"
           }
          ],
          "scatterpolar": [
           {
            "marker": {
             "colorbar": {
              "outlinewidth": 0,
              "ticks": ""
             }
            },
            "type": "scatterpolar"
           }
          ],
          "scatterpolargl": [
           {
            "marker": {
             "colorbar": {
              "outlinewidth": 0,
              "ticks": ""
             }
            },
            "type": "scatterpolargl"
           }
          ],
          "scatterternary": [
           {
            "marker": {
             "colorbar": {
              "outlinewidth": 0,
              "ticks": ""
             }
            },
            "type": "scatterternary"
           }
          ],
          "surface": [
           {
            "colorbar": {
             "outlinewidth": 0,
             "ticks": ""
            },
            "colorscale": [
             [
              0,
              "#0d0887"
             ],
             [
              0.1111111111111111,
              "#46039f"
             ],
             [
              0.2222222222222222,
              "#7201a8"
             ],
             [
              0.3333333333333333,
              "#9c179e"
             ],
             [
              0.4444444444444444,
              "#bd3786"
             ],
             [
              0.5555555555555556,
              "#d8576b"
             ],
             [
              0.6666666666666666,
              "#ed7953"
             ],
             [
              0.7777777777777778,
              "#fb9f3a"
             ],
             [
              0.8888888888888888,
              "#fdca26"
             ],
             [
              1,
              "#f0f921"
             ]
            ],
            "type": "surface"
           }
          ],
          "table": [
           {
            "cells": {
             "fill": {
              "color": "#EBF0F8"
             },
             "line": {
              "color": "white"
             }
            },
            "header": {
             "fill": {
              "color": "#C8D4E3"
             },
             "line": {
              "color": "white"
             }
            },
            "type": "table"
           }
          ]
         },
         "layout": {
          "annotationdefaults": {
           "arrowcolor": "#2a3f5f",
           "arrowhead": 0,
           "arrowwidth": 1
          },
          "autotypenumbers": "strict",
          "coloraxis": {
           "colorbar": {
            "outlinewidth": 0,
            "ticks": ""
           }
          },
          "colorscale": {
           "diverging": [
            [
             0,
             "#8e0152"
            ],
            [
             0.1,
             "#c51b7d"
            ],
            [
             0.2,
             "#de77ae"
            ],
            [
             0.3,
             "#f1b6da"
            ],
            [
             0.4,
             "#fde0ef"
            ],
            [
             0.5,
             "#f7f7f7"
            ],
            [
             0.6,
             "#e6f5d0"
            ],
            [
             0.7,
             "#b8e186"
            ],
            [
             0.8,
             "#7fbc41"
            ],
            [
             0.9,
             "#4d9221"
            ],
            [
             1,
             "#276419"
            ]
           ],
           "sequential": [
            [
             0,
             "#0d0887"
            ],
            [
             0.1111111111111111,
             "#46039f"
            ],
            [
             0.2222222222222222,
             "#7201a8"
            ],
            [
             0.3333333333333333,
             "#9c179e"
            ],
            [
             0.4444444444444444,
             "#bd3786"
            ],
            [
             0.5555555555555556,
             "#d8576b"
            ],
            [
             0.6666666666666666,
             "#ed7953"
            ],
            [
             0.7777777777777778,
             "#fb9f3a"
            ],
            [
             0.8888888888888888,
             "#fdca26"
            ],
            [
             1,
             "#f0f921"
            ]
           ],
           "sequentialminus": [
            [
             0,
             "#0d0887"
            ],
            [
             0.1111111111111111,
             "#46039f"
            ],
            [
             0.2222222222222222,
             "#7201a8"
            ],
            [
             0.3333333333333333,
             "#9c179e"
            ],
            [
             0.4444444444444444,
             "#bd3786"
            ],
            [
             0.5555555555555556,
             "#d8576b"
            ],
            [
             0.6666666666666666,
             "#ed7953"
            ],
            [
             0.7777777777777778,
             "#fb9f3a"
            ],
            [
             0.8888888888888888,
             "#fdca26"
            ],
            [
             1,
             "#f0f921"
            ]
           ]
          },
          "colorway": [
           "#636efa",
           "#EF553B",
           "#00cc96",
           "#ab63fa",
           "#FFA15A",
           "#19d3f3",
           "#FF6692",
           "#B6E880",
           "#FF97FF",
           "#FECB52"
          ],
          "font": {
           "color": "#2a3f5f"
          },
          "geo": {
           "bgcolor": "white",
           "lakecolor": "white",
           "landcolor": "#E5ECF6",
           "showlakes": true,
           "showland": true,
           "subunitcolor": "white"
          },
          "hoverlabel": {
           "align": "left"
          },
          "hovermode": "closest",
          "mapbox": {
           "style": "light"
          },
          "paper_bgcolor": "white",
          "plot_bgcolor": "#E5ECF6",
          "polar": {
           "angularaxis": {
            "gridcolor": "white",
            "linecolor": "white",
            "ticks": ""
           },
           "bgcolor": "#E5ECF6",
           "radialaxis": {
            "gridcolor": "white",
            "linecolor": "white",
            "ticks": ""
           }
          },
          "scene": {
           "xaxis": {
            "backgroundcolor": "#E5ECF6",
            "gridcolor": "white",
            "gridwidth": 2,
            "linecolor": "white",
            "showbackground": true,
            "ticks": "",
            "zerolinecolor": "white"
           },
           "yaxis": {
            "backgroundcolor": "#E5ECF6",
            "gridcolor": "white",
            "gridwidth": 2,
            "linecolor": "white",
            "showbackground": true,
            "ticks": "",
            "zerolinecolor": "white"
           },
           "zaxis": {
            "backgroundcolor": "#E5ECF6",
            "gridcolor": "white",
            "gridwidth": 2,
            "linecolor": "white",
            "showbackground": true,
            "ticks": "",
            "zerolinecolor": "white"
           }
          },
          "shapedefaults": {
           "line": {
            "color": "#2a3f5f"
           }
          },
          "ternary": {
           "aaxis": {
            "gridcolor": "white",
            "linecolor": "white",
            "ticks": ""
           },
           "baxis": {
            "gridcolor": "white",
            "linecolor": "white",
            "ticks": ""
           },
           "bgcolor": "#E5ECF6",
           "caxis": {
            "gridcolor": "white",
            "linecolor": "white",
            "ticks": ""
           }
          },
          "title": {
           "x": 0.05
          },
          "xaxis": {
           "automargin": true,
           "gridcolor": "white",
           "linecolor": "white",
           "ticks": "",
           "title": {
            "standoff": 15
           },
           "zerolinecolor": "white",
           "zerolinewidth": 2
          },
          "yaxis": {
           "automargin": true,
           "gridcolor": "white",
           "linecolor": "white",
           "ticks": "",
           "title": {
            "standoff": 15
           },
           "zerolinecolor": "white",
           "zerolinewidth": 2
          }
         }
        },
        "title": {
         "text": "Vitesse du vent par Ville"
        },
        "xaxis": {
         "anchor": "y",
         "domain": [
          0,
          1
         ],
         "title": {
          "text": "wind_speed"
         }
        },
        "yaxis": {
         "anchor": "x",
         "domain": [
          0,
          1
         ],
         "title": {
          "text": "Ville"
         }
        }
       }
      }
     },
     "metadata": {},
     "output_type": "display_data"
    }
   ],
   "source": [
    "df_sorted = bc.sort_values(by='wind_speed', ascending=False)\n",
    "\n",
    "# Créer un diagramme en bâtons horizontal\n",
    "fig = px.bar(df_sorted, x='wind_speed', y='cities', orientation='h',\n",
    "             title='Vitesse du vent par Ville',\n",
    "             labels={'wind_speed': 'wind_speed', 'cities': 'Ville'})\n",
    "\n",
    "# Ajuster la hauteur du graphique\n",
    "fig.update_layout(height=800)\n",
    "\n",
    "# Afficher le diagramme\n",
    "fig.show()"
   ]
  },
  {
   "cell_type": "code",
   "execution_count": 69,
   "metadata": {},
   "outputs": [
    {
     "data": {
      "text/html": [
       "<div style=\"width:100%;\"><div style=\"position:relative;width:100%;height:0;padding-bottom:60%;\"><span style=\"color:#565656\">Make this Notebook Trusted to load map: File -> Trust Notebook</span><iframe srcdoc=\"&lt;!DOCTYPE html&gt;\n",
       "&lt;html&gt;\n",
       "&lt;head&gt;\n",
       "    \n",
       "    &lt;meta http-equiv=&quot;content-type&quot; content=&quot;text/html; charset=UTF-8&quot; /&gt;\n",
       "    \n",
       "        &lt;script&gt;\n",
       "            L_NO_TOUCH = false;\n",
       "            L_DISABLE_3D = false;\n",
       "        &lt;/script&gt;\n",
       "    \n",
       "    &lt;style&gt;html, body {width: 100%;height: 100%;margin: 0;padding: 0;}&lt;/style&gt;\n",
       "    &lt;style&gt;#map {position:absolute;top:0;bottom:0;right:0;left:0;}&lt;/style&gt;\n",
       "    &lt;script src=&quot;https://cdn.jsdelivr.net/npm/leaflet@1.9.3/dist/leaflet.js&quot;&gt;&lt;/script&gt;\n",
       "    &lt;script src=&quot;https://code.jquery.com/jquery-3.7.1.min.js&quot;&gt;&lt;/script&gt;\n",
       "    &lt;script src=&quot;https://cdn.jsdelivr.net/npm/bootstrap@5.2.2/dist/js/bootstrap.bundle.min.js&quot;&gt;&lt;/script&gt;\n",
       "    &lt;script src=&quot;https://cdnjs.cloudflare.com/ajax/libs/Leaflet.awesome-markers/2.0.2/leaflet.awesome-markers.js&quot;&gt;&lt;/script&gt;\n",
       "    &lt;link rel=&quot;stylesheet&quot; href=&quot;https://cdn.jsdelivr.net/npm/leaflet@1.9.3/dist/leaflet.css&quot;/&gt;\n",
       "    &lt;link rel=&quot;stylesheet&quot; href=&quot;https://cdn.jsdelivr.net/npm/bootstrap@5.2.2/dist/css/bootstrap.min.css&quot;/&gt;\n",
       "    &lt;link rel=&quot;stylesheet&quot; href=&quot;https://netdna.bootstrapcdn.com/bootstrap/3.0.0/css/bootstrap-glyphicons.css&quot;/&gt;\n",
       "    &lt;link rel=&quot;stylesheet&quot; href=&quot;https://cdn.jsdelivr.net/npm/@fortawesome/fontawesome-free@6.2.0/css/all.min.css&quot;/&gt;\n",
       "    &lt;link rel=&quot;stylesheet&quot; href=&quot;https://cdnjs.cloudflare.com/ajax/libs/Leaflet.awesome-markers/2.0.2/leaflet.awesome-markers.css&quot;/&gt;\n",
       "    &lt;link rel=&quot;stylesheet&quot; href=&quot;https://cdn.jsdelivr.net/gh/python-visualization/folium/folium/templates/leaflet.awesome.rotate.min.css&quot;/&gt;\n",
       "    \n",
       "            &lt;meta name=&quot;viewport&quot; content=&quot;width=device-width,\n",
       "                initial-scale=1.0, maximum-scale=1.0, user-scalable=no&quot; /&gt;\n",
       "            &lt;style&gt;\n",
       "                #map_e09b1a4b0b73d056fa1f41342dc495d0 {\n",
       "                    position: relative;\n",
       "                    width: 100.0%;\n",
       "                    height: 100.0%;\n",
       "                    left: 0.0%;\n",
       "                    top: 0.0%;\n",
       "                }\n",
       "                .leaflet-container { font-size: 1rem; }\n",
       "            &lt;/style&gt;\n",
       "        \n",
       "&lt;/head&gt;\n",
       "&lt;body&gt;\n",
       "    \n",
       "    \n",
       "            &lt;div class=&quot;folium-map&quot; id=&quot;map_e09b1a4b0b73d056fa1f41342dc495d0&quot; &gt;&lt;/div&gt;\n",
       "        \n",
       "&lt;/body&gt;\n",
       "&lt;script&gt;\n",
       "    \n",
       "    \n",
       "            var map_e09b1a4b0b73d056fa1f41342dc495d0 = L.map(\n",
       "                &quot;map_e09b1a4b0b73d056fa1f41342dc495d0&quot;,\n",
       "                {\n",
       "                    center: [46.603354, 1.888334],\n",
       "                    crs: L.CRS.EPSG3857,\n",
       "                    ...{\n",
       "  &quot;zoom&quot;: 6,\n",
       "  &quot;zoomControl&quot;: true,\n",
       "  &quot;preferCanvas&quot;: false,\n",
       "}\n",
       "\n",
       "                }\n",
       "            );\n",
       "\n",
       "            \n",
       "\n",
       "        \n",
       "    \n",
       "            var tile_layer_ca7ff6d940f461fd96c41754755a6248 = L.tileLayer(\n",
       "                &quot;https://tile.openstreetmap.org/{z}/{x}/{y}.png&quot;,\n",
       "                {\n",
       "  &quot;minZoom&quot;: 0,\n",
       "  &quot;maxZoom&quot;: 19,\n",
       "  &quot;maxNativeZoom&quot;: 19,\n",
       "  &quot;noWrap&quot;: false,\n",
       "  &quot;attribution&quot;: &quot;\\u0026copy; \\u003ca href=\\&quot;https://www.openstreetmap.org/copyright\\&quot;\\u003eOpenStreetMap\\u003c/a\\u003e contributors&quot;,\n",
       "  &quot;subdomains&quot;: &quot;abc&quot;,\n",
       "  &quot;detectRetina&quot;: false,\n",
       "  &quot;tms&quot;: false,\n",
       "  &quot;opacity&quot;: 1,\n",
       "}\n",
       "\n",
       "            );\n",
       "        \n",
       "    \n",
       "            tile_layer_ca7ff6d940f461fd96c41754755a6248.addTo(map_e09b1a4b0b73d056fa1f41342dc495d0);\n",
       "        \n",
       "    \n",
       "            var marker_1477a0f4ede4016589f7727b0bb1e00c = L.marker(\n",
       "                [48.6359541, -1.511459954959514],\n",
       "                {\n",
       "}\n",
       "            ).addTo(map_e09b1a4b0b73d056fa1f41342dc495d0);\n",
       "        \n",
       "    \n",
       "        var custom_icon_aa61f7a8ef989dcc84b607d1baace860 = L.icon({\n",
       "  &quot;iconUrl&quot;: &quot;https://images.icon-icons.com/2791/PNG/512/cloudy_cloud_weather_icon_177580.png&quot;,\n",
       "  &quot;iconSize&quot;: [40, 40],\n",
       "});\n",
       "        marker_1477a0f4ede4016589f7727b0bb1e00c.setIcon(custom_icon_aa61f7a8ef989dcc84b607d1baace860);\n",
       "        \n",
       "    \n",
       "        var popup_ae82267943dee447605854f3bf8445e1 = L.popup({\n",
       "  &quot;maxWidth&quot;: &quot;100%&quot;,\n",
       "});\n",
       "\n",
       "        \n",
       "            \n",
       "                var html_7aec0fc329ce8637c76d561689d1ed88 = $(`&lt;div id=&quot;html_7aec0fc329ce8637c76d561689d1ed88&quot; style=&quot;width: 100.0%; height: 100.0%;&quot;&gt;Mont Saint Michel&lt;/div&gt;`)[0];\n",
       "                popup_ae82267943dee447605854f3bf8445e1.setContent(html_7aec0fc329ce8637c76d561689d1ed88);\n",
       "            \n",
       "        \n",
       "\n",
       "        marker_1477a0f4ede4016589f7727b0bb1e00c.bindPopup(popup_ae82267943dee447605854f3bf8445e1)\n",
       "        ;\n",
       "\n",
       "        \n",
       "    \n",
       "    \n",
       "                marker_1477a0f4ede4016589f7727b0bb1e00c.setIcon(custom_icon_aa61f7a8ef989dcc84b607d1baace860);\n",
       "            \n",
       "    \n",
       "            var marker_2340a206a742604cc5441dae2183b0f5 = L.marker(\n",
       "                [48.649518, -2.0260409],\n",
       "                {\n",
       "}\n",
       "            ).addTo(map_e09b1a4b0b73d056fa1f41342dc495d0);\n",
       "        \n",
       "    \n",
       "        var custom_icon_9e15a193607230760e4183a843eb475a = L.icon({\n",
       "  &quot;iconUrl&quot;: &quot;https://images.icon-icons.com/2791/PNG/512/cloudy_cloud_weather_icon_177580.png&quot;,\n",
       "  &quot;iconSize&quot;: [40, 40],\n",
       "});\n",
       "        marker_2340a206a742604cc5441dae2183b0f5.setIcon(custom_icon_9e15a193607230760e4183a843eb475a);\n",
       "        \n",
       "    \n",
       "        var popup_b425e7c1dbce21affa0d278116972378 = L.popup({\n",
       "  &quot;maxWidth&quot;: &quot;100%&quot;,\n",
       "});\n",
       "\n",
       "        \n",
       "            \n",
       "                var html_0a7f8be3470ec1dd4f636e40e99eff59 = $(`&lt;div id=&quot;html_0a7f8be3470ec1dd4f636e40e99eff59&quot; style=&quot;width: 100.0%; height: 100.0%;&quot;&gt;St Malo&lt;/div&gt;`)[0];\n",
       "                popup_b425e7c1dbce21affa0d278116972378.setContent(html_0a7f8be3470ec1dd4f636e40e99eff59);\n",
       "            \n",
       "        \n",
       "\n",
       "        marker_2340a206a742604cc5441dae2183b0f5.bindPopup(popup_b425e7c1dbce21affa0d278116972378)\n",
       "        ;\n",
       "\n",
       "        \n",
       "    \n",
       "    \n",
       "                marker_2340a206a742604cc5441dae2183b0f5.setIcon(custom_icon_9e15a193607230760e4183a843eb475a);\n",
       "            \n",
       "    \n",
       "            var marker_6deca84e9f1f904bb0ff62972775dfff = L.marker(\n",
       "                [49.2764624, -0.7024738],\n",
       "                {\n",
       "}\n",
       "            ).addTo(map_e09b1a4b0b73d056fa1f41342dc495d0);\n",
       "        \n",
       "    \n",
       "        var custom_icon_748fe1f5ed24dc911ab533443ede1eb4 = L.icon({\n",
       "  &quot;iconUrl&quot;: &quot;https://images.icon-icons.com/2791/PNG/512/cloudy_cloud_weather_icon_177580.png&quot;,\n",
       "  &quot;iconSize&quot;: [40, 40],\n",
       "});\n",
       "        marker_6deca84e9f1f904bb0ff62972775dfff.setIcon(custom_icon_748fe1f5ed24dc911ab533443ede1eb4);\n",
       "        \n",
       "    \n",
       "        var popup_c130579f8ef8e0b427b9fe6b30ca0d59 = L.popup({\n",
       "  &quot;maxWidth&quot;: &quot;100%&quot;,\n",
       "});\n",
       "\n",
       "        \n",
       "            \n",
       "                var html_37617f4ee96a9124b5f3ce1013ed34c3 = $(`&lt;div id=&quot;html_37617f4ee96a9124b5f3ce1013ed34c3&quot; style=&quot;width: 100.0%; height: 100.0%;&quot;&gt;Bayeux&lt;/div&gt;`)[0];\n",
       "                popup_c130579f8ef8e0b427b9fe6b30ca0d59.setContent(html_37617f4ee96a9124b5f3ce1013ed34c3);\n",
       "            \n",
       "        \n",
       "\n",
       "        marker_6deca84e9f1f904bb0ff62972775dfff.bindPopup(popup_c130579f8ef8e0b427b9fe6b30ca0d59)\n",
       "        ;\n",
       "\n",
       "        \n",
       "    \n",
       "    \n",
       "                marker_6deca84e9f1f904bb0ff62972775dfff.setIcon(custom_icon_748fe1f5ed24dc911ab533443ede1eb4);\n",
       "            \n",
       "    \n",
       "            var marker_5c780a0b53010f44e7d6a1c0d4b90121 = L.marker(\n",
       "                [49.4938975, 0.1079732],\n",
       "                {\n",
       "}\n",
       "            ).addTo(map_e09b1a4b0b73d056fa1f41342dc495d0);\n",
       "        \n",
       "    \n",
       "        var custom_icon_1d8772035b0c4bc1387ae492069280a3 = L.icon({\n",
       "  &quot;iconUrl&quot;: &quot;https://images.icon-icons.com/2791/PNG/512/cloudy_cloud_weather_icon_177580.png&quot;,\n",
       "  &quot;iconSize&quot;: [40, 40],\n",
       "});\n",
       "        marker_5c780a0b53010f44e7d6a1c0d4b90121.setIcon(custom_icon_1d8772035b0c4bc1387ae492069280a3);\n",
       "        \n",
       "    \n",
       "        var popup_4e8b829d5b6313612be89c3b6498bb88 = L.popup({\n",
       "  &quot;maxWidth&quot;: &quot;100%&quot;,\n",
       "});\n",
       "\n",
       "        \n",
       "            \n",
       "                var html_a661f467e4205952d4c3d39187df96c4 = $(`&lt;div id=&quot;html_a661f467e4205952d4c3d39187df96c4&quot; style=&quot;width: 100.0%; height: 100.0%;&quot;&gt;Le Havre&lt;/div&gt;`)[0];\n",
       "                popup_4e8b829d5b6313612be89c3b6498bb88.setContent(html_a661f467e4205952d4c3d39187df96c4);\n",
       "            \n",
       "        \n",
       "\n",
       "        marker_5c780a0b53010f44e7d6a1c0d4b90121.bindPopup(popup_4e8b829d5b6313612be89c3b6498bb88)\n",
       "        ;\n",
       "\n",
       "        \n",
       "    \n",
       "    \n",
       "                marker_5c780a0b53010f44e7d6a1c0d4b90121.setIcon(custom_icon_1d8772035b0c4bc1387ae492069280a3);\n",
       "            \n",
       "    \n",
       "            var marker_b237c2df7d9f053416b432c61517c258 = L.marker(\n",
       "                [49.4404591, 1.0939658],\n",
       "                {\n",
       "}\n",
       "            ).addTo(map_e09b1a4b0b73d056fa1f41342dc495d0);\n",
       "        \n",
       "    \n",
       "        var custom_icon_0567e47b6fbc7c55c695b7e02cbb03f9 = L.icon({\n",
       "  &quot;iconUrl&quot;: &quot;https://images.icon-icons.com/2791/PNG/512/cloudy_cloud_weather_icon_177580.png&quot;,\n",
       "  &quot;iconSize&quot;: [40, 40],\n",
       "});\n",
       "        marker_b237c2df7d9f053416b432c61517c258.setIcon(custom_icon_0567e47b6fbc7c55c695b7e02cbb03f9);\n",
       "        \n",
       "    \n",
       "        var popup_1430c602d2b4a265a945d8fc40b704a3 = L.popup({\n",
       "  &quot;maxWidth&quot;: &quot;100%&quot;,\n",
       "});\n",
       "\n",
       "        \n",
       "            \n",
       "                var html_45e049eb96c905d29e600ba83902219f = $(`&lt;div id=&quot;html_45e049eb96c905d29e600ba83902219f&quot; style=&quot;width: 100.0%; height: 100.0%;&quot;&gt;Rouen&lt;/div&gt;`)[0];\n",
       "                popup_1430c602d2b4a265a945d8fc40b704a3.setContent(html_45e049eb96c905d29e600ba83902219f);\n",
       "            \n",
       "        \n",
       "\n",
       "        marker_b237c2df7d9f053416b432c61517c258.bindPopup(popup_1430c602d2b4a265a945d8fc40b704a3)\n",
       "        ;\n",
       "\n",
       "        \n",
       "    \n",
       "    \n",
       "                marker_b237c2df7d9f053416b432c61517c258.setIcon(custom_icon_0567e47b6fbc7c55c695b7e02cbb03f9);\n",
       "            \n",
       "    \n",
       "            var marker_96108633eb5f454c1508a18d89871657 = L.marker(\n",
       "                [48.8588897, 2.3200410217200766],\n",
       "                {\n",
       "}\n",
       "            ).addTo(map_e09b1a4b0b73d056fa1f41342dc495d0);\n",
       "        \n",
       "    \n",
       "        var custom_icon_6b35a5688688c3a59cc7393aab78d73e = L.icon({\n",
       "  &quot;iconUrl&quot;: &quot;https://images.icon-icons.com/139/PNG/512/drizzle_day_weather_20907.png&quot;,\n",
       "  &quot;iconSize&quot;: [40, 40],\n",
       "});\n",
       "        marker_96108633eb5f454c1508a18d89871657.setIcon(custom_icon_6b35a5688688c3a59cc7393aab78d73e);\n",
       "        \n",
       "    \n",
       "        var popup_f31e404fb430decda1781634b1d3c00a = L.popup({\n",
       "  &quot;maxWidth&quot;: &quot;100%&quot;,\n",
       "});\n",
       "\n",
       "        \n",
       "            \n",
       "                var html_f0461d09d09bc4175308de3a16c06fe9 = $(`&lt;div id=&quot;html_f0461d09d09bc4175308de3a16c06fe9&quot; style=&quot;width: 100.0%; height: 100.0%;&quot;&gt;Paris&lt;/div&gt;`)[0];\n",
       "                popup_f31e404fb430decda1781634b1d3c00a.setContent(html_f0461d09d09bc4175308de3a16c06fe9);\n",
       "            \n",
       "        \n",
       "\n",
       "        marker_96108633eb5f454c1508a18d89871657.bindPopup(popup_f31e404fb430decda1781634b1d3c00a)\n",
       "        ;\n",
       "\n",
       "        \n",
       "    \n",
       "    \n",
       "                marker_96108633eb5f454c1508a18d89871657.setIcon(custom_icon_6b35a5688688c3a59cc7393aab78d73e);\n",
       "            \n",
       "    \n",
       "            var marker_ab098d91cbd30336d1191754f09510dd = L.marker(\n",
       "                [49.8941708, 2.2956951],\n",
       "                {\n",
       "}\n",
       "            ).addTo(map_e09b1a4b0b73d056fa1f41342dc495d0);\n",
       "        \n",
       "    \n",
       "        var custom_icon_64790c5aa5ed2ff521f0067f7dbaee43 = L.icon({\n",
       "  &quot;iconUrl&quot;: &quot;https://images.icon-icons.com/2791/PNG/512/overcast_cloud_weather_icon_177561.png&quot;,\n",
       "  &quot;iconSize&quot;: [40, 40],\n",
       "});\n",
       "        marker_ab098d91cbd30336d1191754f09510dd.setIcon(custom_icon_64790c5aa5ed2ff521f0067f7dbaee43);\n",
       "        \n",
       "    \n",
       "        var popup_01be1ee4e85d47fe3c7d8ba8ef23fc38 = L.popup({\n",
       "  &quot;maxWidth&quot;: &quot;100%&quot;,\n",
       "});\n",
       "\n",
       "        \n",
       "            \n",
       "                var html_18a7762a128095065bf2dba150680cee = $(`&lt;div id=&quot;html_18a7762a128095065bf2dba150680cee&quot; style=&quot;width: 100.0%; height: 100.0%;&quot;&gt;Amiens&lt;/div&gt;`)[0];\n",
       "                popup_01be1ee4e85d47fe3c7d8ba8ef23fc38.setContent(html_18a7762a128095065bf2dba150680cee);\n",
       "            \n",
       "        \n",
       "\n",
       "        marker_ab098d91cbd30336d1191754f09510dd.bindPopup(popup_01be1ee4e85d47fe3c7d8ba8ef23fc38)\n",
       "        ;\n",
       "\n",
       "        \n",
       "    \n",
       "    \n",
       "                marker_ab098d91cbd30336d1191754f09510dd.setIcon(custom_icon_64790c5aa5ed2ff521f0067f7dbaee43);\n",
       "            \n",
       "    \n",
       "            var marker_e16970e1411bba2d51b05779eddc0273 = L.marker(\n",
       "                [50.6365654, 3.0635282],\n",
       "                {\n",
       "}\n",
       "            ).addTo(map_e09b1a4b0b73d056fa1f41342dc495d0);\n",
       "        \n",
       "    \n",
       "        var custom_icon_0547c8c3c9758721cb15007f73da41b3 = L.icon({\n",
       "  &quot;iconUrl&quot;: &quot;https://images.icon-icons.com/139/PNG/512/drizzle_day_weather_20907.png&quot;,\n",
       "  &quot;iconSize&quot;: [40, 40],\n",
       "});\n",
       "        marker_e16970e1411bba2d51b05779eddc0273.setIcon(custom_icon_0547c8c3c9758721cb15007f73da41b3);\n",
       "        \n",
       "    \n",
       "        var popup_d0fe84f775e872255a1920fa75d00cce = L.popup({\n",
       "  &quot;maxWidth&quot;: &quot;100%&quot;,\n",
       "});\n",
       "\n",
       "        \n",
       "            \n",
       "                var html_1489aab00af234ef5f61897775ea34cb = $(`&lt;div id=&quot;html_1489aab00af234ef5f61897775ea34cb&quot; style=&quot;width: 100.0%; height: 100.0%;&quot;&gt;Lille&lt;/div&gt;`)[0];\n",
       "                popup_d0fe84f775e872255a1920fa75d00cce.setContent(html_1489aab00af234ef5f61897775ea34cb);\n",
       "            \n",
       "        \n",
       "\n",
       "        marker_e16970e1411bba2d51b05779eddc0273.bindPopup(popup_d0fe84f775e872255a1920fa75d00cce)\n",
       "        ;\n",
       "\n",
       "        \n",
       "    \n",
       "    \n",
       "                marker_e16970e1411bba2d51b05779eddc0273.setIcon(custom_icon_0547c8c3c9758721cb15007f73da41b3);\n",
       "            \n",
       "    \n",
       "            var marker_b97c1e5184312e39eb6545cbaf29f18d = L.marker(\n",
       "                [48.584614, 7.7507127],\n",
       "                {\n",
       "}\n",
       "            ).addTo(map_e09b1a4b0b73d056fa1f41342dc495d0);\n",
       "        \n",
       "    \n",
       "        var custom_icon_2b98ef337ca9d81eebb44e7a6c3e1bdf = L.icon({\n",
       "  &quot;iconUrl&quot;: &quot;https://images.icon-icons.com/2791/PNG/512/sunny_day_weather_sun_icon_177555.png&quot;,\n",
       "  &quot;iconSize&quot;: [40, 40],\n",
       "});\n",
       "        marker_b97c1e5184312e39eb6545cbaf29f18d.setIcon(custom_icon_2b98ef337ca9d81eebb44e7a6c3e1bdf);\n",
       "        \n",
       "    \n",
       "        var popup_e8b886be6027cee7f87f6109c02f4892 = L.popup({\n",
       "  &quot;maxWidth&quot;: &quot;100%&quot;,\n",
       "});\n",
       "\n",
       "        \n",
       "            \n",
       "                var html_d6118f9f3a2c73a06cae09eb73c34687 = $(`&lt;div id=&quot;html_d6118f9f3a2c73a06cae09eb73c34687&quot; style=&quot;width: 100.0%; height: 100.0%;&quot;&gt;Strasbourg&lt;/div&gt;`)[0];\n",
       "                popup_e8b886be6027cee7f87f6109c02f4892.setContent(html_d6118f9f3a2c73a06cae09eb73c34687);\n",
       "            \n",
       "        \n",
       "\n",
       "        marker_b97c1e5184312e39eb6545cbaf29f18d.bindPopup(popup_e8b886be6027cee7f87f6109c02f4892)\n",
       "        ;\n",
       "\n",
       "        \n",
       "    \n",
       "    \n",
       "                marker_b97c1e5184312e39eb6545cbaf29f18d.setIcon(custom_icon_2b98ef337ca9d81eebb44e7a6c3e1bdf);\n",
       "            \n",
       "    \n",
       "            var marker_3338f23caafd989fef888f6ee7285eb0 = L.marker(\n",
       "                [48.2495226, 7.3454923],\n",
       "                {\n",
       "}\n",
       "            ).addTo(map_e09b1a4b0b73d056fa1f41342dc495d0);\n",
       "        \n",
       "    \n",
       "        var custom_icon_2f32555d02e4d7c7db6ed080b85c8b2b = L.icon({\n",
       "  &quot;iconUrl&quot;: &quot;https://images.icon-icons.com/2791/PNG/512/sunny_day_weather_sun_icon_177555.png&quot;,\n",
       "  &quot;iconSize&quot;: [40, 40],\n",
       "});\n",
       "        marker_3338f23caafd989fef888f6ee7285eb0.setIcon(custom_icon_2f32555d02e4d7c7db6ed080b85c8b2b);\n",
       "        \n",
       "    \n",
       "        var popup_91caaa55b67455a978e83c37a27f601d = L.popup({\n",
       "  &quot;maxWidth&quot;: &quot;100%&quot;,\n",
       "});\n",
       "\n",
       "        \n",
       "            \n",
       "                var html_af472238f794bd70f8c86894e4f0fc69 = $(`&lt;div id=&quot;html_af472238f794bd70f8c86894e4f0fc69&quot; style=&quot;width: 100.0%; height: 100.0%;&quot;&gt;Chateau du Haut Koenigsbourg&lt;/div&gt;`)[0];\n",
       "                popup_91caaa55b67455a978e83c37a27f601d.setContent(html_af472238f794bd70f8c86894e4f0fc69);\n",
       "            \n",
       "        \n",
       "\n",
       "        marker_3338f23caafd989fef888f6ee7285eb0.bindPopup(popup_91caaa55b67455a978e83c37a27f601d)\n",
       "        ;\n",
       "\n",
       "        \n",
       "    \n",
       "    \n",
       "                marker_3338f23caafd989fef888f6ee7285eb0.setIcon(custom_icon_2f32555d02e4d7c7db6ed080b85c8b2b);\n",
       "            \n",
       "    \n",
       "            var marker_452b0124f537033ba5f6b398375cfe27 = L.marker(\n",
       "                [48.0777517, 7.3579641],\n",
       "                {\n",
       "}\n",
       "            ).addTo(map_e09b1a4b0b73d056fa1f41342dc495d0);\n",
       "        \n",
       "    \n",
       "        var custom_icon_fd66492544e2c20d720e08d4df3d70da = L.icon({\n",
       "  &quot;iconUrl&quot;: &quot;https://images.icon-icons.com/2791/PNG/512/sunny_day_weather_sun_icon_177555.png&quot;,\n",
       "  &quot;iconSize&quot;: [40, 40],\n",
       "});\n",
       "        marker_452b0124f537033ba5f6b398375cfe27.setIcon(custom_icon_fd66492544e2c20d720e08d4df3d70da);\n",
       "        \n",
       "    \n",
       "        var popup_59dc60958466091bffe9c8fae20a7944 = L.popup({\n",
       "  &quot;maxWidth&quot;: &quot;100%&quot;,\n",
       "});\n",
       "\n",
       "        \n",
       "            \n",
       "                var html_8a48c78c833fc280462d265bc26b71ed = $(`&lt;div id=&quot;html_8a48c78c833fc280462d265bc26b71ed&quot; style=&quot;width: 100.0%; height: 100.0%;&quot;&gt;Colmar&lt;/div&gt;`)[0];\n",
       "                popup_59dc60958466091bffe9c8fae20a7944.setContent(html_8a48c78c833fc280462d265bc26b71ed);\n",
       "            \n",
       "        \n",
       "\n",
       "        marker_452b0124f537033ba5f6b398375cfe27.bindPopup(popup_59dc60958466091bffe9c8fae20a7944)\n",
       "        ;\n",
       "\n",
       "        \n",
       "    \n",
       "    \n",
       "                marker_452b0124f537033ba5f6b398375cfe27.setIcon(custom_icon_fd66492544e2c20d720e08d4df3d70da);\n",
       "            \n",
       "    \n",
       "            var marker_ed3578a9128c5cc52a08022368c83888 = L.marker(\n",
       "                [48.0447968, 7.3079618],\n",
       "                {\n",
       "}\n",
       "            ).addTo(map_e09b1a4b0b73d056fa1f41342dc495d0);\n",
       "        \n",
       "    \n",
       "        var custom_icon_b54b10477d12eba7fe80e79c6c02264b = L.icon({\n",
       "  &quot;iconUrl&quot;: &quot;https://images.icon-icons.com/2791/PNG/512/sunny_day_weather_sun_icon_177555.png&quot;,\n",
       "  &quot;iconSize&quot;: [40, 40],\n",
       "});\n",
       "        marker_ed3578a9128c5cc52a08022368c83888.setIcon(custom_icon_b54b10477d12eba7fe80e79c6c02264b);\n",
       "        \n",
       "    \n",
       "        var popup_a4b6efac6857f39297348bb0ca523573 = L.popup({\n",
       "  &quot;maxWidth&quot;: &quot;100%&quot;,\n",
       "});\n",
       "\n",
       "        \n",
       "            \n",
       "                var html_826c45afedb1e3735610f1f639f73241 = $(`&lt;div id=&quot;html_826c45afedb1e3735610f1f639f73241&quot; style=&quot;width: 100.0%; height: 100.0%;&quot;&gt;Eguisheim&lt;/div&gt;`)[0];\n",
       "                popup_a4b6efac6857f39297348bb0ca523573.setContent(html_826c45afedb1e3735610f1f639f73241);\n",
       "            \n",
       "        \n",
       "\n",
       "        marker_ed3578a9128c5cc52a08022368c83888.bindPopup(popup_a4b6efac6857f39297348bb0ca523573)\n",
       "        ;\n",
       "\n",
       "        \n",
       "    \n",
       "    \n",
       "                marker_ed3578a9128c5cc52a08022368c83888.setIcon(custom_icon_b54b10477d12eba7fe80e79c6c02264b);\n",
       "            \n",
       "    \n",
       "            var marker_c5f28d38073d3d8aa3ffbc213b1aa81f = L.marker(\n",
       "                [47.2380222, 6.0243622],\n",
       "                {\n",
       "}\n",
       "            ).addTo(map_e09b1a4b0b73d056fa1f41342dc495d0);\n",
       "        \n",
       "    \n",
       "        var custom_icon_82c5af5bd546e9bdb799935bf4b97af5 = L.icon({\n",
       "  &quot;iconUrl&quot;: &quot;https://images.icon-icons.com/2791/PNG/512/overcast_cloud_weather_icon_177561.png&quot;,\n",
       "  &quot;iconSize&quot;: [40, 40],\n",
       "});\n",
       "        marker_c5f28d38073d3d8aa3ffbc213b1aa81f.setIcon(custom_icon_82c5af5bd546e9bdb799935bf4b97af5);\n",
       "        \n",
       "    \n",
       "        var popup_3d89f8b91fb2dcf3191993e40d0f7e85 = L.popup({\n",
       "  &quot;maxWidth&quot;: &quot;100%&quot;,\n",
       "});\n",
       "\n",
       "        \n",
       "            \n",
       "                var html_277f89d35536141b4755ed4eb77c2f06 = $(`&lt;div id=&quot;html_277f89d35536141b4755ed4eb77c2f06&quot; style=&quot;width: 100.0%; height: 100.0%;&quot;&gt;Besancon&lt;/div&gt;`)[0];\n",
       "                popup_3d89f8b91fb2dcf3191993e40d0f7e85.setContent(html_277f89d35536141b4755ed4eb77c2f06);\n",
       "            \n",
       "        \n",
       "\n",
       "        marker_c5f28d38073d3d8aa3ffbc213b1aa81f.bindPopup(popup_3d89f8b91fb2dcf3191993e40d0f7e85)\n",
       "        ;\n",
       "\n",
       "        \n",
       "    \n",
       "    \n",
       "                marker_c5f28d38073d3d8aa3ffbc213b1aa81f.setIcon(custom_icon_82c5af5bd546e9bdb799935bf4b97af5);\n",
       "            \n",
       "    \n",
       "            var marker_f1220f06e658ef4d2a3b9e9b8141f446 = L.marker(\n",
       "                [47.3215806, 5.0414701],\n",
       "                {\n",
       "}\n",
       "            ).addTo(map_e09b1a4b0b73d056fa1f41342dc495d0);\n",
       "        \n",
       "    \n",
       "        var custom_icon_3bec7e02d60a7658fd99917debfb4224 = L.icon({\n",
       "  &quot;iconUrl&quot;: &quot;https://images.icon-icons.com/2791/PNG/512/rain_cloud_weather_icon_177568.png&quot;,\n",
       "  &quot;iconSize&quot;: [40, 40],\n",
       "});\n",
       "        marker_f1220f06e658ef4d2a3b9e9b8141f446.setIcon(custom_icon_3bec7e02d60a7658fd99917debfb4224);\n",
       "        \n",
       "    \n",
       "        var popup_d51ff702315b6baf45bd01454cd2c767 = L.popup({\n",
       "  &quot;maxWidth&quot;: &quot;100%&quot;,\n",
       "});\n",
       "\n",
       "        \n",
       "            \n",
       "                var html_7242c494a91e48954e4909f11081c18a = $(`&lt;div id=&quot;html_7242c494a91e48954e4909f11081c18a&quot; style=&quot;width: 100.0%; height: 100.0%;&quot;&gt;Dijon&lt;/div&gt;`)[0];\n",
       "                popup_d51ff702315b6baf45bd01454cd2c767.setContent(html_7242c494a91e48954e4909f11081c18a);\n",
       "            \n",
       "        \n",
       "\n",
       "        marker_f1220f06e658ef4d2a3b9e9b8141f446.bindPopup(popup_d51ff702315b6baf45bd01454cd2c767)\n",
       "        ;\n",
       "\n",
       "        \n",
       "    \n",
       "    \n",
       "                marker_f1220f06e658ef4d2a3b9e9b8141f446.setIcon(custom_icon_3bec7e02d60a7658fd99917debfb4224);\n",
       "            \n",
       "    \n",
       "            var marker_a7715aa99ff82ed6368fd19b84ab568b = L.marker(\n",
       "                [45.8992348, 6.1288847],\n",
       "                {\n",
       "}\n",
       "            ).addTo(map_e09b1a4b0b73d056fa1f41342dc495d0);\n",
       "        \n",
       "    \n",
       "        var custom_icon_8ada7217f4b6a1996854017c4d339415 = L.icon({\n",
       "  &quot;iconUrl&quot;: &quot;https://images.icon-icons.com/2791/PNG/512/cloudy_cloud_weather_icon_177580.png&quot;,\n",
       "  &quot;iconSize&quot;: [40, 40],\n",
       "});\n",
       "        marker_a7715aa99ff82ed6368fd19b84ab568b.setIcon(custom_icon_8ada7217f4b6a1996854017c4d339415);\n",
       "        \n",
       "    \n",
       "        var popup_81b0abb74859b5cc55f068ebf55ef436 = L.popup({\n",
       "  &quot;maxWidth&quot;: &quot;100%&quot;,\n",
       "});\n",
       "\n",
       "        \n",
       "            \n",
       "                var html_d47f87072a2b9ed222b8068d7b0b20ba = $(`&lt;div id=&quot;html_d47f87072a2b9ed222b8068d7b0b20ba&quot; style=&quot;width: 100.0%; height: 100.0%;&quot;&gt;Annecy&lt;/div&gt;`)[0];\n",
       "                popup_81b0abb74859b5cc55f068ebf55ef436.setContent(html_d47f87072a2b9ed222b8068d7b0b20ba);\n",
       "            \n",
       "        \n",
       "\n",
       "        marker_a7715aa99ff82ed6368fd19b84ab568b.bindPopup(popup_81b0abb74859b5cc55f068ebf55ef436)\n",
       "        ;\n",
       "\n",
       "        \n",
       "    \n",
       "    \n",
       "                marker_a7715aa99ff82ed6368fd19b84ab568b.setIcon(custom_icon_8ada7217f4b6a1996854017c4d339415);\n",
       "            \n",
       "    \n",
       "            var marker_8dd7296f558bc27cd673d022daf67846 = L.marker(\n",
       "                [45.1875602, 5.7357819],\n",
       "                {\n",
       "}\n",
       "            ).addTo(map_e09b1a4b0b73d056fa1f41342dc495d0);\n",
       "        \n",
       "    \n",
       "        var custom_icon_f461c9ed2dc963d8cf848ee22881629f = L.icon({\n",
       "  &quot;iconUrl&quot;: &quot;https://images.icon-icons.com/2791/PNG/512/overcast_cloud_weather_icon_177561.png&quot;,\n",
       "  &quot;iconSize&quot;: [40, 40],\n",
       "});\n",
       "        marker_8dd7296f558bc27cd673d022daf67846.setIcon(custom_icon_f461c9ed2dc963d8cf848ee22881629f);\n",
       "        \n",
       "    \n",
       "        var popup_7165279ae096264e47e5e53b90a98e12 = L.popup({\n",
       "  &quot;maxWidth&quot;: &quot;100%&quot;,\n",
       "});\n",
       "\n",
       "        \n",
       "            \n",
       "                var html_60a77e8e8acf533ab2b710cf0193054f = $(`&lt;div id=&quot;html_60a77e8e8acf533ab2b710cf0193054f&quot; style=&quot;width: 100.0%; height: 100.0%;&quot;&gt;Grenoble&lt;/div&gt;`)[0];\n",
       "                popup_7165279ae096264e47e5e53b90a98e12.setContent(html_60a77e8e8acf533ab2b710cf0193054f);\n",
       "            \n",
       "        \n",
       "\n",
       "        marker_8dd7296f558bc27cd673d022daf67846.bindPopup(popup_7165279ae096264e47e5e53b90a98e12)\n",
       "        ;\n",
       "\n",
       "        \n",
       "    \n",
       "    \n",
       "                marker_8dd7296f558bc27cd673d022daf67846.setIcon(custom_icon_f461c9ed2dc963d8cf848ee22881629f);\n",
       "            \n",
       "    \n",
       "            var marker_2eb073c0f794f9053f980b4385ecfcd4 = L.marker(\n",
       "                [45.7578137, 4.8320114],\n",
       "                {\n",
       "}\n",
       "            ).addTo(map_e09b1a4b0b73d056fa1f41342dc495d0);\n",
       "        \n",
       "    \n",
       "        var custom_icon_7e44eef7aaee99ad538dd2eb0af1c916 = L.icon({\n",
       "  &quot;iconUrl&quot;: &quot;https://images.icon-icons.com/2791/PNG/512/rain_cloud_weather_icon_177568.png&quot;,\n",
       "  &quot;iconSize&quot;: [40, 40],\n",
       "});\n",
       "        marker_2eb073c0f794f9053f980b4385ecfcd4.setIcon(custom_icon_7e44eef7aaee99ad538dd2eb0af1c916);\n",
       "        \n",
       "    \n",
       "        var popup_ea639404c9392938ace5fc9ae198e12b = L.popup({\n",
       "  &quot;maxWidth&quot;: &quot;100%&quot;,\n",
       "});\n",
       "\n",
       "        \n",
       "            \n",
       "                var html_ceba0b12224dadb05421af72de8231b8 = $(`&lt;div id=&quot;html_ceba0b12224dadb05421af72de8231b8&quot; style=&quot;width: 100.0%; height: 100.0%;&quot;&gt;Lyon&lt;/div&gt;`)[0];\n",
       "                popup_ea639404c9392938ace5fc9ae198e12b.setContent(html_ceba0b12224dadb05421af72de8231b8);\n",
       "            \n",
       "        \n",
       "\n",
       "        marker_2eb073c0f794f9053f980b4385ecfcd4.bindPopup(popup_ea639404c9392938ace5fc9ae198e12b)\n",
       "        ;\n",
       "\n",
       "        \n",
       "    \n",
       "    \n",
       "                marker_2eb073c0f794f9053f980b4385ecfcd4.setIcon(custom_icon_7e44eef7aaee99ad538dd2eb0af1c916);\n",
       "            \n",
       "    \n",
       "            var marker_99daa6c9506a184059ab058a3cc30a15 = L.marker(\n",
       "                [43.1506968, 6.3419285],\n",
       "                {\n",
       "}\n",
       "            ).addTo(map_e09b1a4b0b73d056fa1f41342dc495d0);\n",
       "        \n",
       "    \n",
       "        var custom_icon_682c03394557bea732612d81fe473d9e = L.icon({\n",
       "  &quot;iconUrl&quot;: &quot;https://images.icon-icons.com/2791/PNG/512/sunny_day_weather_sun_icon_177555.png&quot;,\n",
       "  &quot;iconSize&quot;: [40, 40],\n",
       "});\n",
       "        marker_99daa6c9506a184059ab058a3cc30a15.setIcon(custom_icon_682c03394557bea732612d81fe473d9e);\n",
       "        \n",
       "    \n",
       "        var popup_011ec6895681ffe4d7414bbc86e93433 = L.popup({\n",
       "  &quot;maxWidth&quot;: &quot;100%&quot;,\n",
       "});\n",
       "\n",
       "        \n",
       "            \n",
       "                var html_df3c56fddf0afd3b2984eb496a6e79c1 = $(`&lt;div id=&quot;html_df3c56fddf0afd3b2984eb496a6e79c1&quot; style=&quot;width: 100.0%; height: 100.0%;&quot;&gt;Bormes les Mimosas&lt;/div&gt;`)[0];\n",
       "                popup_011ec6895681ffe4d7414bbc86e93433.setContent(html_df3c56fddf0afd3b2984eb496a6e79c1);\n",
       "            \n",
       "        \n",
       "\n",
       "        marker_99daa6c9506a184059ab058a3cc30a15.bindPopup(popup_011ec6895681ffe4d7414bbc86e93433)\n",
       "        ;\n",
       "\n",
       "        \n",
       "    \n",
       "    \n",
       "                marker_99daa6c9506a184059ab058a3cc30a15.setIcon(custom_icon_682c03394557bea732612d81fe473d9e);\n",
       "            \n",
       "    \n",
       "            var marker_e6e345638b9e05e790bf747b7385fc1d = L.marker(\n",
       "                [43.2140359, 5.5396318],\n",
       "                {\n",
       "}\n",
       "            ).addTo(map_e09b1a4b0b73d056fa1f41342dc495d0);\n",
       "        \n",
       "    \n",
       "        var custom_icon_d72d4eab9919938e3b037df6af0317b8 = L.icon({\n",
       "  &quot;iconUrl&quot;: &quot;https://images.icon-icons.com/2791/PNG/512/sunny_day_weather_sun_icon_177555.png&quot;,\n",
       "  &quot;iconSize&quot;: [40, 40],\n",
       "});\n",
       "        marker_e6e345638b9e05e790bf747b7385fc1d.setIcon(custom_icon_d72d4eab9919938e3b037df6af0317b8);\n",
       "        \n",
       "    \n",
       "        var popup_ae358b6165be85d4f280a5f7426f04f8 = L.popup({\n",
       "  &quot;maxWidth&quot;: &quot;100%&quot;,\n",
       "});\n",
       "\n",
       "        \n",
       "            \n",
       "                var html_0134c013c26f3137a6e044094b88f4eb = $(`&lt;div id=&quot;html_0134c013c26f3137a6e044094b88f4eb&quot; style=&quot;width: 100.0%; height: 100.0%;&quot;&gt;Cassis&lt;/div&gt;`)[0];\n",
       "                popup_ae358b6165be85d4f280a5f7426f04f8.setContent(html_0134c013c26f3137a6e044094b88f4eb);\n",
       "            \n",
       "        \n",
       "\n",
       "        marker_e6e345638b9e05e790bf747b7385fc1d.bindPopup(popup_ae358b6165be85d4f280a5f7426f04f8)\n",
       "        ;\n",
       "\n",
       "        \n",
       "    \n",
       "    \n",
       "                marker_e6e345638b9e05e790bf747b7385fc1d.setIcon(custom_icon_d72d4eab9919938e3b037df6af0317b8);\n",
       "            \n",
       "    \n",
       "            var marker_1100a758589fa641fb6b92ff57faa6e6 = L.marker(\n",
       "                [43.2961743, 5.3699525],\n",
       "                {\n",
       "}\n",
       "            ).addTo(map_e09b1a4b0b73d056fa1f41342dc495d0);\n",
       "        \n",
       "    \n",
       "        var custom_icon_d82bc9ee0c7e09fd208c2ef337237c96 = L.icon({\n",
       "  &quot;iconUrl&quot;: &quot;https://images.icon-icons.com/2791/PNG/512/sunny_day_weather_sun_icon_177555.png&quot;,\n",
       "  &quot;iconSize&quot;: [40, 40],\n",
       "});\n",
       "        marker_1100a758589fa641fb6b92ff57faa6e6.setIcon(custom_icon_d82bc9ee0c7e09fd208c2ef337237c96);\n",
       "        \n",
       "    \n",
       "        var popup_532b175a270f20f5b821cd31ad9afe03 = L.popup({\n",
       "  &quot;maxWidth&quot;: &quot;100%&quot;,\n",
       "});\n",
       "\n",
       "        \n",
       "            \n",
       "                var html_e72cefbddda06f7ef60b59fe165efd1d = $(`&lt;div id=&quot;html_e72cefbddda06f7ef60b59fe165efd1d&quot; style=&quot;width: 100.0%; height: 100.0%;&quot;&gt;Marseille&lt;/div&gt;`)[0];\n",
       "                popup_532b175a270f20f5b821cd31ad9afe03.setContent(html_e72cefbddda06f7ef60b59fe165efd1d);\n",
       "            \n",
       "        \n",
       "\n",
       "        marker_1100a758589fa641fb6b92ff57faa6e6.bindPopup(popup_532b175a270f20f5b821cd31ad9afe03)\n",
       "        ;\n",
       "\n",
       "        \n",
       "    \n",
       "    \n",
       "                marker_1100a758589fa641fb6b92ff57faa6e6.setIcon(custom_icon_d82bc9ee0c7e09fd208c2ef337237c96);\n",
       "            \n",
       "    \n",
       "            var marker_0c78878b092f2d2e2bb5165f8e4da71e = L.marker(\n",
       "                [43.5298424, 5.4474738],\n",
       "                {\n",
       "}\n",
       "            ).addTo(map_e09b1a4b0b73d056fa1f41342dc495d0);\n",
       "        \n",
       "    \n",
       "        var custom_icon_be0fa7beda574c0995d67e605ed7a763 = L.icon({\n",
       "  &quot;iconUrl&quot;: &quot;https://images.icon-icons.com/2791/PNG/512/sunny_day_weather_sun_icon_177555.png&quot;,\n",
       "  &quot;iconSize&quot;: [40, 40],\n",
       "});\n",
       "        marker_0c78878b092f2d2e2bb5165f8e4da71e.setIcon(custom_icon_be0fa7beda574c0995d67e605ed7a763);\n",
       "        \n",
       "    \n",
       "        var popup_bcc2e436f84cf66f00cea872286e5809 = L.popup({\n",
       "  &quot;maxWidth&quot;: &quot;100%&quot;,\n",
       "});\n",
       "\n",
       "        \n",
       "            \n",
       "                var html_e2fcbb4d0decbbd65b81743f62ba9ee1 = $(`&lt;div id=&quot;html_e2fcbb4d0decbbd65b81743f62ba9ee1&quot; style=&quot;width: 100.0%; height: 100.0%;&quot;&gt;Aix en Provence&lt;/div&gt;`)[0];\n",
       "                popup_bcc2e436f84cf66f00cea872286e5809.setContent(html_e2fcbb4d0decbbd65b81743f62ba9ee1);\n",
       "            \n",
       "        \n",
       "\n",
       "        marker_0c78878b092f2d2e2bb5165f8e4da71e.bindPopup(popup_bcc2e436f84cf66f00cea872286e5809)\n",
       "        ;\n",
       "\n",
       "        \n",
       "    \n",
       "    \n",
       "                marker_0c78878b092f2d2e2bb5165f8e4da71e.setIcon(custom_icon_be0fa7beda574c0995d67e605ed7a763);\n",
       "            \n",
       "    \n",
       "            var marker_7b3de661ac34a8efd65def6ce0c88736 = L.marker(\n",
       "                [43.9492493, 4.8059012],\n",
       "                {\n",
       "}\n",
       "            ).addTo(map_e09b1a4b0b73d056fa1f41342dc495d0);\n",
       "        \n",
       "    \n",
       "        var custom_icon_de239bffd54a35594552231e3574b611 = L.icon({\n",
       "  &quot;iconUrl&quot;: &quot;https://images.icon-icons.com/2791/PNG/512/sunny_day_weather_sun_icon_177555.png&quot;,\n",
       "  &quot;iconSize&quot;: [40, 40],\n",
       "});\n",
       "        marker_7b3de661ac34a8efd65def6ce0c88736.setIcon(custom_icon_de239bffd54a35594552231e3574b611);\n",
       "        \n",
       "    \n",
       "        var popup_a2d62ba4cb05e80904b509caeb8be8f1 = L.popup({\n",
       "  &quot;maxWidth&quot;: &quot;100%&quot;,\n",
       "});\n",
       "\n",
       "        \n",
       "            \n",
       "                var html_3154d249916e285d8e5f4b2939ce2417 = $(`&lt;div id=&quot;html_3154d249916e285d8e5f4b2939ce2417&quot; style=&quot;width: 100.0%; height: 100.0%;&quot;&gt;Avignon&lt;/div&gt;`)[0];\n",
       "                popup_a2d62ba4cb05e80904b509caeb8be8f1.setContent(html_3154d249916e285d8e5f4b2939ce2417);\n",
       "            \n",
       "        \n",
       "\n",
       "        marker_7b3de661ac34a8efd65def6ce0c88736.bindPopup(popup_a2d62ba4cb05e80904b509caeb8be8f1)\n",
       "        ;\n",
       "\n",
       "        \n",
       "    \n",
       "    \n",
       "                marker_7b3de661ac34a8efd65def6ce0c88736.setIcon(custom_icon_de239bffd54a35594552231e3574b611);\n",
       "            \n",
       "    \n",
       "            var marker_4511ad5db85beb832245ddeff9a68b75 = L.marker(\n",
       "                [44.0121279, 4.4196718],\n",
       "                {\n",
       "}\n",
       "            ).addTo(map_e09b1a4b0b73d056fa1f41342dc495d0);\n",
       "        \n",
       "    \n",
       "        var custom_icon_8b02b7c85b4507ffc325f3c738db9aca = L.icon({\n",
       "  &quot;iconUrl&quot;: &quot;https://images.icon-icons.com/2791/PNG/512/partly_cloudy_day_sun_clouds_weather_icon_177560.png&quot;,\n",
       "  &quot;iconSize&quot;: [40, 40],\n",
       "});\n",
       "        marker_4511ad5db85beb832245ddeff9a68b75.setIcon(custom_icon_8b02b7c85b4507ffc325f3c738db9aca);\n",
       "        \n",
       "    \n",
       "        var popup_8086ad6cf4b35fbea54bedd1dc6a8f67 = L.popup({\n",
       "  &quot;maxWidth&quot;: &quot;100%&quot;,\n",
       "});\n",
       "\n",
       "        \n",
       "            \n",
       "                var html_157b59c6618adaa8fb1f31211abc172b = $(`&lt;div id=&quot;html_157b59c6618adaa8fb1f31211abc172b&quot; style=&quot;width: 100.0%; height: 100.0%;&quot;&gt;Uzes&lt;/div&gt;`)[0];\n",
       "                popup_8086ad6cf4b35fbea54bedd1dc6a8f67.setContent(html_157b59c6618adaa8fb1f31211abc172b);\n",
       "            \n",
       "        \n",
       "\n",
       "        marker_4511ad5db85beb832245ddeff9a68b75.bindPopup(popup_8086ad6cf4b35fbea54bedd1dc6a8f67)\n",
       "        ;\n",
       "\n",
       "        \n",
       "    \n",
       "    \n",
       "                marker_4511ad5db85beb832245ddeff9a68b75.setIcon(custom_icon_8b02b7c85b4507ffc325f3c738db9aca);\n",
       "            \n",
       "    \n",
       "            var marker_b1ae17e80b85c5d4d08a308c44a535c0 = L.marker(\n",
       "                [43.8374249, 4.3600687],\n",
       "                {\n",
       "}\n",
       "            ).addTo(map_e09b1a4b0b73d056fa1f41342dc495d0);\n",
       "        \n",
       "    \n",
       "        var custom_icon_d6117d94cafcc43f58a7d1f2a88bfb96 = L.icon({\n",
       "  &quot;iconUrl&quot;: &quot;https://images.icon-icons.com/2791/PNG/512/sunny_day_weather_sun_icon_177555.png&quot;,\n",
       "  &quot;iconSize&quot;: [40, 40],\n",
       "});\n",
       "        marker_b1ae17e80b85c5d4d08a308c44a535c0.setIcon(custom_icon_d6117d94cafcc43f58a7d1f2a88bfb96);\n",
       "        \n",
       "    \n",
       "        var popup_8e23ac8669c0ddb6924c8b594e660325 = L.popup({\n",
       "  &quot;maxWidth&quot;: &quot;100%&quot;,\n",
       "});\n",
       "\n",
       "        \n",
       "            \n",
       "                var html_ab6e3211cf7c22b20c7bd7cb2a8e5e38 = $(`&lt;div id=&quot;html_ab6e3211cf7c22b20c7bd7cb2a8e5e38&quot; style=&quot;width: 100.0%; height: 100.0%;&quot;&gt;Nimes&lt;/div&gt;`)[0];\n",
       "                popup_8e23ac8669c0ddb6924c8b594e660325.setContent(html_ab6e3211cf7c22b20c7bd7cb2a8e5e38);\n",
       "            \n",
       "        \n",
       "\n",
       "        marker_b1ae17e80b85c5d4d08a308c44a535c0.bindPopup(popup_8e23ac8669c0ddb6924c8b594e660325)\n",
       "        ;\n",
       "\n",
       "        \n",
       "    \n",
       "    \n",
       "                marker_b1ae17e80b85c5d4d08a308c44a535c0.setIcon(custom_icon_d6117d94cafcc43f58a7d1f2a88bfb96);\n",
       "            \n",
       "    \n",
       "            var marker_ca0011d0597bd5c02cca33c3c99f87fa = L.marker(\n",
       "                [43.5658225, 4.1912837],\n",
       "                {\n",
       "}\n",
       "            ).addTo(map_e09b1a4b0b73d056fa1f41342dc495d0);\n",
       "        \n",
       "    \n",
       "        var custom_icon_1fb7c9593a8fef7ec21191d9c80dc380 = L.icon({\n",
       "  &quot;iconUrl&quot;: &quot;https://images.icon-icons.com/2791/PNG/512/sunny_day_weather_sun_icon_177555.png&quot;,\n",
       "  &quot;iconSize&quot;: [40, 40],\n",
       "});\n",
       "        marker_ca0011d0597bd5c02cca33c3c99f87fa.setIcon(custom_icon_1fb7c9593a8fef7ec21191d9c80dc380);\n",
       "        \n",
       "    \n",
       "        var popup_3e790c5e567b8c38e12892fda4b7b910 = L.popup({\n",
       "  &quot;maxWidth&quot;: &quot;100%&quot;,\n",
       "});\n",
       "\n",
       "        \n",
       "            \n",
       "                var html_f92ba24ebb97869e3cdebaea795af07b = $(`&lt;div id=&quot;html_f92ba24ebb97869e3cdebaea795af07b&quot; style=&quot;width: 100.0%; height: 100.0%;&quot;&gt;Aigues Mortes&lt;/div&gt;`)[0];\n",
       "                popup_3e790c5e567b8c38e12892fda4b7b910.setContent(html_f92ba24ebb97869e3cdebaea795af07b);\n",
       "            \n",
       "        \n",
       "\n",
       "        marker_ca0011d0597bd5c02cca33c3c99f87fa.bindPopup(popup_3e790c5e567b8c38e12892fda4b7b910)\n",
       "        ;\n",
       "\n",
       "        \n",
       "    \n",
       "    \n",
       "                marker_ca0011d0597bd5c02cca33c3c99f87fa.setIcon(custom_icon_1fb7c9593a8fef7ec21191d9c80dc380);\n",
       "            \n",
       "    \n",
       "            var marker_d57a24fab93bb2329f3851102a2886d7 = L.marker(\n",
       "                [43.4522771, 4.4287172],\n",
       "                {\n",
       "}\n",
       "            ).addTo(map_e09b1a4b0b73d056fa1f41342dc495d0);\n",
       "        \n",
       "    \n",
       "        var custom_icon_34adf4c7ba446a5487cb19707e603105 = L.icon({\n",
       "  &quot;iconUrl&quot;: &quot;https://images.icon-icons.com/2791/PNG/512/sunny_day_weather_sun_icon_177555.png&quot;,\n",
       "  &quot;iconSize&quot;: [40, 40],\n",
       "});\n",
       "        marker_d57a24fab93bb2329f3851102a2886d7.setIcon(custom_icon_34adf4c7ba446a5487cb19707e603105);\n",
       "        \n",
       "    \n",
       "        var popup_adbee8aca357ccf4e84fbfa8e5b88f2b = L.popup({\n",
       "  &quot;maxWidth&quot;: &quot;100%&quot;,\n",
       "});\n",
       "\n",
       "        \n",
       "            \n",
       "                var html_202325a2753cce12d59eadbea66c5a88 = $(`&lt;div id=&quot;html_202325a2753cce12d59eadbea66c5a88&quot; style=&quot;width: 100.0%; height: 100.0%;&quot;&gt;Saintes Maries de la mer&lt;/div&gt;`)[0];\n",
       "                popup_adbee8aca357ccf4e84fbfa8e5b88f2b.setContent(html_202325a2753cce12d59eadbea66c5a88);\n",
       "            \n",
       "        \n",
       "\n",
       "        marker_d57a24fab93bb2329f3851102a2886d7.bindPopup(popup_adbee8aca357ccf4e84fbfa8e5b88f2b)\n",
       "        ;\n",
       "\n",
       "        \n",
       "    \n",
       "    \n",
       "                marker_d57a24fab93bb2329f3851102a2886d7.setIcon(custom_icon_34adf4c7ba446a5487cb19707e603105);\n",
       "            \n",
       "    \n",
       "            var marker_6391e518fb2675c168f2d5d8ce760710 = L.marker(\n",
       "                [42.52505, 3.0831554],\n",
       "                {\n",
       "}\n",
       "            ).addTo(map_e09b1a4b0b73d056fa1f41342dc495d0);\n",
       "        \n",
       "    \n",
       "        var custom_icon_c3e574a092b488e093ee049dc3778392 = L.icon({\n",
       "  &quot;iconUrl&quot;: &quot;https://images.icon-icons.com/2791/PNG/512/cloudy_cloud_weather_icon_177580.png&quot;,\n",
       "  &quot;iconSize&quot;: [40, 40],\n",
       "});\n",
       "        marker_6391e518fb2675c168f2d5d8ce760710.setIcon(custom_icon_c3e574a092b488e093ee049dc3778392);\n",
       "        \n",
       "    \n",
       "        var popup_4e6b0cb50f26e5b3e24259579fffba48 = L.popup({\n",
       "  &quot;maxWidth&quot;: &quot;100%&quot;,\n",
       "});\n",
       "\n",
       "        \n",
       "            \n",
       "                var html_71a43ebdc3f2817d1eb40fc5975ed734 = $(`&lt;div id=&quot;html_71a43ebdc3f2817d1eb40fc5975ed734&quot; style=&quot;width: 100.0%; height: 100.0%;&quot;&gt;Collioure&lt;/div&gt;`)[0];\n",
       "                popup_4e6b0cb50f26e5b3e24259579fffba48.setContent(html_71a43ebdc3f2817d1eb40fc5975ed734);\n",
       "            \n",
       "        \n",
       "\n",
       "        marker_6391e518fb2675c168f2d5d8ce760710.bindPopup(popup_4e6b0cb50f26e5b3e24259579fffba48)\n",
       "        ;\n",
       "\n",
       "        \n",
       "    \n",
       "    \n",
       "                marker_6391e518fb2675c168f2d5d8ce760710.setIcon(custom_icon_c3e574a092b488e093ee049dc3778392);\n",
       "            \n",
       "    \n",
       "            var marker_dd8f58bd6f636ea078cdd6f4c0bf4b08 = L.marker(\n",
       "                [43.2130358, 2.3491069],\n",
       "                {\n",
       "}\n",
       "            ).addTo(map_e09b1a4b0b73d056fa1f41342dc495d0);\n",
       "        \n",
       "    \n",
       "        var custom_icon_b31158d7b33a6e735ef4511ddac11df5 = L.icon({\n",
       "  &quot;iconUrl&quot;: &quot;https://images.icon-icons.com/2791/PNG/512/cloudy_cloud_weather_icon_177580.png&quot;,\n",
       "  &quot;iconSize&quot;: [40, 40],\n",
       "});\n",
       "        marker_dd8f58bd6f636ea078cdd6f4c0bf4b08.setIcon(custom_icon_b31158d7b33a6e735ef4511ddac11df5);\n",
       "        \n",
       "    \n",
       "        var popup_a60f7e92e1e3b3f102fd717011deb3ce = L.popup({\n",
       "  &quot;maxWidth&quot;: &quot;100%&quot;,\n",
       "});\n",
       "\n",
       "        \n",
       "            \n",
       "                var html_da5babf16d7c9c80bab92bc793651118 = $(`&lt;div id=&quot;html_da5babf16d7c9c80bab92bc793651118&quot; style=&quot;width: 100.0%; height: 100.0%;&quot;&gt;Carcassonne&lt;/div&gt;`)[0];\n",
       "                popup_a60f7e92e1e3b3f102fd717011deb3ce.setContent(html_da5babf16d7c9c80bab92bc793651118);\n",
       "            \n",
       "        \n",
       "\n",
       "        marker_dd8f58bd6f636ea078cdd6f4c0bf4b08.bindPopup(popup_a60f7e92e1e3b3f102fd717011deb3ce)\n",
       "        ;\n",
       "\n",
       "        \n",
       "    \n",
       "    \n",
       "                marker_dd8f58bd6f636ea078cdd6f4c0bf4b08.setIcon(custom_icon_b31158d7b33a6e735ef4511ddac11df5);\n",
       "            \n",
       "    \n",
       "            var marker_2848a8aa9f3b1a6776d31b7a57b95fb4 = L.marker(\n",
       "                [42.8458016, 1.6067586],\n",
       "                {\n",
       "}\n",
       "            ).addTo(map_e09b1a4b0b73d056fa1f41342dc495d0);\n",
       "        \n",
       "    \n",
       "        var custom_icon_8b784239d5d3a2766b61e3c758e3b2bb = L.icon({\n",
       "  &quot;iconUrl&quot;: &quot;https://images.icon-icons.com/2791/PNG/512/cloudy_cloud_weather_icon_177580.png&quot;,\n",
       "  &quot;iconSize&quot;: [40, 40],\n",
       "});\n",
       "        marker_2848a8aa9f3b1a6776d31b7a57b95fb4.setIcon(custom_icon_8b784239d5d3a2766b61e3c758e3b2bb);\n",
       "        \n",
       "    \n",
       "        var popup_f46cf092f379363ac84342e6bb069bee = L.popup({\n",
       "  &quot;maxWidth&quot;: &quot;100%&quot;,\n",
       "});\n",
       "\n",
       "        \n",
       "            \n",
       "                var html_44be8228cdb55d51951695d77b55a39a = $(`&lt;div id=&quot;html_44be8228cdb55d51951695d77b55a39a&quot; style=&quot;width: 100.0%; height: 100.0%;&quot;&gt;Ariege&lt;/div&gt;`)[0];\n",
       "                popup_f46cf092f379363ac84342e6bb069bee.setContent(html_44be8228cdb55d51951695d77b55a39a);\n",
       "            \n",
       "        \n",
       "\n",
       "        marker_2848a8aa9f3b1a6776d31b7a57b95fb4.bindPopup(popup_f46cf092f379363ac84342e6bb069bee)\n",
       "        ;\n",
       "\n",
       "        \n",
       "    \n",
       "    \n",
       "                marker_2848a8aa9f3b1a6776d31b7a57b95fb4.setIcon(custom_icon_8b784239d5d3a2766b61e3c758e3b2bb);\n",
       "            \n",
       "    \n",
       "            var marker_55f536111663350bde693e8bfa45ba15 = L.marker(\n",
       "                [43.6044622, 1.4442469],\n",
       "                {\n",
       "}\n",
       "            ).addTo(map_e09b1a4b0b73d056fa1f41342dc495d0);\n",
       "        \n",
       "    \n",
       "        var custom_icon_e3e8242cb3c055b2b8005c314fc27372 = L.icon({\n",
       "  &quot;iconUrl&quot;: &quot;https://images.icon-icons.com/2791/PNG/512/cloudy_cloud_weather_icon_177580.png&quot;,\n",
       "  &quot;iconSize&quot;: [40, 40],\n",
       "});\n",
       "        marker_55f536111663350bde693e8bfa45ba15.setIcon(custom_icon_e3e8242cb3c055b2b8005c314fc27372);\n",
       "        \n",
       "    \n",
       "        var popup_11f56ba381e2b9b8848bbb2e6577bdd9 = L.popup({\n",
       "  &quot;maxWidth&quot;: &quot;100%&quot;,\n",
       "});\n",
       "\n",
       "        \n",
       "            \n",
       "                var html_376a1941f7be4f41841bcd2559d92af3 = $(`&lt;div id=&quot;html_376a1941f7be4f41841bcd2559d92af3&quot; style=&quot;width: 100.0%; height: 100.0%;&quot;&gt;Toulouse&lt;/div&gt;`)[0];\n",
       "                popup_11f56ba381e2b9b8848bbb2e6577bdd9.setContent(html_376a1941f7be4f41841bcd2559d92af3);\n",
       "            \n",
       "        \n",
       "\n",
       "        marker_55f536111663350bde693e8bfa45ba15.bindPopup(popup_11f56ba381e2b9b8848bbb2e6577bdd9)\n",
       "        ;\n",
       "\n",
       "        \n",
       "    \n",
       "    \n",
       "                marker_55f536111663350bde693e8bfa45ba15.setIcon(custom_icon_e3e8242cb3c055b2b8005c314fc27372);\n",
       "            \n",
       "    \n",
       "            var marker_ccac4d88bb98821b6986cb660606e976 = L.marker(\n",
       "                [44.0175835, 1.3549991],\n",
       "                {\n",
       "}\n",
       "            ).addTo(map_e09b1a4b0b73d056fa1f41342dc495d0);\n",
       "        \n",
       "    \n",
       "        var custom_icon_a824214c032e7637799652ff770341f9 = L.icon({\n",
       "  &quot;iconUrl&quot;: &quot;https://images.icon-icons.com/2791/PNG/512/overcast_cloud_weather_icon_177561.png&quot;,\n",
       "  &quot;iconSize&quot;: [40, 40],\n",
       "});\n",
       "        marker_ccac4d88bb98821b6986cb660606e976.setIcon(custom_icon_a824214c032e7637799652ff770341f9);\n",
       "        \n",
       "    \n",
       "        var popup_61b3f4cb192d79e156bb56258bec2c88 = L.popup({\n",
       "  &quot;maxWidth&quot;: &quot;100%&quot;,\n",
       "});\n",
       "\n",
       "        \n",
       "            \n",
       "                var html_8351bbc71ccd6edfc8e258fd8e18f6bd = $(`&lt;div id=&quot;html_8351bbc71ccd6edfc8e258fd8e18f6bd&quot; style=&quot;width: 100.0%; height: 100.0%;&quot;&gt;Montauban&lt;/div&gt;`)[0];\n",
       "                popup_61b3f4cb192d79e156bb56258bec2c88.setContent(html_8351bbc71ccd6edfc8e258fd8e18f6bd);\n",
       "            \n",
       "        \n",
       "\n",
       "        marker_ccac4d88bb98821b6986cb660606e976.bindPopup(popup_61b3f4cb192d79e156bb56258bec2c88)\n",
       "        ;\n",
       "\n",
       "        \n",
       "    \n",
       "    \n",
       "                marker_ccac4d88bb98821b6986cb660606e976.setIcon(custom_icon_a824214c032e7637799652ff770341f9);\n",
       "            \n",
       "    \n",
       "            var marker_b858504443cd7511be4fd2e35d487225 = L.marker(\n",
       "                [43.4832523, -1.5592776],\n",
       "                {\n",
       "}\n",
       "            ).addTo(map_e09b1a4b0b73d056fa1f41342dc495d0);\n",
       "        \n",
       "    \n",
       "        var custom_icon_dea59363f77688f635234fed10e621ee = L.icon({\n",
       "  &quot;iconUrl&quot;: &quot;https://images.icon-icons.com/2791/PNG/512/overcast_cloud_weather_icon_177561.png&quot;,\n",
       "  &quot;iconSize&quot;: [40, 40],\n",
       "});\n",
       "        marker_b858504443cd7511be4fd2e35d487225.setIcon(custom_icon_dea59363f77688f635234fed10e621ee);\n",
       "        \n",
       "    \n",
       "        var popup_c9ba32af9ec9d83d1dd6534b342d9eda = L.popup({\n",
       "  &quot;maxWidth&quot;: &quot;100%&quot;,\n",
       "});\n",
       "\n",
       "        \n",
       "            \n",
       "                var html_d62e45563ee3042f1d662d3b74f56cd1 = $(`&lt;div id=&quot;html_d62e45563ee3042f1d662d3b74f56cd1&quot; style=&quot;width: 100.0%; height: 100.0%;&quot;&gt;Biarritz&lt;/div&gt;`)[0];\n",
       "                popup_c9ba32af9ec9d83d1dd6534b342d9eda.setContent(html_d62e45563ee3042f1d662d3b74f56cd1);\n",
       "            \n",
       "        \n",
       "\n",
       "        marker_b858504443cd7511be4fd2e35d487225.bindPopup(popup_c9ba32af9ec9d83d1dd6534b342d9eda)\n",
       "        ;\n",
       "\n",
       "        \n",
       "    \n",
       "    \n",
       "                marker_b858504443cd7511be4fd2e35d487225.setIcon(custom_icon_dea59363f77688f635234fed10e621ee);\n",
       "            \n",
       "    \n",
       "            var marker_6cd119d973324cc65cb0dd360d288eea = L.marker(\n",
       "                [43.4945144, -1.4736657],\n",
       "                {\n",
       "}\n",
       "            ).addTo(map_e09b1a4b0b73d056fa1f41342dc495d0);\n",
       "        \n",
       "    \n",
       "        var custom_icon_abd795a85504b2ca6416bf4f5f94685b = L.icon({\n",
       "  &quot;iconUrl&quot;: &quot;https://images.icon-icons.com/2791/PNG/512/overcast_cloud_weather_icon_177561.png&quot;,\n",
       "  &quot;iconSize&quot;: [40, 40],\n",
       "});\n",
       "        marker_6cd119d973324cc65cb0dd360d288eea.setIcon(custom_icon_abd795a85504b2ca6416bf4f5f94685b);\n",
       "        \n",
       "    \n",
       "        var popup_9402936ec8a7e190f2cdd7c7ef6ab468 = L.popup({\n",
       "  &quot;maxWidth&quot;: &quot;100%&quot;,\n",
       "});\n",
       "\n",
       "        \n",
       "            \n",
       "                var html_389e3cbc077f1575e695de19fdcf89d1 = $(`&lt;div id=&quot;html_389e3cbc077f1575e695de19fdcf89d1&quot; style=&quot;width: 100.0%; height: 100.0%;&quot;&gt;Bayonne&lt;/div&gt;`)[0];\n",
       "                popup_9402936ec8a7e190f2cdd7c7ef6ab468.setContent(html_389e3cbc077f1575e695de19fdcf89d1);\n",
       "            \n",
       "        \n",
       "\n",
       "        marker_6cd119d973324cc65cb0dd360d288eea.bindPopup(popup_9402936ec8a7e190f2cdd7c7ef6ab468)\n",
       "        ;\n",
       "\n",
       "        \n",
       "    \n",
       "    \n",
       "                marker_6cd119d973324cc65cb0dd360d288eea.setIcon(custom_icon_abd795a85504b2ca6416bf4f5f94685b);\n",
       "            \n",
       "    \n",
       "            var marker_f22db193a716c0049c8b33ae9a3e7cd4 = L.marker(\n",
       "                [46.1591126, -1.1520434],\n",
       "                {\n",
       "}\n",
       "            ).addTo(map_e09b1a4b0b73d056fa1f41342dc495d0);\n",
       "        \n",
       "    \n",
       "        var custom_icon_45aee707621629a571292ff416001016 = L.icon({\n",
       "  &quot;iconUrl&quot;: &quot;https://images.icon-icons.com/2791/PNG/512/rain_cloud_weather_icon_177568.png&quot;,\n",
       "  &quot;iconSize&quot;: [40, 40],\n",
       "});\n",
       "        marker_f22db193a716c0049c8b33ae9a3e7cd4.setIcon(custom_icon_45aee707621629a571292ff416001016);\n",
       "        \n",
       "    \n",
       "        var popup_9aef8e1e518485134ae4baef5be2ff8a = L.popup({\n",
       "  &quot;maxWidth&quot;: &quot;100%&quot;,\n",
       "});\n",
       "\n",
       "        \n",
       "            \n",
       "                var html_6646bdd8427d656106d2bf92c29786ec = $(`&lt;div id=&quot;html_6646bdd8427d656106d2bf92c29786ec&quot; style=&quot;width: 100.0%; height: 100.0%;&quot;&gt;La Rochelle&lt;/div&gt;`)[0];\n",
       "                popup_9aef8e1e518485134ae4baef5be2ff8a.setContent(html_6646bdd8427d656106d2bf92c29786ec);\n",
       "            \n",
       "        \n",
       "\n",
       "        marker_f22db193a716c0049c8b33ae9a3e7cd4.bindPopup(popup_9aef8e1e518485134ae4baef5be2ff8a)\n",
       "        ;\n",
       "\n",
       "        \n",
       "    \n",
       "    \n",
       "                marker_f22db193a716c0049c8b33ae9a3e7cd4.setIcon(custom_icon_45aee707621629a571292ff416001016);\n",
       "            \n",
       "    \n",
       "            var marker_10f03b4806f1ed960a67ce8c784576c2 = L.marker(\n",
       "                [43.7496562, 6.3285616],\n",
       "                {\n",
       "}\n",
       "            ).addTo(map_e09b1a4b0b73d056fa1f41342dc495d0);\n",
       "        \n",
       "    \n",
       "        var custom_icon_c007f5f212d06e3d4573165679fc0b0d = L.icon({\n",
       "  &quot;iconUrl&quot;: &quot;https://images.icon-icons.com/2791/PNG/512/sunny_day_weather_sun_icon_177555.png&quot;,\n",
       "  &quot;iconSize&quot;: [40, 40],\n",
       "});\n",
       "        marker_10f03b4806f1ed960a67ce8c784576c2.setIcon(custom_icon_c007f5f212d06e3d4573165679fc0b0d);\n",
       "        \n",
       "    \n",
       "        var popup_04cfb45478276ffbed92695aa39d1c37 = L.popup({\n",
       "  &quot;maxWidth&quot;: &quot;100%&quot;,\n",
       "});\n",
       "\n",
       "        \n",
       "            \n",
       "                var html_01c78a67676c51b61803e74c6bad932f = $(`&lt;div id=&quot;html_01c78a67676c51b61803e74c6bad932f&quot; style=&quot;width: 100.0%; height: 100.0%;&quot;&gt;Gorges du Verdon&lt;/div&gt;`)[0];\n",
       "                popup_04cfb45478276ffbed92695aa39d1c37.setContent(html_01c78a67676c51b61803e74c6bad932f);\n",
       "            \n",
       "        \n",
       "\n",
       "        marker_10f03b4806f1ed960a67ce8c784576c2.bindPopup(popup_04cfb45478276ffbed92695aa39d1c37)\n",
       "        ;\n",
       "\n",
       "        \n",
       "    \n",
       "    \n",
       "                marker_10f03b4806f1ed960a67ce8c784576c2.setIcon(custom_icon_c007f5f212d06e3d4573165679fc0b0d);\n",
       "            \n",
       "    \n",
       "            tile_layer_ca7ff6d940f461fd96c41754755a6248.addTo(map_e09b1a4b0b73d056fa1f41342dc495d0);\n",
       "        \n",
       "    \n",
       "                marker_1477a0f4ede4016589f7727b0bb1e00c.setIcon(custom_icon_aa61f7a8ef989dcc84b607d1baace860);\n",
       "            \n",
       "    \n",
       "                marker_2340a206a742604cc5441dae2183b0f5.setIcon(custom_icon_9e15a193607230760e4183a843eb475a);\n",
       "            \n",
       "    \n",
       "                marker_6deca84e9f1f904bb0ff62972775dfff.setIcon(custom_icon_748fe1f5ed24dc911ab533443ede1eb4);\n",
       "            \n",
       "    \n",
       "                marker_5c780a0b53010f44e7d6a1c0d4b90121.setIcon(custom_icon_1d8772035b0c4bc1387ae492069280a3);\n",
       "            \n",
       "    \n",
       "                marker_b237c2df7d9f053416b432c61517c258.setIcon(custom_icon_0567e47b6fbc7c55c695b7e02cbb03f9);\n",
       "            \n",
       "    \n",
       "                marker_96108633eb5f454c1508a18d89871657.setIcon(custom_icon_6b35a5688688c3a59cc7393aab78d73e);\n",
       "            \n",
       "    \n",
       "                marker_ab098d91cbd30336d1191754f09510dd.setIcon(custom_icon_64790c5aa5ed2ff521f0067f7dbaee43);\n",
       "            \n",
       "    \n",
       "                marker_e16970e1411bba2d51b05779eddc0273.setIcon(custom_icon_0547c8c3c9758721cb15007f73da41b3);\n",
       "            \n",
       "    \n",
       "                marker_b97c1e5184312e39eb6545cbaf29f18d.setIcon(custom_icon_2b98ef337ca9d81eebb44e7a6c3e1bdf);\n",
       "            \n",
       "    \n",
       "                marker_3338f23caafd989fef888f6ee7285eb0.setIcon(custom_icon_2f32555d02e4d7c7db6ed080b85c8b2b);\n",
       "            \n",
       "    \n",
       "                marker_452b0124f537033ba5f6b398375cfe27.setIcon(custom_icon_fd66492544e2c20d720e08d4df3d70da);\n",
       "            \n",
       "    \n",
       "                marker_ed3578a9128c5cc52a08022368c83888.setIcon(custom_icon_b54b10477d12eba7fe80e79c6c02264b);\n",
       "            \n",
       "    \n",
       "                marker_c5f28d38073d3d8aa3ffbc213b1aa81f.setIcon(custom_icon_82c5af5bd546e9bdb799935bf4b97af5);\n",
       "            \n",
       "    \n",
       "                marker_f1220f06e658ef4d2a3b9e9b8141f446.setIcon(custom_icon_3bec7e02d60a7658fd99917debfb4224);\n",
       "            \n",
       "    \n",
       "                marker_a7715aa99ff82ed6368fd19b84ab568b.setIcon(custom_icon_8ada7217f4b6a1996854017c4d339415);\n",
       "            \n",
       "    \n",
       "                marker_8dd7296f558bc27cd673d022daf67846.setIcon(custom_icon_f461c9ed2dc963d8cf848ee22881629f);\n",
       "            \n",
       "    \n",
       "                marker_2eb073c0f794f9053f980b4385ecfcd4.setIcon(custom_icon_7e44eef7aaee99ad538dd2eb0af1c916);\n",
       "            \n",
       "    \n",
       "                marker_99daa6c9506a184059ab058a3cc30a15.setIcon(custom_icon_682c03394557bea732612d81fe473d9e);\n",
       "            \n",
       "    \n",
       "                marker_e6e345638b9e05e790bf747b7385fc1d.setIcon(custom_icon_d72d4eab9919938e3b037df6af0317b8);\n",
       "            \n",
       "    \n",
       "                marker_1100a758589fa641fb6b92ff57faa6e6.setIcon(custom_icon_d82bc9ee0c7e09fd208c2ef337237c96);\n",
       "            \n",
       "    \n",
       "                marker_0c78878b092f2d2e2bb5165f8e4da71e.setIcon(custom_icon_be0fa7beda574c0995d67e605ed7a763);\n",
       "            \n",
       "    \n",
       "                marker_7b3de661ac34a8efd65def6ce0c88736.setIcon(custom_icon_de239bffd54a35594552231e3574b611);\n",
       "            \n",
       "    \n",
       "                marker_4511ad5db85beb832245ddeff9a68b75.setIcon(custom_icon_8b02b7c85b4507ffc325f3c738db9aca);\n",
       "            \n",
       "    \n",
       "                marker_b1ae17e80b85c5d4d08a308c44a535c0.setIcon(custom_icon_d6117d94cafcc43f58a7d1f2a88bfb96);\n",
       "            \n",
       "    \n",
       "                marker_ca0011d0597bd5c02cca33c3c99f87fa.setIcon(custom_icon_1fb7c9593a8fef7ec21191d9c80dc380);\n",
       "            \n",
       "    \n",
       "                marker_d57a24fab93bb2329f3851102a2886d7.setIcon(custom_icon_34adf4c7ba446a5487cb19707e603105);\n",
       "            \n",
       "    \n",
       "                marker_6391e518fb2675c168f2d5d8ce760710.setIcon(custom_icon_c3e574a092b488e093ee049dc3778392);\n",
       "            \n",
       "    \n",
       "                marker_dd8f58bd6f636ea078cdd6f4c0bf4b08.setIcon(custom_icon_b31158d7b33a6e735ef4511ddac11df5);\n",
       "            \n",
       "    \n",
       "                marker_2848a8aa9f3b1a6776d31b7a57b95fb4.setIcon(custom_icon_8b784239d5d3a2766b61e3c758e3b2bb);\n",
       "            \n",
       "    \n",
       "                marker_55f536111663350bde693e8bfa45ba15.setIcon(custom_icon_e3e8242cb3c055b2b8005c314fc27372);\n",
       "            \n",
       "    \n",
       "                marker_ccac4d88bb98821b6986cb660606e976.setIcon(custom_icon_a824214c032e7637799652ff770341f9);\n",
       "            \n",
       "    \n",
       "                marker_b858504443cd7511be4fd2e35d487225.setIcon(custom_icon_dea59363f77688f635234fed10e621ee);\n",
       "            \n",
       "    \n",
       "                marker_6cd119d973324cc65cb0dd360d288eea.setIcon(custom_icon_abd795a85504b2ca6416bf4f5f94685b);\n",
       "            \n",
       "    \n",
       "                marker_f22db193a716c0049c8b33ae9a3e7cd4.setIcon(custom_icon_45aee707621629a571292ff416001016);\n",
       "            \n",
       "    \n",
       "                marker_10f03b4806f1ed960a67ce8c784576c2.setIcon(custom_icon_c007f5f212d06e3d4573165679fc0b0d);\n",
       "            \n",
       "&lt;/script&gt;\n",
       "&lt;/html&gt;\" style=\"position:absolute;width:100%;height:100%;left:0;top:0;border:none !important;\" allowfullscreen webkitallowfullscreen mozallowfullscreen></iframe></div></div>"
      ],
      "text/plain": [
       "<folium.folium.Map at 0x1e69d4dacb0>"
      ]
     },
     "execution_count": 69,
     "metadata": {},
     "output_type": "execute_result"
    }
   ],
   "source": [
    "# Dictionnaire pour mapper les descriptions aux icônes\n",
    "icon_mapping = {\n",
    "    'clear sky': \"https://images.icon-icons.com/2791/PNG/512/sunny_day_weather_sun_icon_177555.png\",  \n",
    "    'scattered clouds': 'https://images.icon-icons.com/2791/PNG/512/partly_cloudy_day_sun_clouds_weather_icon_177560.png',\n",
    "    'few clouds' : 'https://images.icon-icons.com/857/PNG/512/weather-2_icon-icons.com_67742.png',\n",
    "    'broken clouds': 'https://images.icon-icons.com/2791/PNG/512/cloudy_cloud_weather_icon_177580.png',\n",
    "    'overcast clouds': 'https://images.icon-icons.com/2791/PNG/512/overcast_cloud_weather_icon_177561.png',\n",
    "    'light intensity drizzle rain' : 'https://images.icon-icons.com/139/PNG/512/drizzle_day_weather_20907.png',\n",
    "    'light intensity drizzle': 'https://images.icon-icons.com/139/PNG/512/drizzle_day_weather_20907.png',\n",
    "    'mist': 'https://images.icon-icons.com/2791/PNG/512/fog_weather_icon_177578.png',\n",
    "    'light rain' : 'https://images.icon-icons.com/2791/PNG/512/rain_cloud_weather_icon_177568.png',\n",
    "    'heavy rain' : 'https://images.icon-icons.com/2791/PNG/512/heavy_rain_weather_icon_177574.png',\n",
    "    'heavy intensity rain' : \"https://images.icon-icons.com/2791/PNG/512/heavy_rain_day_weather_icon_177573.png\",\n",
    "    'moderate rain' : 'https://images.icon-icons.com/2791/PNG/512/heavy_rain_day_weather_icon_177573.png',\n",
    "    'thunder storm' : 'https://images.icon-icons.com/2791/PNG/512/thunder_thunderbolt_cloud_weather_icon_177554.png',\n",
    "    'snow' : 'https://images.icon-icons.com/2791/PNG/512/heavy_snow_weather_icon_177571.png'\n",
    "}\n",
    "\n",
    "# Créer une carte centrée sur la France\n",
    "map = folium.Map(location=[46.603354, 1.888334], zoom_start=6)\n",
    "\n",
    "# Ajouter les villes à la carte avec des icônes personnalisées\n",
    "for i, row in bc.iterrows():\n",
    "    icon_url = icon_mapping.get(row['description'], 'https://images.icon-icons.com/1744/PNG/512/3643775-caution-exclamation-mark-sign-triangle_113444.png')  #si non trouvé dans le dico, ce logo apparait\n",
    "    folium.Marker(\n",
    "        location=[row['lat'], row['lon']],\n",
    "        popup=row['cities'],\n",
    "        icon=folium.CustomIcon(icon_url, icon_size=(40, 40))  # Ajustez la taille de l'icône si nécessaire\n",
    "    ).add_to(map)\n",
    "\n",
    "# Sauvegarder la carte dans un fichier HTML\n",
    "map.save('maps/map_meteo_best_city.html')\n",
    "\n",
    "# Afficher la carte\n",
    "map\n"
   ]
  },
  {
   "cell_type": "markdown",
   "metadata": {},
   "source": [
    "# Selection des meilleures destinations"
   ]
  },
  {
   "cell_type": "markdown",
   "metadata": {},
   "source": [
    "Nous sommes au printemps. Nous cherchons une distination qui nous changerait de la grisaille parisienne. Pour définir les villes avec la meilleure météo, nous pouvons définir les conditions suivantes :\n",
    "- ciel dégagé\n",
    "- hautes température rééel et ressentie\n",
    "- Indice UV élevé\n",
    "- faible taux d'humidité\n",
    "- faible vitesse du vent"
   ]
  },
  {
   "cell_type": "code",
   "execution_count": 31,
   "metadata": {},
   "outputs": [
    {
     "data": {
      "text/html": [
       "<div>\n",
       "<style scoped>\n",
       "    .dataframe tbody tr th:only-of-type {\n",
       "        vertical-align: middle;\n",
       "    }\n",
       "\n",
       "    .dataframe tbody tr th {\n",
       "        vertical-align: top;\n",
       "    }\n",
       "\n",
       "    .dataframe thead th {\n",
       "        text-align: right;\n",
       "    }\n",
       "</style>\n",
       "<table border=\"1\" class=\"dataframe\">\n",
       "  <thead>\n",
       "    <tr style=\"text-align: right;\">\n",
       "      <th></th>\n",
       "      <th>cities</th>\n",
       "      <th>name</th>\n",
       "      <th>country</th>\n",
       "      <th>state</th>\n",
       "      <th>lat</th>\n",
       "      <th>lon</th>\n",
       "      <th>date</th>\n",
       "      <th>temp</th>\n",
       "      <th>feels_like</th>\n",
       "      <th>uvi</th>\n",
       "      <th>humidity</th>\n",
       "      <th>wind_speed</th>\n",
       "      <th>description</th>\n",
       "    </tr>\n",
       "  </thead>\n",
       "  <tbody>\n",
       "    <tr>\n",
       "      <th>8</th>\n",
       "      <td>Strasbourg</td>\n",
       "      <td>Strasbourg</td>\n",
       "      <td>FR</td>\n",
       "      <td>Grand Est</td>\n",
       "      <td>48.584614</td>\n",
       "      <td>7.750713</td>\n",
       "      <td>2025-04-23 10:40:01</td>\n",
       "      <td>17.01</td>\n",
       "      <td>16.41</td>\n",
       "      <td>3.67</td>\n",
       "      <td>63.0</td>\n",
       "      <td>2.06</td>\n",
       "      <td>clear sky</td>\n",
       "    </tr>\n",
       "    <tr>\n",
       "      <th>9</th>\n",
       "      <td>Chateau du Haut Koenigsbourg</td>\n",
       "      <td>Château du Haut-Kœnigsbourg</td>\n",
       "      <td>FR</td>\n",
       "      <td>Grand Est</td>\n",
       "      <td>48.249523</td>\n",
       "      <td>7.345492</td>\n",
       "      <td>2025-04-23 10:40:01</td>\n",
       "      <td>12.90</td>\n",
       "      <td>12.00</td>\n",
       "      <td>5.07</td>\n",
       "      <td>67.0</td>\n",
       "      <td>1.03</td>\n",
       "      <td>clear sky</td>\n",
       "    </tr>\n",
       "    <tr>\n",
       "      <th>10</th>\n",
       "      <td>Colmar</td>\n",
       "      <td>Colmar</td>\n",
       "      <td>FR</td>\n",
       "      <td>Grand Est</td>\n",
       "      <td>48.077752</td>\n",
       "      <td>7.357964</td>\n",
       "      <td>2025-04-23 10:40:01</td>\n",
       "      <td>15.94</td>\n",
       "      <td>15.34</td>\n",
       "      <td>5.07</td>\n",
       "      <td>67.0</td>\n",
       "      <td>1.03</td>\n",
       "      <td>clear sky</td>\n",
       "    </tr>\n",
       "    <tr>\n",
       "      <th>11</th>\n",
       "      <td>Eguisheim</td>\n",
       "      <td>Eguisheim</td>\n",
       "      <td>FR</td>\n",
       "      <td>Grand Est</td>\n",
       "      <td>48.044797</td>\n",
       "      <td>7.307962</td>\n",
       "      <td>2025-04-23 10:40:02</td>\n",
       "      <td>15.90</td>\n",
       "      <td>15.30</td>\n",
       "      <td>5.07</td>\n",
       "      <td>67.0</td>\n",
       "      <td>1.03</td>\n",
       "      <td>clear sky</td>\n",
       "    </tr>\n",
       "    <tr>\n",
       "      <th>17</th>\n",
       "      <td>Bormes les Mimosas</td>\n",
       "      <td>Bormes-les-Mimosas</td>\n",
       "      <td>FR</td>\n",
       "      <td>Provence-Alpes-Côte d'Azur</td>\n",
       "      <td>43.150697</td>\n",
       "      <td>6.341928</td>\n",
       "      <td>2025-04-23 10:40:02</td>\n",
       "      <td>18.55</td>\n",
       "      <td>18.05</td>\n",
       "      <td>6.34</td>\n",
       "      <td>61.0</td>\n",
       "      <td>6.17</td>\n",
       "      <td>clear sky</td>\n",
       "    </tr>\n",
       "    <tr>\n",
       "      <th>18</th>\n",
       "      <td>Cassis</td>\n",
       "      <td>Cassis</td>\n",
       "      <td>FR</td>\n",
       "      <td>Provence-Alpes-Côte d'Azur</td>\n",
       "      <td>43.214036</td>\n",
       "      <td>5.539632</td>\n",
       "      <td>2025-04-23 10:40:02</td>\n",
       "      <td>19.58</td>\n",
       "      <td>18.90</td>\n",
       "      <td>6.29</td>\n",
       "      <td>50.0</td>\n",
       "      <td>9.08</td>\n",
       "      <td>clear sky</td>\n",
       "    </tr>\n",
       "    <tr>\n",
       "      <th>19</th>\n",
       "      <td>Marseille</td>\n",
       "      <td>Marseille</td>\n",
       "      <td>FR</td>\n",
       "      <td>Provence-Alpes-Côte d'Azur</td>\n",
       "      <td>43.296174</td>\n",
       "      <td>5.369953</td>\n",
       "      <td>2025-04-23 10:40:02</td>\n",
       "      <td>19.75</td>\n",
       "      <td>19.09</td>\n",
       "      <td>6.19</td>\n",
       "      <td>50.0</td>\n",
       "      <td>7.20</td>\n",
       "      <td>clear sky</td>\n",
       "    </tr>\n",
       "    <tr>\n",
       "      <th>20</th>\n",
       "      <td>Aix en Provence</td>\n",
       "      <td>Aix-en-Provence</td>\n",
       "      <td>FR</td>\n",
       "      <td>Provence-Alpes-Côte d'Azur</td>\n",
       "      <td>43.529842</td>\n",
       "      <td>5.447474</td>\n",
       "      <td>2025-04-23 10:40:03</td>\n",
       "      <td>18.01</td>\n",
       "      <td>16.91</td>\n",
       "      <td>5.81</td>\n",
       "      <td>40.0</td>\n",
       "      <td>6.22</td>\n",
       "      <td>clear sky</td>\n",
       "    </tr>\n",
       "    <tr>\n",
       "      <th>21</th>\n",
       "      <td>Avignon</td>\n",
       "      <td>Avignon</td>\n",
       "      <td>FR</td>\n",
       "      <td>Provence-Alpes-Côte d'Azur</td>\n",
       "      <td>43.949249</td>\n",
       "      <td>4.805901</td>\n",
       "      <td>2025-04-23 10:40:03</td>\n",
       "      <td>19.67</td>\n",
       "      <td>19.02</td>\n",
       "      <td>6.14</td>\n",
       "      <td>51.0</td>\n",
       "      <td>6.17</td>\n",
       "      <td>clear sky</td>\n",
       "    </tr>\n",
       "    <tr>\n",
       "      <th>23</th>\n",
       "      <td>Nimes</td>\n",
       "      <td>Nimes</td>\n",
       "      <td>FR</td>\n",
       "      <td>Occitania</td>\n",
       "      <td>43.837425</td>\n",
       "      <td>4.360069</td>\n",
       "      <td>2025-04-23 10:40:03</td>\n",
       "      <td>20.22</td>\n",
       "      <td>19.26</td>\n",
       "      <td>6.22</td>\n",
       "      <td>37.0</td>\n",
       "      <td>4.63</td>\n",
       "      <td>clear sky</td>\n",
       "    </tr>\n",
       "    <tr>\n",
       "      <th>24</th>\n",
       "      <td>Aigues Mortes</td>\n",
       "      <td>Aigues-Mortes</td>\n",
       "      <td>FR</td>\n",
       "      <td>Occitania</td>\n",
       "      <td>43.565823</td>\n",
       "      <td>4.191284</td>\n",
       "      <td>2025-04-23 10:40:03</td>\n",
       "      <td>19.77</td>\n",
       "      <td>18.85</td>\n",
       "      <td>6.22</td>\n",
       "      <td>40.0</td>\n",
       "      <td>7.72</td>\n",
       "      <td>clear sky</td>\n",
       "    </tr>\n",
       "    <tr>\n",
       "      <th>25</th>\n",
       "      <td>Saintes Maries de la mer</td>\n",
       "      <td>Saintes-Maries-de-la-Mer</td>\n",
       "      <td>FR</td>\n",
       "      <td>Provence-Alpes-Côte d'Azur</td>\n",
       "      <td>43.452277</td>\n",
       "      <td>4.428717</td>\n",
       "      <td>2025-04-23 10:40:03</td>\n",
       "      <td>17.64</td>\n",
       "      <td>16.90</td>\n",
       "      <td>6.03</td>\n",
       "      <td>55.0</td>\n",
       "      <td>6.02</td>\n",
       "      <td>clear sky</td>\n",
       "    </tr>\n",
       "    <tr>\n",
       "      <th>34</th>\n",
       "      <td>Gorges du Verdon</td>\n",
       "      <td>NaN</td>\n",
       "      <td>NaN</td>\n",
       "      <td>NaN</td>\n",
       "      <td>43.749656</td>\n",
       "      <td>6.328562</td>\n",
       "      <td>2025-04-23 10:40:04</td>\n",
       "      <td>19.98</td>\n",
       "      <td>19.42</td>\n",
       "      <td>6.38</td>\n",
       "      <td>53.0</td>\n",
       "      <td>3.53</td>\n",
       "      <td>clear sky</td>\n",
       "    </tr>\n",
       "  </tbody>\n",
       "</table>\n",
       "</div>"
      ],
      "text/plain": [
       "                          cities                         name country  \\\n",
       "8                     Strasbourg                   Strasbourg      FR   \n",
       "9   Chateau du Haut Koenigsbourg  Château du Haut-Kœnigsbourg      FR   \n",
       "10                        Colmar                       Colmar      FR   \n",
       "11                     Eguisheim                    Eguisheim      FR   \n",
       "17            Bormes les Mimosas           Bormes-les-Mimosas      FR   \n",
       "18                        Cassis                       Cassis      FR   \n",
       "19                     Marseille                    Marseille      FR   \n",
       "20               Aix en Provence              Aix-en-Provence      FR   \n",
       "21                       Avignon                      Avignon      FR   \n",
       "23                         Nimes                        Nimes      FR   \n",
       "24                 Aigues Mortes                Aigues-Mortes      FR   \n",
       "25      Saintes Maries de la mer     Saintes-Maries-de-la-Mer      FR   \n",
       "34              Gorges du Verdon                          NaN     NaN   \n",
       "\n",
       "                         state        lat       lon                 date  \\\n",
       "8                    Grand Est  48.584614  7.750713  2025-04-23 10:40:01   \n",
       "9                    Grand Est  48.249523  7.345492  2025-04-23 10:40:01   \n",
       "10                   Grand Est  48.077752  7.357964  2025-04-23 10:40:01   \n",
       "11                   Grand Est  48.044797  7.307962  2025-04-23 10:40:02   \n",
       "17  Provence-Alpes-Côte d'Azur  43.150697  6.341928  2025-04-23 10:40:02   \n",
       "18  Provence-Alpes-Côte d'Azur  43.214036  5.539632  2025-04-23 10:40:02   \n",
       "19  Provence-Alpes-Côte d'Azur  43.296174  5.369953  2025-04-23 10:40:02   \n",
       "20  Provence-Alpes-Côte d'Azur  43.529842  5.447474  2025-04-23 10:40:03   \n",
       "21  Provence-Alpes-Côte d'Azur  43.949249  4.805901  2025-04-23 10:40:03   \n",
       "23                   Occitania  43.837425  4.360069  2025-04-23 10:40:03   \n",
       "24                   Occitania  43.565823  4.191284  2025-04-23 10:40:03   \n",
       "25  Provence-Alpes-Côte d'Azur  43.452277  4.428717  2025-04-23 10:40:03   \n",
       "34                         NaN  43.749656  6.328562  2025-04-23 10:40:04   \n",
       "\n",
       "     temp  feels_like   uvi  humidity  wind_speed description  \n",
       "8   17.01       16.41  3.67      63.0        2.06   clear sky  \n",
       "9   12.90       12.00  5.07      67.0        1.03   clear sky  \n",
       "10  15.94       15.34  5.07      67.0        1.03   clear sky  \n",
       "11  15.90       15.30  5.07      67.0        1.03   clear sky  \n",
       "17  18.55       18.05  6.34      61.0        6.17   clear sky  \n",
       "18  19.58       18.90  6.29      50.0        9.08   clear sky  \n",
       "19  19.75       19.09  6.19      50.0        7.20   clear sky  \n",
       "20  18.01       16.91  5.81      40.0        6.22   clear sky  \n",
       "21  19.67       19.02  6.14      51.0        6.17   clear sky  \n",
       "23  20.22       19.26  6.22      37.0        4.63   clear sky  \n",
       "24  19.77       18.85  6.22      40.0        7.72   clear sky  \n",
       "25  17.64       16.90  6.03      55.0        6.02   clear sky  \n",
       "34  19.98       19.42  6.38      53.0        3.53   clear sky  "
      ]
     },
     "execution_count": 31,
     "metadata": {},
     "output_type": "execute_result"
    }
   ],
   "source": [
    "bc[bc[\"description\"]==\"clear sky\"]"
   ]
  },
  {
   "cell_type": "code",
   "execution_count": 32,
   "metadata": {},
   "outputs": [
    {
     "name": "stdout",
     "output_type": "stream",
     "text": [
      "Villes avec la meilleure météo :\n",
      "{'Marseille', 'Nimes', 'Avignon', 'Cassis', 'Gorges du Verdon'}\n"
     ]
    }
   ],
   "source": [
    "# Filtrer les villes avec la description \"clear sky\"\n",
    "filtered_bc = bc[bc['description'] == 'clear sky']\n",
    "\n",
    "# Sélectionner les 5 meilleures villes pour chaque critère parmi les villes filtrées.\n",
    "top_feels_like = set(filtered_bc.nlargest(5, 'feels_like')['cities'])# critère le plus important, donc le plus restrictif\n",
    "#top_temp = set(filtered_bc.nlargest(10, 'temp')['cities']) #critère retiré car redondant avec la précédent\n",
    "top_uvi = set(filtered_bc.nlargest(10, 'uvi')['cities'])\n",
    "top_humidity = set(filtered_bc.nsmallest(10, 'humidity')['cities'])\n",
    "top_wind_speed = set(filtered_bc.nsmallest(15, 'wind_speed')['cities'])\n",
    "\n",
    "# Trouver l'intersection des ensembles\n",
    "best_weather = top_feels_like &  top_uvi & top_humidity & top_wind_speed\n",
    "#top_temp &\n",
    "\n",
    "# Afficher la liste des meilleures villes\n",
    "print(\"Villes avec la meilleure météo :\")\n",
    "print(best_weather)"
   ]
  },
  {
   "cell_type": "code",
   "execution_count": 33,
   "metadata": {},
   "outputs": [
    {
     "data": {
      "text/html": [
       "<div>\n",
       "<style scoped>\n",
       "    .dataframe tbody tr th:only-of-type {\n",
       "        vertical-align: middle;\n",
       "    }\n",
       "\n",
       "    .dataframe tbody tr th {\n",
       "        vertical-align: top;\n",
       "    }\n",
       "\n",
       "    .dataframe thead th {\n",
       "        text-align: right;\n",
       "    }\n",
       "</style>\n",
       "<table border=\"1\" class=\"dataframe\">\n",
       "  <thead>\n",
       "    <tr style=\"text-align: right;\">\n",
       "      <th></th>\n",
       "      <th>cities</th>\n",
       "      <th>name</th>\n",
       "      <th>country</th>\n",
       "      <th>state</th>\n",
       "      <th>lat</th>\n",
       "      <th>lon</th>\n",
       "      <th>date</th>\n",
       "      <th>temp</th>\n",
       "      <th>feels_like</th>\n",
       "      <th>uvi</th>\n",
       "      <th>humidity</th>\n",
       "      <th>wind_speed</th>\n",
       "      <th>description</th>\n",
       "    </tr>\n",
       "  </thead>\n",
       "  <tbody>\n",
       "    <tr>\n",
       "      <th>34</th>\n",
       "      <td>Gorges du Verdon</td>\n",
       "      <td>NaN</td>\n",
       "      <td>NaN</td>\n",
       "      <td>NaN</td>\n",
       "      <td>43.749656</td>\n",
       "      <td>6.328562</td>\n",
       "      <td>2025-04-23 10:40:04</td>\n",
       "      <td>19.98</td>\n",
       "      <td>19.42</td>\n",
       "      <td>6.38</td>\n",
       "      <td>53.0</td>\n",
       "      <td>3.53</td>\n",
       "      <td>clear sky</td>\n",
       "    </tr>\n",
       "    <tr>\n",
       "      <th>23</th>\n",
       "      <td>Nimes</td>\n",
       "      <td>Nimes</td>\n",
       "      <td>FR</td>\n",
       "      <td>Occitania</td>\n",
       "      <td>43.837425</td>\n",
       "      <td>4.360069</td>\n",
       "      <td>2025-04-23 10:40:03</td>\n",
       "      <td>20.22</td>\n",
       "      <td>19.26</td>\n",
       "      <td>6.22</td>\n",
       "      <td>37.0</td>\n",
       "      <td>4.63</td>\n",
       "      <td>clear sky</td>\n",
       "    </tr>\n",
       "    <tr>\n",
       "      <th>19</th>\n",
       "      <td>Marseille</td>\n",
       "      <td>Marseille</td>\n",
       "      <td>FR</td>\n",
       "      <td>Provence-Alpes-Côte d'Azur</td>\n",
       "      <td>43.296174</td>\n",
       "      <td>5.369953</td>\n",
       "      <td>2025-04-23 10:40:02</td>\n",
       "      <td>19.75</td>\n",
       "      <td>19.09</td>\n",
       "      <td>6.19</td>\n",
       "      <td>50.0</td>\n",
       "      <td>7.20</td>\n",
       "      <td>clear sky</td>\n",
       "    </tr>\n",
       "    <tr>\n",
       "      <th>21</th>\n",
       "      <td>Avignon</td>\n",
       "      <td>Avignon</td>\n",
       "      <td>FR</td>\n",
       "      <td>Provence-Alpes-Côte d'Azur</td>\n",
       "      <td>43.949249</td>\n",
       "      <td>4.805901</td>\n",
       "      <td>2025-04-23 10:40:03</td>\n",
       "      <td>19.67</td>\n",
       "      <td>19.02</td>\n",
       "      <td>6.14</td>\n",
       "      <td>51.0</td>\n",
       "      <td>6.17</td>\n",
       "      <td>clear sky</td>\n",
       "    </tr>\n",
       "    <tr>\n",
       "      <th>18</th>\n",
       "      <td>Cassis</td>\n",
       "      <td>Cassis</td>\n",
       "      <td>FR</td>\n",
       "      <td>Provence-Alpes-Côte d'Azur</td>\n",
       "      <td>43.214036</td>\n",
       "      <td>5.539632</td>\n",
       "      <td>2025-04-23 10:40:02</td>\n",
       "      <td>19.58</td>\n",
       "      <td>18.90</td>\n",
       "      <td>6.29</td>\n",
       "      <td>50.0</td>\n",
       "      <td>9.08</td>\n",
       "      <td>clear sky</td>\n",
       "    </tr>\n",
       "  </tbody>\n",
       "</table>\n",
       "</div>"
      ],
      "text/plain": [
       "              cities       name country                       state  \\\n",
       "34  Gorges du Verdon        NaN     NaN                         NaN   \n",
       "23             Nimes      Nimes      FR                   Occitania   \n",
       "19         Marseille  Marseille      FR  Provence-Alpes-Côte d'Azur   \n",
       "21           Avignon    Avignon      FR  Provence-Alpes-Côte d'Azur   \n",
       "18            Cassis     Cassis      FR  Provence-Alpes-Côte d'Azur   \n",
       "\n",
       "          lat       lon                 date   temp  feels_like   uvi  \\\n",
       "34  43.749656  6.328562  2025-04-23 10:40:04  19.98       19.42  6.38   \n",
       "23  43.837425  4.360069  2025-04-23 10:40:03  20.22       19.26  6.22   \n",
       "19  43.296174  5.369953  2025-04-23 10:40:02  19.75       19.09  6.19   \n",
       "21  43.949249  4.805901  2025-04-23 10:40:03  19.67       19.02  6.14   \n",
       "18  43.214036  5.539632  2025-04-23 10:40:02  19.58       18.90  6.29   \n",
       "\n",
       "    humidity  wind_speed description  \n",
       "34      53.0        3.53   clear sky  \n",
       "23      37.0        4.63   clear sky  \n",
       "19      50.0        7.20   clear sky  \n",
       "21      51.0        6.17   clear sky  \n",
       "18      50.0        9.08   clear sky  "
      ]
     },
     "execution_count": 33,
     "metadata": {},
     "output_type": "execute_result"
    }
   ],
   "source": [
    "best_weather = list(best_weather) #transformer le set en liste\n",
    "best_weather_df = bc[bc['cities'].isin(best_weather)] #puis filter le dataframe sur la liste\n",
    "best_weather_df = best_weather_df.sort_values(by='feels_like', ascending=False)\n",
    "best_weather_df\n"
   ]
  },
  {
   "cell_type": "code",
   "execution_count": 58,
   "metadata": {},
   "outputs": [
    {
     "data": {
      "text/plain": [
       "34    Gorges du Verdon\n",
       "23               Nimes\n",
       "19           Marseille\n",
       "21             Avignon\n",
       "18              Cassis\n",
       "Name: cities, dtype: object"
      ]
     },
     "execution_count": 58,
     "metadata": {},
     "output_type": "execute_result"
    }
   ],
   "source": [
    "best_weather_df[\"cities\"]"
   ]
  },
  {
   "cell_type": "code",
   "execution_count": 34,
   "metadata": {},
   "outputs": [],
   "source": [
    "# Enregistrer le DataFrame en fichier CSV\n",
    "best_weather_df.to_csv('data/top_best_weather.csv', index=False)"
   ]
  },
  {
   "cell_type": "code",
   "execution_count": 70,
   "metadata": {},
   "outputs": [
    {
     "data": {
      "text/html": [
       "<div style=\"width:100%;\"><div style=\"position:relative;width:100%;height:0;padding-bottom:60%;\"><span style=\"color:#565656\">Make this Notebook Trusted to load map: File -> Trust Notebook</span><iframe srcdoc=\"&lt;!DOCTYPE html&gt;\n",
       "&lt;html&gt;\n",
       "&lt;head&gt;\n",
       "    \n",
       "    &lt;meta http-equiv=&quot;content-type&quot; content=&quot;text/html; charset=UTF-8&quot; /&gt;\n",
       "    \n",
       "        &lt;script&gt;\n",
       "            L_NO_TOUCH = false;\n",
       "            L_DISABLE_3D = false;\n",
       "        &lt;/script&gt;\n",
       "    \n",
       "    &lt;style&gt;html, body {width: 100%;height: 100%;margin: 0;padding: 0;}&lt;/style&gt;\n",
       "    &lt;style&gt;#map {position:absolute;top:0;bottom:0;right:0;left:0;}&lt;/style&gt;\n",
       "    &lt;script src=&quot;https://cdn.jsdelivr.net/npm/leaflet@1.9.3/dist/leaflet.js&quot;&gt;&lt;/script&gt;\n",
       "    &lt;script src=&quot;https://code.jquery.com/jquery-3.7.1.min.js&quot;&gt;&lt;/script&gt;\n",
       "    &lt;script src=&quot;https://cdn.jsdelivr.net/npm/bootstrap@5.2.2/dist/js/bootstrap.bundle.min.js&quot;&gt;&lt;/script&gt;\n",
       "    &lt;script src=&quot;https://cdnjs.cloudflare.com/ajax/libs/Leaflet.awesome-markers/2.0.2/leaflet.awesome-markers.js&quot;&gt;&lt;/script&gt;\n",
       "    &lt;link rel=&quot;stylesheet&quot; href=&quot;https://cdn.jsdelivr.net/npm/leaflet@1.9.3/dist/leaflet.css&quot;/&gt;\n",
       "    &lt;link rel=&quot;stylesheet&quot; href=&quot;https://cdn.jsdelivr.net/npm/bootstrap@5.2.2/dist/css/bootstrap.min.css&quot;/&gt;\n",
       "    &lt;link rel=&quot;stylesheet&quot; href=&quot;https://netdna.bootstrapcdn.com/bootstrap/3.0.0/css/bootstrap-glyphicons.css&quot;/&gt;\n",
       "    &lt;link rel=&quot;stylesheet&quot; href=&quot;https://cdn.jsdelivr.net/npm/@fortawesome/fontawesome-free@6.2.0/css/all.min.css&quot;/&gt;\n",
       "    &lt;link rel=&quot;stylesheet&quot; href=&quot;https://cdnjs.cloudflare.com/ajax/libs/Leaflet.awesome-markers/2.0.2/leaflet.awesome-markers.css&quot;/&gt;\n",
       "    &lt;link rel=&quot;stylesheet&quot; href=&quot;https://cdn.jsdelivr.net/gh/python-visualization/folium/folium/templates/leaflet.awesome.rotate.min.css&quot;/&gt;\n",
       "    \n",
       "            &lt;meta name=&quot;viewport&quot; content=&quot;width=device-width,\n",
       "                initial-scale=1.0, maximum-scale=1.0, user-scalable=no&quot; /&gt;\n",
       "            &lt;style&gt;\n",
       "                #map_98a60fec46aa4a9d8752f60e2d8da6bb {\n",
       "                    position: relative;\n",
       "                    width: 100.0%;\n",
       "                    height: 100.0%;\n",
       "                    left: 0.0%;\n",
       "                    top: 0.0%;\n",
       "                }\n",
       "                .leaflet-container { font-size: 1rem; }\n",
       "            &lt;/style&gt;\n",
       "        \n",
       "&lt;/head&gt;\n",
       "&lt;body&gt;\n",
       "    \n",
       "    \n",
       "            &lt;div class=&quot;folium-map&quot; id=&quot;map_98a60fec46aa4a9d8752f60e2d8da6bb&quot; &gt;&lt;/div&gt;\n",
       "        \n",
       "&lt;/body&gt;\n",
       "&lt;script&gt;\n",
       "    \n",
       "    \n",
       "            var map_98a60fec46aa4a9d8752f60e2d8da6bb = L.map(\n",
       "                &quot;map_98a60fec46aa4a9d8752f60e2d8da6bb&quot;,\n",
       "                {\n",
       "                    center: [46.603354, 1.888334],\n",
       "                    crs: L.CRS.EPSG3857,\n",
       "                    ...{\n",
       "  &quot;zoom&quot;: 6,\n",
       "  &quot;zoomControl&quot;: true,\n",
       "  &quot;preferCanvas&quot;: false,\n",
       "}\n",
       "\n",
       "                }\n",
       "            );\n",
       "\n",
       "            \n",
       "\n",
       "        \n",
       "    \n",
       "            var tile_layer_9c0b73d57985a668fb983a20cb2a440e = L.tileLayer(\n",
       "                &quot;https://tile.openstreetmap.org/{z}/{x}/{y}.png&quot;,\n",
       "                {\n",
       "  &quot;minZoom&quot;: 0,\n",
       "  &quot;maxZoom&quot;: 19,\n",
       "  &quot;maxNativeZoom&quot;: 19,\n",
       "  &quot;noWrap&quot;: false,\n",
       "  &quot;attribution&quot;: &quot;\\u0026copy; \\u003ca href=\\&quot;https://www.openstreetmap.org/copyright\\&quot;\\u003eOpenStreetMap\\u003c/a\\u003e contributors&quot;,\n",
       "  &quot;subdomains&quot;: &quot;abc&quot;,\n",
       "  &quot;detectRetina&quot;: false,\n",
       "  &quot;tms&quot;: false,\n",
       "  &quot;opacity&quot;: 1,\n",
       "}\n",
       "\n",
       "            );\n",
       "        \n",
       "    \n",
       "            tile_layer_9c0b73d57985a668fb983a20cb2a440e.addTo(map_98a60fec46aa4a9d8752f60e2d8da6bb);\n",
       "        \n",
       "    \n",
       "            var marker_10b5bcdfe9fa4b2de7f7bfbb8ce1aa1f = L.marker(\n",
       "                [43.7496562, 6.3285616],\n",
       "                {\n",
       "}\n",
       "            ).addTo(map_98a60fec46aa4a9d8752f60e2d8da6bb);\n",
       "        \n",
       "    \n",
       "        var custom_icon_119f8b55a4a6f87c813d04a34b0a295a = L.icon({\n",
       "  &quot;iconUrl&quot;: &quot;https://images.icon-icons.com/3565/PNG/512/tree_flower_plant_nature_landscape_icon_225325.png&quot;,\n",
       "  &quot;iconSize&quot;: [40, 40],\n",
       "});\n",
       "        marker_10b5bcdfe9fa4b2de7f7bfbb8ce1aa1f.setIcon(custom_icon_119f8b55a4a6f87c813d04a34b0a295a);\n",
       "        \n",
       "    \n",
       "        var popup_5f18f059e1366a4f0e377d1d4f699057 = L.popup({\n",
       "  &quot;maxWidth&quot;: &quot;100%&quot;,\n",
       "});\n",
       "\n",
       "        \n",
       "            \n",
       "                var html_947051261cf7984ebccd901dbd6a9691 = $(`&lt;div id=&quot;html_947051261cf7984ebccd901dbd6a9691&quot; style=&quot;width: 100.0%; height: 100.0%;&quot;&gt;Gorges du Verdon&lt;/div&gt;`)[0];\n",
       "                popup_5f18f059e1366a4f0e377d1d4f699057.setContent(html_947051261cf7984ebccd901dbd6a9691);\n",
       "            \n",
       "        \n",
       "\n",
       "        marker_10b5bcdfe9fa4b2de7f7bfbb8ce1aa1f.bindPopup(popup_5f18f059e1366a4f0e377d1d4f699057)\n",
       "        ;\n",
       "\n",
       "        \n",
       "    \n",
       "    \n",
       "                marker_10b5bcdfe9fa4b2de7f7bfbb8ce1aa1f.setIcon(custom_icon_119f8b55a4a6f87c813d04a34b0a295a);\n",
       "            \n",
       "    \n",
       "            var marker_990fb3fce6b66636a90cc8c9f4c9b8f0 = L.marker(\n",
       "                [43.8374249, 4.3600687],\n",
       "                {\n",
       "}\n",
       "            ).addTo(map_98a60fec46aa4a9d8752f60e2d8da6bb);\n",
       "        \n",
       "    \n",
       "        var custom_icon_4555bb29b642fd523e4803407f28d0ba = L.icon({\n",
       "  &quot;iconUrl&quot;: &quot;https://images.icon-icons.com/3565/PNG/512/tree_flower_plant_nature_landscape_icon_225325.png&quot;,\n",
       "  &quot;iconSize&quot;: [40, 40],\n",
       "});\n",
       "        marker_990fb3fce6b66636a90cc8c9f4c9b8f0.setIcon(custom_icon_4555bb29b642fd523e4803407f28d0ba);\n",
       "        \n",
       "    \n",
       "        var popup_78dfbd58058c0ebd7ff6a87e9ba400fe = L.popup({\n",
       "  &quot;maxWidth&quot;: &quot;100%&quot;,\n",
       "});\n",
       "\n",
       "        \n",
       "            \n",
       "                var html_efcd267c6c331bea7854247fd35bda47 = $(`&lt;div id=&quot;html_efcd267c6c331bea7854247fd35bda47&quot; style=&quot;width: 100.0%; height: 100.0%;&quot;&gt;Nimes&lt;/div&gt;`)[0];\n",
       "                popup_78dfbd58058c0ebd7ff6a87e9ba400fe.setContent(html_efcd267c6c331bea7854247fd35bda47);\n",
       "            \n",
       "        \n",
       "\n",
       "        marker_990fb3fce6b66636a90cc8c9f4c9b8f0.bindPopup(popup_78dfbd58058c0ebd7ff6a87e9ba400fe)\n",
       "        ;\n",
       "\n",
       "        \n",
       "    \n",
       "    \n",
       "                marker_990fb3fce6b66636a90cc8c9f4c9b8f0.setIcon(custom_icon_4555bb29b642fd523e4803407f28d0ba);\n",
       "            \n",
       "    \n",
       "            var marker_7477267d6f20a2ca9edcfdb1696ddfd3 = L.marker(\n",
       "                [43.2961743, 5.3699525],\n",
       "                {\n",
       "}\n",
       "            ).addTo(map_98a60fec46aa4a9d8752f60e2d8da6bb);\n",
       "        \n",
       "    \n",
       "        var custom_icon_b171c23d4699d08adb41cc349a28d223 = L.icon({\n",
       "  &quot;iconUrl&quot;: &quot;https://images.icon-icons.com/3565/PNG/512/tree_flower_plant_nature_landscape_icon_225325.png&quot;,\n",
       "  &quot;iconSize&quot;: [40, 40],\n",
       "});\n",
       "        marker_7477267d6f20a2ca9edcfdb1696ddfd3.setIcon(custom_icon_b171c23d4699d08adb41cc349a28d223);\n",
       "        \n",
       "    \n",
       "        var popup_f02113347b2ad31b8a113cb3cf591234 = L.popup({\n",
       "  &quot;maxWidth&quot;: &quot;100%&quot;,\n",
       "});\n",
       "\n",
       "        \n",
       "            \n",
       "                var html_ecc5d4418f922a6c67aa70fdcce6bb0a = $(`&lt;div id=&quot;html_ecc5d4418f922a6c67aa70fdcce6bb0a&quot; style=&quot;width: 100.0%; height: 100.0%;&quot;&gt;Marseille&lt;/div&gt;`)[0];\n",
       "                popup_f02113347b2ad31b8a113cb3cf591234.setContent(html_ecc5d4418f922a6c67aa70fdcce6bb0a);\n",
       "            \n",
       "        \n",
       "\n",
       "        marker_7477267d6f20a2ca9edcfdb1696ddfd3.bindPopup(popup_f02113347b2ad31b8a113cb3cf591234)\n",
       "        ;\n",
       "\n",
       "        \n",
       "    \n",
       "    \n",
       "                marker_7477267d6f20a2ca9edcfdb1696ddfd3.setIcon(custom_icon_b171c23d4699d08adb41cc349a28d223);\n",
       "            \n",
       "    \n",
       "            var marker_dd3273a562699230217d97d7cfb4abf5 = L.marker(\n",
       "                [43.9492493, 4.8059012],\n",
       "                {\n",
       "}\n",
       "            ).addTo(map_98a60fec46aa4a9d8752f60e2d8da6bb);\n",
       "        \n",
       "    \n",
       "        var custom_icon_35215fc86fdc37e9dbaac4d463513d71 = L.icon({\n",
       "  &quot;iconUrl&quot;: &quot;https://images.icon-icons.com/3565/PNG/512/tree_flower_plant_nature_landscape_icon_225325.png&quot;,\n",
       "  &quot;iconSize&quot;: [40, 40],\n",
       "});\n",
       "        marker_dd3273a562699230217d97d7cfb4abf5.setIcon(custom_icon_35215fc86fdc37e9dbaac4d463513d71);\n",
       "        \n",
       "    \n",
       "        var popup_314eb6119f9045529d2f7eecd06c404b = L.popup({\n",
       "  &quot;maxWidth&quot;: &quot;100%&quot;,\n",
       "});\n",
       "\n",
       "        \n",
       "            \n",
       "                var html_dde239daf0656252abfd471eedc477de = $(`&lt;div id=&quot;html_dde239daf0656252abfd471eedc477de&quot; style=&quot;width: 100.0%; height: 100.0%;&quot;&gt;Avignon&lt;/div&gt;`)[0];\n",
       "                popup_314eb6119f9045529d2f7eecd06c404b.setContent(html_dde239daf0656252abfd471eedc477de);\n",
       "            \n",
       "        \n",
       "\n",
       "        marker_dd3273a562699230217d97d7cfb4abf5.bindPopup(popup_314eb6119f9045529d2f7eecd06c404b)\n",
       "        ;\n",
       "\n",
       "        \n",
       "    \n",
       "    \n",
       "                marker_dd3273a562699230217d97d7cfb4abf5.setIcon(custom_icon_35215fc86fdc37e9dbaac4d463513d71);\n",
       "            \n",
       "    \n",
       "            var marker_50df948d66492f626f5aef5fac36a197 = L.marker(\n",
       "                [43.2140359, 5.5396318],\n",
       "                {\n",
       "}\n",
       "            ).addTo(map_98a60fec46aa4a9d8752f60e2d8da6bb);\n",
       "        \n",
       "    \n",
       "        var custom_icon_4663e17c1bd3795a61a74c42cdfc02c9 = L.icon({\n",
       "  &quot;iconUrl&quot;: &quot;https://images.icon-icons.com/3565/PNG/512/tree_flower_plant_nature_landscape_icon_225325.png&quot;,\n",
       "  &quot;iconSize&quot;: [40, 40],\n",
       "});\n",
       "        marker_50df948d66492f626f5aef5fac36a197.setIcon(custom_icon_4663e17c1bd3795a61a74c42cdfc02c9);\n",
       "        \n",
       "    \n",
       "        var popup_2dc9414eec52aab22f5630343c1fd378 = L.popup({\n",
       "  &quot;maxWidth&quot;: &quot;100%&quot;,\n",
       "});\n",
       "\n",
       "        \n",
       "            \n",
       "                var html_7a7d2d8a6455bbc99112be7305068fd2 = $(`&lt;div id=&quot;html_7a7d2d8a6455bbc99112be7305068fd2&quot; style=&quot;width: 100.0%; height: 100.0%;&quot;&gt;Cassis&lt;/div&gt;`)[0];\n",
       "                popup_2dc9414eec52aab22f5630343c1fd378.setContent(html_7a7d2d8a6455bbc99112be7305068fd2);\n",
       "            \n",
       "        \n",
       "\n",
       "        marker_50df948d66492f626f5aef5fac36a197.bindPopup(popup_2dc9414eec52aab22f5630343c1fd378)\n",
       "        ;\n",
       "\n",
       "        \n",
       "    \n",
       "    \n",
       "                marker_50df948d66492f626f5aef5fac36a197.setIcon(custom_icon_4663e17c1bd3795a61a74c42cdfc02c9);\n",
       "            \n",
       "    \n",
       "            tile_layer_9c0b73d57985a668fb983a20cb2a440e.addTo(map_98a60fec46aa4a9d8752f60e2d8da6bb);\n",
       "        \n",
       "    \n",
       "                marker_10b5bcdfe9fa4b2de7f7bfbb8ce1aa1f.setIcon(custom_icon_119f8b55a4a6f87c813d04a34b0a295a);\n",
       "            \n",
       "    \n",
       "                marker_990fb3fce6b66636a90cc8c9f4c9b8f0.setIcon(custom_icon_4555bb29b642fd523e4803407f28d0ba);\n",
       "            \n",
       "    \n",
       "                marker_7477267d6f20a2ca9edcfdb1696ddfd3.setIcon(custom_icon_b171c23d4699d08adb41cc349a28d223);\n",
       "            \n",
       "    \n",
       "                marker_dd3273a562699230217d97d7cfb4abf5.setIcon(custom_icon_35215fc86fdc37e9dbaac4d463513d71);\n",
       "            \n",
       "    \n",
       "                marker_50df948d66492f626f5aef5fac36a197.setIcon(custom_icon_4663e17c1bd3795a61a74c42cdfc02c9);\n",
       "            \n",
       "&lt;/script&gt;\n",
       "&lt;/html&gt;\" style=\"position:absolute;width:100%;height:100%;left:0;top:0;border:none !important;\" allowfullscreen webkitallowfullscreen mozallowfullscreen></iframe></div></div>"
      ],
      "text/plain": [
       "<folium.folium.Map at 0x1e69be24a00>"
      ]
     },
     "execution_count": 70,
     "metadata": {},
     "output_type": "execute_result"
    }
   ],
   "source": [
    "# visualiser le top5 des destinations selectionnées\n",
    "map = folium.Map(location=[46.603354, 1.888334], zoom_start=6)\n",
    "\n",
    "# Définir le marker\n",
    "icon_url = \"https://images.icon-icons.com/3565/PNG/512/tree_flower_plant_nature_landscape_icon_225325.png\"\n",
    "\n",
    "# Ajouter les villes à la carte avec des icônes personnalisées\n",
    "for i, row in best_weather_df.iterrows():\n",
    "    folium.Marker(\n",
    "        location=[row['lat'], row['lon']],\n",
    "        popup=row['cities'],\n",
    "        icon=folium.CustomIcon(icon_url, icon_size=(40, 40))  # Ajustez la taille de l'icône si nécessaire\n",
    "    ).add_to(map)\n",
    "\n",
    "# Sauvegarder la carte dans un fichier HTML\n",
    "map.save('maps/map_top_best_destinations.html')\n",
    "\n",
    "# Afficher la carte\n",
    "map\n"
   ]
  },
  {
   "cell_type": "markdown",
   "metadata": {},
   "source": [
    "# Scraping Booking"
   ]
  },
  {
   "cell_type": "code",
   "execution_count": 36,
   "metadata": {},
   "outputs": [
    {
     "data": {
      "text/html": [
       "<div>\n",
       "<style scoped>\n",
       "    .dataframe tbody tr th:only-of-type {\n",
       "        vertical-align: middle;\n",
       "    }\n",
       "\n",
       "    .dataframe tbody tr th {\n",
       "        vertical-align: top;\n",
       "    }\n",
       "\n",
       "    .dataframe thead th {\n",
       "        text-align: right;\n",
       "    }\n",
       "</style>\n",
       "<table border=\"1\" class=\"dataframe\">\n",
       "  <thead>\n",
       "    <tr style=\"text-align: right;\">\n",
       "      <th></th>\n",
       "      <th>cities</th>\n",
       "      <th>name</th>\n",
       "      <th>country</th>\n",
       "      <th>state</th>\n",
       "      <th>lat</th>\n",
       "      <th>lon</th>\n",
       "      <th>date</th>\n",
       "      <th>temp</th>\n",
       "      <th>feels_like</th>\n",
       "      <th>uvi</th>\n",
       "      <th>humidity</th>\n",
       "      <th>wind_speed</th>\n",
       "      <th>description</th>\n",
       "    </tr>\n",
       "  </thead>\n",
       "  <tbody>\n",
       "    <tr>\n",
       "      <th>34</th>\n",
       "      <td>Gorges du Verdon</td>\n",
       "      <td>NaN</td>\n",
       "      <td>NaN</td>\n",
       "      <td>NaN</td>\n",
       "      <td>43.749656</td>\n",
       "      <td>6.328562</td>\n",
       "      <td>2025-04-23 10:40:04</td>\n",
       "      <td>19.98</td>\n",
       "      <td>19.42</td>\n",
       "      <td>6.38</td>\n",
       "      <td>53.0</td>\n",
       "      <td>3.53</td>\n",
       "      <td>clear sky</td>\n",
       "    </tr>\n",
       "    <tr>\n",
       "      <th>23</th>\n",
       "      <td>Nimes</td>\n",
       "      <td>Nimes</td>\n",
       "      <td>FR</td>\n",
       "      <td>Occitania</td>\n",
       "      <td>43.837425</td>\n",
       "      <td>4.360069</td>\n",
       "      <td>2025-04-23 10:40:03</td>\n",
       "      <td>20.22</td>\n",
       "      <td>19.26</td>\n",
       "      <td>6.22</td>\n",
       "      <td>37.0</td>\n",
       "      <td>4.63</td>\n",
       "      <td>clear sky</td>\n",
       "    </tr>\n",
       "    <tr>\n",
       "      <th>19</th>\n",
       "      <td>Marseille</td>\n",
       "      <td>Marseille</td>\n",
       "      <td>FR</td>\n",
       "      <td>Provence-Alpes-Côte d'Azur</td>\n",
       "      <td>43.296174</td>\n",
       "      <td>5.369953</td>\n",
       "      <td>2025-04-23 10:40:02</td>\n",
       "      <td>19.75</td>\n",
       "      <td>19.09</td>\n",
       "      <td>6.19</td>\n",
       "      <td>50.0</td>\n",
       "      <td>7.20</td>\n",
       "      <td>clear sky</td>\n",
       "    </tr>\n",
       "    <tr>\n",
       "      <th>21</th>\n",
       "      <td>Avignon</td>\n",
       "      <td>Avignon</td>\n",
       "      <td>FR</td>\n",
       "      <td>Provence-Alpes-Côte d'Azur</td>\n",
       "      <td>43.949249</td>\n",
       "      <td>4.805901</td>\n",
       "      <td>2025-04-23 10:40:03</td>\n",
       "      <td>19.67</td>\n",
       "      <td>19.02</td>\n",
       "      <td>6.14</td>\n",
       "      <td>51.0</td>\n",
       "      <td>6.17</td>\n",
       "      <td>clear sky</td>\n",
       "    </tr>\n",
       "    <tr>\n",
       "      <th>18</th>\n",
       "      <td>Cassis</td>\n",
       "      <td>Cassis</td>\n",
       "      <td>FR</td>\n",
       "      <td>Provence-Alpes-Côte d'Azur</td>\n",
       "      <td>43.214036</td>\n",
       "      <td>5.539632</td>\n",
       "      <td>2025-04-23 10:40:02</td>\n",
       "      <td>19.58</td>\n",
       "      <td>18.90</td>\n",
       "      <td>6.29</td>\n",
       "      <td>50.0</td>\n",
       "      <td>9.08</td>\n",
       "      <td>clear sky</td>\n",
       "    </tr>\n",
       "  </tbody>\n",
       "</table>\n",
       "</div>"
      ],
      "text/plain": [
       "              cities       name country                       state  \\\n",
       "34  Gorges du Verdon        NaN     NaN                         NaN   \n",
       "23             Nimes      Nimes      FR                   Occitania   \n",
       "19         Marseille  Marseille      FR  Provence-Alpes-Côte d'Azur   \n",
       "21           Avignon    Avignon      FR  Provence-Alpes-Côte d'Azur   \n",
       "18            Cassis     Cassis      FR  Provence-Alpes-Côte d'Azur   \n",
       "\n",
       "          lat       lon                 date   temp  feels_like   uvi  \\\n",
       "34  43.749656  6.328562  2025-04-23 10:40:04  19.98       19.42  6.38   \n",
       "23  43.837425  4.360069  2025-04-23 10:40:03  20.22       19.26  6.22   \n",
       "19  43.296174  5.369953  2025-04-23 10:40:02  19.75       19.09  6.19   \n",
       "21  43.949249  4.805901  2025-04-23 10:40:03  19.67       19.02  6.14   \n",
       "18  43.214036  5.539632  2025-04-23 10:40:02  19.58       18.90  6.29   \n",
       "\n",
       "    humidity  wind_speed description  \n",
       "34      53.0        3.53   clear sky  \n",
       "23      37.0        4.63   clear sky  \n",
       "19      50.0        7.20   clear sky  \n",
       "21      51.0        6.17   clear sky  \n",
       "18      50.0        9.08   clear sky  "
      ]
     },
     "execution_count": 36,
     "metadata": {},
     "output_type": "execute_result"
    }
   ],
   "source": [
    "best_weather_df"
   ]
  },
  {
   "cell_type": "markdown",
   "metadata": {},
   "source": [
    "## Test des selecteurs"
   ]
  },
  {
   "cell_type": "code",
   "execution_count": 63,
   "metadata": {},
   "outputs": [],
   "source": [
    "best_cities_list=[\n",
    "    'Gorges du Verdon',\n",
    "    'Nimes',\n",
    "    'Marseille',\n",
    "    'Avignon',\n",
    "    'Cassis'\n",
    "]"
   ]
  },
  {
   "cell_type": "code",
   "execution_count": 64,
   "metadata": {},
   "outputs": [
    {
     "data": {
      "text/plain": [
       "['https://www.booking.com/searchresults.html?ss=Gorges%20du%20Verdon',\n",
       " 'https://www.booking.com/searchresults.html?ss=Nimes',\n",
       " 'https://www.booking.com/searchresults.html?ss=Marseille',\n",
       " 'https://www.booking.com/searchresults.html?ss=Avignon',\n",
       " 'https://www.booking.com/searchresults.html?ss=Cassis']"
      ]
     },
     "execution_count": 64,
     "metadata": {},
     "output_type": "execute_result"
    }
   ],
   "source": [
    "import urllib.parse\n",
    "urls= ['https://www.booking.com/searchresults.html?ss=' + urllib.parse.quote(city) for city in best_cities_list]\n",
    "urls"
   ]
  },
  {
   "cell_type": "code",
   "execution_count": 37,
   "metadata": {},
   "outputs": [],
   "source": [
    "headers = {\n",
    "    'User-Agent': 'Mozilla/5.0 (Windows NT 10.0; Win64; x64) AppleWebKit/537.36 (KHTML, like Gecko) Chrome/58.0.3029.110 Safari/537.3'\n",
    "}\n",
    "\n",
    "url_gdv = \"https://www.booking.com/searchresults.fr.html?ss=Gorges+du+Verdon&ssne=Gorges+du+Verdon&ssne_untouched=Gorges+du+Verdon&label=gen173nr-1BCAEoggI46AdIM1gEaE2IAQGYAQ24ARfIAQ_YAQHoAQGIAgGoAgO4ApGKo8AGwAIB0gIkN2ViMDZiMzEtODE3Yy00ODM4LTllODctZTNjZGIwY2VlMGQy2AIF4AIB&sid=b10d6df758b0e059011bf7be0724e09f&aid=304142&lang=fr&sb=1&src_elem=sb&src=index&dest_id=2746&dest_type=region&checkin=2025-04-23&checkout=2025-04-24&group_adults=2&no_rooms=1&group_children=0\"\n",
    "url = url_gdv\n",
    "r = requests.get(url, headers=headers)\n",
    "\n",
    "response = Selector(text=r.text)"
   ]
  },
  {
   "cell_type": "code",
   "execution_count": 38,
   "metadata": {},
   "outputs": [
    {
     "data": {
      "text/plain": [
       "<Response [200]>"
      ]
     },
     "execution_count": 38,
     "metadata": {},
     "output_type": "execute_result"
    }
   ],
   "source": [
    "r"
   ]
  },
  {
   "cell_type": "code",
   "execution_count": 40,
   "metadata": {},
   "outputs": [
    {
     "data": {
      "text/plain": [
       "['Auberge de Baudinard sur Verdon',\n",
       " 'La Ferme Rose-Hôtel de Charme',\n",
       " 'Hôtel Le Colombier',\n",
       " 'Les Canyons du Verdon',\n",
       " 'Gabrielle hôtel',\n",
       " 'Camping La Ferme de Castellane',\n",
       " 'Lou Paradou',\n",
       " 'Camping Les Framboiseilles',\n",
       " 'Camping Arbre de Vie',\n",
       " 'Villa Borghese, The Originals Relais',\n",
       " \"Hôtel Spa L'Ermitage\",\n",
       " 'Auberge des Salles',\n",
       " 'Studi-Hôtel Résidence Plein Voile',\n",
       " 'Mymoustiers',\n",
       " 'Gorges du Verdon - Lac Sainte-Croix',\n",
       " 'Domaine de Majastre',\n",
       " 'Loft avec mezzanine',\n",
       " '\" LE CHABASSOLE \" CHAMBRES D\\'HÔTES - GORGES du VERDON',\n",
       " 'Le Bosquet',\n",
       " 'sous les arbres',\n",
       " 'Hôtel le Panoramic - Votre Hôtel au cœur des Gorges du Verdon',\n",
       " 'Hôtel La Bonne Auberge',\n",
       " 'Le Chemin Neuf',\n",
       " 'Le Chardon 2',\n",
       " 'Ma Petite Auberge']"
      ]
     },
     "execution_count": 40,
     "metadata": {},
     "output_type": "execute_result"
    }
   ],
   "source": [
    "hotel_name=response.css(\"div.f6431b446c.a15b38c233 ::text\").getall()\n",
    "hotel_name"
   ]
  },
  {
   "cell_type": "code",
   "execution_count": 41,
   "metadata": {},
   "outputs": [
    {
     "data": {
      "text/plain": [
       "['https://www.booking.com/hotel/fr/auberge-de-baudinard.fr.html?label=gen173nr-1BCAEoggI46AdIM1gEaE2IAQGYAQ24ARfIAQ_YAQHoAQGIAgGoAgO4ApGKo8AGwAIB0gIkN2ViMDZiMzEtODE3Yy00ODM4LTllODctZTNjZGIwY2VlMGQy2AIF4AIB&sid=b10d6df758b0e059011bf7be0724e09f&aid=304142&ucfs=1&arphpl=1&checkin=2025-04-23&checkout=2025-04-24&dest_id=2746&dest_type=region&group_adults=2&req_adults=2&no_rooms=1&group_children=0&req_children=0&hpos=1&hapos=1&sr_order=popularity&srpvid=5dde4bf9963a18d9&srepoch=1745405301&all_sr_blocks=41142901_170013382_2_34_0&highlighted_blocks=41142901_170013382_2_34_0&matching_block_id=41142901_170013382_2_34_0&sr_pri_blocks=41142901_170013382_2_34_0__10560&from=searchresults',\n",
       " 'https://www.booking.com/hotel/fr/la-ferme-rose.fr.html?label=gen173nr-1BCAEoggI46AdIM1gEaE2IAQGYAQ24ARfIAQ_YAQHoAQGIAgGoAgO4ApGKo8AGwAIB0gIkN2ViMDZiMzEtODE3Yy00ODM4LTllODctZTNjZGIwY2VlMGQy2AIF4AIB&sid=b10d6df758b0e059011bf7be0724e09f&aid=304142&ucfs=1&arphpl=1&checkin=2025-04-23&checkout=2025-04-24&dest_id=2746&dest_type=region&group_adults=2&req_adults=2&no_rooms=1&group_children=0&req_children=0&hpos=2&hapos=2&sr_order=popularity&srpvid=5dde4bf9963a18d9&srepoch=1745405301&all_sr_blocks=34384102_387429407_0_2_0&highlighted_blocks=34384102_387429407_0_2_0&matching_block_id=34384102_387429407_0_2_0&sr_pri_blocks=34384102_387429407_0_2_0__12390&from=searchresults',\n",
       " 'https://www.booking.com/hotel/fr/le-colombier-moustiers-sainte-marie.fr.html?label=gen173nr-1BCAEoggI46AdIM1gEaE2IAQGYAQ24ARfIAQ_YAQHoAQGIAgGoAgO4ApGKo8AGwAIB0gIkN2ViMDZiMzEtODE3Yy00ODM4LTllODctZTNjZGIwY2VlMGQy2AIF4AIB&sid=b10d6df758b0e059011bf7be0724e09f&aid=304142&ucfs=1&arphpl=1&checkin=2025-04-23&checkout=2025-04-24&dest_id=2746&dest_type=region&group_adults=2&req_adults=2&no_rooms=1&group_children=0&req_children=0&hpos=3&hapos=3&sr_order=popularity&srpvid=5dde4bf9963a18d9&srepoch=1745405301&all_sr_blocks=28915217_376876640_2_2_0&highlighted_blocks=28915217_376876640_2_2_0&matching_block_id=28915217_376876640_2_2_0&sr_pri_blocks=28915217_376876640_2_2_0__14630&from=searchresults',\n",
       " 'https://www.booking.com/hotel/fr/les-canyons-du-verdon.fr.html?label=gen173nr-1BCAEoggI46AdIM1gEaE2IAQGYAQ24ARfIAQ_YAQHoAQGIAgGoAgO4ApGKo8AGwAIB0gIkN2ViMDZiMzEtODE3Yy00ODM4LTllODctZTNjZGIwY2VlMGQy2AIF4AIB&sid=b10d6df758b0e059011bf7be0724e09f&aid=304142&ucfs=1&arphpl=1&checkin=2025-04-23&checkout=2025-04-24&dest_id=2746&dest_type=region&group_adults=2&req_adults=2&no_rooms=1&group_children=0&req_children=0&hpos=4&hapos=4&sr_order=popularity&srpvid=5dde4bf9963a18d9&srepoch=1745405301&all_sr_blocks=41042005_372132471_0_2_0&highlighted_blocks=41042005_372132471_0_2_0&matching_block_id=41042005_372132471_0_2_0&sr_pri_blocks=41042005_372132471_0_2_0__7800&from=searchresults',\n",
       " 'https://www.booking.com/hotel/fr/logis-altitude-823.fr.html?label=gen173nr-1BCAEoggI46AdIM1gEaE2IAQGYAQ24ARfIAQ_YAQHoAQGIAgGoAgO4ApGKo8AGwAIB0gIkN2ViMDZiMzEtODE3Yy00ODM4LTllODctZTNjZGIwY2VlMGQy2AIF4AIB&sid=b10d6df758b0e059011bf7be0724e09f&aid=304142&ucfs=1&arphpl=1&checkin=2025-04-23&checkout=2025-04-24&dest_id=2746&dest_type=region&group_adults=2&req_adults=2&no_rooms=1&group_children=0&req_children=0&hpos=5&hapos=5&sr_order=popularity&srpvid=5dde4bf9963a18d9&srepoch=1745405301&all_sr_blocks=23781014_359883128_2_34_0&highlighted_blocks=23781014_359883128_2_34_0&matching_block_id=23781014_359883128_2_34_0&sr_pri_blocks=23781014_359883128_2_34_0__9450&from=searchresults',\n",
       " 'https://www.booking.com/hotel/fr/camping-la-ferme-de-castellane.fr.html?label=gen173nr-1BCAEoggI46AdIM1gEaE2IAQGYAQ24ARfIAQ_YAQHoAQGIAgGoAgO4ApGKo8AGwAIB0gIkN2ViMDZiMzEtODE3Yy00ODM4LTllODctZTNjZGIwY2VlMGQy2AIF4AIB&sid=b10d6df758b0e059011bf7be0724e09f&aid=304142&ucfs=1&arphpl=1&checkin=2025-04-23&checkout=2025-04-24&dest_id=2746&dest_type=region&group_adults=2&req_adults=2&no_rooms=1&group_children=0&req_children=0&hpos=6&hapos=6&sr_order=popularity&srpvid=5dde4bf9963a18d9&srepoch=1745405301&all_sr_blocks=35326514_298395841_0_0_0&highlighted_blocks=35326514_298395841_0_0_0&matching_block_id=35326514_298395841_0_0_0&sr_pri_blocks=35326514_298395841_0_0_0__5132&from=searchresults',\n",
       " 'https://www.booking.com/hotel/fr/hotellouparadou.fr.html?label=gen173nr-1BCAEoggI46AdIM1gEaE2IAQGYAQ24ARfIAQ_YAQHoAQGIAgGoAgO4ApGKo8AGwAIB0gIkN2ViMDZiMzEtODE3Yy00ODM4LTllODctZTNjZGIwY2VlMGQy2AIF4AIB&sid=b10d6df758b0e059011bf7be0724e09f&aid=304142&ucfs=1&arphpl=1&checkin=2025-04-23&checkout=2025-04-24&dest_id=2746&dest_type=region&group_adults=2&req_adults=2&no_rooms=1&group_children=0&req_children=0&hpos=7&hapos=7&sr_order=popularity&srpvid=5dde4bf9963a18d9&srepoch=1745405301&all_sr_blocks=13655_195943888_0_1_0&highlighted_blocks=13655_195943888_0_1_0&matching_block_id=13655_195943888_0_1_0&sr_pri_blocks=13655_195943888_0_1_0__11788&from=searchresults',\n",
       " 'https://www.booking.com/hotel/fr/les-framboiseilles.fr.html?label=gen173nr-1BCAEoggI46AdIM1gEaE2IAQGYAQ24ARfIAQ_YAQHoAQGIAgGoAgO4ApGKo8AGwAIB0gIkN2ViMDZiMzEtODE3Yy00ODM4LTllODctZTNjZGIwY2VlMGQy2AIF4AIB&sid=b10d6df758b0e059011bf7be0724e09f&aid=304142&ucfs=1&arphpl=1&checkin=2025-04-23&checkout=2025-04-24&dest_id=2746&dest_type=region&group_adults=2&req_adults=2&no_rooms=1&group_children=0&req_children=0&hpos=8&hapos=8&sr_order=popularity&srpvid=5dde4bf9963a18d9&srepoch=1745405301&all_sr_blocks=58118215_400874007_4_0_0_627455&highlighted_blocks=58118215_400874007_4_0_0_627455&matching_block_id=58118215_400874007_4_0_0_627455&sr_pri_blocks=58118215_400874007_4_0_0_627455_12472&from=searchresults',\n",
       " 'https://www.booking.com/hotel/fr/camping-arbre-de-vie.fr.html?label=gen173nr-1BCAEoggI46AdIM1gEaE2IAQGYAQ24ARfIAQ_YAQHoAQGIAgGoAgO4ApGKo8AGwAIB0gIkN2ViMDZiMzEtODE3Yy00ODM4LTllODctZTNjZGIwY2VlMGQy2AIF4AIB&sid=b10d6df758b0e059011bf7be0724e09f&aid=304142&ucfs=1&arphpl=1&checkin=2025-04-23&checkout=2025-04-24&dest_id=2746&dest_type=region&group_adults=2&req_adults=2&no_rooms=1&group_children=0&req_children=0&hpos=9&hapos=9&sr_order=popularity&srpvid=5dde4bf9963a18d9&srepoch=1745405301&all_sr_blocks=483885003_372682112_2_34_0&highlighted_blocks=483885003_372682112_2_34_0&matching_block_id=483885003_372682112_2_34_0&sr_pri_blocks=483885003_372682112_2_34_0__6388&from=searchresults',\n",
       " 'https://www.booking.com/hotel/fr/villa-borghese.fr.html?label=gen173nr-1BCAEoggI46AdIM1gEaE2IAQGYAQ24ARfIAQ_YAQHoAQGIAgGoAgO4ApGKo8AGwAIB0gIkN2ViMDZiMzEtODE3Yy00ODM4LTllODctZTNjZGIwY2VlMGQy2AIF4AIB&sid=b10d6df758b0e059011bf7be0724e09f&aid=304142&ucfs=1&arphpl=1&checkin=2025-04-23&checkout=2025-04-24&dest_id=2746&dest_type=region&group_adults=2&req_adults=2&no_rooms=1&group_children=0&req_children=0&hpos=10&hapos=10&sr_order=popularity&srpvid=5dde4bf9963a18d9&srepoch=1745405301&all_sr_blocks=67371_408377603_2_42_0&highlighted_blocks=67371_408377603_2_42_0&matching_block_id=67371_408377603_2_42_0&sr_pri_blocks=67371_408377603_2_42_0__12540&from=searchresults',\n",
       " 'https://www.booking.com/hotel/fr/ha-tel-l-ermitage.fr.html?label=gen173nr-1BCAEoggI46AdIM1gEaE2IAQGYAQ24ARfIAQ_YAQHoAQGIAgGoAgO4ApGKo8AGwAIB0gIkN2ViMDZiMzEtODE3Yy00ODM4LTllODctZTNjZGIwY2VlMGQy2AIF4AIB&sid=b10d6df758b0e059011bf7be0724e09f&aid=304142&ucfs=1&arphpl=1&checkin=2025-04-23&checkout=2025-04-24&dest_id=2746&dest_type=region&group_adults=2&req_adults=2&no_rooms=1&group_children=0&req_children=0&hpos=11&hapos=11&sr_order=popularity&srpvid=5dde4bf9963a18d9&srepoch=1745405301&all_sr_blocks=44665701_388226770_0_2_0&highlighted_blocks=44665701_388226770_0_2_0&matching_block_id=44665701_388226770_0_2_0&sr_pri_blocks=44665701_388226770_0_2_0__9432&from=searchresults',\n",
       " 'https://www.booking.com/hotel/fr/auberge-des-salles.fr.html?label=gen173nr-1BCAEoggI46AdIM1gEaE2IAQGYAQ24ARfIAQ_YAQHoAQGIAgGoAgO4ApGKo8AGwAIB0gIkN2ViMDZiMzEtODE3Yy00ODM4LTllODctZTNjZGIwY2VlMGQy2AIF4AIB&sid=b10d6df758b0e059011bf7be0724e09f&aid=304142&ucfs=1&arphpl=1&checkin=2025-04-23&checkout=2025-04-24&dest_id=2746&dest_type=region&group_adults=2&req_adults=2&no_rooms=1&group_children=0&req_children=0&hpos=12&hapos=12&sr_order=popularity&srpvid=5dde4bf9963a18d9&srepoch=1745405301&all_sr_blocks=55477702_354698393_0_2_0&highlighted_blocks=55477702_354698393_0_2_0&matching_block_id=55477702_354698393_0_2_0&sr_pri_blocks=55477702_354698393_0_2_0__11560&from=searchresults',\n",
       " 'https://www.booking.com/hotel/fr/studi-ha-tel-ra-c-sidence-plein-voile.fr.html?label=gen173nr-1BCAEoggI46AdIM1gEaE2IAQGYAQ24ARfIAQ_YAQHoAQGIAgGoAgO4ApGKo8AGwAIB0gIkN2ViMDZiMzEtODE3Yy00ODM4LTllODctZTNjZGIwY2VlMGQy2AIF4AIB&sid=b10d6df758b0e059011bf7be0724e09f&aid=304142&ucfs=1&arphpl=1&checkin=2025-04-23&checkout=2025-04-24&dest_id=2746&dest_type=region&group_adults=2&req_adults=2&no_rooms=1&group_children=0&req_children=0&hpos=13&hapos=13&sr_order=popularity&srpvid=5dde4bf9963a18d9&srepoch=1745405301&all_sr_blocks=43352401_400211608_2_2_0&highlighted_blocks=43352401_400211608_2_2_0&matching_block_id=43352401_400211608_2_2_0&sr_pri_blocks=43352401_400211608_2_2_0__7300&from=searchresults',\n",
       " 'https://www.booking.com/hotel/fr/angouire-gite-quot-la-bergerie-quot.fr.html?label=gen173nr-1BCAEoggI46AdIM1gEaE2IAQGYAQ24ARfIAQ_YAQHoAQGIAgGoAgO4ApGKo8AGwAIB0gIkN2ViMDZiMzEtODE3Yy00ODM4LTllODctZTNjZGIwY2VlMGQy2AIF4AIB&sid=b10d6df758b0e059011bf7be0724e09f&aid=304142&ucfs=1&arphpl=1&checkin=2025-04-23&checkout=2025-04-24&dest_id=2746&dest_type=region&group_adults=2&req_adults=2&no_rooms=1&group_children=0&req_children=0&hpos=14&hapos=14&sr_order=popularity&srpvid=5dde4bf9963a18d9&srepoch=1745405301&all_sr_blocks=100238302_374392067_0_2_0&highlighted_blocks=100238302_374392067_0_2_0&matching_block_id=100238302_374392067_0_2_0&sr_pri_blocks=100238302_374392067_0_2_0__14400&from=searchresults',\n",
       " 'https://www.booking.com/hotel/fr/the-loft-at-the-tree-of-life.fr.html?label=gen173nr-1BCAEoggI46AdIM1gEaE2IAQGYAQ24ARfIAQ_YAQHoAQGIAgGoAgO4ApGKo8AGwAIB0gIkN2ViMDZiMzEtODE3Yy00ODM4LTllODctZTNjZGIwY2VlMGQy2AIF4AIB&sid=b10d6df758b0e059011bf7be0724e09f&aid=304142&ucfs=1&arphpl=1&checkin=2025-04-23&checkout=2025-04-24&dest_id=2746&dest_type=region&group_adults=2&req_adults=2&no_rooms=1&group_children=0&req_children=0&hpos=15&hapos=15&sr_order=popularity&srpvid=5dde4bf9963a18d9&srepoch=1745405301&all_sr_blocks=174979602_372682077_4_42_0&highlighted_blocks=174979602_372682077_4_42_0&matching_block_id=174979602_372682077_4_42_0&sr_pri_blocks=174979602_372682077_4_42_0__11530&from=searchresults',\n",
       " 'https://www.booking.com/hotel/fr/domaine-de-majastre.fr.html?label=gen173nr-1BCAEoggI46AdIM1gEaE2IAQGYAQ24ARfIAQ_YAQHoAQGIAgGoAgO4ApGKo8AGwAIB0gIkN2ViMDZiMzEtODE3Yy00ODM4LTllODctZTNjZGIwY2VlMGQy2AIF4AIB&sid=b10d6df758b0e059011bf7be0724e09f&aid=304142&ucfs=1&arphpl=1&checkin=2025-04-23&checkout=2025-04-24&dest_id=2746&dest_type=region&group_adults=2&req_adults=2&no_rooms=1&group_children=0&req_children=0&hpos=16&hapos=16&sr_order=popularity&srpvid=5dde4bf9963a18d9&srepoch=1745405301&all_sr_blocks=42209303_375931580_0_1_0&highlighted_blocks=42209303_375931580_0_1_0&matching_block_id=42209303_375931580_0_1_0&sr_pri_blocks=42209303_375931580_0_1_0__16006&from=searchresults',\n",
       " 'https://www.booking.com/hotel/fr/loft-avec-mezzanine.fr.html?label=gen173nr-1BCAEoggI46AdIM1gEaE2IAQGYAQ24ARfIAQ_YAQHoAQGIAgGoAgO4ApGKo8AGwAIB0gIkN2ViMDZiMzEtODE3Yy00ODM4LTllODctZTNjZGIwY2VlMGQy2AIF4AIB&sid=b10d6df758b0e059011bf7be0724e09f&aid=304142&ucfs=1&arphpl=1&checkin=2025-04-23&checkout=2025-04-24&dest_id=2746&dest_type=region&group_adults=2&req_adults=2&no_rooms=1&group_children=0&req_children=0&hpos=17&hapos=17&sr_order=popularity&srpvid=5dde4bf9963a18d9&srepoch=1745405301&all_sr_blocks=806410701_372682087_5_34_0&highlighted_blocks=806410701_372682087_5_34_0&matching_block_id=806410701_372682087_5_34_0&sr_pri_blocks=806410701_372682087_5_34_0__12530&from=searchresults',\n",
       " 'https://www.booking.com/hotel/fr/le-chabassole.fr.html?label=gen173nr-1BCAEoggI46AdIM1gEaE2IAQGYAQ24ARfIAQ_YAQHoAQGIAgGoAgO4ApGKo8AGwAIB0gIkN2ViMDZiMzEtODE3Yy00ODM4LTllODctZTNjZGIwY2VlMGQy2AIF4AIB&sid=b10d6df758b0e059011bf7be0724e09f&aid=304142&ucfs=1&arphpl=1&checkin=2025-04-23&checkout=2025-04-24&dest_id=2746&dest_type=region&group_adults=2&req_adults=2&no_rooms=1&group_children=0&req_children=0&hpos=18&hapos=18&sr_order=popularity&srpvid=5dde4bf9963a18d9&srepoch=1745405301&all_sr_blocks=90770404_373568405_2_1_0_224723&highlighted_blocks=90770404_373568405_2_1_0_224723&matching_block_id=90770404_373568405_2_1_0_224723&sr_pri_blocks=90770404_373568405_2_1_0_224723_11230&from=searchresults',\n",
       " 'https://www.booking.com/hotel/fr/le-bosquet-aiguines.fr.html?label=gen173nr-1BCAEoggI46AdIM1gEaE2IAQGYAQ24ARfIAQ_YAQHoAQGIAgGoAgO4ApGKo8AGwAIB0gIkN2ViMDZiMzEtODE3Yy00ODM4LTllODctZTNjZGIwY2VlMGQy2AIF4AIB&sid=b10d6df758b0e059011bf7be0724e09f&aid=304142&ucfs=1&arphpl=1&checkin=2025-04-23&checkout=2025-04-24&dest_id=2746&dest_type=region&group_adults=2&req_adults=2&no_rooms=1&group_children=0&req_children=0&hpos=19&hapos=19&sr_order=popularity&srpvid=5dde4bf9963a18d9&srepoch=1745405301&all_sr_blocks=58034712_407447603_2_1_0&highlighted_blocks=58034712_407447603_2_1_0&matching_block_id=58034712_407447603_2_1_0&sr_pri_blocks=58034712_407447603_2_1_0__10260&from=searchresults',\n",
       " 'https://www.booking.com/hotel/fr/sous-les-arbres-la-palud-sur-verdon1.fr.html?label=gen173nr-1BCAEoggI46AdIM1gEaE2IAQGYAQ24ARfIAQ_YAQHoAQGIAgGoAgO4ApGKo8AGwAIB0gIkN2ViMDZiMzEtODE3Yy00ODM4LTllODctZTNjZGIwY2VlMGQy2AIF4AIB&sid=b10d6df758b0e059011bf7be0724e09f&aid=304142&ucfs=1&arphpl=1&checkin=2025-04-23&checkout=2025-04-24&dest_id=2746&dest_type=region&group_adults=2&req_adults=2&no_rooms=1&group_children=0&req_children=0&hpos=20&hapos=20&sr_order=popularity&srpvid=5dde4bf9963a18d9&srepoch=1745405301&all_sr_blocks=1154054501_388185512_2_0_0&highlighted_blocks=1154054501_388185512_2_0_0&matching_block_id=1154054501_388185512_2_0_0&sr_pri_blocks=1154054501_388185512_2_0_0__6300&from=searchresults',\n",
       " 'https://www.booking.com/hotel/fr/le-panoramic-la-palud.fr.html?label=gen173nr-1BCAEoggI46AdIM1gEaE2IAQGYAQ24ARfIAQ_YAQHoAQGIAgGoAgO4ApGKo8AGwAIB0gIkN2ViMDZiMzEtODE3Yy00ODM4LTllODctZTNjZGIwY2VlMGQy2AIF4AIB&sid=b10d6df758b0e059011bf7be0724e09f&aid=304142&ucfs=1&arphpl=1&checkin=2025-04-23&checkout=2025-04-24&dest_id=2746&dest_type=region&group_adults=2&req_adults=2&no_rooms=1&group_children=0&req_children=0&hpos=21&hapos=21&sr_order=popularity&srpvid=5dde4bf9963a18d9&srepoch=1745405301&all_sr_blocks=135143001_228459713_2_1_0_350104&highlighted_blocks=135143001_228459713_2_1_0_350104&matching_block_id=135143001_228459713_2_1_0_350104&sr_pri_blocks=135143001_228459713_2_1_0_350104_13612&from=searchresults',\n",
       " 'https://www.booking.com/hotel/fr/ha-tel-la-bonne-etape.fr.html?label=gen173nr-1BCAEoggI46AdIM1gEaE2IAQGYAQ24ARfIAQ_YAQHoAQGIAgGoAgO4ApGKo8AGwAIB0gIkN2ViMDZiMzEtODE3Yy00ODM4LTllODctZTNjZGIwY2VlMGQy2AIF4AIB&sid=b10d6df758b0e059011bf7be0724e09f&aid=304142&ucfs=1&arphpl=1&checkin=2025-04-23&checkout=2025-04-24&dest_id=2746&dest_type=region&group_adults=2&req_adults=2&no_rooms=1&group_children=0&req_children=0&hpos=22&hapos=22&sr_order=popularity&srpvid=5dde4bf9963a18d9&srepoch=1745405301&all_sr_blocks=37256002_382116484_0_34_0&highlighted_blocks=37256002_382116484_0_34_0&matching_block_id=37256002_382116484_0_34_0&sr_pri_blocks=37256002_382116484_0_34_0__10700&from=searchresults',\n",
       " 'https://www.booking.com/hotel/fr/le-chemin-neuf-greoux-les-bains.fr.html?label=gen173nr-1BCAEoggI46AdIM1gEaE2IAQGYAQ24ARfIAQ_YAQHoAQGIAgGoAgO4ApGKo8AGwAIB0gIkN2ViMDZiMzEtODE3Yy00ODM4LTllODctZTNjZGIwY2VlMGQy2AIF4AIB&sid=b10d6df758b0e059011bf7be0724e09f&aid=304142&ucfs=1&arphpl=1&checkin=2025-04-23&checkout=2025-04-24&dest_id=2746&dest_type=region&group_adults=2&req_adults=2&no_rooms=1&group_children=0&req_children=0&hpos=23&hapos=23&sr_order=popularity&srpvid=5dde4bf9963a18d9&srepoch=1745405301&all_sr_blocks=183745104_411361886_2_0_0&highlighted_blocks=183745104_411361886_2_0_0&matching_block_id=183745104_411361886_2_0_0&sr_pri_blocks=183745104_411361886_2_0_0__6154&from=searchresults',\n",
       " 'https://www.booking.com/hotel/fr/le-chardon-2.fr.html?label=gen173nr-1BCAEoggI46AdIM1gEaE2IAQGYAQ24ARfIAQ_YAQHoAQGIAgGoAgO4ApGKo8AGwAIB0gIkN2ViMDZiMzEtODE3Yy00ODM4LTllODctZTNjZGIwY2VlMGQy2AIF4AIB&sid=b10d6df758b0e059011bf7be0724e09f&aid=304142&ucfs=1&arphpl=1&checkin=2025-04-23&checkout=2025-04-24&dest_id=2746&dest_type=region&group_adults=2&req_adults=2&no_rooms=1&group_children=0&req_children=0&hpos=24&hapos=24&sr_order=popularity&srpvid=5dde4bf9963a18d9&srepoch=1745405301&all_sr_blocks=349040301_368987873_2_0_0&highlighted_blocks=349040301_368987873_2_0_0&matching_block_id=349040301_368987873_2_0_0&sr_pri_blocks=349040301_368987873_2_0_0__7480&from=searchresults',\n",
       " 'https://www.booking.com/hotel/fr/ma-petite-auberge.fr.html?label=gen173nr-1BCAEoggI46AdIM1gEaE2IAQGYAQ24ARfIAQ_YAQHoAQGIAgGoAgO4ApGKo8AGwAIB0gIkN2ViMDZiMzEtODE3Yy00ODM4LTllODctZTNjZGIwY2VlMGQy2AIF4AIB&sid=b10d6df758b0e059011bf7be0724e09f&aid=304142&ucfs=1&arphpl=1&checkin=2025-04-23&checkout=2025-04-24&dest_id=2746&dest_type=region&group_adults=2&req_adults=2&no_rooms=1&group_children=0&req_children=0&hpos=25&hapos=25&sr_order=popularity&srpvid=5dde4bf9963a18d9&srepoch=1745405301&all_sr_blocks=43279206_336152591_2_2_0&highlighted_blocks=43279206_336152591_2_2_0&matching_block_id=43279206_336152591_2_2_0&sr_pri_blocks=43279206_336152591_2_2_0__7054&from=searchresults']"
      ]
     },
     "execution_count": 41,
     "metadata": {},
     "output_type": "execute_result"
    }
   ],
   "source": [
    "hotel_url = response.css(\"a.a78ca197d0 ::attr(href)\").getall()\n",
    "hotel_url"
   ]
  },
  {
   "cell_type": "code",
   "execution_count": 45,
   "metadata": {},
   "outputs": [
    {
     "data": {
      "text/plain": [
       "['Avec une note de 8,5',\n",
       " '8,5',\n",
       " 'Avec une note de 9,3',\n",
       " '9,3',\n",
       " 'Avec une note de 9,2',\n",
       " '9,2',\n",
       " 'Avec une note de 7,8',\n",
       " '7,8',\n",
       " 'Avec une note de 7,7',\n",
       " '7,7',\n",
       " 'Avec une note de 9,0',\n",
       " '9,0',\n",
       " 'Avec une note de 8,8',\n",
       " '8,8',\n",
       " 'Avec une note de 8,9',\n",
       " '8,9',\n",
       " 'Avec une note de 8,5',\n",
       " '8,5',\n",
       " 'Avec une note de 7,4',\n",
       " '7,4',\n",
       " 'Avec une note de 7,9',\n",
       " '7,9',\n",
       " 'Avec une note de 8,5',\n",
       " '8,5',\n",
       " 'Avec une note de 7,8',\n",
       " '7,8',\n",
       " 'Avec une note de 8,0',\n",
       " '8,0',\n",
       " 'Avec une note de 7,9',\n",
       " '7,9',\n",
       " 'Avec une note de 7,9',\n",
       " '7,9',\n",
       " 'Avec une note de 8,4',\n",
       " '8,4',\n",
       " 'Avec une note de 9,2',\n",
       " '9,2',\n",
       " 'Avec une note de 8,7',\n",
       " '8,7',\n",
       " 'Avec une note de 7,6',\n",
       " '7,6',\n",
       " 'Avec une note de 8,5',\n",
       " '8,5',\n",
       " 'Avec une note de 8,2',\n",
       " '8,2',\n",
       " 'Avec une note de 7,7',\n",
       " '7,7',\n",
       " 'Avec une note de 9,2',\n",
       " '9,2',\n",
       " 'Avec une note de 8,2',\n",
       " '8,2']"
      ]
     },
     "execution_count": 45,
     "metadata": {},
     "output_type": "execute_result"
    }
   ],
   "source": [
    "hotel_ratting= response.css('div.a3b8729ab1.d86cee9b25 ::text').getall()\n",
    "#hotel_ratting= response.css('div.ac4a7896c7 ::text').getall()\n",
    "hotel_ratting"
   ]
  },
  {
   "cell_type": "code",
   "execution_count": 48,
   "metadata": {},
   "outputs": [
    {
     "data": {
      "text/plain": [
       "['8,5',\n",
       " '9,3',\n",
       " '9,2',\n",
       " '7,8',\n",
       " '7,7',\n",
       " '9,0',\n",
       " '8,8',\n",
       " '8,9',\n",
       " '8,5',\n",
       " '7,4',\n",
       " '7,9',\n",
       " '8,5',\n",
       " '7,8',\n",
       " '8,0',\n",
       " '7,9',\n",
       " '7,9',\n",
       " '8,4',\n",
       " '9,2',\n",
       " '8,7',\n",
       " '7,6',\n",
       " '8,5',\n",
       " '8,2',\n",
       " '7,7',\n",
       " '9,2',\n",
       " '8,2']"
      ]
     },
     "execution_count": 48,
     "metadata": {},
     "output_type": "execute_result"
    }
   ],
   "source": [
    "hotel_ratting = [rating for rating in response.css('div.a3b8729ab1.d86cee9b25 ::text').getall() if \"Avec une note de \" not in rating]\n",
    "hotel_ratting"
   ]
  },
  {
   "cell_type": "code",
   "execution_count": null,
   "metadata": {},
   "outputs": [],
   "source": [
    "description = response.css(\" :: \").getall()\n"
   ]
  },
  {
   "cell_type": "code",
   "execution_count": 52,
   "metadata": {},
   "outputs": [
    {
     "data": {
      "text/plain": [
       "25"
      ]
     },
     "execution_count": 52,
     "metadata": {},
     "output_type": "execute_result"
    }
   ],
   "source": [
    "len(hotel_url)"
   ]
  },
  {
   "cell_type": "code",
   "execution_count": null,
   "metadata": {},
   "outputs": [
    {
     "data": {
      "text/html": [
       "<div>\n",
       "<style scoped>\n",
       "    .dataframe tbody tr th:only-of-type {\n",
       "        vertical-align: middle;\n",
       "    }\n",
       "\n",
       "    .dataframe tbody tr th {\n",
       "        vertical-align: top;\n",
       "    }\n",
       "\n",
       "    .dataframe thead th {\n",
       "        text-align: right;\n",
       "    }\n",
       "</style>\n",
       "<table border=\"1\" class=\"dataframe\">\n",
       "  <thead>\n",
       "    <tr style=\"text-align: right;\">\n",
       "      <th></th>\n",
       "      <th>index</th>\n",
       "      <th>hotel_name</th>\n",
       "      <th>ratting</th>\n",
       "    </tr>\n",
       "  </thead>\n",
       "  <tbody>\n",
       "    <tr>\n",
       "      <th>0</th>\n",
       "      <td>0.0</td>\n",
       "      <td>NaN</td>\n",
       "      <td>NaN</td>\n",
       "    </tr>\n",
       "    <tr>\n",
       "      <th>1</th>\n",
       "      <td>1.0</td>\n",
       "      <td>NaN</td>\n",
       "      <td>NaN</td>\n",
       "    </tr>\n",
       "    <tr>\n",
       "      <th>2</th>\n",
       "      <td>2.0</td>\n",
       "      <td>NaN</td>\n",
       "      <td>NaN</td>\n",
       "    </tr>\n",
       "    <tr>\n",
       "      <th>3</th>\n",
       "      <td>3.0</td>\n",
       "      <td>NaN</td>\n",
       "      <td>NaN</td>\n",
       "    </tr>\n",
       "    <tr>\n",
       "      <th>4</th>\n",
       "      <td>4.0</td>\n",
       "      <td>NaN</td>\n",
       "      <td>NaN</td>\n",
       "    </tr>\n",
       "    <tr>\n",
       "      <th>...</th>\n",
       "      <td>...</td>\n",
       "      <td>...</td>\n",
       "      <td>...</td>\n",
       "    </tr>\n",
       "    <tr>\n",
       "      <th>95</th>\n",
       "      <td>95.0</td>\n",
       "      <td>NaN</td>\n",
       "      <td>NaN</td>\n",
       "    </tr>\n",
       "    <tr>\n",
       "      <th>96</th>\n",
       "      <td>96.0</td>\n",
       "      <td>NaN</td>\n",
       "      <td>NaN</td>\n",
       "    </tr>\n",
       "    <tr>\n",
       "      <th>97</th>\n",
       "      <td>97.0</td>\n",
       "      <td>NaN</td>\n",
       "      <td>NaN</td>\n",
       "    </tr>\n",
       "    <tr>\n",
       "      <th>98</th>\n",
       "      <td>98.0</td>\n",
       "      <td>NaN</td>\n",
       "      <td>NaN</td>\n",
       "    </tr>\n",
       "    <tr>\n",
       "      <th>99</th>\n",
       "      <td>99.0</td>\n",
       "      <td>NaN</td>\n",
       "      <td>NaN</td>\n",
       "    </tr>\n",
       "  </tbody>\n",
       "</table>\n",
       "<p>100 rows × 3 columns</p>\n",
       "</div>"
      ],
      "text/plain": [
       "    index hotel_name  ratting\n",
       "0     0.0        NaN      NaN\n",
       "1     1.0        NaN      NaN\n",
       "2     2.0        NaN      NaN\n",
       "3     3.0        NaN      NaN\n",
       "4     4.0        NaN      NaN\n",
       "..    ...        ...      ...\n",
       "95   95.0        NaN      NaN\n",
       "96   96.0        NaN      NaN\n",
       "97   97.0        NaN      NaN\n",
       "98   98.0        NaN      NaN\n",
       "99   99.0        NaN      NaN\n",
       "\n",
       "[100 rows x 3 columns]"
      ]
     },
     "execution_count": 56,
     "metadata": {},
     "output_type": "execute_result"
    }
   ],
   "source": [
    "import pandas as pd\n",
    "\n",
    "# Initialisation du DataFrame avec les types de données appropriés\n",
    "data = {\n",
    "    'index': pd.Series(dtype='int'),\n",
    "    'hotel_name': pd.Series(dtype='str'),\n",
    "    'ratting': pd.Series(dtype='float'),\n",
    "    'hotel_url' : pd.Series(dtype='str'),\n",
    "}\n",
    "df = pd.DataFrame(data)\n",
    "\n",
    "# Boucle pour remplir le DataFrame\n",
    "for i in range(100):\n",
    "    # Ajout de l'index\n",
    "    df.loc[i, 'index'] = i\n",
    "\n",
    "    # Récupération et ajout du ratting\n",
    "    ratting_text = response.css(f\"div.c82435a4b8:nth-child({i}) > div:nth-child(1) > div:nth-child(2) > div:nth-child(1) > div:nth-child(1) > div:nth-child(2) > div:nth-child(1) > div:nth-child(1) > a:nth-child(1) > span:nth-child(1) > div:nth-child(1) > div:nth-child(1) > div:nth-child(1)::text\").get()\n",
    "    if ratting_text is not None:\n",
    "        ratting_value = ratting_text.split()[-1].replace(',', '.')  # Remplacer la virgule par un point pour la conversion en float\n",
    "        df.loc[i, 'ratting'] = float(ratting_value)\n",
    "\n",
    "    # Récupération et ajout du nom de l'hôtel\n",
    "    hotel_name_text = response.css(f'div.c82435a4b8:nth-child({i}) > div:nth-child(1) > div:nth-child(2) > div:nth-child(1) > div:nth-child(1) > div:nth-child(1) > div:nth-child(1) > div:nth-child(1) > div:nth-child(1) > h3:nth-child(1) > a:nth-child(1) > div:nth-child(1)::text').get()\n",
    "    if hotel_name_text is not None:\n",
    "        df.loc[i, 'hotel_name'] = hotel_name_text\n",
    "\n",
    "# Affichage du DataFrame\n",
    "df\n"
   ]
  },
  {
   "cell_type": "code",
   "execution_count": 62,
   "metadata": {},
   "outputs": [
    {
     "data": {
      "text/html": [
       "<div>\n",
       "<style scoped>\n",
       "    .dataframe tbody tr th:only-of-type {\n",
       "        vertical-align: middle;\n",
       "    }\n",
       "\n",
       "    .dataframe tbody tr th {\n",
       "        vertical-align: top;\n",
       "    }\n",
       "\n",
       "    .dataframe thead th {\n",
       "        text-align: right;\n",
       "    }\n",
       "</style>\n",
       "<table border=\"1\" class=\"dataframe\">\n",
       "  <thead>\n",
       "    <tr style=\"text-align: right;\">\n",
       "      <th></th>\n",
       "      <th>index</th>\n",
       "      <th>hotel_name</th>\n",
       "      <th>ratting</th>\n",
       "    </tr>\n",
       "  </thead>\n",
       "  <tbody>\n",
       "    <tr>\n",
       "      <th>5</th>\n",
       "      <td>5.0</td>\n",
       "      <td>Campanile Bayeux</td>\n",
       "      <td>7.8</td>\n",
       "    </tr>\n",
       "    <tr>\n",
       "      <th>8</th>\n",
       "      <td>8.0</td>\n",
       "      <td>Le Declic</td>\n",
       "      <td>8.3</td>\n",
       "    </tr>\n",
       "    <tr>\n",
       "      <th>9</th>\n",
       "      <td>9.0</td>\n",
       "      <td>Château de Bellefontaine - Teritoria</td>\n",
       "      <td>7.9</td>\n",
       "    </tr>\n",
       "    <tr>\n",
       "      <th>11</th>\n",
       "      <td>11.0</td>\n",
       "      <td>Hôtel De Brunville &amp; Spa</td>\n",
       "      <td>8.1</td>\n",
       "    </tr>\n",
       "    <tr>\n",
       "      <th>14</th>\n",
       "      <td>14.0</td>\n",
       "      <td>Au Loup Historic Apartments</td>\n",
       "      <td>8.2</td>\n",
       "    </tr>\n",
       "    <tr>\n",
       "      <th>15</th>\n",
       "      <td>15.0</td>\n",
       "      <td>Novotel Bayeux</td>\n",
       "      <td>8.0</td>\n",
       "    </tr>\n",
       "    <tr>\n",
       "      <th>17</th>\n",
       "      <td>17.0</td>\n",
       "      <td>Hôtel Le Saint Patrice</td>\n",
       "      <td>8.2</td>\n",
       "    </tr>\n",
       "    <tr>\n",
       "      <th>19</th>\n",
       "      <td>19.0</td>\n",
       "      <td>Domaine de Bayeux</td>\n",
       "      <td>9.2</td>\n",
       "    </tr>\n",
       "    <tr>\n",
       "      <th>24</th>\n",
       "      <td>24.0</td>\n",
       "      <td>Hotel Le Lion D'Or et Restaurant La Table Du Lion</td>\n",
       "      <td>8.6</td>\n",
       "    </tr>\n",
       "    <tr>\n",
       "      <th>26</th>\n",
       "      <td>26.0</td>\n",
       "      <td>Logis Les Remparts</td>\n",
       "      <td>9.0</td>\n",
       "    </tr>\n",
       "    <tr>\n",
       "      <th>29</th>\n",
       "      <td>29.0</td>\n",
       "      <td>Manoir Sainte Victoire</td>\n",
       "      <td>9.6</td>\n",
       "    </tr>\n",
       "    <tr>\n",
       "      <th>31</th>\n",
       "      <td>31.0</td>\n",
       "      <td>Hôtel Le Bayeux</td>\n",
       "      <td>7.9</td>\n",
       "    </tr>\n",
       "    <tr>\n",
       "      <th>33</th>\n",
       "      <td>33.0</td>\n",
       "      <td>Hotel Reine Mathilde</td>\n",
       "      <td>8.6</td>\n",
       "    </tr>\n",
       "    <tr>\n",
       "      <th>34</th>\n",
       "      <td>34.0</td>\n",
       "      <td>La Naomath - Maison d'hôtes, Hébergement insol...</td>\n",
       "      <td>8.4</td>\n",
       "    </tr>\n",
       "    <tr>\n",
       "      <th>36</th>\n",
       "      <td>36.0</td>\n",
       "      <td>le nid cosy</td>\n",
       "      <td>8.7</td>\n",
       "    </tr>\n",
       "    <tr>\n",
       "      <th>38</th>\n",
       "      <td>38.0</td>\n",
       "      <td>Grand Hôtel du Luxembourg &amp; Spa</td>\n",
       "      <td>8.0</td>\n",
       "    </tr>\n",
       "    <tr>\n",
       "      <th>40</th>\n",
       "      <td>40.0</td>\n",
       "      <td>Belle Normandy</td>\n",
       "      <td>8.9</td>\n",
       "    </tr>\n",
       "    <tr>\n",
       "      <th>42</th>\n",
       "      <td>42.0</td>\n",
       "      <td>Villa Lara Hotel</td>\n",
       "      <td>9.7</td>\n",
       "    </tr>\n",
       "    <tr>\n",
       "      <th>44</th>\n",
       "      <td>44.0</td>\n",
       "      <td>Bayeuzen - Le Baldaquin - Nuitée avec Spa Priv...</td>\n",
       "      <td>9.7</td>\n",
       "    </tr>\n",
       "    <tr>\n",
       "      <th>45</th>\n",
       "      <td>45.0</td>\n",
       "      <td>Chambre tout confort</td>\n",
       "      <td>9.2</td>\n",
       "    </tr>\n",
       "    <tr>\n",
       "      <th>46</th>\n",
       "      <td>46.0</td>\n",
       "      <td>studio du botanique</td>\n",
       "      <td>7.7</td>\n",
       "    </tr>\n",
       "    <tr>\n",
       "      <th>48</th>\n",
       "      <td>48.0</td>\n",
       "      <td>The Victory</td>\n",
       "      <td>NaN</td>\n",
       "    </tr>\n",
       "    <tr>\n",
       "      <th>50</th>\n",
       "      <td>50.0</td>\n",
       "      <td>studio du parvis</td>\n",
       "      <td>NaN</td>\n",
       "    </tr>\n",
       "    <tr>\n",
       "      <th>52</th>\n",
       "      <td>52.0</td>\n",
       "      <td>La Bayeuzen - La Tropicale - Love Room</td>\n",
       "      <td>10.0</td>\n",
       "    </tr>\n",
       "    <tr>\n",
       "      <th>53</th>\n",
       "      <td>53.0</td>\n",
       "      <td>Maison plages du débarquement</td>\n",
       "      <td>NaN</td>\n",
       "    </tr>\n",
       "  </tbody>\n",
       "</table>\n",
       "</div>"
      ],
      "text/plain": [
       "    index                                         hotel_name  ratting\n",
       "5     5.0                                   Campanile Bayeux      7.8\n",
       "8     8.0                                          Le Declic      8.3\n",
       "9     9.0               Château de Bellefontaine - Teritoria      7.9\n",
       "11   11.0                           Hôtel De Brunville & Spa      8.1\n",
       "14   14.0                        Au Loup Historic Apartments      8.2\n",
       "15   15.0                                     Novotel Bayeux      8.0\n",
       "17   17.0                             Hôtel Le Saint Patrice      8.2\n",
       "19   19.0                                  Domaine de Bayeux      9.2\n",
       "24   24.0  Hotel Le Lion D'Or et Restaurant La Table Du Lion      8.6\n",
       "26   26.0                                 Logis Les Remparts      9.0\n",
       "29   29.0                             Manoir Sainte Victoire      9.6\n",
       "31   31.0                                    Hôtel Le Bayeux      7.9\n",
       "33   33.0                               Hotel Reine Mathilde      8.6\n",
       "34   34.0  La Naomath - Maison d'hôtes, Hébergement insol...      8.4\n",
       "36   36.0                                        le nid cosy      8.7\n",
       "38   38.0                    Grand Hôtel du Luxembourg & Spa      8.0\n",
       "40   40.0                                     Belle Normandy      8.9\n",
       "42   42.0                                   Villa Lara Hotel      9.7\n",
       "44   44.0  Bayeuzen - Le Baldaquin - Nuitée avec Spa Priv...      9.7\n",
       "45   45.0                               Chambre tout confort      9.2\n",
       "46   46.0                                studio du botanique      7.7\n",
       "48   48.0                                        The Victory      NaN\n",
       "50   50.0                                   studio du parvis      NaN\n",
       "52   52.0             La Bayeuzen - La Tropicale - Love Room     10.0\n",
       "53   53.0                      Maison plages du débarquement      NaN"
      ]
     },
     "execution_count": 62,
     "metadata": {},
     "output_type": "execute_result"
    }
   ],
   "source": [
    "df=df[~df[\"hotel_name\"].isna()]\n",
    "df"
   ]
  },
  {
   "cell_type": "code",
   "execution_count": 87,
   "metadata": {},
   "outputs": [
    {
     "name": "stderr",
     "output_type": "stream",
     "text": [
      "C:\\Users\\Myriam\\AppData\\Local\\Temp\\ipykernel_8180\\2590807557.py:3: SettingWithCopyWarning:\n",
      "\n",
      "\n",
      "A value is trying to be set on a copy of a slice from a DataFrame\n",
      "\n",
      "See the caveats in the documentation: https://pandas.pydata.org/pandas-docs/stable/user_guide/indexing.html#returning-a-view-versus-a-copy\n",
      "\n"
     ]
    },
    {
     "data": {
      "text/html": [
       "<div>\n",
       "<style scoped>\n",
       "    .dataframe tbody tr th:only-of-type {\n",
       "        vertical-align: middle;\n",
       "    }\n",
       "\n",
       "    .dataframe tbody tr th {\n",
       "        vertical-align: top;\n",
       "    }\n",
       "\n",
       "    .dataframe thead th {\n",
       "        text-align: right;\n",
       "    }\n",
       "</style>\n",
       "<table border=\"1\" class=\"dataframe\">\n",
       "  <thead>\n",
       "    <tr style=\"text-align: right;\">\n",
       "      <th></th>\n",
       "      <th>index</th>\n",
       "      <th>hotel_name</th>\n",
       "      <th>ratting</th>\n",
       "      <th>hotel_url</th>\n",
       "    </tr>\n",
       "  </thead>\n",
       "  <tbody>\n",
       "    <tr>\n",
       "      <th>5</th>\n",
       "      <td>5.0</td>\n",
       "      <td>Campanile Bayeux</td>\n",
       "      <td>7.8</td>\n",
       "      <td>https://www.booking.com/hotel/fr/novotel.fr.ht...</td>\n",
       "    </tr>\n",
       "    <tr>\n",
       "      <th>8</th>\n",
       "      <td>8.0</td>\n",
       "      <td>Le Declic</td>\n",
       "      <td>8.3</td>\n",
       "      <td>https://www.booking.com/hotel/fr/le-lion-d-or-...</td>\n",
       "    </tr>\n",
       "    <tr>\n",
       "      <th>9</th>\n",
       "      <td>9.0</td>\n",
       "      <td>Château de Bellefontaine - Teritoria</td>\n",
       "      <td>7.9</td>\n",
       "      <td>https://www.booking.com/hotel/fr/chambre-d-ha-...</td>\n",
       "    </tr>\n",
       "    <tr>\n",
       "      <th>11</th>\n",
       "      <td>11.0</td>\n",
       "      <td>Hôtel De Brunville &amp; Spa</td>\n",
       "      <td>8.1</td>\n",
       "      <td>https://www.booking.com/hotel/fr/le-bayeux.fr....</td>\n",
       "    </tr>\n",
       "    <tr>\n",
       "      <th>14</th>\n",
       "      <td>14.0</td>\n",
       "      <td>Au Loup Historic Apartments</td>\n",
       "      <td>8.2</td>\n",
       "      <td>https://www.booking.com/hotel/fr/le-nid-cosy-b...</td>\n",
       "    </tr>\n",
       "    <tr>\n",
       "      <th>15</th>\n",
       "      <td>15.0</td>\n",
       "      <td>Novotel Bayeux</td>\n",
       "      <td>8.0</td>\n",
       "      <td>https://www.booking.com/hotel/fr/hotelduluxemb...</td>\n",
       "    </tr>\n",
       "    <tr>\n",
       "      <th>17</th>\n",
       "      <td>17.0</td>\n",
       "      <td>Hôtel Le Saint Patrice</td>\n",
       "      <td>8.2</td>\n",
       "      <td>https://www.booking.com/hotel/fr/villa-lara-ha...</td>\n",
       "    </tr>\n",
       "    <tr>\n",
       "      <th>19</th>\n",
       "      <td>19.0</td>\n",
       "      <td>Domaine de Bayeux</td>\n",
       "      <td>9.2</td>\n",
       "      <td>https://www.booking.com/hotel/fr/chambre-tout-...</td>\n",
       "    </tr>\n",
       "    <tr>\n",
       "      <th>24</th>\n",
       "      <td>24.0</td>\n",
       "      <td>Hotel Le Lion D'Or et Restaurant La Table Du Lion</td>\n",
       "      <td>8.6</td>\n",
       "      <td>https://www.booking.com/hotel/fr/maison-plages...</td>\n",
       "    </tr>\n",
       "    <tr>\n",
       "      <th>26</th>\n",
       "      <td>26.0</td>\n",
       "      <td>Logis Les Remparts</td>\n",
       "      <td>9.0</td>\n",
       "      <td>NaN</td>\n",
       "    </tr>\n",
       "    <tr>\n",
       "      <th>29</th>\n",
       "      <td>29.0</td>\n",
       "      <td>Manoir Sainte Victoire</td>\n",
       "      <td>9.6</td>\n",
       "      <td>NaN</td>\n",
       "    </tr>\n",
       "    <tr>\n",
       "      <th>31</th>\n",
       "      <td>31.0</td>\n",
       "      <td>Hôtel Le Bayeux</td>\n",
       "      <td>7.9</td>\n",
       "      <td>NaN</td>\n",
       "    </tr>\n",
       "    <tr>\n",
       "      <th>33</th>\n",
       "      <td>33.0</td>\n",
       "      <td>Hotel Reine Mathilde</td>\n",
       "      <td>8.6</td>\n",
       "      <td>NaN</td>\n",
       "    </tr>\n",
       "    <tr>\n",
       "      <th>34</th>\n",
       "      <td>34.0</td>\n",
       "      <td>La Naomath - Maison d'hôtes, Hébergement insol...</td>\n",
       "      <td>8.4</td>\n",
       "      <td>NaN</td>\n",
       "    </tr>\n",
       "    <tr>\n",
       "      <th>36</th>\n",
       "      <td>36.0</td>\n",
       "      <td>le nid cosy</td>\n",
       "      <td>8.7</td>\n",
       "      <td>NaN</td>\n",
       "    </tr>\n",
       "    <tr>\n",
       "      <th>38</th>\n",
       "      <td>38.0</td>\n",
       "      <td>Grand Hôtel du Luxembourg &amp; Spa</td>\n",
       "      <td>8.0</td>\n",
       "      <td>NaN</td>\n",
       "    </tr>\n",
       "    <tr>\n",
       "      <th>40</th>\n",
       "      <td>40.0</td>\n",
       "      <td>Belle Normandy</td>\n",
       "      <td>8.9</td>\n",
       "      <td>NaN</td>\n",
       "    </tr>\n",
       "    <tr>\n",
       "      <th>42</th>\n",
       "      <td>42.0</td>\n",
       "      <td>Villa Lara Hotel</td>\n",
       "      <td>9.7</td>\n",
       "      <td>NaN</td>\n",
       "    </tr>\n",
       "    <tr>\n",
       "      <th>44</th>\n",
       "      <td>44.0</td>\n",
       "      <td>Bayeuzen - Le Baldaquin - Nuitée avec Spa Priv...</td>\n",
       "      <td>9.7</td>\n",
       "      <td>NaN</td>\n",
       "    </tr>\n",
       "    <tr>\n",
       "      <th>45</th>\n",
       "      <td>45.0</td>\n",
       "      <td>Chambre tout confort</td>\n",
       "      <td>9.2</td>\n",
       "      <td>NaN</td>\n",
       "    </tr>\n",
       "    <tr>\n",
       "      <th>46</th>\n",
       "      <td>46.0</td>\n",
       "      <td>studio du botanique</td>\n",
       "      <td>7.7</td>\n",
       "      <td>NaN</td>\n",
       "    </tr>\n",
       "    <tr>\n",
       "      <th>48</th>\n",
       "      <td>48.0</td>\n",
       "      <td>The Victory</td>\n",
       "      <td>NaN</td>\n",
       "      <td>NaN</td>\n",
       "    </tr>\n",
       "    <tr>\n",
       "      <th>50</th>\n",
       "      <td>50.0</td>\n",
       "      <td>studio du parvis</td>\n",
       "      <td>NaN</td>\n",
       "      <td>NaN</td>\n",
       "    </tr>\n",
       "    <tr>\n",
       "      <th>52</th>\n",
       "      <td>52.0</td>\n",
       "      <td>La Bayeuzen - La Tropicale - Love Room</td>\n",
       "      <td>10.0</td>\n",
       "      <td>NaN</td>\n",
       "    </tr>\n",
       "    <tr>\n",
       "      <th>53</th>\n",
       "      <td>53.0</td>\n",
       "      <td>Maison plages du débarquement</td>\n",
       "      <td>NaN</td>\n",
       "      <td>NaN</td>\n",
       "    </tr>\n",
       "    <tr>\n",
       "      <th>0</th>\n",
       "      <td>NaN</td>\n",
       "      <td>NaN</td>\n",
       "      <td>NaN</td>\n",
       "      <td>https://www.booking.com/hotel/fr/campanile-bay...</td>\n",
       "    </tr>\n",
       "    <tr>\n",
       "      <th>1</th>\n",
       "      <td>NaN</td>\n",
       "      <td>NaN</td>\n",
       "      <td>NaN</td>\n",
       "      <td>https://www.booking.com/hotel/fr/le-mogador-ba...</td>\n",
       "    </tr>\n",
       "    <tr>\n",
       "      <th>2</th>\n",
       "      <td>NaN</td>\n",
       "      <td>NaN</td>\n",
       "      <td>NaN</td>\n",
       "      <td>https://www.booking.com/hotel/fr/chateau-de-be...</td>\n",
       "    </tr>\n",
       "    <tr>\n",
       "      <th>3</th>\n",
       "      <td>NaN</td>\n",
       "      <td>NaN</td>\n",
       "      <td>NaN</td>\n",
       "      <td>https://www.booking.com/hotel/fr/hoteldebrunvi...</td>\n",
       "    </tr>\n",
       "    <tr>\n",
       "      <th>4</th>\n",
       "      <td>NaN</td>\n",
       "      <td>NaN</td>\n",
       "      <td>NaN</td>\n",
       "      <td>https://www.booking.com/hotel/fr/au-loup-histo...</td>\n",
       "    </tr>\n",
       "    <tr>\n",
       "      <th>6</th>\n",
       "      <td>NaN</td>\n",
       "      <td>NaN</td>\n",
       "      <td>NaN</td>\n",
       "      <td>https://www.booking.com/hotel/fr/saint-patrice...</td>\n",
       "    </tr>\n",
       "    <tr>\n",
       "      <th>7</th>\n",
       "      <td>NaN</td>\n",
       "      <td>NaN</td>\n",
       "      <td>NaN</td>\n",
       "      <td>https://www.booking.com/hotel/fr/domaine-de-ba...</td>\n",
       "    </tr>\n",
       "    <tr>\n",
       "      <th>10</th>\n",
       "      <td>NaN</td>\n",
       "      <td>NaN</td>\n",
       "      <td>NaN</td>\n",
       "      <td>https://www.booking.com/hotel/fr/manoir-sainte...</td>\n",
       "    </tr>\n",
       "    <tr>\n",
       "      <th>12</th>\n",
       "      <td>NaN</td>\n",
       "      <td>NaN</td>\n",
       "      <td>NaN</td>\n",
       "      <td>https://www.booking.com/hotel/fr/reine-mathild...</td>\n",
       "    </tr>\n",
       "    <tr>\n",
       "      <th>13</th>\n",
       "      <td>NaN</td>\n",
       "      <td>NaN</td>\n",
       "      <td>NaN</td>\n",
       "      <td>https://www.booking.com/hotel/fr/la-naomath.fr...</td>\n",
       "    </tr>\n",
       "    <tr>\n",
       "      <th>16</th>\n",
       "      <td>NaN</td>\n",
       "      <td>NaN</td>\n",
       "      <td>NaN</td>\n",
       "      <td>https://www.booking.com/hotel/fr/clos-des-cord...</td>\n",
       "    </tr>\n",
       "    <tr>\n",
       "      <th>18</th>\n",
       "      <td>NaN</td>\n",
       "      <td>NaN</td>\n",
       "      <td>NaN</td>\n",
       "      <td>https://www.booking.com/hotel/fr/bayeuzen-le-b...</td>\n",
       "    </tr>\n",
       "    <tr>\n",
       "      <th>20</th>\n",
       "      <td>NaN</td>\n",
       "      <td>NaN</td>\n",
       "      <td>NaN</td>\n",
       "      <td>https://www.booking.com/hotel/fr/59-rue-de-por...</td>\n",
       "    </tr>\n",
       "    <tr>\n",
       "      <th>21</th>\n",
       "      <td>NaN</td>\n",
       "      <td>NaN</td>\n",
       "      <td>NaN</td>\n",
       "      <td>https://www.booking.com/hotel/fr/the-victory.f...</td>\n",
       "    </tr>\n",
       "    <tr>\n",
       "      <th>22</th>\n",
       "      <td>NaN</td>\n",
       "      <td>NaN</td>\n",
       "      <td>NaN</td>\n",
       "      <td>https://www.booking.com/hotel/fr/studio-du-par...</td>\n",
       "    </tr>\n",
       "    <tr>\n",
       "      <th>23</th>\n",
       "      <td>NaN</td>\n",
       "      <td>NaN</td>\n",
       "      <td>NaN</td>\n",
       "      <td>https://www.booking.com/hotel/fr/la-bayeuzen-l...</td>\n",
       "    </tr>\n",
       "  </tbody>\n",
       "</table>\n",
       "</div>"
      ],
      "text/plain": [
       "    index                                         hotel_name  ratting  \\\n",
       "5     5.0                                   Campanile Bayeux      7.8   \n",
       "8     8.0                                          Le Declic      8.3   \n",
       "9     9.0               Château de Bellefontaine - Teritoria      7.9   \n",
       "11   11.0                           Hôtel De Brunville & Spa      8.1   \n",
       "14   14.0                        Au Loup Historic Apartments      8.2   \n",
       "15   15.0                                     Novotel Bayeux      8.0   \n",
       "17   17.0                             Hôtel Le Saint Patrice      8.2   \n",
       "19   19.0                                  Domaine de Bayeux      9.2   \n",
       "24   24.0  Hotel Le Lion D'Or et Restaurant La Table Du Lion      8.6   \n",
       "26   26.0                                 Logis Les Remparts      9.0   \n",
       "29   29.0                             Manoir Sainte Victoire      9.6   \n",
       "31   31.0                                    Hôtel Le Bayeux      7.9   \n",
       "33   33.0                               Hotel Reine Mathilde      8.6   \n",
       "34   34.0  La Naomath - Maison d'hôtes, Hébergement insol...      8.4   \n",
       "36   36.0                                        le nid cosy      8.7   \n",
       "38   38.0                    Grand Hôtel du Luxembourg & Spa      8.0   \n",
       "40   40.0                                     Belle Normandy      8.9   \n",
       "42   42.0                                   Villa Lara Hotel      9.7   \n",
       "44   44.0  Bayeuzen - Le Baldaquin - Nuitée avec Spa Priv...      9.7   \n",
       "45   45.0                               Chambre tout confort      9.2   \n",
       "46   46.0                                studio du botanique      7.7   \n",
       "48   48.0                                        The Victory      NaN   \n",
       "50   50.0                                   studio du parvis      NaN   \n",
       "52   52.0             La Bayeuzen - La Tropicale - Love Room     10.0   \n",
       "53   53.0                      Maison plages du débarquement      NaN   \n",
       "0     NaN                                                NaN      NaN   \n",
       "1     NaN                                                NaN      NaN   \n",
       "2     NaN                                                NaN      NaN   \n",
       "3     NaN                                                NaN      NaN   \n",
       "4     NaN                                                NaN      NaN   \n",
       "6     NaN                                                NaN      NaN   \n",
       "7     NaN                                                NaN      NaN   \n",
       "10    NaN                                                NaN      NaN   \n",
       "12    NaN                                                NaN      NaN   \n",
       "13    NaN                                                NaN      NaN   \n",
       "16    NaN                                                NaN      NaN   \n",
       "18    NaN                                                NaN      NaN   \n",
       "20    NaN                                                NaN      NaN   \n",
       "21    NaN                                                NaN      NaN   \n",
       "22    NaN                                                NaN      NaN   \n",
       "23    NaN                                                NaN      NaN   \n",
       "\n",
       "                                            hotel_url  \n",
       "5   https://www.booking.com/hotel/fr/novotel.fr.ht...  \n",
       "8   https://www.booking.com/hotel/fr/le-lion-d-or-...  \n",
       "9   https://www.booking.com/hotel/fr/chambre-d-ha-...  \n",
       "11  https://www.booking.com/hotel/fr/le-bayeux.fr....  \n",
       "14  https://www.booking.com/hotel/fr/le-nid-cosy-b...  \n",
       "15  https://www.booking.com/hotel/fr/hotelduluxemb...  \n",
       "17  https://www.booking.com/hotel/fr/villa-lara-ha...  \n",
       "19  https://www.booking.com/hotel/fr/chambre-tout-...  \n",
       "24  https://www.booking.com/hotel/fr/maison-plages...  \n",
       "26                                                NaN  \n",
       "29                                                NaN  \n",
       "31                                                NaN  \n",
       "33                                                NaN  \n",
       "34                                                NaN  \n",
       "36                                                NaN  \n",
       "38                                                NaN  \n",
       "40                                                NaN  \n",
       "42                                                NaN  \n",
       "44                                                NaN  \n",
       "45                                                NaN  \n",
       "46                                                NaN  \n",
       "48                                                NaN  \n",
       "50                                                NaN  \n",
       "52                                                NaN  \n",
       "53                                                NaN  \n",
       "0   https://www.booking.com/hotel/fr/campanile-bay...  \n",
       "1   https://www.booking.com/hotel/fr/le-mogador-ba...  \n",
       "2   https://www.booking.com/hotel/fr/chateau-de-be...  \n",
       "3   https://www.booking.com/hotel/fr/hoteldebrunvi...  \n",
       "4   https://www.booking.com/hotel/fr/au-loup-histo...  \n",
       "6   https://www.booking.com/hotel/fr/saint-patrice...  \n",
       "7   https://www.booking.com/hotel/fr/domaine-de-ba...  \n",
       "10  https://www.booking.com/hotel/fr/manoir-sainte...  \n",
       "12  https://www.booking.com/hotel/fr/reine-mathild...  \n",
       "13  https://www.booking.com/hotel/fr/la-naomath.fr...  \n",
       "16  https://www.booking.com/hotel/fr/clos-des-cord...  \n",
       "18  https://www.booking.com/hotel/fr/bayeuzen-le-b...  \n",
       "20  https://www.booking.com/hotel/fr/59-rue-de-por...  \n",
       "21  https://www.booking.com/hotel/fr/the-victory.f...  \n",
       "22  https://www.booking.com/hotel/fr/studio-du-par...  \n",
       "23  https://www.booking.com/hotel/fr/la-bayeuzen-l...  "
      ]
     },
     "execution_count": 87,
     "metadata": {},
     "output_type": "execute_result"
    }
   ],
   "source": [
    "for i in range(len(df)):\n",
    "    if i < len(hotel_url):\n",
    "        df.loc[i, 'hotel_url'] = hotel_url[i]\n",
    "    else:\n",
    "        df.loc[i, 'hotel_url'] = \"\"  \n",
    "df"
   ]
  },
  {
   "cell_type": "code",
   "execution_count": 44,
   "metadata": {},
   "outputs": [
    {
     "data": {
      "text/plain": [
       "22"
      ]
     },
     "execution_count": 44,
     "metadata": {},
     "output_type": "execute_result"
    }
   ],
   "source": [
    "len(ratting)"
   ]
  },
  {
   "cell_type": "code",
   "execution_count": 131,
   "metadata": {},
   "outputs": [],
   "source": [
    "\n",
    "response.css(\"div.c82435a4b8:nth-child(8) > div:nth-child(1) > div:nth-child(2) > div:nth-child(1) > div:nth-child(2) > div:nth-child(2) > div:nth-child(1) > div:nth-child(2) > a:nth-child(1)::text\").css(\"a[href]::attr(href)\").get()\n",
    "response.css(\"html.b_firefox.b_firefox_136.supports_inline-block.supports_flexbox_unprefixed.supports_fontface.supports_hyphens.hasJS body#b2searchresultsPage.bookings2.b2.searchresults.fr.lang_is_ltr.header_reshuffle.no_bg_img.nobg.user_center.app_user_center.sb_gradient_border.b-sprite-3.ds-traveller-header.bigblue_std_sm.bigblue_std_lg.system-font.iq-x-bar.iq-x-bar-new div#bodyconstraint.bodyconstraint--full-width div#bodyconstraint-inner div div div.af5895d4b2 div.df7e6ba27d div.bcbf33c5c3 div.dcf496a7b9.bb2746aad9 div.d4924c9e74 div.c82435a4b8.a178069f51.a6ae3c2b40.a18aeea94d.d794b7a0f7.f53e278e95.c6710787a4 div.c066246e13.d8aec464ca div.c1edfbabcb div.c624d7469d.a0e60936ad.a3214e5942.b0db0e8ada div.b1037148f8.c730b02848 div.a4b53081e1 div.c624d7469d.a0e60936ad.a3214e5942.b23caa1645 div.da8b337763 a.a83ed08757.c21c56c305.a4c1805887.d691166b09.ab98298258.c082d89982.ff33faec5f::text\").css(\"a[href]::attr(href)\").get()\n",
    "response.css(\"a.a83ed08757.c21c56c305.a4c1805887.d691166b09.ab98298258.c082d89982.ff33faec5f::text\").css(\"a[href]::attr(href)\").get()\n",
    "\n"
   ]
  },
  {
   "cell_type": "code",
   "execution_count": null,
   "metadata": {},
   "outputs": [],
   "source": [
    "html.b_firefox.b_firefox_136.supports_inline-block.supports_flexbox_unprefixed.supports_fontface.supports_hyphens.hasJS body#b2searchresultsPage.bookings2.b2.searchresults.fr.lang_is_ltr.header_reshuffle.no_bg_img.nobg.user_center.app_user_center.sb_gradient_border.b-sprite-3.ds-traveller-header.bigblue_std_sm.bigblue_std_lg.system-font.iq-x-bar.iq-x-bar-new div#bodyconstraint.bodyconstraint--full-width div#bodyconstraint-inner div div div.af5895d4b2 div.df7e6ba27d div.bcbf33c5c3 div.dcf496a7b9.bb2746aad9 div.d4924c9e74 div.c82435a4b8.a178069f51.a6ae3c2b40.a18aeea94d.d794b7a0f7.f53e278e95.c6710787a4 div.c066246e13.d8aec464ca div.c1edfbabcb div.c624d7469d.a0e60936ad.a3214e5942.b0db0e8ada div.b1037148f8.c730b02848 div.a4b53081e1 div.c624d7469d.a0e60936ad.a3214e5942.b23caa1645 div.da8b337763 a.a83ed08757.c21c56c305.a4c1805887.d691166b09.ab98298258.c082d89982.ff33faec5f"
   ]
  },
  {
   "cell_type": "code",
   "execution_count": 58,
   "metadata": {},
   "outputs": [
    {
     "name": "stdout",
     "output_type": "stream",
     "text": [
      "None\n",
      "Hôtel Saint Louis\n"
     ]
    }
   ],
   "source": [
    "print(name)\n",
    "print(name2)"
   ]
  },
  {
   "cell_type": "code",
   "execution_count": null,
   "metadata": {},
   "outputs": [],
   "source": [
    "div.c82435a4b8:nth-child(5) > div:nth-child(1) > div:nth-child(2)"
   ]
  },
  {
   "cell_type": "code",
   "execution_count": 40,
   "metadata": {},
   "outputs": [
    {
     "data": {
      "text/plain": [
       "[]"
      ]
     },
     "execution_count": 40,
     "metadata": {},
     "output_type": "execute_result"
    }
   ],
   "source": [
    "response.css('div.f6431b446c a15b38c233')"
   ]
  },
  {
   "cell_type": "code",
   "execution_count": 37,
   "metadata": {},
   "outputs": [
    {
     "data": {
      "text/plain": [
       "'8,7'"
      ]
     },
     "execution_count": 37,
     "metadata": {},
     "output_type": "execute_result"
    }
   ],
   "source": [
    "xp_ratting=\"/html/body/div[4]/div/div/div/div[2]/div[3]/div[2]/div[2]/div[3]/div[4]/div[1]/div[2]/div/div[1]/div[2]/div/div/a/span/div/div[1]/div\"\n",
    "ratting = response.xpath(f\"{xp_ratting}/text()\").get()\n",
    "ratting = ratting.split()[-1]\n",
    "ratting"
   ]
  },
  {
   "cell_type": "code",
   "execution_count": 80,
   "metadata": {},
   "outputs": [],
   "source": [
    "xp_ratting=\"/html/body/div[4]/div/div/div/div[2]/div[3]/div[2]/div[2]/div[3]/div[4]/div[1]/div[2]/div/div[1]/div[2]/div/div/a/span/div/div[1]/div\"\n",
    "ratting = response.xpath(f\"{xp_ratting}/text()\").get()"
   ]
  },
  {
   "cell_type": "code",
   "execution_count": 242,
   "metadata": {},
   "outputs": [
    {
     "data": {
      "text/plain": [
       "'https://www.booking.com/searchresults.fr.html?ss=aigues&efdco=1&label=qwa121jc-1DCAEoggI46AdIM1gDaE2IAQGYAQ24ARfIAQ_YAQPoAQGIAgGoAgO4AoX3mr8GwAIB0gIkMDk1NzlmY2YtNjcwMy00MzdkLWFmNGItMzE3ODQzYzYxNWI32AIE4AIB&sid=f8c0b82bd17e0df0aab4997651af0857&aid=1588662&lang=fr&sb=1&src_elem=sb&src=index&dest_id=-1406800&dest_type=city&ac_position=0&ac_click_type=b&ac_langcode=fr&ac_suggestion_list_length=5&search_selected=true&search_pageview_id=9fc26a828ac01775&ac_meta=GhA5ZmMyNmE4MjhhYzAxNzc1IAAoATICZnI6BmFpZ3Vlc0AASgBQAA%3D%3D&checkin=2025-03-28&checkout=2025-03-29&group_adults=2&no_rooms=1&group_children=0'"
      ]
     },
     "execution_count": 242,
     "metadata": {},
     "output_type": "execute_result"
    }
   ],
   "source": [
    "url"
   ]
  },
  {
   "cell_type": "code",
   "execution_count": null,
   "metadata": {},
   "outputs": [],
   "source": [
    "xpath = \"/html/body/div[4]/div/div/div/div[2]/div[3]/div[2]/div[2]/div[3]/div[4]/div[1]/div[2]/div/div[2]/div[2]/div/div[2]\"\n"
   ]
  },
  {
   "cell_type": "code",
   "execution_count": 247,
   "metadata": {},
   "outputs": [
    {
     "ename": "SelectorSyntaxError",
     "evalue": "Unclosed string at 11 (<string>)",
     "output_type": "error",
     "traceback": [
      "Traceback \u001b[1;36m(most recent call last)\u001b[0m:\n",
      "\u001b[0m  File \u001b[0;32mc:\\Users\\Myriam\\anaconda3\\envs\\myenv\\lib\\site-packages\\IPython\\core\\interactiveshell.py:3579\u001b[0m in \u001b[0;35mrun_code\u001b[0m\n    exec(code_obj, self.user_global_ns, self.user_ns)\u001b[0m\n",
      "\u001b[0m  Cell \u001b[0;32mIn[247], line 1\u001b[0m\n    response.css(\"div [class='da8b337763]\").css(\"a[herf]::attr(herf)\").get()\u001b[0m\n",
      "\u001b[0m  File \u001b[0;32mc:\\Users\\Myriam\\anaconda3\\envs\\myenv\\lib\\site-packages\\parsel\\selector.py:655\u001b[0m in \u001b[0;35mcss\u001b[0m\n    return self.xpath(self._css2xpath(query))\u001b[0m\n",
      "\u001b[0m  File \u001b[0;32mc:\\Users\\Myriam\\anaconda3\\envs\\myenv\\lib\\site-packages\\parsel\\selector.py:659\u001b[0m in \u001b[0;35m_css2xpath\u001b[0m\n    return _ctgroup[type][\"_csstranslator\"].css_to_xpath(query)\u001b[0m\n",
      "\u001b[0m  File \u001b[0;32mc:\\Users\\Myriam\\anaconda3\\envs\\myenv\\lib\\site-packages\\parsel\\csstranslator.py:137\u001b[0m in \u001b[0;35mcss_to_xpath\u001b[0m\n    return super().css_to_xpath(css, prefix)\u001b[0m\n",
      "\u001b[0m  File \u001b[0;32mc:\\Users\\Myriam\\anaconda3\\envs\\myenv\\lib\\site-packages\\cssselect\\xpath.py:223\u001b[0m in \u001b[0;35mcss_to_xpath\u001b[0m\n    for selector in parse(css)\u001b[0m\n",
      "\u001b[0m  File \u001b[0;32mc:\\Users\\Myriam\\anaconda3\\envs\\myenv\\lib\\site-packages\\cssselect\\parser.py:529\u001b[0m in \u001b[0;35mparse\u001b[0m\n    return list(parse_selector_group(stream))\u001b[0m\n",
      "\u001b[0m  File \u001b[0;32mc:\\Users\\Myriam\\anaconda3\\envs\\myenv\\lib\\site-packages\\cssselect\\parser.py:544\u001b[0m in \u001b[0;35mparse_selector_group\u001b[0m\n    yield Selector(*parse_selector(stream))\u001b[0m\n",
      "\u001b[0m  File \u001b[0;32mc:\\Users\\Myriam\\anaconda3\\envs\\myenv\\lib\\site-packages\\cssselect\\parser.py:571\u001b[0m in \u001b[0;35mparse_selector\u001b[0m\n    next_selector, pseudo_element = parse_simple_selector(stream)\u001b[0m\n",
      "\u001b[0m  File \u001b[0;32mc:\\Users\\Myriam\\anaconda3\\envs\\myenv\\lib\\site-packages\\cssselect\\parser.py:620\u001b[0m in \u001b[0;35mparse_simple_selector\u001b[0m\n    result = parse_attrib(result, stream)\u001b[0m\n",
      "\u001b[0m  File \u001b[0;32mc:\\Users\\Myriam\\anaconda3\\envs\\myenv\\lib\\site-packages\\cssselect\\parser.py:787\u001b[0m in \u001b[0;35mparse_attrib\u001b[0m\n    stream.skip_whitespace()\u001b[0m\n",
      "\u001b[0m  File \u001b[0;32mc:\\Users\\Myriam\\anaconda3\\envs\\myenv\\lib\\site-packages\\cssselect\\parser.py:1044\u001b[0m in \u001b[0;35mskip_whitespace\u001b[0m\n    peek = self.peek()\u001b[0m\n",
      "\u001b[0m  File \u001b[0;32mc:\\Users\\Myriam\\anaconda3\\envs\\myenv\\lib\\site-packages\\cssselect\\parser.py:1024\u001b[0m in \u001b[0;35mpeek\u001b[0m\n    self.peeked = self.next_token()\u001b[0m\n",
      "\u001b[1;36m  File \u001b[1;32mc:\\Users\\Myriam\\anaconda3\\envs\\myenv\\lib\\site-packages\\cssselect\\parser.py:967\u001b[1;36m in \u001b[1;35mtokenize\u001b[1;36m\n\u001b[1;33m    raise SelectorSyntaxError(f\"Unclosed string at {pos}\")\u001b[1;36m\n",
      "\u001b[1;36m  File \u001b[1;32m<string>\u001b[1;36m\u001b[0m\n\u001b[1;31mSelectorSyntaxError\u001b[0m\u001b[1;31m:\u001b[0m Unclosed string at 11\n"
     ]
    }
   ],
   "source": [
    "response.css(\"div [class='da8b337763]\").css(\"a[herf]::attr(herf)\").get()\n",
    "\n",
    "\n"
   ]
  },
  {
   "cell_type": "code",
   "execution_count": null,
   "metadata": {},
   "outputs": [],
   "source": [
    "global_endpoint + response.css(\"nav li[class='next']\").css(\"a[href]::attr(href)\").get()"
   ]
  },
  {
   "cell_type": "code",
   "execution_count": null,
   "metadata": {},
   "outputs": [],
   "source": [
    "<span class=\"e4adce92df\">Voir les disponibilités</span><span class=\"eedba9e88a d7eef963fa\"><span class=\"fcd9eec8fb bf9a32efa5\" aria-hidden=\"true\"><span data-testid=\"availability-cta-icon\" class=\"fcd9eec8fb bf9a32efa5\" aria-hidden=\"true\"><svg xmlns=\"http://www.w3.org/2000/svg\" viewBox=\"0 0 24 24\" width=\"50px\" data-rtl-flip=\"true\"><path d=\"M8.913 19.236a.9.9 0 0 0 .642-.266l6.057-6.057a1.3 1.3 0 0 0 .388-.945c.008-.35-.123-.69-.364-.945L9.58 4.966a.91.91 0 0 0-1.284 0 .896.896 0 0 0 0 1.284l5.694 5.718-5.718 5.718a.896.896 0 0 0 0 1.284.88.88 0 0 0 .642.266\"></path></svg></span></span></span>"
   ]
  },
  {
   "cell_type": "code",
   "execution_count": null,
   "metadata": {},
   "outputs": [
    {
     "data": {
      "text/plain": [
       "'8,7'"
      ]
     },
     "execution_count": 224,
     "metadata": {},
     "output_type": "execute_result"
    }
   ],
   "source": []
  },
  {
   "cell_type": "code",
   "execution_count": 223,
   "metadata": {},
   "outputs": [
    {
     "name": "stdout",
     "output_type": "stream",
     "text": [
      "Hôtel Le Médiéval\n",
      "8,7\n"
     ]
    }
   ],
   "source": [
    "print(hotel_name)\n",
    "print(ratting)"
   ]
  },
  {
   "cell_type": "code",
   "execution_count": 225,
   "metadata": {},
   "outputs": [],
   "source": [
    "url2 = \"https://www.booking.com/hotel/fr/le-medieval.fr.html?aid=1588662&label=qwa121jc-1BCAEoggI46AdIM1gDaE2IAQGYAQ24ARfIAQ_YAQHoAQGIAgGoAgO4AoX3mr8GwAIB0gIkMDk1NzlmY2YtNjcwMy00MzdkLWFmNGItMzE3ODQzYzYxNWI32AIF4AIB&sid=f8c0b82bd17e0df0aab4997651af0857&all_sr_blocks=25855901_400539506_0_2_0&checkin=2025-03-28&checkout=2025-03-29&dest_id=-1406800&dest_type=city&dist=0&group_adults=2&group_children=0&hapos=1&highlighted_blocks=25855901_400539506_0_2_0&hpos=1&matching_block_id=25855901_400539506_0_2_0&no_rooms=1&req_adults=2&req_children=0&room1=A%2CA&sb_price_type=total&sr_order=popularity&sr_pri_blocks=25855901_400539506_0_2_0__8520&srepoch=1743176548&srpvid=72b26b676ce90250&type=total&ucfs=1&\"\n",
    "\n",
    "headers = {\n",
    "    'User-Agent': 'Mozilla/5.0 (Windows NT 10.0; Win64; x64) AppleWebKit/537.36 (KHTML, like Gecko) Chrome/58.0.3029.110 Safari/537.3'\n",
    "}\n",
    "\n",
    "r = requests.get(url2, headers=headers)\n",
    "\n",
    "response = Selector(text=r.text)"
   ]
  },
  {
   "cell_type": "code",
   "execution_count": 227,
   "metadata": {},
   "outputs": [],
   "source": [
    "xp_desc = \"/html/body/div[4]/div/div[4]/div[1]/div[1]/div[2]/div/div[1]/div[1]/div[1]/div/div/p[1]\"\n",
    "description = response.xpath(f\"{xp_desc}/text()\").get()"
   ]
  },
  {
   "cell_type": "code",
   "execution_count": 228,
   "metadata": {},
   "outputs": [
    {
     "data": {
      "text/plain": [
       "\"L'Hôtel Le Médiéval est situé sur les rives du canal d'Aigues-Mortes, à 30 km de Montpellier. Il propose des chambres pourvues d'une salle de bains privative, d'un parking gratuit et d'une piscine extérieure.\\n\\nL'Hôtel Le Médiéval propose chaque jour un petit-déjeuner buffet continental qui peut être dégusté sur la terrasse quand le temps le permet. Une connexion Wi-Fi est disponible gratuitement dans les parties communes.\\n\\nUn parking privé gratuit est disponible sur place. Une promenade de 2 minutes vous mènera aux remparts médiévaux.\""
      ]
     },
     "execution_count": 228,
     "metadata": {},
     "output_type": "execute_result"
    }
   ],
   "source": [
    "description"
   ]
  },
  {
   "cell_type": "code",
   "execution_count": 229,
   "metadata": {},
   "outputs": [],
   "source": [
    "xp_desc = \"/html/body/div[4]/div/div/div/div[2]/div[3]/div[2]/div[2]/div[3]/div[4]/div[1]/div[2]/div/div[1]/div[1]/div/div[1]/div/h3/a/div[2]\"\n",
    "description = response.xpath(f\"{xp_desc}/text()\").get()"
   ]
  },
  {
   "cell_type": "markdown",
   "metadata": {},
   "source": [
    "## La Rochelle"
   ]
  },
  {
   "cell_type": "code",
   "execution_count": 85,
   "metadata": {},
   "outputs": [
    {
     "ename": "ConnectTimeout",
     "evalue": "HTTPSConnectionPool(host='www.booking.com', port=443): Max retries exceeded with url: /searchresults.fr.html?ss=La+Rochelle&ssne=La+Rochelle&ssne_untouched=La+Rochelle&label=qwa121jc-1DCAEoggI46AdIM1gDaE2IAQGYAQ24ARfIAQ_YAQPoAQGIAgGoAgO4AoX3mr8GwAIB0gIkMDk1NzlmY2YtNjcwMy00MzdkLWFmNGItMzE3ODQzYzYxNWI32AIE4AIB&sid=b10d6df758b0e059011bf7be0724e09f&aid=1588662&lang=fr&sb=1&src_elem=sb&src=index&dest_id=-1438604&dest_type=city&checkin=2025-04-16&checkout=2025-04-17&group_adults=2&no_rooms=1&group_children=0 (Caused by ConnectTimeoutError(<urllib3.connection.HTTPSConnection object at 0x000001AD425E3CD0>, 'Connection to www.booking.com timed out. (connect timeout=None)'))",
     "output_type": "error",
     "traceback": [
      "\u001b[1;31m---------------------------------------------------------------------------\u001b[0m",
      "\u001b[1;31mTimeoutError\u001b[0m                              Traceback (most recent call last)",
      "File \u001b[1;32mc:\\Users\\Myriam\\anaconda3\\envs\\myenv\\lib\\site-packages\\urllib3\\connection.py:198\u001b[0m, in \u001b[0;36mHTTPConnection._new_conn\u001b[1;34m(self)\u001b[0m\n\u001b[0;32m    197\u001b[0m \u001b[38;5;28;01mtry\u001b[39;00m:\n\u001b[1;32m--> 198\u001b[0m     sock \u001b[38;5;241m=\u001b[39m \u001b[43mconnection\u001b[49m\u001b[38;5;241;43m.\u001b[39;49m\u001b[43mcreate_connection\u001b[49m\u001b[43m(\u001b[49m\n\u001b[0;32m    199\u001b[0m \u001b[43m        \u001b[49m\u001b[43m(\u001b[49m\u001b[38;5;28;43mself\u001b[39;49m\u001b[38;5;241;43m.\u001b[39;49m\u001b[43m_dns_host\u001b[49m\u001b[43m,\u001b[49m\u001b[43m \u001b[49m\u001b[38;5;28;43mself\u001b[39;49m\u001b[38;5;241;43m.\u001b[39;49m\u001b[43mport\u001b[49m\u001b[43m)\u001b[49m\u001b[43m,\u001b[49m\n\u001b[0;32m    200\u001b[0m \u001b[43m        \u001b[49m\u001b[38;5;28;43mself\u001b[39;49m\u001b[38;5;241;43m.\u001b[39;49m\u001b[43mtimeout\u001b[49m\u001b[43m,\u001b[49m\n\u001b[0;32m    201\u001b[0m \u001b[43m        \u001b[49m\u001b[43msource_address\u001b[49m\u001b[38;5;241;43m=\u001b[39;49m\u001b[38;5;28;43mself\u001b[39;49m\u001b[38;5;241;43m.\u001b[39;49m\u001b[43msource_address\u001b[49m\u001b[43m,\u001b[49m\n\u001b[0;32m    202\u001b[0m \u001b[43m        \u001b[49m\u001b[43msocket_options\u001b[49m\u001b[38;5;241;43m=\u001b[39;49m\u001b[38;5;28;43mself\u001b[39;49m\u001b[38;5;241;43m.\u001b[39;49m\u001b[43msocket_options\u001b[49m\u001b[43m,\u001b[49m\n\u001b[0;32m    203\u001b[0m \u001b[43m    \u001b[49m\u001b[43m)\u001b[49m\n\u001b[0;32m    204\u001b[0m \u001b[38;5;28;01mexcept\u001b[39;00m socket\u001b[38;5;241m.\u001b[39mgaierror \u001b[38;5;28;01mas\u001b[39;00m e:\n",
      "File \u001b[1;32mc:\\Users\\Myriam\\anaconda3\\envs\\myenv\\lib\\site-packages\\urllib3\\util\\connection.py:85\u001b[0m, in \u001b[0;36mcreate_connection\u001b[1;34m(address, timeout, source_address, socket_options)\u001b[0m\n\u001b[0;32m     84\u001b[0m \u001b[38;5;28;01mtry\u001b[39;00m:\n\u001b[1;32m---> 85\u001b[0m     \u001b[38;5;28;01mraise\u001b[39;00m err\n\u001b[0;32m     86\u001b[0m \u001b[38;5;28;01mfinally\u001b[39;00m:\n\u001b[0;32m     87\u001b[0m     \u001b[38;5;66;03m# Break explicitly a reference cycle\u001b[39;00m\n",
      "File \u001b[1;32mc:\\Users\\Myriam\\anaconda3\\envs\\myenv\\lib\\site-packages\\urllib3\\util\\connection.py:73\u001b[0m, in \u001b[0;36mcreate_connection\u001b[1;34m(address, timeout, source_address, socket_options)\u001b[0m\n\u001b[0;32m     72\u001b[0m     sock\u001b[38;5;241m.\u001b[39mbind(source_address)\n\u001b[1;32m---> 73\u001b[0m \u001b[43msock\u001b[49m\u001b[38;5;241;43m.\u001b[39;49m\u001b[43mconnect\u001b[49m\u001b[43m(\u001b[49m\u001b[43msa\u001b[49m\u001b[43m)\u001b[49m\n\u001b[0;32m     74\u001b[0m \u001b[38;5;66;03m# Break explicitly a reference cycle\u001b[39;00m\n",
      "\u001b[1;31mTimeoutError\u001b[0m: [WinError 10060] Une tentative de connexion a échoué car le parti connecté n’a pas répondu convenablement au-delà d’une certaine durée ou une connexion établie a échoué car l’hôte de connexion n’a pas répondu",
      "\nThe above exception was the direct cause of the following exception:\n",
      "\u001b[1;31mConnectTimeoutError\u001b[0m                       Traceback (most recent call last)",
      "File \u001b[1;32mc:\\Users\\Myriam\\anaconda3\\envs\\myenv\\lib\\site-packages\\urllib3\\connectionpool.py:787\u001b[0m, in \u001b[0;36mHTTPConnectionPool.urlopen\u001b[1;34m(self, method, url, body, headers, retries, redirect, assert_same_host, timeout, pool_timeout, release_conn, chunked, body_pos, preload_content, decode_content, **response_kw)\u001b[0m\n\u001b[0;32m    786\u001b[0m \u001b[38;5;66;03m# Make the request on the HTTPConnection object\u001b[39;00m\n\u001b[1;32m--> 787\u001b[0m response \u001b[38;5;241m=\u001b[39m \u001b[38;5;28mself\u001b[39m\u001b[38;5;241m.\u001b[39m_make_request(\n\u001b[0;32m    788\u001b[0m     conn,\n\u001b[0;32m    789\u001b[0m     method,\n\u001b[0;32m    790\u001b[0m     url,\n\u001b[0;32m    791\u001b[0m     timeout\u001b[38;5;241m=\u001b[39mtimeout_obj,\n\u001b[0;32m    792\u001b[0m     body\u001b[38;5;241m=\u001b[39mbody,\n\u001b[0;32m    793\u001b[0m     headers\u001b[38;5;241m=\u001b[39mheaders,\n\u001b[0;32m    794\u001b[0m     chunked\u001b[38;5;241m=\u001b[39mchunked,\n\u001b[0;32m    795\u001b[0m     retries\u001b[38;5;241m=\u001b[39mretries,\n\u001b[0;32m    796\u001b[0m     response_conn\u001b[38;5;241m=\u001b[39mresponse_conn,\n\u001b[0;32m    797\u001b[0m     preload_content\u001b[38;5;241m=\u001b[39mpreload_content,\n\u001b[0;32m    798\u001b[0m     decode_content\u001b[38;5;241m=\u001b[39mdecode_content,\n\u001b[0;32m    799\u001b[0m     \u001b[38;5;241m*\u001b[39m\u001b[38;5;241m*\u001b[39mresponse_kw,\n\u001b[0;32m    800\u001b[0m )\n\u001b[0;32m    802\u001b[0m \u001b[38;5;66;03m# Everything went great!\u001b[39;00m\n",
      "File \u001b[1;32mc:\\Users\\Myriam\\anaconda3\\envs\\myenv\\lib\\site-packages\\urllib3\\connectionpool.py:488\u001b[0m, in \u001b[0;36mHTTPConnectionPool._make_request\u001b[1;34m(self, conn, method, url, body, headers, retries, timeout, chunked, response_conn, preload_content, decode_content, enforce_content_length)\u001b[0m\n\u001b[0;32m    487\u001b[0m         new_e \u001b[38;5;241m=\u001b[39m _wrap_proxy_error(new_e, conn\u001b[38;5;241m.\u001b[39mproxy\u001b[38;5;241m.\u001b[39mscheme)\n\u001b[1;32m--> 488\u001b[0m     \u001b[38;5;28;01mraise\u001b[39;00m new_e\n\u001b[0;32m    490\u001b[0m \u001b[38;5;66;03m# conn.request() calls http.client.*.request, not the method in\u001b[39;00m\n\u001b[0;32m    491\u001b[0m \u001b[38;5;66;03m# urllib3.request. It also calls makefile (recv) on the socket.\u001b[39;00m\n",
      "File \u001b[1;32mc:\\Users\\Myriam\\anaconda3\\envs\\myenv\\lib\\site-packages\\urllib3\\connectionpool.py:464\u001b[0m, in \u001b[0;36mHTTPConnectionPool._make_request\u001b[1;34m(self, conn, method, url, body, headers, retries, timeout, chunked, response_conn, preload_content, decode_content, enforce_content_length)\u001b[0m\n\u001b[0;32m    463\u001b[0m \u001b[38;5;28;01mtry\u001b[39;00m:\n\u001b[1;32m--> 464\u001b[0m     \u001b[38;5;28;43mself\u001b[39;49m\u001b[38;5;241;43m.\u001b[39;49m\u001b[43m_validate_conn\u001b[49m\u001b[43m(\u001b[49m\u001b[43mconn\u001b[49m\u001b[43m)\u001b[49m\n\u001b[0;32m    465\u001b[0m \u001b[38;5;28;01mexcept\u001b[39;00m (SocketTimeout, BaseSSLError) \u001b[38;5;28;01mas\u001b[39;00m e:\n",
      "File \u001b[1;32mc:\\Users\\Myriam\\anaconda3\\envs\\myenv\\lib\\site-packages\\urllib3\\connectionpool.py:1093\u001b[0m, in \u001b[0;36mHTTPSConnectionPool._validate_conn\u001b[1;34m(self, conn)\u001b[0m\n\u001b[0;32m   1092\u001b[0m \u001b[38;5;28;01mif\u001b[39;00m conn\u001b[38;5;241m.\u001b[39mis_closed:\n\u001b[1;32m-> 1093\u001b[0m     \u001b[43mconn\u001b[49m\u001b[38;5;241;43m.\u001b[39;49m\u001b[43mconnect\u001b[49m\u001b[43m(\u001b[49m\u001b[43m)\u001b[49m\n\u001b[0;32m   1095\u001b[0m \u001b[38;5;66;03m# TODO revise this, see https://github.com/urllib3/urllib3/issues/2791\u001b[39;00m\n",
      "File \u001b[1;32mc:\\Users\\Myriam\\anaconda3\\envs\\myenv\\lib\\site-packages\\urllib3\\connection.py:704\u001b[0m, in \u001b[0;36mHTTPSConnection.connect\u001b[1;34m(self)\u001b[0m\n\u001b[0;32m    703\u001b[0m sock: socket\u001b[38;5;241m.\u001b[39msocket \u001b[38;5;241m|\u001b[39m ssl\u001b[38;5;241m.\u001b[39mSSLSocket\n\u001b[1;32m--> 704\u001b[0m \u001b[38;5;28mself\u001b[39m\u001b[38;5;241m.\u001b[39msock \u001b[38;5;241m=\u001b[39m sock \u001b[38;5;241m=\u001b[39m \u001b[38;5;28;43mself\u001b[39;49m\u001b[38;5;241;43m.\u001b[39;49m\u001b[43m_new_conn\u001b[49m\u001b[43m(\u001b[49m\u001b[43m)\u001b[49m\n\u001b[0;32m    705\u001b[0m server_hostname: \u001b[38;5;28mstr\u001b[39m \u001b[38;5;241m=\u001b[39m \u001b[38;5;28mself\u001b[39m\u001b[38;5;241m.\u001b[39mhost\n",
      "File \u001b[1;32mc:\\Users\\Myriam\\anaconda3\\envs\\myenv\\lib\\site-packages\\urllib3\\connection.py:207\u001b[0m, in \u001b[0;36mHTTPConnection._new_conn\u001b[1;34m(self)\u001b[0m\n\u001b[0;32m    206\u001b[0m \u001b[38;5;28;01mexcept\u001b[39;00m SocketTimeout \u001b[38;5;28;01mas\u001b[39;00m e:\n\u001b[1;32m--> 207\u001b[0m     \u001b[38;5;28;01mraise\u001b[39;00m ConnectTimeoutError(\n\u001b[0;32m    208\u001b[0m         \u001b[38;5;28mself\u001b[39m,\n\u001b[0;32m    209\u001b[0m         \u001b[38;5;124mf\u001b[39m\u001b[38;5;124m\"\u001b[39m\u001b[38;5;124mConnection to \u001b[39m\u001b[38;5;132;01m{\u001b[39;00m\u001b[38;5;28mself\u001b[39m\u001b[38;5;241m.\u001b[39mhost\u001b[38;5;132;01m}\u001b[39;00m\u001b[38;5;124m timed out. (connect timeout=\u001b[39m\u001b[38;5;132;01m{\u001b[39;00m\u001b[38;5;28mself\u001b[39m\u001b[38;5;241m.\u001b[39mtimeout\u001b[38;5;132;01m}\u001b[39;00m\u001b[38;5;124m)\u001b[39m\u001b[38;5;124m\"\u001b[39m,\n\u001b[0;32m    210\u001b[0m     ) \u001b[38;5;28;01mfrom\u001b[39;00m\u001b[38;5;250m \u001b[39m\u001b[38;5;21;01me\u001b[39;00m\n\u001b[0;32m    212\u001b[0m \u001b[38;5;28;01mexcept\u001b[39;00m \u001b[38;5;167;01mOSError\u001b[39;00m \u001b[38;5;28;01mas\u001b[39;00m e:\n",
      "\u001b[1;31mConnectTimeoutError\u001b[0m: (<urllib3.connection.HTTPSConnection object at 0x000001AD425E3CD0>, 'Connection to www.booking.com timed out. (connect timeout=None)')",
      "\nThe above exception was the direct cause of the following exception:\n",
      "\u001b[1;31mMaxRetryError\u001b[0m                             Traceback (most recent call last)",
      "File \u001b[1;32mc:\\Users\\Myriam\\anaconda3\\envs\\myenv\\lib\\site-packages\\requests\\adapters.py:667\u001b[0m, in \u001b[0;36mHTTPAdapter.send\u001b[1;34m(self, request, stream, timeout, verify, cert, proxies)\u001b[0m\n\u001b[0;32m    666\u001b[0m \u001b[38;5;28;01mtry\u001b[39;00m:\n\u001b[1;32m--> 667\u001b[0m     resp \u001b[38;5;241m=\u001b[39m \u001b[43mconn\u001b[49m\u001b[38;5;241;43m.\u001b[39;49m\u001b[43murlopen\u001b[49m\u001b[43m(\u001b[49m\n\u001b[0;32m    668\u001b[0m \u001b[43m        \u001b[49m\u001b[43mmethod\u001b[49m\u001b[38;5;241;43m=\u001b[39;49m\u001b[43mrequest\u001b[49m\u001b[38;5;241;43m.\u001b[39;49m\u001b[43mmethod\u001b[49m\u001b[43m,\u001b[49m\n\u001b[0;32m    669\u001b[0m \u001b[43m        \u001b[49m\u001b[43murl\u001b[49m\u001b[38;5;241;43m=\u001b[39;49m\u001b[43murl\u001b[49m\u001b[43m,\u001b[49m\n\u001b[0;32m    670\u001b[0m \u001b[43m        \u001b[49m\u001b[43mbody\u001b[49m\u001b[38;5;241;43m=\u001b[39;49m\u001b[43mrequest\u001b[49m\u001b[38;5;241;43m.\u001b[39;49m\u001b[43mbody\u001b[49m\u001b[43m,\u001b[49m\n\u001b[0;32m    671\u001b[0m \u001b[43m        \u001b[49m\u001b[43mheaders\u001b[49m\u001b[38;5;241;43m=\u001b[39;49m\u001b[43mrequest\u001b[49m\u001b[38;5;241;43m.\u001b[39;49m\u001b[43mheaders\u001b[49m\u001b[43m,\u001b[49m\n\u001b[0;32m    672\u001b[0m \u001b[43m        \u001b[49m\u001b[43mredirect\u001b[49m\u001b[38;5;241;43m=\u001b[39;49m\u001b[38;5;28;43;01mFalse\u001b[39;49;00m\u001b[43m,\u001b[49m\n\u001b[0;32m    673\u001b[0m \u001b[43m        \u001b[49m\u001b[43massert_same_host\u001b[49m\u001b[38;5;241;43m=\u001b[39;49m\u001b[38;5;28;43;01mFalse\u001b[39;49;00m\u001b[43m,\u001b[49m\n\u001b[0;32m    674\u001b[0m \u001b[43m        \u001b[49m\u001b[43mpreload_content\u001b[49m\u001b[38;5;241;43m=\u001b[39;49m\u001b[38;5;28;43;01mFalse\u001b[39;49;00m\u001b[43m,\u001b[49m\n\u001b[0;32m    675\u001b[0m \u001b[43m        \u001b[49m\u001b[43mdecode_content\u001b[49m\u001b[38;5;241;43m=\u001b[39;49m\u001b[38;5;28;43;01mFalse\u001b[39;49;00m\u001b[43m,\u001b[49m\n\u001b[0;32m    676\u001b[0m \u001b[43m        \u001b[49m\u001b[43mretries\u001b[49m\u001b[38;5;241;43m=\u001b[39;49m\u001b[38;5;28;43mself\u001b[39;49m\u001b[38;5;241;43m.\u001b[39;49m\u001b[43mmax_retries\u001b[49m\u001b[43m,\u001b[49m\n\u001b[0;32m    677\u001b[0m \u001b[43m        \u001b[49m\u001b[43mtimeout\u001b[49m\u001b[38;5;241;43m=\u001b[39;49m\u001b[43mtimeout\u001b[49m\u001b[43m,\u001b[49m\n\u001b[0;32m    678\u001b[0m \u001b[43m        \u001b[49m\u001b[43mchunked\u001b[49m\u001b[38;5;241;43m=\u001b[39;49m\u001b[43mchunked\u001b[49m\u001b[43m,\u001b[49m\n\u001b[0;32m    679\u001b[0m \u001b[43m    \u001b[49m\u001b[43m)\u001b[49m\n\u001b[0;32m    681\u001b[0m \u001b[38;5;28;01mexcept\u001b[39;00m (ProtocolError, \u001b[38;5;167;01mOSError\u001b[39;00m) \u001b[38;5;28;01mas\u001b[39;00m err:\n",
      "File \u001b[1;32mc:\\Users\\Myriam\\anaconda3\\envs\\myenv\\lib\\site-packages\\urllib3\\connectionpool.py:841\u001b[0m, in \u001b[0;36mHTTPConnectionPool.urlopen\u001b[1;34m(self, method, url, body, headers, retries, redirect, assert_same_host, timeout, pool_timeout, release_conn, chunked, body_pos, preload_content, decode_content, **response_kw)\u001b[0m\n\u001b[0;32m    839\u001b[0m     new_e \u001b[38;5;241m=\u001b[39m ProtocolError(\u001b[38;5;124m\"\u001b[39m\u001b[38;5;124mConnection aborted.\u001b[39m\u001b[38;5;124m\"\u001b[39m, new_e)\n\u001b[1;32m--> 841\u001b[0m retries \u001b[38;5;241m=\u001b[39m \u001b[43mretries\u001b[49m\u001b[38;5;241;43m.\u001b[39;49m\u001b[43mincrement\u001b[49m\u001b[43m(\u001b[49m\n\u001b[0;32m    842\u001b[0m \u001b[43m    \u001b[49m\u001b[43mmethod\u001b[49m\u001b[43m,\u001b[49m\u001b[43m \u001b[49m\u001b[43murl\u001b[49m\u001b[43m,\u001b[49m\u001b[43m \u001b[49m\u001b[43merror\u001b[49m\u001b[38;5;241;43m=\u001b[39;49m\u001b[43mnew_e\u001b[49m\u001b[43m,\u001b[49m\u001b[43m \u001b[49m\u001b[43m_pool\u001b[49m\u001b[38;5;241;43m=\u001b[39;49m\u001b[38;5;28;43mself\u001b[39;49m\u001b[43m,\u001b[49m\u001b[43m \u001b[49m\u001b[43m_stacktrace\u001b[49m\u001b[38;5;241;43m=\u001b[39;49m\u001b[43msys\u001b[49m\u001b[38;5;241;43m.\u001b[39;49m\u001b[43mexc_info\u001b[49m\u001b[43m(\u001b[49m\u001b[43m)\u001b[49m\u001b[43m[\u001b[49m\u001b[38;5;241;43m2\u001b[39;49m\u001b[43m]\u001b[49m\n\u001b[0;32m    843\u001b[0m \u001b[43m\u001b[49m\u001b[43m)\u001b[49m\n\u001b[0;32m    844\u001b[0m retries\u001b[38;5;241m.\u001b[39msleep()\n",
      "File \u001b[1;32mc:\\Users\\Myriam\\anaconda3\\envs\\myenv\\lib\\site-packages\\urllib3\\util\\retry.py:519\u001b[0m, in \u001b[0;36mRetry.increment\u001b[1;34m(self, method, url, response, error, _pool, _stacktrace)\u001b[0m\n\u001b[0;32m    518\u001b[0m     reason \u001b[38;5;241m=\u001b[39m error \u001b[38;5;129;01mor\u001b[39;00m ResponseError(cause)\n\u001b[1;32m--> 519\u001b[0m     \u001b[38;5;28;01mraise\u001b[39;00m MaxRetryError(_pool, url, reason) \u001b[38;5;28;01mfrom\u001b[39;00m\u001b[38;5;250m \u001b[39m\u001b[38;5;21;01mreason\u001b[39;00m  \u001b[38;5;66;03m# type: ignore[arg-type]\u001b[39;00m\n\u001b[0;32m    521\u001b[0m log\u001b[38;5;241m.\u001b[39mdebug(\u001b[38;5;124m\"\u001b[39m\u001b[38;5;124mIncremented Retry for (url=\u001b[39m\u001b[38;5;124m'\u001b[39m\u001b[38;5;132;01m%s\u001b[39;00m\u001b[38;5;124m'\u001b[39m\u001b[38;5;124m): \u001b[39m\u001b[38;5;132;01m%r\u001b[39;00m\u001b[38;5;124m\"\u001b[39m, url, new_retry)\n",
      "\u001b[1;31mMaxRetryError\u001b[0m: HTTPSConnectionPool(host='www.booking.com', port=443): Max retries exceeded with url: /searchresults.fr.html?ss=La+Rochelle&ssne=La+Rochelle&ssne_untouched=La+Rochelle&label=qwa121jc-1DCAEoggI46AdIM1gDaE2IAQGYAQ24ARfIAQ_YAQPoAQGIAgGoAgO4AoX3mr8GwAIB0gIkMDk1NzlmY2YtNjcwMy00MzdkLWFmNGItMzE3ODQzYzYxNWI32AIE4AIB&sid=b10d6df758b0e059011bf7be0724e09f&aid=1588662&lang=fr&sb=1&src_elem=sb&src=index&dest_id=-1438604&dest_type=city&checkin=2025-04-16&checkout=2025-04-17&group_adults=2&no_rooms=1&group_children=0 (Caused by ConnectTimeoutError(<urllib3.connection.HTTPSConnection object at 0x000001AD425E3CD0>, 'Connection to www.booking.com timed out. (connect timeout=None)'))",
      "\nDuring handling of the above exception, another exception occurred:\n",
      "\u001b[1;31mConnectTimeout\u001b[0m                            Traceback (most recent call last)",
      "Cell \u001b[1;32mIn[85], line 7\u001b[0m\n\u001b[0;32m      5\u001b[0m url_LaRochelle \u001b[38;5;241m=\u001b[39m \u001b[38;5;124m\"\u001b[39m\u001b[38;5;124mhttps://www.booking.com/searchresults.fr.html?ss=La+Rochelle&ssne=La+Rochelle&ssne_untouched=La+Rochelle&label=qwa121jc-1DCAEoggI46AdIM1gDaE2IAQGYAQ24ARfIAQ_YAQPoAQGIAgGoAgO4AoX3mr8GwAIB0gIkMDk1NzlmY2YtNjcwMy00MzdkLWFmNGItMzE3ODQzYzYxNWI32AIE4AIB&sid=b10d6df758b0e059011bf7be0724e09f&aid=1588662&lang=fr&sb=1&src_elem=sb&src=index&dest_id=-1438604&dest_type=city&checkin=2025-04-16&checkout=2025-04-17&group_adults=2&no_rooms=1&group_children=0\u001b[39m\u001b[38;5;124m\"\u001b[39m\n\u001b[0;32m      6\u001b[0m url \u001b[38;5;241m=\u001b[39m url_LaRochelle\n\u001b[1;32m----> 7\u001b[0m r \u001b[38;5;241m=\u001b[39m \u001b[43mrequests\u001b[49m\u001b[38;5;241;43m.\u001b[39;49m\u001b[43mget\u001b[49m\u001b[43m(\u001b[49m\u001b[43murl\u001b[49m\u001b[43m,\u001b[49m\u001b[43m \u001b[49m\u001b[43mheaders\u001b[49m\u001b[38;5;241;43m=\u001b[39;49m\u001b[43mheaders\u001b[49m\u001b[43m)\u001b[49m\n\u001b[0;32m      9\u001b[0m response \u001b[38;5;241m=\u001b[39m Selector(text\u001b[38;5;241m=\u001b[39mr\u001b[38;5;241m.\u001b[39mtext)\n",
      "File \u001b[1;32mc:\\Users\\Myriam\\anaconda3\\envs\\myenv\\lib\\site-packages\\requests\\api.py:73\u001b[0m, in \u001b[0;36mget\u001b[1;34m(url, params, **kwargs)\u001b[0m\n\u001b[0;32m     62\u001b[0m \u001b[38;5;28;01mdef\u001b[39;00m\u001b[38;5;250m \u001b[39m\u001b[38;5;21mget\u001b[39m(url, params\u001b[38;5;241m=\u001b[39m\u001b[38;5;28;01mNone\u001b[39;00m, \u001b[38;5;241m*\u001b[39m\u001b[38;5;241m*\u001b[39mkwargs):\n\u001b[0;32m     63\u001b[0m \u001b[38;5;250m    \u001b[39m\u001b[38;5;124mr\u001b[39m\u001b[38;5;124;03m\"\"\"Sends a GET request.\u001b[39;00m\n\u001b[0;32m     64\u001b[0m \n\u001b[0;32m     65\u001b[0m \u001b[38;5;124;03m    :param url: URL for the new :class:`Request` object.\u001b[39;00m\n\u001b[1;32m   (...)\u001b[0m\n\u001b[0;32m     70\u001b[0m \u001b[38;5;124;03m    :rtype: requests.Response\u001b[39;00m\n\u001b[0;32m     71\u001b[0m \u001b[38;5;124;03m    \"\"\"\u001b[39;00m\n\u001b[1;32m---> 73\u001b[0m     \u001b[38;5;28;01mreturn\u001b[39;00m request(\u001b[38;5;124m\"\u001b[39m\u001b[38;5;124mget\u001b[39m\u001b[38;5;124m\"\u001b[39m, url, params\u001b[38;5;241m=\u001b[39mparams, \u001b[38;5;241m*\u001b[39m\u001b[38;5;241m*\u001b[39mkwargs)\n",
      "File \u001b[1;32mc:\\Users\\Myriam\\anaconda3\\envs\\myenv\\lib\\site-packages\\requests\\api.py:59\u001b[0m, in \u001b[0;36mrequest\u001b[1;34m(method, url, **kwargs)\u001b[0m\n\u001b[0;32m     55\u001b[0m \u001b[38;5;66;03m# By using the 'with' statement we are sure the session is closed, thus we\u001b[39;00m\n\u001b[0;32m     56\u001b[0m \u001b[38;5;66;03m# avoid leaving sockets open which can trigger a ResourceWarning in some\u001b[39;00m\n\u001b[0;32m     57\u001b[0m \u001b[38;5;66;03m# cases, and look like a memory leak in others.\u001b[39;00m\n\u001b[0;32m     58\u001b[0m \u001b[38;5;28;01mwith\u001b[39;00m sessions\u001b[38;5;241m.\u001b[39mSession() \u001b[38;5;28;01mas\u001b[39;00m session:\n\u001b[1;32m---> 59\u001b[0m     \u001b[38;5;28;01mreturn\u001b[39;00m session\u001b[38;5;241m.\u001b[39mrequest(method\u001b[38;5;241m=\u001b[39mmethod, url\u001b[38;5;241m=\u001b[39murl, \u001b[38;5;241m*\u001b[39m\u001b[38;5;241m*\u001b[39mkwargs)\n",
      "File \u001b[1;32mc:\\Users\\Myriam\\anaconda3\\envs\\myenv\\lib\\site-packages\\requests\\sessions.py:589\u001b[0m, in \u001b[0;36mSession.request\u001b[1;34m(self, method, url, params, data, headers, cookies, files, auth, timeout, allow_redirects, proxies, hooks, stream, verify, cert, json)\u001b[0m\n\u001b[0;32m    584\u001b[0m send_kwargs \u001b[38;5;241m=\u001b[39m {\n\u001b[0;32m    585\u001b[0m     \u001b[38;5;124m\"\u001b[39m\u001b[38;5;124mtimeout\u001b[39m\u001b[38;5;124m\"\u001b[39m: timeout,\n\u001b[0;32m    586\u001b[0m     \u001b[38;5;124m\"\u001b[39m\u001b[38;5;124mallow_redirects\u001b[39m\u001b[38;5;124m\"\u001b[39m: allow_redirects,\n\u001b[0;32m    587\u001b[0m }\n\u001b[0;32m    588\u001b[0m send_kwargs\u001b[38;5;241m.\u001b[39mupdate(settings)\n\u001b[1;32m--> 589\u001b[0m resp \u001b[38;5;241m=\u001b[39m \u001b[38;5;28mself\u001b[39m\u001b[38;5;241m.\u001b[39msend(prep, \u001b[38;5;241m*\u001b[39m\u001b[38;5;241m*\u001b[39msend_kwargs)\n\u001b[0;32m    591\u001b[0m \u001b[38;5;28;01mreturn\u001b[39;00m resp\n",
      "File \u001b[1;32mc:\\Users\\Myriam\\anaconda3\\envs\\myenv\\lib\\site-packages\\requests\\sessions.py:703\u001b[0m, in \u001b[0;36mSession.send\u001b[1;34m(self, request, **kwargs)\u001b[0m\n\u001b[0;32m    700\u001b[0m start \u001b[38;5;241m=\u001b[39m preferred_clock()\n\u001b[0;32m    702\u001b[0m \u001b[38;5;66;03m# Send the request\u001b[39;00m\n\u001b[1;32m--> 703\u001b[0m r \u001b[38;5;241m=\u001b[39m adapter\u001b[38;5;241m.\u001b[39msend(request, \u001b[38;5;241m*\u001b[39m\u001b[38;5;241m*\u001b[39mkwargs)\n\u001b[0;32m    705\u001b[0m \u001b[38;5;66;03m# Total elapsed time of the request (approximately)\u001b[39;00m\n\u001b[0;32m    706\u001b[0m elapsed \u001b[38;5;241m=\u001b[39m preferred_clock() \u001b[38;5;241m-\u001b[39m start\n",
      "File \u001b[1;32mc:\\Users\\Myriam\\anaconda3\\envs\\myenv\\lib\\site-packages\\requests\\adapters.py:688\u001b[0m, in \u001b[0;36mHTTPAdapter.send\u001b[1;34m(self, request, stream, timeout, verify, cert, proxies)\u001b[0m\n\u001b[0;32m    685\u001b[0m \u001b[38;5;28;01mif\u001b[39;00m \u001b[38;5;28misinstance\u001b[39m(e\u001b[38;5;241m.\u001b[39mreason, ConnectTimeoutError):\n\u001b[0;32m    686\u001b[0m     \u001b[38;5;66;03m# TODO: Remove this in 3.0.0: see #2811\u001b[39;00m\n\u001b[0;32m    687\u001b[0m     \u001b[38;5;28;01mif\u001b[39;00m \u001b[38;5;129;01mnot\u001b[39;00m \u001b[38;5;28misinstance\u001b[39m(e\u001b[38;5;241m.\u001b[39mreason, NewConnectionError):\n\u001b[1;32m--> 688\u001b[0m         \u001b[38;5;28;01mraise\u001b[39;00m ConnectTimeout(e, request\u001b[38;5;241m=\u001b[39mrequest)\n\u001b[0;32m    690\u001b[0m \u001b[38;5;28;01mif\u001b[39;00m \u001b[38;5;28misinstance\u001b[39m(e\u001b[38;5;241m.\u001b[39mreason, ResponseError):\n\u001b[0;32m    691\u001b[0m     \u001b[38;5;28;01mraise\u001b[39;00m RetryError(e, request\u001b[38;5;241m=\u001b[39mrequest)\n",
      "\u001b[1;31mConnectTimeout\u001b[0m: HTTPSConnectionPool(host='www.booking.com', port=443): Max retries exceeded with url: /searchresults.fr.html?ss=La+Rochelle&ssne=La+Rochelle&ssne_untouched=La+Rochelle&label=qwa121jc-1DCAEoggI46AdIM1gDaE2IAQGYAQ24ARfIAQ_YAQPoAQGIAgGoAgO4AoX3mr8GwAIB0gIkMDk1NzlmY2YtNjcwMy00MzdkLWFmNGItMzE3ODQzYzYxNWI32AIE4AIB&sid=b10d6df758b0e059011bf7be0724e09f&aid=1588662&lang=fr&sb=1&src_elem=sb&src=index&dest_id=-1438604&dest_type=city&checkin=2025-04-16&checkout=2025-04-17&group_adults=2&no_rooms=1&group_children=0 (Caused by ConnectTimeoutError(<urllib3.connection.HTTPSConnection object at 0x000001AD425E3CD0>, 'Connection to www.booking.com timed out. (connect timeout=None)'))"
     ]
    }
   ],
   "source": [
    "headers = {\n",
    "    'User-Agent': 'Mozilla/5.0 (Windows NT 10.0; Win64; x64) AppleWebKit/537.36 (KHTML, like Gecko) Chrome/58.0.3029.110 Safari/537.3'\n",
    "}\n",
    "\n",
    "url_LaRochelle = \"https://www.booking.com/searchresults.fr.html?ss=La+Rochelle&ssne=La+Rochelle&ssne_untouched=La+Rochelle&label=qwa121jc-1DCAEoggI46AdIM1gDaE2IAQGYAQ24ARfIAQ_YAQPoAQGIAgGoAgO4AoX3mr8GwAIB0gIkMDk1NzlmY2YtNjcwMy00MzdkLWFmNGItMzE3ODQzYzYxNWI32AIE4AIB&sid=b10d6df758b0e059011bf7be0724e09f&aid=1588662&lang=fr&sb=1&src_elem=sb&src=index&dest_id=-1438604&dest_type=city&checkin=2025-04-16&checkout=2025-04-17&group_adults=2&no_rooms=1&group_children=0\"\n",
    "url = url_LaRochelle\n",
    "r = requests.get(url, headers=headers)\n",
    "\n",
    "response = Selector(text=r.text)"
   ]
  },
  {
   "cell_type": "code",
   "execution_count": 88,
   "metadata": {},
   "outputs": [
    {
     "data": {
      "text/plain": [
       "<Response [200]>"
      ]
     },
     "execution_count": 88,
     "metadata": {},
     "output_type": "execute_result"
    }
   ],
   "source": [
    "r"
   ]
  },
  {
   "cell_type": "code",
   "execution_count": null,
   "metadata": {},
   "outputs": [],
   "source": []
  }
 ],
 "metadata": {
  "kernelspec": {
   "display_name": "myenv",
   "language": "python",
   "name": "python3"
  },
  "language_info": {
   "codemirror_mode": {
    "name": "ipython",
    "version": 3
   },
   "file_extension": ".py",
   "mimetype": "text/x-python",
   "name": "python",
   "nbconvert_exporter": "python",
   "pygments_lexer": "ipython3",
   "version": "3.10.13"
  }
 },
 "nbformat": 4,
 "nbformat_minor": 2
}
