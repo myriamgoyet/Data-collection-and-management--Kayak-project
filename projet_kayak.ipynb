{
 "cells": [
  {
   "cell_type": "code",
   "execution_count": 157,
   "metadata": {},
   "outputs": [],
   "source": [
    "import requests\n",
    "import json\n",
    "import os\n",
    "from dotenv import load_dotenv\n",
    "import pandas as pd\n",
    "from datetime import datetime\n",
    "import folium\n",
    "import time\n",
    "import seaborn as sns\n",
    "import plotly.express as px\n",
    "import requests\n",
    "import scrapy\n",
    "from scrapy import Selector\n",
    "from scrapy.crawler import CrawlerProcess\n",
    "import logging\n",
    "import csv\n",
    "\n",
    "\n",
    "\n"
   ]
  },
  {
   "cell_type": "code",
   "execution_count": 81,
   "metadata": {},
   "outputs": [],
   "source": [
    "load_dotenv()\n",
    "\n",
    "Open_Weather_API_Key_Myriam= os.getenv(\"Open_Weather_API_Key_Myriam\") "
   ]
  },
  {
   "cell_type": "markdown",
   "metadata": {},
   "source": [
    "# Extraction des informations géographiques des 35 plus belles villes"
   ]
  },
  {
   "cell_type": "markdown",
   "metadata": {},
   "source": [
    "Sur la liste des 35 plus belles villes, nous avons 34 noms de villes + 1 lieu d'interêt qui n'est pas une ville (Gorges du Verdon). Pour récupérer les latitudes et longitudes des 34 villes nous pouvons facilement utiliser l'API openweathermap. Cette API permet facilement de collecter également le pays et la région, ce qui est utile pour contrôler d'un même coût les éventuelles erreures liées à des villes homonymes dans le monde.\n",
    "Cependant, cette API récupère les informations en se basant sur un nom de ville. Elle ne reconnait pas les Gorges du Verdon. Pour palier ce problème, une seconde API a été utilisée, nominatim.openstreetmap. Le nombre de requete est plus limité et elle ne permet pas de récupérer la région et le pays. C'est en visualisant les villes sur une carte qu'on pourra confirmer la bonne géolocalisation."
   ]
  },
  {
   "cell_type": "code",
   "execution_count": 82,
   "metadata": {},
   "outputs": [],
   "source": [
    "best_cities= [\"Mont Saint Michel\",\n",
    "\"St Malo\",\n",
    "\"Bayeux\",\n",
    "\"Le Havre\",\n",
    "\"Rouen\",\n",
    "\"Paris\",\n",
    "\"Amiens\",\n",
    "\"Lille\",\n",
    "\"Strasbourg\",\n",
    "\"Chateau du Haut Koenigsbourg\",\n",
    "\"Colmar\",\n",
    "\"Eguisheim\",\n",
    "\"Besancon\",\n",
    "\"Dijon\",\n",
    "\"Annecy\",\n",
    "\"Grenoble\",\n",
    "\"Lyon\",\n",
    "\"Bormes les Mimosas\",\n",
    "\"Cassis\",\n",
    "\"Marseille\",\n",
    "\"Aix en Provence\",\n",
    "\"Avignon\",\n",
    "\"Uzes\",\n",
    "\"Nimes\",\n",
    "\"Aigues Mortes\",\n",
    "\"Saintes Maries de la mer\",\n",
    "\"Collioure\",\n",
    "\"Carcassonne\",\n",
    "\"Ariege\",\n",
    "\"Toulouse\",\n",
    "\"Montauban\",\n",
    "\"Biarritz\",\n",
    "\"Bayonne\",\n",
    "\"La Rochelle\",\n",
    "#\"Gorges du Verdon\" exclu de la liste dans un premier temps car n'est pas une ville mais un point d'intérêt.\n",
    "]\n"
   ]
  },
  {
   "cell_type": "code",
   "execution_count": 83,
   "metadata": {},
   "outputs": [
    {
     "data": {
      "text/plain": [
       "'La Rochelle'"
      ]
     },
     "execution_count": 83,
     "metadata": {},
     "output_type": "execute_result"
    }
   ],
   "source": [
    "best_cities[-1]"
   ]
  },
  {
   "cell_type": "code",
   "execution_count": 84,
   "metadata": {},
   "outputs": [
    {
     "data": {
      "text/html": [
       "<div>\n",
       "<style scoped>\n",
       "    .dataframe tbody tr th:only-of-type {\n",
       "        vertical-align: middle;\n",
       "    }\n",
       "\n",
       "    .dataframe tbody tr th {\n",
       "        vertical-align: top;\n",
       "    }\n",
       "\n",
       "    .dataframe thead th {\n",
       "        text-align: right;\n",
       "    }\n",
       "</style>\n",
       "<table border=\"1\" class=\"dataframe\">\n",
       "  <thead>\n",
       "    <tr style=\"text-align: right;\">\n",
       "      <th></th>\n",
       "      <th>cities</th>\n",
       "    </tr>\n",
       "  </thead>\n",
       "  <tbody>\n",
       "    <tr>\n",
       "      <th>0</th>\n",
       "      <td>Mont Saint Michel</td>\n",
       "    </tr>\n",
       "    <tr>\n",
       "      <th>1</th>\n",
       "      <td>St Malo</td>\n",
       "    </tr>\n",
       "    <tr>\n",
       "      <th>2</th>\n",
       "      <td>Bayeux</td>\n",
       "    </tr>\n",
       "    <tr>\n",
       "      <th>3</th>\n",
       "      <td>Le Havre</td>\n",
       "    </tr>\n",
       "    <tr>\n",
       "      <th>4</th>\n",
       "      <td>Rouen</td>\n",
       "    </tr>\n",
       "    <tr>\n",
       "      <th>5</th>\n",
       "      <td>Paris</td>\n",
       "    </tr>\n",
       "    <tr>\n",
       "      <th>6</th>\n",
       "      <td>Amiens</td>\n",
       "    </tr>\n",
       "    <tr>\n",
       "      <th>7</th>\n",
       "      <td>Lille</td>\n",
       "    </tr>\n",
       "    <tr>\n",
       "      <th>8</th>\n",
       "      <td>Strasbourg</td>\n",
       "    </tr>\n",
       "    <tr>\n",
       "      <th>9</th>\n",
       "      <td>Chateau du Haut Koenigsbourg</td>\n",
       "    </tr>\n",
       "    <tr>\n",
       "      <th>10</th>\n",
       "      <td>Colmar</td>\n",
       "    </tr>\n",
       "    <tr>\n",
       "      <th>11</th>\n",
       "      <td>Eguisheim</td>\n",
       "    </tr>\n",
       "    <tr>\n",
       "      <th>12</th>\n",
       "      <td>Besancon</td>\n",
       "    </tr>\n",
       "    <tr>\n",
       "      <th>13</th>\n",
       "      <td>Dijon</td>\n",
       "    </tr>\n",
       "    <tr>\n",
       "      <th>14</th>\n",
       "      <td>Annecy</td>\n",
       "    </tr>\n",
       "    <tr>\n",
       "      <th>15</th>\n",
       "      <td>Grenoble</td>\n",
       "    </tr>\n",
       "    <tr>\n",
       "      <th>16</th>\n",
       "      <td>Lyon</td>\n",
       "    </tr>\n",
       "    <tr>\n",
       "      <th>17</th>\n",
       "      <td>Bormes les Mimosas</td>\n",
       "    </tr>\n",
       "    <tr>\n",
       "      <th>18</th>\n",
       "      <td>Cassis</td>\n",
       "    </tr>\n",
       "    <tr>\n",
       "      <th>19</th>\n",
       "      <td>Marseille</td>\n",
       "    </tr>\n",
       "    <tr>\n",
       "      <th>20</th>\n",
       "      <td>Aix en Provence</td>\n",
       "    </tr>\n",
       "    <tr>\n",
       "      <th>21</th>\n",
       "      <td>Avignon</td>\n",
       "    </tr>\n",
       "    <tr>\n",
       "      <th>22</th>\n",
       "      <td>Uzes</td>\n",
       "    </tr>\n",
       "    <tr>\n",
       "      <th>23</th>\n",
       "      <td>Nimes</td>\n",
       "    </tr>\n",
       "    <tr>\n",
       "      <th>24</th>\n",
       "      <td>Aigues Mortes</td>\n",
       "    </tr>\n",
       "    <tr>\n",
       "      <th>25</th>\n",
       "      <td>Saintes Maries de la mer</td>\n",
       "    </tr>\n",
       "    <tr>\n",
       "      <th>26</th>\n",
       "      <td>Collioure</td>\n",
       "    </tr>\n",
       "    <tr>\n",
       "      <th>27</th>\n",
       "      <td>Carcassonne</td>\n",
       "    </tr>\n",
       "    <tr>\n",
       "      <th>28</th>\n",
       "      <td>Ariege</td>\n",
       "    </tr>\n",
       "    <tr>\n",
       "      <th>29</th>\n",
       "      <td>Toulouse</td>\n",
       "    </tr>\n",
       "    <tr>\n",
       "      <th>30</th>\n",
       "      <td>Montauban</td>\n",
       "    </tr>\n",
       "    <tr>\n",
       "      <th>31</th>\n",
       "      <td>Biarritz</td>\n",
       "    </tr>\n",
       "    <tr>\n",
       "      <th>32</th>\n",
       "      <td>Bayonne</td>\n",
       "    </tr>\n",
       "    <tr>\n",
       "      <th>33</th>\n",
       "      <td>La Rochelle</td>\n",
       "    </tr>\n",
       "  </tbody>\n",
       "</table>\n",
       "</div>"
      ],
      "text/plain": [
       "                          cities\n",
       "0              Mont Saint Michel\n",
       "1                        St Malo\n",
       "2                         Bayeux\n",
       "3                       Le Havre\n",
       "4                          Rouen\n",
       "5                          Paris\n",
       "6                         Amiens\n",
       "7                          Lille\n",
       "8                     Strasbourg\n",
       "9   Chateau du Haut Koenigsbourg\n",
       "10                        Colmar\n",
       "11                     Eguisheim\n",
       "12                      Besancon\n",
       "13                         Dijon\n",
       "14                        Annecy\n",
       "15                      Grenoble\n",
       "16                          Lyon\n",
       "17            Bormes les Mimosas\n",
       "18                        Cassis\n",
       "19                     Marseille\n",
       "20               Aix en Provence\n",
       "21                       Avignon\n",
       "22                          Uzes\n",
       "23                         Nimes\n",
       "24                 Aigues Mortes\n",
       "25      Saintes Maries de la mer\n",
       "26                     Collioure\n",
       "27                   Carcassonne\n",
       "28                        Ariege\n",
       "29                      Toulouse\n",
       "30                     Montauban\n",
       "31                      Biarritz\n",
       "32                       Bayonne\n",
       "33                   La Rochelle"
      ]
     },
     "execution_count": 84,
     "metadata": {},
     "output_type": "execute_result"
    }
   ],
   "source": [
    "#création d'un dataframe avec la liste des best cities\n",
    "df = pd.DataFrame(data = best_cities, columns = [\"cities\"])\n",
    "df"
   ]
  },
  {
   "cell_type": "markdown",
   "metadata": {},
   "source": [
    "## Import des longitudes & latitudes des 35 best cities"
   ]
  },
  {
   "cell_type": "code",
   "execution_count": 85,
   "metadata": {},
   "outputs": [
    {
     "data": {
      "text/plain": [
       "(34, 1)"
      ]
     },
     "execution_count": 85,
     "metadata": {},
     "output_type": "execute_result"
    }
   ],
   "source": [
    "df.shape"
   ]
  },
  {
   "cell_type": "code",
   "execution_count": 86,
   "metadata": {},
   "outputs": [
    {
     "data": {
      "text/html": [
       "<div>\n",
       "<style scoped>\n",
       "    .dataframe tbody tr th:only-of-type {\n",
       "        vertical-align: middle;\n",
       "    }\n",
       "\n",
       "    .dataframe tbody tr th {\n",
       "        vertical-align: top;\n",
       "    }\n",
       "\n",
       "    .dataframe thead th {\n",
       "        text-align: right;\n",
       "    }\n",
       "</style>\n",
       "<table border=\"1\" class=\"dataframe\">\n",
       "  <thead>\n",
       "    <tr style=\"text-align: right;\">\n",
       "      <th></th>\n",
       "      <th>cities</th>\n",
       "      <th>name</th>\n",
       "      <th>country</th>\n",
       "      <th>state</th>\n",
       "      <th>lat</th>\n",
       "      <th>lon</th>\n",
       "    </tr>\n",
       "  </thead>\n",
       "  <tbody>\n",
       "    <tr>\n",
       "      <th>0</th>\n",
       "      <td>Mont Saint Michel</td>\n",
       "      <td>Mont Saint-Michel</td>\n",
       "      <td>FR</td>\n",
       "      <td>Normandy</td>\n",
       "      <td>48.635954</td>\n",
       "      <td>-1.511460</td>\n",
       "    </tr>\n",
       "    <tr>\n",
       "      <th>1</th>\n",
       "      <td>St Malo</td>\n",
       "      <td>Saint-Malo</td>\n",
       "      <td>FR</td>\n",
       "      <td>Brittany</td>\n",
       "      <td>48.649518</td>\n",
       "      <td>-2.026041</td>\n",
       "    </tr>\n",
       "    <tr>\n",
       "      <th>2</th>\n",
       "      <td>Bayeux</td>\n",
       "      <td>Bayeux</td>\n",
       "      <td>FR</td>\n",
       "      <td>Normandy</td>\n",
       "      <td>49.276462</td>\n",
       "      <td>-0.702474</td>\n",
       "    </tr>\n",
       "    <tr>\n",
       "      <th>3</th>\n",
       "      <td>Le Havre</td>\n",
       "      <td>Le Havre</td>\n",
       "      <td>FR</td>\n",
       "      <td>Normandy</td>\n",
       "      <td>49.493898</td>\n",
       "      <td>0.107973</td>\n",
       "    </tr>\n",
       "    <tr>\n",
       "      <th>4</th>\n",
       "      <td>Rouen</td>\n",
       "      <td>Rouen</td>\n",
       "      <td>FR</td>\n",
       "      <td>Normandy</td>\n",
       "      <td>49.440459</td>\n",
       "      <td>1.093966</td>\n",
       "    </tr>\n",
       "    <tr>\n",
       "      <th>5</th>\n",
       "      <td>Paris</td>\n",
       "      <td>Paris</td>\n",
       "      <td>FR</td>\n",
       "      <td>Ile-de-France</td>\n",
       "      <td>48.858890</td>\n",
       "      <td>2.320041</td>\n",
       "    </tr>\n",
       "    <tr>\n",
       "      <th>6</th>\n",
       "      <td>Amiens</td>\n",
       "      <td>Amiens</td>\n",
       "      <td>FR</td>\n",
       "      <td>Hauts-de-France</td>\n",
       "      <td>49.894171</td>\n",
       "      <td>2.295695</td>\n",
       "    </tr>\n",
       "    <tr>\n",
       "      <th>7</th>\n",
       "      <td>Lille</td>\n",
       "      <td>Lille</td>\n",
       "      <td>FR</td>\n",
       "      <td>Hauts-de-France</td>\n",
       "      <td>50.636565</td>\n",
       "      <td>3.063528</td>\n",
       "    </tr>\n",
       "    <tr>\n",
       "      <th>8</th>\n",
       "      <td>Strasbourg</td>\n",
       "      <td>Strasbourg</td>\n",
       "      <td>FR</td>\n",
       "      <td>Grand Est</td>\n",
       "      <td>48.584614</td>\n",
       "      <td>7.750713</td>\n",
       "    </tr>\n",
       "    <tr>\n",
       "      <th>9</th>\n",
       "      <td>Chateau du Haut Koenigsbourg</td>\n",
       "      <td>Château du Haut-Kœnigsbourg</td>\n",
       "      <td>FR</td>\n",
       "      <td>Grand Est</td>\n",
       "      <td>48.249523</td>\n",
       "      <td>7.345492</td>\n",
       "    </tr>\n",
       "    <tr>\n",
       "      <th>10</th>\n",
       "      <td>Colmar</td>\n",
       "      <td>Colmar</td>\n",
       "      <td>FR</td>\n",
       "      <td>Grand Est</td>\n",
       "      <td>48.077752</td>\n",
       "      <td>7.357964</td>\n",
       "    </tr>\n",
       "    <tr>\n",
       "      <th>11</th>\n",
       "      <td>Eguisheim</td>\n",
       "      <td>Eguisheim</td>\n",
       "      <td>FR</td>\n",
       "      <td>Grand Est</td>\n",
       "      <td>48.044797</td>\n",
       "      <td>7.307962</td>\n",
       "    </tr>\n",
       "    <tr>\n",
       "      <th>12</th>\n",
       "      <td>Besancon</td>\n",
       "      <td>Besançon</td>\n",
       "      <td>FR</td>\n",
       "      <td>Bourgogne-Franche-Comté</td>\n",
       "      <td>47.238022</td>\n",
       "      <td>6.024362</td>\n",
       "    </tr>\n",
       "    <tr>\n",
       "      <th>13</th>\n",
       "      <td>Dijon</td>\n",
       "      <td>Dijon</td>\n",
       "      <td>FR</td>\n",
       "      <td>Bourgogne-Franche-Comté</td>\n",
       "      <td>47.321581</td>\n",
       "      <td>5.041470</td>\n",
       "    </tr>\n",
       "    <tr>\n",
       "      <th>14</th>\n",
       "      <td>Annecy</td>\n",
       "      <td>Annecy</td>\n",
       "      <td>FR</td>\n",
       "      <td>Auvergne-Rhône-Alpes</td>\n",
       "      <td>45.899235</td>\n",
       "      <td>6.128885</td>\n",
       "    </tr>\n",
       "    <tr>\n",
       "      <th>15</th>\n",
       "      <td>Grenoble</td>\n",
       "      <td>Grenoble</td>\n",
       "      <td>FR</td>\n",
       "      <td>Auvergne-Rhône-Alpes</td>\n",
       "      <td>45.187560</td>\n",
       "      <td>5.735782</td>\n",
       "    </tr>\n",
       "    <tr>\n",
       "      <th>16</th>\n",
       "      <td>Lyon</td>\n",
       "      <td>Lyon</td>\n",
       "      <td>FR</td>\n",
       "      <td>Auvergne-Rhône-Alpes</td>\n",
       "      <td>45.757814</td>\n",
       "      <td>4.832011</td>\n",
       "    </tr>\n",
       "    <tr>\n",
       "      <th>17</th>\n",
       "      <td>Bormes les Mimosas</td>\n",
       "      <td>Bormes-les-Mimosas</td>\n",
       "      <td>FR</td>\n",
       "      <td>Provence-Alpes-Côte d'Azur</td>\n",
       "      <td>43.150697</td>\n",
       "      <td>6.341928</td>\n",
       "    </tr>\n",
       "    <tr>\n",
       "      <th>18</th>\n",
       "      <td>Cassis</td>\n",
       "      <td>Cassis</td>\n",
       "      <td>FR</td>\n",
       "      <td>Provence-Alpes-Côte d'Azur</td>\n",
       "      <td>43.214036</td>\n",
       "      <td>5.539632</td>\n",
       "    </tr>\n",
       "    <tr>\n",
       "      <th>19</th>\n",
       "      <td>Marseille</td>\n",
       "      <td>Marseille</td>\n",
       "      <td>FR</td>\n",
       "      <td>Provence-Alpes-Côte d'Azur</td>\n",
       "      <td>43.296174</td>\n",
       "      <td>5.369953</td>\n",
       "    </tr>\n",
       "    <tr>\n",
       "      <th>20</th>\n",
       "      <td>Aix en Provence</td>\n",
       "      <td>Aix-en-Provence</td>\n",
       "      <td>FR</td>\n",
       "      <td>Provence-Alpes-Côte d'Azur</td>\n",
       "      <td>43.529842</td>\n",
       "      <td>5.447474</td>\n",
       "    </tr>\n",
       "    <tr>\n",
       "      <th>21</th>\n",
       "      <td>Avignon</td>\n",
       "      <td>Avignon</td>\n",
       "      <td>FR</td>\n",
       "      <td>Provence-Alpes-Côte d'Azur</td>\n",
       "      <td>43.949249</td>\n",
       "      <td>4.805901</td>\n",
       "    </tr>\n",
       "    <tr>\n",
       "      <th>22</th>\n",
       "      <td>Uzes</td>\n",
       "      <td>Uzès</td>\n",
       "      <td>FR</td>\n",
       "      <td>Occitania</td>\n",
       "      <td>44.012128</td>\n",
       "      <td>4.419672</td>\n",
       "    </tr>\n",
       "    <tr>\n",
       "      <th>23</th>\n",
       "      <td>Nimes</td>\n",
       "      <td>Nimes</td>\n",
       "      <td>FR</td>\n",
       "      <td>Occitania</td>\n",
       "      <td>43.837425</td>\n",
       "      <td>4.360069</td>\n",
       "    </tr>\n",
       "    <tr>\n",
       "      <th>24</th>\n",
       "      <td>Aigues Mortes</td>\n",
       "      <td>Aigues-Mortes</td>\n",
       "      <td>FR</td>\n",
       "      <td>Occitania</td>\n",
       "      <td>43.565823</td>\n",
       "      <td>4.191284</td>\n",
       "    </tr>\n",
       "    <tr>\n",
       "      <th>25</th>\n",
       "      <td>Saintes Maries de la mer</td>\n",
       "      <td>Saintes-Maries-de-la-Mer</td>\n",
       "      <td>FR</td>\n",
       "      <td>Provence-Alpes-Côte d'Azur</td>\n",
       "      <td>43.452277</td>\n",
       "      <td>4.428717</td>\n",
       "    </tr>\n",
       "    <tr>\n",
       "      <th>26</th>\n",
       "      <td>Collioure</td>\n",
       "      <td>Collioure</td>\n",
       "      <td>FR</td>\n",
       "      <td>Occitania</td>\n",
       "      <td>42.525050</td>\n",
       "      <td>3.083155</td>\n",
       "    </tr>\n",
       "    <tr>\n",
       "      <th>27</th>\n",
       "      <td>Carcassonne</td>\n",
       "      <td>Carcassonne</td>\n",
       "      <td>FR</td>\n",
       "      <td>Occitania</td>\n",
       "      <td>43.213036</td>\n",
       "      <td>2.349107</td>\n",
       "    </tr>\n",
       "    <tr>\n",
       "      <th>28</th>\n",
       "      <td>Ariege</td>\n",
       "      <td>Tarascon-sur-Ariège</td>\n",
       "      <td>FR</td>\n",
       "      <td>Occitania</td>\n",
       "      <td>42.845802</td>\n",
       "      <td>1.606759</td>\n",
       "    </tr>\n",
       "    <tr>\n",
       "      <th>29</th>\n",
       "      <td>Toulouse</td>\n",
       "      <td>Toulouse</td>\n",
       "      <td>FR</td>\n",
       "      <td>Occitania</td>\n",
       "      <td>43.604462</td>\n",
       "      <td>1.444247</td>\n",
       "    </tr>\n",
       "    <tr>\n",
       "      <th>30</th>\n",
       "      <td>Montauban</td>\n",
       "      <td>Montauban</td>\n",
       "      <td>FR</td>\n",
       "      <td>Occitania</td>\n",
       "      <td>44.017584</td>\n",
       "      <td>1.354999</td>\n",
       "    </tr>\n",
       "    <tr>\n",
       "      <th>31</th>\n",
       "      <td>Biarritz</td>\n",
       "      <td>Biarritz</td>\n",
       "      <td>FR</td>\n",
       "      <td>Nouvelle-Aquitaine</td>\n",
       "      <td>43.483252</td>\n",
       "      <td>-1.559278</td>\n",
       "    </tr>\n",
       "    <tr>\n",
       "      <th>32</th>\n",
       "      <td>Bayonne</td>\n",
       "      <td>Bayonne</td>\n",
       "      <td>FR</td>\n",
       "      <td>Nouvelle-Aquitaine</td>\n",
       "      <td>43.494514</td>\n",
       "      <td>-1.473666</td>\n",
       "    </tr>\n",
       "    <tr>\n",
       "      <th>33</th>\n",
       "      <td>La Rochelle</td>\n",
       "      <td>La Rochelle</td>\n",
       "      <td>FR</td>\n",
       "      <td>Nouvelle-Aquitaine</td>\n",
       "      <td>46.159113</td>\n",
       "      <td>-1.152043</td>\n",
       "    </tr>\n",
       "  </tbody>\n",
       "</table>\n",
       "</div>"
      ],
      "text/plain": [
       "                          cities                         name country  \\\n",
       "0              Mont Saint Michel            Mont Saint-Michel      FR   \n",
       "1                        St Malo                   Saint-Malo      FR   \n",
       "2                         Bayeux                       Bayeux      FR   \n",
       "3                       Le Havre                     Le Havre      FR   \n",
       "4                          Rouen                        Rouen      FR   \n",
       "5                          Paris                        Paris      FR   \n",
       "6                         Amiens                       Amiens      FR   \n",
       "7                          Lille                        Lille      FR   \n",
       "8                     Strasbourg                   Strasbourg      FR   \n",
       "9   Chateau du Haut Koenigsbourg  Château du Haut-Kœnigsbourg      FR   \n",
       "10                        Colmar                       Colmar      FR   \n",
       "11                     Eguisheim                    Eguisheim      FR   \n",
       "12                      Besancon                     Besançon      FR   \n",
       "13                         Dijon                        Dijon      FR   \n",
       "14                        Annecy                       Annecy      FR   \n",
       "15                      Grenoble                     Grenoble      FR   \n",
       "16                          Lyon                         Lyon      FR   \n",
       "17            Bormes les Mimosas           Bormes-les-Mimosas      FR   \n",
       "18                        Cassis                       Cassis      FR   \n",
       "19                     Marseille                    Marseille      FR   \n",
       "20               Aix en Provence              Aix-en-Provence      FR   \n",
       "21                       Avignon                      Avignon      FR   \n",
       "22                          Uzes                         Uzès      FR   \n",
       "23                         Nimes                        Nimes      FR   \n",
       "24                 Aigues Mortes                Aigues-Mortes      FR   \n",
       "25      Saintes Maries de la mer     Saintes-Maries-de-la-Mer      FR   \n",
       "26                     Collioure                    Collioure      FR   \n",
       "27                   Carcassonne                  Carcassonne      FR   \n",
       "28                        Ariege          Tarascon-sur-Ariège      FR   \n",
       "29                      Toulouse                     Toulouse      FR   \n",
       "30                     Montauban                    Montauban      FR   \n",
       "31                      Biarritz                     Biarritz      FR   \n",
       "32                       Bayonne                      Bayonne      FR   \n",
       "33                   La Rochelle                  La Rochelle      FR   \n",
       "\n",
       "                         state        lat       lon  \n",
       "0                     Normandy  48.635954 -1.511460  \n",
       "1                     Brittany  48.649518 -2.026041  \n",
       "2                     Normandy  49.276462 -0.702474  \n",
       "3                     Normandy  49.493898  0.107973  \n",
       "4                     Normandy  49.440459  1.093966  \n",
       "5                Ile-de-France  48.858890  2.320041  \n",
       "6              Hauts-de-France  49.894171  2.295695  \n",
       "7              Hauts-de-France  50.636565  3.063528  \n",
       "8                    Grand Est  48.584614  7.750713  \n",
       "9                    Grand Est  48.249523  7.345492  \n",
       "10                   Grand Est  48.077752  7.357964  \n",
       "11                   Grand Est  48.044797  7.307962  \n",
       "12     Bourgogne-Franche-Comté  47.238022  6.024362  \n",
       "13     Bourgogne-Franche-Comté  47.321581  5.041470  \n",
       "14        Auvergne-Rhône-Alpes  45.899235  6.128885  \n",
       "15        Auvergne-Rhône-Alpes  45.187560  5.735782  \n",
       "16        Auvergne-Rhône-Alpes  45.757814  4.832011  \n",
       "17  Provence-Alpes-Côte d'Azur  43.150697  6.341928  \n",
       "18  Provence-Alpes-Côte d'Azur  43.214036  5.539632  \n",
       "19  Provence-Alpes-Côte d'Azur  43.296174  5.369953  \n",
       "20  Provence-Alpes-Côte d'Azur  43.529842  5.447474  \n",
       "21  Provence-Alpes-Côte d'Azur  43.949249  4.805901  \n",
       "22                   Occitania  44.012128  4.419672  \n",
       "23                   Occitania  43.837425  4.360069  \n",
       "24                   Occitania  43.565823  4.191284  \n",
       "25  Provence-Alpes-Côte d'Azur  43.452277  4.428717  \n",
       "26                   Occitania  42.525050  3.083155  \n",
       "27                   Occitania  43.213036  2.349107  \n",
       "28                   Occitania  42.845802  1.606759  \n",
       "29                   Occitania  43.604462  1.444247  \n",
       "30                   Occitania  44.017584  1.354999  \n",
       "31          Nouvelle-Aquitaine  43.483252 -1.559278  \n",
       "32          Nouvelle-Aquitaine  43.494514 -1.473666  \n",
       "33          Nouvelle-Aquitaine  46.159113 -1.152043  "
      ]
     },
     "execution_count": 86,
     "metadata": {},
     "output_type": "execute_result"
    }
   ],
   "source": [
    "for i,best_city in enumerate(best_cities):\n",
    "    r = requests.get(f\"http://api.openweathermap.org/geo/1.0/direct?q={best_city}&limit=1&appid={Open_Weather_API_Key_Myriam}\")\n",
    "    if r.status_code == 200:\n",
    "        data = r.json()\n",
    "  \n",
    "        df.loc[i,\"name\"] = data[0][\"name\"] #pour s'assurer de la bonne attribution de la ville\n",
    "        df.loc[i,\"country\"] = data[0][\"country\"] #pour vérifier la localisation\n",
    "        df.loc[i,\"state\"] = data[0][\"state\"] # pour vérifier la localisation\n",
    "        df.loc[i,\"lat\"] = data[0][\"lat\"]\n",
    "        df.loc[i,\"lon\"] = data[0][\"lon\"]\n",
    "    \n",
    "    else:\n",
    "        print(f\"Erreur lors de la requête pour {best_cities} :\", r.status_code)\n",
    "\n",
    "df"
   ]
  },
  {
   "cell_type": "code",
   "execution_count": 87,
   "metadata": {},
   "outputs": [
    {
     "data": {
      "text/plain": [
       "<Response [200]>"
      ]
     },
     "execution_count": 87,
     "metadata": {},
     "output_type": "execute_result"
    }
   ],
   "source": [
    "url = \"https://nominatim.openstreetmap.org/search\"\n",
    "\n",
    "headers = {\n",
    "        'User-Agent': 'Mozilla/5.0 (Windows NT 10.0; Win64; x64) AppleWebKit/537.36 (KHTML, like Gecko) Chrome/58.0.3029.110 Safari/537.3'    }\n",
    "\n",
    "lieux = [\"Gorges du Verdon\"]\n",
    "\n",
    "for lieu in lieux:\n",
    "    params = {\n",
    "        'q': lieu,\n",
    "        'format': 'json',\n",
    "        'limit': 1\n",
    "    }\n",
    "\n",
    "response = requests.get(url, params=params, headers=headers)\n",
    "response"
   ]
  },
  {
   "cell_type": "code",
   "execution_count": 88,
   "metadata": {},
   "outputs": [
    {
     "name": "stdout",
     "output_type": "stream",
     "text": [
      "[{'cities': 'Gorges du Verdon', 'name': None, 'country': None, 'state': None, 'lat': '43.7496562', 'lon': '6.3285616'}]\n"
     ]
    }
   ],
   "source": [
    "# pour trouver les coordonnés des Gorges du Verdon, utiisation d'une seconde API (Elle est plus restrictive en termes du nombre de requete, c'est pour celà que la préédente API a été favorisée)\n",
    "def rechercher_coordonnees(lieux):\n",
    "    url = \"https://nominatim.openstreetmap.org/search\"\n",
    "    coordonnees = []\n",
    "\n",
    "    headers = {\n",
    "        'User-Agent': 'Mozilla/5.0 (Windows NT 10.0; Win64; x64) AppleWebKit/537.36 (KHTML, like Gecko) Chrome/58.0.3029.110 Safari/537.3'    }\n",
    "\n",
    "    for lieu in lieux:\n",
    "        params = {\n",
    "            'q': lieu,\n",
    "            'format': 'json',\n",
    "            'limit': 1\n",
    "        }\n",
    "\n",
    "        response = requests.get(url, params=params, headers=headers)\n",
    "\n",
    "        if response.status_code == 200:\n",
    "            data = response.json()\n",
    "            if data:\n",
    "                address = data[0].get('address', {})\n",
    "                coordonnees.append({\n",
    "                    'cities': lieu,\n",
    "                    'name': address.get('city'),\n",
    "                    'country': address.get('country'), #information non trouvée avec l'API\n",
    "                    'state': address.get('state'), #information non trouvée avec l'API\n",
    "                    'lat': data[0].get('lat'),\n",
    "                    'lon': data[0].get('lon'),\n",
    "                })\n",
    "            else:\n",
    "                coordonnees.append({\n",
    "                    'cities': lieu,\n",
    "                    'name': None,\n",
    "                    'country': None,\n",
    "                    'state': None,\n",
    "                    'lat': None,\n",
    "                    'lon': None\n",
    "\n",
    "                })\n",
    "        else:\n",
    "            print(f\"Erreur lors de la requête pour {lieu} :\", response.status_code)\n",
    "            coordonnees.append({\n",
    "                    'cities': lieu,\n",
    "                    'name': None,\n",
    "                    'country': None,\n",
    "                    'state': None,\n",
    "                    'lat': None,\n",
    "                    'lon': None,\n",
    "            })\n",
    "\n",
    "        # Attendre un peu entre les requêtes pour éviter de dépasser les limites\n",
    "        time.sleep(1)\n",
    "\n",
    "    return coordonnees\n",
    "\n",
    "\n",
    "coordonnees = rechercher_coordonnees([\"Gorges du Verdon\"])\n",
    "print(coordonnees)\n"
   ]
  },
  {
   "cell_type": "code",
   "execution_count": 89,
   "metadata": {},
   "outputs": [
    {
     "data": {
      "text/html": [
       "<div>\n",
       "<style scoped>\n",
       "    .dataframe tbody tr th:only-of-type {\n",
       "        vertical-align: middle;\n",
       "    }\n",
       "\n",
       "    .dataframe tbody tr th {\n",
       "        vertical-align: top;\n",
       "    }\n",
       "\n",
       "    .dataframe thead th {\n",
       "        text-align: right;\n",
       "    }\n",
       "</style>\n",
       "<table border=\"1\" class=\"dataframe\">\n",
       "  <thead>\n",
       "    <tr style=\"text-align: right;\">\n",
       "      <th></th>\n",
       "      <th>cities</th>\n",
       "      <th>name</th>\n",
       "      <th>country</th>\n",
       "      <th>state</th>\n",
       "      <th>lat</th>\n",
       "      <th>lon</th>\n",
       "    </tr>\n",
       "  </thead>\n",
       "  <tbody>\n",
       "    <tr>\n",
       "      <th>0</th>\n",
       "      <td>Gorges du Verdon</td>\n",
       "      <td>None</td>\n",
       "      <td>None</td>\n",
       "      <td>None</td>\n",
       "      <td>43.7496562</td>\n",
       "      <td>6.3285616</td>\n",
       "    </tr>\n",
       "  </tbody>\n",
       "</table>\n",
       "</div>"
      ],
      "text/plain": [
       "             cities  name country state         lat        lon\n",
       "0  Gorges du Verdon  None    None  None  43.7496562  6.3285616"
      ]
     },
     "execution_count": 89,
     "metadata": {},
     "output_type": "execute_result"
    }
   ],
   "source": [
    "#réalisation d'un dataframe avec le même colonage que le dataframe initial\n",
    "gdv = pd.DataFrame(coordonnees)\n",
    "gdv"
   ]
  },
  {
   "cell_type": "code",
   "execution_count": 90,
   "metadata": {},
   "outputs": [
    {
     "data": {
      "text/html": [
       "<div>\n",
       "<style scoped>\n",
       "    .dataframe tbody tr th:only-of-type {\n",
       "        vertical-align: middle;\n",
       "    }\n",
       "\n",
       "    .dataframe tbody tr th {\n",
       "        vertical-align: top;\n",
       "    }\n",
       "\n",
       "    .dataframe thead th {\n",
       "        text-align: right;\n",
       "    }\n",
       "</style>\n",
       "<table border=\"1\" class=\"dataframe\">\n",
       "  <thead>\n",
       "    <tr style=\"text-align: right;\">\n",
       "      <th></th>\n",
       "      <th>cities</th>\n",
       "      <th>name</th>\n",
       "      <th>country</th>\n",
       "      <th>state</th>\n",
       "      <th>lat</th>\n",
       "      <th>lon</th>\n",
       "    </tr>\n",
       "  </thead>\n",
       "  <tbody>\n",
       "    <tr>\n",
       "      <th>0</th>\n",
       "      <td>Mont Saint Michel</td>\n",
       "      <td>Mont Saint-Michel</td>\n",
       "      <td>FR</td>\n",
       "      <td>Normandy</td>\n",
       "      <td>48.635954</td>\n",
       "      <td>-1.51146</td>\n",
       "    </tr>\n",
       "    <tr>\n",
       "      <th>1</th>\n",
       "      <td>St Malo</td>\n",
       "      <td>Saint-Malo</td>\n",
       "      <td>FR</td>\n",
       "      <td>Brittany</td>\n",
       "      <td>48.649518</td>\n",
       "      <td>-2.026041</td>\n",
       "    </tr>\n",
       "    <tr>\n",
       "      <th>2</th>\n",
       "      <td>Bayeux</td>\n",
       "      <td>Bayeux</td>\n",
       "      <td>FR</td>\n",
       "      <td>Normandy</td>\n",
       "      <td>49.276462</td>\n",
       "      <td>-0.702474</td>\n",
       "    </tr>\n",
       "    <tr>\n",
       "      <th>3</th>\n",
       "      <td>Le Havre</td>\n",
       "      <td>Le Havre</td>\n",
       "      <td>FR</td>\n",
       "      <td>Normandy</td>\n",
       "      <td>49.493898</td>\n",
       "      <td>0.107973</td>\n",
       "    </tr>\n",
       "    <tr>\n",
       "      <th>4</th>\n",
       "      <td>Rouen</td>\n",
       "      <td>Rouen</td>\n",
       "      <td>FR</td>\n",
       "      <td>Normandy</td>\n",
       "      <td>49.440459</td>\n",
       "      <td>1.093966</td>\n",
       "    </tr>\n",
       "    <tr>\n",
       "      <th>5</th>\n",
       "      <td>Paris</td>\n",
       "      <td>Paris</td>\n",
       "      <td>FR</td>\n",
       "      <td>Ile-de-France</td>\n",
       "      <td>48.85889</td>\n",
       "      <td>2.320041</td>\n",
       "    </tr>\n",
       "    <tr>\n",
       "      <th>6</th>\n",
       "      <td>Amiens</td>\n",
       "      <td>Amiens</td>\n",
       "      <td>FR</td>\n",
       "      <td>Hauts-de-France</td>\n",
       "      <td>49.894171</td>\n",
       "      <td>2.295695</td>\n",
       "    </tr>\n",
       "    <tr>\n",
       "      <th>7</th>\n",
       "      <td>Lille</td>\n",
       "      <td>Lille</td>\n",
       "      <td>FR</td>\n",
       "      <td>Hauts-de-France</td>\n",
       "      <td>50.636565</td>\n",
       "      <td>3.063528</td>\n",
       "    </tr>\n",
       "    <tr>\n",
       "      <th>8</th>\n",
       "      <td>Strasbourg</td>\n",
       "      <td>Strasbourg</td>\n",
       "      <td>FR</td>\n",
       "      <td>Grand Est</td>\n",
       "      <td>48.584614</td>\n",
       "      <td>7.750713</td>\n",
       "    </tr>\n",
       "    <tr>\n",
       "      <th>9</th>\n",
       "      <td>Chateau du Haut Koenigsbourg</td>\n",
       "      <td>Château du Haut-Kœnigsbourg</td>\n",
       "      <td>FR</td>\n",
       "      <td>Grand Est</td>\n",
       "      <td>48.249523</td>\n",
       "      <td>7.345492</td>\n",
       "    </tr>\n",
       "    <tr>\n",
       "      <th>10</th>\n",
       "      <td>Colmar</td>\n",
       "      <td>Colmar</td>\n",
       "      <td>FR</td>\n",
       "      <td>Grand Est</td>\n",
       "      <td>48.077752</td>\n",
       "      <td>7.357964</td>\n",
       "    </tr>\n",
       "    <tr>\n",
       "      <th>11</th>\n",
       "      <td>Eguisheim</td>\n",
       "      <td>Eguisheim</td>\n",
       "      <td>FR</td>\n",
       "      <td>Grand Est</td>\n",
       "      <td>48.044797</td>\n",
       "      <td>7.307962</td>\n",
       "    </tr>\n",
       "    <tr>\n",
       "      <th>12</th>\n",
       "      <td>Besancon</td>\n",
       "      <td>Besançon</td>\n",
       "      <td>FR</td>\n",
       "      <td>Bourgogne-Franche-Comté</td>\n",
       "      <td>47.238022</td>\n",
       "      <td>6.024362</td>\n",
       "    </tr>\n",
       "    <tr>\n",
       "      <th>13</th>\n",
       "      <td>Dijon</td>\n",
       "      <td>Dijon</td>\n",
       "      <td>FR</td>\n",
       "      <td>Bourgogne-Franche-Comté</td>\n",
       "      <td>47.321581</td>\n",
       "      <td>5.04147</td>\n",
       "    </tr>\n",
       "    <tr>\n",
       "      <th>14</th>\n",
       "      <td>Annecy</td>\n",
       "      <td>Annecy</td>\n",
       "      <td>FR</td>\n",
       "      <td>Auvergne-Rhône-Alpes</td>\n",
       "      <td>45.899235</td>\n",
       "      <td>6.128885</td>\n",
       "    </tr>\n",
       "    <tr>\n",
       "      <th>15</th>\n",
       "      <td>Grenoble</td>\n",
       "      <td>Grenoble</td>\n",
       "      <td>FR</td>\n",
       "      <td>Auvergne-Rhône-Alpes</td>\n",
       "      <td>45.18756</td>\n",
       "      <td>5.735782</td>\n",
       "    </tr>\n",
       "    <tr>\n",
       "      <th>16</th>\n",
       "      <td>Lyon</td>\n",
       "      <td>Lyon</td>\n",
       "      <td>FR</td>\n",
       "      <td>Auvergne-Rhône-Alpes</td>\n",
       "      <td>45.757814</td>\n",
       "      <td>4.832011</td>\n",
       "    </tr>\n",
       "    <tr>\n",
       "      <th>17</th>\n",
       "      <td>Bormes les Mimosas</td>\n",
       "      <td>Bormes-les-Mimosas</td>\n",
       "      <td>FR</td>\n",
       "      <td>Provence-Alpes-Côte d'Azur</td>\n",
       "      <td>43.150697</td>\n",
       "      <td>6.341928</td>\n",
       "    </tr>\n",
       "    <tr>\n",
       "      <th>18</th>\n",
       "      <td>Cassis</td>\n",
       "      <td>Cassis</td>\n",
       "      <td>FR</td>\n",
       "      <td>Provence-Alpes-Côte d'Azur</td>\n",
       "      <td>43.214036</td>\n",
       "      <td>5.539632</td>\n",
       "    </tr>\n",
       "    <tr>\n",
       "      <th>19</th>\n",
       "      <td>Marseille</td>\n",
       "      <td>Marseille</td>\n",
       "      <td>FR</td>\n",
       "      <td>Provence-Alpes-Côte d'Azur</td>\n",
       "      <td>43.296174</td>\n",
       "      <td>5.369953</td>\n",
       "    </tr>\n",
       "    <tr>\n",
       "      <th>20</th>\n",
       "      <td>Aix en Provence</td>\n",
       "      <td>Aix-en-Provence</td>\n",
       "      <td>FR</td>\n",
       "      <td>Provence-Alpes-Côte d'Azur</td>\n",
       "      <td>43.529842</td>\n",
       "      <td>5.447474</td>\n",
       "    </tr>\n",
       "    <tr>\n",
       "      <th>21</th>\n",
       "      <td>Avignon</td>\n",
       "      <td>Avignon</td>\n",
       "      <td>FR</td>\n",
       "      <td>Provence-Alpes-Côte d'Azur</td>\n",
       "      <td>43.949249</td>\n",
       "      <td>4.805901</td>\n",
       "    </tr>\n",
       "    <tr>\n",
       "      <th>22</th>\n",
       "      <td>Uzes</td>\n",
       "      <td>Uzès</td>\n",
       "      <td>FR</td>\n",
       "      <td>Occitania</td>\n",
       "      <td>44.012128</td>\n",
       "      <td>4.419672</td>\n",
       "    </tr>\n",
       "    <tr>\n",
       "      <th>23</th>\n",
       "      <td>Nimes</td>\n",
       "      <td>Nimes</td>\n",
       "      <td>FR</td>\n",
       "      <td>Occitania</td>\n",
       "      <td>43.837425</td>\n",
       "      <td>4.360069</td>\n",
       "    </tr>\n",
       "    <tr>\n",
       "      <th>24</th>\n",
       "      <td>Aigues Mortes</td>\n",
       "      <td>Aigues-Mortes</td>\n",
       "      <td>FR</td>\n",
       "      <td>Occitania</td>\n",
       "      <td>43.565823</td>\n",
       "      <td>4.191284</td>\n",
       "    </tr>\n",
       "    <tr>\n",
       "      <th>25</th>\n",
       "      <td>Saintes Maries de la mer</td>\n",
       "      <td>Saintes-Maries-de-la-Mer</td>\n",
       "      <td>FR</td>\n",
       "      <td>Provence-Alpes-Côte d'Azur</td>\n",
       "      <td>43.452277</td>\n",
       "      <td>4.428717</td>\n",
       "    </tr>\n",
       "    <tr>\n",
       "      <th>26</th>\n",
       "      <td>Collioure</td>\n",
       "      <td>Collioure</td>\n",
       "      <td>FR</td>\n",
       "      <td>Occitania</td>\n",
       "      <td>42.52505</td>\n",
       "      <td>3.083155</td>\n",
       "    </tr>\n",
       "    <tr>\n",
       "      <th>27</th>\n",
       "      <td>Carcassonne</td>\n",
       "      <td>Carcassonne</td>\n",
       "      <td>FR</td>\n",
       "      <td>Occitania</td>\n",
       "      <td>43.213036</td>\n",
       "      <td>2.349107</td>\n",
       "    </tr>\n",
       "    <tr>\n",
       "      <th>28</th>\n",
       "      <td>Ariege</td>\n",
       "      <td>Tarascon-sur-Ariège</td>\n",
       "      <td>FR</td>\n",
       "      <td>Occitania</td>\n",
       "      <td>42.845802</td>\n",
       "      <td>1.606759</td>\n",
       "    </tr>\n",
       "    <tr>\n",
       "      <th>29</th>\n",
       "      <td>Toulouse</td>\n",
       "      <td>Toulouse</td>\n",
       "      <td>FR</td>\n",
       "      <td>Occitania</td>\n",
       "      <td>43.604462</td>\n",
       "      <td>1.444247</td>\n",
       "    </tr>\n",
       "    <tr>\n",
       "      <th>30</th>\n",
       "      <td>Montauban</td>\n",
       "      <td>Montauban</td>\n",
       "      <td>FR</td>\n",
       "      <td>Occitania</td>\n",
       "      <td>44.017584</td>\n",
       "      <td>1.354999</td>\n",
       "    </tr>\n",
       "    <tr>\n",
       "      <th>31</th>\n",
       "      <td>Biarritz</td>\n",
       "      <td>Biarritz</td>\n",
       "      <td>FR</td>\n",
       "      <td>Nouvelle-Aquitaine</td>\n",
       "      <td>43.483252</td>\n",
       "      <td>-1.559278</td>\n",
       "    </tr>\n",
       "    <tr>\n",
       "      <th>32</th>\n",
       "      <td>Bayonne</td>\n",
       "      <td>Bayonne</td>\n",
       "      <td>FR</td>\n",
       "      <td>Nouvelle-Aquitaine</td>\n",
       "      <td>43.494514</td>\n",
       "      <td>-1.473666</td>\n",
       "    </tr>\n",
       "    <tr>\n",
       "      <th>33</th>\n",
       "      <td>La Rochelle</td>\n",
       "      <td>La Rochelle</td>\n",
       "      <td>FR</td>\n",
       "      <td>Nouvelle-Aquitaine</td>\n",
       "      <td>46.159113</td>\n",
       "      <td>-1.152043</td>\n",
       "    </tr>\n",
       "    <tr>\n",
       "      <th>34</th>\n",
       "      <td>Gorges du Verdon</td>\n",
       "      <td>None</td>\n",
       "      <td>None</td>\n",
       "      <td>None</td>\n",
       "      <td>43.7496562</td>\n",
       "      <td>6.3285616</td>\n",
       "    </tr>\n",
       "  </tbody>\n",
       "</table>\n",
       "</div>"
      ],
      "text/plain": [
       "                          cities                         name country  \\\n",
       "0              Mont Saint Michel            Mont Saint-Michel      FR   \n",
       "1                        St Malo                   Saint-Malo      FR   \n",
       "2                         Bayeux                       Bayeux      FR   \n",
       "3                       Le Havre                     Le Havre      FR   \n",
       "4                          Rouen                        Rouen      FR   \n",
       "5                          Paris                        Paris      FR   \n",
       "6                         Amiens                       Amiens      FR   \n",
       "7                          Lille                        Lille      FR   \n",
       "8                     Strasbourg                   Strasbourg      FR   \n",
       "9   Chateau du Haut Koenigsbourg  Château du Haut-Kœnigsbourg      FR   \n",
       "10                        Colmar                       Colmar      FR   \n",
       "11                     Eguisheim                    Eguisheim      FR   \n",
       "12                      Besancon                     Besançon      FR   \n",
       "13                         Dijon                        Dijon      FR   \n",
       "14                        Annecy                       Annecy      FR   \n",
       "15                      Grenoble                     Grenoble      FR   \n",
       "16                          Lyon                         Lyon      FR   \n",
       "17            Bormes les Mimosas           Bormes-les-Mimosas      FR   \n",
       "18                        Cassis                       Cassis      FR   \n",
       "19                     Marseille                    Marseille      FR   \n",
       "20               Aix en Provence              Aix-en-Provence      FR   \n",
       "21                       Avignon                      Avignon      FR   \n",
       "22                          Uzes                         Uzès      FR   \n",
       "23                         Nimes                        Nimes      FR   \n",
       "24                 Aigues Mortes                Aigues-Mortes      FR   \n",
       "25      Saintes Maries de la mer     Saintes-Maries-de-la-Mer      FR   \n",
       "26                     Collioure                    Collioure      FR   \n",
       "27                   Carcassonne                  Carcassonne      FR   \n",
       "28                        Ariege          Tarascon-sur-Ariège      FR   \n",
       "29                      Toulouse                     Toulouse      FR   \n",
       "30                     Montauban                    Montauban      FR   \n",
       "31                      Biarritz                     Biarritz      FR   \n",
       "32                       Bayonne                      Bayonne      FR   \n",
       "33                   La Rochelle                  La Rochelle      FR   \n",
       "34              Gorges du Verdon                         None    None   \n",
       "\n",
       "                         state         lat        lon  \n",
       "0                     Normandy   48.635954   -1.51146  \n",
       "1                     Brittany   48.649518  -2.026041  \n",
       "2                     Normandy   49.276462  -0.702474  \n",
       "3                     Normandy   49.493898   0.107973  \n",
       "4                     Normandy   49.440459   1.093966  \n",
       "5                Ile-de-France    48.85889   2.320041  \n",
       "6              Hauts-de-France   49.894171   2.295695  \n",
       "7              Hauts-de-France   50.636565   3.063528  \n",
       "8                    Grand Est   48.584614   7.750713  \n",
       "9                    Grand Est   48.249523   7.345492  \n",
       "10                   Grand Est   48.077752   7.357964  \n",
       "11                   Grand Est   48.044797   7.307962  \n",
       "12     Bourgogne-Franche-Comté   47.238022   6.024362  \n",
       "13     Bourgogne-Franche-Comté   47.321581    5.04147  \n",
       "14        Auvergne-Rhône-Alpes   45.899235   6.128885  \n",
       "15        Auvergne-Rhône-Alpes    45.18756   5.735782  \n",
       "16        Auvergne-Rhône-Alpes   45.757814   4.832011  \n",
       "17  Provence-Alpes-Côte d'Azur   43.150697   6.341928  \n",
       "18  Provence-Alpes-Côte d'Azur   43.214036   5.539632  \n",
       "19  Provence-Alpes-Côte d'Azur   43.296174   5.369953  \n",
       "20  Provence-Alpes-Côte d'Azur   43.529842   5.447474  \n",
       "21  Provence-Alpes-Côte d'Azur   43.949249   4.805901  \n",
       "22                   Occitania   44.012128   4.419672  \n",
       "23                   Occitania   43.837425   4.360069  \n",
       "24                   Occitania   43.565823   4.191284  \n",
       "25  Provence-Alpes-Côte d'Azur   43.452277   4.428717  \n",
       "26                   Occitania    42.52505   3.083155  \n",
       "27                   Occitania   43.213036   2.349107  \n",
       "28                   Occitania   42.845802   1.606759  \n",
       "29                   Occitania   43.604462   1.444247  \n",
       "30                   Occitania   44.017584   1.354999  \n",
       "31          Nouvelle-Aquitaine   43.483252  -1.559278  \n",
       "32          Nouvelle-Aquitaine   43.494514  -1.473666  \n",
       "33          Nouvelle-Aquitaine   46.159113  -1.152043  \n",
       "34                        None  43.7496562  6.3285616  "
      ]
     },
     "execution_count": 90,
     "metadata": {},
     "output_type": "execute_result"
    }
   ],
   "source": [
    "#Fusion des deux dataframes\n",
    "df_merged = pd.concat([df, gdv], ignore_index=True)\n",
    "df_merged"
   ]
  },
  {
   "cell_type": "code",
   "execution_count": 91,
   "metadata": {},
   "outputs": [
    {
     "data": {
      "text/html": [
       "<div style=\"width:100%;\"><div style=\"position:relative;width:100%;height:0;padding-bottom:60%;\"><span style=\"color:#565656\">Make this Notebook Trusted to load map: File -> Trust Notebook</span><iframe srcdoc=\"&lt;!DOCTYPE html&gt;\n",
       "&lt;html&gt;\n",
       "&lt;head&gt;\n",
       "    \n",
       "    &lt;meta http-equiv=&quot;content-type&quot; content=&quot;text/html; charset=UTF-8&quot; /&gt;\n",
       "    \n",
       "        &lt;script&gt;\n",
       "            L_NO_TOUCH = false;\n",
       "            L_DISABLE_3D = false;\n",
       "        &lt;/script&gt;\n",
       "    \n",
       "    &lt;style&gt;html, body {width: 100%;height: 100%;margin: 0;padding: 0;}&lt;/style&gt;\n",
       "    &lt;style&gt;#map {position:absolute;top:0;bottom:0;right:0;left:0;}&lt;/style&gt;\n",
       "    &lt;script src=&quot;https://cdn.jsdelivr.net/npm/leaflet@1.9.3/dist/leaflet.js&quot;&gt;&lt;/script&gt;\n",
       "    &lt;script src=&quot;https://code.jquery.com/jquery-3.7.1.min.js&quot;&gt;&lt;/script&gt;\n",
       "    &lt;script src=&quot;https://cdn.jsdelivr.net/npm/bootstrap@5.2.2/dist/js/bootstrap.bundle.min.js&quot;&gt;&lt;/script&gt;\n",
       "    &lt;script src=&quot;https://cdnjs.cloudflare.com/ajax/libs/Leaflet.awesome-markers/2.0.2/leaflet.awesome-markers.js&quot;&gt;&lt;/script&gt;\n",
       "    &lt;link rel=&quot;stylesheet&quot; href=&quot;https://cdn.jsdelivr.net/npm/leaflet@1.9.3/dist/leaflet.css&quot;/&gt;\n",
       "    &lt;link rel=&quot;stylesheet&quot; href=&quot;https://cdn.jsdelivr.net/npm/bootstrap@5.2.2/dist/css/bootstrap.min.css&quot;/&gt;\n",
       "    &lt;link rel=&quot;stylesheet&quot; href=&quot;https://netdna.bootstrapcdn.com/bootstrap/3.0.0/css/bootstrap-glyphicons.css&quot;/&gt;\n",
       "    &lt;link rel=&quot;stylesheet&quot; href=&quot;https://cdn.jsdelivr.net/npm/@fortawesome/fontawesome-free@6.2.0/css/all.min.css&quot;/&gt;\n",
       "    &lt;link rel=&quot;stylesheet&quot; href=&quot;https://cdnjs.cloudflare.com/ajax/libs/Leaflet.awesome-markers/2.0.2/leaflet.awesome-markers.css&quot;/&gt;\n",
       "    &lt;link rel=&quot;stylesheet&quot; href=&quot;https://cdn.jsdelivr.net/gh/python-visualization/folium/folium/templates/leaflet.awesome.rotate.min.css&quot;/&gt;\n",
       "    \n",
       "            &lt;meta name=&quot;viewport&quot; content=&quot;width=device-width,\n",
       "                initial-scale=1.0, maximum-scale=1.0, user-scalable=no&quot; /&gt;\n",
       "            &lt;style&gt;\n",
       "                #map_216952043614f7ebf43e3e0dd5c67118 {\n",
       "                    position: relative;\n",
       "                    width: 100.0%;\n",
       "                    height: 100.0%;\n",
       "                    left: 0.0%;\n",
       "                    top: 0.0%;\n",
       "                }\n",
       "                .leaflet-container { font-size: 1rem; }\n",
       "            &lt;/style&gt;\n",
       "        \n",
       "&lt;/head&gt;\n",
       "&lt;body&gt;\n",
       "    \n",
       "    \n",
       "            &lt;div class=&quot;folium-map&quot; id=&quot;map_216952043614f7ebf43e3e0dd5c67118&quot; &gt;&lt;/div&gt;\n",
       "        \n",
       "&lt;/body&gt;\n",
       "&lt;script&gt;\n",
       "    \n",
       "    \n",
       "            var map_216952043614f7ebf43e3e0dd5c67118 = L.map(\n",
       "                &quot;map_216952043614f7ebf43e3e0dd5c67118&quot;,\n",
       "                {\n",
       "                    center: [46.603354, 1.888334],\n",
       "                    crs: L.CRS.EPSG3857,\n",
       "                    ...{\n",
       "  &quot;zoom&quot;: 6,\n",
       "  &quot;zoomControl&quot;: true,\n",
       "  &quot;preferCanvas&quot;: false,\n",
       "}\n",
       "\n",
       "                }\n",
       "            );\n",
       "\n",
       "            \n",
       "\n",
       "        \n",
       "    \n",
       "            var tile_layer_27304469fb51e4e5d6fbf93d1c95e2d9 = L.tileLayer(\n",
       "                &quot;https://tile.openstreetmap.org/{z}/{x}/{y}.png&quot;,\n",
       "                {\n",
       "  &quot;minZoom&quot;: 0,\n",
       "  &quot;maxZoom&quot;: 19,\n",
       "  &quot;maxNativeZoom&quot;: 19,\n",
       "  &quot;noWrap&quot;: false,\n",
       "  &quot;attribution&quot;: &quot;\\u0026copy; \\u003ca href=\\&quot;https://www.openstreetmap.org/copyright\\&quot;\\u003eOpenStreetMap\\u003c/a\\u003e contributors&quot;,\n",
       "  &quot;subdomains&quot;: &quot;abc&quot;,\n",
       "  &quot;detectRetina&quot;: false,\n",
       "  &quot;tms&quot;: false,\n",
       "  &quot;opacity&quot;: 1,\n",
       "}\n",
       "\n",
       "            );\n",
       "        \n",
       "    \n",
       "            tile_layer_27304469fb51e4e5d6fbf93d1c95e2d9.addTo(map_216952043614f7ebf43e3e0dd5c67118);\n",
       "        \n",
       "    \n",
       "            var marker_4c0431cf0dae92c5444a4bcd31c16241 = L.marker(\n",
       "                [48.6359541, -1.511459954959514],\n",
       "                {\n",
       "}\n",
       "            ).addTo(map_216952043614f7ebf43e3e0dd5c67118);\n",
       "        \n",
       "    \n",
       "        var custom_icon_53c7a6daf2e3b7175f3b9c3e90932e6d = L.icon({\n",
       "  &quot;iconUrl&quot;: &quot;https://images.icon-icons.com/3565/PNG/512/tree_flower_plant_nature_landscape_icon_225325.png&quot;,\n",
       "  &quot;iconSize&quot;: [40, 40],\n",
       "});\n",
       "        marker_4c0431cf0dae92c5444a4bcd31c16241.setIcon(custom_icon_53c7a6daf2e3b7175f3b9c3e90932e6d);\n",
       "        \n",
       "    \n",
       "        var popup_0d4c92bcd8a40c2cff6fad8fdf01b91e = L.popup({\n",
       "  &quot;maxWidth&quot;: &quot;100%&quot;,\n",
       "});\n",
       "\n",
       "        \n",
       "            \n",
       "                var html_aecfef9ecaeded06256142ee257ae0d6 = $(`&lt;div id=&quot;html_aecfef9ecaeded06256142ee257ae0d6&quot; style=&quot;width: 100.0%; height: 100.0%;&quot;&gt;Mont Saint Michel&lt;/div&gt;`)[0];\n",
       "                popup_0d4c92bcd8a40c2cff6fad8fdf01b91e.setContent(html_aecfef9ecaeded06256142ee257ae0d6);\n",
       "            \n",
       "        \n",
       "\n",
       "        marker_4c0431cf0dae92c5444a4bcd31c16241.bindPopup(popup_0d4c92bcd8a40c2cff6fad8fdf01b91e)\n",
       "        ;\n",
       "\n",
       "        \n",
       "    \n",
       "    \n",
       "                marker_4c0431cf0dae92c5444a4bcd31c16241.setIcon(custom_icon_53c7a6daf2e3b7175f3b9c3e90932e6d);\n",
       "            \n",
       "    \n",
       "            var marker_f87f731a8560bc79806ee7374521a89d = L.marker(\n",
       "                [48.649518, -2.0260409],\n",
       "                {\n",
       "}\n",
       "            ).addTo(map_216952043614f7ebf43e3e0dd5c67118);\n",
       "        \n",
       "    \n",
       "        var custom_icon_7a2ce7a668506800a1e6026330005abf = L.icon({\n",
       "  &quot;iconUrl&quot;: &quot;https://images.icon-icons.com/3565/PNG/512/tree_flower_plant_nature_landscape_icon_225325.png&quot;,\n",
       "  &quot;iconSize&quot;: [40, 40],\n",
       "});\n",
       "        marker_f87f731a8560bc79806ee7374521a89d.setIcon(custom_icon_7a2ce7a668506800a1e6026330005abf);\n",
       "        \n",
       "    \n",
       "        var popup_bacc96227cac165130195649d48d3acd = L.popup({\n",
       "  &quot;maxWidth&quot;: &quot;100%&quot;,\n",
       "});\n",
       "\n",
       "        \n",
       "            \n",
       "                var html_a04b90be21cfe338747b94eeaaee7a08 = $(`&lt;div id=&quot;html_a04b90be21cfe338747b94eeaaee7a08&quot; style=&quot;width: 100.0%; height: 100.0%;&quot;&gt;St Malo&lt;/div&gt;`)[0];\n",
       "                popup_bacc96227cac165130195649d48d3acd.setContent(html_a04b90be21cfe338747b94eeaaee7a08);\n",
       "            \n",
       "        \n",
       "\n",
       "        marker_f87f731a8560bc79806ee7374521a89d.bindPopup(popup_bacc96227cac165130195649d48d3acd)\n",
       "        ;\n",
       "\n",
       "        \n",
       "    \n",
       "    \n",
       "                marker_f87f731a8560bc79806ee7374521a89d.setIcon(custom_icon_7a2ce7a668506800a1e6026330005abf);\n",
       "            \n",
       "    \n",
       "            var marker_3a5a4de6414a9e1a5c68536f94c8a93c = L.marker(\n",
       "                [49.2764624, -0.7024738],\n",
       "                {\n",
       "}\n",
       "            ).addTo(map_216952043614f7ebf43e3e0dd5c67118);\n",
       "        \n",
       "    \n",
       "        var custom_icon_60a6a94099f66026723378c119a930ad = L.icon({\n",
       "  &quot;iconUrl&quot;: &quot;https://images.icon-icons.com/3565/PNG/512/tree_flower_plant_nature_landscape_icon_225325.png&quot;,\n",
       "  &quot;iconSize&quot;: [40, 40],\n",
       "});\n",
       "        marker_3a5a4de6414a9e1a5c68536f94c8a93c.setIcon(custom_icon_60a6a94099f66026723378c119a930ad);\n",
       "        \n",
       "    \n",
       "        var popup_d932a4d292ea678e5037b53eea226442 = L.popup({\n",
       "  &quot;maxWidth&quot;: &quot;100%&quot;,\n",
       "});\n",
       "\n",
       "        \n",
       "            \n",
       "                var html_28852ee2e7666cbc8dc449c706ef4722 = $(`&lt;div id=&quot;html_28852ee2e7666cbc8dc449c706ef4722&quot; style=&quot;width: 100.0%; height: 100.0%;&quot;&gt;Bayeux&lt;/div&gt;`)[0];\n",
       "                popup_d932a4d292ea678e5037b53eea226442.setContent(html_28852ee2e7666cbc8dc449c706ef4722);\n",
       "            \n",
       "        \n",
       "\n",
       "        marker_3a5a4de6414a9e1a5c68536f94c8a93c.bindPopup(popup_d932a4d292ea678e5037b53eea226442)\n",
       "        ;\n",
       "\n",
       "        \n",
       "    \n",
       "    \n",
       "                marker_3a5a4de6414a9e1a5c68536f94c8a93c.setIcon(custom_icon_60a6a94099f66026723378c119a930ad);\n",
       "            \n",
       "    \n",
       "            var marker_ee825b4111e20eb0a24c5d7dca5dc843 = L.marker(\n",
       "                [49.4938975, 0.1079732],\n",
       "                {\n",
       "}\n",
       "            ).addTo(map_216952043614f7ebf43e3e0dd5c67118);\n",
       "        \n",
       "    \n",
       "        var custom_icon_96ca4740f6e99232a8c405fcbfefcba8 = L.icon({\n",
       "  &quot;iconUrl&quot;: &quot;https://images.icon-icons.com/3565/PNG/512/tree_flower_plant_nature_landscape_icon_225325.png&quot;,\n",
       "  &quot;iconSize&quot;: [40, 40],\n",
       "});\n",
       "        marker_ee825b4111e20eb0a24c5d7dca5dc843.setIcon(custom_icon_96ca4740f6e99232a8c405fcbfefcba8);\n",
       "        \n",
       "    \n",
       "        var popup_70bb10253d6c6b509a255779b633933a = L.popup({\n",
       "  &quot;maxWidth&quot;: &quot;100%&quot;,\n",
       "});\n",
       "\n",
       "        \n",
       "            \n",
       "                var html_ca98f3126dc12ffef81430d6a3c71fce = $(`&lt;div id=&quot;html_ca98f3126dc12ffef81430d6a3c71fce&quot; style=&quot;width: 100.0%; height: 100.0%;&quot;&gt;Le Havre&lt;/div&gt;`)[0];\n",
       "                popup_70bb10253d6c6b509a255779b633933a.setContent(html_ca98f3126dc12ffef81430d6a3c71fce);\n",
       "            \n",
       "        \n",
       "\n",
       "        marker_ee825b4111e20eb0a24c5d7dca5dc843.bindPopup(popup_70bb10253d6c6b509a255779b633933a)\n",
       "        ;\n",
       "\n",
       "        \n",
       "    \n",
       "    \n",
       "                marker_ee825b4111e20eb0a24c5d7dca5dc843.setIcon(custom_icon_96ca4740f6e99232a8c405fcbfefcba8);\n",
       "            \n",
       "    \n",
       "            var marker_e4cfae568c583e284cfc518b57cd9b4f = L.marker(\n",
       "                [49.4404591, 1.0939658],\n",
       "                {\n",
       "}\n",
       "            ).addTo(map_216952043614f7ebf43e3e0dd5c67118);\n",
       "        \n",
       "    \n",
       "        var custom_icon_0483d2a00326b06d4413fff79d40cb6b = L.icon({\n",
       "  &quot;iconUrl&quot;: &quot;https://images.icon-icons.com/3565/PNG/512/tree_flower_plant_nature_landscape_icon_225325.png&quot;,\n",
       "  &quot;iconSize&quot;: [40, 40],\n",
       "});\n",
       "        marker_e4cfae568c583e284cfc518b57cd9b4f.setIcon(custom_icon_0483d2a00326b06d4413fff79d40cb6b);\n",
       "        \n",
       "    \n",
       "        var popup_880f5db01d2f35daf8bc8e06108c03e7 = L.popup({\n",
       "  &quot;maxWidth&quot;: &quot;100%&quot;,\n",
       "});\n",
       "\n",
       "        \n",
       "            \n",
       "                var html_bd11c8c48572210084922d6a7f1ae2a3 = $(`&lt;div id=&quot;html_bd11c8c48572210084922d6a7f1ae2a3&quot; style=&quot;width: 100.0%; height: 100.0%;&quot;&gt;Rouen&lt;/div&gt;`)[0];\n",
       "                popup_880f5db01d2f35daf8bc8e06108c03e7.setContent(html_bd11c8c48572210084922d6a7f1ae2a3);\n",
       "            \n",
       "        \n",
       "\n",
       "        marker_e4cfae568c583e284cfc518b57cd9b4f.bindPopup(popup_880f5db01d2f35daf8bc8e06108c03e7)\n",
       "        ;\n",
       "\n",
       "        \n",
       "    \n",
       "    \n",
       "                marker_e4cfae568c583e284cfc518b57cd9b4f.setIcon(custom_icon_0483d2a00326b06d4413fff79d40cb6b);\n",
       "            \n",
       "    \n",
       "            var marker_0d43f9d2b08e3a1f360ce5edf7bf0725 = L.marker(\n",
       "                [48.8588897, 2.3200410217200766],\n",
       "                {\n",
       "}\n",
       "            ).addTo(map_216952043614f7ebf43e3e0dd5c67118);\n",
       "        \n",
       "    \n",
       "        var custom_icon_ef69fe54c65a6e4b411250eff5ff867b = L.icon({\n",
       "  &quot;iconUrl&quot;: &quot;https://images.icon-icons.com/3565/PNG/512/tree_flower_plant_nature_landscape_icon_225325.png&quot;,\n",
       "  &quot;iconSize&quot;: [40, 40],\n",
       "});\n",
       "        marker_0d43f9d2b08e3a1f360ce5edf7bf0725.setIcon(custom_icon_ef69fe54c65a6e4b411250eff5ff867b);\n",
       "        \n",
       "    \n",
       "        var popup_1670d1ef38d500864279791bbc8be187 = L.popup({\n",
       "  &quot;maxWidth&quot;: &quot;100%&quot;,\n",
       "});\n",
       "\n",
       "        \n",
       "            \n",
       "                var html_4a73560bc4a07e5d40c9b49538dc0f6e = $(`&lt;div id=&quot;html_4a73560bc4a07e5d40c9b49538dc0f6e&quot; style=&quot;width: 100.0%; height: 100.0%;&quot;&gt;Paris&lt;/div&gt;`)[0];\n",
       "                popup_1670d1ef38d500864279791bbc8be187.setContent(html_4a73560bc4a07e5d40c9b49538dc0f6e);\n",
       "            \n",
       "        \n",
       "\n",
       "        marker_0d43f9d2b08e3a1f360ce5edf7bf0725.bindPopup(popup_1670d1ef38d500864279791bbc8be187)\n",
       "        ;\n",
       "\n",
       "        \n",
       "    \n",
       "    \n",
       "                marker_0d43f9d2b08e3a1f360ce5edf7bf0725.setIcon(custom_icon_ef69fe54c65a6e4b411250eff5ff867b);\n",
       "            \n",
       "    \n",
       "            var marker_0221eacd051c526dd05f7b532e9505a5 = L.marker(\n",
       "                [49.8941708, 2.2956951],\n",
       "                {\n",
       "}\n",
       "            ).addTo(map_216952043614f7ebf43e3e0dd5c67118);\n",
       "        \n",
       "    \n",
       "        var custom_icon_6e8d280682f3e9fe32cb76ec5e1bea81 = L.icon({\n",
       "  &quot;iconUrl&quot;: &quot;https://images.icon-icons.com/3565/PNG/512/tree_flower_plant_nature_landscape_icon_225325.png&quot;,\n",
       "  &quot;iconSize&quot;: [40, 40],\n",
       "});\n",
       "        marker_0221eacd051c526dd05f7b532e9505a5.setIcon(custom_icon_6e8d280682f3e9fe32cb76ec5e1bea81);\n",
       "        \n",
       "    \n",
       "        var popup_0adc2f611321598881b251648d465e9e = L.popup({\n",
       "  &quot;maxWidth&quot;: &quot;100%&quot;,\n",
       "});\n",
       "\n",
       "        \n",
       "            \n",
       "                var html_a2b7f832eb85e3199282a9b2556b1907 = $(`&lt;div id=&quot;html_a2b7f832eb85e3199282a9b2556b1907&quot; style=&quot;width: 100.0%; height: 100.0%;&quot;&gt;Amiens&lt;/div&gt;`)[0];\n",
       "                popup_0adc2f611321598881b251648d465e9e.setContent(html_a2b7f832eb85e3199282a9b2556b1907);\n",
       "            \n",
       "        \n",
       "\n",
       "        marker_0221eacd051c526dd05f7b532e9505a5.bindPopup(popup_0adc2f611321598881b251648d465e9e)\n",
       "        ;\n",
       "\n",
       "        \n",
       "    \n",
       "    \n",
       "                marker_0221eacd051c526dd05f7b532e9505a5.setIcon(custom_icon_6e8d280682f3e9fe32cb76ec5e1bea81);\n",
       "            \n",
       "    \n",
       "            var marker_aa9260c0d1a2b3c87bd25c5331397a86 = L.marker(\n",
       "                [50.6365654, 3.0635282],\n",
       "                {\n",
       "}\n",
       "            ).addTo(map_216952043614f7ebf43e3e0dd5c67118);\n",
       "        \n",
       "    \n",
       "        var custom_icon_47d6f42a9e69ef826569cbf350eb7f0e = L.icon({\n",
       "  &quot;iconUrl&quot;: &quot;https://images.icon-icons.com/3565/PNG/512/tree_flower_plant_nature_landscape_icon_225325.png&quot;,\n",
       "  &quot;iconSize&quot;: [40, 40],\n",
       "});\n",
       "        marker_aa9260c0d1a2b3c87bd25c5331397a86.setIcon(custom_icon_47d6f42a9e69ef826569cbf350eb7f0e);\n",
       "        \n",
       "    \n",
       "        var popup_d02adb7ebc6e1e575765e26041919b59 = L.popup({\n",
       "  &quot;maxWidth&quot;: &quot;100%&quot;,\n",
       "});\n",
       "\n",
       "        \n",
       "            \n",
       "                var html_672f4c4db23ff64ba48ac1e652677af8 = $(`&lt;div id=&quot;html_672f4c4db23ff64ba48ac1e652677af8&quot; style=&quot;width: 100.0%; height: 100.0%;&quot;&gt;Lille&lt;/div&gt;`)[0];\n",
       "                popup_d02adb7ebc6e1e575765e26041919b59.setContent(html_672f4c4db23ff64ba48ac1e652677af8);\n",
       "            \n",
       "        \n",
       "\n",
       "        marker_aa9260c0d1a2b3c87bd25c5331397a86.bindPopup(popup_d02adb7ebc6e1e575765e26041919b59)\n",
       "        ;\n",
       "\n",
       "        \n",
       "    \n",
       "    \n",
       "                marker_aa9260c0d1a2b3c87bd25c5331397a86.setIcon(custom_icon_47d6f42a9e69ef826569cbf350eb7f0e);\n",
       "            \n",
       "    \n",
       "            var marker_2c4b09d118d38ab4976e63ecbb28e4dd = L.marker(\n",
       "                [48.584614, 7.7507127],\n",
       "                {\n",
       "}\n",
       "            ).addTo(map_216952043614f7ebf43e3e0dd5c67118);\n",
       "        \n",
       "    \n",
       "        var custom_icon_35c4ef9574ce7632499492198b3da392 = L.icon({\n",
       "  &quot;iconUrl&quot;: &quot;https://images.icon-icons.com/3565/PNG/512/tree_flower_plant_nature_landscape_icon_225325.png&quot;,\n",
       "  &quot;iconSize&quot;: [40, 40],\n",
       "});\n",
       "        marker_2c4b09d118d38ab4976e63ecbb28e4dd.setIcon(custom_icon_35c4ef9574ce7632499492198b3da392);\n",
       "        \n",
       "    \n",
       "        var popup_7bc9f11afcc253ad590974993613faef = L.popup({\n",
       "  &quot;maxWidth&quot;: &quot;100%&quot;,\n",
       "});\n",
       "\n",
       "        \n",
       "            \n",
       "                var html_03ac7c6bbd09e9e80e5fb405135f04ce = $(`&lt;div id=&quot;html_03ac7c6bbd09e9e80e5fb405135f04ce&quot; style=&quot;width: 100.0%; height: 100.0%;&quot;&gt;Strasbourg&lt;/div&gt;`)[0];\n",
       "                popup_7bc9f11afcc253ad590974993613faef.setContent(html_03ac7c6bbd09e9e80e5fb405135f04ce);\n",
       "            \n",
       "        \n",
       "\n",
       "        marker_2c4b09d118d38ab4976e63ecbb28e4dd.bindPopup(popup_7bc9f11afcc253ad590974993613faef)\n",
       "        ;\n",
       "\n",
       "        \n",
       "    \n",
       "    \n",
       "                marker_2c4b09d118d38ab4976e63ecbb28e4dd.setIcon(custom_icon_35c4ef9574ce7632499492198b3da392);\n",
       "            \n",
       "    \n",
       "            var marker_2c4d938b6c82fef16ecd4cab426d5bbb = L.marker(\n",
       "                [48.2495226, 7.3454923],\n",
       "                {\n",
       "}\n",
       "            ).addTo(map_216952043614f7ebf43e3e0dd5c67118);\n",
       "        \n",
       "    \n",
       "        var custom_icon_ed5be45319bc92f362084a9d8ccbcdf8 = L.icon({\n",
       "  &quot;iconUrl&quot;: &quot;https://images.icon-icons.com/3565/PNG/512/tree_flower_plant_nature_landscape_icon_225325.png&quot;,\n",
       "  &quot;iconSize&quot;: [40, 40],\n",
       "});\n",
       "        marker_2c4d938b6c82fef16ecd4cab426d5bbb.setIcon(custom_icon_ed5be45319bc92f362084a9d8ccbcdf8);\n",
       "        \n",
       "    \n",
       "        var popup_20c4a3d23889e1fcea6d3e40f376dc79 = L.popup({\n",
       "  &quot;maxWidth&quot;: &quot;100%&quot;,\n",
       "});\n",
       "\n",
       "        \n",
       "            \n",
       "                var html_09400b4bc8092167e38b9a8f6aba252f = $(`&lt;div id=&quot;html_09400b4bc8092167e38b9a8f6aba252f&quot; style=&quot;width: 100.0%; height: 100.0%;&quot;&gt;Chateau du Haut Koenigsbourg&lt;/div&gt;`)[0];\n",
       "                popup_20c4a3d23889e1fcea6d3e40f376dc79.setContent(html_09400b4bc8092167e38b9a8f6aba252f);\n",
       "            \n",
       "        \n",
       "\n",
       "        marker_2c4d938b6c82fef16ecd4cab426d5bbb.bindPopup(popup_20c4a3d23889e1fcea6d3e40f376dc79)\n",
       "        ;\n",
       "\n",
       "        \n",
       "    \n",
       "    \n",
       "                marker_2c4d938b6c82fef16ecd4cab426d5bbb.setIcon(custom_icon_ed5be45319bc92f362084a9d8ccbcdf8);\n",
       "            \n",
       "    \n",
       "            var marker_2d68267c8431e27fdb31bc81bef94620 = L.marker(\n",
       "                [48.0777517, 7.3579641],\n",
       "                {\n",
       "}\n",
       "            ).addTo(map_216952043614f7ebf43e3e0dd5c67118);\n",
       "        \n",
       "    \n",
       "        var custom_icon_ef43d65b8a177154ed079ebf76511782 = L.icon({\n",
       "  &quot;iconUrl&quot;: &quot;https://images.icon-icons.com/3565/PNG/512/tree_flower_plant_nature_landscape_icon_225325.png&quot;,\n",
       "  &quot;iconSize&quot;: [40, 40],\n",
       "});\n",
       "        marker_2d68267c8431e27fdb31bc81bef94620.setIcon(custom_icon_ef43d65b8a177154ed079ebf76511782);\n",
       "        \n",
       "    \n",
       "        var popup_119333016f48a183d13be0cbdc316365 = L.popup({\n",
       "  &quot;maxWidth&quot;: &quot;100%&quot;,\n",
       "});\n",
       "\n",
       "        \n",
       "            \n",
       "                var html_4d4e2d989b8ec78149474624a0519819 = $(`&lt;div id=&quot;html_4d4e2d989b8ec78149474624a0519819&quot; style=&quot;width: 100.0%; height: 100.0%;&quot;&gt;Colmar&lt;/div&gt;`)[0];\n",
       "                popup_119333016f48a183d13be0cbdc316365.setContent(html_4d4e2d989b8ec78149474624a0519819);\n",
       "            \n",
       "        \n",
       "\n",
       "        marker_2d68267c8431e27fdb31bc81bef94620.bindPopup(popup_119333016f48a183d13be0cbdc316365)\n",
       "        ;\n",
       "\n",
       "        \n",
       "    \n",
       "    \n",
       "                marker_2d68267c8431e27fdb31bc81bef94620.setIcon(custom_icon_ef43d65b8a177154ed079ebf76511782);\n",
       "            \n",
       "    \n",
       "            var marker_a345d83ab576758ac0eea0721b14eda5 = L.marker(\n",
       "                [48.0447968, 7.3079618],\n",
       "                {\n",
       "}\n",
       "            ).addTo(map_216952043614f7ebf43e3e0dd5c67118);\n",
       "        \n",
       "    \n",
       "        var custom_icon_08984b687201ed7993c01b1116da05b0 = L.icon({\n",
       "  &quot;iconUrl&quot;: &quot;https://images.icon-icons.com/3565/PNG/512/tree_flower_plant_nature_landscape_icon_225325.png&quot;,\n",
       "  &quot;iconSize&quot;: [40, 40],\n",
       "});\n",
       "        marker_a345d83ab576758ac0eea0721b14eda5.setIcon(custom_icon_08984b687201ed7993c01b1116da05b0);\n",
       "        \n",
       "    \n",
       "        var popup_3c2418bce5b6d8181f62fcb1f47dd10a = L.popup({\n",
       "  &quot;maxWidth&quot;: &quot;100%&quot;,\n",
       "});\n",
       "\n",
       "        \n",
       "            \n",
       "                var html_874fc9ed4f8b6dbba90bffd3c5a2b9a0 = $(`&lt;div id=&quot;html_874fc9ed4f8b6dbba90bffd3c5a2b9a0&quot; style=&quot;width: 100.0%; height: 100.0%;&quot;&gt;Eguisheim&lt;/div&gt;`)[0];\n",
       "                popup_3c2418bce5b6d8181f62fcb1f47dd10a.setContent(html_874fc9ed4f8b6dbba90bffd3c5a2b9a0);\n",
       "            \n",
       "        \n",
       "\n",
       "        marker_a345d83ab576758ac0eea0721b14eda5.bindPopup(popup_3c2418bce5b6d8181f62fcb1f47dd10a)\n",
       "        ;\n",
       "\n",
       "        \n",
       "    \n",
       "    \n",
       "                marker_a345d83ab576758ac0eea0721b14eda5.setIcon(custom_icon_08984b687201ed7993c01b1116da05b0);\n",
       "            \n",
       "    \n",
       "            var marker_94e39f2cac9851b6c53df62ee857a419 = L.marker(\n",
       "                [47.2380222, 6.0243622],\n",
       "                {\n",
       "}\n",
       "            ).addTo(map_216952043614f7ebf43e3e0dd5c67118);\n",
       "        \n",
       "    \n",
       "        var custom_icon_dc389a6ed6d9ff5666017961265320e9 = L.icon({\n",
       "  &quot;iconUrl&quot;: &quot;https://images.icon-icons.com/3565/PNG/512/tree_flower_plant_nature_landscape_icon_225325.png&quot;,\n",
       "  &quot;iconSize&quot;: [40, 40],\n",
       "});\n",
       "        marker_94e39f2cac9851b6c53df62ee857a419.setIcon(custom_icon_dc389a6ed6d9ff5666017961265320e9);\n",
       "        \n",
       "    \n",
       "        var popup_71688cee36a2be4e1bd398d0152fef6b = L.popup({\n",
       "  &quot;maxWidth&quot;: &quot;100%&quot;,\n",
       "});\n",
       "\n",
       "        \n",
       "            \n",
       "                var html_8722380a320580db4f7d5fd28cc01789 = $(`&lt;div id=&quot;html_8722380a320580db4f7d5fd28cc01789&quot; style=&quot;width: 100.0%; height: 100.0%;&quot;&gt;Besancon&lt;/div&gt;`)[0];\n",
       "                popup_71688cee36a2be4e1bd398d0152fef6b.setContent(html_8722380a320580db4f7d5fd28cc01789);\n",
       "            \n",
       "        \n",
       "\n",
       "        marker_94e39f2cac9851b6c53df62ee857a419.bindPopup(popup_71688cee36a2be4e1bd398d0152fef6b)\n",
       "        ;\n",
       "\n",
       "        \n",
       "    \n",
       "    \n",
       "                marker_94e39f2cac9851b6c53df62ee857a419.setIcon(custom_icon_dc389a6ed6d9ff5666017961265320e9);\n",
       "            \n",
       "    \n",
       "            var marker_8f89a37cc5c25c7600068f1cf303c674 = L.marker(\n",
       "                [47.3215806, 5.0414701],\n",
       "                {\n",
       "}\n",
       "            ).addTo(map_216952043614f7ebf43e3e0dd5c67118);\n",
       "        \n",
       "    \n",
       "        var custom_icon_ee35cfafd194b72e481c3c284f7161ba = L.icon({\n",
       "  &quot;iconUrl&quot;: &quot;https://images.icon-icons.com/3565/PNG/512/tree_flower_plant_nature_landscape_icon_225325.png&quot;,\n",
       "  &quot;iconSize&quot;: [40, 40],\n",
       "});\n",
       "        marker_8f89a37cc5c25c7600068f1cf303c674.setIcon(custom_icon_ee35cfafd194b72e481c3c284f7161ba);\n",
       "        \n",
       "    \n",
       "        var popup_18e7f894739127be8234db99b59c4f9e = L.popup({\n",
       "  &quot;maxWidth&quot;: &quot;100%&quot;,\n",
       "});\n",
       "\n",
       "        \n",
       "            \n",
       "                var html_a91db599d59de785e7fa31a100f3b817 = $(`&lt;div id=&quot;html_a91db599d59de785e7fa31a100f3b817&quot; style=&quot;width: 100.0%; height: 100.0%;&quot;&gt;Dijon&lt;/div&gt;`)[0];\n",
       "                popup_18e7f894739127be8234db99b59c4f9e.setContent(html_a91db599d59de785e7fa31a100f3b817);\n",
       "            \n",
       "        \n",
       "\n",
       "        marker_8f89a37cc5c25c7600068f1cf303c674.bindPopup(popup_18e7f894739127be8234db99b59c4f9e)\n",
       "        ;\n",
       "\n",
       "        \n",
       "    \n",
       "    \n",
       "                marker_8f89a37cc5c25c7600068f1cf303c674.setIcon(custom_icon_ee35cfafd194b72e481c3c284f7161ba);\n",
       "            \n",
       "    \n",
       "            var marker_7c553179712f74d73e5c96e58003a448 = L.marker(\n",
       "                [45.8992348, 6.1288847],\n",
       "                {\n",
       "}\n",
       "            ).addTo(map_216952043614f7ebf43e3e0dd5c67118);\n",
       "        \n",
       "    \n",
       "        var custom_icon_54eee4c3f5b1dca083e50d0f7bfabb15 = L.icon({\n",
       "  &quot;iconUrl&quot;: &quot;https://images.icon-icons.com/3565/PNG/512/tree_flower_plant_nature_landscape_icon_225325.png&quot;,\n",
       "  &quot;iconSize&quot;: [40, 40],\n",
       "});\n",
       "        marker_7c553179712f74d73e5c96e58003a448.setIcon(custom_icon_54eee4c3f5b1dca083e50d0f7bfabb15);\n",
       "        \n",
       "    \n",
       "        var popup_bf6bc2c4c37b13cf7693af56f1317df1 = L.popup({\n",
       "  &quot;maxWidth&quot;: &quot;100%&quot;,\n",
       "});\n",
       "\n",
       "        \n",
       "            \n",
       "                var html_67cca76ff6f8c8859d5b3316ee62d684 = $(`&lt;div id=&quot;html_67cca76ff6f8c8859d5b3316ee62d684&quot; style=&quot;width: 100.0%; height: 100.0%;&quot;&gt;Annecy&lt;/div&gt;`)[0];\n",
       "                popup_bf6bc2c4c37b13cf7693af56f1317df1.setContent(html_67cca76ff6f8c8859d5b3316ee62d684);\n",
       "            \n",
       "        \n",
       "\n",
       "        marker_7c553179712f74d73e5c96e58003a448.bindPopup(popup_bf6bc2c4c37b13cf7693af56f1317df1)\n",
       "        ;\n",
       "\n",
       "        \n",
       "    \n",
       "    \n",
       "                marker_7c553179712f74d73e5c96e58003a448.setIcon(custom_icon_54eee4c3f5b1dca083e50d0f7bfabb15);\n",
       "            \n",
       "    \n",
       "            var marker_55a56816e17808d631c87ba7cf1711ee = L.marker(\n",
       "                [45.1875602, 5.7357819],\n",
       "                {\n",
       "}\n",
       "            ).addTo(map_216952043614f7ebf43e3e0dd5c67118);\n",
       "        \n",
       "    \n",
       "        var custom_icon_d5b00b352a411675ac890dad1ea6d52a = L.icon({\n",
       "  &quot;iconUrl&quot;: &quot;https://images.icon-icons.com/3565/PNG/512/tree_flower_plant_nature_landscape_icon_225325.png&quot;,\n",
       "  &quot;iconSize&quot;: [40, 40],\n",
       "});\n",
       "        marker_55a56816e17808d631c87ba7cf1711ee.setIcon(custom_icon_d5b00b352a411675ac890dad1ea6d52a);\n",
       "        \n",
       "    \n",
       "        var popup_cb72d9a9c0eec650db9ae05b11e77457 = L.popup({\n",
       "  &quot;maxWidth&quot;: &quot;100%&quot;,\n",
       "});\n",
       "\n",
       "        \n",
       "            \n",
       "                var html_5deb884a8713dae1e9f135e349aaa2af = $(`&lt;div id=&quot;html_5deb884a8713dae1e9f135e349aaa2af&quot; style=&quot;width: 100.0%; height: 100.0%;&quot;&gt;Grenoble&lt;/div&gt;`)[0];\n",
       "                popup_cb72d9a9c0eec650db9ae05b11e77457.setContent(html_5deb884a8713dae1e9f135e349aaa2af);\n",
       "            \n",
       "        \n",
       "\n",
       "        marker_55a56816e17808d631c87ba7cf1711ee.bindPopup(popup_cb72d9a9c0eec650db9ae05b11e77457)\n",
       "        ;\n",
       "\n",
       "        \n",
       "    \n",
       "    \n",
       "                marker_55a56816e17808d631c87ba7cf1711ee.setIcon(custom_icon_d5b00b352a411675ac890dad1ea6d52a);\n",
       "            \n",
       "    \n",
       "            var marker_7d4045dbeddcb59a6ed2c88607c71220 = L.marker(\n",
       "                [45.7578137, 4.8320114],\n",
       "                {\n",
       "}\n",
       "            ).addTo(map_216952043614f7ebf43e3e0dd5c67118);\n",
       "        \n",
       "    \n",
       "        var custom_icon_0b7eaa35b6718cb800e15a544440baef = L.icon({\n",
       "  &quot;iconUrl&quot;: &quot;https://images.icon-icons.com/3565/PNG/512/tree_flower_plant_nature_landscape_icon_225325.png&quot;,\n",
       "  &quot;iconSize&quot;: [40, 40],\n",
       "});\n",
       "        marker_7d4045dbeddcb59a6ed2c88607c71220.setIcon(custom_icon_0b7eaa35b6718cb800e15a544440baef);\n",
       "        \n",
       "    \n",
       "        var popup_57688ce50b20fb7b03a5767ad74f2ca5 = L.popup({\n",
       "  &quot;maxWidth&quot;: &quot;100%&quot;,\n",
       "});\n",
       "\n",
       "        \n",
       "            \n",
       "                var html_d6954eceb3b767501e9214a5e1ba2c0b = $(`&lt;div id=&quot;html_d6954eceb3b767501e9214a5e1ba2c0b&quot; style=&quot;width: 100.0%; height: 100.0%;&quot;&gt;Lyon&lt;/div&gt;`)[0];\n",
       "                popup_57688ce50b20fb7b03a5767ad74f2ca5.setContent(html_d6954eceb3b767501e9214a5e1ba2c0b);\n",
       "            \n",
       "        \n",
       "\n",
       "        marker_7d4045dbeddcb59a6ed2c88607c71220.bindPopup(popup_57688ce50b20fb7b03a5767ad74f2ca5)\n",
       "        ;\n",
       "\n",
       "        \n",
       "    \n",
       "    \n",
       "                marker_7d4045dbeddcb59a6ed2c88607c71220.setIcon(custom_icon_0b7eaa35b6718cb800e15a544440baef);\n",
       "            \n",
       "    \n",
       "            var marker_31dfb86989024dfc33be07fd776efc94 = L.marker(\n",
       "                [43.1506968, 6.3419285],\n",
       "                {\n",
       "}\n",
       "            ).addTo(map_216952043614f7ebf43e3e0dd5c67118);\n",
       "        \n",
       "    \n",
       "        var custom_icon_5e1c8ae9780f6a500d1bb89331f892e5 = L.icon({\n",
       "  &quot;iconUrl&quot;: &quot;https://images.icon-icons.com/3565/PNG/512/tree_flower_plant_nature_landscape_icon_225325.png&quot;,\n",
       "  &quot;iconSize&quot;: [40, 40],\n",
       "});\n",
       "        marker_31dfb86989024dfc33be07fd776efc94.setIcon(custom_icon_5e1c8ae9780f6a500d1bb89331f892e5);\n",
       "        \n",
       "    \n",
       "        var popup_8aefe552653995331838833ed2c71496 = L.popup({\n",
       "  &quot;maxWidth&quot;: &quot;100%&quot;,\n",
       "});\n",
       "\n",
       "        \n",
       "            \n",
       "                var html_7585e6d61a4f7f0ea20659c725301a7b = $(`&lt;div id=&quot;html_7585e6d61a4f7f0ea20659c725301a7b&quot; style=&quot;width: 100.0%; height: 100.0%;&quot;&gt;Bormes les Mimosas&lt;/div&gt;`)[0];\n",
       "                popup_8aefe552653995331838833ed2c71496.setContent(html_7585e6d61a4f7f0ea20659c725301a7b);\n",
       "            \n",
       "        \n",
       "\n",
       "        marker_31dfb86989024dfc33be07fd776efc94.bindPopup(popup_8aefe552653995331838833ed2c71496)\n",
       "        ;\n",
       "\n",
       "        \n",
       "    \n",
       "    \n",
       "                marker_31dfb86989024dfc33be07fd776efc94.setIcon(custom_icon_5e1c8ae9780f6a500d1bb89331f892e5);\n",
       "            \n",
       "    \n",
       "            var marker_bc4045db6949b4144d5afee8e29c3b2e = L.marker(\n",
       "                [43.2140359, 5.5396318],\n",
       "                {\n",
       "}\n",
       "            ).addTo(map_216952043614f7ebf43e3e0dd5c67118);\n",
       "        \n",
       "    \n",
       "        var custom_icon_dfd983340dbcd9a94e417902fede0172 = L.icon({\n",
       "  &quot;iconUrl&quot;: &quot;https://images.icon-icons.com/3565/PNG/512/tree_flower_plant_nature_landscape_icon_225325.png&quot;,\n",
       "  &quot;iconSize&quot;: [40, 40],\n",
       "});\n",
       "        marker_bc4045db6949b4144d5afee8e29c3b2e.setIcon(custom_icon_dfd983340dbcd9a94e417902fede0172);\n",
       "        \n",
       "    \n",
       "        var popup_1d67fbf80696e369640cfdaa054a2a55 = L.popup({\n",
       "  &quot;maxWidth&quot;: &quot;100%&quot;,\n",
       "});\n",
       "\n",
       "        \n",
       "            \n",
       "                var html_822ffc38811816b0738f6d30477f8fa2 = $(`&lt;div id=&quot;html_822ffc38811816b0738f6d30477f8fa2&quot; style=&quot;width: 100.0%; height: 100.0%;&quot;&gt;Cassis&lt;/div&gt;`)[0];\n",
       "                popup_1d67fbf80696e369640cfdaa054a2a55.setContent(html_822ffc38811816b0738f6d30477f8fa2);\n",
       "            \n",
       "        \n",
       "\n",
       "        marker_bc4045db6949b4144d5afee8e29c3b2e.bindPopup(popup_1d67fbf80696e369640cfdaa054a2a55)\n",
       "        ;\n",
       "\n",
       "        \n",
       "    \n",
       "    \n",
       "                marker_bc4045db6949b4144d5afee8e29c3b2e.setIcon(custom_icon_dfd983340dbcd9a94e417902fede0172);\n",
       "            \n",
       "    \n",
       "            var marker_b18ec21cad7820fd7322cd7be690d567 = L.marker(\n",
       "                [43.2961743, 5.3699525],\n",
       "                {\n",
       "}\n",
       "            ).addTo(map_216952043614f7ebf43e3e0dd5c67118);\n",
       "        \n",
       "    \n",
       "        var custom_icon_3a1aa0fcb9f99506d527405e74a23c2e = L.icon({\n",
       "  &quot;iconUrl&quot;: &quot;https://images.icon-icons.com/3565/PNG/512/tree_flower_plant_nature_landscape_icon_225325.png&quot;,\n",
       "  &quot;iconSize&quot;: [40, 40],\n",
       "});\n",
       "        marker_b18ec21cad7820fd7322cd7be690d567.setIcon(custom_icon_3a1aa0fcb9f99506d527405e74a23c2e);\n",
       "        \n",
       "    \n",
       "        var popup_eca62f21d7e49a5132d1e364398f5762 = L.popup({\n",
       "  &quot;maxWidth&quot;: &quot;100%&quot;,\n",
       "});\n",
       "\n",
       "        \n",
       "            \n",
       "                var html_6c905423c4cabe64b0cafc7661df1b84 = $(`&lt;div id=&quot;html_6c905423c4cabe64b0cafc7661df1b84&quot; style=&quot;width: 100.0%; height: 100.0%;&quot;&gt;Marseille&lt;/div&gt;`)[0];\n",
       "                popup_eca62f21d7e49a5132d1e364398f5762.setContent(html_6c905423c4cabe64b0cafc7661df1b84);\n",
       "            \n",
       "        \n",
       "\n",
       "        marker_b18ec21cad7820fd7322cd7be690d567.bindPopup(popup_eca62f21d7e49a5132d1e364398f5762)\n",
       "        ;\n",
       "\n",
       "        \n",
       "    \n",
       "    \n",
       "                marker_b18ec21cad7820fd7322cd7be690d567.setIcon(custom_icon_3a1aa0fcb9f99506d527405e74a23c2e);\n",
       "            \n",
       "    \n",
       "            var marker_f6cb7540bfd5e7b2fb71f0e2431a9cd0 = L.marker(\n",
       "                [43.5298424, 5.4474738],\n",
       "                {\n",
       "}\n",
       "            ).addTo(map_216952043614f7ebf43e3e0dd5c67118);\n",
       "        \n",
       "    \n",
       "        var custom_icon_4a728e39c55d32b0804af62eb3ee8195 = L.icon({\n",
       "  &quot;iconUrl&quot;: &quot;https://images.icon-icons.com/3565/PNG/512/tree_flower_plant_nature_landscape_icon_225325.png&quot;,\n",
       "  &quot;iconSize&quot;: [40, 40],\n",
       "});\n",
       "        marker_f6cb7540bfd5e7b2fb71f0e2431a9cd0.setIcon(custom_icon_4a728e39c55d32b0804af62eb3ee8195);\n",
       "        \n",
       "    \n",
       "        var popup_ce0bd15d3d96186ed99180d2ca70e618 = L.popup({\n",
       "  &quot;maxWidth&quot;: &quot;100%&quot;,\n",
       "});\n",
       "\n",
       "        \n",
       "            \n",
       "                var html_e6a6a1d4c55f54488e7bb97eb3db333b = $(`&lt;div id=&quot;html_e6a6a1d4c55f54488e7bb97eb3db333b&quot; style=&quot;width: 100.0%; height: 100.0%;&quot;&gt;Aix en Provence&lt;/div&gt;`)[0];\n",
       "                popup_ce0bd15d3d96186ed99180d2ca70e618.setContent(html_e6a6a1d4c55f54488e7bb97eb3db333b);\n",
       "            \n",
       "        \n",
       "\n",
       "        marker_f6cb7540bfd5e7b2fb71f0e2431a9cd0.bindPopup(popup_ce0bd15d3d96186ed99180d2ca70e618)\n",
       "        ;\n",
       "\n",
       "        \n",
       "    \n",
       "    \n",
       "                marker_f6cb7540bfd5e7b2fb71f0e2431a9cd0.setIcon(custom_icon_4a728e39c55d32b0804af62eb3ee8195);\n",
       "            \n",
       "    \n",
       "            var marker_0b8809050ce2bf2b4473fb4545324fc0 = L.marker(\n",
       "                [43.9492493, 4.8059012],\n",
       "                {\n",
       "}\n",
       "            ).addTo(map_216952043614f7ebf43e3e0dd5c67118);\n",
       "        \n",
       "    \n",
       "        var custom_icon_a6e219ae8f0a969d494676bdd1b7c07e = L.icon({\n",
       "  &quot;iconUrl&quot;: &quot;https://images.icon-icons.com/3565/PNG/512/tree_flower_plant_nature_landscape_icon_225325.png&quot;,\n",
       "  &quot;iconSize&quot;: [40, 40],\n",
       "});\n",
       "        marker_0b8809050ce2bf2b4473fb4545324fc0.setIcon(custom_icon_a6e219ae8f0a969d494676bdd1b7c07e);\n",
       "        \n",
       "    \n",
       "        var popup_44fa2f01d39f7fe6dd7d6cb7fa25efbc = L.popup({\n",
       "  &quot;maxWidth&quot;: &quot;100%&quot;,\n",
       "});\n",
       "\n",
       "        \n",
       "            \n",
       "                var html_a90637e6a3922572a462a137533f3090 = $(`&lt;div id=&quot;html_a90637e6a3922572a462a137533f3090&quot; style=&quot;width: 100.0%; height: 100.0%;&quot;&gt;Avignon&lt;/div&gt;`)[0];\n",
       "                popup_44fa2f01d39f7fe6dd7d6cb7fa25efbc.setContent(html_a90637e6a3922572a462a137533f3090);\n",
       "            \n",
       "        \n",
       "\n",
       "        marker_0b8809050ce2bf2b4473fb4545324fc0.bindPopup(popup_44fa2f01d39f7fe6dd7d6cb7fa25efbc)\n",
       "        ;\n",
       "\n",
       "        \n",
       "    \n",
       "    \n",
       "                marker_0b8809050ce2bf2b4473fb4545324fc0.setIcon(custom_icon_a6e219ae8f0a969d494676bdd1b7c07e);\n",
       "            \n",
       "    \n",
       "            var marker_2b93523983e9a7346e94ec3eb2103896 = L.marker(\n",
       "                [44.0121279, 4.4196718],\n",
       "                {\n",
       "}\n",
       "            ).addTo(map_216952043614f7ebf43e3e0dd5c67118);\n",
       "        \n",
       "    \n",
       "        var custom_icon_6858bcb5ba1a04f0fd3df95da7489266 = L.icon({\n",
       "  &quot;iconUrl&quot;: &quot;https://images.icon-icons.com/3565/PNG/512/tree_flower_plant_nature_landscape_icon_225325.png&quot;,\n",
       "  &quot;iconSize&quot;: [40, 40],\n",
       "});\n",
       "        marker_2b93523983e9a7346e94ec3eb2103896.setIcon(custom_icon_6858bcb5ba1a04f0fd3df95da7489266);\n",
       "        \n",
       "    \n",
       "        var popup_c2ac3a5c4fae1dcf392f3ec4ed88f43c = L.popup({\n",
       "  &quot;maxWidth&quot;: &quot;100%&quot;,\n",
       "});\n",
       "\n",
       "        \n",
       "            \n",
       "                var html_d80145051549c32a8efcfa7d87ffacac = $(`&lt;div id=&quot;html_d80145051549c32a8efcfa7d87ffacac&quot; style=&quot;width: 100.0%; height: 100.0%;&quot;&gt;Uzes&lt;/div&gt;`)[0];\n",
       "                popup_c2ac3a5c4fae1dcf392f3ec4ed88f43c.setContent(html_d80145051549c32a8efcfa7d87ffacac);\n",
       "            \n",
       "        \n",
       "\n",
       "        marker_2b93523983e9a7346e94ec3eb2103896.bindPopup(popup_c2ac3a5c4fae1dcf392f3ec4ed88f43c)\n",
       "        ;\n",
       "\n",
       "        \n",
       "    \n",
       "    \n",
       "                marker_2b93523983e9a7346e94ec3eb2103896.setIcon(custom_icon_6858bcb5ba1a04f0fd3df95da7489266);\n",
       "            \n",
       "    \n",
       "            var marker_d795a49d32b7c463df9ddea84d654ed5 = L.marker(\n",
       "                [43.8374249, 4.3600687],\n",
       "                {\n",
       "}\n",
       "            ).addTo(map_216952043614f7ebf43e3e0dd5c67118);\n",
       "        \n",
       "    \n",
       "        var custom_icon_ae238d0ac0746f9d5b65f1007a846124 = L.icon({\n",
       "  &quot;iconUrl&quot;: &quot;https://images.icon-icons.com/3565/PNG/512/tree_flower_plant_nature_landscape_icon_225325.png&quot;,\n",
       "  &quot;iconSize&quot;: [40, 40],\n",
       "});\n",
       "        marker_d795a49d32b7c463df9ddea84d654ed5.setIcon(custom_icon_ae238d0ac0746f9d5b65f1007a846124);\n",
       "        \n",
       "    \n",
       "        var popup_dcc095ad29bc03317dd29be38a2e0b09 = L.popup({\n",
       "  &quot;maxWidth&quot;: &quot;100%&quot;,\n",
       "});\n",
       "\n",
       "        \n",
       "            \n",
       "                var html_7ed1ab4fa11a1165ab7839be8fb7f0c2 = $(`&lt;div id=&quot;html_7ed1ab4fa11a1165ab7839be8fb7f0c2&quot; style=&quot;width: 100.0%; height: 100.0%;&quot;&gt;Nimes&lt;/div&gt;`)[0];\n",
       "                popup_dcc095ad29bc03317dd29be38a2e0b09.setContent(html_7ed1ab4fa11a1165ab7839be8fb7f0c2);\n",
       "            \n",
       "        \n",
       "\n",
       "        marker_d795a49d32b7c463df9ddea84d654ed5.bindPopup(popup_dcc095ad29bc03317dd29be38a2e0b09)\n",
       "        ;\n",
       "\n",
       "        \n",
       "    \n",
       "    \n",
       "                marker_d795a49d32b7c463df9ddea84d654ed5.setIcon(custom_icon_ae238d0ac0746f9d5b65f1007a846124);\n",
       "            \n",
       "    \n",
       "            var marker_00d5fda06681f5781645ec3bc7c9ef34 = L.marker(\n",
       "                [43.5658225, 4.1912837],\n",
       "                {\n",
       "}\n",
       "            ).addTo(map_216952043614f7ebf43e3e0dd5c67118);\n",
       "        \n",
       "    \n",
       "        var custom_icon_72590adeac7278296b86fe438fbbab96 = L.icon({\n",
       "  &quot;iconUrl&quot;: &quot;https://images.icon-icons.com/3565/PNG/512/tree_flower_plant_nature_landscape_icon_225325.png&quot;,\n",
       "  &quot;iconSize&quot;: [40, 40],\n",
       "});\n",
       "        marker_00d5fda06681f5781645ec3bc7c9ef34.setIcon(custom_icon_72590adeac7278296b86fe438fbbab96);\n",
       "        \n",
       "    \n",
       "        var popup_7a1e9b728ef3395cd631c69bc7096770 = L.popup({\n",
       "  &quot;maxWidth&quot;: &quot;100%&quot;,\n",
       "});\n",
       "\n",
       "        \n",
       "            \n",
       "                var html_332bf0c8a8683133b6600eee49dcd232 = $(`&lt;div id=&quot;html_332bf0c8a8683133b6600eee49dcd232&quot; style=&quot;width: 100.0%; height: 100.0%;&quot;&gt;Aigues Mortes&lt;/div&gt;`)[0];\n",
       "                popup_7a1e9b728ef3395cd631c69bc7096770.setContent(html_332bf0c8a8683133b6600eee49dcd232);\n",
       "            \n",
       "        \n",
       "\n",
       "        marker_00d5fda06681f5781645ec3bc7c9ef34.bindPopup(popup_7a1e9b728ef3395cd631c69bc7096770)\n",
       "        ;\n",
       "\n",
       "        \n",
       "    \n",
       "    \n",
       "                marker_00d5fda06681f5781645ec3bc7c9ef34.setIcon(custom_icon_72590adeac7278296b86fe438fbbab96);\n",
       "            \n",
       "    \n",
       "            var marker_8054b29451edea5e7d32ac6dd6e01ec1 = L.marker(\n",
       "                [43.4522771, 4.4287172],\n",
       "                {\n",
       "}\n",
       "            ).addTo(map_216952043614f7ebf43e3e0dd5c67118);\n",
       "        \n",
       "    \n",
       "        var custom_icon_a4ad3d0f55a5ebeb950fbf8b5d87c839 = L.icon({\n",
       "  &quot;iconUrl&quot;: &quot;https://images.icon-icons.com/3565/PNG/512/tree_flower_plant_nature_landscape_icon_225325.png&quot;,\n",
       "  &quot;iconSize&quot;: [40, 40],\n",
       "});\n",
       "        marker_8054b29451edea5e7d32ac6dd6e01ec1.setIcon(custom_icon_a4ad3d0f55a5ebeb950fbf8b5d87c839);\n",
       "        \n",
       "    \n",
       "        var popup_13b794ceab4139dc3b6e429390f58eeb = L.popup({\n",
       "  &quot;maxWidth&quot;: &quot;100%&quot;,\n",
       "});\n",
       "\n",
       "        \n",
       "            \n",
       "                var html_583cf88038b13becfa744bb784dfe623 = $(`&lt;div id=&quot;html_583cf88038b13becfa744bb784dfe623&quot; style=&quot;width: 100.0%; height: 100.0%;&quot;&gt;Saintes Maries de la mer&lt;/div&gt;`)[0];\n",
       "                popup_13b794ceab4139dc3b6e429390f58eeb.setContent(html_583cf88038b13becfa744bb784dfe623);\n",
       "            \n",
       "        \n",
       "\n",
       "        marker_8054b29451edea5e7d32ac6dd6e01ec1.bindPopup(popup_13b794ceab4139dc3b6e429390f58eeb)\n",
       "        ;\n",
       "\n",
       "        \n",
       "    \n",
       "    \n",
       "                marker_8054b29451edea5e7d32ac6dd6e01ec1.setIcon(custom_icon_a4ad3d0f55a5ebeb950fbf8b5d87c839);\n",
       "            \n",
       "    \n",
       "            var marker_f9a38a7388066f899d0e9bb8b92f737f = L.marker(\n",
       "                [42.52505, 3.0831554],\n",
       "                {\n",
       "}\n",
       "            ).addTo(map_216952043614f7ebf43e3e0dd5c67118);\n",
       "        \n",
       "    \n",
       "        var custom_icon_ad22474c184b96b5fd70c3d7b6a70210 = L.icon({\n",
       "  &quot;iconUrl&quot;: &quot;https://images.icon-icons.com/3565/PNG/512/tree_flower_plant_nature_landscape_icon_225325.png&quot;,\n",
       "  &quot;iconSize&quot;: [40, 40],\n",
       "});\n",
       "        marker_f9a38a7388066f899d0e9bb8b92f737f.setIcon(custom_icon_ad22474c184b96b5fd70c3d7b6a70210);\n",
       "        \n",
       "    \n",
       "        var popup_49ab75fd9f86056e81d088fc7b7052e5 = L.popup({\n",
       "  &quot;maxWidth&quot;: &quot;100%&quot;,\n",
       "});\n",
       "\n",
       "        \n",
       "            \n",
       "                var html_60a1232d4a54ad1099a06fce03b87328 = $(`&lt;div id=&quot;html_60a1232d4a54ad1099a06fce03b87328&quot; style=&quot;width: 100.0%; height: 100.0%;&quot;&gt;Collioure&lt;/div&gt;`)[0];\n",
       "                popup_49ab75fd9f86056e81d088fc7b7052e5.setContent(html_60a1232d4a54ad1099a06fce03b87328);\n",
       "            \n",
       "        \n",
       "\n",
       "        marker_f9a38a7388066f899d0e9bb8b92f737f.bindPopup(popup_49ab75fd9f86056e81d088fc7b7052e5)\n",
       "        ;\n",
       "\n",
       "        \n",
       "    \n",
       "    \n",
       "                marker_f9a38a7388066f899d0e9bb8b92f737f.setIcon(custom_icon_ad22474c184b96b5fd70c3d7b6a70210);\n",
       "            \n",
       "    \n",
       "            var marker_342500b26f1472841d61c43b4ef54eac = L.marker(\n",
       "                [43.2130358, 2.3491069],\n",
       "                {\n",
       "}\n",
       "            ).addTo(map_216952043614f7ebf43e3e0dd5c67118);\n",
       "        \n",
       "    \n",
       "        var custom_icon_19371ed8122badc2715aa563c047cf50 = L.icon({\n",
       "  &quot;iconUrl&quot;: &quot;https://images.icon-icons.com/3565/PNG/512/tree_flower_plant_nature_landscape_icon_225325.png&quot;,\n",
       "  &quot;iconSize&quot;: [40, 40],\n",
       "});\n",
       "        marker_342500b26f1472841d61c43b4ef54eac.setIcon(custom_icon_19371ed8122badc2715aa563c047cf50);\n",
       "        \n",
       "    \n",
       "        var popup_94c65ba8af9da88de08ec2d92ad429e1 = L.popup({\n",
       "  &quot;maxWidth&quot;: &quot;100%&quot;,\n",
       "});\n",
       "\n",
       "        \n",
       "            \n",
       "                var html_a65b0e78ebcd003f7d823b04b1cc1d40 = $(`&lt;div id=&quot;html_a65b0e78ebcd003f7d823b04b1cc1d40&quot; style=&quot;width: 100.0%; height: 100.0%;&quot;&gt;Carcassonne&lt;/div&gt;`)[0];\n",
       "                popup_94c65ba8af9da88de08ec2d92ad429e1.setContent(html_a65b0e78ebcd003f7d823b04b1cc1d40);\n",
       "            \n",
       "        \n",
       "\n",
       "        marker_342500b26f1472841d61c43b4ef54eac.bindPopup(popup_94c65ba8af9da88de08ec2d92ad429e1)\n",
       "        ;\n",
       "\n",
       "        \n",
       "    \n",
       "    \n",
       "                marker_342500b26f1472841d61c43b4ef54eac.setIcon(custom_icon_19371ed8122badc2715aa563c047cf50);\n",
       "            \n",
       "    \n",
       "            var marker_ab3efa6ba6eb96aa19262fa2b60cecb0 = L.marker(\n",
       "                [42.8458016, 1.6067586],\n",
       "                {\n",
       "}\n",
       "            ).addTo(map_216952043614f7ebf43e3e0dd5c67118);\n",
       "        \n",
       "    \n",
       "        var custom_icon_52ea8a6685734fca26142d195abf88b2 = L.icon({\n",
       "  &quot;iconUrl&quot;: &quot;https://images.icon-icons.com/3565/PNG/512/tree_flower_plant_nature_landscape_icon_225325.png&quot;,\n",
       "  &quot;iconSize&quot;: [40, 40],\n",
       "});\n",
       "        marker_ab3efa6ba6eb96aa19262fa2b60cecb0.setIcon(custom_icon_52ea8a6685734fca26142d195abf88b2);\n",
       "        \n",
       "    \n",
       "        var popup_28d600c3c02fce1212259b8131d17c5b = L.popup({\n",
       "  &quot;maxWidth&quot;: &quot;100%&quot;,\n",
       "});\n",
       "\n",
       "        \n",
       "            \n",
       "                var html_7ddf1af0147ddccc29788ddca09af823 = $(`&lt;div id=&quot;html_7ddf1af0147ddccc29788ddca09af823&quot; style=&quot;width: 100.0%; height: 100.0%;&quot;&gt;Ariege&lt;/div&gt;`)[0];\n",
       "                popup_28d600c3c02fce1212259b8131d17c5b.setContent(html_7ddf1af0147ddccc29788ddca09af823);\n",
       "            \n",
       "        \n",
       "\n",
       "        marker_ab3efa6ba6eb96aa19262fa2b60cecb0.bindPopup(popup_28d600c3c02fce1212259b8131d17c5b)\n",
       "        ;\n",
       "\n",
       "        \n",
       "    \n",
       "    \n",
       "                marker_ab3efa6ba6eb96aa19262fa2b60cecb0.setIcon(custom_icon_52ea8a6685734fca26142d195abf88b2);\n",
       "            \n",
       "    \n",
       "            var marker_d1b9a290029974dbfac4b2f1fada29b8 = L.marker(\n",
       "                [43.6044622, 1.4442469],\n",
       "                {\n",
       "}\n",
       "            ).addTo(map_216952043614f7ebf43e3e0dd5c67118);\n",
       "        \n",
       "    \n",
       "        var custom_icon_3a2da0bd77e3d46454a917e8b2f97a0c = L.icon({\n",
       "  &quot;iconUrl&quot;: &quot;https://images.icon-icons.com/3565/PNG/512/tree_flower_plant_nature_landscape_icon_225325.png&quot;,\n",
       "  &quot;iconSize&quot;: [40, 40],\n",
       "});\n",
       "        marker_d1b9a290029974dbfac4b2f1fada29b8.setIcon(custom_icon_3a2da0bd77e3d46454a917e8b2f97a0c);\n",
       "        \n",
       "    \n",
       "        var popup_01b6f37395bfa92b38ade6cacfc81090 = L.popup({\n",
       "  &quot;maxWidth&quot;: &quot;100%&quot;,\n",
       "});\n",
       "\n",
       "        \n",
       "            \n",
       "                var html_2c0c5f50590e392dec8b7a1a5c3290c1 = $(`&lt;div id=&quot;html_2c0c5f50590e392dec8b7a1a5c3290c1&quot; style=&quot;width: 100.0%; height: 100.0%;&quot;&gt;Toulouse&lt;/div&gt;`)[0];\n",
       "                popup_01b6f37395bfa92b38ade6cacfc81090.setContent(html_2c0c5f50590e392dec8b7a1a5c3290c1);\n",
       "            \n",
       "        \n",
       "\n",
       "        marker_d1b9a290029974dbfac4b2f1fada29b8.bindPopup(popup_01b6f37395bfa92b38ade6cacfc81090)\n",
       "        ;\n",
       "\n",
       "        \n",
       "    \n",
       "    \n",
       "                marker_d1b9a290029974dbfac4b2f1fada29b8.setIcon(custom_icon_3a2da0bd77e3d46454a917e8b2f97a0c);\n",
       "            \n",
       "    \n",
       "            var marker_7273daf96e88fae6752571ecd29041c1 = L.marker(\n",
       "                [44.0175835, 1.3549991],\n",
       "                {\n",
       "}\n",
       "            ).addTo(map_216952043614f7ebf43e3e0dd5c67118);\n",
       "        \n",
       "    \n",
       "        var custom_icon_45f6085ceb1e002d2049fb957c272239 = L.icon({\n",
       "  &quot;iconUrl&quot;: &quot;https://images.icon-icons.com/3565/PNG/512/tree_flower_plant_nature_landscape_icon_225325.png&quot;,\n",
       "  &quot;iconSize&quot;: [40, 40],\n",
       "});\n",
       "        marker_7273daf96e88fae6752571ecd29041c1.setIcon(custom_icon_45f6085ceb1e002d2049fb957c272239);\n",
       "        \n",
       "    \n",
       "        var popup_fc93287b7ce6efb433621df490ae076e = L.popup({\n",
       "  &quot;maxWidth&quot;: &quot;100%&quot;,\n",
       "});\n",
       "\n",
       "        \n",
       "            \n",
       "                var html_619467739a71a5f4838638a1b4d91659 = $(`&lt;div id=&quot;html_619467739a71a5f4838638a1b4d91659&quot; style=&quot;width: 100.0%; height: 100.0%;&quot;&gt;Montauban&lt;/div&gt;`)[0];\n",
       "                popup_fc93287b7ce6efb433621df490ae076e.setContent(html_619467739a71a5f4838638a1b4d91659);\n",
       "            \n",
       "        \n",
       "\n",
       "        marker_7273daf96e88fae6752571ecd29041c1.bindPopup(popup_fc93287b7ce6efb433621df490ae076e)\n",
       "        ;\n",
       "\n",
       "        \n",
       "    \n",
       "    \n",
       "                marker_7273daf96e88fae6752571ecd29041c1.setIcon(custom_icon_45f6085ceb1e002d2049fb957c272239);\n",
       "            \n",
       "    \n",
       "            var marker_03dd1f1df4714923e533c548d0a52648 = L.marker(\n",
       "                [43.4832523, -1.5592776],\n",
       "                {\n",
       "}\n",
       "            ).addTo(map_216952043614f7ebf43e3e0dd5c67118);\n",
       "        \n",
       "    \n",
       "        var custom_icon_0216eba2e9c0c0ca72584feafb54b5e4 = L.icon({\n",
       "  &quot;iconUrl&quot;: &quot;https://images.icon-icons.com/3565/PNG/512/tree_flower_plant_nature_landscape_icon_225325.png&quot;,\n",
       "  &quot;iconSize&quot;: [40, 40],\n",
       "});\n",
       "        marker_03dd1f1df4714923e533c548d0a52648.setIcon(custom_icon_0216eba2e9c0c0ca72584feafb54b5e4);\n",
       "        \n",
       "    \n",
       "        var popup_f5df079e31dc945f50a8a3b3c3f4f329 = L.popup({\n",
       "  &quot;maxWidth&quot;: &quot;100%&quot;,\n",
       "});\n",
       "\n",
       "        \n",
       "            \n",
       "                var html_39481b501b6043fee2686dac6f43ccf0 = $(`&lt;div id=&quot;html_39481b501b6043fee2686dac6f43ccf0&quot; style=&quot;width: 100.0%; height: 100.0%;&quot;&gt;Biarritz&lt;/div&gt;`)[0];\n",
       "                popup_f5df079e31dc945f50a8a3b3c3f4f329.setContent(html_39481b501b6043fee2686dac6f43ccf0);\n",
       "            \n",
       "        \n",
       "\n",
       "        marker_03dd1f1df4714923e533c548d0a52648.bindPopup(popup_f5df079e31dc945f50a8a3b3c3f4f329)\n",
       "        ;\n",
       "\n",
       "        \n",
       "    \n",
       "    \n",
       "                marker_03dd1f1df4714923e533c548d0a52648.setIcon(custom_icon_0216eba2e9c0c0ca72584feafb54b5e4);\n",
       "            \n",
       "    \n",
       "            var marker_a5952d485d51cb2eb409b468b4448b0a = L.marker(\n",
       "                [43.4945144, -1.4736657],\n",
       "                {\n",
       "}\n",
       "            ).addTo(map_216952043614f7ebf43e3e0dd5c67118);\n",
       "        \n",
       "    \n",
       "        var custom_icon_5fbd5f6e8895a9bb6ebe17a54fecac77 = L.icon({\n",
       "  &quot;iconUrl&quot;: &quot;https://images.icon-icons.com/3565/PNG/512/tree_flower_plant_nature_landscape_icon_225325.png&quot;,\n",
       "  &quot;iconSize&quot;: [40, 40],\n",
       "});\n",
       "        marker_a5952d485d51cb2eb409b468b4448b0a.setIcon(custom_icon_5fbd5f6e8895a9bb6ebe17a54fecac77);\n",
       "        \n",
       "    \n",
       "        var popup_69cb392fd8c65d1e132df5da6da50375 = L.popup({\n",
       "  &quot;maxWidth&quot;: &quot;100%&quot;,\n",
       "});\n",
       "\n",
       "        \n",
       "            \n",
       "                var html_d8b1d5877ed68b481c90c13dff94a284 = $(`&lt;div id=&quot;html_d8b1d5877ed68b481c90c13dff94a284&quot; style=&quot;width: 100.0%; height: 100.0%;&quot;&gt;Bayonne&lt;/div&gt;`)[0];\n",
       "                popup_69cb392fd8c65d1e132df5da6da50375.setContent(html_d8b1d5877ed68b481c90c13dff94a284);\n",
       "            \n",
       "        \n",
       "\n",
       "        marker_a5952d485d51cb2eb409b468b4448b0a.bindPopup(popup_69cb392fd8c65d1e132df5da6da50375)\n",
       "        ;\n",
       "\n",
       "        \n",
       "    \n",
       "    \n",
       "                marker_a5952d485d51cb2eb409b468b4448b0a.setIcon(custom_icon_5fbd5f6e8895a9bb6ebe17a54fecac77);\n",
       "            \n",
       "    \n",
       "            var marker_6a2758bfd6f92dbabd229c11360950d6 = L.marker(\n",
       "                [46.1591126, -1.1520434],\n",
       "                {\n",
       "}\n",
       "            ).addTo(map_216952043614f7ebf43e3e0dd5c67118);\n",
       "        \n",
       "    \n",
       "        var custom_icon_8db3d5530ab71ec22772f16b0e3fb2c3 = L.icon({\n",
       "  &quot;iconUrl&quot;: &quot;https://images.icon-icons.com/3565/PNG/512/tree_flower_plant_nature_landscape_icon_225325.png&quot;,\n",
       "  &quot;iconSize&quot;: [40, 40],\n",
       "});\n",
       "        marker_6a2758bfd6f92dbabd229c11360950d6.setIcon(custom_icon_8db3d5530ab71ec22772f16b0e3fb2c3);\n",
       "        \n",
       "    \n",
       "        var popup_70e6cab371515fd7918120970abeb1bb = L.popup({\n",
       "  &quot;maxWidth&quot;: &quot;100%&quot;,\n",
       "});\n",
       "\n",
       "        \n",
       "            \n",
       "                var html_ebd07412c1f4b3cc75a9739e5aea5e53 = $(`&lt;div id=&quot;html_ebd07412c1f4b3cc75a9739e5aea5e53&quot; style=&quot;width: 100.0%; height: 100.0%;&quot;&gt;La Rochelle&lt;/div&gt;`)[0];\n",
       "                popup_70e6cab371515fd7918120970abeb1bb.setContent(html_ebd07412c1f4b3cc75a9739e5aea5e53);\n",
       "            \n",
       "        \n",
       "\n",
       "        marker_6a2758bfd6f92dbabd229c11360950d6.bindPopup(popup_70e6cab371515fd7918120970abeb1bb)\n",
       "        ;\n",
       "\n",
       "        \n",
       "    \n",
       "    \n",
       "                marker_6a2758bfd6f92dbabd229c11360950d6.setIcon(custom_icon_8db3d5530ab71ec22772f16b0e3fb2c3);\n",
       "            \n",
       "    \n",
       "            var marker_f34735320a21762af33abedc8b0dbcef = L.marker(\n",
       "                [43.7496562, 6.3285616],\n",
       "                {\n",
       "}\n",
       "            ).addTo(map_216952043614f7ebf43e3e0dd5c67118);\n",
       "        \n",
       "    \n",
       "        var custom_icon_934acec18cdfe08a679bbc4b0692518b = L.icon({\n",
       "  &quot;iconUrl&quot;: &quot;https://images.icon-icons.com/3565/PNG/512/tree_flower_plant_nature_landscape_icon_225325.png&quot;,\n",
       "  &quot;iconSize&quot;: [40, 40],\n",
       "});\n",
       "        marker_f34735320a21762af33abedc8b0dbcef.setIcon(custom_icon_934acec18cdfe08a679bbc4b0692518b);\n",
       "        \n",
       "    \n",
       "        var popup_62bcdaae61c18bbf9b969592ce845811 = L.popup({\n",
       "  &quot;maxWidth&quot;: &quot;100%&quot;,\n",
       "});\n",
       "\n",
       "        \n",
       "            \n",
       "                var html_e8a07731e0c244221abcbc21f8d8dde6 = $(`&lt;div id=&quot;html_e8a07731e0c244221abcbc21f8d8dde6&quot; style=&quot;width: 100.0%; height: 100.0%;&quot;&gt;Gorges du Verdon&lt;/div&gt;`)[0];\n",
       "                popup_62bcdaae61c18bbf9b969592ce845811.setContent(html_e8a07731e0c244221abcbc21f8d8dde6);\n",
       "            \n",
       "        \n",
       "\n",
       "        marker_f34735320a21762af33abedc8b0dbcef.bindPopup(popup_62bcdaae61c18bbf9b969592ce845811)\n",
       "        ;\n",
       "\n",
       "        \n",
       "    \n",
       "    \n",
       "                marker_f34735320a21762af33abedc8b0dbcef.setIcon(custom_icon_934acec18cdfe08a679bbc4b0692518b);\n",
       "            \n",
       "    \n",
       "            tile_layer_27304469fb51e4e5d6fbf93d1c95e2d9.addTo(map_216952043614f7ebf43e3e0dd5c67118);\n",
       "        \n",
       "    \n",
       "                marker_4c0431cf0dae92c5444a4bcd31c16241.setIcon(custom_icon_53c7a6daf2e3b7175f3b9c3e90932e6d);\n",
       "            \n",
       "    \n",
       "                marker_f87f731a8560bc79806ee7374521a89d.setIcon(custom_icon_7a2ce7a668506800a1e6026330005abf);\n",
       "            \n",
       "    \n",
       "                marker_3a5a4de6414a9e1a5c68536f94c8a93c.setIcon(custom_icon_60a6a94099f66026723378c119a930ad);\n",
       "            \n",
       "    \n",
       "                marker_ee825b4111e20eb0a24c5d7dca5dc843.setIcon(custom_icon_96ca4740f6e99232a8c405fcbfefcba8);\n",
       "            \n",
       "    \n",
       "                marker_e4cfae568c583e284cfc518b57cd9b4f.setIcon(custom_icon_0483d2a00326b06d4413fff79d40cb6b);\n",
       "            \n",
       "    \n",
       "                marker_0d43f9d2b08e3a1f360ce5edf7bf0725.setIcon(custom_icon_ef69fe54c65a6e4b411250eff5ff867b);\n",
       "            \n",
       "    \n",
       "                marker_0221eacd051c526dd05f7b532e9505a5.setIcon(custom_icon_6e8d280682f3e9fe32cb76ec5e1bea81);\n",
       "            \n",
       "    \n",
       "                marker_aa9260c0d1a2b3c87bd25c5331397a86.setIcon(custom_icon_47d6f42a9e69ef826569cbf350eb7f0e);\n",
       "            \n",
       "    \n",
       "                marker_2c4b09d118d38ab4976e63ecbb28e4dd.setIcon(custom_icon_35c4ef9574ce7632499492198b3da392);\n",
       "            \n",
       "    \n",
       "                marker_2c4d938b6c82fef16ecd4cab426d5bbb.setIcon(custom_icon_ed5be45319bc92f362084a9d8ccbcdf8);\n",
       "            \n",
       "    \n",
       "                marker_2d68267c8431e27fdb31bc81bef94620.setIcon(custom_icon_ef43d65b8a177154ed079ebf76511782);\n",
       "            \n",
       "    \n",
       "                marker_a345d83ab576758ac0eea0721b14eda5.setIcon(custom_icon_08984b687201ed7993c01b1116da05b0);\n",
       "            \n",
       "    \n",
       "                marker_94e39f2cac9851b6c53df62ee857a419.setIcon(custom_icon_dc389a6ed6d9ff5666017961265320e9);\n",
       "            \n",
       "    \n",
       "                marker_8f89a37cc5c25c7600068f1cf303c674.setIcon(custom_icon_ee35cfafd194b72e481c3c284f7161ba);\n",
       "            \n",
       "    \n",
       "                marker_7c553179712f74d73e5c96e58003a448.setIcon(custom_icon_54eee4c3f5b1dca083e50d0f7bfabb15);\n",
       "            \n",
       "    \n",
       "                marker_55a56816e17808d631c87ba7cf1711ee.setIcon(custom_icon_d5b00b352a411675ac890dad1ea6d52a);\n",
       "            \n",
       "    \n",
       "                marker_7d4045dbeddcb59a6ed2c88607c71220.setIcon(custom_icon_0b7eaa35b6718cb800e15a544440baef);\n",
       "            \n",
       "    \n",
       "                marker_31dfb86989024dfc33be07fd776efc94.setIcon(custom_icon_5e1c8ae9780f6a500d1bb89331f892e5);\n",
       "            \n",
       "    \n",
       "                marker_bc4045db6949b4144d5afee8e29c3b2e.setIcon(custom_icon_dfd983340dbcd9a94e417902fede0172);\n",
       "            \n",
       "    \n",
       "                marker_b18ec21cad7820fd7322cd7be690d567.setIcon(custom_icon_3a1aa0fcb9f99506d527405e74a23c2e);\n",
       "            \n",
       "    \n",
       "                marker_f6cb7540bfd5e7b2fb71f0e2431a9cd0.setIcon(custom_icon_4a728e39c55d32b0804af62eb3ee8195);\n",
       "            \n",
       "    \n",
       "                marker_0b8809050ce2bf2b4473fb4545324fc0.setIcon(custom_icon_a6e219ae8f0a969d494676bdd1b7c07e);\n",
       "            \n",
       "    \n",
       "                marker_2b93523983e9a7346e94ec3eb2103896.setIcon(custom_icon_6858bcb5ba1a04f0fd3df95da7489266);\n",
       "            \n",
       "    \n",
       "                marker_d795a49d32b7c463df9ddea84d654ed5.setIcon(custom_icon_ae238d0ac0746f9d5b65f1007a846124);\n",
       "            \n",
       "    \n",
       "                marker_00d5fda06681f5781645ec3bc7c9ef34.setIcon(custom_icon_72590adeac7278296b86fe438fbbab96);\n",
       "            \n",
       "    \n",
       "                marker_8054b29451edea5e7d32ac6dd6e01ec1.setIcon(custom_icon_a4ad3d0f55a5ebeb950fbf8b5d87c839);\n",
       "            \n",
       "    \n",
       "                marker_f9a38a7388066f899d0e9bb8b92f737f.setIcon(custom_icon_ad22474c184b96b5fd70c3d7b6a70210);\n",
       "            \n",
       "    \n",
       "                marker_342500b26f1472841d61c43b4ef54eac.setIcon(custom_icon_19371ed8122badc2715aa563c047cf50);\n",
       "            \n",
       "    \n",
       "                marker_ab3efa6ba6eb96aa19262fa2b60cecb0.setIcon(custom_icon_52ea8a6685734fca26142d195abf88b2);\n",
       "            \n",
       "    \n",
       "                marker_d1b9a290029974dbfac4b2f1fada29b8.setIcon(custom_icon_3a2da0bd77e3d46454a917e8b2f97a0c);\n",
       "            \n",
       "    \n",
       "                marker_7273daf96e88fae6752571ecd29041c1.setIcon(custom_icon_45f6085ceb1e002d2049fb957c272239);\n",
       "            \n",
       "    \n",
       "                marker_03dd1f1df4714923e533c548d0a52648.setIcon(custom_icon_0216eba2e9c0c0ca72584feafb54b5e4);\n",
       "            \n",
       "    \n",
       "                marker_a5952d485d51cb2eb409b468b4448b0a.setIcon(custom_icon_5fbd5f6e8895a9bb6ebe17a54fecac77);\n",
       "            \n",
       "    \n",
       "                marker_6a2758bfd6f92dbabd229c11360950d6.setIcon(custom_icon_8db3d5530ab71ec22772f16b0e3fb2c3);\n",
       "            \n",
       "    \n",
       "                marker_f34735320a21762af33abedc8b0dbcef.setIcon(custom_icon_934acec18cdfe08a679bbc4b0692518b);\n",
       "            \n",
       "&lt;/script&gt;\n",
       "&lt;/html&gt;\" style=\"position:absolute;width:100%;height:100%;left:0;top:0;border:none !important;\" allowfullscreen webkitallowfullscreen mozallowfullscreen></iframe></div></div>"
      ],
      "text/plain": [
       "<folium.folium.Map at 0x1e69d793af0>"
      ]
     },
     "execution_count": 91,
     "metadata": {},
     "output_type": "execute_result"
    }
   ],
   "source": [
    "# Création d'une carte pour visualiser les 35 best cities/points d'intérêts et leur localisation exacte\n",
    "map = folium.Map(location=[46.603354, 1.888334], zoom_start=6)\n",
    "\n",
    "# Définir le marker \n",
    "icon_url = \"https://images.icon-icons.com/3565/PNG/512/tree_flower_plant_nature_landscape_icon_225325.png\"\n",
    "\n",
    "# Ajouter les villes à la carte\n",
    "for i, row in df_merged.iterrows():\n",
    "    folium.Marker(\n",
    "        location=[row['lat'], row['lon']],\n",
    "        popup=row['cities'],\n",
    "        icon=folium.CustomIcon(icon_url, icon_size=(40, 40))  # Ajustez la taille de l'icône si nécessaire\n",
    "    ).add_to(map)\n",
    "\n",
    "# Sauvegarder la carte dans un fichier HTML\n",
    "map.save('maps/map_best_city.html')\n",
    "\n",
    "# Afficher la carte\n",
    "map"
   ]
  },
  {
   "cell_type": "code",
   "execution_count": 92,
   "metadata": {},
   "outputs": [],
   "source": [
    "# Enregistrement du DataFrame fusionné en fichier CSV\n",
    "df_merged.to_csv('data/best_cities_merged.csv', index=False)"
   ]
  },
  {
   "cell_type": "markdown",
   "metadata": {},
   "source": [
    "## Import des informations météo"
   ]
  },
  {
   "cell_type": "code",
   "execution_count": 93,
   "metadata": {},
   "outputs": [],
   "source": [
    "df=pd.read_csv(\"data/best_cities_merged.csv\")"
   ]
  },
  {
   "cell_type": "code",
   "execution_count": 94,
   "metadata": {},
   "outputs": [
    {
     "data": {
      "text/plain": [
       "<Response [200]>"
      ]
     },
     "execution_count": 94,
     "metadata": {},
     "output_type": "execute_result"
    }
   ],
   "source": [
    "url = f\"https://api.openweathermap.org/data/3.0/onecall?lat={df.loc[0, 'lat']}&lon={df.loc[0, 'lon']}&units=metric&exclude=hourly,daily&appid={Open_Weather_API_Key_Myriam}\"\n",
    "\n",
    "r = requests.get(url)\n",
    "data = r.json()\n",
    "r"
   ]
  },
  {
   "cell_type": "code",
   "execution_count": 95,
   "metadata": {},
   "outputs": [],
   "source": [
    "# import des informations météorologiques importantes\n",
    "for i in df.index:\n",
    "    lat = df.loc[i, 'lat']\n",
    "    lon = df.loc[i, 'lon']\n",
    "\n",
    "    url = f\"https://api.openweathermap.org/data/3.0/onecall?lat={lat}&lon={lon}&units=metric&exclude=hourly,daily&appid={Open_Weather_API_Key_Myriam}\"\n",
    "\n",
    "    r = requests.get(url)\n",
    "\n",
    "    if r.status_code == 200:\n",
    "        data = r.json()\n",
    "  \n",
    "        df.loc[i,\"date\"] = data[\"current\"][\"dt\"]\n",
    "        df.loc[i, \"temp\"] = data[\"current\"][\"temp\"]\n",
    "        df.loc[i, \"feels_like\"] = data[\"current\"][\"feels_like\"]\n",
    "        df.loc[i, \"uvi\"] = data[\"current\"][\"uvi\"]\n",
    "        df.loc[i, \"humidity\"] = data[\"current\"][\"humidity\"]\n",
    "        df.loc[i, \"wind_speed\"] = data[\"current\"][\"wind_speed\"]\n",
    "        df.loc[i, \"description\"] = data[\"current\"][\"weather\"][0][\"description\"]\n",
    "        \n",
    "    else:\n",
    "        print(f\"Erreur lors de la requête pour l'index {i} : {r.status_code}\")\n",
    "        print(r.text)  # Imprime le message d'erreur pour plus de détails\n",
    "\n"
   ]
  },
  {
   "cell_type": "code",
   "execution_count": 96,
   "metadata": {},
   "outputs": [
    {
     "data": {
      "text/html": [
       "<div>\n",
       "<style scoped>\n",
       "    .dataframe tbody tr th:only-of-type {\n",
       "        vertical-align: middle;\n",
       "    }\n",
       "\n",
       "    .dataframe tbody tr th {\n",
       "        vertical-align: top;\n",
       "    }\n",
       "\n",
       "    .dataframe thead th {\n",
       "        text-align: right;\n",
       "    }\n",
       "</style>\n",
       "<table border=\"1\" class=\"dataframe\">\n",
       "  <thead>\n",
       "    <tr style=\"text-align: right;\">\n",
       "      <th></th>\n",
       "      <th>cities</th>\n",
       "      <th>name</th>\n",
       "      <th>country</th>\n",
       "      <th>state</th>\n",
       "      <th>lat</th>\n",
       "      <th>lon</th>\n",
       "      <th>date</th>\n",
       "      <th>temp</th>\n",
       "      <th>feels_like</th>\n",
       "      <th>uvi</th>\n",
       "      <th>humidity</th>\n",
       "      <th>wind_speed</th>\n",
       "      <th>description</th>\n",
       "    </tr>\n",
       "  </thead>\n",
       "  <tbody>\n",
       "    <tr>\n",
       "      <th>0</th>\n",
       "      <td>Mont Saint Michel</td>\n",
       "      <td>Mont Saint-Michel</td>\n",
       "      <td>FR</td>\n",
       "      <td>Normandy</td>\n",
       "      <td>48.635954</td>\n",
       "      <td>-1.511460</td>\n",
       "      <td>1.745419e+09</td>\n",
       "      <td>13.69</td>\n",
       "      <td>13.23</td>\n",
       "      <td>3.09</td>\n",
       "      <td>81.0</td>\n",
       "      <td>7.81</td>\n",
       "      <td>scattered clouds</td>\n",
       "    </tr>\n",
       "    <tr>\n",
       "      <th>1</th>\n",
       "      <td>St Malo</td>\n",
       "      <td>Saint-Malo</td>\n",
       "      <td>FR</td>\n",
       "      <td>Brittany</td>\n",
       "      <td>48.649518</td>\n",
       "      <td>-2.026041</td>\n",
       "      <td>1.745419e+09</td>\n",
       "      <td>13.29</td>\n",
       "      <td>12.82</td>\n",
       "      <td>3.17</td>\n",
       "      <td>82.0</td>\n",
       "      <td>8.23</td>\n",
       "      <td>overcast clouds</td>\n",
       "    </tr>\n",
       "    <tr>\n",
       "      <th>2</th>\n",
       "      <td>Bayeux</td>\n",
       "      <td>Bayeux</td>\n",
       "      <td>FR</td>\n",
       "      <td>Normandy</td>\n",
       "      <td>49.276462</td>\n",
       "      <td>-0.702474</td>\n",
       "      <td>1.745419e+09</td>\n",
       "      <td>16.14</td>\n",
       "      <td>15.77</td>\n",
       "      <td>2.89</td>\n",
       "      <td>75.0</td>\n",
       "      <td>5.82</td>\n",
       "      <td>few clouds</td>\n",
       "    </tr>\n",
       "    <tr>\n",
       "      <th>3</th>\n",
       "      <td>Le Havre</td>\n",
       "      <td>Le Havre</td>\n",
       "      <td>FR</td>\n",
       "      <td>Normandy</td>\n",
       "      <td>49.493898</td>\n",
       "      <td>0.107973</td>\n",
       "      <td>1.745419e+09</td>\n",
       "      <td>13.51</td>\n",
       "      <td>13.06</td>\n",
       "      <td>2.77</td>\n",
       "      <td>82.0</td>\n",
       "      <td>5.66</td>\n",
       "      <td>scattered clouds</td>\n",
       "    </tr>\n",
       "    <tr>\n",
       "      <th>4</th>\n",
       "      <td>Rouen</td>\n",
       "      <td>Rouen</td>\n",
       "      <td>FR</td>\n",
       "      <td>Normandy</td>\n",
       "      <td>49.440459</td>\n",
       "      <td>1.093966</td>\n",
       "      <td>1.745419e+09</td>\n",
       "      <td>14.73</td>\n",
       "      <td>13.98</td>\n",
       "      <td>2.63</td>\n",
       "      <td>66.0</td>\n",
       "      <td>6.17</td>\n",
       "      <td>broken clouds</td>\n",
       "    </tr>\n",
       "  </tbody>\n",
       "</table>\n",
       "</div>"
      ],
      "text/plain": [
       "              cities               name country     state        lat  \\\n",
       "0  Mont Saint Michel  Mont Saint-Michel      FR  Normandy  48.635954   \n",
       "1            St Malo         Saint-Malo      FR  Brittany  48.649518   \n",
       "2             Bayeux             Bayeux      FR  Normandy  49.276462   \n",
       "3           Le Havre           Le Havre      FR  Normandy  49.493898   \n",
       "4              Rouen              Rouen      FR  Normandy  49.440459   \n",
       "\n",
       "        lon          date   temp  feels_like   uvi  humidity  wind_speed  \\\n",
       "0 -1.511460  1.745419e+09  13.69       13.23  3.09      81.0        7.81   \n",
       "1 -2.026041  1.745419e+09  13.29       12.82  3.17      82.0        8.23   \n",
       "2 -0.702474  1.745419e+09  16.14       15.77  2.89      75.0        5.82   \n",
       "3  0.107973  1.745419e+09  13.51       13.06  2.77      82.0        5.66   \n",
       "4  1.093966  1.745419e+09  14.73       13.98  2.63      66.0        6.17   \n",
       "\n",
       "        description  \n",
       "0  scattered clouds  \n",
       "1   overcast clouds  \n",
       "2        few clouds  \n",
       "3  scattered clouds  \n",
       "4     broken clouds  "
      ]
     },
     "execution_count": 96,
     "metadata": {},
     "output_type": "execute_result"
    }
   ],
   "source": [
    "df.head()"
   ]
  },
  {
   "cell_type": "code",
   "execution_count": 97,
   "metadata": {},
   "outputs": [
    {
     "data": {
      "text/html": [
       "<div>\n",
       "<style scoped>\n",
       "    .dataframe tbody tr th:only-of-type {\n",
       "        vertical-align: middle;\n",
       "    }\n",
       "\n",
       "    .dataframe tbody tr th {\n",
       "        vertical-align: top;\n",
       "    }\n",
       "\n",
       "    .dataframe thead th {\n",
       "        text-align: right;\n",
       "    }\n",
       "</style>\n",
       "<table border=\"1\" class=\"dataframe\">\n",
       "  <thead>\n",
       "    <tr style=\"text-align: right;\">\n",
       "      <th></th>\n",
       "      <th>cities</th>\n",
       "      <th>name</th>\n",
       "      <th>country</th>\n",
       "      <th>state</th>\n",
       "      <th>lat</th>\n",
       "      <th>lon</th>\n",
       "      <th>date</th>\n",
       "      <th>temp</th>\n",
       "      <th>feels_like</th>\n",
       "      <th>uvi</th>\n",
       "      <th>humidity</th>\n",
       "      <th>wind_speed</th>\n",
       "      <th>description</th>\n",
       "    </tr>\n",
       "  </thead>\n",
       "  <tbody>\n",
       "    <tr>\n",
       "      <th>0</th>\n",
       "      <td>Mont Saint Michel</td>\n",
       "      <td>Mont Saint-Michel</td>\n",
       "      <td>FR</td>\n",
       "      <td>Normandy</td>\n",
       "      <td>48.635954</td>\n",
       "      <td>-1.511460</td>\n",
       "      <td>2025-04-23 14:37:04</td>\n",
       "      <td>13.69</td>\n",
       "      <td>13.23</td>\n",
       "      <td>3.09</td>\n",
       "      <td>81.0</td>\n",
       "      <td>7.81</td>\n",
       "      <td>scattered clouds</td>\n",
       "    </tr>\n",
       "    <tr>\n",
       "      <th>1</th>\n",
       "      <td>St Malo</td>\n",
       "      <td>Saint-Malo</td>\n",
       "      <td>FR</td>\n",
       "      <td>Brittany</td>\n",
       "      <td>48.649518</td>\n",
       "      <td>-2.026041</td>\n",
       "      <td>2025-04-23 14:37:08</td>\n",
       "      <td>13.29</td>\n",
       "      <td>12.82</td>\n",
       "      <td>3.17</td>\n",
       "      <td>82.0</td>\n",
       "      <td>8.23</td>\n",
       "      <td>overcast clouds</td>\n",
       "    </tr>\n",
       "    <tr>\n",
       "      <th>2</th>\n",
       "      <td>Bayeux</td>\n",
       "      <td>Bayeux</td>\n",
       "      <td>FR</td>\n",
       "      <td>Normandy</td>\n",
       "      <td>49.276462</td>\n",
       "      <td>-0.702474</td>\n",
       "      <td>2025-04-23 14:37:08</td>\n",
       "      <td>16.14</td>\n",
       "      <td>15.77</td>\n",
       "      <td>2.89</td>\n",
       "      <td>75.0</td>\n",
       "      <td>5.82</td>\n",
       "      <td>few clouds</td>\n",
       "    </tr>\n",
       "    <tr>\n",
       "      <th>3</th>\n",
       "      <td>Le Havre</td>\n",
       "      <td>Le Havre</td>\n",
       "      <td>FR</td>\n",
       "      <td>Normandy</td>\n",
       "      <td>49.493898</td>\n",
       "      <td>0.107973</td>\n",
       "      <td>2025-04-23 14:37:08</td>\n",
       "      <td>13.51</td>\n",
       "      <td>13.06</td>\n",
       "      <td>2.77</td>\n",
       "      <td>82.0</td>\n",
       "      <td>5.66</td>\n",
       "      <td>scattered clouds</td>\n",
       "    </tr>\n",
       "    <tr>\n",
       "      <th>4</th>\n",
       "      <td>Rouen</td>\n",
       "      <td>Rouen</td>\n",
       "      <td>FR</td>\n",
       "      <td>Normandy</td>\n",
       "      <td>49.440459</td>\n",
       "      <td>1.093966</td>\n",
       "      <td>2025-04-23 14:37:08</td>\n",
       "      <td>14.73</td>\n",
       "      <td>13.98</td>\n",
       "      <td>2.63</td>\n",
       "      <td>66.0</td>\n",
       "      <td>6.17</td>\n",
       "      <td>broken clouds</td>\n",
       "    </tr>\n",
       "  </tbody>\n",
       "</table>\n",
       "</div>"
      ],
      "text/plain": [
       "              cities               name country     state        lat  \\\n",
       "0  Mont Saint Michel  Mont Saint-Michel      FR  Normandy  48.635954   \n",
       "1            St Malo         Saint-Malo      FR  Brittany  48.649518   \n",
       "2             Bayeux             Bayeux      FR  Normandy  49.276462   \n",
       "3           Le Havre           Le Havre      FR  Normandy  49.493898   \n",
       "4              Rouen              Rouen      FR  Normandy  49.440459   \n",
       "\n",
       "        lon                date   temp  feels_like   uvi  humidity  \\\n",
       "0 -1.511460 2025-04-23 14:37:04  13.69       13.23  3.09      81.0   \n",
       "1 -2.026041 2025-04-23 14:37:08  13.29       12.82  3.17      82.0   \n",
       "2 -0.702474 2025-04-23 14:37:08  16.14       15.77  2.89      75.0   \n",
       "3  0.107973 2025-04-23 14:37:08  13.51       13.06  2.77      82.0   \n",
       "4  1.093966 2025-04-23 14:37:08  14.73       13.98  2.63      66.0   \n",
       "\n",
       "   wind_speed       description  \n",
       "0        7.81  scattered clouds  \n",
       "1        8.23   overcast clouds  \n",
       "2        5.82        few clouds  \n",
       "3        5.66  scattered clouds  \n",
       "4        6.17     broken clouds  "
      ]
     },
     "execution_count": 97,
     "metadata": {},
     "output_type": "execute_result"
    }
   ],
   "source": [
    "#conversion de la colonne date en formation datetime\n",
    "df['date'] = pd.to_datetime(df['date'], unit='s')\n",
    "df.head()"
   ]
  },
  {
   "cell_type": "code",
   "execution_count": 98,
   "metadata": {},
   "outputs": [],
   "source": [
    "# Enregistrer le DataFrame en fichier CSV\n",
    "df.to_csv('data/best_cities_weather.csv', index=False)"
   ]
  },
  {
   "cell_type": "markdown",
   "metadata": {},
   "source": [
    "# Rapide EDA "
   ]
  },
  {
   "cell_type": "code",
   "execution_count": 99,
   "metadata": {},
   "outputs": [
    {
     "data": {
      "text/html": [
       "<div>\n",
       "<style scoped>\n",
       "    .dataframe tbody tr th:only-of-type {\n",
       "        vertical-align: middle;\n",
       "    }\n",
       "\n",
       "    .dataframe tbody tr th {\n",
       "        vertical-align: top;\n",
       "    }\n",
       "\n",
       "    .dataframe thead th {\n",
       "        text-align: right;\n",
       "    }\n",
       "</style>\n",
       "<table border=\"1\" class=\"dataframe\">\n",
       "  <thead>\n",
       "    <tr style=\"text-align: right;\">\n",
       "      <th></th>\n",
       "      <th>cities</th>\n",
       "      <th>name</th>\n",
       "      <th>country</th>\n",
       "      <th>state</th>\n",
       "      <th>lat</th>\n",
       "      <th>lon</th>\n",
       "      <th>date</th>\n",
       "      <th>temp</th>\n",
       "      <th>feels_like</th>\n",
       "      <th>uvi</th>\n",
       "      <th>humidity</th>\n",
       "      <th>wind_speed</th>\n",
       "      <th>description</th>\n",
       "    </tr>\n",
       "  </thead>\n",
       "  <tbody>\n",
       "    <tr>\n",
       "      <th>0</th>\n",
       "      <td>Mont Saint Michel</td>\n",
       "      <td>Mont Saint-Michel</td>\n",
       "      <td>FR</td>\n",
       "      <td>Normandy</td>\n",
       "      <td>48.635954</td>\n",
       "      <td>-1.511460</td>\n",
       "      <td>2025-04-23 14:37:04</td>\n",
       "      <td>13.69</td>\n",
       "      <td>13.23</td>\n",
       "      <td>3.09</td>\n",
       "      <td>81.0</td>\n",
       "      <td>7.81</td>\n",
       "      <td>scattered clouds</td>\n",
       "    </tr>\n",
       "    <tr>\n",
       "      <th>1</th>\n",
       "      <td>St Malo</td>\n",
       "      <td>Saint-Malo</td>\n",
       "      <td>FR</td>\n",
       "      <td>Brittany</td>\n",
       "      <td>48.649518</td>\n",
       "      <td>-2.026041</td>\n",
       "      <td>2025-04-23 14:37:08</td>\n",
       "      <td>13.29</td>\n",
       "      <td>12.82</td>\n",
       "      <td>3.17</td>\n",
       "      <td>82.0</td>\n",
       "      <td>8.23</td>\n",
       "      <td>overcast clouds</td>\n",
       "    </tr>\n",
       "    <tr>\n",
       "      <th>2</th>\n",
       "      <td>Bayeux</td>\n",
       "      <td>Bayeux</td>\n",
       "      <td>FR</td>\n",
       "      <td>Normandy</td>\n",
       "      <td>49.276462</td>\n",
       "      <td>-0.702474</td>\n",
       "      <td>2025-04-23 14:37:08</td>\n",
       "      <td>16.14</td>\n",
       "      <td>15.77</td>\n",
       "      <td>2.89</td>\n",
       "      <td>75.0</td>\n",
       "      <td>5.82</td>\n",
       "      <td>few clouds</td>\n",
       "    </tr>\n",
       "    <tr>\n",
       "      <th>3</th>\n",
       "      <td>Le Havre</td>\n",
       "      <td>Le Havre</td>\n",
       "      <td>FR</td>\n",
       "      <td>Normandy</td>\n",
       "      <td>49.493898</td>\n",
       "      <td>0.107973</td>\n",
       "      <td>2025-04-23 14:37:08</td>\n",
       "      <td>13.51</td>\n",
       "      <td>13.06</td>\n",
       "      <td>2.77</td>\n",
       "      <td>82.0</td>\n",
       "      <td>5.66</td>\n",
       "      <td>scattered clouds</td>\n",
       "    </tr>\n",
       "    <tr>\n",
       "      <th>4</th>\n",
       "      <td>Rouen</td>\n",
       "      <td>Rouen</td>\n",
       "      <td>FR</td>\n",
       "      <td>Normandy</td>\n",
       "      <td>49.440459</td>\n",
       "      <td>1.093966</td>\n",
       "      <td>2025-04-23 14:37:08</td>\n",
       "      <td>14.73</td>\n",
       "      <td>13.98</td>\n",
       "      <td>2.63</td>\n",
       "      <td>66.0</td>\n",
       "      <td>6.17</td>\n",
       "      <td>broken clouds</td>\n",
       "    </tr>\n",
       "    <tr>\n",
       "      <th>5</th>\n",
       "      <td>Paris</td>\n",
       "      <td>Paris</td>\n",
       "      <td>FR</td>\n",
       "      <td>Ile-de-France</td>\n",
       "      <td>48.858890</td>\n",
       "      <td>2.320041</td>\n",
       "      <td>2025-04-23 14:37:08</td>\n",
       "      <td>13.45</td>\n",
       "      <td>12.99</td>\n",
       "      <td>2.01</td>\n",
       "      <td>82.0</td>\n",
       "      <td>5.66</td>\n",
       "      <td>broken clouds</td>\n",
       "    </tr>\n",
       "    <tr>\n",
       "      <th>6</th>\n",
       "      <td>Amiens</td>\n",
       "      <td>Amiens</td>\n",
       "      <td>FR</td>\n",
       "      <td>Hauts-de-France</td>\n",
       "      <td>49.894171</td>\n",
       "      <td>2.295695</td>\n",
       "      <td>2025-04-23 14:37:09</td>\n",
       "      <td>12.32</td>\n",
       "      <td>11.67</td>\n",
       "      <td>1.85</td>\n",
       "      <td>79.0</td>\n",
       "      <td>1.89</td>\n",
       "      <td>broken clouds</td>\n",
       "    </tr>\n",
       "    <tr>\n",
       "      <th>7</th>\n",
       "      <td>Lille</td>\n",
       "      <td>Lille</td>\n",
       "      <td>FR</td>\n",
       "      <td>Hauts-de-France</td>\n",
       "      <td>50.636565</td>\n",
       "      <td>3.063528</td>\n",
       "      <td>2025-04-23 14:37:09</td>\n",
       "      <td>10.86</td>\n",
       "      <td>9.62</td>\n",
       "      <td>0.52</td>\n",
       "      <td>62.0</td>\n",
       "      <td>3.09</td>\n",
       "      <td>overcast clouds</td>\n",
       "    </tr>\n",
       "    <tr>\n",
       "      <th>8</th>\n",
       "      <td>Strasbourg</td>\n",
       "      <td>Strasbourg</td>\n",
       "      <td>FR</td>\n",
       "      <td>Grand Est</td>\n",
       "      <td>48.584614</td>\n",
       "      <td>7.750713</td>\n",
       "      <td>2025-04-23 14:37:09</td>\n",
       "      <td>15.02</td>\n",
       "      <td>14.72</td>\n",
       "      <td>0.36</td>\n",
       "      <td>82.0</td>\n",
       "      <td>4.72</td>\n",
       "      <td>heavy intensity rain</td>\n",
       "    </tr>\n",
       "    <tr>\n",
       "      <th>9</th>\n",
       "      <td>Chateau du Haut Koenigsbourg</td>\n",
       "      <td>Château du Haut-Kœnigsbourg</td>\n",
       "      <td>FR</td>\n",
       "      <td>Grand Est</td>\n",
       "      <td>48.249523</td>\n",
       "      <td>7.345492</td>\n",
       "      <td>2025-04-23 14:37:09</td>\n",
       "      <td>10.90</td>\n",
       "      <td>9.93</td>\n",
       "      <td>0.52</td>\n",
       "      <td>72.0</td>\n",
       "      <td>3.09</td>\n",
       "      <td>moderate rain</td>\n",
       "    </tr>\n",
       "    <tr>\n",
       "      <th>10</th>\n",
       "      <td>Colmar</td>\n",
       "      <td>Colmar</td>\n",
       "      <td>FR</td>\n",
       "      <td>Grand Est</td>\n",
       "      <td>48.077752</td>\n",
       "      <td>7.357964</td>\n",
       "      <td>2025-04-23 14:37:09</td>\n",
       "      <td>13.94</td>\n",
       "      <td>13.27</td>\n",
       "      <td>0.52</td>\n",
       "      <td>72.0</td>\n",
       "      <td>3.09</td>\n",
       "      <td>light rain</td>\n",
       "    </tr>\n",
       "    <tr>\n",
       "      <th>11</th>\n",
       "      <td>Eguisheim</td>\n",
       "      <td>Eguisheim</td>\n",
       "      <td>FR</td>\n",
       "      <td>Grand Est</td>\n",
       "      <td>48.044797</td>\n",
       "      <td>7.307962</td>\n",
       "      <td>2025-04-23 14:37:09</td>\n",
       "      <td>13.90</td>\n",
       "      <td>13.23</td>\n",
       "      <td>0.52</td>\n",
       "      <td>72.0</td>\n",
       "      <td>3.09</td>\n",
       "      <td>light rain</td>\n",
       "    </tr>\n",
       "    <tr>\n",
       "      <th>12</th>\n",
       "      <td>Besancon</td>\n",
       "      <td>Besançon</td>\n",
       "      <td>FR</td>\n",
       "      <td>Bourgogne-Franche-Comté</td>\n",
       "      <td>47.238022</td>\n",
       "      <td>6.024362</td>\n",
       "      <td>2025-04-23 14:37:09</td>\n",
       "      <td>10.80</td>\n",
       "      <td>10.26</td>\n",
       "      <td>0.34</td>\n",
       "      <td>89.0</td>\n",
       "      <td>3.77</td>\n",
       "      <td>light rain</td>\n",
       "    </tr>\n",
       "    <tr>\n",
       "      <th>13</th>\n",
       "      <td>Dijon</td>\n",
       "      <td>Dijon</td>\n",
       "      <td>FR</td>\n",
       "      <td>Bourgogne-Franche-Comté</td>\n",
       "      <td>47.321581</td>\n",
       "      <td>5.041470</td>\n",
       "      <td>2025-04-23 14:37:09</td>\n",
       "      <td>11.80</td>\n",
       "      <td>11.18</td>\n",
       "      <td>0.50</td>\n",
       "      <td>82.0</td>\n",
       "      <td>7.20</td>\n",
       "      <td>overcast clouds</td>\n",
       "    </tr>\n",
       "    <tr>\n",
       "      <th>14</th>\n",
       "      <td>Annecy</td>\n",
       "      <td>Annecy</td>\n",
       "      <td>FR</td>\n",
       "      <td>Auvergne-Rhône-Alpes</td>\n",
       "      <td>45.899235</td>\n",
       "      <td>6.128885</td>\n",
       "      <td>2025-04-23 14:37:10</td>\n",
       "      <td>12.08</td>\n",
       "      <td>11.48</td>\n",
       "      <td>0.86</td>\n",
       "      <td>82.0</td>\n",
       "      <td>5.14</td>\n",
       "      <td>light rain</td>\n",
       "    </tr>\n",
       "    <tr>\n",
       "      <th>15</th>\n",
       "      <td>Grenoble</td>\n",
       "      <td>Grenoble</td>\n",
       "      <td>FR</td>\n",
       "      <td>Auvergne-Rhône-Alpes</td>\n",
       "      <td>45.187560</td>\n",
       "      <td>5.735782</td>\n",
       "      <td>2025-04-23 14:37:10</td>\n",
       "      <td>12.09</td>\n",
       "      <td>11.52</td>\n",
       "      <td>0.53</td>\n",
       "      <td>83.0</td>\n",
       "      <td>2.24</td>\n",
       "      <td>moderate rain</td>\n",
       "    </tr>\n",
       "    <tr>\n",
       "      <th>16</th>\n",
       "      <td>Lyon</td>\n",
       "      <td>Lyon</td>\n",
       "      <td>FR</td>\n",
       "      <td>Auvergne-Rhône-Alpes</td>\n",
       "      <td>45.757814</td>\n",
       "      <td>4.832011</td>\n",
       "      <td>2025-04-23 14:37:10</td>\n",
       "      <td>11.61</td>\n",
       "      <td>11.18</td>\n",
       "      <td>0.35</td>\n",
       "      <td>90.0</td>\n",
       "      <td>3.58</td>\n",
       "      <td>moderate rain</td>\n",
       "    </tr>\n",
       "    <tr>\n",
       "      <th>17</th>\n",
       "      <td>Bormes les Mimosas</td>\n",
       "      <td>Bormes-les-Mimosas</td>\n",
       "      <td>FR</td>\n",
       "      <td>Provence-Alpes-Côte d'Azur</td>\n",
       "      <td>43.150697</td>\n",
       "      <td>6.341928</td>\n",
       "      <td>2025-04-23 14:37:10</td>\n",
       "      <td>20.06</td>\n",
       "      <td>19.51</td>\n",
       "      <td>2.45</td>\n",
       "      <td>53.0</td>\n",
       "      <td>3.58</td>\n",
       "      <td>broken clouds</td>\n",
       "    </tr>\n",
       "    <tr>\n",
       "      <th>18</th>\n",
       "      <td>Cassis</td>\n",
       "      <td>Cassis</td>\n",
       "      <td>FR</td>\n",
       "      <td>Provence-Alpes-Côte d'Azur</td>\n",
       "      <td>43.214036</td>\n",
       "      <td>5.539632</td>\n",
       "      <td>2025-04-23 14:37:10</td>\n",
       "      <td>17.93</td>\n",
       "      <td>17.08</td>\n",
       "      <td>2.67</td>\n",
       "      <td>50.0</td>\n",
       "      <td>9.84</td>\n",
       "      <td>broken clouds</td>\n",
       "    </tr>\n",
       "    <tr>\n",
       "      <th>19</th>\n",
       "      <td>Marseille</td>\n",
       "      <td>Marseille</td>\n",
       "      <td>FR</td>\n",
       "      <td>Provence-Alpes-Côte d'Azur</td>\n",
       "      <td>43.296174</td>\n",
       "      <td>5.369953</td>\n",
       "      <td>2025-04-23 14:37:10</td>\n",
       "      <td>18.08</td>\n",
       "      <td>17.25</td>\n",
       "      <td>2.71</td>\n",
       "      <td>50.0</td>\n",
       "      <td>7.72</td>\n",
       "      <td>clear sky</td>\n",
       "    </tr>\n",
       "    <tr>\n",
       "      <th>20</th>\n",
       "      <td>Aix en Provence</td>\n",
       "      <td>Aix-en-Provence</td>\n",
       "      <td>FR</td>\n",
       "      <td>Provence-Alpes-Côte d'Azur</td>\n",
       "      <td>43.529842</td>\n",
       "      <td>5.447474</td>\n",
       "      <td>2025-04-23 14:37:10</td>\n",
       "      <td>19.19</td>\n",
       "      <td>18.42</td>\n",
       "      <td>1.74</td>\n",
       "      <td>48.0</td>\n",
       "      <td>3.58</td>\n",
       "      <td>overcast clouds</td>\n",
       "    </tr>\n",
       "    <tr>\n",
       "      <th>21</th>\n",
       "      <td>Avignon</td>\n",
       "      <td>Avignon</td>\n",
       "      <td>FR</td>\n",
       "      <td>Provence-Alpes-Côte d'Azur</td>\n",
       "      <td>43.949249</td>\n",
       "      <td>4.805901</td>\n",
       "      <td>2025-04-23 14:37:10</td>\n",
       "      <td>18.25</td>\n",
       "      <td>17.49</td>\n",
       "      <td>0.60</td>\n",
       "      <td>52.0</td>\n",
       "      <td>7.20</td>\n",
       "      <td>light rain</td>\n",
       "    </tr>\n",
       "    <tr>\n",
       "      <th>22</th>\n",
       "      <td>Uzes</td>\n",
       "      <td>Uzès</td>\n",
       "      <td>FR</td>\n",
       "      <td>Occitania</td>\n",
       "      <td>44.012128</td>\n",
       "      <td>4.419672</td>\n",
       "      <td>2025-04-23 14:37:11</td>\n",
       "      <td>16.78</td>\n",
       "      <td>16.16</td>\n",
       "      <td>0.52</td>\n",
       "      <td>63.0</td>\n",
       "      <td>4.99</td>\n",
       "      <td>light rain</td>\n",
       "    </tr>\n",
       "    <tr>\n",
       "      <th>23</th>\n",
       "      <td>Nimes</td>\n",
       "      <td>Nimes</td>\n",
       "      <td>FR</td>\n",
       "      <td>Occitania</td>\n",
       "      <td>43.837425</td>\n",
       "      <td>4.360069</td>\n",
       "      <td>2025-04-23 14:37:11</td>\n",
       "      <td>18.22</td>\n",
       "      <td>17.46</td>\n",
       "      <td>1.08</td>\n",
       "      <td>52.0</td>\n",
       "      <td>4.12</td>\n",
       "      <td>light rain</td>\n",
       "    </tr>\n",
       "    <tr>\n",
       "      <th>24</th>\n",
       "      <td>Aigues Mortes</td>\n",
       "      <td>Aigues-Mortes</td>\n",
       "      <td>FR</td>\n",
       "      <td>Occitania</td>\n",
       "      <td>43.565823</td>\n",
       "      <td>4.191284</td>\n",
       "      <td>2025-04-23 14:37:11</td>\n",
       "      <td>18.90</td>\n",
       "      <td>18.02</td>\n",
       "      <td>1.08</td>\n",
       "      <td>45.0</td>\n",
       "      <td>6.69</td>\n",
       "      <td>light rain</td>\n",
       "    </tr>\n",
       "    <tr>\n",
       "      <th>25</th>\n",
       "      <td>Saintes Maries de la mer</td>\n",
       "      <td>Saintes-Maries-de-la-Mer</td>\n",
       "      <td>FR</td>\n",
       "      <td>Provence-Alpes-Côte d'Azur</td>\n",
       "      <td>43.452277</td>\n",
       "      <td>4.428717</td>\n",
       "      <td>2025-04-23 14:37:11</td>\n",
       "      <td>17.83</td>\n",
       "      <td>17.08</td>\n",
       "      <td>2.46</td>\n",
       "      <td>54.0</td>\n",
       "      <td>11.41</td>\n",
       "      <td>overcast clouds</td>\n",
       "    </tr>\n",
       "    <tr>\n",
       "      <th>26</th>\n",
       "      <td>Collioure</td>\n",
       "      <td>Collioure</td>\n",
       "      <td>FR</td>\n",
       "      <td>Occitania</td>\n",
       "      <td>42.525050</td>\n",
       "      <td>3.083155</td>\n",
       "      <td>2025-04-23 14:37:11</td>\n",
       "      <td>18.89</td>\n",
       "      <td>18.11</td>\n",
       "      <td>1.86</td>\n",
       "      <td>49.0</td>\n",
       "      <td>1.64</td>\n",
       "      <td>overcast clouds</td>\n",
       "    </tr>\n",
       "    <tr>\n",
       "      <th>27</th>\n",
       "      <td>Carcassonne</td>\n",
       "      <td>Carcassonne</td>\n",
       "      <td>FR</td>\n",
       "      <td>Occitania</td>\n",
       "      <td>43.213036</td>\n",
       "      <td>2.349107</td>\n",
       "      <td>2025-04-23 14:37:11</td>\n",
       "      <td>16.30</td>\n",
       "      <td>15.63</td>\n",
       "      <td>0.67</td>\n",
       "      <td>63.0</td>\n",
       "      <td>7.20</td>\n",
       "      <td>overcast clouds</td>\n",
       "    </tr>\n",
       "    <tr>\n",
       "      <th>28</th>\n",
       "      <td>Ariege</td>\n",
       "      <td>Tarascon-sur-Ariège</td>\n",
       "      <td>FR</td>\n",
       "      <td>Occitania</td>\n",
       "      <td>42.845802</td>\n",
       "      <td>1.606759</td>\n",
       "      <td>2025-04-23 14:37:11</td>\n",
       "      <td>14.26</td>\n",
       "      <td>13.44</td>\n",
       "      <td>2.28</td>\n",
       "      <td>65.0</td>\n",
       "      <td>2.45</td>\n",
       "      <td>overcast clouds</td>\n",
       "    </tr>\n",
       "    <tr>\n",
       "      <th>29</th>\n",
       "      <td>Toulouse</td>\n",
       "      <td>Toulouse</td>\n",
       "      <td>FR</td>\n",
       "      <td>Occitania</td>\n",
       "      <td>43.604462</td>\n",
       "      <td>1.444247</td>\n",
       "      <td>2025-04-23 14:37:11</td>\n",
       "      <td>14.97</td>\n",
       "      <td>14.40</td>\n",
       "      <td>0.34</td>\n",
       "      <td>72.0</td>\n",
       "      <td>8.23</td>\n",
       "      <td>overcast clouds</td>\n",
       "    </tr>\n",
       "    <tr>\n",
       "      <th>30</th>\n",
       "      <td>Montauban</td>\n",
       "      <td>Montauban</td>\n",
       "      <td>FR</td>\n",
       "      <td>Occitania</td>\n",
       "      <td>44.017584</td>\n",
       "      <td>1.354999</td>\n",
       "      <td>2025-04-23 14:37:12</td>\n",
       "      <td>13.70</td>\n",
       "      <td>13.40</td>\n",
       "      <td>0.15</td>\n",
       "      <td>87.0</td>\n",
       "      <td>8.22</td>\n",
       "      <td>overcast clouds</td>\n",
       "    </tr>\n",
       "    <tr>\n",
       "      <th>31</th>\n",
       "      <td>Biarritz</td>\n",
       "      <td>Biarritz</td>\n",
       "      <td>FR</td>\n",
       "      <td>Nouvelle-Aquitaine</td>\n",
       "      <td>43.483252</td>\n",
       "      <td>-1.559278</td>\n",
       "      <td>2025-04-23 14:37:12</td>\n",
       "      <td>14.30</td>\n",
       "      <td>14.24</td>\n",
       "      <td>1.32</td>\n",
       "      <td>94.0</td>\n",
       "      <td>5.14</td>\n",
       "      <td>overcast clouds</td>\n",
       "    </tr>\n",
       "    <tr>\n",
       "      <th>32</th>\n",
       "      <td>Bayonne</td>\n",
       "      <td>Bayonne</td>\n",
       "      <td>FR</td>\n",
       "      <td>Nouvelle-Aquitaine</td>\n",
       "      <td>43.494514</td>\n",
       "      <td>-1.473666</td>\n",
       "      <td>2025-04-23 14:37:12</td>\n",
       "      <td>14.42</td>\n",
       "      <td>14.37</td>\n",
       "      <td>0.86</td>\n",
       "      <td>94.0</td>\n",
       "      <td>5.14</td>\n",
       "      <td>overcast clouds</td>\n",
       "    </tr>\n",
       "    <tr>\n",
       "      <th>33</th>\n",
       "      <td>La Rochelle</td>\n",
       "      <td>La Rochelle</td>\n",
       "      <td>FR</td>\n",
       "      <td>Nouvelle-Aquitaine</td>\n",
       "      <td>46.159113</td>\n",
       "      <td>-1.152043</td>\n",
       "      <td>2025-04-23 14:37:12</td>\n",
       "      <td>15.21</td>\n",
       "      <td>14.98</td>\n",
       "      <td>3.11</td>\n",
       "      <td>84.0</td>\n",
       "      <td>10.29</td>\n",
       "      <td>few clouds</td>\n",
       "    </tr>\n",
       "    <tr>\n",
       "      <th>34</th>\n",
       "      <td>Gorges du Verdon</td>\n",
       "      <td>NaN</td>\n",
       "      <td>NaN</td>\n",
       "      <td>NaN</td>\n",
       "      <td>43.749656</td>\n",
       "      <td>6.328562</td>\n",
       "      <td>2025-04-23 14:37:12</td>\n",
       "      <td>17.76</td>\n",
       "      <td>17.11</td>\n",
       "      <td>2.29</td>\n",
       "      <td>58.0</td>\n",
       "      <td>6.55</td>\n",
       "      <td>broken clouds</td>\n",
       "    </tr>\n",
       "  </tbody>\n",
       "</table>\n",
       "</div>"
      ],
      "text/plain": [
       "                          cities                         name country  \\\n",
       "0              Mont Saint Michel            Mont Saint-Michel      FR   \n",
       "1                        St Malo                   Saint-Malo      FR   \n",
       "2                         Bayeux                       Bayeux      FR   \n",
       "3                       Le Havre                     Le Havre      FR   \n",
       "4                          Rouen                        Rouen      FR   \n",
       "5                          Paris                        Paris      FR   \n",
       "6                         Amiens                       Amiens      FR   \n",
       "7                          Lille                        Lille      FR   \n",
       "8                     Strasbourg                   Strasbourg      FR   \n",
       "9   Chateau du Haut Koenigsbourg  Château du Haut-Kœnigsbourg      FR   \n",
       "10                        Colmar                       Colmar      FR   \n",
       "11                     Eguisheim                    Eguisheim      FR   \n",
       "12                      Besancon                     Besançon      FR   \n",
       "13                         Dijon                        Dijon      FR   \n",
       "14                        Annecy                       Annecy      FR   \n",
       "15                      Grenoble                     Grenoble      FR   \n",
       "16                          Lyon                         Lyon      FR   \n",
       "17            Bormes les Mimosas           Bormes-les-Mimosas      FR   \n",
       "18                        Cassis                       Cassis      FR   \n",
       "19                     Marseille                    Marseille      FR   \n",
       "20               Aix en Provence              Aix-en-Provence      FR   \n",
       "21                       Avignon                      Avignon      FR   \n",
       "22                          Uzes                         Uzès      FR   \n",
       "23                         Nimes                        Nimes      FR   \n",
       "24                 Aigues Mortes                Aigues-Mortes      FR   \n",
       "25      Saintes Maries de la mer     Saintes-Maries-de-la-Mer      FR   \n",
       "26                     Collioure                    Collioure      FR   \n",
       "27                   Carcassonne                  Carcassonne      FR   \n",
       "28                        Ariege          Tarascon-sur-Ariège      FR   \n",
       "29                      Toulouse                     Toulouse      FR   \n",
       "30                     Montauban                    Montauban      FR   \n",
       "31                      Biarritz                     Biarritz      FR   \n",
       "32                       Bayonne                      Bayonne      FR   \n",
       "33                   La Rochelle                  La Rochelle      FR   \n",
       "34              Gorges du Verdon                          NaN     NaN   \n",
       "\n",
       "                         state        lat       lon                 date  \\\n",
       "0                     Normandy  48.635954 -1.511460  2025-04-23 14:37:04   \n",
       "1                     Brittany  48.649518 -2.026041  2025-04-23 14:37:08   \n",
       "2                     Normandy  49.276462 -0.702474  2025-04-23 14:37:08   \n",
       "3                     Normandy  49.493898  0.107973  2025-04-23 14:37:08   \n",
       "4                     Normandy  49.440459  1.093966  2025-04-23 14:37:08   \n",
       "5                Ile-de-France  48.858890  2.320041  2025-04-23 14:37:08   \n",
       "6              Hauts-de-France  49.894171  2.295695  2025-04-23 14:37:09   \n",
       "7              Hauts-de-France  50.636565  3.063528  2025-04-23 14:37:09   \n",
       "8                    Grand Est  48.584614  7.750713  2025-04-23 14:37:09   \n",
       "9                    Grand Est  48.249523  7.345492  2025-04-23 14:37:09   \n",
       "10                   Grand Est  48.077752  7.357964  2025-04-23 14:37:09   \n",
       "11                   Grand Est  48.044797  7.307962  2025-04-23 14:37:09   \n",
       "12     Bourgogne-Franche-Comté  47.238022  6.024362  2025-04-23 14:37:09   \n",
       "13     Bourgogne-Franche-Comté  47.321581  5.041470  2025-04-23 14:37:09   \n",
       "14        Auvergne-Rhône-Alpes  45.899235  6.128885  2025-04-23 14:37:10   \n",
       "15        Auvergne-Rhône-Alpes  45.187560  5.735782  2025-04-23 14:37:10   \n",
       "16        Auvergne-Rhône-Alpes  45.757814  4.832011  2025-04-23 14:37:10   \n",
       "17  Provence-Alpes-Côte d'Azur  43.150697  6.341928  2025-04-23 14:37:10   \n",
       "18  Provence-Alpes-Côte d'Azur  43.214036  5.539632  2025-04-23 14:37:10   \n",
       "19  Provence-Alpes-Côte d'Azur  43.296174  5.369953  2025-04-23 14:37:10   \n",
       "20  Provence-Alpes-Côte d'Azur  43.529842  5.447474  2025-04-23 14:37:10   \n",
       "21  Provence-Alpes-Côte d'Azur  43.949249  4.805901  2025-04-23 14:37:10   \n",
       "22                   Occitania  44.012128  4.419672  2025-04-23 14:37:11   \n",
       "23                   Occitania  43.837425  4.360069  2025-04-23 14:37:11   \n",
       "24                   Occitania  43.565823  4.191284  2025-04-23 14:37:11   \n",
       "25  Provence-Alpes-Côte d'Azur  43.452277  4.428717  2025-04-23 14:37:11   \n",
       "26                   Occitania  42.525050  3.083155  2025-04-23 14:37:11   \n",
       "27                   Occitania  43.213036  2.349107  2025-04-23 14:37:11   \n",
       "28                   Occitania  42.845802  1.606759  2025-04-23 14:37:11   \n",
       "29                   Occitania  43.604462  1.444247  2025-04-23 14:37:11   \n",
       "30                   Occitania  44.017584  1.354999  2025-04-23 14:37:12   \n",
       "31          Nouvelle-Aquitaine  43.483252 -1.559278  2025-04-23 14:37:12   \n",
       "32          Nouvelle-Aquitaine  43.494514 -1.473666  2025-04-23 14:37:12   \n",
       "33          Nouvelle-Aquitaine  46.159113 -1.152043  2025-04-23 14:37:12   \n",
       "34                         NaN  43.749656  6.328562  2025-04-23 14:37:12   \n",
       "\n",
       "     temp  feels_like   uvi  humidity  wind_speed           description  \n",
       "0   13.69       13.23  3.09      81.0        7.81      scattered clouds  \n",
       "1   13.29       12.82  3.17      82.0        8.23       overcast clouds  \n",
       "2   16.14       15.77  2.89      75.0        5.82            few clouds  \n",
       "3   13.51       13.06  2.77      82.0        5.66      scattered clouds  \n",
       "4   14.73       13.98  2.63      66.0        6.17         broken clouds  \n",
       "5   13.45       12.99  2.01      82.0        5.66         broken clouds  \n",
       "6   12.32       11.67  1.85      79.0        1.89         broken clouds  \n",
       "7   10.86        9.62  0.52      62.0        3.09       overcast clouds  \n",
       "8   15.02       14.72  0.36      82.0        4.72  heavy intensity rain  \n",
       "9   10.90        9.93  0.52      72.0        3.09         moderate rain  \n",
       "10  13.94       13.27  0.52      72.0        3.09            light rain  \n",
       "11  13.90       13.23  0.52      72.0        3.09            light rain  \n",
       "12  10.80       10.26  0.34      89.0        3.77            light rain  \n",
       "13  11.80       11.18  0.50      82.0        7.20       overcast clouds  \n",
       "14  12.08       11.48  0.86      82.0        5.14            light rain  \n",
       "15  12.09       11.52  0.53      83.0        2.24         moderate rain  \n",
       "16  11.61       11.18  0.35      90.0        3.58         moderate rain  \n",
       "17  20.06       19.51  2.45      53.0        3.58         broken clouds  \n",
       "18  17.93       17.08  2.67      50.0        9.84         broken clouds  \n",
       "19  18.08       17.25  2.71      50.0        7.72             clear sky  \n",
       "20  19.19       18.42  1.74      48.0        3.58       overcast clouds  \n",
       "21  18.25       17.49  0.60      52.0        7.20            light rain  \n",
       "22  16.78       16.16  0.52      63.0        4.99            light rain  \n",
       "23  18.22       17.46  1.08      52.0        4.12            light rain  \n",
       "24  18.90       18.02  1.08      45.0        6.69            light rain  \n",
       "25  17.83       17.08  2.46      54.0       11.41       overcast clouds  \n",
       "26  18.89       18.11  1.86      49.0        1.64       overcast clouds  \n",
       "27  16.30       15.63  0.67      63.0        7.20       overcast clouds  \n",
       "28  14.26       13.44  2.28      65.0        2.45       overcast clouds  \n",
       "29  14.97       14.40  0.34      72.0        8.23       overcast clouds  \n",
       "30  13.70       13.40  0.15      87.0        8.22       overcast clouds  \n",
       "31  14.30       14.24  1.32      94.0        5.14       overcast clouds  \n",
       "32  14.42       14.37  0.86      94.0        5.14       overcast clouds  \n",
       "33  15.21       14.98  3.11      84.0       10.29            few clouds  \n",
       "34  17.76       17.11  2.29      58.0        6.55         broken clouds  "
      ]
     },
     "execution_count": 99,
     "metadata": {},
     "output_type": "execute_result"
    }
   ],
   "source": [
    "bc = pd.read_csv(\"data/best_cities_weather.csv\")\n",
    "bc"
   ]
  },
  {
   "cell_type": "code",
   "execution_count": 100,
   "metadata": {},
   "outputs": [
    {
     "data": {
      "text/plain": [
       "(35, 13)"
      ]
     },
     "execution_count": 100,
     "metadata": {},
     "output_type": "execute_result"
    }
   ],
   "source": [
    "bc.shape"
   ]
  },
  {
   "cell_type": "code",
   "execution_count": 101,
   "metadata": {},
   "outputs": [
    {
     "data": {
      "application/vnd.plotly.v1+json": {
       "config": {
        "plotlyServerURL": "https://plot.ly"
       },
       "data": [
        {
         "hovertemplate": "Température (°C)=%{x}<br>Ville=%{y}<extra></extra>",
         "legendgroup": "",
         "marker": {
          "color": "#636efa",
          "pattern": {
           "shape": ""
          }
         },
         "name": "",
         "orientation": "h",
         "showlegend": false,
         "textposition": "auto",
         "type": "bar",
         "x": {
          "bdata": "mpmZmZmZJUC4HoXrUbglQM3MzMzMzCVAuB6F61E4J0CamZmZmZknQClcj8L1KChArkfhehQuKECkcD0K16MoQBSuR+F6lCpAZmZmZmbmKkCF61G4HgUrQOF6FK5HYStAZmZmZmZmK0DNzMzMzMwrQOF6FK5H4StAhetRuB6FLECamZmZmZksQNejcD0K1yxA9ihcj8J1LUBxPQrXo/AtQArXo3A9Ci5A7FG4HoVrLkCkcD0K1yMwQM3MzMzMTDBASOF6FK7HMEDD9Shcj8IxQBSuR+F61DFArkfhehTuMUAUrkfhehQyQLgehetRODJAAAAAAABAMkCkcD0K1+MyQGZmZmZm5jJAcT0K16MwM0CPwvUoXA80QA==",
          "dtype": "f8"
         },
         "xaxis": "x",
         "y": [
          "Besancon",
          "Lille",
          "Chateau du Haut Koenigsbourg",
          "Lyon",
          "Dijon",
          "Annecy",
          "Grenoble",
          "Amiens",
          "St Malo",
          "Paris",
          "Le Havre",
          "Mont Saint Michel",
          "Montauban",
          "Eguisheim",
          "Colmar",
          "Ariege",
          "Biarritz",
          "Bayonne",
          "Rouen",
          "Toulouse",
          "Strasbourg",
          "La Rochelle",
          "Bayeux",
          "Carcassonne",
          "Uzes",
          "Gorges du Verdon",
          "Saintes Maries de la mer",
          "Cassis",
          "Marseille",
          "Nimes",
          "Avignon",
          "Collioure",
          "Aigues Mortes",
          "Aix en Provence",
          "Bormes les Mimosas"
         ],
         "yaxis": "y"
        }
       ],
       "layout": {
        "barmode": "relative",
        "height": 800,
        "legend": {
         "tracegroupgap": 0
        },
        "template": {
         "data": {
          "bar": [
           {
            "error_x": {
             "color": "#2a3f5f"
            },
            "error_y": {
             "color": "#2a3f5f"
            },
            "marker": {
             "line": {
              "color": "#E5ECF6",
              "width": 0.5
             },
             "pattern": {
              "fillmode": "overlay",
              "size": 10,
              "solidity": 0.2
             }
            },
            "type": "bar"
           }
          ],
          "barpolar": [
           {
            "marker": {
             "line": {
              "color": "#E5ECF6",
              "width": 0.5
             },
             "pattern": {
              "fillmode": "overlay",
              "size": 10,
              "solidity": 0.2
             }
            },
            "type": "barpolar"
           }
          ],
          "carpet": [
           {
            "aaxis": {
             "endlinecolor": "#2a3f5f",
             "gridcolor": "white",
             "linecolor": "white",
             "minorgridcolor": "white",
             "startlinecolor": "#2a3f5f"
            },
            "baxis": {
             "endlinecolor": "#2a3f5f",
             "gridcolor": "white",
             "linecolor": "white",
             "minorgridcolor": "white",
             "startlinecolor": "#2a3f5f"
            },
            "type": "carpet"
           }
          ],
          "choropleth": [
           {
            "colorbar": {
             "outlinewidth": 0,
             "ticks": ""
            },
            "type": "choropleth"
           }
          ],
          "contour": [
           {
            "colorbar": {
             "outlinewidth": 0,
             "ticks": ""
            },
            "colorscale": [
             [
              0,
              "#0d0887"
             ],
             [
              0.1111111111111111,
              "#46039f"
             ],
             [
              0.2222222222222222,
              "#7201a8"
             ],
             [
              0.3333333333333333,
              "#9c179e"
             ],
             [
              0.4444444444444444,
              "#bd3786"
             ],
             [
              0.5555555555555556,
              "#d8576b"
             ],
             [
              0.6666666666666666,
              "#ed7953"
             ],
             [
              0.7777777777777778,
              "#fb9f3a"
             ],
             [
              0.8888888888888888,
              "#fdca26"
             ],
             [
              1,
              "#f0f921"
             ]
            ],
            "type": "contour"
           }
          ],
          "contourcarpet": [
           {
            "colorbar": {
             "outlinewidth": 0,
             "ticks": ""
            },
            "type": "contourcarpet"
           }
          ],
          "heatmap": [
           {
            "colorbar": {
             "outlinewidth": 0,
             "ticks": ""
            },
            "colorscale": [
             [
              0,
              "#0d0887"
             ],
             [
              0.1111111111111111,
              "#46039f"
             ],
             [
              0.2222222222222222,
              "#7201a8"
             ],
             [
              0.3333333333333333,
              "#9c179e"
             ],
             [
              0.4444444444444444,
              "#bd3786"
             ],
             [
              0.5555555555555556,
              "#d8576b"
             ],
             [
              0.6666666666666666,
              "#ed7953"
             ],
             [
              0.7777777777777778,
              "#fb9f3a"
             ],
             [
              0.8888888888888888,
              "#fdca26"
             ],
             [
              1,
              "#f0f921"
             ]
            ],
            "type": "heatmap"
           }
          ],
          "histogram": [
           {
            "marker": {
             "pattern": {
              "fillmode": "overlay",
              "size": 10,
              "solidity": 0.2
             }
            },
            "type": "histogram"
           }
          ],
          "histogram2d": [
           {
            "colorbar": {
             "outlinewidth": 0,
             "ticks": ""
            },
            "colorscale": [
             [
              0,
              "#0d0887"
             ],
             [
              0.1111111111111111,
              "#46039f"
             ],
             [
              0.2222222222222222,
              "#7201a8"
             ],
             [
              0.3333333333333333,
              "#9c179e"
             ],
             [
              0.4444444444444444,
              "#bd3786"
             ],
             [
              0.5555555555555556,
              "#d8576b"
             ],
             [
              0.6666666666666666,
              "#ed7953"
             ],
             [
              0.7777777777777778,
              "#fb9f3a"
             ],
             [
              0.8888888888888888,
              "#fdca26"
             ],
             [
              1,
              "#f0f921"
             ]
            ],
            "type": "histogram2d"
           }
          ],
          "histogram2dcontour": [
           {
            "colorbar": {
             "outlinewidth": 0,
             "ticks": ""
            },
            "colorscale": [
             [
              0,
              "#0d0887"
             ],
             [
              0.1111111111111111,
              "#46039f"
             ],
             [
              0.2222222222222222,
              "#7201a8"
             ],
             [
              0.3333333333333333,
              "#9c179e"
             ],
             [
              0.4444444444444444,
              "#bd3786"
             ],
             [
              0.5555555555555556,
              "#d8576b"
             ],
             [
              0.6666666666666666,
              "#ed7953"
             ],
             [
              0.7777777777777778,
              "#fb9f3a"
             ],
             [
              0.8888888888888888,
              "#fdca26"
             ],
             [
              1,
              "#f0f921"
             ]
            ],
            "type": "histogram2dcontour"
           }
          ],
          "mesh3d": [
           {
            "colorbar": {
             "outlinewidth": 0,
             "ticks": ""
            },
            "type": "mesh3d"
           }
          ],
          "parcoords": [
           {
            "line": {
             "colorbar": {
              "outlinewidth": 0,
              "ticks": ""
             }
            },
            "type": "parcoords"
           }
          ],
          "pie": [
           {
            "automargin": true,
            "type": "pie"
           }
          ],
          "scatter": [
           {
            "fillpattern": {
             "fillmode": "overlay",
             "size": 10,
             "solidity": 0.2
            },
            "type": "scatter"
           }
          ],
          "scatter3d": [
           {
            "line": {
             "colorbar": {
              "outlinewidth": 0,
              "ticks": ""
             }
            },
            "marker": {
             "colorbar": {
              "outlinewidth": 0,
              "ticks": ""
             }
            },
            "type": "scatter3d"
           }
          ],
          "scattercarpet": [
           {
            "marker": {
             "colorbar": {
              "outlinewidth": 0,
              "ticks": ""
             }
            },
            "type": "scattercarpet"
           }
          ],
          "scattergeo": [
           {
            "marker": {
             "colorbar": {
              "outlinewidth": 0,
              "ticks": ""
             }
            },
            "type": "scattergeo"
           }
          ],
          "scattergl": [
           {
            "marker": {
             "colorbar": {
              "outlinewidth": 0,
              "ticks": ""
             }
            },
            "type": "scattergl"
           }
          ],
          "scattermap": [
           {
            "marker": {
             "colorbar": {
              "outlinewidth": 0,
              "ticks": ""
             }
            },
            "type": "scattermap"
           }
          ],
          "scattermapbox": [
           {
            "marker": {
             "colorbar": {
              "outlinewidth": 0,
              "ticks": ""
             }
            },
            "type": "scattermapbox"
           }
          ],
          "scatterpolar": [
           {
            "marker": {
             "colorbar": {
              "outlinewidth": 0,
              "ticks": ""
             }
            },
            "type": "scatterpolar"
           }
          ],
          "scatterpolargl": [
           {
            "marker": {
             "colorbar": {
              "outlinewidth": 0,
              "ticks": ""
             }
            },
            "type": "scatterpolargl"
           }
          ],
          "scatterternary": [
           {
            "marker": {
             "colorbar": {
              "outlinewidth": 0,
              "ticks": ""
             }
            },
            "type": "scatterternary"
           }
          ],
          "surface": [
           {
            "colorbar": {
             "outlinewidth": 0,
             "ticks": ""
            },
            "colorscale": [
             [
              0,
              "#0d0887"
             ],
             [
              0.1111111111111111,
              "#46039f"
             ],
             [
              0.2222222222222222,
              "#7201a8"
             ],
             [
              0.3333333333333333,
              "#9c179e"
             ],
             [
              0.4444444444444444,
              "#bd3786"
             ],
             [
              0.5555555555555556,
              "#d8576b"
             ],
             [
              0.6666666666666666,
              "#ed7953"
             ],
             [
              0.7777777777777778,
              "#fb9f3a"
             ],
             [
              0.8888888888888888,
              "#fdca26"
             ],
             [
              1,
              "#f0f921"
             ]
            ],
            "type": "surface"
           }
          ],
          "table": [
           {
            "cells": {
             "fill": {
              "color": "#EBF0F8"
             },
             "line": {
              "color": "white"
             }
            },
            "header": {
             "fill": {
              "color": "#C8D4E3"
             },
             "line": {
              "color": "white"
             }
            },
            "type": "table"
           }
          ]
         },
         "layout": {
          "annotationdefaults": {
           "arrowcolor": "#2a3f5f",
           "arrowhead": 0,
           "arrowwidth": 1
          },
          "autotypenumbers": "strict",
          "coloraxis": {
           "colorbar": {
            "outlinewidth": 0,
            "ticks": ""
           }
          },
          "colorscale": {
           "diverging": [
            [
             0,
             "#8e0152"
            ],
            [
             0.1,
             "#c51b7d"
            ],
            [
             0.2,
             "#de77ae"
            ],
            [
             0.3,
             "#f1b6da"
            ],
            [
             0.4,
             "#fde0ef"
            ],
            [
             0.5,
             "#f7f7f7"
            ],
            [
             0.6,
             "#e6f5d0"
            ],
            [
             0.7,
             "#b8e186"
            ],
            [
             0.8,
             "#7fbc41"
            ],
            [
             0.9,
             "#4d9221"
            ],
            [
             1,
             "#276419"
            ]
           ],
           "sequential": [
            [
             0,
             "#0d0887"
            ],
            [
             0.1111111111111111,
             "#46039f"
            ],
            [
             0.2222222222222222,
             "#7201a8"
            ],
            [
             0.3333333333333333,
             "#9c179e"
            ],
            [
             0.4444444444444444,
             "#bd3786"
            ],
            [
             0.5555555555555556,
             "#d8576b"
            ],
            [
             0.6666666666666666,
             "#ed7953"
            ],
            [
             0.7777777777777778,
             "#fb9f3a"
            ],
            [
             0.8888888888888888,
             "#fdca26"
            ],
            [
             1,
             "#f0f921"
            ]
           ],
           "sequentialminus": [
            [
             0,
             "#0d0887"
            ],
            [
             0.1111111111111111,
             "#46039f"
            ],
            [
             0.2222222222222222,
             "#7201a8"
            ],
            [
             0.3333333333333333,
             "#9c179e"
            ],
            [
             0.4444444444444444,
             "#bd3786"
            ],
            [
             0.5555555555555556,
             "#d8576b"
            ],
            [
             0.6666666666666666,
             "#ed7953"
            ],
            [
             0.7777777777777778,
             "#fb9f3a"
            ],
            [
             0.8888888888888888,
             "#fdca26"
            ],
            [
             1,
             "#f0f921"
            ]
           ]
          },
          "colorway": [
           "#636efa",
           "#EF553B",
           "#00cc96",
           "#ab63fa",
           "#FFA15A",
           "#19d3f3",
           "#FF6692",
           "#B6E880",
           "#FF97FF",
           "#FECB52"
          ],
          "font": {
           "color": "#2a3f5f"
          },
          "geo": {
           "bgcolor": "white",
           "lakecolor": "white",
           "landcolor": "#E5ECF6",
           "showlakes": true,
           "showland": true,
           "subunitcolor": "white"
          },
          "hoverlabel": {
           "align": "left"
          },
          "hovermode": "closest",
          "mapbox": {
           "style": "light"
          },
          "paper_bgcolor": "white",
          "plot_bgcolor": "#E5ECF6",
          "polar": {
           "angularaxis": {
            "gridcolor": "white",
            "linecolor": "white",
            "ticks": ""
           },
           "bgcolor": "#E5ECF6",
           "radialaxis": {
            "gridcolor": "white",
            "linecolor": "white",
            "ticks": ""
           }
          },
          "scene": {
           "xaxis": {
            "backgroundcolor": "#E5ECF6",
            "gridcolor": "white",
            "gridwidth": 2,
            "linecolor": "white",
            "showbackground": true,
            "ticks": "",
            "zerolinecolor": "white"
           },
           "yaxis": {
            "backgroundcolor": "#E5ECF6",
            "gridcolor": "white",
            "gridwidth": 2,
            "linecolor": "white",
            "showbackground": true,
            "ticks": "",
            "zerolinecolor": "white"
           },
           "zaxis": {
            "backgroundcolor": "#E5ECF6",
            "gridcolor": "white",
            "gridwidth": 2,
            "linecolor": "white",
            "showbackground": true,
            "ticks": "",
            "zerolinecolor": "white"
           }
          },
          "shapedefaults": {
           "line": {
            "color": "#2a3f5f"
           }
          },
          "ternary": {
           "aaxis": {
            "gridcolor": "white",
            "linecolor": "white",
            "ticks": ""
           },
           "baxis": {
            "gridcolor": "white",
            "linecolor": "white",
            "ticks": ""
           },
           "bgcolor": "#E5ECF6",
           "caxis": {
            "gridcolor": "white",
            "linecolor": "white",
            "ticks": ""
           }
          },
          "title": {
           "x": 0.05
          },
          "xaxis": {
           "automargin": true,
           "gridcolor": "white",
           "linecolor": "white",
           "ticks": "",
           "title": {
            "standoff": 15
           },
           "zerolinecolor": "white",
           "zerolinewidth": 2
          },
          "yaxis": {
           "automargin": true,
           "gridcolor": "white",
           "linecolor": "white",
           "ticks": "",
           "title": {
            "standoff": 15
           },
           "zerolinecolor": "white",
           "zerolinewidth": 2
          }
         }
        },
        "title": {
         "text": "Températures par Ville"
        },
        "xaxis": {
         "anchor": "y",
         "domain": [
          0,
          1
         ],
         "title": {
          "text": "Température (°C)"
         }
        },
        "yaxis": {
         "anchor": "x",
         "domain": [
          0,
          1
         ],
         "title": {
          "text": "Ville"
         }
        }
       }
      }
     },
     "metadata": {},
     "output_type": "display_data"
    }
   ],
   "source": [
    "df_sorted = bc.sort_values(by='temp', ascending=True)\n",
    "\n",
    "# Créer un diagramme en bâtons horizontal\n",
    "fig = px.bar(df_sorted, x='temp', y='cities', orientation='h',\n",
    "             title='Températures par Ville',\n",
    "             labels={'temp': 'Température (°C)', 'cities': 'Ville'})\n",
    "\n",
    "# Ajuster la hauteur du graphique\n",
    "fig.update_layout(height=800)\n",
    "\n",
    "# Afficher le diagramme\n",
    "fig.show()"
   ]
  },
  {
   "cell_type": "code",
   "execution_count": 102,
   "metadata": {},
   "outputs": [
    {
     "data": {
      "application/vnd.plotly.v1+json": {
       "config": {
        "plotlyServerURL": "https://plot.ly"
       },
       "data": [
        {
         "hovertemplate": "Température ressentie (°C)=%{x}<br>Ville=%{y}<extra></extra>",
         "legendgroup": "",
         "marker": {
          "color": "#636efa",
          "pattern": {
           "shape": ""
          }
         },
         "name": "",
         "orientation": "h",
         "showlegend": false,
         "textposition": "auto",
         "type": "bar",
         "x": {
          "bdata": "PQrXo3A9I0Bcj8L1KNwjQIXrUbgehSRAXI/C9ShcJkBcj8L1KFwmQPYoXI/C9SZACtejcD0KJ0DXo3A9ClcnQKRwPQrXoylAexSuR+H6KUAfhetRuB4qQPYoXI/CdSpA9ihcj8J1KkAK16NwPYoqQM3MzMzMzCpA4XoUrkfhKkD2KFyPwvUrQHsUrkfheixAPQrXo3C9LEDNzMzMzMwsQHE9CtejcC1A9ihcj8L1LUDD9Shcj0IvQArXo3A9ii9AKVyPwvUoMEAUrkfhehQxQBSuR+F6FDFAXI/C9SgcMUAAAAAAAEAxQPYoXI/CdTFAPQrXo3B9MUCF61G4HgUyQFyPwvUoHDJA7FG4HoVrMkDD9Shcj4IzQA==",
          "dtype": "f8"
         },
         "xaxis": "x",
         "y": [
          "Lille",
          "Chateau du Haut Koenigsbourg",
          "Besancon",
          "Dijon",
          "Lyon",
          "Annecy",
          "Grenoble",
          "Amiens",
          "St Malo",
          "Paris",
          "Le Havre",
          "Mont Saint Michel",
          "Eguisheim",
          "Colmar",
          "Montauban",
          "Ariege",
          "Rouen",
          "Biarritz",
          "Bayonne",
          "Toulouse",
          "Strasbourg",
          "La Rochelle",
          "Carcassonne",
          "Bayeux",
          "Uzes",
          "Saintes Maries de la mer",
          "Cassis",
          "Gorges du Verdon",
          "Marseille",
          "Nimes",
          "Avignon",
          "Aigues Mortes",
          "Collioure",
          "Aix en Provence",
          "Bormes les Mimosas"
         ],
         "yaxis": "y"
        }
       ],
       "layout": {
        "barmode": "relative",
        "height": 800,
        "legend": {
         "tracegroupgap": 0
        },
        "template": {
         "data": {
          "bar": [
           {
            "error_x": {
             "color": "#2a3f5f"
            },
            "error_y": {
             "color": "#2a3f5f"
            },
            "marker": {
             "line": {
              "color": "#E5ECF6",
              "width": 0.5
             },
             "pattern": {
              "fillmode": "overlay",
              "size": 10,
              "solidity": 0.2
             }
            },
            "type": "bar"
           }
          ],
          "barpolar": [
           {
            "marker": {
             "line": {
              "color": "#E5ECF6",
              "width": 0.5
             },
             "pattern": {
              "fillmode": "overlay",
              "size": 10,
              "solidity": 0.2
             }
            },
            "type": "barpolar"
           }
          ],
          "carpet": [
           {
            "aaxis": {
             "endlinecolor": "#2a3f5f",
             "gridcolor": "white",
             "linecolor": "white",
             "minorgridcolor": "white",
             "startlinecolor": "#2a3f5f"
            },
            "baxis": {
             "endlinecolor": "#2a3f5f",
             "gridcolor": "white",
             "linecolor": "white",
             "minorgridcolor": "white",
             "startlinecolor": "#2a3f5f"
            },
            "type": "carpet"
           }
          ],
          "choropleth": [
           {
            "colorbar": {
             "outlinewidth": 0,
             "ticks": ""
            },
            "type": "choropleth"
           }
          ],
          "contour": [
           {
            "colorbar": {
             "outlinewidth": 0,
             "ticks": ""
            },
            "colorscale": [
             [
              0,
              "#0d0887"
             ],
             [
              0.1111111111111111,
              "#46039f"
             ],
             [
              0.2222222222222222,
              "#7201a8"
             ],
             [
              0.3333333333333333,
              "#9c179e"
             ],
             [
              0.4444444444444444,
              "#bd3786"
             ],
             [
              0.5555555555555556,
              "#d8576b"
             ],
             [
              0.6666666666666666,
              "#ed7953"
             ],
             [
              0.7777777777777778,
              "#fb9f3a"
             ],
             [
              0.8888888888888888,
              "#fdca26"
             ],
             [
              1,
              "#f0f921"
             ]
            ],
            "type": "contour"
           }
          ],
          "contourcarpet": [
           {
            "colorbar": {
             "outlinewidth": 0,
             "ticks": ""
            },
            "type": "contourcarpet"
           }
          ],
          "heatmap": [
           {
            "colorbar": {
             "outlinewidth": 0,
             "ticks": ""
            },
            "colorscale": [
             [
              0,
              "#0d0887"
             ],
             [
              0.1111111111111111,
              "#46039f"
             ],
             [
              0.2222222222222222,
              "#7201a8"
             ],
             [
              0.3333333333333333,
              "#9c179e"
             ],
             [
              0.4444444444444444,
              "#bd3786"
             ],
             [
              0.5555555555555556,
              "#d8576b"
             ],
             [
              0.6666666666666666,
              "#ed7953"
             ],
             [
              0.7777777777777778,
              "#fb9f3a"
             ],
             [
              0.8888888888888888,
              "#fdca26"
             ],
             [
              1,
              "#f0f921"
             ]
            ],
            "type": "heatmap"
           }
          ],
          "histogram": [
           {
            "marker": {
             "pattern": {
              "fillmode": "overlay",
              "size": 10,
              "solidity": 0.2
             }
            },
            "type": "histogram"
           }
          ],
          "histogram2d": [
           {
            "colorbar": {
             "outlinewidth": 0,
             "ticks": ""
            },
            "colorscale": [
             [
              0,
              "#0d0887"
             ],
             [
              0.1111111111111111,
              "#46039f"
             ],
             [
              0.2222222222222222,
              "#7201a8"
             ],
             [
              0.3333333333333333,
              "#9c179e"
             ],
             [
              0.4444444444444444,
              "#bd3786"
             ],
             [
              0.5555555555555556,
              "#d8576b"
             ],
             [
              0.6666666666666666,
              "#ed7953"
             ],
             [
              0.7777777777777778,
              "#fb9f3a"
             ],
             [
              0.8888888888888888,
              "#fdca26"
             ],
             [
              1,
              "#f0f921"
             ]
            ],
            "type": "histogram2d"
           }
          ],
          "histogram2dcontour": [
           {
            "colorbar": {
             "outlinewidth": 0,
             "ticks": ""
            },
            "colorscale": [
             [
              0,
              "#0d0887"
             ],
             [
              0.1111111111111111,
              "#46039f"
             ],
             [
              0.2222222222222222,
              "#7201a8"
             ],
             [
              0.3333333333333333,
              "#9c179e"
             ],
             [
              0.4444444444444444,
              "#bd3786"
             ],
             [
              0.5555555555555556,
              "#d8576b"
             ],
             [
              0.6666666666666666,
              "#ed7953"
             ],
             [
              0.7777777777777778,
              "#fb9f3a"
             ],
             [
              0.8888888888888888,
              "#fdca26"
             ],
             [
              1,
              "#f0f921"
             ]
            ],
            "type": "histogram2dcontour"
           }
          ],
          "mesh3d": [
           {
            "colorbar": {
             "outlinewidth": 0,
             "ticks": ""
            },
            "type": "mesh3d"
           }
          ],
          "parcoords": [
           {
            "line": {
             "colorbar": {
              "outlinewidth": 0,
              "ticks": ""
             }
            },
            "type": "parcoords"
           }
          ],
          "pie": [
           {
            "automargin": true,
            "type": "pie"
           }
          ],
          "scatter": [
           {
            "fillpattern": {
             "fillmode": "overlay",
             "size": 10,
             "solidity": 0.2
            },
            "type": "scatter"
           }
          ],
          "scatter3d": [
           {
            "line": {
             "colorbar": {
              "outlinewidth": 0,
              "ticks": ""
             }
            },
            "marker": {
             "colorbar": {
              "outlinewidth": 0,
              "ticks": ""
             }
            },
            "type": "scatter3d"
           }
          ],
          "scattercarpet": [
           {
            "marker": {
             "colorbar": {
              "outlinewidth": 0,
              "ticks": ""
             }
            },
            "type": "scattercarpet"
           }
          ],
          "scattergeo": [
           {
            "marker": {
             "colorbar": {
              "outlinewidth": 0,
              "ticks": ""
             }
            },
            "type": "scattergeo"
           }
          ],
          "scattergl": [
           {
            "marker": {
             "colorbar": {
              "outlinewidth": 0,
              "ticks": ""
             }
            },
            "type": "scattergl"
           }
          ],
          "scattermap": [
           {
            "marker": {
             "colorbar": {
              "outlinewidth": 0,
              "ticks": ""
             }
            },
            "type": "scattermap"
           }
          ],
          "scattermapbox": [
           {
            "marker": {
             "colorbar": {
              "outlinewidth": 0,
              "ticks": ""
             }
            },
            "type": "scattermapbox"
           }
          ],
          "scatterpolar": [
           {
            "marker": {
             "colorbar": {
              "outlinewidth": 0,
              "ticks": ""
             }
            },
            "type": "scatterpolar"
           }
          ],
          "scatterpolargl": [
           {
            "marker": {
             "colorbar": {
              "outlinewidth": 0,
              "ticks": ""
             }
            },
            "type": "scatterpolargl"
           }
          ],
          "scatterternary": [
           {
            "marker": {
             "colorbar": {
              "outlinewidth": 0,
              "ticks": ""
             }
            },
            "type": "scatterternary"
           }
          ],
          "surface": [
           {
            "colorbar": {
             "outlinewidth": 0,
             "ticks": ""
            },
            "colorscale": [
             [
              0,
              "#0d0887"
             ],
             [
              0.1111111111111111,
              "#46039f"
             ],
             [
              0.2222222222222222,
              "#7201a8"
             ],
             [
              0.3333333333333333,
              "#9c179e"
             ],
             [
              0.4444444444444444,
              "#bd3786"
             ],
             [
              0.5555555555555556,
              "#d8576b"
             ],
             [
              0.6666666666666666,
              "#ed7953"
             ],
             [
              0.7777777777777778,
              "#fb9f3a"
             ],
             [
              0.8888888888888888,
              "#fdca26"
             ],
             [
              1,
              "#f0f921"
             ]
            ],
            "type": "surface"
           }
          ],
          "table": [
           {
            "cells": {
             "fill": {
              "color": "#EBF0F8"
             },
             "line": {
              "color": "white"
             }
            },
            "header": {
             "fill": {
              "color": "#C8D4E3"
             },
             "line": {
              "color": "white"
             }
            },
            "type": "table"
           }
          ]
         },
         "layout": {
          "annotationdefaults": {
           "arrowcolor": "#2a3f5f",
           "arrowhead": 0,
           "arrowwidth": 1
          },
          "autotypenumbers": "strict",
          "coloraxis": {
           "colorbar": {
            "outlinewidth": 0,
            "ticks": ""
           }
          },
          "colorscale": {
           "diverging": [
            [
             0,
             "#8e0152"
            ],
            [
             0.1,
             "#c51b7d"
            ],
            [
             0.2,
             "#de77ae"
            ],
            [
             0.3,
             "#f1b6da"
            ],
            [
             0.4,
             "#fde0ef"
            ],
            [
             0.5,
             "#f7f7f7"
            ],
            [
             0.6,
             "#e6f5d0"
            ],
            [
             0.7,
             "#b8e186"
            ],
            [
             0.8,
             "#7fbc41"
            ],
            [
             0.9,
             "#4d9221"
            ],
            [
             1,
             "#276419"
            ]
           ],
           "sequential": [
            [
             0,
             "#0d0887"
            ],
            [
             0.1111111111111111,
             "#46039f"
            ],
            [
             0.2222222222222222,
             "#7201a8"
            ],
            [
             0.3333333333333333,
             "#9c179e"
            ],
            [
             0.4444444444444444,
             "#bd3786"
            ],
            [
             0.5555555555555556,
             "#d8576b"
            ],
            [
             0.6666666666666666,
             "#ed7953"
            ],
            [
             0.7777777777777778,
             "#fb9f3a"
            ],
            [
             0.8888888888888888,
             "#fdca26"
            ],
            [
             1,
             "#f0f921"
            ]
           ],
           "sequentialminus": [
            [
             0,
             "#0d0887"
            ],
            [
             0.1111111111111111,
             "#46039f"
            ],
            [
             0.2222222222222222,
             "#7201a8"
            ],
            [
             0.3333333333333333,
             "#9c179e"
            ],
            [
             0.4444444444444444,
             "#bd3786"
            ],
            [
             0.5555555555555556,
             "#d8576b"
            ],
            [
             0.6666666666666666,
             "#ed7953"
            ],
            [
             0.7777777777777778,
             "#fb9f3a"
            ],
            [
             0.8888888888888888,
             "#fdca26"
            ],
            [
             1,
             "#f0f921"
            ]
           ]
          },
          "colorway": [
           "#636efa",
           "#EF553B",
           "#00cc96",
           "#ab63fa",
           "#FFA15A",
           "#19d3f3",
           "#FF6692",
           "#B6E880",
           "#FF97FF",
           "#FECB52"
          ],
          "font": {
           "color": "#2a3f5f"
          },
          "geo": {
           "bgcolor": "white",
           "lakecolor": "white",
           "landcolor": "#E5ECF6",
           "showlakes": true,
           "showland": true,
           "subunitcolor": "white"
          },
          "hoverlabel": {
           "align": "left"
          },
          "hovermode": "closest",
          "mapbox": {
           "style": "light"
          },
          "paper_bgcolor": "white",
          "plot_bgcolor": "#E5ECF6",
          "polar": {
           "angularaxis": {
            "gridcolor": "white",
            "linecolor": "white",
            "ticks": ""
           },
           "bgcolor": "#E5ECF6",
           "radialaxis": {
            "gridcolor": "white",
            "linecolor": "white",
            "ticks": ""
           }
          },
          "scene": {
           "xaxis": {
            "backgroundcolor": "#E5ECF6",
            "gridcolor": "white",
            "gridwidth": 2,
            "linecolor": "white",
            "showbackground": true,
            "ticks": "",
            "zerolinecolor": "white"
           },
           "yaxis": {
            "backgroundcolor": "#E5ECF6",
            "gridcolor": "white",
            "gridwidth": 2,
            "linecolor": "white",
            "showbackground": true,
            "ticks": "",
            "zerolinecolor": "white"
           },
           "zaxis": {
            "backgroundcolor": "#E5ECF6",
            "gridcolor": "white",
            "gridwidth": 2,
            "linecolor": "white",
            "showbackground": true,
            "ticks": "",
            "zerolinecolor": "white"
           }
          },
          "shapedefaults": {
           "line": {
            "color": "#2a3f5f"
           }
          },
          "ternary": {
           "aaxis": {
            "gridcolor": "white",
            "linecolor": "white",
            "ticks": ""
           },
           "baxis": {
            "gridcolor": "white",
            "linecolor": "white",
            "ticks": ""
           },
           "bgcolor": "#E5ECF6",
           "caxis": {
            "gridcolor": "white",
            "linecolor": "white",
            "ticks": ""
           }
          },
          "title": {
           "x": 0.05
          },
          "xaxis": {
           "automargin": true,
           "gridcolor": "white",
           "linecolor": "white",
           "ticks": "",
           "title": {
            "standoff": 15
           },
           "zerolinecolor": "white",
           "zerolinewidth": 2
          },
          "yaxis": {
           "automargin": true,
           "gridcolor": "white",
           "linecolor": "white",
           "ticks": "",
           "title": {
            "standoff": 15
           },
           "zerolinecolor": "white",
           "zerolinewidth": 2
          }
         }
        },
        "title": {
         "text": "Températures ressenties par Ville"
        },
        "xaxis": {
         "anchor": "y",
         "domain": [
          0,
          1
         ],
         "title": {
          "text": "Température ressentie (°C)"
         }
        },
        "yaxis": {
         "anchor": "x",
         "domain": [
          0,
          1
         ],
         "title": {
          "text": "Ville"
         }
        }
       }
      }
     },
     "metadata": {},
     "output_type": "display_data"
    }
   ],
   "source": [
    "df_sorted = bc.sort_values(by='feels_like', ascending=True)\n",
    "\n",
    "# Créer un diagramme en bâtons horizontal\n",
    "fig = px.bar(df_sorted, x='feels_like', y='cities', orientation='h',\n",
    "             title='Températures ressenties par Ville',\n",
    "             labels={'feels_like': 'Température ressentie (°C)', 'cities': 'Ville'})\n",
    "\n",
    "# Ajuster la hauteur du graphique\n",
    "fig.update_layout(height=800)\n",
    "\n",
    "# Afficher le diagramme\n",
    "fig.show()"
   ]
  },
  {
   "cell_type": "code",
   "execution_count": 103,
   "metadata": {},
   "outputs": [
    {
     "data": {
      "application/vnd.plotly.v1+json": {
       "config": {
        "plotlyServerURL": "https://plot.ly"
       },
       "data": [
        {
         "hovertemplate": "Indice UV=%{x}<br>Ville=%{y}<extra></extra>",
         "legendgroup": "",
         "marker": {
          "color": "#636efa",
          "pattern": {
           "shape": ""
          }
         },
         "name": "",
         "orientation": "h",
         "showlegend": false,
         "textposition": "auto",
         "type": "bar",
         "x": {
          "bdata": "MzMzMzMzwz/D9Shcj8LVP8P1KFyPwtU/ZmZmZmZm1j8K16NwPQrXPwAAAAAAAOA/pHA9Ctej4D+kcD0K16PgP6RwPQrXo+A/pHA9Ctej4D+kcD0K16PgP/YoXI/C9eA/MzMzMzMz4z9xPQrXo3DlP4XrUbgehes/hetRuB6F6z9I4XoUrkfxP0jhehSuR/E/H4XrUbge9T/Xo3A9Ctf7P5qZmZmZmf0/w/UoXI/C/T8UrkfhehQAQD0K16NwPQJAUrgehetRAkCamZmZmZkDQK5H4XoUrgNACtejcD0KBUBcj8L1KFwFQK5H4XoUrgVAKVyPwvUoBkAfhetRuB4HQLgehetRuAhA4XoUrkfhCEBcj8L1KFwJQA==",
          "dtype": "f8"
         },
         "xaxis": "x",
         "y": [
          "Montauban",
          "Besancon",
          "Toulouse",
          "Lyon",
          "Strasbourg",
          "Dijon",
          "Uzes",
          "Lille",
          "Chateau du Haut Koenigsbourg",
          "Colmar",
          "Eguisheim",
          "Grenoble",
          "Avignon",
          "Carcassonne",
          "Bayonne",
          "Annecy",
          "Aigues Mortes",
          "Nimes",
          "Biarritz",
          "Aix en Provence",
          "Amiens",
          "Collioure",
          "Paris",
          "Ariege",
          "Gorges du Verdon",
          "Bormes les Mimosas",
          "Saintes Maries de la mer",
          "Rouen",
          "Cassis",
          "Marseille",
          "Le Havre",
          "Bayeux",
          "Mont Saint Michel",
          "La Rochelle",
          "St Malo"
         ],
         "yaxis": "y"
        }
       ],
       "layout": {
        "barmode": "relative",
        "height": 800,
        "legend": {
         "tracegroupgap": 0
        },
        "template": {
         "data": {
          "bar": [
           {
            "error_x": {
             "color": "#2a3f5f"
            },
            "error_y": {
             "color": "#2a3f5f"
            },
            "marker": {
             "line": {
              "color": "#E5ECF6",
              "width": 0.5
             },
             "pattern": {
              "fillmode": "overlay",
              "size": 10,
              "solidity": 0.2
             }
            },
            "type": "bar"
           }
          ],
          "barpolar": [
           {
            "marker": {
             "line": {
              "color": "#E5ECF6",
              "width": 0.5
             },
             "pattern": {
              "fillmode": "overlay",
              "size": 10,
              "solidity": 0.2
             }
            },
            "type": "barpolar"
           }
          ],
          "carpet": [
           {
            "aaxis": {
             "endlinecolor": "#2a3f5f",
             "gridcolor": "white",
             "linecolor": "white",
             "minorgridcolor": "white",
             "startlinecolor": "#2a3f5f"
            },
            "baxis": {
             "endlinecolor": "#2a3f5f",
             "gridcolor": "white",
             "linecolor": "white",
             "minorgridcolor": "white",
             "startlinecolor": "#2a3f5f"
            },
            "type": "carpet"
           }
          ],
          "choropleth": [
           {
            "colorbar": {
             "outlinewidth": 0,
             "ticks": ""
            },
            "type": "choropleth"
           }
          ],
          "contour": [
           {
            "colorbar": {
             "outlinewidth": 0,
             "ticks": ""
            },
            "colorscale": [
             [
              0,
              "#0d0887"
             ],
             [
              0.1111111111111111,
              "#46039f"
             ],
             [
              0.2222222222222222,
              "#7201a8"
             ],
             [
              0.3333333333333333,
              "#9c179e"
             ],
             [
              0.4444444444444444,
              "#bd3786"
             ],
             [
              0.5555555555555556,
              "#d8576b"
             ],
             [
              0.6666666666666666,
              "#ed7953"
             ],
             [
              0.7777777777777778,
              "#fb9f3a"
             ],
             [
              0.8888888888888888,
              "#fdca26"
             ],
             [
              1,
              "#f0f921"
             ]
            ],
            "type": "contour"
           }
          ],
          "contourcarpet": [
           {
            "colorbar": {
             "outlinewidth": 0,
             "ticks": ""
            },
            "type": "contourcarpet"
           }
          ],
          "heatmap": [
           {
            "colorbar": {
             "outlinewidth": 0,
             "ticks": ""
            },
            "colorscale": [
             [
              0,
              "#0d0887"
             ],
             [
              0.1111111111111111,
              "#46039f"
             ],
             [
              0.2222222222222222,
              "#7201a8"
             ],
             [
              0.3333333333333333,
              "#9c179e"
             ],
             [
              0.4444444444444444,
              "#bd3786"
             ],
             [
              0.5555555555555556,
              "#d8576b"
             ],
             [
              0.6666666666666666,
              "#ed7953"
             ],
             [
              0.7777777777777778,
              "#fb9f3a"
             ],
             [
              0.8888888888888888,
              "#fdca26"
             ],
             [
              1,
              "#f0f921"
             ]
            ],
            "type": "heatmap"
           }
          ],
          "histogram": [
           {
            "marker": {
             "pattern": {
              "fillmode": "overlay",
              "size": 10,
              "solidity": 0.2
             }
            },
            "type": "histogram"
           }
          ],
          "histogram2d": [
           {
            "colorbar": {
             "outlinewidth": 0,
             "ticks": ""
            },
            "colorscale": [
             [
              0,
              "#0d0887"
             ],
             [
              0.1111111111111111,
              "#46039f"
             ],
             [
              0.2222222222222222,
              "#7201a8"
             ],
             [
              0.3333333333333333,
              "#9c179e"
             ],
             [
              0.4444444444444444,
              "#bd3786"
             ],
             [
              0.5555555555555556,
              "#d8576b"
             ],
             [
              0.6666666666666666,
              "#ed7953"
             ],
             [
              0.7777777777777778,
              "#fb9f3a"
             ],
             [
              0.8888888888888888,
              "#fdca26"
             ],
             [
              1,
              "#f0f921"
             ]
            ],
            "type": "histogram2d"
           }
          ],
          "histogram2dcontour": [
           {
            "colorbar": {
             "outlinewidth": 0,
             "ticks": ""
            },
            "colorscale": [
             [
              0,
              "#0d0887"
             ],
             [
              0.1111111111111111,
              "#46039f"
             ],
             [
              0.2222222222222222,
              "#7201a8"
             ],
             [
              0.3333333333333333,
              "#9c179e"
             ],
             [
              0.4444444444444444,
              "#bd3786"
             ],
             [
              0.5555555555555556,
              "#d8576b"
             ],
             [
              0.6666666666666666,
              "#ed7953"
             ],
             [
              0.7777777777777778,
              "#fb9f3a"
             ],
             [
              0.8888888888888888,
              "#fdca26"
             ],
             [
              1,
              "#f0f921"
             ]
            ],
            "type": "histogram2dcontour"
           }
          ],
          "mesh3d": [
           {
            "colorbar": {
             "outlinewidth": 0,
             "ticks": ""
            },
            "type": "mesh3d"
           }
          ],
          "parcoords": [
           {
            "line": {
             "colorbar": {
              "outlinewidth": 0,
              "ticks": ""
             }
            },
            "type": "parcoords"
           }
          ],
          "pie": [
           {
            "automargin": true,
            "type": "pie"
           }
          ],
          "scatter": [
           {
            "fillpattern": {
             "fillmode": "overlay",
             "size": 10,
             "solidity": 0.2
            },
            "type": "scatter"
           }
          ],
          "scatter3d": [
           {
            "line": {
             "colorbar": {
              "outlinewidth": 0,
              "ticks": ""
             }
            },
            "marker": {
             "colorbar": {
              "outlinewidth": 0,
              "ticks": ""
             }
            },
            "type": "scatter3d"
           }
          ],
          "scattercarpet": [
           {
            "marker": {
             "colorbar": {
              "outlinewidth": 0,
              "ticks": ""
             }
            },
            "type": "scattercarpet"
           }
          ],
          "scattergeo": [
           {
            "marker": {
             "colorbar": {
              "outlinewidth": 0,
              "ticks": ""
             }
            },
            "type": "scattergeo"
           }
          ],
          "scattergl": [
           {
            "marker": {
             "colorbar": {
              "outlinewidth": 0,
              "ticks": ""
             }
            },
            "type": "scattergl"
           }
          ],
          "scattermap": [
           {
            "marker": {
             "colorbar": {
              "outlinewidth": 0,
              "ticks": ""
             }
            },
            "type": "scattermap"
           }
          ],
          "scattermapbox": [
           {
            "marker": {
             "colorbar": {
              "outlinewidth": 0,
              "ticks": ""
             }
            },
            "type": "scattermapbox"
           }
          ],
          "scatterpolar": [
           {
            "marker": {
             "colorbar": {
              "outlinewidth": 0,
              "ticks": ""
             }
            },
            "type": "scatterpolar"
           }
          ],
          "scatterpolargl": [
           {
            "marker": {
             "colorbar": {
              "outlinewidth": 0,
              "ticks": ""
             }
            },
            "type": "scatterpolargl"
           }
          ],
          "scatterternary": [
           {
            "marker": {
             "colorbar": {
              "outlinewidth": 0,
              "ticks": ""
             }
            },
            "type": "scatterternary"
           }
          ],
          "surface": [
           {
            "colorbar": {
             "outlinewidth": 0,
             "ticks": ""
            },
            "colorscale": [
             [
              0,
              "#0d0887"
             ],
             [
              0.1111111111111111,
              "#46039f"
             ],
             [
              0.2222222222222222,
              "#7201a8"
             ],
             [
              0.3333333333333333,
              "#9c179e"
             ],
             [
              0.4444444444444444,
              "#bd3786"
             ],
             [
              0.5555555555555556,
              "#d8576b"
             ],
             [
              0.6666666666666666,
              "#ed7953"
             ],
             [
              0.7777777777777778,
              "#fb9f3a"
             ],
             [
              0.8888888888888888,
              "#fdca26"
             ],
             [
              1,
              "#f0f921"
             ]
            ],
            "type": "surface"
           }
          ],
          "table": [
           {
            "cells": {
             "fill": {
              "color": "#EBF0F8"
             },
             "line": {
              "color": "white"
             }
            },
            "header": {
             "fill": {
              "color": "#C8D4E3"
             },
             "line": {
              "color": "white"
             }
            },
            "type": "table"
           }
          ]
         },
         "layout": {
          "annotationdefaults": {
           "arrowcolor": "#2a3f5f",
           "arrowhead": 0,
           "arrowwidth": 1
          },
          "autotypenumbers": "strict",
          "coloraxis": {
           "colorbar": {
            "outlinewidth": 0,
            "ticks": ""
           }
          },
          "colorscale": {
           "diverging": [
            [
             0,
             "#8e0152"
            ],
            [
             0.1,
             "#c51b7d"
            ],
            [
             0.2,
             "#de77ae"
            ],
            [
             0.3,
             "#f1b6da"
            ],
            [
             0.4,
             "#fde0ef"
            ],
            [
             0.5,
             "#f7f7f7"
            ],
            [
             0.6,
             "#e6f5d0"
            ],
            [
             0.7,
             "#b8e186"
            ],
            [
             0.8,
             "#7fbc41"
            ],
            [
             0.9,
             "#4d9221"
            ],
            [
             1,
             "#276419"
            ]
           ],
           "sequential": [
            [
             0,
             "#0d0887"
            ],
            [
             0.1111111111111111,
             "#46039f"
            ],
            [
             0.2222222222222222,
             "#7201a8"
            ],
            [
             0.3333333333333333,
             "#9c179e"
            ],
            [
             0.4444444444444444,
             "#bd3786"
            ],
            [
             0.5555555555555556,
             "#d8576b"
            ],
            [
             0.6666666666666666,
             "#ed7953"
            ],
            [
             0.7777777777777778,
             "#fb9f3a"
            ],
            [
             0.8888888888888888,
             "#fdca26"
            ],
            [
             1,
             "#f0f921"
            ]
           ],
           "sequentialminus": [
            [
             0,
             "#0d0887"
            ],
            [
             0.1111111111111111,
             "#46039f"
            ],
            [
             0.2222222222222222,
             "#7201a8"
            ],
            [
             0.3333333333333333,
             "#9c179e"
            ],
            [
             0.4444444444444444,
             "#bd3786"
            ],
            [
             0.5555555555555556,
             "#d8576b"
            ],
            [
             0.6666666666666666,
             "#ed7953"
            ],
            [
             0.7777777777777778,
             "#fb9f3a"
            ],
            [
             0.8888888888888888,
             "#fdca26"
            ],
            [
             1,
             "#f0f921"
            ]
           ]
          },
          "colorway": [
           "#636efa",
           "#EF553B",
           "#00cc96",
           "#ab63fa",
           "#FFA15A",
           "#19d3f3",
           "#FF6692",
           "#B6E880",
           "#FF97FF",
           "#FECB52"
          ],
          "font": {
           "color": "#2a3f5f"
          },
          "geo": {
           "bgcolor": "white",
           "lakecolor": "white",
           "landcolor": "#E5ECF6",
           "showlakes": true,
           "showland": true,
           "subunitcolor": "white"
          },
          "hoverlabel": {
           "align": "left"
          },
          "hovermode": "closest",
          "mapbox": {
           "style": "light"
          },
          "paper_bgcolor": "white",
          "plot_bgcolor": "#E5ECF6",
          "polar": {
           "angularaxis": {
            "gridcolor": "white",
            "linecolor": "white",
            "ticks": ""
           },
           "bgcolor": "#E5ECF6",
           "radialaxis": {
            "gridcolor": "white",
            "linecolor": "white",
            "ticks": ""
           }
          },
          "scene": {
           "xaxis": {
            "backgroundcolor": "#E5ECF6",
            "gridcolor": "white",
            "gridwidth": 2,
            "linecolor": "white",
            "showbackground": true,
            "ticks": "",
            "zerolinecolor": "white"
           },
           "yaxis": {
            "backgroundcolor": "#E5ECF6",
            "gridcolor": "white",
            "gridwidth": 2,
            "linecolor": "white",
            "showbackground": true,
            "ticks": "",
            "zerolinecolor": "white"
           },
           "zaxis": {
            "backgroundcolor": "#E5ECF6",
            "gridcolor": "white",
            "gridwidth": 2,
            "linecolor": "white",
            "showbackground": true,
            "ticks": "",
            "zerolinecolor": "white"
           }
          },
          "shapedefaults": {
           "line": {
            "color": "#2a3f5f"
           }
          },
          "ternary": {
           "aaxis": {
            "gridcolor": "white",
            "linecolor": "white",
            "ticks": ""
           },
           "baxis": {
            "gridcolor": "white",
            "linecolor": "white",
            "ticks": ""
           },
           "bgcolor": "#E5ECF6",
           "caxis": {
            "gridcolor": "white",
            "linecolor": "white",
            "ticks": ""
           }
          },
          "title": {
           "x": 0.05
          },
          "xaxis": {
           "automargin": true,
           "gridcolor": "white",
           "linecolor": "white",
           "ticks": "",
           "title": {
            "standoff": 15
           },
           "zerolinecolor": "white",
           "zerolinewidth": 2
          },
          "yaxis": {
           "automargin": true,
           "gridcolor": "white",
           "linecolor": "white",
           "ticks": "",
           "title": {
            "standoff": 15
           },
           "zerolinecolor": "white",
           "zerolinewidth": 2
          }
         }
        },
        "title": {
         "text": "indices UV par Ville"
        },
        "xaxis": {
         "anchor": "y",
         "domain": [
          0,
          1
         ],
         "title": {
          "text": "Indice UV"
         }
        },
        "yaxis": {
         "anchor": "x",
         "domain": [
          0,
          1
         ],
         "title": {
          "text": "Ville"
         }
        }
       }
      }
     },
     "metadata": {},
     "output_type": "display_data"
    }
   ],
   "source": [
    "df_sorted = bc.sort_values(by='uvi', ascending=True)\n",
    "\n",
    "# Créer un diagramme en bâtons horizontal\n",
    "fig = px.bar(df_sorted, x='uvi', y='cities', orientation='h',\n",
    "             title='indices UV par Ville',\n",
    "             labels={'uvi': 'Indice UV', 'cities': 'Ville'})\n",
    "\n",
    "# Ajuster la hauteur du graphique\n",
    "fig.update_layout(height=800)\n",
    "\n",
    "# Afficher le diagramme\n",
    "fig.show()"
   ]
  },
  {
   "cell_type": "code",
   "execution_count": 104,
   "metadata": {},
   "outputs": [
    {
     "data": {
      "application/vnd.plotly.v1+json": {
       "config": {
        "plotlyServerURL": "https://plot.ly"
       },
       "data": [
        {
         "hovertemplate": "Humidité=%{x}<br>Ville=%{y}<extra></extra>",
         "legendgroup": "",
         "marker": {
          "color": "#636efa",
          "pattern": {
           "shape": ""
          }
         },
         "name": "",
         "orientation": "h",
         "showlegend": false,
         "textposition": "auto",
         "type": "bar",
         "x": {
          "bdata": "AAAAAACAV0AAAAAAAIBXQAAAAAAAgFZAAAAAAABAVkAAAAAAAMBVQAAAAAAAAFVAAAAAAADAVEAAAAAAAIBUQAAAAAAAgFRAAAAAAACAVEAAAAAAAIBUQAAAAAAAgFRAAAAAAACAVEAAAAAAAEBUQAAAAAAAwFNAAAAAAADAUkAAAAAAAABSQAAAAAAAAFJAAAAAAAAAUkAAAAAAAABSQAAAAAAAgFBAAAAAAABAUEAAAAAAAIBPQAAAAAAAgE9AAAAAAAAAT0AAAAAAAABNQAAAAAAAAEtAAAAAAACASkAAAAAAAABKQAAAAAAAAEpAAAAAAAAASUAAAAAAAABJQAAAAAAAgEhAAAAAAAAASEAAAAAAAIBGQA==",
          "dtype": "f8"
         },
         "xaxis": "x",
         "y": [
          "Biarritz",
          "Bayonne",
          "Lyon",
          "Besancon",
          "Montauban",
          "La Rochelle",
          "Grenoble",
          "Dijon",
          "Le Havre",
          "Paris",
          "Strasbourg",
          "St Malo",
          "Annecy",
          "Mont Saint Michel",
          "Amiens",
          "Bayeux",
          "Eguisheim",
          "Colmar",
          "Chateau du Haut Koenigsbourg",
          "Toulouse",
          "Rouen",
          "Ariege",
          "Carcassonne",
          "Uzes",
          "Lille",
          "Gorges du Verdon",
          "Saintes Maries de la mer",
          "Bormes les Mimosas",
          "Nimes",
          "Avignon",
          "Marseille",
          "Cassis",
          "Collioure",
          "Aix en Provence",
          "Aigues Mortes"
         ],
         "yaxis": "y"
        }
       ],
       "layout": {
        "barmode": "relative",
        "height": 800,
        "legend": {
         "tracegroupgap": 0
        },
        "template": {
         "data": {
          "bar": [
           {
            "error_x": {
             "color": "#2a3f5f"
            },
            "error_y": {
             "color": "#2a3f5f"
            },
            "marker": {
             "line": {
              "color": "#E5ECF6",
              "width": 0.5
             },
             "pattern": {
              "fillmode": "overlay",
              "size": 10,
              "solidity": 0.2
             }
            },
            "type": "bar"
           }
          ],
          "barpolar": [
           {
            "marker": {
             "line": {
              "color": "#E5ECF6",
              "width": 0.5
             },
             "pattern": {
              "fillmode": "overlay",
              "size": 10,
              "solidity": 0.2
             }
            },
            "type": "barpolar"
           }
          ],
          "carpet": [
           {
            "aaxis": {
             "endlinecolor": "#2a3f5f",
             "gridcolor": "white",
             "linecolor": "white",
             "minorgridcolor": "white",
             "startlinecolor": "#2a3f5f"
            },
            "baxis": {
             "endlinecolor": "#2a3f5f",
             "gridcolor": "white",
             "linecolor": "white",
             "minorgridcolor": "white",
             "startlinecolor": "#2a3f5f"
            },
            "type": "carpet"
           }
          ],
          "choropleth": [
           {
            "colorbar": {
             "outlinewidth": 0,
             "ticks": ""
            },
            "type": "choropleth"
           }
          ],
          "contour": [
           {
            "colorbar": {
             "outlinewidth": 0,
             "ticks": ""
            },
            "colorscale": [
             [
              0,
              "#0d0887"
             ],
             [
              0.1111111111111111,
              "#46039f"
             ],
             [
              0.2222222222222222,
              "#7201a8"
             ],
             [
              0.3333333333333333,
              "#9c179e"
             ],
             [
              0.4444444444444444,
              "#bd3786"
             ],
             [
              0.5555555555555556,
              "#d8576b"
             ],
             [
              0.6666666666666666,
              "#ed7953"
             ],
             [
              0.7777777777777778,
              "#fb9f3a"
             ],
             [
              0.8888888888888888,
              "#fdca26"
             ],
             [
              1,
              "#f0f921"
             ]
            ],
            "type": "contour"
           }
          ],
          "contourcarpet": [
           {
            "colorbar": {
             "outlinewidth": 0,
             "ticks": ""
            },
            "type": "contourcarpet"
           }
          ],
          "heatmap": [
           {
            "colorbar": {
             "outlinewidth": 0,
             "ticks": ""
            },
            "colorscale": [
             [
              0,
              "#0d0887"
             ],
             [
              0.1111111111111111,
              "#46039f"
             ],
             [
              0.2222222222222222,
              "#7201a8"
             ],
             [
              0.3333333333333333,
              "#9c179e"
             ],
             [
              0.4444444444444444,
              "#bd3786"
             ],
             [
              0.5555555555555556,
              "#d8576b"
             ],
             [
              0.6666666666666666,
              "#ed7953"
             ],
             [
              0.7777777777777778,
              "#fb9f3a"
             ],
             [
              0.8888888888888888,
              "#fdca26"
             ],
             [
              1,
              "#f0f921"
             ]
            ],
            "type": "heatmap"
           }
          ],
          "histogram": [
           {
            "marker": {
             "pattern": {
              "fillmode": "overlay",
              "size": 10,
              "solidity": 0.2
             }
            },
            "type": "histogram"
           }
          ],
          "histogram2d": [
           {
            "colorbar": {
             "outlinewidth": 0,
             "ticks": ""
            },
            "colorscale": [
             [
              0,
              "#0d0887"
             ],
             [
              0.1111111111111111,
              "#46039f"
             ],
             [
              0.2222222222222222,
              "#7201a8"
             ],
             [
              0.3333333333333333,
              "#9c179e"
             ],
             [
              0.4444444444444444,
              "#bd3786"
             ],
             [
              0.5555555555555556,
              "#d8576b"
             ],
             [
              0.6666666666666666,
              "#ed7953"
             ],
             [
              0.7777777777777778,
              "#fb9f3a"
             ],
             [
              0.8888888888888888,
              "#fdca26"
             ],
             [
              1,
              "#f0f921"
             ]
            ],
            "type": "histogram2d"
           }
          ],
          "histogram2dcontour": [
           {
            "colorbar": {
             "outlinewidth": 0,
             "ticks": ""
            },
            "colorscale": [
             [
              0,
              "#0d0887"
             ],
             [
              0.1111111111111111,
              "#46039f"
             ],
             [
              0.2222222222222222,
              "#7201a8"
             ],
             [
              0.3333333333333333,
              "#9c179e"
             ],
             [
              0.4444444444444444,
              "#bd3786"
             ],
             [
              0.5555555555555556,
              "#d8576b"
             ],
             [
              0.6666666666666666,
              "#ed7953"
             ],
             [
              0.7777777777777778,
              "#fb9f3a"
             ],
             [
              0.8888888888888888,
              "#fdca26"
             ],
             [
              1,
              "#f0f921"
             ]
            ],
            "type": "histogram2dcontour"
           }
          ],
          "mesh3d": [
           {
            "colorbar": {
             "outlinewidth": 0,
             "ticks": ""
            },
            "type": "mesh3d"
           }
          ],
          "parcoords": [
           {
            "line": {
             "colorbar": {
              "outlinewidth": 0,
              "ticks": ""
             }
            },
            "type": "parcoords"
           }
          ],
          "pie": [
           {
            "automargin": true,
            "type": "pie"
           }
          ],
          "scatter": [
           {
            "fillpattern": {
             "fillmode": "overlay",
             "size": 10,
             "solidity": 0.2
            },
            "type": "scatter"
           }
          ],
          "scatter3d": [
           {
            "line": {
             "colorbar": {
              "outlinewidth": 0,
              "ticks": ""
             }
            },
            "marker": {
             "colorbar": {
              "outlinewidth": 0,
              "ticks": ""
             }
            },
            "type": "scatter3d"
           }
          ],
          "scattercarpet": [
           {
            "marker": {
             "colorbar": {
              "outlinewidth": 0,
              "ticks": ""
             }
            },
            "type": "scattercarpet"
           }
          ],
          "scattergeo": [
           {
            "marker": {
             "colorbar": {
              "outlinewidth": 0,
              "ticks": ""
             }
            },
            "type": "scattergeo"
           }
          ],
          "scattergl": [
           {
            "marker": {
             "colorbar": {
              "outlinewidth": 0,
              "ticks": ""
             }
            },
            "type": "scattergl"
           }
          ],
          "scattermap": [
           {
            "marker": {
             "colorbar": {
              "outlinewidth": 0,
              "ticks": ""
             }
            },
            "type": "scattermap"
           }
          ],
          "scattermapbox": [
           {
            "marker": {
             "colorbar": {
              "outlinewidth": 0,
              "ticks": ""
             }
            },
            "type": "scattermapbox"
           }
          ],
          "scatterpolar": [
           {
            "marker": {
             "colorbar": {
              "outlinewidth": 0,
              "ticks": ""
             }
            },
            "type": "scatterpolar"
           }
          ],
          "scatterpolargl": [
           {
            "marker": {
             "colorbar": {
              "outlinewidth": 0,
              "ticks": ""
             }
            },
            "type": "scatterpolargl"
           }
          ],
          "scatterternary": [
           {
            "marker": {
             "colorbar": {
              "outlinewidth": 0,
              "ticks": ""
             }
            },
            "type": "scatterternary"
           }
          ],
          "surface": [
           {
            "colorbar": {
             "outlinewidth": 0,
             "ticks": ""
            },
            "colorscale": [
             [
              0,
              "#0d0887"
             ],
             [
              0.1111111111111111,
              "#46039f"
             ],
             [
              0.2222222222222222,
              "#7201a8"
             ],
             [
              0.3333333333333333,
              "#9c179e"
             ],
             [
              0.4444444444444444,
              "#bd3786"
             ],
             [
              0.5555555555555556,
              "#d8576b"
             ],
             [
              0.6666666666666666,
              "#ed7953"
             ],
             [
              0.7777777777777778,
              "#fb9f3a"
             ],
             [
              0.8888888888888888,
              "#fdca26"
             ],
             [
              1,
              "#f0f921"
             ]
            ],
            "type": "surface"
           }
          ],
          "table": [
           {
            "cells": {
             "fill": {
              "color": "#EBF0F8"
             },
             "line": {
              "color": "white"
             }
            },
            "header": {
             "fill": {
              "color": "#C8D4E3"
             },
             "line": {
              "color": "white"
             }
            },
            "type": "table"
           }
          ]
         },
         "layout": {
          "annotationdefaults": {
           "arrowcolor": "#2a3f5f",
           "arrowhead": 0,
           "arrowwidth": 1
          },
          "autotypenumbers": "strict",
          "coloraxis": {
           "colorbar": {
            "outlinewidth": 0,
            "ticks": ""
           }
          },
          "colorscale": {
           "diverging": [
            [
             0,
             "#8e0152"
            ],
            [
             0.1,
             "#c51b7d"
            ],
            [
             0.2,
             "#de77ae"
            ],
            [
             0.3,
             "#f1b6da"
            ],
            [
             0.4,
             "#fde0ef"
            ],
            [
             0.5,
             "#f7f7f7"
            ],
            [
             0.6,
             "#e6f5d0"
            ],
            [
             0.7,
             "#b8e186"
            ],
            [
             0.8,
             "#7fbc41"
            ],
            [
             0.9,
             "#4d9221"
            ],
            [
             1,
             "#276419"
            ]
           ],
           "sequential": [
            [
             0,
             "#0d0887"
            ],
            [
             0.1111111111111111,
             "#46039f"
            ],
            [
             0.2222222222222222,
             "#7201a8"
            ],
            [
             0.3333333333333333,
             "#9c179e"
            ],
            [
             0.4444444444444444,
             "#bd3786"
            ],
            [
             0.5555555555555556,
             "#d8576b"
            ],
            [
             0.6666666666666666,
             "#ed7953"
            ],
            [
             0.7777777777777778,
             "#fb9f3a"
            ],
            [
             0.8888888888888888,
             "#fdca26"
            ],
            [
             1,
             "#f0f921"
            ]
           ],
           "sequentialminus": [
            [
             0,
             "#0d0887"
            ],
            [
             0.1111111111111111,
             "#46039f"
            ],
            [
             0.2222222222222222,
             "#7201a8"
            ],
            [
             0.3333333333333333,
             "#9c179e"
            ],
            [
             0.4444444444444444,
             "#bd3786"
            ],
            [
             0.5555555555555556,
             "#d8576b"
            ],
            [
             0.6666666666666666,
             "#ed7953"
            ],
            [
             0.7777777777777778,
             "#fb9f3a"
            ],
            [
             0.8888888888888888,
             "#fdca26"
            ],
            [
             1,
             "#f0f921"
            ]
           ]
          },
          "colorway": [
           "#636efa",
           "#EF553B",
           "#00cc96",
           "#ab63fa",
           "#FFA15A",
           "#19d3f3",
           "#FF6692",
           "#B6E880",
           "#FF97FF",
           "#FECB52"
          ],
          "font": {
           "color": "#2a3f5f"
          },
          "geo": {
           "bgcolor": "white",
           "lakecolor": "white",
           "landcolor": "#E5ECF6",
           "showlakes": true,
           "showland": true,
           "subunitcolor": "white"
          },
          "hoverlabel": {
           "align": "left"
          },
          "hovermode": "closest",
          "mapbox": {
           "style": "light"
          },
          "paper_bgcolor": "white",
          "plot_bgcolor": "#E5ECF6",
          "polar": {
           "angularaxis": {
            "gridcolor": "white",
            "linecolor": "white",
            "ticks": ""
           },
           "bgcolor": "#E5ECF6",
           "radialaxis": {
            "gridcolor": "white",
            "linecolor": "white",
            "ticks": ""
           }
          },
          "scene": {
           "xaxis": {
            "backgroundcolor": "#E5ECF6",
            "gridcolor": "white",
            "gridwidth": 2,
            "linecolor": "white",
            "showbackground": true,
            "ticks": "",
            "zerolinecolor": "white"
           },
           "yaxis": {
            "backgroundcolor": "#E5ECF6",
            "gridcolor": "white",
            "gridwidth": 2,
            "linecolor": "white",
            "showbackground": true,
            "ticks": "",
            "zerolinecolor": "white"
           },
           "zaxis": {
            "backgroundcolor": "#E5ECF6",
            "gridcolor": "white",
            "gridwidth": 2,
            "linecolor": "white",
            "showbackground": true,
            "ticks": "",
            "zerolinecolor": "white"
           }
          },
          "shapedefaults": {
           "line": {
            "color": "#2a3f5f"
           }
          },
          "ternary": {
           "aaxis": {
            "gridcolor": "white",
            "linecolor": "white",
            "ticks": ""
           },
           "baxis": {
            "gridcolor": "white",
            "linecolor": "white",
            "ticks": ""
           },
           "bgcolor": "#E5ECF6",
           "caxis": {
            "gridcolor": "white",
            "linecolor": "white",
            "ticks": ""
           }
          },
          "title": {
           "x": 0.05
          },
          "xaxis": {
           "automargin": true,
           "gridcolor": "white",
           "linecolor": "white",
           "ticks": "",
           "title": {
            "standoff": 15
           },
           "zerolinecolor": "white",
           "zerolinewidth": 2
          },
          "yaxis": {
           "automargin": true,
           "gridcolor": "white",
           "linecolor": "white",
           "ticks": "",
           "title": {
            "standoff": 15
           },
           "zerolinecolor": "white",
           "zerolinewidth": 2
          }
         }
        },
        "title": {
         "text": "Humidité par Ville"
        },
        "xaxis": {
         "anchor": "y",
         "domain": [
          0,
          1
         ],
         "title": {
          "text": "Humidité"
         }
        },
        "yaxis": {
         "anchor": "x",
         "domain": [
          0,
          1
         ],
         "title": {
          "text": "Ville"
         }
        }
       }
      }
     },
     "metadata": {},
     "output_type": "display_data"
    }
   ],
   "source": [
    "df_sorted = bc.sort_values(by='humidity', ascending=False)\n",
    "\n",
    "# Créer un diagramme en bâtons horizontal\n",
    "fig = px.bar(df_sorted, x='humidity', y='cities', orientation='h',\n",
    "             title='Humidité par Ville',\n",
    "             labels={'humidity': 'Humidité', 'cities': 'Ville'})\n",
    "\n",
    "# Ajuster la hauteur du graphique\n",
    "fig.update_layout(height=800)\n",
    "\n",
    "# Afficher le diagramme\n",
    "fig.show()"
   ]
  },
  {
   "cell_type": "code",
   "execution_count": 105,
   "metadata": {},
   "outputs": [
    {
     "data": {
      "application/vnd.plotly.v1+json": {
       "config": {
        "plotlyServerURL": "https://plot.ly"
       },
       "data": [
        {
         "hovertemplate": "wind_speed=%{x}<br>Ville=%{y}<extra></extra>",
         "legendgroup": "",
         "marker": {
          "color": "#636efa",
          "pattern": {
           "shape": ""
          }
         },
         "name": "",
         "orientation": "h",
         "showlegend": false,
         "textposition": "auto",
         "type": "bar",
         "x": {
          "bdata": "UrgehevRJkAUrkfhepQkQK5H4XoUriNA9ihcj8J1IED2KFyPwnUgQHE9CtejcCBAPQrXo3A9H0DhehSuR+EeQM3MzMzMzBxAzczMzMzMHEDNzMzMzMwcQMP1KFyPwhpAMzMzMzMzGkCuR+F6FK4YQEjhehSuRxdApHA9CtejFkCkcD0K16MWQI/C9ShcjxRAj8L1KFyPFECPwvUoXI8UQPYoXI/C9RNA4XoUrkfhEkB7FK5H4XoQQClcj8L1KA5ApHA9CtejDECkcD0K16MMQKRwPQrXowxAuB6F61G4CEC4HoXrUbgIQLgehetRuAhAuB6F61G4CECamZmZmZkDQOxRuB6F6wFAPQrXo3A9/j89CtejcD36Pw==",
          "dtype": "f8"
         },
         "xaxis": "x",
         "y": [
          "Saintes Maries de la mer",
          "La Rochelle",
          "Cassis",
          "Toulouse",
          "St Malo",
          "Montauban",
          "Mont Saint Michel",
          "Marseille",
          "Dijon",
          "Carcassonne",
          "Avignon",
          "Aigues Mortes",
          "Gorges du Verdon",
          "Rouen",
          "Bayeux",
          "Le Havre",
          "Paris",
          "Annecy",
          "Bayonne",
          "Biarritz",
          "Uzes",
          "Strasbourg",
          "Nimes",
          "Besancon",
          "Bormes les Mimosas",
          "Aix en Provence",
          "Lyon",
          "Chateau du Haut Koenigsbourg",
          "Colmar",
          "Eguisheim",
          "Lille",
          "Ariege",
          "Grenoble",
          "Amiens",
          "Collioure"
         ],
         "yaxis": "y"
        }
       ],
       "layout": {
        "barmode": "relative",
        "height": 800,
        "legend": {
         "tracegroupgap": 0
        },
        "template": {
         "data": {
          "bar": [
           {
            "error_x": {
             "color": "#2a3f5f"
            },
            "error_y": {
             "color": "#2a3f5f"
            },
            "marker": {
             "line": {
              "color": "#E5ECF6",
              "width": 0.5
             },
             "pattern": {
              "fillmode": "overlay",
              "size": 10,
              "solidity": 0.2
             }
            },
            "type": "bar"
           }
          ],
          "barpolar": [
           {
            "marker": {
             "line": {
              "color": "#E5ECF6",
              "width": 0.5
             },
             "pattern": {
              "fillmode": "overlay",
              "size": 10,
              "solidity": 0.2
             }
            },
            "type": "barpolar"
           }
          ],
          "carpet": [
           {
            "aaxis": {
             "endlinecolor": "#2a3f5f",
             "gridcolor": "white",
             "linecolor": "white",
             "minorgridcolor": "white",
             "startlinecolor": "#2a3f5f"
            },
            "baxis": {
             "endlinecolor": "#2a3f5f",
             "gridcolor": "white",
             "linecolor": "white",
             "minorgridcolor": "white",
             "startlinecolor": "#2a3f5f"
            },
            "type": "carpet"
           }
          ],
          "choropleth": [
           {
            "colorbar": {
             "outlinewidth": 0,
             "ticks": ""
            },
            "type": "choropleth"
           }
          ],
          "contour": [
           {
            "colorbar": {
             "outlinewidth": 0,
             "ticks": ""
            },
            "colorscale": [
             [
              0,
              "#0d0887"
             ],
             [
              0.1111111111111111,
              "#46039f"
             ],
             [
              0.2222222222222222,
              "#7201a8"
             ],
             [
              0.3333333333333333,
              "#9c179e"
             ],
             [
              0.4444444444444444,
              "#bd3786"
             ],
             [
              0.5555555555555556,
              "#d8576b"
             ],
             [
              0.6666666666666666,
              "#ed7953"
             ],
             [
              0.7777777777777778,
              "#fb9f3a"
             ],
             [
              0.8888888888888888,
              "#fdca26"
             ],
             [
              1,
              "#f0f921"
             ]
            ],
            "type": "contour"
           }
          ],
          "contourcarpet": [
           {
            "colorbar": {
             "outlinewidth": 0,
             "ticks": ""
            },
            "type": "contourcarpet"
           }
          ],
          "heatmap": [
           {
            "colorbar": {
             "outlinewidth": 0,
             "ticks": ""
            },
            "colorscale": [
             [
              0,
              "#0d0887"
             ],
             [
              0.1111111111111111,
              "#46039f"
             ],
             [
              0.2222222222222222,
              "#7201a8"
             ],
             [
              0.3333333333333333,
              "#9c179e"
             ],
             [
              0.4444444444444444,
              "#bd3786"
             ],
             [
              0.5555555555555556,
              "#d8576b"
             ],
             [
              0.6666666666666666,
              "#ed7953"
             ],
             [
              0.7777777777777778,
              "#fb9f3a"
             ],
             [
              0.8888888888888888,
              "#fdca26"
             ],
             [
              1,
              "#f0f921"
             ]
            ],
            "type": "heatmap"
           }
          ],
          "histogram": [
           {
            "marker": {
             "pattern": {
              "fillmode": "overlay",
              "size": 10,
              "solidity": 0.2
             }
            },
            "type": "histogram"
           }
          ],
          "histogram2d": [
           {
            "colorbar": {
             "outlinewidth": 0,
             "ticks": ""
            },
            "colorscale": [
             [
              0,
              "#0d0887"
             ],
             [
              0.1111111111111111,
              "#46039f"
             ],
             [
              0.2222222222222222,
              "#7201a8"
             ],
             [
              0.3333333333333333,
              "#9c179e"
             ],
             [
              0.4444444444444444,
              "#bd3786"
             ],
             [
              0.5555555555555556,
              "#d8576b"
             ],
             [
              0.6666666666666666,
              "#ed7953"
             ],
             [
              0.7777777777777778,
              "#fb9f3a"
             ],
             [
              0.8888888888888888,
              "#fdca26"
             ],
             [
              1,
              "#f0f921"
             ]
            ],
            "type": "histogram2d"
           }
          ],
          "histogram2dcontour": [
           {
            "colorbar": {
             "outlinewidth": 0,
             "ticks": ""
            },
            "colorscale": [
             [
              0,
              "#0d0887"
             ],
             [
              0.1111111111111111,
              "#46039f"
             ],
             [
              0.2222222222222222,
              "#7201a8"
             ],
             [
              0.3333333333333333,
              "#9c179e"
             ],
             [
              0.4444444444444444,
              "#bd3786"
             ],
             [
              0.5555555555555556,
              "#d8576b"
             ],
             [
              0.6666666666666666,
              "#ed7953"
             ],
             [
              0.7777777777777778,
              "#fb9f3a"
             ],
             [
              0.8888888888888888,
              "#fdca26"
             ],
             [
              1,
              "#f0f921"
             ]
            ],
            "type": "histogram2dcontour"
           }
          ],
          "mesh3d": [
           {
            "colorbar": {
             "outlinewidth": 0,
             "ticks": ""
            },
            "type": "mesh3d"
           }
          ],
          "parcoords": [
           {
            "line": {
             "colorbar": {
              "outlinewidth": 0,
              "ticks": ""
             }
            },
            "type": "parcoords"
           }
          ],
          "pie": [
           {
            "automargin": true,
            "type": "pie"
           }
          ],
          "scatter": [
           {
            "fillpattern": {
             "fillmode": "overlay",
             "size": 10,
             "solidity": 0.2
            },
            "type": "scatter"
           }
          ],
          "scatter3d": [
           {
            "line": {
             "colorbar": {
              "outlinewidth": 0,
              "ticks": ""
             }
            },
            "marker": {
             "colorbar": {
              "outlinewidth": 0,
              "ticks": ""
             }
            },
            "type": "scatter3d"
           }
          ],
          "scattercarpet": [
           {
            "marker": {
             "colorbar": {
              "outlinewidth": 0,
              "ticks": ""
             }
            },
            "type": "scattercarpet"
           }
          ],
          "scattergeo": [
           {
            "marker": {
             "colorbar": {
              "outlinewidth": 0,
              "ticks": ""
             }
            },
            "type": "scattergeo"
           }
          ],
          "scattergl": [
           {
            "marker": {
             "colorbar": {
              "outlinewidth": 0,
              "ticks": ""
             }
            },
            "type": "scattergl"
           }
          ],
          "scattermap": [
           {
            "marker": {
             "colorbar": {
              "outlinewidth": 0,
              "ticks": ""
             }
            },
            "type": "scattermap"
           }
          ],
          "scattermapbox": [
           {
            "marker": {
             "colorbar": {
              "outlinewidth": 0,
              "ticks": ""
             }
            },
            "type": "scattermapbox"
           }
          ],
          "scatterpolar": [
           {
            "marker": {
             "colorbar": {
              "outlinewidth": 0,
              "ticks": ""
             }
            },
            "type": "scatterpolar"
           }
          ],
          "scatterpolargl": [
           {
            "marker": {
             "colorbar": {
              "outlinewidth": 0,
              "ticks": ""
             }
            },
            "type": "scatterpolargl"
           }
          ],
          "scatterternary": [
           {
            "marker": {
             "colorbar": {
              "outlinewidth": 0,
              "ticks": ""
             }
            },
            "type": "scatterternary"
           }
          ],
          "surface": [
           {
            "colorbar": {
             "outlinewidth": 0,
             "ticks": ""
            },
            "colorscale": [
             [
              0,
              "#0d0887"
             ],
             [
              0.1111111111111111,
              "#46039f"
             ],
             [
              0.2222222222222222,
              "#7201a8"
             ],
             [
              0.3333333333333333,
              "#9c179e"
             ],
             [
              0.4444444444444444,
              "#bd3786"
             ],
             [
              0.5555555555555556,
              "#d8576b"
             ],
             [
              0.6666666666666666,
              "#ed7953"
             ],
             [
              0.7777777777777778,
              "#fb9f3a"
             ],
             [
              0.8888888888888888,
              "#fdca26"
             ],
             [
              1,
              "#f0f921"
             ]
            ],
            "type": "surface"
           }
          ],
          "table": [
           {
            "cells": {
             "fill": {
              "color": "#EBF0F8"
             },
             "line": {
              "color": "white"
             }
            },
            "header": {
             "fill": {
              "color": "#C8D4E3"
             },
             "line": {
              "color": "white"
             }
            },
            "type": "table"
           }
          ]
         },
         "layout": {
          "annotationdefaults": {
           "arrowcolor": "#2a3f5f",
           "arrowhead": 0,
           "arrowwidth": 1
          },
          "autotypenumbers": "strict",
          "coloraxis": {
           "colorbar": {
            "outlinewidth": 0,
            "ticks": ""
           }
          },
          "colorscale": {
           "diverging": [
            [
             0,
             "#8e0152"
            ],
            [
             0.1,
             "#c51b7d"
            ],
            [
             0.2,
             "#de77ae"
            ],
            [
             0.3,
             "#f1b6da"
            ],
            [
             0.4,
             "#fde0ef"
            ],
            [
             0.5,
             "#f7f7f7"
            ],
            [
             0.6,
             "#e6f5d0"
            ],
            [
             0.7,
             "#b8e186"
            ],
            [
             0.8,
             "#7fbc41"
            ],
            [
             0.9,
             "#4d9221"
            ],
            [
             1,
             "#276419"
            ]
           ],
           "sequential": [
            [
             0,
             "#0d0887"
            ],
            [
             0.1111111111111111,
             "#46039f"
            ],
            [
             0.2222222222222222,
             "#7201a8"
            ],
            [
             0.3333333333333333,
             "#9c179e"
            ],
            [
             0.4444444444444444,
             "#bd3786"
            ],
            [
             0.5555555555555556,
             "#d8576b"
            ],
            [
             0.6666666666666666,
             "#ed7953"
            ],
            [
             0.7777777777777778,
             "#fb9f3a"
            ],
            [
             0.8888888888888888,
             "#fdca26"
            ],
            [
             1,
             "#f0f921"
            ]
           ],
           "sequentialminus": [
            [
             0,
             "#0d0887"
            ],
            [
             0.1111111111111111,
             "#46039f"
            ],
            [
             0.2222222222222222,
             "#7201a8"
            ],
            [
             0.3333333333333333,
             "#9c179e"
            ],
            [
             0.4444444444444444,
             "#bd3786"
            ],
            [
             0.5555555555555556,
             "#d8576b"
            ],
            [
             0.6666666666666666,
             "#ed7953"
            ],
            [
             0.7777777777777778,
             "#fb9f3a"
            ],
            [
             0.8888888888888888,
             "#fdca26"
            ],
            [
             1,
             "#f0f921"
            ]
           ]
          },
          "colorway": [
           "#636efa",
           "#EF553B",
           "#00cc96",
           "#ab63fa",
           "#FFA15A",
           "#19d3f3",
           "#FF6692",
           "#B6E880",
           "#FF97FF",
           "#FECB52"
          ],
          "font": {
           "color": "#2a3f5f"
          },
          "geo": {
           "bgcolor": "white",
           "lakecolor": "white",
           "landcolor": "#E5ECF6",
           "showlakes": true,
           "showland": true,
           "subunitcolor": "white"
          },
          "hoverlabel": {
           "align": "left"
          },
          "hovermode": "closest",
          "mapbox": {
           "style": "light"
          },
          "paper_bgcolor": "white",
          "plot_bgcolor": "#E5ECF6",
          "polar": {
           "angularaxis": {
            "gridcolor": "white",
            "linecolor": "white",
            "ticks": ""
           },
           "bgcolor": "#E5ECF6",
           "radialaxis": {
            "gridcolor": "white",
            "linecolor": "white",
            "ticks": ""
           }
          },
          "scene": {
           "xaxis": {
            "backgroundcolor": "#E5ECF6",
            "gridcolor": "white",
            "gridwidth": 2,
            "linecolor": "white",
            "showbackground": true,
            "ticks": "",
            "zerolinecolor": "white"
           },
           "yaxis": {
            "backgroundcolor": "#E5ECF6",
            "gridcolor": "white",
            "gridwidth": 2,
            "linecolor": "white",
            "showbackground": true,
            "ticks": "",
            "zerolinecolor": "white"
           },
           "zaxis": {
            "backgroundcolor": "#E5ECF6",
            "gridcolor": "white",
            "gridwidth": 2,
            "linecolor": "white",
            "showbackground": true,
            "ticks": "",
            "zerolinecolor": "white"
           }
          },
          "shapedefaults": {
           "line": {
            "color": "#2a3f5f"
           }
          },
          "ternary": {
           "aaxis": {
            "gridcolor": "white",
            "linecolor": "white",
            "ticks": ""
           },
           "baxis": {
            "gridcolor": "white",
            "linecolor": "white",
            "ticks": ""
           },
           "bgcolor": "#E5ECF6",
           "caxis": {
            "gridcolor": "white",
            "linecolor": "white",
            "ticks": ""
           }
          },
          "title": {
           "x": 0.05
          },
          "xaxis": {
           "automargin": true,
           "gridcolor": "white",
           "linecolor": "white",
           "ticks": "",
           "title": {
            "standoff": 15
           },
           "zerolinecolor": "white",
           "zerolinewidth": 2
          },
          "yaxis": {
           "automargin": true,
           "gridcolor": "white",
           "linecolor": "white",
           "ticks": "",
           "title": {
            "standoff": 15
           },
           "zerolinecolor": "white",
           "zerolinewidth": 2
          }
         }
        },
        "title": {
         "text": "Vitesse du vent par Ville"
        },
        "xaxis": {
         "anchor": "y",
         "domain": [
          0,
          1
         ],
         "title": {
          "text": "wind_speed"
         }
        },
        "yaxis": {
         "anchor": "x",
         "domain": [
          0,
          1
         ],
         "title": {
          "text": "Ville"
         }
        }
       }
      }
     },
     "metadata": {},
     "output_type": "display_data"
    }
   ],
   "source": [
    "df_sorted = bc.sort_values(by='wind_speed', ascending=False)\n",
    "\n",
    "# Créer un diagramme en bâtons horizontal\n",
    "fig = px.bar(df_sorted, x='wind_speed', y='cities', orientation='h',\n",
    "             title='Vitesse du vent par Ville',\n",
    "             labels={'wind_speed': 'wind_speed', 'cities': 'Ville'})\n",
    "\n",
    "# Ajuster la hauteur du graphique\n",
    "fig.update_layout(height=800)\n",
    "\n",
    "# Afficher le diagramme\n",
    "fig.show()"
   ]
  },
  {
   "cell_type": "code",
   "execution_count": 106,
   "metadata": {},
   "outputs": [
    {
     "data": {
      "text/html": [
       "<div style=\"width:100%;\"><div style=\"position:relative;width:100%;height:0;padding-bottom:60%;\"><span style=\"color:#565656\">Make this Notebook Trusted to load map: File -> Trust Notebook</span><iframe srcdoc=\"&lt;!DOCTYPE html&gt;\n",
       "&lt;html&gt;\n",
       "&lt;head&gt;\n",
       "    \n",
       "    &lt;meta http-equiv=&quot;content-type&quot; content=&quot;text/html; charset=UTF-8&quot; /&gt;\n",
       "    \n",
       "        &lt;script&gt;\n",
       "            L_NO_TOUCH = false;\n",
       "            L_DISABLE_3D = false;\n",
       "        &lt;/script&gt;\n",
       "    \n",
       "    &lt;style&gt;html, body {width: 100%;height: 100%;margin: 0;padding: 0;}&lt;/style&gt;\n",
       "    &lt;style&gt;#map {position:absolute;top:0;bottom:0;right:0;left:0;}&lt;/style&gt;\n",
       "    &lt;script src=&quot;https://cdn.jsdelivr.net/npm/leaflet@1.9.3/dist/leaflet.js&quot;&gt;&lt;/script&gt;\n",
       "    &lt;script src=&quot;https://code.jquery.com/jquery-3.7.1.min.js&quot;&gt;&lt;/script&gt;\n",
       "    &lt;script src=&quot;https://cdn.jsdelivr.net/npm/bootstrap@5.2.2/dist/js/bootstrap.bundle.min.js&quot;&gt;&lt;/script&gt;\n",
       "    &lt;script src=&quot;https://cdnjs.cloudflare.com/ajax/libs/Leaflet.awesome-markers/2.0.2/leaflet.awesome-markers.js&quot;&gt;&lt;/script&gt;\n",
       "    &lt;link rel=&quot;stylesheet&quot; href=&quot;https://cdn.jsdelivr.net/npm/leaflet@1.9.3/dist/leaflet.css&quot;/&gt;\n",
       "    &lt;link rel=&quot;stylesheet&quot; href=&quot;https://cdn.jsdelivr.net/npm/bootstrap@5.2.2/dist/css/bootstrap.min.css&quot;/&gt;\n",
       "    &lt;link rel=&quot;stylesheet&quot; href=&quot;https://netdna.bootstrapcdn.com/bootstrap/3.0.0/css/bootstrap-glyphicons.css&quot;/&gt;\n",
       "    &lt;link rel=&quot;stylesheet&quot; href=&quot;https://cdn.jsdelivr.net/npm/@fortawesome/fontawesome-free@6.2.0/css/all.min.css&quot;/&gt;\n",
       "    &lt;link rel=&quot;stylesheet&quot; href=&quot;https://cdnjs.cloudflare.com/ajax/libs/Leaflet.awesome-markers/2.0.2/leaflet.awesome-markers.css&quot;/&gt;\n",
       "    &lt;link rel=&quot;stylesheet&quot; href=&quot;https://cdn.jsdelivr.net/gh/python-visualization/folium/folium/templates/leaflet.awesome.rotate.min.css&quot;/&gt;\n",
       "    \n",
       "            &lt;meta name=&quot;viewport&quot; content=&quot;width=device-width,\n",
       "                initial-scale=1.0, maximum-scale=1.0, user-scalable=no&quot; /&gt;\n",
       "            &lt;style&gt;\n",
       "                #map_b250b28a6dea46f4a36d865d4f1b36fa {\n",
       "                    position: relative;\n",
       "                    width: 100.0%;\n",
       "                    height: 100.0%;\n",
       "                    left: 0.0%;\n",
       "                    top: 0.0%;\n",
       "                }\n",
       "                .leaflet-container { font-size: 1rem; }\n",
       "            &lt;/style&gt;\n",
       "        \n",
       "&lt;/head&gt;\n",
       "&lt;body&gt;\n",
       "    \n",
       "    \n",
       "            &lt;div class=&quot;folium-map&quot; id=&quot;map_b250b28a6dea46f4a36d865d4f1b36fa&quot; &gt;&lt;/div&gt;\n",
       "        \n",
       "&lt;/body&gt;\n",
       "&lt;script&gt;\n",
       "    \n",
       "    \n",
       "            var map_b250b28a6dea46f4a36d865d4f1b36fa = L.map(\n",
       "                &quot;map_b250b28a6dea46f4a36d865d4f1b36fa&quot;,\n",
       "                {\n",
       "                    center: [46.603354, 1.888334],\n",
       "                    crs: L.CRS.EPSG3857,\n",
       "                    ...{\n",
       "  &quot;zoom&quot;: 6,\n",
       "  &quot;zoomControl&quot;: true,\n",
       "  &quot;preferCanvas&quot;: false,\n",
       "}\n",
       "\n",
       "                }\n",
       "            );\n",
       "\n",
       "            \n",
       "\n",
       "        \n",
       "    \n",
       "            var tile_layer_8a0aa83358d7c9061495a8db7ff49cb0 = L.tileLayer(\n",
       "                &quot;https://tile.openstreetmap.org/{z}/{x}/{y}.png&quot;,\n",
       "                {\n",
       "  &quot;minZoom&quot;: 0,\n",
       "  &quot;maxZoom&quot;: 19,\n",
       "  &quot;maxNativeZoom&quot;: 19,\n",
       "  &quot;noWrap&quot;: false,\n",
       "  &quot;attribution&quot;: &quot;\\u0026copy; \\u003ca href=\\&quot;https://www.openstreetmap.org/copyright\\&quot;\\u003eOpenStreetMap\\u003c/a\\u003e contributors&quot;,\n",
       "  &quot;subdomains&quot;: &quot;abc&quot;,\n",
       "  &quot;detectRetina&quot;: false,\n",
       "  &quot;tms&quot;: false,\n",
       "  &quot;opacity&quot;: 1,\n",
       "}\n",
       "\n",
       "            );\n",
       "        \n",
       "    \n",
       "            tile_layer_8a0aa83358d7c9061495a8db7ff49cb0.addTo(map_b250b28a6dea46f4a36d865d4f1b36fa);\n",
       "        \n",
       "    \n",
       "            var marker_1b0a71cd533a6e51f2b854368e7f60ac = L.marker(\n",
       "                [48.6359541, -1.511459954959514],\n",
       "                {\n",
       "}\n",
       "            ).addTo(map_b250b28a6dea46f4a36d865d4f1b36fa);\n",
       "        \n",
       "    \n",
       "        var custom_icon_be88be7d2c550a45a1a0e7f7f3a5ddb0 = L.icon({\n",
       "  &quot;iconUrl&quot;: &quot;https://images.icon-icons.com/2791/PNG/512/partly_cloudy_day_sun_clouds_weather_icon_177560.png&quot;,\n",
       "  &quot;iconSize&quot;: [40, 40],\n",
       "});\n",
       "        marker_1b0a71cd533a6e51f2b854368e7f60ac.setIcon(custom_icon_be88be7d2c550a45a1a0e7f7f3a5ddb0);\n",
       "        \n",
       "    \n",
       "        var popup_15372e7e9a934878320cdf89c7791681 = L.popup({\n",
       "  &quot;maxWidth&quot;: &quot;100%&quot;,\n",
       "});\n",
       "\n",
       "        \n",
       "            \n",
       "                var html_e766f75adddf3ef9de70b61c4f64cce8 = $(`&lt;div id=&quot;html_e766f75adddf3ef9de70b61c4f64cce8&quot; style=&quot;width: 100.0%; height: 100.0%;&quot;&gt;Mont Saint Michel&lt;/div&gt;`)[0];\n",
       "                popup_15372e7e9a934878320cdf89c7791681.setContent(html_e766f75adddf3ef9de70b61c4f64cce8);\n",
       "            \n",
       "        \n",
       "\n",
       "        marker_1b0a71cd533a6e51f2b854368e7f60ac.bindPopup(popup_15372e7e9a934878320cdf89c7791681)\n",
       "        ;\n",
       "\n",
       "        \n",
       "    \n",
       "    \n",
       "                marker_1b0a71cd533a6e51f2b854368e7f60ac.setIcon(custom_icon_be88be7d2c550a45a1a0e7f7f3a5ddb0);\n",
       "            \n",
       "    \n",
       "            var marker_664007f4204e7a5cd10ae675e51ead84 = L.marker(\n",
       "                [48.649518, -2.0260409],\n",
       "                {\n",
       "}\n",
       "            ).addTo(map_b250b28a6dea46f4a36d865d4f1b36fa);\n",
       "        \n",
       "    \n",
       "        var custom_icon_ee23c4435c624a3480fc2bf0da88c2bc = L.icon({\n",
       "  &quot;iconUrl&quot;: &quot;https://images.icon-icons.com/2791/PNG/512/overcast_cloud_weather_icon_177561.png&quot;,\n",
       "  &quot;iconSize&quot;: [40, 40],\n",
       "});\n",
       "        marker_664007f4204e7a5cd10ae675e51ead84.setIcon(custom_icon_ee23c4435c624a3480fc2bf0da88c2bc);\n",
       "        \n",
       "    \n",
       "        var popup_04a1d9c2f2ac4d947bafd33db57a4865 = L.popup({\n",
       "  &quot;maxWidth&quot;: &quot;100%&quot;,\n",
       "});\n",
       "\n",
       "        \n",
       "            \n",
       "                var html_a8101d05bc2dbb6528d5f13548e567ae = $(`&lt;div id=&quot;html_a8101d05bc2dbb6528d5f13548e567ae&quot; style=&quot;width: 100.0%; height: 100.0%;&quot;&gt;St Malo&lt;/div&gt;`)[0];\n",
       "                popup_04a1d9c2f2ac4d947bafd33db57a4865.setContent(html_a8101d05bc2dbb6528d5f13548e567ae);\n",
       "            \n",
       "        \n",
       "\n",
       "        marker_664007f4204e7a5cd10ae675e51ead84.bindPopup(popup_04a1d9c2f2ac4d947bafd33db57a4865)\n",
       "        ;\n",
       "\n",
       "        \n",
       "    \n",
       "    \n",
       "                marker_664007f4204e7a5cd10ae675e51ead84.setIcon(custom_icon_ee23c4435c624a3480fc2bf0da88c2bc);\n",
       "            \n",
       "    \n",
       "            var marker_052110936da46129b73d72986ba15a10 = L.marker(\n",
       "                [49.2764624, -0.7024738],\n",
       "                {\n",
       "}\n",
       "            ).addTo(map_b250b28a6dea46f4a36d865d4f1b36fa);\n",
       "        \n",
       "    \n",
       "        var custom_icon_5df3d703eb65bc196356946e069bcbd0 = L.icon({\n",
       "  &quot;iconUrl&quot;: &quot;https://images.icon-icons.com/857/PNG/512/weather-2_icon-icons.com_67742.png&quot;,\n",
       "  &quot;iconSize&quot;: [40, 40],\n",
       "});\n",
       "        marker_052110936da46129b73d72986ba15a10.setIcon(custom_icon_5df3d703eb65bc196356946e069bcbd0);\n",
       "        \n",
       "    \n",
       "        var popup_bd55fcca1afb9280ebb562d59c50174b = L.popup({\n",
       "  &quot;maxWidth&quot;: &quot;100%&quot;,\n",
       "});\n",
       "\n",
       "        \n",
       "            \n",
       "                var html_2b66336e81f654b81c4bf2421a1012be = $(`&lt;div id=&quot;html_2b66336e81f654b81c4bf2421a1012be&quot; style=&quot;width: 100.0%; height: 100.0%;&quot;&gt;Bayeux&lt;/div&gt;`)[0];\n",
       "                popup_bd55fcca1afb9280ebb562d59c50174b.setContent(html_2b66336e81f654b81c4bf2421a1012be);\n",
       "            \n",
       "        \n",
       "\n",
       "        marker_052110936da46129b73d72986ba15a10.bindPopup(popup_bd55fcca1afb9280ebb562d59c50174b)\n",
       "        ;\n",
       "\n",
       "        \n",
       "    \n",
       "    \n",
       "                marker_052110936da46129b73d72986ba15a10.setIcon(custom_icon_5df3d703eb65bc196356946e069bcbd0);\n",
       "            \n",
       "    \n",
       "            var marker_0e61a28322d5888847c057ca154a91ae = L.marker(\n",
       "                [49.4938975, 0.1079732],\n",
       "                {\n",
       "}\n",
       "            ).addTo(map_b250b28a6dea46f4a36d865d4f1b36fa);\n",
       "        \n",
       "    \n",
       "        var custom_icon_0e56252de9a6f3e1d61aedecb9877b6d = L.icon({\n",
       "  &quot;iconUrl&quot;: &quot;https://images.icon-icons.com/2791/PNG/512/partly_cloudy_day_sun_clouds_weather_icon_177560.png&quot;,\n",
       "  &quot;iconSize&quot;: [40, 40],\n",
       "});\n",
       "        marker_0e61a28322d5888847c057ca154a91ae.setIcon(custom_icon_0e56252de9a6f3e1d61aedecb9877b6d);\n",
       "        \n",
       "    \n",
       "        var popup_e2a9b75814d18f360c49f7c311164822 = L.popup({\n",
       "  &quot;maxWidth&quot;: &quot;100%&quot;,\n",
       "});\n",
       "\n",
       "        \n",
       "            \n",
       "                var html_3c1a220e02eb667129ad6100d30d3c79 = $(`&lt;div id=&quot;html_3c1a220e02eb667129ad6100d30d3c79&quot; style=&quot;width: 100.0%; height: 100.0%;&quot;&gt;Le Havre&lt;/div&gt;`)[0];\n",
       "                popup_e2a9b75814d18f360c49f7c311164822.setContent(html_3c1a220e02eb667129ad6100d30d3c79);\n",
       "            \n",
       "        \n",
       "\n",
       "        marker_0e61a28322d5888847c057ca154a91ae.bindPopup(popup_e2a9b75814d18f360c49f7c311164822)\n",
       "        ;\n",
       "\n",
       "        \n",
       "    \n",
       "    \n",
       "                marker_0e61a28322d5888847c057ca154a91ae.setIcon(custom_icon_0e56252de9a6f3e1d61aedecb9877b6d);\n",
       "            \n",
       "    \n",
       "            var marker_1957785f809cc8eed9c3bbfc13f049c2 = L.marker(\n",
       "                [49.4404591, 1.0939658],\n",
       "                {\n",
       "}\n",
       "            ).addTo(map_b250b28a6dea46f4a36d865d4f1b36fa);\n",
       "        \n",
       "    \n",
       "        var custom_icon_85f81d8e691d55088ef47cf1e71c4b97 = L.icon({\n",
       "  &quot;iconUrl&quot;: &quot;https://images.icon-icons.com/2791/PNG/512/cloudy_cloud_weather_icon_177580.png&quot;,\n",
       "  &quot;iconSize&quot;: [40, 40],\n",
       "});\n",
       "        marker_1957785f809cc8eed9c3bbfc13f049c2.setIcon(custom_icon_85f81d8e691d55088ef47cf1e71c4b97);\n",
       "        \n",
       "    \n",
       "        var popup_efabacc5d2ac60ab97b9e133a24bf730 = L.popup({\n",
       "  &quot;maxWidth&quot;: &quot;100%&quot;,\n",
       "});\n",
       "\n",
       "        \n",
       "            \n",
       "                var html_a9652ef908015385b46507575c40d167 = $(`&lt;div id=&quot;html_a9652ef908015385b46507575c40d167&quot; style=&quot;width: 100.0%; height: 100.0%;&quot;&gt;Rouen&lt;/div&gt;`)[0];\n",
       "                popup_efabacc5d2ac60ab97b9e133a24bf730.setContent(html_a9652ef908015385b46507575c40d167);\n",
       "            \n",
       "        \n",
       "\n",
       "        marker_1957785f809cc8eed9c3bbfc13f049c2.bindPopup(popup_efabacc5d2ac60ab97b9e133a24bf730)\n",
       "        ;\n",
       "\n",
       "        \n",
       "    \n",
       "    \n",
       "                marker_1957785f809cc8eed9c3bbfc13f049c2.setIcon(custom_icon_85f81d8e691d55088ef47cf1e71c4b97);\n",
       "            \n",
       "    \n",
       "            var marker_33862f476ab1d3da4369d91e168a72ae = L.marker(\n",
       "                [48.8588897, 2.3200410217200766],\n",
       "                {\n",
       "}\n",
       "            ).addTo(map_b250b28a6dea46f4a36d865d4f1b36fa);\n",
       "        \n",
       "    \n",
       "        var custom_icon_6311696029e93cf28787a5c06fdc64f4 = L.icon({\n",
       "  &quot;iconUrl&quot;: &quot;https://images.icon-icons.com/2791/PNG/512/cloudy_cloud_weather_icon_177580.png&quot;,\n",
       "  &quot;iconSize&quot;: [40, 40],\n",
       "});\n",
       "        marker_33862f476ab1d3da4369d91e168a72ae.setIcon(custom_icon_6311696029e93cf28787a5c06fdc64f4);\n",
       "        \n",
       "    \n",
       "        var popup_a88ca307eb316d7ef2e91940f2d8ad55 = L.popup({\n",
       "  &quot;maxWidth&quot;: &quot;100%&quot;,\n",
       "});\n",
       "\n",
       "        \n",
       "            \n",
       "                var html_fd31ef43df191505bf619317554531cd = $(`&lt;div id=&quot;html_fd31ef43df191505bf619317554531cd&quot; style=&quot;width: 100.0%; height: 100.0%;&quot;&gt;Paris&lt;/div&gt;`)[0];\n",
       "                popup_a88ca307eb316d7ef2e91940f2d8ad55.setContent(html_fd31ef43df191505bf619317554531cd);\n",
       "            \n",
       "        \n",
       "\n",
       "        marker_33862f476ab1d3da4369d91e168a72ae.bindPopup(popup_a88ca307eb316d7ef2e91940f2d8ad55)\n",
       "        ;\n",
       "\n",
       "        \n",
       "    \n",
       "    \n",
       "                marker_33862f476ab1d3da4369d91e168a72ae.setIcon(custom_icon_6311696029e93cf28787a5c06fdc64f4);\n",
       "            \n",
       "    \n",
       "            var marker_d79e43e8e46af6e340af093820640d26 = L.marker(\n",
       "                [49.8941708, 2.2956951],\n",
       "                {\n",
       "}\n",
       "            ).addTo(map_b250b28a6dea46f4a36d865d4f1b36fa);\n",
       "        \n",
       "    \n",
       "        var custom_icon_b3a6683a70070e29da37a369b620f671 = L.icon({\n",
       "  &quot;iconUrl&quot;: &quot;https://images.icon-icons.com/2791/PNG/512/cloudy_cloud_weather_icon_177580.png&quot;,\n",
       "  &quot;iconSize&quot;: [40, 40],\n",
       "});\n",
       "        marker_d79e43e8e46af6e340af093820640d26.setIcon(custom_icon_b3a6683a70070e29da37a369b620f671);\n",
       "        \n",
       "    \n",
       "        var popup_665bbaaaf305a8b867f7bd3f17650373 = L.popup({\n",
       "  &quot;maxWidth&quot;: &quot;100%&quot;,\n",
       "});\n",
       "\n",
       "        \n",
       "            \n",
       "                var html_a88d925d144732586fcab8f41e618e4d = $(`&lt;div id=&quot;html_a88d925d144732586fcab8f41e618e4d&quot; style=&quot;width: 100.0%; height: 100.0%;&quot;&gt;Amiens&lt;/div&gt;`)[0];\n",
       "                popup_665bbaaaf305a8b867f7bd3f17650373.setContent(html_a88d925d144732586fcab8f41e618e4d);\n",
       "            \n",
       "        \n",
       "\n",
       "        marker_d79e43e8e46af6e340af093820640d26.bindPopup(popup_665bbaaaf305a8b867f7bd3f17650373)\n",
       "        ;\n",
       "\n",
       "        \n",
       "    \n",
       "    \n",
       "                marker_d79e43e8e46af6e340af093820640d26.setIcon(custom_icon_b3a6683a70070e29da37a369b620f671);\n",
       "            \n",
       "    \n",
       "            var marker_905d322672fab0683a0f9a60306abe4e = L.marker(\n",
       "                [50.6365654, 3.0635282],\n",
       "                {\n",
       "}\n",
       "            ).addTo(map_b250b28a6dea46f4a36d865d4f1b36fa);\n",
       "        \n",
       "    \n",
       "        var custom_icon_c45f249ad285ba492bdbc23022f3fba3 = L.icon({\n",
       "  &quot;iconUrl&quot;: &quot;https://images.icon-icons.com/2791/PNG/512/overcast_cloud_weather_icon_177561.png&quot;,\n",
       "  &quot;iconSize&quot;: [40, 40],\n",
       "});\n",
       "        marker_905d322672fab0683a0f9a60306abe4e.setIcon(custom_icon_c45f249ad285ba492bdbc23022f3fba3);\n",
       "        \n",
       "    \n",
       "        var popup_ad505c1cd11d04e8979faedc05fc3378 = L.popup({\n",
       "  &quot;maxWidth&quot;: &quot;100%&quot;,\n",
       "});\n",
       "\n",
       "        \n",
       "            \n",
       "                var html_f6e1eab2ffccbabd4bf72704d3af3380 = $(`&lt;div id=&quot;html_f6e1eab2ffccbabd4bf72704d3af3380&quot; style=&quot;width: 100.0%; height: 100.0%;&quot;&gt;Lille&lt;/div&gt;`)[0];\n",
       "                popup_ad505c1cd11d04e8979faedc05fc3378.setContent(html_f6e1eab2ffccbabd4bf72704d3af3380);\n",
       "            \n",
       "        \n",
       "\n",
       "        marker_905d322672fab0683a0f9a60306abe4e.bindPopup(popup_ad505c1cd11d04e8979faedc05fc3378)\n",
       "        ;\n",
       "\n",
       "        \n",
       "    \n",
       "    \n",
       "                marker_905d322672fab0683a0f9a60306abe4e.setIcon(custom_icon_c45f249ad285ba492bdbc23022f3fba3);\n",
       "            \n",
       "    \n",
       "            var marker_ec8aff5ec99ed0eb8783daf39ab10ef7 = L.marker(\n",
       "                [48.584614, 7.7507127],\n",
       "                {\n",
       "}\n",
       "            ).addTo(map_b250b28a6dea46f4a36d865d4f1b36fa);\n",
       "        \n",
       "    \n",
       "        var custom_icon_3a3195d2bc72e5cbf9581b6838d8adfe = L.icon({\n",
       "  &quot;iconUrl&quot;: &quot;https://images.icon-icons.com/2791/PNG/512/heavy_rain_day_weather_icon_177573.png&quot;,\n",
       "  &quot;iconSize&quot;: [40, 40],\n",
       "});\n",
       "        marker_ec8aff5ec99ed0eb8783daf39ab10ef7.setIcon(custom_icon_3a3195d2bc72e5cbf9581b6838d8adfe);\n",
       "        \n",
       "    \n",
       "        var popup_beb621668328e876d34f7873082c34d0 = L.popup({\n",
       "  &quot;maxWidth&quot;: &quot;100%&quot;,\n",
       "});\n",
       "\n",
       "        \n",
       "            \n",
       "                var html_9e54949bbeded9efd82ec44d5bb919c1 = $(`&lt;div id=&quot;html_9e54949bbeded9efd82ec44d5bb919c1&quot; style=&quot;width: 100.0%; height: 100.0%;&quot;&gt;Strasbourg&lt;/div&gt;`)[0];\n",
       "                popup_beb621668328e876d34f7873082c34d0.setContent(html_9e54949bbeded9efd82ec44d5bb919c1);\n",
       "            \n",
       "        \n",
       "\n",
       "        marker_ec8aff5ec99ed0eb8783daf39ab10ef7.bindPopup(popup_beb621668328e876d34f7873082c34d0)\n",
       "        ;\n",
       "\n",
       "        \n",
       "    \n",
       "    \n",
       "                marker_ec8aff5ec99ed0eb8783daf39ab10ef7.setIcon(custom_icon_3a3195d2bc72e5cbf9581b6838d8adfe);\n",
       "            \n",
       "    \n",
       "            var marker_e0a11da93ab2c64254a32f9fd552371c = L.marker(\n",
       "                [48.2495226, 7.3454923],\n",
       "                {\n",
       "}\n",
       "            ).addTo(map_b250b28a6dea46f4a36d865d4f1b36fa);\n",
       "        \n",
       "    \n",
       "        var custom_icon_a54780ada5f9940c3110e21be57757cb = L.icon({\n",
       "  &quot;iconUrl&quot;: &quot;https://images.icon-icons.com/2791/PNG/512/heavy_rain_day_weather_icon_177573.png&quot;,\n",
       "  &quot;iconSize&quot;: [40, 40],\n",
       "});\n",
       "        marker_e0a11da93ab2c64254a32f9fd552371c.setIcon(custom_icon_a54780ada5f9940c3110e21be57757cb);\n",
       "        \n",
       "    \n",
       "        var popup_5b0530c218b7ce308c17fee023e2fe8c = L.popup({\n",
       "  &quot;maxWidth&quot;: &quot;100%&quot;,\n",
       "});\n",
       "\n",
       "        \n",
       "            \n",
       "                var html_40f340be043242bfd65b0bcc280416d8 = $(`&lt;div id=&quot;html_40f340be043242bfd65b0bcc280416d8&quot; style=&quot;width: 100.0%; height: 100.0%;&quot;&gt;Chateau du Haut Koenigsbourg&lt;/div&gt;`)[0];\n",
       "                popup_5b0530c218b7ce308c17fee023e2fe8c.setContent(html_40f340be043242bfd65b0bcc280416d8);\n",
       "            \n",
       "        \n",
       "\n",
       "        marker_e0a11da93ab2c64254a32f9fd552371c.bindPopup(popup_5b0530c218b7ce308c17fee023e2fe8c)\n",
       "        ;\n",
       "\n",
       "        \n",
       "    \n",
       "    \n",
       "                marker_e0a11da93ab2c64254a32f9fd552371c.setIcon(custom_icon_a54780ada5f9940c3110e21be57757cb);\n",
       "            \n",
       "    \n",
       "            var marker_c2dcef02a37334d337482d5ab9cc71e6 = L.marker(\n",
       "                [48.0777517, 7.3579641],\n",
       "                {\n",
       "}\n",
       "            ).addTo(map_b250b28a6dea46f4a36d865d4f1b36fa);\n",
       "        \n",
       "    \n",
       "        var custom_icon_0e9c000bf07e2ec36d5f9161925ec8cb = L.icon({\n",
       "  &quot;iconUrl&quot;: &quot;https://images.icon-icons.com/2791/PNG/512/rain_cloud_weather_icon_177568.png&quot;,\n",
       "  &quot;iconSize&quot;: [40, 40],\n",
       "});\n",
       "        marker_c2dcef02a37334d337482d5ab9cc71e6.setIcon(custom_icon_0e9c000bf07e2ec36d5f9161925ec8cb);\n",
       "        \n",
       "    \n",
       "        var popup_cb1f41b240a66e73c8d283e9ea1e6fb2 = L.popup({\n",
       "  &quot;maxWidth&quot;: &quot;100%&quot;,\n",
       "});\n",
       "\n",
       "        \n",
       "            \n",
       "                var html_a6a05d4f1c13e177ceda4f786b964467 = $(`&lt;div id=&quot;html_a6a05d4f1c13e177ceda4f786b964467&quot; style=&quot;width: 100.0%; height: 100.0%;&quot;&gt;Colmar&lt;/div&gt;`)[0];\n",
       "                popup_cb1f41b240a66e73c8d283e9ea1e6fb2.setContent(html_a6a05d4f1c13e177ceda4f786b964467);\n",
       "            \n",
       "        \n",
       "\n",
       "        marker_c2dcef02a37334d337482d5ab9cc71e6.bindPopup(popup_cb1f41b240a66e73c8d283e9ea1e6fb2)\n",
       "        ;\n",
       "\n",
       "        \n",
       "    \n",
       "    \n",
       "                marker_c2dcef02a37334d337482d5ab9cc71e6.setIcon(custom_icon_0e9c000bf07e2ec36d5f9161925ec8cb);\n",
       "            \n",
       "    \n",
       "            var marker_36375dba7c5aa41c337e582ccf0395ae = L.marker(\n",
       "                [48.0447968, 7.3079618],\n",
       "                {\n",
       "}\n",
       "            ).addTo(map_b250b28a6dea46f4a36d865d4f1b36fa);\n",
       "        \n",
       "    \n",
       "        var custom_icon_da0c26b1fd23f480f99a7080c638aa65 = L.icon({\n",
       "  &quot;iconUrl&quot;: &quot;https://images.icon-icons.com/2791/PNG/512/rain_cloud_weather_icon_177568.png&quot;,\n",
       "  &quot;iconSize&quot;: [40, 40],\n",
       "});\n",
       "        marker_36375dba7c5aa41c337e582ccf0395ae.setIcon(custom_icon_da0c26b1fd23f480f99a7080c638aa65);\n",
       "        \n",
       "    \n",
       "        var popup_820a584cbe07703bcd2c262c99953f3c = L.popup({\n",
       "  &quot;maxWidth&quot;: &quot;100%&quot;,\n",
       "});\n",
       "\n",
       "        \n",
       "            \n",
       "                var html_1f63e4a3d54dae03e011022f43fc9245 = $(`&lt;div id=&quot;html_1f63e4a3d54dae03e011022f43fc9245&quot; style=&quot;width: 100.0%; height: 100.0%;&quot;&gt;Eguisheim&lt;/div&gt;`)[0];\n",
       "                popup_820a584cbe07703bcd2c262c99953f3c.setContent(html_1f63e4a3d54dae03e011022f43fc9245);\n",
       "            \n",
       "        \n",
       "\n",
       "        marker_36375dba7c5aa41c337e582ccf0395ae.bindPopup(popup_820a584cbe07703bcd2c262c99953f3c)\n",
       "        ;\n",
       "\n",
       "        \n",
       "    \n",
       "    \n",
       "                marker_36375dba7c5aa41c337e582ccf0395ae.setIcon(custom_icon_da0c26b1fd23f480f99a7080c638aa65);\n",
       "            \n",
       "    \n",
       "            var marker_b64b8a2ba37b52f22836cc0e9ffd17a8 = L.marker(\n",
       "                [47.2380222, 6.0243622],\n",
       "                {\n",
       "}\n",
       "            ).addTo(map_b250b28a6dea46f4a36d865d4f1b36fa);\n",
       "        \n",
       "    \n",
       "        var custom_icon_6f458ea3930be4c88a65f1341fde9034 = L.icon({\n",
       "  &quot;iconUrl&quot;: &quot;https://images.icon-icons.com/2791/PNG/512/rain_cloud_weather_icon_177568.png&quot;,\n",
       "  &quot;iconSize&quot;: [40, 40],\n",
       "});\n",
       "        marker_b64b8a2ba37b52f22836cc0e9ffd17a8.setIcon(custom_icon_6f458ea3930be4c88a65f1341fde9034);\n",
       "        \n",
       "    \n",
       "        var popup_74db11cf20dddb8edcbc54d0c31cdad3 = L.popup({\n",
       "  &quot;maxWidth&quot;: &quot;100%&quot;,\n",
       "});\n",
       "\n",
       "        \n",
       "            \n",
       "                var html_76af9579154f33757003e7fada8017b0 = $(`&lt;div id=&quot;html_76af9579154f33757003e7fada8017b0&quot; style=&quot;width: 100.0%; height: 100.0%;&quot;&gt;Besancon&lt;/div&gt;`)[0];\n",
       "                popup_74db11cf20dddb8edcbc54d0c31cdad3.setContent(html_76af9579154f33757003e7fada8017b0);\n",
       "            \n",
       "        \n",
       "\n",
       "        marker_b64b8a2ba37b52f22836cc0e9ffd17a8.bindPopup(popup_74db11cf20dddb8edcbc54d0c31cdad3)\n",
       "        ;\n",
       "\n",
       "        \n",
       "    \n",
       "    \n",
       "                marker_b64b8a2ba37b52f22836cc0e9ffd17a8.setIcon(custom_icon_6f458ea3930be4c88a65f1341fde9034);\n",
       "            \n",
       "    \n",
       "            var marker_1b22303197206be22abb5305cd14a8d3 = L.marker(\n",
       "                [47.3215806, 5.0414701],\n",
       "                {\n",
       "}\n",
       "            ).addTo(map_b250b28a6dea46f4a36d865d4f1b36fa);\n",
       "        \n",
       "    \n",
       "        var custom_icon_69c45f4ab72d15e43185706a182bb0bd = L.icon({\n",
       "  &quot;iconUrl&quot;: &quot;https://images.icon-icons.com/2791/PNG/512/overcast_cloud_weather_icon_177561.png&quot;,\n",
       "  &quot;iconSize&quot;: [40, 40],\n",
       "});\n",
       "        marker_1b22303197206be22abb5305cd14a8d3.setIcon(custom_icon_69c45f4ab72d15e43185706a182bb0bd);\n",
       "        \n",
       "    \n",
       "        var popup_3118a7b38c953412fafd38aacbaefcdb = L.popup({\n",
       "  &quot;maxWidth&quot;: &quot;100%&quot;,\n",
       "});\n",
       "\n",
       "        \n",
       "            \n",
       "                var html_c3648784e344479379860fdc395143e5 = $(`&lt;div id=&quot;html_c3648784e344479379860fdc395143e5&quot; style=&quot;width: 100.0%; height: 100.0%;&quot;&gt;Dijon&lt;/div&gt;`)[0];\n",
       "                popup_3118a7b38c953412fafd38aacbaefcdb.setContent(html_c3648784e344479379860fdc395143e5);\n",
       "            \n",
       "        \n",
       "\n",
       "        marker_1b22303197206be22abb5305cd14a8d3.bindPopup(popup_3118a7b38c953412fafd38aacbaefcdb)\n",
       "        ;\n",
       "\n",
       "        \n",
       "    \n",
       "    \n",
       "                marker_1b22303197206be22abb5305cd14a8d3.setIcon(custom_icon_69c45f4ab72d15e43185706a182bb0bd);\n",
       "            \n",
       "    \n",
       "            var marker_e406e485e52e6013ae6d35cad6080663 = L.marker(\n",
       "                [45.8992348, 6.1288847],\n",
       "                {\n",
       "}\n",
       "            ).addTo(map_b250b28a6dea46f4a36d865d4f1b36fa);\n",
       "        \n",
       "    \n",
       "        var custom_icon_9d11c81568ffe09bcf5ffaf04e11d41f = L.icon({\n",
       "  &quot;iconUrl&quot;: &quot;https://images.icon-icons.com/2791/PNG/512/rain_cloud_weather_icon_177568.png&quot;,\n",
       "  &quot;iconSize&quot;: [40, 40],\n",
       "});\n",
       "        marker_e406e485e52e6013ae6d35cad6080663.setIcon(custom_icon_9d11c81568ffe09bcf5ffaf04e11d41f);\n",
       "        \n",
       "    \n",
       "        var popup_b2b28f7096dc3269f02bca544bc59bab = L.popup({\n",
       "  &quot;maxWidth&quot;: &quot;100%&quot;,\n",
       "});\n",
       "\n",
       "        \n",
       "            \n",
       "                var html_e84a734d8bd541804a15455435cb7889 = $(`&lt;div id=&quot;html_e84a734d8bd541804a15455435cb7889&quot; style=&quot;width: 100.0%; height: 100.0%;&quot;&gt;Annecy&lt;/div&gt;`)[0];\n",
       "                popup_b2b28f7096dc3269f02bca544bc59bab.setContent(html_e84a734d8bd541804a15455435cb7889);\n",
       "            \n",
       "        \n",
       "\n",
       "        marker_e406e485e52e6013ae6d35cad6080663.bindPopup(popup_b2b28f7096dc3269f02bca544bc59bab)\n",
       "        ;\n",
       "\n",
       "        \n",
       "    \n",
       "    \n",
       "                marker_e406e485e52e6013ae6d35cad6080663.setIcon(custom_icon_9d11c81568ffe09bcf5ffaf04e11d41f);\n",
       "            \n",
       "    \n",
       "            var marker_e004ef023265c94cd4ac645a0b2836c1 = L.marker(\n",
       "                [45.1875602, 5.7357819],\n",
       "                {\n",
       "}\n",
       "            ).addTo(map_b250b28a6dea46f4a36d865d4f1b36fa);\n",
       "        \n",
       "    \n",
       "        var custom_icon_486c3429fc522ec4cfd4f563ea819379 = L.icon({\n",
       "  &quot;iconUrl&quot;: &quot;https://images.icon-icons.com/2791/PNG/512/heavy_rain_day_weather_icon_177573.png&quot;,\n",
       "  &quot;iconSize&quot;: [40, 40],\n",
       "});\n",
       "        marker_e004ef023265c94cd4ac645a0b2836c1.setIcon(custom_icon_486c3429fc522ec4cfd4f563ea819379);\n",
       "        \n",
       "    \n",
       "        var popup_e83d63a01bbc141ce824621b039b44ae = L.popup({\n",
       "  &quot;maxWidth&quot;: &quot;100%&quot;,\n",
       "});\n",
       "\n",
       "        \n",
       "            \n",
       "                var html_e28055f0593652eb848f3d32f105250b = $(`&lt;div id=&quot;html_e28055f0593652eb848f3d32f105250b&quot; style=&quot;width: 100.0%; height: 100.0%;&quot;&gt;Grenoble&lt;/div&gt;`)[0];\n",
       "                popup_e83d63a01bbc141ce824621b039b44ae.setContent(html_e28055f0593652eb848f3d32f105250b);\n",
       "            \n",
       "        \n",
       "\n",
       "        marker_e004ef023265c94cd4ac645a0b2836c1.bindPopup(popup_e83d63a01bbc141ce824621b039b44ae)\n",
       "        ;\n",
       "\n",
       "        \n",
       "    \n",
       "    \n",
       "                marker_e004ef023265c94cd4ac645a0b2836c1.setIcon(custom_icon_486c3429fc522ec4cfd4f563ea819379);\n",
       "            \n",
       "    \n",
       "            var marker_84e2828cdb03073adf22c77fcb21a657 = L.marker(\n",
       "                [45.7578137, 4.8320114],\n",
       "                {\n",
       "}\n",
       "            ).addTo(map_b250b28a6dea46f4a36d865d4f1b36fa);\n",
       "        \n",
       "    \n",
       "        var custom_icon_b1bf5217c8a3162420dbfe84b666da63 = L.icon({\n",
       "  &quot;iconUrl&quot;: &quot;https://images.icon-icons.com/2791/PNG/512/heavy_rain_day_weather_icon_177573.png&quot;,\n",
       "  &quot;iconSize&quot;: [40, 40],\n",
       "});\n",
       "        marker_84e2828cdb03073adf22c77fcb21a657.setIcon(custom_icon_b1bf5217c8a3162420dbfe84b666da63);\n",
       "        \n",
       "    \n",
       "        var popup_c38d7fb55879aea5081676a65cf980a9 = L.popup({\n",
       "  &quot;maxWidth&quot;: &quot;100%&quot;,\n",
       "});\n",
       "\n",
       "        \n",
       "            \n",
       "                var html_00008818c0915bd18e8af60ee2ea1118 = $(`&lt;div id=&quot;html_00008818c0915bd18e8af60ee2ea1118&quot; style=&quot;width: 100.0%; height: 100.0%;&quot;&gt;Lyon&lt;/div&gt;`)[0];\n",
       "                popup_c38d7fb55879aea5081676a65cf980a9.setContent(html_00008818c0915bd18e8af60ee2ea1118);\n",
       "            \n",
       "        \n",
       "\n",
       "        marker_84e2828cdb03073adf22c77fcb21a657.bindPopup(popup_c38d7fb55879aea5081676a65cf980a9)\n",
       "        ;\n",
       "\n",
       "        \n",
       "    \n",
       "    \n",
       "                marker_84e2828cdb03073adf22c77fcb21a657.setIcon(custom_icon_b1bf5217c8a3162420dbfe84b666da63);\n",
       "            \n",
       "    \n",
       "            var marker_b0093cbe1d2775012fee9debe28c2759 = L.marker(\n",
       "                [43.1506968, 6.3419285],\n",
       "                {\n",
       "}\n",
       "            ).addTo(map_b250b28a6dea46f4a36d865d4f1b36fa);\n",
       "        \n",
       "    \n",
       "        var custom_icon_6dea1db70fb242830eba44968ea500fc = L.icon({\n",
       "  &quot;iconUrl&quot;: &quot;https://images.icon-icons.com/2791/PNG/512/cloudy_cloud_weather_icon_177580.png&quot;,\n",
       "  &quot;iconSize&quot;: [40, 40],\n",
       "});\n",
       "        marker_b0093cbe1d2775012fee9debe28c2759.setIcon(custom_icon_6dea1db70fb242830eba44968ea500fc);\n",
       "        \n",
       "    \n",
       "        var popup_0808fe48d2258097c6ea4037be41d6f5 = L.popup({\n",
       "  &quot;maxWidth&quot;: &quot;100%&quot;,\n",
       "});\n",
       "\n",
       "        \n",
       "            \n",
       "                var html_5dd5054da4bf714b6e5f4a653d3fe58b = $(`&lt;div id=&quot;html_5dd5054da4bf714b6e5f4a653d3fe58b&quot; style=&quot;width: 100.0%; height: 100.0%;&quot;&gt;Bormes les Mimosas&lt;/div&gt;`)[0];\n",
       "                popup_0808fe48d2258097c6ea4037be41d6f5.setContent(html_5dd5054da4bf714b6e5f4a653d3fe58b);\n",
       "            \n",
       "        \n",
       "\n",
       "        marker_b0093cbe1d2775012fee9debe28c2759.bindPopup(popup_0808fe48d2258097c6ea4037be41d6f5)\n",
       "        ;\n",
       "\n",
       "        \n",
       "    \n",
       "    \n",
       "                marker_b0093cbe1d2775012fee9debe28c2759.setIcon(custom_icon_6dea1db70fb242830eba44968ea500fc);\n",
       "            \n",
       "    \n",
       "            var marker_5a8a38b08e9533b146b03b4b8c1f292c = L.marker(\n",
       "                [43.2140359, 5.5396318],\n",
       "                {\n",
       "}\n",
       "            ).addTo(map_b250b28a6dea46f4a36d865d4f1b36fa);\n",
       "        \n",
       "    \n",
       "        var custom_icon_02d440aed3ea300a7cf23758f9be0ea8 = L.icon({\n",
       "  &quot;iconUrl&quot;: &quot;https://images.icon-icons.com/2791/PNG/512/cloudy_cloud_weather_icon_177580.png&quot;,\n",
       "  &quot;iconSize&quot;: [40, 40],\n",
       "});\n",
       "        marker_5a8a38b08e9533b146b03b4b8c1f292c.setIcon(custom_icon_02d440aed3ea300a7cf23758f9be0ea8);\n",
       "        \n",
       "    \n",
       "        var popup_6dfb7e9d8a6ff37940ff6d8c51dfba90 = L.popup({\n",
       "  &quot;maxWidth&quot;: &quot;100%&quot;,\n",
       "});\n",
       "\n",
       "        \n",
       "            \n",
       "                var html_6548321660166e36512d071dad5d2318 = $(`&lt;div id=&quot;html_6548321660166e36512d071dad5d2318&quot; style=&quot;width: 100.0%; height: 100.0%;&quot;&gt;Cassis&lt;/div&gt;`)[0];\n",
       "                popup_6dfb7e9d8a6ff37940ff6d8c51dfba90.setContent(html_6548321660166e36512d071dad5d2318);\n",
       "            \n",
       "        \n",
       "\n",
       "        marker_5a8a38b08e9533b146b03b4b8c1f292c.bindPopup(popup_6dfb7e9d8a6ff37940ff6d8c51dfba90)\n",
       "        ;\n",
       "\n",
       "        \n",
       "    \n",
       "    \n",
       "                marker_5a8a38b08e9533b146b03b4b8c1f292c.setIcon(custom_icon_02d440aed3ea300a7cf23758f9be0ea8);\n",
       "            \n",
       "    \n",
       "            var marker_2f8ff0b5a3ab91d0b6997aa7079acb44 = L.marker(\n",
       "                [43.2961743, 5.3699525],\n",
       "                {\n",
       "}\n",
       "            ).addTo(map_b250b28a6dea46f4a36d865d4f1b36fa);\n",
       "        \n",
       "    \n",
       "        var custom_icon_33c272d602ed0a4e1fb5ef9aa87bec52 = L.icon({\n",
       "  &quot;iconUrl&quot;: &quot;https://images.icon-icons.com/2791/PNG/512/sunny_day_weather_sun_icon_177555.png&quot;,\n",
       "  &quot;iconSize&quot;: [40, 40],\n",
       "});\n",
       "        marker_2f8ff0b5a3ab91d0b6997aa7079acb44.setIcon(custom_icon_33c272d602ed0a4e1fb5ef9aa87bec52);\n",
       "        \n",
       "    \n",
       "        var popup_0329c241e2adfd40b6d84b1ba8d0e31b = L.popup({\n",
       "  &quot;maxWidth&quot;: &quot;100%&quot;,\n",
       "});\n",
       "\n",
       "        \n",
       "            \n",
       "                var html_a9df47c06e4e4979c8f7bca49b77b730 = $(`&lt;div id=&quot;html_a9df47c06e4e4979c8f7bca49b77b730&quot; style=&quot;width: 100.0%; height: 100.0%;&quot;&gt;Marseille&lt;/div&gt;`)[0];\n",
       "                popup_0329c241e2adfd40b6d84b1ba8d0e31b.setContent(html_a9df47c06e4e4979c8f7bca49b77b730);\n",
       "            \n",
       "        \n",
       "\n",
       "        marker_2f8ff0b5a3ab91d0b6997aa7079acb44.bindPopup(popup_0329c241e2adfd40b6d84b1ba8d0e31b)\n",
       "        ;\n",
       "\n",
       "        \n",
       "    \n",
       "    \n",
       "                marker_2f8ff0b5a3ab91d0b6997aa7079acb44.setIcon(custom_icon_33c272d602ed0a4e1fb5ef9aa87bec52);\n",
       "            \n",
       "    \n",
       "            var marker_414ee1c36f5e3c512b8c5cd53a685573 = L.marker(\n",
       "                [43.5298424, 5.4474738],\n",
       "                {\n",
       "}\n",
       "            ).addTo(map_b250b28a6dea46f4a36d865d4f1b36fa);\n",
       "        \n",
       "    \n",
       "        var custom_icon_a7dedf2490dba940851f669952dd9495 = L.icon({\n",
       "  &quot;iconUrl&quot;: &quot;https://images.icon-icons.com/2791/PNG/512/overcast_cloud_weather_icon_177561.png&quot;,\n",
       "  &quot;iconSize&quot;: [40, 40],\n",
       "});\n",
       "        marker_414ee1c36f5e3c512b8c5cd53a685573.setIcon(custom_icon_a7dedf2490dba940851f669952dd9495);\n",
       "        \n",
       "    \n",
       "        var popup_853e826d8c7c0ca75c0c316c66d7a813 = L.popup({\n",
       "  &quot;maxWidth&quot;: &quot;100%&quot;,\n",
       "});\n",
       "\n",
       "        \n",
       "            \n",
       "                var html_aa102491976adc44f0d4c0d010af1266 = $(`&lt;div id=&quot;html_aa102491976adc44f0d4c0d010af1266&quot; style=&quot;width: 100.0%; height: 100.0%;&quot;&gt;Aix en Provence&lt;/div&gt;`)[0];\n",
       "                popup_853e826d8c7c0ca75c0c316c66d7a813.setContent(html_aa102491976adc44f0d4c0d010af1266);\n",
       "            \n",
       "        \n",
       "\n",
       "        marker_414ee1c36f5e3c512b8c5cd53a685573.bindPopup(popup_853e826d8c7c0ca75c0c316c66d7a813)\n",
       "        ;\n",
       "\n",
       "        \n",
       "    \n",
       "    \n",
       "                marker_414ee1c36f5e3c512b8c5cd53a685573.setIcon(custom_icon_a7dedf2490dba940851f669952dd9495);\n",
       "            \n",
       "    \n",
       "            var marker_976a4c6ab40a573c620c08e7ee49d449 = L.marker(\n",
       "                [43.9492493, 4.8059012],\n",
       "                {\n",
       "}\n",
       "            ).addTo(map_b250b28a6dea46f4a36d865d4f1b36fa);\n",
       "        \n",
       "    \n",
       "        var custom_icon_ade8a58ce15f279f9f96619563bed1ca = L.icon({\n",
       "  &quot;iconUrl&quot;: &quot;https://images.icon-icons.com/2791/PNG/512/rain_cloud_weather_icon_177568.png&quot;,\n",
       "  &quot;iconSize&quot;: [40, 40],\n",
       "});\n",
       "        marker_976a4c6ab40a573c620c08e7ee49d449.setIcon(custom_icon_ade8a58ce15f279f9f96619563bed1ca);\n",
       "        \n",
       "    \n",
       "        var popup_b6414c992f4d0fd420b62fc03936d3bb = L.popup({\n",
       "  &quot;maxWidth&quot;: &quot;100%&quot;,\n",
       "});\n",
       "\n",
       "        \n",
       "            \n",
       "                var html_14a9953807c0cf486767b0d12fd99439 = $(`&lt;div id=&quot;html_14a9953807c0cf486767b0d12fd99439&quot; style=&quot;width: 100.0%; height: 100.0%;&quot;&gt;Avignon&lt;/div&gt;`)[0];\n",
       "                popup_b6414c992f4d0fd420b62fc03936d3bb.setContent(html_14a9953807c0cf486767b0d12fd99439);\n",
       "            \n",
       "        \n",
       "\n",
       "        marker_976a4c6ab40a573c620c08e7ee49d449.bindPopup(popup_b6414c992f4d0fd420b62fc03936d3bb)\n",
       "        ;\n",
       "\n",
       "        \n",
       "    \n",
       "    \n",
       "                marker_976a4c6ab40a573c620c08e7ee49d449.setIcon(custom_icon_ade8a58ce15f279f9f96619563bed1ca);\n",
       "            \n",
       "    \n",
       "            var marker_77a7f49cc26a906cc035e7ac3b1214dc = L.marker(\n",
       "                [44.0121279, 4.4196718],\n",
       "                {\n",
       "}\n",
       "            ).addTo(map_b250b28a6dea46f4a36d865d4f1b36fa);\n",
       "        \n",
       "    \n",
       "        var custom_icon_c21a765f9f679c0e493d940bf54d0192 = L.icon({\n",
       "  &quot;iconUrl&quot;: &quot;https://images.icon-icons.com/2791/PNG/512/rain_cloud_weather_icon_177568.png&quot;,\n",
       "  &quot;iconSize&quot;: [40, 40],\n",
       "});\n",
       "        marker_77a7f49cc26a906cc035e7ac3b1214dc.setIcon(custom_icon_c21a765f9f679c0e493d940bf54d0192);\n",
       "        \n",
       "    \n",
       "        var popup_afe6eafac5e43d16b526b7d464dfd516 = L.popup({\n",
       "  &quot;maxWidth&quot;: &quot;100%&quot;,\n",
       "});\n",
       "\n",
       "        \n",
       "            \n",
       "                var html_c3e03f2a4ab8d6417e3b2c5073391c5e = $(`&lt;div id=&quot;html_c3e03f2a4ab8d6417e3b2c5073391c5e&quot; style=&quot;width: 100.0%; height: 100.0%;&quot;&gt;Uzes&lt;/div&gt;`)[0];\n",
       "                popup_afe6eafac5e43d16b526b7d464dfd516.setContent(html_c3e03f2a4ab8d6417e3b2c5073391c5e);\n",
       "            \n",
       "        \n",
       "\n",
       "        marker_77a7f49cc26a906cc035e7ac3b1214dc.bindPopup(popup_afe6eafac5e43d16b526b7d464dfd516)\n",
       "        ;\n",
       "\n",
       "        \n",
       "    \n",
       "    \n",
       "                marker_77a7f49cc26a906cc035e7ac3b1214dc.setIcon(custom_icon_c21a765f9f679c0e493d940bf54d0192);\n",
       "            \n",
       "    \n",
       "            var marker_4918ab112cfa347d27387d5fef3667af = L.marker(\n",
       "                [43.8374249, 4.3600687],\n",
       "                {\n",
       "}\n",
       "            ).addTo(map_b250b28a6dea46f4a36d865d4f1b36fa);\n",
       "        \n",
       "    \n",
       "        var custom_icon_bbf7da97cbecb225c2c3cf8cb5567825 = L.icon({\n",
       "  &quot;iconUrl&quot;: &quot;https://images.icon-icons.com/2791/PNG/512/rain_cloud_weather_icon_177568.png&quot;,\n",
       "  &quot;iconSize&quot;: [40, 40],\n",
       "});\n",
       "        marker_4918ab112cfa347d27387d5fef3667af.setIcon(custom_icon_bbf7da97cbecb225c2c3cf8cb5567825);\n",
       "        \n",
       "    \n",
       "        var popup_1c8b60ab3aabf38ed14910739eb0dc86 = L.popup({\n",
       "  &quot;maxWidth&quot;: &quot;100%&quot;,\n",
       "});\n",
       "\n",
       "        \n",
       "            \n",
       "                var html_7930c87fce1ee4ac626fab3a9774f432 = $(`&lt;div id=&quot;html_7930c87fce1ee4ac626fab3a9774f432&quot; style=&quot;width: 100.0%; height: 100.0%;&quot;&gt;Nimes&lt;/div&gt;`)[0];\n",
       "                popup_1c8b60ab3aabf38ed14910739eb0dc86.setContent(html_7930c87fce1ee4ac626fab3a9774f432);\n",
       "            \n",
       "        \n",
       "\n",
       "        marker_4918ab112cfa347d27387d5fef3667af.bindPopup(popup_1c8b60ab3aabf38ed14910739eb0dc86)\n",
       "        ;\n",
       "\n",
       "        \n",
       "    \n",
       "    \n",
       "                marker_4918ab112cfa347d27387d5fef3667af.setIcon(custom_icon_bbf7da97cbecb225c2c3cf8cb5567825);\n",
       "            \n",
       "    \n",
       "            var marker_23fdea78fa05828a7c37713c4f473d8c = L.marker(\n",
       "                [43.5658225, 4.1912837],\n",
       "                {\n",
       "}\n",
       "            ).addTo(map_b250b28a6dea46f4a36d865d4f1b36fa);\n",
       "        \n",
       "    \n",
       "        var custom_icon_968524dddb51bb305ef1885e203f727e = L.icon({\n",
       "  &quot;iconUrl&quot;: &quot;https://images.icon-icons.com/2791/PNG/512/rain_cloud_weather_icon_177568.png&quot;,\n",
       "  &quot;iconSize&quot;: [40, 40],\n",
       "});\n",
       "        marker_23fdea78fa05828a7c37713c4f473d8c.setIcon(custom_icon_968524dddb51bb305ef1885e203f727e);\n",
       "        \n",
       "    \n",
       "        var popup_7b18d8bb97c813c328e725724b92d239 = L.popup({\n",
       "  &quot;maxWidth&quot;: &quot;100%&quot;,\n",
       "});\n",
       "\n",
       "        \n",
       "            \n",
       "                var html_81928b10de924f65b3859bc24aaec07c = $(`&lt;div id=&quot;html_81928b10de924f65b3859bc24aaec07c&quot; style=&quot;width: 100.0%; height: 100.0%;&quot;&gt;Aigues Mortes&lt;/div&gt;`)[0];\n",
       "                popup_7b18d8bb97c813c328e725724b92d239.setContent(html_81928b10de924f65b3859bc24aaec07c);\n",
       "            \n",
       "        \n",
       "\n",
       "        marker_23fdea78fa05828a7c37713c4f473d8c.bindPopup(popup_7b18d8bb97c813c328e725724b92d239)\n",
       "        ;\n",
       "\n",
       "        \n",
       "    \n",
       "    \n",
       "                marker_23fdea78fa05828a7c37713c4f473d8c.setIcon(custom_icon_968524dddb51bb305ef1885e203f727e);\n",
       "            \n",
       "    \n",
       "            var marker_b0379f9bf1465b35a31b1a7f19a7a034 = L.marker(\n",
       "                [43.4522771, 4.4287172],\n",
       "                {\n",
       "}\n",
       "            ).addTo(map_b250b28a6dea46f4a36d865d4f1b36fa);\n",
       "        \n",
       "    \n",
       "        var custom_icon_aa2b7d58e3e856630c41d0c6080d05eb = L.icon({\n",
       "  &quot;iconUrl&quot;: &quot;https://images.icon-icons.com/2791/PNG/512/overcast_cloud_weather_icon_177561.png&quot;,\n",
       "  &quot;iconSize&quot;: [40, 40],\n",
       "});\n",
       "        marker_b0379f9bf1465b35a31b1a7f19a7a034.setIcon(custom_icon_aa2b7d58e3e856630c41d0c6080d05eb);\n",
       "        \n",
       "    \n",
       "        var popup_2777603de510c96c35f5d7ca589202f9 = L.popup({\n",
       "  &quot;maxWidth&quot;: &quot;100%&quot;,\n",
       "});\n",
       "\n",
       "        \n",
       "            \n",
       "                var html_ae63885dbfa47ee9a1f4272c0600242e = $(`&lt;div id=&quot;html_ae63885dbfa47ee9a1f4272c0600242e&quot; style=&quot;width: 100.0%; height: 100.0%;&quot;&gt;Saintes Maries de la mer&lt;/div&gt;`)[0];\n",
       "                popup_2777603de510c96c35f5d7ca589202f9.setContent(html_ae63885dbfa47ee9a1f4272c0600242e);\n",
       "            \n",
       "        \n",
       "\n",
       "        marker_b0379f9bf1465b35a31b1a7f19a7a034.bindPopup(popup_2777603de510c96c35f5d7ca589202f9)\n",
       "        ;\n",
       "\n",
       "        \n",
       "    \n",
       "    \n",
       "                marker_b0379f9bf1465b35a31b1a7f19a7a034.setIcon(custom_icon_aa2b7d58e3e856630c41d0c6080d05eb);\n",
       "            \n",
       "    \n",
       "            var marker_d37fc60bdbf057fe80b7f04f7dc86849 = L.marker(\n",
       "                [42.52505, 3.0831554],\n",
       "                {\n",
       "}\n",
       "            ).addTo(map_b250b28a6dea46f4a36d865d4f1b36fa);\n",
       "        \n",
       "    \n",
       "        var custom_icon_d86fa65a1e5bc0f864baf751b8558e72 = L.icon({\n",
       "  &quot;iconUrl&quot;: &quot;https://images.icon-icons.com/2791/PNG/512/overcast_cloud_weather_icon_177561.png&quot;,\n",
       "  &quot;iconSize&quot;: [40, 40],\n",
       "});\n",
       "        marker_d37fc60bdbf057fe80b7f04f7dc86849.setIcon(custom_icon_d86fa65a1e5bc0f864baf751b8558e72);\n",
       "        \n",
       "    \n",
       "        var popup_b64c2a748dc4561b06448742d0f2f720 = L.popup({\n",
       "  &quot;maxWidth&quot;: &quot;100%&quot;,\n",
       "});\n",
       "\n",
       "        \n",
       "            \n",
       "                var html_47b49fb07420fa26757791f33cdb515a = $(`&lt;div id=&quot;html_47b49fb07420fa26757791f33cdb515a&quot; style=&quot;width: 100.0%; height: 100.0%;&quot;&gt;Collioure&lt;/div&gt;`)[0];\n",
       "                popup_b64c2a748dc4561b06448742d0f2f720.setContent(html_47b49fb07420fa26757791f33cdb515a);\n",
       "            \n",
       "        \n",
       "\n",
       "        marker_d37fc60bdbf057fe80b7f04f7dc86849.bindPopup(popup_b64c2a748dc4561b06448742d0f2f720)\n",
       "        ;\n",
       "\n",
       "        \n",
       "    \n",
       "    \n",
       "                marker_d37fc60bdbf057fe80b7f04f7dc86849.setIcon(custom_icon_d86fa65a1e5bc0f864baf751b8558e72);\n",
       "            \n",
       "    \n",
       "            var marker_96f5f5d55eeb8809d095ee89b49d3e49 = L.marker(\n",
       "                [43.2130358, 2.3491069],\n",
       "                {\n",
       "}\n",
       "            ).addTo(map_b250b28a6dea46f4a36d865d4f1b36fa);\n",
       "        \n",
       "    \n",
       "        var custom_icon_fc135bb87f033a06f18411f2fbddb92c = L.icon({\n",
       "  &quot;iconUrl&quot;: &quot;https://images.icon-icons.com/2791/PNG/512/overcast_cloud_weather_icon_177561.png&quot;,\n",
       "  &quot;iconSize&quot;: [40, 40],\n",
       "});\n",
       "        marker_96f5f5d55eeb8809d095ee89b49d3e49.setIcon(custom_icon_fc135bb87f033a06f18411f2fbddb92c);\n",
       "        \n",
       "    \n",
       "        var popup_27daf17c32ace6579f59082ecab03eac = L.popup({\n",
       "  &quot;maxWidth&quot;: &quot;100%&quot;,\n",
       "});\n",
       "\n",
       "        \n",
       "            \n",
       "                var html_83790f630444332f597219fd4de0b87b = $(`&lt;div id=&quot;html_83790f630444332f597219fd4de0b87b&quot; style=&quot;width: 100.0%; height: 100.0%;&quot;&gt;Carcassonne&lt;/div&gt;`)[0];\n",
       "                popup_27daf17c32ace6579f59082ecab03eac.setContent(html_83790f630444332f597219fd4de0b87b);\n",
       "            \n",
       "        \n",
       "\n",
       "        marker_96f5f5d55eeb8809d095ee89b49d3e49.bindPopup(popup_27daf17c32ace6579f59082ecab03eac)\n",
       "        ;\n",
       "\n",
       "        \n",
       "    \n",
       "    \n",
       "                marker_96f5f5d55eeb8809d095ee89b49d3e49.setIcon(custom_icon_fc135bb87f033a06f18411f2fbddb92c);\n",
       "            \n",
       "    \n",
       "            var marker_2000fb821863292cdaa9e4d494bdba65 = L.marker(\n",
       "                [42.8458016, 1.6067586],\n",
       "                {\n",
       "}\n",
       "            ).addTo(map_b250b28a6dea46f4a36d865d4f1b36fa);\n",
       "        \n",
       "    \n",
       "        var custom_icon_016264b619643a562704887342faf0b4 = L.icon({\n",
       "  &quot;iconUrl&quot;: &quot;https://images.icon-icons.com/2791/PNG/512/overcast_cloud_weather_icon_177561.png&quot;,\n",
       "  &quot;iconSize&quot;: [40, 40],\n",
       "});\n",
       "        marker_2000fb821863292cdaa9e4d494bdba65.setIcon(custom_icon_016264b619643a562704887342faf0b4);\n",
       "        \n",
       "    \n",
       "        var popup_3b1cbfadabbd233b9d2d90483866cc0a = L.popup({\n",
       "  &quot;maxWidth&quot;: &quot;100%&quot;,\n",
       "});\n",
       "\n",
       "        \n",
       "            \n",
       "                var html_0ed41f7fca9ad9ff39ae4ff019dd2e6c = $(`&lt;div id=&quot;html_0ed41f7fca9ad9ff39ae4ff019dd2e6c&quot; style=&quot;width: 100.0%; height: 100.0%;&quot;&gt;Ariege&lt;/div&gt;`)[0];\n",
       "                popup_3b1cbfadabbd233b9d2d90483866cc0a.setContent(html_0ed41f7fca9ad9ff39ae4ff019dd2e6c);\n",
       "            \n",
       "        \n",
       "\n",
       "        marker_2000fb821863292cdaa9e4d494bdba65.bindPopup(popup_3b1cbfadabbd233b9d2d90483866cc0a)\n",
       "        ;\n",
       "\n",
       "        \n",
       "    \n",
       "    \n",
       "                marker_2000fb821863292cdaa9e4d494bdba65.setIcon(custom_icon_016264b619643a562704887342faf0b4);\n",
       "            \n",
       "    \n",
       "            var marker_d4c40baab32af702bbfc0f88bc0798cd = L.marker(\n",
       "                [43.6044622, 1.4442469],\n",
       "                {\n",
       "}\n",
       "            ).addTo(map_b250b28a6dea46f4a36d865d4f1b36fa);\n",
       "        \n",
       "    \n",
       "        var custom_icon_27e8651db83443a40e25a3c7fc588485 = L.icon({\n",
       "  &quot;iconUrl&quot;: &quot;https://images.icon-icons.com/2791/PNG/512/overcast_cloud_weather_icon_177561.png&quot;,\n",
       "  &quot;iconSize&quot;: [40, 40],\n",
       "});\n",
       "        marker_d4c40baab32af702bbfc0f88bc0798cd.setIcon(custom_icon_27e8651db83443a40e25a3c7fc588485);\n",
       "        \n",
       "    \n",
       "        var popup_3e1cd054d1ce19ac00a1277861b51d2e = L.popup({\n",
       "  &quot;maxWidth&quot;: &quot;100%&quot;,\n",
       "});\n",
       "\n",
       "        \n",
       "            \n",
       "                var html_482cc567af38339b8451f20859619805 = $(`&lt;div id=&quot;html_482cc567af38339b8451f20859619805&quot; style=&quot;width: 100.0%; height: 100.0%;&quot;&gt;Toulouse&lt;/div&gt;`)[0];\n",
       "                popup_3e1cd054d1ce19ac00a1277861b51d2e.setContent(html_482cc567af38339b8451f20859619805);\n",
       "            \n",
       "        \n",
       "\n",
       "        marker_d4c40baab32af702bbfc0f88bc0798cd.bindPopup(popup_3e1cd054d1ce19ac00a1277861b51d2e)\n",
       "        ;\n",
       "\n",
       "        \n",
       "    \n",
       "    \n",
       "                marker_d4c40baab32af702bbfc0f88bc0798cd.setIcon(custom_icon_27e8651db83443a40e25a3c7fc588485);\n",
       "            \n",
       "    \n",
       "            var marker_cdae87515f521a41e81e75c01e91c69d = L.marker(\n",
       "                [44.0175835, 1.3549991],\n",
       "                {\n",
       "}\n",
       "            ).addTo(map_b250b28a6dea46f4a36d865d4f1b36fa);\n",
       "        \n",
       "    \n",
       "        var custom_icon_1820f3601d037c420d357c86cb4684cd = L.icon({\n",
       "  &quot;iconUrl&quot;: &quot;https://images.icon-icons.com/2791/PNG/512/overcast_cloud_weather_icon_177561.png&quot;,\n",
       "  &quot;iconSize&quot;: [40, 40],\n",
       "});\n",
       "        marker_cdae87515f521a41e81e75c01e91c69d.setIcon(custom_icon_1820f3601d037c420d357c86cb4684cd);\n",
       "        \n",
       "    \n",
       "        var popup_71432e6659b888b0f8a4d0c982c8a253 = L.popup({\n",
       "  &quot;maxWidth&quot;: &quot;100%&quot;,\n",
       "});\n",
       "\n",
       "        \n",
       "            \n",
       "                var html_1a66beab30a1420718026cbcd0d920cc = $(`&lt;div id=&quot;html_1a66beab30a1420718026cbcd0d920cc&quot; style=&quot;width: 100.0%; height: 100.0%;&quot;&gt;Montauban&lt;/div&gt;`)[0];\n",
       "                popup_71432e6659b888b0f8a4d0c982c8a253.setContent(html_1a66beab30a1420718026cbcd0d920cc);\n",
       "            \n",
       "        \n",
       "\n",
       "        marker_cdae87515f521a41e81e75c01e91c69d.bindPopup(popup_71432e6659b888b0f8a4d0c982c8a253)\n",
       "        ;\n",
       "\n",
       "        \n",
       "    \n",
       "    \n",
       "                marker_cdae87515f521a41e81e75c01e91c69d.setIcon(custom_icon_1820f3601d037c420d357c86cb4684cd);\n",
       "            \n",
       "    \n",
       "            var marker_a5b98b7caf71abee84d9dc10833c3b94 = L.marker(\n",
       "                [43.4832523, -1.5592776],\n",
       "                {\n",
       "}\n",
       "            ).addTo(map_b250b28a6dea46f4a36d865d4f1b36fa);\n",
       "        \n",
       "    \n",
       "        var custom_icon_00b5d852e968bd0e989da39932937dc6 = L.icon({\n",
       "  &quot;iconUrl&quot;: &quot;https://images.icon-icons.com/2791/PNG/512/overcast_cloud_weather_icon_177561.png&quot;,\n",
       "  &quot;iconSize&quot;: [40, 40],\n",
       "});\n",
       "        marker_a5b98b7caf71abee84d9dc10833c3b94.setIcon(custom_icon_00b5d852e968bd0e989da39932937dc6);\n",
       "        \n",
       "    \n",
       "        var popup_d0283ca4d846a9a6816f7184bed6cfbf = L.popup({\n",
       "  &quot;maxWidth&quot;: &quot;100%&quot;,\n",
       "});\n",
       "\n",
       "        \n",
       "            \n",
       "                var html_73e43e6fec32af5fcf38bfbc4fdf7a68 = $(`&lt;div id=&quot;html_73e43e6fec32af5fcf38bfbc4fdf7a68&quot; style=&quot;width: 100.0%; height: 100.0%;&quot;&gt;Biarritz&lt;/div&gt;`)[0];\n",
       "                popup_d0283ca4d846a9a6816f7184bed6cfbf.setContent(html_73e43e6fec32af5fcf38bfbc4fdf7a68);\n",
       "            \n",
       "        \n",
       "\n",
       "        marker_a5b98b7caf71abee84d9dc10833c3b94.bindPopup(popup_d0283ca4d846a9a6816f7184bed6cfbf)\n",
       "        ;\n",
       "\n",
       "        \n",
       "    \n",
       "    \n",
       "                marker_a5b98b7caf71abee84d9dc10833c3b94.setIcon(custom_icon_00b5d852e968bd0e989da39932937dc6);\n",
       "            \n",
       "    \n",
       "            var marker_50f14ae8a25d37d6f8e7e5ac9bb32fd1 = L.marker(\n",
       "                [43.4945144, -1.4736657],\n",
       "                {\n",
       "}\n",
       "            ).addTo(map_b250b28a6dea46f4a36d865d4f1b36fa);\n",
       "        \n",
       "    \n",
       "        var custom_icon_b0869b5babc83e19e02a2430f368fde3 = L.icon({\n",
       "  &quot;iconUrl&quot;: &quot;https://images.icon-icons.com/2791/PNG/512/overcast_cloud_weather_icon_177561.png&quot;,\n",
       "  &quot;iconSize&quot;: [40, 40],\n",
       "});\n",
       "        marker_50f14ae8a25d37d6f8e7e5ac9bb32fd1.setIcon(custom_icon_b0869b5babc83e19e02a2430f368fde3);\n",
       "        \n",
       "    \n",
       "        var popup_7250656b52198d13a3c2adceb9886baa = L.popup({\n",
       "  &quot;maxWidth&quot;: &quot;100%&quot;,\n",
       "});\n",
       "\n",
       "        \n",
       "            \n",
       "                var html_922823f9db6eaeeecaf135c54e5b766a = $(`&lt;div id=&quot;html_922823f9db6eaeeecaf135c54e5b766a&quot; style=&quot;width: 100.0%; height: 100.0%;&quot;&gt;Bayonne&lt;/div&gt;`)[0];\n",
       "                popup_7250656b52198d13a3c2adceb9886baa.setContent(html_922823f9db6eaeeecaf135c54e5b766a);\n",
       "            \n",
       "        \n",
       "\n",
       "        marker_50f14ae8a25d37d6f8e7e5ac9bb32fd1.bindPopup(popup_7250656b52198d13a3c2adceb9886baa)\n",
       "        ;\n",
       "\n",
       "        \n",
       "    \n",
       "    \n",
       "                marker_50f14ae8a25d37d6f8e7e5ac9bb32fd1.setIcon(custom_icon_b0869b5babc83e19e02a2430f368fde3);\n",
       "            \n",
       "    \n",
       "            var marker_0b17c3a8b8a95dc96fcfeb07bc8428f3 = L.marker(\n",
       "                [46.1591126, -1.1520434],\n",
       "                {\n",
       "}\n",
       "            ).addTo(map_b250b28a6dea46f4a36d865d4f1b36fa);\n",
       "        \n",
       "    \n",
       "        var custom_icon_9a15595bdd11862ec0fb2eb575f2dd52 = L.icon({\n",
       "  &quot;iconUrl&quot;: &quot;https://images.icon-icons.com/857/PNG/512/weather-2_icon-icons.com_67742.png&quot;,\n",
       "  &quot;iconSize&quot;: [40, 40],\n",
       "});\n",
       "        marker_0b17c3a8b8a95dc96fcfeb07bc8428f3.setIcon(custom_icon_9a15595bdd11862ec0fb2eb575f2dd52);\n",
       "        \n",
       "    \n",
       "        var popup_8ebb19def624dd8e523b2c4fd51998b3 = L.popup({\n",
       "  &quot;maxWidth&quot;: &quot;100%&quot;,\n",
       "});\n",
       "\n",
       "        \n",
       "            \n",
       "                var html_99e15bbb36ddfcffb28857e03dd13b8f = $(`&lt;div id=&quot;html_99e15bbb36ddfcffb28857e03dd13b8f&quot; style=&quot;width: 100.0%; height: 100.0%;&quot;&gt;La Rochelle&lt;/div&gt;`)[0];\n",
       "                popup_8ebb19def624dd8e523b2c4fd51998b3.setContent(html_99e15bbb36ddfcffb28857e03dd13b8f);\n",
       "            \n",
       "        \n",
       "\n",
       "        marker_0b17c3a8b8a95dc96fcfeb07bc8428f3.bindPopup(popup_8ebb19def624dd8e523b2c4fd51998b3)\n",
       "        ;\n",
       "\n",
       "        \n",
       "    \n",
       "    \n",
       "                marker_0b17c3a8b8a95dc96fcfeb07bc8428f3.setIcon(custom_icon_9a15595bdd11862ec0fb2eb575f2dd52);\n",
       "            \n",
       "    \n",
       "            var marker_4b478744cdf2882d7dbd35fceec00796 = L.marker(\n",
       "                [43.7496562, 6.3285616],\n",
       "                {\n",
       "}\n",
       "            ).addTo(map_b250b28a6dea46f4a36d865d4f1b36fa);\n",
       "        \n",
       "    \n",
       "        var custom_icon_7b1114bfc6a85b45318a23f2e11f2879 = L.icon({\n",
       "  &quot;iconUrl&quot;: &quot;https://images.icon-icons.com/2791/PNG/512/cloudy_cloud_weather_icon_177580.png&quot;,\n",
       "  &quot;iconSize&quot;: [40, 40],\n",
       "});\n",
       "        marker_4b478744cdf2882d7dbd35fceec00796.setIcon(custom_icon_7b1114bfc6a85b45318a23f2e11f2879);\n",
       "        \n",
       "    \n",
       "        var popup_c57836a4ba214af08fdf1532103d8d3b = L.popup({\n",
       "  &quot;maxWidth&quot;: &quot;100%&quot;,\n",
       "});\n",
       "\n",
       "        \n",
       "            \n",
       "                var html_833649becbc025fec5d66d042f9b259a = $(`&lt;div id=&quot;html_833649becbc025fec5d66d042f9b259a&quot; style=&quot;width: 100.0%; height: 100.0%;&quot;&gt;Gorges du Verdon&lt;/div&gt;`)[0];\n",
       "                popup_c57836a4ba214af08fdf1532103d8d3b.setContent(html_833649becbc025fec5d66d042f9b259a);\n",
       "            \n",
       "        \n",
       "\n",
       "        marker_4b478744cdf2882d7dbd35fceec00796.bindPopup(popup_c57836a4ba214af08fdf1532103d8d3b)\n",
       "        ;\n",
       "\n",
       "        \n",
       "    \n",
       "    \n",
       "                marker_4b478744cdf2882d7dbd35fceec00796.setIcon(custom_icon_7b1114bfc6a85b45318a23f2e11f2879);\n",
       "            \n",
       "    \n",
       "            tile_layer_8a0aa83358d7c9061495a8db7ff49cb0.addTo(map_b250b28a6dea46f4a36d865d4f1b36fa);\n",
       "        \n",
       "    \n",
       "                marker_1b0a71cd533a6e51f2b854368e7f60ac.setIcon(custom_icon_be88be7d2c550a45a1a0e7f7f3a5ddb0);\n",
       "            \n",
       "    \n",
       "                marker_664007f4204e7a5cd10ae675e51ead84.setIcon(custom_icon_ee23c4435c624a3480fc2bf0da88c2bc);\n",
       "            \n",
       "    \n",
       "                marker_052110936da46129b73d72986ba15a10.setIcon(custom_icon_5df3d703eb65bc196356946e069bcbd0);\n",
       "            \n",
       "    \n",
       "                marker_0e61a28322d5888847c057ca154a91ae.setIcon(custom_icon_0e56252de9a6f3e1d61aedecb9877b6d);\n",
       "            \n",
       "    \n",
       "                marker_1957785f809cc8eed9c3bbfc13f049c2.setIcon(custom_icon_85f81d8e691d55088ef47cf1e71c4b97);\n",
       "            \n",
       "    \n",
       "                marker_33862f476ab1d3da4369d91e168a72ae.setIcon(custom_icon_6311696029e93cf28787a5c06fdc64f4);\n",
       "            \n",
       "    \n",
       "                marker_d79e43e8e46af6e340af093820640d26.setIcon(custom_icon_b3a6683a70070e29da37a369b620f671);\n",
       "            \n",
       "    \n",
       "                marker_905d322672fab0683a0f9a60306abe4e.setIcon(custom_icon_c45f249ad285ba492bdbc23022f3fba3);\n",
       "            \n",
       "    \n",
       "                marker_ec8aff5ec99ed0eb8783daf39ab10ef7.setIcon(custom_icon_3a3195d2bc72e5cbf9581b6838d8adfe);\n",
       "            \n",
       "    \n",
       "                marker_e0a11da93ab2c64254a32f9fd552371c.setIcon(custom_icon_a54780ada5f9940c3110e21be57757cb);\n",
       "            \n",
       "    \n",
       "                marker_c2dcef02a37334d337482d5ab9cc71e6.setIcon(custom_icon_0e9c000bf07e2ec36d5f9161925ec8cb);\n",
       "            \n",
       "    \n",
       "                marker_36375dba7c5aa41c337e582ccf0395ae.setIcon(custom_icon_da0c26b1fd23f480f99a7080c638aa65);\n",
       "            \n",
       "    \n",
       "                marker_b64b8a2ba37b52f22836cc0e9ffd17a8.setIcon(custom_icon_6f458ea3930be4c88a65f1341fde9034);\n",
       "            \n",
       "    \n",
       "                marker_1b22303197206be22abb5305cd14a8d3.setIcon(custom_icon_69c45f4ab72d15e43185706a182bb0bd);\n",
       "            \n",
       "    \n",
       "                marker_e406e485e52e6013ae6d35cad6080663.setIcon(custom_icon_9d11c81568ffe09bcf5ffaf04e11d41f);\n",
       "            \n",
       "    \n",
       "                marker_e004ef023265c94cd4ac645a0b2836c1.setIcon(custom_icon_486c3429fc522ec4cfd4f563ea819379);\n",
       "            \n",
       "    \n",
       "                marker_84e2828cdb03073adf22c77fcb21a657.setIcon(custom_icon_b1bf5217c8a3162420dbfe84b666da63);\n",
       "            \n",
       "    \n",
       "                marker_b0093cbe1d2775012fee9debe28c2759.setIcon(custom_icon_6dea1db70fb242830eba44968ea500fc);\n",
       "            \n",
       "    \n",
       "                marker_5a8a38b08e9533b146b03b4b8c1f292c.setIcon(custom_icon_02d440aed3ea300a7cf23758f9be0ea8);\n",
       "            \n",
       "    \n",
       "                marker_2f8ff0b5a3ab91d0b6997aa7079acb44.setIcon(custom_icon_33c272d602ed0a4e1fb5ef9aa87bec52);\n",
       "            \n",
       "    \n",
       "                marker_414ee1c36f5e3c512b8c5cd53a685573.setIcon(custom_icon_a7dedf2490dba940851f669952dd9495);\n",
       "            \n",
       "    \n",
       "                marker_976a4c6ab40a573c620c08e7ee49d449.setIcon(custom_icon_ade8a58ce15f279f9f96619563bed1ca);\n",
       "            \n",
       "    \n",
       "                marker_77a7f49cc26a906cc035e7ac3b1214dc.setIcon(custom_icon_c21a765f9f679c0e493d940bf54d0192);\n",
       "            \n",
       "    \n",
       "                marker_4918ab112cfa347d27387d5fef3667af.setIcon(custom_icon_bbf7da97cbecb225c2c3cf8cb5567825);\n",
       "            \n",
       "    \n",
       "                marker_23fdea78fa05828a7c37713c4f473d8c.setIcon(custom_icon_968524dddb51bb305ef1885e203f727e);\n",
       "            \n",
       "    \n",
       "                marker_b0379f9bf1465b35a31b1a7f19a7a034.setIcon(custom_icon_aa2b7d58e3e856630c41d0c6080d05eb);\n",
       "            \n",
       "    \n",
       "                marker_d37fc60bdbf057fe80b7f04f7dc86849.setIcon(custom_icon_d86fa65a1e5bc0f864baf751b8558e72);\n",
       "            \n",
       "    \n",
       "                marker_96f5f5d55eeb8809d095ee89b49d3e49.setIcon(custom_icon_fc135bb87f033a06f18411f2fbddb92c);\n",
       "            \n",
       "    \n",
       "                marker_2000fb821863292cdaa9e4d494bdba65.setIcon(custom_icon_016264b619643a562704887342faf0b4);\n",
       "            \n",
       "    \n",
       "                marker_d4c40baab32af702bbfc0f88bc0798cd.setIcon(custom_icon_27e8651db83443a40e25a3c7fc588485);\n",
       "            \n",
       "    \n",
       "                marker_cdae87515f521a41e81e75c01e91c69d.setIcon(custom_icon_1820f3601d037c420d357c86cb4684cd);\n",
       "            \n",
       "    \n",
       "                marker_a5b98b7caf71abee84d9dc10833c3b94.setIcon(custom_icon_00b5d852e968bd0e989da39932937dc6);\n",
       "            \n",
       "    \n",
       "                marker_50f14ae8a25d37d6f8e7e5ac9bb32fd1.setIcon(custom_icon_b0869b5babc83e19e02a2430f368fde3);\n",
       "            \n",
       "    \n",
       "                marker_0b17c3a8b8a95dc96fcfeb07bc8428f3.setIcon(custom_icon_9a15595bdd11862ec0fb2eb575f2dd52);\n",
       "            \n",
       "    \n",
       "                marker_4b478744cdf2882d7dbd35fceec00796.setIcon(custom_icon_7b1114bfc6a85b45318a23f2e11f2879);\n",
       "            \n",
       "&lt;/script&gt;\n",
       "&lt;/html&gt;\" style=\"position:absolute;width:100%;height:100%;left:0;top:0;border:none !important;\" allowfullscreen webkitallowfullscreen mozallowfullscreen></iframe></div></div>"
      ],
      "text/plain": [
       "<folium.folium.Map at 0x1e69b201030>"
      ]
     },
     "execution_count": 106,
     "metadata": {},
     "output_type": "execute_result"
    }
   ],
   "source": [
    "# Dictionnaire pour mapper les descriptions aux icônes\n",
    "icon_mapping = {\n",
    "    'clear sky': \"https://images.icon-icons.com/2791/PNG/512/sunny_day_weather_sun_icon_177555.png\",  \n",
    "    'scattered clouds': 'https://images.icon-icons.com/2791/PNG/512/partly_cloudy_day_sun_clouds_weather_icon_177560.png',\n",
    "    'few clouds' : 'https://images.icon-icons.com/857/PNG/512/weather-2_icon-icons.com_67742.png',\n",
    "    'broken clouds': 'https://images.icon-icons.com/2791/PNG/512/cloudy_cloud_weather_icon_177580.png',\n",
    "    'overcast clouds': 'https://images.icon-icons.com/2791/PNG/512/overcast_cloud_weather_icon_177561.png',\n",
    "    'light intensity drizzle rain' : 'https://images.icon-icons.com/139/PNG/512/drizzle_day_weather_20907.png',\n",
    "    'light intensity drizzle': 'https://images.icon-icons.com/139/PNG/512/drizzle_day_weather_20907.png',\n",
    "    'mist': 'https://images.icon-icons.com/2791/PNG/512/fog_weather_icon_177578.png',\n",
    "    'light rain' : 'https://images.icon-icons.com/2791/PNG/512/rain_cloud_weather_icon_177568.png',\n",
    "    'heavy rain' : 'https://images.icon-icons.com/2791/PNG/512/heavy_rain_weather_icon_177574.png',\n",
    "    'heavy intensity rain' : \"https://images.icon-icons.com/2791/PNG/512/heavy_rain_day_weather_icon_177573.png\",\n",
    "    'moderate rain' : 'https://images.icon-icons.com/2791/PNG/512/heavy_rain_day_weather_icon_177573.png',\n",
    "    'thunder storm' : 'https://images.icon-icons.com/2791/PNG/512/thunder_thunderbolt_cloud_weather_icon_177554.png',\n",
    "    'snow' : 'https://images.icon-icons.com/2791/PNG/512/heavy_snow_weather_icon_177571.png'\n",
    "}\n",
    "\n",
    "# Créer une carte centrée sur la France\n",
    "map = folium.Map(location=[46.603354, 1.888334], zoom_start=6)\n",
    "\n",
    "# Ajouter les villes à la carte avec des icônes personnalisées\n",
    "for i, row in bc.iterrows():\n",
    "    icon_url = icon_mapping.get(row['description'], 'https://images.icon-icons.com/1744/PNG/512/3643775-caution-exclamation-mark-sign-triangle_113444.png')  #si non trouvé dans le dico, ce logo apparait\n",
    "    folium.Marker(\n",
    "        location=[row['lat'], row['lon']],\n",
    "        popup=row['cities'],\n",
    "        icon=folium.CustomIcon(icon_url, icon_size=(40, 40))  # Ajustez la taille de l'icône si nécessaire\n",
    "    ).add_to(map)\n",
    "\n",
    "# Sauvegarder la carte dans un fichier HTML\n",
    "map.save('maps/map_meteo_best_city.html')\n",
    "\n",
    "# Afficher la carte\n",
    "map\n"
   ]
  },
  {
   "cell_type": "markdown",
   "metadata": {},
   "source": [
    "# Selection des meilleures destinations"
   ]
  },
  {
   "cell_type": "markdown",
   "metadata": {},
   "source": [
    "Nous sommes au printemps. Nous cherchons une distination qui nous changerait de la grisaille parisienne. Pour définir les villes avec la meilleure météo, nous pouvons définir les conditions suivantes :\n",
    "- ciel dégagé\n",
    "- hautes température rééel et ressentie\n",
    "- Indice UV élevé\n",
    "- faible taux d'humidité\n",
    "- faible vitesse du vent"
   ]
  },
  {
   "cell_type": "code",
   "execution_count": 107,
   "metadata": {},
   "outputs": [
    {
     "data": {
      "text/html": [
       "<div>\n",
       "<style scoped>\n",
       "    .dataframe tbody tr th:only-of-type {\n",
       "        vertical-align: middle;\n",
       "    }\n",
       "\n",
       "    .dataframe tbody tr th {\n",
       "        vertical-align: top;\n",
       "    }\n",
       "\n",
       "    .dataframe thead th {\n",
       "        text-align: right;\n",
       "    }\n",
       "</style>\n",
       "<table border=\"1\" class=\"dataframe\">\n",
       "  <thead>\n",
       "    <tr style=\"text-align: right;\">\n",
       "      <th></th>\n",
       "      <th>cities</th>\n",
       "      <th>name</th>\n",
       "      <th>country</th>\n",
       "      <th>state</th>\n",
       "      <th>lat</th>\n",
       "      <th>lon</th>\n",
       "      <th>date</th>\n",
       "      <th>temp</th>\n",
       "      <th>feels_like</th>\n",
       "      <th>uvi</th>\n",
       "      <th>humidity</th>\n",
       "      <th>wind_speed</th>\n",
       "      <th>description</th>\n",
       "    </tr>\n",
       "  </thead>\n",
       "  <tbody>\n",
       "    <tr>\n",
       "      <th>19</th>\n",
       "      <td>Marseille</td>\n",
       "      <td>Marseille</td>\n",
       "      <td>FR</td>\n",
       "      <td>Provence-Alpes-Côte d'Azur</td>\n",
       "      <td>43.296174</td>\n",
       "      <td>5.369953</td>\n",
       "      <td>2025-04-23 14:37:10</td>\n",
       "      <td>18.08</td>\n",
       "      <td>17.25</td>\n",
       "      <td>2.71</td>\n",
       "      <td>50.0</td>\n",
       "      <td>7.72</td>\n",
       "      <td>clear sky</td>\n",
       "    </tr>\n",
       "  </tbody>\n",
       "</table>\n",
       "</div>"
      ],
      "text/plain": [
       "       cities       name country                       state        lat  \\\n",
       "19  Marseille  Marseille      FR  Provence-Alpes-Côte d'Azur  43.296174   \n",
       "\n",
       "         lon                 date   temp  feels_like   uvi  humidity  \\\n",
       "19  5.369953  2025-04-23 14:37:10  18.08       17.25  2.71      50.0   \n",
       "\n",
       "    wind_speed description  \n",
       "19        7.72   clear sky  "
      ]
     },
     "execution_count": 107,
     "metadata": {},
     "output_type": "execute_result"
    }
   ],
   "source": [
    "bc[bc[\"description\"]==\"clear sky\"]"
   ]
  },
  {
   "cell_type": "code",
   "execution_count": 32,
   "metadata": {},
   "outputs": [
    {
     "name": "stdout",
     "output_type": "stream",
     "text": [
      "Villes avec la meilleure météo :\n",
      "{'Marseille', 'Nimes', 'Avignon', 'Cassis', 'Gorges du Verdon'}\n"
     ]
    }
   ],
   "source": [
    "# Filtrer les villes avec la description \"clear sky\"\n",
    "filtered_bc = bc[bc['description'] == 'clear sky']\n",
    "\n",
    "# Sélectionner les 5 meilleures villes pour chaque critère parmi les villes filtrées.\n",
    "top_feels_like = set(filtered_bc.nlargest(5, 'feels_like')['cities'])# critère le plus important, donc le plus restrictif\n",
    "#top_temp = set(filtered_bc.nlargest(10, 'temp')['cities']) #critère retiré car redondant avec la précédent\n",
    "top_uvi = set(filtered_bc.nlargest(10, 'uvi')['cities'])\n",
    "top_humidity = set(filtered_bc.nsmallest(10, 'humidity')['cities'])\n",
    "top_wind_speed = set(filtered_bc.nsmallest(15, 'wind_speed')['cities'])\n",
    "\n",
    "# Trouver l'intersection des ensembles\n",
    "best_weather = top_feels_like &  top_uvi & top_humidity & top_wind_speed\n",
    "#top_temp &\n",
    "\n",
    "# Afficher la liste des meilleures villes\n",
    "print(\"Villes avec la meilleure météo :\")\n",
    "print(best_weather)"
   ]
  },
  {
   "cell_type": "code",
   "execution_count": 33,
   "metadata": {},
   "outputs": [
    {
     "data": {
      "text/html": [
       "<div>\n",
       "<style scoped>\n",
       "    .dataframe tbody tr th:only-of-type {\n",
       "        vertical-align: middle;\n",
       "    }\n",
       "\n",
       "    .dataframe tbody tr th {\n",
       "        vertical-align: top;\n",
       "    }\n",
       "\n",
       "    .dataframe thead th {\n",
       "        text-align: right;\n",
       "    }\n",
       "</style>\n",
       "<table border=\"1\" class=\"dataframe\">\n",
       "  <thead>\n",
       "    <tr style=\"text-align: right;\">\n",
       "      <th></th>\n",
       "      <th>cities</th>\n",
       "      <th>name</th>\n",
       "      <th>country</th>\n",
       "      <th>state</th>\n",
       "      <th>lat</th>\n",
       "      <th>lon</th>\n",
       "      <th>date</th>\n",
       "      <th>temp</th>\n",
       "      <th>feels_like</th>\n",
       "      <th>uvi</th>\n",
       "      <th>humidity</th>\n",
       "      <th>wind_speed</th>\n",
       "      <th>description</th>\n",
       "    </tr>\n",
       "  </thead>\n",
       "  <tbody>\n",
       "    <tr>\n",
       "      <th>34</th>\n",
       "      <td>Gorges du Verdon</td>\n",
       "      <td>NaN</td>\n",
       "      <td>NaN</td>\n",
       "      <td>NaN</td>\n",
       "      <td>43.749656</td>\n",
       "      <td>6.328562</td>\n",
       "      <td>2025-04-23 10:40:04</td>\n",
       "      <td>19.98</td>\n",
       "      <td>19.42</td>\n",
       "      <td>6.38</td>\n",
       "      <td>53.0</td>\n",
       "      <td>3.53</td>\n",
       "      <td>clear sky</td>\n",
       "    </tr>\n",
       "    <tr>\n",
       "      <th>23</th>\n",
       "      <td>Nimes</td>\n",
       "      <td>Nimes</td>\n",
       "      <td>FR</td>\n",
       "      <td>Occitania</td>\n",
       "      <td>43.837425</td>\n",
       "      <td>4.360069</td>\n",
       "      <td>2025-04-23 10:40:03</td>\n",
       "      <td>20.22</td>\n",
       "      <td>19.26</td>\n",
       "      <td>6.22</td>\n",
       "      <td>37.0</td>\n",
       "      <td>4.63</td>\n",
       "      <td>clear sky</td>\n",
       "    </tr>\n",
       "    <tr>\n",
       "      <th>19</th>\n",
       "      <td>Marseille</td>\n",
       "      <td>Marseille</td>\n",
       "      <td>FR</td>\n",
       "      <td>Provence-Alpes-Côte d'Azur</td>\n",
       "      <td>43.296174</td>\n",
       "      <td>5.369953</td>\n",
       "      <td>2025-04-23 10:40:02</td>\n",
       "      <td>19.75</td>\n",
       "      <td>19.09</td>\n",
       "      <td>6.19</td>\n",
       "      <td>50.0</td>\n",
       "      <td>7.20</td>\n",
       "      <td>clear sky</td>\n",
       "    </tr>\n",
       "    <tr>\n",
       "      <th>21</th>\n",
       "      <td>Avignon</td>\n",
       "      <td>Avignon</td>\n",
       "      <td>FR</td>\n",
       "      <td>Provence-Alpes-Côte d'Azur</td>\n",
       "      <td>43.949249</td>\n",
       "      <td>4.805901</td>\n",
       "      <td>2025-04-23 10:40:03</td>\n",
       "      <td>19.67</td>\n",
       "      <td>19.02</td>\n",
       "      <td>6.14</td>\n",
       "      <td>51.0</td>\n",
       "      <td>6.17</td>\n",
       "      <td>clear sky</td>\n",
       "    </tr>\n",
       "    <tr>\n",
       "      <th>18</th>\n",
       "      <td>Cassis</td>\n",
       "      <td>Cassis</td>\n",
       "      <td>FR</td>\n",
       "      <td>Provence-Alpes-Côte d'Azur</td>\n",
       "      <td>43.214036</td>\n",
       "      <td>5.539632</td>\n",
       "      <td>2025-04-23 10:40:02</td>\n",
       "      <td>19.58</td>\n",
       "      <td>18.90</td>\n",
       "      <td>6.29</td>\n",
       "      <td>50.0</td>\n",
       "      <td>9.08</td>\n",
       "      <td>clear sky</td>\n",
       "    </tr>\n",
       "  </tbody>\n",
       "</table>\n",
       "</div>"
      ],
      "text/plain": [
       "              cities       name country                       state  \\\n",
       "34  Gorges du Verdon        NaN     NaN                         NaN   \n",
       "23             Nimes      Nimes      FR                   Occitania   \n",
       "19         Marseille  Marseille      FR  Provence-Alpes-Côte d'Azur   \n",
       "21           Avignon    Avignon      FR  Provence-Alpes-Côte d'Azur   \n",
       "18            Cassis     Cassis      FR  Provence-Alpes-Côte d'Azur   \n",
       "\n",
       "          lat       lon                 date   temp  feels_like   uvi  \\\n",
       "34  43.749656  6.328562  2025-04-23 10:40:04  19.98       19.42  6.38   \n",
       "23  43.837425  4.360069  2025-04-23 10:40:03  20.22       19.26  6.22   \n",
       "19  43.296174  5.369953  2025-04-23 10:40:02  19.75       19.09  6.19   \n",
       "21  43.949249  4.805901  2025-04-23 10:40:03  19.67       19.02  6.14   \n",
       "18  43.214036  5.539632  2025-04-23 10:40:02  19.58       18.90  6.29   \n",
       "\n",
       "    humidity  wind_speed description  \n",
       "34      53.0        3.53   clear sky  \n",
       "23      37.0        4.63   clear sky  \n",
       "19      50.0        7.20   clear sky  \n",
       "21      51.0        6.17   clear sky  \n",
       "18      50.0        9.08   clear sky  "
      ]
     },
     "execution_count": 33,
     "metadata": {},
     "output_type": "execute_result"
    }
   ],
   "source": [
    "best_weather = list(best_weather) #transformer le set en liste\n",
    "best_weather_df = bc[bc['cities'].isin(best_weather)] #puis filter le dataframe sur la liste\n",
    "best_weather_df = best_weather_df.sort_values(by='feels_like', ascending=False)\n",
    "best_weather_df\n"
   ]
  },
  {
   "cell_type": "code",
   "execution_count": 58,
   "metadata": {},
   "outputs": [
    {
     "data": {
      "text/plain": [
       "34    Gorges du Verdon\n",
       "23               Nimes\n",
       "19           Marseille\n",
       "21             Avignon\n",
       "18              Cassis\n",
       "Name: cities, dtype: object"
      ]
     },
     "execution_count": 58,
     "metadata": {},
     "output_type": "execute_result"
    }
   ],
   "source": [
    "best_weather_df[\"cities\"]"
   ]
  },
  {
   "cell_type": "code",
   "execution_count": 34,
   "metadata": {},
   "outputs": [],
   "source": [
    "# Enregistrer le DataFrame en fichier CSV\n",
    "best_weather_df.to_csv('data/top_best_weather.csv', index=False)"
   ]
  },
  {
   "cell_type": "code",
   "execution_count": 70,
   "metadata": {},
   "outputs": [
    {
     "data": {
      "text/html": [
       "<div style=\"width:100%;\"><div style=\"position:relative;width:100%;height:0;padding-bottom:60%;\"><span style=\"color:#565656\">Make this Notebook Trusted to load map: File -> Trust Notebook</span><iframe srcdoc=\"&lt;!DOCTYPE html&gt;\n",
       "&lt;html&gt;\n",
       "&lt;head&gt;\n",
       "    \n",
       "    &lt;meta http-equiv=&quot;content-type&quot; content=&quot;text/html; charset=UTF-8&quot; /&gt;\n",
       "    \n",
       "        &lt;script&gt;\n",
       "            L_NO_TOUCH = false;\n",
       "            L_DISABLE_3D = false;\n",
       "        &lt;/script&gt;\n",
       "    \n",
       "    &lt;style&gt;html, body {width: 100%;height: 100%;margin: 0;padding: 0;}&lt;/style&gt;\n",
       "    &lt;style&gt;#map {position:absolute;top:0;bottom:0;right:0;left:0;}&lt;/style&gt;\n",
       "    &lt;script src=&quot;https://cdn.jsdelivr.net/npm/leaflet@1.9.3/dist/leaflet.js&quot;&gt;&lt;/script&gt;\n",
       "    &lt;script src=&quot;https://code.jquery.com/jquery-3.7.1.min.js&quot;&gt;&lt;/script&gt;\n",
       "    &lt;script src=&quot;https://cdn.jsdelivr.net/npm/bootstrap@5.2.2/dist/js/bootstrap.bundle.min.js&quot;&gt;&lt;/script&gt;\n",
       "    &lt;script src=&quot;https://cdnjs.cloudflare.com/ajax/libs/Leaflet.awesome-markers/2.0.2/leaflet.awesome-markers.js&quot;&gt;&lt;/script&gt;\n",
       "    &lt;link rel=&quot;stylesheet&quot; href=&quot;https://cdn.jsdelivr.net/npm/leaflet@1.9.3/dist/leaflet.css&quot;/&gt;\n",
       "    &lt;link rel=&quot;stylesheet&quot; href=&quot;https://cdn.jsdelivr.net/npm/bootstrap@5.2.2/dist/css/bootstrap.min.css&quot;/&gt;\n",
       "    &lt;link rel=&quot;stylesheet&quot; href=&quot;https://netdna.bootstrapcdn.com/bootstrap/3.0.0/css/bootstrap-glyphicons.css&quot;/&gt;\n",
       "    &lt;link rel=&quot;stylesheet&quot; href=&quot;https://cdn.jsdelivr.net/npm/@fortawesome/fontawesome-free@6.2.0/css/all.min.css&quot;/&gt;\n",
       "    &lt;link rel=&quot;stylesheet&quot; href=&quot;https://cdnjs.cloudflare.com/ajax/libs/Leaflet.awesome-markers/2.0.2/leaflet.awesome-markers.css&quot;/&gt;\n",
       "    &lt;link rel=&quot;stylesheet&quot; href=&quot;https://cdn.jsdelivr.net/gh/python-visualization/folium/folium/templates/leaflet.awesome.rotate.min.css&quot;/&gt;\n",
       "    \n",
       "            &lt;meta name=&quot;viewport&quot; content=&quot;width=device-width,\n",
       "                initial-scale=1.0, maximum-scale=1.0, user-scalable=no&quot; /&gt;\n",
       "            &lt;style&gt;\n",
       "                #map_98a60fec46aa4a9d8752f60e2d8da6bb {\n",
       "                    position: relative;\n",
       "                    width: 100.0%;\n",
       "                    height: 100.0%;\n",
       "                    left: 0.0%;\n",
       "                    top: 0.0%;\n",
       "                }\n",
       "                .leaflet-container { font-size: 1rem; }\n",
       "            &lt;/style&gt;\n",
       "        \n",
       "&lt;/head&gt;\n",
       "&lt;body&gt;\n",
       "    \n",
       "    \n",
       "            &lt;div class=&quot;folium-map&quot; id=&quot;map_98a60fec46aa4a9d8752f60e2d8da6bb&quot; &gt;&lt;/div&gt;\n",
       "        \n",
       "&lt;/body&gt;\n",
       "&lt;script&gt;\n",
       "    \n",
       "    \n",
       "            var map_98a60fec46aa4a9d8752f60e2d8da6bb = L.map(\n",
       "                &quot;map_98a60fec46aa4a9d8752f60e2d8da6bb&quot;,\n",
       "                {\n",
       "                    center: [46.603354, 1.888334],\n",
       "                    crs: L.CRS.EPSG3857,\n",
       "                    ...{\n",
       "  &quot;zoom&quot;: 6,\n",
       "  &quot;zoomControl&quot;: true,\n",
       "  &quot;preferCanvas&quot;: false,\n",
       "}\n",
       "\n",
       "                }\n",
       "            );\n",
       "\n",
       "            \n",
       "\n",
       "        \n",
       "    \n",
       "            var tile_layer_9c0b73d57985a668fb983a20cb2a440e = L.tileLayer(\n",
       "                &quot;https://tile.openstreetmap.org/{z}/{x}/{y}.png&quot;,\n",
       "                {\n",
       "  &quot;minZoom&quot;: 0,\n",
       "  &quot;maxZoom&quot;: 19,\n",
       "  &quot;maxNativeZoom&quot;: 19,\n",
       "  &quot;noWrap&quot;: false,\n",
       "  &quot;attribution&quot;: &quot;\\u0026copy; \\u003ca href=\\&quot;https://www.openstreetmap.org/copyright\\&quot;\\u003eOpenStreetMap\\u003c/a\\u003e contributors&quot;,\n",
       "  &quot;subdomains&quot;: &quot;abc&quot;,\n",
       "  &quot;detectRetina&quot;: false,\n",
       "  &quot;tms&quot;: false,\n",
       "  &quot;opacity&quot;: 1,\n",
       "}\n",
       "\n",
       "            );\n",
       "        \n",
       "    \n",
       "            tile_layer_9c0b73d57985a668fb983a20cb2a440e.addTo(map_98a60fec46aa4a9d8752f60e2d8da6bb);\n",
       "        \n",
       "    \n",
       "            var marker_10b5bcdfe9fa4b2de7f7bfbb8ce1aa1f = L.marker(\n",
       "                [43.7496562, 6.3285616],\n",
       "                {\n",
       "}\n",
       "            ).addTo(map_98a60fec46aa4a9d8752f60e2d8da6bb);\n",
       "        \n",
       "    \n",
       "        var custom_icon_119f8b55a4a6f87c813d04a34b0a295a = L.icon({\n",
       "  &quot;iconUrl&quot;: &quot;https://images.icon-icons.com/3565/PNG/512/tree_flower_plant_nature_landscape_icon_225325.png&quot;,\n",
       "  &quot;iconSize&quot;: [40, 40],\n",
       "});\n",
       "        marker_10b5bcdfe9fa4b2de7f7bfbb8ce1aa1f.setIcon(custom_icon_119f8b55a4a6f87c813d04a34b0a295a);\n",
       "        \n",
       "    \n",
       "        var popup_5f18f059e1366a4f0e377d1d4f699057 = L.popup({\n",
       "  &quot;maxWidth&quot;: &quot;100%&quot;,\n",
       "});\n",
       "\n",
       "        \n",
       "            \n",
       "                var html_947051261cf7984ebccd901dbd6a9691 = $(`&lt;div id=&quot;html_947051261cf7984ebccd901dbd6a9691&quot; style=&quot;width: 100.0%; height: 100.0%;&quot;&gt;Gorges du Verdon&lt;/div&gt;`)[0];\n",
       "                popup_5f18f059e1366a4f0e377d1d4f699057.setContent(html_947051261cf7984ebccd901dbd6a9691);\n",
       "            \n",
       "        \n",
       "\n",
       "        marker_10b5bcdfe9fa4b2de7f7bfbb8ce1aa1f.bindPopup(popup_5f18f059e1366a4f0e377d1d4f699057)\n",
       "        ;\n",
       "\n",
       "        \n",
       "    \n",
       "    \n",
       "                marker_10b5bcdfe9fa4b2de7f7bfbb8ce1aa1f.setIcon(custom_icon_119f8b55a4a6f87c813d04a34b0a295a);\n",
       "            \n",
       "    \n",
       "            var marker_990fb3fce6b66636a90cc8c9f4c9b8f0 = L.marker(\n",
       "                [43.8374249, 4.3600687],\n",
       "                {\n",
       "}\n",
       "            ).addTo(map_98a60fec46aa4a9d8752f60e2d8da6bb);\n",
       "        \n",
       "    \n",
       "        var custom_icon_4555bb29b642fd523e4803407f28d0ba = L.icon({\n",
       "  &quot;iconUrl&quot;: &quot;https://images.icon-icons.com/3565/PNG/512/tree_flower_plant_nature_landscape_icon_225325.png&quot;,\n",
       "  &quot;iconSize&quot;: [40, 40],\n",
       "});\n",
       "        marker_990fb3fce6b66636a90cc8c9f4c9b8f0.setIcon(custom_icon_4555bb29b642fd523e4803407f28d0ba);\n",
       "        \n",
       "    \n",
       "        var popup_78dfbd58058c0ebd7ff6a87e9ba400fe = L.popup({\n",
       "  &quot;maxWidth&quot;: &quot;100%&quot;,\n",
       "});\n",
       "\n",
       "        \n",
       "            \n",
       "                var html_efcd267c6c331bea7854247fd35bda47 = $(`&lt;div id=&quot;html_efcd267c6c331bea7854247fd35bda47&quot; style=&quot;width: 100.0%; height: 100.0%;&quot;&gt;Nimes&lt;/div&gt;`)[0];\n",
       "                popup_78dfbd58058c0ebd7ff6a87e9ba400fe.setContent(html_efcd267c6c331bea7854247fd35bda47);\n",
       "            \n",
       "        \n",
       "\n",
       "        marker_990fb3fce6b66636a90cc8c9f4c9b8f0.bindPopup(popup_78dfbd58058c0ebd7ff6a87e9ba400fe)\n",
       "        ;\n",
       "\n",
       "        \n",
       "    \n",
       "    \n",
       "                marker_990fb3fce6b66636a90cc8c9f4c9b8f0.setIcon(custom_icon_4555bb29b642fd523e4803407f28d0ba);\n",
       "            \n",
       "    \n",
       "            var marker_7477267d6f20a2ca9edcfdb1696ddfd3 = L.marker(\n",
       "                [43.2961743, 5.3699525],\n",
       "                {\n",
       "}\n",
       "            ).addTo(map_98a60fec46aa4a9d8752f60e2d8da6bb);\n",
       "        \n",
       "    \n",
       "        var custom_icon_b171c23d4699d08adb41cc349a28d223 = L.icon({\n",
       "  &quot;iconUrl&quot;: &quot;https://images.icon-icons.com/3565/PNG/512/tree_flower_plant_nature_landscape_icon_225325.png&quot;,\n",
       "  &quot;iconSize&quot;: [40, 40],\n",
       "});\n",
       "        marker_7477267d6f20a2ca9edcfdb1696ddfd3.setIcon(custom_icon_b171c23d4699d08adb41cc349a28d223);\n",
       "        \n",
       "    \n",
       "        var popup_f02113347b2ad31b8a113cb3cf591234 = L.popup({\n",
       "  &quot;maxWidth&quot;: &quot;100%&quot;,\n",
       "});\n",
       "\n",
       "        \n",
       "            \n",
       "                var html_ecc5d4418f922a6c67aa70fdcce6bb0a = $(`&lt;div id=&quot;html_ecc5d4418f922a6c67aa70fdcce6bb0a&quot; style=&quot;width: 100.0%; height: 100.0%;&quot;&gt;Marseille&lt;/div&gt;`)[0];\n",
       "                popup_f02113347b2ad31b8a113cb3cf591234.setContent(html_ecc5d4418f922a6c67aa70fdcce6bb0a);\n",
       "            \n",
       "        \n",
       "\n",
       "        marker_7477267d6f20a2ca9edcfdb1696ddfd3.bindPopup(popup_f02113347b2ad31b8a113cb3cf591234)\n",
       "        ;\n",
       "\n",
       "        \n",
       "    \n",
       "    \n",
       "                marker_7477267d6f20a2ca9edcfdb1696ddfd3.setIcon(custom_icon_b171c23d4699d08adb41cc349a28d223);\n",
       "            \n",
       "    \n",
       "            var marker_dd3273a562699230217d97d7cfb4abf5 = L.marker(\n",
       "                [43.9492493, 4.8059012],\n",
       "                {\n",
       "}\n",
       "            ).addTo(map_98a60fec46aa4a9d8752f60e2d8da6bb);\n",
       "        \n",
       "    \n",
       "        var custom_icon_35215fc86fdc37e9dbaac4d463513d71 = L.icon({\n",
       "  &quot;iconUrl&quot;: &quot;https://images.icon-icons.com/3565/PNG/512/tree_flower_plant_nature_landscape_icon_225325.png&quot;,\n",
       "  &quot;iconSize&quot;: [40, 40],\n",
       "});\n",
       "        marker_dd3273a562699230217d97d7cfb4abf5.setIcon(custom_icon_35215fc86fdc37e9dbaac4d463513d71);\n",
       "        \n",
       "    \n",
       "        var popup_314eb6119f9045529d2f7eecd06c404b = L.popup({\n",
       "  &quot;maxWidth&quot;: &quot;100%&quot;,\n",
       "});\n",
       "\n",
       "        \n",
       "            \n",
       "                var html_dde239daf0656252abfd471eedc477de = $(`&lt;div id=&quot;html_dde239daf0656252abfd471eedc477de&quot; style=&quot;width: 100.0%; height: 100.0%;&quot;&gt;Avignon&lt;/div&gt;`)[0];\n",
       "                popup_314eb6119f9045529d2f7eecd06c404b.setContent(html_dde239daf0656252abfd471eedc477de);\n",
       "            \n",
       "        \n",
       "\n",
       "        marker_dd3273a562699230217d97d7cfb4abf5.bindPopup(popup_314eb6119f9045529d2f7eecd06c404b)\n",
       "        ;\n",
       "\n",
       "        \n",
       "    \n",
       "    \n",
       "                marker_dd3273a562699230217d97d7cfb4abf5.setIcon(custom_icon_35215fc86fdc37e9dbaac4d463513d71);\n",
       "            \n",
       "    \n",
       "            var marker_50df948d66492f626f5aef5fac36a197 = L.marker(\n",
       "                [43.2140359, 5.5396318],\n",
       "                {\n",
       "}\n",
       "            ).addTo(map_98a60fec46aa4a9d8752f60e2d8da6bb);\n",
       "        \n",
       "    \n",
       "        var custom_icon_4663e17c1bd3795a61a74c42cdfc02c9 = L.icon({\n",
       "  &quot;iconUrl&quot;: &quot;https://images.icon-icons.com/3565/PNG/512/tree_flower_plant_nature_landscape_icon_225325.png&quot;,\n",
       "  &quot;iconSize&quot;: [40, 40],\n",
       "});\n",
       "        marker_50df948d66492f626f5aef5fac36a197.setIcon(custom_icon_4663e17c1bd3795a61a74c42cdfc02c9);\n",
       "        \n",
       "    \n",
       "        var popup_2dc9414eec52aab22f5630343c1fd378 = L.popup({\n",
       "  &quot;maxWidth&quot;: &quot;100%&quot;,\n",
       "});\n",
       "\n",
       "        \n",
       "            \n",
       "                var html_7a7d2d8a6455bbc99112be7305068fd2 = $(`&lt;div id=&quot;html_7a7d2d8a6455bbc99112be7305068fd2&quot; style=&quot;width: 100.0%; height: 100.0%;&quot;&gt;Cassis&lt;/div&gt;`)[0];\n",
       "                popup_2dc9414eec52aab22f5630343c1fd378.setContent(html_7a7d2d8a6455bbc99112be7305068fd2);\n",
       "            \n",
       "        \n",
       "\n",
       "        marker_50df948d66492f626f5aef5fac36a197.bindPopup(popup_2dc9414eec52aab22f5630343c1fd378)\n",
       "        ;\n",
       "\n",
       "        \n",
       "    \n",
       "    \n",
       "                marker_50df948d66492f626f5aef5fac36a197.setIcon(custom_icon_4663e17c1bd3795a61a74c42cdfc02c9);\n",
       "            \n",
       "    \n",
       "            tile_layer_9c0b73d57985a668fb983a20cb2a440e.addTo(map_98a60fec46aa4a9d8752f60e2d8da6bb);\n",
       "        \n",
       "    \n",
       "                marker_10b5bcdfe9fa4b2de7f7bfbb8ce1aa1f.setIcon(custom_icon_119f8b55a4a6f87c813d04a34b0a295a);\n",
       "            \n",
       "    \n",
       "                marker_990fb3fce6b66636a90cc8c9f4c9b8f0.setIcon(custom_icon_4555bb29b642fd523e4803407f28d0ba);\n",
       "            \n",
       "    \n",
       "                marker_7477267d6f20a2ca9edcfdb1696ddfd3.setIcon(custom_icon_b171c23d4699d08adb41cc349a28d223);\n",
       "            \n",
       "    \n",
       "                marker_dd3273a562699230217d97d7cfb4abf5.setIcon(custom_icon_35215fc86fdc37e9dbaac4d463513d71);\n",
       "            \n",
       "    \n",
       "                marker_50df948d66492f626f5aef5fac36a197.setIcon(custom_icon_4663e17c1bd3795a61a74c42cdfc02c9);\n",
       "            \n",
       "&lt;/script&gt;\n",
       "&lt;/html&gt;\" style=\"position:absolute;width:100%;height:100%;left:0;top:0;border:none !important;\" allowfullscreen webkitallowfullscreen mozallowfullscreen></iframe></div></div>"
      ],
      "text/plain": [
       "<folium.folium.Map at 0x1e69be24a00>"
      ]
     },
     "execution_count": 70,
     "metadata": {},
     "output_type": "execute_result"
    }
   ],
   "source": [
    "# visualiser le top5 des destinations selectionnées\n",
    "map = folium.Map(location=[46.603354, 1.888334], zoom_start=6)\n",
    "\n",
    "# Définir le marker\n",
    "icon_url = \"https://images.icon-icons.com/3565/PNG/512/tree_flower_plant_nature_landscape_icon_225325.png\"\n",
    "\n",
    "# Ajouter les villes à la carte avec des icônes personnalisées\n",
    "for i, row in best_weather_df.iterrows():\n",
    "    folium.Marker(\n",
    "        location=[row['lat'], row['lon']],\n",
    "        popup=row['cities'],\n",
    "        icon=folium.CustomIcon(icon_url, icon_size=(40, 40))  # Ajustez la taille de l'icône si nécessaire\n",
    "    ).add_to(map)\n",
    "\n",
    "# Sauvegarder la carte dans un fichier HTML\n",
    "map.save('maps/map_top_best_destinations.html')\n",
    "\n",
    "# Afficher la carte\n",
    "map\n"
   ]
  },
  {
   "cell_type": "markdown",
   "metadata": {},
   "source": [
    "# Scraping Booking"
   ]
  },
  {
   "cell_type": "code",
   "execution_count": 36,
   "metadata": {},
   "outputs": [
    {
     "data": {
      "text/html": [
       "<div>\n",
       "<style scoped>\n",
       "    .dataframe tbody tr th:only-of-type {\n",
       "        vertical-align: middle;\n",
       "    }\n",
       "\n",
       "    .dataframe tbody tr th {\n",
       "        vertical-align: top;\n",
       "    }\n",
       "\n",
       "    .dataframe thead th {\n",
       "        text-align: right;\n",
       "    }\n",
       "</style>\n",
       "<table border=\"1\" class=\"dataframe\">\n",
       "  <thead>\n",
       "    <tr style=\"text-align: right;\">\n",
       "      <th></th>\n",
       "      <th>cities</th>\n",
       "      <th>name</th>\n",
       "      <th>country</th>\n",
       "      <th>state</th>\n",
       "      <th>lat</th>\n",
       "      <th>lon</th>\n",
       "      <th>date</th>\n",
       "      <th>temp</th>\n",
       "      <th>feels_like</th>\n",
       "      <th>uvi</th>\n",
       "      <th>humidity</th>\n",
       "      <th>wind_speed</th>\n",
       "      <th>description</th>\n",
       "    </tr>\n",
       "  </thead>\n",
       "  <tbody>\n",
       "    <tr>\n",
       "      <th>34</th>\n",
       "      <td>Gorges du Verdon</td>\n",
       "      <td>NaN</td>\n",
       "      <td>NaN</td>\n",
       "      <td>NaN</td>\n",
       "      <td>43.749656</td>\n",
       "      <td>6.328562</td>\n",
       "      <td>2025-04-23 10:40:04</td>\n",
       "      <td>19.98</td>\n",
       "      <td>19.42</td>\n",
       "      <td>6.38</td>\n",
       "      <td>53.0</td>\n",
       "      <td>3.53</td>\n",
       "      <td>clear sky</td>\n",
       "    </tr>\n",
       "    <tr>\n",
       "      <th>23</th>\n",
       "      <td>Nimes</td>\n",
       "      <td>Nimes</td>\n",
       "      <td>FR</td>\n",
       "      <td>Occitania</td>\n",
       "      <td>43.837425</td>\n",
       "      <td>4.360069</td>\n",
       "      <td>2025-04-23 10:40:03</td>\n",
       "      <td>20.22</td>\n",
       "      <td>19.26</td>\n",
       "      <td>6.22</td>\n",
       "      <td>37.0</td>\n",
       "      <td>4.63</td>\n",
       "      <td>clear sky</td>\n",
       "    </tr>\n",
       "    <tr>\n",
       "      <th>19</th>\n",
       "      <td>Marseille</td>\n",
       "      <td>Marseille</td>\n",
       "      <td>FR</td>\n",
       "      <td>Provence-Alpes-Côte d'Azur</td>\n",
       "      <td>43.296174</td>\n",
       "      <td>5.369953</td>\n",
       "      <td>2025-04-23 10:40:02</td>\n",
       "      <td>19.75</td>\n",
       "      <td>19.09</td>\n",
       "      <td>6.19</td>\n",
       "      <td>50.0</td>\n",
       "      <td>7.20</td>\n",
       "      <td>clear sky</td>\n",
       "    </tr>\n",
       "    <tr>\n",
       "      <th>21</th>\n",
       "      <td>Avignon</td>\n",
       "      <td>Avignon</td>\n",
       "      <td>FR</td>\n",
       "      <td>Provence-Alpes-Côte d'Azur</td>\n",
       "      <td>43.949249</td>\n",
       "      <td>4.805901</td>\n",
       "      <td>2025-04-23 10:40:03</td>\n",
       "      <td>19.67</td>\n",
       "      <td>19.02</td>\n",
       "      <td>6.14</td>\n",
       "      <td>51.0</td>\n",
       "      <td>6.17</td>\n",
       "      <td>clear sky</td>\n",
       "    </tr>\n",
       "    <tr>\n",
       "      <th>18</th>\n",
       "      <td>Cassis</td>\n",
       "      <td>Cassis</td>\n",
       "      <td>FR</td>\n",
       "      <td>Provence-Alpes-Côte d'Azur</td>\n",
       "      <td>43.214036</td>\n",
       "      <td>5.539632</td>\n",
       "      <td>2025-04-23 10:40:02</td>\n",
       "      <td>19.58</td>\n",
       "      <td>18.90</td>\n",
       "      <td>6.29</td>\n",
       "      <td>50.0</td>\n",
       "      <td>9.08</td>\n",
       "      <td>clear sky</td>\n",
       "    </tr>\n",
       "  </tbody>\n",
       "</table>\n",
       "</div>"
      ],
      "text/plain": [
       "              cities       name country                       state  \\\n",
       "34  Gorges du Verdon        NaN     NaN                         NaN   \n",
       "23             Nimes      Nimes      FR                   Occitania   \n",
       "19         Marseille  Marseille      FR  Provence-Alpes-Côte d'Azur   \n",
       "21           Avignon    Avignon      FR  Provence-Alpes-Côte d'Azur   \n",
       "18            Cassis     Cassis      FR  Provence-Alpes-Côte d'Azur   \n",
       "\n",
       "          lat       lon                 date   temp  feels_like   uvi  \\\n",
       "34  43.749656  6.328562  2025-04-23 10:40:04  19.98       19.42  6.38   \n",
       "23  43.837425  4.360069  2025-04-23 10:40:03  20.22       19.26  6.22   \n",
       "19  43.296174  5.369953  2025-04-23 10:40:02  19.75       19.09  6.19   \n",
       "21  43.949249  4.805901  2025-04-23 10:40:03  19.67       19.02  6.14   \n",
       "18  43.214036  5.539632  2025-04-23 10:40:02  19.58       18.90  6.29   \n",
       "\n",
       "    humidity  wind_speed description  \n",
       "34      53.0        3.53   clear sky  \n",
       "23      37.0        4.63   clear sky  \n",
       "19      50.0        7.20   clear sky  \n",
       "21      51.0        6.17   clear sky  \n",
       "18      50.0        9.08   clear sky  "
      ]
     },
     "execution_count": 36,
     "metadata": {},
     "output_type": "execute_result"
    }
   ],
   "source": [
    "best_weather_df"
   ]
  },
  {
   "cell_type": "markdown",
   "metadata": {},
   "source": [
    "## Test des selecteurs"
   ]
  },
  {
   "cell_type": "code",
   "execution_count": 108,
   "metadata": {},
   "outputs": [
    {
     "data": {
      "text/plain": [
       "['Gorges du Verdon', 'Nimes', 'Marseille', 'Avignon', 'Cassis']"
      ]
     },
     "execution_count": 108,
     "metadata": {},
     "output_type": "execute_result"
    }
   ],
   "source": [
    "best_cities_list=best_weather_df['cities'].tolist()\n",
    "best_cities_list"
   ]
  },
  {
   "cell_type": "code",
   "execution_count": 109,
   "metadata": {},
   "outputs": [
    {
     "data": {
      "text/plain": [
       "['https://www.booking.com/searchresults.html?ss=Gorges%20du%20Verdon',\n",
       " 'https://www.booking.com/searchresults.html?ss=Nimes',\n",
       " 'https://www.booking.com/searchresults.html?ss=Marseille',\n",
       " 'https://www.booking.com/searchresults.html?ss=Avignon',\n",
       " 'https://www.booking.com/searchresults.html?ss=Cassis']"
      ]
     },
     "execution_count": 109,
     "metadata": {},
     "output_type": "execute_result"
    }
   ],
   "source": [
    "import urllib.parse\n",
    "urls= ['https://www.booking.com/searchresults.html?ss=' + urllib.parse.quote(city) for city in best_cities_list]\n",
    "urls"
   ]
  },
  {
   "cell_type": "code",
   "execution_count": 115,
   "metadata": {},
   "outputs": [],
   "source": [
    "headers = {\n",
    "    'User-Agent': 'Mozilla/5.0 (Windows NT 10.0; Win64; x64) AppleWebKit/537.36 (KHTML, like Gecko) Chrome/58.0.3029.110 Safari/537.3'\n",
    "}\n",
    "url = urls[0]\n",
    "r = requests.get(url, headers=headers)\n",
    "\n",
    "response = Selector(text=r.text)"
   ]
  },
  {
   "cell_type": "code",
   "execution_count": 116,
   "metadata": {},
   "outputs": [
    {
     "data": {
      "text/plain": [
       "<Response [200]>"
      ]
     },
     "execution_count": 116,
     "metadata": {},
     "output_type": "execute_result"
    }
   ],
   "source": [
    "r"
   ]
  },
  {
   "cell_type": "code",
   "execution_count": 117,
   "metadata": {},
   "outputs": [
    {
     "data": {
      "text/plain": [
       "['La Ferme Rose-Hôtel de Charme',\n",
       " 'Le Vieux Château',\n",
       " 'B&B Auberge Verdon',\n",
       " 'CERES',\n",
       " 'La Clorinde',\n",
       " 'Spacieuse Dépendance Duplex 50 M2 Classé 3 étoiles sans vis-à-vis',\n",
       " 'Lou Paradou',\n",
       " 'Hôtel Le Colombier',\n",
       " 'Les Bastides de Chanteraine Hôtel de plein air, bungalows, lodges & spa',\n",
       " 'Les Canyons du Verdon',\n",
       " 'La Maison du Courtil, Figue-Miel',\n",
       " 'Camping La Ferme de Castellane',\n",
       " 'La Bastide du Calalou; BW Signature Collection',\n",
       " 'Résidence Les Écureuils',\n",
       " 'Gabrielle hôtel',\n",
       " 'Studio Cosy près du Lac',\n",
       " 'Camping Arbre de Vie',\n",
       " \"L'Establoun\",\n",
       " 'Coquelicot',\n",
       " 'Camping Calme et Nature',\n",
       " 'Le gite du grand cèdre - proche des gorges du Verdon',\n",
       " 'Studi-Hôtel Résidence Plein Voile',\n",
       " '\" LE CHABASSOLE \" CHAMBRES D\\'HÔTES - GORGES du VERDON',\n",
       " 'Les Gites De La Gassende',\n",
       " 'Auberge des Salles']"
      ]
     },
     "execution_count": 117,
     "metadata": {},
     "output_type": "execute_result"
    }
   ],
   "source": [
    "hotel_name=response.css(\"div.f6431b446c.a15b38c233 ::text\").getall()\n",
    "hotel_name"
   ]
  },
  {
   "cell_type": "code",
   "execution_count": 118,
   "metadata": {},
   "outputs": [
    {
     "data": {
      "text/plain": [
       "['https://www.booking.com/hotel/fr/la-ferme-rose.fr.html?aid=304142&label=gen173nr-1FCAQoggJCF3NlYXJjaF9nb3JnZXMgZHUgdmVyZG9uSDNYBGhNiAEBmAENuAEXyAEM2AEB6AEB-AEDiAIBqAIDuAKx-KPABsACAdICJDQ5NWEzNGM5LTZkM2ItNGY4My04MTFiLTliNjlkYTlhYmQxNdgCBeACAQ&ucfs=1&arphpl=1&group_adults=2&req_adults=2&no_rooms=1&group_children=0&req_children=0&hpos=1&hapos=1&sr_order=popularity&srpvid=127e6758bdf50a19&srepoch=1745419314&from=searchresults',\n",
       " 'https://www.booking.com/hotel/fr/du-vieux-chateau.fr.html?aid=304142&label=gen173nr-1FCAQoggJCF3NlYXJjaF9nb3JnZXMgZHUgdmVyZG9uSDNYBGhNiAEBmAENuAEXyAEM2AEB6AEB-AEDiAIBqAIDuAKx-KPABsACAdICJDQ5NWEzNGM5LTZkM2ItNGY4My04MTFiLTliNjlkYTlhYmQxNdgCBeACAQ&ucfs=1&arphpl=1&group_adults=2&req_adults=2&no_rooms=1&group_children=0&req_children=0&hpos=2&hapos=2&sr_order=popularity&srpvid=127e6758bdf50a19&srepoch=1745419314&from=searchresults',\n",
       " 'https://www.booking.com/hotel/fr/auberge-verdon.fr.html?aid=304142&label=gen173nr-1FCAQoggJCF3NlYXJjaF9nb3JnZXMgZHUgdmVyZG9uSDNYBGhNiAEBmAENuAEXyAEM2AEB6AEB-AEDiAIBqAIDuAKx-KPABsACAdICJDQ5NWEzNGM5LTZkM2ItNGY4My04MTFiLTliNjlkYTlhYmQxNdgCBeACAQ&ucfs=1&arphpl=1&group_adults=2&req_adults=2&no_rooms=1&group_children=0&req_children=0&hpos=3&hapos=3&sr_order=popularity&srpvid=127e6758bdf50a19&srepoch=1745419314&from=searchresults',\n",
       " 'https://www.booking.com/hotel/fr/ceres.fr.html?aid=304142&label=gen173nr-1FCAQoggJCF3NlYXJjaF9nb3JnZXMgZHUgdmVyZG9uSDNYBGhNiAEBmAENuAEXyAEM2AEB6AEB-AEDiAIBqAIDuAKx-KPABsACAdICJDQ5NWEzNGM5LTZkM2ItNGY4My04MTFiLTliNjlkYTlhYmQxNdgCBeACAQ&ucfs=1&arphpl=1&group_adults=2&req_adults=2&no_rooms=1&group_children=0&req_children=0&hpos=4&hapos=4&sr_order=popularity&srpvid=127e6758bdf50a19&srepoch=1745419314&from=searchresults',\n",
       " 'https://www.booking.com/hotel/fr/holiday-home-la-clorinde.fr.html?aid=304142&label=gen173nr-1FCAQoggJCF3NlYXJjaF9nb3JnZXMgZHUgdmVyZG9uSDNYBGhNiAEBmAENuAEXyAEM2AEB6AEB-AEDiAIBqAIDuAKx-KPABsACAdICJDQ5NWEzNGM5LTZkM2ItNGY4My04MTFiLTliNjlkYTlhYmQxNdgCBeACAQ&ucfs=1&arphpl=1&group_adults=2&req_adults=2&no_rooms=1&group_children=0&req_children=0&hpos=5&hapos=5&sr_order=popularity&srpvid=127e6758bdf50a19&srepoch=1745419314&from=searchresults',\n",
       " 'https://www.booking.com/hotel/fr/nouveau-a-greoux-les-bains-t1-duplex-50-m2.fr.html?aid=304142&label=gen173nr-1FCAQoggJCF3NlYXJjaF9nb3JnZXMgZHUgdmVyZG9uSDNYBGhNiAEBmAENuAEXyAEM2AEB6AEB-AEDiAIBqAIDuAKx-KPABsACAdICJDQ5NWEzNGM5LTZkM2ItNGY4My04MTFiLTliNjlkYTlhYmQxNdgCBeACAQ&ucfs=1&arphpl=1&group_adults=2&req_adults=2&no_rooms=1&group_children=0&req_children=0&hpos=6&hapos=6&sr_order=popularity&srpvid=127e6758bdf50a19&srepoch=1745419314&from=searchresults',\n",
       " 'https://www.booking.com/hotel/fr/hotellouparadou.fr.html?aid=304142&label=gen173nr-1FCAQoggJCF3NlYXJjaF9nb3JnZXMgZHUgdmVyZG9uSDNYBGhNiAEBmAENuAEXyAEM2AEB6AEB-AEDiAIBqAIDuAKx-KPABsACAdICJDQ5NWEzNGM5LTZkM2ItNGY4My04MTFiLTliNjlkYTlhYmQxNdgCBeACAQ&ucfs=1&arphpl=1&group_adults=2&req_adults=2&no_rooms=1&group_children=0&req_children=0&hpos=7&hapos=7&sr_order=popularity&srpvid=127e6758bdf50a19&srepoch=1745419314&from=searchresults',\n",
       " 'https://www.booking.com/hotel/fr/le-colombier-moustiers-sainte-marie.fr.html?aid=304142&label=gen173nr-1FCAQoggJCF3NlYXJjaF9nb3JnZXMgZHUgdmVyZG9uSDNYBGhNiAEBmAENuAEXyAEM2AEB6AEB-AEDiAIBqAIDuAKx-KPABsACAdICJDQ5NWEzNGM5LTZkM2ItNGY4My04MTFiLTliNjlkYTlhYmQxNdgCBeACAQ&ucfs=1&arphpl=1&group_adults=2&req_adults=2&no_rooms=1&group_children=0&req_children=0&hpos=8&hapos=8&sr_order=popularity&srpvid=127e6758bdf50a19&srepoch=1745419314&from=searchresults',\n",
       " 'https://www.booking.com/hotel/fr/les-bastides-de-chanteraine.fr.html?aid=304142&label=gen173nr-1FCAQoggJCF3NlYXJjaF9nb3JnZXMgZHUgdmVyZG9uSDNYBGhNiAEBmAENuAEXyAEM2AEB6AEB-AEDiAIBqAIDuAKx-KPABsACAdICJDQ5NWEzNGM5LTZkM2ItNGY4My04MTFiLTliNjlkYTlhYmQxNdgCBeACAQ&ucfs=1&arphpl=1&group_adults=2&req_adults=2&no_rooms=1&group_children=0&req_children=0&hpos=9&hapos=9&sr_order=popularity&srpvid=127e6758bdf50a19&srepoch=1745419314&from=searchresults',\n",
       " 'https://www.booking.com/hotel/fr/les-canyons-du-verdon.fr.html?aid=304142&label=gen173nr-1FCAQoggJCF3NlYXJjaF9nb3JnZXMgZHUgdmVyZG9uSDNYBGhNiAEBmAENuAEXyAEM2AEB6AEB-AEDiAIBqAIDuAKx-KPABsACAdICJDQ5NWEzNGM5LTZkM2ItNGY4My04MTFiLTliNjlkYTlhYmQxNdgCBeACAQ&ucfs=1&arphpl=1&group_adults=2&req_adults=2&no_rooms=1&group_children=0&req_children=0&hpos=10&hapos=10&sr_order=popularity&srpvid=127e6758bdf50a19&srepoch=1745419314&from=searchresults',\n",
       " 'https://www.booking.com/hotel/fr/le-courtil-studio-figue-miel.fr.html?aid=304142&label=gen173nr-1FCAQoggJCF3NlYXJjaF9nb3JnZXMgZHUgdmVyZG9uSDNYBGhNiAEBmAENuAEXyAEM2AEB6AEB-AEDiAIBqAIDuAKx-KPABsACAdICJDQ5NWEzNGM5LTZkM2ItNGY4My04MTFiLTliNjlkYTlhYmQxNdgCBeACAQ&ucfs=1&arphpl=1&group_adults=2&req_adults=2&no_rooms=1&group_children=0&req_children=0&hpos=11&hapos=11&sr_order=popularity&srpvid=127e6758bdf50a19&srepoch=1745419314&from=searchresults',\n",
       " 'https://www.booking.com/hotel/fr/camping-la-ferme-de-castellane.fr.html?aid=304142&label=gen173nr-1FCAQoggJCF3NlYXJjaF9nb3JnZXMgZHUgdmVyZG9uSDNYBGhNiAEBmAENuAEXyAEM2AEB6AEB-AEDiAIBqAIDuAKx-KPABsACAdICJDQ5NWEzNGM5LTZkM2ItNGY4My04MTFiLTliNjlkYTlhYmQxNdgCBeACAQ&ucfs=1&arphpl=1&group_adults=2&req_adults=2&no_rooms=1&group_children=0&req_children=0&hpos=12&hapos=12&sr_order=popularity&srpvid=127e6758bdf50a19&srepoch=1745419314&from=searchresults',\n",
       " 'https://www.booking.com/hotel/fr/bastide-du-calalou.fr.html?aid=304142&label=gen173nr-1FCAQoggJCF3NlYXJjaF9nb3JnZXMgZHUgdmVyZG9uSDNYBGhNiAEBmAENuAEXyAEM2AEB6AEB-AEDiAIBqAIDuAKx-KPABsACAdICJDQ5NWEzNGM5LTZkM2ItNGY4My04MTFiLTliNjlkYTlhYmQxNdgCBeACAQ&ucfs=1&arphpl=1&group_adults=2&req_adults=2&no_rooms=1&group_children=0&req_children=0&hpos=13&hapos=13&sr_order=popularity&srpvid=127e6758bdf50a19&srepoch=1745419314&from_sustainable_property_sr=1&from=searchresults',\n",
       " 'https://www.booking.com/hotel/fr/residence-les-ecureuils-greoux-les-bains.fr.html?aid=304142&label=gen173nr-1FCAQoggJCF3NlYXJjaF9nb3JnZXMgZHUgdmVyZG9uSDNYBGhNiAEBmAENuAEXyAEM2AEB6AEB-AEDiAIBqAIDuAKx-KPABsACAdICJDQ5NWEzNGM5LTZkM2ItNGY4My04MTFiLTliNjlkYTlhYmQxNdgCBeACAQ&ucfs=1&arphpl=1&group_adults=2&req_adults=2&no_rooms=1&group_children=0&req_children=0&hpos=14&hapos=14&sr_order=popularity&srpvid=127e6758bdf50a19&srepoch=1745419314&from=searchresults',\n",
       " 'https://www.booking.com/hotel/fr/logis-altitude-823.fr.html?aid=304142&label=gen173nr-1FCAQoggJCF3NlYXJjaF9nb3JnZXMgZHUgdmVyZG9uSDNYBGhNiAEBmAENuAEXyAEM2AEB6AEB-AEDiAIBqAIDuAKx-KPABsACAdICJDQ5NWEzNGM5LTZkM2ItNGY4My04MTFiLTliNjlkYTlhYmQxNdgCBeACAQ&ucfs=1&arphpl=1&group_adults=2&req_adults=2&no_rooms=1&group_children=0&req_children=0&hpos=15&hapos=15&sr_order=popularity&srpvid=127e6758bdf50a19&srepoch=1745419314&from=searchresults',\n",
       " 'https://www.booking.com/hotel/fr/studio-cosy-pres-du-lac.fr.html?aid=304142&label=gen173nr-1FCAQoggJCF3NlYXJjaF9nb3JnZXMgZHUgdmVyZG9uSDNYBGhNiAEBmAENuAEXyAEM2AEB6AEB-AEDiAIBqAIDuAKx-KPABsACAdICJDQ5NWEzNGM5LTZkM2ItNGY4My04MTFiLTliNjlkYTlhYmQxNdgCBeACAQ&ucfs=1&arphpl=1&group_adults=2&req_adults=2&no_rooms=1&group_children=0&req_children=0&hpos=16&hapos=16&sr_order=popularity&srpvid=127e6758bdf50a19&srepoch=1745419314&from=searchresults',\n",
       " 'https://www.booking.com/hotel/fr/camping-arbre-de-vie.fr.html?aid=304142&label=gen173nr-1FCAQoggJCF3NlYXJjaF9nb3JnZXMgZHUgdmVyZG9uSDNYBGhNiAEBmAENuAEXyAEM2AEB6AEB-AEDiAIBqAIDuAKx-KPABsACAdICJDQ5NWEzNGM5LTZkM2ItNGY4My04MTFiLTliNjlkYTlhYmQxNdgCBeACAQ&ucfs=1&arphpl=1&group_adults=2&req_adults=2&no_rooms=1&group_children=0&req_children=0&hpos=17&hapos=17&sr_order=popularity&srpvid=127e6758bdf50a19&srepoch=1745419314&from=searchresults',\n",
       " 'https://www.booking.com/hotel/fr/l-39-establoun.fr.html?aid=304142&label=gen173nr-1FCAQoggJCF3NlYXJjaF9nb3JnZXMgZHUgdmVyZG9uSDNYBGhNiAEBmAENuAEXyAEM2AEB6AEB-AEDiAIBqAIDuAKx-KPABsACAdICJDQ5NWEzNGM5LTZkM2ItNGY4My04MTFiLTliNjlkYTlhYmQxNdgCBeACAQ&ucfs=1&arphpl=1&group_adults=2&req_adults=2&no_rooms=1&group_children=0&req_children=0&hpos=18&hapos=18&sr_order=popularity&srpvid=127e6758bdf50a19&srepoch=1745419314&from=searchresults',\n",
       " 'https://www.booking.com/hotel/fr/coquelicot-montagnac-montpezat.fr.html?aid=304142&label=gen173nr-1FCAQoggJCF3NlYXJjaF9nb3JnZXMgZHUgdmVyZG9uSDNYBGhNiAEBmAENuAEXyAEM2AEB6AEB-AEDiAIBqAIDuAKx-KPABsACAdICJDQ5NWEzNGM5LTZkM2ItNGY4My04MTFiLTliNjlkYTlhYmQxNdgCBeACAQ&ucfs=1&arphpl=1&group_adults=2&req_adults=2&no_rooms=1&group_children=0&req_children=0&hpos=19&hapos=19&sr_order=popularity&srpvid=127e6758bdf50a19&srepoch=1745419314&from=searchresults',\n",
       " 'https://www.booking.com/hotel/fr/calme-et-nature-castellane.fr.html?aid=304142&label=gen173nr-1FCAQoggJCF3NlYXJjaF9nb3JnZXMgZHUgdmVyZG9uSDNYBGhNiAEBmAENuAEXyAEM2AEB6AEB-AEDiAIBqAIDuAKx-KPABsACAdICJDQ5NWEzNGM5LTZkM2ItNGY4My04MTFiLTliNjlkYTlhYmQxNdgCBeACAQ&ucfs=1&arphpl=1&group_adults=2&req_adults=2&no_rooms=1&group_children=0&req_children=0&hpos=20&hapos=20&sr_order=popularity&srpvid=127e6758bdf50a19&srepoch=1745419314&from=searchresults',\n",
       " 'https://www.booking.com/hotel/fr/le-gite-du-grand-cedre.fr.html?aid=304142&label=gen173nr-1FCAQoggJCF3NlYXJjaF9nb3JnZXMgZHUgdmVyZG9uSDNYBGhNiAEBmAENuAEXyAEM2AEB6AEB-AEDiAIBqAIDuAKx-KPABsACAdICJDQ5NWEzNGM5LTZkM2ItNGY4My04MTFiLTliNjlkYTlhYmQxNdgCBeACAQ&ucfs=1&arphpl=1&group_adults=2&req_adults=2&no_rooms=1&group_children=0&req_children=0&hpos=21&hapos=21&sr_order=popularity&srpvid=127e6758bdf50a19&srepoch=1745419314&from=searchresults',\n",
       " 'https://www.booking.com/hotel/fr/studi-ha-tel-ra-c-sidence-plein-voile.fr.html?aid=304142&label=gen173nr-1FCAQoggJCF3NlYXJjaF9nb3JnZXMgZHUgdmVyZG9uSDNYBGhNiAEBmAENuAEXyAEM2AEB6AEB-AEDiAIBqAIDuAKx-KPABsACAdICJDQ5NWEzNGM5LTZkM2ItNGY4My04MTFiLTliNjlkYTlhYmQxNdgCBeACAQ&ucfs=1&arphpl=1&group_adults=2&req_adults=2&no_rooms=1&group_children=0&req_children=0&hpos=22&hapos=22&sr_order=popularity&srpvid=127e6758bdf50a19&srepoch=1745419314&from=searchresults',\n",
       " 'https://www.booking.com/hotel/fr/le-chabassole.fr.html?aid=304142&label=gen173nr-1FCAQoggJCF3NlYXJjaF9nb3JnZXMgZHUgdmVyZG9uSDNYBGhNiAEBmAENuAEXyAEM2AEB6AEB-AEDiAIBqAIDuAKx-KPABsACAdICJDQ5NWEzNGM5LTZkM2ItNGY4My04MTFiLTliNjlkYTlhYmQxNdgCBeACAQ&ucfs=1&arphpl=1&group_adults=2&req_adults=2&no_rooms=1&group_children=0&req_children=0&hpos=23&hapos=23&sr_order=popularity&srpvid=127e6758bdf50a19&srepoch=1745419314&from=searchresults',\n",
       " 'https://www.booking.com/hotel/fr/les-gites-de-la-gassende.fr.html?aid=304142&label=gen173nr-1FCAQoggJCF3NlYXJjaF9nb3JnZXMgZHUgdmVyZG9uSDNYBGhNiAEBmAENuAEXyAEM2AEB6AEB-AEDiAIBqAIDuAKx-KPABsACAdICJDQ5NWEzNGM5LTZkM2ItNGY4My04MTFiLTliNjlkYTlhYmQxNdgCBeACAQ&ucfs=1&arphpl=1&group_adults=2&req_adults=2&no_rooms=1&group_children=0&req_children=0&hpos=24&hapos=24&sr_order=popularity&srpvid=127e6758bdf50a19&srepoch=1745419314&from=searchresults',\n",
       " 'https://www.booking.com/hotel/fr/auberge-des-salles.fr.html?aid=304142&label=gen173nr-1FCAQoggJCF3NlYXJjaF9nb3JnZXMgZHUgdmVyZG9uSDNYBGhNiAEBmAENuAEXyAEM2AEB6AEB-AEDiAIBqAIDuAKx-KPABsACAdICJDQ5NWEzNGM5LTZkM2ItNGY4My04MTFiLTliNjlkYTlhYmQxNdgCBeACAQ&ucfs=1&arphpl=1&group_adults=2&req_adults=2&no_rooms=1&group_children=0&req_children=0&hpos=25&hapos=25&sr_order=popularity&srpvid=127e6758bdf50a19&srepoch=1745419314&from=searchresults']"
      ]
     },
     "execution_count": 118,
     "metadata": {},
     "output_type": "execute_result"
    }
   ],
   "source": [
    "hotel_url = response.css(\"a.a78ca197d0 ::attr(href)\").getall()\n",
    "hotel_url"
   ]
  },
  {
   "cell_type": "code",
   "execution_count": 126,
   "metadata": {},
   "outputs": [
    {
     "data": {
      "text/plain": [
       "['https://www.booking.com/hotel/fr/villa-victor-hugo-avignon.html?aid=304142&label=gen173nr-1FCAQoggJCDnNlYXJjaF9hdmlnbm9uSDNYBGhNiAEBmAExuAEKyAEF2AEB6AEB-AEDiAIBqAIDuALN5KPABsACAdICJDg2MGQxZWMwLTE3ZWMtNGRhYi1iMWUwLWQ0NDVmMmMzNjFhNtgCBeACAQ&ucfs=1&arphpl=1&group_adults=2&req_adults=2&no_rooms=1&group_children=0&req_children=0&hpos=1&hapos=1&sr_order=popularity&srpvid=a6ce6266c8200018&srepoch=1745416782&from=searchresults',\n",
       " 'https://www.booking.com/hotel/fr/le-petit-avignon.html?aid=304142&label=gen173nr-1FCAQoggJCDnNlYXJjaF9hdmlnbm9uSDNYBGhNiAEBmAExuAEKyAEF2AEB6AEB-AEDiAIBqAIDuALN5KPABsACAdICJDg2MGQxZWMwLTE3ZWMtNGRhYi1iMWUwLWQ0NDVmMmMzNjFhNtgCBeACAQ&ucfs=1&arphpl=1&group_adults=2&req_adults=2&no_rooms=1&group_children=0&req_children=0&hpos=2&hapos=2&sr_order=popularity&srpvid=a6ce6266c8200018&srepoch=1745416782&from=searchresults',\n",
       " 'https://www.booking.com/hotel/fr/villa-aigarden.html?aid=304142&label=gen173nr-1FCAQoggJCDnNlYXJjaF9hdmlnbm9uSDNYBGhNiAEBmAExuAEKyAEF2AEB6AEB-AEDiAIBqAIDuALN5KPABsACAdICJDg2MGQxZWMwLTE3ZWMtNGRhYi1iMWUwLWQ0NDVmMmMzNjFhNtgCBeACAQ&ucfs=1&arphpl=1&group_adults=2&req_adults=2&no_rooms=1&group_children=0&req_children=0&hpos=3&hapos=3&sr_order=popularity&srpvid=a6ce6266c8200018&srepoch=1745416782&from=searchresults',\n",
       " 'https://www.booking.com/hotel/fr/ra-c-sidence-sainte-marthe.html?aid=304142&label=gen173nr-1FCAQoggJCDnNlYXJjaF9hdmlnbm9uSDNYBGhNiAEBmAExuAEKyAEF2AEB6AEB-AEDiAIBqAIDuALN5KPABsACAdICJDg2MGQxZWMwLTE3ZWMtNGRhYi1iMWUwLWQ0NDVmMmMzNjFhNtgCBeACAQ&ucfs=1&arphpl=1&group_adults=2&req_adults=2&no_rooms=1&group_children=0&req_children=0&hpos=4&hapos=4&sr_order=popularity&srpvid=a6ce6266c8200018&srepoch=1745416782&from=searchresults',\n",
       " 'https://www.booking.com/hotel/fr/clarioncloitrestlouis.html?aid=304142&label=gen173nr-1FCAQoggJCDnNlYXJjaF9hdmlnbm9uSDNYBGhNiAEBmAExuAEKyAEF2AEB6AEB-AEDiAIBqAIDuALN5KPABsACAdICJDg2MGQxZWMwLTE3ZWMtNGRhYi1iMWUwLWQ0NDVmMmMzNjFhNtgCBeACAQ&ucfs=1&arphpl=1&group_adults=2&req_adults=2&no_rooms=1&group_children=0&req_children=0&hpos=5&hapos=5&sr_order=popularity&srpvid=a6ce6266c8200018&srepoch=1745416782&from=searchresults',\n",
       " 'https://www.booking.com/hotel/fr/les-carmes-avignon.html?aid=304142&label=gen173nr-1FCAQoggJCDnNlYXJjaF9hdmlnbm9uSDNYBGhNiAEBmAExuAEKyAEF2AEB6AEB-AEDiAIBqAIDuALN5KPABsACAdICJDg2MGQxZWMwLTE3ZWMtNGRhYi1iMWUwLWQ0NDVmMmMzNjFhNtgCBeACAQ&ucfs=1&arphpl=1&group_adults=2&req_adults=2&no_rooms=1&group_children=0&req_children=0&hpos=6&hapos=6&sr_order=popularity&srpvid=a6ce6266c8200018&srepoch=1745416782&from=searchresults',\n",
       " 'https://www.booking.com/hotel/fr/hotel-bristol-avignon.html?aid=304142&label=gen173nr-1FCAQoggJCDnNlYXJjaF9hdmlnbm9uSDNYBGhNiAEBmAExuAEKyAEF2AEB6AEB-AEDiAIBqAIDuALN5KPABsACAdICJDg2MGQxZWMwLTE3ZWMtNGRhYi1iMWUwLWQ0NDVmMmMzNjFhNtgCBeACAQ&ucfs=1&arphpl=1&group_adults=2&req_adults=2&no_rooms=1&group_children=0&req_children=0&hpos=7&hapos=7&sr_order=popularity&srpvid=a6ce6266c8200018&srepoch=1745416782&from_sustainable_property_sr=1&from=searchresults',\n",
       " 'https://www.booking.com/hotel/fr/appart-parking-arrivee-autonome.html?aid=304142&label=gen173nr-1FCAQoggJCDnNlYXJjaF9hdmlnbm9uSDNYBGhNiAEBmAExuAEKyAEF2AEB6AEB-AEDiAIBqAIDuALN5KPABsACAdICJDg2MGQxZWMwLTE3ZWMtNGRhYi1iMWUwLWQ0NDVmMmMzNjFhNtgCBeACAQ&ucfs=1&arphpl=1&group_adults=2&req_adults=2&no_rooms=1&group_children=0&req_children=0&hpos=8&hapos=8&sr_order=popularity&srpvid=a6ce6266c8200018&srepoch=1745416782&from=searchresults',\n",
       " 'https://www.booking.com/hotel/fr/chapelle-du-miracle.html?aid=304142&label=gen173nr-1FCAQoggJCDnNlYXJjaF9hdmlnbm9uSDNYBGhNiAEBmAExuAEKyAEF2AEB6AEB-AEDiAIBqAIDuALN5KPABsACAdICJDg2MGQxZWMwLTE3ZWMtNGRhYi1iMWUwLWQ0NDVmMmMzNjFhNtgCBeACAQ&ucfs=1&arphpl=1&group_adults=2&req_adults=2&no_rooms=1&group_children=0&req_children=0&hpos=9&hapos=9&sr_order=popularity&srpvid=a6ce6266c8200018&srepoch=1745416782&from=searchresults',\n",
       " 'https://www.booking.com/hotel/fr/expresshiavignon.html?aid=304142&label=gen173nr-1FCAQoggJCDnNlYXJjaF9hdmlnbm9uSDNYBGhNiAEBmAExuAEKyAEF2AEB6AEB-AEDiAIBqAIDuALN5KPABsACAdICJDg2MGQxZWMwLTE3ZWMtNGRhYi1iMWUwLWQ0NDVmMmMzNjFhNtgCBeACAQ&ucfs=1&arphpl=1&group_adults=2&req_adults=2&no_rooms=1&group_children=0&req_children=0&hpos=10&hapos=10&sr_order=popularity&srpvid=a6ce6266c8200018&srepoch=1745416782&from_sustainable_property_sr=1&from=searchresults',\n",
       " 'https://www.booking.com/hotel/fr/magnifique-cocon-intra-muros-studio-de-charme-au-coeur-d-avignon.html?aid=304142&label=gen173nr-1FCAQoggJCDnNlYXJjaF9hdmlnbm9uSDNYBGhNiAEBmAExuAEKyAEF2AEB6AEB-AEDiAIBqAIDuALN5KPABsACAdICJDg2MGQxZWMwLTE3ZWMtNGRhYi1iMWUwLWQ0NDVmMmMzNjFhNtgCBeACAQ&ucfs=1&arphpl=1&group_adults=2&req_adults=2&no_rooms=1&group_children=0&req_children=0&hpos=11&hapos=11&sr_order=popularity&srpvid=a6ce6266c8200018&srepoch=1745416782&from=searchresults',\n",
       " 'https://www.booking.com/hotel/fr/le-chardonnay-avignon.html?aid=304142&label=gen173nr-1FCAQoggJCDnNlYXJjaF9hdmlnbm9uSDNYBGhNiAEBmAExuAEKyAEF2AEB6AEB-AEDiAIBqAIDuALN5KPABsACAdICJDg2MGQxZWMwLTE3ZWMtNGRhYi1iMWUwLWQ0NDVmMmMzNjFhNtgCBeACAQ&ucfs=1&arphpl=1&group_adults=2&req_adults=2&no_rooms=1&group_children=0&req_children=0&hpos=12&hapos=12&sr_order=popularity&srpvid=a6ce6266c8200018&srepoch=1745416782&from=searchresults',\n",
       " 'https://www.booking.com/hotel/fr/l-39-ilot-bambou.html?aid=304142&label=gen173nr-1FCAQoggJCDnNlYXJjaF9hdmlnbm9uSDNYBGhNiAEBmAExuAEKyAEF2AEB6AEB-AEDiAIBqAIDuALN5KPABsACAdICJDg2MGQxZWMwLTE3ZWMtNGRhYi1iMWUwLWQ0NDVmMmMzNjFhNtgCBeACAQ&ucfs=1&arphpl=1&group_adults=2&req_adults=2&no_rooms=1&group_children=0&req_children=0&hpos=13&hapos=13&sr_order=popularity&srpvid=a6ce6266c8200018&srepoch=1745416782&from=searchresults',\n",
       " 'https://www.booking.com/hotel/fr/villa-pauline-avignon.html?aid=304142&label=gen173nr-1FCAQoggJCDnNlYXJjaF9hdmlnbm9uSDNYBGhNiAEBmAExuAEKyAEF2AEB6AEB-AEDiAIBqAIDuALN5KPABsACAdICJDg2MGQxZWMwLTE3ZWMtNGRhYi1iMWUwLWQ0NDVmMmMzNjFhNtgCBeACAQ&ucfs=1&arphpl=1&group_adults=2&req_adults=2&no_rooms=1&group_children=0&req_children=0&hpos=14&hapos=14&sr_order=popularity&srpvid=a6ce6266c8200018&srepoch=1745416782&from=searchresults',\n",
       " 'https://www.booking.com/hotel/fr/appart-le-studio-kaelis-407-bis.html?aid=304142&label=gen173nr-1FCAQoggJCDnNlYXJjaF9hdmlnbm9uSDNYBGhNiAEBmAExuAEKyAEF2AEB6AEB-AEDiAIBqAIDuALN5KPABsACAdICJDg2MGQxZWMwLTE3ZWMtNGRhYi1iMWUwLWQ0NDVmMmMzNjFhNtgCBeACAQ&ucfs=1&arphpl=1&group_adults=2&req_adults=2&no_rooms=1&group_children=0&req_children=0&hpos=15&hapos=15&sr_order=popularity&srpvid=a6ce6266c8200018&srepoch=1745416782&from=searchresults',\n",
       " 'https://www.booking.com/hotel/fr/t2-charme-intramuros-quartier-des-teinturiers.html?aid=304142&label=gen173nr-1FCAQoggJCDnNlYXJjaF9hdmlnbm9uSDNYBGhNiAEBmAExuAEKyAEF2AEB6AEB-AEDiAIBqAIDuALN5KPABsACAdICJDg2MGQxZWMwLTE3ZWMtNGRhYi1iMWUwLWQ0NDVmMmMzNjFhNtgCBeACAQ&ucfs=1&arphpl=1&group_adults=2&req_adults=2&no_rooms=1&group_children=0&req_children=0&hpos=16&hapos=16&sr_order=popularity&srpvid=a6ce6266c8200018&srepoch=1745416782&from=searchresults',\n",
       " 'https://www.booking.com/hotel/fr/la-petite-saunerie.html?aid=304142&label=gen173nr-1FCAQoggJCDnNlYXJjaF9hdmlnbm9uSDNYBGhNiAEBmAExuAEKyAEF2AEB6AEB-AEDiAIBqAIDuALN5KPABsACAdICJDg2MGQxZWMwLTE3ZWMtNGRhYi1iMWUwLWQ0NDVmMmMzNjFhNtgCBeACAQ&ucfs=1&arphpl=1&group_adults=2&req_adults=2&no_rooms=1&group_children=0&req_children=0&hpos=17&hapos=17&sr_order=popularity&srpvid=a6ce6266c8200018&srepoch=1745416782&from=searchresults',\n",
       " 'https://www.booking.com/hotel/fr/avignongrandhotel.html?aid=304142&label=gen173nr-1FCAQoggJCDnNlYXJjaF9hdmlnbm9uSDNYBGhNiAEBmAExuAEKyAEF2AEB6AEB-AEDiAIBqAIDuALN5KPABsACAdICJDg2MGQxZWMwLTE3ZWMtNGRhYi1iMWUwLWQ0NDVmMmMzNjFhNtgCBeACAQ&ucfs=1&arphpl=1&group_adults=2&req_adults=2&no_rooms=1&group_children=0&req_children=0&hpos=18&hapos=18&sr_order=popularity&srpvid=a6ce6266c8200018&srepoch=1745416782&from=searchresults',\n",
       " 'https://www.booking.com/hotel/fr/le-travertin.html?aid=304142&label=gen173nr-1FCAQoggJCDnNlYXJjaF9hdmlnbm9uSDNYBGhNiAEBmAExuAEKyAEF2AEB6AEB-AEDiAIBqAIDuALN5KPABsACAdICJDg2MGQxZWMwLTE3ZWMtNGRhYi1iMWUwLWQ0NDVmMmMzNjFhNtgCBeACAQ&ucfs=1&arphpl=1&group_adults=2&req_adults=2&no_rooms=1&group_children=0&req_children=0&hpos=19&hapos=19&sr_order=popularity&srpvid=a6ce6266c8200018&srepoch=1745416782&from=searchresults',\n",
       " 'https://www.booking.com/hotel/fr/charme-au-coeur-d-39-avignon.html?aid=304142&label=gen173nr-1FCAQoggJCDnNlYXJjaF9hdmlnbm9uSDNYBGhNiAEBmAExuAEKyAEF2AEB6AEB-AEDiAIBqAIDuALN5KPABsACAdICJDg2MGQxZWMwLTE3ZWMtNGRhYi1iMWUwLWQ0NDVmMmMzNjFhNtgCBeACAQ&ucfs=1&arphpl=1&group_adults=2&req_adults=2&no_rooms=1&group_children=0&req_children=0&hpos=20&hapos=20&sr_order=popularity&srpvid=a6ce6266c8200018&srepoch=1745416782&from=searchresults',\n",
       " 'https://www.booking.com/hotel/fr/kyriad-avignon-palais-des-papes-xml.html?aid=304142&label=gen173nr-1FCAQoggJCDnNlYXJjaF9hdmlnbm9uSDNYBGhNiAEBmAExuAEKyAEF2AEB6AEB-AEDiAIBqAIDuALN5KPABsACAdICJDg2MGQxZWMwLTE3ZWMtNGRhYi1iMWUwLWQ0NDVmMmMzNjFhNtgCBeACAQ&ucfs=1&arphpl=1&group_adults=2&req_adults=2&no_rooms=1&group_children=0&req_children=0&hpos=21&hapos=21&sr_order=popularity&srpvid=a6ce6266c8200018&srepoch=1745416782&from=searchresults',\n",
       " 'https://www.booking.com/hotel/fr/calme-et-charme.html?aid=304142&label=gen173nr-1FCAQoggJCDnNlYXJjaF9hdmlnbm9uSDNYBGhNiAEBmAExuAEKyAEF2AEB6AEB-AEDiAIBqAIDuALN5KPABsACAdICJDg2MGQxZWMwLTE3ZWMtNGRhYi1iMWUwLWQ0NDVmMmMzNjFhNtgCBeACAQ&ucfs=1&arphpl=1&group_adults=2&req_adults=2&no_rooms=1&group_children=0&req_children=0&hpos=22&hapos=22&sr_order=popularity&srpvid=a6ce6266c8200018&srepoch=1745416782&from=searchresults',\n",
       " 'https://www.booking.com/hotel/fr/appartement-de-standing-avignon.html?aid=304142&label=gen173nr-1FCAQoggJCDnNlYXJjaF9hdmlnbm9uSDNYBGhNiAEBmAExuAEKyAEF2AEB6AEB-AEDiAIBqAIDuALN5KPABsACAdICJDg2MGQxZWMwLTE3ZWMtNGRhYi1iMWUwLWQ0NDVmMmMzNjFhNtgCBeACAQ&ucfs=1&arphpl=1&group_adults=2&req_adults=2&no_rooms=1&group_children=0&req_children=0&hpos=23&hapos=23&sr_order=popularity&srpvid=a6ce6266c8200018&srepoch=1745416782&from=searchresults',\n",
       " 'https://www.booking.com/hotel/fr/la-banasterie.html?aid=304142&label=gen173nr-1FCAQoggJCDnNlYXJjaF9hdmlnbm9uSDNYBGhNiAEBmAExuAEKyAEF2AEB6AEB-AEDiAIBqAIDuALN5KPABsACAdICJDg2MGQxZWMwLTE3ZWMtNGRhYi1iMWUwLWQ0NDVmMmMzNjFhNtgCBeACAQ&ucfs=1&arphpl=1&group_adults=2&req_adults=2&no_rooms=1&group_children=0&req_children=0&hpos=24&hapos=24&sr_order=popularity&srpvid=a6ce6266c8200018&srepoch=1745416782&from=searchresults',\n",
       " 'https://www.booking.com/hotel/fr/paradise-eart-amp-sea.html?aid=304142&label=gen173nr-1FCAQoggJCEHNlYXJjaF9tYXJzZWlsbGVIM1gEaE2IAQGYATG4AQrIAQXYAQHoAQH4AQOIAgGoAgO4As3ko8AGwAIB0gIkYTJjNjhlODEtOWIyNy00ZTBlLTliOWUtNjg5YjhhZWEzZDg22AIF4AIB&ucfs=1&arphpl=1&group_adults=2&req_adults=2&no_rooms=1&group_children=0&req_children=0&hpos=1&hapos=1&sr_order=popularity&srpvid=1702626623330931&srepoch=1745416782&from=searchresults',\n",
       " 'https://www.booking.com/hotel/fr/odalys-city-nimes-arenes.html?aid=304142&label=gen173nr-1FCAQoggJCDHNlYXJjaF9uaW1lc0gzWARoTYgBAZgBMbgBCsgBBdgBAegBAfgBA4gCAagCA7gCzeSjwAbAAgHSAiQzODQ0ODJmOS1hYzE4LTQ3MWUtYTUzYS1iNGQwNTlhZjY2MjnYAgXgAgE&ucfs=1&arphpl=1&group_adults=2&req_adults=2&no_rooms=1&group_children=0&req_children=0&hpos=1&hapos=1&sr_order=popularity&srpvid=577f6266785a0164&srepoch=1745416782&from=searchresults',\n",
       " 'https://www.booking.com/hotel/fr/les-jardins-de-baracane.html?aid=304142&label=gen173nr-1FCAQoggJCDnNlYXJjaF9hdmlnbm9uSDNYBGhNiAEBmAExuAEKyAEF2AEB6AEB-AEDiAIBqAIDuALN5KPABsACAdICJDg2MGQxZWMwLTE3ZWMtNGRhYi1iMWUwLWQ0NDVmMmMzNjFhNtgCBeACAQ&ucfs=1&arphpl=1&group_adults=2&req_adults=2&no_rooms=1&group_children=0&req_children=0&hpos=25&hapos=25&sr_order=popularity&srpvid=a6ce6266c8200018&srepoch=1745416782&from_sustainable_property_sr=1&from=searchresults',\n",
       " 'https://www.booking.com/hotel/fr/les-toits-du-vieux-port.html?aid=304142&label=gen173nr-1FCAQoggJCEHNlYXJjaF9tYXJzZWlsbGVIM1gEaE2IAQGYATG4AQrIAQXYAQHoAQH4AQOIAgGoAgO4As3ko8AGwAIB0gIkYTJjNjhlODEtOWIyNy00ZTBlLTliOWUtNjg5YjhhZWEzZDg22AIF4AIB&ucfs=1&arphpl=1&group_adults=2&req_adults=2&no_rooms=1&group_children=0&req_children=0&hpos=2&hapos=2&sr_order=popularity&srpvid=1702626623330931&srepoch=1745416782&from=searchresults',\n",
       " 'https://www.booking.com/hotel/fr/grand-t1-vieux-port-salle-de-sport-amp-rooftop.html?aid=304142&label=gen173nr-1FCAQoggJCEHNlYXJjaF9tYXJzZWlsbGVIM1gEaE2IAQGYATG4AQrIAQXYAQHoAQH4AQOIAgGoAgO4As3ko8AGwAIB0gIkYTJjNjhlODEtOWIyNy00ZTBlLTliOWUtNjg5YjhhZWEzZDg22AIF4AIB&ucfs=1&arphpl=1&group_adults=2&req_adults=2&no_rooms=1&group_children=0&req_children=0&hpos=3&hapos=3&sr_order=popularity&srpvid=1702626623330931&srepoch=1745416782&from=searchresults',\n",
       " 'https://www.booking.com/hotel/fr/mercure-marseille-canebiere-vieux-port.html?aid=304142&label=gen173nr-1FCAQoggJCEHNlYXJjaF9tYXJzZWlsbGVIM1gEaE2IAQGYATG4AQrIAQXYAQHoAQH4AQOIAgGoAgO4As3ko8AGwAIB0gIkYTJjNjhlODEtOWIyNy00ZTBlLTliOWUtNjg5YjhhZWEzZDg22AIF4AIB&ucfs=1&arphpl=1&group_adults=2&req_adults=2&no_rooms=1&group_children=0&req_children=0&hpos=4&hapos=4&sr_order=popularity&srpvid=1702626623330931&srepoch=1745416782&from_sustainable_property_sr=1&from=searchresults',\n",
       " 'https://www.booking.com/hotel/fr/hermes.html?aid=304142&label=gen173nr-1FCAQoggJCEHNlYXJjaF9tYXJzZWlsbGVIM1gEaE2IAQGYATG4AQrIAQXYAQHoAQH4AQOIAgGoAgO4As3ko8AGwAIB0gIkYTJjNjhlODEtOWIyNy00ZTBlLTliOWUtNjg5YjhhZWEzZDg22AIF4AIB&ucfs=1&arphpl=1&group_adults=2&req_adults=2&no_rooms=1&group_children=0&req_children=0&hpos=5&hapos=5&sr_order=popularity&srpvid=1702626623330931&srepoch=1745416782&from=searchresults',\n",
       " 'https://www.booking.com/hotel/fr/residhome-marseille.html?aid=304142&label=gen173nr-1FCAQoggJCEHNlYXJjaF9tYXJzZWlsbGVIM1gEaE2IAQGYATG4AQrIAQXYAQHoAQH4AQOIAgGoAgO4As3ko8AGwAIB0gIkYTJjNjhlODEtOWIyNy00ZTBlLTliOWUtNjg5YjhhZWEzZDg22AIF4AIB&ucfs=1&arphpl=1&group_adults=2&req_adults=2&no_rooms=1&group_children=0&req_children=0&hpos=6&hapos=6&sr_order=popularity&srpvid=1702626623330931&srepoch=1745416782&from=searchresults',\n",
       " 'https://www.booking.com/hotel/fr/easyhotel-marseille.html?aid=304142&label=gen173nr-1FCAQoggJCEHNlYXJjaF9tYXJzZWlsbGVIM1gEaE2IAQGYATG4AQrIAQXYAQHoAQH4AQOIAgGoAgO4As3ko8AGwAIB0gIkYTJjNjhlODEtOWIyNy00ZTBlLTliOWUtNjg5YjhhZWEzZDg22AIF4AIB&ucfs=1&arphpl=1&group_adults=2&req_adults=2&no_rooms=1&group_children=0&req_children=0&hpos=7&hapos=7&sr_order=popularity&srpvid=1702626623330931&srepoch=1745416782&from=searchresults',\n",
       " 'https://www.booking.com/hotel/fr/le-pytheas-vue-vieux-port-avec-terrasse-et-clim.html?aid=304142&label=gen173nr-1FCAQoggJCEHNlYXJjaF9tYXJzZWlsbGVIM1gEaE2IAQGYATG4AQrIAQXYAQHoAQH4AQOIAgGoAgO4As3ko8AGwAIB0gIkYTJjNjhlODEtOWIyNy00ZTBlLTliOWUtNjg5YjhhZWEzZDg22AIF4AIB&ucfs=1&arphpl=1&group_adults=2&req_adults=2&no_rooms=1&group_children=0&req_children=0&hpos=8&hapos=8&sr_order=popularity&srpvid=1702626623330931&srepoch=1745416782&from=searchresults',\n",
       " 'https://www.booking.com/hotel/fr/hotel-marseille-st-charles.html?aid=304142&label=gen173nr-1FCAQoggJCEHNlYXJjaF9tYXJzZWlsbGVIM1gEaE2IAQGYATG4AQrIAQXYAQHoAQH4AQOIAgGoAgO4As3ko8AGwAIB0gIkYTJjNjhlODEtOWIyNy00ZTBlLTliOWUtNjg5YjhhZWEzZDg22AIF4AIB&ucfs=1&arphpl=1&group_adults=2&req_adults=2&no_rooms=1&group_children=0&req_children=0&hpos=9&hapos=9&sr_order=popularity&srpvid=1702626623330931&srepoch=1745416782&from_sustainable_property_sr=1&from=searchresults',\n",
       " 'https://www.booking.com/hotel/fr/ligo-by-happyculture-marseille4.html?aid=304142&label=gen173nr-1FCAQoggJCEHNlYXJjaF9tYXJzZWlsbGVIM1gEaE2IAQGYATG4AQrIAQXYAQHoAQH4AQOIAgGoAgO4As3ko8AGwAIB0gIkYTJjNjhlODEtOWIyNy00ZTBlLTliOWUtNjg5YjhhZWEzZDg22AIF4AIB&ucfs=1&arphpl=1&group_adults=2&req_adults=2&no_rooms=1&group_children=0&req_children=0&hpos=10&hapos=10&sr_order=popularity&srpvid=1702626623330931&srepoch=1745416782&from=searchresults',\n",
       " 'https://www.booking.com/hotel/fr/charmante-escale-au-coeur-du-panier-pres-vieux-port.html?aid=304142&label=gen173nr-1FCAQoggJCEHNlYXJjaF9tYXJzZWlsbGVIM1gEaE2IAQGYATG4AQrIAQXYAQHoAQH4AQOIAgGoAgO4As3ko8AGwAIB0gIkYTJjNjhlODEtOWIyNy00ZTBlLTliOWUtNjg5YjhhZWEzZDg22AIF4AIB&ucfs=1&arphpl=1&group_adults=2&req_adults=2&no_rooms=1&group_children=0&req_children=0&hpos=11&hapos=11&sr_order=popularity&srpvid=1702626623330931&srepoch=1745416782&from=searchresults',\n",
       " 'https://www.booking.com/hotel/fr/marseillecity-chambre-d-ha-tes-dans-un-loft.html?aid=304142&label=gen173nr-1FCAQoggJCEHNlYXJjaF9tYXJzZWlsbGVIM1gEaE2IAQGYATG4AQrIAQXYAQHoAQH4AQOIAgGoAgO4As3ko8AGwAIB0gIkYTJjNjhlODEtOWIyNy00ZTBlLTliOWUtNjg5YjhhZWEzZDg22AIF4AIB&ucfs=1&arphpl=1&group_adults=2&req_adults=2&no_rooms=1&group_children=0&req_children=0&hpos=12&hapos=12&sr_order=popularity&srpvid=1702626623330931&srepoch=1745416782&from=searchresults',\n",
       " 'https://www.booking.com/hotel/fr/montgrand.html?aid=304142&label=gen173nr-1FCAQoggJCEHNlYXJjaF9tYXJzZWlsbGVIM1gEaE2IAQGYATG4AQrIAQXYAQHoAQH4AQOIAgGoAgO4As3ko8AGwAIB0gIkYTJjNjhlODEtOWIyNy00ZTBlLTliOWUtNjg5YjhhZWEzZDg22AIF4AIB&ucfs=1&arphpl=1&group_adults=2&req_adults=2&no_rooms=1&group_children=0&req_children=0&hpos=13&hapos=13&sr_order=popularity&srpvid=1702626623330931&srepoch=1745416782&from=searchresults',\n",
       " 'https://www.booking.com/hotel/fr/elana-bel-appartement-dans-la-quartier-du-camas.html?aid=304142&label=gen173nr-1FCAQoggJCEHNlYXJjaF9tYXJzZWlsbGVIM1gEaE2IAQGYATG4AQrIAQXYAQHoAQH4AQOIAgGoAgO4As3ko8AGwAIB0gIkYTJjNjhlODEtOWIyNy00ZTBlLTliOWUtNjg5YjhhZWEzZDg22AIF4AIB&ucfs=1&arphpl=1&group_adults=2&req_adults=2&no_rooms=1&group_children=0&req_children=0&hpos=14&hapos=14&sr_order=popularity&srpvid=1702626623330931&srepoch=1745416782&from=searchresults',\n",
       " 'https://www.booking.com/hotel/fr/appartement-centre-marseille.html?aid=304142&label=gen173nr-1FCAQoggJCEHNlYXJjaF9tYXJzZWlsbGVIM1gEaE2IAQGYATG4AQrIAQXYAQHoAQH4AQOIAgGoAgO4As3ko8AGwAIB0gIkYTJjNjhlODEtOWIyNy00ZTBlLTliOWUtNjg5YjhhZWEzZDg22AIF4AIB&ucfs=1&arphpl=1&group_adults=2&req_adults=2&no_rooms=1&group_children=0&req_children=0&hpos=15&hapos=15&sr_order=popularity&srpvid=1702626623330931&srepoch=1745416782&from=searchresults',\n",
       " 'https://www.booking.com/hotel/fr/au-coeur-du-quartier-historique-millenaire.html?aid=304142&label=gen173nr-1FCAQoggJCEHNlYXJjaF9tYXJzZWlsbGVIM1gEaE2IAQGYATG4AQrIAQXYAQHoAQH4AQOIAgGoAgO4As3ko8AGwAIB0gIkYTJjNjhlODEtOWIyNy00ZTBlLTliOWUtNjg5YjhhZWEzZDg22AIF4AIB&ucfs=1&arphpl=1&group_adults=2&req_adults=2&no_rooms=1&group_children=0&req_children=0&hpos=16&hapos=16&sr_order=popularity&srpvid=1702626623330931&srepoch=1745416782&from=searchresults',\n",
       " 'https://www.booking.com/hotel/fr/le-studio-des-artistes.html?aid=304142&label=gen173nr-1FCAQoggJCEHNlYXJjaF9tYXJzZWlsbGVIM1gEaE2IAQGYATG4AQrIAQXYAQHoAQH4AQOIAgGoAgO4As3ko8AGwAIB0gIkYTJjNjhlODEtOWIyNy00ZTBlLTliOWUtNjg5YjhhZWEzZDg22AIF4AIB&ucfs=1&arphpl=1&group_adults=2&req_adults=2&no_rooms=1&group_children=0&req_children=0&hpos=17&hapos=17&sr_order=popularity&srpvid=1702626623330931&srepoch=1745416782&from=searchresults',\n",
       " 'https://www.booking.com/hotel/fr/joli-t2-moderne-au-centre-de-marseille.html?aid=304142&label=gen173nr-1FCAQoggJCEHNlYXJjaF9tYXJzZWlsbGVIM1gEaE2IAQGYATG4AQrIAQXYAQHoAQH4AQOIAgGoAgO4As3ko8AGwAIB0gIkYTJjNjhlODEtOWIyNy00ZTBlLTliOWUtNjg5YjhhZWEzZDg22AIF4AIB&ucfs=1&arphpl=1&group_adults=2&req_adults=2&no_rooms=1&group_children=0&req_children=0&hpos=18&hapos=18&sr_order=popularity&srpvid=1702626623330931&srepoch=1745416782&from=searchresults',\n",
       " 'https://www.booking.com/hotel/fr/sv-au-pied-du-vieux-port.html?aid=304142&label=gen173nr-1FCAQoggJCEHNlYXJjaF9tYXJzZWlsbGVIM1gEaE2IAQGYATG4AQrIAQXYAQHoAQH4AQOIAgGoAgO4As3ko8AGwAIB0gIkYTJjNjhlODEtOWIyNy00ZTBlLTliOWUtNjg5YjhhZWEzZDg22AIF4AIB&ucfs=1&arphpl=1&group_adults=2&req_adults=2&no_rooms=1&group_children=0&req_children=0&hpos=19&hapos=19&sr_order=popularity&srpvid=1702626623330931&srepoch=1745416782&from=searchresults',\n",
       " 'https://www.booking.com/hotel/fr/les-jardins-du-ga-c-na-c-ral.html?aid=304142&label=gen173nr-1FCAQoggJCEHNlYXJjaF9tYXJzZWlsbGVIM1gEaE2IAQGYATG4AQrIAQXYAQHoAQH4AQOIAgGoAgO4As3ko8AGwAIB0gIkYTJjNjhlODEtOWIyNy00ZTBlLTliOWUtNjg5YjhhZWEzZDg22AIF4AIB&ucfs=1&arphpl=1&group_adults=2&req_adults=2&no_rooms=1&group_children=0&req_children=0&hpos=20&hapos=20&sr_order=popularity&srpvid=1702626623330931&srepoch=1745416782&from=searchresults',\n",
       " 'https://www.booking.com/hotel/fr/les-toits-de-la-canebiere-studio-tout-confort.html?aid=304142&label=gen173nr-1FCAQoggJCEHNlYXJjaF9tYXJzZWlsbGVIM1gEaE2IAQGYATG4AQrIAQXYAQHoAQH4AQOIAgGoAgO4As3ko8AGwAIB0gIkYTJjNjhlODEtOWIyNy00ZTBlLTliOWUtNjg5YjhhZWEzZDg22AIF4AIB&ucfs=1&arphpl=1&group_adults=2&req_adults=2&no_rooms=1&group_children=0&req_children=0&hpos=21&hapos=21&sr_order=popularity&srpvid=1702626623330931&srepoch=1745416782&from=searchresults',\n",
       " 'https://www.booking.com/hotel/fr/toyoko-inn-marseille-saint-charles.html?aid=304142&label=gen173nr-1FCAQoggJCEHNlYXJjaF9tYXJzZWlsbGVIM1gEaE2IAQGYATG4AQrIAQXYAQHoAQH4AQOIAgGoAgO4As3ko8AGwAIB0gIkYTJjNjhlODEtOWIyNy00ZTBlLTliOWUtNjg5YjhhZWEzZDg22AIF4AIB&ucfs=1&arphpl=1&group_adults=2&req_adults=2&no_rooms=1&group_children=0&req_children=0&hpos=22&hapos=22&sr_order=popularity&srpvid=1702626623330931&srepoch=1745416782&from=searchresults',\n",
       " 'https://www.booking.com/hotel/fr/odalys-city-marseille-centre-euromed.html?aid=304142&label=gen173nr-1FCAQoggJCEHNlYXJjaF9tYXJzZWlsbGVIM1gEaE2IAQGYATG4AQrIAQXYAQHoAQH4AQOIAgGoAgO4As3ko8AGwAIB0gIkYTJjNjhlODEtOWIyNy00ZTBlLTliOWUtNjg5YjhhZWEzZDg22AIF4AIB&ucfs=1&arphpl=1&group_adults=2&req_adults=2&no_rooms=1&group_children=0&req_children=0&hpos=23&hapos=23&sr_order=popularity&srpvid=1702626623330931&srepoch=1745416782&from=searchresults',\n",
       " 'https://www.booking.com/hotel/fr/appart-39-city-nimes.html?aid=304142&label=gen173nr-1FCAQoggJCDHNlYXJjaF9uaW1lc0gzWARoTYgBAZgBMbgBCsgBBdgBAegBAfgBA4gCAagCA7gCzeSjwAbAAgHSAiQzODQ0ODJmOS1hYzE4LTQ3MWUtYTUzYS1iNGQwNTlhZjY2MjnYAgXgAgE&ucfs=1&arphpl=1&group_adults=2&req_adults=2&no_rooms=1&group_children=0&req_children=0&hpos=2&hapos=2&sr_order=popularity&srpvid=577f6266785a0164&srepoch=1745416782&from_sustainable_property_sr=1&from=searchresults',\n",
       " 'https://www.booking.com/hotel/fr/b-amp-b-nimes-centre-ville.html?aid=304142&label=gen173nr-1FCAQoggJCDHNlYXJjaF9uaW1lc0gzWARoTYgBAZgBMbgBCsgBBdgBAegBAfgBA4gCAagCA7gCzeSjwAbAAgHSAiQzODQ0ODJmOS1hYzE4LTQ3MWUtYTUzYS1iNGQwNTlhZjY2MjnYAgXgAgE&ucfs=1&arphpl=1&group_adults=2&req_adults=2&no_rooms=1&group_children=0&req_children=0&hpos=3&hapos=3&sr_order=popularity&srpvid=577f6266785a0164&srepoch=1745416782&from_sustainable_property_sr=1&from=searchresults',\n",
       " 'https://www.booking.com/hotel/fr/square-nimes.html?aid=304142&label=gen173nr-1FCAQoggJCDHNlYXJjaF9uaW1lc0gzWARoTYgBAZgBMbgBCsgBBdgBAegBAfgBA4gCAagCA7gCzeSjwAbAAgHSAiQzODQ0ODJmOS1hYzE4LTQ3MWUtYTUzYS1iNGQwNTlhZjY2MjnYAgXgAgE&ucfs=1&arphpl=1&group_adults=2&req_adults=2&no_rooms=1&group_children=0&req_children=0&hpos=4&hapos=4&sr_order=popularity&srpvid=577f6266785a0164&srepoch=1745416782&from=searchresults',\n",
       " 'https://www.booking.com/hotel/fr/rougetomette-nimes123.html?aid=304142&label=gen173nr-1FCAQoggJCDHNlYXJjaF9uaW1lc0gzWARoTYgBAZgBMbgBCsgBBdgBAegBAfgBA4gCAagCA7gCzeSjwAbAAgHSAiQzODQ0ODJmOS1hYzE4LTQ3MWUtYTUzYS1iNGQwNTlhZjY2MjnYAgXgAgE&ucfs=1&arphpl=1&group_adults=2&req_adults=2&no_rooms=1&group_children=0&req_children=0&hpos=5&hapos=5&sr_order=popularity&srpvid=577f6266785a0164&srepoch=1745416782&from=searchresults',\n",
       " 'https://www.booking.com/hotel/fr/ha-tel-la-baume.html?aid=304142&label=gen173nr-1FCAQoggJCDHNlYXJjaF9uaW1lc0gzWARoTYgBAZgBMbgBCsgBBdgBAegBAfgBA4gCAagCA7gCzeSjwAbAAgHSAiQzODQ0ODJmOS1hYzE4LTQ3MWUtYTUzYS1iNGQwNTlhZjY2MjnYAgXgAgE&ucfs=1&arphpl=1&group_adults=2&req_adults=2&no_rooms=1&group_children=0&req_children=0&hpos=6&hapos=6&sr_order=popularity&srpvid=577f6266785a0164&srepoch=1745416782&from=searchresults',\n",
       " 'https://www.booking.com/hotel/fr/adagio-access-nimes.html?aid=304142&label=gen173nr-1FCAQoggJCDHNlYXJjaF9uaW1lc0gzWARoTYgBAZgBMbgBCsgBBdgBAegBAfgBA4gCAagCA7gCzeSjwAbAAgHSAiQzODQ0ODJmOS1hYzE4LTQ3MWUtYTUzYS1iNGQwNTlhZjY2MjnYAgXgAgE&ucfs=1&arphpl=1&group_adults=2&req_adults=2&no_rooms=1&group_children=0&req_children=0&hpos=7&hapos=7&sr_order=popularity&srpvid=577f6266785a0164&srepoch=1745416782&from_sustainable_property_sr=1&from=searchresults',\n",
       " 'https://www.booking.com/hotel/fr/ibis-budget-nimes-centre-gare.html?aid=304142&label=gen173nr-1FCAQoggJCDHNlYXJjaF9uaW1lc0gzWARoTYgBAZgBMbgBCsgBBdgBAegBAfgBA4gCAagCA7gCzeSjwAbAAgHSAiQzODQ0ODJmOS1hYzE4LTQ3MWUtYTUzYS1iNGQwNTlhZjY2MjnYAgXgAgE&ucfs=1&arphpl=1&group_adults=2&req_adults=2&no_rooms=1&group_children=0&req_children=0&hpos=8&hapos=8&sr_order=popularity&srpvid=577f6266785a0164&srepoch=1745416782&from=searchresults',\n",
       " 'https://www.booking.com/hotel/fr/de-l-amphitheatre-nimes.html?aid=304142&label=gen173nr-1FCAQoggJCDHNlYXJjaF9uaW1lc0gzWARoTYgBAZgBMbgBCsgBBdgBAegBAfgBA4gCAagCA7gCzeSjwAbAAgHSAiQzODQ0ODJmOS1hYzE4LTQ3MWUtYTUzYS1iNGQwNTlhZjY2MjnYAgXgAgE&ucfs=1&arphpl=1&group_adults=2&req_adults=2&no_rooms=1&group_children=0&req_children=0&hpos=9&hapos=9&sr_order=popularity&srpvid=577f6266785a0164&srepoch=1745416782&from=searchresults',\n",
       " 'https://www.booking.com/hotel/fr/appartcosy-emplacement-ideal-avec-terrasse-amp-parking-prive.html?aid=304142&label=gen173nr-1FCAQoggJCDHNlYXJjaF9uaW1lc0gzWARoTYgBAZgBMbgBCsgBBdgBAegBAfgBA4gCAagCA7gCzeSjwAbAAgHSAiQzODQ0ODJmOS1hYzE4LTQ3MWUtYTUzYS1iNGQwNTlhZjY2MjnYAgXgAgE&ucfs=1&arphpl=1&group_adults=2&req_adults=2&no_rooms=1&group_children=0&req_children=0&hpos=10&hapos=10&sr_order=popularity&srpvid=577f6266785a0164&srepoch=1745416782&from=searchresults',\n",
       " 'https://www.booking.com/hotel/fr/eclat-doree.html?aid=304142&label=gen173nr-1FCAQoggJCDHNlYXJjaF9uaW1lc0gzWARoTYgBAZgBMbgBCsgBBdgBAegBAfgBA4gCAagCA7gCzeSjwAbAAgHSAiQzODQ0ODJmOS1hYzE4LTQ3MWUtYTUzYS1iNGQwNTlhZjY2MjnYAgXgAgE&ucfs=1&arphpl=1&group_adults=2&req_adults=2&no_rooms=1&group_children=0&req_children=0&hpos=11&hapos=11&sr_order=popularity&srpvid=577f6266785a0164&srepoch=1745416782&from=searchresults',\n",
       " 'https://www.booking.com/hotel/fr/le-13-nimes.html?aid=304142&label=gen173nr-1FCAQoggJCDHNlYXJjaF9uaW1lc0gzWARoTYgBAZgBMbgBCsgBBdgBAegBAfgBA4gCAagCA7gCzeSjwAbAAgHSAiQzODQ0ODJmOS1hYzE4LTQ3MWUtYTUzYS1iNGQwNTlhZjY2MjnYAgXgAgE&ucfs=1&arphpl=1&group_adults=2&req_adults=2&no_rooms=1&group_children=0&req_children=0&hpos=12&hapos=12&sr_order=popularity&srpvid=577f6266785a0164&srepoch=1745416782&from=searchresults',\n",
       " 'https://www.booking.com/hotel/fr/nimes-les-pins.html?aid=304142&label=gen173nr-1FCAQoggJCDHNlYXJjaF9uaW1lc0gzWARoTYgBAZgBMbgBCsgBBdgBAegBAfgBA4gCAagCA7gCzeSjwAbAAgHSAiQzODQ0ODJmOS1hYzE4LTQ3MWUtYTUzYS1iNGQwNTlhZjY2MjnYAgXgAgE&ucfs=1&arphpl=1&group_adults=2&req_adults=2&no_rooms=1&group_children=0&req_children=0&hpos=13&hapos=13&sr_order=popularity&srpvid=577f6266785a0164&srepoch=1745416782&from=searchresults',\n",
       " 'https://www.booking.com/hotel/fr/ibis-styles-nimes-centre-gare.html?aid=304142&label=gen173nr-1FCAQoggJCDHNlYXJjaF9uaW1lc0gzWARoTYgBAZgBMbgBCsgBBdgBAegBAfgBA4gCAagCA7gCzeSjwAbAAgHSAiQzODQ0ODJmOS1hYzE4LTQ3MWUtYTUzYS1iNGQwNTlhZjY2MjnYAgXgAgE&ucfs=1&arphpl=1&group_adults=2&req_adults=2&no_rooms=1&group_children=0&req_children=0&hpos=14&hapos=14&sr_order=popularity&srpvid=577f6266785a0164&srepoch=1745416782&from_sustainable_property_sr=1&from=searchresults',\n",
       " 'https://www.booking.com/hotel/fr/royal.html?aid=304142&label=gen173nr-1FCAQoggJCDHNlYXJjaF9uaW1lc0gzWARoTYgBAZgBMbgBCsgBBdgBAegBAfgBA4gCAagCA7gCzeSjwAbAAgHSAiQzODQ0ODJmOS1hYzE4LTQ3MWUtYTUzYS1iNGQwNTlhZjY2MjnYAgXgAgE&ucfs=1&arphpl=1&group_adults=2&req_adults=2&no_rooms=1&group_children=0&req_children=0&hpos=15&hapos=15&sr_order=popularity&srpvid=577f6266785a0164&srepoch=1745416782&from=searchresults',\n",
       " 'https://www.booking.com/hotel/fr/majestic-nimes.html?aid=304142&label=gen173nr-1FCAQoggJCDHNlYXJjaF9uaW1lc0gzWARoTYgBAZgBMbgBCsgBBdgBAegBAfgBA4gCAagCA7gCzeSjwAbAAgHSAiQzODQ0ODJmOS1hYzE4LTQ3MWUtYTUzYS1iNGQwNTlhZjY2MjnYAgXgAgE&ucfs=1&arphpl=1&group_adults=2&req_adults=2&no_rooms=1&group_children=0&req_children=0&hpos=16&hapos=16&sr_order=popularity&srpvid=577f6266785a0164&srepoch=1745416782&from=searchresults',\n",
       " 'https://www.booking.com/hotel/fr/logement-tout-confort-avec-grand-garage-gratuit.html?aid=304142&label=gen173nr-1FCAQoggJCDHNlYXJjaF9uaW1lc0gzWARoTYgBAZgBMbgBCsgBBdgBAegBAfgBA4gCAagCA7gCzeSjwAbAAgHSAiQzODQ0ODJmOS1hYzE4LTQ3MWUtYTUzYS1iNGQwNTlhZjY2MjnYAgXgAgE&ucfs=1&arphpl=1&group_adults=2&req_adults=2&no_rooms=1&group_children=0&req_children=0&hpos=17&hapos=17&sr_order=popularity&srpvid=577f6266785a0164&srepoch=1745416782&from=searchresults',\n",
       " 'https://www.booking.com/hotel/fr/appartement-haussmannien-nimes.html?aid=304142&label=gen173nr-1FCAQoggJCDHNlYXJjaF9uaW1lc0gzWARoTYgBAZgBMbgBCsgBBdgBAegBAfgBA4gCAagCA7gCzeSjwAbAAgHSAiQzODQ0ODJmOS1hYzE4LTQ3MWUtYTUzYS1iNGQwNTlhZjY2MjnYAgXgAgE&ucfs=1&arphpl=1&group_adults=2&req_adults=2&no_rooms=1&group_children=0&req_children=0&hpos=18&hapos=18&sr_order=popularity&srpvid=577f6266785a0164&srepoch=1745416782&from=searchresults',\n",
       " 'https://www.booking.com/hotel/fr/campanile-nimes-centre-mas-carbonnel.html?aid=304142&label=gen173nr-1FCAQoggJCDHNlYXJjaF9uaW1lc0gzWARoTYgBAZgBMbgBCsgBBdgBAegBAfgBA4gCAagCA7gCzeSjwAbAAgHSAiQzODQ0ODJmOS1hYzE4LTQ3MWUtYTUzYS1iNGQwNTlhZjY2MjnYAgXgAgE&ucfs=1&arphpl=1&group_adults=2&req_adults=2&no_rooms=1&group_children=0&req_children=0&hpos=19&hapos=19&sr_order=popularity&srpvid=577f6266785a0164&srepoch=1745416782&from=searchresults',\n",
       " 'https://www.booking.com/hotel/fr/imperator-nimes.html?aid=304142&label=gen173nr-1FCAQoggJCDHNlYXJjaF9uaW1lc0gzWARoTYgBAZgBMbgBCsgBBdgBAegBAfgBA4gCAagCA7gCzeSjwAbAAgHSAiQzODQ0ODJmOS1hYzE4LTQ3MWUtYTUzYS1iNGQwNTlhZjY2MjnYAgXgAgE&ucfs=1&arphpl=1&group_adults=2&req_adults=2&no_rooms=1&group_children=0&req_children=0&hpos=20&hapos=20&sr_order=popularity&srpvid=577f6266785a0164&srepoch=1745416782&from=searchresults',\n",
       " 'https://www.booking.com/hotel/fr/mezza-nimes.html?aid=304142&label=gen173nr-1FCAQoggJCDHNlYXJjaF9uaW1lc0gzWARoTYgBAZgBMbgBCsgBBdgBAegBAfgBA4gCAagCA7gCzeSjwAbAAgHSAiQzODQ0ODJmOS1hYzE4LTQ3MWUtYTUzYS1iNGQwNTlhZjY2MjnYAgXgAgE&ucfs=1&arphpl=1&group_adults=2&req_adults=2&no_rooms=1&group_children=0&req_children=0&hpos=21&hapos=21&sr_order=popularity&srpvid=577f6266785a0164&srepoch=1745416782&from=searchresults',\n",
       " 'https://www.booking.com/hotel/fr/hotel-des-tuileries.html?aid=304142&label=gen173nr-1FCAQoggJCDHNlYXJjaF9uaW1lc0gzWARoTYgBAZgBMbgBCsgBBdgBAegBAfgBA4gCAagCA7gCzeSjwAbAAgHSAiQzODQ0ODJmOS1hYzE4LTQ3MWUtYTUzYS1iNGQwNTlhZjY2MjnYAgXgAgE&ucfs=1&arphpl=1&group_adults=2&req_adults=2&no_rooms=1&group_children=0&req_children=0&hpos=22&hapos=22&sr_order=popularity&srpvid=577f6266785a0164&srepoch=1745416782&from=searchresults',\n",
       " 'https://www.booking.com/hotel/fr/ibis-na-r-mes-ouest.html?aid=304142&label=gen173nr-1FCAQoggJCDHNlYXJjaF9uaW1lc0gzWARoTYgBAZgBMbgBCsgBBdgBAegBAfgBA4gCAagCA7gCzeSjwAbAAgHSAiQzODQ0ODJmOS1hYzE4LTQ3MWUtYTUzYS1iNGQwNTlhZjY2MjnYAgXgAgE&ucfs=1&arphpl=1&group_adults=2&req_adults=2&no_rooms=1&group_children=0&req_children=0&hpos=23&hapos=23&sr_order=popularity&srpvid=577f6266785a0164&srepoch=1745416782&from=searchresults',\n",
       " 'https://www.booking.com/hotel/fr/les-esclafidous.html?aid=304142&label=gen173nr-1FCAQoggJCDHNlYXJjaF9uaW1lc0gzWARoTYgBAZgBMbgBCsgBBdgBAegBAfgBA4gCAagCA7gCzeSjwAbAAgHSAiQzODQ0ODJmOS1hYzE4LTQ3MWUtYTUzYS1iNGQwNTlhZjY2MjnYAgXgAgE&ucfs=1&arphpl=1&group_adults=2&req_adults=2&no_rooms=1&group_children=0&req_children=0&hpos=24&hapos=24&sr_order=popularity&srpvid=577f6266785a0164&srepoch=1745416782&from=searchresults',\n",
       " 'https://www.booking.com/hotel/fr/le-cosy-nimes2.html?aid=304142&label=gen173nr-1FCAQoggJCDHNlYXJjaF9uaW1lc0gzWARoTYgBAZgBMbgBCsgBBdgBAegBAfgBA4gCAagCA7gCzeSjwAbAAgHSAiQzODQ0ODJmOS1hYzE4LTQ3MWUtYTUzYS1iNGQwNTlhZjY2MjnYAgXgAgE&ucfs=1&arphpl=1&group_adults=2&req_adults=2&no_rooms=1&group_children=0&req_children=0&hpos=25&hapos=25&sr_order=popularity&srpvid=577f6266785a0164&srepoch=1745416782&from=searchresults',\n",
       " 'https://www.booking.com/hotel/fr/logement-caroline.html?aid=304142&label=gen173nr-1FCAQoggJCEHNlYXJjaF9tYXJzZWlsbGVIM1gEaE2IAQGYATG4AQrIAQXYAQHoAQH4AQOIAgGoAgO4As3ko8AGwAIB0gIkYTJjNjhlODEtOWIyNy00ZTBlLTliOWUtNjg5YjhhZWEzZDg22AIF4AIB&ucfs=1&arphpl=1&group_adults=2&req_adults=2&no_rooms=1&group_children=0&req_children=0&hpos=24&hapos=24&sr_order=popularity&srpvid=1702626623330931&srepoch=1745416782&from=searchresults',\n",
       " 'https://www.booking.com/hotel/fr/les-toits-de-pytheas.html?aid=304142&label=gen173nr-1FCAQoggJCEHNlYXJjaF9tYXJzZWlsbGVIM1gEaE2IAQGYATG4AQrIAQXYAQHoAQH4AQOIAgGoAgO4As3ko8AGwAIB0gIkYTJjNjhlODEtOWIyNy00ZTBlLTliOWUtNjg5YjhhZWEzZDg22AIF4AIB&ucfs=1&arphpl=1&group_adults=2&req_adults=2&no_rooms=1&group_children=0&req_children=0&hpos=25&hapos=25&sr_order=popularity&srpvid=1702626623330931&srepoch=1745416782&from=searchresults',\n",
       " 'https://www.booking.com/hotel/fr/la-douceur-de-cassis.html?aid=304142&label=gen173nr-1FCAQoggJCDXNlYXJjaF9jYXNzaXNIM1gEaE2IAQGYATG4AQrIAQXYAQHoAQH4AQOIAgGoAgO4As3ko8AGwAIB0gIkYjExYjY2OWUtZjY2Ni00ZmMyLWIzYzQtNDZmMjMyZjFjMjRh2AIF4AIB&ucfs=1&arphpl=1&group_adults=2&req_adults=2&no_rooms=1&group_children=0&req_children=0&hpos=1&hapos=1&sr_order=popularity&srpvid=804662665e570036&srepoch=1745416782&from=searchresults',\n",
       " 'https://www.booking.com/hotel/fr/la-ferme-rose.en-gb.html?aid=304142&label=gen173nr-1FCAQoggJCF3NlYXJjaF9nb3JnZXMgZHUgdmVyZG9uSDNYBGhNiAEBmAEJuAEKyAEF2AEB6AEB-AEDiAIBqAIDuALN5KPABsACAdICJGI0Yzk4ZTVkLWEyNDEtNGM5Mi04ZjlkLWQ3OTc1NDQyZmI5ONgCBeACAQ&ucfs=1&arphpl=1&group_adults=2&req_adults=2&no_rooms=1&group_children=0&req_children=0&hpos=1&hapos=1&sr_order=popularity&srpvid=03ce6266b6c80695&srepoch=1745416782&from=searchresults',\n",
       " 'https://www.booking.com/hotel/fr/home-cassis-maison-mediterrannee.html?aid=304142&label=gen173nr-1FCAQoggJCDXNlYXJjaF9jYXNzaXNIM1gEaE2IAQGYATG4AQrIAQXYAQHoAQH4AQOIAgGoAgO4As3ko8AGwAIB0gIkYjExYjY2OWUtZjY2Ni00ZmMyLWIzYzQtNDZmMjMyZjFjMjRh2AIF4AIB&ucfs=1&arphpl=1&group_adults=2&req_adults=2&no_rooms=1&group_children=0&req_children=0&hpos=2&hapos=2&sr_order=popularity&srpvid=804662665e570036&srepoch=1745416782&from=searchresults',\n",
       " 'https://www.booking.com/hotel/fr/le-sept-charmant-studio-aux-portes-des-calanques.html?aid=304142&label=gen173nr-1FCAQoggJCDXNlYXJjaF9jYXNzaXNIM1gEaE2IAQGYATG4AQrIAQXYAQHoAQH4AQOIAgGoAgO4As3ko8AGwAIB0gIkYjExYjY2OWUtZjY2Ni00ZmMyLWIzYzQtNDZmMjMyZjFjMjRh2AIF4AIB&ucfs=1&arphpl=1&group_adults=2&req_adults=2&no_rooms=1&group_children=0&req_children=0&hpos=3&hapos=3&sr_order=popularity&srpvid=804662665e570036&srepoch=1745416782&from=searchresults',\n",
       " 'https://www.booking.com/hotel/fr/le-p-tit-canaille-plein-centre-avec-parking-prive.html?aid=304142&label=gen173nr-1FCAQoggJCDXNlYXJjaF9jYXNzaXNIM1gEaE2IAQGYATG4AQrIAQXYAQHoAQH4AQOIAgGoAgO4As3ko8AGwAIB0gIkYjExYjY2OWUtZjY2Ni00ZmMyLWIzYzQtNDZmMjMyZjFjMjRh2AIF4AIB&ucfs=1&arphpl=1&group_adults=2&req_adults=2&no_rooms=1&group_children=0&req_children=0&hpos=4&hapos=4&sr_order=popularity&srpvid=804662665e570036&srepoch=1745416782&from=searchresults',\n",
       " 'https://www.booking.com/hotel/fr/aquarius-in-cassis-chambres-d-hotes.html?aid=304142&label=gen173nr-1FCAQoggJCDXNlYXJjaF9jYXNzaXNIM1gEaE2IAQGYATG4AQrIAQXYAQHoAQH4AQOIAgGoAgO4As3ko8AGwAIB0gIkYjExYjY2OWUtZjY2Ni00ZmMyLWIzYzQtNDZmMjMyZjFjMjRh2AIF4AIB&ucfs=1&arphpl=1&group_adults=2&req_adults=2&no_rooms=1&group_children=0&req_children=0&hpos=5&hapos=5&sr_order=popularity&srpvid=804662665e570036&srepoch=1745416782&from=searchresults',\n",
       " 'https://www.booking.com/hotel/fr/chez-nous-cassis.html?aid=304142&label=gen173nr-1FCAQoggJCDXNlYXJjaF9jYXNzaXNIM1gEaE2IAQGYATG4AQrIAQXYAQHoAQH4AQOIAgGoAgO4As3ko8AGwAIB0gIkYjExYjY2OWUtZjY2Ni00ZmMyLWIzYzQtNDZmMjMyZjFjMjRh2AIF4AIB&ucfs=1&arphpl=1&group_adults=2&req_adults=2&no_rooms=1&group_children=0&req_children=0&hpos=6&hapos=6&sr_order=popularity&srpvid=804662665e570036&srepoch=1745416782&from=searchresults',\n",
       " 'https://www.booking.com/hotel/fr/appartement-astoria-villa-face-piscine.html?aid=304142&label=gen173nr-1FCAQoggJCDXNlYXJjaF9jYXNzaXNIM1gEaE2IAQGYATG4AQrIAQXYAQHoAQH4AQOIAgGoAgO4As3ko8AGwAIB0gIkYjExYjY2OWUtZjY2Ni00ZmMyLWIzYzQtNDZmMjMyZjFjMjRh2AIF4AIB&ucfs=1&arphpl=1&group_adults=2&req_adults=2&no_rooms=1&group_children=0&req_children=0&hpos=7&hapos=7&sr_order=popularity&srpvid=804662665e570036&srepoch=1745416782&from=searchresults',\n",
       " 'https://www.booking.com/hotel/fr/lei-tapenie-2-par-dodo-a-cassis.html?aid=304142&label=gen173nr-1FCAQoggJCDXNlYXJjaF9jYXNzaXNIM1gEaE2IAQGYATG4AQrIAQXYAQHoAQH4AQOIAgGoAgO4As3ko8AGwAIB0gIkYjExYjY2OWUtZjY2Ni00ZmMyLWIzYzQtNDZmMjMyZjFjMjRh2AIF4AIB&ucfs=1&arphpl=1&group_adults=2&req_adults=2&no_rooms=1&group_children=0&req_children=0&hpos=8&hapos=8&sr_order=popularity&srpvid=804662665e570036&srepoch=1745416782&from=searchresults',\n",
       " 'https://www.booking.com/hotel/fr/villa-bobnell.html?aid=304142&label=gen173nr-1FCAQoggJCDXNlYXJjaF9jYXNzaXNIM1gEaE2IAQGYATG4AQrIAQXYAQHoAQH4AQOIAgGoAgO4As3ko8AGwAIB0gIkYjExYjY2OWUtZjY2Ni00ZmMyLWIzYzQtNDZmMjMyZjFjMjRh2AIF4AIB&ucfs=1&arphpl=1&group_adults=2&req_adults=2&no_rooms=1&group_children=0&req_children=0&hpos=9&hapos=9&sr_order=popularity&srpvid=804662665e570036&srepoch=1745416782&from=searchresults',\n",
       " 'https://www.booking.com/hotel/fr/seaview-cassis.html?aid=304142&label=gen173nr-1FCAQoggJCDXNlYXJjaF9jYXNzaXNIM1gEaE2IAQGYATG4AQrIAQXYAQHoAQH4AQOIAgGoAgO4As3ko8AGwAIB0gIkYjExYjY2OWUtZjY2Ni00ZmMyLWIzYzQtNDZmMjMyZjFjMjRh2AIF4AIB&ucfs=1&arphpl=1&group_adults=2&req_adults=2&no_rooms=1&group_children=0&req_children=0&hpos=10&hapos=10&sr_order=popularity&srpvid=804662665e570036&srepoch=1745416782&from=searchresults',\n",
       " 'https://www.booking.com/hotel/fr/la-demeure-insoupconnee.html?aid=304142&label=gen173nr-1FCAQoggJCDXNlYXJjaF9jYXNzaXNIM1gEaE2IAQGYATG4AQrIAQXYAQHoAQH4AQOIAgGoAgO4As3ko8AGwAIB0gIkYjExYjY2OWUtZjY2Ni00ZmMyLWIzYzQtNDZmMjMyZjFjMjRh2AIF4AIB&ucfs=1&arphpl=1&group_adults=2&req_adults=2&no_rooms=1&group_children=0&req_children=0&hpos=11&hapos=11&sr_order=popularity&srpvid=804662665e570036&srepoch=1745416782&from_sustainable_property_sr=1&from=searchresults',\n",
       " 'https://www.booking.com/hotel/fr/cassis-charmant-appart-en-face-de-la-plage.html?aid=304142&label=gen173nr-1FCAQoggJCDXNlYXJjaF9jYXNzaXNIM1gEaE2IAQGYATG4AQrIAQXYAQHoAQH4AQOIAgGoAgO4As3ko8AGwAIB0gIkYjExYjY2OWUtZjY2Ni00ZmMyLWIzYzQtNDZmMjMyZjFjMjRh2AIF4AIB&ucfs=1&arphpl=1&group_adults=2&req_adults=2&no_rooms=1&group_children=0&req_children=0&hpos=12&hapos=12&sr_order=popularity&srpvid=804662665e570036&srepoch=1745416782&from=searchresults',\n",
       " 'https://www.booking.com/hotel/fr/aiguade-appartement-a-cassis.html?aid=304142&label=gen173nr-1FCAQoggJCDXNlYXJjaF9jYXNzaXNIM1gEaE2IAQGYATG4AQrIAQXYAQHoAQH4AQOIAgGoAgO4As3ko8AGwAIB0gIkYjExYjY2OWUtZjY2Ni00ZmMyLWIzYzQtNDZmMjMyZjFjMjRh2AIF4AIB&ucfs=1&arphpl=1&group_adults=2&req_adults=2&no_rooms=1&group_children=0&req_children=0&hpos=13&hapos=13&sr_order=popularity&srpvid=804662665e570036&srepoch=1745416782&from=searchresults',\n",
       " 'https://www.booking.com/hotel/fr/la-rade-centre-ville-balcon-clim-neuf.html?aid=304142&label=gen173nr-1FCAQoggJCDXNlYXJjaF9jYXNzaXNIM1gEaE2IAQGYATG4AQrIAQXYAQHoAQH4AQOIAgGoAgO4As3ko8AGwAIB0gIkYjExYjY2OWUtZjY2Ni00ZmMyLWIzYzQtNDZmMjMyZjFjMjRh2AIF4AIB&ucfs=1&arphpl=1&group_adults=2&req_adults=2&no_rooms=1&group_children=0&req_children=0&hpos=14&hapos=14&sr_order=popularity&srpvid=804662665e570036&srepoch=1745416782&from=searchresults',\n",
       " 'https://www.booking.com/hotel/fr/le-golfe-cassis.html?aid=304142&label=gen173nr-1FCAQoggJCDXNlYXJjaF9jYXNzaXNIM1gEaE2IAQGYATG4AQrIAQXYAQHoAQH4AQOIAgGoAgO4As3ko8AGwAIB0gIkYjExYjY2OWUtZjY2Ni00ZmMyLWIzYzQtNDZmMjMyZjFjMjRh2AIF4AIB&ucfs=1&arphpl=1&group_adults=2&req_adults=2&no_rooms=1&group_children=0&req_children=0&hpos=15&hapos=15&sr_order=popularity&srpvid=804662665e570036&srepoch=1745416782&from=searchresults',\n",
       " 'https://www.booking.com/hotel/fr/location-au-bord-de-l-eau-cassis.html?aid=304142&label=gen173nr-1FCAQoggJCDXNlYXJjaF9jYXNzaXNIM1gEaE2IAQGYATG4AQrIAQXYAQHoAQH4AQOIAgGoAgO4As3ko8AGwAIB0gIkYjExYjY2OWUtZjY2Ni00ZmMyLWIzYzQtNDZmMjMyZjFjMjRh2AIF4AIB&ucfs=1&arphpl=1&group_adults=2&req_adults=2&no_rooms=1&group_children=0&req_children=0&hpos=16&hapos=16&sr_order=popularity&srpvid=804662665e570036&srepoch=1745416782&from=searchresults',\n",
       " 'https://www.booking.com/hotel/fr/calanques-cassis-apartment.html?aid=304142&label=gen173nr-1FCAQoggJCDXNlYXJjaF9jYXNzaXNIM1gEaE2IAQGYATG4AQrIAQXYAQHoAQH4AQOIAgGoAgO4As3ko8AGwAIB0gIkYjExYjY2OWUtZjY2Ni00ZmMyLWIzYzQtNDZmMjMyZjFjMjRh2AIF4AIB&ucfs=1&arphpl=1&group_adults=2&req_adults=2&no_rooms=1&group_children=0&req_children=0&hpos=17&hapos=17&sr_order=popularity&srpvid=804662665e570036&srepoch=1745416782&from=searchresults',\n",
       " 'https://www.booking.com/hotel/fr/mistral-gagnant-cassis.html?aid=304142&label=gen173nr-1FCAQoggJCDXNlYXJjaF9jYXNzaXNIM1gEaE2IAQGYATG4AQrIAQXYAQHoAQH4AQOIAgGoAgO4As3ko8AGwAIB0gIkYjExYjY2OWUtZjY2Ni00ZmMyLWIzYzQtNDZmMjMyZjFjMjRh2AIF4AIB&ucfs=1&arphpl=1&group_adults=2&req_adults=2&no_rooms=1&group_children=0&req_children=0&hpos=18&hapos=18&sr_order=popularity&srpvid=804662665e570036&srepoch=1745416782&from=searchresults',\n",
       " 'https://www.booking.com/hotel/fr/hpc-suites.html?aid=304142&label=gen173nr-1FCAQoggJCDXNlYXJjaF9jYXNzaXNIM1gEaE2IAQGYATG4AQrIAQXYAQHoAQH4AQOIAgGoAgO4As3ko8AGwAIB0gIkYjExYjY2OWUtZjY2Ni00ZmMyLWIzYzQtNDZmMjMyZjFjMjRh2AIF4AIB&ucfs=1&arphpl=1&group_adults=2&req_adults=2&no_rooms=1&group_children=0&req_children=0&hpos=19&hapos=19&sr_order=popularity&srpvid=804662665e570036&srepoch=1745416782&from=searchresults',\n",
       " 'https://www.booking.com/hotel/fr/aiguade-appartement-d-exception-a-cassis.html?aid=304142&label=gen173nr-1FCAQoggJCDXNlYXJjaF9jYXNzaXNIM1gEaE2IAQGYATG4AQrIAQXYAQHoAQH4AQOIAgGoAgO4As3ko8AGwAIB0gIkYjExYjY2OWUtZjY2Ni00ZmMyLWIzYzQtNDZmMjMyZjFjMjRh2AIF4AIB&ucfs=1&arphpl=1&group_adults=2&req_adults=2&no_rooms=1&group_children=0&req_children=0&hpos=20&hapos=20&sr_order=popularity&srpvid=804662665e570036&srepoch=1745416782&from=searchresults',\n",
       " 'https://www.booking.com/hotel/fr/charmant-studio-au-coeur-de-cassis.html?aid=304142&label=gen173nr-1FCAQoggJCDXNlYXJjaF9jYXNzaXNIM1gEaE2IAQGYATG4AQrIAQXYAQHoAQH4AQOIAgGoAgO4As3ko8AGwAIB0gIkYjExYjY2OWUtZjY2Ni00ZmMyLWIzYzQtNDZmMjMyZjFjMjRh2AIF4AIB&ucfs=1&arphpl=1&group_adults=2&req_adults=2&no_rooms=1&group_children=0&req_children=0&hpos=21&hapos=21&sr_order=popularity&srpvid=804662665e570036&srepoch=1745416782&from=searchresults',\n",
       " 'https://www.booking.com/hotel/fr/echo-des-flots.html?aid=304142&label=gen173nr-1FCAQoggJCDXNlYXJjaF9jYXNzaXNIM1gEaE2IAQGYATG4AQrIAQXYAQHoAQH4AQOIAgGoAgO4As3ko8AGwAIB0gIkYjExYjY2OWUtZjY2Ni00ZmMyLWIzYzQtNDZmMjMyZjFjMjRh2AIF4AIB&ucfs=1&arphpl=1&group_adults=2&req_adults=2&no_rooms=1&group_children=0&req_children=0&hpos=22&hapos=22&sr_order=popularity&srpvid=804662665e570036&srepoch=1745416782&from=searchresults',\n",
       " 'https://www.booking.com/hotel/fr/home-cassis.html?aid=304142&label=gen173nr-1FCAQoggJCDXNlYXJjaF9jYXNzaXNIM1gEaE2IAQGYATG4AQrIAQXYAQHoAQH4AQOIAgGoAgO4As3ko8AGwAIB0gIkYjExYjY2OWUtZjY2Ni00ZmMyLWIzYzQtNDZmMjMyZjFjMjRh2AIF4AIB&ucfs=1&arphpl=1&group_adults=2&req_adults=2&no_rooms=1&group_children=0&req_children=0&hpos=23&hapos=23&sr_order=popularity&srpvid=804662665e570036&srepoch=1745416782&from=searchresults',\n",
       " 'https://www.booking.com/hotel/fr/la-petite-bastide-cassis.html?aid=304142&label=gen173nr-1FCAQoggJCDXNlYXJjaF9jYXNzaXNIM1gEaE2IAQGYATG4AQrIAQXYAQHoAQH4AQOIAgGoAgO4As3ko8AGwAIB0gIkYjExYjY2OWUtZjY2Ni00ZmMyLWIzYzQtNDZmMjMyZjFjMjRh2AIF4AIB&ucfs=1&arphpl=1&group_adults=2&req_adults=2&no_rooms=1&group_children=0&req_children=0&hpos=24&hapos=24&sr_order=popularity&srpvid=804662665e570036&srepoch=1745416782&from=searchresults',\n",
       " 'https://www.booking.com/hotel/fr/cassis-calanques-2-pieces-grande-terrasse-vue-mer.html?aid=304142&label=gen173nr-1FCAQoggJCDXNlYXJjaF9jYXNzaXNIM1gEaE2IAQGYATG4AQrIAQXYAQHoAQH4AQOIAgGoAgO4As3ko8AGwAIB0gIkYjExYjY2OWUtZjY2Ni00ZmMyLWIzYzQtNDZmMjMyZjFjMjRh2AIF4AIB&ucfs=1&arphpl=1&group_adults=2&req_adults=2&no_rooms=1&group_children=0&req_children=0&hpos=25&hapos=25&sr_order=popularity&srpvid=804662665e570036&srepoch=1745416782&from=searchresults',\n",
       " 'https://www.booking.com/hotel/fr/du-vieux-chateau.en-gb.html?aid=304142&label=gen173nr-1FCAQoggJCF3NlYXJjaF9nb3JnZXMgZHUgdmVyZG9uSDNYBGhNiAEBmAEJuAEKyAEF2AEB6AEB-AEDiAIBqAIDuALN5KPABsACAdICJGI0Yzk4ZTVkLWEyNDEtNGM5Mi04ZjlkLWQ3OTc1NDQyZmI5ONgCBeACAQ&ucfs=1&arphpl=1&group_adults=2&req_adults=2&no_rooms=1&group_children=0&req_children=0&hpos=2&hapos=2&sr_order=popularity&srpvid=03ce6266b6c80695&srepoch=1745416782&from=searchresults',\n",
       " 'https://www.booking.com/hotel/fr/auberge-verdon.en-gb.html?aid=304142&label=gen173nr-1FCAQoggJCF3NlYXJjaF9nb3JnZXMgZHUgdmVyZG9uSDNYBGhNiAEBmAEJuAEKyAEF2AEB6AEB-AEDiAIBqAIDuALN5KPABsACAdICJGI0Yzk4ZTVkLWEyNDEtNGM5Mi04ZjlkLWQ3OTc1NDQyZmI5ONgCBeACAQ&ucfs=1&arphpl=1&group_adults=2&req_adults=2&no_rooms=1&group_children=0&req_children=0&hpos=3&hapos=3&sr_order=popularity&srpvid=03ce6266b6c80695&srepoch=1745416782&from=searchresults',\n",
       " 'https://www.booking.com/hotel/fr/holiday-home-la-clorinde.en-gb.html?aid=304142&label=gen173nr-1FCAQoggJCF3NlYXJjaF9nb3JnZXMgZHUgdmVyZG9uSDNYBGhNiAEBmAEJuAEKyAEF2AEB6AEB-AEDiAIBqAIDuALN5KPABsACAdICJGI0Yzk4ZTVkLWEyNDEtNGM5Mi04ZjlkLWQ3OTc1NDQyZmI5ONgCBeACAQ&ucfs=1&arphpl=1&group_adults=2&req_adults=2&no_rooms=1&group_children=0&req_children=0&hpos=4&hapos=4&sr_order=popularity&srpvid=03ce6266b6c80695&srepoch=1745416782&from=searchresults',\n",
       " 'https://www.booking.com/hotel/fr/le-colombier-moustiers-sainte-marie.en-gb.html?aid=304142&label=gen173nr-1FCAQoggJCF3NlYXJjaF9nb3JnZXMgZHUgdmVyZG9uSDNYBGhNiAEBmAEJuAEKyAEF2AEB6AEB-AEDiAIBqAIDuALN5KPABsACAdICJGI0Yzk4ZTVkLWEyNDEtNGM5Mi04ZjlkLWQ3OTc1NDQyZmI5ONgCBeACAQ&ucfs=1&arphpl=1&group_adults=2&req_adults=2&no_rooms=1&group_children=0&req_children=0&hpos=5&hapos=5&sr_order=popularity&srpvid=03ce6266b6c80695&srepoch=1745416782&from=searchresults',\n",
       " 'https://www.booking.com/hotel/fr/ceres.en-gb.html?aid=304142&label=gen173nr-1FCAQoggJCF3NlYXJjaF9nb3JnZXMgZHUgdmVyZG9uSDNYBGhNiAEBmAEJuAEKyAEF2AEB6AEB-AEDiAIBqAIDuALN5KPABsACAdICJGI0Yzk4ZTVkLWEyNDEtNGM5Mi04ZjlkLWQ3OTc1NDQyZmI5ONgCBeACAQ&ucfs=1&arphpl=1&group_adults=2&req_adults=2&no_rooms=1&group_children=0&req_children=0&hpos=6&hapos=6&sr_order=popularity&srpvid=03ce6266b6c80695&srepoch=1745416782&from=searchresults',\n",
       " 'https://www.booking.com/hotel/fr/le-courtil-studio-figue-miel.en-gb.html?aid=304142&label=gen173nr-1FCAQoggJCF3NlYXJjaF9nb3JnZXMgZHUgdmVyZG9uSDNYBGhNiAEBmAEJuAEKyAEF2AEB6AEB-AEDiAIBqAIDuALN5KPABsACAdICJGI0Yzk4ZTVkLWEyNDEtNGM5Mi04ZjlkLWQ3OTc1NDQyZmI5ONgCBeACAQ&ucfs=1&arphpl=1&group_adults=2&req_adults=2&no_rooms=1&group_children=0&req_children=0&hpos=7&hapos=7&sr_order=popularity&srpvid=03ce6266b6c80695&srepoch=1745416782&from=searchresults',\n",
       " 'https://www.booking.com/hotel/fr/camping-a-la-ferme-de-bourras.en-gb.html?aid=304142&label=gen173nr-1FCAQoggJCF3NlYXJjaF9nb3JnZXMgZHUgdmVyZG9uSDNYBGhNiAEBmAEJuAEKyAEF2AEB6AEB-AEDiAIBqAIDuALN5KPABsACAdICJGI0Yzk4ZTVkLWEyNDEtNGM5Mi04ZjlkLWQ3OTc1NDQyZmI5ONgCBeACAQ&ucfs=1&arphpl=1&group_adults=2&req_adults=2&no_rooms=1&group_children=0&req_children=0&hpos=8&hapos=8&sr_order=popularity&srpvid=03ce6266b6c80695&srepoch=1745416782&from=searchresults',\n",
       " 'https://www.booking.com/hotel/fr/hotellouparadou.en-gb.html?aid=304142&label=gen173nr-1FCAQoggJCF3NlYXJjaF9nb3JnZXMgZHUgdmVyZG9uSDNYBGhNiAEBmAEJuAEKyAEF2AEB6AEB-AEDiAIBqAIDuALN5KPABsACAdICJGI0Yzk4ZTVkLWEyNDEtNGM5Mi04ZjlkLWQ3OTc1NDQyZmI5ONgCBeACAQ&ucfs=1&arphpl=1&group_adults=2&req_adults=2&no_rooms=1&group_children=0&req_children=0&hpos=9&hapos=9&sr_order=popularity&srpvid=03ce6266b6c80695&srepoch=1745416782&from=searchresults',\n",
       " 'https://www.booking.com/hotel/fr/le-petit-grillo-gite-proche-du-verdon.en-gb.html?aid=304142&label=gen173nr-1FCAQoggJCF3NlYXJjaF9nb3JnZXMgZHUgdmVyZG9uSDNYBGhNiAEBmAEJuAEKyAEF2AEB6AEB-AEDiAIBqAIDuALN5KPABsACAdICJGI0Yzk4ZTVkLWEyNDEtNGM5Mi04ZjlkLWQ3OTc1NDQyZmI5ONgCBeACAQ&ucfs=1&arphpl=1&group_adults=2&req_adults=2&no_rooms=1&group_children=0&req_children=0&hpos=10&hapos=10&sr_order=popularity&srpvid=03ce6266b6c80695&srepoch=1745416782&from=searchresults',\n",
       " 'https://www.booking.com/hotel/fr/les-bastides-de-chanteraine.en-gb.html?aid=304142&label=gen173nr-1FCAQoggJCF3NlYXJjaF9nb3JnZXMgZHUgdmVyZG9uSDNYBGhNiAEBmAEJuAEKyAEF2AEB6AEB-AEDiAIBqAIDuALN5KPABsACAdICJGI0Yzk4ZTVkLWEyNDEtNGM5Mi04ZjlkLWQ3OTc1NDQyZmI5ONgCBeACAQ&ucfs=1&arphpl=1&group_adults=2&req_adults=2&no_rooms=1&group_children=0&req_children=0&hpos=11&hapos=11&sr_order=popularity&srpvid=03ce6266b6c80695&srepoch=1745416782&from=searchresults',\n",
       " 'https://www.booking.com/hotel/fr/bastide-du-calalou.en-gb.html?aid=304142&label=gen173nr-1FCAQoggJCF3NlYXJjaF9nb3JnZXMgZHUgdmVyZG9uSDNYBGhNiAEBmAEJuAEKyAEF2AEB6AEB-AEDiAIBqAIDuALN5KPABsACAdICJGI0Yzk4ZTVkLWEyNDEtNGM5Mi04ZjlkLWQ3OTc1NDQyZmI5ONgCBeACAQ&ucfs=1&arphpl=1&group_adults=2&req_adults=2&no_rooms=1&group_children=0&req_children=0&hpos=12&hapos=12&sr_order=popularity&srpvid=03ce6266b6c80695&srepoch=1745416782&from_sustainable_property_sr=1&from=searchresults',\n",
       " 'https://www.booking.com/hotel/fr/les-canyons-du-verdon.en-gb.html?aid=304142&label=gen173nr-1FCAQoggJCF3NlYXJjaF9nb3JnZXMgZHUgdmVyZG9uSDNYBGhNiAEBmAEJuAEKyAEF2AEB6AEB-AEDiAIBqAIDuALN5KPABsACAdICJGI0Yzk4ZTVkLWEyNDEtNGM5Mi04ZjlkLWQ3OTc1NDQyZmI5ONgCBeACAQ&ucfs=1&arphpl=1&group_adults=2&req_adults=2&no_rooms=1&group_children=0&req_children=0&hpos=13&hapos=13&sr_order=popularity&srpvid=03ce6266b6c80695&srepoch=1745416782&from=searchresults',\n",
       " 'https://www.booking.com/hotel/fr/logis-altitude-823.en-gb.html?aid=304142&label=gen173nr-1FCAQoggJCF3NlYXJjaF9nb3JnZXMgZHUgdmVyZG9uSDNYBGhNiAEBmAEJuAEKyAEF2AEB6AEB-AEDiAIBqAIDuALN5KPABsACAdICJGI0Yzk4ZTVkLWEyNDEtNGM5Mi04ZjlkLWQ3OTc1NDQyZmI5ONgCBeACAQ&ucfs=1&arphpl=1&group_adults=2&req_adults=2&no_rooms=1&group_children=0&req_children=0&hpos=14&hapos=14&sr_order=popularity&srpvid=03ce6266b6c80695&srepoch=1745416782&from=searchresults',\n",
       " 'https://www.booking.com/hotel/fr/la-licorne-de-haute-provence.en-gb.html?aid=304142&label=gen173nr-1FCAQoggJCF3NlYXJjaF9nb3JnZXMgZHUgdmVyZG9uSDNYBGhNiAEBmAEJuAEKyAEF2AEB6AEB-AEDiAIBqAIDuALN5KPABsACAdICJGI0Yzk4ZTVkLWEyNDEtNGM5Mi04ZjlkLWQ3OTc1NDQyZmI5ONgCBeACAQ&ucfs=1&arphpl=1&group_adults=2&req_adults=2&no_rooms=1&group_children=0&req_children=0&hpos=15&hapos=15&sr_order=popularity&srpvid=03ce6266b6c80695&srepoch=1745416782&from=searchresults',\n",
       " 'https://www.booking.com/hotel/fr/camping-la-ferme-de-castellane.en-gb.html?aid=304142&label=gen173nr-1FCAQoggJCF3NlYXJjaF9nb3JnZXMgZHUgdmVyZG9uSDNYBGhNiAEBmAEJuAEKyAEF2AEB6AEB-AEDiAIBqAIDuALN5KPABsACAdICJGI0Yzk4ZTVkLWEyNDEtNGM5Mi04ZjlkLWQ3OTc1NDQyZmI5ONgCBeACAQ&ucfs=1&arphpl=1&group_adults=2&req_adults=2&no_rooms=1&group_children=0&req_children=0&hpos=16&hapos=16&sr_order=popularity&srpvid=03ce6266b6c80695&srepoch=1745416782&from=searchresults',\n",
       " 'https://www.booking.com/hotel/fr/angouire-gite-quot-la-bergerie-quot.en-gb.html?aid=304142&label=gen173nr-1FCAQoggJCF3NlYXJjaF9nb3JnZXMgZHUgdmVyZG9uSDNYBGhNiAEBmAEJuAEKyAEF2AEB6AEB-AEDiAIBqAIDuALN5KPABsACAdICJGI0Yzk4ZTVkLWEyNDEtNGM5Mi04ZjlkLWQ3OTc1NDQyZmI5ONgCBeACAQ&ucfs=1&arphpl=1&group_adults=2&req_adults=2&no_rooms=1&group_children=0&req_children=0&hpos=17&hapos=17&sr_order=popularity&srpvid=03ce6266b6c80695&srepoch=1745416782&from=searchresults',\n",
       " 'https://www.booking.com/hotel/fr/villa-borghese.en-gb.html?aid=304142&label=gen173nr-1FCAQoggJCF3NlYXJjaF9nb3JnZXMgZHUgdmVyZG9uSDNYBGhNiAEBmAEJuAEKyAEF2AEB6AEB-AEDiAIBqAIDuALN5KPABsACAdICJGI0Yzk4ZTVkLWEyNDEtNGM5Mi04ZjlkLWQ3OTc1NDQyZmI5ONgCBeACAQ&ucfs=1&arphpl=1&group_adults=2&req_adults=2&no_rooms=1&group_children=0&req_children=0&hpos=18&hapos=18&sr_order=popularity&srpvid=03ce6266b6c80695&srepoch=1745416782&from=searchresults',\n",
       " 'https://www.booking.com/hotel/fr/studio-cosy-pres-du-lac.en-gb.html?aid=304142&label=gen173nr-1FCAQoggJCF3NlYXJjaF9nb3JnZXMgZHUgdmVyZG9uSDNYBGhNiAEBmAEJuAEKyAEF2AEB6AEB-AEDiAIBqAIDuALN5KPABsACAdICJGI0Yzk4ZTVkLWEyNDEtNGM5Mi04ZjlkLWQ3OTc1NDQyZmI5ONgCBeACAQ&ucfs=1&arphpl=1&group_adults=2&req_adults=2&no_rooms=1&group_children=0&req_children=0&hpos=19&hapos=19&sr_order=popularity&srpvid=03ce6266b6c80695&srepoch=1745416782&from=searchresults',\n",
       " 'https://www.booking.com/hotel/fr/auberge-des-salles.en-gb.html?aid=304142&label=gen173nr-1FCAQoggJCF3NlYXJjaF9nb3JnZXMgZHUgdmVyZG9uSDNYBGhNiAEBmAEJuAEKyAEF2AEB6AEB-AEDiAIBqAIDuALN5KPABsACAdICJGI0Yzk4ZTVkLWEyNDEtNGM5Mi04ZjlkLWQ3OTc1NDQyZmI5ONgCBeACAQ&ucfs=1&arphpl=1&group_adults=2&req_adults=2&no_rooms=1&group_children=0&req_children=0&hpos=20&hapos=20&sr_order=popularity&srpvid=03ce6266b6c80695&srepoch=1745416782&from=searchresults',\n",
       " 'https://www.booking.com/hotel/fr/les-gites-de-la-gassende.en-gb.html?aid=304142&label=gen173nr-1FCAQoggJCF3NlYXJjaF9nb3JnZXMgZHUgdmVyZG9uSDNYBGhNiAEBmAEJuAEKyAEF2AEB6AEB-AEDiAIBqAIDuALN5KPABsACAdICJGI0Yzk4ZTVkLWEyNDEtNGM5Mi04ZjlkLWQ3OTc1NDQyZmI5ONgCBeACAQ&ucfs=1&arphpl=1&group_adults=2&req_adults=2&no_rooms=1&group_children=0&req_children=0&hpos=21&hapos=21&sr_order=popularity&srpvid=03ce6266b6c80695&srepoch=1745416782&from=searchresults',\n",
       " 'https://www.booking.com/hotel/fr/bnb-castellane-castellane.en-gb.html?aid=304142&label=gen173nr-1FCAQoggJCF3NlYXJjaF9nb3JnZXMgZHUgdmVyZG9uSDNYBGhNiAEBmAEJuAEKyAEF2AEB6AEB-AEDiAIBqAIDuALN5KPABsACAdICJGI0Yzk4ZTVkLWEyNDEtNGM5Mi04ZjlkLWQ3OTc1NDQyZmI5ONgCBeACAQ&ucfs=1&arphpl=1&group_adults=2&req_adults=2&no_rooms=1&group_children=0&req_children=0&hpos=22&hapos=22&sr_order=popularity&srpvid=03ce6266b6c80695&srepoch=1745416782&from=searchresults',\n",
       " 'https://www.booking.com/hotel/fr/le-courtil-appartement-pistache-chocolat.en-gb.html?aid=304142&label=gen173nr-1FCAQoggJCF3NlYXJjaF9nb3JnZXMgZHUgdmVyZG9uSDNYBGhNiAEBmAEJuAEKyAEF2AEB6AEB-AEDiAIBqAIDuALN5KPABsACAdICJGI0Yzk4ZTVkLWEyNDEtNGM5Mi04ZjlkLWQ3OTc1NDQyZmI5ONgCBeACAQ&ucfs=1&arphpl=1&group_adults=2&req_adults=2&no_rooms=1&group_children=0&req_children=0&hpos=23&hapos=23&sr_order=popularity&srpvid=03ce6266b6c80695&srepoch=1745416782&from=searchresults',\n",
       " 'https://www.booking.com/hotel/fr/clos-augusta.en-gb.html?aid=304142&label=gen173nr-1FCAQoggJCF3NlYXJjaF9nb3JnZXMgZHUgdmVyZG9uSDNYBGhNiAEBmAEJuAEKyAEF2AEB6AEB-AEDiAIBqAIDuALN5KPABsACAdICJGI0Yzk4ZTVkLWEyNDEtNGM5Mi04ZjlkLWQ3OTc1NDQyZmI5ONgCBeACAQ&ucfs=1&arphpl=1&group_adults=2&req_adults=2&no_rooms=1&group_children=0&req_children=0&hpos=24&hapos=24&sr_order=popularity&srpvid=03ce6266b6c80695&srepoch=1745416782&from=searchresults',\n",
       " 'https://www.booking.com/hotel/fr/le-chabassole.en-gb.html?aid=304142&label=gen173nr-1FCAQoggJCF3NlYXJjaF9nb3JnZXMgZHUgdmVyZG9uSDNYBGhNiAEBmAEJuAEKyAEF2AEB6AEB-AEDiAIBqAIDuALN5KPABsACAdICJGI0Yzk4ZTVkLWEyNDEtNGM5Mi04ZjlkLWQ3OTc1NDQyZmI5ONgCBeACAQ&ucfs=1&arphpl=1&group_adults=2&req_adults=2&no_rooms=1&group_children=0&req_children=0&hpos=25&hapos=25&sr_order=popularity&srpvid=03ce6266b6c80695&srepoch=1745416782&from=searchresults']"
      ]
     },
     "execution_count": 126,
     "metadata": {},
     "output_type": "execute_result"
    }
   ],
   "source": [
    "#extraction des URL d'hotels\n",
    "with open('data/booking_hotels.json', 'r', encoding=\"utf-8\") as file:\n",
    "    data = json.load(file)\n",
    "hotel_urls = [item['hotel_url'] for item in data]\n",
    "hotel_urls"
   ]
  },
  {
   "cell_type": "code",
   "execution_count": 145,
   "metadata": {},
   "outputs": [
    {
     "data": {
      "text/plain": [
       "<Response [200]>"
      ]
     },
     "execution_count": 145,
     "metadata": {},
     "output_type": "execute_result"
    }
   ],
   "source": [
    "headers = {\n",
    "    'User-Agent': 'Mozilla/5.0 (Windows NT 10.0; Win64; x64) AppleWebKit/537.36 (KHTML, like Gecko) Chrome/58.0.3029.110 Safari/537.3',\n",
    "    'Accept-Language': 'fr-FR,fr;q=0.9,en-US;q=0.8,en;q=0.7'\n",
    "}\n",
    "url = hotel_urls[0]\n",
    "r = requests.get(url, headers=headers)\n",
    "\n",
    "response = Selector(text=r.text)\n",
    "r"
   ]
  },
  {
   "cell_type": "code",
   "execution_count": 154,
   "metadata": {},
   "outputs": [
    {
     "data": {
      "text/plain": [
       "'2 Rue Victor Hugo, 84000 Avignon, France'"
      ]
     },
     "execution_count": 154,
     "metadata": {},
     "output_type": "execute_result"
    }
   ],
   "source": [
    "hotel_address= response.css(\"div.a53cbfa6de.f17adf7576::text\").get()\n",
    "hotel_address"
   ]
  },
  {
   "cell_type": "code",
   "execution_count": 155,
   "metadata": {},
   "outputs": [
    {
     "data": {
      "text/plain": [
       "'Villa Victor Hugo by Odomo'"
      ]
     },
     "execution_count": 155,
     "metadata": {},
     "output_type": "execute_result"
    }
   ],
   "source": [
    "hotel_name= response.css(\"h2.d2fee87262.pp-header__title::text\").get()\n",
    "hotel_name"
   ]
  },
  {
   "cell_type": "code",
   "execution_count": 148,
   "metadata": {},
   "outputs": [
    {
     "data": {
      "text/plain": [
       "\"L’établissement Villa Victor Hugo by Odomo se trouve dans le centre de Avignon, à respectivement 700 mètres et 700 mètres de ces lieux d’intérêt : Palais des Papes d'Avignon et Gare d'Avignon-Centre. Il propose des hébergements avec une connexion Wi-Fi gratuite et un coin salon.\\n\\nChaque hébergement comprend une salle de bains privative avec une douche, la climatisation, une télévision à écran plat et un réfrigérateur. Un micro-ondes et une plaque de cuisson sont également disponibles, de même qu’une machine à café et une bouilloire.\\n\\nVous séjournerez à respectivement 4,8 km et 11 km de ces lieux d’intérêt : Gare TGV d'Avignon et Parc des expositions d'Avignon. L'aéroport le plus proche (Aéroport de Nîmes Alès Camargue Cévennes) est à 57 km.\""
      ]
     },
     "execution_count": 148,
     "metadata": {},
     "output_type": "execute_result"
    }
   ],
   "source": [
    "hotel_description= response.css(\"p.a53cbfa6de.b3efd73f69::text\").get()\n",
    "hotel_description"
   ]
  },
  {
   "cell_type": "code",
   "execution_count": 152,
   "metadata": {},
   "outputs": [
    {
     "data": {
      "text/plain": [
       "'9.5'"
      ]
     },
     "execution_count": 152,
     "metadata": {},
     "output_type": "execute_result"
    }
   ],
   "source": [
    "hotel_rating = response.css(\"div.ac4a7896c7::text\").get().split()[-1]\n",
    "hotel_rating"
   ]
  },
  {
   "cell_type": "markdown",
   "metadata": {},
   "source": [
    "# Création de la Base de donnée dans un fichier csv"
   ]
  },
  {
   "cell_type": "code",
   "execution_count": 165,
   "metadata": {},
   "outputs": [],
   "source": [
    "with open('data/booking_hotels.json', 'r', encoding='utf-8') as file:\n",
    "    data = json.load(file)\n",
    "\n",
    "# Grouper les données par ville\n",
    "grouped_data = {}\n",
    "for item in data:\n",
    "    city = item['city']\n",
    "    if city not in grouped_data:\n",
    "        grouped_data[city] = []\n",
    "    grouped_data[city].append(item)\n",
    "\n",
    "csv_filename = 'data/hotels.csv'\n",
    "with open(csv_filename, 'w', newline='', encoding='utf-8') as csv_file:\n",
    "    # Définir les en-têtes du fichier CSV\n",
    "    fieldnames = ['city', 'hotel_name', 'hotel_address', 'hotel_rating', 'hotel_description', 'hotel_url']\n",
    "    writer = csv.DictWriter(csv_file, fieldnames=fieldnames)\n",
    "\n",
    "    # Écrire les en-têtes dans le fichier CSV\n",
    "    writer.writeheader()\n",
    "\n",
    "    # Écrire les informations des hôtels dans le fichier CSV, classées par ville\n",
    "    for city, hotels in grouped_data.items():\n",
    "        for hotel in hotels:\n",
    "            writer.writerow({\n",
    "                'city': city,\n",
    "                'hotel_name': hotel['hotel_name'],\n",
    "                'hotel_address': hotel['hotel_address'],\n",
    "                'hotel_rating': hotel['hotel_rating'],\n",
    "                'hotel_description': hotel['hotel_description'],\n",
    "                'hotel_url': hotel['hotel_url']\n",
    "            })"
   ]
  },
  {
   "cell_type": "code",
   "execution_count": 168,
   "metadata": {},
   "outputs": [
    {
     "data": {
      "text/html": [
       "<div>\n",
       "<style scoped>\n",
       "    .dataframe tbody tr th:only-of-type {\n",
       "        vertical-align: middle;\n",
       "    }\n",
       "\n",
       "    .dataframe tbody tr th {\n",
       "        vertical-align: top;\n",
       "    }\n",
       "\n",
       "    .dataframe thead th {\n",
       "        text-align: right;\n",
       "    }\n",
       "</style>\n",
       "<table border=\"1\" class=\"dataframe\">\n",
       "  <thead>\n",
       "    <tr style=\"text-align: right;\">\n",
       "      <th></th>\n",
       "      <th>city</th>\n",
       "      <th>hotel_name</th>\n",
       "      <th>hotel_address</th>\n",
       "      <th>hotel_rating</th>\n",
       "      <th>hotel_description</th>\n",
       "      <th>hotel_url</th>\n",
       "    </tr>\n",
       "  </thead>\n",
       "  <tbody>\n",
       "    <tr>\n",
       "      <th>0</th>\n",
       "      <td>Gorges du Verdon</td>\n",
       "      <td>Les Canyons du Verdon</td>\n",
       "      <td>Boulevard Saint Michel, 04120 Castellane, France</td>\n",
       "      <td>7.8</td>\n",
       "      <td>Situé dans le parc régional du Verdon, l'établ...</td>\n",
       "      <td>https://www.booking.com/hotel/fr/les-canyons-d...</td>\n",
       "    </tr>\n",
       "    <tr>\n",
       "      <th>1</th>\n",
       "      <td>Gorges du Verdon</td>\n",
       "      <td>La Maison du Courtil, Figue-Miel</td>\n",
       "      <td>Le Courtil, Figue-Miel Rue du Courtil, 04360 M...</td>\n",
       "      <td>9.4</td>\n",
       "      <td>L’hébergement La Maison du Courtil, Figue-Miel...</td>\n",
       "      <td>https://www.booking.com/hotel/fr/le-courtil-st...</td>\n",
       "    </tr>\n",
       "    <tr>\n",
       "      <th>2</th>\n",
       "      <td>Gorges du Verdon</td>\n",
       "      <td>Les Bastides de Chanteraine Hôtel de plein air...</td>\n",
       "      <td>Chanteraine, 83630 Aiguines, France</td>\n",
       "      <td>8.4</td>\n",
       "      <td>Situé à Aiguines et offrant une vue sur la mon...</td>\n",
       "      <td>https://www.booking.com/hotel/fr/les-bastides-...</td>\n",
       "    </tr>\n",
       "    <tr>\n",
       "      <th>3</th>\n",
       "      <td>Gorges du Verdon</td>\n",
       "      <td>Résidence Odalys La Licorne de Haute Provence</td>\n",
       "      <td>Les Riayes, 04800 Gréoux-les-Bains, France</td>\n",
       "      <td>7.6</td>\n",
       "      <td>Située à 500 mètres du village et à 800 mètres...</td>\n",
       "      <td>https://www.booking.com/hotel/fr/la-licorne-de...</td>\n",
       "    </tr>\n",
       "    <tr>\n",
       "      <th>4</th>\n",
       "      <td>Gorges du Verdon</td>\n",
       "      <td>Gite avec terrasse privée proche des gorges du...</td>\n",
       "      <td>1229 Chemin Saint-Véran, 04500 Allemagne-en-Pr...</td>\n",
       "      <td>9.1</td>\n",
       "      <td>Situé à Allemagne-en-Provence, l’hébergement G...</td>\n",
       "      <td>https://www.booking.com/hotel/fr/le-petit-gril...</td>\n",
       "    </tr>\n",
       "    <tr>\n",
       "      <th>...</th>\n",
       "      <td>...</td>\n",
       "      <td>...</td>\n",
       "      <td>...</td>\n",
       "      <td>...</td>\n",
       "      <td>...</td>\n",
       "      <td>...</td>\n",
       "    </tr>\n",
       "    <tr>\n",
       "      <th>119</th>\n",
       "      <td>Nimes</td>\n",
       "      <td>Comfort Aparthotel Nimes Centre</td>\n",
       "      <td>5 allée Boissy d'Anglas - Triangle de la Gare,...</td>\n",
       "      <td>8.1</td>\n",
       "      <td>Le Comfort Aparthotel Nîmes Centre est une rés...</td>\n",
       "      <td>https://www.booking.com/hotel/fr/adagio-access...</td>\n",
       "    </tr>\n",
       "    <tr>\n",
       "      <th>120</th>\n",
       "      <td>Nimes</td>\n",
       "      <td>SQUARE HOTEL</td>\n",
       "      <td>7 Square de la Couronne, 30000 Nîmes, France</td>\n",
       "      <td>8.6</td>\n",
       "      <td>L’établissement SQUARE HOTEL vous accueille à ...</td>\n",
       "      <td>https://www.booking.com/hotel/fr/square-nimes....</td>\n",
       "    </tr>\n",
       "    <tr>\n",
       "      <th>121</th>\n",
       "      <td>Nimes</td>\n",
       "      <td>B&amp;B HOTEL Nîmes Centre Arènes</td>\n",
       "      <td>83, rue de la République, 30900 Nîmes, France</td>\n",
       "      <td>8.4</td>\n",
       "      <td>Situé à Nîmes, à 950 mètres des arènes, le B&amp;B...</td>\n",
       "      <td>https://www.booking.com/hotel/fr/b-amp-b-nimes...</td>\n",
       "    </tr>\n",
       "    <tr>\n",
       "      <th>122</th>\n",
       "      <td>Nimes</td>\n",
       "      <td>Appart'City Collection Nîmes Arènes</td>\n",
       "      <td>1 Boulevard De Bruxelles, 30000 Nîmes, France</td>\n",
       "      <td>8.9</td>\n",
       "      <td>L'Appart'City Collection Nîmes Arènes vous acc...</td>\n",
       "      <td>https://www.booking.com/hotel/fr/appart-39-cit...</td>\n",
       "    </tr>\n",
       "    <tr>\n",
       "      <th>123</th>\n",
       "      <td>Nimes</td>\n",
       "      <td>Appart Hotel Odalys City Nîmes Arènes</td>\n",
       "      <td>4 Rue Alexandre Ducros, 30000 Nîmes, France</td>\n",
       "      <td>8.6</td>\n",
       "      <td>L’établissement Appart Hotel Odalys City Nîmes...</td>\n",
       "      <td>https://www.booking.com/hotel/fr/odalys-city-n...</td>\n",
       "    </tr>\n",
       "  </tbody>\n",
       "</table>\n",
       "<p>124 rows × 6 columns</p>\n",
       "</div>"
      ],
      "text/plain": [
       "                 city                                         hotel_name  \\\n",
       "0    Gorges du Verdon                              Les Canyons du Verdon   \n",
       "1    Gorges du Verdon                   La Maison du Courtil, Figue-Miel   \n",
       "2    Gorges du Verdon  Les Bastides de Chanteraine Hôtel de plein air...   \n",
       "3    Gorges du Verdon      Résidence Odalys La Licorne de Haute Provence   \n",
       "4    Gorges du Verdon  Gite avec terrasse privée proche des gorges du...   \n",
       "..                ...                                                ...   \n",
       "119             Nimes                    Comfort Aparthotel Nimes Centre   \n",
       "120             Nimes                                       SQUARE HOTEL   \n",
       "121             Nimes                      B&B HOTEL Nîmes Centre Arènes   \n",
       "122             Nimes                Appart'City Collection Nîmes Arènes   \n",
       "123             Nimes              Appart Hotel Odalys City Nîmes Arènes   \n",
       "\n",
       "                                         hotel_address  hotel_rating  \\\n",
       "0     Boulevard Saint Michel, 04120 Castellane, France           7.8   \n",
       "1    Le Courtil, Figue-Miel Rue du Courtil, 04360 M...           9.4   \n",
       "2                  Chanteraine, 83630 Aiguines, France           8.4   \n",
       "3           Les Riayes, 04800 Gréoux-les-Bains, France           7.6   \n",
       "4    1229 Chemin Saint-Véran, 04500 Allemagne-en-Pr...           9.1   \n",
       "..                                                 ...           ...   \n",
       "119  5 allée Boissy d'Anglas - Triangle de la Gare,...           8.1   \n",
       "120       7 Square de la Couronne, 30000 Nîmes, France           8.6   \n",
       "121      83, rue de la République, 30900 Nîmes, France           8.4   \n",
       "122      1 Boulevard De Bruxelles, 30000 Nîmes, France           8.9   \n",
       "123        4 Rue Alexandre Ducros, 30000 Nîmes, France           8.6   \n",
       "\n",
       "                                     hotel_description  \\\n",
       "0    Situé dans le parc régional du Verdon, l'établ...   \n",
       "1    L’hébergement La Maison du Courtil, Figue-Miel...   \n",
       "2    Situé à Aiguines et offrant une vue sur la mon...   \n",
       "3    Située à 500 mètres du village et à 800 mètres...   \n",
       "4    Situé à Allemagne-en-Provence, l’hébergement G...   \n",
       "..                                                 ...   \n",
       "119  Le Comfort Aparthotel Nîmes Centre est une rés...   \n",
       "120  L’établissement SQUARE HOTEL vous accueille à ...   \n",
       "121  Situé à Nîmes, à 950 mètres des arènes, le B&B...   \n",
       "122  L'Appart'City Collection Nîmes Arènes vous acc...   \n",
       "123  L’établissement Appart Hotel Odalys City Nîmes...   \n",
       "\n",
       "                                             hotel_url  \n",
       "0    https://www.booking.com/hotel/fr/les-canyons-d...  \n",
       "1    https://www.booking.com/hotel/fr/le-courtil-st...  \n",
       "2    https://www.booking.com/hotel/fr/les-bastides-...  \n",
       "3    https://www.booking.com/hotel/fr/la-licorne-de...  \n",
       "4    https://www.booking.com/hotel/fr/le-petit-gril...  \n",
       "..                                                 ...  \n",
       "119  https://www.booking.com/hotel/fr/adagio-access...  \n",
       "120  https://www.booking.com/hotel/fr/square-nimes....  \n",
       "121  https://www.booking.com/hotel/fr/b-amp-b-nimes...  \n",
       "122  https://www.booking.com/hotel/fr/appart-39-cit...  \n",
       "123  https://www.booking.com/hotel/fr/odalys-city-n...  \n",
       "\n",
       "[124 rows x 6 columns]"
      ]
     },
     "execution_count": 168,
     "metadata": {},
     "output_type": "execute_result"
    }
   ],
   "source": [
    "hotels = pd.read_csv(\"data/hotels.csv\")\n",
    "hotels"
   ]
  },
  {
   "cell_type": "code",
   "execution_count": 169,
   "metadata": {},
   "outputs": [
    {
     "data": {
      "text/plain": [
       "city\n",
       "Gorges du Verdon    25\n",
       "Cassis              25\n",
       "Marseille           25\n",
       "Nimes               25\n",
       "Avignon             24\n",
       "Name: count, dtype: int64"
      ]
     },
     "execution_count": 169,
     "metadata": {},
     "output_type": "execute_result"
    }
   ],
   "source": [
    "hotels[\"city\"].value_counts()"
   ]
  },
  {
   "cell_type": "markdown",
   "metadata": {},
   "source": [
    "# Trash"
   ]
  },
  {
   "cell_type": "code",
   "execution_count": null,
   "metadata": {},
   "outputs": [
    {
     "data": {
      "text/html": [
       "<div>\n",
       "<style scoped>\n",
       "    .dataframe tbody tr th:only-of-type {\n",
       "        vertical-align: middle;\n",
       "    }\n",
       "\n",
       "    .dataframe tbody tr th {\n",
       "        vertical-align: top;\n",
       "    }\n",
       "\n",
       "    .dataframe thead th {\n",
       "        text-align: right;\n",
       "    }\n",
       "</style>\n",
       "<table border=\"1\" class=\"dataframe\">\n",
       "  <thead>\n",
       "    <tr style=\"text-align: right;\">\n",
       "      <th></th>\n",
       "      <th>index</th>\n",
       "      <th>hotel_name</th>\n",
       "      <th>ratting</th>\n",
       "    </tr>\n",
       "  </thead>\n",
       "  <tbody>\n",
       "    <tr>\n",
       "      <th>0</th>\n",
       "      <td>0.0</td>\n",
       "      <td>NaN</td>\n",
       "      <td>NaN</td>\n",
       "    </tr>\n",
       "    <tr>\n",
       "      <th>1</th>\n",
       "      <td>1.0</td>\n",
       "      <td>NaN</td>\n",
       "      <td>NaN</td>\n",
       "    </tr>\n",
       "    <tr>\n",
       "      <th>2</th>\n",
       "      <td>2.0</td>\n",
       "      <td>NaN</td>\n",
       "      <td>NaN</td>\n",
       "    </tr>\n",
       "    <tr>\n",
       "      <th>3</th>\n",
       "      <td>3.0</td>\n",
       "      <td>NaN</td>\n",
       "      <td>NaN</td>\n",
       "    </tr>\n",
       "    <tr>\n",
       "      <th>4</th>\n",
       "      <td>4.0</td>\n",
       "      <td>NaN</td>\n",
       "      <td>NaN</td>\n",
       "    </tr>\n",
       "    <tr>\n",
       "      <th>...</th>\n",
       "      <td>...</td>\n",
       "      <td>...</td>\n",
       "      <td>...</td>\n",
       "    </tr>\n",
       "    <tr>\n",
       "      <th>95</th>\n",
       "      <td>95.0</td>\n",
       "      <td>NaN</td>\n",
       "      <td>NaN</td>\n",
       "    </tr>\n",
       "    <tr>\n",
       "      <th>96</th>\n",
       "      <td>96.0</td>\n",
       "      <td>NaN</td>\n",
       "      <td>NaN</td>\n",
       "    </tr>\n",
       "    <tr>\n",
       "      <th>97</th>\n",
       "      <td>97.0</td>\n",
       "      <td>NaN</td>\n",
       "      <td>NaN</td>\n",
       "    </tr>\n",
       "    <tr>\n",
       "      <th>98</th>\n",
       "      <td>98.0</td>\n",
       "      <td>NaN</td>\n",
       "      <td>NaN</td>\n",
       "    </tr>\n",
       "    <tr>\n",
       "      <th>99</th>\n",
       "      <td>99.0</td>\n",
       "      <td>NaN</td>\n",
       "      <td>NaN</td>\n",
       "    </tr>\n",
       "  </tbody>\n",
       "</table>\n",
       "<p>100 rows × 3 columns</p>\n",
       "</div>"
      ],
      "text/plain": [
       "    index hotel_name  ratting\n",
       "0     0.0        NaN      NaN\n",
       "1     1.0        NaN      NaN\n",
       "2     2.0        NaN      NaN\n",
       "3     3.0        NaN      NaN\n",
       "4     4.0        NaN      NaN\n",
       "..    ...        ...      ...\n",
       "95   95.0        NaN      NaN\n",
       "96   96.0        NaN      NaN\n",
       "97   97.0        NaN      NaN\n",
       "98   98.0        NaN      NaN\n",
       "99   99.0        NaN      NaN\n",
       "\n",
       "[100 rows x 3 columns]"
      ]
     },
     "execution_count": 56,
     "metadata": {},
     "output_type": "execute_result"
    }
   ],
   "source": [
    "import pandas as pd\n",
    "\n",
    "# Initialisation du DataFrame avec les types de données appropriés\n",
    "data = {\n",
    "    'index': pd.Series(dtype='int'),\n",
    "    'hotel_name': pd.Series(dtype='str'),\n",
    "    'ratting': pd.Series(dtype='float'),\n",
    "    'hotel_url' : pd.Series(dtype='str'),\n",
    "}\n",
    "df = pd.DataFrame(data)\n",
    "\n",
    "# Boucle pour remplir le DataFrame\n",
    "for i in range(100):\n",
    "    # Ajout de l'index\n",
    "    df.loc[i, 'index'] = i\n",
    "\n",
    "    # Récupération et ajout du ratting\n",
    "    ratting_text = response.css(f\"div.c82435a4b8:nth-child({i}) > div:nth-child(1) > div:nth-child(2) > div:nth-child(1) > div:nth-child(1) > div:nth-child(2) > div:nth-child(1) > div:nth-child(1) > a:nth-child(1) > span:nth-child(1) > div:nth-child(1) > div:nth-child(1) > div:nth-child(1)::text\").get()\n",
    "    if ratting_text is not None:\n",
    "        ratting_value = ratting_text.split()[-1].replace(',', '.')  # Remplacer la virgule par un point pour la conversion en float\n",
    "        df.loc[i, 'ratting'] = float(ratting_value)\n",
    "\n",
    "    # Récupération et ajout du nom de l'hôtel\n",
    "    hotel_name_text = response.css(f'div.c82435a4b8:nth-child({i}) > div:nth-child(1) > div:nth-child(2) > div:nth-child(1) > div:nth-child(1) > div:nth-child(1) > div:nth-child(1) > div:nth-child(1) > div:nth-child(1) > h3:nth-child(1) > a:nth-child(1) > div:nth-child(1)::text').get()\n",
    "    if hotel_name_text is not None:\n",
    "        df.loc[i, 'hotel_name'] = hotel_name_text\n",
    "\n",
    "# Affichage du DataFrame\n",
    "df\n"
   ]
  },
  {
   "cell_type": "code",
   "execution_count": 62,
   "metadata": {},
   "outputs": [
    {
     "data": {
      "text/html": [
       "<div>\n",
       "<style scoped>\n",
       "    .dataframe tbody tr th:only-of-type {\n",
       "        vertical-align: middle;\n",
       "    }\n",
       "\n",
       "    .dataframe tbody tr th {\n",
       "        vertical-align: top;\n",
       "    }\n",
       "\n",
       "    .dataframe thead th {\n",
       "        text-align: right;\n",
       "    }\n",
       "</style>\n",
       "<table border=\"1\" class=\"dataframe\">\n",
       "  <thead>\n",
       "    <tr style=\"text-align: right;\">\n",
       "      <th></th>\n",
       "      <th>index</th>\n",
       "      <th>hotel_name</th>\n",
       "      <th>ratting</th>\n",
       "    </tr>\n",
       "  </thead>\n",
       "  <tbody>\n",
       "    <tr>\n",
       "      <th>5</th>\n",
       "      <td>5.0</td>\n",
       "      <td>Campanile Bayeux</td>\n",
       "      <td>7.8</td>\n",
       "    </tr>\n",
       "    <tr>\n",
       "      <th>8</th>\n",
       "      <td>8.0</td>\n",
       "      <td>Le Declic</td>\n",
       "      <td>8.3</td>\n",
       "    </tr>\n",
       "    <tr>\n",
       "      <th>9</th>\n",
       "      <td>9.0</td>\n",
       "      <td>Château de Bellefontaine - Teritoria</td>\n",
       "      <td>7.9</td>\n",
       "    </tr>\n",
       "    <tr>\n",
       "      <th>11</th>\n",
       "      <td>11.0</td>\n",
       "      <td>Hôtel De Brunville &amp; Spa</td>\n",
       "      <td>8.1</td>\n",
       "    </tr>\n",
       "    <tr>\n",
       "      <th>14</th>\n",
       "      <td>14.0</td>\n",
       "      <td>Au Loup Historic Apartments</td>\n",
       "      <td>8.2</td>\n",
       "    </tr>\n",
       "    <tr>\n",
       "      <th>15</th>\n",
       "      <td>15.0</td>\n",
       "      <td>Novotel Bayeux</td>\n",
       "      <td>8.0</td>\n",
       "    </tr>\n",
       "    <tr>\n",
       "      <th>17</th>\n",
       "      <td>17.0</td>\n",
       "      <td>Hôtel Le Saint Patrice</td>\n",
       "      <td>8.2</td>\n",
       "    </tr>\n",
       "    <tr>\n",
       "      <th>19</th>\n",
       "      <td>19.0</td>\n",
       "      <td>Domaine de Bayeux</td>\n",
       "      <td>9.2</td>\n",
       "    </tr>\n",
       "    <tr>\n",
       "      <th>24</th>\n",
       "      <td>24.0</td>\n",
       "      <td>Hotel Le Lion D'Or et Restaurant La Table Du Lion</td>\n",
       "      <td>8.6</td>\n",
       "    </tr>\n",
       "    <tr>\n",
       "      <th>26</th>\n",
       "      <td>26.0</td>\n",
       "      <td>Logis Les Remparts</td>\n",
       "      <td>9.0</td>\n",
       "    </tr>\n",
       "    <tr>\n",
       "      <th>29</th>\n",
       "      <td>29.0</td>\n",
       "      <td>Manoir Sainte Victoire</td>\n",
       "      <td>9.6</td>\n",
       "    </tr>\n",
       "    <tr>\n",
       "      <th>31</th>\n",
       "      <td>31.0</td>\n",
       "      <td>Hôtel Le Bayeux</td>\n",
       "      <td>7.9</td>\n",
       "    </tr>\n",
       "    <tr>\n",
       "      <th>33</th>\n",
       "      <td>33.0</td>\n",
       "      <td>Hotel Reine Mathilde</td>\n",
       "      <td>8.6</td>\n",
       "    </tr>\n",
       "    <tr>\n",
       "      <th>34</th>\n",
       "      <td>34.0</td>\n",
       "      <td>La Naomath - Maison d'hôtes, Hébergement insol...</td>\n",
       "      <td>8.4</td>\n",
       "    </tr>\n",
       "    <tr>\n",
       "      <th>36</th>\n",
       "      <td>36.0</td>\n",
       "      <td>le nid cosy</td>\n",
       "      <td>8.7</td>\n",
       "    </tr>\n",
       "    <tr>\n",
       "      <th>38</th>\n",
       "      <td>38.0</td>\n",
       "      <td>Grand Hôtel du Luxembourg &amp; Spa</td>\n",
       "      <td>8.0</td>\n",
       "    </tr>\n",
       "    <tr>\n",
       "      <th>40</th>\n",
       "      <td>40.0</td>\n",
       "      <td>Belle Normandy</td>\n",
       "      <td>8.9</td>\n",
       "    </tr>\n",
       "    <tr>\n",
       "      <th>42</th>\n",
       "      <td>42.0</td>\n",
       "      <td>Villa Lara Hotel</td>\n",
       "      <td>9.7</td>\n",
       "    </tr>\n",
       "    <tr>\n",
       "      <th>44</th>\n",
       "      <td>44.0</td>\n",
       "      <td>Bayeuzen - Le Baldaquin - Nuitée avec Spa Priv...</td>\n",
       "      <td>9.7</td>\n",
       "    </tr>\n",
       "    <tr>\n",
       "      <th>45</th>\n",
       "      <td>45.0</td>\n",
       "      <td>Chambre tout confort</td>\n",
       "      <td>9.2</td>\n",
       "    </tr>\n",
       "    <tr>\n",
       "      <th>46</th>\n",
       "      <td>46.0</td>\n",
       "      <td>studio du botanique</td>\n",
       "      <td>7.7</td>\n",
       "    </tr>\n",
       "    <tr>\n",
       "      <th>48</th>\n",
       "      <td>48.0</td>\n",
       "      <td>The Victory</td>\n",
       "      <td>NaN</td>\n",
       "    </tr>\n",
       "    <tr>\n",
       "      <th>50</th>\n",
       "      <td>50.0</td>\n",
       "      <td>studio du parvis</td>\n",
       "      <td>NaN</td>\n",
       "    </tr>\n",
       "    <tr>\n",
       "      <th>52</th>\n",
       "      <td>52.0</td>\n",
       "      <td>La Bayeuzen - La Tropicale - Love Room</td>\n",
       "      <td>10.0</td>\n",
       "    </tr>\n",
       "    <tr>\n",
       "      <th>53</th>\n",
       "      <td>53.0</td>\n",
       "      <td>Maison plages du débarquement</td>\n",
       "      <td>NaN</td>\n",
       "    </tr>\n",
       "  </tbody>\n",
       "</table>\n",
       "</div>"
      ],
      "text/plain": [
       "    index                                         hotel_name  ratting\n",
       "5     5.0                                   Campanile Bayeux      7.8\n",
       "8     8.0                                          Le Declic      8.3\n",
       "9     9.0               Château de Bellefontaine - Teritoria      7.9\n",
       "11   11.0                           Hôtel De Brunville & Spa      8.1\n",
       "14   14.0                        Au Loup Historic Apartments      8.2\n",
       "15   15.0                                     Novotel Bayeux      8.0\n",
       "17   17.0                             Hôtel Le Saint Patrice      8.2\n",
       "19   19.0                                  Domaine de Bayeux      9.2\n",
       "24   24.0  Hotel Le Lion D'Or et Restaurant La Table Du Lion      8.6\n",
       "26   26.0                                 Logis Les Remparts      9.0\n",
       "29   29.0                             Manoir Sainte Victoire      9.6\n",
       "31   31.0                                    Hôtel Le Bayeux      7.9\n",
       "33   33.0                               Hotel Reine Mathilde      8.6\n",
       "34   34.0  La Naomath - Maison d'hôtes, Hébergement insol...      8.4\n",
       "36   36.0                                        le nid cosy      8.7\n",
       "38   38.0                    Grand Hôtel du Luxembourg & Spa      8.0\n",
       "40   40.0                                     Belle Normandy      8.9\n",
       "42   42.0                                   Villa Lara Hotel      9.7\n",
       "44   44.0  Bayeuzen - Le Baldaquin - Nuitée avec Spa Priv...      9.7\n",
       "45   45.0                               Chambre tout confort      9.2\n",
       "46   46.0                                studio du botanique      7.7\n",
       "48   48.0                                        The Victory      NaN\n",
       "50   50.0                                   studio du parvis      NaN\n",
       "52   52.0             La Bayeuzen - La Tropicale - Love Room     10.0\n",
       "53   53.0                      Maison plages du débarquement      NaN"
      ]
     },
     "execution_count": 62,
     "metadata": {},
     "output_type": "execute_result"
    }
   ],
   "source": [
    "df=df[~df[\"hotel_name\"].isna()]\n",
    "df"
   ]
  },
  {
   "cell_type": "code",
   "execution_count": 87,
   "metadata": {},
   "outputs": [
    {
     "name": "stderr",
     "output_type": "stream",
     "text": [
      "C:\\Users\\Myriam\\AppData\\Local\\Temp\\ipykernel_8180\\2590807557.py:3: SettingWithCopyWarning:\n",
      "\n",
      "\n",
      "A value is trying to be set on a copy of a slice from a DataFrame\n",
      "\n",
      "See the caveats in the documentation: https://pandas.pydata.org/pandas-docs/stable/user_guide/indexing.html#returning-a-view-versus-a-copy\n",
      "\n"
     ]
    },
    {
     "data": {
      "text/html": [
       "<div>\n",
       "<style scoped>\n",
       "    .dataframe tbody tr th:only-of-type {\n",
       "        vertical-align: middle;\n",
       "    }\n",
       "\n",
       "    .dataframe tbody tr th {\n",
       "        vertical-align: top;\n",
       "    }\n",
       "\n",
       "    .dataframe thead th {\n",
       "        text-align: right;\n",
       "    }\n",
       "</style>\n",
       "<table border=\"1\" class=\"dataframe\">\n",
       "  <thead>\n",
       "    <tr style=\"text-align: right;\">\n",
       "      <th></th>\n",
       "      <th>index</th>\n",
       "      <th>hotel_name</th>\n",
       "      <th>ratting</th>\n",
       "      <th>hotel_url</th>\n",
       "    </tr>\n",
       "  </thead>\n",
       "  <tbody>\n",
       "    <tr>\n",
       "      <th>5</th>\n",
       "      <td>5.0</td>\n",
       "      <td>Campanile Bayeux</td>\n",
       "      <td>7.8</td>\n",
       "      <td>https://www.booking.com/hotel/fr/novotel.fr.ht...</td>\n",
       "    </tr>\n",
       "    <tr>\n",
       "      <th>8</th>\n",
       "      <td>8.0</td>\n",
       "      <td>Le Declic</td>\n",
       "      <td>8.3</td>\n",
       "      <td>https://www.booking.com/hotel/fr/le-lion-d-or-...</td>\n",
       "    </tr>\n",
       "    <tr>\n",
       "      <th>9</th>\n",
       "      <td>9.0</td>\n",
       "      <td>Château de Bellefontaine - Teritoria</td>\n",
       "      <td>7.9</td>\n",
       "      <td>https://www.booking.com/hotel/fr/chambre-d-ha-...</td>\n",
       "    </tr>\n",
       "    <tr>\n",
       "      <th>11</th>\n",
       "      <td>11.0</td>\n",
       "      <td>Hôtel De Brunville &amp; Spa</td>\n",
       "      <td>8.1</td>\n",
       "      <td>https://www.booking.com/hotel/fr/le-bayeux.fr....</td>\n",
       "    </tr>\n",
       "    <tr>\n",
       "      <th>14</th>\n",
       "      <td>14.0</td>\n",
       "      <td>Au Loup Historic Apartments</td>\n",
       "      <td>8.2</td>\n",
       "      <td>https://www.booking.com/hotel/fr/le-nid-cosy-b...</td>\n",
       "    </tr>\n",
       "    <tr>\n",
       "      <th>15</th>\n",
       "      <td>15.0</td>\n",
       "      <td>Novotel Bayeux</td>\n",
       "      <td>8.0</td>\n",
       "      <td>https://www.booking.com/hotel/fr/hotelduluxemb...</td>\n",
       "    </tr>\n",
       "    <tr>\n",
       "      <th>17</th>\n",
       "      <td>17.0</td>\n",
       "      <td>Hôtel Le Saint Patrice</td>\n",
       "      <td>8.2</td>\n",
       "      <td>https://www.booking.com/hotel/fr/villa-lara-ha...</td>\n",
       "    </tr>\n",
       "    <tr>\n",
       "      <th>19</th>\n",
       "      <td>19.0</td>\n",
       "      <td>Domaine de Bayeux</td>\n",
       "      <td>9.2</td>\n",
       "      <td>https://www.booking.com/hotel/fr/chambre-tout-...</td>\n",
       "    </tr>\n",
       "    <tr>\n",
       "      <th>24</th>\n",
       "      <td>24.0</td>\n",
       "      <td>Hotel Le Lion D'Or et Restaurant La Table Du Lion</td>\n",
       "      <td>8.6</td>\n",
       "      <td>https://www.booking.com/hotel/fr/maison-plages...</td>\n",
       "    </tr>\n",
       "    <tr>\n",
       "      <th>26</th>\n",
       "      <td>26.0</td>\n",
       "      <td>Logis Les Remparts</td>\n",
       "      <td>9.0</td>\n",
       "      <td>NaN</td>\n",
       "    </tr>\n",
       "    <tr>\n",
       "      <th>29</th>\n",
       "      <td>29.0</td>\n",
       "      <td>Manoir Sainte Victoire</td>\n",
       "      <td>9.6</td>\n",
       "      <td>NaN</td>\n",
       "    </tr>\n",
       "    <tr>\n",
       "      <th>31</th>\n",
       "      <td>31.0</td>\n",
       "      <td>Hôtel Le Bayeux</td>\n",
       "      <td>7.9</td>\n",
       "      <td>NaN</td>\n",
       "    </tr>\n",
       "    <tr>\n",
       "      <th>33</th>\n",
       "      <td>33.0</td>\n",
       "      <td>Hotel Reine Mathilde</td>\n",
       "      <td>8.6</td>\n",
       "      <td>NaN</td>\n",
       "    </tr>\n",
       "    <tr>\n",
       "      <th>34</th>\n",
       "      <td>34.0</td>\n",
       "      <td>La Naomath - Maison d'hôtes, Hébergement insol...</td>\n",
       "      <td>8.4</td>\n",
       "      <td>NaN</td>\n",
       "    </tr>\n",
       "    <tr>\n",
       "      <th>36</th>\n",
       "      <td>36.0</td>\n",
       "      <td>le nid cosy</td>\n",
       "      <td>8.7</td>\n",
       "      <td>NaN</td>\n",
       "    </tr>\n",
       "    <tr>\n",
       "      <th>38</th>\n",
       "      <td>38.0</td>\n",
       "      <td>Grand Hôtel du Luxembourg &amp; Spa</td>\n",
       "      <td>8.0</td>\n",
       "      <td>NaN</td>\n",
       "    </tr>\n",
       "    <tr>\n",
       "      <th>40</th>\n",
       "      <td>40.0</td>\n",
       "      <td>Belle Normandy</td>\n",
       "      <td>8.9</td>\n",
       "      <td>NaN</td>\n",
       "    </tr>\n",
       "    <tr>\n",
       "      <th>42</th>\n",
       "      <td>42.0</td>\n",
       "      <td>Villa Lara Hotel</td>\n",
       "      <td>9.7</td>\n",
       "      <td>NaN</td>\n",
       "    </tr>\n",
       "    <tr>\n",
       "      <th>44</th>\n",
       "      <td>44.0</td>\n",
       "      <td>Bayeuzen - Le Baldaquin - Nuitée avec Spa Priv...</td>\n",
       "      <td>9.7</td>\n",
       "      <td>NaN</td>\n",
       "    </tr>\n",
       "    <tr>\n",
       "      <th>45</th>\n",
       "      <td>45.0</td>\n",
       "      <td>Chambre tout confort</td>\n",
       "      <td>9.2</td>\n",
       "      <td>NaN</td>\n",
       "    </tr>\n",
       "    <tr>\n",
       "      <th>46</th>\n",
       "      <td>46.0</td>\n",
       "      <td>studio du botanique</td>\n",
       "      <td>7.7</td>\n",
       "      <td>NaN</td>\n",
       "    </tr>\n",
       "    <tr>\n",
       "      <th>48</th>\n",
       "      <td>48.0</td>\n",
       "      <td>The Victory</td>\n",
       "      <td>NaN</td>\n",
       "      <td>NaN</td>\n",
       "    </tr>\n",
       "    <tr>\n",
       "      <th>50</th>\n",
       "      <td>50.0</td>\n",
       "      <td>studio du parvis</td>\n",
       "      <td>NaN</td>\n",
       "      <td>NaN</td>\n",
       "    </tr>\n",
       "    <tr>\n",
       "      <th>52</th>\n",
       "      <td>52.0</td>\n",
       "      <td>La Bayeuzen - La Tropicale - Love Room</td>\n",
       "      <td>10.0</td>\n",
       "      <td>NaN</td>\n",
       "    </tr>\n",
       "    <tr>\n",
       "      <th>53</th>\n",
       "      <td>53.0</td>\n",
       "      <td>Maison plages du débarquement</td>\n",
       "      <td>NaN</td>\n",
       "      <td>NaN</td>\n",
       "    </tr>\n",
       "    <tr>\n",
       "      <th>0</th>\n",
       "      <td>NaN</td>\n",
       "      <td>NaN</td>\n",
       "      <td>NaN</td>\n",
       "      <td>https://www.booking.com/hotel/fr/campanile-bay...</td>\n",
       "    </tr>\n",
       "    <tr>\n",
       "      <th>1</th>\n",
       "      <td>NaN</td>\n",
       "      <td>NaN</td>\n",
       "      <td>NaN</td>\n",
       "      <td>https://www.booking.com/hotel/fr/le-mogador-ba...</td>\n",
       "    </tr>\n",
       "    <tr>\n",
       "      <th>2</th>\n",
       "      <td>NaN</td>\n",
       "      <td>NaN</td>\n",
       "      <td>NaN</td>\n",
       "      <td>https://www.booking.com/hotel/fr/chateau-de-be...</td>\n",
       "    </tr>\n",
       "    <tr>\n",
       "      <th>3</th>\n",
       "      <td>NaN</td>\n",
       "      <td>NaN</td>\n",
       "      <td>NaN</td>\n",
       "      <td>https://www.booking.com/hotel/fr/hoteldebrunvi...</td>\n",
       "    </tr>\n",
       "    <tr>\n",
       "      <th>4</th>\n",
       "      <td>NaN</td>\n",
       "      <td>NaN</td>\n",
       "      <td>NaN</td>\n",
       "      <td>https://www.booking.com/hotel/fr/au-loup-histo...</td>\n",
       "    </tr>\n",
       "    <tr>\n",
       "      <th>6</th>\n",
       "      <td>NaN</td>\n",
       "      <td>NaN</td>\n",
       "      <td>NaN</td>\n",
       "      <td>https://www.booking.com/hotel/fr/saint-patrice...</td>\n",
       "    </tr>\n",
       "    <tr>\n",
       "      <th>7</th>\n",
       "      <td>NaN</td>\n",
       "      <td>NaN</td>\n",
       "      <td>NaN</td>\n",
       "      <td>https://www.booking.com/hotel/fr/domaine-de-ba...</td>\n",
       "    </tr>\n",
       "    <tr>\n",
       "      <th>10</th>\n",
       "      <td>NaN</td>\n",
       "      <td>NaN</td>\n",
       "      <td>NaN</td>\n",
       "      <td>https://www.booking.com/hotel/fr/manoir-sainte...</td>\n",
       "    </tr>\n",
       "    <tr>\n",
       "      <th>12</th>\n",
       "      <td>NaN</td>\n",
       "      <td>NaN</td>\n",
       "      <td>NaN</td>\n",
       "      <td>https://www.booking.com/hotel/fr/reine-mathild...</td>\n",
       "    </tr>\n",
       "    <tr>\n",
       "      <th>13</th>\n",
       "      <td>NaN</td>\n",
       "      <td>NaN</td>\n",
       "      <td>NaN</td>\n",
       "      <td>https://www.booking.com/hotel/fr/la-naomath.fr...</td>\n",
       "    </tr>\n",
       "    <tr>\n",
       "      <th>16</th>\n",
       "      <td>NaN</td>\n",
       "      <td>NaN</td>\n",
       "      <td>NaN</td>\n",
       "      <td>https://www.booking.com/hotel/fr/clos-des-cord...</td>\n",
       "    </tr>\n",
       "    <tr>\n",
       "      <th>18</th>\n",
       "      <td>NaN</td>\n",
       "      <td>NaN</td>\n",
       "      <td>NaN</td>\n",
       "      <td>https://www.booking.com/hotel/fr/bayeuzen-le-b...</td>\n",
       "    </tr>\n",
       "    <tr>\n",
       "      <th>20</th>\n",
       "      <td>NaN</td>\n",
       "      <td>NaN</td>\n",
       "      <td>NaN</td>\n",
       "      <td>https://www.booking.com/hotel/fr/59-rue-de-por...</td>\n",
       "    </tr>\n",
       "    <tr>\n",
       "      <th>21</th>\n",
       "      <td>NaN</td>\n",
       "      <td>NaN</td>\n",
       "      <td>NaN</td>\n",
       "      <td>https://www.booking.com/hotel/fr/the-victory.f...</td>\n",
       "    </tr>\n",
       "    <tr>\n",
       "      <th>22</th>\n",
       "      <td>NaN</td>\n",
       "      <td>NaN</td>\n",
       "      <td>NaN</td>\n",
       "      <td>https://www.booking.com/hotel/fr/studio-du-par...</td>\n",
       "    </tr>\n",
       "    <tr>\n",
       "      <th>23</th>\n",
       "      <td>NaN</td>\n",
       "      <td>NaN</td>\n",
       "      <td>NaN</td>\n",
       "      <td>https://www.booking.com/hotel/fr/la-bayeuzen-l...</td>\n",
       "    </tr>\n",
       "  </tbody>\n",
       "</table>\n",
       "</div>"
      ],
      "text/plain": [
       "    index                                         hotel_name  ratting  \\\n",
       "5     5.0                                   Campanile Bayeux      7.8   \n",
       "8     8.0                                          Le Declic      8.3   \n",
       "9     9.0               Château de Bellefontaine - Teritoria      7.9   \n",
       "11   11.0                           Hôtel De Brunville & Spa      8.1   \n",
       "14   14.0                        Au Loup Historic Apartments      8.2   \n",
       "15   15.0                                     Novotel Bayeux      8.0   \n",
       "17   17.0                             Hôtel Le Saint Patrice      8.2   \n",
       "19   19.0                                  Domaine de Bayeux      9.2   \n",
       "24   24.0  Hotel Le Lion D'Or et Restaurant La Table Du Lion      8.6   \n",
       "26   26.0                                 Logis Les Remparts      9.0   \n",
       "29   29.0                             Manoir Sainte Victoire      9.6   \n",
       "31   31.0                                    Hôtel Le Bayeux      7.9   \n",
       "33   33.0                               Hotel Reine Mathilde      8.6   \n",
       "34   34.0  La Naomath - Maison d'hôtes, Hébergement insol...      8.4   \n",
       "36   36.0                                        le nid cosy      8.7   \n",
       "38   38.0                    Grand Hôtel du Luxembourg & Spa      8.0   \n",
       "40   40.0                                     Belle Normandy      8.9   \n",
       "42   42.0                                   Villa Lara Hotel      9.7   \n",
       "44   44.0  Bayeuzen - Le Baldaquin - Nuitée avec Spa Priv...      9.7   \n",
       "45   45.0                               Chambre tout confort      9.2   \n",
       "46   46.0                                studio du botanique      7.7   \n",
       "48   48.0                                        The Victory      NaN   \n",
       "50   50.0                                   studio du parvis      NaN   \n",
       "52   52.0             La Bayeuzen - La Tropicale - Love Room     10.0   \n",
       "53   53.0                      Maison plages du débarquement      NaN   \n",
       "0     NaN                                                NaN      NaN   \n",
       "1     NaN                                                NaN      NaN   \n",
       "2     NaN                                                NaN      NaN   \n",
       "3     NaN                                                NaN      NaN   \n",
       "4     NaN                                                NaN      NaN   \n",
       "6     NaN                                                NaN      NaN   \n",
       "7     NaN                                                NaN      NaN   \n",
       "10    NaN                                                NaN      NaN   \n",
       "12    NaN                                                NaN      NaN   \n",
       "13    NaN                                                NaN      NaN   \n",
       "16    NaN                                                NaN      NaN   \n",
       "18    NaN                                                NaN      NaN   \n",
       "20    NaN                                                NaN      NaN   \n",
       "21    NaN                                                NaN      NaN   \n",
       "22    NaN                                                NaN      NaN   \n",
       "23    NaN                                                NaN      NaN   \n",
       "\n",
       "                                            hotel_url  \n",
       "5   https://www.booking.com/hotel/fr/novotel.fr.ht...  \n",
       "8   https://www.booking.com/hotel/fr/le-lion-d-or-...  \n",
       "9   https://www.booking.com/hotel/fr/chambre-d-ha-...  \n",
       "11  https://www.booking.com/hotel/fr/le-bayeux.fr....  \n",
       "14  https://www.booking.com/hotel/fr/le-nid-cosy-b...  \n",
       "15  https://www.booking.com/hotel/fr/hotelduluxemb...  \n",
       "17  https://www.booking.com/hotel/fr/villa-lara-ha...  \n",
       "19  https://www.booking.com/hotel/fr/chambre-tout-...  \n",
       "24  https://www.booking.com/hotel/fr/maison-plages...  \n",
       "26                                                NaN  \n",
       "29                                                NaN  \n",
       "31                                                NaN  \n",
       "33                                                NaN  \n",
       "34                                                NaN  \n",
       "36                                                NaN  \n",
       "38                                                NaN  \n",
       "40                                                NaN  \n",
       "42                                                NaN  \n",
       "44                                                NaN  \n",
       "45                                                NaN  \n",
       "46                                                NaN  \n",
       "48                                                NaN  \n",
       "50                                                NaN  \n",
       "52                                                NaN  \n",
       "53                                                NaN  \n",
       "0   https://www.booking.com/hotel/fr/campanile-bay...  \n",
       "1   https://www.booking.com/hotel/fr/le-mogador-ba...  \n",
       "2   https://www.booking.com/hotel/fr/chateau-de-be...  \n",
       "3   https://www.booking.com/hotel/fr/hoteldebrunvi...  \n",
       "4   https://www.booking.com/hotel/fr/au-loup-histo...  \n",
       "6   https://www.booking.com/hotel/fr/saint-patrice...  \n",
       "7   https://www.booking.com/hotel/fr/domaine-de-ba...  \n",
       "10  https://www.booking.com/hotel/fr/manoir-sainte...  \n",
       "12  https://www.booking.com/hotel/fr/reine-mathild...  \n",
       "13  https://www.booking.com/hotel/fr/la-naomath.fr...  \n",
       "16  https://www.booking.com/hotel/fr/clos-des-cord...  \n",
       "18  https://www.booking.com/hotel/fr/bayeuzen-le-b...  \n",
       "20  https://www.booking.com/hotel/fr/59-rue-de-por...  \n",
       "21  https://www.booking.com/hotel/fr/the-victory.f...  \n",
       "22  https://www.booking.com/hotel/fr/studio-du-par...  \n",
       "23  https://www.booking.com/hotel/fr/la-bayeuzen-l...  "
      ]
     },
     "execution_count": 87,
     "metadata": {},
     "output_type": "execute_result"
    }
   ],
   "source": [
    "for i in range(len(df)):\n",
    "    if i < len(hotel_url):\n",
    "        df.loc[i, 'hotel_url'] = hotel_url[i]\n",
    "    else:\n",
    "        df.loc[i, 'hotel_url'] = \"\"  \n",
    "df"
   ]
  },
  {
   "cell_type": "code",
   "execution_count": 131,
   "metadata": {},
   "outputs": [],
   "source": [
    "\n",
    "response.css(\"div.c82435a4b8:nth-child(8) > div:nth-child(1) > div:nth-child(2) > div:nth-child(1) > div:nth-child(2) > div:nth-child(2) > div:nth-child(1) > div:nth-child(2) > a:nth-child(1)::text\").css(\"a[href]::attr(href)\").get()\n",
    "response.css(\"html.b_firefox.b_firefox_136.supports_inline-block.supports_flexbox_unprefixed.supports_fontface.supports_hyphens.hasJS body#b2searchresultsPage.bookings2.b2.searchresults.fr.lang_is_ltr.header_reshuffle.no_bg_img.nobg.user_center.app_user_center.sb_gradient_border.b-sprite-3.ds-traveller-header.bigblue_std_sm.bigblue_std_lg.system-font.iq-x-bar.iq-x-bar-new div#bodyconstraint.bodyconstraint--full-width div#bodyconstraint-inner div div div.af5895d4b2 div.df7e6ba27d div.bcbf33c5c3 div.dcf496a7b9.bb2746aad9 div.d4924c9e74 div.c82435a4b8.a178069f51.a6ae3c2b40.a18aeea94d.d794b7a0f7.f53e278e95.c6710787a4 div.c066246e13.d8aec464ca div.c1edfbabcb div.c624d7469d.a0e60936ad.a3214e5942.b0db0e8ada div.b1037148f8.c730b02848 div.a4b53081e1 div.c624d7469d.a0e60936ad.a3214e5942.b23caa1645 div.da8b337763 a.a83ed08757.c21c56c305.a4c1805887.d691166b09.ab98298258.c082d89982.ff33faec5f::text\").css(\"a[href]::attr(href)\").get()\n",
    "response.css(\"a.a83ed08757.c21c56c305.a4c1805887.d691166b09.ab98298258.c082d89982.ff33faec5f::text\").css(\"a[href]::attr(href)\").get()\n",
    "\n"
   ]
  },
  {
   "cell_type": "code",
   "execution_count": null,
   "metadata": {},
   "outputs": [],
   "source": [
    "html.b_firefox.b_firefox_136.supports_inline-block.supports_flexbox_unprefixed.supports_fontface.supports_hyphens.hasJS body#b2searchresultsPage.bookings2.b2.searchresults.fr.lang_is_ltr.header_reshuffle.no_bg_img.nobg.user_center.app_user_center.sb_gradient_border.b-sprite-3.ds-traveller-header.bigblue_std_sm.bigblue_std_lg.system-font.iq-x-bar.iq-x-bar-new div#bodyconstraint.bodyconstraint--full-width div#bodyconstraint-inner div div div.af5895d4b2 div.df7e6ba27d div.bcbf33c5c3 div.dcf496a7b9.bb2746aad9 div.d4924c9e74 div.c82435a4b8.a178069f51.a6ae3c2b40.a18aeea94d.d794b7a0f7.f53e278e95.c6710787a4 div.c066246e13.d8aec464ca div.c1edfbabcb div.c624d7469d.a0e60936ad.a3214e5942.b0db0e8ada div.b1037148f8.c730b02848 div.a4b53081e1 div.c624d7469d.a0e60936ad.a3214e5942.b23caa1645 div.da8b337763 a.a83ed08757.c21c56c305.a4c1805887.d691166b09.ab98298258.c082d89982.ff33faec5f"
   ]
  },
  {
   "cell_type": "code",
   "execution_count": 58,
   "metadata": {},
   "outputs": [
    {
     "name": "stdout",
     "output_type": "stream",
     "text": [
      "None\n",
      "Hôtel Saint Louis\n"
     ]
    }
   ],
   "source": [
    "print(name)\n",
    "print(name2)"
   ]
  },
  {
   "cell_type": "code",
   "execution_count": null,
   "metadata": {},
   "outputs": [],
   "source": [
    "div.c82435a4b8:nth-child(5) > div:nth-child(1) > div:nth-child(2)"
   ]
  },
  {
   "cell_type": "code",
   "execution_count": 40,
   "metadata": {},
   "outputs": [
    {
     "data": {
      "text/plain": [
       "[]"
      ]
     },
     "execution_count": 40,
     "metadata": {},
     "output_type": "execute_result"
    }
   ],
   "source": [
    "response.css('div.f6431b446c a15b38c233')"
   ]
  },
  {
   "cell_type": "code",
   "execution_count": 37,
   "metadata": {},
   "outputs": [
    {
     "data": {
      "text/plain": [
       "'8,7'"
      ]
     },
     "execution_count": 37,
     "metadata": {},
     "output_type": "execute_result"
    }
   ],
   "source": [
    "xp_ratting=\"/html/body/div[4]/div/div/div/div[2]/div[3]/div[2]/div[2]/div[3]/div[4]/div[1]/div[2]/div/div[1]/div[2]/div/div/a/span/div/div[1]/div\"\n",
    "ratting = response.xpath(f\"{xp_ratting}/text()\").get()\n",
    "ratting = ratting.split()[-1]\n",
    "ratting"
   ]
  },
  {
   "cell_type": "code",
   "execution_count": 80,
   "metadata": {},
   "outputs": [],
   "source": [
    "xp_ratting=\"/html/body/div[4]/div/div/div/div[2]/div[3]/div[2]/div[2]/div[3]/div[4]/div[1]/div[2]/div/div[1]/div[2]/div/div/a/span/div/div[1]/div\"\n",
    "ratting = response.xpath(f\"{xp_ratting}/text()\").get()"
   ]
  },
  {
   "cell_type": "code",
   "execution_count": 242,
   "metadata": {},
   "outputs": [
    {
     "data": {
      "text/plain": [
       "'https://www.booking.com/searchresults.fr.html?ss=aigues&efdco=1&label=qwa121jc-1DCAEoggI46AdIM1gDaE2IAQGYAQ24ARfIAQ_YAQPoAQGIAgGoAgO4AoX3mr8GwAIB0gIkMDk1NzlmY2YtNjcwMy00MzdkLWFmNGItMzE3ODQzYzYxNWI32AIE4AIB&sid=f8c0b82bd17e0df0aab4997651af0857&aid=1588662&lang=fr&sb=1&src_elem=sb&src=index&dest_id=-1406800&dest_type=city&ac_position=0&ac_click_type=b&ac_langcode=fr&ac_suggestion_list_length=5&search_selected=true&search_pageview_id=9fc26a828ac01775&ac_meta=GhA5ZmMyNmE4MjhhYzAxNzc1IAAoATICZnI6BmFpZ3Vlc0AASgBQAA%3D%3D&checkin=2025-03-28&checkout=2025-03-29&group_adults=2&no_rooms=1&group_children=0'"
      ]
     },
     "execution_count": 242,
     "metadata": {},
     "output_type": "execute_result"
    }
   ],
   "source": [
    "url"
   ]
  },
  {
   "cell_type": "code",
   "execution_count": null,
   "metadata": {},
   "outputs": [],
   "source": [
    "xpath = \"/html/body/div[4]/div/div/div/div[2]/div[3]/div[2]/div[2]/div[3]/div[4]/div[1]/div[2]/div/div[2]/div[2]/div/div[2]\"\n"
   ]
  },
  {
   "cell_type": "code",
   "execution_count": 247,
   "metadata": {},
   "outputs": [
    {
     "ename": "SelectorSyntaxError",
     "evalue": "Unclosed string at 11 (<string>)",
     "output_type": "error",
     "traceback": [
      "Traceback \u001b[1;36m(most recent call last)\u001b[0m:\n",
      "\u001b[0m  File \u001b[0;32mc:\\Users\\Myriam\\anaconda3\\envs\\myenv\\lib\\site-packages\\IPython\\core\\interactiveshell.py:3579\u001b[0m in \u001b[0;35mrun_code\u001b[0m\n    exec(code_obj, self.user_global_ns, self.user_ns)\u001b[0m\n",
      "\u001b[0m  Cell \u001b[0;32mIn[247], line 1\u001b[0m\n    response.css(\"div [class='da8b337763]\").css(\"a[herf]::attr(herf)\").get()\u001b[0m\n",
      "\u001b[0m  File \u001b[0;32mc:\\Users\\Myriam\\anaconda3\\envs\\myenv\\lib\\site-packages\\parsel\\selector.py:655\u001b[0m in \u001b[0;35mcss\u001b[0m\n    return self.xpath(self._css2xpath(query))\u001b[0m\n",
      "\u001b[0m  File \u001b[0;32mc:\\Users\\Myriam\\anaconda3\\envs\\myenv\\lib\\site-packages\\parsel\\selector.py:659\u001b[0m in \u001b[0;35m_css2xpath\u001b[0m\n    return _ctgroup[type][\"_csstranslator\"].css_to_xpath(query)\u001b[0m\n",
      "\u001b[0m  File \u001b[0;32mc:\\Users\\Myriam\\anaconda3\\envs\\myenv\\lib\\site-packages\\parsel\\csstranslator.py:137\u001b[0m in \u001b[0;35mcss_to_xpath\u001b[0m\n    return super().css_to_xpath(css, prefix)\u001b[0m\n",
      "\u001b[0m  File \u001b[0;32mc:\\Users\\Myriam\\anaconda3\\envs\\myenv\\lib\\site-packages\\cssselect\\xpath.py:223\u001b[0m in \u001b[0;35mcss_to_xpath\u001b[0m\n    for selector in parse(css)\u001b[0m\n",
      "\u001b[0m  File \u001b[0;32mc:\\Users\\Myriam\\anaconda3\\envs\\myenv\\lib\\site-packages\\cssselect\\parser.py:529\u001b[0m in \u001b[0;35mparse\u001b[0m\n    return list(parse_selector_group(stream))\u001b[0m\n",
      "\u001b[0m  File \u001b[0;32mc:\\Users\\Myriam\\anaconda3\\envs\\myenv\\lib\\site-packages\\cssselect\\parser.py:544\u001b[0m in \u001b[0;35mparse_selector_group\u001b[0m\n    yield Selector(*parse_selector(stream))\u001b[0m\n",
      "\u001b[0m  File \u001b[0;32mc:\\Users\\Myriam\\anaconda3\\envs\\myenv\\lib\\site-packages\\cssselect\\parser.py:571\u001b[0m in \u001b[0;35mparse_selector\u001b[0m\n    next_selector, pseudo_element = parse_simple_selector(stream)\u001b[0m\n",
      "\u001b[0m  File \u001b[0;32mc:\\Users\\Myriam\\anaconda3\\envs\\myenv\\lib\\site-packages\\cssselect\\parser.py:620\u001b[0m in \u001b[0;35mparse_simple_selector\u001b[0m\n    result = parse_attrib(result, stream)\u001b[0m\n",
      "\u001b[0m  File \u001b[0;32mc:\\Users\\Myriam\\anaconda3\\envs\\myenv\\lib\\site-packages\\cssselect\\parser.py:787\u001b[0m in \u001b[0;35mparse_attrib\u001b[0m\n    stream.skip_whitespace()\u001b[0m\n",
      "\u001b[0m  File \u001b[0;32mc:\\Users\\Myriam\\anaconda3\\envs\\myenv\\lib\\site-packages\\cssselect\\parser.py:1044\u001b[0m in \u001b[0;35mskip_whitespace\u001b[0m\n    peek = self.peek()\u001b[0m\n",
      "\u001b[0m  File \u001b[0;32mc:\\Users\\Myriam\\anaconda3\\envs\\myenv\\lib\\site-packages\\cssselect\\parser.py:1024\u001b[0m in \u001b[0;35mpeek\u001b[0m\n    self.peeked = self.next_token()\u001b[0m\n",
      "\u001b[1;36m  File \u001b[1;32mc:\\Users\\Myriam\\anaconda3\\envs\\myenv\\lib\\site-packages\\cssselect\\parser.py:967\u001b[1;36m in \u001b[1;35mtokenize\u001b[1;36m\n\u001b[1;33m    raise SelectorSyntaxError(f\"Unclosed string at {pos}\")\u001b[1;36m\n",
      "\u001b[1;36m  File \u001b[1;32m<string>\u001b[1;36m\u001b[0m\n\u001b[1;31mSelectorSyntaxError\u001b[0m\u001b[1;31m:\u001b[0m Unclosed string at 11\n"
     ]
    }
   ],
   "source": [
    "response.css(\"div [class='da8b337763]\").css(\"a[herf]::attr(herf)\").get()\n",
    "\n",
    "\n"
   ]
  },
  {
   "cell_type": "code",
   "execution_count": null,
   "metadata": {},
   "outputs": [],
   "source": [
    "global_endpoint + response.css(\"nav li[class='next']\").css(\"a[href]::attr(href)\").get()"
   ]
  },
  {
   "cell_type": "code",
   "execution_count": null,
   "metadata": {},
   "outputs": [],
   "source": [
    "<span class=\"e4adce92df\">Voir les disponibilités</span><span class=\"eedba9e88a d7eef963fa\"><span class=\"fcd9eec8fb bf9a32efa5\" aria-hidden=\"true\"><span data-testid=\"availability-cta-icon\" class=\"fcd9eec8fb bf9a32efa5\" aria-hidden=\"true\"><svg xmlns=\"http://www.w3.org/2000/svg\" viewBox=\"0 0 24 24\" width=\"50px\" data-rtl-flip=\"true\"><path d=\"M8.913 19.236a.9.9 0 0 0 .642-.266l6.057-6.057a1.3 1.3 0 0 0 .388-.945c.008-.35-.123-.69-.364-.945L9.58 4.966a.91.91 0 0 0-1.284 0 .896.896 0 0 0 0 1.284l5.694 5.718-5.718 5.718a.896.896 0 0 0 0 1.284.88.88 0 0 0 .642.266\"></path></svg></span></span></span>"
   ]
  },
  {
   "cell_type": "code",
   "execution_count": null,
   "metadata": {},
   "outputs": [
    {
     "data": {
      "text/plain": [
       "'8,7'"
      ]
     },
     "execution_count": 224,
     "metadata": {},
     "output_type": "execute_result"
    }
   ],
   "source": []
  },
  {
   "cell_type": "code",
   "execution_count": 223,
   "metadata": {},
   "outputs": [
    {
     "name": "stdout",
     "output_type": "stream",
     "text": [
      "Hôtel Le Médiéval\n",
      "8,7\n"
     ]
    }
   ],
   "source": [
    "print(hotel_name)\n",
    "print(ratting)"
   ]
  },
  {
   "cell_type": "code",
   "execution_count": 225,
   "metadata": {},
   "outputs": [],
   "source": [
    "url2 = \"https://www.booking.com/hotel/fr/le-medieval.fr.html?aid=1588662&label=qwa121jc-1BCAEoggI46AdIM1gDaE2IAQGYAQ24ARfIAQ_YAQHoAQGIAgGoAgO4AoX3mr8GwAIB0gIkMDk1NzlmY2YtNjcwMy00MzdkLWFmNGItMzE3ODQzYzYxNWI32AIF4AIB&sid=f8c0b82bd17e0df0aab4997651af0857&all_sr_blocks=25855901_400539506_0_2_0&checkin=2025-03-28&checkout=2025-03-29&dest_id=-1406800&dest_type=city&dist=0&group_adults=2&group_children=0&hapos=1&highlighted_blocks=25855901_400539506_0_2_0&hpos=1&matching_block_id=25855901_400539506_0_2_0&no_rooms=1&req_adults=2&req_children=0&room1=A%2CA&sb_price_type=total&sr_order=popularity&sr_pri_blocks=25855901_400539506_0_2_0__8520&srepoch=1743176548&srpvid=72b26b676ce90250&type=total&ucfs=1&\"\n",
    "\n",
    "headers = {\n",
    "    'User-Agent': 'Mozilla/5.0 (Windows NT 10.0; Win64; x64) AppleWebKit/537.36 (KHTML, like Gecko) Chrome/58.0.3029.110 Safari/537.3'\n",
    "}\n",
    "\n",
    "r = requests.get(url2, headers=headers)\n",
    "\n",
    "response = Selector(text=r.text)"
   ]
  },
  {
   "cell_type": "code",
   "execution_count": 227,
   "metadata": {},
   "outputs": [],
   "source": [
    "xp_desc = \"/html/body/div[4]/div/div[4]/div[1]/div[1]/div[2]/div/div[1]/div[1]/div[1]/div/div/p[1]\"\n",
    "description = response.xpath(f\"{xp_desc}/text()\").get()"
   ]
  },
  {
   "cell_type": "code",
   "execution_count": 228,
   "metadata": {},
   "outputs": [
    {
     "data": {
      "text/plain": [
       "\"L'Hôtel Le Médiéval est situé sur les rives du canal d'Aigues-Mortes, à 30 km de Montpellier. Il propose des chambres pourvues d'une salle de bains privative, d'un parking gratuit et d'une piscine extérieure.\\n\\nL'Hôtel Le Médiéval propose chaque jour un petit-déjeuner buffet continental qui peut être dégusté sur la terrasse quand le temps le permet. Une connexion Wi-Fi est disponible gratuitement dans les parties communes.\\n\\nUn parking privé gratuit est disponible sur place. Une promenade de 2 minutes vous mènera aux remparts médiévaux.\""
      ]
     },
     "execution_count": 228,
     "metadata": {},
     "output_type": "execute_result"
    }
   ],
   "source": [
    "description"
   ]
  },
  {
   "cell_type": "code",
   "execution_count": 229,
   "metadata": {},
   "outputs": [],
   "source": [
    "xp_desc = \"/html/body/div[4]/div/div/div/div[2]/div[3]/div[2]/div[2]/div[3]/div[4]/div[1]/div[2]/div/div[1]/div[1]/div/div[1]/div/h3/a/div[2]\"\n",
    "description = response.xpath(f\"{xp_desc}/text()\").get()"
   ]
  },
  {
   "cell_type": "markdown",
   "metadata": {},
   "source": [
    "## La Rochelle"
   ]
  },
  {
   "cell_type": "code",
   "execution_count": 85,
   "metadata": {},
   "outputs": [
    {
     "ename": "ConnectTimeout",
     "evalue": "HTTPSConnectionPool(host='www.booking.com', port=443): Max retries exceeded with url: /searchresults.fr.html?ss=La+Rochelle&ssne=La+Rochelle&ssne_untouched=La+Rochelle&label=qwa121jc-1DCAEoggI46AdIM1gDaE2IAQGYAQ24ARfIAQ_YAQPoAQGIAgGoAgO4AoX3mr8GwAIB0gIkMDk1NzlmY2YtNjcwMy00MzdkLWFmNGItMzE3ODQzYzYxNWI32AIE4AIB&sid=b10d6df758b0e059011bf7be0724e09f&aid=1588662&lang=fr&sb=1&src_elem=sb&src=index&dest_id=-1438604&dest_type=city&checkin=2025-04-16&checkout=2025-04-17&group_adults=2&no_rooms=1&group_children=0 (Caused by ConnectTimeoutError(<urllib3.connection.HTTPSConnection object at 0x000001AD425E3CD0>, 'Connection to www.booking.com timed out. (connect timeout=None)'))",
     "output_type": "error",
     "traceback": [
      "\u001b[1;31m---------------------------------------------------------------------------\u001b[0m",
      "\u001b[1;31mTimeoutError\u001b[0m                              Traceback (most recent call last)",
      "File \u001b[1;32mc:\\Users\\Myriam\\anaconda3\\envs\\myenv\\lib\\site-packages\\urllib3\\connection.py:198\u001b[0m, in \u001b[0;36mHTTPConnection._new_conn\u001b[1;34m(self)\u001b[0m\n\u001b[0;32m    197\u001b[0m \u001b[38;5;28;01mtry\u001b[39;00m:\n\u001b[1;32m--> 198\u001b[0m     sock \u001b[38;5;241m=\u001b[39m \u001b[43mconnection\u001b[49m\u001b[38;5;241;43m.\u001b[39;49m\u001b[43mcreate_connection\u001b[49m\u001b[43m(\u001b[49m\n\u001b[0;32m    199\u001b[0m \u001b[43m        \u001b[49m\u001b[43m(\u001b[49m\u001b[38;5;28;43mself\u001b[39;49m\u001b[38;5;241;43m.\u001b[39;49m\u001b[43m_dns_host\u001b[49m\u001b[43m,\u001b[49m\u001b[43m \u001b[49m\u001b[38;5;28;43mself\u001b[39;49m\u001b[38;5;241;43m.\u001b[39;49m\u001b[43mport\u001b[49m\u001b[43m)\u001b[49m\u001b[43m,\u001b[49m\n\u001b[0;32m    200\u001b[0m \u001b[43m        \u001b[49m\u001b[38;5;28;43mself\u001b[39;49m\u001b[38;5;241;43m.\u001b[39;49m\u001b[43mtimeout\u001b[49m\u001b[43m,\u001b[49m\n\u001b[0;32m    201\u001b[0m \u001b[43m        \u001b[49m\u001b[43msource_address\u001b[49m\u001b[38;5;241;43m=\u001b[39;49m\u001b[38;5;28;43mself\u001b[39;49m\u001b[38;5;241;43m.\u001b[39;49m\u001b[43msource_address\u001b[49m\u001b[43m,\u001b[49m\n\u001b[0;32m    202\u001b[0m \u001b[43m        \u001b[49m\u001b[43msocket_options\u001b[49m\u001b[38;5;241;43m=\u001b[39;49m\u001b[38;5;28;43mself\u001b[39;49m\u001b[38;5;241;43m.\u001b[39;49m\u001b[43msocket_options\u001b[49m\u001b[43m,\u001b[49m\n\u001b[0;32m    203\u001b[0m \u001b[43m    \u001b[49m\u001b[43m)\u001b[49m\n\u001b[0;32m    204\u001b[0m \u001b[38;5;28;01mexcept\u001b[39;00m socket\u001b[38;5;241m.\u001b[39mgaierror \u001b[38;5;28;01mas\u001b[39;00m e:\n",
      "File \u001b[1;32mc:\\Users\\Myriam\\anaconda3\\envs\\myenv\\lib\\site-packages\\urllib3\\util\\connection.py:85\u001b[0m, in \u001b[0;36mcreate_connection\u001b[1;34m(address, timeout, source_address, socket_options)\u001b[0m\n\u001b[0;32m     84\u001b[0m \u001b[38;5;28;01mtry\u001b[39;00m:\n\u001b[1;32m---> 85\u001b[0m     \u001b[38;5;28;01mraise\u001b[39;00m err\n\u001b[0;32m     86\u001b[0m \u001b[38;5;28;01mfinally\u001b[39;00m:\n\u001b[0;32m     87\u001b[0m     \u001b[38;5;66;03m# Break explicitly a reference cycle\u001b[39;00m\n",
      "File \u001b[1;32mc:\\Users\\Myriam\\anaconda3\\envs\\myenv\\lib\\site-packages\\urllib3\\util\\connection.py:73\u001b[0m, in \u001b[0;36mcreate_connection\u001b[1;34m(address, timeout, source_address, socket_options)\u001b[0m\n\u001b[0;32m     72\u001b[0m     sock\u001b[38;5;241m.\u001b[39mbind(source_address)\n\u001b[1;32m---> 73\u001b[0m \u001b[43msock\u001b[49m\u001b[38;5;241;43m.\u001b[39;49m\u001b[43mconnect\u001b[49m\u001b[43m(\u001b[49m\u001b[43msa\u001b[49m\u001b[43m)\u001b[49m\n\u001b[0;32m     74\u001b[0m \u001b[38;5;66;03m# Break explicitly a reference cycle\u001b[39;00m\n",
      "\u001b[1;31mTimeoutError\u001b[0m: [WinError 10060] Une tentative de connexion a échoué car le parti connecté n’a pas répondu convenablement au-delà d’une certaine durée ou une connexion établie a échoué car l’hôte de connexion n’a pas répondu",
      "\nThe above exception was the direct cause of the following exception:\n",
      "\u001b[1;31mConnectTimeoutError\u001b[0m                       Traceback (most recent call last)",
      "File \u001b[1;32mc:\\Users\\Myriam\\anaconda3\\envs\\myenv\\lib\\site-packages\\urllib3\\connectionpool.py:787\u001b[0m, in \u001b[0;36mHTTPConnectionPool.urlopen\u001b[1;34m(self, method, url, body, headers, retries, redirect, assert_same_host, timeout, pool_timeout, release_conn, chunked, body_pos, preload_content, decode_content, **response_kw)\u001b[0m\n\u001b[0;32m    786\u001b[0m \u001b[38;5;66;03m# Make the request on the HTTPConnection object\u001b[39;00m\n\u001b[1;32m--> 787\u001b[0m response \u001b[38;5;241m=\u001b[39m \u001b[38;5;28mself\u001b[39m\u001b[38;5;241m.\u001b[39m_make_request(\n\u001b[0;32m    788\u001b[0m     conn,\n\u001b[0;32m    789\u001b[0m     method,\n\u001b[0;32m    790\u001b[0m     url,\n\u001b[0;32m    791\u001b[0m     timeout\u001b[38;5;241m=\u001b[39mtimeout_obj,\n\u001b[0;32m    792\u001b[0m     body\u001b[38;5;241m=\u001b[39mbody,\n\u001b[0;32m    793\u001b[0m     headers\u001b[38;5;241m=\u001b[39mheaders,\n\u001b[0;32m    794\u001b[0m     chunked\u001b[38;5;241m=\u001b[39mchunked,\n\u001b[0;32m    795\u001b[0m     retries\u001b[38;5;241m=\u001b[39mretries,\n\u001b[0;32m    796\u001b[0m     response_conn\u001b[38;5;241m=\u001b[39mresponse_conn,\n\u001b[0;32m    797\u001b[0m     preload_content\u001b[38;5;241m=\u001b[39mpreload_content,\n\u001b[0;32m    798\u001b[0m     decode_content\u001b[38;5;241m=\u001b[39mdecode_content,\n\u001b[0;32m    799\u001b[0m     \u001b[38;5;241m*\u001b[39m\u001b[38;5;241m*\u001b[39mresponse_kw,\n\u001b[0;32m    800\u001b[0m )\n\u001b[0;32m    802\u001b[0m \u001b[38;5;66;03m# Everything went great!\u001b[39;00m\n",
      "File \u001b[1;32mc:\\Users\\Myriam\\anaconda3\\envs\\myenv\\lib\\site-packages\\urllib3\\connectionpool.py:488\u001b[0m, in \u001b[0;36mHTTPConnectionPool._make_request\u001b[1;34m(self, conn, method, url, body, headers, retries, timeout, chunked, response_conn, preload_content, decode_content, enforce_content_length)\u001b[0m\n\u001b[0;32m    487\u001b[0m         new_e \u001b[38;5;241m=\u001b[39m _wrap_proxy_error(new_e, conn\u001b[38;5;241m.\u001b[39mproxy\u001b[38;5;241m.\u001b[39mscheme)\n\u001b[1;32m--> 488\u001b[0m     \u001b[38;5;28;01mraise\u001b[39;00m new_e\n\u001b[0;32m    490\u001b[0m \u001b[38;5;66;03m# conn.request() calls http.client.*.request, not the method in\u001b[39;00m\n\u001b[0;32m    491\u001b[0m \u001b[38;5;66;03m# urllib3.request. It also calls makefile (recv) on the socket.\u001b[39;00m\n",
      "File \u001b[1;32mc:\\Users\\Myriam\\anaconda3\\envs\\myenv\\lib\\site-packages\\urllib3\\connectionpool.py:464\u001b[0m, in \u001b[0;36mHTTPConnectionPool._make_request\u001b[1;34m(self, conn, method, url, body, headers, retries, timeout, chunked, response_conn, preload_content, decode_content, enforce_content_length)\u001b[0m\n\u001b[0;32m    463\u001b[0m \u001b[38;5;28;01mtry\u001b[39;00m:\n\u001b[1;32m--> 464\u001b[0m     \u001b[38;5;28;43mself\u001b[39;49m\u001b[38;5;241;43m.\u001b[39;49m\u001b[43m_validate_conn\u001b[49m\u001b[43m(\u001b[49m\u001b[43mconn\u001b[49m\u001b[43m)\u001b[49m\n\u001b[0;32m    465\u001b[0m \u001b[38;5;28;01mexcept\u001b[39;00m (SocketTimeout, BaseSSLError) \u001b[38;5;28;01mas\u001b[39;00m e:\n",
      "File \u001b[1;32mc:\\Users\\Myriam\\anaconda3\\envs\\myenv\\lib\\site-packages\\urllib3\\connectionpool.py:1093\u001b[0m, in \u001b[0;36mHTTPSConnectionPool._validate_conn\u001b[1;34m(self, conn)\u001b[0m\n\u001b[0;32m   1092\u001b[0m \u001b[38;5;28;01mif\u001b[39;00m conn\u001b[38;5;241m.\u001b[39mis_closed:\n\u001b[1;32m-> 1093\u001b[0m     \u001b[43mconn\u001b[49m\u001b[38;5;241;43m.\u001b[39;49m\u001b[43mconnect\u001b[49m\u001b[43m(\u001b[49m\u001b[43m)\u001b[49m\n\u001b[0;32m   1095\u001b[0m \u001b[38;5;66;03m# TODO revise this, see https://github.com/urllib3/urllib3/issues/2791\u001b[39;00m\n",
      "File \u001b[1;32mc:\\Users\\Myriam\\anaconda3\\envs\\myenv\\lib\\site-packages\\urllib3\\connection.py:704\u001b[0m, in \u001b[0;36mHTTPSConnection.connect\u001b[1;34m(self)\u001b[0m\n\u001b[0;32m    703\u001b[0m sock: socket\u001b[38;5;241m.\u001b[39msocket \u001b[38;5;241m|\u001b[39m ssl\u001b[38;5;241m.\u001b[39mSSLSocket\n\u001b[1;32m--> 704\u001b[0m \u001b[38;5;28mself\u001b[39m\u001b[38;5;241m.\u001b[39msock \u001b[38;5;241m=\u001b[39m sock \u001b[38;5;241m=\u001b[39m \u001b[38;5;28;43mself\u001b[39;49m\u001b[38;5;241;43m.\u001b[39;49m\u001b[43m_new_conn\u001b[49m\u001b[43m(\u001b[49m\u001b[43m)\u001b[49m\n\u001b[0;32m    705\u001b[0m server_hostname: \u001b[38;5;28mstr\u001b[39m \u001b[38;5;241m=\u001b[39m \u001b[38;5;28mself\u001b[39m\u001b[38;5;241m.\u001b[39mhost\n",
      "File \u001b[1;32mc:\\Users\\Myriam\\anaconda3\\envs\\myenv\\lib\\site-packages\\urllib3\\connection.py:207\u001b[0m, in \u001b[0;36mHTTPConnection._new_conn\u001b[1;34m(self)\u001b[0m\n\u001b[0;32m    206\u001b[0m \u001b[38;5;28;01mexcept\u001b[39;00m SocketTimeout \u001b[38;5;28;01mas\u001b[39;00m e:\n\u001b[1;32m--> 207\u001b[0m     \u001b[38;5;28;01mraise\u001b[39;00m ConnectTimeoutError(\n\u001b[0;32m    208\u001b[0m         \u001b[38;5;28mself\u001b[39m,\n\u001b[0;32m    209\u001b[0m         \u001b[38;5;124mf\u001b[39m\u001b[38;5;124m\"\u001b[39m\u001b[38;5;124mConnection to \u001b[39m\u001b[38;5;132;01m{\u001b[39;00m\u001b[38;5;28mself\u001b[39m\u001b[38;5;241m.\u001b[39mhost\u001b[38;5;132;01m}\u001b[39;00m\u001b[38;5;124m timed out. (connect timeout=\u001b[39m\u001b[38;5;132;01m{\u001b[39;00m\u001b[38;5;28mself\u001b[39m\u001b[38;5;241m.\u001b[39mtimeout\u001b[38;5;132;01m}\u001b[39;00m\u001b[38;5;124m)\u001b[39m\u001b[38;5;124m\"\u001b[39m,\n\u001b[0;32m    210\u001b[0m     ) \u001b[38;5;28;01mfrom\u001b[39;00m\u001b[38;5;250m \u001b[39m\u001b[38;5;21;01me\u001b[39;00m\n\u001b[0;32m    212\u001b[0m \u001b[38;5;28;01mexcept\u001b[39;00m \u001b[38;5;167;01mOSError\u001b[39;00m \u001b[38;5;28;01mas\u001b[39;00m e:\n",
      "\u001b[1;31mConnectTimeoutError\u001b[0m: (<urllib3.connection.HTTPSConnection object at 0x000001AD425E3CD0>, 'Connection to www.booking.com timed out. (connect timeout=None)')",
      "\nThe above exception was the direct cause of the following exception:\n",
      "\u001b[1;31mMaxRetryError\u001b[0m                             Traceback (most recent call last)",
      "File \u001b[1;32mc:\\Users\\Myriam\\anaconda3\\envs\\myenv\\lib\\site-packages\\requests\\adapters.py:667\u001b[0m, in \u001b[0;36mHTTPAdapter.send\u001b[1;34m(self, request, stream, timeout, verify, cert, proxies)\u001b[0m\n\u001b[0;32m    666\u001b[0m \u001b[38;5;28;01mtry\u001b[39;00m:\n\u001b[1;32m--> 667\u001b[0m     resp \u001b[38;5;241m=\u001b[39m \u001b[43mconn\u001b[49m\u001b[38;5;241;43m.\u001b[39;49m\u001b[43murlopen\u001b[49m\u001b[43m(\u001b[49m\n\u001b[0;32m    668\u001b[0m \u001b[43m        \u001b[49m\u001b[43mmethod\u001b[49m\u001b[38;5;241;43m=\u001b[39;49m\u001b[43mrequest\u001b[49m\u001b[38;5;241;43m.\u001b[39;49m\u001b[43mmethod\u001b[49m\u001b[43m,\u001b[49m\n\u001b[0;32m    669\u001b[0m \u001b[43m        \u001b[49m\u001b[43murl\u001b[49m\u001b[38;5;241;43m=\u001b[39;49m\u001b[43murl\u001b[49m\u001b[43m,\u001b[49m\n\u001b[0;32m    670\u001b[0m \u001b[43m        \u001b[49m\u001b[43mbody\u001b[49m\u001b[38;5;241;43m=\u001b[39;49m\u001b[43mrequest\u001b[49m\u001b[38;5;241;43m.\u001b[39;49m\u001b[43mbody\u001b[49m\u001b[43m,\u001b[49m\n\u001b[0;32m    671\u001b[0m \u001b[43m        \u001b[49m\u001b[43mheaders\u001b[49m\u001b[38;5;241;43m=\u001b[39;49m\u001b[43mrequest\u001b[49m\u001b[38;5;241;43m.\u001b[39;49m\u001b[43mheaders\u001b[49m\u001b[43m,\u001b[49m\n\u001b[0;32m    672\u001b[0m \u001b[43m        \u001b[49m\u001b[43mredirect\u001b[49m\u001b[38;5;241;43m=\u001b[39;49m\u001b[38;5;28;43;01mFalse\u001b[39;49;00m\u001b[43m,\u001b[49m\n\u001b[0;32m    673\u001b[0m \u001b[43m        \u001b[49m\u001b[43massert_same_host\u001b[49m\u001b[38;5;241;43m=\u001b[39;49m\u001b[38;5;28;43;01mFalse\u001b[39;49;00m\u001b[43m,\u001b[49m\n\u001b[0;32m    674\u001b[0m \u001b[43m        \u001b[49m\u001b[43mpreload_content\u001b[49m\u001b[38;5;241;43m=\u001b[39;49m\u001b[38;5;28;43;01mFalse\u001b[39;49;00m\u001b[43m,\u001b[49m\n\u001b[0;32m    675\u001b[0m \u001b[43m        \u001b[49m\u001b[43mdecode_content\u001b[49m\u001b[38;5;241;43m=\u001b[39;49m\u001b[38;5;28;43;01mFalse\u001b[39;49;00m\u001b[43m,\u001b[49m\n\u001b[0;32m    676\u001b[0m \u001b[43m        \u001b[49m\u001b[43mretries\u001b[49m\u001b[38;5;241;43m=\u001b[39;49m\u001b[38;5;28;43mself\u001b[39;49m\u001b[38;5;241;43m.\u001b[39;49m\u001b[43mmax_retries\u001b[49m\u001b[43m,\u001b[49m\n\u001b[0;32m    677\u001b[0m \u001b[43m        \u001b[49m\u001b[43mtimeout\u001b[49m\u001b[38;5;241;43m=\u001b[39;49m\u001b[43mtimeout\u001b[49m\u001b[43m,\u001b[49m\n\u001b[0;32m    678\u001b[0m \u001b[43m        \u001b[49m\u001b[43mchunked\u001b[49m\u001b[38;5;241;43m=\u001b[39;49m\u001b[43mchunked\u001b[49m\u001b[43m,\u001b[49m\n\u001b[0;32m    679\u001b[0m \u001b[43m    \u001b[49m\u001b[43m)\u001b[49m\n\u001b[0;32m    681\u001b[0m \u001b[38;5;28;01mexcept\u001b[39;00m (ProtocolError, \u001b[38;5;167;01mOSError\u001b[39;00m) \u001b[38;5;28;01mas\u001b[39;00m err:\n",
      "File \u001b[1;32mc:\\Users\\Myriam\\anaconda3\\envs\\myenv\\lib\\site-packages\\urllib3\\connectionpool.py:841\u001b[0m, in \u001b[0;36mHTTPConnectionPool.urlopen\u001b[1;34m(self, method, url, body, headers, retries, redirect, assert_same_host, timeout, pool_timeout, release_conn, chunked, body_pos, preload_content, decode_content, **response_kw)\u001b[0m\n\u001b[0;32m    839\u001b[0m     new_e \u001b[38;5;241m=\u001b[39m ProtocolError(\u001b[38;5;124m\"\u001b[39m\u001b[38;5;124mConnection aborted.\u001b[39m\u001b[38;5;124m\"\u001b[39m, new_e)\n\u001b[1;32m--> 841\u001b[0m retries \u001b[38;5;241m=\u001b[39m \u001b[43mretries\u001b[49m\u001b[38;5;241;43m.\u001b[39;49m\u001b[43mincrement\u001b[49m\u001b[43m(\u001b[49m\n\u001b[0;32m    842\u001b[0m \u001b[43m    \u001b[49m\u001b[43mmethod\u001b[49m\u001b[43m,\u001b[49m\u001b[43m \u001b[49m\u001b[43murl\u001b[49m\u001b[43m,\u001b[49m\u001b[43m \u001b[49m\u001b[43merror\u001b[49m\u001b[38;5;241;43m=\u001b[39;49m\u001b[43mnew_e\u001b[49m\u001b[43m,\u001b[49m\u001b[43m \u001b[49m\u001b[43m_pool\u001b[49m\u001b[38;5;241;43m=\u001b[39;49m\u001b[38;5;28;43mself\u001b[39;49m\u001b[43m,\u001b[49m\u001b[43m \u001b[49m\u001b[43m_stacktrace\u001b[49m\u001b[38;5;241;43m=\u001b[39;49m\u001b[43msys\u001b[49m\u001b[38;5;241;43m.\u001b[39;49m\u001b[43mexc_info\u001b[49m\u001b[43m(\u001b[49m\u001b[43m)\u001b[49m\u001b[43m[\u001b[49m\u001b[38;5;241;43m2\u001b[39;49m\u001b[43m]\u001b[49m\n\u001b[0;32m    843\u001b[0m \u001b[43m\u001b[49m\u001b[43m)\u001b[49m\n\u001b[0;32m    844\u001b[0m retries\u001b[38;5;241m.\u001b[39msleep()\n",
      "File \u001b[1;32mc:\\Users\\Myriam\\anaconda3\\envs\\myenv\\lib\\site-packages\\urllib3\\util\\retry.py:519\u001b[0m, in \u001b[0;36mRetry.increment\u001b[1;34m(self, method, url, response, error, _pool, _stacktrace)\u001b[0m\n\u001b[0;32m    518\u001b[0m     reason \u001b[38;5;241m=\u001b[39m error \u001b[38;5;129;01mor\u001b[39;00m ResponseError(cause)\n\u001b[1;32m--> 519\u001b[0m     \u001b[38;5;28;01mraise\u001b[39;00m MaxRetryError(_pool, url, reason) \u001b[38;5;28;01mfrom\u001b[39;00m\u001b[38;5;250m \u001b[39m\u001b[38;5;21;01mreason\u001b[39;00m  \u001b[38;5;66;03m# type: ignore[arg-type]\u001b[39;00m\n\u001b[0;32m    521\u001b[0m log\u001b[38;5;241m.\u001b[39mdebug(\u001b[38;5;124m\"\u001b[39m\u001b[38;5;124mIncremented Retry for (url=\u001b[39m\u001b[38;5;124m'\u001b[39m\u001b[38;5;132;01m%s\u001b[39;00m\u001b[38;5;124m'\u001b[39m\u001b[38;5;124m): \u001b[39m\u001b[38;5;132;01m%r\u001b[39;00m\u001b[38;5;124m\"\u001b[39m, url, new_retry)\n",
      "\u001b[1;31mMaxRetryError\u001b[0m: HTTPSConnectionPool(host='www.booking.com', port=443): Max retries exceeded with url: /searchresults.fr.html?ss=La+Rochelle&ssne=La+Rochelle&ssne_untouched=La+Rochelle&label=qwa121jc-1DCAEoggI46AdIM1gDaE2IAQGYAQ24ARfIAQ_YAQPoAQGIAgGoAgO4AoX3mr8GwAIB0gIkMDk1NzlmY2YtNjcwMy00MzdkLWFmNGItMzE3ODQzYzYxNWI32AIE4AIB&sid=b10d6df758b0e059011bf7be0724e09f&aid=1588662&lang=fr&sb=1&src_elem=sb&src=index&dest_id=-1438604&dest_type=city&checkin=2025-04-16&checkout=2025-04-17&group_adults=2&no_rooms=1&group_children=0 (Caused by ConnectTimeoutError(<urllib3.connection.HTTPSConnection object at 0x000001AD425E3CD0>, 'Connection to www.booking.com timed out. (connect timeout=None)'))",
      "\nDuring handling of the above exception, another exception occurred:\n",
      "\u001b[1;31mConnectTimeout\u001b[0m                            Traceback (most recent call last)",
      "Cell \u001b[1;32mIn[85], line 7\u001b[0m\n\u001b[0;32m      5\u001b[0m url_LaRochelle \u001b[38;5;241m=\u001b[39m \u001b[38;5;124m\"\u001b[39m\u001b[38;5;124mhttps://www.booking.com/searchresults.fr.html?ss=La+Rochelle&ssne=La+Rochelle&ssne_untouched=La+Rochelle&label=qwa121jc-1DCAEoggI46AdIM1gDaE2IAQGYAQ24ARfIAQ_YAQPoAQGIAgGoAgO4AoX3mr8GwAIB0gIkMDk1NzlmY2YtNjcwMy00MzdkLWFmNGItMzE3ODQzYzYxNWI32AIE4AIB&sid=b10d6df758b0e059011bf7be0724e09f&aid=1588662&lang=fr&sb=1&src_elem=sb&src=index&dest_id=-1438604&dest_type=city&checkin=2025-04-16&checkout=2025-04-17&group_adults=2&no_rooms=1&group_children=0\u001b[39m\u001b[38;5;124m\"\u001b[39m\n\u001b[0;32m      6\u001b[0m url \u001b[38;5;241m=\u001b[39m url_LaRochelle\n\u001b[1;32m----> 7\u001b[0m r \u001b[38;5;241m=\u001b[39m \u001b[43mrequests\u001b[49m\u001b[38;5;241;43m.\u001b[39;49m\u001b[43mget\u001b[49m\u001b[43m(\u001b[49m\u001b[43murl\u001b[49m\u001b[43m,\u001b[49m\u001b[43m \u001b[49m\u001b[43mheaders\u001b[49m\u001b[38;5;241;43m=\u001b[39;49m\u001b[43mheaders\u001b[49m\u001b[43m)\u001b[49m\n\u001b[0;32m      9\u001b[0m response \u001b[38;5;241m=\u001b[39m Selector(text\u001b[38;5;241m=\u001b[39mr\u001b[38;5;241m.\u001b[39mtext)\n",
      "File \u001b[1;32mc:\\Users\\Myriam\\anaconda3\\envs\\myenv\\lib\\site-packages\\requests\\api.py:73\u001b[0m, in \u001b[0;36mget\u001b[1;34m(url, params, **kwargs)\u001b[0m\n\u001b[0;32m     62\u001b[0m \u001b[38;5;28;01mdef\u001b[39;00m\u001b[38;5;250m \u001b[39m\u001b[38;5;21mget\u001b[39m(url, params\u001b[38;5;241m=\u001b[39m\u001b[38;5;28;01mNone\u001b[39;00m, \u001b[38;5;241m*\u001b[39m\u001b[38;5;241m*\u001b[39mkwargs):\n\u001b[0;32m     63\u001b[0m \u001b[38;5;250m    \u001b[39m\u001b[38;5;124mr\u001b[39m\u001b[38;5;124;03m\"\"\"Sends a GET request.\u001b[39;00m\n\u001b[0;32m     64\u001b[0m \n\u001b[0;32m     65\u001b[0m \u001b[38;5;124;03m    :param url: URL for the new :class:`Request` object.\u001b[39;00m\n\u001b[1;32m   (...)\u001b[0m\n\u001b[0;32m     70\u001b[0m \u001b[38;5;124;03m    :rtype: requests.Response\u001b[39;00m\n\u001b[0;32m     71\u001b[0m \u001b[38;5;124;03m    \"\"\"\u001b[39;00m\n\u001b[1;32m---> 73\u001b[0m     \u001b[38;5;28;01mreturn\u001b[39;00m request(\u001b[38;5;124m\"\u001b[39m\u001b[38;5;124mget\u001b[39m\u001b[38;5;124m\"\u001b[39m, url, params\u001b[38;5;241m=\u001b[39mparams, \u001b[38;5;241m*\u001b[39m\u001b[38;5;241m*\u001b[39mkwargs)\n",
      "File \u001b[1;32mc:\\Users\\Myriam\\anaconda3\\envs\\myenv\\lib\\site-packages\\requests\\api.py:59\u001b[0m, in \u001b[0;36mrequest\u001b[1;34m(method, url, **kwargs)\u001b[0m\n\u001b[0;32m     55\u001b[0m \u001b[38;5;66;03m# By using the 'with' statement we are sure the session is closed, thus we\u001b[39;00m\n\u001b[0;32m     56\u001b[0m \u001b[38;5;66;03m# avoid leaving sockets open which can trigger a ResourceWarning in some\u001b[39;00m\n\u001b[0;32m     57\u001b[0m \u001b[38;5;66;03m# cases, and look like a memory leak in others.\u001b[39;00m\n\u001b[0;32m     58\u001b[0m \u001b[38;5;28;01mwith\u001b[39;00m sessions\u001b[38;5;241m.\u001b[39mSession() \u001b[38;5;28;01mas\u001b[39;00m session:\n\u001b[1;32m---> 59\u001b[0m     \u001b[38;5;28;01mreturn\u001b[39;00m session\u001b[38;5;241m.\u001b[39mrequest(method\u001b[38;5;241m=\u001b[39mmethod, url\u001b[38;5;241m=\u001b[39murl, \u001b[38;5;241m*\u001b[39m\u001b[38;5;241m*\u001b[39mkwargs)\n",
      "File \u001b[1;32mc:\\Users\\Myriam\\anaconda3\\envs\\myenv\\lib\\site-packages\\requests\\sessions.py:589\u001b[0m, in \u001b[0;36mSession.request\u001b[1;34m(self, method, url, params, data, headers, cookies, files, auth, timeout, allow_redirects, proxies, hooks, stream, verify, cert, json)\u001b[0m\n\u001b[0;32m    584\u001b[0m send_kwargs \u001b[38;5;241m=\u001b[39m {\n\u001b[0;32m    585\u001b[0m     \u001b[38;5;124m\"\u001b[39m\u001b[38;5;124mtimeout\u001b[39m\u001b[38;5;124m\"\u001b[39m: timeout,\n\u001b[0;32m    586\u001b[0m     \u001b[38;5;124m\"\u001b[39m\u001b[38;5;124mallow_redirects\u001b[39m\u001b[38;5;124m\"\u001b[39m: allow_redirects,\n\u001b[0;32m    587\u001b[0m }\n\u001b[0;32m    588\u001b[0m send_kwargs\u001b[38;5;241m.\u001b[39mupdate(settings)\n\u001b[1;32m--> 589\u001b[0m resp \u001b[38;5;241m=\u001b[39m \u001b[38;5;28mself\u001b[39m\u001b[38;5;241m.\u001b[39msend(prep, \u001b[38;5;241m*\u001b[39m\u001b[38;5;241m*\u001b[39msend_kwargs)\n\u001b[0;32m    591\u001b[0m \u001b[38;5;28;01mreturn\u001b[39;00m resp\n",
      "File \u001b[1;32mc:\\Users\\Myriam\\anaconda3\\envs\\myenv\\lib\\site-packages\\requests\\sessions.py:703\u001b[0m, in \u001b[0;36mSession.send\u001b[1;34m(self, request, **kwargs)\u001b[0m\n\u001b[0;32m    700\u001b[0m start \u001b[38;5;241m=\u001b[39m preferred_clock()\n\u001b[0;32m    702\u001b[0m \u001b[38;5;66;03m# Send the request\u001b[39;00m\n\u001b[1;32m--> 703\u001b[0m r \u001b[38;5;241m=\u001b[39m adapter\u001b[38;5;241m.\u001b[39msend(request, \u001b[38;5;241m*\u001b[39m\u001b[38;5;241m*\u001b[39mkwargs)\n\u001b[0;32m    705\u001b[0m \u001b[38;5;66;03m# Total elapsed time of the request (approximately)\u001b[39;00m\n\u001b[0;32m    706\u001b[0m elapsed \u001b[38;5;241m=\u001b[39m preferred_clock() \u001b[38;5;241m-\u001b[39m start\n",
      "File \u001b[1;32mc:\\Users\\Myriam\\anaconda3\\envs\\myenv\\lib\\site-packages\\requests\\adapters.py:688\u001b[0m, in \u001b[0;36mHTTPAdapter.send\u001b[1;34m(self, request, stream, timeout, verify, cert, proxies)\u001b[0m\n\u001b[0;32m    685\u001b[0m \u001b[38;5;28;01mif\u001b[39;00m \u001b[38;5;28misinstance\u001b[39m(e\u001b[38;5;241m.\u001b[39mreason, ConnectTimeoutError):\n\u001b[0;32m    686\u001b[0m     \u001b[38;5;66;03m# TODO: Remove this in 3.0.0: see #2811\u001b[39;00m\n\u001b[0;32m    687\u001b[0m     \u001b[38;5;28;01mif\u001b[39;00m \u001b[38;5;129;01mnot\u001b[39;00m \u001b[38;5;28misinstance\u001b[39m(e\u001b[38;5;241m.\u001b[39mreason, NewConnectionError):\n\u001b[1;32m--> 688\u001b[0m         \u001b[38;5;28;01mraise\u001b[39;00m ConnectTimeout(e, request\u001b[38;5;241m=\u001b[39mrequest)\n\u001b[0;32m    690\u001b[0m \u001b[38;5;28;01mif\u001b[39;00m \u001b[38;5;28misinstance\u001b[39m(e\u001b[38;5;241m.\u001b[39mreason, ResponseError):\n\u001b[0;32m    691\u001b[0m     \u001b[38;5;28;01mraise\u001b[39;00m RetryError(e, request\u001b[38;5;241m=\u001b[39mrequest)\n",
      "\u001b[1;31mConnectTimeout\u001b[0m: HTTPSConnectionPool(host='www.booking.com', port=443): Max retries exceeded with url: /searchresults.fr.html?ss=La+Rochelle&ssne=La+Rochelle&ssne_untouched=La+Rochelle&label=qwa121jc-1DCAEoggI46AdIM1gDaE2IAQGYAQ24ARfIAQ_YAQPoAQGIAgGoAgO4AoX3mr8GwAIB0gIkMDk1NzlmY2YtNjcwMy00MzdkLWFmNGItMzE3ODQzYzYxNWI32AIE4AIB&sid=b10d6df758b0e059011bf7be0724e09f&aid=1588662&lang=fr&sb=1&src_elem=sb&src=index&dest_id=-1438604&dest_type=city&checkin=2025-04-16&checkout=2025-04-17&group_adults=2&no_rooms=1&group_children=0 (Caused by ConnectTimeoutError(<urllib3.connection.HTTPSConnection object at 0x000001AD425E3CD0>, 'Connection to www.booking.com timed out. (connect timeout=None)'))"
     ]
    }
   ],
   "source": [
    "headers = {\n",
    "    'User-Agent': 'Mozilla/5.0 (Windows NT 10.0; Win64; x64) AppleWebKit/537.36 (KHTML, like Gecko) Chrome/58.0.3029.110 Safari/537.3'\n",
    "}\n",
    "\n",
    "url_LaRochelle = \"https://www.booking.com/searchresults.fr.html?ss=La+Rochelle&ssne=La+Rochelle&ssne_untouched=La+Rochelle&label=qwa121jc-1DCAEoggI46AdIM1gDaE2IAQGYAQ24ARfIAQ_YAQPoAQGIAgGoAgO4AoX3mr8GwAIB0gIkMDk1NzlmY2YtNjcwMy00MzdkLWFmNGItMzE3ODQzYzYxNWI32AIE4AIB&sid=b10d6df758b0e059011bf7be0724e09f&aid=1588662&lang=fr&sb=1&src_elem=sb&src=index&dest_id=-1438604&dest_type=city&checkin=2025-04-16&checkout=2025-04-17&group_adults=2&no_rooms=1&group_children=0\"\n",
    "url = url_LaRochelle\n",
    "r = requests.get(url, headers=headers)\n",
    "\n",
    "response = Selector(text=r.text)"
   ]
  },
  {
   "cell_type": "code",
   "execution_count": 88,
   "metadata": {},
   "outputs": [
    {
     "data": {
      "text/plain": [
       "<Response [200]>"
      ]
     },
     "execution_count": 88,
     "metadata": {},
     "output_type": "execute_result"
    }
   ],
   "source": [
    "r"
   ]
  },
  {
   "cell_type": "code",
   "execution_count": null,
   "metadata": {},
   "outputs": [],
   "source": []
  }
 ],
 "metadata": {
  "kernelspec": {
   "display_name": "myenv",
   "language": "python",
   "name": "python3"
  },
  "language_info": {
   "codemirror_mode": {
    "name": "ipython",
    "version": 3
   },
   "file_extension": ".py",
   "mimetype": "text/x-python",
   "name": "python",
   "nbconvert_exporter": "python",
   "pygments_lexer": "ipython3",
   "version": "3.10.13"
  }
 },
 "nbformat": 4,
 "nbformat_minor": 2
}
