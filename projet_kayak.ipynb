{
 "cells": [
  {
   "cell_type": "code",
   "execution_count": 298,
   "metadata": {},
   "outputs": [],
   "source": [
    "import requests\n",
    "import json\n",
    "import os\n",
    "from dotenv import load_dotenv\n",
    "import pandas as pd\n",
    "from datetime import datetime\n",
    "import folium\n",
    "import time\n",
    "import seaborn as sns\n",
    "import plotly.express as px\n",
    "from matplotlib import colormaps\n",
    "from matplotlib.colors import rgb2hex\n",
    "import requests\n",
    "import scrapy\n",
    "from scrapy import Selector\n",
    "from scrapy.crawler import CrawlerProcess\n",
    "import csv\n",
    "\n",
    "\n",
    "\n"
   ]
  },
  {
   "cell_type": "code",
   "execution_count": 299,
   "metadata": {},
   "outputs": [],
   "source": [
    "load_dotenv()\n",
    "\n",
    "Open_Weather_API_Key_Myriam= os.getenv(\"Open_Weather_API_Key_Myriam\") "
   ]
  },
  {
   "cell_type": "markdown",
   "metadata": {},
   "source": [
    "# Extraction des informations géographiques des 35 plus belles villes"
   ]
  },
  {
   "cell_type": "markdown",
   "metadata": {},
   "source": [
    "Sur la liste des 35 plus belles villes, nous avons 34 noms de villes + 1 lieu d'interêt qui n'est pas une ville (Gorges du Verdon). Pour récupérer les latitudes et longitudes des 34 villes nous pouvons facilement utiliser l'API openweathermap. Cette API permet facilement de collecter également le pays et la région, ce qui est utile pour contrôler d'un même coût les éventuelles erreures liées à des villes homonymes dans le monde.\n",
    "Cependant, cette API récupère les informations en se basant sur un nom de ville. Elle ne reconnait pas les Gorges du Verdon. Pour palier ce problème, une seconde API a été utilisée, nominatim.openstreetmap. Le nombre de requete est plus limité et elle ne permet pas de récupérer la région et le pays. C'est en visualisant les villes sur une carte qu'on pourra confirmer la bonne géolocalisation."
   ]
  },
  {
   "cell_type": "code",
   "execution_count": 300,
   "metadata": {},
   "outputs": [],
   "source": [
    "best_cities= [\"Mont Saint Michel\",\n",
    "\"St Malo\",\n",
    "\"Bayeux\",\n",
    "\"Le Havre\",\n",
    "\"Rouen\",\n",
    "\"Paris\",\n",
    "\"Amiens\",\n",
    "\"Lille\",\n",
    "\"Strasbourg\",\n",
    "\"Chateau du Haut Koenigsbourg\",\n",
    "\"Colmar\",\n",
    "\"Eguisheim\",\n",
    "\"Besancon\",\n",
    "\"Dijon\",\n",
    "\"Annecy\",\n",
    "\"Grenoble\",\n",
    "\"Lyon\",\n",
    "\"Bormes les Mimosas\",\n",
    "\"Cassis\",\n",
    "\"Marseille\",\n",
    "\"Aix en Provence\",\n",
    "\"Avignon\",\n",
    "\"Uzes\",\n",
    "\"Nimes\",\n",
    "\"Aigues Mortes\",\n",
    "\"Saintes Maries de la mer\",\n",
    "\"Collioure\",\n",
    "\"Carcassonne\",\n",
    "\"Ariege\",\n",
    "\"Toulouse\",\n",
    "\"Montauban\",\n",
    "\"Biarritz\",\n",
    "\"Bayonne\",\n",
    "\"La Rochelle\",\n",
    "#\"Gorges du Verdon\" exclu de la liste dans un premier temps car n'est pas une ville mais un point d'intérêt.\n",
    "]\n"
   ]
  },
  {
   "cell_type": "code",
   "execution_count": 301,
   "metadata": {},
   "outputs": [
    {
     "data": {
      "text/plain": [
       "'La Rochelle'"
      ]
     },
     "execution_count": 301,
     "metadata": {},
     "output_type": "execute_result"
    }
   ],
   "source": [
    "best_cities[-1]"
   ]
  },
  {
   "cell_type": "code",
   "execution_count": 302,
   "metadata": {},
   "outputs": [
    {
     "data": {
      "text/html": [
       "<div>\n",
       "<style scoped>\n",
       "    .dataframe tbody tr th:only-of-type {\n",
       "        vertical-align: middle;\n",
       "    }\n",
       "\n",
       "    .dataframe tbody tr th {\n",
       "        vertical-align: top;\n",
       "    }\n",
       "\n",
       "    .dataframe thead th {\n",
       "        text-align: right;\n",
       "    }\n",
       "</style>\n",
       "<table border=\"1\" class=\"dataframe\">\n",
       "  <thead>\n",
       "    <tr style=\"text-align: right;\">\n",
       "      <th></th>\n",
       "      <th>cities</th>\n",
       "    </tr>\n",
       "  </thead>\n",
       "  <tbody>\n",
       "    <tr>\n",
       "      <th>0</th>\n",
       "      <td>Mont Saint Michel</td>\n",
       "    </tr>\n",
       "    <tr>\n",
       "      <th>1</th>\n",
       "      <td>St Malo</td>\n",
       "    </tr>\n",
       "    <tr>\n",
       "      <th>2</th>\n",
       "      <td>Bayeux</td>\n",
       "    </tr>\n",
       "    <tr>\n",
       "      <th>3</th>\n",
       "      <td>Le Havre</td>\n",
       "    </tr>\n",
       "    <tr>\n",
       "      <th>4</th>\n",
       "      <td>Rouen</td>\n",
       "    </tr>\n",
       "    <tr>\n",
       "      <th>5</th>\n",
       "      <td>Paris</td>\n",
       "    </tr>\n",
       "    <tr>\n",
       "      <th>6</th>\n",
       "      <td>Amiens</td>\n",
       "    </tr>\n",
       "    <tr>\n",
       "      <th>7</th>\n",
       "      <td>Lille</td>\n",
       "    </tr>\n",
       "    <tr>\n",
       "      <th>8</th>\n",
       "      <td>Strasbourg</td>\n",
       "    </tr>\n",
       "    <tr>\n",
       "      <th>9</th>\n",
       "      <td>Chateau du Haut Koenigsbourg</td>\n",
       "    </tr>\n",
       "    <tr>\n",
       "      <th>10</th>\n",
       "      <td>Colmar</td>\n",
       "    </tr>\n",
       "    <tr>\n",
       "      <th>11</th>\n",
       "      <td>Eguisheim</td>\n",
       "    </tr>\n",
       "    <tr>\n",
       "      <th>12</th>\n",
       "      <td>Besancon</td>\n",
       "    </tr>\n",
       "    <tr>\n",
       "      <th>13</th>\n",
       "      <td>Dijon</td>\n",
       "    </tr>\n",
       "    <tr>\n",
       "      <th>14</th>\n",
       "      <td>Annecy</td>\n",
       "    </tr>\n",
       "    <tr>\n",
       "      <th>15</th>\n",
       "      <td>Grenoble</td>\n",
       "    </tr>\n",
       "    <tr>\n",
       "      <th>16</th>\n",
       "      <td>Lyon</td>\n",
       "    </tr>\n",
       "    <tr>\n",
       "      <th>17</th>\n",
       "      <td>Bormes les Mimosas</td>\n",
       "    </tr>\n",
       "    <tr>\n",
       "      <th>18</th>\n",
       "      <td>Cassis</td>\n",
       "    </tr>\n",
       "    <tr>\n",
       "      <th>19</th>\n",
       "      <td>Marseille</td>\n",
       "    </tr>\n",
       "    <tr>\n",
       "      <th>20</th>\n",
       "      <td>Aix en Provence</td>\n",
       "    </tr>\n",
       "    <tr>\n",
       "      <th>21</th>\n",
       "      <td>Avignon</td>\n",
       "    </tr>\n",
       "    <tr>\n",
       "      <th>22</th>\n",
       "      <td>Uzes</td>\n",
       "    </tr>\n",
       "    <tr>\n",
       "      <th>23</th>\n",
       "      <td>Nimes</td>\n",
       "    </tr>\n",
       "    <tr>\n",
       "      <th>24</th>\n",
       "      <td>Aigues Mortes</td>\n",
       "    </tr>\n",
       "    <tr>\n",
       "      <th>25</th>\n",
       "      <td>Saintes Maries de la mer</td>\n",
       "    </tr>\n",
       "    <tr>\n",
       "      <th>26</th>\n",
       "      <td>Collioure</td>\n",
       "    </tr>\n",
       "    <tr>\n",
       "      <th>27</th>\n",
       "      <td>Carcassonne</td>\n",
       "    </tr>\n",
       "    <tr>\n",
       "      <th>28</th>\n",
       "      <td>Ariege</td>\n",
       "    </tr>\n",
       "    <tr>\n",
       "      <th>29</th>\n",
       "      <td>Toulouse</td>\n",
       "    </tr>\n",
       "    <tr>\n",
       "      <th>30</th>\n",
       "      <td>Montauban</td>\n",
       "    </tr>\n",
       "    <tr>\n",
       "      <th>31</th>\n",
       "      <td>Biarritz</td>\n",
       "    </tr>\n",
       "    <tr>\n",
       "      <th>32</th>\n",
       "      <td>Bayonne</td>\n",
       "    </tr>\n",
       "    <tr>\n",
       "      <th>33</th>\n",
       "      <td>La Rochelle</td>\n",
       "    </tr>\n",
       "  </tbody>\n",
       "</table>\n",
       "</div>"
      ],
      "text/plain": [
       "                          cities\n",
       "0              Mont Saint Michel\n",
       "1                        St Malo\n",
       "2                         Bayeux\n",
       "3                       Le Havre\n",
       "4                          Rouen\n",
       "5                          Paris\n",
       "6                         Amiens\n",
       "7                          Lille\n",
       "8                     Strasbourg\n",
       "9   Chateau du Haut Koenigsbourg\n",
       "10                        Colmar\n",
       "11                     Eguisheim\n",
       "12                      Besancon\n",
       "13                         Dijon\n",
       "14                        Annecy\n",
       "15                      Grenoble\n",
       "16                          Lyon\n",
       "17            Bormes les Mimosas\n",
       "18                        Cassis\n",
       "19                     Marseille\n",
       "20               Aix en Provence\n",
       "21                       Avignon\n",
       "22                          Uzes\n",
       "23                         Nimes\n",
       "24                 Aigues Mortes\n",
       "25      Saintes Maries de la mer\n",
       "26                     Collioure\n",
       "27                   Carcassonne\n",
       "28                        Ariege\n",
       "29                      Toulouse\n",
       "30                     Montauban\n",
       "31                      Biarritz\n",
       "32                       Bayonne\n",
       "33                   La Rochelle"
      ]
     },
     "execution_count": 302,
     "metadata": {},
     "output_type": "execute_result"
    }
   ],
   "source": [
    "#création d'un dataframe avec la liste des best cities\n",
    "df = pd.DataFrame(data = best_cities, columns = [\"cities\"])\n",
    "df"
   ]
  },
  {
   "cell_type": "markdown",
   "metadata": {},
   "source": [
    "## Import des longitudes & latitudes des 35 best cities"
   ]
  },
  {
   "cell_type": "code",
   "execution_count": 303,
   "metadata": {},
   "outputs": [
    {
     "data": {
      "text/plain": [
       "(34, 1)"
      ]
     },
     "execution_count": 303,
     "metadata": {},
     "output_type": "execute_result"
    }
   ],
   "source": [
    "df.shape"
   ]
  },
  {
   "cell_type": "code",
   "execution_count": 304,
   "metadata": {},
   "outputs": [
    {
     "data": {
      "text/html": [
       "<div>\n",
       "<style scoped>\n",
       "    .dataframe tbody tr th:only-of-type {\n",
       "        vertical-align: middle;\n",
       "    }\n",
       "\n",
       "    .dataframe tbody tr th {\n",
       "        vertical-align: top;\n",
       "    }\n",
       "\n",
       "    .dataframe thead th {\n",
       "        text-align: right;\n",
       "    }\n",
       "</style>\n",
       "<table border=\"1\" class=\"dataframe\">\n",
       "  <thead>\n",
       "    <tr style=\"text-align: right;\">\n",
       "      <th></th>\n",
       "      <th>cities</th>\n",
       "      <th>name</th>\n",
       "      <th>country</th>\n",
       "      <th>state</th>\n",
       "      <th>lat</th>\n",
       "      <th>lon</th>\n",
       "    </tr>\n",
       "  </thead>\n",
       "  <tbody>\n",
       "    <tr>\n",
       "      <th>0</th>\n",
       "      <td>Mont Saint Michel</td>\n",
       "      <td>Mont Saint-Michel</td>\n",
       "      <td>FR</td>\n",
       "      <td>Normandy</td>\n",
       "      <td>48.635954</td>\n",
       "      <td>-1.511460</td>\n",
       "    </tr>\n",
       "    <tr>\n",
       "      <th>1</th>\n",
       "      <td>St Malo</td>\n",
       "      <td>Saint-Malo</td>\n",
       "      <td>FR</td>\n",
       "      <td>Brittany</td>\n",
       "      <td>48.649518</td>\n",
       "      <td>-2.026041</td>\n",
       "    </tr>\n",
       "    <tr>\n",
       "      <th>2</th>\n",
       "      <td>Bayeux</td>\n",
       "      <td>Bayeux</td>\n",
       "      <td>FR</td>\n",
       "      <td>Normandy</td>\n",
       "      <td>49.276462</td>\n",
       "      <td>-0.702474</td>\n",
       "    </tr>\n",
       "    <tr>\n",
       "      <th>3</th>\n",
       "      <td>Le Havre</td>\n",
       "      <td>Le Havre</td>\n",
       "      <td>FR</td>\n",
       "      <td>Normandy</td>\n",
       "      <td>49.493898</td>\n",
       "      <td>0.107973</td>\n",
       "    </tr>\n",
       "    <tr>\n",
       "      <th>4</th>\n",
       "      <td>Rouen</td>\n",
       "      <td>Rouen</td>\n",
       "      <td>FR</td>\n",
       "      <td>Normandy</td>\n",
       "      <td>49.440459</td>\n",
       "      <td>1.093966</td>\n",
       "    </tr>\n",
       "    <tr>\n",
       "      <th>5</th>\n",
       "      <td>Paris</td>\n",
       "      <td>Paris</td>\n",
       "      <td>FR</td>\n",
       "      <td>Ile-de-France</td>\n",
       "      <td>48.858890</td>\n",
       "      <td>2.320041</td>\n",
       "    </tr>\n",
       "    <tr>\n",
       "      <th>6</th>\n",
       "      <td>Amiens</td>\n",
       "      <td>Amiens</td>\n",
       "      <td>FR</td>\n",
       "      <td>Hauts-de-France</td>\n",
       "      <td>49.894171</td>\n",
       "      <td>2.295695</td>\n",
       "    </tr>\n",
       "    <tr>\n",
       "      <th>7</th>\n",
       "      <td>Lille</td>\n",
       "      <td>Lille</td>\n",
       "      <td>FR</td>\n",
       "      <td>Hauts-de-France</td>\n",
       "      <td>50.636565</td>\n",
       "      <td>3.063528</td>\n",
       "    </tr>\n",
       "    <tr>\n",
       "      <th>8</th>\n",
       "      <td>Strasbourg</td>\n",
       "      <td>Strasbourg</td>\n",
       "      <td>FR</td>\n",
       "      <td>Grand Est</td>\n",
       "      <td>48.584614</td>\n",
       "      <td>7.750713</td>\n",
       "    </tr>\n",
       "    <tr>\n",
       "      <th>9</th>\n",
       "      <td>Chateau du Haut Koenigsbourg</td>\n",
       "      <td>Château du Haut-Kœnigsbourg</td>\n",
       "      <td>FR</td>\n",
       "      <td>Grand Est</td>\n",
       "      <td>48.249523</td>\n",
       "      <td>7.345492</td>\n",
       "    </tr>\n",
       "    <tr>\n",
       "      <th>10</th>\n",
       "      <td>Colmar</td>\n",
       "      <td>Colmar</td>\n",
       "      <td>FR</td>\n",
       "      <td>Grand Est</td>\n",
       "      <td>48.077752</td>\n",
       "      <td>7.357964</td>\n",
       "    </tr>\n",
       "    <tr>\n",
       "      <th>11</th>\n",
       "      <td>Eguisheim</td>\n",
       "      <td>Eguisheim</td>\n",
       "      <td>FR</td>\n",
       "      <td>Grand Est</td>\n",
       "      <td>48.044797</td>\n",
       "      <td>7.307962</td>\n",
       "    </tr>\n",
       "    <tr>\n",
       "      <th>12</th>\n",
       "      <td>Besancon</td>\n",
       "      <td>Besançon</td>\n",
       "      <td>FR</td>\n",
       "      <td>Bourgogne-Franche-Comté</td>\n",
       "      <td>47.238022</td>\n",
       "      <td>6.024362</td>\n",
       "    </tr>\n",
       "    <tr>\n",
       "      <th>13</th>\n",
       "      <td>Dijon</td>\n",
       "      <td>Dijon</td>\n",
       "      <td>FR</td>\n",
       "      <td>Bourgogne-Franche-Comté</td>\n",
       "      <td>47.321581</td>\n",
       "      <td>5.041470</td>\n",
       "    </tr>\n",
       "    <tr>\n",
       "      <th>14</th>\n",
       "      <td>Annecy</td>\n",
       "      <td>Annecy</td>\n",
       "      <td>FR</td>\n",
       "      <td>Auvergne-Rhône-Alpes</td>\n",
       "      <td>45.899235</td>\n",
       "      <td>6.128885</td>\n",
       "    </tr>\n",
       "    <tr>\n",
       "      <th>15</th>\n",
       "      <td>Grenoble</td>\n",
       "      <td>Grenoble</td>\n",
       "      <td>FR</td>\n",
       "      <td>Auvergne-Rhône-Alpes</td>\n",
       "      <td>45.187560</td>\n",
       "      <td>5.735782</td>\n",
       "    </tr>\n",
       "    <tr>\n",
       "      <th>16</th>\n",
       "      <td>Lyon</td>\n",
       "      <td>Lyon</td>\n",
       "      <td>FR</td>\n",
       "      <td>Auvergne-Rhône-Alpes</td>\n",
       "      <td>45.757814</td>\n",
       "      <td>4.832011</td>\n",
       "    </tr>\n",
       "    <tr>\n",
       "      <th>17</th>\n",
       "      <td>Bormes les Mimosas</td>\n",
       "      <td>Bormes-les-Mimosas</td>\n",
       "      <td>FR</td>\n",
       "      <td>Provence-Alpes-Côte d'Azur</td>\n",
       "      <td>43.150697</td>\n",
       "      <td>6.341928</td>\n",
       "    </tr>\n",
       "    <tr>\n",
       "      <th>18</th>\n",
       "      <td>Cassis</td>\n",
       "      <td>Cassis</td>\n",
       "      <td>FR</td>\n",
       "      <td>Provence-Alpes-Côte d'Azur</td>\n",
       "      <td>43.214036</td>\n",
       "      <td>5.539632</td>\n",
       "    </tr>\n",
       "    <tr>\n",
       "      <th>19</th>\n",
       "      <td>Marseille</td>\n",
       "      <td>Marseille</td>\n",
       "      <td>FR</td>\n",
       "      <td>Provence-Alpes-Côte d'Azur</td>\n",
       "      <td>43.296174</td>\n",
       "      <td>5.369953</td>\n",
       "    </tr>\n",
       "    <tr>\n",
       "      <th>20</th>\n",
       "      <td>Aix en Provence</td>\n",
       "      <td>Aix-en-Provence</td>\n",
       "      <td>FR</td>\n",
       "      <td>Provence-Alpes-Côte d'Azur</td>\n",
       "      <td>43.529842</td>\n",
       "      <td>5.447474</td>\n",
       "    </tr>\n",
       "    <tr>\n",
       "      <th>21</th>\n",
       "      <td>Avignon</td>\n",
       "      <td>Avignon</td>\n",
       "      <td>FR</td>\n",
       "      <td>Provence-Alpes-Côte d'Azur</td>\n",
       "      <td>43.949249</td>\n",
       "      <td>4.805901</td>\n",
       "    </tr>\n",
       "    <tr>\n",
       "      <th>22</th>\n",
       "      <td>Uzes</td>\n",
       "      <td>Uzès</td>\n",
       "      <td>FR</td>\n",
       "      <td>Occitania</td>\n",
       "      <td>44.012128</td>\n",
       "      <td>4.419672</td>\n",
       "    </tr>\n",
       "    <tr>\n",
       "      <th>23</th>\n",
       "      <td>Nimes</td>\n",
       "      <td>Nimes</td>\n",
       "      <td>FR</td>\n",
       "      <td>Occitania</td>\n",
       "      <td>43.837425</td>\n",
       "      <td>4.360069</td>\n",
       "    </tr>\n",
       "    <tr>\n",
       "      <th>24</th>\n",
       "      <td>Aigues Mortes</td>\n",
       "      <td>Aigues-Mortes</td>\n",
       "      <td>FR</td>\n",
       "      <td>Occitania</td>\n",
       "      <td>43.565823</td>\n",
       "      <td>4.191284</td>\n",
       "    </tr>\n",
       "    <tr>\n",
       "      <th>25</th>\n",
       "      <td>Saintes Maries de la mer</td>\n",
       "      <td>Saintes-Maries-de-la-Mer</td>\n",
       "      <td>FR</td>\n",
       "      <td>Provence-Alpes-Côte d'Azur</td>\n",
       "      <td>43.452277</td>\n",
       "      <td>4.428717</td>\n",
       "    </tr>\n",
       "    <tr>\n",
       "      <th>26</th>\n",
       "      <td>Collioure</td>\n",
       "      <td>Collioure</td>\n",
       "      <td>FR</td>\n",
       "      <td>Occitania</td>\n",
       "      <td>42.525050</td>\n",
       "      <td>3.083155</td>\n",
       "    </tr>\n",
       "    <tr>\n",
       "      <th>27</th>\n",
       "      <td>Carcassonne</td>\n",
       "      <td>Carcassonne</td>\n",
       "      <td>FR</td>\n",
       "      <td>Occitania</td>\n",
       "      <td>43.213036</td>\n",
       "      <td>2.349107</td>\n",
       "    </tr>\n",
       "    <tr>\n",
       "      <th>28</th>\n",
       "      <td>Ariege</td>\n",
       "      <td>Tarascon-sur-Ariège</td>\n",
       "      <td>FR</td>\n",
       "      <td>Occitania</td>\n",
       "      <td>42.845802</td>\n",
       "      <td>1.606759</td>\n",
       "    </tr>\n",
       "    <tr>\n",
       "      <th>29</th>\n",
       "      <td>Toulouse</td>\n",
       "      <td>Toulouse</td>\n",
       "      <td>FR</td>\n",
       "      <td>Occitania</td>\n",
       "      <td>43.604462</td>\n",
       "      <td>1.444247</td>\n",
       "    </tr>\n",
       "    <tr>\n",
       "      <th>30</th>\n",
       "      <td>Montauban</td>\n",
       "      <td>Montauban</td>\n",
       "      <td>FR</td>\n",
       "      <td>Occitania</td>\n",
       "      <td>44.017584</td>\n",
       "      <td>1.354999</td>\n",
       "    </tr>\n",
       "    <tr>\n",
       "      <th>31</th>\n",
       "      <td>Biarritz</td>\n",
       "      <td>Biarritz</td>\n",
       "      <td>FR</td>\n",
       "      <td>Nouvelle-Aquitaine</td>\n",
       "      <td>43.483252</td>\n",
       "      <td>-1.559278</td>\n",
       "    </tr>\n",
       "    <tr>\n",
       "      <th>32</th>\n",
       "      <td>Bayonne</td>\n",
       "      <td>Bayonne</td>\n",
       "      <td>FR</td>\n",
       "      <td>Nouvelle-Aquitaine</td>\n",
       "      <td>43.494514</td>\n",
       "      <td>-1.473666</td>\n",
       "    </tr>\n",
       "    <tr>\n",
       "      <th>33</th>\n",
       "      <td>La Rochelle</td>\n",
       "      <td>La Rochelle</td>\n",
       "      <td>FR</td>\n",
       "      <td>Nouvelle-Aquitaine</td>\n",
       "      <td>46.159113</td>\n",
       "      <td>-1.152043</td>\n",
       "    </tr>\n",
       "  </tbody>\n",
       "</table>\n",
       "</div>"
      ],
      "text/plain": [
       "                          cities                         name country  \\\n",
       "0              Mont Saint Michel            Mont Saint-Michel      FR   \n",
       "1                        St Malo                   Saint-Malo      FR   \n",
       "2                         Bayeux                       Bayeux      FR   \n",
       "3                       Le Havre                     Le Havre      FR   \n",
       "4                          Rouen                        Rouen      FR   \n",
       "5                          Paris                        Paris      FR   \n",
       "6                         Amiens                       Amiens      FR   \n",
       "7                          Lille                        Lille      FR   \n",
       "8                     Strasbourg                   Strasbourg      FR   \n",
       "9   Chateau du Haut Koenigsbourg  Château du Haut-Kœnigsbourg      FR   \n",
       "10                        Colmar                       Colmar      FR   \n",
       "11                     Eguisheim                    Eguisheim      FR   \n",
       "12                      Besancon                     Besançon      FR   \n",
       "13                         Dijon                        Dijon      FR   \n",
       "14                        Annecy                       Annecy      FR   \n",
       "15                      Grenoble                     Grenoble      FR   \n",
       "16                          Lyon                         Lyon      FR   \n",
       "17            Bormes les Mimosas           Bormes-les-Mimosas      FR   \n",
       "18                        Cassis                       Cassis      FR   \n",
       "19                     Marseille                    Marseille      FR   \n",
       "20               Aix en Provence              Aix-en-Provence      FR   \n",
       "21                       Avignon                      Avignon      FR   \n",
       "22                          Uzes                         Uzès      FR   \n",
       "23                         Nimes                        Nimes      FR   \n",
       "24                 Aigues Mortes                Aigues-Mortes      FR   \n",
       "25      Saintes Maries de la mer     Saintes-Maries-de-la-Mer      FR   \n",
       "26                     Collioure                    Collioure      FR   \n",
       "27                   Carcassonne                  Carcassonne      FR   \n",
       "28                        Ariege          Tarascon-sur-Ariège      FR   \n",
       "29                      Toulouse                     Toulouse      FR   \n",
       "30                     Montauban                    Montauban      FR   \n",
       "31                      Biarritz                     Biarritz      FR   \n",
       "32                       Bayonne                      Bayonne      FR   \n",
       "33                   La Rochelle                  La Rochelle      FR   \n",
       "\n",
       "                         state        lat       lon  \n",
       "0                     Normandy  48.635954 -1.511460  \n",
       "1                     Brittany  48.649518 -2.026041  \n",
       "2                     Normandy  49.276462 -0.702474  \n",
       "3                     Normandy  49.493898  0.107973  \n",
       "4                     Normandy  49.440459  1.093966  \n",
       "5                Ile-de-France  48.858890  2.320041  \n",
       "6              Hauts-de-France  49.894171  2.295695  \n",
       "7              Hauts-de-France  50.636565  3.063528  \n",
       "8                    Grand Est  48.584614  7.750713  \n",
       "9                    Grand Est  48.249523  7.345492  \n",
       "10                   Grand Est  48.077752  7.357964  \n",
       "11                   Grand Est  48.044797  7.307962  \n",
       "12     Bourgogne-Franche-Comté  47.238022  6.024362  \n",
       "13     Bourgogne-Franche-Comté  47.321581  5.041470  \n",
       "14        Auvergne-Rhône-Alpes  45.899235  6.128885  \n",
       "15        Auvergne-Rhône-Alpes  45.187560  5.735782  \n",
       "16        Auvergne-Rhône-Alpes  45.757814  4.832011  \n",
       "17  Provence-Alpes-Côte d'Azur  43.150697  6.341928  \n",
       "18  Provence-Alpes-Côte d'Azur  43.214036  5.539632  \n",
       "19  Provence-Alpes-Côte d'Azur  43.296174  5.369953  \n",
       "20  Provence-Alpes-Côte d'Azur  43.529842  5.447474  \n",
       "21  Provence-Alpes-Côte d'Azur  43.949249  4.805901  \n",
       "22                   Occitania  44.012128  4.419672  \n",
       "23                   Occitania  43.837425  4.360069  \n",
       "24                   Occitania  43.565823  4.191284  \n",
       "25  Provence-Alpes-Côte d'Azur  43.452277  4.428717  \n",
       "26                   Occitania  42.525050  3.083155  \n",
       "27                   Occitania  43.213036  2.349107  \n",
       "28                   Occitania  42.845802  1.606759  \n",
       "29                   Occitania  43.604462  1.444247  \n",
       "30                   Occitania  44.017584  1.354999  \n",
       "31          Nouvelle-Aquitaine  43.483252 -1.559278  \n",
       "32          Nouvelle-Aquitaine  43.494514 -1.473666  \n",
       "33          Nouvelle-Aquitaine  46.159113 -1.152043  "
      ]
     },
     "execution_count": 304,
     "metadata": {},
     "output_type": "execute_result"
    }
   ],
   "source": [
    "for i,best_city in enumerate(best_cities):\n",
    "    r = requests.get(f\"http://api.openweathermap.org/geo/1.0/direct?q={best_city}&limit=1&appid={Open_Weather_API_Key_Myriam}\")\n",
    "    if r.status_code == 200:\n",
    "        data = r.json()\n",
    "  \n",
    "        df.loc[i,\"name\"] = data[0][\"name\"] #pour s'assurer de la bonne attribution de la ville\n",
    "        df.loc[i,\"country\"] = data[0][\"country\"] #pour vérifier la localisation\n",
    "        df.loc[i,\"state\"] = data[0][\"state\"] # pour vérifier la localisation\n",
    "        df.loc[i,\"lat\"] = data[0][\"lat\"]\n",
    "        df.loc[i,\"lon\"] = data[0][\"lon\"]\n",
    "    \n",
    "    else:\n",
    "        print(f\"Erreur lors de la requête pour {best_cities} :\", r.status_code)\n",
    "\n",
    "df"
   ]
  },
  {
   "cell_type": "code",
   "execution_count": 305,
   "metadata": {},
   "outputs": [
    {
     "data": {
      "text/plain": [
       "<Response [403]>"
      ]
     },
     "execution_count": 305,
     "metadata": {},
     "output_type": "execute_result"
    }
   ],
   "source": [
    "url = \"https://nominatim.openstreetmap.org/search\"\n",
    "\n",
    "headers = {\n",
    "        'User-Agent': 'Mozilla/5.0 (Windows NT 10.0; Win64; x64) AppleWebKit/537.36 (KHTML, like Gecko) Chrome/58.0.3029.110 Safari/537.3'    }\n",
    "\n",
    "lieux = [\"Gorges du Verdon\"]\n",
    "\n",
    "for lieu in lieux:\n",
    "    params = {\n",
    "        'q': lieu,\n",
    "        'format': 'json',\n",
    "        'limit': 1\n",
    "    }\n",
    "\n",
    "response = requests.get(url, params=params, headers=headers)\n",
    "response"
   ]
  },
  {
   "cell_type": "code",
   "execution_count": 236,
   "metadata": {},
   "outputs": [
    {
     "name": "stdout",
     "output_type": "stream",
     "text": [
      "[{'cities': 'Gorges du Verdon', 'name': None, 'country': None, 'state': None, 'lat': '43.7496562', 'lon': '6.3285616'}]\n"
     ]
    }
   ],
   "source": [
    "# pour trouver les coordonnés des Gorges du Verdon, utiisation d'une seconde API (Elle est plus restrictive en termes du nombre de requete, c'est pour celà que la préédente API a été favorisée)\n",
    "def rechercher_coordonnees(lieux):\n",
    "    url = \"https://nominatim.openstreetmap.org/search\"\n",
    "    coordonnees = []\n",
    "\n",
    "    headers = {\n",
    "        'User-Agent': 'Mozilla/5.0 (Windows NT 10.0; Win64; x64) AppleWebKit/537.36 (KHTML, like Gecko) Chrome/58.0.3029.110 Safari/537.3'    }\n",
    "\n",
    "    for lieu in lieux:\n",
    "        params = {\n",
    "            'q': lieu,\n",
    "            'format': 'json',\n",
    "            'limit': 1\n",
    "        }\n",
    "\n",
    "        response = requests.get(url, params=params, headers=headers)\n",
    "\n",
    "        if response.status_code == 200:\n",
    "            data = response.json()\n",
    "            if data:\n",
    "                address = data[0].get('address', {})\n",
    "                coordonnees.append({\n",
    "                    'cities': lieu,\n",
    "                    'name': address.get('city'),\n",
    "                    'country': address.get('country'), #information non trouvée avec l'API\n",
    "                    'state': address.get('state'), #information non trouvée avec l'API\n",
    "                    'lat': data[0].get('lat'),\n",
    "                    'lon': data[0].get('lon'),\n",
    "                })\n",
    "            else:\n",
    "                coordonnees.append({\n",
    "                    'cities': lieu,\n",
    "                    'name': None,\n",
    "                    'country': None,\n",
    "                    'state': None,\n",
    "                    'lat': None,\n",
    "                    'lon': None\n",
    "\n",
    "                })\n",
    "        else:\n",
    "            print(f\"Erreur lors de la requête pour {lieu} :\", response.status_code)\n",
    "            coordonnees.append({\n",
    "                    'cities': lieu,\n",
    "                    'name': None,\n",
    "                    'country': None,\n",
    "                    'state': None,\n",
    "                    'lat': None,\n",
    "                    'lon': None,\n",
    "            })\n",
    "\n",
    "        # Attendre un peu entre les requêtes pour éviter de dépasser les limites\n",
    "        time.sleep(1)\n",
    "\n",
    "    return coordonnees\n",
    "\n",
    "\n",
    "coordonnees = rechercher_coordonnees([\"Gorges du Verdon\"])\n",
    "print(coordonnees)\n"
   ]
  },
  {
   "cell_type": "code",
   "execution_count": 237,
   "metadata": {},
   "outputs": [
    {
     "data": {
      "text/html": [
       "<div>\n",
       "<style scoped>\n",
       "    .dataframe tbody tr th:only-of-type {\n",
       "        vertical-align: middle;\n",
       "    }\n",
       "\n",
       "    .dataframe tbody tr th {\n",
       "        vertical-align: top;\n",
       "    }\n",
       "\n",
       "    .dataframe thead th {\n",
       "        text-align: right;\n",
       "    }\n",
       "</style>\n",
       "<table border=\"1\" class=\"dataframe\">\n",
       "  <thead>\n",
       "    <tr style=\"text-align: right;\">\n",
       "      <th></th>\n",
       "      <th>cities</th>\n",
       "      <th>name</th>\n",
       "      <th>country</th>\n",
       "      <th>state</th>\n",
       "      <th>lat</th>\n",
       "      <th>lon</th>\n",
       "    </tr>\n",
       "  </thead>\n",
       "  <tbody>\n",
       "    <tr>\n",
       "      <th>0</th>\n",
       "      <td>Gorges du Verdon</td>\n",
       "      <td>None</td>\n",
       "      <td>None</td>\n",
       "      <td>None</td>\n",
       "      <td>43.7496562</td>\n",
       "      <td>6.3285616</td>\n",
       "    </tr>\n",
       "  </tbody>\n",
       "</table>\n",
       "</div>"
      ],
      "text/plain": [
       "             cities  name country state         lat        lon\n",
       "0  Gorges du Verdon  None    None  None  43.7496562  6.3285616"
      ]
     },
     "execution_count": 237,
     "metadata": {},
     "output_type": "execute_result"
    }
   ],
   "source": [
    "#réalisation d'un dataframe avec le même colonage que le dataframe initial\n",
    "gdv = pd.DataFrame(coordonnees)\n",
    "gdv"
   ]
  },
  {
   "cell_type": "code",
   "execution_count": 238,
   "metadata": {},
   "outputs": [
    {
     "data": {
      "text/html": [
       "<div>\n",
       "<style scoped>\n",
       "    .dataframe tbody tr th:only-of-type {\n",
       "        vertical-align: middle;\n",
       "    }\n",
       "\n",
       "    .dataframe tbody tr th {\n",
       "        vertical-align: top;\n",
       "    }\n",
       "\n",
       "    .dataframe thead th {\n",
       "        text-align: right;\n",
       "    }\n",
       "</style>\n",
       "<table border=\"1\" class=\"dataframe\">\n",
       "  <thead>\n",
       "    <tr style=\"text-align: right;\">\n",
       "      <th></th>\n",
       "      <th>cities</th>\n",
       "      <th>name</th>\n",
       "      <th>country</th>\n",
       "      <th>state</th>\n",
       "      <th>lat</th>\n",
       "      <th>lon</th>\n",
       "    </tr>\n",
       "  </thead>\n",
       "  <tbody>\n",
       "    <tr>\n",
       "      <th>0</th>\n",
       "      <td>Mont Saint Michel</td>\n",
       "      <td>Mont Saint-Michel</td>\n",
       "      <td>FR</td>\n",
       "      <td>Normandy</td>\n",
       "      <td>48.635954</td>\n",
       "      <td>-1.51146</td>\n",
       "    </tr>\n",
       "    <tr>\n",
       "      <th>1</th>\n",
       "      <td>St Malo</td>\n",
       "      <td>Saint-Malo</td>\n",
       "      <td>FR</td>\n",
       "      <td>Brittany</td>\n",
       "      <td>48.649518</td>\n",
       "      <td>-2.026041</td>\n",
       "    </tr>\n",
       "    <tr>\n",
       "      <th>2</th>\n",
       "      <td>Bayeux</td>\n",
       "      <td>Bayeux</td>\n",
       "      <td>FR</td>\n",
       "      <td>Normandy</td>\n",
       "      <td>49.276462</td>\n",
       "      <td>-0.702474</td>\n",
       "    </tr>\n",
       "    <tr>\n",
       "      <th>3</th>\n",
       "      <td>Le Havre</td>\n",
       "      <td>Le Havre</td>\n",
       "      <td>FR</td>\n",
       "      <td>Normandy</td>\n",
       "      <td>49.493898</td>\n",
       "      <td>0.107973</td>\n",
       "    </tr>\n",
       "    <tr>\n",
       "      <th>4</th>\n",
       "      <td>Rouen</td>\n",
       "      <td>Rouen</td>\n",
       "      <td>FR</td>\n",
       "      <td>Normandy</td>\n",
       "      <td>49.440459</td>\n",
       "      <td>1.093966</td>\n",
       "    </tr>\n",
       "    <tr>\n",
       "      <th>5</th>\n",
       "      <td>Paris</td>\n",
       "      <td>Paris</td>\n",
       "      <td>FR</td>\n",
       "      <td>Ile-de-France</td>\n",
       "      <td>48.85889</td>\n",
       "      <td>2.320041</td>\n",
       "    </tr>\n",
       "    <tr>\n",
       "      <th>6</th>\n",
       "      <td>Amiens</td>\n",
       "      <td>Amiens</td>\n",
       "      <td>FR</td>\n",
       "      <td>Hauts-de-France</td>\n",
       "      <td>49.894171</td>\n",
       "      <td>2.295695</td>\n",
       "    </tr>\n",
       "    <tr>\n",
       "      <th>7</th>\n",
       "      <td>Lille</td>\n",
       "      <td>Lille</td>\n",
       "      <td>FR</td>\n",
       "      <td>Hauts-de-France</td>\n",
       "      <td>50.636565</td>\n",
       "      <td>3.063528</td>\n",
       "    </tr>\n",
       "    <tr>\n",
       "      <th>8</th>\n",
       "      <td>Strasbourg</td>\n",
       "      <td>Strasbourg</td>\n",
       "      <td>FR</td>\n",
       "      <td>Grand Est</td>\n",
       "      <td>48.584614</td>\n",
       "      <td>7.750713</td>\n",
       "    </tr>\n",
       "    <tr>\n",
       "      <th>9</th>\n",
       "      <td>Chateau du Haut Koenigsbourg</td>\n",
       "      <td>Château du Haut-Kœnigsbourg</td>\n",
       "      <td>FR</td>\n",
       "      <td>Grand Est</td>\n",
       "      <td>48.249523</td>\n",
       "      <td>7.345492</td>\n",
       "    </tr>\n",
       "    <tr>\n",
       "      <th>10</th>\n",
       "      <td>Colmar</td>\n",
       "      <td>Colmar</td>\n",
       "      <td>FR</td>\n",
       "      <td>Grand Est</td>\n",
       "      <td>48.077752</td>\n",
       "      <td>7.357964</td>\n",
       "    </tr>\n",
       "    <tr>\n",
       "      <th>11</th>\n",
       "      <td>Eguisheim</td>\n",
       "      <td>Eguisheim</td>\n",
       "      <td>FR</td>\n",
       "      <td>Grand Est</td>\n",
       "      <td>48.044797</td>\n",
       "      <td>7.307962</td>\n",
       "    </tr>\n",
       "    <tr>\n",
       "      <th>12</th>\n",
       "      <td>Besancon</td>\n",
       "      <td>Besançon</td>\n",
       "      <td>FR</td>\n",
       "      <td>Bourgogne-Franche-Comté</td>\n",
       "      <td>47.238022</td>\n",
       "      <td>6.024362</td>\n",
       "    </tr>\n",
       "    <tr>\n",
       "      <th>13</th>\n",
       "      <td>Dijon</td>\n",
       "      <td>Dijon</td>\n",
       "      <td>FR</td>\n",
       "      <td>Bourgogne-Franche-Comté</td>\n",
       "      <td>47.321581</td>\n",
       "      <td>5.04147</td>\n",
       "    </tr>\n",
       "    <tr>\n",
       "      <th>14</th>\n",
       "      <td>Annecy</td>\n",
       "      <td>Annecy</td>\n",
       "      <td>FR</td>\n",
       "      <td>Auvergne-Rhône-Alpes</td>\n",
       "      <td>45.899235</td>\n",
       "      <td>6.128885</td>\n",
       "    </tr>\n",
       "    <tr>\n",
       "      <th>15</th>\n",
       "      <td>Grenoble</td>\n",
       "      <td>Grenoble</td>\n",
       "      <td>FR</td>\n",
       "      <td>Auvergne-Rhône-Alpes</td>\n",
       "      <td>45.18756</td>\n",
       "      <td>5.735782</td>\n",
       "    </tr>\n",
       "    <tr>\n",
       "      <th>16</th>\n",
       "      <td>Lyon</td>\n",
       "      <td>Lyon</td>\n",
       "      <td>FR</td>\n",
       "      <td>Auvergne-Rhône-Alpes</td>\n",
       "      <td>45.757814</td>\n",
       "      <td>4.832011</td>\n",
       "    </tr>\n",
       "    <tr>\n",
       "      <th>17</th>\n",
       "      <td>Bormes les Mimosas</td>\n",
       "      <td>Bormes-les-Mimosas</td>\n",
       "      <td>FR</td>\n",
       "      <td>Provence-Alpes-Côte d'Azur</td>\n",
       "      <td>43.150697</td>\n",
       "      <td>6.341928</td>\n",
       "    </tr>\n",
       "    <tr>\n",
       "      <th>18</th>\n",
       "      <td>Cassis</td>\n",
       "      <td>Cassis</td>\n",
       "      <td>FR</td>\n",
       "      <td>Provence-Alpes-Côte d'Azur</td>\n",
       "      <td>43.214036</td>\n",
       "      <td>5.539632</td>\n",
       "    </tr>\n",
       "    <tr>\n",
       "      <th>19</th>\n",
       "      <td>Marseille</td>\n",
       "      <td>Marseille</td>\n",
       "      <td>FR</td>\n",
       "      <td>Provence-Alpes-Côte d'Azur</td>\n",
       "      <td>43.296174</td>\n",
       "      <td>5.369953</td>\n",
       "    </tr>\n",
       "    <tr>\n",
       "      <th>20</th>\n",
       "      <td>Aix en Provence</td>\n",
       "      <td>Aix-en-Provence</td>\n",
       "      <td>FR</td>\n",
       "      <td>Provence-Alpes-Côte d'Azur</td>\n",
       "      <td>43.529842</td>\n",
       "      <td>5.447474</td>\n",
       "    </tr>\n",
       "    <tr>\n",
       "      <th>21</th>\n",
       "      <td>Avignon</td>\n",
       "      <td>Avignon</td>\n",
       "      <td>FR</td>\n",
       "      <td>Provence-Alpes-Côte d'Azur</td>\n",
       "      <td>43.949249</td>\n",
       "      <td>4.805901</td>\n",
       "    </tr>\n",
       "    <tr>\n",
       "      <th>22</th>\n",
       "      <td>Uzes</td>\n",
       "      <td>Uzès</td>\n",
       "      <td>FR</td>\n",
       "      <td>Occitania</td>\n",
       "      <td>44.012128</td>\n",
       "      <td>4.419672</td>\n",
       "    </tr>\n",
       "    <tr>\n",
       "      <th>23</th>\n",
       "      <td>Nimes</td>\n",
       "      <td>Nimes</td>\n",
       "      <td>FR</td>\n",
       "      <td>Occitania</td>\n",
       "      <td>43.837425</td>\n",
       "      <td>4.360069</td>\n",
       "    </tr>\n",
       "    <tr>\n",
       "      <th>24</th>\n",
       "      <td>Aigues Mortes</td>\n",
       "      <td>Aigues-Mortes</td>\n",
       "      <td>FR</td>\n",
       "      <td>Occitania</td>\n",
       "      <td>43.565823</td>\n",
       "      <td>4.191284</td>\n",
       "    </tr>\n",
       "    <tr>\n",
       "      <th>25</th>\n",
       "      <td>Saintes Maries de la mer</td>\n",
       "      <td>Saintes-Maries-de-la-Mer</td>\n",
       "      <td>FR</td>\n",
       "      <td>Provence-Alpes-Côte d'Azur</td>\n",
       "      <td>43.452277</td>\n",
       "      <td>4.428717</td>\n",
       "    </tr>\n",
       "    <tr>\n",
       "      <th>26</th>\n",
       "      <td>Collioure</td>\n",
       "      <td>Collioure</td>\n",
       "      <td>FR</td>\n",
       "      <td>Occitania</td>\n",
       "      <td>42.52505</td>\n",
       "      <td>3.083155</td>\n",
       "    </tr>\n",
       "    <tr>\n",
       "      <th>27</th>\n",
       "      <td>Carcassonne</td>\n",
       "      <td>Carcassonne</td>\n",
       "      <td>FR</td>\n",
       "      <td>Occitania</td>\n",
       "      <td>43.213036</td>\n",
       "      <td>2.349107</td>\n",
       "    </tr>\n",
       "    <tr>\n",
       "      <th>28</th>\n",
       "      <td>Ariege</td>\n",
       "      <td>Tarascon-sur-Ariège</td>\n",
       "      <td>FR</td>\n",
       "      <td>Occitania</td>\n",
       "      <td>42.845802</td>\n",
       "      <td>1.606759</td>\n",
       "    </tr>\n",
       "    <tr>\n",
       "      <th>29</th>\n",
       "      <td>Toulouse</td>\n",
       "      <td>Toulouse</td>\n",
       "      <td>FR</td>\n",
       "      <td>Occitania</td>\n",
       "      <td>43.604462</td>\n",
       "      <td>1.444247</td>\n",
       "    </tr>\n",
       "    <tr>\n",
       "      <th>30</th>\n",
       "      <td>Montauban</td>\n",
       "      <td>Montauban</td>\n",
       "      <td>FR</td>\n",
       "      <td>Occitania</td>\n",
       "      <td>44.017584</td>\n",
       "      <td>1.354999</td>\n",
       "    </tr>\n",
       "    <tr>\n",
       "      <th>31</th>\n",
       "      <td>Biarritz</td>\n",
       "      <td>Biarritz</td>\n",
       "      <td>FR</td>\n",
       "      <td>Nouvelle-Aquitaine</td>\n",
       "      <td>43.483252</td>\n",
       "      <td>-1.559278</td>\n",
       "    </tr>\n",
       "    <tr>\n",
       "      <th>32</th>\n",
       "      <td>Bayonne</td>\n",
       "      <td>Bayonne</td>\n",
       "      <td>FR</td>\n",
       "      <td>Nouvelle-Aquitaine</td>\n",
       "      <td>43.494514</td>\n",
       "      <td>-1.473666</td>\n",
       "    </tr>\n",
       "    <tr>\n",
       "      <th>33</th>\n",
       "      <td>La Rochelle</td>\n",
       "      <td>La Rochelle</td>\n",
       "      <td>FR</td>\n",
       "      <td>Nouvelle-Aquitaine</td>\n",
       "      <td>46.159113</td>\n",
       "      <td>-1.152043</td>\n",
       "    </tr>\n",
       "    <tr>\n",
       "      <th>34</th>\n",
       "      <td>Gorges du Verdon</td>\n",
       "      <td>None</td>\n",
       "      <td>None</td>\n",
       "      <td>None</td>\n",
       "      <td>43.7496562</td>\n",
       "      <td>6.3285616</td>\n",
       "    </tr>\n",
       "  </tbody>\n",
       "</table>\n",
       "</div>"
      ],
      "text/plain": [
       "                          cities                         name country  \\\n",
       "0              Mont Saint Michel            Mont Saint-Michel      FR   \n",
       "1                        St Malo                   Saint-Malo      FR   \n",
       "2                         Bayeux                       Bayeux      FR   \n",
       "3                       Le Havre                     Le Havre      FR   \n",
       "4                          Rouen                        Rouen      FR   \n",
       "5                          Paris                        Paris      FR   \n",
       "6                         Amiens                       Amiens      FR   \n",
       "7                          Lille                        Lille      FR   \n",
       "8                     Strasbourg                   Strasbourg      FR   \n",
       "9   Chateau du Haut Koenigsbourg  Château du Haut-Kœnigsbourg      FR   \n",
       "10                        Colmar                       Colmar      FR   \n",
       "11                     Eguisheim                    Eguisheim      FR   \n",
       "12                      Besancon                     Besançon      FR   \n",
       "13                         Dijon                        Dijon      FR   \n",
       "14                        Annecy                       Annecy      FR   \n",
       "15                      Grenoble                     Grenoble      FR   \n",
       "16                          Lyon                         Lyon      FR   \n",
       "17            Bormes les Mimosas           Bormes-les-Mimosas      FR   \n",
       "18                        Cassis                       Cassis      FR   \n",
       "19                     Marseille                    Marseille      FR   \n",
       "20               Aix en Provence              Aix-en-Provence      FR   \n",
       "21                       Avignon                      Avignon      FR   \n",
       "22                          Uzes                         Uzès      FR   \n",
       "23                         Nimes                        Nimes      FR   \n",
       "24                 Aigues Mortes                Aigues-Mortes      FR   \n",
       "25      Saintes Maries de la mer     Saintes-Maries-de-la-Mer      FR   \n",
       "26                     Collioure                    Collioure      FR   \n",
       "27                   Carcassonne                  Carcassonne      FR   \n",
       "28                        Ariege          Tarascon-sur-Ariège      FR   \n",
       "29                      Toulouse                     Toulouse      FR   \n",
       "30                     Montauban                    Montauban      FR   \n",
       "31                      Biarritz                     Biarritz      FR   \n",
       "32                       Bayonne                      Bayonne      FR   \n",
       "33                   La Rochelle                  La Rochelle      FR   \n",
       "34              Gorges du Verdon                         None    None   \n",
       "\n",
       "                         state         lat        lon  \n",
       "0                     Normandy   48.635954   -1.51146  \n",
       "1                     Brittany   48.649518  -2.026041  \n",
       "2                     Normandy   49.276462  -0.702474  \n",
       "3                     Normandy   49.493898   0.107973  \n",
       "4                     Normandy   49.440459   1.093966  \n",
       "5                Ile-de-France    48.85889   2.320041  \n",
       "6              Hauts-de-France   49.894171   2.295695  \n",
       "7              Hauts-de-France   50.636565   3.063528  \n",
       "8                    Grand Est   48.584614   7.750713  \n",
       "9                    Grand Est   48.249523   7.345492  \n",
       "10                   Grand Est   48.077752   7.357964  \n",
       "11                   Grand Est   48.044797   7.307962  \n",
       "12     Bourgogne-Franche-Comté   47.238022   6.024362  \n",
       "13     Bourgogne-Franche-Comté   47.321581    5.04147  \n",
       "14        Auvergne-Rhône-Alpes   45.899235   6.128885  \n",
       "15        Auvergne-Rhône-Alpes    45.18756   5.735782  \n",
       "16        Auvergne-Rhône-Alpes   45.757814   4.832011  \n",
       "17  Provence-Alpes-Côte d'Azur   43.150697   6.341928  \n",
       "18  Provence-Alpes-Côte d'Azur   43.214036   5.539632  \n",
       "19  Provence-Alpes-Côte d'Azur   43.296174   5.369953  \n",
       "20  Provence-Alpes-Côte d'Azur   43.529842   5.447474  \n",
       "21  Provence-Alpes-Côte d'Azur   43.949249   4.805901  \n",
       "22                   Occitania   44.012128   4.419672  \n",
       "23                   Occitania   43.837425   4.360069  \n",
       "24                   Occitania   43.565823   4.191284  \n",
       "25  Provence-Alpes-Côte d'Azur   43.452277   4.428717  \n",
       "26                   Occitania    42.52505   3.083155  \n",
       "27                   Occitania   43.213036   2.349107  \n",
       "28                   Occitania   42.845802   1.606759  \n",
       "29                   Occitania   43.604462   1.444247  \n",
       "30                   Occitania   44.017584   1.354999  \n",
       "31          Nouvelle-Aquitaine   43.483252  -1.559278  \n",
       "32          Nouvelle-Aquitaine   43.494514  -1.473666  \n",
       "33          Nouvelle-Aquitaine   46.159113  -1.152043  \n",
       "34                        None  43.7496562  6.3285616  "
      ]
     },
     "execution_count": 238,
     "metadata": {},
     "output_type": "execute_result"
    }
   ],
   "source": [
    "#Fusion des deux dataframes\n",
    "df_merged = pd.concat([df, gdv], ignore_index=True)\n",
    "df_merged"
   ]
  },
  {
   "cell_type": "code",
   "execution_count": 239,
   "metadata": {},
   "outputs": [
    {
     "data": {
      "text/html": [
       "<div style=\"width:100%;\"><div style=\"position:relative;width:100%;height:0;padding-bottom:60%;\"><span style=\"color:#565656\">Make this Notebook Trusted to load map: File -> Trust Notebook</span><iframe srcdoc=\"&lt;!DOCTYPE html&gt;\n",
       "&lt;html&gt;\n",
       "&lt;head&gt;\n",
       "    \n",
       "    &lt;meta http-equiv=&quot;content-type&quot; content=&quot;text/html; charset=UTF-8&quot; /&gt;\n",
       "    \n",
       "        &lt;script&gt;\n",
       "            L_NO_TOUCH = false;\n",
       "            L_DISABLE_3D = false;\n",
       "        &lt;/script&gt;\n",
       "    \n",
       "    &lt;style&gt;html, body {width: 100%;height: 100%;margin: 0;padding: 0;}&lt;/style&gt;\n",
       "    &lt;style&gt;#map {position:absolute;top:0;bottom:0;right:0;left:0;}&lt;/style&gt;\n",
       "    &lt;script src=&quot;https://cdn.jsdelivr.net/npm/leaflet@1.9.3/dist/leaflet.js&quot;&gt;&lt;/script&gt;\n",
       "    &lt;script src=&quot;https://code.jquery.com/jquery-3.7.1.min.js&quot;&gt;&lt;/script&gt;\n",
       "    &lt;script src=&quot;https://cdn.jsdelivr.net/npm/bootstrap@5.2.2/dist/js/bootstrap.bundle.min.js&quot;&gt;&lt;/script&gt;\n",
       "    &lt;script src=&quot;https://cdnjs.cloudflare.com/ajax/libs/Leaflet.awesome-markers/2.0.2/leaflet.awesome-markers.js&quot;&gt;&lt;/script&gt;\n",
       "    &lt;link rel=&quot;stylesheet&quot; href=&quot;https://cdn.jsdelivr.net/npm/leaflet@1.9.3/dist/leaflet.css&quot;/&gt;\n",
       "    &lt;link rel=&quot;stylesheet&quot; href=&quot;https://cdn.jsdelivr.net/npm/bootstrap@5.2.2/dist/css/bootstrap.min.css&quot;/&gt;\n",
       "    &lt;link rel=&quot;stylesheet&quot; href=&quot;https://netdna.bootstrapcdn.com/bootstrap/3.0.0/css/bootstrap-glyphicons.css&quot;/&gt;\n",
       "    &lt;link rel=&quot;stylesheet&quot; href=&quot;https://cdn.jsdelivr.net/npm/@fortawesome/fontawesome-free@6.2.0/css/all.min.css&quot;/&gt;\n",
       "    &lt;link rel=&quot;stylesheet&quot; href=&quot;https://cdnjs.cloudflare.com/ajax/libs/Leaflet.awesome-markers/2.0.2/leaflet.awesome-markers.css&quot;/&gt;\n",
       "    &lt;link rel=&quot;stylesheet&quot; href=&quot;https://cdn.jsdelivr.net/gh/python-visualization/folium/folium/templates/leaflet.awesome.rotate.min.css&quot;/&gt;\n",
       "    \n",
       "            &lt;meta name=&quot;viewport&quot; content=&quot;width=device-width,\n",
       "                initial-scale=1.0, maximum-scale=1.0, user-scalable=no&quot; /&gt;\n",
       "            &lt;style&gt;\n",
       "                #map_fa5f40ff506bc0b2c716c23c09064b04 {\n",
       "                    position: relative;\n",
       "                    width: 100.0%;\n",
       "                    height: 100.0%;\n",
       "                    left: 0.0%;\n",
       "                    top: 0.0%;\n",
       "                }\n",
       "                .leaflet-container { font-size: 1rem; }\n",
       "            &lt;/style&gt;\n",
       "        \n",
       "&lt;/head&gt;\n",
       "&lt;body&gt;\n",
       "    \n",
       "    \n",
       "            &lt;div class=&quot;folium-map&quot; id=&quot;map_fa5f40ff506bc0b2c716c23c09064b04&quot; &gt;&lt;/div&gt;\n",
       "        \n",
       "&lt;/body&gt;\n",
       "&lt;script&gt;\n",
       "    \n",
       "    \n",
       "            var map_fa5f40ff506bc0b2c716c23c09064b04 = L.map(\n",
       "                &quot;map_fa5f40ff506bc0b2c716c23c09064b04&quot;,\n",
       "                {\n",
       "                    center: [46.603354, 1.888334],\n",
       "                    crs: L.CRS.EPSG3857,\n",
       "                    ...{\n",
       "  &quot;zoom&quot;: 6,\n",
       "  &quot;zoomControl&quot;: true,\n",
       "  &quot;preferCanvas&quot;: false,\n",
       "}\n",
       "\n",
       "                }\n",
       "            );\n",
       "\n",
       "            \n",
       "\n",
       "        \n",
       "    \n",
       "            var tile_layer_c00506c1425421fa6eda27a0a8172a95 = L.tileLayer(\n",
       "                &quot;https://tile.openstreetmap.org/{z}/{x}/{y}.png&quot;,\n",
       "                {\n",
       "  &quot;minZoom&quot;: 0,\n",
       "  &quot;maxZoom&quot;: 19,\n",
       "  &quot;maxNativeZoom&quot;: 19,\n",
       "  &quot;noWrap&quot;: false,\n",
       "  &quot;attribution&quot;: &quot;\\u0026copy; \\u003ca href=\\&quot;https://www.openstreetmap.org/copyright\\&quot;\\u003eOpenStreetMap\\u003c/a\\u003e contributors&quot;,\n",
       "  &quot;subdomains&quot;: &quot;abc&quot;,\n",
       "  &quot;detectRetina&quot;: false,\n",
       "  &quot;tms&quot;: false,\n",
       "  &quot;opacity&quot;: 1,\n",
       "}\n",
       "\n",
       "            );\n",
       "        \n",
       "    \n",
       "            tile_layer_c00506c1425421fa6eda27a0a8172a95.addTo(map_fa5f40ff506bc0b2c716c23c09064b04);\n",
       "        \n",
       "    \n",
       "            var marker_b8bf002320cf4be7995fba7849ddf287 = L.marker(\n",
       "                [48.6359541, -1.511459954959514],\n",
       "                {\n",
       "}\n",
       "            ).addTo(map_fa5f40ff506bc0b2c716c23c09064b04);\n",
       "        \n",
       "    \n",
       "        var custom_icon_547f6b35718b13f84bf1286a41dc2c8f = L.icon({\n",
       "  &quot;iconUrl&quot;: &quot;https://images.icon-icons.com/3565/PNG/512/tree_flower_plant_nature_landscape_icon_225325.png&quot;,\n",
       "  &quot;iconSize&quot;: [40, 40],\n",
       "});\n",
       "        marker_b8bf002320cf4be7995fba7849ddf287.setIcon(custom_icon_547f6b35718b13f84bf1286a41dc2c8f);\n",
       "        \n",
       "    \n",
       "        var popup_7a272425cc723fb3f63dac75f7c6b0fd = L.popup({\n",
       "  &quot;maxWidth&quot;: &quot;100%&quot;,\n",
       "});\n",
       "\n",
       "        \n",
       "            \n",
       "                var html_baa6bd15a45268152991264079663fb6 = $(`&lt;div id=&quot;html_baa6bd15a45268152991264079663fb6&quot; style=&quot;width: 100.0%; height: 100.0%;&quot;&gt;Mont Saint Michel&lt;/div&gt;`)[0];\n",
       "                popup_7a272425cc723fb3f63dac75f7c6b0fd.setContent(html_baa6bd15a45268152991264079663fb6);\n",
       "            \n",
       "        \n",
       "\n",
       "        marker_b8bf002320cf4be7995fba7849ddf287.bindPopup(popup_7a272425cc723fb3f63dac75f7c6b0fd)\n",
       "        ;\n",
       "\n",
       "        \n",
       "    \n",
       "    \n",
       "                marker_b8bf002320cf4be7995fba7849ddf287.setIcon(custom_icon_547f6b35718b13f84bf1286a41dc2c8f);\n",
       "            \n",
       "    \n",
       "            var marker_9ed9c189ee1d05f593825c473b3dffb7 = L.marker(\n",
       "                [48.649518, -2.0260409],\n",
       "                {\n",
       "}\n",
       "            ).addTo(map_fa5f40ff506bc0b2c716c23c09064b04);\n",
       "        \n",
       "    \n",
       "        var custom_icon_9acd811205534aa1abc72e3086572bb2 = L.icon({\n",
       "  &quot;iconUrl&quot;: &quot;https://images.icon-icons.com/3565/PNG/512/tree_flower_plant_nature_landscape_icon_225325.png&quot;,\n",
       "  &quot;iconSize&quot;: [40, 40],\n",
       "});\n",
       "        marker_9ed9c189ee1d05f593825c473b3dffb7.setIcon(custom_icon_9acd811205534aa1abc72e3086572bb2);\n",
       "        \n",
       "    \n",
       "        var popup_7b9ac5db879fec062d34c1ff07275125 = L.popup({\n",
       "  &quot;maxWidth&quot;: &quot;100%&quot;,\n",
       "});\n",
       "\n",
       "        \n",
       "            \n",
       "                var html_1585ffad4833ed9e1a97906233f791be = $(`&lt;div id=&quot;html_1585ffad4833ed9e1a97906233f791be&quot; style=&quot;width: 100.0%; height: 100.0%;&quot;&gt;St Malo&lt;/div&gt;`)[0];\n",
       "                popup_7b9ac5db879fec062d34c1ff07275125.setContent(html_1585ffad4833ed9e1a97906233f791be);\n",
       "            \n",
       "        \n",
       "\n",
       "        marker_9ed9c189ee1d05f593825c473b3dffb7.bindPopup(popup_7b9ac5db879fec062d34c1ff07275125)\n",
       "        ;\n",
       "\n",
       "        \n",
       "    \n",
       "    \n",
       "                marker_9ed9c189ee1d05f593825c473b3dffb7.setIcon(custom_icon_9acd811205534aa1abc72e3086572bb2);\n",
       "            \n",
       "    \n",
       "            var marker_dcffcf8d5fde2f5a4ee2110664fbfc7b = L.marker(\n",
       "                [49.2764624, -0.7024738],\n",
       "                {\n",
       "}\n",
       "            ).addTo(map_fa5f40ff506bc0b2c716c23c09064b04);\n",
       "        \n",
       "    \n",
       "        var custom_icon_50a971ebd65843398f828c1468bc4dd7 = L.icon({\n",
       "  &quot;iconUrl&quot;: &quot;https://images.icon-icons.com/3565/PNG/512/tree_flower_plant_nature_landscape_icon_225325.png&quot;,\n",
       "  &quot;iconSize&quot;: [40, 40],\n",
       "});\n",
       "        marker_dcffcf8d5fde2f5a4ee2110664fbfc7b.setIcon(custom_icon_50a971ebd65843398f828c1468bc4dd7);\n",
       "        \n",
       "    \n",
       "        var popup_3fc43eabb0d20bc957a13ffa13e9b880 = L.popup({\n",
       "  &quot;maxWidth&quot;: &quot;100%&quot;,\n",
       "});\n",
       "\n",
       "        \n",
       "            \n",
       "                var html_21ca826d80cc3365978a674fc97e3a93 = $(`&lt;div id=&quot;html_21ca826d80cc3365978a674fc97e3a93&quot; style=&quot;width: 100.0%; height: 100.0%;&quot;&gt;Bayeux&lt;/div&gt;`)[0];\n",
       "                popup_3fc43eabb0d20bc957a13ffa13e9b880.setContent(html_21ca826d80cc3365978a674fc97e3a93);\n",
       "            \n",
       "        \n",
       "\n",
       "        marker_dcffcf8d5fde2f5a4ee2110664fbfc7b.bindPopup(popup_3fc43eabb0d20bc957a13ffa13e9b880)\n",
       "        ;\n",
       "\n",
       "        \n",
       "    \n",
       "    \n",
       "                marker_dcffcf8d5fde2f5a4ee2110664fbfc7b.setIcon(custom_icon_50a971ebd65843398f828c1468bc4dd7);\n",
       "            \n",
       "    \n",
       "            var marker_3d3110fccaef9f9f923c6538cde5c2b0 = L.marker(\n",
       "                [49.4938975, 0.1079732],\n",
       "                {\n",
       "}\n",
       "            ).addTo(map_fa5f40ff506bc0b2c716c23c09064b04);\n",
       "        \n",
       "    \n",
       "        var custom_icon_1d7f49b4fdcffd954b926e66a2382e41 = L.icon({\n",
       "  &quot;iconUrl&quot;: &quot;https://images.icon-icons.com/3565/PNG/512/tree_flower_plant_nature_landscape_icon_225325.png&quot;,\n",
       "  &quot;iconSize&quot;: [40, 40],\n",
       "});\n",
       "        marker_3d3110fccaef9f9f923c6538cde5c2b0.setIcon(custom_icon_1d7f49b4fdcffd954b926e66a2382e41);\n",
       "        \n",
       "    \n",
       "        var popup_899fa7ae9054e94afb022dc95db1cb4d = L.popup({\n",
       "  &quot;maxWidth&quot;: &quot;100%&quot;,\n",
       "});\n",
       "\n",
       "        \n",
       "            \n",
       "                var html_c3490d491f861b7f73427400bcfcdb0c = $(`&lt;div id=&quot;html_c3490d491f861b7f73427400bcfcdb0c&quot; style=&quot;width: 100.0%; height: 100.0%;&quot;&gt;Le Havre&lt;/div&gt;`)[0];\n",
       "                popup_899fa7ae9054e94afb022dc95db1cb4d.setContent(html_c3490d491f861b7f73427400bcfcdb0c);\n",
       "            \n",
       "        \n",
       "\n",
       "        marker_3d3110fccaef9f9f923c6538cde5c2b0.bindPopup(popup_899fa7ae9054e94afb022dc95db1cb4d)\n",
       "        ;\n",
       "\n",
       "        \n",
       "    \n",
       "    \n",
       "                marker_3d3110fccaef9f9f923c6538cde5c2b0.setIcon(custom_icon_1d7f49b4fdcffd954b926e66a2382e41);\n",
       "            \n",
       "    \n",
       "            var marker_967b2970e4ce138aaf42b9e1260c6c65 = L.marker(\n",
       "                [49.4404591, 1.0939658],\n",
       "                {\n",
       "}\n",
       "            ).addTo(map_fa5f40ff506bc0b2c716c23c09064b04);\n",
       "        \n",
       "    \n",
       "        var custom_icon_23b6e4cdcef710ea463ce947d323b54f = L.icon({\n",
       "  &quot;iconUrl&quot;: &quot;https://images.icon-icons.com/3565/PNG/512/tree_flower_plant_nature_landscape_icon_225325.png&quot;,\n",
       "  &quot;iconSize&quot;: [40, 40],\n",
       "});\n",
       "        marker_967b2970e4ce138aaf42b9e1260c6c65.setIcon(custom_icon_23b6e4cdcef710ea463ce947d323b54f);\n",
       "        \n",
       "    \n",
       "        var popup_8971ea2fa22e6a1eb24054f8a0f4dbf2 = L.popup({\n",
       "  &quot;maxWidth&quot;: &quot;100%&quot;,\n",
       "});\n",
       "\n",
       "        \n",
       "            \n",
       "                var html_2c569a0184ffa9ec9636efc538b069d6 = $(`&lt;div id=&quot;html_2c569a0184ffa9ec9636efc538b069d6&quot; style=&quot;width: 100.0%; height: 100.0%;&quot;&gt;Rouen&lt;/div&gt;`)[0];\n",
       "                popup_8971ea2fa22e6a1eb24054f8a0f4dbf2.setContent(html_2c569a0184ffa9ec9636efc538b069d6);\n",
       "            \n",
       "        \n",
       "\n",
       "        marker_967b2970e4ce138aaf42b9e1260c6c65.bindPopup(popup_8971ea2fa22e6a1eb24054f8a0f4dbf2)\n",
       "        ;\n",
       "\n",
       "        \n",
       "    \n",
       "    \n",
       "                marker_967b2970e4ce138aaf42b9e1260c6c65.setIcon(custom_icon_23b6e4cdcef710ea463ce947d323b54f);\n",
       "            \n",
       "    \n",
       "            var marker_f96b5d9dc873a9c4bdde60287c4d2b25 = L.marker(\n",
       "                [48.8588897, 2.3200410217200766],\n",
       "                {\n",
       "}\n",
       "            ).addTo(map_fa5f40ff506bc0b2c716c23c09064b04);\n",
       "        \n",
       "    \n",
       "        var custom_icon_6ff9bdc6cf98276345f2054e00ffb91f = L.icon({\n",
       "  &quot;iconUrl&quot;: &quot;https://images.icon-icons.com/3565/PNG/512/tree_flower_plant_nature_landscape_icon_225325.png&quot;,\n",
       "  &quot;iconSize&quot;: [40, 40],\n",
       "});\n",
       "        marker_f96b5d9dc873a9c4bdde60287c4d2b25.setIcon(custom_icon_6ff9bdc6cf98276345f2054e00ffb91f);\n",
       "        \n",
       "    \n",
       "        var popup_18a482c2ae173893497d362fab9c2c0f = L.popup({\n",
       "  &quot;maxWidth&quot;: &quot;100%&quot;,\n",
       "});\n",
       "\n",
       "        \n",
       "            \n",
       "                var html_29776184f714b131139167369cc9784d = $(`&lt;div id=&quot;html_29776184f714b131139167369cc9784d&quot; style=&quot;width: 100.0%; height: 100.0%;&quot;&gt;Paris&lt;/div&gt;`)[0];\n",
       "                popup_18a482c2ae173893497d362fab9c2c0f.setContent(html_29776184f714b131139167369cc9784d);\n",
       "            \n",
       "        \n",
       "\n",
       "        marker_f96b5d9dc873a9c4bdde60287c4d2b25.bindPopup(popup_18a482c2ae173893497d362fab9c2c0f)\n",
       "        ;\n",
       "\n",
       "        \n",
       "    \n",
       "    \n",
       "                marker_f96b5d9dc873a9c4bdde60287c4d2b25.setIcon(custom_icon_6ff9bdc6cf98276345f2054e00ffb91f);\n",
       "            \n",
       "    \n",
       "            var marker_62cdabbf33a4d99d5b3064e95485ac17 = L.marker(\n",
       "                [49.8941708, 2.2956951],\n",
       "                {\n",
       "}\n",
       "            ).addTo(map_fa5f40ff506bc0b2c716c23c09064b04);\n",
       "        \n",
       "    \n",
       "        var custom_icon_ddb058146c737a9b941518202f5b5835 = L.icon({\n",
       "  &quot;iconUrl&quot;: &quot;https://images.icon-icons.com/3565/PNG/512/tree_flower_plant_nature_landscape_icon_225325.png&quot;,\n",
       "  &quot;iconSize&quot;: [40, 40],\n",
       "});\n",
       "        marker_62cdabbf33a4d99d5b3064e95485ac17.setIcon(custom_icon_ddb058146c737a9b941518202f5b5835);\n",
       "        \n",
       "    \n",
       "        var popup_a274449831093f9fdb82ed1e078264a4 = L.popup({\n",
       "  &quot;maxWidth&quot;: &quot;100%&quot;,\n",
       "});\n",
       "\n",
       "        \n",
       "            \n",
       "                var html_880b8a0c9d1fbcc4111eeb972e47bb25 = $(`&lt;div id=&quot;html_880b8a0c9d1fbcc4111eeb972e47bb25&quot; style=&quot;width: 100.0%; height: 100.0%;&quot;&gt;Amiens&lt;/div&gt;`)[0];\n",
       "                popup_a274449831093f9fdb82ed1e078264a4.setContent(html_880b8a0c9d1fbcc4111eeb972e47bb25);\n",
       "            \n",
       "        \n",
       "\n",
       "        marker_62cdabbf33a4d99d5b3064e95485ac17.bindPopup(popup_a274449831093f9fdb82ed1e078264a4)\n",
       "        ;\n",
       "\n",
       "        \n",
       "    \n",
       "    \n",
       "                marker_62cdabbf33a4d99d5b3064e95485ac17.setIcon(custom_icon_ddb058146c737a9b941518202f5b5835);\n",
       "            \n",
       "    \n",
       "            var marker_fc37b86c8ebe4e4fc1ecf77b9e82da61 = L.marker(\n",
       "                [50.6365654, 3.0635282],\n",
       "                {\n",
       "}\n",
       "            ).addTo(map_fa5f40ff506bc0b2c716c23c09064b04);\n",
       "        \n",
       "    \n",
       "        var custom_icon_8e5582d30cae6f61edc13a23177ac09a = L.icon({\n",
       "  &quot;iconUrl&quot;: &quot;https://images.icon-icons.com/3565/PNG/512/tree_flower_plant_nature_landscape_icon_225325.png&quot;,\n",
       "  &quot;iconSize&quot;: [40, 40],\n",
       "});\n",
       "        marker_fc37b86c8ebe4e4fc1ecf77b9e82da61.setIcon(custom_icon_8e5582d30cae6f61edc13a23177ac09a);\n",
       "        \n",
       "    \n",
       "        var popup_6314444834c4098ef3a0541de38a8e1e = L.popup({\n",
       "  &quot;maxWidth&quot;: &quot;100%&quot;,\n",
       "});\n",
       "\n",
       "        \n",
       "            \n",
       "                var html_b18eec8cc697626db0060693fdd97a0a = $(`&lt;div id=&quot;html_b18eec8cc697626db0060693fdd97a0a&quot; style=&quot;width: 100.0%; height: 100.0%;&quot;&gt;Lille&lt;/div&gt;`)[0];\n",
       "                popup_6314444834c4098ef3a0541de38a8e1e.setContent(html_b18eec8cc697626db0060693fdd97a0a);\n",
       "            \n",
       "        \n",
       "\n",
       "        marker_fc37b86c8ebe4e4fc1ecf77b9e82da61.bindPopup(popup_6314444834c4098ef3a0541de38a8e1e)\n",
       "        ;\n",
       "\n",
       "        \n",
       "    \n",
       "    \n",
       "                marker_fc37b86c8ebe4e4fc1ecf77b9e82da61.setIcon(custom_icon_8e5582d30cae6f61edc13a23177ac09a);\n",
       "            \n",
       "    \n",
       "            var marker_4f9a593939d209c57180131e7e2b5ca6 = L.marker(\n",
       "                [48.584614, 7.7507127],\n",
       "                {\n",
       "}\n",
       "            ).addTo(map_fa5f40ff506bc0b2c716c23c09064b04);\n",
       "        \n",
       "    \n",
       "        var custom_icon_3835522b0cb9d176a8833807bbd036d2 = L.icon({\n",
       "  &quot;iconUrl&quot;: &quot;https://images.icon-icons.com/3565/PNG/512/tree_flower_plant_nature_landscape_icon_225325.png&quot;,\n",
       "  &quot;iconSize&quot;: [40, 40],\n",
       "});\n",
       "        marker_4f9a593939d209c57180131e7e2b5ca6.setIcon(custom_icon_3835522b0cb9d176a8833807bbd036d2);\n",
       "        \n",
       "    \n",
       "        var popup_ca7df9e45cfe52b4beeb0cb912093266 = L.popup({\n",
       "  &quot;maxWidth&quot;: &quot;100%&quot;,\n",
       "});\n",
       "\n",
       "        \n",
       "            \n",
       "                var html_e16c53568ab0ef9e77ff51556e211e70 = $(`&lt;div id=&quot;html_e16c53568ab0ef9e77ff51556e211e70&quot; style=&quot;width: 100.0%; height: 100.0%;&quot;&gt;Strasbourg&lt;/div&gt;`)[0];\n",
       "                popup_ca7df9e45cfe52b4beeb0cb912093266.setContent(html_e16c53568ab0ef9e77ff51556e211e70);\n",
       "            \n",
       "        \n",
       "\n",
       "        marker_4f9a593939d209c57180131e7e2b5ca6.bindPopup(popup_ca7df9e45cfe52b4beeb0cb912093266)\n",
       "        ;\n",
       "\n",
       "        \n",
       "    \n",
       "    \n",
       "                marker_4f9a593939d209c57180131e7e2b5ca6.setIcon(custom_icon_3835522b0cb9d176a8833807bbd036d2);\n",
       "            \n",
       "    \n",
       "            var marker_170e8e00e5800a03c7762876a617b97f = L.marker(\n",
       "                [48.2495226, 7.3454923],\n",
       "                {\n",
       "}\n",
       "            ).addTo(map_fa5f40ff506bc0b2c716c23c09064b04);\n",
       "        \n",
       "    \n",
       "        var custom_icon_b8c85bde5a7553ba3fae8d9aae64f91a = L.icon({\n",
       "  &quot;iconUrl&quot;: &quot;https://images.icon-icons.com/3565/PNG/512/tree_flower_plant_nature_landscape_icon_225325.png&quot;,\n",
       "  &quot;iconSize&quot;: [40, 40],\n",
       "});\n",
       "        marker_170e8e00e5800a03c7762876a617b97f.setIcon(custom_icon_b8c85bde5a7553ba3fae8d9aae64f91a);\n",
       "        \n",
       "    \n",
       "        var popup_93ade631cac6eb95d9c887a6ddd7d20c = L.popup({\n",
       "  &quot;maxWidth&quot;: &quot;100%&quot;,\n",
       "});\n",
       "\n",
       "        \n",
       "            \n",
       "                var html_ac761d045ad2409dca6200c216687377 = $(`&lt;div id=&quot;html_ac761d045ad2409dca6200c216687377&quot; style=&quot;width: 100.0%; height: 100.0%;&quot;&gt;Chateau du Haut Koenigsbourg&lt;/div&gt;`)[0];\n",
       "                popup_93ade631cac6eb95d9c887a6ddd7d20c.setContent(html_ac761d045ad2409dca6200c216687377);\n",
       "            \n",
       "        \n",
       "\n",
       "        marker_170e8e00e5800a03c7762876a617b97f.bindPopup(popup_93ade631cac6eb95d9c887a6ddd7d20c)\n",
       "        ;\n",
       "\n",
       "        \n",
       "    \n",
       "    \n",
       "                marker_170e8e00e5800a03c7762876a617b97f.setIcon(custom_icon_b8c85bde5a7553ba3fae8d9aae64f91a);\n",
       "            \n",
       "    \n",
       "            var marker_6e7ed4d40e45ecb9dd8d089e39f556a6 = L.marker(\n",
       "                [48.0777517, 7.3579641],\n",
       "                {\n",
       "}\n",
       "            ).addTo(map_fa5f40ff506bc0b2c716c23c09064b04);\n",
       "        \n",
       "    \n",
       "        var custom_icon_4b3066770d3fa809cc6799490e513918 = L.icon({\n",
       "  &quot;iconUrl&quot;: &quot;https://images.icon-icons.com/3565/PNG/512/tree_flower_plant_nature_landscape_icon_225325.png&quot;,\n",
       "  &quot;iconSize&quot;: [40, 40],\n",
       "});\n",
       "        marker_6e7ed4d40e45ecb9dd8d089e39f556a6.setIcon(custom_icon_4b3066770d3fa809cc6799490e513918);\n",
       "        \n",
       "    \n",
       "        var popup_394b2075375a0e99e4a04fdf12dcad0e = L.popup({\n",
       "  &quot;maxWidth&quot;: &quot;100%&quot;,\n",
       "});\n",
       "\n",
       "        \n",
       "            \n",
       "                var html_4dec586306a72ccfafbf6f07343dbc34 = $(`&lt;div id=&quot;html_4dec586306a72ccfafbf6f07343dbc34&quot; style=&quot;width: 100.0%; height: 100.0%;&quot;&gt;Colmar&lt;/div&gt;`)[0];\n",
       "                popup_394b2075375a0e99e4a04fdf12dcad0e.setContent(html_4dec586306a72ccfafbf6f07343dbc34);\n",
       "            \n",
       "        \n",
       "\n",
       "        marker_6e7ed4d40e45ecb9dd8d089e39f556a6.bindPopup(popup_394b2075375a0e99e4a04fdf12dcad0e)\n",
       "        ;\n",
       "\n",
       "        \n",
       "    \n",
       "    \n",
       "                marker_6e7ed4d40e45ecb9dd8d089e39f556a6.setIcon(custom_icon_4b3066770d3fa809cc6799490e513918);\n",
       "            \n",
       "    \n",
       "            var marker_8abd91c098cbb4058c0051a9fd866624 = L.marker(\n",
       "                [48.0447968, 7.3079618],\n",
       "                {\n",
       "}\n",
       "            ).addTo(map_fa5f40ff506bc0b2c716c23c09064b04);\n",
       "        \n",
       "    \n",
       "        var custom_icon_5b917298825bd4350fc42497dd24be7d = L.icon({\n",
       "  &quot;iconUrl&quot;: &quot;https://images.icon-icons.com/3565/PNG/512/tree_flower_plant_nature_landscape_icon_225325.png&quot;,\n",
       "  &quot;iconSize&quot;: [40, 40],\n",
       "});\n",
       "        marker_8abd91c098cbb4058c0051a9fd866624.setIcon(custom_icon_5b917298825bd4350fc42497dd24be7d);\n",
       "        \n",
       "    \n",
       "        var popup_9b3fe6e620dba26bce9d118a2736b083 = L.popup({\n",
       "  &quot;maxWidth&quot;: &quot;100%&quot;,\n",
       "});\n",
       "\n",
       "        \n",
       "            \n",
       "                var html_fb8a7d9b7fee878486b1718cdb21932d = $(`&lt;div id=&quot;html_fb8a7d9b7fee878486b1718cdb21932d&quot; style=&quot;width: 100.0%; height: 100.0%;&quot;&gt;Eguisheim&lt;/div&gt;`)[0];\n",
       "                popup_9b3fe6e620dba26bce9d118a2736b083.setContent(html_fb8a7d9b7fee878486b1718cdb21932d);\n",
       "            \n",
       "        \n",
       "\n",
       "        marker_8abd91c098cbb4058c0051a9fd866624.bindPopup(popup_9b3fe6e620dba26bce9d118a2736b083)\n",
       "        ;\n",
       "\n",
       "        \n",
       "    \n",
       "    \n",
       "                marker_8abd91c098cbb4058c0051a9fd866624.setIcon(custom_icon_5b917298825bd4350fc42497dd24be7d);\n",
       "            \n",
       "    \n",
       "            var marker_76380a6d207ed1acde70450e81c0c1f2 = L.marker(\n",
       "                [47.2380222, 6.0243622],\n",
       "                {\n",
       "}\n",
       "            ).addTo(map_fa5f40ff506bc0b2c716c23c09064b04);\n",
       "        \n",
       "    \n",
       "        var custom_icon_a494324944662c5df7d9b31032a6d34c = L.icon({\n",
       "  &quot;iconUrl&quot;: &quot;https://images.icon-icons.com/3565/PNG/512/tree_flower_plant_nature_landscape_icon_225325.png&quot;,\n",
       "  &quot;iconSize&quot;: [40, 40],\n",
       "});\n",
       "        marker_76380a6d207ed1acde70450e81c0c1f2.setIcon(custom_icon_a494324944662c5df7d9b31032a6d34c);\n",
       "        \n",
       "    \n",
       "        var popup_a708cbb0c45cda72cd1277daad8a6091 = L.popup({\n",
       "  &quot;maxWidth&quot;: &quot;100%&quot;,\n",
       "});\n",
       "\n",
       "        \n",
       "            \n",
       "                var html_3281004c61bb010361135c9a7bdc3690 = $(`&lt;div id=&quot;html_3281004c61bb010361135c9a7bdc3690&quot; style=&quot;width: 100.0%; height: 100.0%;&quot;&gt;Besancon&lt;/div&gt;`)[0];\n",
       "                popup_a708cbb0c45cda72cd1277daad8a6091.setContent(html_3281004c61bb010361135c9a7bdc3690);\n",
       "            \n",
       "        \n",
       "\n",
       "        marker_76380a6d207ed1acde70450e81c0c1f2.bindPopup(popup_a708cbb0c45cda72cd1277daad8a6091)\n",
       "        ;\n",
       "\n",
       "        \n",
       "    \n",
       "    \n",
       "                marker_76380a6d207ed1acde70450e81c0c1f2.setIcon(custom_icon_a494324944662c5df7d9b31032a6d34c);\n",
       "            \n",
       "    \n",
       "            var marker_44c7505c1352049d87443499bd36ba5f = L.marker(\n",
       "                [47.3215806, 5.0414701],\n",
       "                {\n",
       "}\n",
       "            ).addTo(map_fa5f40ff506bc0b2c716c23c09064b04);\n",
       "        \n",
       "    \n",
       "        var custom_icon_46942be9c10383a038c1e0e078151921 = L.icon({\n",
       "  &quot;iconUrl&quot;: &quot;https://images.icon-icons.com/3565/PNG/512/tree_flower_plant_nature_landscape_icon_225325.png&quot;,\n",
       "  &quot;iconSize&quot;: [40, 40],\n",
       "});\n",
       "        marker_44c7505c1352049d87443499bd36ba5f.setIcon(custom_icon_46942be9c10383a038c1e0e078151921);\n",
       "        \n",
       "    \n",
       "        var popup_0693967f2d3fdbf2d2e721dc1ea9a385 = L.popup({\n",
       "  &quot;maxWidth&quot;: &quot;100%&quot;,\n",
       "});\n",
       "\n",
       "        \n",
       "            \n",
       "                var html_80d85384a1a9820a6889f1e819717329 = $(`&lt;div id=&quot;html_80d85384a1a9820a6889f1e819717329&quot; style=&quot;width: 100.0%; height: 100.0%;&quot;&gt;Dijon&lt;/div&gt;`)[0];\n",
       "                popup_0693967f2d3fdbf2d2e721dc1ea9a385.setContent(html_80d85384a1a9820a6889f1e819717329);\n",
       "            \n",
       "        \n",
       "\n",
       "        marker_44c7505c1352049d87443499bd36ba5f.bindPopup(popup_0693967f2d3fdbf2d2e721dc1ea9a385)\n",
       "        ;\n",
       "\n",
       "        \n",
       "    \n",
       "    \n",
       "                marker_44c7505c1352049d87443499bd36ba5f.setIcon(custom_icon_46942be9c10383a038c1e0e078151921);\n",
       "            \n",
       "    \n",
       "            var marker_4e45976eda247673bc9fd6e8371c2dc5 = L.marker(\n",
       "                [45.8992348, 6.1288847],\n",
       "                {\n",
       "}\n",
       "            ).addTo(map_fa5f40ff506bc0b2c716c23c09064b04);\n",
       "        \n",
       "    \n",
       "        var custom_icon_08d34719134b5752c337adc61406b2ce = L.icon({\n",
       "  &quot;iconUrl&quot;: &quot;https://images.icon-icons.com/3565/PNG/512/tree_flower_plant_nature_landscape_icon_225325.png&quot;,\n",
       "  &quot;iconSize&quot;: [40, 40],\n",
       "});\n",
       "        marker_4e45976eda247673bc9fd6e8371c2dc5.setIcon(custom_icon_08d34719134b5752c337adc61406b2ce);\n",
       "        \n",
       "    \n",
       "        var popup_e0df2a0ef5a0be59cbe9dbe48cb4199d = L.popup({\n",
       "  &quot;maxWidth&quot;: &quot;100%&quot;,\n",
       "});\n",
       "\n",
       "        \n",
       "            \n",
       "                var html_2b2b4118ebbc9c19bbd2f10cae19ead4 = $(`&lt;div id=&quot;html_2b2b4118ebbc9c19bbd2f10cae19ead4&quot; style=&quot;width: 100.0%; height: 100.0%;&quot;&gt;Annecy&lt;/div&gt;`)[0];\n",
       "                popup_e0df2a0ef5a0be59cbe9dbe48cb4199d.setContent(html_2b2b4118ebbc9c19bbd2f10cae19ead4);\n",
       "            \n",
       "        \n",
       "\n",
       "        marker_4e45976eda247673bc9fd6e8371c2dc5.bindPopup(popup_e0df2a0ef5a0be59cbe9dbe48cb4199d)\n",
       "        ;\n",
       "\n",
       "        \n",
       "    \n",
       "    \n",
       "                marker_4e45976eda247673bc9fd6e8371c2dc5.setIcon(custom_icon_08d34719134b5752c337adc61406b2ce);\n",
       "            \n",
       "    \n",
       "            var marker_28b4167d3c3dac76e0d0a57b4d2990fa = L.marker(\n",
       "                [45.1875602, 5.7357819],\n",
       "                {\n",
       "}\n",
       "            ).addTo(map_fa5f40ff506bc0b2c716c23c09064b04);\n",
       "        \n",
       "    \n",
       "        var custom_icon_194eede36fff98a8c77099ea05d94362 = L.icon({\n",
       "  &quot;iconUrl&quot;: &quot;https://images.icon-icons.com/3565/PNG/512/tree_flower_plant_nature_landscape_icon_225325.png&quot;,\n",
       "  &quot;iconSize&quot;: [40, 40],\n",
       "});\n",
       "        marker_28b4167d3c3dac76e0d0a57b4d2990fa.setIcon(custom_icon_194eede36fff98a8c77099ea05d94362);\n",
       "        \n",
       "    \n",
       "        var popup_c5cc4b8c7a812e3f8d0a49eacd606c54 = L.popup({\n",
       "  &quot;maxWidth&quot;: &quot;100%&quot;,\n",
       "});\n",
       "\n",
       "        \n",
       "            \n",
       "                var html_edf47f9a3468476abff89600eb707f4e = $(`&lt;div id=&quot;html_edf47f9a3468476abff89600eb707f4e&quot; style=&quot;width: 100.0%; height: 100.0%;&quot;&gt;Grenoble&lt;/div&gt;`)[0];\n",
       "                popup_c5cc4b8c7a812e3f8d0a49eacd606c54.setContent(html_edf47f9a3468476abff89600eb707f4e);\n",
       "            \n",
       "        \n",
       "\n",
       "        marker_28b4167d3c3dac76e0d0a57b4d2990fa.bindPopup(popup_c5cc4b8c7a812e3f8d0a49eacd606c54)\n",
       "        ;\n",
       "\n",
       "        \n",
       "    \n",
       "    \n",
       "                marker_28b4167d3c3dac76e0d0a57b4d2990fa.setIcon(custom_icon_194eede36fff98a8c77099ea05d94362);\n",
       "            \n",
       "    \n",
       "            var marker_fcf6a3e7b318db955b8918c491d8cf73 = L.marker(\n",
       "                [45.7578137, 4.8320114],\n",
       "                {\n",
       "}\n",
       "            ).addTo(map_fa5f40ff506bc0b2c716c23c09064b04);\n",
       "        \n",
       "    \n",
       "        var custom_icon_7c6774c97324bb6640f3281b5b47906d = L.icon({\n",
       "  &quot;iconUrl&quot;: &quot;https://images.icon-icons.com/3565/PNG/512/tree_flower_plant_nature_landscape_icon_225325.png&quot;,\n",
       "  &quot;iconSize&quot;: [40, 40],\n",
       "});\n",
       "        marker_fcf6a3e7b318db955b8918c491d8cf73.setIcon(custom_icon_7c6774c97324bb6640f3281b5b47906d);\n",
       "        \n",
       "    \n",
       "        var popup_c630ed376ac84128064e0dae4be275a1 = L.popup({\n",
       "  &quot;maxWidth&quot;: &quot;100%&quot;,\n",
       "});\n",
       "\n",
       "        \n",
       "            \n",
       "                var html_3919af035c444c16e68c0a1c5c2935df = $(`&lt;div id=&quot;html_3919af035c444c16e68c0a1c5c2935df&quot; style=&quot;width: 100.0%; height: 100.0%;&quot;&gt;Lyon&lt;/div&gt;`)[0];\n",
       "                popup_c630ed376ac84128064e0dae4be275a1.setContent(html_3919af035c444c16e68c0a1c5c2935df);\n",
       "            \n",
       "        \n",
       "\n",
       "        marker_fcf6a3e7b318db955b8918c491d8cf73.bindPopup(popup_c630ed376ac84128064e0dae4be275a1)\n",
       "        ;\n",
       "\n",
       "        \n",
       "    \n",
       "    \n",
       "                marker_fcf6a3e7b318db955b8918c491d8cf73.setIcon(custom_icon_7c6774c97324bb6640f3281b5b47906d);\n",
       "            \n",
       "    \n",
       "            var marker_08b1c53ba6bab69f54aecb14f8847da5 = L.marker(\n",
       "                [43.1506968, 6.3419285],\n",
       "                {\n",
       "}\n",
       "            ).addTo(map_fa5f40ff506bc0b2c716c23c09064b04);\n",
       "        \n",
       "    \n",
       "        var custom_icon_b0d03160059786107f714f5f14d23925 = L.icon({\n",
       "  &quot;iconUrl&quot;: &quot;https://images.icon-icons.com/3565/PNG/512/tree_flower_plant_nature_landscape_icon_225325.png&quot;,\n",
       "  &quot;iconSize&quot;: [40, 40],\n",
       "});\n",
       "        marker_08b1c53ba6bab69f54aecb14f8847da5.setIcon(custom_icon_b0d03160059786107f714f5f14d23925);\n",
       "        \n",
       "    \n",
       "        var popup_efb5c550d4d82cfe8a849d65de5a227b = L.popup({\n",
       "  &quot;maxWidth&quot;: &quot;100%&quot;,\n",
       "});\n",
       "\n",
       "        \n",
       "            \n",
       "                var html_bd671df6d6ff51a1aea8585c8f8d57d0 = $(`&lt;div id=&quot;html_bd671df6d6ff51a1aea8585c8f8d57d0&quot; style=&quot;width: 100.0%; height: 100.0%;&quot;&gt;Bormes les Mimosas&lt;/div&gt;`)[0];\n",
       "                popup_efb5c550d4d82cfe8a849d65de5a227b.setContent(html_bd671df6d6ff51a1aea8585c8f8d57d0);\n",
       "            \n",
       "        \n",
       "\n",
       "        marker_08b1c53ba6bab69f54aecb14f8847da5.bindPopup(popup_efb5c550d4d82cfe8a849d65de5a227b)\n",
       "        ;\n",
       "\n",
       "        \n",
       "    \n",
       "    \n",
       "                marker_08b1c53ba6bab69f54aecb14f8847da5.setIcon(custom_icon_b0d03160059786107f714f5f14d23925);\n",
       "            \n",
       "    \n",
       "            var marker_8f1babd8555bf973eaadd68c01f973ca = L.marker(\n",
       "                [43.2140359, 5.5396318],\n",
       "                {\n",
       "}\n",
       "            ).addTo(map_fa5f40ff506bc0b2c716c23c09064b04);\n",
       "        \n",
       "    \n",
       "        var custom_icon_b839d85965250a1ce17cba248b0af2c0 = L.icon({\n",
       "  &quot;iconUrl&quot;: &quot;https://images.icon-icons.com/3565/PNG/512/tree_flower_plant_nature_landscape_icon_225325.png&quot;,\n",
       "  &quot;iconSize&quot;: [40, 40],\n",
       "});\n",
       "        marker_8f1babd8555bf973eaadd68c01f973ca.setIcon(custom_icon_b839d85965250a1ce17cba248b0af2c0);\n",
       "        \n",
       "    \n",
       "        var popup_fadc1d039ac7f6de2fa9476016aa6f16 = L.popup({\n",
       "  &quot;maxWidth&quot;: &quot;100%&quot;,\n",
       "});\n",
       "\n",
       "        \n",
       "            \n",
       "                var html_234bd0d1a757633d0485a622ea720fd5 = $(`&lt;div id=&quot;html_234bd0d1a757633d0485a622ea720fd5&quot; style=&quot;width: 100.0%; height: 100.0%;&quot;&gt;Cassis&lt;/div&gt;`)[0];\n",
       "                popup_fadc1d039ac7f6de2fa9476016aa6f16.setContent(html_234bd0d1a757633d0485a622ea720fd5);\n",
       "            \n",
       "        \n",
       "\n",
       "        marker_8f1babd8555bf973eaadd68c01f973ca.bindPopup(popup_fadc1d039ac7f6de2fa9476016aa6f16)\n",
       "        ;\n",
       "\n",
       "        \n",
       "    \n",
       "    \n",
       "                marker_8f1babd8555bf973eaadd68c01f973ca.setIcon(custom_icon_b839d85965250a1ce17cba248b0af2c0);\n",
       "            \n",
       "    \n",
       "            var marker_9dea22c070558215355f752bd54a7e47 = L.marker(\n",
       "                [43.2961743, 5.3699525],\n",
       "                {\n",
       "}\n",
       "            ).addTo(map_fa5f40ff506bc0b2c716c23c09064b04);\n",
       "        \n",
       "    \n",
       "        var custom_icon_e2d61f429503fd43696135eb3f16316b = L.icon({\n",
       "  &quot;iconUrl&quot;: &quot;https://images.icon-icons.com/3565/PNG/512/tree_flower_plant_nature_landscape_icon_225325.png&quot;,\n",
       "  &quot;iconSize&quot;: [40, 40],\n",
       "});\n",
       "        marker_9dea22c070558215355f752bd54a7e47.setIcon(custom_icon_e2d61f429503fd43696135eb3f16316b);\n",
       "        \n",
       "    \n",
       "        var popup_1db0233201e3178cd75eb68977aa6e91 = L.popup({\n",
       "  &quot;maxWidth&quot;: &quot;100%&quot;,\n",
       "});\n",
       "\n",
       "        \n",
       "            \n",
       "                var html_5881f4ccd40a9d8377f159d2a339074a = $(`&lt;div id=&quot;html_5881f4ccd40a9d8377f159d2a339074a&quot; style=&quot;width: 100.0%; height: 100.0%;&quot;&gt;Marseille&lt;/div&gt;`)[0];\n",
       "                popup_1db0233201e3178cd75eb68977aa6e91.setContent(html_5881f4ccd40a9d8377f159d2a339074a);\n",
       "            \n",
       "        \n",
       "\n",
       "        marker_9dea22c070558215355f752bd54a7e47.bindPopup(popup_1db0233201e3178cd75eb68977aa6e91)\n",
       "        ;\n",
       "\n",
       "        \n",
       "    \n",
       "    \n",
       "                marker_9dea22c070558215355f752bd54a7e47.setIcon(custom_icon_e2d61f429503fd43696135eb3f16316b);\n",
       "            \n",
       "    \n",
       "            var marker_74330f3d96e06742849f111beac020b7 = L.marker(\n",
       "                [43.5298424, 5.4474738],\n",
       "                {\n",
       "}\n",
       "            ).addTo(map_fa5f40ff506bc0b2c716c23c09064b04);\n",
       "        \n",
       "    \n",
       "        var custom_icon_ce8974bf8d76ad94635df1116bef6f7c = L.icon({\n",
       "  &quot;iconUrl&quot;: &quot;https://images.icon-icons.com/3565/PNG/512/tree_flower_plant_nature_landscape_icon_225325.png&quot;,\n",
       "  &quot;iconSize&quot;: [40, 40],\n",
       "});\n",
       "        marker_74330f3d96e06742849f111beac020b7.setIcon(custom_icon_ce8974bf8d76ad94635df1116bef6f7c);\n",
       "        \n",
       "    \n",
       "        var popup_ca8af13b889678658d422995ba8f4f78 = L.popup({\n",
       "  &quot;maxWidth&quot;: &quot;100%&quot;,\n",
       "});\n",
       "\n",
       "        \n",
       "            \n",
       "                var html_1ba57cba9c92fb555e770912f18e5c29 = $(`&lt;div id=&quot;html_1ba57cba9c92fb555e770912f18e5c29&quot; style=&quot;width: 100.0%; height: 100.0%;&quot;&gt;Aix en Provence&lt;/div&gt;`)[0];\n",
       "                popup_ca8af13b889678658d422995ba8f4f78.setContent(html_1ba57cba9c92fb555e770912f18e5c29);\n",
       "            \n",
       "        \n",
       "\n",
       "        marker_74330f3d96e06742849f111beac020b7.bindPopup(popup_ca8af13b889678658d422995ba8f4f78)\n",
       "        ;\n",
       "\n",
       "        \n",
       "    \n",
       "    \n",
       "                marker_74330f3d96e06742849f111beac020b7.setIcon(custom_icon_ce8974bf8d76ad94635df1116bef6f7c);\n",
       "            \n",
       "    \n",
       "            var marker_0865df443de9bb3e4c9f7c9cbfe64354 = L.marker(\n",
       "                [43.9492493, 4.8059012],\n",
       "                {\n",
       "}\n",
       "            ).addTo(map_fa5f40ff506bc0b2c716c23c09064b04);\n",
       "        \n",
       "    \n",
       "        var custom_icon_899cd58f98656f74c46c761112ab512d = L.icon({\n",
       "  &quot;iconUrl&quot;: &quot;https://images.icon-icons.com/3565/PNG/512/tree_flower_plant_nature_landscape_icon_225325.png&quot;,\n",
       "  &quot;iconSize&quot;: [40, 40],\n",
       "});\n",
       "        marker_0865df443de9bb3e4c9f7c9cbfe64354.setIcon(custom_icon_899cd58f98656f74c46c761112ab512d);\n",
       "        \n",
       "    \n",
       "        var popup_811749c12c75f4f3548bca206c67d233 = L.popup({\n",
       "  &quot;maxWidth&quot;: &quot;100%&quot;,\n",
       "});\n",
       "\n",
       "        \n",
       "            \n",
       "                var html_4cd1bd52ecf4190872716cccbea6b972 = $(`&lt;div id=&quot;html_4cd1bd52ecf4190872716cccbea6b972&quot; style=&quot;width: 100.0%; height: 100.0%;&quot;&gt;Avignon&lt;/div&gt;`)[0];\n",
       "                popup_811749c12c75f4f3548bca206c67d233.setContent(html_4cd1bd52ecf4190872716cccbea6b972);\n",
       "            \n",
       "        \n",
       "\n",
       "        marker_0865df443de9bb3e4c9f7c9cbfe64354.bindPopup(popup_811749c12c75f4f3548bca206c67d233)\n",
       "        ;\n",
       "\n",
       "        \n",
       "    \n",
       "    \n",
       "                marker_0865df443de9bb3e4c9f7c9cbfe64354.setIcon(custom_icon_899cd58f98656f74c46c761112ab512d);\n",
       "            \n",
       "    \n",
       "            var marker_63a9907c7766a1741383962b7e6bfe10 = L.marker(\n",
       "                [44.0121279, 4.4196718],\n",
       "                {\n",
       "}\n",
       "            ).addTo(map_fa5f40ff506bc0b2c716c23c09064b04);\n",
       "        \n",
       "    \n",
       "        var custom_icon_39d09527cc3e896dd83dc2ca14f55052 = L.icon({\n",
       "  &quot;iconUrl&quot;: &quot;https://images.icon-icons.com/3565/PNG/512/tree_flower_plant_nature_landscape_icon_225325.png&quot;,\n",
       "  &quot;iconSize&quot;: [40, 40],\n",
       "});\n",
       "        marker_63a9907c7766a1741383962b7e6bfe10.setIcon(custom_icon_39d09527cc3e896dd83dc2ca14f55052);\n",
       "        \n",
       "    \n",
       "        var popup_eb083299a059b07196fe2dda31a3e826 = L.popup({\n",
       "  &quot;maxWidth&quot;: &quot;100%&quot;,\n",
       "});\n",
       "\n",
       "        \n",
       "            \n",
       "                var html_da07ea645810abac75e2ead563f8398b = $(`&lt;div id=&quot;html_da07ea645810abac75e2ead563f8398b&quot; style=&quot;width: 100.0%; height: 100.0%;&quot;&gt;Uzes&lt;/div&gt;`)[0];\n",
       "                popup_eb083299a059b07196fe2dda31a3e826.setContent(html_da07ea645810abac75e2ead563f8398b);\n",
       "            \n",
       "        \n",
       "\n",
       "        marker_63a9907c7766a1741383962b7e6bfe10.bindPopup(popup_eb083299a059b07196fe2dda31a3e826)\n",
       "        ;\n",
       "\n",
       "        \n",
       "    \n",
       "    \n",
       "                marker_63a9907c7766a1741383962b7e6bfe10.setIcon(custom_icon_39d09527cc3e896dd83dc2ca14f55052);\n",
       "            \n",
       "    \n",
       "            var marker_51a4158cbe1203cef67e2d2d321dad1f = L.marker(\n",
       "                [43.8374249, 4.3600687],\n",
       "                {\n",
       "}\n",
       "            ).addTo(map_fa5f40ff506bc0b2c716c23c09064b04);\n",
       "        \n",
       "    \n",
       "        var custom_icon_e03a717d31b23654d5dc50f013918275 = L.icon({\n",
       "  &quot;iconUrl&quot;: &quot;https://images.icon-icons.com/3565/PNG/512/tree_flower_plant_nature_landscape_icon_225325.png&quot;,\n",
       "  &quot;iconSize&quot;: [40, 40],\n",
       "});\n",
       "        marker_51a4158cbe1203cef67e2d2d321dad1f.setIcon(custom_icon_e03a717d31b23654d5dc50f013918275);\n",
       "        \n",
       "    \n",
       "        var popup_83b1e23bc61d49cf0f19b064699055c7 = L.popup({\n",
       "  &quot;maxWidth&quot;: &quot;100%&quot;,\n",
       "});\n",
       "\n",
       "        \n",
       "            \n",
       "                var html_ec9e0421ce1e5da623c1ff854e77576f = $(`&lt;div id=&quot;html_ec9e0421ce1e5da623c1ff854e77576f&quot; style=&quot;width: 100.0%; height: 100.0%;&quot;&gt;Nimes&lt;/div&gt;`)[0];\n",
       "                popup_83b1e23bc61d49cf0f19b064699055c7.setContent(html_ec9e0421ce1e5da623c1ff854e77576f);\n",
       "            \n",
       "        \n",
       "\n",
       "        marker_51a4158cbe1203cef67e2d2d321dad1f.bindPopup(popup_83b1e23bc61d49cf0f19b064699055c7)\n",
       "        ;\n",
       "\n",
       "        \n",
       "    \n",
       "    \n",
       "                marker_51a4158cbe1203cef67e2d2d321dad1f.setIcon(custom_icon_e03a717d31b23654d5dc50f013918275);\n",
       "            \n",
       "    \n",
       "            var marker_3ed028f1c6ffe074d495d1279148c576 = L.marker(\n",
       "                [43.5658225, 4.1912837],\n",
       "                {\n",
       "}\n",
       "            ).addTo(map_fa5f40ff506bc0b2c716c23c09064b04);\n",
       "        \n",
       "    \n",
       "        var custom_icon_fdb00158349d7dd9708bb6104db7979e = L.icon({\n",
       "  &quot;iconUrl&quot;: &quot;https://images.icon-icons.com/3565/PNG/512/tree_flower_plant_nature_landscape_icon_225325.png&quot;,\n",
       "  &quot;iconSize&quot;: [40, 40],\n",
       "});\n",
       "        marker_3ed028f1c6ffe074d495d1279148c576.setIcon(custom_icon_fdb00158349d7dd9708bb6104db7979e);\n",
       "        \n",
       "    \n",
       "        var popup_37ebdf3808544b1f6f9684d4df6cabbb = L.popup({\n",
       "  &quot;maxWidth&quot;: &quot;100%&quot;,\n",
       "});\n",
       "\n",
       "        \n",
       "            \n",
       "                var html_fdbe3edf6d88a3b7d0f71fcc4ea434f2 = $(`&lt;div id=&quot;html_fdbe3edf6d88a3b7d0f71fcc4ea434f2&quot; style=&quot;width: 100.0%; height: 100.0%;&quot;&gt;Aigues Mortes&lt;/div&gt;`)[0];\n",
       "                popup_37ebdf3808544b1f6f9684d4df6cabbb.setContent(html_fdbe3edf6d88a3b7d0f71fcc4ea434f2);\n",
       "            \n",
       "        \n",
       "\n",
       "        marker_3ed028f1c6ffe074d495d1279148c576.bindPopup(popup_37ebdf3808544b1f6f9684d4df6cabbb)\n",
       "        ;\n",
       "\n",
       "        \n",
       "    \n",
       "    \n",
       "                marker_3ed028f1c6ffe074d495d1279148c576.setIcon(custom_icon_fdb00158349d7dd9708bb6104db7979e);\n",
       "            \n",
       "    \n",
       "            var marker_618d4b067895c21d6a631b50afa3d079 = L.marker(\n",
       "                [43.4522771, 4.4287172],\n",
       "                {\n",
       "}\n",
       "            ).addTo(map_fa5f40ff506bc0b2c716c23c09064b04);\n",
       "        \n",
       "    \n",
       "        var custom_icon_0beabe0c39a0cc58f348eba8feeee5c2 = L.icon({\n",
       "  &quot;iconUrl&quot;: &quot;https://images.icon-icons.com/3565/PNG/512/tree_flower_plant_nature_landscape_icon_225325.png&quot;,\n",
       "  &quot;iconSize&quot;: [40, 40],\n",
       "});\n",
       "        marker_618d4b067895c21d6a631b50afa3d079.setIcon(custom_icon_0beabe0c39a0cc58f348eba8feeee5c2);\n",
       "        \n",
       "    \n",
       "        var popup_d1120479fa3f00ae0f459b46f920e50f = L.popup({\n",
       "  &quot;maxWidth&quot;: &quot;100%&quot;,\n",
       "});\n",
       "\n",
       "        \n",
       "            \n",
       "                var html_668cf8821220793253ca19b518c8ee70 = $(`&lt;div id=&quot;html_668cf8821220793253ca19b518c8ee70&quot; style=&quot;width: 100.0%; height: 100.0%;&quot;&gt;Saintes Maries de la mer&lt;/div&gt;`)[0];\n",
       "                popup_d1120479fa3f00ae0f459b46f920e50f.setContent(html_668cf8821220793253ca19b518c8ee70);\n",
       "            \n",
       "        \n",
       "\n",
       "        marker_618d4b067895c21d6a631b50afa3d079.bindPopup(popup_d1120479fa3f00ae0f459b46f920e50f)\n",
       "        ;\n",
       "\n",
       "        \n",
       "    \n",
       "    \n",
       "                marker_618d4b067895c21d6a631b50afa3d079.setIcon(custom_icon_0beabe0c39a0cc58f348eba8feeee5c2);\n",
       "            \n",
       "    \n",
       "            var marker_884700519cc053ee3bd0c6ac1ff97485 = L.marker(\n",
       "                [42.52505, 3.0831554],\n",
       "                {\n",
       "}\n",
       "            ).addTo(map_fa5f40ff506bc0b2c716c23c09064b04);\n",
       "        \n",
       "    \n",
       "        var custom_icon_fcd234d12615870523758b4513bbd2b8 = L.icon({\n",
       "  &quot;iconUrl&quot;: &quot;https://images.icon-icons.com/3565/PNG/512/tree_flower_plant_nature_landscape_icon_225325.png&quot;,\n",
       "  &quot;iconSize&quot;: [40, 40],\n",
       "});\n",
       "        marker_884700519cc053ee3bd0c6ac1ff97485.setIcon(custom_icon_fcd234d12615870523758b4513bbd2b8);\n",
       "        \n",
       "    \n",
       "        var popup_b232a0b2426c9f777be0f5e7e960fa82 = L.popup({\n",
       "  &quot;maxWidth&quot;: &quot;100%&quot;,\n",
       "});\n",
       "\n",
       "        \n",
       "            \n",
       "                var html_20643d203c65dbba47c9fb088ed74532 = $(`&lt;div id=&quot;html_20643d203c65dbba47c9fb088ed74532&quot; style=&quot;width: 100.0%; height: 100.0%;&quot;&gt;Collioure&lt;/div&gt;`)[0];\n",
       "                popup_b232a0b2426c9f777be0f5e7e960fa82.setContent(html_20643d203c65dbba47c9fb088ed74532);\n",
       "            \n",
       "        \n",
       "\n",
       "        marker_884700519cc053ee3bd0c6ac1ff97485.bindPopup(popup_b232a0b2426c9f777be0f5e7e960fa82)\n",
       "        ;\n",
       "\n",
       "        \n",
       "    \n",
       "    \n",
       "                marker_884700519cc053ee3bd0c6ac1ff97485.setIcon(custom_icon_fcd234d12615870523758b4513bbd2b8);\n",
       "            \n",
       "    \n",
       "            var marker_cef69ef03f6220b47f3fb9cd4dd0a0b2 = L.marker(\n",
       "                [43.2130358, 2.3491069],\n",
       "                {\n",
       "}\n",
       "            ).addTo(map_fa5f40ff506bc0b2c716c23c09064b04);\n",
       "        \n",
       "    \n",
       "        var custom_icon_8404e5c5ad44714ff28d16b477ad0acb = L.icon({\n",
       "  &quot;iconUrl&quot;: &quot;https://images.icon-icons.com/3565/PNG/512/tree_flower_plant_nature_landscape_icon_225325.png&quot;,\n",
       "  &quot;iconSize&quot;: [40, 40],\n",
       "});\n",
       "        marker_cef69ef03f6220b47f3fb9cd4dd0a0b2.setIcon(custom_icon_8404e5c5ad44714ff28d16b477ad0acb);\n",
       "        \n",
       "    \n",
       "        var popup_9ad42d5659c1e0edb4425ef7de5f79fd = L.popup({\n",
       "  &quot;maxWidth&quot;: &quot;100%&quot;,\n",
       "});\n",
       "\n",
       "        \n",
       "            \n",
       "                var html_1b5ac4a8cbdb65aa9ec05f5d136cb95d = $(`&lt;div id=&quot;html_1b5ac4a8cbdb65aa9ec05f5d136cb95d&quot; style=&quot;width: 100.0%; height: 100.0%;&quot;&gt;Carcassonne&lt;/div&gt;`)[0];\n",
       "                popup_9ad42d5659c1e0edb4425ef7de5f79fd.setContent(html_1b5ac4a8cbdb65aa9ec05f5d136cb95d);\n",
       "            \n",
       "        \n",
       "\n",
       "        marker_cef69ef03f6220b47f3fb9cd4dd0a0b2.bindPopup(popup_9ad42d5659c1e0edb4425ef7de5f79fd)\n",
       "        ;\n",
       "\n",
       "        \n",
       "    \n",
       "    \n",
       "                marker_cef69ef03f6220b47f3fb9cd4dd0a0b2.setIcon(custom_icon_8404e5c5ad44714ff28d16b477ad0acb);\n",
       "            \n",
       "    \n",
       "            var marker_e43f9af3a3232d311e1700edfcde9c4f = L.marker(\n",
       "                [42.8458016, 1.6067586],\n",
       "                {\n",
       "}\n",
       "            ).addTo(map_fa5f40ff506bc0b2c716c23c09064b04);\n",
       "        \n",
       "    \n",
       "        var custom_icon_00b4535c73ff36f0b6ec707948407784 = L.icon({\n",
       "  &quot;iconUrl&quot;: &quot;https://images.icon-icons.com/3565/PNG/512/tree_flower_plant_nature_landscape_icon_225325.png&quot;,\n",
       "  &quot;iconSize&quot;: [40, 40],\n",
       "});\n",
       "        marker_e43f9af3a3232d311e1700edfcde9c4f.setIcon(custom_icon_00b4535c73ff36f0b6ec707948407784);\n",
       "        \n",
       "    \n",
       "        var popup_5504186f1b2159b317278bb538abada5 = L.popup({\n",
       "  &quot;maxWidth&quot;: &quot;100%&quot;,\n",
       "});\n",
       "\n",
       "        \n",
       "            \n",
       "                var html_193d1436695649b124490dec67e1a8de = $(`&lt;div id=&quot;html_193d1436695649b124490dec67e1a8de&quot; style=&quot;width: 100.0%; height: 100.0%;&quot;&gt;Ariege&lt;/div&gt;`)[0];\n",
       "                popup_5504186f1b2159b317278bb538abada5.setContent(html_193d1436695649b124490dec67e1a8de);\n",
       "            \n",
       "        \n",
       "\n",
       "        marker_e43f9af3a3232d311e1700edfcde9c4f.bindPopup(popup_5504186f1b2159b317278bb538abada5)\n",
       "        ;\n",
       "\n",
       "        \n",
       "    \n",
       "    \n",
       "                marker_e43f9af3a3232d311e1700edfcde9c4f.setIcon(custom_icon_00b4535c73ff36f0b6ec707948407784);\n",
       "            \n",
       "    \n",
       "            var marker_f625ce11e4a594060bcdd0fd4bb8a732 = L.marker(\n",
       "                [43.6044622, 1.4442469],\n",
       "                {\n",
       "}\n",
       "            ).addTo(map_fa5f40ff506bc0b2c716c23c09064b04);\n",
       "        \n",
       "    \n",
       "        var custom_icon_3172c901a8587b630216fba294805480 = L.icon({\n",
       "  &quot;iconUrl&quot;: &quot;https://images.icon-icons.com/3565/PNG/512/tree_flower_plant_nature_landscape_icon_225325.png&quot;,\n",
       "  &quot;iconSize&quot;: [40, 40],\n",
       "});\n",
       "        marker_f625ce11e4a594060bcdd0fd4bb8a732.setIcon(custom_icon_3172c901a8587b630216fba294805480);\n",
       "        \n",
       "    \n",
       "        var popup_4e2769a14ab1f886ef2c3acb857388d5 = L.popup({\n",
       "  &quot;maxWidth&quot;: &quot;100%&quot;,\n",
       "});\n",
       "\n",
       "        \n",
       "            \n",
       "                var html_43bdf32eed0e2ab1d583ea161bc20af9 = $(`&lt;div id=&quot;html_43bdf32eed0e2ab1d583ea161bc20af9&quot; style=&quot;width: 100.0%; height: 100.0%;&quot;&gt;Toulouse&lt;/div&gt;`)[0];\n",
       "                popup_4e2769a14ab1f886ef2c3acb857388d5.setContent(html_43bdf32eed0e2ab1d583ea161bc20af9);\n",
       "            \n",
       "        \n",
       "\n",
       "        marker_f625ce11e4a594060bcdd0fd4bb8a732.bindPopup(popup_4e2769a14ab1f886ef2c3acb857388d5)\n",
       "        ;\n",
       "\n",
       "        \n",
       "    \n",
       "    \n",
       "                marker_f625ce11e4a594060bcdd0fd4bb8a732.setIcon(custom_icon_3172c901a8587b630216fba294805480);\n",
       "            \n",
       "    \n",
       "            var marker_c08349b9acd10fe885c5a3f52fdb806d = L.marker(\n",
       "                [44.0175835, 1.3549991],\n",
       "                {\n",
       "}\n",
       "            ).addTo(map_fa5f40ff506bc0b2c716c23c09064b04);\n",
       "        \n",
       "    \n",
       "        var custom_icon_bbec30eead75264d4e7d742636eb4083 = L.icon({\n",
       "  &quot;iconUrl&quot;: &quot;https://images.icon-icons.com/3565/PNG/512/tree_flower_plant_nature_landscape_icon_225325.png&quot;,\n",
       "  &quot;iconSize&quot;: [40, 40],\n",
       "});\n",
       "        marker_c08349b9acd10fe885c5a3f52fdb806d.setIcon(custom_icon_bbec30eead75264d4e7d742636eb4083);\n",
       "        \n",
       "    \n",
       "        var popup_ada3f28200f35369e6f72067db33a68e = L.popup({\n",
       "  &quot;maxWidth&quot;: &quot;100%&quot;,\n",
       "});\n",
       "\n",
       "        \n",
       "            \n",
       "                var html_8d8d68d39f2bc0fe23a4cf2df9a859bc = $(`&lt;div id=&quot;html_8d8d68d39f2bc0fe23a4cf2df9a859bc&quot; style=&quot;width: 100.0%; height: 100.0%;&quot;&gt;Montauban&lt;/div&gt;`)[0];\n",
       "                popup_ada3f28200f35369e6f72067db33a68e.setContent(html_8d8d68d39f2bc0fe23a4cf2df9a859bc);\n",
       "            \n",
       "        \n",
       "\n",
       "        marker_c08349b9acd10fe885c5a3f52fdb806d.bindPopup(popup_ada3f28200f35369e6f72067db33a68e)\n",
       "        ;\n",
       "\n",
       "        \n",
       "    \n",
       "    \n",
       "                marker_c08349b9acd10fe885c5a3f52fdb806d.setIcon(custom_icon_bbec30eead75264d4e7d742636eb4083);\n",
       "            \n",
       "    \n",
       "            var marker_d6d2add4746d5e1ce92d797b69a8a7db = L.marker(\n",
       "                [43.4832523, -1.5592776],\n",
       "                {\n",
       "}\n",
       "            ).addTo(map_fa5f40ff506bc0b2c716c23c09064b04);\n",
       "        \n",
       "    \n",
       "        var custom_icon_59572f827c76886329273443bdc914f7 = L.icon({\n",
       "  &quot;iconUrl&quot;: &quot;https://images.icon-icons.com/3565/PNG/512/tree_flower_plant_nature_landscape_icon_225325.png&quot;,\n",
       "  &quot;iconSize&quot;: [40, 40],\n",
       "});\n",
       "        marker_d6d2add4746d5e1ce92d797b69a8a7db.setIcon(custom_icon_59572f827c76886329273443bdc914f7);\n",
       "        \n",
       "    \n",
       "        var popup_134fb1f4c6831b8781c527b01316e17d = L.popup({\n",
       "  &quot;maxWidth&quot;: &quot;100%&quot;,\n",
       "});\n",
       "\n",
       "        \n",
       "            \n",
       "                var html_fc9bf5f538fb949f02bbc6357a99b0b4 = $(`&lt;div id=&quot;html_fc9bf5f538fb949f02bbc6357a99b0b4&quot; style=&quot;width: 100.0%; height: 100.0%;&quot;&gt;Biarritz&lt;/div&gt;`)[0];\n",
       "                popup_134fb1f4c6831b8781c527b01316e17d.setContent(html_fc9bf5f538fb949f02bbc6357a99b0b4);\n",
       "            \n",
       "        \n",
       "\n",
       "        marker_d6d2add4746d5e1ce92d797b69a8a7db.bindPopup(popup_134fb1f4c6831b8781c527b01316e17d)\n",
       "        ;\n",
       "\n",
       "        \n",
       "    \n",
       "    \n",
       "                marker_d6d2add4746d5e1ce92d797b69a8a7db.setIcon(custom_icon_59572f827c76886329273443bdc914f7);\n",
       "            \n",
       "    \n",
       "            var marker_2f1cdbed57f233fb2cca30176c4d91b2 = L.marker(\n",
       "                [43.4945144, -1.4736657],\n",
       "                {\n",
       "}\n",
       "            ).addTo(map_fa5f40ff506bc0b2c716c23c09064b04);\n",
       "        \n",
       "    \n",
       "        var custom_icon_35fec2cc04fe6fd6ebb95f30a6db0fcc = L.icon({\n",
       "  &quot;iconUrl&quot;: &quot;https://images.icon-icons.com/3565/PNG/512/tree_flower_plant_nature_landscape_icon_225325.png&quot;,\n",
       "  &quot;iconSize&quot;: [40, 40],\n",
       "});\n",
       "        marker_2f1cdbed57f233fb2cca30176c4d91b2.setIcon(custom_icon_35fec2cc04fe6fd6ebb95f30a6db0fcc);\n",
       "        \n",
       "    \n",
       "        var popup_2a4a292db70be03b04bc8a381b6fffa2 = L.popup({\n",
       "  &quot;maxWidth&quot;: &quot;100%&quot;,\n",
       "});\n",
       "\n",
       "        \n",
       "            \n",
       "                var html_c7515525f9611cb48b2cb4a5f597bf50 = $(`&lt;div id=&quot;html_c7515525f9611cb48b2cb4a5f597bf50&quot; style=&quot;width: 100.0%; height: 100.0%;&quot;&gt;Bayonne&lt;/div&gt;`)[0];\n",
       "                popup_2a4a292db70be03b04bc8a381b6fffa2.setContent(html_c7515525f9611cb48b2cb4a5f597bf50);\n",
       "            \n",
       "        \n",
       "\n",
       "        marker_2f1cdbed57f233fb2cca30176c4d91b2.bindPopup(popup_2a4a292db70be03b04bc8a381b6fffa2)\n",
       "        ;\n",
       "\n",
       "        \n",
       "    \n",
       "    \n",
       "                marker_2f1cdbed57f233fb2cca30176c4d91b2.setIcon(custom_icon_35fec2cc04fe6fd6ebb95f30a6db0fcc);\n",
       "            \n",
       "    \n",
       "            var marker_1069a245a1682e340dfbc5251e0e4c1c = L.marker(\n",
       "                [46.1591126, -1.1520434],\n",
       "                {\n",
       "}\n",
       "            ).addTo(map_fa5f40ff506bc0b2c716c23c09064b04);\n",
       "        \n",
       "    \n",
       "        var custom_icon_580e066e31d9d6997385edd8e8bf30f9 = L.icon({\n",
       "  &quot;iconUrl&quot;: &quot;https://images.icon-icons.com/3565/PNG/512/tree_flower_plant_nature_landscape_icon_225325.png&quot;,\n",
       "  &quot;iconSize&quot;: [40, 40],\n",
       "});\n",
       "        marker_1069a245a1682e340dfbc5251e0e4c1c.setIcon(custom_icon_580e066e31d9d6997385edd8e8bf30f9);\n",
       "        \n",
       "    \n",
       "        var popup_cc1c67fea92d63da82b25f4c0267d119 = L.popup({\n",
       "  &quot;maxWidth&quot;: &quot;100%&quot;,\n",
       "});\n",
       "\n",
       "        \n",
       "            \n",
       "                var html_f47835eeebe5d558c2f0ba4619cee058 = $(`&lt;div id=&quot;html_f47835eeebe5d558c2f0ba4619cee058&quot; style=&quot;width: 100.0%; height: 100.0%;&quot;&gt;La Rochelle&lt;/div&gt;`)[0];\n",
       "                popup_cc1c67fea92d63da82b25f4c0267d119.setContent(html_f47835eeebe5d558c2f0ba4619cee058);\n",
       "            \n",
       "        \n",
       "\n",
       "        marker_1069a245a1682e340dfbc5251e0e4c1c.bindPopup(popup_cc1c67fea92d63da82b25f4c0267d119)\n",
       "        ;\n",
       "\n",
       "        \n",
       "    \n",
       "    \n",
       "                marker_1069a245a1682e340dfbc5251e0e4c1c.setIcon(custom_icon_580e066e31d9d6997385edd8e8bf30f9);\n",
       "            \n",
       "    \n",
       "            var marker_b9c02b6b7e6f457b17a38059f76af675 = L.marker(\n",
       "                [43.7496562, 6.3285616],\n",
       "                {\n",
       "}\n",
       "            ).addTo(map_fa5f40ff506bc0b2c716c23c09064b04);\n",
       "        \n",
       "    \n",
       "        var custom_icon_339a722a72a5ef6bfc3238e6b850afde = L.icon({\n",
       "  &quot;iconUrl&quot;: &quot;https://images.icon-icons.com/3565/PNG/512/tree_flower_plant_nature_landscape_icon_225325.png&quot;,\n",
       "  &quot;iconSize&quot;: [40, 40],\n",
       "});\n",
       "        marker_b9c02b6b7e6f457b17a38059f76af675.setIcon(custom_icon_339a722a72a5ef6bfc3238e6b850afde);\n",
       "        \n",
       "    \n",
       "        var popup_77382603fb98daf852bf3b5d3dab8e71 = L.popup({\n",
       "  &quot;maxWidth&quot;: &quot;100%&quot;,\n",
       "});\n",
       "\n",
       "        \n",
       "            \n",
       "                var html_695433ddd18d83f5a3293fe7afbfe6cb = $(`&lt;div id=&quot;html_695433ddd18d83f5a3293fe7afbfe6cb&quot; style=&quot;width: 100.0%; height: 100.0%;&quot;&gt;Gorges du Verdon&lt;/div&gt;`)[0];\n",
       "                popup_77382603fb98daf852bf3b5d3dab8e71.setContent(html_695433ddd18d83f5a3293fe7afbfe6cb);\n",
       "            \n",
       "        \n",
       "\n",
       "        marker_b9c02b6b7e6f457b17a38059f76af675.bindPopup(popup_77382603fb98daf852bf3b5d3dab8e71)\n",
       "        ;\n",
       "\n",
       "        \n",
       "    \n",
       "    \n",
       "                marker_b9c02b6b7e6f457b17a38059f76af675.setIcon(custom_icon_339a722a72a5ef6bfc3238e6b850afde);\n",
       "            \n",
       "    \n",
       "            tile_layer_c00506c1425421fa6eda27a0a8172a95.addTo(map_fa5f40ff506bc0b2c716c23c09064b04);\n",
       "        \n",
       "    \n",
       "                marker_b8bf002320cf4be7995fba7849ddf287.setIcon(custom_icon_547f6b35718b13f84bf1286a41dc2c8f);\n",
       "            \n",
       "    \n",
       "                marker_9ed9c189ee1d05f593825c473b3dffb7.setIcon(custom_icon_9acd811205534aa1abc72e3086572bb2);\n",
       "            \n",
       "    \n",
       "                marker_dcffcf8d5fde2f5a4ee2110664fbfc7b.setIcon(custom_icon_50a971ebd65843398f828c1468bc4dd7);\n",
       "            \n",
       "    \n",
       "                marker_3d3110fccaef9f9f923c6538cde5c2b0.setIcon(custom_icon_1d7f49b4fdcffd954b926e66a2382e41);\n",
       "            \n",
       "    \n",
       "                marker_967b2970e4ce138aaf42b9e1260c6c65.setIcon(custom_icon_23b6e4cdcef710ea463ce947d323b54f);\n",
       "            \n",
       "    \n",
       "                marker_f96b5d9dc873a9c4bdde60287c4d2b25.setIcon(custom_icon_6ff9bdc6cf98276345f2054e00ffb91f);\n",
       "            \n",
       "    \n",
       "                marker_62cdabbf33a4d99d5b3064e95485ac17.setIcon(custom_icon_ddb058146c737a9b941518202f5b5835);\n",
       "            \n",
       "    \n",
       "                marker_fc37b86c8ebe4e4fc1ecf77b9e82da61.setIcon(custom_icon_8e5582d30cae6f61edc13a23177ac09a);\n",
       "            \n",
       "    \n",
       "                marker_4f9a593939d209c57180131e7e2b5ca6.setIcon(custom_icon_3835522b0cb9d176a8833807bbd036d2);\n",
       "            \n",
       "    \n",
       "                marker_170e8e00e5800a03c7762876a617b97f.setIcon(custom_icon_b8c85bde5a7553ba3fae8d9aae64f91a);\n",
       "            \n",
       "    \n",
       "                marker_6e7ed4d40e45ecb9dd8d089e39f556a6.setIcon(custom_icon_4b3066770d3fa809cc6799490e513918);\n",
       "            \n",
       "    \n",
       "                marker_8abd91c098cbb4058c0051a9fd866624.setIcon(custom_icon_5b917298825bd4350fc42497dd24be7d);\n",
       "            \n",
       "    \n",
       "                marker_76380a6d207ed1acde70450e81c0c1f2.setIcon(custom_icon_a494324944662c5df7d9b31032a6d34c);\n",
       "            \n",
       "    \n",
       "                marker_44c7505c1352049d87443499bd36ba5f.setIcon(custom_icon_46942be9c10383a038c1e0e078151921);\n",
       "            \n",
       "    \n",
       "                marker_4e45976eda247673bc9fd6e8371c2dc5.setIcon(custom_icon_08d34719134b5752c337adc61406b2ce);\n",
       "            \n",
       "    \n",
       "                marker_28b4167d3c3dac76e0d0a57b4d2990fa.setIcon(custom_icon_194eede36fff98a8c77099ea05d94362);\n",
       "            \n",
       "    \n",
       "                marker_fcf6a3e7b318db955b8918c491d8cf73.setIcon(custom_icon_7c6774c97324bb6640f3281b5b47906d);\n",
       "            \n",
       "    \n",
       "                marker_08b1c53ba6bab69f54aecb14f8847da5.setIcon(custom_icon_b0d03160059786107f714f5f14d23925);\n",
       "            \n",
       "    \n",
       "                marker_8f1babd8555bf973eaadd68c01f973ca.setIcon(custom_icon_b839d85965250a1ce17cba248b0af2c0);\n",
       "            \n",
       "    \n",
       "                marker_9dea22c070558215355f752bd54a7e47.setIcon(custom_icon_e2d61f429503fd43696135eb3f16316b);\n",
       "            \n",
       "    \n",
       "                marker_74330f3d96e06742849f111beac020b7.setIcon(custom_icon_ce8974bf8d76ad94635df1116bef6f7c);\n",
       "            \n",
       "    \n",
       "                marker_0865df443de9bb3e4c9f7c9cbfe64354.setIcon(custom_icon_899cd58f98656f74c46c761112ab512d);\n",
       "            \n",
       "    \n",
       "                marker_63a9907c7766a1741383962b7e6bfe10.setIcon(custom_icon_39d09527cc3e896dd83dc2ca14f55052);\n",
       "            \n",
       "    \n",
       "                marker_51a4158cbe1203cef67e2d2d321dad1f.setIcon(custom_icon_e03a717d31b23654d5dc50f013918275);\n",
       "            \n",
       "    \n",
       "                marker_3ed028f1c6ffe074d495d1279148c576.setIcon(custom_icon_fdb00158349d7dd9708bb6104db7979e);\n",
       "            \n",
       "    \n",
       "                marker_618d4b067895c21d6a631b50afa3d079.setIcon(custom_icon_0beabe0c39a0cc58f348eba8feeee5c2);\n",
       "            \n",
       "    \n",
       "                marker_884700519cc053ee3bd0c6ac1ff97485.setIcon(custom_icon_fcd234d12615870523758b4513bbd2b8);\n",
       "            \n",
       "    \n",
       "                marker_cef69ef03f6220b47f3fb9cd4dd0a0b2.setIcon(custom_icon_8404e5c5ad44714ff28d16b477ad0acb);\n",
       "            \n",
       "    \n",
       "                marker_e43f9af3a3232d311e1700edfcde9c4f.setIcon(custom_icon_00b4535c73ff36f0b6ec707948407784);\n",
       "            \n",
       "    \n",
       "                marker_f625ce11e4a594060bcdd0fd4bb8a732.setIcon(custom_icon_3172c901a8587b630216fba294805480);\n",
       "            \n",
       "    \n",
       "                marker_c08349b9acd10fe885c5a3f52fdb806d.setIcon(custom_icon_bbec30eead75264d4e7d742636eb4083);\n",
       "            \n",
       "    \n",
       "                marker_d6d2add4746d5e1ce92d797b69a8a7db.setIcon(custom_icon_59572f827c76886329273443bdc914f7);\n",
       "            \n",
       "    \n",
       "                marker_2f1cdbed57f233fb2cca30176c4d91b2.setIcon(custom_icon_35fec2cc04fe6fd6ebb95f30a6db0fcc);\n",
       "            \n",
       "    \n",
       "                marker_1069a245a1682e340dfbc5251e0e4c1c.setIcon(custom_icon_580e066e31d9d6997385edd8e8bf30f9);\n",
       "            \n",
       "    \n",
       "                marker_b9c02b6b7e6f457b17a38059f76af675.setIcon(custom_icon_339a722a72a5ef6bfc3238e6b850afde);\n",
       "            \n",
       "&lt;/script&gt;\n",
       "&lt;/html&gt;\" style=\"position:absolute;width:100%;height:100%;left:0;top:0;border:none !important;\" allowfullscreen webkitallowfullscreen mozallowfullscreen></iframe></div></div>"
      ],
      "text/plain": [
       "<folium.folium.Map at 0x1e6a25a0be0>"
      ]
     },
     "execution_count": 239,
     "metadata": {},
     "output_type": "execute_result"
    }
   ],
   "source": [
    "# Création d'une carte pour visualiser les 35 best cities/points d'intérêts et leur localisation exacte\n",
    "map = folium.Map(location=[46.603354, 1.888334], zoom_start=6)\n",
    "\n",
    "# Définir le marker \n",
    "icon_url = \"https://images.icon-icons.com/3565/PNG/512/tree_flower_plant_nature_landscape_icon_225325.png\"\n",
    "\n",
    "# Ajouter les villes à la carte\n",
    "for i, row in df_merged.iterrows():\n",
    "    folium.Marker(\n",
    "        location=[row['lat'], row['lon']],\n",
    "        popup=row['cities'],\n",
    "        icon=folium.CustomIcon(icon_url, icon_size=(40, 40))  # Ajustez la taille de l'icône si nécessaire\n",
    "    ).add_to(map)\n",
    "\n",
    "# Sauvegarder la carte dans un fichier HTML\n",
    "map.save('maps/map_best_city.html')\n",
    "\n",
    "# Afficher la carte\n",
    "map"
   ]
  },
  {
   "cell_type": "code",
   "execution_count": 240,
   "metadata": {},
   "outputs": [],
   "source": [
    "# Enregistrement du DataFrame fusionné en fichier CSV\n",
    "df_merged.to_csv('data/best_cities_merged.csv', index=False)"
   ]
  },
  {
   "cell_type": "markdown",
   "metadata": {},
   "source": [
    "## Import des informations météo"
   ]
  },
  {
   "cell_type": "code",
   "execution_count": 306,
   "metadata": {},
   "outputs": [],
   "source": [
    "df=pd.read_csv(\"data/best_cities_merged.csv\")"
   ]
  },
  {
   "cell_type": "code",
   "execution_count": 307,
   "metadata": {},
   "outputs": [
    {
     "data": {
      "text/plain": [
       "<Response [200]>"
      ]
     },
     "execution_count": 307,
     "metadata": {},
     "output_type": "execute_result"
    }
   ],
   "source": [
    "url = f\"https://api.openweathermap.org/data/3.0/onecall?lat={df.loc[0, 'lat']}&lon={df.loc[0, 'lon']}&units=metric&exclude=hourly,daily&appid={Open_Weather_API_Key_Myriam}\"\n",
    "\n",
    "r = requests.get(url)\n",
    "data = r.json()\n",
    "r"
   ]
  },
  {
   "cell_type": "code",
   "execution_count": 308,
   "metadata": {},
   "outputs": [],
   "source": [
    "# import des informations météorologiques importantes\n",
    "for i in df.index:\n",
    "    lat = df.loc[i, 'lat']\n",
    "    lon = df.loc[i, 'lon']\n",
    "\n",
    "    url = f\"https://api.openweathermap.org/data/3.0/onecall?lat={lat}&lon={lon}&units=metric&exclude=hourly,daily&appid={Open_Weather_API_Key_Myriam}\"\n",
    "\n",
    "    r = requests.get(url)\n",
    "\n",
    "    if r.status_code == 200:\n",
    "        data = r.json()\n",
    "  \n",
    "        df.loc[i,\"date\"] = data[\"current\"][\"dt\"]\n",
    "        df.loc[i, \"temp\"] = data[\"current\"][\"temp\"]\n",
    "        df.loc[i, \"feels_like\"] = data[\"current\"][\"feels_like\"]\n",
    "        df.loc[i, \"uvi\"] = data[\"current\"][\"uvi\"]\n",
    "        df.loc[i, \"humidity\"] = data[\"current\"][\"humidity\"]\n",
    "        df.loc[i, \"wind_speed\"] = data[\"current\"][\"wind_speed\"]\n",
    "        df.loc[i, \"description\"] = data[\"current\"][\"weather\"][0][\"description\"]\n",
    "        \n",
    "    else:\n",
    "        print(f\"Erreur lors de la requête pour l'index {i} : {r.status_code}\")\n",
    "        print(r.text)  # Imprime le message d'erreur pour plus de détails\n",
    "\n"
   ]
  },
  {
   "cell_type": "code",
   "execution_count": 309,
   "metadata": {},
   "outputs": [
    {
     "data": {
      "text/html": [
       "<div>\n",
       "<style scoped>\n",
       "    .dataframe tbody tr th:only-of-type {\n",
       "        vertical-align: middle;\n",
       "    }\n",
       "\n",
       "    .dataframe tbody tr th {\n",
       "        vertical-align: top;\n",
       "    }\n",
       "\n",
       "    .dataframe thead th {\n",
       "        text-align: right;\n",
       "    }\n",
       "</style>\n",
       "<table border=\"1\" class=\"dataframe\">\n",
       "  <thead>\n",
       "    <tr style=\"text-align: right;\">\n",
       "      <th></th>\n",
       "      <th>cities</th>\n",
       "      <th>name</th>\n",
       "      <th>country</th>\n",
       "      <th>state</th>\n",
       "      <th>lat</th>\n",
       "      <th>lon</th>\n",
       "      <th>date</th>\n",
       "      <th>temp</th>\n",
       "      <th>feels_like</th>\n",
       "      <th>uvi</th>\n",
       "      <th>humidity</th>\n",
       "      <th>wind_speed</th>\n",
       "      <th>description</th>\n",
       "    </tr>\n",
       "  </thead>\n",
       "  <tbody>\n",
       "    <tr>\n",
       "      <th>0</th>\n",
       "      <td>Mont Saint Michel</td>\n",
       "      <td>Mont Saint-Michel</td>\n",
       "      <td>FR</td>\n",
       "      <td>Normandy</td>\n",
       "      <td>48.635954</td>\n",
       "      <td>-1.511460</td>\n",
       "      <td>1.745435e+09</td>\n",
       "      <td>10.27</td>\n",
       "      <td>9.81</td>\n",
       "      <td>0.0</td>\n",
       "      <td>94.0</td>\n",
       "      <td>3.84</td>\n",
       "      <td>clear sky</td>\n",
       "    </tr>\n",
       "    <tr>\n",
       "      <th>1</th>\n",
       "      <td>St Malo</td>\n",
       "      <td>Saint-Malo</td>\n",
       "      <td>FR</td>\n",
       "      <td>Brittany</td>\n",
       "      <td>48.649518</td>\n",
       "      <td>-2.026041</td>\n",
       "      <td>1.745435e+09</td>\n",
       "      <td>12.29</td>\n",
       "      <td>11.72</td>\n",
       "      <td>0.0</td>\n",
       "      <td>82.0</td>\n",
       "      <td>4.63</td>\n",
       "      <td>overcast clouds</td>\n",
       "    </tr>\n",
       "    <tr>\n",
       "      <th>2</th>\n",
       "      <td>Bayeux</td>\n",
       "      <td>Bayeux</td>\n",
       "      <td>FR</td>\n",
       "      <td>Normandy</td>\n",
       "      <td>49.276462</td>\n",
       "      <td>-0.702474</td>\n",
       "      <td>1.745435e+09</td>\n",
       "      <td>12.14</td>\n",
       "      <td>11.66</td>\n",
       "      <td>0.0</td>\n",
       "      <td>86.0</td>\n",
       "      <td>4.97</td>\n",
       "      <td>overcast clouds</td>\n",
       "    </tr>\n",
       "    <tr>\n",
       "      <th>3</th>\n",
       "      <td>Le Havre</td>\n",
       "      <td>Le Havre</td>\n",
       "      <td>FR</td>\n",
       "      <td>Normandy</td>\n",
       "      <td>49.493898</td>\n",
       "      <td>0.107973</td>\n",
       "      <td>1.745435e+09</td>\n",
       "      <td>11.51</td>\n",
       "      <td>10.99</td>\n",
       "      <td>0.0</td>\n",
       "      <td>87.0</td>\n",
       "      <td>5.14</td>\n",
       "      <td>overcast clouds</td>\n",
       "    </tr>\n",
       "    <tr>\n",
       "      <th>4</th>\n",
       "      <td>Rouen</td>\n",
       "      <td>Rouen</td>\n",
       "      <td>FR</td>\n",
       "      <td>Normandy</td>\n",
       "      <td>49.440459</td>\n",
       "      <td>1.093966</td>\n",
       "      <td>1.745435e+09</td>\n",
       "      <td>12.80</td>\n",
       "      <td>12.12</td>\n",
       "      <td>0.0</td>\n",
       "      <td>76.0</td>\n",
       "      <td>3.60</td>\n",
       "      <td>overcast clouds</td>\n",
       "    </tr>\n",
       "  </tbody>\n",
       "</table>\n",
       "</div>"
      ],
      "text/plain": [
       "              cities               name country     state        lat  \\\n",
       "0  Mont Saint Michel  Mont Saint-Michel      FR  Normandy  48.635954   \n",
       "1            St Malo         Saint-Malo      FR  Brittany  48.649518   \n",
       "2             Bayeux             Bayeux      FR  Normandy  49.276462   \n",
       "3           Le Havre           Le Havre      FR  Normandy  49.493898   \n",
       "4              Rouen              Rouen      FR  Normandy  49.440459   \n",
       "\n",
       "        lon          date   temp  feels_like  uvi  humidity  wind_speed  \\\n",
       "0 -1.511460  1.745435e+09  10.27        9.81  0.0      94.0        3.84   \n",
       "1 -2.026041  1.745435e+09  12.29       11.72  0.0      82.0        4.63   \n",
       "2 -0.702474  1.745435e+09  12.14       11.66  0.0      86.0        4.97   \n",
       "3  0.107973  1.745435e+09  11.51       10.99  0.0      87.0        5.14   \n",
       "4  1.093966  1.745435e+09  12.80       12.12  0.0      76.0        3.60   \n",
       "\n",
       "       description  \n",
       "0        clear sky  \n",
       "1  overcast clouds  \n",
       "2  overcast clouds  \n",
       "3  overcast clouds  \n",
       "4  overcast clouds  "
      ]
     },
     "execution_count": 309,
     "metadata": {},
     "output_type": "execute_result"
    }
   ],
   "source": [
    "df.head()"
   ]
  },
  {
   "cell_type": "code",
   "execution_count": 310,
   "metadata": {},
   "outputs": [
    {
     "data": {
      "text/html": [
       "<div>\n",
       "<style scoped>\n",
       "    .dataframe tbody tr th:only-of-type {\n",
       "        vertical-align: middle;\n",
       "    }\n",
       "\n",
       "    .dataframe tbody tr th {\n",
       "        vertical-align: top;\n",
       "    }\n",
       "\n",
       "    .dataframe thead th {\n",
       "        text-align: right;\n",
       "    }\n",
       "</style>\n",
       "<table border=\"1\" class=\"dataframe\">\n",
       "  <thead>\n",
       "    <tr style=\"text-align: right;\">\n",
       "      <th></th>\n",
       "      <th>cities</th>\n",
       "      <th>name</th>\n",
       "      <th>country</th>\n",
       "      <th>state</th>\n",
       "      <th>lat</th>\n",
       "      <th>lon</th>\n",
       "      <th>date</th>\n",
       "      <th>temp</th>\n",
       "      <th>feels_like</th>\n",
       "      <th>uvi</th>\n",
       "      <th>humidity</th>\n",
       "      <th>wind_speed</th>\n",
       "      <th>description</th>\n",
       "    </tr>\n",
       "  </thead>\n",
       "  <tbody>\n",
       "    <tr>\n",
       "      <th>0</th>\n",
       "      <td>Mont Saint Michel</td>\n",
       "      <td>Mont Saint-Michel</td>\n",
       "      <td>FR</td>\n",
       "      <td>Normandy</td>\n",
       "      <td>48.635954</td>\n",
       "      <td>-1.511460</td>\n",
       "      <td>2025-04-23 18:58:21</td>\n",
       "      <td>10.27</td>\n",
       "      <td>9.81</td>\n",
       "      <td>0.0</td>\n",
       "      <td>94.0</td>\n",
       "      <td>3.84</td>\n",
       "      <td>clear sky</td>\n",
       "    </tr>\n",
       "    <tr>\n",
       "      <th>1</th>\n",
       "      <td>St Malo</td>\n",
       "      <td>Saint-Malo</td>\n",
       "      <td>FR</td>\n",
       "      <td>Brittany</td>\n",
       "      <td>48.649518</td>\n",
       "      <td>-2.026041</td>\n",
       "      <td>2025-04-23 18:58:22</td>\n",
       "      <td>12.29</td>\n",
       "      <td>11.72</td>\n",
       "      <td>0.0</td>\n",
       "      <td>82.0</td>\n",
       "      <td>4.63</td>\n",
       "      <td>overcast clouds</td>\n",
       "    </tr>\n",
       "    <tr>\n",
       "      <th>2</th>\n",
       "      <td>Bayeux</td>\n",
       "      <td>Bayeux</td>\n",
       "      <td>FR</td>\n",
       "      <td>Normandy</td>\n",
       "      <td>49.276462</td>\n",
       "      <td>-0.702474</td>\n",
       "      <td>2025-04-23 18:58:22</td>\n",
       "      <td>12.14</td>\n",
       "      <td>11.66</td>\n",
       "      <td>0.0</td>\n",
       "      <td>86.0</td>\n",
       "      <td>4.97</td>\n",
       "      <td>overcast clouds</td>\n",
       "    </tr>\n",
       "    <tr>\n",
       "      <th>3</th>\n",
       "      <td>Le Havre</td>\n",
       "      <td>Le Havre</td>\n",
       "      <td>FR</td>\n",
       "      <td>Normandy</td>\n",
       "      <td>49.493898</td>\n",
       "      <td>0.107973</td>\n",
       "      <td>2025-04-23 18:58:22</td>\n",
       "      <td>11.51</td>\n",
       "      <td>10.99</td>\n",
       "      <td>0.0</td>\n",
       "      <td>87.0</td>\n",
       "      <td>5.14</td>\n",
       "      <td>overcast clouds</td>\n",
       "    </tr>\n",
       "    <tr>\n",
       "      <th>4</th>\n",
       "      <td>Rouen</td>\n",
       "      <td>Rouen</td>\n",
       "      <td>FR</td>\n",
       "      <td>Normandy</td>\n",
       "      <td>49.440459</td>\n",
       "      <td>1.093966</td>\n",
       "      <td>2025-04-23 18:58:22</td>\n",
       "      <td>12.80</td>\n",
       "      <td>12.12</td>\n",
       "      <td>0.0</td>\n",
       "      <td>76.0</td>\n",
       "      <td>3.60</td>\n",
       "      <td>overcast clouds</td>\n",
       "    </tr>\n",
       "  </tbody>\n",
       "</table>\n",
       "</div>"
      ],
      "text/plain": [
       "              cities               name country     state        lat  \\\n",
       "0  Mont Saint Michel  Mont Saint-Michel      FR  Normandy  48.635954   \n",
       "1            St Malo         Saint-Malo      FR  Brittany  48.649518   \n",
       "2             Bayeux             Bayeux      FR  Normandy  49.276462   \n",
       "3           Le Havre           Le Havre      FR  Normandy  49.493898   \n",
       "4              Rouen              Rouen      FR  Normandy  49.440459   \n",
       "\n",
       "        lon                date   temp  feels_like  uvi  humidity  wind_speed  \\\n",
       "0 -1.511460 2025-04-23 18:58:21  10.27        9.81  0.0      94.0        3.84   \n",
       "1 -2.026041 2025-04-23 18:58:22  12.29       11.72  0.0      82.0        4.63   \n",
       "2 -0.702474 2025-04-23 18:58:22  12.14       11.66  0.0      86.0        4.97   \n",
       "3  0.107973 2025-04-23 18:58:22  11.51       10.99  0.0      87.0        5.14   \n",
       "4  1.093966 2025-04-23 18:58:22  12.80       12.12  0.0      76.0        3.60   \n",
       "\n",
       "       description  \n",
       "0        clear sky  \n",
       "1  overcast clouds  \n",
       "2  overcast clouds  \n",
       "3  overcast clouds  \n",
       "4  overcast clouds  "
      ]
     },
     "execution_count": 310,
     "metadata": {},
     "output_type": "execute_result"
    }
   ],
   "source": [
    "#conversion de la colonne date en formation datetime\n",
    "df['date'] = pd.to_datetime(df['date'], unit='s')\n",
    "df.head()"
   ]
  },
  {
   "cell_type": "code",
   "execution_count": 311,
   "metadata": {},
   "outputs": [],
   "source": [
    "# Enregistrer le DataFrame en fichier CSV\n",
    "df.to_csv('data/best_cities_weather.csv', index=False)"
   ]
  },
  {
   "cell_type": "markdown",
   "metadata": {},
   "source": [
    "# Rapide EDA "
   ]
  },
  {
   "cell_type": "code",
   "execution_count": 312,
   "metadata": {},
   "outputs": [
    {
     "data": {
      "text/html": [
       "<div>\n",
       "<style scoped>\n",
       "    .dataframe tbody tr th:only-of-type {\n",
       "        vertical-align: middle;\n",
       "    }\n",
       "\n",
       "    .dataframe tbody tr th {\n",
       "        vertical-align: top;\n",
       "    }\n",
       "\n",
       "    .dataframe thead th {\n",
       "        text-align: right;\n",
       "    }\n",
       "</style>\n",
       "<table border=\"1\" class=\"dataframe\">\n",
       "  <thead>\n",
       "    <tr style=\"text-align: right;\">\n",
       "      <th></th>\n",
       "      <th>cities</th>\n",
       "      <th>name</th>\n",
       "      <th>country</th>\n",
       "      <th>state</th>\n",
       "      <th>lat</th>\n",
       "      <th>lon</th>\n",
       "      <th>date</th>\n",
       "      <th>temp</th>\n",
       "      <th>feels_like</th>\n",
       "      <th>uvi</th>\n",
       "      <th>humidity</th>\n",
       "      <th>wind_speed</th>\n",
       "      <th>description</th>\n",
       "    </tr>\n",
       "  </thead>\n",
       "  <tbody>\n",
       "    <tr>\n",
       "      <th>0</th>\n",
       "      <td>Mont Saint Michel</td>\n",
       "      <td>Mont Saint-Michel</td>\n",
       "      <td>FR</td>\n",
       "      <td>Normandy</td>\n",
       "      <td>48.635954</td>\n",
       "      <td>-1.511460</td>\n",
       "      <td>2025-04-23 18:58:21</td>\n",
       "      <td>10.27</td>\n",
       "      <td>9.81</td>\n",
       "      <td>0.0</td>\n",
       "      <td>94.0</td>\n",
       "      <td>3.84</td>\n",
       "      <td>clear sky</td>\n",
       "    </tr>\n",
       "    <tr>\n",
       "      <th>1</th>\n",
       "      <td>St Malo</td>\n",
       "      <td>Saint-Malo</td>\n",
       "      <td>FR</td>\n",
       "      <td>Brittany</td>\n",
       "      <td>48.649518</td>\n",
       "      <td>-2.026041</td>\n",
       "      <td>2025-04-23 18:58:22</td>\n",
       "      <td>12.29</td>\n",
       "      <td>11.72</td>\n",
       "      <td>0.0</td>\n",
       "      <td>82.0</td>\n",
       "      <td>4.63</td>\n",
       "      <td>overcast clouds</td>\n",
       "    </tr>\n",
       "    <tr>\n",
       "      <th>2</th>\n",
       "      <td>Bayeux</td>\n",
       "      <td>Bayeux</td>\n",
       "      <td>FR</td>\n",
       "      <td>Normandy</td>\n",
       "      <td>49.276462</td>\n",
       "      <td>-0.702474</td>\n",
       "      <td>2025-04-23 18:58:22</td>\n",
       "      <td>12.14</td>\n",
       "      <td>11.66</td>\n",
       "      <td>0.0</td>\n",
       "      <td>86.0</td>\n",
       "      <td>4.97</td>\n",
       "      <td>overcast clouds</td>\n",
       "    </tr>\n",
       "    <tr>\n",
       "      <th>3</th>\n",
       "      <td>Le Havre</td>\n",
       "      <td>Le Havre</td>\n",
       "      <td>FR</td>\n",
       "      <td>Normandy</td>\n",
       "      <td>49.493898</td>\n",
       "      <td>0.107973</td>\n",
       "      <td>2025-04-23 18:58:22</td>\n",
       "      <td>11.51</td>\n",
       "      <td>10.99</td>\n",
       "      <td>0.0</td>\n",
       "      <td>87.0</td>\n",
       "      <td>5.14</td>\n",
       "      <td>overcast clouds</td>\n",
       "    </tr>\n",
       "    <tr>\n",
       "      <th>4</th>\n",
       "      <td>Rouen</td>\n",
       "      <td>Rouen</td>\n",
       "      <td>FR</td>\n",
       "      <td>Normandy</td>\n",
       "      <td>49.440459</td>\n",
       "      <td>1.093966</td>\n",
       "      <td>2025-04-23 18:58:22</td>\n",
       "      <td>12.80</td>\n",
       "      <td>12.12</td>\n",
       "      <td>0.0</td>\n",
       "      <td>76.0</td>\n",
       "      <td>3.60</td>\n",
       "      <td>overcast clouds</td>\n",
       "    </tr>\n",
       "    <tr>\n",
       "      <th>5</th>\n",
       "      <td>Paris</td>\n",
       "      <td>Paris</td>\n",
       "      <td>FR</td>\n",
       "      <td>Ile-de-France</td>\n",
       "      <td>48.858890</td>\n",
       "      <td>2.320041</td>\n",
       "      <td>2025-04-23 18:58:22</td>\n",
       "      <td>13.49</td>\n",
       "      <td>12.85</td>\n",
       "      <td>0.0</td>\n",
       "      <td>75.0</td>\n",
       "      <td>2.57</td>\n",
       "      <td>scattered clouds</td>\n",
       "    </tr>\n",
       "    <tr>\n",
       "      <th>6</th>\n",
       "      <td>Amiens</td>\n",
       "      <td>Amiens</td>\n",
       "      <td>FR</td>\n",
       "      <td>Hauts-de-France</td>\n",
       "      <td>49.894171</td>\n",
       "      <td>2.295695</td>\n",
       "      <td>2025-04-23 18:58:22</td>\n",
       "      <td>11.21</td>\n",
       "      <td>10.55</td>\n",
       "      <td>0.0</td>\n",
       "      <td>83.0</td>\n",
       "      <td>3.08</td>\n",
       "      <td>overcast clouds</td>\n",
       "    </tr>\n",
       "    <tr>\n",
       "      <th>7</th>\n",
       "      <td>Lille</td>\n",
       "      <td>Lille</td>\n",
       "      <td>FR</td>\n",
       "      <td>Hauts-de-France</td>\n",
       "      <td>50.636565</td>\n",
       "      <td>3.063528</td>\n",
       "      <td>2025-04-23 18:58:22</td>\n",
       "      <td>10.44</td>\n",
       "      <td>9.26</td>\n",
       "      <td>0.0</td>\n",
       "      <td>66.0</td>\n",
       "      <td>0.51</td>\n",
       "      <td>broken clouds</td>\n",
       "    </tr>\n",
       "    <tr>\n",
       "      <th>8</th>\n",
       "      <td>Strasbourg</td>\n",
       "      <td>Strasbourg</td>\n",
       "      <td>FR</td>\n",
       "      <td>Grand Est</td>\n",
       "      <td>48.584614</td>\n",
       "      <td>7.750713</td>\n",
       "      <td>2025-04-23 18:58:23</td>\n",
       "      <td>11.00</td>\n",
       "      <td>10.58</td>\n",
       "      <td>0.0</td>\n",
       "      <td>93.0</td>\n",
       "      <td>2.57</td>\n",
       "      <td>overcast clouds</td>\n",
       "    </tr>\n",
       "    <tr>\n",
       "      <th>9</th>\n",
       "      <td>Chateau du Haut Koenigsbourg</td>\n",
       "      <td>Château du Haut-Kœnigsbourg</td>\n",
       "      <td>FR</td>\n",
       "      <td>Grand Est</td>\n",
       "      <td>48.249523</td>\n",
       "      <td>7.345492</td>\n",
       "      <td>2025-04-23 18:58:23</td>\n",
       "      <td>8.90</td>\n",
       "      <td>8.35</td>\n",
       "      <td>0.0</td>\n",
       "      <td>87.0</td>\n",
       "      <td>1.54</td>\n",
       "      <td>overcast clouds</td>\n",
       "    </tr>\n",
       "    <tr>\n",
       "      <th>10</th>\n",
       "      <td>Colmar</td>\n",
       "      <td>Colmar</td>\n",
       "      <td>FR</td>\n",
       "      <td>Grand Est</td>\n",
       "      <td>48.077752</td>\n",
       "      <td>7.357964</td>\n",
       "      <td>2025-04-23 18:58:23</td>\n",
       "      <td>11.94</td>\n",
       "      <td>11.46</td>\n",
       "      <td>0.0</td>\n",
       "      <td>87.0</td>\n",
       "      <td>1.54</td>\n",
       "      <td>overcast clouds</td>\n",
       "    </tr>\n",
       "    <tr>\n",
       "      <th>11</th>\n",
       "      <td>Eguisheim</td>\n",
       "      <td>Eguisheim</td>\n",
       "      <td>FR</td>\n",
       "      <td>Grand Est</td>\n",
       "      <td>48.044797</td>\n",
       "      <td>7.307962</td>\n",
       "      <td>2025-04-23 18:58:23</td>\n",
       "      <td>11.90</td>\n",
       "      <td>11.42</td>\n",
       "      <td>0.0</td>\n",
       "      <td>87.0</td>\n",
       "      <td>1.54</td>\n",
       "      <td>overcast clouds</td>\n",
       "    </tr>\n",
       "    <tr>\n",
       "      <th>12</th>\n",
       "      <td>Besancon</td>\n",
       "      <td>Besançon</td>\n",
       "      <td>FR</td>\n",
       "      <td>Bourgogne-Franche-Comté</td>\n",
       "      <td>47.238022</td>\n",
       "      <td>6.024362</td>\n",
       "      <td>2025-04-23 18:58:23</td>\n",
       "      <td>9.68</td>\n",
       "      <td>7.29</td>\n",
       "      <td>0.0</td>\n",
       "      <td>91.0</td>\n",
       "      <td>4.74</td>\n",
       "      <td>overcast clouds</td>\n",
       "    </tr>\n",
       "    <tr>\n",
       "      <th>13</th>\n",
       "      <td>Dijon</td>\n",
       "      <td>Dijon</td>\n",
       "      <td>FR</td>\n",
       "      <td>Bourgogne-Franche-Comté</td>\n",
       "      <td>47.321581</td>\n",
       "      <td>5.041470</td>\n",
       "      <td>2025-04-23 18:58:23</td>\n",
       "      <td>10.80</td>\n",
       "      <td>10.36</td>\n",
       "      <td>0.0</td>\n",
       "      <td>93.0</td>\n",
       "      <td>2.57</td>\n",
       "      <td>overcast clouds</td>\n",
       "    </tr>\n",
       "    <tr>\n",
       "      <th>14</th>\n",
       "      <td>Annecy</td>\n",
       "      <td>Annecy</td>\n",
       "      <td>FR</td>\n",
       "      <td>Auvergne-Rhône-Alpes</td>\n",
       "      <td>45.899235</td>\n",
       "      <td>6.128885</td>\n",
       "      <td>2025-04-23 18:58:23</td>\n",
       "      <td>9.08</td>\n",
       "      <td>8.56</td>\n",
       "      <td>0.0</td>\n",
       "      <td>93.0</td>\n",
       "      <td>1.54</td>\n",
       "      <td>overcast clouds</td>\n",
       "    </tr>\n",
       "    <tr>\n",
       "      <th>15</th>\n",
       "      <td>Grenoble</td>\n",
       "      <td>Grenoble</td>\n",
       "      <td>FR</td>\n",
       "      <td>Auvergne-Rhône-Alpes</td>\n",
       "      <td>45.187560</td>\n",
       "      <td>5.735782</td>\n",
       "      <td>2025-04-23 18:58:23</td>\n",
       "      <td>9.87</td>\n",
       "      <td>9.68</td>\n",
       "      <td>0.0</td>\n",
       "      <td>92.0</td>\n",
       "      <td>1.34</td>\n",
       "      <td>light rain</td>\n",
       "    </tr>\n",
       "    <tr>\n",
       "      <th>16</th>\n",
       "      <td>Lyon</td>\n",
       "      <td>Lyon</td>\n",
       "      <td>FR</td>\n",
       "      <td>Auvergne-Rhône-Alpes</td>\n",
       "      <td>45.757814</td>\n",
       "      <td>4.832011</td>\n",
       "      <td>2025-04-23 18:58:24</td>\n",
       "      <td>11.01</td>\n",
       "      <td>10.62</td>\n",
       "      <td>0.0</td>\n",
       "      <td>94.0</td>\n",
       "      <td>3.09</td>\n",
       "      <td>broken clouds</td>\n",
       "    </tr>\n",
       "    <tr>\n",
       "      <th>17</th>\n",
       "      <td>Bormes les Mimosas</td>\n",
       "      <td>Bormes-les-Mimosas</td>\n",
       "      <td>FR</td>\n",
       "      <td>Provence-Alpes-Côte d'Azur</td>\n",
       "      <td>43.150697</td>\n",
       "      <td>6.341928</td>\n",
       "      <td>2025-04-23 18:58:24</td>\n",
       "      <td>17.22</td>\n",
       "      <td>16.43</td>\n",
       "      <td>0.0</td>\n",
       "      <td>55.0</td>\n",
       "      <td>6.69</td>\n",
       "      <td>clear sky</td>\n",
       "    </tr>\n",
       "    <tr>\n",
       "      <th>18</th>\n",
       "      <td>Cassis</td>\n",
       "      <td>Cassis</td>\n",
       "      <td>FR</td>\n",
       "      <td>Provence-Alpes-Côte d'Azur</td>\n",
       "      <td>43.214036</td>\n",
       "      <td>5.539632</td>\n",
       "      <td>2025-04-23 18:58:24</td>\n",
       "      <td>15.72</td>\n",
       "      <td>15.20</td>\n",
       "      <td>0.0</td>\n",
       "      <td>71.0</td>\n",
       "      <td>8.50</td>\n",
       "      <td>overcast clouds</td>\n",
       "    </tr>\n",
       "    <tr>\n",
       "      <th>19</th>\n",
       "      <td>Marseille</td>\n",
       "      <td>Marseille</td>\n",
       "      <td>FR</td>\n",
       "      <td>Provence-Alpes-Côte d'Azur</td>\n",
       "      <td>43.296174</td>\n",
       "      <td>5.369953</td>\n",
       "      <td>2025-04-23 18:58:24</td>\n",
       "      <td>15.86</td>\n",
       "      <td>15.36</td>\n",
       "      <td>0.0</td>\n",
       "      <td>71.0</td>\n",
       "      <td>4.92</td>\n",
       "      <td>clear sky</td>\n",
       "    </tr>\n",
       "    <tr>\n",
       "      <th>20</th>\n",
       "      <td>Aix en Provence</td>\n",
       "      <td>Aix-en-Provence</td>\n",
       "      <td>FR</td>\n",
       "      <td>Provence-Alpes-Côte d'Azur</td>\n",
       "      <td>43.529842</td>\n",
       "      <td>5.447474</td>\n",
       "      <td>2025-04-23 18:58:24</td>\n",
       "      <td>13.77</td>\n",
       "      <td>13.34</td>\n",
       "      <td>0.0</td>\n",
       "      <td>82.0</td>\n",
       "      <td>0.45</td>\n",
       "      <td>overcast clouds</td>\n",
       "    </tr>\n",
       "    <tr>\n",
       "      <th>21</th>\n",
       "      <td>Avignon</td>\n",
       "      <td>Avignon</td>\n",
       "      <td>FR</td>\n",
       "      <td>Provence-Alpes-Côte d'Azur</td>\n",
       "      <td>43.949249</td>\n",
       "      <td>4.805901</td>\n",
       "      <td>2025-04-23 18:58:24</td>\n",
       "      <td>15.05</td>\n",
       "      <td>14.62</td>\n",
       "      <td>0.0</td>\n",
       "      <td>77.0</td>\n",
       "      <td>1.54</td>\n",
       "      <td>broken clouds</td>\n",
       "    </tr>\n",
       "    <tr>\n",
       "      <th>22</th>\n",
       "      <td>Uzes</td>\n",
       "      <td>Uzès</td>\n",
       "      <td>FR</td>\n",
       "      <td>Occitania</td>\n",
       "      <td>44.012128</td>\n",
       "      <td>4.419672</td>\n",
       "      <td>2025-04-23 18:58:24</td>\n",
       "      <td>15.71</td>\n",
       "      <td>15.32</td>\n",
       "      <td>0.0</td>\n",
       "      <td>76.0</td>\n",
       "      <td>2.81</td>\n",
       "      <td>overcast clouds</td>\n",
       "    </tr>\n",
       "    <tr>\n",
       "      <th>23</th>\n",
       "      <td>Nimes</td>\n",
       "      <td>Nimes</td>\n",
       "      <td>FR</td>\n",
       "      <td>Occitania</td>\n",
       "      <td>43.837425</td>\n",
       "      <td>4.360069</td>\n",
       "      <td>2025-04-23 18:58:24</td>\n",
       "      <td>16.22</td>\n",
       "      <td>15.54</td>\n",
       "      <td>0.0</td>\n",
       "      <td>63.0</td>\n",
       "      <td>3.60</td>\n",
       "      <td>clear sky</td>\n",
       "    </tr>\n",
       "    <tr>\n",
       "      <th>24</th>\n",
       "      <td>Aigues Mortes</td>\n",
       "      <td>Aigues-Mortes</td>\n",
       "      <td>FR</td>\n",
       "      <td>Occitania</td>\n",
       "      <td>43.565823</td>\n",
       "      <td>4.191284</td>\n",
       "      <td>2025-04-23 18:58:25</td>\n",
       "      <td>16.87</td>\n",
       "      <td>16.26</td>\n",
       "      <td>0.0</td>\n",
       "      <td>63.0</td>\n",
       "      <td>2.06</td>\n",
       "      <td>overcast clouds</td>\n",
       "    </tr>\n",
       "    <tr>\n",
       "      <th>25</th>\n",
       "      <td>Saintes Maries de la mer</td>\n",
       "      <td>Saintes-Maries-de-la-Mer</td>\n",
       "      <td>FR</td>\n",
       "      <td>Provence-Alpes-Côte d'Azur</td>\n",
       "      <td>43.452277</td>\n",
       "      <td>4.428717</td>\n",
       "      <td>2025-04-23 18:58:25</td>\n",
       "      <td>15.70</td>\n",
       "      <td>15.28</td>\n",
       "      <td>0.0</td>\n",
       "      <td>75.0</td>\n",
       "      <td>8.17</td>\n",
       "      <td>overcast clouds</td>\n",
       "    </tr>\n",
       "    <tr>\n",
       "      <th>26</th>\n",
       "      <td>Collioure</td>\n",
       "      <td>Collioure</td>\n",
       "      <td>FR</td>\n",
       "      <td>Occitania</td>\n",
       "      <td>42.525050</td>\n",
       "      <td>3.083155</td>\n",
       "      <td>2025-04-23 18:58:25</td>\n",
       "      <td>17.56</td>\n",
       "      <td>17.30</td>\n",
       "      <td>0.0</td>\n",
       "      <td>74.0</td>\n",
       "      <td>2.32</td>\n",
       "      <td>overcast clouds</td>\n",
       "    </tr>\n",
       "    <tr>\n",
       "      <th>27</th>\n",
       "      <td>Carcassonne</td>\n",
       "      <td>Carcassonne</td>\n",
       "      <td>FR</td>\n",
       "      <td>Occitania</td>\n",
       "      <td>43.213036</td>\n",
       "      <td>2.349107</td>\n",
       "      <td>2025-04-23 18:58:25</td>\n",
       "      <td>15.15</td>\n",
       "      <td>14.71</td>\n",
       "      <td>0.0</td>\n",
       "      <td>76.0</td>\n",
       "      <td>8.23</td>\n",
       "      <td>overcast clouds</td>\n",
       "    </tr>\n",
       "    <tr>\n",
       "      <th>28</th>\n",
       "      <td>Ariege</td>\n",
       "      <td>Tarascon-sur-Ariège</td>\n",
       "      <td>FR</td>\n",
       "      <td>Occitania</td>\n",
       "      <td>42.845802</td>\n",
       "      <td>1.606759</td>\n",
       "      <td>2025-04-23 18:58:25</td>\n",
       "      <td>12.27</td>\n",
       "      <td>12.01</td>\n",
       "      <td>0.0</td>\n",
       "      <td>94.0</td>\n",
       "      <td>1.84</td>\n",
       "      <td>overcast clouds</td>\n",
       "    </tr>\n",
       "    <tr>\n",
       "      <th>29</th>\n",
       "      <td>Toulouse</td>\n",
       "      <td>Toulouse</td>\n",
       "      <td>FR</td>\n",
       "      <td>Occitania</td>\n",
       "      <td>43.604462</td>\n",
       "      <td>1.444247</td>\n",
       "      <td>2025-04-23 18:58:25</td>\n",
       "      <td>13.97</td>\n",
       "      <td>13.72</td>\n",
       "      <td>0.0</td>\n",
       "      <td>88.0</td>\n",
       "      <td>7.72</td>\n",
       "      <td>overcast clouds</td>\n",
       "    </tr>\n",
       "    <tr>\n",
       "      <th>30</th>\n",
       "      <td>Montauban</td>\n",
       "      <td>Montauban</td>\n",
       "      <td>FR</td>\n",
       "      <td>Occitania</td>\n",
       "      <td>44.017584</td>\n",
       "      <td>1.354999</td>\n",
       "      <td>2025-04-23 18:58:25</td>\n",
       "      <td>13.41</td>\n",
       "      <td>13.23</td>\n",
       "      <td>0.0</td>\n",
       "      <td>93.0</td>\n",
       "      <td>7.49</td>\n",
       "      <td>overcast clouds</td>\n",
       "    </tr>\n",
       "    <tr>\n",
       "      <th>31</th>\n",
       "      <td>Biarritz</td>\n",
       "      <td>Biarritz</td>\n",
       "      <td>FR</td>\n",
       "      <td>Nouvelle-Aquitaine</td>\n",
       "      <td>43.483252</td>\n",
       "      <td>-1.559278</td>\n",
       "      <td>2025-04-23 18:58:26</td>\n",
       "      <td>14.30</td>\n",
       "      <td>14.40</td>\n",
       "      <td>0.0</td>\n",
       "      <td>100.0</td>\n",
       "      <td>6.69</td>\n",
       "      <td>overcast clouds</td>\n",
       "    </tr>\n",
       "    <tr>\n",
       "      <th>32</th>\n",
       "      <td>Bayonne</td>\n",
       "      <td>Bayonne</td>\n",
       "      <td>FR</td>\n",
       "      <td>Nouvelle-Aquitaine</td>\n",
       "      <td>43.494514</td>\n",
       "      <td>-1.473666</td>\n",
       "      <td>2025-04-23 18:58:26</td>\n",
       "      <td>14.42</td>\n",
       "      <td>14.53</td>\n",
       "      <td>0.0</td>\n",
       "      <td>100.0</td>\n",
       "      <td>6.69</td>\n",
       "      <td>overcast clouds</td>\n",
       "    </tr>\n",
       "    <tr>\n",
       "      <th>33</th>\n",
       "      <td>La Rochelle</td>\n",
       "      <td>La Rochelle</td>\n",
       "      <td>FR</td>\n",
       "      <td>Nouvelle-Aquitaine</td>\n",
       "      <td>46.159113</td>\n",
       "      <td>-1.152043</td>\n",
       "      <td>2025-04-23 18:58:26</td>\n",
       "      <td>12.94</td>\n",
       "      <td>12.46</td>\n",
       "      <td>0.0</td>\n",
       "      <td>83.0</td>\n",
       "      <td>8.75</td>\n",
       "      <td>clear sky</td>\n",
       "    </tr>\n",
       "    <tr>\n",
       "      <th>34</th>\n",
       "      <td>Gorges du Verdon</td>\n",
       "      <td>NaN</td>\n",
       "      <td>NaN</td>\n",
       "      <td>NaN</td>\n",
       "      <td>43.749656</td>\n",
       "      <td>6.328562</td>\n",
       "      <td>2025-04-23 18:58:26</td>\n",
       "      <td>9.42</td>\n",
       "      <td>6.92</td>\n",
       "      <td>0.0</td>\n",
       "      <td>87.0</td>\n",
       "      <td>4.86</td>\n",
       "      <td>light rain</td>\n",
       "    </tr>\n",
       "  </tbody>\n",
       "</table>\n",
       "</div>"
      ],
      "text/plain": [
       "                          cities                         name country  \\\n",
       "0              Mont Saint Michel            Mont Saint-Michel      FR   \n",
       "1                        St Malo                   Saint-Malo      FR   \n",
       "2                         Bayeux                       Bayeux      FR   \n",
       "3                       Le Havre                     Le Havre      FR   \n",
       "4                          Rouen                        Rouen      FR   \n",
       "5                          Paris                        Paris      FR   \n",
       "6                         Amiens                       Amiens      FR   \n",
       "7                          Lille                        Lille      FR   \n",
       "8                     Strasbourg                   Strasbourg      FR   \n",
       "9   Chateau du Haut Koenigsbourg  Château du Haut-Kœnigsbourg      FR   \n",
       "10                        Colmar                       Colmar      FR   \n",
       "11                     Eguisheim                    Eguisheim      FR   \n",
       "12                      Besancon                     Besançon      FR   \n",
       "13                         Dijon                        Dijon      FR   \n",
       "14                        Annecy                       Annecy      FR   \n",
       "15                      Grenoble                     Grenoble      FR   \n",
       "16                          Lyon                         Lyon      FR   \n",
       "17            Bormes les Mimosas           Bormes-les-Mimosas      FR   \n",
       "18                        Cassis                       Cassis      FR   \n",
       "19                     Marseille                    Marseille      FR   \n",
       "20               Aix en Provence              Aix-en-Provence      FR   \n",
       "21                       Avignon                      Avignon      FR   \n",
       "22                          Uzes                         Uzès      FR   \n",
       "23                         Nimes                        Nimes      FR   \n",
       "24                 Aigues Mortes                Aigues-Mortes      FR   \n",
       "25      Saintes Maries de la mer     Saintes-Maries-de-la-Mer      FR   \n",
       "26                     Collioure                    Collioure      FR   \n",
       "27                   Carcassonne                  Carcassonne      FR   \n",
       "28                        Ariege          Tarascon-sur-Ariège      FR   \n",
       "29                      Toulouse                     Toulouse      FR   \n",
       "30                     Montauban                    Montauban      FR   \n",
       "31                      Biarritz                     Biarritz      FR   \n",
       "32                       Bayonne                      Bayonne      FR   \n",
       "33                   La Rochelle                  La Rochelle      FR   \n",
       "34              Gorges du Verdon                          NaN     NaN   \n",
       "\n",
       "                         state        lat       lon                 date  \\\n",
       "0                     Normandy  48.635954 -1.511460  2025-04-23 18:58:21   \n",
       "1                     Brittany  48.649518 -2.026041  2025-04-23 18:58:22   \n",
       "2                     Normandy  49.276462 -0.702474  2025-04-23 18:58:22   \n",
       "3                     Normandy  49.493898  0.107973  2025-04-23 18:58:22   \n",
       "4                     Normandy  49.440459  1.093966  2025-04-23 18:58:22   \n",
       "5                Ile-de-France  48.858890  2.320041  2025-04-23 18:58:22   \n",
       "6              Hauts-de-France  49.894171  2.295695  2025-04-23 18:58:22   \n",
       "7              Hauts-de-France  50.636565  3.063528  2025-04-23 18:58:22   \n",
       "8                    Grand Est  48.584614  7.750713  2025-04-23 18:58:23   \n",
       "9                    Grand Est  48.249523  7.345492  2025-04-23 18:58:23   \n",
       "10                   Grand Est  48.077752  7.357964  2025-04-23 18:58:23   \n",
       "11                   Grand Est  48.044797  7.307962  2025-04-23 18:58:23   \n",
       "12     Bourgogne-Franche-Comté  47.238022  6.024362  2025-04-23 18:58:23   \n",
       "13     Bourgogne-Franche-Comté  47.321581  5.041470  2025-04-23 18:58:23   \n",
       "14        Auvergne-Rhône-Alpes  45.899235  6.128885  2025-04-23 18:58:23   \n",
       "15        Auvergne-Rhône-Alpes  45.187560  5.735782  2025-04-23 18:58:23   \n",
       "16        Auvergne-Rhône-Alpes  45.757814  4.832011  2025-04-23 18:58:24   \n",
       "17  Provence-Alpes-Côte d'Azur  43.150697  6.341928  2025-04-23 18:58:24   \n",
       "18  Provence-Alpes-Côte d'Azur  43.214036  5.539632  2025-04-23 18:58:24   \n",
       "19  Provence-Alpes-Côte d'Azur  43.296174  5.369953  2025-04-23 18:58:24   \n",
       "20  Provence-Alpes-Côte d'Azur  43.529842  5.447474  2025-04-23 18:58:24   \n",
       "21  Provence-Alpes-Côte d'Azur  43.949249  4.805901  2025-04-23 18:58:24   \n",
       "22                   Occitania  44.012128  4.419672  2025-04-23 18:58:24   \n",
       "23                   Occitania  43.837425  4.360069  2025-04-23 18:58:24   \n",
       "24                   Occitania  43.565823  4.191284  2025-04-23 18:58:25   \n",
       "25  Provence-Alpes-Côte d'Azur  43.452277  4.428717  2025-04-23 18:58:25   \n",
       "26                   Occitania  42.525050  3.083155  2025-04-23 18:58:25   \n",
       "27                   Occitania  43.213036  2.349107  2025-04-23 18:58:25   \n",
       "28                   Occitania  42.845802  1.606759  2025-04-23 18:58:25   \n",
       "29                   Occitania  43.604462  1.444247  2025-04-23 18:58:25   \n",
       "30                   Occitania  44.017584  1.354999  2025-04-23 18:58:25   \n",
       "31          Nouvelle-Aquitaine  43.483252 -1.559278  2025-04-23 18:58:26   \n",
       "32          Nouvelle-Aquitaine  43.494514 -1.473666  2025-04-23 18:58:26   \n",
       "33          Nouvelle-Aquitaine  46.159113 -1.152043  2025-04-23 18:58:26   \n",
       "34                         NaN  43.749656  6.328562  2025-04-23 18:58:26   \n",
       "\n",
       "     temp  feels_like  uvi  humidity  wind_speed       description  \n",
       "0   10.27        9.81  0.0      94.0        3.84         clear sky  \n",
       "1   12.29       11.72  0.0      82.0        4.63   overcast clouds  \n",
       "2   12.14       11.66  0.0      86.0        4.97   overcast clouds  \n",
       "3   11.51       10.99  0.0      87.0        5.14   overcast clouds  \n",
       "4   12.80       12.12  0.0      76.0        3.60   overcast clouds  \n",
       "5   13.49       12.85  0.0      75.0        2.57  scattered clouds  \n",
       "6   11.21       10.55  0.0      83.0        3.08   overcast clouds  \n",
       "7   10.44        9.26  0.0      66.0        0.51     broken clouds  \n",
       "8   11.00       10.58  0.0      93.0        2.57   overcast clouds  \n",
       "9    8.90        8.35  0.0      87.0        1.54   overcast clouds  \n",
       "10  11.94       11.46  0.0      87.0        1.54   overcast clouds  \n",
       "11  11.90       11.42  0.0      87.0        1.54   overcast clouds  \n",
       "12   9.68        7.29  0.0      91.0        4.74   overcast clouds  \n",
       "13  10.80       10.36  0.0      93.0        2.57   overcast clouds  \n",
       "14   9.08        8.56  0.0      93.0        1.54   overcast clouds  \n",
       "15   9.87        9.68  0.0      92.0        1.34        light rain  \n",
       "16  11.01       10.62  0.0      94.0        3.09     broken clouds  \n",
       "17  17.22       16.43  0.0      55.0        6.69         clear sky  \n",
       "18  15.72       15.20  0.0      71.0        8.50   overcast clouds  \n",
       "19  15.86       15.36  0.0      71.0        4.92         clear sky  \n",
       "20  13.77       13.34  0.0      82.0        0.45   overcast clouds  \n",
       "21  15.05       14.62  0.0      77.0        1.54     broken clouds  \n",
       "22  15.71       15.32  0.0      76.0        2.81   overcast clouds  \n",
       "23  16.22       15.54  0.0      63.0        3.60         clear sky  \n",
       "24  16.87       16.26  0.0      63.0        2.06   overcast clouds  \n",
       "25  15.70       15.28  0.0      75.0        8.17   overcast clouds  \n",
       "26  17.56       17.30  0.0      74.0        2.32   overcast clouds  \n",
       "27  15.15       14.71  0.0      76.0        8.23   overcast clouds  \n",
       "28  12.27       12.01  0.0      94.0        1.84   overcast clouds  \n",
       "29  13.97       13.72  0.0      88.0        7.72   overcast clouds  \n",
       "30  13.41       13.23  0.0      93.0        7.49   overcast clouds  \n",
       "31  14.30       14.40  0.0     100.0        6.69   overcast clouds  \n",
       "32  14.42       14.53  0.0     100.0        6.69   overcast clouds  \n",
       "33  12.94       12.46  0.0      83.0        8.75         clear sky  \n",
       "34   9.42        6.92  0.0      87.0        4.86        light rain  "
      ]
     },
     "execution_count": 312,
     "metadata": {},
     "output_type": "execute_result"
    }
   ],
   "source": [
    "bc = pd.read_csv(\"data/best_cities_weather.csv\")\n",
    "bc"
   ]
  },
  {
   "cell_type": "code",
   "execution_count": 313,
   "metadata": {},
   "outputs": [
    {
     "data": {
      "text/plain": [
       "(35, 13)"
      ]
     },
     "execution_count": 313,
     "metadata": {},
     "output_type": "execute_result"
    }
   ],
   "source": [
    "bc.shape"
   ]
  },
  {
   "cell_type": "code",
   "execution_count": 314,
   "metadata": {},
   "outputs": [
    {
     "data": {
      "application/vnd.plotly.v1+json": {
       "config": {
        "plotlyServerURL": "https://plot.ly"
       },
       "data": [
        {
         "hovertemplate": "Température (°C)=%{x}<br>Ville=%{y}<extra></extra>",
         "legendgroup": "",
         "marker": {
          "color": "#636efa",
          "pattern": {
           "shape": ""
          }
         },
         "name": "",
         "orientation": "h",
         "showlegend": false,
         "textposition": "auto",
         "type": "bar",
         "x": {
          "bdata": "zczMzMzMIUApXI/C9SgiQNejcD0K1yJAXI/C9ShcI0A9CtejcL0jQArXo3A9iiRA4XoUrkfhJECamZmZmZklQAAAAAAAACZAhetRuB4FJkDsUbgehWsmQIXrUbgeBSdAzczMzMzMJ0DhehSuR+EnQEjhehSuRyhACtejcD2KKEAUrkfhepQoQJqZmZmZmSlA4XoUrkfhKUBSuB6F69EqQHsUrkfh+ipACtejcD2KK0BxPQrXo/ArQJqZmZmZmSxA16NwPQrXLECamZmZmRkuQM3MzMzMTC5AZmZmZmZmL0DsUbgehWsvQHE9CtejcC9AuB6F61G4L0C4HoXrUTgwQB+F61G43jBAuB6F61E4MUCPwvUoXI8xQA==",
          "dtype": "f8"
         },
         "xaxis": "x",
         "y": [
          "Chateau du Haut Koenigsbourg",
          "Annecy",
          "Gorges du Verdon",
          "Besancon",
          "Grenoble",
          "Mont Saint Michel",
          "Lille",
          "Dijon",
          "Strasbourg",
          "Lyon",
          "Amiens",
          "Le Havre",
          "Eguisheim",
          "Colmar",
          "Bayeux",
          "Ariege",
          "St Malo",
          "Rouen",
          "La Rochelle",
          "Montauban",
          "Paris",
          "Aix en Provence",
          "Toulouse",
          "Biarritz",
          "Bayonne",
          "Avignon",
          "Carcassonne",
          "Saintes Maries de la mer",
          "Uzes",
          "Cassis",
          "Marseille",
          "Nimes",
          "Aigues Mortes",
          "Bormes les Mimosas",
          "Collioure"
         ],
         "yaxis": "y"
        }
       ],
       "layout": {
        "barmode": "relative",
        "height": 800,
        "legend": {
         "tracegroupgap": 0
        },
        "template": {
         "data": {
          "bar": [
           {
            "error_x": {
             "color": "#2a3f5f"
            },
            "error_y": {
             "color": "#2a3f5f"
            },
            "marker": {
             "line": {
              "color": "#E5ECF6",
              "width": 0.5
             },
             "pattern": {
              "fillmode": "overlay",
              "size": 10,
              "solidity": 0.2
             }
            },
            "type": "bar"
           }
          ],
          "barpolar": [
           {
            "marker": {
             "line": {
              "color": "#E5ECF6",
              "width": 0.5
             },
             "pattern": {
              "fillmode": "overlay",
              "size": 10,
              "solidity": 0.2
             }
            },
            "type": "barpolar"
           }
          ],
          "carpet": [
           {
            "aaxis": {
             "endlinecolor": "#2a3f5f",
             "gridcolor": "white",
             "linecolor": "white",
             "minorgridcolor": "white",
             "startlinecolor": "#2a3f5f"
            },
            "baxis": {
             "endlinecolor": "#2a3f5f",
             "gridcolor": "white",
             "linecolor": "white",
             "minorgridcolor": "white",
             "startlinecolor": "#2a3f5f"
            },
            "type": "carpet"
           }
          ],
          "choropleth": [
           {
            "colorbar": {
             "outlinewidth": 0,
             "ticks": ""
            },
            "type": "choropleth"
           }
          ],
          "contour": [
           {
            "colorbar": {
             "outlinewidth": 0,
             "ticks": ""
            },
            "colorscale": [
             [
              0,
              "#0d0887"
             ],
             [
              0.1111111111111111,
              "#46039f"
             ],
             [
              0.2222222222222222,
              "#7201a8"
             ],
             [
              0.3333333333333333,
              "#9c179e"
             ],
             [
              0.4444444444444444,
              "#bd3786"
             ],
             [
              0.5555555555555556,
              "#d8576b"
             ],
             [
              0.6666666666666666,
              "#ed7953"
             ],
             [
              0.7777777777777778,
              "#fb9f3a"
             ],
             [
              0.8888888888888888,
              "#fdca26"
             ],
             [
              1,
              "#f0f921"
             ]
            ],
            "type": "contour"
           }
          ],
          "contourcarpet": [
           {
            "colorbar": {
             "outlinewidth": 0,
             "ticks": ""
            },
            "type": "contourcarpet"
           }
          ],
          "heatmap": [
           {
            "colorbar": {
             "outlinewidth": 0,
             "ticks": ""
            },
            "colorscale": [
             [
              0,
              "#0d0887"
             ],
             [
              0.1111111111111111,
              "#46039f"
             ],
             [
              0.2222222222222222,
              "#7201a8"
             ],
             [
              0.3333333333333333,
              "#9c179e"
             ],
             [
              0.4444444444444444,
              "#bd3786"
             ],
             [
              0.5555555555555556,
              "#d8576b"
             ],
             [
              0.6666666666666666,
              "#ed7953"
             ],
             [
              0.7777777777777778,
              "#fb9f3a"
             ],
             [
              0.8888888888888888,
              "#fdca26"
             ],
             [
              1,
              "#f0f921"
             ]
            ],
            "type": "heatmap"
           }
          ],
          "histogram": [
           {
            "marker": {
             "pattern": {
              "fillmode": "overlay",
              "size": 10,
              "solidity": 0.2
             }
            },
            "type": "histogram"
           }
          ],
          "histogram2d": [
           {
            "colorbar": {
             "outlinewidth": 0,
             "ticks": ""
            },
            "colorscale": [
             [
              0,
              "#0d0887"
             ],
             [
              0.1111111111111111,
              "#46039f"
             ],
             [
              0.2222222222222222,
              "#7201a8"
             ],
             [
              0.3333333333333333,
              "#9c179e"
             ],
             [
              0.4444444444444444,
              "#bd3786"
             ],
             [
              0.5555555555555556,
              "#d8576b"
             ],
             [
              0.6666666666666666,
              "#ed7953"
             ],
             [
              0.7777777777777778,
              "#fb9f3a"
             ],
             [
              0.8888888888888888,
              "#fdca26"
             ],
             [
              1,
              "#f0f921"
             ]
            ],
            "type": "histogram2d"
           }
          ],
          "histogram2dcontour": [
           {
            "colorbar": {
             "outlinewidth": 0,
             "ticks": ""
            },
            "colorscale": [
             [
              0,
              "#0d0887"
             ],
             [
              0.1111111111111111,
              "#46039f"
             ],
             [
              0.2222222222222222,
              "#7201a8"
             ],
             [
              0.3333333333333333,
              "#9c179e"
             ],
             [
              0.4444444444444444,
              "#bd3786"
             ],
             [
              0.5555555555555556,
              "#d8576b"
             ],
             [
              0.6666666666666666,
              "#ed7953"
             ],
             [
              0.7777777777777778,
              "#fb9f3a"
             ],
             [
              0.8888888888888888,
              "#fdca26"
             ],
             [
              1,
              "#f0f921"
             ]
            ],
            "type": "histogram2dcontour"
           }
          ],
          "mesh3d": [
           {
            "colorbar": {
             "outlinewidth": 0,
             "ticks": ""
            },
            "type": "mesh3d"
           }
          ],
          "parcoords": [
           {
            "line": {
             "colorbar": {
              "outlinewidth": 0,
              "ticks": ""
             }
            },
            "type": "parcoords"
           }
          ],
          "pie": [
           {
            "automargin": true,
            "type": "pie"
           }
          ],
          "scatter": [
           {
            "fillpattern": {
             "fillmode": "overlay",
             "size": 10,
             "solidity": 0.2
            },
            "type": "scatter"
           }
          ],
          "scatter3d": [
           {
            "line": {
             "colorbar": {
              "outlinewidth": 0,
              "ticks": ""
             }
            },
            "marker": {
             "colorbar": {
              "outlinewidth": 0,
              "ticks": ""
             }
            },
            "type": "scatter3d"
           }
          ],
          "scattercarpet": [
           {
            "marker": {
             "colorbar": {
              "outlinewidth": 0,
              "ticks": ""
             }
            },
            "type": "scattercarpet"
           }
          ],
          "scattergeo": [
           {
            "marker": {
             "colorbar": {
              "outlinewidth": 0,
              "ticks": ""
             }
            },
            "type": "scattergeo"
           }
          ],
          "scattergl": [
           {
            "marker": {
             "colorbar": {
              "outlinewidth": 0,
              "ticks": ""
             }
            },
            "type": "scattergl"
           }
          ],
          "scattermap": [
           {
            "marker": {
             "colorbar": {
              "outlinewidth": 0,
              "ticks": ""
             }
            },
            "type": "scattermap"
           }
          ],
          "scattermapbox": [
           {
            "marker": {
             "colorbar": {
              "outlinewidth": 0,
              "ticks": ""
             }
            },
            "type": "scattermapbox"
           }
          ],
          "scatterpolar": [
           {
            "marker": {
             "colorbar": {
              "outlinewidth": 0,
              "ticks": ""
             }
            },
            "type": "scatterpolar"
           }
          ],
          "scatterpolargl": [
           {
            "marker": {
             "colorbar": {
              "outlinewidth": 0,
              "ticks": ""
             }
            },
            "type": "scatterpolargl"
           }
          ],
          "scatterternary": [
           {
            "marker": {
             "colorbar": {
              "outlinewidth": 0,
              "ticks": ""
             }
            },
            "type": "scatterternary"
           }
          ],
          "surface": [
           {
            "colorbar": {
             "outlinewidth": 0,
             "ticks": ""
            },
            "colorscale": [
             [
              0,
              "#0d0887"
             ],
             [
              0.1111111111111111,
              "#46039f"
             ],
             [
              0.2222222222222222,
              "#7201a8"
             ],
             [
              0.3333333333333333,
              "#9c179e"
             ],
             [
              0.4444444444444444,
              "#bd3786"
             ],
             [
              0.5555555555555556,
              "#d8576b"
             ],
             [
              0.6666666666666666,
              "#ed7953"
             ],
             [
              0.7777777777777778,
              "#fb9f3a"
             ],
             [
              0.8888888888888888,
              "#fdca26"
             ],
             [
              1,
              "#f0f921"
             ]
            ],
            "type": "surface"
           }
          ],
          "table": [
           {
            "cells": {
             "fill": {
              "color": "#EBF0F8"
             },
             "line": {
              "color": "white"
             }
            },
            "header": {
             "fill": {
              "color": "#C8D4E3"
             },
             "line": {
              "color": "white"
             }
            },
            "type": "table"
           }
          ]
         },
         "layout": {
          "annotationdefaults": {
           "arrowcolor": "#2a3f5f",
           "arrowhead": 0,
           "arrowwidth": 1
          },
          "autotypenumbers": "strict",
          "coloraxis": {
           "colorbar": {
            "outlinewidth": 0,
            "ticks": ""
           }
          },
          "colorscale": {
           "diverging": [
            [
             0,
             "#8e0152"
            ],
            [
             0.1,
             "#c51b7d"
            ],
            [
             0.2,
             "#de77ae"
            ],
            [
             0.3,
             "#f1b6da"
            ],
            [
             0.4,
             "#fde0ef"
            ],
            [
             0.5,
             "#f7f7f7"
            ],
            [
             0.6,
             "#e6f5d0"
            ],
            [
             0.7,
             "#b8e186"
            ],
            [
             0.8,
             "#7fbc41"
            ],
            [
             0.9,
             "#4d9221"
            ],
            [
             1,
             "#276419"
            ]
           ],
           "sequential": [
            [
             0,
             "#0d0887"
            ],
            [
             0.1111111111111111,
             "#46039f"
            ],
            [
             0.2222222222222222,
             "#7201a8"
            ],
            [
             0.3333333333333333,
             "#9c179e"
            ],
            [
             0.4444444444444444,
             "#bd3786"
            ],
            [
             0.5555555555555556,
             "#d8576b"
            ],
            [
             0.6666666666666666,
             "#ed7953"
            ],
            [
             0.7777777777777778,
             "#fb9f3a"
            ],
            [
             0.8888888888888888,
             "#fdca26"
            ],
            [
             1,
             "#f0f921"
            ]
           ],
           "sequentialminus": [
            [
             0,
             "#0d0887"
            ],
            [
             0.1111111111111111,
             "#46039f"
            ],
            [
             0.2222222222222222,
             "#7201a8"
            ],
            [
             0.3333333333333333,
             "#9c179e"
            ],
            [
             0.4444444444444444,
             "#bd3786"
            ],
            [
             0.5555555555555556,
             "#d8576b"
            ],
            [
             0.6666666666666666,
             "#ed7953"
            ],
            [
             0.7777777777777778,
             "#fb9f3a"
            ],
            [
             0.8888888888888888,
             "#fdca26"
            ],
            [
             1,
             "#f0f921"
            ]
           ]
          },
          "colorway": [
           "#636efa",
           "#EF553B",
           "#00cc96",
           "#ab63fa",
           "#FFA15A",
           "#19d3f3",
           "#FF6692",
           "#B6E880",
           "#FF97FF",
           "#FECB52"
          ],
          "font": {
           "color": "#2a3f5f"
          },
          "geo": {
           "bgcolor": "white",
           "lakecolor": "white",
           "landcolor": "#E5ECF6",
           "showlakes": true,
           "showland": true,
           "subunitcolor": "white"
          },
          "hoverlabel": {
           "align": "left"
          },
          "hovermode": "closest",
          "mapbox": {
           "style": "light"
          },
          "paper_bgcolor": "white",
          "plot_bgcolor": "#E5ECF6",
          "polar": {
           "angularaxis": {
            "gridcolor": "white",
            "linecolor": "white",
            "ticks": ""
           },
           "bgcolor": "#E5ECF6",
           "radialaxis": {
            "gridcolor": "white",
            "linecolor": "white",
            "ticks": ""
           }
          },
          "scene": {
           "xaxis": {
            "backgroundcolor": "#E5ECF6",
            "gridcolor": "white",
            "gridwidth": 2,
            "linecolor": "white",
            "showbackground": true,
            "ticks": "",
            "zerolinecolor": "white"
           },
           "yaxis": {
            "backgroundcolor": "#E5ECF6",
            "gridcolor": "white",
            "gridwidth": 2,
            "linecolor": "white",
            "showbackground": true,
            "ticks": "",
            "zerolinecolor": "white"
           },
           "zaxis": {
            "backgroundcolor": "#E5ECF6",
            "gridcolor": "white",
            "gridwidth": 2,
            "linecolor": "white",
            "showbackground": true,
            "ticks": "",
            "zerolinecolor": "white"
           }
          },
          "shapedefaults": {
           "line": {
            "color": "#2a3f5f"
           }
          },
          "ternary": {
           "aaxis": {
            "gridcolor": "white",
            "linecolor": "white",
            "ticks": ""
           },
           "baxis": {
            "gridcolor": "white",
            "linecolor": "white",
            "ticks": ""
           },
           "bgcolor": "#E5ECF6",
           "caxis": {
            "gridcolor": "white",
            "linecolor": "white",
            "ticks": ""
           }
          },
          "title": {
           "x": 0.05
          },
          "xaxis": {
           "automargin": true,
           "gridcolor": "white",
           "linecolor": "white",
           "ticks": "",
           "title": {
            "standoff": 15
           },
           "zerolinecolor": "white",
           "zerolinewidth": 2
          },
          "yaxis": {
           "automargin": true,
           "gridcolor": "white",
           "linecolor": "white",
           "ticks": "",
           "title": {
            "standoff": 15
           },
           "zerolinecolor": "white",
           "zerolinewidth": 2
          }
         }
        },
        "title": {
         "text": "Températures par Ville"
        },
        "xaxis": {
         "anchor": "y",
         "domain": [
          0,
          1
         ],
         "title": {
          "text": "Température (°C)"
         }
        },
        "yaxis": {
         "anchor": "x",
         "domain": [
          0,
          1
         ],
         "title": {
          "text": "Ville"
         }
        }
       }
      }
     },
     "metadata": {},
     "output_type": "display_data"
    }
   ],
   "source": [
    "df_sorted = bc.sort_values(by='temp', ascending=True)\n",
    "\n",
    "# Créer un diagramme en bâtons horizontal\n",
    "fig = px.bar(df_sorted, x='temp', y='cities', orientation='h',\n",
    "             title='Températures par Ville',\n",
    "             labels={'temp': 'Température (°C)', 'cities': 'Ville'})\n",
    "\n",
    "# Ajuster la hauteur du graphique\n",
    "fig.update_layout(height=800)\n",
    "\n",
    "# Afficher le diagramme\n",
    "fig.show()"
   ]
  },
  {
   "cell_type": "code",
   "execution_count": 315,
   "metadata": {},
   "outputs": [
    {
     "data": {
      "application/vnd.plotly.v1+json": {
       "config": {
        "plotlyServerURL": "https://plot.ly"
       },
       "data": [
        {
         "hovertemplate": "Température ressentie (°C)=%{x}<br>Ville=%{y}<extra></extra>",
         "legendgroup": "",
         "marker": {
          "color": "#636efa",
          "pattern": {
           "shape": ""
          }
         },
         "name": "",
         "orientation": "h",
         "showlegend": false,
         "textposition": "auto",
         "type": "bar",
         "x": {
          "bdata": "rkfhehSuG0ApXI/C9SgdQDMzMzMzsyBAH4XrUbgeIUCF61G4HoUiQFyPwvUoXCNAH4XrUbieI0C4HoXrUbgkQJqZmZmZGSVAKVyPwvUoJUA9CtejcD0lQHsUrkfh+iVA16NwPQrXJkDsUbgehesmQFK4HoXrUSdAcT0K16NwJ0CF61G4HgUoQD0K16NwPShA7FG4HoXrKEAzMzMzM7MpQPYoXI/CdSpArkfhehSuKkBxPQrXo3ArQM3MzMzMzCxAj8L1KFwPLUA9CtejcD0tQOxRuB6Fay1AZmZmZmZmLkCPwvUoXI8uQKRwPQrXoy5AuB6F61G4LkAUrkfhehQvQMP1KFyPQjBArkfhehRuMEDNzMzMzEwxQA==",
          "dtype": "f8"
         },
         "xaxis": "x",
         "y": [
          "Gorges du Verdon",
          "Besancon",
          "Chateau du Haut Koenigsbourg",
          "Annecy",
          "Lille",
          "Grenoble",
          "Mont Saint Michel",
          "Dijon",
          "Amiens",
          "Strasbourg",
          "Lyon",
          "Le Havre",
          "Eguisheim",
          "Colmar",
          "Bayeux",
          "St Malo",
          "Ariege",
          "Rouen",
          "La Rochelle",
          "Paris",
          "Montauban",
          "Aix en Provence",
          "Toulouse",
          "Biarritz",
          "Bayonne",
          "Avignon",
          "Carcassonne",
          "Cassis",
          "Saintes Maries de la mer",
          "Uzes",
          "Marseille",
          "Nimes",
          "Aigues Mortes",
          "Bormes les Mimosas",
          "Collioure"
         ],
         "yaxis": "y"
        }
       ],
       "layout": {
        "barmode": "relative",
        "height": 800,
        "legend": {
         "tracegroupgap": 0
        },
        "template": {
         "data": {
          "bar": [
           {
            "error_x": {
             "color": "#2a3f5f"
            },
            "error_y": {
             "color": "#2a3f5f"
            },
            "marker": {
             "line": {
              "color": "#E5ECF6",
              "width": 0.5
             },
             "pattern": {
              "fillmode": "overlay",
              "size": 10,
              "solidity": 0.2
             }
            },
            "type": "bar"
           }
          ],
          "barpolar": [
           {
            "marker": {
             "line": {
              "color": "#E5ECF6",
              "width": 0.5
             },
             "pattern": {
              "fillmode": "overlay",
              "size": 10,
              "solidity": 0.2
             }
            },
            "type": "barpolar"
           }
          ],
          "carpet": [
           {
            "aaxis": {
             "endlinecolor": "#2a3f5f",
             "gridcolor": "white",
             "linecolor": "white",
             "minorgridcolor": "white",
             "startlinecolor": "#2a3f5f"
            },
            "baxis": {
             "endlinecolor": "#2a3f5f",
             "gridcolor": "white",
             "linecolor": "white",
             "minorgridcolor": "white",
             "startlinecolor": "#2a3f5f"
            },
            "type": "carpet"
           }
          ],
          "choropleth": [
           {
            "colorbar": {
             "outlinewidth": 0,
             "ticks": ""
            },
            "type": "choropleth"
           }
          ],
          "contour": [
           {
            "colorbar": {
             "outlinewidth": 0,
             "ticks": ""
            },
            "colorscale": [
             [
              0,
              "#0d0887"
             ],
             [
              0.1111111111111111,
              "#46039f"
             ],
             [
              0.2222222222222222,
              "#7201a8"
             ],
             [
              0.3333333333333333,
              "#9c179e"
             ],
             [
              0.4444444444444444,
              "#bd3786"
             ],
             [
              0.5555555555555556,
              "#d8576b"
             ],
             [
              0.6666666666666666,
              "#ed7953"
             ],
             [
              0.7777777777777778,
              "#fb9f3a"
             ],
             [
              0.8888888888888888,
              "#fdca26"
             ],
             [
              1,
              "#f0f921"
             ]
            ],
            "type": "contour"
           }
          ],
          "contourcarpet": [
           {
            "colorbar": {
             "outlinewidth": 0,
             "ticks": ""
            },
            "type": "contourcarpet"
           }
          ],
          "heatmap": [
           {
            "colorbar": {
             "outlinewidth": 0,
             "ticks": ""
            },
            "colorscale": [
             [
              0,
              "#0d0887"
             ],
             [
              0.1111111111111111,
              "#46039f"
             ],
             [
              0.2222222222222222,
              "#7201a8"
             ],
             [
              0.3333333333333333,
              "#9c179e"
             ],
             [
              0.4444444444444444,
              "#bd3786"
             ],
             [
              0.5555555555555556,
              "#d8576b"
             ],
             [
              0.6666666666666666,
              "#ed7953"
             ],
             [
              0.7777777777777778,
              "#fb9f3a"
             ],
             [
              0.8888888888888888,
              "#fdca26"
             ],
             [
              1,
              "#f0f921"
             ]
            ],
            "type": "heatmap"
           }
          ],
          "histogram": [
           {
            "marker": {
             "pattern": {
              "fillmode": "overlay",
              "size": 10,
              "solidity": 0.2
             }
            },
            "type": "histogram"
           }
          ],
          "histogram2d": [
           {
            "colorbar": {
             "outlinewidth": 0,
             "ticks": ""
            },
            "colorscale": [
             [
              0,
              "#0d0887"
             ],
             [
              0.1111111111111111,
              "#46039f"
             ],
             [
              0.2222222222222222,
              "#7201a8"
             ],
             [
              0.3333333333333333,
              "#9c179e"
             ],
             [
              0.4444444444444444,
              "#bd3786"
             ],
             [
              0.5555555555555556,
              "#d8576b"
             ],
             [
              0.6666666666666666,
              "#ed7953"
             ],
             [
              0.7777777777777778,
              "#fb9f3a"
             ],
             [
              0.8888888888888888,
              "#fdca26"
             ],
             [
              1,
              "#f0f921"
             ]
            ],
            "type": "histogram2d"
           }
          ],
          "histogram2dcontour": [
           {
            "colorbar": {
             "outlinewidth": 0,
             "ticks": ""
            },
            "colorscale": [
             [
              0,
              "#0d0887"
             ],
             [
              0.1111111111111111,
              "#46039f"
             ],
             [
              0.2222222222222222,
              "#7201a8"
             ],
             [
              0.3333333333333333,
              "#9c179e"
             ],
             [
              0.4444444444444444,
              "#bd3786"
             ],
             [
              0.5555555555555556,
              "#d8576b"
             ],
             [
              0.6666666666666666,
              "#ed7953"
             ],
             [
              0.7777777777777778,
              "#fb9f3a"
             ],
             [
              0.8888888888888888,
              "#fdca26"
             ],
             [
              1,
              "#f0f921"
             ]
            ],
            "type": "histogram2dcontour"
           }
          ],
          "mesh3d": [
           {
            "colorbar": {
             "outlinewidth": 0,
             "ticks": ""
            },
            "type": "mesh3d"
           }
          ],
          "parcoords": [
           {
            "line": {
             "colorbar": {
              "outlinewidth": 0,
              "ticks": ""
             }
            },
            "type": "parcoords"
           }
          ],
          "pie": [
           {
            "automargin": true,
            "type": "pie"
           }
          ],
          "scatter": [
           {
            "fillpattern": {
             "fillmode": "overlay",
             "size": 10,
             "solidity": 0.2
            },
            "type": "scatter"
           }
          ],
          "scatter3d": [
           {
            "line": {
             "colorbar": {
              "outlinewidth": 0,
              "ticks": ""
             }
            },
            "marker": {
             "colorbar": {
              "outlinewidth": 0,
              "ticks": ""
             }
            },
            "type": "scatter3d"
           }
          ],
          "scattercarpet": [
           {
            "marker": {
             "colorbar": {
              "outlinewidth": 0,
              "ticks": ""
             }
            },
            "type": "scattercarpet"
           }
          ],
          "scattergeo": [
           {
            "marker": {
             "colorbar": {
              "outlinewidth": 0,
              "ticks": ""
             }
            },
            "type": "scattergeo"
           }
          ],
          "scattergl": [
           {
            "marker": {
             "colorbar": {
              "outlinewidth": 0,
              "ticks": ""
             }
            },
            "type": "scattergl"
           }
          ],
          "scattermap": [
           {
            "marker": {
             "colorbar": {
              "outlinewidth": 0,
              "ticks": ""
             }
            },
            "type": "scattermap"
           }
          ],
          "scattermapbox": [
           {
            "marker": {
             "colorbar": {
              "outlinewidth": 0,
              "ticks": ""
             }
            },
            "type": "scattermapbox"
           }
          ],
          "scatterpolar": [
           {
            "marker": {
             "colorbar": {
              "outlinewidth": 0,
              "ticks": ""
             }
            },
            "type": "scatterpolar"
           }
          ],
          "scatterpolargl": [
           {
            "marker": {
             "colorbar": {
              "outlinewidth": 0,
              "ticks": ""
             }
            },
            "type": "scatterpolargl"
           }
          ],
          "scatterternary": [
           {
            "marker": {
             "colorbar": {
              "outlinewidth": 0,
              "ticks": ""
             }
            },
            "type": "scatterternary"
           }
          ],
          "surface": [
           {
            "colorbar": {
             "outlinewidth": 0,
             "ticks": ""
            },
            "colorscale": [
             [
              0,
              "#0d0887"
             ],
             [
              0.1111111111111111,
              "#46039f"
             ],
             [
              0.2222222222222222,
              "#7201a8"
             ],
             [
              0.3333333333333333,
              "#9c179e"
             ],
             [
              0.4444444444444444,
              "#bd3786"
             ],
             [
              0.5555555555555556,
              "#d8576b"
             ],
             [
              0.6666666666666666,
              "#ed7953"
             ],
             [
              0.7777777777777778,
              "#fb9f3a"
             ],
             [
              0.8888888888888888,
              "#fdca26"
             ],
             [
              1,
              "#f0f921"
             ]
            ],
            "type": "surface"
           }
          ],
          "table": [
           {
            "cells": {
             "fill": {
              "color": "#EBF0F8"
             },
             "line": {
              "color": "white"
             }
            },
            "header": {
             "fill": {
              "color": "#C8D4E3"
             },
             "line": {
              "color": "white"
             }
            },
            "type": "table"
           }
          ]
         },
         "layout": {
          "annotationdefaults": {
           "arrowcolor": "#2a3f5f",
           "arrowhead": 0,
           "arrowwidth": 1
          },
          "autotypenumbers": "strict",
          "coloraxis": {
           "colorbar": {
            "outlinewidth": 0,
            "ticks": ""
           }
          },
          "colorscale": {
           "diverging": [
            [
             0,
             "#8e0152"
            ],
            [
             0.1,
             "#c51b7d"
            ],
            [
             0.2,
             "#de77ae"
            ],
            [
             0.3,
             "#f1b6da"
            ],
            [
             0.4,
             "#fde0ef"
            ],
            [
             0.5,
             "#f7f7f7"
            ],
            [
             0.6,
             "#e6f5d0"
            ],
            [
             0.7,
             "#b8e186"
            ],
            [
             0.8,
             "#7fbc41"
            ],
            [
             0.9,
             "#4d9221"
            ],
            [
             1,
             "#276419"
            ]
           ],
           "sequential": [
            [
             0,
             "#0d0887"
            ],
            [
             0.1111111111111111,
             "#46039f"
            ],
            [
             0.2222222222222222,
             "#7201a8"
            ],
            [
             0.3333333333333333,
             "#9c179e"
            ],
            [
             0.4444444444444444,
             "#bd3786"
            ],
            [
             0.5555555555555556,
             "#d8576b"
            ],
            [
             0.6666666666666666,
             "#ed7953"
            ],
            [
             0.7777777777777778,
             "#fb9f3a"
            ],
            [
             0.8888888888888888,
             "#fdca26"
            ],
            [
             1,
             "#f0f921"
            ]
           ],
           "sequentialminus": [
            [
             0,
             "#0d0887"
            ],
            [
             0.1111111111111111,
             "#46039f"
            ],
            [
             0.2222222222222222,
             "#7201a8"
            ],
            [
             0.3333333333333333,
             "#9c179e"
            ],
            [
             0.4444444444444444,
             "#bd3786"
            ],
            [
             0.5555555555555556,
             "#d8576b"
            ],
            [
             0.6666666666666666,
             "#ed7953"
            ],
            [
             0.7777777777777778,
             "#fb9f3a"
            ],
            [
             0.8888888888888888,
             "#fdca26"
            ],
            [
             1,
             "#f0f921"
            ]
           ]
          },
          "colorway": [
           "#636efa",
           "#EF553B",
           "#00cc96",
           "#ab63fa",
           "#FFA15A",
           "#19d3f3",
           "#FF6692",
           "#B6E880",
           "#FF97FF",
           "#FECB52"
          ],
          "font": {
           "color": "#2a3f5f"
          },
          "geo": {
           "bgcolor": "white",
           "lakecolor": "white",
           "landcolor": "#E5ECF6",
           "showlakes": true,
           "showland": true,
           "subunitcolor": "white"
          },
          "hoverlabel": {
           "align": "left"
          },
          "hovermode": "closest",
          "mapbox": {
           "style": "light"
          },
          "paper_bgcolor": "white",
          "plot_bgcolor": "#E5ECF6",
          "polar": {
           "angularaxis": {
            "gridcolor": "white",
            "linecolor": "white",
            "ticks": ""
           },
           "bgcolor": "#E5ECF6",
           "radialaxis": {
            "gridcolor": "white",
            "linecolor": "white",
            "ticks": ""
           }
          },
          "scene": {
           "xaxis": {
            "backgroundcolor": "#E5ECF6",
            "gridcolor": "white",
            "gridwidth": 2,
            "linecolor": "white",
            "showbackground": true,
            "ticks": "",
            "zerolinecolor": "white"
           },
           "yaxis": {
            "backgroundcolor": "#E5ECF6",
            "gridcolor": "white",
            "gridwidth": 2,
            "linecolor": "white",
            "showbackground": true,
            "ticks": "",
            "zerolinecolor": "white"
           },
           "zaxis": {
            "backgroundcolor": "#E5ECF6",
            "gridcolor": "white",
            "gridwidth": 2,
            "linecolor": "white",
            "showbackground": true,
            "ticks": "",
            "zerolinecolor": "white"
           }
          },
          "shapedefaults": {
           "line": {
            "color": "#2a3f5f"
           }
          },
          "ternary": {
           "aaxis": {
            "gridcolor": "white",
            "linecolor": "white",
            "ticks": ""
           },
           "baxis": {
            "gridcolor": "white",
            "linecolor": "white",
            "ticks": ""
           },
           "bgcolor": "#E5ECF6",
           "caxis": {
            "gridcolor": "white",
            "linecolor": "white",
            "ticks": ""
           }
          },
          "title": {
           "x": 0.05
          },
          "xaxis": {
           "automargin": true,
           "gridcolor": "white",
           "linecolor": "white",
           "ticks": "",
           "title": {
            "standoff": 15
           },
           "zerolinecolor": "white",
           "zerolinewidth": 2
          },
          "yaxis": {
           "automargin": true,
           "gridcolor": "white",
           "linecolor": "white",
           "ticks": "",
           "title": {
            "standoff": 15
           },
           "zerolinecolor": "white",
           "zerolinewidth": 2
          }
         }
        },
        "title": {
         "text": "Températures ressenties par Ville"
        },
        "xaxis": {
         "anchor": "y",
         "domain": [
          0,
          1
         ],
         "title": {
          "text": "Température ressentie (°C)"
         }
        },
        "yaxis": {
         "anchor": "x",
         "domain": [
          0,
          1
         ],
         "title": {
          "text": "Ville"
         }
        }
       }
      }
     },
     "metadata": {},
     "output_type": "display_data"
    }
   ],
   "source": [
    "df_sorted = bc.sort_values(by='feels_like', ascending=True)\n",
    "\n",
    "# Créer un diagramme en bâtons horizontal\n",
    "fig = px.bar(df_sorted, x='feels_like', y='cities', orientation='h',\n",
    "             title='Températures ressenties par Ville',\n",
    "             labels={'feels_like': 'Température ressentie (°C)', 'cities': 'Ville'})\n",
    "\n",
    "# Ajuster la hauteur du graphique\n",
    "fig.update_layout(height=800)\n",
    "\n",
    "# Afficher le diagramme\n",
    "fig.show()"
   ]
  },
  {
   "cell_type": "code",
   "execution_count": 316,
   "metadata": {},
   "outputs": [
    {
     "data": {
      "application/vnd.plotly.v1+json": {
       "config": {
        "plotlyServerURL": "https://plot.ly"
       },
       "data": [
        {
         "hovertemplate": "Indice UV=%{x}<br>Ville=%{y}<extra></extra>",
         "legendgroup": "",
         "marker": {
          "color": "#636efa",
          "pattern": {
           "shape": ""
          }
         },
         "name": "",
         "orientation": "h",
         "showlegend": false,
         "textposition": "auto",
         "type": "bar",
         "x": {
          "bdata": "AAAAAAAAAAAAAAAAAAAAAAAAAAAAAAAAAAAAAAAAAAAAAAAAAAAAAAAAAAAAAAAAAAAAAAAAAAAAAAAAAAAAAAAAAAAAAAAAAAAAAAAAAAAAAAAAAAAAAAAAAAAAAAAAAAAAAAAAAAAAAAAAAAAAAAAAAAAAAAAAAAAAAAAAAAAAAAAAAAAAAAAAAAAAAAAAAAAAAAAAAAAAAAAAAAAAAAAAAAAAAAAAAAAAAAAAAAAAAAAAAAAAAAAAAAAAAAAAAAAAAAAAAAAAAAAAAAAAAAAAAAAAAAAAAAAAAAAAAAAAAAAAAAAAAAAAAAAAAAAAAAAAAAAAAAAAAAAAAAAAAAAAAAAAAAAAAAAAAAAAAAAAAAAAAAAAAA==",
          "dtype": "f8"
         },
         "xaxis": "x",
         "y": [
          "Mont Saint Michel",
          "Marseille",
          "Aix en Provence",
          "Avignon",
          "Uzes",
          "Nimes",
          "Aigues Mortes",
          "Cassis",
          "Saintes Maries de la mer",
          "Carcassonne",
          "Ariege",
          "Toulouse",
          "Montauban",
          "Biarritz",
          "Bayonne",
          "Collioure",
          "La Rochelle",
          "Bormes les Mimosas",
          "Grenoble",
          "St Malo",
          "Bayeux",
          "Le Havre",
          "Rouen",
          "Paris",
          "Amiens",
          "Lyon",
          "Lille",
          "Chateau du Haut Koenigsbourg",
          "Colmar",
          "Eguisheim",
          "Besancon",
          "Dijon",
          "Annecy",
          "Strasbourg",
          "Gorges du Verdon"
         ],
         "yaxis": "y"
        }
       ],
       "layout": {
        "barmode": "relative",
        "height": 800,
        "legend": {
         "tracegroupgap": 0
        },
        "template": {
         "data": {
          "bar": [
           {
            "error_x": {
             "color": "#2a3f5f"
            },
            "error_y": {
             "color": "#2a3f5f"
            },
            "marker": {
             "line": {
              "color": "#E5ECF6",
              "width": 0.5
             },
             "pattern": {
              "fillmode": "overlay",
              "size": 10,
              "solidity": 0.2
             }
            },
            "type": "bar"
           }
          ],
          "barpolar": [
           {
            "marker": {
             "line": {
              "color": "#E5ECF6",
              "width": 0.5
             },
             "pattern": {
              "fillmode": "overlay",
              "size": 10,
              "solidity": 0.2
             }
            },
            "type": "barpolar"
           }
          ],
          "carpet": [
           {
            "aaxis": {
             "endlinecolor": "#2a3f5f",
             "gridcolor": "white",
             "linecolor": "white",
             "minorgridcolor": "white",
             "startlinecolor": "#2a3f5f"
            },
            "baxis": {
             "endlinecolor": "#2a3f5f",
             "gridcolor": "white",
             "linecolor": "white",
             "minorgridcolor": "white",
             "startlinecolor": "#2a3f5f"
            },
            "type": "carpet"
           }
          ],
          "choropleth": [
           {
            "colorbar": {
             "outlinewidth": 0,
             "ticks": ""
            },
            "type": "choropleth"
           }
          ],
          "contour": [
           {
            "colorbar": {
             "outlinewidth": 0,
             "ticks": ""
            },
            "colorscale": [
             [
              0,
              "#0d0887"
             ],
             [
              0.1111111111111111,
              "#46039f"
             ],
             [
              0.2222222222222222,
              "#7201a8"
             ],
             [
              0.3333333333333333,
              "#9c179e"
             ],
             [
              0.4444444444444444,
              "#bd3786"
             ],
             [
              0.5555555555555556,
              "#d8576b"
             ],
             [
              0.6666666666666666,
              "#ed7953"
             ],
             [
              0.7777777777777778,
              "#fb9f3a"
             ],
             [
              0.8888888888888888,
              "#fdca26"
             ],
             [
              1,
              "#f0f921"
             ]
            ],
            "type": "contour"
           }
          ],
          "contourcarpet": [
           {
            "colorbar": {
             "outlinewidth": 0,
             "ticks": ""
            },
            "type": "contourcarpet"
           }
          ],
          "heatmap": [
           {
            "colorbar": {
             "outlinewidth": 0,
             "ticks": ""
            },
            "colorscale": [
             [
              0,
              "#0d0887"
             ],
             [
              0.1111111111111111,
              "#46039f"
             ],
             [
              0.2222222222222222,
              "#7201a8"
             ],
             [
              0.3333333333333333,
              "#9c179e"
             ],
             [
              0.4444444444444444,
              "#bd3786"
             ],
             [
              0.5555555555555556,
              "#d8576b"
             ],
             [
              0.6666666666666666,
              "#ed7953"
             ],
             [
              0.7777777777777778,
              "#fb9f3a"
             ],
             [
              0.8888888888888888,
              "#fdca26"
             ],
             [
              1,
              "#f0f921"
             ]
            ],
            "type": "heatmap"
           }
          ],
          "histogram": [
           {
            "marker": {
             "pattern": {
              "fillmode": "overlay",
              "size": 10,
              "solidity": 0.2
             }
            },
            "type": "histogram"
           }
          ],
          "histogram2d": [
           {
            "colorbar": {
             "outlinewidth": 0,
             "ticks": ""
            },
            "colorscale": [
             [
              0,
              "#0d0887"
             ],
             [
              0.1111111111111111,
              "#46039f"
             ],
             [
              0.2222222222222222,
              "#7201a8"
             ],
             [
              0.3333333333333333,
              "#9c179e"
             ],
             [
              0.4444444444444444,
              "#bd3786"
             ],
             [
              0.5555555555555556,
              "#d8576b"
             ],
             [
              0.6666666666666666,
              "#ed7953"
             ],
             [
              0.7777777777777778,
              "#fb9f3a"
             ],
             [
              0.8888888888888888,
              "#fdca26"
             ],
             [
              1,
              "#f0f921"
             ]
            ],
            "type": "histogram2d"
           }
          ],
          "histogram2dcontour": [
           {
            "colorbar": {
             "outlinewidth": 0,
             "ticks": ""
            },
            "colorscale": [
             [
              0,
              "#0d0887"
             ],
             [
              0.1111111111111111,
              "#46039f"
             ],
             [
              0.2222222222222222,
              "#7201a8"
             ],
             [
              0.3333333333333333,
              "#9c179e"
             ],
             [
              0.4444444444444444,
              "#bd3786"
             ],
             [
              0.5555555555555556,
              "#d8576b"
             ],
             [
              0.6666666666666666,
              "#ed7953"
             ],
             [
              0.7777777777777778,
              "#fb9f3a"
             ],
             [
              0.8888888888888888,
              "#fdca26"
             ],
             [
              1,
              "#f0f921"
             ]
            ],
            "type": "histogram2dcontour"
           }
          ],
          "mesh3d": [
           {
            "colorbar": {
             "outlinewidth": 0,
             "ticks": ""
            },
            "type": "mesh3d"
           }
          ],
          "parcoords": [
           {
            "line": {
             "colorbar": {
              "outlinewidth": 0,
              "ticks": ""
             }
            },
            "type": "parcoords"
           }
          ],
          "pie": [
           {
            "automargin": true,
            "type": "pie"
           }
          ],
          "scatter": [
           {
            "fillpattern": {
             "fillmode": "overlay",
             "size": 10,
             "solidity": 0.2
            },
            "type": "scatter"
           }
          ],
          "scatter3d": [
           {
            "line": {
             "colorbar": {
              "outlinewidth": 0,
              "ticks": ""
             }
            },
            "marker": {
             "colorbar": {
              "outlinewidth": 0,
              "ticks": ""
             }
            },
            "type": "scatter3d"
           }
          ],
          "scattercarpet": [
           {
            "marker": {
             "colorbar": {
              "outlinewidth": 0,
              "ticks": ""
             }
            },
            "type": "scattercarpet"
           }
          ],
          "scattergeo": [
           {
            "marker": {
             "colorbar": {
              "outlinewidth": 0,
              "ticks": ""
             }
            },
            "type": "scattergeo"
           }
          ],
          "scattergl": [
           {
            "marker": {
             "colorbar": {
              "outlinewidth": 0,
              "ticks": ""
             }
            },
            "type": "scattergl"
           }
          ],
          "scattermap": [
           {
            "marker": {
             "colorbar": {
              "outlinewidth": 0,
              "ticks": ""
             }
            },
            "type": "scattermap"
           }
          ],
          "scattermapbox": [
           {
            "marker": {
             "colorbar": {
              "outlinewidth": 0,
              "ticks": ""
             }
            },
            "type": "scattermapbox"
           }
          ],
          "scatterpolar": [
           {
            "marker": {
             "colorbar": {
              "outlinewidth": 0,
              "ticks": ""
             }
            },
            "type": "scatterpolar"
           }
          ],
          "scatterpolargl": [
           {
            "marker": {
             "colorbar": {
              "outlinewidth": 0,
              "ticks": ""
             }
            },
            "type": "scatterpolargl"
           }
          ],
          "scatterternary": [
           {
            "marker": {
             "colorbar": {
              "outlinewidth": 0,
              "ticks": ""
             }
            },
            "type": "scatterternary"
           }
          ],
          "surface": [
           {
            "colorbar": {
             "outlinewidth": 0,
             "ticks": ""
            },
            "colorscale": [
             [
              0,
              "#0d0887"
             ],
             [
              0.1111111111111111,
              "#46039f"
             ],
             [
              0.2222222222222222,
              "#7201a8"
             ],
             [
              0.3333333333333333,
              "#9c179e"
             ],
             [
              0.4444444444444444,
              "#bd3786"
             ],
             [
              0.5555555555555556,
              "#d8576b"
             ],
             [
              0.6666666666666666,
              "#ed7953"
             ],
             [
              0.7777777777777778,
              "#fb9f3a"
             ],
             [
              0.8888888888888888,
              "#fdca26"
             ],
             [
              1,
              "#f0f921"
             ]
            ],
            "type": "surface"
           }
          ],
          "table": [
           {
            "cells": {
             "fill": {
              "color": "#EBF0F8"
             },
             "line": {
              "color": "white"
             }
            },
            "header": {
             "fill": {
              "color": "#C8D4E3"
             },
             "line": {
              "color": "white"
             }
            },
            "type": "table"
           }
          ]
         },
         "layout": {
          "annotationdefaults": {
           "arrowcolor": "#2a3f5f",
           "arrowhead": 0,
           "arrowwidth": 1
          },
          "autotypenumbers": "strict",
          "coloraxis": {
           "colorbar": {
            "outlinewidth": 0,
            "ticks": ""
           }
          },
          "colorscale": {
           "diverging": [
            [
             0,
             "#8e0152"
            ],
            [
             0.1,
             "#c51b7d"
            ],
            [
             0.2,
             "#de77ae"
            ],
            [
             0.3,
             "#f1b6da"
            ],
            [
             0.4,
             "#fde0ef"
            ],
            [
             0.5,
             "#f7f7f7"
            ],
            [
             0.6,
             "#e6f5d0"
            ],
            [
             0.7,
             "#b8e186"
            ],
            [
             0.8,
             "#7fbc41"
            ],
            [
             0.9,
             "#4d9221"
            ],
            [
             1,
             "#276419"
            ]
           ],
           "sequential": [
            [
             0,
             "#0d0887"
            ],
            [
             0.1111111111111111,
             "#46039f"
            ],
            [
             0.2222222222222222,
             "#7201a8"
            ],
            [
             0.3333333333333333,
             "#9c179e"
            ],
            [
             0.4444444444444444,
             "#bd3786"
            ],
            [
             0.5555555555555556,
             "#d8576b"
            ],
            [
             0.6666666666666666,
             "#ed7953"
            ],
            [
             0.7777777777777778,
             "#fb9f3a"
            ],
            [
             0.8888888888888888,
             "#fdca26"
            ],
            [
             1,
             "#f0f921"
            ]
           ],
           "sequentialminus": [
            [
             0,
             "#0d0887"
            ],
            [
             0.1111111111111111,
             "#46039f"
            ],
            [
             0.2222222222222222,
             "#7201a8"
            ],
            [
             0.3333333333333333,
             "#9c179e"
            ],
            [
             0.4444444444444444,
             "#bd3786"
            ],
            [
             0.5555555555555556,
             "#d8576b"
            ],
            [
             0.6666666666666666,
             "#ed7953"
            ],
            [
             0.7777777777777778,
             "#fb9f3a"
            ],
            [
             0.8888888888888888,
             "#fdca26"
            ],
            [
             1,
             "#f0f921"
            ]
           ]
          },
          "colorway": [
           "#636efa",
           "#EF553B",
           "#00cc96",
           "#ab63fa",
           "#FFA15A",
           "#19d3f3",
           "#FF6692",
           "#B6E880",
           "#FF97FF",
           "#FECB52"
          ],
          "font": {
           "color": "#2a3f5f"
          },
          "geo": {
           "bgcolor": "white",
           "lakecolor": "white",
           "landcolor": "#E5ECF6",
           "showlakes": true,
           "showland": true,
           "subunitcolor": "white"
          },
          "hoverlabel": {
           "align": "left"
          },
          "hovermode": "closest",
          "mapbox": {
           "style": "light"
          },
          "paper_bgcolor": "white",
          "plot_bgcolor": "#E5ECF6",
          "polar": {
           "angularaxis": {
            "gridcolor": "white",
            "linecolor": "white",
            "ticks": ""
           },
           "bgcolor": "#E5ECF6",
           "radialaxis": {
            "gridcolor": "white",
            "linecolor": "white",
            "ticks": ""
           }
          },
          "scene": {
           "xaxis": {
            "backgroundcolor": "#E5ECF6",
            "gridcolor": "white",
            "gridwidth": 2,
            "linecolor": "white",
            "showbackground": true,
            "ticks": "",
            "zerolinecolor": "white"
           },
           "yaxis": {
            "backgroundcolor": "#E5ECF6",
            "gridcolor": "white",
            "gridwidth": 2,
            "linecolor": "white",
            "showbackground": true,
            "ticks": "",
            "zerolinecolor": "white"
           },
           "zaxis": {
            "backgroundcolor": "#E5ECF6",
            "gridcolor": "white",
            "gridwidth": 2,
            "linecolor": "white",
            "showbackground": true,
            "ticks": "",
            "zerolinecolor": "white"
           }
          },
          "shapedefaults": {
           "line": {
            "color": "#2a3f5f"
           }
          },
          "ternary": {
           "aaxis": {
            "gridcolor": "white",
            "linecolor": "white",
            "ticks": ""
           },
           "baxis": {
            "gridcolor": "white",
            "linecolor": "white",
            "ticks": ""
           },
           "bgcolor": "#E5ECF6",
           "caxis": {
            "gridcolor": "white",
            "linecolor": "white",
            "ticks": ""
           }
          },
          "title": {
           "x": 0.05
          },
          "xaxis": {
           "automargin": true,
           "gridcolor": "white",
           "linecolor": "white",
           "ticks": "",
           "title": {
            "standoff": 15
           },
           "zerolinecolor": "white",
           "zerolinewidth": 2
          },
          "yaxis": {
           "automargin": true,
           "gridcolor": "white",
           "linecolor": "white",
           "ticks": "",
           "title": {
            "standoff": 15
           },
           "zerolinecolor": "white",
           "zerolinewidth": 2
          }
         }
        },
        "title": {
         "text": "indices UV par Ville"
        },
        "xaxis": {
         "anchor": "y",
         "domain": [
          0,
          1
         ],
         "title": {
          "text": "Indice UV"
         }
        },
        "yaxis": {
         "anchor": "x",
         "domain": [
          0,
          1
         ],
         "title": {
          "text": "Ville"
         }
        }
       }
      }
     },
     "metadata": {},
     "output_type": "display_data"
    }
   ],
   "source": [
    "df_sorted = bc.sort_values(by='uvi', ascending=True)\n",
    "\n",
    "# Créer un diagramme en bâtons horizontal\n",
    "fig = px.bar(df_sorted, x='uvi', y='cities', orientation='h',\n",
    "             title='indices UV par Ville',\n",
    "             labels={'uvi': 'Indice UV', 'cities': 'Ville'})\n",
    "\n",
    "# Ajuster la hauteur du graphique\n",
    "fig.update_layout(height=800)\n",
    "\n",
    "# Afficher le diagramme\n",
    "fig.show()"
   ]
  },
  {
   "cell_type": "code",
   "execution_count": 317,
   "metadata": {},
   "outputs": [
    {
     "data": {
      "application/vnd.plotly.v1+json": {
       "config": {
        "plotlyServerURL": "https://plot.ly"
       },
       "data": [
        {
         "hovertemplate": "Humidité=%{x}<br>Ville=%{y}<extra></extra>",
         "legendgroup": "",
         "marker": {
          "color": "#636efa",
          "pattern": {
           "shape": ""
          }
         },
         "name": "",
         "orientation": "h",
         "showlegend": false,
         "textposition": "auto",
         "type": "bar",
         "x": {
          "bdata": "AAAAAAAAWUAAAAAAAABZQAAAAAAAgFdAAAAAAACAV0AAAAAAAIBXQAAAAAAAQFdAAAAAAABAV0AAAAAAAEBXQAAAAAAAQFdAAAAAAAAAV0AAAAAAAMBWQAAAAAAAAFZAAAAAAADAVUAAAAAAAMBVQAAAAAAAwFVAAAAAAADAVUAAAAAAAMBVQAAAAAAAgFVAAAAAAADAVEAAAAAAAMBUQAAAAAAAgFRAAAAAAACAVEAAAAAAAEBTQAAAAAAAAFNAAAAAAAAAU0AAAAAAAABTQAAAAAAAwFJAAAAAAADAUkAAAAAAAIBSQAAAAAAAwFFAAAAAAADAUUAAAAAAAIBQQAAAAAAAgE9AAAAAAACAT0AAAAAAAIBLQA==",
          "dtype": "f8"
         },
         "xaxis": "x",
         "y": [
          "Bayonne",
          "Biarritz",
          "Mont Saint Michel",
          "Ariege",
          "Lyon",
          "Montauban",
          "Strasbourg",
          "Annecy",
          "Dijon",
          "Grenoble",
          "Besancon",
          "Toulouse",
          "Gorges du Verdon",
          "Eguisheim",
          "Colmar",
          "Le Havre",
          "Chateau du Haut Koenigsbourg",
          "Bayeux",
          "La Rochelle",
          "Amiens",
          "St Malo",
          "Aix en Provence",
          "Avignon",
          "Carcassonne",
          "Rouen",
          "Uzes",
          "Saintes Maries de la mer",
          "Paris",
          "Collioure",
          "Cassis",
          "Marseille",
          "Lille",
          "Aigues Mortes",
          "Nimes",
          "Bormes les Mimosas"
         ],
         "yaxis": "y"
        }
       ],
       "layout": {
        "barmode": "relative",
        "height": 800,
        "legend": {
         "tracegroupgap": 0
        },
        "template": {
         "data": {
          "bar": [
           {
            "error_x": {
             "color": "#2a3f5f"
            },
            "error_y": {
             "color": "#2a3f5f"
            },
            "marker": {
             "line": {
              "color": "#E5ECF6",
              "width": 0.5
             },
             "pattern": {
              "fillmode": "overlay",
              "size": 10,
              "solidity": 0.2
             }
            },
            "type": "bar"
           }
          ],
          "barpolar": [
           {
            "marker": {
             "line": {
              "color": "#E5ECF6",
              "width": 0.5
             },
             "pattern": {
              "fillmode": "overlay",
              "size": 10,
              "solidity": 0.2
             }
            },
            "type": "barpolar"
           }
          ],
          "carpet": [
           {
            "aaxis": {
             "endlinecolor": "#2a3f5f",
             "gridcolor": "white",
             "linecolor": "white",
             "minorgridcolor": "white",
             "startlinecolor": "#2a3f5f"
            },
            "baxis": {
             "endlinecolor": "#2a3f5f",
             "gridcolor": "white",
             "linecolor": "white",
             "minorgridcolor": "white",
             "startlinecolor": "#2a3f5f"
            },
            "type": "carpet"
           }
          ],
          "choropleth": [
           {
            "colorbar": {
             "outlinewidth": 0,
             "ticks": ""
            },
            "type": "choropleth"
           }
          ],
          "contour": [
           {
            "colorbar": {
             "outlinewidth": 0,
             "ticks": ""
            },
            "colorscale": [
             [
              0,
              "#0d0887"
             ],
             [
              0.1111111111111111,
              "#46039f"
             ],
             [
              0.2222222222222222,
              "#7201a8"
             ],
             [
              0.3333333333333333,
              "#9c179e"
             ],
             [
              0.4444444444444444,
              "#bd3786"
             ],
             [
              0.5555555555555556,
              "#d8576b"
             ],
             [
              0.6666666666666666,
              "#ed7953"
             ],
             [
              0.7777777777777778,
              "#fb9f3a"
             ],
             [
              0.8888888888888888,
              "#fdca26"
             ],
             [
              1,
              "#f0f921"
             ]
            ],
            "type": "contour"
           }
          ],
          "contourcarpet": [
           {
            "colorbar": {
             "outlinewidth": 0,
             "ticks": ""
            },
            "type": "contourcarpet"
           }
          ],
          "heatmap": [
           {
            "colorbar": {
             "outlinewidth": 0,
             "ticks": ""
            },
            "colorscale": [
             [
              0,
              "#0d0887"
             ],
             [
              0.1111111111111111,
              "#46039f"
             ],
             [
              0.2222222222222222,
              "#7201a8"
             ],
             [
              0.3333333333333333,
              "#9c179e"
             ],
             [
              0.4444444444444444,
              "#bd3786"
             ],
             [
              0.5555555555555556,
              "#d8576b"
             ],
             [
              0.6666666666666666,
              "#ed7953"
             ],
             [
              0.7777777777777778,
              "#fb9f3a"
             ],
             [
              0.8888888888888888,
              "#fdca26"
             ],
             [
              1,
              "#f0f921"
             ]
            ],
            "type": "heatmap"
           }
          ],
          "histogram": [
           {
            "marker": {
             "pattern": {
              "fillmode": "overlay",
              "size": 10,
              "solidity": 0.2
             }
            },
            "type": "histogram"
           }
          ],
          "histogram2d": [
           {
            "colorbar": {
             "outlinewidth": 0,
             "ticks": ""
            },
            "colorscale": [
             [
              0,
              "#0d0887"
             ],
             [
              0.1111111111111111,
              "#46039f"
             ],
             [
              0.2222222222222222,
              "#7201a8"
             ],
             [
              0.3333333333333333,
              "#9c179e"
             ],
             [
              0.4444444444444444,
              "#bd3786"
             ],
             [
              0.5555555555555556,
              "#d8576b"
             ],
             [
              0.6666666666666666,
              "#ed7953"
             ],
             [
              0.7777777777777778,
              "#fb9f3a"
             ],
             [
              0.8888888888888888,
              "#fdca26"
             ],
             [
              1,
              "#f0f921"
             ]
            ],
            "type": "histogram2d"
           }
          ],
          "histogram2dcontour": [
           {
            "colorbar": {
             "outlinewidth": 0,
             "ticks": ""
            },
            "colorscale": [
             [
              0,
              "#0d0887"
             ],
             [
              0.1111111111111111,
              "#46039f"
             ],
             [
              0.2222222222222222,
              "#7201a8"
             ],
             [
              0.3333333333333333,
              "#9c179e"
             ],
             [
              0.4444444444444444,
              "#bd3786"
             ],
             [
              0.5555555555555556,
              "#d8576b"
             ],
             [
              0.6666666666666666,
              "#ed7953"
             ],
             [
              0.7777777777777778,
              "#fb9f3a"
             ],
             [
              0.8888888888888888,
              "#fdca26"
             ],
             [
              1,
              "#f0f921"
             ]
            ],
            "type": "histogram2dcontour"
           }
          ],
          "mesh3d": [
           {
            "colorbar": {
             "outlinewidth": 0,
             "ticks": ""
            },
            "type": "mesh3d"
           }
          ],
          "parcoords": [
           {
            "line": {
             "colorbar": {
              "outlinewidth": 0,
              "ticks": ""
             }
            },
            "type": "parcoords"
           }
          ],
          "pie": [
           {
            "automargin": true,
            "type": "pie"
           }
          ],
          "scatter": [
           {
            "fillpattern": {
             "fillmode": "overlay",
             "size": 10,
             "solidity": 0.2
            },
            "type": "scatter"
           }
          ],
          "scatter3d": [
           {
            "line": {
             "colorbar": {
              "outlinewidth": 0,
              "ticks": ""
             }
            },
            "marker": {
             "colorbar": {
              "outlinewidth": 0,
              "ticks": ""
             }
            },
            "type": "scatter3d"
           }
          ],
          "scattercarpet": [
           {
            "marker": {
             "colorbar": {
              "outlinewidth": 0,
              "ticks": ""
             }
            },
            "type": "scattercarpet"
           }
          ],
          "scattergeo": [
           {
            "marker": {
             "colorbar": {
              "outlinewidth": 0,
              "ticks": ""
             }
            },
            "type": "scattergeo"
           }
          ],
          "scattergl": [
           {
            "marker": {
             "colorbar": {
              "outlinewidth": 0,
              "ticks": ""
             }
            },
            "type": "scattergl"
           }
          ],
          "scattermap": [
           {
            "marker": {
             "colorbar": {
              "outlinewidth": 0,
              "ticks": ""
             }
            },
            "type": "scattermap"
           }
          ],
          "scattermapbox": [
           {
            "marker": {
             "colorbar": {
              "outlinewidth": 0,
              "ticks": ""
             }
            },
            "type": "scattermapbox"
           }
          ],
          "scatterpolar": [
           {
            "marker": {
             "colorbar": {
              "outlinewidth": 0,
              "ticks": ""
             }
            },
            "type": "scatterpolar"
           }
          ],
          "scatterpolargl": [
           {
            "marker": {
             "colorbar": {
              "outlinewidth": 0,
              "ticks": ""
             }
            },
            "type": "scatterpolargl"
           }
          ],
          "scatterternary": [
           {
            "marker": {
             "colorbar": {
              "outlinewidth": 0,
              "ticks": ""
             }
            },
            "type": "scatterternary"
           }
          ],
          "surface": [
           {
            "colorbar": {
             "outlinewidth": 0,
             "ticks": ""
            },
            "colorscale": [
             [
              0,
              "#0d0887"
             ],
             [
              0.1111111111111111,
              "#46039f"
             ],
             [
              0.2222222222222222,
              "#7201a8"
             ],
             [
              0.3333333333333333,
              "#9c179e"
             ],
             [
              0.4444444444444444,
              "#bd3786"
             ],
             [
              0.5555555555555556,
              "#d8576b"
             ],
             [
              0.6666666666666666,
              "#ed7953"
             ],
             [
              0.7777777777777778,
              "#fb9f3a"
             ],
             [
              0.8888888888888888,
              "#fdca26"
             ],
             [
              1,
              "#f0f921"
             ]
            ],
            "type": "surface"
           }
          ],
          "table": [
           {
            "cells": {
             "fill": {
              "color": "#EBF0F8"
             },
             "line": {
              "color": "white"
             }
            },
            "header": {
             "fill": {
              "color": "#C8D4E3"
             },
             "line": {
              "color": "white"
             }
            },
            "type": "table"
           }
          ]
         },
         "layout": {
          "annotationdefaults": {
           "arrowcolor": "#2a3f5f",
           "arrowhead": 0,
           "arrowwidth": 1
          },
          "autotypenumbers": "strict",
          "coloraxis": {
           "colorbar": {
            "outlinewidth": 0,
            "ticks": ""
           }
          },
          "colorscale": {
           "diverging": [
            [
             0,
             "#8e0152"
            ],
            [
             0.1,
             "#c51b7d"
            ],
            [
             0.2,
             "#de77ae"
            ],
            [
             0.3,
             "#f1b6da"
            ],
            [
             0.4,
             "#fde0ef"
            ],
            [
             0.5,
             "#f7f7f7"
            ],
            [
             0.6,
             "#e6f5d0"
            ],
            [
             0.7,
             "#b8e186"
            ],
            [
             0.8,
             "#7fbc41"
            ],
            [
             0.9,
             "#4d9221"
            ],
            [
             1,
             "#276419"
            ]
           ],
           "sequential": [
            [
             0,
             "#0d0887"
            ],
            [
             0.1111111111111111,
             "#46039f"
            ],
            [
             0.2222222222222222,
             "#7201a8"
            ],
            [
             0.3333333333333333,
             "#9c179e"
            ],
            [
             0.4444444444444444,
             "#bd3786"
            ],
            [
             0.5555555555555556,
             "#d8576b"
            ],
            [
             0.6666666666666666,
             "#ed7953"
            ],
            [
             0.7777777777777778,
             "#fb9f3a"
            ],
            [
             0.8888888888888888,
             "#fdca26"
            ],
            [
             1,
             "#f0f921"
            ]
           ],
           "sequentialminus": [
            [
             0,
             "#0d0887"
            ],
            [
             0.1111111111111111,
             "#46039f"
            ],
            [
             0.2222222222222222,
             "#7201a8"
            ],
            [
             0.3333333333333333,
             "#9c179e"
            ],
            [
             0.4444444444444444,
             "#bd3786"
            ],
            [
             0.5555555555555556,
             "#d8576b"
            ],
            [
             0.6666666666666666,
             "#ed7953"
            ],
            [
             0.7777777777777778,
             "#fb9f3a"
            ],
            [
             0.8888888888888888,
             "#fdca26"
            ],
            [
             1,
             "#f0f921"
            ]
           ]
          },
          "colorway": [
           "#636efa",
           "#EF553B",
           "#00cc96",
           "#ab63fa",
           "#FFA15A",
           "#19d3f3",
           "#FF6692",
           "#B6E880",
           "#FF97FF",
           "#FECB52"
          ],
          "font": {
           "color": "#2a3f5f"
          },
          "geo": {
           "bgcolor": "white",
           "lakecolor": "white",
           "landcolor": "#E5ECF6",
           "showlakes": true,
           "showland": true,
           "subunitcolor": "white"
          },
          "hoverlabel": {
           "align": "left"
          },
          "hovermode": "closest",
          "mapbox": {
           "style": "light"
          },
          "paper_bgcolor": "white",
          "plot_bgcolor": "#E5ECF6",
          "polar": {
           "angularaxis": {
            "gridcolor": "white",
            "linecolor": "white",
            "ticks": ""
           },
           "bgcolor": "#E5ECF6",
           "radialaxis": {
            "gridcolor": "white",
            "linecolor": "white",
            "ticks": ""
           }
          },
          "scene": {
           "xaxis": {
            "backgroundcolor": "#E5ECF6",
            "gridcolor": "white",
            "gridwidth": 2,
            "linecolor": "white",
            "showbackground": true,
            "ticks": "",
            "zerolinecolor": "white"
           },
           "yaxis": {
            "backgroundcolor": "#E5ECF6",
            "gridcolor": "white",
            "gridwidth": 2,
            "linecolor": "white",
            "showbackground": true,
            "ticks": "",
            "zerolinecolor": "white"
           },
           "zaxis": {
            "backgroundcolor": "#E5ECF6",
            "gridcolor": "white",
            "gridwidth": 2,
            "linecolor": "white",
            "showbackground": true,
            "ticks": "",
            "zerolinecolor": "white"
           }
          },
          "shapedefaults": {
           "line": {
            "color": "#2a3f5f"
           }
          },
          "ternary": {
           "aaxis": {
            "gridcolor": "white",
            "linecolor": "white",
            "ticks": ""
           },
           "baxis": {
            "gridcolor": "white",
            "linecolor": "white",
            "ticks": ""
           },
           "bgcolor": "#E5ECF6",
           "caxis": {
            "gridcolor": "white",
            "linecolor": "white",
            "ticks": ""
           }
          },
          "title": {
           "x": 0.05
          },
          "xaxis": {
           "automargin": true,
           "gridcolor": "white",
           "linecolor": "white",
           "ticks": "",
           "title": {
            "standoff": 15
           },
           "zerolinecolor": "white",
           "zerolinewidth": 2
          },
          "yaxis": {
           "automargin": true,
           "gridcolor": "white",
           "linecolor": "white",
           "ticks": "",
           "title": {
            "standoff": 15
           },
           "zerolinecolor": "white",
           "zerolinewidth": 2
          }
         }
        },
        "title": {
         "text": "Humidité par Ville"
        },
        "xaxis": {
         "anchor": "y",
         "domain": [
          0,
          1
         ],
         "title": {
          "text": "Humidité"
         }
        },
        "yaxis": {
         "anchor": "x",
         "domain": [
          0,
          1
         ],
         "title": {
          "text": "Ville"
         }
        }
       }
      }
     },
     "metadata": {},
     "output_type": "display_data"
    }
   ],
   "source": [
    "df_sorted = bc.sort_values(by='humidity', ascending=False)\n",
    "\n",
    "# Créer un diagramme en bâtons horizontal\n",
    "fig = px.bar(df_sorted, x='humidity', y='cities', orientation='h',\n",
    "             title='Humidité par Ville',\n",
    "             labels={'humidity': 'Humidité', 'cities': 'Ville'})\n",
    "\n",
    "# Ajuster la hauteur du graphique\n",
    "fig.update_layout(height=800)\n",
    "\n",
    "# Afficher le diagramme\n",
    "fig.show()"
   ]
  },
  {
   "cell_type": "code",
   "execution_count": 318,
   "metadata": {},
   "outputs": [
    {
     "data": {
      "application/vnd.plotly.v1+json": {
       "config": {
        "plotlyServerURL": "https://plot.ly"
       },
       "data": [
        {
         "hovertemplate": "wind_speed=%{x}<br>Ville=%{y}<extra></extra>",
         "legendgroup": "",
         "marker": {
          "color": "#636efa",
          "pattern": {
           "shape": ""
          }
         },
         "name": "",
         "orientation": "h",
         "showlegend": false,
         "textposition": "auto",
         "type": "bar",
         "x": {
          "bdata": "AAAAAACAIUAAAAAAAAAhQPYoXI/CdSBA16NwPQpXIEDhehSuR+EeQPYoXI/C9R1Aw/UoXI/CGkDD9Shcj8IaQMP1KFyPwhpAj8L1KFyPFEDhehSuR+ETQK5H4XoUrhNAcT0K16NwE0D2KFyPwvUSQIXrUbgehRJAuB6F61G4DkDNzMzMzMwMQM3MzMzMzAxAuB6F61G4CECkcD0K16MIQHsUrkfhegZAj8L1KFyPBECPwvUoXI8EQI/C9ShcjwRAj8L1KFyPAkB7FK5H4XoAQHE9CtejcP0/pHA9Ctej+D+kcD0K16P4P6RwPQrXo/g/pHA9Ctej+D+kcD0K16P4P3E9CtejcPU/UrgehetR4D/NzMzMzMzcPw==",
          "dtype": "f8"
         },
         "xaxis": "x",
         "y": [
          "La Rochelle",
          "Cassis",
          "Carcassonne",
          "Saintes Maries de la mer",
          "Toulouse",
          "Montauban",
          "Bormes les Mimosas",
          "Bayonne",
          "Biarritz",
          "Le Havre",
          "Bayeux",
          "Marseille",
          "Gorges du Verdon",
          "Besancon",
          "St Malo",
          "Mont Saint Michel",
          "Nimes",
          "Rouen",
          "Lyon",
          "Amiens",
          "Uzes",
          "Paris",
          "Strasbourg",
          "Dijon",
          "Collioure",
          "Aigues Mortes",
          "Ariege",
          "Annecy",
          "Colmar",
          "Chateau du Haut Koenigsbourg",
          "Avignon",
          "Eguisheim",
          "Grenoble",
          "Lille",
          "Aix en Provence"
         ],
         "yaxis": "y"
        }
       ],
       "layout": {
        "barmode": "relative",
        "height": 800,
        "legend": {
         "tracegroupgap": 0
        },
        "template": {
         "data": {
          "bar": [
           {
            "error_x": {
             "color": "#2a3f5f"
            },
            "error_y": {
             "color": "#2a3f5f"
            },
            "marker": {
             "line": {
              "color": "#E5ECF6",
              "width": 0.5
             },
             "pattern": {
              "fillmode": "overlay",
              "size": 10,
              "solidity": 0.2
             }
            },
            "type": "bar"
           }
          ],
          "barpolar": [
           {
            "marker": {
             "line": {
              "color": "#E5ECF6",
              "width": 0.5
             },
             "pattern": {
              "fillmode": "overlay",
              "size": 10,
              "solidity": 0.2
             }
            },
            "type": "barpolar"
           }
          ],
          "carpet": [
           {
            "aaxis": {
             "endlinecolor": "#2a3f5f",
             "gridcolor": "white",
             "linecolor": "white",
             "minorgridcolor": "white",
             "startlinecolor": "#2a3f5f"
            },
            "baxis": {
             "endlinecolor": "#2a3f5f",
             "gridcolor": "white",
             "linecolor": "white",
             "minorgridcolor": "white",
             "startlinecolor": "#2a3f5f"
            },
            "type": "carpet"
           }
          ],
          "choropleth": [
           {
            "colorbar": {
             "outlinewidth": 0,
             "ticks": ""
            },
            "type": "choropleth"
           }
          ],
          "contour": [
           {
            "colorbar": {
             "outlinewidth": 0,
             "ticks": ""
            },
            "colorscale": [
             [
              0,
              "#0d0887"
             ],
             [
              0.1111111111111111,
              "#46039f"
             ],
             [
              0.2222222222222222,
              "#7201a8"
             ],
             [
              0.3333333333333333,
              "#9c179e"
             ],
             [
              0.4444444444444444,
              "#bd3786"
             ],
             [
              0.5555555555555556,
              "#d8576b"
             ],
             [
              0.6666666666666666,
              "#ed7953"
             ],
             [
              0.7777777777777778,
              "#fb9f3a"
             ],
             [
              0.8888888888888888,
              "#fdca26"
             ],
             [
              1,
              "#f0f921"
             ]
            ],
            "type": "contour"
           }
          ],
          "contourcarpet": [
           {
            "colorbar": {
             "outlinewidth": 0,
             "ticks": ""
            },
            "type": "contourcarpet"
           }
          ],
          "heatmap": [
           {
            "colorbar": {
             "outlinewidth": 0,
             "ticks": ""
            },
            "colorscale": [
             [
              0,
              "#0d0887"
             ],
             [
              0.1111111111111111,
              "#46039f"
             ],
             [
              0.2222222222222222,
              "#7201a8"
             ],
             [
              0.3333333333333333,
              "#9c179e"
             ],
             [
              0.4444444444444444,
              "#bd3786"
             ],
             [
              0.5555555555555556,
              "#d8576b"
             ],
             [
              0.6666666666666666,
              "#ed7953"
             ],
             [
              0.7777777777777778,
              "#fb9f3a"
             ],
             [
              0.8888888888888888,
              "#fdca26"
             ],
             [
              1,
              "#f0f921"
             ]
            ],
            "type": "heatmap"
           }
          ],
          "histogram": [
           {
            "marker": {
             "pattern": {
              "fillmode": "overlay",
              "size": 10,
              "solidity": 0.2
             }
            },
            "type": "histogram"
           }
          ],
          "histogram2d": [
           {
            "colorbar": {
             "outlinewidth": 0,
             "ticks": ""
            },
            "colorscale": [
             [
              0,
              "#0d0887"
             ],
             [
              0.1111111111111111,
              "#46039f"
             ],
             [
              0.2222222222222222,
              "#7201a8"
             ],
             [
              0.3333333333333333,
              "#9c179e"
             ],
             [
              0.4444444444444444,
              "#bd3786"
             ],
             [
              0.5555555555555556,
              "#d8576b"
             ],
             [
              0.6666666666666666,
              "#ed7953"
             ],
             [
              0.7777777777777778,
              "#fb9f3a"
             ],
             [
              0.8888888888888888,
              "#fdca26"
             ],
             [
              1,
              "#f0f921"
             ]
            ],
            "type": "histogram2d"
           }
          ],
          "histogram2dcontour": [
           {
            "colorbar": {
             "outlinewidth": 0,
             "ticks": ""
            },
            "colorscale": [
             [
              0,
              "#0d0887"
             ],
             [
              0.1111111111111111,
              "#46039f"
             ],
             [
              0.2222222222222222,
              "#7201a8"
             ],
             [
              0.3333333333333333,
              "#9c179e"
             ],
             [
              0.4444444444444444,
              "#bd3786"
             ],
             [
              0.5555555555555556,
              "#d8576b"
             ],
             [
              0.6666666666666666,
              "#ed7953"
             ],
             [
              0.7777777777777778,
              "#fb9f3a"
             ],
             [
              0.8888888888888888,
              "#fdca26"
             ],
             [
              1,
              "#f0f921"
             ]
            ],
            "type": "histogram2dcontour"
           }
          ],
          "mesh3d": [
           {
            "colorbar": {
             "outlinewidth": 0,
             "ticks": ""
            },
            "type": "mesh3d"
           }
          ],
          "parcoords": [
           {
            "line": {
             "colorbar": {
              "outlinewidth": 0,
              "ticks": ""
             }
            },
            "type": "parcoords"
           }
          ],
          "pie": [
           {
            "automargin": true,
            "type": "pie"
           }
          ],
          "scatter": [
           {
            "fillpattern": {
             "fillmode": "overlay",
             "size": 10,
             "solidity": 0.2
            },
            "type": "scatter"
           }
          ],
          "scatter3d": [
           {
            "line": {
             "colorbar": {
              "outlinewidth": 0,
              "ticks": ""
             }
            },
            "marker": {
             "colorbar": {
              "outlinewidth": 0,
              "ticks": ""
             }
            },
            "type": "scatter3d"
           }
          ],
          "scattercarpet": [
           {
            "marker": {
             "colorbar": {
              "outlinewidth": 0,
              "ticks": ""
             }
            },
            "type": "scattercarpet"
           }
          ],
          "scattergeo": [
           {
            "marker": {
             "colorbar": {
              "outlinewidth": 0,
              "ticks": ""
             }
            },
            "type": "scattergeo"
           }
          ],
          "scattergl": [
           {
            "marker": {
             "colorbar": {
              "outlinewidth": 0,
              "ticks": ""
             }
            },
            "type": "scattergl"
           }
          ],
          "scattermap": [
           {
            "marker": {
             "colorbar": {
              "outlinewidth": 0,
              "ticks": ""
             }
            },
            "type": "scattermap"
           }
          ],
          "scattermapbox": [
           {
            "marker": {
             "colorbar": {
              "outlinewidth": 0,
              "ticks": ""
             }
            },
            "type": "scattermapbox"
           }
          ],
          "scatterpolar": [
           {
            "marker": {
             "colorbar": {
              "outlinewidth": 0,
              "ticks": ""
             }
            },
            "type": "scatterpolar"
           }
          ],
          "scatterpolargl": [
           {
            "marker": {
             "colorbar": {
              "outlinewidth": 0,
              "ticks": ""
             }
            },
            "type": "scatterpolargl"
           }
          ],
          "scatterternary": [
           {
            "marker": {
             "colorbar": {
              "outlinewidth": 0,
              "ticks": ""
             }
            },
            "type": "scatterternary"
           }
          ],
          "surface": [
           {
            "colorbar": {
             "outlinewidth": 0,
             "ticks": ""
            },
            "colorscale": [
             [
              0,
              "#0d0887"
             ],
             [
              0.1111111111111111,
              "#46039f"
             ],
             [
              0.2222222222222222,
              "#7201a8"
             ],
             [
              0.3333333333333333,
              "#9c179e"
             ],
             [
              0.4444444444444444,
              "#bd3786"
             ],
             [
              0.5555555555555556,
              "#d8576b"
             ],
             [
              0.6666666666666666,
              "#ed7953"
             ],
             [
              0.7777777777777778,
              "#fb9f3a"
             ],
             [
              0.8888888888888888,
              "#fdca26"
             ],
             [
              1,
              "#f0f921"
             ]
            ],
            "type": "surface"
           }
          ],
          "table": [
           {
            "cells": {
             "fill": {
              "color": "#EBF0F8"
             },
             "line": {
              "color": "white"
             }
            },
            "header": {
             "fill": {
              "color": "#C8D4E3"
             },
             "line": {
              "color": "white"
             }
            },
            "type": "table"
           }
          ]
         },
         "layout": {
          "annotationdefaults": {
           "arrowcolor": "#2a3f5f",
           "arrowhead": 0,
           "arrowwidth": 1
          },
          "autotypenumbers": "strict",
          "coloraxis": {
           "colorbar": {
            "outlinewidth": 0,
            "ticks": ""
           }
          },
          "colorscale": {
           "diverging": [
            [
             0,
             "#8e0152"
            ],
            [
             0.1,
             "#c51b7d"
            ],
            [
             0.2,
             "#de77ae"
            ],
            [
             0.3,
             "#f1b6da"
            ],
            [
             0.4,
             "#fde0ef"
            ],
            [
             0.5,
             "#f7f7f7"
            ],
            [
             0.6,
             "#e6f5d0"
            ],
            [
             0.7,
             "#b8e186"
            ],
            [
             0.8,
             "#7fbc41"
            ],
            [
             0.9,
             "#4d9221"
            ],
            [
             1,
             "#276419"
            ]
           ],
           "sequential": [
            [
             0,
             "#0d0887"
            ],
            [
             0.1111111111111111,
             "#46039f"
            ],
            [
             0.2222222222222222,
             "#7201a8"
            ],
            [
             0.3333333333333333,
             "#9c179e"
            ],
            [
             0.4444444444444444,
             "#bd3786"
            ],
            [
             0.5555555555555556,
             "#d8576b"
            ],
            [
             0.6666666666666666,
             "#ed7953"
            ],
            [
             0.7777777777777778,
             "#fb9f3a"
            ],
            [
             0.8888888888888888,
             "#fdca26"
            ],
            [
             1,
             "#f0f921"
            ]
           ],
           "sequentialminus": [
            [
             0,
             "#0d0887"
            ],
            [
             0.1111111111111111,
             "#46039f"
            ],
            [
             0.2222222222222222,
             "#7201a8"
            ],
            [
             0.3333333333333333,
             "#9c179e"
            ],
            [
             0.4444444444444444,
             "#bd3786"
            ],
            [
             0.5555555555555556,
             "#d8576b"
            ],
            [
             0.6666666666666666,
             "#ed7953"
            ],
            [
             0.7777777777777778,
             "#fb9f3a"
            ],
            [
             0.8888888888888888,
             "#fdca26"
            ],
            [
             1,
             "#f0f921"
            ]
           ]
          },
          "colorway": [
           "#636efa",
           "#EF553B",
           "#00cc96",
           "#ab63fa",
           "#FFA15A",
           "#19d3f3",
           "#FF6692",
           "#B6E880",
           "#FF97FF",
           "#FECB52"
          ],
          "font": {
           "color": "#2a3f5f"
          },
          "geo": {
           "bgcolor": "white",
           "lakecolor": "white",
           "landcolor": "#E5ECF6",
           "showlakes": true,
           "showland": true,
           "subunitcolor": "white"
          },
          "hoverlabel": {
           "align": "left"
          },
          "hovermode": "closest",
          "mapbox": {
           "style": "light"
          },
          "paper_bgcolor": "white",
          "plot_bgcolor": "#E5ECF6",
          "polar": {
           "angularaxis": {
            "gridcolor": "white",
            "linecolor": "white",
            "ticks": ""
           },
           "bgcolor": "#E5ECF6",
           "radialaxis": {
            "gridcolor": "white",
            "linecolor": "white",
            "ticks": ""
           }
          },
          "scene": {
           "xaxis": {
            "backgroundcolor": "#E5ECF6",
            "gridcolor": "white",
            "gridwidth": 2,
            "linecolor": "white",
            "showbackground": true,
            "ticks": "",
            "zerolinecolor": "white"
           },
           "yaxis": {
            "backgroundcolor": "#E5ECF6",
            "gridcolor": "white",
            "gridwidth": 2,
            "linecolor": "white",
            "showbackground": true,
            "ticks": "",
            "zerolinecolor": "white"
           },
           "zaxis": {
            "backgroundcolor": "#E5ECF6",
            "gridcolor": "white",
            "gridwidth": 2,
            "linecolor": "white",
            "showbackground": true,
            "ticks": "",
            "zerolinecolor": "white"
           }
          },
          "shapedefaults": {
           "line": {
            "color": "#2a3f5f"
           }
          },
          "ternary": {
           "aaxis": {
            "gridcolor": "white",
            "linecolor": "white",
            "ticks": ""
           },
           "baxis": {
            "gridcolor": "white",
            "linecolor": "white",
            "ticks": ""
           },
           "bgcolor": "#E5ECF6",
           "caxis": {
            "gridcolor": "white",
            "linecolor": "white",
            "ticks": ""
           }
          },
          "title": {
           "x": 0.05
          },
          "xaxis": {
           "automargin": true,
           "gridcolor": "white",
           "linecolor": "white",
           "ticks": "",
           "title": {
            "standoff": 15
           },
           "zerolinecolor": "white",
           "zerolinewidth": 2
          },
          "yaxis": {
           "automargin": true,
           "gridcolor": "white",
           "linecolor": "white",
           "ticks": "",
           "title": {
            "standoff": 15
           },
           "zerolinecolor": "white",
           "zerolinewidth": 2
          }
         }
        },
        "title": {
         "text": "Vitesse du vent par Ville"
        },
        "xaxis": {
         "anchor": "y",
         "domain": [
          0,
          1
         ],
         "title": {
          "text": "wind_speed"
         }
        },
        "yaxis": {
         "anchor": "x",
         "domain": [
          0,
          1
         ],
         "title": {
          "text": "Ville"
         }
        }
       }
      }
     },
     "metadata": {},
     "output_type": "display_data"
    }
   ],
   "source": [
    "df_sorted = bc.sort_values(by='wind_speed', ascending=False)\n",
    "\n",
    "# Créer un diagramme en bâtons horizontal\n",
    "fig = px.bar(df_sorted, x='wind_speed', y='cities', orientation='h',\n",
    "             title='Vitesse du vent par Ville',\n",
    "             labels={'wind_speed': 'wind_speed', 'cities': 'Ville'})\n",
    "\n",
    "# Ajuster la hauteur du graphique\n",
    "fig.update_layout(height=800)\n",
    "\n",
    "# Afficher le diagramme\n",
    "fig.show()"
   ]
  },
  {
   "cell_type": "code",
   "execution_count": 319,
   "metadata": {},
   "outputs": [
    {
     "data": {
      "text/html": [
       "<div style=\"width:100%;\"><div style=\"position:relative;width:100%;height:0;padding-bottom:60%;\"><span style=\"color:#565656\">Make this Notebook Trusted to load map: File -> Trust Notebook</span><iframe srcdoc=\"&lt;!DOCTYPE html&gt;\n",
       "&lt;html&gt;\n",
       "&lt;head&gt;\n",
       "    \n",
       "    &lt;meta http-equiv=&quot;content-type&quot; content=&quot;text/html; charset=UTF-8&quot; /&gt;\n",
       "    \n",
       "        &lt;script&gt;\n",
       "            L_NO_TOUCH = false;\n",
       "            L_DISABLE_3D = false;\n",
       "        &lt;/script&gt;\n",
       "    \n",
       "    &lt;style&gt;html, body {width: 100%;height: 100%;margin: 0;padding: 0;}&lt;/style&gt;\n",
       "    &lt;style&gt;#map {position:absolute;top:0;bottom:0;right:0;left:0;}&lt;/style&gt;\n",
       "    &lt;script src=&quot;https://cdn.jsdelivr.net/npm/leaflet@1.9.3/dist/leaflet.js&quot;&gt;&lt;/script&gt;\n",
       "    &lt;script src=&quot;https://code.jquery.com/jquery-3.7.1.min.js&quot;&gt;&lt;/script&gt;\n",
       "    &lt;script src=&quot;https://cdn.jsdelivr.net/npm/bootstrap@5.2.2/dist/js/bootstrap.bundle.min.js&quot;&gt;&lt;/script&gt;\n",
       "    &lt;script src=&quot;https://cdnjs.cloudflare.com/ajax/libs/Leaflet.awesome-markers/2.0.2/leaflet.awesome-markers.js&quot;&gt;&lt;/script&gt;\n",
       "    &lt;link rel=&quot;stylesheet&quot; href=&quot;https://cdn.jsdelivr.net/npm/leaflet@1.9.3/dist/leaflet.css&quot;/&gt;\n",
       "    &lt;link rel=&quot;stylesheet&quot; href=&quot;https://cdn.jsdelivr.net/npm/bootstrap@5.2.2/dist/css/bootstrap.min.css&quot;/&gt;\n",
       "    &lt;link rel=&quot;stylesheet&quot; href=&quot;https://netdna.bootstrapcdn.com/bootstrap/3.0.0/css/bootstrap-glyphicons.css&quot;/&gt;\n",
       "    &lt;link rel=&quot;stylesheet&quot; href=&quot;https://cdn.jsdelivr.net/npm/@fortawesome/fontawesome-free@6.2.0/css/all.min.css&quot;/&gt;\n",
       "    &lt;link rel=&quot;stylesheet&quot; href=&quot;https://cdnjs.cloudflare.com/ajax/libs/Leaflet.awesome-markers/2.0.2/leaflet.awesome-markers.css&quot;/&gt;\n",
       "    &lt;link rel=&quot;stylesheet&quot; href=&quot;https://cdn.jsdelivr.net/gh/python-visualization/folium/folium/templates/leaflet.awesome.rotate.min.css&quot;/&gt;\n",
       "    \n",
       "            &lt;meta name=&quot;viewport&quot; content=&quot;width=device-width,\n",
       "                initial-scale=1.0, maximum-scale=1.0, user-scalable=no&quot; /&gt;\n",
       "            &lt;style&gt;\n",
       "                #map_9773ab34c3ff09dc2d33ea8ae2b5f939 {\n",
       "                    position: relative;\n",
       "                    width: 100.0%;\n",
       "                    height: 100.0%;\n",
       "                    left: 0.0%;\n",
       "                    top: 0.0%;\n",
       "                }\n",
       "                .leaflet-container { font-size: 1rem; }\n",
       "            &lt;/style&gt;\n",
       "        \n",
       "&lt;/head&gt;\n",
       "&lt;body&gt;\n",
       "    \n",
       "    \n",
       "            &lt;div class=&quot;folium-map&quot; id=&quot;map_9773ab34c3ff09dc2d33ea8ae2b5f939&quot; &gt;&lt;/div&gt;\n",
       "        \n",
       "&lt;/body&gt;\n",
       "&lt;script&gt;\n",
       "    \n",
       "    \n",
       "            var map_9773ab34c3ff09dc2d33ea8ae2b5f939 = L.map(\n",
       "                &quot;map_9773ab34c3ff09dc2d33ea8ae2b5f939&quot;,\n",
       "                {\n",
       "                    center: [46.603354, 1.888334],\n",
       "                    crs: L.CRS.EPSG3857,\n",
       "                    ...{\n",
       "  &quot;zoom&quot;: 6,\n",
       "  &quot;zoomControl&quot;: true,\n",
       "  &quot;preferCanvas&quot;: false,\n",
       "}\n",
       "\n",
       "                }\n",
       "            );\n",
       "\n",
       "            \n",
       "\n",
       "        \n",
       "    \n",
       "            var tile_layer_9e66157560214a23279a6a4a7b7debf4 = L.tileLayer(\n",
       "                &quot;https://tile.openstreetmap.org/{z}/{x}/{y}.png&quot;,\n",
       "                {\n",
       "  &quot;minZoom&quot;: 0,\n",
       "  &quot;maxZoom&quot;: 19,\n",
       "  &quot;maxNativeZoom&quot;: 19,\n",
       "  &quot;noWrap&quot;: false,\n",
       "  &quot;attribution&quot;: &quot;\\u0026copy; \\u003ca href=\\&quot;https://www.openstreetmap.org/copyright\\&quot;\\u003eOpenStreetMap\\u003c/a\\u003e contributors&quot;,\n",
       "  &quot;subdomains&quot;: &quot;abc&quot;,\n",
       "  &quot;detectRetina&quot;: false,\n",
       "  &quot;tms&quot;: false,\n",
       "  &quot;opacity&quot;: 1,\n",
       "}\n",
       "\n",
       "            );\n",
       "        \n",
       "    \n",
       "            tile_layer_9e66157560214a23279a6a4a7b7debf4.addTo(map_9773ab34c3ff09dc2d33ea8ae2b5f939);\n",
       "        \n",
       "    \n",
       "            var marker_d6be9f5883e72345de913607f19c4fc3 = L.marker(\n",
       "                [48.6359541, -1.511459954959514],\n",
       "                {\n",
       "}\n",
       "            ).addTo(map_9773ab34c3ff09dc2d33ea8ae2b5f939);\n",
       "        \n",
       "    \n",
       "        var custom_icon_5ab25b61edbef82ffd65fef3638db3a3 = L.icon({\n",
       "  &quot;iconUrl&quot;: &quot;https://images.icon-icons.com/2791/PNG/512/sunny_day_weather_sun_icon_177555.png&quot;,\n",
       "  &quot;iconSize&quot;: [40, 40],\n",
       "});\n",
       "        marker_d6be9f5883e72345de913607f19c4fc3.setIcon(custom_icon_5ab25b61edbef82ffd65fef3638db3a3);\n",
       "        \n",
       "    \n",
       "        var popup_e95e0c5f1faf8e7aabe5e001598491fd = L.popup({\n",
       "  &quot;maxWidth&quot;: &quot;100%&quot;,\n",
       "});\n",
       "\n",
       "        \n",
       "            \n",
       "                var html_15232b575ce8653b4c656a7610c6bbbc = $(`&lt;div id=&quot;html_15232b575ce8653b4c656a7610c6bbbc&quot; style=&quot;width: 100.0%; height: 100.0%;&quot;&gt;Mont Saint Michel&lt;/div&gt;`)[0];\n",
       "                popup_e95e0c5f1faf8e7aabe5e001598491fd.setContent(html_15232b575ce8653b4c656a7610c6bbbc);\n",
       "            \n",
       "        \n",
       "\n",
       "        marker_d6be9f5883e72345de913607f19c4fc3.bindPopup(popup_e95e0c5f1faf8e7aabe5e001598491fd)\n",
       "        ;\n",
       "\n",
       "        \n",
       "    \n",
       "    \n",
       "                marker_d6be9f5883e72345de913607f19c4fc3.setIcon(custom_icon_5ab25b61edbef82ffd65fef3638db3a3);\n",
       "            \n",
       "    \n",
       "            var marker_5564798df02c255a586faf6c116a0fff = L.marker(\n",
       "                [48.649518, -2.0260409],\n",
       "                {\n",
       "}\n",
       "            ).addTo(map_9773ab34c3ff09dc2d33ea8ae2b5f939);\n",
       "        \n",
       "    \n",
       "        var custom_icon_bea6a87b76e5483f796fe8fd455ecdb1 = L.icon({\n",
       "  &quot;iconUrl&quot;: &quot;https://images.icon-icons.com/2791/PNG/512/overcast_cloud_weather_icon_177561.png&quot;,\n",
       "  &quot;iconSize&quot;: [40, 40],\n",
       "});\n",
       "        marker_5564798df02c255a586faf6c116a0fff.setIcon(custom_icon_bea6a87b76e5483f796fe8fd455ecdb1);\n",
       "        \n",
       "    \n",
       "        var popup_a0ee561bb7331482fa2e7f996a04b4b0 = L.popup({\n",
       "  &quot;maxWidth&quot;: &quot;100%&quot;,\n",
       "});\n",
       "\n",
       "        \n",
       "            \n",
       "                var html_e97ec563d62f1d22bfb58286f2d21be9 = $(`&lt;div id=&quot;html_e97ec563d62f1d22bfb58286f2d21be9&quot; style=&quot;width: 100.0%; height: 100.0%;&quot;&gt;St Malo&lt;/div&gt;`)[0];\n",
       "                popup_a0ee561bb7331482fa2e7f996a04b4b0.setContent(html_e97ec563d62f1d22bfb58286f2d21be9);\n",
       "            \n",
       "        \n",
       "\n",
       "        marker_5564798df02c255a586faf6c116a0fff.bindPopup(popup_a0ee561bb7331482fa2e7f996a04b4b0)\n",
       "        ;\n",
       "\n",
       "        \n",
       "    \n",
       "    \n",
       "                marker_5564798df02c255a586faf6c116a0fff.setIcon(custom_icon_bea6a87b76e5483f796fe8fd455ecdb1);\n",
       "            \n",
       "    \n",
       "            var marker_0197e63da98ff79ad1bbd0d6bccd22b4 = L.marker(\n",
       "                [49.2764624, -0.7024738],\n",
       "                {\n",
       "}\n",
       "            ).addTo(map_9773ab34c3ff09dc2d33ea8ae2b5f939);\n",
       "        \n",
       "    \n",
       "        var custom_icon_cbe49c89e8c35143f1143790c0da52d9 = L.icon({\n",
       "  &quot;iconUrl&quot;: &quot;https://images.icon-icons.com/2791/PNG/512/overcast_cloud_weather_icon_177561.png&quot;,\n",
       "  &quot;iconSize&quot;: [40, 40],\n",
       "});\n",
       "        marker_0197e63da98ff79ad1bbd0d6bccd22b4.setIcon(custom_icon_cbe49c89e8c35143f1143790c0da52d9);\n",
       "        \n",
       "    \n",
       "        var popup_d0d60e50a4474460fa1d74c70617deed = L.popup({\n",
       "  &quot;maxWidth&quot;: &quot;100%&quot;,\n",
       "});\n",
       "\n",
       "        \n",
       "            \n",
       "                var html_6f60c52831b34087ee8d1b322f53ddac = $(`&lt;div id=&quot;html_6f60c52831b34087ee8d1b322f53ddac&quot; style=&quot;width: 100.0%; height: 100.0%;&quot;&gt;Bayeux&lt;/div&gt;`)[0];\n",
       "                popup_d0d60e50a4474460fa1d74c70617deed.setContent(html_6f60c52831b34087ee8d1b322f53ddac);\n",
       "            \n",
       "        \n",
       "\n",
       "        marker_0197e63da98ff79ad1bbd0d6bccd22b4.bindPopup(popup_d0d60e50a4474460fa1d74c70617deed)\n",
       "        ;\n",
       "\n",
       "        \n",
       "    \n",
       "    \n",
       "                marker_0197e63da98ff79ad1bbd0d6bccd22b4.setIcon(custom_icon_cbe49c89e8c35143f1143790c0da52d9);\n",
       "            \n",
       "    \n",
       "            var marker_92f32f999f1b75e4da3abe86c9b14f40 = L.marker(\n",
       "                [49.4938975, 0.1079732],\n",
       "                {\n",
       "}\n",
       "            ).addTo(map_9773ab34c3ff09dc2d33ea8ae2b5f939);\n",
       "        \n",
       "    \n",
       "        var custom_icon_2476ac1d8d27053798d7e569cc2f82ed = L.icon({\n",
       "  &quot;iconUrl&quot;: &quot;https://images.icon-icons.com/2791/PNG/512/overcast_cloud_weather_icon_177561.png&quot;,\n",
       "  &quot;iconSize&quot;: [40, 40],\n",
       "});\n",
       "        marker_92f32f999f1b75e4da3abe86c9b14f40.setIcon(custom_icon_2476ac1d8d27053798d7e569cc2f82ed);\n",
       "        \n",
       "    \n",
       "        var popup_bcde0957806dd6cc3381faebf05407f4 = L.popup({\n",
       "  &quot;maxWidth&quot;: &quot;100%&quot;,\n",
       "});\n",
       "\n",
       "        \n",
       "            \n",
       "                var html_387f3f4e1d9a3097047eb58f9a0ce642 = $(`&lt;div id=&quot;html_387f3f4e1d9a3097047eb58f9a0ce642&quot; style=&quot;width: 100.0%; height: 100.0%;&quot;&gt;Le Havre&lt;/div&gt;`)[0];\n",
       "                popup_bcde0957806dd6cc3381faebf05407f4.setContent(html_387f3f4e1d9a3097047eb58f9a0ce642);\n",
       "            \n",
       "        \n",
       "\n",
       "        marker_92f32f999f1b75e4da3abe86c9b14f40.bindPopup(popup_bcde0957806dd6cc3381faebf05407f4)\n",
       "        ;\n",
       "\n",
       "        \n",
       "    \n",
       "    \n",
       "                marker_92f32f999f1b75e4da3abe86c9b14f40.setIcon(custom_icon_2476ac1d8d27053798d7e569cc2f82ed);\n",
       "            \n",
       "    \n",
       "            var marker_1aa9e98b10af56ba1c5a14484fafb95b = L.marker(\n",
       "                [49.4404591, 1.0939658],\n",
       "                {\n",
       "}\n",
       "            ).addTo(map_9773ab34c3ff09dc2d33ea8ae2b5f939);\n",
       "        \n",
       "    \n",
       "        var custom_icon_8fdef38a21596322f6c67372afb17a5f = L.icon({\n",
       "  &quot;iconUrl&quot;: &quot;https://images.icon-icons.com/2791/PNG/512/overcast_cloud_weather_icon_177561.png&quot;,\n",
       "  &quot;iconSize&quot;: [40, 40],\n",
       "});\n",
       "        marker_1aa9e98b10af56ba1c5a14484fafb95b.setIcon(custom_icon_8fdef38a21596322f6c67372afb17a5f);\n",
       "        \n",
       "    \n",
       "        var popup_576c8cc3f3367e285ad54e6e3bb7bb15 = L.popup({\n",
       "  &quot;maxWidth&quot;: &quot;100%&quot;,\n",
       "});\n",
       "\n",
       "        \n",
       "            \n",
       "                var html_fba8e0ab7db8c31959a976ec19edac43 = $(`&lt;div id=&quot;html_fba8e0ab7db8c31959a976ec19edac43&quot; style=&quot;width: 100.0%; height: 100.0%;&quot;&gt;Rouen&lt;/div&gt;`)[0];\n",
       "                popup_576c8cc3f3367e285ad54e6e3bb7bb15.setContent(html_fba8e0ab7db8c31959a976ec19edac43);\n",
       "            \n",
       "        \n",
       "\n",
       "        marker_1aa9e98b10af56ba1c5a14484fafb95b.bindPopup(popup_576c8cc3f3367e285ad54e6e3bb7bb15)\n",
       "        ;\n",
       "\n",
       "        \n",
       "    \n",
       "    \n",
       "                marker_1aa9e98b10af56ba1c5a14484fafb95b.setIcon(custom_icon_8fdef38a21596322f6c67372afb17a5f);\n",
       "            \n",
       "    \n",
       "            var marker_f8ec4eef44b37b6e7c71dc95a3e31e91 = L.marker(\n",
       "                [48.8588897, 2.3200410217200766],\n",
       "                {\n",
       "}\n",
       "            ).addTo(map_9773ab34c3ff09dc2d33ea8ae2b5f939);\n",
       "        \n",
       "    \n",
       "        var custom_icon_9e128383a6079b39b01144af6ca3109b = L.icon({\n",
       "  &quot;iconUrl&quot;: &quot;https://images.icon-icons.com/2791/PNG/512/partly_cloudy_day_sun_clouds_weather_icon_177560.png&quot;,\n",
       "  &quot;iconSize&quot;: [40, 40],\n",
       "});\n",
       "        marker_f8ec4eef44b37b6e7c71dc95a3e31e91.setIcon(custom_icon_9e128383a6079b39b01144af6ca3109b);\n",
       "        \n",
       "    \n",
       "        var popup_46d21a02d138cf08725568c29783be78 = L.popup({\n",
       "  &quot;maxWidth&quot;: &quot;100%&quot;,\n",
       "});\n",
       "\n",
       "        \n",
       "            \n",
       "                var html_21ac9dcce4ea9d195346808e232fe123 = $(`&lt;div id=&quot;html_21ac9dcce4ea9d195346808e232fe123&quot; style=&quot;width: 100.0%; height: 100.0%;&quot;&gt;Paris&lt;/div&gt;`)[0];\n",
       "                popup_46d21a02d138cf08725568c29783be78.setContent(html_21ac9dcce4ea9d195346808e232fe123);\n",
       "            \n",
       "        \n",
       "\n",
       "        marker_f8ec4eef44b37b6e7c71dc95a3e31e91.bindPopup(popup_46d21a02d138cf08725568c29783be78)\n",
       "        ;\n",
       "\n",
       "        \n",
       "    \n",
       "    \n",
       "                marker_f8ec4eef44b37b6e7c71dc95a3e31e91.setIcon(custom_icon_9e128383a6079b39b01144af6ca3109b);\n",
       "            \n",
       "    \n",
       "            var marker_ac7614ae822c0c6271b16d449d86e2c3 = L.marker(\n",
       "                [49.8941708, 2.2956951],\n",
       "                {\n",
       "}\n",
       "            ).addTo(map_9773ab34c3ff09dc2d33ea8ae2b5f939);\n",
       "        \n",
       "    \n",
       "        var custom_icon_f92d311617214e115145ea8edfe26768 = L.icon({\n",
       "  &quot;iconUrl&quot;: &quot;https://images.icon-icons.com/2791/PNG/512/overcast_cloud_weather_icon_177561.png&quot;,\n",
       "  &quot;iconSize&quot;: [40, 40],\n",
       "});\n",
       "        marker_ac7614ae822c0c6271b16d449d86e2c3.setIcon(custom_icon_f92d311617214e115145ea8edfe26768);\n",
       "        \n",
       "    \n",
       "        var popup_5cb6533036e6cdb50131270d03ff468d = L.popup({\n",
       "  &quot;maxWidth&quot;: &quot;100%&quot;,\n",
       "});\n",
       "\n",
       "        \n",
       "            \n",
       "                var html_fd6ea9f65e9858f1e3f18da15a2dc349 = $(`&lt;div id=&quot;html_fd6ea9f65e9858f1e3f18da15a2dc349&quot; style=&quot;width: 100.0%; height: 100.0%;&quot;&gt;Amiens&lt;/div&gt;`)[0];\n",
       "                popup_5cb6533036e6cdb50131270d03ff468d.setContent(html_fd6ea9f65e9858f1e3f18da15a2dc349);\n",
       "            \n",
       "        \n",
       "\n",
       "        marker_ac7614ae822c0c6271b16d449d86e2c3.bindPopup(popup_5cb6533036e6cdb50131270d03ff468d)\n",
       "        ;\n",
       "\n",
       "        \n",
       "    \n",
       "    \n",
       "                marker_ac7614ae822c0c6271b16d449d86e2c3.setIcon(custom_icon_f92d311617214e115145ea8edfe26768);\n",
       "            \n",
       "    \n",
       "            var marker_06adaf3af390c3601139887152efee2f = L.marker(\n",
       "                [50.6365654, 3.0635282],\n",
       "                {\n",
       "}\n",
       "            ).addTo(map_9773ab34c3ff09dc2d33ea8ae2b5f939);\n",
       "        \n",
       "    \n",
       "        var custom_icon_dba89c5f7becccf517539e13882fa667 = L.icon({\n",
       "  &quot;iconUrl&quot;: &quot;https://images.icon-icons.com/2791/PNG/512/cloudy_cloud_weather_icon_177580.png&quot;,\n",
       "  &quot;iconSize&quot;: [40, 40],\n",
       "});\n",
       "        marker_06adaf3af390c3601139887152efee2f.setIcon(custom_icon_dba89c5f7becccf517539e13882fa667);\n",
       "        \n",
       "    \n",
       "        var popup_e64814cf893c11fa2ebac1d0103e1317 = L.popup({\n",
       "  &quot;maxWidth&quot;: &quot;100%&quot;,\n",
       "});\n",
       "\n",
       "        \n",
       "            \n",
       "                var html_bf26454fb19fdbc77ef8fb7626e1c1b0 = $(`&lt;div id=&quot;html_bf26454fb19fdbc77ef8fb7626e1c1b0&quot; style=&quot;width: 100.0%; height: 100.0%;&quot;&gt;Lille&lt;/div&gt;`)[0];\n",
       "                popup_e64814cf893c11fa2ebac1d0103e1317.setContent(html_bf26454fb19fdbc77ef8fb7626e1c1b0);\n",
       "            \n",
       "        \n",
       "\n",
       "        marker_06adaf3af390c3601139887152efee2f.bindPopup(popup_e64814cf893c11fa2ebac1d0103e1317)\n",
       "        ;\n",
       "\n",
       "        \n",
       "    \n",
       "    \n",
       "                marker_06adaf3af390c3601139887152efee2f.setIcon(custom_icon_dba89c5f7becccf517539e13882fa667);\n",
       "            \n",
       "    \n",
       "            var marker_b74b391a3375f57e1bbb584eabcbc803 = L.marker(\n",
       "                [48.584614, 7.7507127],\n",
       "                {\n",
       "}\n",
       "            ).addTo(map_9773ab34c3ff09dc2d33ea8ae2b5f939);\n",
       "        \n",
       "    \n",
       "        var custom_icon_2640ab3c9563a7c45f0bedc9b8c8848c = L.icon({\n",
       "  &quot;iconUrl&quot;: &quot;https://images.icon-icons.com/2791/PNG/512/overcast_cloud_weather_icon_177561.png&quot;,\n",
       "  &quot;iconSize&quot;: [40, 40],\n",
       "});\n",
       "        marker_b74b391a3375f57e1bbb584eabcbc803.setIcon(custom_icon_2640ab3c9563a7c45f0bedc9b8c8848c);\n",
       "        \n",
       "    \n",
       "        var popup_9b6d457879ee1e014cb3b2cfc70c9885 = L.popup({\n",
       "  &quot;maxWidth&quot;: &quot;100%&quot;,\n",
       "});\n",
       "\n",
       "        \n",
       "            \n",
       "                var html_2c8be14a64cc38ad5b1c1927c9e3b519 = $(`&lt;div id=&quot;html_2c8be14a64cc38ad5b1c1927c9e3b519&quot; style=&quot;width: 100.0%; height: 100.0%;&quot;&gt;Strasbourg&lt;/div&gt;`)[0];\n",
       "                popup_9b6d457879ee1e014cb3b2cfc70c9885.setContent(html_2c8be14a64cc38ad5b1c1927c9e3b519);\n",
       "            \n",
       "        \n",
       "\n",
       "        marker_b74b391a3375f57e1bbb584eabcbc803.bindPopup(popup_9b6d457879ee1e014cb3b2cfc70c9885)\n",
       "        ;\n",
       "\n",
       "        \n",
       "    \n",
       "    \n",
       "                marker_b74b391a3375f57e1bbb584eabcbc803.setIcon(custom_icon_2640ab3c9563a7c45f0bedc9b8c8848c);\n",
       "            \n",
       "    \n",
       "            var marker_da658f86ba8f0b53835628ce45a0fcf9 = L.marker(\n",
       "                [48.2495226, 7.3454923],\n",
       "                {\n",
       "}\n",
       "            ).addTo(map_9773ab34c3ff09dc2d33ea8ae2b5f939);\n",
       "        \n",
       "    \n",
       "        var custom_icon_339ab6abd0f4d9e01850b9f92ff1c028 = L.icon({\n",
       "  &quot;iconUrl&quot;: &quot;https://images.icon-icons.com/2791/PNG/512/overcast_cloud_weather_icon_177561.png&quot;,\n",
       "  &quot;iconSize&quot;: [40, 40],\n",
       "});\n",
       "        marker_da658f86ba8f0b53835628ce45a0fcf9.setIcon(custom_icon_339ab6abd0f4d9e01850b9f92ff1c028);\n",
       "        \n",
       "    \n",
       "        var popup_ee9d70c8b81ba1419b05651b2d034cad = L.popup({\n",
       "  &quot;maxWidth&quot;: &quot;100%&quot;,\n",
       "});\n",
       "\n",
       "        \n",
       "            \n",
       "                var html_54890962ddfc80a533aa2927cec8bb87 = $(`&lt;div id=&quot;html_54890962ddfc80a533aa2927cec8bb87&quot; style=&quot;width: 100.0%; height: 100.0%;&quot;&gt;Chateau du Haut Koenigsbourg&lt;/div&gt;`)[0];\n",
       "                popup_ee9d70c8b81ba1419b05651b2d034cad.setContent(html_54890962ddfc80a533aa2927cec8bb87);\n",
       "            \n",
       "        \n",
       "\n",
       "        marker_da658f86ba8f0b53835628ce45a0fcf9.bindPopup(popup_ee9d70c8b81ba1419b05651b2d034cad)\n",
       "        ;\n",
       "\n",
       "        \n",
       "    \n",
       "    \n",
       "                marker_da658f86ba8f0b53835628ce45a0fcf9.setIcon(custom_icon_339ab6abd0f4d9e01850b9f92ff1c028);\n",
       "            \n",
       "    \n",
       "            var marker_7d0495955858ea113b5c46d37ac20b27 = L.marker(\n",
       "                [48.0777517, 7.3579641],\n",
       "                {\n",
       "}\n",
       "            ).addTo(map_9773ab34c3ff09dc2d33ea8ae2b5f939);\n",
       "        \n",
       "    \n",
       "        var custom_icon_24fb19671b35c8dcac1263bb56f9fae1 = L.icon({\n",
       "  &quot;iconUrl&quot;: &quot;https://images.icon-icons.com/2791/PNG/512/overcast_cloud_weather_icon_177561.png&quot;,\n",
       "  &quot;iconSize&quot;: [40, 40],\n",
       "});\n",
       "        marker_7d0495955858ea113b5c46d37ac20b27.setIcon(custom_icon_24fb19671b35c8dcac1263bb56f9fae1);\n",
       "        \n",
       "    \n",
       "        var popup_4ac82a8cebdc6829874df7e5e19288eb = L.popup({\n",
       "  &quot;maxWidth&quot;: &quot;100%&quot;,\n",
       "});\n",
       "\n",
       "        \n",
       "            \n",
       "                var html_f48bd3bf6098a55a0176a7bb92ecd4c3 = $(`&lt;div id=&quot;html_f48bd3bf6098a55a0176a7bb92ecd4c3&quot; style=&quot;width: 100.0%; height: 100.0%;&quot;&gt;Colmar&lt;/div&gt;`)[0];\n",
       "                popup_4ac82a8cebdc6829874df7e5e19288eb.setContent(html_f48bd3bf6098a55a0176a7bb92ecd4c3);\n",
       "            \n",
       "        \n",
       "\n",
       "        marker_7d0495955858ea113b5c46d37ac20b27.bindPopup(popup_4ac82a8cebdc6829874df7e5e19288eb)\n",
       "        ;\n",
       "\n",
       "        \n",
       "    \n",
       "    \n",
       "                marker_7d0495955858ea113b5c46d37ac20b27.setIcon(custom_icon_24fb19671b35c8dcac1263bb56f9fae1);\n",
       "            \n",
       "    \n",
       "            var marker_ef00c148b631f81922211f531fc61d11 = L.marker(\n",
       "                [48.0447968, 7.3079618],\n",
       "                {\n",
       "}\n",
       "            ).addTo(map_9773ab34c3ff09dc2d33ea8ae2b5f939);\n",
       "        \n",
       "    \n",
       "        var custom_icon_1033011f2ebb6b3ae14e1b3d22ec23e0 = L.icon({\n",
       "  &quot;iconUrl&quot;: &quot;https://images.icon-icons.com/2791/PNG/512/overcast_cloud_weather_icon_177561.png&quot;,\n",
       "  &quot;iconSize&quot;: [40, 40],\n",
       "});\n",
       "        marker_ef00c148b631f81922211f531fc61d11.setIcon(custom_icon_1033011f2ebb6b3ae14e1b3d22ec23e0);\n",
       "        \n",
       "    \n",
       "        var popup_7e828dfe400b1b8e1583c33f5db38299 = L.popup({\n",
       "  &quot;maxWidth&quot;: &quot;100%&quot;,\n",
       "});\n",
       "\n",
       "        \n",
       "            \n",
       "                var html_a455dad61d8c0969db39d075fd553ef8 = $(`&lt;div id=&quot;html_a455dad61d8c0969db39d075fd553ef8&quot; style=&quot;width: 100.0%; height: 100.0%;&quot;&gt;Eguisheim&lt;/div&gt;`)[0];\n",
       "                popup_7e828dfe400b1b8e1583c33f5db38299.setContent(html_a455dad61d8c0969db39d075fd553ef8);\n",
       "            \n",
       "        \n",
       "\n",
       "        marker_ef00c148b631f81922211f531fc61d11.bindPopup(popup_7e828dfe400b1b8e1583c33f5db38299)\n",
       "        ;\n",
       "\n",
       "        \n",
       "    \n",
       "    \n",
       "                marker_ef00c148b631f81922211f531fc61d11.setIcon(custom_icon_1033011f2ebb6b3ae14e1b3d22ec23e0);\n",
       "            \n",
       "    \n",
       "            var marker_973aaf67cd25587c0a87aabb64780f8c = L.marker(\n",
       "                [47.2380222, 6.0243622],\n",
       "                {\n",
       "}\n",
       "            ).addTo(map_9773ab34c3ff09dc2d33ea8ae2b5f939);\n",
       "        \n",
       "    \n",
       "        var custom_icon_54ded3df87351ec487390d59760756cd = L.icon({\n",
       "  &quot;iconUrl&quot;: &quot;https://images.icon-icons.com/2791/PNG/512/overcast_cloud_weather_icon_177561.png&quot;,\n",
       "  &quot;iconSize&quot;: [40, 40],\n",
       "});\n",
       "        marker_973aaf67cd25587c0a87aabb64780f8c.setIcon(custom_icon_54ded3df87351ec487390d59760756cd);\n",
       "        \n",
       "    \n",
       "        var popup_ef383dd9f86ba552ea6d78de5fdb97b5 = L.popup({\n",
       "  &quot;maxWidth&quot;: &quot;100%&quot;,\n",
       "});\n",
       "\n",
       "        \n",
       "            \n",
       "                var html_21313f0db1c4824a11bb0e0a3f4d4b1d = $(`&lt;div id=&quot;html_21313f0db1c4824a11bb0e0a3f4d4b1d&quot; style=&quot;width: 100.0%; height: 100.0%;&quot;&gt;Besancon&lt;/div&gt;`)[0];\n",
       "                popup_ef383dd9f86ba552ea6d78de5fdb97b5.setContent(html_21313f0db1c4824a11bb0e0a3f4d4b1d);\n",
       "            \n",
       "        \n",
       "\n",
       "        marker_973aaf67cd25587c0a87aabb64780f8c.bindPopup(popup_ef383dd9f86ba552ea6d78de5fdb97b5)\n",
       "        ;\n",
       "\n",
       "        \n",
       "    \n",
       "    \n",
       "                marker_973aaf67cd25587c0a87aabb64780f8c.setIcon(custom_icon_54ded3df87351ec487390d59760756cd);\n",
       "            \n",
       "    \n",
       "            var marker_6a89ca9d42e045f78187ad935eb74470 = L.marker(\n",
       "                [47.3215806, 5.0414701],\n",
       "                {\n",
       "}\n",
       "            ).addTo(map_9773ab34c3ff09dc2d33ea8ae2b5f939);\n",
       "        \n",
       "    \n",
       "        var custom_icon_61bb29523271580a80764fb09972580f = L.icon({\n",
       "  &quot;iconUrl&quot;: &quot;https://images.icon-icons.com/2791/PNG/512/overcast_cloud_weather_icon_177561.png&quot;,\n",
       "  &quot;iconSize&quot;: [40, 40],\n",
       "});\n",
       "        marker_6a89ca9d42e045f78187ad935eb74470.setIcon(custom_icon_61bb29523271580a80764fb09972580f);\n",
       "        \n",
       "    \n",
       "        var popup_919d3015a253941e7f4d3cdf05c48697 = L.popup({\n",
       "  &quot;maxWidth&quot;: &quot;100%&quot;,\n",
       "});\n",
       "\n",
       "        \n",
       "            \n",
       "                var html_c8c0e47ebfb322fd24e88c32555c06b4 = $(`&lt;div id=&quot;html_c8c0e47ebfb322fd24e88c32555c06b4&quot; style=&quot;width: 100.0%; height: 100.0%;&quot;&gt;Dijon&lt;/div&gt;`)[0];\n",
       "                popup_919d3015a253941e7f4d3cdf05c48697.setContent(html_c8c0e47ebfb322fd24e88c32555c06b4);\n",
       "            \n",
       "        \n",
       "\n",
       "        marker_6a89ca9d42e045f78187ad935eb74470.bindPopup(popup_919d3015a253941e7f4d3cdf05c48697)\n",
       "        ;\n",
       "\n",
       "        \n",
       "    \n",
       "    \n",
       "                marker_6a89ca9d42e045f78187ad935eb74470.setIcon(custom_icon_61bb29523271580a80764fb09972580f);\n",
       "            \n",
       "    \n",
       "            var marker_28fdce38e458981740dbb007fcd9fb83 = L.marker(\n",
       "                [45.8992348, 6.1288847],\n",
       "                {\n",
       "}\n",
       "            ).addTo(map_9773ab34c3ff09dc2d33ea8ae2b5f939);\n",
       "        \n",
       "    \n",
       "        var custom_icon_12f8eebb7e2414e1cd9f8ab7dbdee7e5 = L.icon({\n",
       "  &quot;iconUrl&quot;: &quot;https://images.icon-icons.com/2791/PNG/512/overcast_cloud_weather_icon_177561.png&quot;,\n",
       "  &quot;iconSize&quot;: [40, 40],\n",
       "});\n",
       "        marker_28fdce38e458981740dbb007fcd9fb83.setIcon(custom_icon_12f8eebb7e2414e1cd9f8ab7dbdee7e5);\n",
       "        \n",
       "    \n",
       "        var popup_9db0eec5ab78b8e2d8a35a0ce8d8cdb9 = L.popup({\n",
       "  &quot;maxWidth&quot;: &quot;100%&quot;,\n",
       "});\n",
       "\n",
       "        \n",
       "            \n",
       "                var html_cd48cf584a8f346a0abc25a63205a74d = $(`&lt;div id=&quot;html_cd48cf584a8f346a0abc25a63205a74d&quot; style=&quot;width: 100.0%; height: 100.0%;&quot;&gt;Annecy&lt;/div&gt;`)[0];\n",
       "                popup_9db0eec5ab78b8e2d8a35a0ce8d8cdb9.setContent(html_cd48cf584a8f346a0abc25a63205a74d);\n",
       "            \n",
       "        \n",
       "\n",
       "        marker_28fdce38e458981740dbb007fcd9fb83.bindPopup(popup_9db0eec5ab78b8e2d8a35a0ce8d8cdb9)\n",
       "        ;\n",
       "\n",
       "        \n",
       "    \n",
       "    \n",
       "                marker_28fdce38e458981740dbb007fcd9fb83.setIcon(custom_icon_12f8eebb7e2414e1cd9f8ab7dbdee7e5);\n",
       "            \n",
       "    \n",
       "            var marker_4e84855999639c50591f8307d40bde5b = L.marker(\n",
       "                [45.1875602, 5.7357819],\n",
       "                {\n",
       "}\n",
       "            ).addTo(map_9773ab34c3ff09dc2d33ea8ae2b5f939);\n",
       "        \n",
       "    \n",
       "        var custom_icon_0fda24e0a0dee65b23feec7200f6c726 = L.icon({\n",
       "  &quot;iconUrl&quot;: &quot;https://images.icon-icons.com/2791/PNG/512/rain_cloud_weather_icon_177568.png&quot;,\n",
       "  &quot;iconSize&quot;: [40, 40],\n",
       "});\n",
       "        marker_4e84855999639c50591f8307d40bde5b.setIcon(custom_icon_0fda24e0a0dee65b23feec7200f6c726);\n",
       "        \n",
       "    \n",
       "        var popup_aed58a9260c12aefc0a058df876fb0f5 = L.popup({\n",
       "  &quot;maxWidth&quot;: &quot;100%&quot;,\n",
       "});\n",
       "\n",
       "        \n",
       "            \n",
       "                var html_5e18213b6d30c0f8ddb40d6acd3f6e3c = $(`&lt;div id=&quot;html_5e18213b6d30c0f8ddb40d6acd3f6e3c&quot; style=&quot;width: 100.0%; height: 100.0%;&quot;&gt;Grenoble&lt;/div&gt;`)[0];\n",
       "                popup_aed58a9260c12aefc0a058df876fb0f5.setContent(html_5e18213b6d30c0f8ddb40d6acd3f6e3c);\n",
       "            \n",
       "        \n",
       "\n",
       "        marker_4e84855999639c50591f8307d40bde5b.bindPopup(popup_aed58a9260c12aefc0a058df876fb0f5)\n",
       "        ;\n",
       "\n",
       "        \n",
       "    \n",
       "    \n",
       "                marker_4e84855999639c50591f8307d40bde5b.setIcon(custom_icon_0fda24e0a0dee65b23feec7200f6c726);\n",
       "            \n",
       "    \n",
       "            var marker_49b1023d73b88d6911ae21df6caca6c5 = L.marker(\n",
       "                [45.7578137, 4.8320114],\n",
       "                {\n",
       "}\n",
       "            ).addTo(map_9773ab34c3ff09dc2d33ea8ae2b5f939);\n",
       "        \n",
       "    \n",
       "        var custom_icon_41ac9de072429725b7f6e0a58daca9f7 = L.icon({\n",
       "  &quot;iconUrl&quot;: &quot;https://images.icon-icons.com/2791/PNG/512/cloudy_cloud_weather_icon_177580.png&quot;,\n",
       "  &quot;iconSize&quot;: [40, 40],\n",
       "});\n",
       "        marker_49b1023d73b88d6911ae21df6caca6c5.setIcon(custom_icon_41ac9de072429725b7f6e0a58daca9f7);\n",
       "        \n",
       "    \n",
       "        var popup_9b603dc7b94f681d42ee6c449b42f679 = L.popup({\n",
       "  &quot;maxWidth&quot;: &quot;100%&quot;,\n",
       "});\n",
       "\n",
       "        \n",
       "            \n",
       "                var html_db477c304435930bf0e02ab8df966586 = $(`&lt;div id=&quot;html_db477c304435930bf0e02ab8df966586&quot; style=&quot;width: 100.0%; height: 100.0%;&quot;&gt;Lyon&lt;/div&gt;`)[0];\n",
       "                popup_9b603dc7b94f681d42ee6c449b42f679.setContent(html_db477c304435930bf0e02ab8df966586);\n",
       "            \n",
       "        \n",
       "\n",
       "        marker_49b1023d73b88d6911ae21df6caca6c5.bindPopup(popup_9b603dc7b94f681d42ee6c449b42f679)\n",
       "        ;\n",
       "\n",
       "        \n",
       "    \n",
       "    \n",
       "                marker_49b1023d73b88d6911ae21df6caca6c5.setIcon(custom_icon_41ac9de072429725b7f6e0a58daca9f7);\n",
       "            \n",
       "    \n",
       "            var marker_3ec7ec77d48630743675036fa0a8548f = L.marker(\n",
       "                [43.1506968, 6.3419285],\n",
       "                {\n",
       "}\n",
       "            ).addTo(map_9773ab34c3ff09dc2d33ea8ae2b5f939);\n",
       "        \n",
       "    \n",
       "        var custom_icon_07abc100fee900b5205f03522ae0b67a = L.icon({\n",
       "  &quot;iconUrl&quot;: &quot;https://images.icon-icons.com/2791/PNG/512/sunny_day_weather_sun_icon_177555.png&quot;,\n",
       "  &quot;iconSize&quot;: [40, 40],\n",
       "});\n",
       "        marker_3ec7ec77d48630743675036fa0a8548f.setIcon(custom_icon_07abc100fee900b5205f03522ae0b67a);\n",
       "        \n",
       "    \n",
       "        var popup_af1cf4275c3e22bd71ff22d54f29847a = L.popup({\n",
       "  &quot;maxWidth&quot;: &quot;100%&quot;,\n",
       "});\n",
       "\n",
       "        \n",
       "            \n",
       "                var html_4d46da7a0a35dd23649f64e756c96fcd = $(`&lt;div id=&quot;html_4d46da7a0a35dd23649f64e756c96fcd&quot; style=&quot;width: 100.0%; height: 100.0%;&quot;&gt;Bormes les Mimosas&lt;/div&gt;`)[0];\n",
       "                popup_af1cf4275c3e22bd71ff22d54f29847a.setContent(html_4d46da7a0a35dd23649f64e756c96fcd);\n",
       "            \n",
       "        \n",
       "\n",
       "        marker_3ec7ec77d48630743675036fa0a8548f.bindPopup(popup_af1cf4275c3e22bd71ff22d54f29847a)\n",
       "        ;\n",
       "\n",
       "        \n",
       "    \n",
       "    \n",
       "                marker_3ec7ec77d48630743675036fa0a8548f.setIcon(custom_icon_07abc100fee900b5205f03522ae0b67a);\n",
       "            \n",
       "    \n",
       "            var marker_749b292d0e750da34de63b09c56245e8 = L.marker(\n",
       "                [43.2140359, 5.5396318],\n",
       "                {\n",
       "}\n",
       "            ).addTo(map_9773ab34c3ff09dc2d33ea8ae2b5f939);\n",
       "        \n",
       "    \n",
       "        var custom_icon_3956ba072719d94b4b4a0d3e667d5e41 = L.icon({\n",
       "  &quot;iconUrl&quot;: &quot;https://images.icon-icons.com/2791/PNG/512/overcast_cloud_weather_icon_177561.png&quot;,\n",
       "  &quot;iconSize&quot;: [40, 40],\n",
       "});\n",
       "        marker_749b292d0e750da34de63b09c56245e8.setIcon(custom_icon_3956ba072719d94b4b4a0d3e667d5e41);\n",
       "        \n",
       "    \n",
       "        var popup_1ba7f0a809024848f3a235c522be84f2 = L.popup({\n",
       "  &quot;maxWidth&quot;: &quot;100%&quot;,\n",
       "});\n",
       "\n",
       "        \n",
       "            \n",
       "                var html_94bac1b7fd7ec8001659572948e394ab = $(`&lt;div id=&quot;html_94bac1b7fd7ec8001659572948e394ab&quot; style=&quot;width: 100.0%; height: 100.0%;&quot;&gt;Cassis&lt;/div&gt;`)[0];\n",
       "                popup_1ba7f0a809024848f3a235c522be84f2.setContent(html_94bac1b7fd7ec8001659572948e394ab);\n",
       "            \n",
       "        \n",
       "\n",
       "        marker_749b292d0e750da34de63b09c56245e8.bindPopup(popup_1ba7f0a809024848f3a235c522be84f2)\n",
       "        ;\n",
       "\n",
       "        \n",
       "    \n",
       "    \n",
       "                marker_749b292d0e750da34de63b09c56245e8.setIcon(custom_icon_3956ba072719d94b4b4a0d3e667d5e41);\n",
       "            \n",
       "    \n",
       "            var marker_2466da8ca350cdc072aac4b2d239cdc9 = L.marker(\n",
       "                [43.2961743, 5.3699525],\n",
       "                {\n",
       "}\n",
       "            ).addTo(map_9773ab34c3ff09dc2d33ea8ae2b5f939);\n",
       "        \n",
       "    \n",
       "        var custom_icon_6ddc14cb94cdcc048b99073ae51a1daf = L.icon({\n",
       "  &quot;iconUrl&quot;: &quot;https://images.icon-icons.com/2791/PNG/512/sunny_day_weather_sun_icon_177555.png&quot;,\n",
       "  &quot;iconSize&quot;: [40, 40],\n",
       "});\n",
       "        marker_2466da8ca350cdc072aac4b2d239cdc9.setIcon(custom_icon_6ddc14cb94cdcc048b99073ae51a1daf);\n",
       "        \n",
       "    \n",
       "        var popup_ba6775f30fd7a5e8211fd61db6aebd62 = L.popup({\n",
       "  &quot;maxWidth&quot;: &quot;100%&quot;,\n",
       "});\n",
       "\n",
       "        \n",
       "            \n",
       "                var html_501ed2e89c696cffabec4c2ae56b6194 = $(`&lt;div id=&quot;html_501ed2e89c696cffabec4c2ae56b6194&quot; style=&quot;width: 100.0%; height: 100.0%;&quot;&gt;Marseille&lt;/div&gt;`)[0];\n",
       "                popup_ba6775f30fd7a5e8211fd61db6aebd62.setContent(html_501ed2e89c696cffabec4c2ae56b6194);\n",
       "            \n",
       "        \n",
       "\n",
       "        marker_2466da8ca350cdc072aac4b2d239cdc9.bindPopup(popup_ba6775f30fd7a5e8211fd61db6aebd62)\n",
       "        ;\n",
       "\n",
       "        \n",
       "    \n",
       "    \n",
       "                marker_2466da8ca350cdc072aac4b2d239cdc9.setIcon(custom_icon_6ddc14cb94cdcc048b99073ae51a1daf);\n",
       "            \n",
       "    \n",
       "            var marker_b1937acd23f8e9163e55445bd942ec6c = L.marker(\n",
       "                [43.5298424, 5.4474738],\n",
       "                {\n",
       "}\n",
       "            ).addTo(map_9773ab34c3ff09dc2d33ea8ae2b5f939);\n",
       "        \n",
       "    \n",
       "        var custom_icon_2e7b8c92c694c47f63eb6e9389b81c24 = L.icon({\n",
       "  &quot;iconUrl&quot;: &quot;https://images.icon-icons.com/2791/PNG/512/overcast_cloud_weather_icon_177561.png&quot;,\n",
       "  &quot;iconSize&quot;: [40, 40],\n",
       "});\n",
       "        marker_b1937acd23f8e9163e55445bd942ec6c.setIcon(custom_icon_2e7b8c92c694c47f63eb6e9389b81c24);\n",
       "        \n",
       "    \n",
       "        var popup_a72545eecbbcef45307a0f57530eca9b = L.popup({\n",
       "  &quot;maxWidth&quot;: &quot;100%&quot;,\n",
       "});\n",
       "\n",
       "        \n",
       "            \n",
       "                var html_9741163051b3540a61e0b54de968a7b8 = $(`&lt;div id=&quot;html_9741163051b3540a61e0b54de968a7b8&quot; style=&quot;width: 100.0%; height: 100.0%;&quot;&gt;Aix en Provence&lt;/div&gt;`)[0];\n",
       "                popup_a72545eecbbcef45307a0f57530eca9b.setContent(html_9741163051b3540a61e0b54de968a7b8);\n",
       "            \n",
       "        \n",
       "\n",
       "        marker_b1937acd23f8e9163e55445bd942ec6c.bindPopup(popup_a72545eecbbcef45307a0f57530eca9b)\n",
       "        ;\n",
       "\n",
       "        \n",
       "    \n",
       "    \n",
       "                marker_b1937acd23f8e9163e55445bd942ec6c.setIcon(custom_icon_2e7b8c92c694c47f63eb6e9389b81c24);\n",
       "            \n",
       "    \n",
       "            var marker_3b867256177a34f48b3f96555d14214a = L.marker(\n",
       "                [43.9492493, 4.8059012],\n",
       "                {\n",
       "}\n",
       "            ).addTo(map_9773ab34c3ff09dc2d33ea8ae2b5f939);\n",
       "        \n",
       "    \n",
       "        var custom_icon_703c96ef0f0c249cc206b8513c22a844 = L.icon({\n",
       "  &quot;iconUrl&quot;: &quot;https://images.icon-icons.com/2791/PNG/512/cloudy_cloud_weather_icon_177580.png&quot;,\n",
       "  &quot;iconSize&quot;: [40, 40],\n",
       "});\n",
       "        marker_3b867256177a34f48b3f96555d14214a.setIcon(custom_icon_703c96ef0f0c249cc206b8513c22a844);\n",
       "        \n",
       "    \n",
       "        var popup_5ae387a507c4f358d5c252563d876e75 = L.popup({\n",
       "  &quot;maxWidth&quot;: &quot;100%&quot;,\n",
       "});\n",
       "\n",
       "        \n",
       "            \n",
       "                var html_c3c05e592a3364662e42a389961b3477 = $(`&lt;div id=&quot;html_c3c05e592a3364662e42a389961b3477&quot; style=&quot;width: 100.0%; height: 100.0%;&quot;&gt;Avignon&lt;/div&gt;`)[0];\n",
       "                popup_5ae387a507c4f358d5c252563d876e75.setContent(html_c3c05e592a3364662e42a389961b3477);\n",
       "            \n",
       "        \n",
       "\n",
       "        marker_3b867256177a34f48b3f96555d14214a.bindPopup(popup_5ae387a507c4f358d5c252563d876e75)\n",
       "        ;\n",
       "\n",
       "        \n",
       "    \n",
       "    \n",
       "                marker_3b867256177a34f48b3f96555d14214a.setIcon(custom_icon_703c96ef0f0c249cc206b8513c22a844);\n",
       "            \n",
       "    \n",
       "            var marker_825a121f4b6a6b9ef01c90ce31a278bc = L.marker(\n",
       "                [44.0121279, 4.4196718],\n",
       "                {\n",
       "}\n",
       "            ).addTo(map_9773ab34c3ff09dc2d33ea8ae2b5f939);\n",
       "        \n",
       "    \n",
       "        var custom_icon_10a0e943652811b3edcaaaef49664c0a = L.icon({\n",
       "  &quot;iconUrl&quot;: &quot;https://images.icon-icons.com/2791/PNG/512/overcast_cloud_weather_icon_177561.png&quot;,\n",
       "  &quot;iconSize&quot;: [40, 40],\n",
       "});\n",
       "        marker_825a121f4b6a6b9ef01c90ce31a278bc.setIcon(custom_icon_10a0e943652811b3edcaaaef49664c0a);\n",
       "        \n",
       "    \n",
       "        var popup_71c4e8ace1877ce994529ccc33c82885 = L.popup({\n",
       "  &quot;maxWidth&quot;: &quot;100%&quot;,\n",
       "});\n",
       "\n",
       "        \n",
       "            \n",
       "                var html_cb0c806791672e55a4d914798e2d8ed7 = $(`&lt;div id=&quot;html_cb0c806791672e55a4d914798e2d8ed7&quot; style=&quot;width: 100.0%; height: 100.0%;&quot;&gt;Uzes&lt;/div&gt;`)[0];\n",
       "                popup_71c4e8ace1877ce994529ccc33c82885.setContent(html_cb0c806791672e55a4d914798e2d8ed7);\n",
       "            \n",
       "        \n",
       "\n",
       "        marker_825a121f4b6a6b9ef01c90ce31a278bc.bindPopup(popup_71c4e8ace1877ce994529ccc33c82885)\n",
       "        ;\n",
       "\n",
       "        \n",
       "    \n",
       "    \n",
       "                marker_825a121f4b6a6b9ef01c90ce31a278bc.setIcon(custom_icon_10a0e943652811b3edcaaaef49664c0a);\n",
       "            \n",
       "    \n",
       "            var marker_ab33dea46e087af4ac049b77a2354468 = L.marker(\n",
       "                [43.8374249, 4.3600687],\n",
       "                {\n",
       "}\n",
       "            ).addTo(map_9773ab34c3ff09dc2d33ea8ae2b5f939);\n",
       "        \n",
       "    \n",
       "        var custom_icon_b23c4f3513269d057f8e2a5e47dfb7d0 = L.icon({\n",
       "  &quot;iconUrl&quot;: &quot;https://images.icon-icons.com/2791/PNG/512/sunny_day_weather_sun_icon_177555.png&quot;,\n",
       "  &quot;iconSize&quot;: [40, 40],\n",
       "});\n",
       "        marker_ab33dea46e087af4ac049b77a2354468.setIcon(custom_icon_b23c4f3513269d057f8e2a5e47dfb7d0);\n",
       "        \n",
       "    \n",
       "        var popup_d9f167f16299c02113e2bf8e7406bb18 = L.popup({\n",
       "  &quot;maxWidth&quot;: &quot;100%&quot;,\n",
       "});\n",
       "\n",
       "        \n",
       "            \n",
       "                var html_ee2de5483f1cd207416669f83318cfc2 = $(`&lt;div id=&quot;html_ee2de5483f1cd207416669f83318cfc2&quot; style=&quot;width: 100.0%; height: 100.0%;&quot;&gt;Nimes&lt;/div&gt;`)[0];\n",
       "                popup_d9f167f16299c02113e2bf8e7406bb18.setContent(html_ee2de5483f1cd207416669f83318cfc2);\n",
       "            \n",
       "        \n",
       "\n",
       "        marker_ab33dea46e087af4ac049b77a2354468.bindPopup(popup_d9f167f16299c02113e2bf8e7406bb18)\n",
       "        ;\n",
       "\n",
       "        \n",
       "    \n",
       "    \n",
       "                marker_ab33dea46e087af4ac049b77a2354468.setIcon(custom_icon_b23c4f3513269d057f8e2a5e47dfb7d0);\n",
       "            \n",
       "    \n",
       "            var marker_a86cc5c8517c25a455859ccbebf5cede = L.marker(\n",
       "                [43.5658225, 4.1912837],\n",
       "                {\n",
       "}\n",
       "            ).addTo(map_9773ab34c3ff09dc2d33ea8ae2b5f939);\n",
       "        \n",
       "    \n",
       "        var custom_icon_f9663db081fcf0368636a1c1ef997401 = L.icon({\n",
       "  &quot;iconUrl&quot;: &quot;https://images.icon-icons.com/2791/PNG/512/overcast_cloud_weather_icon_177561.png&quot;,\n",
       "  &quot;iconSize&quot;: [40, 40],\n",
       "});\n",
       "        marker_a86cc5c8517c25a455859ccbebf5cede.setIcon(custom_icon_f9663db081fcf0368636a1c1ef997401);\n",
       "        \n",
       "    \n",
       "        var popup_945238329bb3d403060630b445f29995 = L.popup({\n",
       "  &quot;maxWidth&quot;: &quot;100%&quot;,\n",
       "});\n",
       "\n",
       "        \n",
       "            \n",
       "                var html_4ae25b8856cb34e5d1c19f2825281031 = $(`&lt;div id=&quot;html_4ae25b8856cb34e5d1c19f2825281031&quot; style=&quot;width: 100.0%; height: 100.0%;&quot;&gt;Aigues Mortes&lt;/div&gt;`)[0];\n",
       "                popup_945238329bb3d403060630b445f29995.setContent(html_4ae25b8856cb34e5d1c19f2825281031);\n",
       "            \n",
       "        \n",
       "\n",
       "        marker_a86cc5c8517c25a455859ccbebf5cede.bindPopup(popup_945238329bb3d403060630b445f29995)\n",
       "        ;\n",
       "\n",
       "        \n",
       "    \n",
       "    \n",
       "                marker_a86cc5c8517c25a455859ccbebf5cede.setIcon(custom_icon_f9663db081fcf0368636a1c1ef997401);\n",
       "            \n",
       "    \n",
       "            var marker_65c4f6f70e903292fe4b6abc2cb16e4f = L.marker(\n",
       "                [43.4522771, 4.4287172],\n",
       "                {\n",
       "}\n",
       "            ).addTo(map_9773ab34c3ff09dc2d33ea8ae2b5f939);\n",
       "        \n",
       "    \n",
       "        var custom_icon_e3c2aed2eaa98858707f0720f0a33f9d = L.icon({\n",
       "  &quot;iconUrl&quot;: &quot;https://images.icon-icons.com/2791/PNG/512/overcast_cloud_weather_icon_177561.png&quot;,\n",
       "  &quot;iconSize&quot;: [40, 40],\n",
       "});\n",
       "        marker_65c4f6f70e903292fe4b6abc2cb16e4f.setIcon(custom_icon_e3c2aed2eaa98858707f0720f0a33f9d);\n",
       "        \n",
       "    \n",
       "        var popup_af1e96e4bfff777cbc1f8794275c33ea = L.popup({\n",
       "  &quot;maxWidth&quot;: &quot;100%&quot;,\n",
       "});\n",
       "\n",
       "        \n",
       "            \n",
       "                var html_5eaca237550f67c9f1cdfc72eab2cda2 = $(`&lt;div id=&quot;html_5eaca237550f67c9f1cdfc72eab2cda2&quot; style=&quot;width: 100.0%; height: 100.0%;&quot;&gt;Saintes Maries de la mer&lt;/div&gt;`)[0];\n",
       "                popup_af1e96e4bfff777cbc1f8794275c33ea.setContent(html_5eaca237550f67c9f1cdfc72eab2cda2);\n",
       "            \n",
       "        \n",
       "\n",
       "        marker_65c4f6f70e903292fe4b6abc2cb16e4f.bindPopup(popup_af1e96e4bfff777cbc1f8794275c33ea)\n",
       "        ;\n",
       "\n",
       "        \n",
       "    \n",
       "    \n",
       "                marker_65c4f6f70e903292fe4b6abc2cb16e4f.setIcon(custom_icon_e3c2aed2eaa98858707f0720f0a33f9d);\n",
       "            \n",
       "    \n",
       "            var marker_ddc83ea904ec0e182f2808542ac5df5d = L.marker(\n",
       "                [42.52505, 3.0831554],\n",
       "                {\n",
       "}\n",
       "            ).addTo(map_9773ab34c3ff09dc2d33ea8ae2b5f939);\n",
       "        \n",
       "    \n",
       "        var custom_icon_cab6eaf5f0b032beeecefdb3f2893005 = L.icon({\n",
       "  &quot;iconUrl&quot;: &quot;https://images.icon-icons.com/2791/PNG/512/overcast_cloud_weather_icon_177561.png&quot;,\n",
       "  &quot;iconSize&quot;: [40, 40],\n",
       "});\n",
       "        marker_ddc83ea904ec0e182f2808542ac5df5d.setIcon(custom_icon_cab6eaf5f0b032beeecefdb3f2893005);\n",
       "        \n",
       "    \n",
       "        var popup_2f12391ad6488727d4ff6dc26d002660 = L.popup({\n",
       "  &quot;maxWidth&quot;: &quot;100%&quot;,\n",
       "});\n",
       "\n",
       "        \n",
       "            \n",
       "                var html_86371d31f7bf0ffe3ae8d8c51798bd27 = $(`&lt;div id=&quot;html_86371d31f7bf0ffe3ae8d8c51798bd27&quot; style=&quot;width: 100.0%; height: 100.0%;&quot;&gt;Collioure&lt;/div&gt;`)[0];\n",
       "                popup_2f12391ad6488727d4ff6dc26d002660.setContent(html_86371d31f7bf0ffe3ae8d8c51798bd27);\n",
       "            \n",
       "        \n",
       "\n",
       "        marker_ddc83ea904ec0e182f2808542ac5df5d.bindPopup(popup_2f12391ad6488727d4ff6dc26d002660)\n",
       "        ;\n",
       "\n",
       "        \n",
       "    \n",
       "    \n",
       "                marker_ddc83ea904ec0e182f2808542ac5df5d.setIcon(custom_icon_cab6eaf5f0b032beeecefdb3f2893005);\n",
       "            \n",
       "    \n",
       "            var marker_e61a6b99d25e08361e5c3c6e9b4d50a3 = L.marker(\n",
       "                [43.2130358, 2.3491069],\n",
       "                {\n",
       "}\n",
       "            ).addTo(map_9773ab34c3ff09dc2d33ea8ae2b5f939);\n",
       "        \n",
       "    \n",
       "        var custom_icon_5bc7bb24b398e7c9921a9dcad6524367 = L.icon({\n",
       "  &quot;iconUrl&quot;: &quot;https://images.icon-icons.com/2791/PNG/512/overcast_cloud_weather_icon_177561.png&quot;,\n",
       "  &quot;iconSize&quot;: [40, 40],\n",
       "});\n",
       "        marker_e61a6b99d25e08361e5c3c6e9b4d50a3.setIcon(custom_icon_5bc7bb24b398e7c9921a9dcad6524367);\n",
       "        \n",
       "    \n",
       "        var popup_f69509fe727f9fa1adbc04700dbb5c25 = L.popup({\n",
       "  &quot;maxWidth&quot;: &quot;100%&quot;,\n",
       "});\n",
       "\n",
       "        \n",
       "            \n",
       "                var html_f5d3d310bd1b656d4e6e856bb4f10506 = $(`&lt;div id=&quot;html_f5d3d310bd1b656d4e6e856bb4f10506&quot; style=&quot;width: 100.0%; height: 100.0%;&quot;&gt;Carcassonne&lt;/div&gt;`)[0];\n",
       "                popup_f69509fe727f9fa1adbc04700dbb5c25.setContent(html_f5d3d310bd1b656d4e6e856bb4f10506);\n",
       "            \n",
       "        \n",
       "\n",
       "        marker_e61a6b99d25e08361e5c3c6e9b4d50a3.bindPopup(popup_f69509fe727f9fa1adbc04700dbb5c25)\n",
       "        ;\n",
       "\n",
       "        \n",
       "    \n",
       "    \n",
       "                marker_e61a6b99d25e08361e5c3c6e9b4d50a3.setIcon(custom_icon_5bc7bb24b398e7c9921a9dcad6524367);\n",
       "            \n",
       "    \n",
       "            var marker_3332f568ef86bfcb6ba6f53565bdecb3 = L.marker(\n",
       "                [42.8458016, 1.6067586],\n",
       "                {\n",
       "}\n",
       "            ).addTo(map_9773ab34c3ff09dc2d33ea8ae2b5f939);\n",
       "        \n",
       "    \n",
       "        var custom_icon_698c6772a24b30af5e233faa26a61bab = L.icon({\n",
       "  &quot;iconUrl&quot;: &quot;https://images.icon-icons.com/2791/PNG/512/overcast_cloud_weather_icon_177561.png&quot;,\n",
       "  &quot;iconSize&quot;: [40, 40],\n",
       "});\n",
       "        marker_3332f568ef86bfcb6ba6f53565bdecb3.setIcon(custom_icon_698c6772a24b30af5e233faa26a61bab);\n",
       "        \n",
       "    \n",
       "        var popup_54de4fa4fdf9fa9630003f381918a982 = L.popup({\n",
       "  &quot;maxWidth&quot;: &quot;100%&quot;,\n",
       "});\n",
       "\n",
       "        \n",
       "            \n",
       "                var html_bbd3f8dc02715165785935cc1c9ed555 = $(`&lt;div id=&quot;html_bbd3f8dc02715165785935cc1c9ed555&quot; style=&quot;width: 100.0%; height: 100.0%;&quot;&gt;Ariege&lt;/div&gt;`)[0];\n",
       "                popup_54de4fa4fdf9fa9630003f381918a982.setContent(html_bbd3f8dc02715165785935cc1c9ed555);\n",
       "            \n",
       "        \n",
       "\n",
       "        marker_3332f568ef86bfcb6ba6f53565bdecb3.bindPopup(popup_54de4fa4fdf9fa9630003f381918a982)\n",
       "        ;\n",
       "\n",
       "        \n",
       "    \n",
       "    \n",
       "                marker_3332f568ef86bfcb6ba6f53565bdecb3.setIcon(custom_icon_698c6772a24b30af5e233faa26a61bab);\n",
       "            \n",
       "    \n",
       "            var marker_16ad021c7a370b8e683a4339aa1e9882 = L.marker(\n",
       "                [43.6044622, 1.4442469],\n",
       "                {\n",
       "}\n",
       "            ).addTo(map_9773ab34c3ff09dc2d33ea8ae2b5f939);\n",
       "        \n",
       "    \n",
       "        var custom_icon_b85324f50f580a380c4a7a6218cab901 = L.icon({\n",
       "  &quot;iconUrl&quot;: &quot;https://images.icon-icons.com/2791/PNG/512/overcast_cloud_weather_icon_177561.png&quot;,\n",
       "  &quot;iconSize&quot;: [40, 40],\n",
       "});\n",
       "        marker_16ad021c7a370b8e683a4339aa1e9882.setIcon(custom_icon_b85324f50f580a380c4a7a6218cab901);\n",
       "        \n",
       "    \n",
       "        var popup_e5574f0f5275b2a88774d901d86f5503 = L.popup({\n",
       "  &quot;maxWidth&quot;: &quot;100%&quot;,\n",
       "});\n",
       "\n",
       "        \n",
       "            \n",
       "                var html_143a0ced37968d33121fdd85e555e714 = $(`&lt;div id=&quot;html_143a0ced37968d33121fdd85e555e714&quot; style=&quot;width: 100.0%; height: 100.0%;&quot;&gt;Toulouse&lt;/div&gt;`)[0];\n",
       "                popup_e5574f0f5275b2a88774d901d86f5503.setContent(html_143a0ced37968d33121fdd85e555e714);\n",
       "            \n",
       "        \n",
       "\n",
       "        marker_16ad021c7a370b8e683a4339aa1e9882.bindPopup(popup_e5574f0f5275b2a88774d901d86f5503)\n",
       "        ;\n",
       "\n",
       "        \n",
       "    \n",
       "    \n",
       "                marker_16ad021c7a370b8e683a4339aa1e9882.setIcon(custom_icon_b85324f50f580a380c4a7a6218cab901);\n",
       "            \n",
       "    \n",
       "            var marker_30f9efdb30ebada20227721881af1ccf = L.marker(\n",
       "                [44.0175835, 1.3549991],\n",
       "                {\n",
       "}\n",
       "            ).addTo(map_9773ab34c3ff09dc2d33ea8ae2b5f939);\n",
       "        \n",
       "    \n",
       "        var custom_icon_c031df6b536b8bcc9c862f9f5b2ee218 = L.icon({\n",
       "  &quot;iconUrl&quot;: &quot;https://images.icon-icons.com/2791/PNG/512/overcast_cloud_weather_icon_177561.png&quot;,\n",
       "  &quot;iconSize&quot;: [40, 40],\n",
       "});\n",
       "        marker_30f9efdb30ebada20227721881af1ccf.setIcon(custom_icon_c031df6b536b8bcc9c862f9f5b2ee218);\n",
       "        \n",
       "    \n",
       "        var popup_9fe4138b061119d0ba4fa5a583753723 = L.popup({\n",
       "  &quot;maxWidth&quot;: &quot;100%&quot;,\n",
       "});\n",
       "\n",
       "        \n",
       "            \n",
       "                var html_430fd436d2249fc253f695f8f127d063 = $(`&lt;div id=&quot;html_430fd436d2249fc253f695f8f127d063&quot; style=&quot;width: 100.0%; height: 100.0%;&quot;&gt;Montauban&lt;/div&gt;`)[0];\n",
       "                popup_9fe4138b061119d0ba4fa5a583753723.setContent(html_430fd436d2249fc253f695f8f127d063);\n",
       "            \n",
       "        \n",
       "\n",
       "        marker_30f9efdb30ebada20227721881af1ccf.bindPopup(popup_9fe4138b061119d0ba4fa5a583753723)\n",
       "        ;\n",
       "\n",
       "        \n",
       "    \n",
       "    \n",
       "                marker_30f9efdb30ebada20227721881af1ccf.setIcon(custom_icon_c031df6b536b8bcc9c862f9f5b2ee218);\n",
       "            \n",
       "    \n",
       "            var marker_26fd16df215faecad6e0d5b53c1b05fd = L.marker(\n",
       "                [43.4832523, -1.5592776],\n",
       "                {\n",
       "}\n",
       "            ).addTo(map_9773ab34c3ff09dc2d33ea8ae2b5f939);\n",
       "        \n",
       "    \n",
       "        var custom_icon_80cc022f472b6ce64c02f53a2a1f467b = L.icon({\n",
       "  &quot;iconUrl&quot;: &quot;https://images.icon-icons.com/2791/PNG/512/overcast_cloud_weather_icon_177561.png&quot;,\n",
       "  &quot;iconSize&quot;: [40, 40],\n",
       "});\n",
       "        marker_26fd16df215faecad6e0d5b53c1b05fd.setIcon(custom_icon_80cc022f472b6ce64c02f53a2a1f467b);\n",
       "        \n",
       "    \n",
       "        var popup_875e6841c4d9185d7b5aa5eb00283718 = L.popup({\n",
       "  &quot;maxWidth&quot;: &quot;100%&quot;,\n",
       "});\n",
       "\n",
       "        \n",
       "            \n",
       "                var html_04619b331a1289f72bc6b6d08e00a3f3 = $(`&lt;div id=&quot;html_04619b331a1289f72bc6b6d08e00a3f3&quot; style=&quot;width: 100.0%; height: 100.0%;&quot;&gt;Biarritz&lt;/div&gt;`)[0];\n",
       "                popup_875e6841c4d9185d7b5aa5eb00283718.setContent(html_04619b331a1289f72bc6b6d08e00a3f3);\n",
       "            \n",
       "        \n",
       "\n",
       "        marker_26fd16df215faecad6e0d5b53c1b05fd.bindPopup(popup_875e6841c4d9185d7b5aa5eb00283718)\n",
       "        ;\n",
       "\n",
       "        \n",
       "    \n",
       "    \n",
       "                marker_26fd16df215faecad6e0d5b53c1b05fd.setIcon(custom_icon_80cc022f472b6ce64c02f53a2a1f467b);\n",
       "            \n",
       "    \n",
       "            var marker_8f528ece2ee33c6045783c141d4bd816 = L.marker(\n",
       "                [43.4945144, -1.4736657],\n",
       "                {\n",
       "}\n",
       "            ).addTo(map_9773ab34c3ff09dc2d33ea8ae2b5f939);\n",
       "        \n",
       "    \n",
       "        var custom_icon_a20ae1c50223044f774c3175324372fe = L.icon({\n",
       "  &quot;iconUrl&quot;: &quot;https://images.icon-icons.com/2791/PNG/512/overcast_cloud_weather_icon_177561.png&quot;,\n",
       "  &quot;iconSize&quot;: [40, 40],\n",
       "});\n",
       "        marker_8f528ece2ee33c6045783c141d4bd816.setIcon(custom_icon_a20ae1c50223044f774c3175324372fe);\n",
       "        \n",
       "    \n",
       "        var popup_0c07ae685563cf3885bfe64c78e829aa = L.popup({\n",
       "  &quot;maxWidth&quot;: &quot;100%&quot;,\n",
       "});\n",
       "\n",
       "        \n",
       "            \n",
       "                var html_73462c7c0dd439f5c8ff533cf3320ca2 = $(`&lt;div id=&quot;html_73462c7c0dd439f5c8ff533cf3320ca2&quot; style=&quot;width: 100.0%; height: 100.0%;&quot;&gt;Bayonne&lt;/div&gt;`)[0];\n",
       "                popup_0c07ae685563cf3885bfe64c78e829aa.setContent(html_73462c7c0dd439f5c8ff533cf3320ca2);\n",
       "            \n",
       "        \n",
       "\n",
       "        marker_8f528ece2ee33c6045783c141d4bd816.bindPopup(popup_0c07ae685563cf3885bfe64c78e829aa)\n",
       "        ;\n",
       "\n",
       "        \n",
       "    \n",
       "    \n",
       "                marker_8f528ece2ee33c6045783c141d4bd816.setIcon(custom_icon_a20ae1c50223044f774c3175324372fe);\n",
       "            \n",
       "    \n",
       "            var marker_7b6b715f47c4e03213c0600109f4434b = L.marker(\n",
       "                [46.1591126, -1.1520434],\n",
       "                {\n",
       "}\n",
       "            ).addTo(map_9773ab34c3ff09dc2d33ea8ae2b5f939);\n",
       "        \n",
       "    \n",
       "        var custom_icon_5c994154382841b0237b1f53924be2ca = L.icon({\n",
       "  &quot;iconUrl&quot;: &quot;https://images.icon-icons.com/2791/PNG/512/sunny_day_weather_sun_icon_177555.png&quot;,\n",
       "  &quot;iconSize&quot;: [40, 40],\n",
       "});\n",
       "        marker_7b6b715f47c4e03213c0600109f4434b.setIcon(custom_icon_5c994154382841b0237b1f53924be2ca);\n",
       "        \n",
       "    \n",
       "        var popup_fbdb5b33793e5fcfa961930b2cff17b6 = L.popup({\n",
       "  &quot;maxWidth&quot;: &quot;100%&quot;,\n",
       "});\n",
       "\n",
       "        \n",
       "            \n",
       "                var html_31367c69e079451fda7cf4bff91d148d = $(`&lt;div id=&quot;html_31367c69e079451fda7cf4bff91d148d&quot; style=&quot;width: 100.0%; height: 100.0%;&quot;&gt;La Rochelle&lt;/div&gt;`)[0];\n",
       "                popup_fbdb5b33793e5fcfa961930b2cff17b6.setContent(html_31367c69e079451fda7cf4bff91d148d);\n",
       "            \n",
       "        \n",
       "\n",
       "        marker_7b6b715f47c4e03213c0600109f4434b.bindPopup(popup_fbdb5b33793e5fcfa961930b2cff17b6)\n",
       "        ;\n",
       "\n",
       "        \n",
       "    \n",
       "    \n",
       "                marker_7b6b715f47c4e03213c0600109f4434b.setIcon(custom_icon_5c994154382841b0237b1f53924be2ca);\n",
       "            \n",
       "    \n",
       "            var marker_9edd89f5318e40d8bb862012e672edda = L.marker(\n",
       "                [43.7496562, 6.3285616],\n",
       "                {\n",
       "}\n",
       "            ).addTo(map_9773ab34c3ff09dc2d33ea8ae2b5f939);\n",
       "        \n",
       "    \n",
       "        var custom_icon_beedce611a9678240e245f27c5197320 = L.icon({\n",
       "  &quot;iconUrl&quot;: &quot;https://images.icon-icons.com/2791/PNG/512/rain_cloud_weather_icon_177568.png&quot;,\n",
       "  &quot;iconSize&quot;: [40, 40],\n",
       "});\n",
       "        marker_9edd89f5318e40d8bb862012e672edda.setIcon(custom_icon_beedce611a9678240e245f27c5197320);\n",
       "        \n",
       "    \n",
       "        var popup_3004681c2535640665ea80ea7e09d09a = L.popup({\n",
       "  &quot;maxWidth&quot;: &quot;100%&quot;,\n",
       "});\n",
       "\n",
       "        \n",
       "            \n",
       "                var html_d4091de5634233d0a909c69d975f5a8a = $(`&lt;div id=&quot;html_d4091de5634233d0a909c69d975f5a8a&quot; style=&quot;width: 100.0%; height: 100.0%;&quot;&gt;Gorges du Verdon&lt;/div&gt;`)[0];\n",
       "                popup_3004681c2535640665ea80ea7e09d09a.setContent(html_d4091de5634233d0a909c69d975f5a8a);\n",
       "            \n",
       "        \n",
       "\n",
       "        marker_9edd89f5318e40d8bb862012e672edda.bindPopup(popup_3004681c2535640665ea80ea7e09d09a)\n",
       "        ;\n",
       "\n",
       "        \n",
       "    \n",
       "    \n",
       "                marker_9edd89f5318e40d8bb862012e672edda.setIcon(custom_icon_beedce611a9678240e245f27c5197320);\n",
       "            \n",
       "    \n",
       "            tile_layer_9e66157560214a23279a6a4a7b7debf4.addTo(map_9773ab34c3ff09dc2d33ea8ae2b5f939);\n",
       "        \n",
       "    \n",
       "                marker_d6be9f5883e72345de913607f19c4fc3.setIcon(custom_icon_5ab25b61edbef82ffd65fef3638db3a3);\n",
       "            \n",
       "    \n",
       "                marker_5564798df02c255a586faf6c116a0fff.setIcon(custom_icon_bea6a87b76e5483f796fe8fd455ecdb1);\n",
       "            \n",
       "    \n",
       "                marker_0197e63da98ff79ad1bbd0d6bccd22b4.setIcon(custom_icon_cbe49c89e8c35143f1143790c0da52d9);\n",
       "            \n",
       "    \n",
       "                marker_92f32f999f1b75e4da3abe86c9b14f40.setIcon(custom_icon_2476ac1d8d27053798d7e569cc2f82ed);\n",
       "            \n",
       "    \n",
       "                marker_1aa9e98b10af56ba1c5a14484fafb95b.setIcon(custom_icon_8fdef38a21596322f6c67372afb17a5f);\n",
       "            \n",
       "    \n",
       "                marker_f8ec4eef44b37b6e7c71dc95a3e31e91.setIcon(custom_icon_9e128383a6079b39b01144af6ca3109b);\n",
       "            \n",
       "    \n",
       "                marker_ac7614ae822c0c6271b16d449d86e2c3.setIcon(custom_icon_f92d311617214e115145ea8edfe26768);\n",
       "            \n",
       "    \n",
       "                marker_06adaf3af390c3601139887152efee2f.setIcon(custom_icon_dba89c5f7becccf517539e13882fa667);\n",
       "            \n",
       "    \n",
       "                marker_b74b391a3375f57e1bbb584eabcbc803.setIcon(custom_icon_2640ab3c9563a7c45f0bedc9b8c8848c);\n",
       "            \n",
       "    \n",
       "                marker_da658f86ba8f0b53835628ce45a0fcf9.setIcon(custom_icon_339ab6abd0f4d9e01850b9f92ff1c028);\n",
       "            \n",
       "    \n",
       "                marker_7d0495955858ea113b5c46d37ac20b27.setIcon(custom_icon_24fb19671b35c8dcac1263bb56f9fae1);\n",
       "            \n",
       "    \n",
       "                marker_ef00c148b631f81922211f531fc61d11.setIcon(custom_icon_1033011f2ebb6b3ae14e1b3d22ec23e0);\n",
       "            \n",
       "    \n",
       "                marker_973aaf67cd25587c0a87aabb64780f8c.setIcon(custom_icon_54ded3df87351ec487390d59760756cd);\n",
       "            \n",
       "    \n",
       "                marker_6a89ca9d42e045f78187ad935eb74470.setIcon(custom_icon_61bb29523271580a80764fb09972580f);\n",
       "            \n",
       "    \n",
       "                marker_28fdce38e458981740dbb007fcd9fb83.setIcon(custom_icon_12f8eebb7e2414e1cd9f8ab7dbdee7e5);\n",
       "            \n",
       "    \n",
       "                marker_4e84855999639c50591f8307d40bde5b.setIcon(custom_icon_0fda24e0a0dee65b23feec7200f6c726);\n",
       "            \n",
       "    \n",
       "                marker_49b1023d73b88d6911ae21df6caca6c5.setIcon(custom_icon_41ac9de072429725b7f6e0a58daca9f7);\n",
       "            \n",
       "    \n",
       "                marker_3ec7ec77d48630743675036fa0a8548f.setIcon(custom_icon_07abc100fee900b5205f03522ae0b67a);\n",
       "            \n",
       "    \n",
       "                marker_749b292d0e750da34de63b09c56245e8.setIcon(custom_icon_3956ba072719d94b4b4a0d3e667d5e41);\n",
       "            \n",
       "    \n",
       "                marker_2466da8ca350cdc072aac4b2d239cdc9.setIcon(custom_icon_6ddc14cb94cdcc048b99073ae51a1daf);\n",
       "            \n",
       "    \n",
       "                marker_b1937acd23f8e9163e55445bd942ec6c.setIcon(custom_icon_2e7b8c92c694c47f63eb6e9389b81c24);\n",
       "            \n",
       "    \n",
       "                marker_3b867256177a34f48b3f96555d14214a.setIcon(custom_icon_703c96ef0f0c249cc206b8513c22a844);\n",
       "            \n",
       "    \n",
       "                marker_825a121f4b6a6b9ef01c90ce31a278bc.setIcon(custom_icon_10a0e943652811b3edcaaaef49664c0a);\n",
       "            \n",
       "    \n",
       "                marker_ab33dea46e087af4ac049b77a2354468.setIcon(custom_icon_b23c4f3513269d057f8e2a5e47dfb7d0);\n",
       "            \n",
       "    \n",
       "                marker_a86cc5c8517c25a455859ccbebf5cede.setIcon(custom_icon_f9663db081fcf0368636a1c1ef997401);\n",
       "            \n",
       "    \n",
       "                marker_65c4f6f70e903292fe4b6abc2cb16e4f.setIcon(custom_icon_e3c2aed2eaa98858707f0720f0a33f9d);\n",
       "            \n",
       "    \n",
       "                marker_ddc83ea904ec0e182f2808542ac5df5d.setIcon(custom_icon_cab6eaf5f0b032beeecefdb3f2893005);\n",
       "            \n",
       "    \n",
       "                marker_e61a6b99d25e08361e5c3c6e9b4d50a3.setIcon(custom_icon_5bc7bb24b398e7c9921a9dcad6524367);\n",
       "            \n",
       "    \n",
       "                marker_3332f568ef86bfcb6ba6f53565bdecb3.setIcon(custom_icon_698c6772a24b30af5e233faa26a61bab);\n",
       "            \n",
       "    \n",
       "                marker_16ad021c7a370b8e683a4339aa1e9882.setIcon(custom_icon_b85324f50f580a380c4a7a6218cab901);\n",
       "            \n",
       "    \n",
       "                marker_30f9efdb30ebada20227721881af1ccf.setIcon(custom_icon_c031df6b536b8bcc9c862f9f5b2ee218);\n",
       "            \n",
       "    \n",
       "                marker_26fd16df215faecad6e0d5b53c1b05fd.setIcon(custom_icon_80cc022f472b6ce64c02f53a2a1f467b);\n",
       "            \n",
       "    \n",
       "                marker_8f528ece2ee33c6045783c141d4bd816.setIcon(custom_icon_a20ae1c50223044f774c3175324372fe);\n",
       "            \n",
       "    \n",
       "                marker_7b6b715f47c4e03213c0600109f4434b.setIcon(custom_icon_5c994154382841b0237b1f53924be2ca);\n",
       "            \n",
       "    \n",
       "                marker_9edd89f5318e40d8bb862012e672edda.setIcon(custom_icon_beedce611a9678240e245f27c5197320);\n",
       "            \n",
       "&lt;/script&gt;\n",
       "&lt;/html&gt;\" style=\"position:absolute;width:100%;height:100%;left:0;top:0;border:none !important;\" allowfullscreen webkitallowfullscreen mozallowfullscreen></iframe></div></div>"
      ],
      "text/plain": [
       "<folium.folium.Map at 0x1e6a30fa9e0>"
      ]
     },
     "execution_count": 319,
     "metadata": {},
     "output_type": "execute_result"
    }
   ],
   "source": [
    "# Dictionnaire pour mapper les descriptions aux icônes\n",
    "icon_mapping = {\n",
    "    'clear sky': \"https://images.icon-icons.com/2791/PNG/512/sunny_day_weather_sun_icon_177555.png\",  \n",
    "    'scattered clouds': 'https://images.icon-icons.com/2791/PNG/512/partly_cloudy_day_sun_clouds_weather_icon_177560.png',\n",
    "    'few clouds' : 'https://images.icon-icons.com/857/PNG/512/weather-2_icon-icons.com_67742.png',\n",
    "    'broken clouds': 'https://images.icon-icons.com/2791/PNG/512/cloudy_cloud_weather_icon_177580.png',\n",
    "    'overcast clouds': 'https://images.icon-icons.com/2791/PNG/512/overcast_cloud_weather_icon_177561.png',\n",
    "    'light intensity drizzle rain' : 'https://images.icon-icons.com/139/PNG/512/drizzle_day_weather_20907.png',\n",
    "    'light intensity drizzle': 'https://images.icon-icons.com/139/PNG/512/drizzle_day_weather_20907.png',\n",
    "    'mist': 'https://images.icon-icons.com/2791/PNG/512/fog_weather_icon_177578.png',\n",
    "    'light rain' : 'https://images.icon-icons.com/2791/PNG/512/rain_cloud_weather_icon_177568.png',\n",
    "    'heavy rain' : 'https://images.icon-icons.com/2791/PNG/512/heavy_rain_weather_icon_177574.png',\n",
    "    'heavy intensity rain' : \"https://images.icon-icons.com/2791/PNG/512/heavy_rain_day_weather_icon_177573.png\",\n",
    "    'moderate rain' : 'https://images.icon-icons.com/2791/PNG/512/heavy_rain_day_weather_icon_177573.png',\n",
    "    'thunder storm' : 'https://images.icon-icons.com/2791/PNG/512/thunder_thunderbolt_cloud_weather_icon_177554.png',\n",
    "    'snow' : 'https://images.icon-icons.com/2791/PNG/512/heavy_snow_weather_icon_177571.png'\n",
    "}\n",
    "\n",
    "# Créer une carte centrée sur la France\n",
    "map = folium.Map(location=[46.603354, 1.888334], zoom_start=6)\n",
    "\n",
    "# Ajouter les villes à la carte avec des icônes personnalisées\n",
    "for i, row in bc.iterrows():\n",
    "    icon_url = icon_mapping.get(row['description'], 'https://images.icon-icons.com/1744/PNG/512/3643775-caution-exclamation-mark-sign-triangle_113444.png')  #si non trouvé dans le dico, ce logo apparait\n",
    "    folium.Marker(\n",
    "        location=[row['lat'], row['lon']],\n",
    "        popup=row['cities'],\n",
    "        icon=folium.CustomIcon(icon_url, icon_size=(40, 40))  # Ajustez la taille de l'icône si nécessaire\n",
    "    ).add_to(map)\n",
    "\n",
    "# Sauvegarder la carte dans un fichier HTML\n",
    "map.save('maps/map_meteo_best_city.html')\n",
    "\n",
    "# Afficher la carte\n",
    "map\n"
   ]
  },
  {
   "cell_type": "markdown",
   "metadata": {},
   "source": [
    "# Selection des meilleures destinations"
   ]
  },
  {
   "cell_type": "markdown",
   "metadata": {},
   "source": [
    "Nous sommes au printemps. Nous cherchons une distination qui nous changerait de la grisaille parisienne. Pour définir les villes avec la meilleure météo, nous pouvons définir les conditions suivantes :\n",
    "- ciel dégagé\n",
    "- hautes température rééel et ressentie\n",
    "- Indice UV élevé\n",
    "- faible taux d'humidité\n",
    "- faible vitesse du vent"
   ]
  },
  {
   "cell_type": "code",
   "execution_count": 320,
   "metadata": {},
   "outputs": [
    {
     "data": {
      "text/html": [
       "<div>\n",
       "<style scoped>\n",
       "    .dataframe tbody tr th:only-of-type {\n",
       "        vertical-align: middle;\n",
       "    }\n",
       "\n",
       "    .dataframe tbody tr th {\n",
       "        vertical-align: top;\n",
       "    }\n",
       "\n",
       "    .dataframe thead th {\n",
       "        text-align: right;\n",
       "    }\n",
       "</style>\n",
       "<table border=\"1\" class=\"dataframe\">\n",
       "  <thead>\n",
       "    <tr style=\"text-align: right;\">\n",
       "      <th></th>\n",
       "      <th>cities</th>\n",
       "      <th>name</th>\n",
       "      <th>country</th>\n",
       "      <th>state</th>\n",
       "      <th>lat</th>\n",
       "      <th>lon</th>\n",
       "      <th>date</th>\n",
       "      <th>temp</th>\n",
       "      <th>feels_like</th>\n",
       "      <th>uvi</th>\n",
       "      <th>humidity</th>\n",
       "      <th>wind_speed</th>\n",
       "      <th>description</th>\n",
       "    </tr>\n",
       "  </thead>\n",
       "  <tbody>\n",
       "    <tr>\n",
       "      <th>0</th>\n",
       "      <td>Mont Saint Michel</td>\n",
       "      <td>Mont Saint-Michel</td>\n",
       "      <td>FR</td>\n",
       "      <td>Normandy</td>\n",
       "      <td>48.635954</td>\n",
       "      <td>-1.511460</td>\n",
       "      <td>2025-04-23 18:58:21</td>\n",
       "      <td>10.27</td>\n",
       "      <td>9.81</td>\n",
       "      <td>0.0</td>\n",
       "      <td>94.0</td>\n",
       "      <td>3.84</td>\n",
       "      <td>clear sky</td>\n",
       "    </tr>\n",
       "    <tr>\n",
       "      <th>17</th>\n",
       "      <td>Bormes les Mimosas</td>\n",
       "      <td>Bormes-les-Mimosas</td>\n",
       "      <td>FR</td>\n",
       "      <td>Provence-Alpes-Côte d'Azur</td>\n",
       "      <td>43.150697</td>\n",
       "      <td>6.341928</td>\n",
       "      <td>2025-04-23 18:58:24</td>\n",
       "      <td>17.22</td>\n",
       "      <td>16.43</td>\n",
       "      <td>0.0</td>\n",
       "      <td>55.0</td>\n",
       "      <td>6.69</td>\n",
       "      <td>clear sky</td>\n",
       "    </tr>\n",
       "    <tr>\n",
       "      <th>19</th>\n",
       "      <td>Marseille</td>\n",
       "      <td>Marseille</td>\n",
       "      <td>FR</td>\n",
       "      <td>Provence-Alpes-Côte d'Azur</td>\n",
       "      <td>43.296174</td>\n",
       "      <td>5.369953</td>\n",
       "      <td>2025-04-23 18:58:24</td>\n",
       "      <td>15.86</td>\n",
       "      <td>15.36</td>\n",
       "      <td>0.0</td>\n",
       "      <td>71.0</td>\n",
       "      <td>4.92</td>\n",
       "      <td>clear sky</td>\n",
       "    </tr>\n",
       "    <tr>\n",
       "      <th>23</th>\n",
       "      <td>Nimes</td>\n",
       "      <td>Nimes</td>\n",
       "      <td>FR</td>\n",
       "      <td>Occitania</td>\n",
       "      <td>43.837425</td>\n",
       "      <td>4.360069</td>\n",
       "      <td>2025-04-23 18:58:24</td>\n",
       "      <td>16.22</td>\n",
       "      <td>15.54</td>\n",
       "      <td>0.0</td>\n",
       "      <td>63.0</td>\n",
       "      <td>3.60</td>\n",
       "      <td>clear sky</td>\n",
       "    </tr>\n",
       "    <tr>\n",
       "      <th>33</th>\n",
       "      <td>La Rochelle</td>\n",
       "      <td>La Rochelle</td>\n",
       "      <td>FR</td>\n",
       "      <td>Nouvelle-Aquitaine</td>\n",
       "      <td>46.159113</td>\n",
       "      <td>-1.152043</td>\n",
       "      <td>2025-04-23 18:58:26</td>\n",
       "      <td>12.94</td>\n",
       "      <td>12.46</td>\n",
       "      <td>0.0</td>\n",
       "      <td>83.0</td>\n",
       "      <td>8.75</td>\n",
       "      <td>clear sky</td>\n",
       "    </tr>\n",
       "  </tbody>\n",
       "</table>\n",
       "</div>"
      ],
      "text/plain": [
       "                cities                name country  \\\n",
       "0    Mont Saint Michel   Mont Saint-Michel      FR   \n",
       "17  Bormes les Mimosas  Bormes-les-Mimosas      FR   \n",
       "19           Marseille           Marseille      FR   \n",
       "23               Nimes               Nimes      FR   \n",
       "33         La Rochelle         La Rochelle      FR   \n",
       "\n",
       "                         state        lat       lon                 date  \\\n",
       "0                     Normandy  48.635954 -1.511460  2025-04-23 18:58:21   \n",
       "17  Provence-Alpes-Côte d'Azur  43.150697  6.341928  2025-04-23 18:58:24   \n",
       "19  Provence-Alpes-Côte d'Azur  43.296174  5.369953  2025-04-23 18:58:24   \n",
       "23                   Occitania  43.837425  4.360069  2025-04-23 18:58:24   \n",
       "33          Nouvelle-Aquitaine  46.159113 -1.152043  2025-04-23 18:58:26   \n",
       "\n",
       "     temp  feels_like  uvi  humidity  wind_speed description  \n",
       "0   10.27        9.81  0.0      94.0        3.84   clear sky  \n",
       "17  17.22       16.43  0.0      55.0        6.69   clear sky  \n",
       "19  15.86       15.36  0.0      71.0        4.92   clear sky  \n",
       "23  16.22       15.54  0.0      63.0        3.60   clear sky  \n",
       "33  12.94       12.46  0.0      83.0        8.75   clear sky  "
      ]
     },
     "execution_count": 320,
     "metadata": {},
     "output_type": "execute_result"
    }
   ],
   "source": [
    "bc[bc[\"description\"]==\"clear sky\"]"
   ]
  },
  {
   "cell_type": "code",
   "execution_count": 321,
   "metadata": {},
   "outputs": [
    {
     "name": "stdout",
     "output_type": "stream",
     "text": [
      "Villes avec la meilleure météo :\n",
      "{'Bormes les Mimosas', 'Marseille', 'Mont Saint Michel', 'Nimes', 'La Rochelle'}\n"
     ]
    }
   ],
   "source": [
    "# Filtrer les villes avec la description \"clear sky\"\n",
    "filtered_bc = bc[bc['description'] == 'clear sky']\n",
    "\n",
    "# Sélectionner les 5 meilleures villes pour chaque critère parmi les villes filtrées.\n",
    "top_feels_like = set(filtered_bc.nlargest(5, 'feels_like')['cities'])# critère le plus important, donc le plus restrictif\n",
    "#top_temp = set(filtered_bc.nlargest(10, 'temp')['cities']) #critère retiré car redondant avec la précédent\n",
    "top_uvi = set(filtered_bc.nlargest(10, 'uvi')['cities'])\n",
    "top_humidity = set(filtered_bc.nsmallest(10, 'humidity')['cities'])\n",
    "top_wind_speed = set(filtered_bc.nsmallest(15, 'wind_speed')['cities'])\n",
    "\n",
    "# Trouver l'intersection des ensembles\n",
    "best_weather = top_feels_like &  top_uvi & top_humidity & top_wind_speed\n",
    "#top_temp &\n",
    "\n",
    "# Afficher la liste des meilleures villes\n",
    "print(\"Villes avec la meilleure météo :\")\n",
    "print(best_weather)"
   ]
  },
  {
   "cell_type": "code",
   "execution_count": 322,
   "metadata": {},
   "outputs": [
    {
     "data": {
      "text/html": [
       "<div>\n",
       "<style scoped>\n",
       "    .dataframe tbody tr th:only-of-type {\n",
       "        vertical-align: middle;\n",
       "    }\n",
       "\n",
       "    .dataframe tbody tr th {\n",
       "        vertical-align: top;\n",
       "    }\n",
       "\n",
       "    .dataframe thead th {\n",
       "        text-align: right;\n",
       "    }\n",
       "</style>\n",
       "<table border=\"1\" class=\"dataframe\">\n",
       "  <thead>\n",
       "    <tr style=\"text-align: right;\">\n",
       "      <th></th>\n",
       "      <th>cities</th>\n",
       "      <th>name</th>\n",
       "      <th>country</th>\n",
       "      <th>state</th>\n",
       "      <th>lat</th>\n",
       "      <th>lon</th>\n",
       "      <th>date</th>\n",
       "      <th>temp</th>\n",
       "      <th>feels_like</th>\n",
       "      <th>uvi</th>\n",
       "      <th>humidity</th>\n",
       "      <th>wind_speed</th>\n",
       "      <th>description</th>\n",
       "    </tr>\n",
       "  </thead>\n",
       "  <tbody>\n",
       "    <tr>\n",
       "      <th>17</th>\n",
       "      <td>Bormes les Mimosas</td>\n",
       "      <td>Bormes-les-Mimosas</td>\n",
       "      <td>FR</td>\n",
       "      <td>Provence-Alpes-Côte d'Azur</td>\n",
       "      <td>43.150697</td>\n",
       "      <td>6.341928</td>\n",
       "      <td>2025-04-23 18:58:24</td>\n",
       "      <td>17.22</td>\n",
       "      <td>16.43</td>\n",
       "      <td>0.0</td>\n",
       "      <td>55.0</td>\n",
       "      <td>6.69</td>\n",
       "      <td>clear sky</td>\n",
       "    </tr>\n",
       "    <tr>\n",
       "      <th>23</th>\n",
       "      <td>Nimes</td>\n",
       "      <td>Nimes</td>\n",
       "      <td>FR</td>\n",
       "      <td>Occitania</td>\n",
       "      <td>43.837425</td>\n",
       "      <td>4.360069</td>\n",
       "      <td>2025-04-23 18:58:24</td>\n",
       "      <td>16.22</td>\n",
       "      <td>15.54</td>\n",
       "      <td>0.0</td>\n",
       "      <td>63.0</td>\n",
       "      <td>3.60</td>\n",
       "      <td>clear sky</td>\n",
       "    </tr>\n",
       "    <tr>\n",
       "      <th>19</th>\n",
       "      <td>Marseille</td>\n",
       "      <td>Marseille</td>\n",
       "      <td>FR</td>\n",
       "      <td>Provence-Alpes-Côte d'Azur</td>\n",
       "      <td>43.296174</td>\n",
       "      <td>5.369953</td>\n",
       "      <td>2025-04-23 18:58:24</td>\n",
       "      <td>15.86</td>\n",
       "      <td>15.36</td>\n",
       "      <td>0.0</td>\n",
       "      <td>71.0</td>\n",
       "      <td>4.92</td>\n",
       "      <td>clear sky</td>\n",
       "    </tr>\n",
       "    <tr>\n",
       "      <th>33</th>\n",
       "      <td>La Rochelle</td>\n",
       "      <td>La Rochelle</td>\n",
       "      <td>FR</td>\n",
       "      <td>Nouvelle-Aquitaine</td>\n",
       "      <td>46.159113</td>\n",
       "      <td>-1.152043</td>\n",
       "      <td>2025-04-23 18:58:26</td>\n",
       "      <td>12.94</td>\n",
       "      <td>12.46</td>\n",
       "      <td>0.0</td>\n",
       "      <td>83.0</td>\n",
       "      <td>8.75</td>\n",
       "      <td>clear sky</td>\n",
       "    </tr>\n",
       "    <tr>\n",
       "      <th>0</th>\n",
       "      <td>Mont Saint Michel</td>\n",
       "      <td>Mont Saint-Michel</td>\n",
       "      <td>FR</td>\n",
       "      <td>Normandy</td>\n",
       "      <td>48.635954</td>\n",
       "      <td>-1.511460</td>\n",
       "      <td>2025-04-23 18:58:21</td>\n",
       "      <td>10.27</td>\n",
       "      <td>9.81</td>\n",
       "      <td>0.0</td>\n",
       "      <td>94.0</td>\n",
       "      <td>3.84</td>\n",
       "      <td>clear sky</td>\n",
       "    </tr>\n",
       "  </tbody>\n",
       "</table>\n",
       "</div>"
      ],
      "text/plain": [
       "                cities                name country  \\\n",
       "17  Bormes les Mimosas  Bormes-les-Mimosas      FR   \n",
       "23               Nimes               Nimes      FR   \n",
       "19           Marseille           Marseille      FR   \n",
       "33         La Rochelle         La Rochelle      FR   \n",
       "0    Mont Saint Michel   Mont Saint-Michel      FR   \n",
       "\n",
       "                         state        lat       lon                 date  \\\n",
       "17  Provence-Alpes-Côte d'Azur  43.150697  6.341928  2025-04-23 18:58:24   \n",
       "23                   Occitania  43.837425  4.360069  2025-04-23 18:58:24   \n",
       "19  Provence-Alpes-Côte d'Azur  43.296174  5.369953  2025-04-23 18:58:24   \n",
       "33          Nouvelle-Aquitaine  46.159113 -1.152043  2025-04-23 18:58:26   \n",
       "0                     Normandy  48.635954 -1.511460  2025-04-23 18:58:21   \n",
       "\n",
       "     temp  feels_like  uvi  humidity  wind_speed description  \n",
       "17  17.22       16.43  0.0      55.0        6.69   clear sky  \n",
       "23  16.22       15.54  0.0      63.0        3.60   clear sky  \n",
       "19  15.86       15.36  0.0      71.0        4.92   clear sky  \n",
       "33  12.94       12.46  0.0      83.0        8.75   clear sky  \n",
       "0   10.27        9.81  0.0      94.0        3.84   clear sky  "
      ]
     },
     "execution_count": 322,
     "metadata": {},
     "output_type": "execute_result"
    }
   ],
   "source": [
    "best_weather = list(best_weather) #transformer le set en liste\n",
    "best_weather_df = bc[bc['cities'].isin(best_weather)] #puis filter le dataframe sur la liste\n",
    "best_weather_df = best_weather_df.sort_values(by='feels_like', ascending=False)\n",
    "best_weather_df\n"
   ]
  },
  {
   "cell_type": "code",
   "execution_count": 323,
   "metadata": {},
   "outputs": [
    {
     "data": {
      "text/plain": [
       "17    Bormes les Mimosas\n",
       "23                 Nimes\n",
       "19             Marseille\n",
       "33           La Rochelle\n",
       "0      Mont Saint Michel\n",
       "Name: cities, dtype: object"
      ]
     },
     "execution_count": 323,
     "metadata": {},
     "output_type": "execute_result"
    }
   ],
   "source": [
    "best_weather_df[\"cities\"]"
   ]
  },
  {
   "cell_type": "code",
   "execution_count": 324,
   "metadata": {},
   "outputs": [],
   "source": [
    "# Enregistrer le DataFrame en fichier CSV\n",
    "best_weather_df.to_csv('data/top_best_weather.csv', index=False)"
   ]
  },
  {
   "cell_type": "code",
   "execution_count": 325,
   "metadata": {},
   "outputs": [
    {
     "data": {
      "text/html": [
       "<div style=\"width:100%;\"><div style=\"position:relative;width:100%;height:0;padding-bottom:60%;\"><span style=\"color:#565656\">Make this Notebook Trusted to load map: File -> Trust Notebook</span><iframe srcdoc=\"&lt;!DOCTYPE html&gt;\n",
       "&lt;html&gt;\n",
       "&lt;head&gt;\n",
       "    \n",
       "    &lt;meta http-equiv=&quot;content-type&quot; content=&quot;text/html; charset=UTF-8&quot; /&gt;\n",
       "    \n",
       "        &lt;script&gt;\n",
       "            L_NO_TOUCH = false;\n",
       "            L_DISABLE_3D = false;\n",
       "        &lt;/script&gt;\n",
       "    \n",
       "    &lt;style&gt;html, body {width: 100%;height: 100%;margin: 0;padding: 0;}&lt;/style&gt;\n",
       "    &lt;style&gt;#map {position:absolute;top:0;bottom:0;right:0;left:0;}&lt;/style&gt;\n",
       "    &lt;script src=&quot;https://cdn.jsdelivr.net/npm/leaflet@1.9.3/dist/leaflet.js&quot;&gt;&lt;/script&gt;\n",
       "    &lt;script src=&quot;https://code.jquery.com/jquery-3.7.1.min.js&quot;&gt;&lt;/script&gt;\n",
       "    &lt;script src=&quot;https://cdn.jsdelivr.net/npm/bootstrap@5.2.2/dist/js/bootstrap.bundle.min.js&quot;&gt;&lt;/script&gt;\n",
       "    &lt;script src=&quot;https://cdnjs.cloudflare.com/ajax/libs/Leaflet.awesome-markers/2.0.2/leaflet.awesome-markers.js&quot;&gt;&lt;/script&gt;\n",
       "    &lt;link rel=&quot;stylesheet&quot; href=&quot;https://cdn.jsdelivr.net/npm/leaflet@1.9.3/dist/leaflet.css&quot;/&gt;\n",
       "    &lt;link rel=&quot;stylesheet&quot; href=&quot;https://cdn.jsdelivr.net/npm/bootstrap@5.2.2/dist/css/bootstrap.min.css&quot;/&gt;\n",
       "    &lt;link rel=&quot;stylesheet&quot; href=&quot;https://netdna.bootstrapcdn.com/bootstrap/3.0.0/css/bootstrap-glyphicons.css&quot;/&gt;\n",
       "    &lt;link rel=&quot;stylesheet&quot; href=&quot;https://cdn.jsdelivr.net/npm/@fortawesome/fontawesome-free@6.2.0/css/all.min.css&quot;/&gt;\n",
       "    &lt;link rel=&quot;stylesheet&quot; href=&quot;https://cdnjs.cloudflare.com/ajax/libs/Leaflet.awesome-markers/2.0.2/leaflet.awesome-markers.css&quot;/&gt;\n",
       "    &lt;link rel=&quot;stylesheet&quot; href=&quot;https://cdn.jsdelivr.net/gh/python-visualization/folium/folium/templates/leaflet.awesome.rotate.min.css&quot;/&gt;\n",
       "    \n",
       "            &lt;meta name=&quot;viewport&quot; content=&quot;width=device-width,\n",
       "                initial-scale=1.0, maximum-scale=1.0, user-scalable=no&quot; /&gt;\n",
       "            &lt;style&gt;\n",
       "                #map_1cf5a1929d9abeaffd802ff36a04ecfd {\n",
       "                    position: relative;\n",
       "                    width: 100.0%;\n",
       "                    height: 100.0%;\n",
       "                    left: 0.0%;\n",
       "                    top: 0.0%;\n",
       "                }\n",
       "                .leaflet-container { font-size: 1rem; }\n",
       "            &lt;/style&gt;\n",
       "        \n",
       "&lt;/head&gt;\n",
       "&lt;body&gt;\n",
       "    \n",
       "    \n",
       "            &lt;div class=&quot;folium-map&quot; id=&quot;map_1cf5a1929d9abeaffd802ff36a04ecfd&quot; &gt;&lt;/div&gt;\n",
       "        \n",
       "&lt;/body&gt;\n",
       "&lt;script&gt;\n",
       "    \n",
       "    \n",
       "            var map_1cf5a1929d9abeaffd802ff36a04ecfd = L.map(\n",
       "                &quot;map_1cf5a1929d9abeaffd802ff36a04ecfd&quot;,\n",
       "                {\n",
       "                    center: [46.603354, 1.888334],\n",
       "                    crs: L.CRS.EPSG3857,\n",
       "                    ...{\n",
       "  &quot;zoom&quot;: 6,\n",
       "  &quot;zoomControl&quot;: true,\n",
       "  &quot;preferCanvas&quot;: false,\n",
       "}\n",
       "\n",
       "                }\n",
       "            );\n",
       "\n",
       "            \n",
       "\n",
       "        \n",
       "    \n",
       "            var tile_layer_27c65d223d121579a3270ba66f3f813f = L.tileLayer(\n",
       "                &quot;https://tile.openstreetmap.org/{z}/{x}/{y}.png&quot;,\n",
       "                {\n",
       "  &quot;minZoom&quot;: 0,\n",
       "  &quot;maxZoom&quot;: 19,\n",
       "  &quot;maxNativeZoom&quot;: 19,\n",
       "  &quot;noWrap&quot;: false,\n",
       "  &quot;attribution&quot;: &quot;\\u0026copy; \\u003ca href=\\&quot;https://www.openstreetmap.org/copyright\\&quot;\\u003eOpenStreetMap\\u003c/a\\u003e contributors&quot;,\n",
       "  &quot;subdomains&quot;: &quot;abc&quot;,\n",
       "  &quot;detectRetina&quot;: false,\n",
       "  &quot;tms&quot;: false,\n",
       "  &quot;opacity&quot;: 1,\n",
       "}\n",
       "\n",
       "            );\n",
       "        \n",
       "    \n",
       "            tile_layer_27c65d223d121579a3270ba66f3f813f.addTo(map_1cf5a1929d9abeaffd802ff36a04ecfd);\n",
       "        \n",
       "    \n",
       "            var marker_03e7484483c2691f1a659fde0773eafa = L.marker(\n",
       "                [43.1506968, 6.3419285],\n",
       "                {\n",
       "}\n",
       "            ).addTo(map_1cf5a1929d9abeaffd802ff36a04ecfd);\n",
       "        \n",
       "    \n",
       "        var custom_icon_bbdd2599a041e0dc9e38672d0f3ea5a0 = L.icon({\n",
       "  &quot;iconUrl&quot;: &quot;https://images.icon-icons.com/3565/PNG/512/tree_flower_plant_nature_landscape_icon_225325.png&quot;,\n",
       "  &quot;iconSize&quot;: [40, 40],\n",
       "});\n",
       "        marker_03e7484483c2691f1a659fde0773eafa.setIcon(custom_icon_bbdd2599a041e0dc9e38672d0f3ea5a0);\n",
       "        \n",
       "    \n",
       "        var popup_03ac302732a19ed8a11ddbc61f7cd4e2 = L.popup({\n",
       "  &quot;maxWidth&quot;: &quot;100%&quot;,\n",
       "});\n",
       "\n",
       "        \n",
       "            \n",
       "                var html_9a72ce9619e7241f068346e94f2dcfb7 = $(`&lt;div id=&quot;html_9a72ce9619e7241f068346e94f2dcfb7&quot; style=&quot;width: 100.0%; height: 100.0%;&quot;&gt;Bormes les Mimosas&lt;/div&gt;`)[0];\n",
       "                popup_03ac302732a19ed8a11ddbc61f7cd4e2.setContent(html_9a72ce9619e7241f068346e94f2dcfb7);\n",
       "            \n",
       "        \n",
       "\n",
       "        marker_03e7484483c2691f1a659fde0773eafa.bindPopup(popup_03ac302732a19ed8a11ddbc61f7cd4e2)\n",
       "        ;\n",
       "\n",
       "        \n",
       "    \n",
       "    \n",
       "                marker_03e7484483c2691f1a659fde0773eafa.setIcon(custom_icon_bbdd2599a041e0dc9e38672d0f3ea5a0);\n",
       "            \n",
       "    \n",
       "            var marker_484ca60929bc224cea74a056f593b9d6 = L.marker(\n",
       "                [43.8374249, 4.3600687],\n",
       "                {\n",
       "}\n",
       "            ).addTo(map_1cf5a1929d9abeaffd802ff36a04ecfd);\n",
       "        \n",
       "    \n",
       "        var custom_icon_2e4680731a55958f5b3ec380dad60126 = L.icon({\n",
       "  &quot;iconUrl&quot;: &quot;https://images.icon-icons.com/3565/PNG/512/tree_flower_plant_nature_landscape_icon_225325.png&quot;,\n",
       "  &quot;iconSize&quot;: [40, 40],\n",
       "});\n",
       "        marker_484ca60929bc224cea74a056f593b9d6.setIcon(custom_icon_2e4680731a55958f5b3ec380dad60126);\n",
       "        \n",
       "    \n",
       "        var popup_afedbe812bb830fad0d1b3574c793d6a = L.popup({\n",
       "  &quot;maxWidth&quot;: &quot;100%&quot;,\n",
       "});\n",
       "\n",
       "        \n",
       "            \n",
       "                var html_3e8355463d6b2439345c05e220923b3c = $(`&lt;div id=&quot;html_3e8355463d6b2439345c05e220923b3c&quot; style=&quot;width: 100.0%; height: 100.0%;&quot;&gt;Nimes&lt;/div&gt;`)[0];\n",
       "                popup_afedbe812bb830fad0d1b3574c793d6a.setContent(html_3e8355463d6b2439345c05e220923b3c);\n",
       "            \n",
       "        \n",
       "\n",
       "        marker_484ca60929bc224cea74a056f593b9d6.bindPopup(popup_afedbe812bb830fad0d1b3574c793d6a)\n",
       "        ;\n",
       "\n",
       "        \n",
       "    \n",
       "    \n",
       "                marker_484ca60929bc224cea74a056f593b9d6.setIcon(custom_icon_2e4680731a55958f5b3ec380dad60126);\n",
       "            \n",
       "    \n",
       "            var marker_28e7238e2f51029ae7cce8ab0441a51d = L.marker(\n",
       "                [43.2961743, 5.3699525],\n",
       "                {\n",
       "}\n",
       "            ).addTo(map_1cf5a1929d9abeaffd802ff36a04ecfd);\n",
       "        \n",
       "    \n",
       "        var custom_icon_59cc6fbbd2d1cac55763264227a34174 = L.icon({\n",
       "  &quot;iconUrl&quot;: &quot;https://images.icon-icons.com/3565/PNG/512/tree_flower_plant_nature_landscape_icon_225325.png&quot;,\n",
       "  &quot;iconSize&quot;: [40, 40],\n",
       "});\n",
       "        marker_28e7238e2f51029ae7cce8ab0441a51d.setIcon(custom_icon_59cc6fbbd2d1cac55763264227a34174);\n",
       "        \n",
       "    \n",
       "        var popup_b4a7d20183abf64b98f5d14cd321fcf5 = L.popup({\n",
       "  &quot;maxWidth&quot;: &quot;100%&quot;,\n",
       "});\n",
       "\n",
       "        \n",
       "            \n",
       "                var html_4a10f75e2cdb6ae89e11fea8fc7480b9 = $(`&lt;div id=&quot;html_4a10f75e2cdb6ae89e11fea8fc7480b9&quot; style=&quot;width: 100.0%; height: 100.0%;&quot;&gt;Marseille&lt;/div&gt;`)[0];\n",
       "                popup_b4a7d20183abf64b98f5d14cd321fcf5.setContent(html_4a10f75e2cdb6ae89e11fea8fc7480b9);\n",
       "            \n",
       "        \n",
       "\n",
       "        marker_28e7238e2f51029ae7cce8ab0441a51d.bindPopup(popup_b4a7d20183abf64b98f5d14cd321fcf5)\n",
       "        ;\n",
       "\n",
       "        \n",
       "    \n",
       "    \n",
       "                marker_28e7238e2f51029ae7cce8ab0441a51d.setIcon(custom_icon_59cc6fbbd2d1cac55763264227a34174);\n",
       "            \n",
       "    \n",
       "            var marker_29789404bb0353ee67c015ae0c9832a4 = L.marker(\n",
       "                [46.1591126, -1.1520434],\n",
       "                {\n",
       "}\n",
       "            ).addTo(map_1cf5a1929d9abeaffd802ff36a04ecfd);\n",
       "        \n",
       "    \n",
       "        var custom_icon_696bcd73939336dbd1e2cf4bed152b7c = L.icon({\n",
       "  &quot;iconUrl&quot;: &quot;https://images.icon-icons.com/3565/PNG/512/tree_flower_plant_nature_landscape_icon_225325.png&quot;,\n",
       "  &quot;iconSize&quot;: [40, 40],\n",
       "});\n",
       "        marker_29789404bb0353ee67c015ae0c9832a4.setIcon(custom_icon_696bcd73939336dbd1e2cf4bed152b7c);\n",
       "        \n",
       "    \n",
       "        var popup_01936c21fc568eb06a5875f9e19dd80b = L.popup({\n",
       "  &quot;maxWidth&quot;: &quot;100%&quot;,\n",
       "});\n",
       "\n",
       "        \n",
       "            \n",
       "                var html_88610a062343d75671333f809a350c53 = $(`&lt;div id=&quot;html_88610a062343d75671333f809a350c53&quot; style=&quot;width: 100.0%; height: 100.0%;&quot;&gt;La Rochelle&lt;/div&gt;`)[0];\n",
       "                popup_01936c21fc568eb06a5875f9e19dd80b.setContent(html_88610a062343d75671333f809a350c53);\n",
       "            \n",
       "        \n",
       "\n",
       "        marker_29789404bb0353ee67c015ae0c9832a4.bindPopup(popup_01936c21fc568eb06a5875f9e19dd80b)\n",
       "        ;\n",
       "\n",
       "        \n",
       "    \n",
       "    \n",
       "                marker_29789404bb0353ee67c015ae0c9832a4.setIcon(custom_icon_696bcd73939336dbd1e2cf4bed152b7c);\n",
       "            \n",
       "    \n",
       "            var marker_dffa78a6160871162ba454eaedeb548e = L.marker(\n",
       "                [48.6359541, -1.511459954959514],\n",
       "                {\n",
       "}\n",
       "            ).addTo(map_1cf5a1929d9abeaffd802ff36a04ecfd);\n",
       "        \n",
       "    \n",
       "        var custom_icon_2290386091583df08fd1c78d83412143 = L.icon({\n",
       "  &quot;iconUrl&quot;: &quot;https://images.icon-icons.com/3565/PNG/512/tree_flower_plant_nature_landscape_icon_225325.png&quot;,\n",
       "  &quot;iconSize&quot;: [40, 40],\n",
       "});\n",
       "        marker_dffa78a6160871162ba454eaedeb548e.setIcon(custom_icon_2290386091583df08fd1c78d83412143);\n",
       "        \n",
       "    \n",
       "        var popup_4c7cc7c76321d9b0e7a47f6209d0739e = L.popup({\n",
       "  &quot;maxWidth&quot;: &quot;100%&quot;,\n",
       "});\n",
       "\n",
       "        \n",
       "            \n",
       "                var html_62411c4b81fd7aa23e90714a8fff4e34 = $(`&lt;div id=&quot;html_62411c4b81fd7aa23e90714a8fff4e34&quot; style=&quot;width: 100.0%; height: 100.0%;&quot;&gt;Mont Saint Michel&lt;/div&gt;`)[0];\n",
       "                popup_4c7cc7c76321d9b0e7a47f6209d0739e.setContent(html_62411c4b81fd7aa23e90714a8fff4e34);\n",
       "            \n",
       "        \n",
       "\n",
       "        marker_dffa78a6160871162ba454eaedeb548e.bindPopup(popup_4c7cc7c76321d9b0e7a47f6209d0739e)\n",
       "        ;\n",
       "\n",
       "        \n",
       "    \n",
       "    \n",
       "                marker_dffa78a6160871162ba454eaedeb548e.setIcon(custom_icon_2290386091583df08fd1c78d83412143);\n",
       "            \n",
       "    \n",
       "            tile_layer_27c65d223d121579a3270ba66f3f813f.addTo(map_1cf5a1929d9abeaffd802ff36a04ecfd);\n",
       "        \n",
       "    \n",
       "                marker_03e7484483c2691f1a659fde0773eafa.setIcon(custom_icon_bbdd2599a041e0dc9e38672d0f3ea5a0);\n",
       "            \n",
       "    \n",
       "                marker_484ca60929bc224cea74a056f593b9d6.setIcon(custom_icon_2e4680731a55958f5b3ec380dad60126);\n",
       "            \n",
       "    \n",
       "                marker_28e7238e2f51029ae7cce8ab0441a51d.setIcon(custom_icon_59cc6fbbd2d1cac55763264227a34174);\n",
       "            \n",
       "    \n",
       "                marker_29789404bb0353ee67c015ae0c9832a4.setIcon(custom_icon_696bcd73939336dbd1e2cf4bed152b7c);\n",
       "            \n",
       "    \n",
       "                marker_dffa78a6160871162ba454eaedeb548e.setIcon(custom_icon_2290386091583df08fd1c78d83412143);\n",
       "            \n",
       "&lt;/script&gt;\n",
       "&lt;/html&gt;\" style=\"position:absolute;width:100%;height:100%;left:0;top:0;border:none !important;\" allowfullscreen webkitallowfullscreen mozallowfullscreen></iframe></div></div>"
      ],
      "text/plain": [
       "<folium.folium.Map at 0x1e6a30fb2e0>"
      ]
     },
     "execution_count": 325,
     "metadata": {},
     "output_type": "execute_result"
    }
   ],
   "source": [
    "# visualiser le top5 des destinations selectionnées\n",
    "map = folium.Map(location=[46.603354, 1.888334], zoom_start=6)\n",
    "\n",
    "# Définir le marker\n",
    "icon_url = \"https://images.icon-icons.com/3565/PNG/512/tree_flower_plant_nature_landscape_icon_225325.png\"\n",
    "\n",
    "# Ajouter les villes à la carte avec des icônes personnalisées\n",
    "for i, row in best_weather_df.iterrows():\n",
    "    folium.Marker(\n",
    "        location=[row['lat'], row['lon']],\n",
    "        popup=row['cities'],\n",
    "        icon=folium.CustomIcon(icon_url, icon_size=(40, 40))  # Ajustez la taille de l'icône si nécessaire\n",
    "    ).add_to(map)\n",
    "\n",
    "# Sauvegarder la carte dans un fichier HTML\n",
    "map.save('maps/map_top_best_destinations.html')\n",
    "\n",
    "# Afficher la carte\n",
    "map\n"
   ]
  },
  {
   "cell_type": "markdown",
   "metadata": {},
   "source": [
    "# Scraping Booking"
   ]
  },
  {
   "cell_type": "code",
   "execution_count": 326,
   "metadata": {},
   "outputs": [
    {
     "data": {
      "text/html": [
       "<div>\n",
       "<style scoped>\n",
       "    .dataframe tbody tr th:only-of-type {\n",
       "        vertical-align: middle;\n",
       "    }\n",
       "\n",
       "    .dataframe tbody tr th {\n",
       "        vertical-align: top;\n",
       "    }\n",
       "\n",
       "    .dataframe thead th {\n",
       "        text-align: right;\n",
       "    }\n",
       "</style>\n",
       "<table border=\"1\" class=\"dataframe\">\n",
       "  <thead>\n",
       "    <tr style=\"text-align: right;\">\n",
       "      <th></th>\n",
       "      <th>cities</th>\n",
       "      <th>name</th>\n",
       "      <th>country</th>\n",
       "      <th>state</th>\n",
       "      <th>lat</th>\n",
       "      <th>lon</th>\n",
       "      <th>date</th>\n",
       "      <th>temp</th>\n",
       "      <th>feels_like</th>\n",
       "      <th>uvi</th>\n",
       "      <th>humidity</th>\n",
       "      <th>wind_speed</th>\n",
       "      <th>description</th>\n",
       "    </tr>\n",
       "  </thead>\n",
       "  <tbody>\n",
       "    <tr>\n",
       "      <th>17</th>\n",
       "      <td>Bormes les Mimosas</td>\n",
       "      <td>Bormes-les-Mimosas</td>\n",
       "      <td>FR</td>\n",
       "      <td>Provence-Alpes-Côte d'Azur</td>\n",
       "      <td>43.150697</td>\n",
       "      <td>6.341928</td>\n",
       "      <td>2025-04-23 18:58:24</td>\n",
       "      <td>17.22</td>\n",
       "      <td>16.43</td>\n",
       "      <td>0.0</td>\n",
       "      <td>55.0</td>\n",
       "      <td>6.69</td>\n",
       "      <td>clear sky</td>\n",
       "    </tr>\n",
       "    <tr>\n",
       "      <th>23</th>\n",
       "      <td>Nimes</td>\n",
       "      <td>Nimes</td>\n",
       "      <td>FR</td>\n",
       "      <td>Occitania</td>\n",
       "      <td>43.837425</td>\n",
       "      <td>4.360069</td>\n",
       "      <td>2025-04-23 18:58:24</td>\n",
       "      <td>16.22</td>\n",
       "      <td>15.54</td>\n",
       "      <td>0.0</td>\n",
       "      <td>63.0</td>\n",
       "      <td>3.60</td>\n",
       "      <td>clear sky</td>\n",
       "    </tr>\n",
       "    <tr>\n",
       "      <th>19</th>\n",
       "      <td>Marseille</td>\n",
       "      <td>Marseille</td>\n",
       "      <td>FR</td>\n",
       "      <td>Provence-Alpes-Côte d'Azur</td>\n",
       "      <td>43.296174</td>\n",
       "      <td>5.369953</td>\n",
       "      <td>2025-04-23 18:58:24</td>\n",
       "      <td>15.86</td>\n",
       "      <td>15.36</td>\n",
       "      <td>0.0</td>\n",
       "      <td>71.0</td>\n",
       "      <td>4.92</td>\n",
       "      <td>clear sky</td>\n",
       "    </tr>\n",
       "    <tr>\n",
       "      <th>33</th>\n",
       "      <td>La Rochelle</td>\n",
       "      <td>La Rochelle</td>\n",
       "      <td>FR</td>\n",
       "      <td>Nouvelle-Aquitaine</td>\n",
       "      <td>46.159113</td>\n",
       "      <td>-1.152043</td>\n",
       "      <td>2025-04-23 18:58:26</td>\n",
       "      <td>12.94</td>\n",
       "      <td>12.46</td>\n",
       "      <td>0.0</td>\n",
       "      <td>83.0</td>\n",
       "      <td>8.75</td>\n",
       "      <td>clear sky</td>\n",
       "    </tr>\n",
       "    <tr>\n",
       "      <th>0</th>\n",
       "      <td>Mont Saint Michel</td>\n",
       "      <td>Mont Saint-Michel</td>\n",
       "      <td>FR</td>\n",
       "      <td>Normandy</td>\n",
       "      <td>48.635954</td>\n",
       "      <td>-1.511460</td>\n",
       "      <td>2025-04-23 18:58:21</td>\n",
       "      <td>10.27</td>\n",
       "      <td>9.81</td>\n",
       "      <td>0.0</td>\n",
       "      <td>94.0</td>\n",
       "      <td>3.84</td>\n",
       "      <td>clear sky</td>\n",
       "    </tr>\n",
       "  </tbody>\n",
       "</table>\n",
       "</div>"
      ],
      "text/plain": [
       "                cities                name country  \\\n",
       "17  Bormes les Mimosas  Bormes-les-Mimosas      FR   \n",
       "23               Nimes               Nimes      FR   \n",
       "19           Marseille           Marseille      FR   \n",
       "33         La Rochelle         La Rochelle      FR   \n",
       "0    Mont Saint Michel   Mont Saint-Michel      FR   \n",
       "\n",
       "                         state        lat       lon                 date  \\\n",
       "17  Provence-Alpes-Côte d'Azur  43.150697  6.341928  2025-04-23 18:58:24   \n",
       "23                   Occitania  43.837425  4.360069  2025-04-23 18:58:24   \n",
       "19  Provence-Alpes-Côte d'Azur  43.296174  5.369953  2025-04-23 18:58:24   \n",
       "33          Nouvelle-Aquitaine  46.159113 -1.152043  2025-04-23 18:58:26   \n",
       "0                     Normandy  48.635954 -1.511460  2025-04-23 18:58:21   \n",
       "\n",
       "     temp  feels_like  uvi  humidity  wind_speed description  \n",
       "17  17.22       16.43  0.0      55.0        6.69   clear sky  \n",
       "23  16.22       15.54  0.0      63.0        3.60   clear sky  \n",
       "19  15.86       15.36  0.0      71.0        4.92   clear sky  \n",
       "33  12.94       12.46  0.0      83.0        8.75   clear sky  \n",
       "0   10.27        9.81  0.0      94.0        3.84   clear sky  "
      ]
     },
     "execution_count": 326,
     "metadata": {},
     "output_type": "execute_result"
    }
   ],
   "source": [
    "best_weather_df"
   ]
  },
  {
   "cell_type": "markdown",
   "metadata": {},
   "source": [
    "## Test des selecteurs pour extraction des urls"
   ]
  },
  {
   "cell_type": "code",
   "execution_count": 327,
   "metadata": {},
   "outputs": [
    {
     "data": {
      "text/plain": [
       "['Bormes les Mimosas',\n",
       " 'Nimes',\n",
       " 'Marseille',\n",
       " 'La Rochelle',\n",
       " 'Mont Saint Michel']"
      ]
     },
     "execution_count": 327,
     "metadata": {},
     "output_type": "execute_result"
    }
   ],
   "source": [
    "best_cities_list=best_weather_df['cities'].tolist()\n",
    "best_cities_list"
   ]
  },
  {
   "cell_type": "code",
   "execution_count": 328,
   "metadata": {},
   "outputs": [
    {
     "data": {
      "text/plain": [
       "['https://www.booking.com/searchresults.html?ss=Bormes%20les%20Mimosas',\n",
       " 'https://www.booking.com/searchresults.html?ss=Nimes',\n",
       " 'https://www.booking.com/searchresults.html?ss=Marseille',\n",
       " 'https://www.booking.com/searchresults.html?ss=La%20Rochelle',\n",
       " 'https://www.booking.com/searchresults.html?ss=Mont%20Saint%20Michel']"
      ]
     },
     "execution_count": 328,
     "metadata": {},
     "output_type": "execute_result"
    }
   ],
   "source": [
    "import urllib.parse\n",
    "urls= ['https://www.booking.com/searchresults.html?ss=' + urllib.parse.quote(city) for city in best_cities_list]\n",
    "urls"
   ]
  },
  {
   "cell_type": "code",
   "execution_count": 329,
   "metadata": {},
   "outputs": [],
   "source": [
    "headers = {\n",
    "    'User-Agent': 'Mozilla/5.0 (Windows NT 10.0; Win64; x64) AppleWebKit/537.36 (KHTML, like Gecko) Chrome/58.0.3029.110 Safari/537.3'\n",
    "}\n",
    "url = urls[0]\n",
    "r = requests.get(url, headers=headers)\n",
    "\n",
    "response = Selector(text=r.text)"
   ]
  },
  {
   "cell_type": "code",
   "execution_count": 330,
   "metadata": {},
   "outputs": [
    {
     "data": {
      "text/plain": [
       "<Response [200]>"
      ]
     },
     "execution_count": 330,
     "metadata": {},
     "output_type": "execute_result"
    }
   ],
   "source": [
    "r"
   ]
  },
  {
   "cell_type": "code",
   "execution_count": 331,
   "metadata": {},
   "outputs": [
    {
     "data": {
      "text/plain": [
       "['Bord de mer, charmant studio entièrement équipé',\n",
       " 'La Lavandière',\n",
       " 'Boulevard du Soleil',\n",
       " 'Cosy studio - Place du Figuier',\n",
       " 'Superbe T2 4 étoiles climatisé Favière refait à neuf',\n",
       " 'Studio idéal séjour en amoureux rez de jardin proche plage',\n",
       " 'Appartement 3 pièces avec climatisation, terrasse, parking et piscines - Bormes-les-Mimosas - FR-1-251-731',\n",
       " 'Studio Liège, vue mer au village de Bormes les Mimosas',\n",
       " \"SELECT'soHOME - T2 proche de la station balnéaire de La Favière avec parking privé ! - AZUR-17\",\n",
       " 'Bormes - Le Loft',\n",
       " 'Cosy 36m avec jolie VUE MER  centre-village !',\n",
       " \"L'Amirauté 150m de la plage\",\n",
       " 'Les Terrasses de Lô',\n",
       " 'Le petit atelier',\n",
       " 'Les deux mas',\n",
       " 'Appartement paisible avec vue panoramique mer et accès direct plage',\n",
       " 'Appartement Bord de Mer La Faviere',\n",
       " 'La Recampado',\n",
       " 'Studio avec Jardin et Parking Privés',\n",
       " \"SELECT'SO HOME - Résidence Le Poséidon - Mazet en Duplex pour 6 personnes - Piscine, Parking privé - Services hôteliers - POS-A\",\n",
       " 'Studio rénové avec terrasse et jardin, proche commerces, parking privé - Bormes-les-Mimosas - FR-1-251-583',\n",
       " 'Bel appartement classé 3 étoiles',\n",
       " 'Hotel La Voile',\n",
       " 'Coeur de village',\n",
       " 'Les embruns']"
      ]
     },
     "execution_count": 331,
     "metadata": {},
     "output_type": "execute_result"
    }
   ],
   "source": [
    "hotel_name=response.css(\"div.f6431b446c.a15b38c233 ::text\").getall()\n",
    "hotel_name"
   ]
  },
  {
   "cell_type": "code",
   "execution_count": 332,
   "metadata": {},
   "outputs": [
    {
     "data": {
      "text/plain": [
       "['https://www.booking.com/hotel/fr/bord-de-mer-charmant-studio-entierement-equipe.fr.html?aid=304142&label=gen173nr-1FCAQoggJCGXNlYXJjaF9ib3JtZXMgbGVzIG1pbW9zYXNIM1gEaE2IAQGYAQ24ARfIAQzYAQHoAQH4AQOIAgGoAgO4AvvwpMAGwAIB0gIkYTgwZWMzOTctOTEyOC00YTI1LWE5ZWMtNjllMWJlNjBmN2M12AIF4AIB&ucfs=1&arphpl=1&group_adults=2&req_adults=2&no_rooms=1&group_children=0&req_children=0&hpos=1&hapos=1&sr_order=popularity&srpvid=27a3857d7fa9075c&srepoch=1745434749&from=searchresults',\n",
       " 'https://www.booking.com/hotel/fr/la-lavandiere-bormes-les-mimosas.fr.html?aid=304142&label=gen173nr-1FCAQoggJCGXNlYXJjaF9ib3JtZXMgbGVzIG1pbW9zYXNIM1gEaE2IAQGYAQ24ARfIAQzYAQHoAQH4AQOIAgGoAgO4AvvwpMAGwAIB0gIkYTgwZWMzOTctOTEyOC00YTI1LWE5ZWMtNjllMWJlNjBmN2M12AIF4AIB&ucfs=1&arphpl=1&group_adults=2&req_adults=2&no_rooms=1&group_children=0&req_children=0&hpos=2&hapos=2&sr_order=popularity&srpvid=27a3857d7fa9075c&srepoch=1745434749&from=searchresults',\n",
       " 'https://www.booking.com/hotel/fr/boulevard-du-soleil.fr.html?aid=304142&label=gen173nr-1FCAQoggJCGXNlYXJjaF9ib3JtZXMgbGVzIG1pbW9zYXNIM1gEaE2IAQGYAQ24ARfIAQzYAQHoAQH4AQOIAgGoAgO4AvvwpMAGwAIB0gIkYTgwZWMzOTctOTEyOC00YTI1LWE5ZWMtNjllMWJlNjBmN2M12AIF4AIB&ucfs=1&arphpl=1&group_adults=2&req_adults=2&no_rooms=1&group_children=0&req_children=0&hpos=3&hapos=3&sr_order=popularity&srpvid=27a3857d7fa9075c&srepoch=1745434749&from=searchresults',\n",
       " 'https://www.booking.com/hotel/fr/studio-figuier-bormes-les-mimosas.fr.html?aid=304142&label=gen173nr-1FCAQoggJCGXNlYXJjaF9ib3JtZXMgbGVzIG1pbW9zYXNIM1gEaE2IAQGYAQ24ARfIAQzYAQHoAQH4AQOIAgGoAgO4AvvwpMAGwAIB0gIkYTgwZWMzOTctOTEyOC00YTI1LWE5ZWMtNjllMWJlNjBmN2M12AIF4AIB&ucfs=1&arphpl=1&group_adults=2&req_adults=2&no_rooms=1&group_children=0&req_children=0&hpos=4&hapos=4&sr_order=popularity&srpvid=27a3857d7fa9075c&srepoch=1745434749&from=searchresults',\n",
       " 'https://www.booking.com/hotel/fr/superbe-t2-4-etoiles-climatise-faviere-refait-a-neuf.fr.html?aid=304142&label=gen173nr-1FCAQoggJCGXNlYXJjaF9ib3JtZXMgbGVzIG1pbW9zYXNIM1gEaE2IAQGYAQ24ARfIAQzYAQHoAQH4AQOIAgGoAgO4AvvwpMAGwAIB0gIkYTgwZWMzOTctOTEyOC00YTI1LWE5ZWMtNjllMWJlNjBmN2M12AIF4AIB&ucfs=1&arphpl=1&group_adults=2&req_adults=2&no_rooms=1&group_children=0&req_children=0&hpos=5&hapos=5&sr_order=popularity&srpvid=27a3857d7fa9075c&srepoch=1745434749&from=searchresults',\n",
       " 'https://www.booking.com/hotel/fr/studio-ideal-sejour-en-amoureux-rez-de-jardin-proche-plage.fr.html?aid=304142&label=gen173nr-1FCAQoggJCGXNlYXJjaF9ib3JtZXMgbGVzIG1pbW9zYXNIM1gEaE2IAQGYAQ24ARfIAQzYAQHoAQH4AQOIAgGoAgO4AvvwpMAGwAIB0gIkYTgwZWMzOTctOTEyOC00YTI1LWE5ZWMtNjllMWJlNjBmN2M12AIF4AIB&ucfs=1&arphpl=1&group_adults=2&req_adults=2&no_rooms=1&group_children=0&req_children=0&hpos=6&hapos=6&sr_order=popularity&srpvid=27a3857d7fa9075c&srepoch=1745434749&from=searchresults',\n",
       " 'https://www.booking.com/hotel/fr/appartement-bormes-les-mimosas-3-pieces-4-personnes-fr-1-251-731.fr.html?aid=304142&label=gen173nr-1FCAQoggJCGXNlYXJjaF9ib3JtZXMgbGVzIG1pbW9zYXNIM1gEaE2IAQGYAQ24ARfIAQzYAQHoAQH4AQOIAgGoAgO4AvvwpMAGwAIB0gIkYTgwZWMzOTctOTEyOC00YTI1LWE5ZWMtNjllMWJlNjBmN2M12AIF4AIB&ucfs=1&arphpl=1&group_adults=2&req_adults=2&no_rooms=1&group_children=0&req_children=0&hpos=7&hapos=7&sr_order=popularity&srpvid=27a3857d7fa9075c&srepoch=1745434749&from=searchresults',\n",
       " 'https://www.booking.com/hotel/fr/studio-vue-mer-au-village-de-bormes-les-mimosas.fr.html?aid=304142&label=gen173nr-1FCAQoggJCGXNlYXJjaF9ib3JtZXMgbGVzIG1pbW9zYXNIM1gEaE2IAQGYAQ24ARfIAQzYAQHoAQH4AQOIAgGoAgO4AvvwpMAGwAIB0gIkYTgwZWMzOTctOTEyOC00YTI1LWE5ZWMtNjllMWJlNjBmN2M12AIF4AIB&ucfs=1&arphpl=1&group_adults=2&req_adults=2&no_rooms=1&group_children=0&req_children=0&hpos=8&hapos=8&sr_order=popularity&srpvid=27a3857d7fa9075c&srepoch=1745434749&from=searchresults',\n",
       " 'https://www.booking.com/hotel/fr/select-sohome-t2-proche-de-la-station-balneaire-de-la-faviere-azur-17.fr.html?aid=304142&label=gen173nr-1FCAQoggJCGXNlYXJjaF9ib3JtZXMgbGVzIG1pbW9zYXNIM1gEaE2IAQGYAQ24ARfIAQzYAQHoAQH4AQOIAgGoAgO4AvvwpMAGwAIB0gIkYTgwZWMzOTctOTEyOC00YTI1LWE5ZWMtNjllMWJlNjBmN2M12AIF4AIB&ucfs=1&arphpl=1&group_adults=2&req_adults=2&no_rooms=1&group_children=0&req_children=0&hpos=9&hapos=9&sr_order=popularity&srpvid=27a3857d7fa9075c&srepoch=1745434749&from=searchresults',\n",
       " 'https://www.booking.com/hotel/fr/bormes-le-loft.fr.html?aid=304142&label=gen173nr-1FCAQoggJCGXNlYXJjaF9ib3JtZXMgbGVzIG1pbW9zYXNIM1gEaE2IAQGYAQ24ARfIAQzYAQHoAQH4AQOIAgGoAgO4AvvwpMAGwAIB0gIkYTgwZWMzOTctOTEyOC00YTI1LWE5ZWMtNjllMWJlNjBmN2M12AIF4AIB&ucfs=1&arphpl=1&group_adults=2&req_adults=2&no_rooms=1&group_children=0&req_children=0&hpos=10&hapos=10&sr_order=popularity&srpvid=27a3857d7fa9075c&srepoch=1745434749&from=searchresults',\n",
       " 'https://www.booking.com/hotel/fr/cosy-36m-with-nice-sea-view-center-village.fr.html?aid=304142&label=gen173nr-1FCAQoggJCGXNlYXJjaF9ib3JtZXMgbGVzIG1pbW9zYXNIM1gEaE2IAQGYAQ24ARfIAQzYAQHoAQH4AQOIAgGoAgO4AvvwpMAGwAIB0gIkYTgwZWMzOTctOTEyOC00YTI1LWE5ZWMtNjllMWJlNjBmN2M12AIF4AIB&ucfs=1&arphpl=1&group_adults=2&req_adults=2&no_rooms=1&group_children=0&req_children=0&hpos=11&hapos=11&sr_order=popularity&srpvid=27a3857d7fa9075c&srepoch=1745434749&from=searchresults',\n",
       " 'https://www.booking.com/hotel/fr/studio-alize.fr.html?aid=304142&label=gen173nr-1FCAQoggJCGXNlYXJjaF9ib3JtZXMgbGVzIG1pbW9zYXNIM1gEaE2IAQGYAQ24ARfIAQzYAQHoAQH4AQOIAgGoAgO4AvvwpMAGwAIB0gIkYTgwZWMzOTctOTEyOC00YTI1LWE5ZWMtNjllMWJlNjBmN2M12AIF4AIB&ucfs=1&arphpl=1&group_adults=2&req_adults=2&no_rooms=1&group_children=0&req_children=0&hpos=12&hapos=12&sr_order=popularity&srpvid=27a3857d7fa9075c&srepoch=1745434749&from=searchresults',\n",
       " 'https://www.booking.com/hotel/fr/les-terrasses-de-lo.fr.html?aid=304142&label=gen173nr-1FCAQoggJCGXNlYXJjaF9ib3JtZXMgbGVzIG1pbW9zYXNIM1gEaE2IAQGYAQ24ARfIAQzYAQHoAQH4AQOIAgGoAgO4AvvwpMAGwAIB0gIkYTgwZWMzOTctOTEyOC00YTI1LWE5ZWMtNjllMWJlNjBmN2M12AIF4AIB&ucfs=1&arphpl=1&group_adults=2&req_adults=2&no_rooms=1&group_children=0&req_children=0&hpos=13&hapos=13&sr_order=popularity&srpvid=27a3857d7fa9075c&srepoch=1745434749&from=searchresults',\n",
       " 'https://www.booking.com/hotel/fr/le-petit-atelier-bormes-les-mimosas1234567891011121314151617.fr.html?aid=304142&label=gen173nr-1FCAQoggJCGXNlYXJjaF9ib3JtZXMgbGVzIG1pbW9zYXNIM1gEaE2IAQGYAQ24ARfIAQzYAQHoAQH4AQOIAgGoAgO4AvvwpMAGwAIB0gIkYTgwZWMzOTctOTEyOC00YTI1LWE5ZWMtNjllMWJlNjBmN2M12AIF4AIB&ucfs=1&arphpl=1&group_adults=2&req_adults=2&no_rooms=1&group_children=0&req_children=0&hpos=14&hapos=14&sr_order=popularity&srpvid=27a3857d7fa9075c&srepoch=1745434749&from=searchresults',\n",
       " 'https://www.booking.com/hotel/fr/lou-mazet-bormes-les-mimosas.fr.html?aid=304142&label=gen173nr-1FCAQoggJCGXNlYXJjaF9ib3JtZXMgbGVzIG1pbW9zYXNIM1gEaE2IAQGYAQ24ARfIAQzYAQHoAQH4AQOIAgGoAgO4AvvwpMAGwAIB0gIkYTgwZWMzOTctOTEyOC00YTI1LWE5ZWMtNjllMWJlNjBmN2M12AIF4AIB&ucfs=1&arphpl=1&group_adults=2&req_adults=2&no_rooms=1&group_children=0&req_children=0&hpos=15&hapos=15&sr_order=popularity&srpvid=27a3857d7fa9075c&srepoch=1745434749&from=searchresults',\n",
       " 'https://www.booking.com/hotel/fr/bormes-les-mimosas-appartement-vue-mer-4-pers.fr.html?aid=304142&label=gen173nr-1FCAQoggJCGXNlYXJjaF9ib3JtZXMgbGVzIG1pbW9zYXNIM1gEaE2IAQGYAQ24ARfIAQzYAQHoAQH4AQOIAgGoAgO4AvvwpMAGwAIB0gIkYTgwZWMzOTctOTEyOC00YTI1LWE5ZWMtNjllMWJlNjBmN2M12AIF4AIB&ucfs=1&arphpl=1&group_adults=2&req_adults=2&no_rooms=1&group_children=0&req_children=0&hpos=16&hapos=16&sr_order=popularity&srpvid=27a3857d7fa9075c&srepoch=1745434749&from=searchresults',\n",
       " 'https://www.booking.com/hotel/fr/apartement-la-faviere-bormes-les-mimosas.fr.html?aid=304142&label=gen173nr-1FCAQoggJCGXNlYXJjaF9ib3JtZXMgbGVzIG1pbW9zYXNIM1gEaE2IAQGYAQ24ARfIAQzYAQHoAQH4AQOIAgGoAgO4AvvwpMAGwAIB0gIkYTgwZWMzOTctOTEyOC00YTI1LWE5ZWMtNjllMWJlNjBmN2M12AIF4AIB&ucfs=1&arphpl=1&group_adults=2&req_adults=2&no_rooms=1&group_children=0&req_children=0&hpos=17&hapos=17&sr_order=popularity&srpvid=27a3857d7fa9075c&srepoch=1745434749&from=searchresults',\n",
       " 'https://www.booking.com/hotel/fr/la-recampado-bormes-les-mimosas.fr.html?aid=304142&label=gen173nr-1FCAQoggJCGXNlYXJjaF9ib3JtZXMgbGVzIG1pbW9zYXNIM1gEaE2IAQGYAQ24ARfIAQzYAQHoAQH4AQOIAgGoAgO4AvvwpMAGwAIB0gIkYTgwZWMzOTctOTEyOC00YTI1LWE5ZWMtNjllMWJlNjBmN2M12AIF4AIB&ucfs=1&arphpl=1&group_adults=2&req_adults=2&no_rooms=1&group_children=0&req_children=0&hpos=18&hapos=18&sr_order=popularity&srpvid=27a3857d7fa9075c&srepoch=1745434749&from=searchresults',\n",
       " 'https://www.booking.com/hotel/fr/217-rue-des-iris.fr.html?aid=304142&label=gen173nr-1FCAQoggJCGXNlYXJjaF9ib3JtZXMgbGVzIG1pbW9zYXNIM1gEaE2IAQGYAQ24ARfIAQzYAQHoAQH4AQOIAgGoAgO4AvvwpMAGwAIB0gIkYTgwZWMzOTctOTEyOC00YTI1LWE5ZWMtNjllMWJlNjBmN2M12AIF4AIB&ucfs=1&arphpl=1&group_adults=2&req_adults=2&no_rooms=1&group_children=0&req_children=0&hpos=19&hapos=19&sr_order=popularity&srpvid=27a3857d7fa9075c&srepoch=1745434749&from=searchresults',\n",
       " 'https://www.booking.com/hotel/fr/poseidon-mazet-60-m2-en-duplex-3-pieces-piscine-et-garage-prive.fr.html?aid=304142&label=gen173nr-1FCAQoggJCGXNlYXJjaF9ib3JtZXMgbGVzIG1pbW9zYXNIM1gEaE2IAQGYAQ24ARfIAQzYAQHoAQH4AQOIAgGoAgO4AvvwpMAGwAIB0gIkYTgwZWMzOTctOTEyOC00YTI1LWE5ZWMtNjllMWJlNjBmN2M12AIF4AIB&ucfs=1&arphpl=1&group_adults=2&req_adults=2&no_rooms=1&group_children=0&req_children=0&hpos=20&hapos=20&sr_order=popularity&srpvid=27a3857d7fa9075c&srepoch=1745434749&from=searchresults',\n",
       " 'https://www.booking.com/hotel/fr/appartement-bormes-les-mimosas-1-piece-2-personnes-fr-1-251-583.fr.html?aid=304142&label=gen173nr-1FCAQoggJCGXNlYXJjaF9ib3JtZXMgbGVzIG1pbW9zYXNIM1gEaE2IAQGYAQ24ARfIAQzYAQHoAQH4AQOIAgGoAgO4AvvwpMAGwAIB0gIkYTgwZWMzOTctOTEyOC00YTI1LWE5ZWMtNjllMWJlNjBmN2M12AIF4AIB&ucfs=1&arphpl=1&group_adults=2&req_adults=2&no_rooms=1&group_children=0&req_children=0&hpos=21&hapos=21&sr_order=popularity&srpvid=27a3857d7fa9075c&srepoch=1745434749&from=searchresults',\n",
       " 'https://www.booking.com/hotel/fr/joli-2-pieces-avec-parking-gratuit-sur-place.fr.html?aid=304142&label=gen173nr-1FCAQoggJCGXNlYXJjaF9ib3JtZXMgbGVzIG1pbW9zYXNIM1gEaE2IAQGYAQ24ARfIAQzYAQHoAQH4AQOIAgGoAgO4AvvwpMAGwAIB0gIkYTgwZWMzOTctOTEyOC00YTI1LWE5ZWMtNjllMWJlNjBmN2M12AIF4AIB&ucfs=1&arphpl=1&group_adults=2&req_adults=2&no_rooms=1&group_children=0&req_children=0&hpos=22&hapos=22&sr_order=popularity&srpvid=27a3857d7fa9075c&srepoch=1745434749&from=searchresults',\n",
       " 'https://www.booking.com/hotel/fr/hotel-la-voile-fr.fr.html?aid=304142&label=gen173nr-1FCAQoggJCGXNlYXJjaF9ib3JtZXMgbGVzIG1pbW9zYXNIM1gEaE2IAQGYAQ24ARfIAQzYAQHoAQH4AQOIAgGoAgO4AvvwpMAGwAIB0gIkYTgwZWMzOTctOTEyOC00YTI1LWE5ZWMtNjllMWJlNjBmN2M12AIF4AIB&ucfs=1&arphpl=1&group_adults=2&req_adults=2&no_rooms=1&group_children=0&req_children=0&hpos=23&hapos=23&sr_order=popularity&srpvid=27a3857d7fa9075c&srepoch=1745434749&from=searchresults',\n",
       " 'https://www.booking.com/hotel/fr/coeur-de-village-bormes-les-mimosas.fr.html?aid=304142&label=gen173nr-1FCAQoggJCGXNlYXJjaF9ib3JtZXMgbGVzIG1pbW9zYXNIM1gEaE2IAQGYAQ24ARfIAQzYAQHoAQH4AQOIAgGoAgO4AvvwpMAGwAIB0gIkYTgwZWMzOTctOTEyOC00YTI1LWE5ZWMtNjllMWJlNjBmN2M12AIF4AIB&ucfs=1&arphpl=1&group_adults=2&req_adults=2&no_rooms=1&group_children=0&req_children=0&hpos=24&hapos=24&sr_order=popularity&srpvid=27a3857d7fa9075c&srepoch=1745434749&from=searchresults',\n",
       " 'https://www.booking.com/hotel/fr/les-embruns-bormes-les-mimosas.fr.html?aid=304142&label=gen173nr-1FCAQoggJCGXNlYXJjaF9ib3JtZXMgbGVzIG1pbW9zYXNIM1gEaE2IAQGYAQ24ARfIAQzYAQHoAQH4AQOIAgGoAgO4AvvwpMAGwAIB0gIkYTgwZWMzOTctOTEyOC00YTI1LWE5ZWMtNjllMWJlNjBmN2M12AIF4AIB&ucfs=1&arphpl=1&group_adults=2&req_adults=2&no_rooms=1&group_children=0&req_children=0&hpos=25&hapos=25&sr_order=popularity&srpvid=27a3857d7fa9075c&srepoch=1745434749&from=searchresults']"
      ]
     },
     "execution_count": 332,
     "metadata": {},
     "output_type": "execute_result"
    }
   ],
   "source": [
    "hotel_url = response.css(\"a.a78ca197d0 ::attr(href)\").getall()\n",
    "hotel_url"
   ]
  },
  {
   "cell_type": "markdown",
   "metadata": {},
   "source": [
    "## Test des selecteurs pour extractions des infos par hotel"
   ]
  },
  {
   "cell_type": "code",
   "execution_count": 340,
   "metadata": {},
   "outputs": [
    {
     "data": {
      "text/plain": [
       "['https://www.booking.com/hotel/fr/ligo-by-happyculture-marseille4.fr.html?aid=304142&label=gen173nr-1FCAQoggJCEHNlYXJjaF9tYXJzZWlsbGVIM1gEaE2IAQGYAQ24ARfIAQzYAQHoAQH4AQOIAgGoAgO4Ap_xpMAGwAIB0gIkMDExNjY5ZjEtNjI3My00YjcxLWJjZWYtNjg3ZTBmYzkwNjk22AIF4AIB&ucfs=1&arphpl=1&group_adults=2&req_adults=2&no_rooms=1&group_children=0&req_children=0&hpos=23&hapos=23&sr_order=popularity&srpvid=2b22858f7c580388&srepoch=1745434784&from=searchresults',\n",
       " 'https://www.booking.com/hotel/fr/les-toits-de-pytheas.fr.html?aid=304142&label=gen173nr-1FCAQoggJCEHNlYXJjaF9tYXJzZWlsbGVIM1gEaE2IAQGYAQ24ARfIAQzYAQHoAQH4AQOIAgGoAgO4Ap_xpMAGwAIB0gIkMDExNjY5ZjEtNjI3My00YjcxLWJjZWYtNjg3ZTBmYzkwNjk22AIF4AIB&ucfs=1&arphpl=1&group_adults=2&req_adults=2&no_rooms=1&group_children=0&req_children=0&hpos=25&hapos=25&sr_order=popularity&srpvid=2b22858f7c580388&srepoch=1745434784&from=searchresults',\n",
       " 'https://www.booking.com/hotel/fr/les-toits-de-la-canebiere-studio-tout-confort.fr.html?aid=304142&label=gen173nr-1FCAQoggJCEHNlYXJjaF9tYXJzZWlsbGVIM1gEaE2IAQGYAQ24ARfIAQzYAQHoAQH4AQOIAgGoAgO4Ap_xpMAGwAIB0gIkMDExNjY5ZjEtNjI3My00YjcxLWJjZWYtNjg3ZTBmYzkwNjk22AIF4AIB&ucfs=1&arphpl=1&group_adults=2&req_adults=2&no_rooms=1&group_children=0&req_children=0&hpos=22&hapos=22&sr_order=popularity&srpvid=2b22858f7c580388&srepoch=1745434784&from=searchresults',\n",
       " 'https://www.booking.com/hotel/fr/le-madeleine-marseille.fr.html?aid=304142&label=gen173nr-1FCAQoggJCEHNlYXJjaF9tYXJzZWlsbGVIM1gEaE2IAQGYAQ24ARfIAQzYAQHoAQH4AQOIAgGoAgO4Ap_xpMAGwAIB0gIkMDExNjY5ZjEtNjI3My00YjcxLWJjZWYtNjg3ZTBmYzkwNjk22AIF4AIB&ucfs=1&arphpl=1&group_adults=2&req_adults=2&no_rooms=1&group_children=0&req_children=0&hpos=24&hapos=24&sr_order=popularity&srpvid=2b22858f7c580388&srepoch=1745434784&from=searchresults',\n",
       " 'https://www.booking.com/hotel/fr/nid-douillet-avec-vue-incroyable.fr.html?aid=304142&label=gen173nr-1FCAQoggJCEHNlYXJjaF9tYXJzZWlsbGVIM1gEaE2IAQGYAQ24ARfIAQzYAQHoAQH4AQOIAgGoAgO4Ap_xpMAGwAIB0gIkMDExNjY5ZjEtNjI3My00YjcxLWJjZWYtNjg3ZTBmYzkwNjk22AIF4AIB&ucfs=1&arphpl=1&group_adults=2&req_adults=2&no_rooms=1&group_children=0&req_children=0&hpos=19&hapos=19&sr_order=popularity&srpvid=2b22858f7c580388&srepoch=1745434784&from=searchresults',\n",
       " 'https://www.booking.com/hotel/fr/au-coeur-du-quartier-historique-millenaire.fr.html?aid=304142&label=gen173nr-1FCAQoggJCEHNlYXJjaF9tYXJzZWlsbGVIM1gEaE2IAQGYAQ24ARfIAQzYAQHoAQH4AQOIAgGoAgO4Ap_xpMAGwAIB0gIkMDExNjY5ZjEtNjI3My00YjcxLWJjZWYtNjg3ZTBmYzkwNjk22AIF4AIB&ucfs=1&arphpl=1&group_adults=2&req_adults=2&no_rooms=1&group_children=0&req_children=0&hpos=21&hapos=21&sr_order=popularity&srpvid=2b22858f7c580388&srepoch=1745434784&from=searchresults',\n",
       " 'https://www.booking.com/hotel/fr/charmante-escale-au-coeur-du-panier-pres-vieux-port.fr.html?aid=304142&label=gen173nr-1FCAQoggJCEHNlYXJjaF9tYXJzZWlsbGVIM1gEaE2IAQGYAQ24ARfIAQzYAQHoAQH4AQOIAgGoAgO4Ap_xpMAGwAIB0gIkMDExNjY5ZjEtNjI3My00YjcxLWJjZWYtNjg3ZTBmYzkwNjk22AIF4AIB&ucfs=1&arphpl=1&group_adults=2&req_adults=2&no_rooms=1&group_children=0&req_children=0&hpos=20&hapos=20&sr_order=popularity&srpvid=2b22858f7c580388&srepoch=1745434784&from=searchresults',\n",
       " 'https://www.booking.com/hotel/fr/appartement-atypique-vieux-port.fr.html?aid=304142&label=gen173nr-1FCAQoggJCEHNlYXJjaF9tYXJzZWlsbGVIM1gEaE2IAQGYAQ24ARfIAQzYAQHoAQH4AQOIAgGoAgO4Ap_xpMAGwAIB0gIkMDExNjY5ZjEtNjI3My00YjcxLWJjZWYtNjg3ZTBmYzkwNjk22AIF4AIB&ucfs=1&arphpl=1&group_adults=2&req_adults=2&no_rooms=1&group_children=0&req_children=0&hpos=18&hapos=18&sr_order=popularity&srpvid=2b22858f7c580388&srepoch=1745434784&from=searchresults',\n",
       " 'https://www.booking.com/hotel/fr/camping-arbre-de-vie.fr.html?aid=304142&label=gen173nr-1FCAQoggJCF3NlYXJjaF9nb3JnZXMgZHUgdmVyZG9uSDNYBGhNiAEBmAENuAEXyAEM2AEB6AEB-AEDiAIBqAIDuAKf8aTABsACAdICJGE1NGI3YjU3LWNjYzAtNDM3YS05M2VkLTc2ZTkwODNiMzM3ONgCBeACAQ&ucfs=1&arphpl=1&group_adults=2&req_adults=2&no_rooms=1&group_children=0&req_children=0&hpos=24&hapos=24&sr_order=popularity&srpvid=27a3858f736b09ba&srepoch=1745434784&from=searchresults',\n",
       " 'https://www.booking.com/hotel/fr/clos-augusta.fr.html?aid=304142&label=gen173nr-1FCAQoggJCF3NlYXJjaF9nb3JnZXMgZHUgdmVyZG9uSDNYBGhNiAEBmAENuAEXyAEM2AEB6AEB-AEDiAIBqAIDuAKf8aTABsACAdICJGE1NGI3YjU3LWNjYzAtNDM3YS05M2VkLTc2ZTkwODNiMzM3ONgCBeACAQ&ucfs=1&arphpl=1&group_adults=2&req_adults=2&no_rooms=1&group_children=0&req_children=0&hpos=25&hapos=25&sr_order=popularity&srpvid=27a3858f736b09ba&srepoch=1745434784&from=searchresults',\n",
       " 'https://www.booking.com/hotel/fr/coquelicot-montagnac-montpezat.fr.html?aid=304142&label=gen173nr-1FCAQoggJCF3NlYXJjaF9nb3JnZXMgZHUgdmVyZG9uSDNYBGhNiAEBmAENuAEXyAEM2AEB6AEB-AEDiAIBqAIDuAKf8aTABsACAdICJGE1NGI3YjU3LWNjYzAtNDM3YS05M2VkLTc2ZTkwODNiMzM3ONgCBeACAQ&ucfs=1&arphpl=1&group_adults=2&req_adults=2&no_rooms=1&group_children=0&req_children=0&hpos=23&hapos=23&sr_order=popularity&srpvid=27a3858f736b09ba&srepoch=1745434784&from=searchresults',\n",
       " 'https://www.booking.com/hotel/fr/l-39-establoun.fr.html?aid=304142&label=gen173nr-1FCAQoggJCF3NlYXJjaF9nb3JnZXMgZHUgdmVyZG9uSDNYBGhNiAEBmAENuAEXyAEM2AEB6AEB-AEDiAIBqAIDuAKf8aTABsACAdICJGE1NGI3YjU3LWNjYzAtNDM3YS05M2VkLTc2ZTkwODNiMzM3ONgCBeACAQ&ucfs=1&arphpl=1&group_adults=2&req_adults=2&no_rooms=1&group_children=0&req_children=0&hpos=22&hapos=22&sr_order=popularity&srpvid=27a3858f736b09ba&srepoch=1745434784&from=searchresults',\n",
       " 'https://www.booking.com/hotel/fr/logis-altitude-823.fr.html?aid=304142&label=gen173nr-1FCAQoggJCF3NlYXJjaF9nb3JnZXMgZHUgdmVyZG9uSDNYBGhNiAEBmAENuAEXyAEM2AEB6AEB-AEDiAIBqAIDuAKf8aTABsACAdICJGE1NGI3YjU3LWNjYzAtNDM3YS05M2VkLTc2ZTkwODNiMzM3ONgCBeACAQ&ucfs=1&arphpl=1&group_adults=2&req_adults=2&no_rooms=1&group_children=0&req_children=0&hpos=21&hapos=21&sr_order=popularity&srpvid=27a3858f736b09ba&srepoch=1745434784&from=searchresults',\n",
       " 'https://www.booking.com/hotel/fr/angouire-gite-quot-la-bergerie-quot.fr.html?aid=304142&label=gen173nr-1FCAQoggJCF3NlYXJjaF9nb3JnZXMgZHUgdmVyZG9uSDNYBGhNiAEBmAENuAEXyAEM2AEB6AEB-AEDiAIBqAIDuAKf8aTABsACAdICJGE1NGI3YjU3LWNjYzAtNDM3YS05M2VkLTc2ZTkwODNiMzM3ONgCBeACAQ&ucfs=1&arphpl=1&group_adults=2&req_adults=2&no_rooms=1&group_children=0&req_children=0&hpos=20&hapos=20&sr_order=popularity&srpvid=27a3858f736b09ba&srepoch=1745434784&from=searchresults',\n",
       " 'https://www.booking.com/hotel/fr/studio-cosy-pres-du-lac.fr.html?aid=304142&label=gen173nr-1FCAQoggJCF3NlYXJjaF9nb3JnZXMgZHUgdmVyZG9uSDNYBGhNiAEBmAENuAEXyAEM2AEB6AEB-AEDiAIBqAIDuAKf8aTABsACAdICJGE1NGI3YjU3LWNjYzAtNDM3YS05M2VkLTc2ZTkwODNiMzM3ONgCBeACAQ&ucfs=1&arphpl=1&group_adults=2&req_adults=2&no_rooms=1&group_children=0&req_children=0&hpos=19&hapos=19&sr_order=popularity&srpvid=27a3858f736b09ba&srepoch=1745434784&from=searchresults',\n",
       " 'https://www.booking.com/hotel/fr/sunset-design-touristic-center.fr.html?aid=304142&label=gen173nr-1FCAQoggJCDnNlYXJjaF9hdmlnbm9uSDNYBGhNiAEBmAENuAEXyAEM2AEB6AEB-AEDiAIBqAIDuAKf8aTABsACAdICJGIxNDVkNjNlLTMzMTUtNGZlYS04OGZhLTFmY2EzY2Q5NzNiNNgCBeACAQ&ucfs=1&arphpl=1&group_adults=2&req_adults=2&no_rooms=1&group_children=0&req_children=0&hpos=25&hapos=25&sr_order=popularity&srpvid=4f24858f8e380098&srepoch=1745434784&from=searchresults',\n",
       " 'https://www.booking.com/hotel/fr/le-moka-charmant-appartement-au-coeur-de-ville.fr.html?aid=304142&label=gen173nr-1FCAQoggJCDHNlYXJjaF9uaW1lc0gzWARoTYgBAZgBDbgBF8gBDNgBAegBAfgBA4gCAagCA7gCn_GkwAbAAgHSAiQyZjYwNzAyZi0yZmI2LTRiNTYtODU1OS0yM2MxYmYzMjcwYTjYAgXgAgE&ucfs=1&arphpl=1&group_adults=2&req_adults=2&no_rooms=1&group_children=0&req_children=0&hpos=25&hapos=25&sr_order=popularity&srpvid=e19b858f522508e3&srepoch=1745434785&from=searchresults',\n",
       " 'https://www.booking.com/hotel/fr/loft-elegant-amp-lumineux-dans-un-immeuble-classe.fr.html?aid=304142&label=gen173nr-1FCAQoggJCDHNlYXJjaF9uaW1lc0gzWARoTYgBAZgBDbgBF8gBDNgBAegBAfgBA4gCAagCA7gCn_GkwAbAAgHSAiQyZjYwNzAyZi0yZmI2LTRiNTYtODU1OS0yM2MxYmYzMjcwYTjYAgXgAgE&ucfs=1&arphpl=1&group_adults=2&req_adults=2&no_rooms=1&group_children=0&req_children=0&hpos=22&hapos=22&sr_order=popularity&srpvid=e19b858f522508e3&srepoch=1745434785&from=searchresults',\n",
       " 'https://www.booking.com/hotel/fr/de-l-amphitheatre-nimes.fr.html?aid=304142&label=gen173nr-1FCAQoggJCDHNlYXJjaF9uaW1lc0gzWARoTYgBAZgBDbgBF8gBDNgBAegBAfgBA4gCAagCA7gCn_GkwAbAAgHSAiQyZjYwNzAyZi0yZmI2LTRiNTYtODU1OS0yM2MxYmYzMjcwYTjYAgXgAgE&ucfs=1&arphpl=1&group_adults=2&req_adults=2&no_rooms=1&group_children=0&req_children=0&hpos=24&hapos=24&sr_order=popularity&srpvid=e19b858f522508e3&srepoch=1745434785&from=searchresults',\n",
       " 'https://www.booking.com/hotel/fr/mezza-nimes.fr.html?aid=304142&label=gen173nr-1FCAQoggJCDHNlYXJjaF9uaW1lc0gzWARoTYgBAZgBDbgBF8gBDNgBAegBAfgBA4gCAagCA7gCn_GkwAbAAgHSAiQyZjYwNzAyZi0yZmI2LTRiNTYtODU1OS0yM2MxYmYzMjcwYTjYAgXgAgE&ucfs=1&arphpl=1&group_adults=2&req_adults=2&no_rooms=1&group_children=0&req_children=0&hpos=20&hapos=20&sr_order=popularity&srpvid=e19b858f522508e3&srepoch=1745434785&from=searchresults',\n",
       " 'https://www.booking.com/hotel/fr/appartement-des-carmes.fr.html?aid=304142&label=gen173nr-1FCAQoggJCDHNlYXJjaF9uaW1lc0gzWARoTYgBAZgBDbgBF8gBDNgBAegBAfgBA4gCAagCA7gCn_GkwAbAAgHSAiQyZjYwNzAyZi0yZmI2LTRiNTYtODU1OS0yM2MxYmYzMjcwYTjYAgXgAgE&ucfs=1&arphpl=1&group_adults=2&req_adults=2&no_rooms=1&group_children=0&req_children=0&hpos=19&hapos=19&sr_order=popularity&srpvid=e19b858f522508e3&srepoch=1745434785&from=searchresults',\n",
       " 'https://www.booking.com/hotel/fr/imperator-nimes.fr.html?aid=304142&label=gen173nr-1FCAQoggJCDHNlYXJjaF9uaW1lc0gzWARoTYgBAZgBDbgBF8gBDNgBAegBAfgBA4gCAagCA7gCn_GkwAbAAgHSAiQyZjYwNzAyZi0yZmI2LTRiNTYtODU1OS0yM2MxYmYzMjcwYTjYAgXgAgE&ucfs=1&arphpl=1&group_adults=2&req_adults=2&no_rooms=1&group_children=0&req_children=0&hpos=21&hapos=21&sr_order=popularity&srpvid=e19b858f522508e3&srepoch=1745434785&from=searchresults',\n",
       " 'https://www.booking.com/hotel/fr/nimotel.fr.html?aid=304142&label=gen173nr-1FCAQoggJCDHNlYXJjaF9uaW1lc0gzWARoTYgBAZgBDbgBF8gBDNgBAegBAfgBA4gCAagCA7gCn_GkwAbAAgHSAiQyZjYwNzAyZi0yZmI2LTRiNTYtODU1OS0yM2MxYmYzMjcwYTjYAgXgAgE&ucfs=1&arphpl=1&group_adults=2&req_adults=2&no_rooms=1&group_children=0&req_children=0&hpos=18&hapos=18&sr_order=popularity&srpvid=e19b858f522508e3&srepoch=1745434785&from_sustainable_property_sr=1&from=searchresults',\n",
       " 'https://www.booking.com/hotel/fr/appart-city-nimes.fr.html?aid=304142&label=gen173nr-1FCAQoggJCDHNlYXJjaF9uaW1lc0gzWARoTYgBAZgBDbgBF8gBDNgBAegBAfgBA4gCAagCA7gCn_GkwAbAAgHSAiQyZjYwNzAyZi0yZmI2LTRiNTYtODU1OS0yM2MxYmYzMjcwYTjYAgXgAgE&ucfs=1&arphpl=1&group_adults=2&req_adults=2&no_rooms=1&group_children=0&req_children=0&hpos=23&hapos=23&sr_order=popularity&srpvid=e19b858f522508e3&srepoch=1745434785&from_sustainable_property_sr=1&from=searchresults',\n",
       " 'https://www.booking.com/hotel/fr/ha-tel-la-baume.fr.html?aid=304142&label=gen173nr-1FCAQoggJCDHNlYXJjaF9uaW1lc0gzWARoTYgBAZgBDbgBF8gBDNgBAegBAfgBA4gCAagCA7gCn_GkwAbAAgHSAiQyZjYwNzAyZi0yZmI2LTRiNTYtODU1OS0yM2MxYmYzMjcwYTjYAgXgAgE&ucfs=1&arphpl=1&group_adults=2&req_adults=2&no_rooms=1&group_children=0&req_children=0&hpos=17&hapos=17&sr_order=popularity&srpvid=e19b858f522508e3&srepoch=1745434785&from=searchresults',\n",
       " 'https://www.booking.com/hotel/fr/appartcosy-emplacement-ideal-avec-terrasse-amp-parking-prive.fr.html?aid=304142&label=gen173nr-1FCAQoggJCDHNlYXJjaF9uaW1lc0gzWARoTYgBAZgBDbgBF8gBDNgBAegBAfgBA4gCAagCA7gCn_GkwAbAAgHSAiQyZjYwNzAyZi0yZmI2LTRiNTYtODU1OS0yM2MxYmYzMjcwYTjYAgXgAgE&ucfs=1&arphpl=1&group_adults=2&req_adults=2&no_rooms=1&group_children=0&req_children=0&hpos=15&hapos=15&sr_order=popularity&srpvid=e19b858f522508e3&srepoch=1745434785&from=searchresults',\n",
       " 'https://www.booking.com/hotel/fr/le-mas-des-oliviers-nimes.fr.html?aid=304142&label=gen173nr-1FCAQoggJCDHNlYXJjaF9uaW1lc0gzWARoTYgBAZgBDbgBF8gBDNgBAegBAfgBA4gCAagCA7gCn_GkwAbAAgHSAiQyZjYwNzAyZi0yZmI2LTRiNTYtODU1OS0yM2MxYmYzMjcwYTjYAgXgAgE&ucfs=1&arphpl=1&group_adults=2&req_adults=2&no_rooms=1&group_children=0&req_children=0&hpos=16&hapos=16&sr_order=popularity&srpvid=e19b858f522508e3&srepoch=1745434785&from=searchresults',\n",
       " 'https://www.booking.com/hotel/fr/b-amp-b-nimes-villes-active.fr.html?aid=304142&label=gen173nr-1FCAQoggJCDHNlYXJjaF9uaW1lc0gzWARoTYgBAZgBDbgBF8gBDNgBAegBAfgBA4gCAagCA7gCn_GkwAbAAgHSAiQyZjYwNzAyZi0yZmI2LTRiNTYtODU1OS0yM2MxYmYzMjcwYTjYAgXgAgE&ucfs=1&arphpl=1&group_adults=2&req_adults=2&no_rooms=1&group_children=0&req_children=0&hpos=14&hapos=14&sr_order=popularity&srpvid=e19b858f522508e3&srepoch=1745434785&from=searchresults',\n",
       " 'https://www.booking.com/hotel/fr/appartement-t3-proches-arenes.fr.html?aid=304142&label=gen173nr-1FCAQoggJCDHNlYXJjaF9uaW1lc0gzWARoTYgBAZgBDbgBF8gBDNgBAegBAfgBA4gCAagCA7gCn_GkwAbAAgHSAiQyZjYwNzAyZi0yZmI2LTRiNTYtODU1OS0yM2MxYmYzMjcwYTjYAgXgAgE&ucfs=1&arphpl=1&group_adults=2&req_adults=2&no_rooms=1&group_children=0&req_children=0&hpos=13&hapos=13&sr_order=popularity&srpvid=e19b858f522508e3&srepoch=1745434785&from=searchresults',\n",
       " 'https://www.booking.com/hotel/fr/eclat-doree.fr.html?aid=304142&label=gen173nr-1FCAQoggJCDHNlYXJjaF9uaW1lc0gzWARoTYgBAZgBDbgBF8gBDNgBAegBAfgBA4gCAagCA7gCn_GkwAbAAgHSAiQyZjYwNzAyZi0yZmI2LTRiNTYtODU1OS0yM2MxYmYzMjcwYTjYAgXgAgE&ucfs=1&arphpl=1&group_adults=2&req_adults=2&no_rooms=1&group_children=0&req_children=0&hpos=12&hapos=12&sr_order=popularity&srpvid=e19b858f522508e3&srepoch=1745434785&from=searchresults',\n",
       " 'https://www.booking.com/hotel/fr/nimes-les-pins.fr.html?aid=304142&label=gen173nr-1FCAQoggJCDHNlYXJjaF9uaW1lc0gzWARoTYgBAZgBDbgBF8gBDNgBAegBAfgBA4gCAagCA7gCn_GkwAbAAgHSAiQyZjYwNzAyZi0yZmI2LTRiNTYtODU1OS0yM2MxYmYzMjcwYTjYAgXgAgE&ucfs=1&arphpl=1&group_adults=2&req_adults=2&no_rooms=1&group_children=0&req_children=0&hpos=10&hapos=10&sr_order=popularity&srpvid=e19b858f522508e3&srepoch=1745434785&from=searchresults',\n",
       " 'https://www.booking.com/hotel/fr/logement-tout-confort-avec-grand-garage-gratuit.fr.html?aid=304142&label=gen173nr-1FCAQoggJCDHNlYXJjaF9uaW1lc0gzWARoTYgBAZgBDbgBF8gBDNgBAegBAfgBA4gCAagCA7gCn_GkwAbAAgHSAiQyZjYwNzAyZi0yZmI2LTRiNTYtODU1OS0yM2MxYmYzMjcwYTjYAgXgAgE&ucfs=1&arphpl=1&group_adults=2&req_adults=2&no_rooms=1&group_children=0&req_children=0&hpos=11&hapos=11&sr_order=popularity&srpvid=e19b858f522508e3&srepoch=1745434785&from=searchresults',\n",
       " 'https://www.booking.com/hotel/fr/ibis-budget-nimes-centre-gare.fr.html?aid=304142&label=gen173nr-1FCAQoggJCDHNlYXJjaF9uaW1lc0gzWARoTYgBAZgBDbgBF8gBDNgBAegBAfgBA4gCAagCA7gCn_GkwAbAAgHSAiQyZjYwNzAyZi0yZmI2LTRiNTYtODU1OS0yM2MxYmYzMjcwYTjYAgXgAgE&ucfs=1&arphpl=1&group_adults=2&req_adults=2&no_rooms=1&group_children=0&req_children=0&hpos=9&hapos=9&sr_order=popularity&srpvid=e19b858f522508e3&srepoch=1745434785&from=searchresults',\n",
       " 'https://www.booking.com/hotel/fr/le-13-nimes.fr.html?aid=304142&label=gen173nr-1FCAQoggJCDHNlYXJjaF9uaW1lc0gzWARoTYgBAZgBDbgBF8gBDNgBAegBAfgBA4gCAagCA7gCn_GkwAbAAgHSAiQyZjYwNzAyZi0yZmI2LTRiNTYtODU1OS0yM2MxYmYzMjcwYTjYAgXgAgE&ucfs=1&arphpl=1&group_adults=2&req_adults=2&no_rooms=1&group_children=0&req_children=0&hpos=8&hapos=8&sr_order=popularity&srpvid=e19b858f522508e3&srepoch=1745434785&from=searchresults',\n",
       " 'https://www.booking.com/hotel/fr/campanile-nimes-centre-mas-carbonnel.fr.html?aid=304142&label=gen173nr-1FCAQoggJCDHNlYXJjaF9uaW1lc0gzWARoTYgBAZgBDbgBF8gBDNgBAegBAfgBA4gCAagCA7gCn_GkwAbAAgHSAiQyZjYwNzAyZi0yZmI2LTRiNTYtODU1OS0yM2MxYmYzMjcwYTjYAgXgAgE&ucfs=1&arphpl=1&group_adults=2&req_adults=2&no_rooms=1&group_children=0&req_children=0&hpos=7&hapos=7&sr_order=popularity&srpvid=e19b858f522508e3&srepoch=1745434785&from=searchresults',\n",
       " 'https://www.booking.com/hotel/fr/adagio-access-nimes.fr.html?aid=304142&label=gen173nr-1FCAQoggJCDHNlYXJjaF9uaW1lc0gzWARoTYgBAZgBDbgBF8gBDNgBAegBAfgBA4gCAagCA7gCn_GkwAbAAgHSAiQyZjYwNzAyZi0yZmI2LTRiNTYtODU1OS0yM2MxYmYzMjcwYTjYAgXgAgE&ucfs=1&arphpl=1&group_adults=2&req_adults=2&no_rooms=1&group_children=0&req_children=0&hpos=4&hapos=4&sr_order=popularity&srpvid=e19b858f522508e3&srepoch=1745434785&from_sustainable_property_sr=1&from=searchresults',\n",
       " 'https://www.booking.com/hotel/fr/square-nimes.fr.html?aid=304142&label=gen173nr-1FCAQoggJCDHNlYXJjaF9uaW1lc0gzWARoTYgBAZgBDbgBF8gBDNgBAegBAfgBA4gCAagCA7gCn_GkwAbAAgHSAiQyZjYwNzAyZi0yZmI2LTRiNTYtODU1OS0yM2MxYmYzMjcwYTjYAgXgAgE&ucfs=1&arphpl=1&group_adults=2&req_adults=2&no_rooms=1&group_children=0&req_children=0&hpos=6&hapos=6&sr_order=popularity&srpvid=e19b858f522508e3&srepoch=1745434785&from=searchresults',\n",
       " 'https://www.booking.com/hotel/fr/royal.fr.html?aid=304142&label=gen173nr-1FCAQoggJCDHNlYXJjaF9uaW1lc0gzWARoTYgBAZgBDbgBF8gBDNgBAegBAfgBA4gCAagCA7gCn_GkwAbAAgHSAiQyZjYwNzAyZi0yZmI2LTRiNTYtODU1OS0yM2MxYmYzMjcwYTjYAgXgAgE&ucfs=1&arphpl=1&group_adults=2&req_adults=2&no_rooms=1&group_children=0&req_children=0&hpos=5&hapos=5&sr_order=popularity&srpvid=e19b858f522508e3&srepoch=1745434785&from=searchresults',\n",
       " 'https://www.booking.com/hotel/fr/appart-39-city-nimes.fr.html?aid=304142&label=gen173nr-1FCAQoggJCDHNlYXJjaF9uaW1lc0gzWARoTYgBAZgBDbgBF8gBDNgBAegBAfgBA4gCAagCA7gCn_GkwAbAAgHSAiQyZjYwNzAyZi0yZmI2LTRiNTYtODU1OS0yM2MxYmYzMjcwYTjYAgXgAgE&ucfs=1&arphpl=1&group_adults=2&req_adults=2&no_rooms=1&group_children=0&req_children=0&hpos=3&hapos=3&sr_order=popularity&srpvid=e19b858f522508e3&srepoch=1745434785&from_sustainable_property_sr=1&from=searchresults',\n",
       " 'https://www.booking.com/hotel/fr/b-amp-b-nimes-centre-ville.fr.html?aid=304142&label=gen173nr-1FCAQoggJCDHNlYXJjaF9uaW1lc0gzWARoTYgBAZgBDbgBF8gBDNgBAegBAfgBA4gCAagCA7gCn_GkwAbAAgHSAiQyZjYwNzAyZi0yZmI2LTRiNTYtODU1OS0yM2MxYmYzMjcwYTjYAgXgAgE&ucfs=1&arphpl=1&group_adults=2&req_adults=2&no_rooms=1&group_children=0&req_children=0&hpos=2&hapos=2&sr_order=popularity&srpvid=e19b858f522508e3&srepoch=1745434785&from_sustainable_property_sr=1&from=searchresults',\n",
       " 'https://www.booking.com/hotel/fr/clarioncloitrestlouis.fr.html?aid=304142&label=gen173nr-1FCAQoggJCDnNlYXJjaF9hdmlnbm9uSDNYBGhNiAEBmAENuAEXyAEM2AEB6AEB-AEDiAIBqAIDuAKf8aTABsACAdICJGIxNDVkNjNlLTMzMTUtNGZlYS04OGZhLTFmY2EzY2Q5NzNiNNgCBeACAQ&ucfs=1&arphpl=1&group_adults=2&req_adults=2&no_rooms=1&group_children=0&req_children=0&hpos=24&hapos=24&sr_order=popularity&srpvid=4f24858f8e380098&srepoch=1745434784&from=searchresults',\n",
       " 'https://www.booking.com/hotel/fr/odalys-city-nimes-arenes.fr.html?aid=304142&label=gen173nr-1FCAQoggJCDHNlYXJjaF9uaW1lc0gzWARoTYgBAZgBDbgBF8gBDNgBAegBAfgBA4gCAagCA7gCn_GkwAbAAgHSAiQyZjYwNzAyZi0yZmI2LTRiNTYtODU1OS0yM2MxYmYzMjcwYTjYAgXgAgE&ucfs=1&arphpl=1&group_adults=2&req_adults=2&no_rooms=1&group_children=0&req_children=0&hpos=1&hapos=1&sr_order=popularity&srpvid=e19b858f522508e3&srepoch=1745434785&from=searchresults',\n",
       " 'https://www.booking.com/hotel/fr/joli-t2-plein-coeur-du-centre-historique.fr.html?aid=304142&label=gen173nr-1FCAQoggJCDnNlYXJjaF9hdmlnbm9uSDNYBGhNiAEBmAENuAEXyAEM2AEB6AEB-AEDiAIBqAIDuAKf8aTABsACAdICJGIxNDVkNjNlLTMzMTUtNGZlYS04OGZhLTFmY2EzY2Q5NzNiNNgCBeACAQ&ucfs=1&arphpl=1&group_adults=2&req_adults=2&no_rooms=1&group_children=0&req_children=0&hpos=22&hapos=22&sr_order=popularity&srpvid=4f24858f8e380098&srepoch=1745434784&from=searchresults',\n",
       " 'https://www.booking.com/hotel/fr/t3-intra-muros-avignon.fr.html?aid=304142&label=gen173nr-1FCAQoggJCDnNlYXJjaF9hdmlnbm9uSDNYBGhNiAEBmAENuAEXyAEM2AEB6AEB-AEDiAIBqAIDuAKf8aTABsACAdICJGIxNDVkNjNlLTMzMTUtNGZlYS04OGZhLTFmY2EzY2Q5NzNiNNgCBeACAQ&ucfs=1&arphpl=1&group_adults=2&req_adults=2&no_rooms=1&group_children=0&req_children=0&hpos=23&hapos=23&sr_order=popularity&srpvid=4f24858f8e380098&srepoch=1745434784&from=searchresults',\n",
       " 'https://www.booking.com/hotel/fr/kyriad-avignon-palais-des-papes-xml.fr.html?aid=304142&label=gen173nr-1FCAQoggJCDnNlYXJjaF9hdmlnbm9uSDNYBGhNiAEBmAENuAEXyAEM2AEB6AEB-AEDiAIBqAIDuAKf8aTABsACAdICJGIxNDVkNjNlLTMzMTUtNGZlYS04OGZhLTFmY2EzY2Q5NzNiNNgCBeACAQ&ucfs=1&arphpl=1&group_adults=2&req_adults=2&no_rooms=1&group_children=0&req_children=0&hpos=21&hapos=21&sr_order=popularity&srpvid=4f24858f8e380098&srepoch=1745434784&from=searchresults',\n",
       " 'https://www.booking.com/hotel/fr/nos-cachettes.fr.html?aid=304142&label=gen173nr-1FCAQoggJCDnNlYXJjaF9hdmlnbm9uSDNYBGhNiAEBmAENuAEXyAEM2AEB6AEB-AEDiAIBqAIDuAKf8aTABsACAdICJGIxNDVkNjNlLTMzMTUtNGZlYS04OGZhLTFmY2EzY2Q5NzNiNNgCBeACAQ&ucfs=1&arphpl=1&group_adults=2&req_adults=2&no_rooms=1&group_children=0&req_children=0&hpos=16&hapos=16&sr_order=popularity&srpvid=4f24858f8e380098&srepoch=1745434784&from=searchresults',\n",
       " 'https://www.booking.com/hotel/fr/le-travertin.fr.html?aid=304142&label=gen173nr-1FCAQoggJCDnNlYXJjaF9hdmlnbm9uSDNYBGhNiAEBmAENuAEXyAEM2AEB6AEB-AEDiAIBqAIDuAKf8aTABsACAdICJGIxNDVkNjNlLTMzMTUtNGZlYS04OGZhLTFmY2EzY2Q5NzNiNNgCBeACAQ&ucfs=1&arphpl=1&group_adults=2&req_adults=2&no_rooms=1&group_children=0&req_children=0&hpos=17&hapos=17&sr_order=popularity&srpvid=4f24858f8e380098&srepoch=1745434784&from=searchresults',\n",
       " 'https://www.booking.com/hotel/fr/splendid-avignon.fr.html?aid=304142&label=gen173nr-1FCAQoggJCDnNlYXJjaF9hdmlnbm9uSDNYBGhNiAEBmAENuAEXyAEM2AEB6AEB-AEDiAIBqAIDuAKf8aTABsACAdICJGIxNDVkNjNlLTMzMTUtNGZlYS04OGZhLTFmY2EzY2Q5NzNiNNgCBeACAQ&ucfs=1&arphpl=1&group_adults=2&req_adults=2&no_rooms=1&group_children=0&req_children=0&hpos=19&hapos=19&sr_order=popularity&srpvid=4f24858f8e380098&srepoch=1745434784&from=searchresults',\n",
       " 'https://www.booking.com/hotel/fr/studio-du-rempart.fr.html?aid=304142&label=gen173nr-1FCAQoggJCDnNlYXJjaF9hdmlnbm9uSDNYBGhNiAEBmAENuAEXyAEM2AEB6AEB-AEDiAIBqAIDuAKf8aTABsACAdICJGIxNDVkNjNlLTMzMTUtNGZlYS04OGZhLTFmY2EzY2Q5NzNiNNgCBeACAQ&ucfs=1&arphpl=1&group_adults=2&req_adults=2&no_rooms=1&group_children=0&req_children=0&hpos=20&hapos=20&sr_order=popularity&srpvid=4f24858f8e380098&srepoch=1745434784&from=searchresults',\n",
       " 'https://www.booking.com/hotel/fr/calme-et-charme.fr.html?aid=304142&label=gen173nr-1FCAQoggJCDnNlYXJjaF9hdmlnbm9uSDNYBGhNiAEBmAENuAEXyAEM2AEB6AEB-AEDiAIBqAIDuAKf8aTABsACAdICJGIxNDVkNjNlLTMzMTUtNGZlYS04OGZhLTFmY2EzY2Q5NzNiNNgCBeACAQ&ucfs=1&arphpl=1&group_adults=2&req_adults=2&no_rooms=1&group_children=0&req_children=0&hpos=18&hapos=18&sr_order=popularity&srpvid=4f24858f8e380098&srepoch=1745434784&from=searchresults',\n",
       " 'https://www.booking.com/hotel/fr/le-chardonnay-avignon.fr.html?aid=304142&label=gen173nr-1FCAQoggJCDnNlYXJjaF9hdmlnbm9uSDNYBGhNiAEBmAENuAEXyAEM2AEB6AEB-AEDiAIBqAIDuAKf8aTABsACAdICJGIxNDVkNjNlLTMzMTUtNGZlYS04OGZhLTFmY2EzY2Q5NzNiNNgCBeACAQ&ucfs=1&arphpl=1&group_adults=2&req_adults=2&no_rooms=1&group_children=0&req_children=0&hpos=15&hapos=15&sr_order=popularity&srpvid=4f24858f8e380098&srepoch=1745434784&from=searchresults',\n",
       " 'https://www.booking.com/hotel/fr/appart-parking-arrivee-autonome.fr.html?aid=304142&label=gen173nr-1FCAQoggJCDnNlYXJjaF9hdmlnbm9uSDNYBGhNiAEBmAENuAEXyAEM2AEB6AEB-AEDiAIBqAIDuAKf8aTABsACAdICJGIxNDVkNjNlLTMzMTUtNGZlYS04OGZhLTFmY2EzY2Q5NzNiNNgCBeACAQ&ucfs=1&arphpl=1&group_adults=2&req_adults=2&no_rooms=1&group_children=0&req_children=0&hpos=14&hapos=14&sr_order=popularity&srpvid=4f24858f8e380098&srepoch=1745434784&from=searchresults',\n",
       " 'https://www.booking.com/hotel/fr/le-petit-avignon.fr.html?aid=304142&label=gen173nr-1FCAQoggJCDnNlYXJjaF9hdmlnbm9uSDNYBGhNiAEBmAENuAEXyAEM2AEB6AEB-AEDiAIBqAIDuAKf8aTABsACAdICJGIxNDVkNjNlLTMzMTUtNGZlYS04OGZhLTFmY2EzY2Q5NzNiNNgCBeACAQ&ucfs=1&arphpl=1&group_adults=2&req_adults=2&no_rooms=1&group_children=0&req_children=0&hpos=13&hapos=13&sr_order=popularity&srpvid=4f24858f8e380098&srepoch=1745434784&from=searchresults',\n",
       " 'https://www.booking.com/hotel/fr/cocons-avignon.fr.html?aid=304142&label=gen173nr-1FCAQoggJCDnNlYXJjaF9hdmlnbm9uSDNYBGhNiAEBmAENuAEXyAEM2AEB6AEB-AEDiAIBqAIDuAKf8aTABsACAdICJGIxNDVkNjNlLTMzMTUtNGZlYS04OGZhLTFmY2EzY2Q5NzNiNNgCBeACAQ&ucfs=1&arphpl=1&group_adults=2&req_adults=2&no_rooms=1&group_children=0&req_children=0&hpos=11&hapos=11&sr_order=popularity&srpvid=4f24858f8e380098&srepoch=1745434784&from=searchresults',\n",
       " 'https://www.booking.com/hotel/fr/appartement-le-saint-roch-1-avignon.fr.html?aid=304142&label=gen173nr-1FCAQoggJCDnNlYXJjaF9hdmlnbm9uSDNYBGhNiAEBmAENuAEXyAEM2AEB6AEB-AEDiAIBqAIDuAKf8aTABsACAdICJGIxNDVkNjNlLTMzMTUtNGZlYS04OGZhLTFmY2EzY2Q5NzNiNNgCBeACAQ&ucfs=1&arphpl=1&group_adults=2&req_adults=2&no_rooms=1&group_children=0&req_children=0&hpos=10&hapos=10&sr_order=popularity&srpvid=4f24858f8e380098&srepoch=1745434784&from=searchresults',\n",
       " 'https://www.booking.com/hotel/fr/charming-amp-cosy-2-bedrooms-apartment-city-center.fr.html?aid=304142&label=gen173nr-1FCAQoggJCDnNlYXJjaF9hdmlnbm9uSDNYBGhNiAEBmAENuAEXyAEM2AEB6AEB-AEDiAIBqAIDuAKf8aTABsACAdICJGIxNDVkNjNlLTMzMTUtNGZlYS04OGZhLTFmY2EzY2Q5NzNiNNgCBeACAQ&ucfs=1&arphpl=1&group_adults=2&req_adults=2&no_rooms=1&group_children=0&req_children=0&hpos=8&hapos=8&sr_order=popularity&srpvid=4f24858f8e380098&srepoch=1745434784&from=searchresults',\n",
       " 'https://www.booking.com/hotel/fr/chapelle-du-miracle.fr.html?aid=304142&label=gen173nr-1FCAQoggJCDnNlYXJjaF9hdmlnbm9uSDNYBGhNiAEBmAENuAEXyAEM2AEB6AEB-AEDiAIBqAIDuAKf8aTABsACAdICJGIxNDVkNjNlLTMzMTUtNGZlYS04OGZhLTFmY2EzY2Q5NzNiNNgCBeACAQ&ucfs=1&arphpl=1&group_adults=2&req_adults=2&no_rooms=1&group_children=0&req_children=0&hpos=9&hapos=9&sr_order=popularity&srpvid=4f24858f8e380098&srepoch=1745434784&from=searchresults',\n",
       " 'https://www.booking.com/hotel/fr/expresshiavignon.fr.html?aid=304142&label=gen173nr-1FCAQoggJCDnNlYXJjaF9hdmlnbm9uSDNYBGhNiAEBmAENuAEXyAEM2AEB6AEB-AEDiAIBqAIDuAKf8aTABsACAdICJGIxNDVkNjNlLTMzMTUtNGZlYS04OGZhLTFmY2EzY2Q5NzNiNNgCBeACAQ&ucfs=1&arphpl=1&group_adults=2&req_adults=2&no_rooms=1&group_children=0&req_children=0&hpos=7&hapos=7&sr_order=popularity&srpvid=4f24858f8e380098&srepoch=1745434784&from_sustainable_property_sr=1&from=searchresults',\n",
       " 'https://www.booking.com/hotel/fr/t2-charme-intramuros-quartier-des-teinturiers.fr.html?aid=304142&label=gen173nr-1FCAQoggJCDnNlYXJjaF9hdmlnbm9uSDNYBGhNiAEBmAENuAEXyAEM2AEB6AEB-AEDiAIBqAIDuAKf8aTABsACAdICJGIxNDVkNjNlLTMzMTUtNGZlYS04OGZhLTFmY2EzY2Q5NzNiNNgCBeACAQ&ucfs=1&arphpl=1&group_adults=2&req_adults=2&no_rooms=1&group_children=0&req_children=0&hpos=6&hapos=6&sr_order=popularity&srpvid=4f24858f8e380098&srepoch=1745434784&from=searchresults',\n",
       " 'https://www.booking.com/hotel/fr/villa-victor-hugo-avignon.fr.html?aid=304142&label=gen173nr-1FCAQoggJCDnNlYXJjaF9hdmlnbm9uSDNYBGhNiAEBmAENuAEXyAEM2AEB6AEB-AEDiAIBqAIDuAKf8aTABsACAdICJGIxNDVkNjNlLTMzMTUtNGZlYS04OGZhLTFmY2EzY2Q5NzNiNNgCBeACAQ&ucfs=1&arphpl=1&group_adults=2&req_adults=2&no_rooms=1&group_children=0&req_children=0&hpos=5&hapos=5&sr_order=popularity&srpvid=4f24858f8e380098&srepoch=1745434784&from=searchresults',\n",
       " 'https://www.booking.com/hotel/fr/les-carmes-avignon.fr.html?aid=304142&label=gen173nr-1FCAQoggJCDnNlYXJjaF9hdmlnbm9uSDNYBGhNiAEBmAENuAEXyAEM2AEB6AEB-AEDiAIBqAIDuAKf8aTABsACAdICJGIxNDVkNjNlLTMzMTUtNGZlYS04OGZhLTFmY2EzY2Q5NzNiNNgCBeACAQ&ucfs=1&arphpl=1&group_adults=2&req_adults=2&no_rooms=1&group_children=0&req_children=0&hpos=3&hapos=3&sr_order=popularity&srpvid=4f24858f8e380098&srepoch=1745434784&from=searchresults',\n",
       " 'https://www.booking.com/hotel/fr/hotel-bristol-avignon.fr.html?aid=304142&label=gen173nr-1FCAQoggJCDnNlYXJjaF9hdmlnbm9uSDNYBGhNiAEBmAENuAEXyAEM2AEB6AEB-AEDiAIBqAIDuAKf8aTABsACAdICJGIxNDVkNjNlLTMzMTUtNGZlYS04OGZhLTFmY2EzY2Q5NzNiNNgCBeACAQ&ucfs=1&arphpl=1&group_adults=2&req_adults=2&no_rooms=1&group_children=0&req_children=0&hpos=2&hapos=2&sr_order=popularity&srpvid=4f24858f8e380098&srepoch=1745434784&from_sustainable_property_sr=1&from=searchresults',\n",
       " 'https://www.booking.com/hotel/fr/residence-les-ecureuils-greoux-les-bains.fr.html?aid=304142&label=gen173nr-1FCAQoggJCF3NlYXJjaF9nb3JnZXMgZHUgdmVyZG9uSDNYBGhNiAEBmAENuAEXyAEM2AEB6AEB-AEDiAIBqAIDuAKf8aTABsACAdICJGE1NGI3YjU3LWNjYzAtNDM3YS05M2VkLTc2ZTkwODNiMzM3ONgCBeACAQ&ucfs=1&arphpl=1&group_adults=2&req_adults=2&no_rooms=1&group_children=0&req_children=0&hpos=17&hapos=17&sr_order=popularity&srpvid=27a3858f736b09ba&srepoch=1745434784&from=searchresults',\n",
       " 'https://www.booking.com/hotel/fr/bastide-du-calalou.fr.html?aid=304142&label=gen173nr-1FCAQoggJCF3NlYXJjaF9nb3JnZXMgZHUgdmVyZG9uSDNYBGhNiAEBmAENuAEXyAEM2AEB6AEB-AEDiAIBqAIDuAKf8aTABsACAdICJGE1NGI3YjU3LWNjYzAtNDM3YS05M2VkLTc2ZTkwODNiMzM3ONgCBeACAQ&ucfs=1&arphpl=1&group_adults=2&req_adults=2&no_rooms=1&group_children=0&req_children=0&hpos=18&hapos=18&sr_order=popularity&srpvid=27a3858f736b09ba&srepoch=1745434784&from_sustainable_property_sr=1&from=searchresults',\n",
       " 'https://www.booking.com/hotel/fr/bnb-castellane-castellane.fr.html?aid=304142&label=gen173nr-1FCAQoggJCF3NlYXJjaF9nb3JnZXMgZHUgdmVyZG9uSDNYBGhNiAEBmAENuAEXyAEM2AEB6AEB-AEDiAIBqAIDuAKf8aTABsACAdICJGE1NGI3YjU3LWNjYzAtNDM3YS05M2VkLTc2ZTkwODNiMzM3ONgCBeACAQ&ucfs=1&arphpl=1&group_adults=2&req_adults=2&no_rooms=1&group_children=0&req_children=0&hpos=16&hapos=16&sr_order=popularity&srpvid=27a3858f736b09ba&srepoch=1745434784&from=searchresults',\n",
       " 'https://www.booking.com/hotel/fr/les-canyons-du-verdon.fr.html?aid=304142&label=gen173nr-1FCAQoggJCF3NlYXJjaF9nb3JnZXMgZHUgdmVyZG9uSDNYBGhNiAEBmAENuAEXyAEM2AEB6AEB-AEDiAIBqAIDuAKf8aTABsACAdICJGE1NGI3YjU3LWNjYzAtNDM3YS05M2VkLTc2ZTkwODNiMzM3ONgCBeACAQ&ucfs=1&arphpl=1&group_adults=2&req_adults=2&no_rooms=1&group_children=0&req_children=0&hpos=14&hapos=14&sr_order=popularity&srpvid=27a3858f736b09ba&srepoch=1745434784&from=searchresults',\n",
       " 'https://www.booking.com/hotel/fr/camping-la-ferme-de-castellane.fr.html?aid=304142&label=gen173nr-1FCAQoggJCF3NlYXJjaF9nb3JnZXMgZHUgdmVyZG9uSDNYBGhNiAEBmAENuAEXyAEM2AEB6AEB-AEDiAIBqAIDuAKf8aTABsACAdICJGE1NGI3YjU3LWNjYzAtNDM3YS05M2VkLTc2ZTkwODNiMzM3ONgCBeACAQ&ucfs=1&arphpl=1&group_adults=2&req_adults=2&no_rooms=1&group_children=0&req_children=0&hpos=15&hapos=15&sr_order=popularity&srpvid=27a3858f736b09ba&srepoch=1745434784&from=searchresults',\n",
       " 'https://www.booking.com/hotel/fr/ra-c-sidence-sainte-marthe.fr.html?aid=304142&label=gen173nr-1FCAQoggJCDnNlYXJjaF9hdmlnbm9uSDNYBGhNiAEBmAENuAEXyAEM2AEB6AEB-AEDiAIBqAIDuAKf8aTABsACAdICJGIxNDVkNjNlLTMzMTUtNGZlYS04OGZhLTFmY2EzY2Q5NzNiNNgCBeACAQ&ucfs=1&arphpl=1&group_adults=2&req_adults=2&no_rooms=1&group_children=0&req_children=0&hpos=1&hapos=1&sr_order=popularity&srpvid=4f24858f8e380098&srepoch=1745434784&from=searchresults',\n",
       " 'https://www.booking.com/hotel/fr/cours-julien.fr.html?aid=304142&label=gen173nr-1FCAQoggJCEHNlYXJjaF9tYXJzZWlsbGVIM1gEaE2IAQGYAQ24ARfIAQzYAQHoAQH4AQOIAgGoAgO4Ap_xpMAGwAIB0gIkMDExNjY5ZjEtNjI3My00YjcxLWJjZWYtNjg3ZTBmYzkwNjk22AIF4AIB&ucfs=1&arphpl=1&group_adults=2&req_adults=2&no_rooms=1&group_children=0&req_children=0&hpos=16&hapos=16&sr_order=popularity&srpvid=2b22858f7c580388&srepoch=1745434784&from=searchresults',\n",
       " 'https://www.booking.com/hotel/fr/entre-terre-et-mer-a-cassis.fr.html?aid=304142&label=gen173nr-1FCAQoggJCDXNlYXJjaF9jYXNzaXNIM1gEaE2IAQGYAQ24ARfIAQzYAQHoAQH4AQOIAgGoAgO4Ap_xpMAGwAIB0gIkZWMyZGViYjQtNWQ0Yi00NjdkLTg0MmEtMjdjMDYwOWU2Mjcz2AIF4AIB&ucfs=1&arphpl=1&group_adults=2&req_adults=2&no_rooms=1&group_children=0&req_children=0&hpos=24&hapos=24&sr_order=popularity&srpvid=1585858f7aed0802&srepoch=1745434784&from=searchresults',\n",
       " 'https://www.booking.com/hotel/fr/hermes.fr.html?aid=304142&label=gen173nr-1FCAQoggJCEHNlYXJjaF9tYXJzZWlsbGVIM1gEaE2IAQGYAQ24ARfIAQzYAQHoAQH4AQOIAgGoAgO4Ap_xpMAGwAIB0gIkMDExNjY5ZjEtNjI3My00YjcxLWJjZWYtNjg3ZTBmYzkwNjk22AIF4AIB&ucfs=1&arphpl=1&group_adults=2&req_adults=2&no_rooms=1&group_children=0&req_children=0&hpos=17&hapos=17&sr_order=popularity&srpvid=2b22858f7c580388&srepoch=1745434784&from=searchresults',\n",
       " 'https://www.booking.com/hotel/fr/cassis-calanques-2-pieces-grande-terrasse-vue-mer.fr.html?aid=304142&label=gen173nr-1FCAQoggJCDXNlYXJjaF9jYXNzaXNIM1gEaE2IAQGYAQ24ARfIAQzYAQHoAQH4AQOIAgGoAgO4Ap_xpMAGwAIB0gIkZWMyZGViYjQtNWQ0Yi00NjdkLTg0MmEtMjdjMDYwOWU2Mjcz2AIF4AIB&ucfs=1&arphpl=1&group_adults=2&req_adults=2&no_rooms=1&group_children=0&req_children=0&hpos=25&hapos=25&sr_order=popularity&srpvid=1585858f7aed0802&srepoch=1745434784&from=searchresults',\n",
       " 'https://www.booking.com/hotel/fr/sv-au-pied-du-vieux-port.fr.html?aid=304142&label=gen173nr-1FCAQoggJCEHNlYXJjaF9tYXJzZWlsbGVIM1gEaE2IAQGYAQ24ARfIAQzYAQHoAQH4AQOIAgGoAgO4Ap_xpMAGwAIB0gIkMDExNjY5ZjEtNjI3My00YjcxLWJjZWYtNjg3ZTBmYzkwNjk22AIF4AIB&ucfs=1&arphpl=1&group_adults=2&req_adults=2&no_rooms=1&group_children=0&req_children=0&hpos=15&hapos=15&sr_order=popularity&srpvid=2b22858f7c580388&srepoch=1745434784&from=searchresults',\n",
       " 'https://www.booking.com/hotel/fr/vieux-port-studio-chic.fr.html?aid=304142&label=gen173nr-1FCAQoggJCEHNlYXJjaF9tYXJzZWlsbGVIM1gEaE2IAQGYAQ24ARfIAQzYAQHoAQH4AQOIAgGoAgO4Ap_xpMAGwAIB0gIkMDExNjY5ZjEtNjI3My00YjcxLWJjZWYtNjg3ZTBmYzkwNjk22AIF4AIB&ucfs=1&arphpl=1&group_adults=2&req_adults=2&no_rooms=1&group_children=0&req_children=0&hpos=13&hapos=13&sr_order=popularity&srpvid=2b22858f7c580388&srepoch=1745434784&from=searchresults',\n",
       " 'https://www.booking.com/hotel/fr/odalys-city-marseille-centre-euromed.fr.html?aid=304142&label=gen173nr-1FCAQoggJCEHNlYXJjaF9tYXJzZWlsbGVIM1gEaE2IAQGYAQ24ARfIAQzYAQHoAQH4AQOIAgGoAgO4Ap_xpMAGwAIB0gIkMDExNjY5ZjEtNjI3My00YjcxLWJjZWYtNjg3ZTBmYzkwNjk22AIF4AIB&ucfs=1&arphpl=1&group_adults=2&req_adults=2&no_rooms=1&group_children=0&req_children=0&hpos=14&hapos=14&sr_order=popularity&srpvid=2b22858f7c580388&srepoch=1745434784&from=searchresults',\n",
       " 'https://www.booking.com/hotel/fr/residence-kley-marseille-republique.fr.html?aid=304142&label=gen173nr-1FCAQoggJCEHNlYXJjaF9tYXJzZWlsbGVIM1gEaE2IAQGYAQ24ARfIAQzYAQHoAQH4AQOIAgGoAgO4Ap_xpMAGwAIB0gIkMDExNjY5ZjEtNjI3My00YjcxLWJjZWYtNjg3ZTBmYzkwNjk22AIF4AIB&ucfs=1&arphpl=1&group_adults=2&req_adults=2&no_rooms=1&group_children=0&req_children=0&hpos=12&hapos=12&sr_order=popularity&srpvid=2b22858f7c580388&srepoch=1745434784&from=searchresults',\n",
       " 'https://www.booking.com/hotel/fr/elana-bel-appartement-dans-la-quartier-du-camas.fr.html?aid=304142&label=gen173nr-1FCAQoggJCEHNlYXJjaF9tYXJzZWlsbGVIM1gEaE2IAQGYAQ24ARfIAQzYAQHoAQH4AQOIAgGoAgO4Ap_xpMAGwAIB0gIkMDExNjY5ZjEtNjI3My00YjcxLWJjZWYtNjg3ZTBmYzkwNjk22AIF4AIB&ucfs=1&arphpl=1&group_adults=2&req_adults=2&no_rooms=1&group_children=0&req_children=0&hpos=11&hapos=11&sr_order=popularity&srpvid=2b22858f7c580388&srepoch=1745434784&from=searchresults',\n",
       " 'https://www.booking.com/hotel/fr/ravissant-studio-dans-le-vieux-marseille-entierement-renove-avec-vu-sur-vieux-po.fr.html?aid=304142&label=gen173nr-1FCAQoggJCEHNlYXJjaF9tYXJzZWlsbGVIM1gEaE2IAQGYAQ24ARfIAQzYAQHoAQH4AQOIAgGoAgO4Ap_xpMAGwAIB0gIkMDExNjY5ZjEtNjI3My00YjcxLWJjZWYtNjg3ZTBmYzkwNjk22AIF4AIB&ucfs=1&arphpl=1&group_adults=2&req_adults=2&no_rooms=1&group_children=0&req_children=0&hpos=10&hapos=10&sr_order=popularity&srpvid=2b22858f7c580388&srepoch=1745434784&from=searchresults',\n",
       " 'https://www.booking.com/hotel/fr/joli-t2-moderne-au-centre-de-marseille.fr.html?aid=304142&label=gen173nr-1FCAQoggJCEHNlYXJjaF9tYXJzZWlsbGVIM1gEaE2IAQGYAQ24ARfIAQzYAQHoAQH4AQOIAgGoAgO4Ap_xpMAGwAIB0gIkMDExNjY5ZjEtNjI3My00YjcxLWJjZWYtNjg3ZTBmYzkwNjk22AIF4AIB&ucfs=1&arphpl=1&group_adults=2&req_adults=2&no_rooms=1&group_children=0&req_children=0&hpos=9&hapos=9&sr_order=popularity&srpvid=2b22858f7c580388&srepoch=1745434784&from=searchresults',\n",
       " 'https://www.booking.com/hotel/fr/logement-caroline.fr.html?aid=304142&label=gen173nr-1FCAQoggJCEHNlYXJjaF9tYXJzZWlsbGVIM1gEaE2IAQGYAQ24ARfIAQzYAQHoAQH4AQOIAgGoAgO4Ap_xpMAGwAIB0gIkMDExNjY5ZjEtNjI3My00YjcxLWJjZWYtNjg3ZTBmYzkwNjk22AIF4AIB&ucfs=1&arphpl=1&group_adults=2&req_adults=2&no_rooms=1&group_children=0&req_children=0&hpos=8&hapos=8&sr_order=popularity&srpvid=2b22858f7c580388&srepoch=1745434784&from=searchresults',\n",
       " 'https://www.booking.com/hotel/fr/le-studio-des-artistes.fr.html?aid=304142&label=gen173nr-1FCAQoggJCEHNlYXJjaF9tYXJzZWlsbGVIM1gEaE2IAQGYAQ24ARfIAQzYAQHoAQH4AQOIAgGoAgO4Ap_xpMAGwAIB0gIkMDExNjY5ZjEtNjI3My00YjcxLWJjZWYtNjg3ZTBmYzkwNjk22AIF4AIB&ucfs=1&arphpl=1&group_adults=2&req_adults=2&no_rooms=1&group_children=0&req_children=0&hpos=5&hapos=5&sr_order=popularity&srpvid=2b22858f7c580388&srepoch=1745434784&from=searchresults',\n",
       " 'https://www.booking.com/hotel/fr/easyhotel-marseille.fr.html?aid=304142&label=gen173nr-1FCAQoggJCEHNlYXJjaF9tYXJzZWlsbGVIM1gEaE2IAQGYAQ24ARfIAQzYAQHoAQH4AQOIAgGoAgO4Ap_xpMAGwAIB0gIkMDExNjY5ZjEtNjI3My00YjcxLWJjZWYtNjg3ZTBmYzkwNjk22AIF4AIB&ucfs=1&arphpl=1&group_adults=2&req_adults=2&no_rooms=1&group_children=0&req_children=0&hpos=6&hapos=6&sr_order=popularity&srpvid=2b22858f7c580388&srepoch=1745434784&from=searchresults',\n",
       " 'https://www.booking.com/hotel/fr/toyoko-inn-marseille-saint-charles.fr.html?aid=304142&label=gen173nr-1FCAQoggJCEHNlYXJjaF9tYXJzZWlsbGVIM1gEaE2IAQGYAQ24ARfIAQzYAQHoAQH4AQOIAgGoAgO4Ap_xpMAGwAIB0gIkMDExNjY5ZjEtNjI3My00YjcxLWJjZWYtNjg3ZTBmYzkwNjk22AIF4AIB&ucfs=1&arphpl=1&group_adults=2&req_adults=2&no_rooms=1&group_children=0&req_children=0&hpos=4&hapos=4&sr_order=popularity&srpvid=2b22858f7c580388&srepoch=1745434784&from=searchresults',\n",
       " 'https://www.booking.com/hotel/fr/les-toits-du-vieux-port.fr.html?aid=304142&label=gen173nr-1FCAQoggJCEHNlYXJjaF9tYXJzZWlsbGVIM1gEaE2IAQGYAQ24ARfIAQzYAQHoAQH4AQOIAgGoAgO4Ap_xpMAGwAIB0gIkMDExNjY5ZjEtNjI3My00YjcxLWJjZWYtNjg3ZTBmYzkwNjk22AIF4AIB&ucfs=1&arphpl=1&group_adults=2&req_adults=2&no_rooms=1&group_children=0&req_children=0&hpos=3&hapos=3&sr_order=popularity&srpvid=2b22858f7c580388&srepoch=1745434784&from=searchresults',\n",
       " 'https://www.booking.com/hotel/fr/les-dames-bel-appart-1-ch-avec-clim-hypercentre.fr.html?aid=304142&label=gen173nr-1FCAQoggJCEHNlYXJjaF9tYXJzZWlsbGVIM1gEaE2IAQGYAQ24ARfIAQzYAQHoAQH4AQOIAgGoAgO4Ap_xpMAGwAIB0gIkMDExNjY5ZjEtNjI3My00YjcxLWJjZWYtNjg3ZTBmYzkwNjk22AIF4AIB&ucfs=1&arphpl=1&group_adults=2&req_adults=2&no_rooms=1&group_children=0&req_children=0&hpos=7&hapos=7&sr_order=popularity&srpvid=2b22858f7c580388&srepoch=1745434784&from=searchresults',\n",
       " 'https://www.booking.com/hotel/fr/le-courtil-studio-figue-miel.fr.html?aid=304142&label=gen173nr-1FCAQoggJCF3NlYXJjaF9nb3JnZXMgZHUgdmVyZG9uSDNYBGhNiAEBmAENuAEXyAEM2AEB6AEB-AEDiAIBqAIDuAKf8aTABsACAdICJGE1NGI3YjU3LWNjYzAtNDM3YS05M2VkLTc2ZTkwODNiMzM3ONgCBeACAQ&ucfs=1&arphpl=1&group_adults=2&req_adults=2&no_rooms=1&group_children=0&req_children=0&hpos=13&hapos=13&sr_order=popularity&srpvid=27a3858f736b09ba&srepoch=1745434784&from=searchresults',\n",
       " 'https://www.booking.com/hotel/fr/nouveau-a-greoux-les-bains-t1-duplex-50-m2.fr.html?aid=304142&label=gen173nr-1FCAQoggJCF3NlYXJjaF9nb3JnZXMgZHUgdmVyZG9uSDNYBGhNiAEBmAENuAEXyAEM2AEB6AEB-AEDiAIBqAIDuAKf8aTABsACAdICJGE1NGI3YjU3LWNjYzAtNDM3YS05M2VkLTc2ZTkwODNiMzM3ONgCBeACAQ&ucfs=1&arphpl=1&group_adults=2&req_adults=2&no_rooms=1&group_children=0&req_children=0&hpos=11&hapos=11&sr_order=popularity&srpvid=27a3858f736b09ba&srepoch=1745434784&from=searchresults',\n",
       " 'https://www.booking.com/hotel/fr/les-bastides-de-chanteraine.fr.html?aid=304142&label=gen173nr-1FCAQoggJCF3NlYXJjaF9nb3JnZXMgZHUgdmVyZG9uSDNYBGhNiAEBmAENuAEXyAEM2AEB6AEB-AEDiAIBqAIDuAKf8aTABsACAdICJGE1NGI3YjU3LWNjYzAtNDM3YS05M2VkLTc2ZTkwODNiMzM3ONgCBeACAQ&ucfs=1&arphpl=1&group_adults=2&req_adults=2&no_rooms=1&group_children=0&req_children=0&hpos=12&hapos=12&sr_order=popularity&srpvid=27a3858f736b09ba&srepoch=1745434784&from=searchresults',\n",
       " 'https://www.booking.com/hotel/fr/grand-t1-vieux-port-salle-de-sport-amp-rooftop.fr.html?aid=304142&label=gen173nr-1FCAQoggJCEHNlYXJjaF9tYXJzZWlsbGVIM1gEaE2IAQGYAQ24ARfIAQzYAQHoAQH4AQOIAgGoAgO4Ap_xpMAGwAIB0gIkMDExNjY5ZjEtNjI3My00YjcxLWJjZWYtNjg3ZTBmYzkwNjk22AIF4AIB&ucfs=1&arphpl=1&group_adults=2&req_adults=2&no_rooms=1&group_children=0&req_children=0&hpos=2&hapos=2&sr_order=popularity&srpvid=2b22858f7c580388&srepoch=1745434784&from=searchresults',\n",
       " 'https://www.booking.com/hotel/fr/le-colombier-moustiers-sainte-marie.fr.html?aid=304142&label=gen173nr-1FCAQoggJCF3NlYXJjaF9nb3JnZXMgZHUgdmVyZG9uSDNYBGhNiAEBmAENuAEXyAEM2AEB6AEB-AEDiAIBqAIDuAKf8aTABsACAdICJGE1NGI3YjU3LWNjYzAtNDM3YS05M2VkLTc2ZTkwODNiMzM3ONgCBeACAQ&ucfs=1&arphpl=1&group_adults=2&req_adults=2&no_rooms=1&group_children=0&req_children=0&hpos=10&hapos=10&sr_order=popularity&srpvid=27a3858f736b09ba&srepoch=1745434784&from=searchresults',\n",
       " 'https://www.booking.com/hotel/fr/holiday-home-la-clorinde.fr.html?aid=304142&label=gen173nr-1FCAQoggJCF3NlYXJjaF9nb3JnZXMgZHUgdmVyZG9uSDNYBGhNiAEBmAENuAEXyAEM2AEB6AEB-AEDiAIBqAIDuAKf8aTABsACAdICJGE1NGI3YjU3LWNjYzAtNDM3YS05M2VkLTc2ZTkwODNiMzM3ONgCBeACAQ&ucfs=1&arphpl=1&group_adults=2&req_adults=2&no_rooms=1&group_children=0&req_children=0&hpos=9&hapos=9&sr_order=popularity&srpvid=27a3858f736b09ba&srepoch=1745434784&from=searchresults',\n",
       " 'https://www.booking.com/hotel/fr/ceres.fr.html?aid=304142&label=gen173nr-1FCAQoggJCF3NlYXJjaF9nb3JnZXMgZHUgdmVyZG9uSDNYBGhNiAEBmAENuAEXyAEM2AEB6AEB-AEDiAIBqAIDuAKf8aTABsACAdICJGE1NGI3YjU3LWNjYzAtNDM3YS05M2VkLTc2ZTkwODNiMzM3ONgCBeACAQ&ucfs=1&arphpl=1&group_adults=2&req_adults=2&no_rooms=1&group_children=0&req_children=0&hpos=7&hapos=7&sr_order=popularity&srpvid=27a3858f736b09ba&srepoch=1745434784&from=searchresults',\n",
       " 'https://www.booking.com/hotel/fr/hotellouparadou.fr.html?aid=304142&label=gen173nr-1FCAQoggJCF3NlYXJjaF9nb3JnZXMgZHUgdmVyZG9uSDNYBGhNiAEBmAENuAEXyAEM2AEB6AEB-AEDiAIBqAIDuAKf8aTABsACAdICJGE1NGI3YjU3LWNjYzAtNDM3YS05M2VkLTc2ZTkwODNiMzM3ONgCBeACAQ&ucfs=1&arphpl=1&group_adults=2&req_adults=2&no_rooms=1&group_children=0&req_children=0&hpos=8&hapos=8&sr_order=popularity&srpvid=27a3858f736b09ba&srepoch=1745434784&from=searchresults',\n",
       " 'https://www.booking.com/hotel/fr/les-framboiseilles.fr.html?aid=304142&label=gen173nr-1FCAQoggJCF3NlYXJjaF9nb3JnZXMgZHUgdmVyZG9uSDNYBGhNiAEBmAENuAEXyAEM2AEB6AEB-AEDiAIBqAIDuAKf8aTABsACAdICJGE1NGI3YjU3LWNjYzAtNDM3YS05M2VkLTc2ZTkwODNiMzM3ONgCBeACAQ&ucfs=1&arphpl=1&group_adults=2&req_adults=2&no_rooms=1&group_children=0&req_children=0&hpos=6&hapos=6&sr_order=popularity&srpvid=27a3858f736b09ba&srepoch=1745434784&from=searchresults',\n",
       " 'https://www.booking.com/hotel/fr/du-vieux-chateau.fr.html?aid=304142&label=gen173nr-1FCAQoggJCF3NlYXJjaF9nb3JnZXMgZHUgdmVyZG9uSDNYBGhNiAEBmAENuAEXyAEM2AEB6AEB-AEDiAIBqAIDuAKf8aTABsACAdICJGE1NGI3YjU3LWNjYzAtNDM3YS05M2VkLTc2ZTkwODNiMzM3ONgCBeACAQ&ucfs=1&arphpl=1&group_adults=2&req_adults=2&no_rooms=1&group_children=0&req_children=0&hpos=4&hapos=4&sr_order=popularity&srpvid=27a3858f736b09ba&srepoch=1745434784&from=searchresults',\n",
       " 'https://www.booking.com/hotel/fr/camping-a-la-ferme-de-bourras.fr.html?aid=304142&label=gen173nr-1FCAQoggJCF3NlYXJjaF9nb3JnZXMgZHUgdmVyZG9uSDNYBGhNiAEBmAENuAEXyAEM2AEB6AEB-AEDiAIBqAIDuAKf8aTABsACAdICJGE1NGI3YjU3LWNjYzAtNDM3YS05M2VkLTc2ZTkwODNiMzM3ONgCBeACAQ&ucfs=1&arphpl=1&group_adults=2&req_adults=2&no_rooms=1&group_children=0&req_children=0&hpos=5&hapos=5&sr_order=popularity&srpvid=27a3858f736b09ba&srepoch=1745434784&from=searchresults',\n",
       " 'https://www.booking.com/hotel/fr/residence-lou-cigaloun-greoux-les-bains.fr.html?aid=304142&label=gen173nr-1FCAQoggJCF3NlYXJjaF9nb3JnZXMgZHUgdmVyZG9uSDNYBGhNiAEBmAENuAEXyAEM2AEB6AEB-AEDiAIBqAIDuAKf8aTABsACAdICJGE1NGI3YjU3LWNjYzAtNDM3YS05M2VkLTc2ZTkwODNiMzM3ONgCBeACAQ&ucfs=1&arphpl=1&group_adults=2&req_adults=2&no_rooms=1&group_children=0&req_children=0&hpos=3&hapos=3&sr_order=popularity&srpvid=27a3858f736b09ba&srepoch=1745434784&from=searchresults',\n",
       " 'https://www.booking.com/hotel/fr/la-ferme-rose.fr.html?aid=304142&label=gen173nr-1FCAQoggJCF3NlYXJjaF9nb3JnZXMgZHUgdmVyZG9uSDNYBGhNiAEBmAENuAEXyAEM2AEB6AEB-AEDiAIBqAIDuAKf8aTABsACAdICJGE1NGI3YjU3LWNjYzAtNDM3YS05M2VkLTc2ZTkwODNiMzM3ONgCBeACAQ&ucfs=1&arphpl=1&group_adults=2&req_adults=2&no_rooms=1&group_children=0&req_children=0&hpos=2&hapos=2&sr_order=popularity&srpvid=27a3858f736b09ba&srepoch=1745434784&from=searchresults',\n",
       " 'https://www.booking.com/hotel/fr/la-petite-bastide-cassis.fr.html?aid=304142&label=gen173nr-1FCAQoggJCDXNlYXJjaF9jYXNzaXNIM1gEaE2IAQGYAQ24ARfIAQzYAQHoAQH4AQOIAgGoAgO4Ap_xpMAGwAIB0gIkZWMyZGViYjQtNWQ0Yi00NjdkLTg0MmEtMjdjMDYwOWU2Mjcz2AIF4AIB&ucfs=1&arphpl=1&group_adults=2&req_adults=2&no_rooms=1&group_children=0&req_children=0&hpos=23&hapos=23&sr_order=popularity&srpvid=1585858f7aed0802&srepoch=1745434784&from=searchresults',\n",
       " 'https://www.booking.com/hotel/fr/appt-4-personnes-vue-mer-parking-climatisation.fr.html?aid=304142&label=gen173nr-1FCAQoggJCDXNlYXJjaF9jYXNzaXNIM1gEaE2IAQGYAQ24ARfIAQzYAQHoAQH4AQOIAgGoAgO4Ap_xpMAGwAIB0gIkZWMyZGViYjQtNWQ0Yi00NjdkLTg0MmEtMjdjMDYwOWU2Mjcz2AIF4AIB&ucfs=1&arphpl=1&group_adults=2&req_adults=2&no_rooms=1&group_children=0&req_children=0&hpos=22&hapos=22&sr_order=popularity&srpvid=1585858f7aed0802&srepoch=1745434784&from=searchresults',\n",
       " 'https://www.booking.com/hotel/fr/appartement-cassis-plage.fr.html?aid=304142&label=gen173nr-1FCAQoggJCDXNlYXJjaF9jYXNzaXNIM1gEaE2IAQGYAQ24ARfIAQzYAQHoAQH4AQOIAgGoAgO4Ap_xpMAGwAIB0gIkZWMyZGViYjQtNWQ0Yi00NjdkLTg0MmEtMjdjMDYwOWU2Mjcz2AIF4AIB&ucfs=1&arphpl=1&group_adults=2&req_adults=2&no_rooms=1&group_children=0&req_children=0&hpos=21&hapos=21&sr_order=popularity&srpvid=1585858f7aed0802&srepoch=1745434784&from=searchresults',\n",
       " 'https://www.booking.com/hotel/fr/aiguade-appartement-a-cassis.fr.html?aid=304142&label=gen173nr-1FCAQoggJCDXNlYXJjaF9jYXNzaXNIM1gEaE2IAQGYAQ24ARfIAQzYAQHoAQH4AQOIAgGoAgO4Ap_xpMAGwAIB0gIkZWMyZGViYjQtNWQ0Yi00NjdkLTg0MmEtMjdjMDYwOWU2Mjcz2AIF4AIB&ucfs=1&arphpl=1&group_adults=2&req_adults=2&no_rooms=1&group_children=0&req_children=0&hpos=19&hapos=19&sr_order=popularity&srpvid=1585858f7aed0802&srepoch=1745434784&from=searchresults',\n",
       " 'https://www.booking.com/hotel/fr/appart-bianca-t2-terrasse-parking-calme-1mn-de-la-mer.fr.html?aid=304142&label=gen173nr-1FCAQoggJCDXNlYXJjaF9jYXNzaXNIM1gEaE2IAQGYAQ24ARfIAQzYAQHoAQH4AQOIAgGoAgO4Ap_xpMAGwAIB0gIkZWMyZGViYjQtNWQ0Yi00NjdkLTg0MmEtMjdjMDYwOWU2Mjcz2AIF4AIB&ucfs=1&arphpl=1&group_adults=2&req_adults=2&no_rooms=1&group_children=0&req_children=0&hpos=20&hapos=20&sr_order=popularity&srpvid=1585858f7aed0802&srepoch=1745434784&from=searchresults',\n",
       " 'https://www.booking.com/hotel/fr/au-son-des-cigales-cassis.fr.html?aid=304142&label=gen173nr-1FCAQoggJCDXNlYXJjaF9jYXNzaXNIM1gEaE2IAQGYAQ24ARfIAQzYAQHoAQH4AQOIAgGoAgO4Ap_xpMAGwAIB0gIkZWMyZGViYjQtNWQ0Yi00NjdkLTg0MmEtMjdjMDYwOWU2Mjcz2AIF4AIB&ucfs=1&arphpl=1&group_adults=2&req_adults=2&no_rooms=1&group_children=0&req_children=0&hpos=18&hapos=18&sr_order=popularity&srpvid=1585858f7aed0802&srepoch=1745434784&from=searchresults',\n",
       " 'https://www.booking.com/hotel/fr/studio-la-pinta-cassis.fr.html?aid=304142&label=gen173nr-1FCAQoggJCDXNlYXJjaF9jYXNzaXNIM1gEaE2IAQGYAQ24ARfIAQzYAQHoAQH4AQOIAgGoAgO4Ap_xpMAGwAIB0gIkZWMyZGViYjQtNWQ0Yi00NjdkLTg0MmEtMjdjMDYwOWU2Mjcz2AIF4AIB&ucfs=1&arphpl=1&group_adults=2&req_adults=2&no_rooms=1&group_children=0&req_children=0&hpos=16&hapos=16&sr_order=popularity&srpvid=1585858f7aed0802&srepoch=1745434784&from=searchresults',\n",
       " 'https://www.booking.com/hotel/fr/location-au-bord-de-l-eau-cassis.fr.html?aid=304142&label=gen173nr-1FCAQoggJCDXNlYXJjaF9jYXNzaXNIM1gEaE2IAQGYAQ24ARfIAQzYAQHoAQH4AQOIAgGoAgO4Ap_xpMAGwAIB0gIkZWMyZGViYjQtNWQ0Yi00NjdkLTg0MmEtMjdjMDYwOWU2Mjcz2AIF4AIB&ucfs=1&arphpl=1&group_adults=2&req_adults=2&no_rooms=1&group_children=0&req_children=0&hpos=17&hapos=17&sr_order=popularity&srpvid=1585858f7aed0802&srepoch=1745434784&from=searchresults',\n",
       " 'https://www.booking.com/hotel/fr/mistral-gagnant-cassis.fr.html?aid=304142&label=gen173nr-1FCAQoggJCDXNlYXJjaF9jYXNzaXNIM1gEaE2IAQGYAQ24ARfIAQzYAQHoAQH4AQOIAgGoAgO4Ap_xpMAGwAIB0gIkZWMyZGViYjQtNWQ0Yi00NjdkLTg0MmEtMjdjMDYwOWU2Mjcz2AIF4AIB&ucfs=1&arphpl=1&group_adults=2&req_adults=2&no_rooms=1&group_children=0&req_children=0&hpos=15&hapos=15&sr_order=popularity&srpvid=1585858f7aed0802&srepoch=1745434784&from=searchresults',\n",
       " 'https://www.booking.com/hotel/fr/calanques-cassis-apartment.fr.html?aid=304142&label=gen173nr-1FCAQoggJCDXNlYXJjaF9jYXNzaXNIM1gEaE2IAQGYAQ24ARfIAQzYAQHoAQH4AQOIAgGoAgO4Ap_xpMAGwAIB0gIkZWMyZGViYjQtNWQ0Yi00NjdkLTg0MmEtMjdjMDYwOWU2Mjcz2AIF4AIB&ucfs=1&arphpl=1&group_adults=2&req_adults=2&no_rooms=1&group_children=0&req_children=0&hpos=14&hapos=14&sr_order=popularity&srpvid=1585858f7aed0802&srepoch=1745434784&from=searchresults',\n",
       " 'https://www.booking.com/hotel/fr/aquarius-in-cassis-chambres-d-hotes.fr.html?aid=304142&label=gen173nr-1FCAQoggJCDXNlYXJjaF9jYXNzaXNIM1gEaE2IAQGYAQ24ARfIAQzYAQHoAQH4AQOIAgGoAgO4Ap_xpMAGwAIB0gIkZWMyZGViYjQtNWQ0Yi00NjdkLTg0MmEtMjdjMDYwOWU2Mjcz2AIF4AIB&ucfs=1&arphpl=1&group_adults=2&req_adults=2&no_rooms=1&group_children=0&req_children=0&hpos=13&hapos=13&sr_order=popularity&srpvid=1585858f7aed0802&srepoch=1745434784&from=searchresults',\n",
       " 'https://www.booking.com/hotel/fr/auberge-de-baudinard.fr.html?aid=304142&label=gen173nr-1FCAQoggJCF3NlYXJjaF9nb3JnZXMgZHUgdmVyZG9uSDNYBGhNiAEBmAENuAEXyAEM2AEB6AEB-AEDiAIBqAIDuAKf8aTABsACAdICJGE1NGI3YjU3LWNjYzAtNDM3YS05M2VkLTc2ZTkwODNiMzM3ONgCBeACAQ&ucfs=1&arphpl=1&group_adults=2&req_adults=2&no_rooms=1&group_children=0&req_children=0&hpos=1&hapos=1&sr_order=popularity&srpvid=27a3858f736b09ba&srepoch=1745434784&from=searchresults',\n",
       " 'https://www.booking.com/hotel/fr/paradise-eart-amp-sea.fr.html?aid=304142&label=gen173nr-1FCAQoggJCEHNlYXJjaF9tYXJzZWlsbGVIM1gEaE2IAQGYAQ24ARfIAQzYAQHoAQH4AQOIAgGoAgO4Ap_xpMAGwAIB0gIkMDExNjY5ZjEtNjI3My00YjcxLWJjZWYtNjg3ZTBmYzkwNjk22AIF4AIB&ucfs=1&arphpl=1&group_adults=2&req_adults=2&no_rooms=1&group_children=0&req_children=0&hpos=1&hapos=1&sr_order=popularity&srpvid=2b22858f7c580388&srepoch=1745434784&from=searchresults',\n",
       " 'https://www.booking.com/hotel/fr/seaview-cassis.fr.html?aid=304142&label=gen173nr-1FCAQoggJCDXNlYXJjaF9jYXNzaXNIM1gEaE2IAQGYAQ24ARfIAQzYAQHoAQH4AQOIAgGoAgO4Ap_xpMAGwAIB0gIkZWMyZGViYjQtNWQ0Yi00NjdkLTg0MmEtMjdjMDYwOWU2Mjcz2AIF4AIB&ucfs=1&arphpl=1&group_adults=2&req_adults=2&no_rooms=1&group_children=0&req_children=0&hpos=12&hapos=12&sr_order=popularity&srpvid=1585858f7aed0802&srepoch=1745434784&from=searchresults',\n",
       " 'https://www.booking.com/hotel/fr/le-p-tit-canaille-plein-centre-avec-parking-prive.fr.html?aid=304142&label=gen173nr-1FCAQoggJCDXNlYXJjaF9jYXNzaXNIM1gEaE2IAQGYAQ24ARfIAQzYAQHoAQH4AQOIAgGoAgO4Ap_xpMAGwAIB0gIkZWMyZGViYjQtNWQ0Yi00NjdkLTg0MmEtMjdjMDYwOWU2Mjcz2AIF4AIB&ucfs=1&arphpl=1&group_adults=2&req_adults=2&no_rooms=1&group_children=0&req_children=0&hpos=9&hapos=9&sr_order=popularity&srpvid=1585858f7aed0802&srepoch=1745434784&from=searchresults',\n",
       " 'https://www.booking.com/hotel/fr/la-rade-centre-ville-balcon-clim-neuf.fr.html?aid=304142&label=gen173nr-1FCAQoggJCDXNlYXJjaF9jYXNzaXNIM1gEaE2IAQGYAQ24ARfIAQzYAQHoAQH4AQOIAgGoAgO4Ap_xpMAGwAIB0gIkZWMyZGViYjQtNWQ0Yi00NjdkLTg0MmEtMjdjMDYwOWU2Mjcz2AIF4AIB&ucfs=1&arphpl=1&group_adults=2&req_adults=2&no_rooms=1&group_children=0&req_children=0&hpos=10&hapos=10&sr_order=popularity&srpvid=1585858f7aed0802&srepoch=1745434784&from=searchresults',\n",
       " 'https://www.booking.com/hotel/fr/appartement-astoria-villa-face-piscine.fr.html?aid=304142&label=gen173nr-1FCAQoggJCDXNlYXJjaF9jYXNzaXNIM1gEaE2IAQGYAQ24ARfIAQzYAQHoAQH4AQOIAgGoAgO4Ap_xpMAGwAIB0gIkZWMyZGViYjQtNWQ0Yi00NjdkLTg0MmEtMjdjMDYwOWU2Mjcz2AIF4AIB&ucfs=1&arphpl=1&group_adults=2&req_adults=2&no_rooms=1&group_children=0&req_children=0&hpos=11&hapos=11&sr_order=popularity&srpvid=1585858f7aed0802&srepoch=1745434784&from=searchresults',\n",
       " 'https://www.booking.com/hotel/fr/cassis-charmant-appart-en-face-de-la-plage.fr.html?aid=304142&label=gen173nr-1FCAQoggJCDXNlYXJjaF9jYXNzaXNIM1gEaE2IAQGYAQ24ARfIAQzYAQHoAQH4AQOIAgGoAgO4Ap_xpMAGwAIB0gIkZWMyZGViYjQtNWQ0Yi00NjdkLTg0MmEtMjdjMDYwOWU2Mjcz2AIF4AIB&ucfs=1&arphpl=1&group_adults=2&req_adults=2&no_rooms=1&group_children=0&req_children=0&hpos=8&hapos=8&sr_order=popularity&srpvid=1585858f7aed0802&srepoch=1745434784&from=searchresults',\n",
       " 'https://www.booking.com/hotel/fr/le-sept-charmant-studio-aux-portes-des-calanques.fr.html?aid=304142&label=gen173nr-1FCAQoggJCDXNlYXJjaF9jYXNzaXNIM1gEaE2IAQGYAQ24ARfIAQzYAQHoAQH4AQOIAgGoAgO4Ap_xpMAGwAIB0gIkZWMyZGViYjQtNWQ0Yi00NjdkLTg0MmEtMjdjMDYwOWU2Mjcz2AIF4AIB&ucfs=1&arphpl=1&group_adults=2&req_adults=2&no_rooms=1&group_children=0&req_children=0&hpos=6&hapos=6&sr_order=popularity&srpvid=1585858f7aed0802&srepoch=1745434784&from=searchresults',\n",
       " 'https://www.booking.com/hotel/fr/villa-bobnell.fr.html?aid=304142&label=gen173nr-1FCAQoggJCDXNlYXJjaF9jYXNzaXNIM1gEaE2IAQGYAQ24ARfIAQzYAQHoAQH4AQOIAgGoAgO4Ap_xpMAGwAIB0gIkZWMyZGViYjQtNWQ0Yi00NjdkLTg0MmEtMjdjMDYwOWU2Mjcz2AIF4AIB&ucfs=1&arphpl=1&group_adults=2&req_adults=2&no_rooms=1&group_children=0&req_children=0&hpos=7&hapos=7&sr_order=popularity&srpvid=1585858f7aed0802&srepoch=1745434784&from=searchresults',\n",
       " 'https://www.booking.com/hotel/fr/chez-nous-cassis.fr.html?aid=304142&label=gen173nr-1FCAQoggJCDXNlYXJjaF9jYXNzaXNIM1gEaE2IAQGYAQ24ARfIAQzYAQHoAQH4AQOIAgGoAgO4Ap_xpMAGwAIB0gIkZWMyZGViYjQtNWQ0Yi00NjdkLTg0MmEtMjdjMDYwOWU2Mjcz2AIF4AIB&ucfs=1&arphpl=1&group_adults=2&req_adults=2&no_rooms=1&group_children=0&req_children=0&hpos=5&hapos=5&sr_order=popularity&srpvid=1585858f7aed0802&srepoch=1745434784&from=searchresults',\n",
       " 'https://www.booking.com/hotel/fr/home-cassis-maison-mediterrannee.fr.html?aid=304142&label=gen173nr-1FCAQoggJCDXNlYXJjaF9jYXNzaXNIM1gEaE2IAQGYAQ24ARfIAQzYAQHoAQH4AQOIAgGoAgO4Ap_xpMAGwAIB0gIkZWMyZGViYjQtNWQ0Yi00NjdkLTg0MmEtMjdjMDYwOWU2Mjcz2AIF4AIB&ucfs=1&arphpl=1&group_adults=2&req_adults=2&no_rooms=1&group_children=0&req_children=0&hpos=4&hapos=4&sr_order=popularity&srpvid=1585858f7aed0802&srepoch=1745434784&from=searchresults',\n",
       " 'https://www.booking.com/hotel/fr/home-cassis.fr.html?aid=304142&label=gen173nr-1FCAQoggJCDXNlYXJjaF9jYXNzaXNIM1gEaE2IAQGYAQ24ARfIAQzYAQHoAQH4AQOIAgGoAgO4Ap_xpMAGwAIB0gIkZWMyZGViYjQtNWQ0Yi00NjdkLTg0MmEtMjdjMDYwOWU2Mjcz2AIF4AIB&ucfs=1&arphpl=1&group_adults=2&req_adults=2&no_rooms=1&group_children=0&req_children=0&hpos=3&hapos=3&sr_order=popularity&srpvid=1585858f7aed0802&srepoch=1745434784&from=searchresults',\n",
       " 'https://www.booking.com/hotel/fr/la-douceur-de-cassis.fr.html?aid=304142&label=gen173nr-1FCAQoggJCDXNlYXJjaF9jYXNzaXNIM1gEaE2IAQGYAQ24ARfIAQzYAQHoAQH4AQOIAgGoAgO4Ap_xpMAGwAIB0gIkZWMyZGViYjQtNWQ0Yi00NjdkLTg0MmEtMjdjMDYwOWU2Mjcz2AIF4AIB&ucfs=1&arphpl=1&group_adults=2&req_adults=2&no_rooms=1&group_children=0&req_children=0&hpos=2&hapos=2&sr_order=popularity&srpvid=1585858f7aed0802&srepoch=1745434784&from=searchresults',\n",
       " 'https://www.booking.com/hotel/fr/le-coteau-de-cassis.fr.html?aid=304142&label=gen173nr-1FCAQoggJCDXNlYXJjaF9jYXNzaXNIM1gEaE2IAQGYAQ24ARfIAQzYAQHoAQH4AQOIAgGoAgO4Ap_xpMAGwAIB0gIkZWMyZGViYjQtNWQ0Yi00NjdkLTg0MmEtMjdjMDYwOWU2Mjcz2AIF4AIB&ucfs=1&arphpl=1&group_adults=2&req_adults=2&no_rooms=1&group_children=0&req_children=0&hpos=1&hapos=1&sr_order=popularity&srpvid=1585858f7aed0802&srepoch=1745434784&from=searchresults']"
      ]
     },
     "execution_count": 340,
     "metadata": {},
     "output_type": "execute_result"
    }
   ],
   "source": [
    "#extraction des URL d'hotels\n",
    "with open('data/booking_hotels.json', 'r', encoding=\"utf-8\") as file:\n",
    "    data = json.load(file)\n",
    "hotel_urls = [item['hotel_url'] for item in data]\n",
    "hotel_urls"
   ]
  },
  {
   "cell_type": "code",
   "execution_count": 341,
   "metadata": {},
   "outputs": [
    {
     "data": {
      "text/plain": [
       "<Response [200]>"
      ]
     },
     "execution_count": 341,
     "metadata": {},
     "output_type": "execute_result"
    }
   ],
   "source": [
    "headers = {\n",
    "    'User-Agent': 'Mozilla/5.0 (Windows NT 10.0; Win64; x64) AppleWebKit/537.36 (KHTML, like Gecko) Chrome/58.0.3029.110 Safari/537.3',\n",
    "    'Accept-Language': 'fr-FR,fr;q=0.9,en-US;q=0.8,en;q=0.7'\n",
    "}\n",
    "url = hotel_urls[0]\n",
    "r = requests.get(url, headers=headers)\n",
    "\n",
    "response = Selector(text=r.text)\n",
    "r"
   ]
  },
  {
   "cell_type": "code",
   "execution_count": 342,
   "metadata": {},
   "outputs": [
    {
     "data": {
      "text/plain": [
       "'Hôtel Ligo by HappyCulture'"
      ]
     },
     "execution_count": 342,
     "metadata": {},
     "output_type": "execute_result"
    }
   ],
   "source": [
    "hotel_name= response.css(\"h2.d2fee87262.pp-header__title::text\").get()\n",
    "hotel_name"
   ]
  },
  {
   "cell_type": "code",
   "execution_count": 343,
   "metadata": {},
   "outputs": [
    {
     "data": {
      "text/plain": [
       "'14-16 Rue Jean Trinquet, 13002 Marseille, France'"
      ]
     },
     "execution_count": 343,
     "metadata": {},
     "output_type": "execute_result"
    }
   ],
   "source": [
    "hotel_address= response.css(\"div.a53cbfa6de.f17adf7576::text\").get()\n",
    "hotel_address"
   ]
  },
  {
   "cell_type": "code",
   "execution_count": 344,
   "metadata": {},
   "outputs": [
    {
     "data": {
      "text/plain": [
       "\"L’établissement Hôtel Ligo by HappyCulture bénéficie d’un emplacement stratégique dans le centre de Marseille. Il sert un petit-déjeuner buffet et comprend une connexion Wi-Fi gratuite dans l’ensemble de ses locaux. Cet hôtel 4 étoiles propose une bagagerie. Cet établissement non-fumeurs vous accueille à 2,6 km de : Plage des Catalans.\\n\\nVous bénéficierez d’une salle de bains privative avec une baignoire, d’une télévision à écran plat et de la climatisation. Certains hébergements possèdent également une terrasse. Vous profiterez d’une armoire et d’une bouilloire.\\n\\nParlant anglais et français, le personnel de la réception ouverte 24h/24 se fera un plaisir de vous aider à tout moment.\\n\\nVous séjournerez à proximité de ces lieux d’intérêt\\xa0: Métro Vieux-Port, Métro Joliette et Centre commercial Les Terrasses du Port. L'aéroport le plus proche (Aéroport de Marseille Provence) est à 21 km.\""
      ]
     },
     "execution_count": 344,
     "metadata": {},
     "output_type": "execute_result"
    }
   ],
   "source": [
    "hotel_description= response.css(\"p.a53cbfa6de.b3efd73f69::text\").get()\n",
    "hotel_description"
   ]
  },
  {
   "cell_type": "code",
   "execution_count": 345,
   "metadata": {},
   "outputs": [
    {
     "data": {
      "text/plain": [
       "'8.6'"
      ]
     },
     "execution_count": 345,
     "metadata": {},
     "output_type": "execute_result"
    }
   ],
   "source": [
    "hotel_rating = response.css(\"div.ac4a7896c7::text\").get().split()[-1]\n",
    "hotel_rating"
   ]
  },
  {
   "cell_type": "code",
   "execution_count": 346,
   "metadata": {},
   "outputs": [
    {
     "data": {
      "text/plain": [
       "'43.301265,5.370879'"
      ]
     },
     "execution_count": 346,
     "metadata": {},
     "output_type": "execute_result"
    }
   ],
   "source": [
    "latlng = response.css('a#map_trigger_header_pin::attr(data-atlas-latlng)').get()\n",
    "latlng"
   ]
  },
  {
   "cell_type": "code",
   "execution_count": 347,
   "metadata": {},
   "outputs": [
    {
     "name": "stdout",
     "output_type": "stream",
     "text": [
      "Latitude: 43.301265, Longitude: 5.370879\n"
     ]
    }
   ],
   "source": [
    "latlng_cleaned = latlng.replace('\\u200b', '').replace(' ', '').strip()\n",
    "lat, lon = latlng_cleaned.split(',')\n",
    "print(f\"Latitude: {lat}, Longitude: {lon}\")"
   ]
  }
 ],
 "metadata": {
  "kernelspec": {
   "display_name": "myenv",
   "language": "python",
   "name": "python3"
  },
  "language_info": {
   "codemirror_mode": {
    "name": "ipython",
    "version": 3
   },
   "file_extension": ".py",
   "mimetype": "text/x-python",
   "name": "python",
   "nbconvert_exporter": "python",
   "pygments_lexer": "ipython3",
   "version": "3.10.13"
  }
 },
 "nbformat": 4,
 "nbformat_minor": 2
}
